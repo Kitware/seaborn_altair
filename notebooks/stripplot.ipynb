{
 "cells": [
  {
   "cell_type": "markdown",
   "metadata": {},
   "source": [
    "# seaborn_altair.stripplot"
   ]
  },
  {
   "cell_type": "code",
   "execution_count": 1,
   "metadata": {},
   "outputs": [],
   "source": [
    "import seaborn as sns\n",
    "import seaborn_altair as salt\n",
    "tips = sns.load_dataset(\"tips\")"
   ]
  },
  {
   "cell_type": "code",
   "execution_count": 2,
   "metadata": {},
   "outputs": [
    {
     "data": {
      "application/vnd.vegalite.v2+json": {
       "$schema": "https://vega.github.io/schema/vega-lite/v2.4.1.json",
       "config": {
        "view": {
         "height": 300,
         "width": 400
        }
       },
       "data": {
        "values": [
         {
          "": "",
          "c": "rgb(31.0, 119.0, 180.0)",
          "total_bill": 16.99
         },
         {
          "": "",
          "c": "rgb(31.0, 119.0, 180.0)",
          "total_bill": 10.34
         },
         {
          "": "",
          "c": "rgb(31.0, 119.0, 180.0)",
          "total_bill": 21.01
         },
         {
          "": "",
          "c": "rgb(31.0, 119.0, 180.0)",
          "total_bill": 23.68
         },
         {
          "": "",
          "c": "rgb(31.0, 119.0, 180.0)",
          "total_bill": 24.59
         },
         {
          "": "",
          "c": "rgb(31.0, 119.0, 180.0)",
          "total_bill": 25.29
         },
         {
          "": "",
          "c": "rgb(31.0, 119.0, 180.0)",
          "total_bill": 8.77
         },
         {
          "": "",
          "c": "rgb(31.0, 119.0, 180.0)",
          "total_bill": 26.88
         },
         {
          "": "",
          "c": "rgb(31.0, 119.0, 180.0)",
          "total_bill": 15.04
         },
         {
          "": "",
          "c": "rgb(31.0, 119.0, 180.0)",
          "total_bill": 14.78
         },
         {
          "": "",
          "c": "rgb(31.0, 119.0, 180.0)",
          "total_bill": 10.27
         },
         {
          "": "",
          "c": "rgb(31.0, 119.0, 180.0)",
          "total_bill": 35.26
         },
         {
          "": "",
          "c": "rgb(31.0, 119.0, 180.0)",
          "total_bill": 15.42
         },
         {
          "": "",
          "c": "rgb(31.0, 119.0, 180.0)",
          "total_bill": 18.43
         },
         {
          "": "",
          "c": "rgb(31.0, 119.0, 180.0)",
          "total_bill": 14.83
         },
         {
          "": "",
          "c": "rgb(31.0, 119.0, 180.0)",
          "total_bill": 21.58
         },
         {
          "": "",
          "c": "rgb(31.0, 119.0, 180.0)",
          "total_bill": 10.33
         },
         {
          "": "",
          "c": "rgb(31.0, 119.0, 180.0)",
          "total_bill": 16.29
         },
         {
          "": "",
          "c": "rgb(31.0, 119.0, 180.0)",
          "total_bill": 16.97
         },
         {
          "": "",
          "c": "rgb(31.0, 119.0, 180.0)",
          "total_bill": 20.65
         },
         {
          "": "",
          "c": "rgb(31.0, 119.0, 180.0)",
          "total_bill": 17.92
         },
         {
          "": "",
          "c": "rgb(31.0, 119.0, 180.0)",
          "total_bill": 20.29
         },
         {
          "": "",
          "c": "rgb(31.0, 119.0, 180.0)",
          "total_bill": 15.77
         },
         {
          "": "",
          "c": "rgb(31.0, 119.0, 180.0)",
          "total_bill": 39.42
         },
         {
          "": "",
          "c": "rgb(31.0, 119.0, 180.0)",
          "total_bill": 19.82
         },
         {
          "": "",
          "c": "rgb(31.0, 119.0, 180.0)",
          "total_bill": 17.81
         },
         {
          "": "",
          "c": "rgb(31.0, 119.0, 180.0)",
          "total_bill": 13.37
         },
         {
          "": "",
          "c": "rgb(31.0, 119.0, 180.0)",
          "total_bill": 12.69
         },
         {
          "": "",
          "c": "rgb(31.0, 119.0, 180.0)",
          "total_bill": 21.7
         },
         {
          "": "",
          "c": "rgb(31.0, 119.0, 180.0)",
          "total_bill": 19.65
         },
         {
          "": "",
          "c": "rgb(31.0, 119.0, 180.0)",
          "total_bill": 9.55
         },
         {
          "": "",
          "c": "rgb(31.0, 119.0, 180.0)",
          "total_bill": 18.35
         },
         {
          "": "",
          "c": "rgb(31.0, 119.0, 180.0)",
          "total_bill": 15.06
         },
         {
          "": "",
          "c": "rgb(31.0, 119.0, 180.0)",
          "total_bill": 20.69
         },
         {
          "": "",
          "c": "rgb(31.0, 119.0, 180.0)",
          "total_bill": 17.78
         },
         {
          "": "",
          "c": "rgb(31.0, 119.0, 180.0)",
          "total_bill": 24.06
         },
         {
          "": "",
          "c": "rgb(31.0, 119.0, 180.0)",
          "total_bill": 16.31
         },
         {
          "": "",
          "c": "rgb(31.0, 119.0, 180.0)",
          "total_bill": 16.93
         },
         {
          "": "",
          "c": "rgb(31.0, 119.0, 180.0)",
          "total_bill": 18.69
         },
         {
          "": "",
          "c": "rgb(31.0, 119.0, 180.0)",
          "total_bill": 31.27
         },
         {
          "": "",
          "c": "rgb(31.0, 119.0, 180.0)",
          "total_bill": 16.04
         },
         {
          "": "",
          "c": "rgb(31.0, 119.0, 180.0)",
          "total_bill": 17.46
         },
         {
          "": "",
          "c": "rgb(31.0, 119.0, 180.0)",
          "total_bill": 13.94
         },
         {
          "": "",
          "c": "rgb(31.0, 119.0, 180.0)",
          "total_bill": 9.68
         },
         {
          "": "",
          "c": "rgb(31.0, 119.0, 180.0)",
          "total_bill": 30.4
         },
         {
          "": "",
          "c": "rgb(31.0, 119.0, 180.0)",
          "total_bill": 18.29
         },
         {
          "": "",
          "c": "rgb(31.0, 119.0, 180.0)",
          "total_bill": 22.23
         },
         {
          "": "",
          "c": "rgb(31.0, 119.0, 180.0)",
          "total_bill": 32.4
         },
         {
          "": "",
          "c": "rgb(31.0, 119.0, 180.0)",
          "total_bill": 28.55
         },
         {
          "": "",
          "c": "rgb(31.0, 119.0, 180.0)",
          "total_bill": 18.04
         },
         {
          "": "",
          "c": "rgb(31.0, 119.0, 180.0)",
          "total_bill": 12.54
         },
         {
          "": "",
          "c": "rgb(31.0, 119.0, 180.0)",
          "total_bill": 10.29
         },
         {
          "": "",
          "c": "rgb(31.0, 119.0, 180.0)",
          "total_bill": 34.81
         },
         {
          "": "",
          "c": "rgb(31.0, 119.0, 180.0)",
          "total_bill": 9.94
         },
         {
          "": "",
          "c": "rgb(31.0, 119.0, 180.0)",
          "total_bill": 25.56
         },
         {
          "": "",
          "c": "rgb(31.0, 119.0, 180.0)",
          "total_bill": 19.49
         },
         {
          "": "",
          "c": "rgb(31.0, 119.0, 180.0)",
          "total_bill": 38.01
         },
         {
          "": "",
          "c": "rgb(31.0, 119.0, 180.0)",
          "total_bill": 26.41
         },
         {
          "": "",
          "c": "rgb(31.0, 119.0, 180.0)",
          "total_bill": 11.24
         },
         {
          "": "",
          "c": "rgb(31.0, 119.0, 180.0)",
          "total_bill": 48.27
         },
         {
          "": "",
          "c": "rgb(31.0, 119.0, 180.0)",
          "total_bill": 20.29
         },
         {
          "": "",
          "c": "rgb(31.0, 119.0, 180.0)",
          "total_bill": 13.81
         },
         {
          "": "",
          "c": "rgb(31.0, 119.0, 180.0)",
          "total_bill": 11.02
         },
         {
          "": "",
          "c": "rgb(31.0, 119.0, 180.0)",
          "total_bill": 18.29
         },
         {
          "": "",
          "c": "rgb(31.0, 119.0, 180.0)",
          "total_bill": 17.59
         },
         {
          "": "",
          "c": "rgb(31.0, 119.0, 180.0)",
          "total_bill": 20.08
         },
         {
          "": "",
          "c": "rgb(31.0, 119.0, 180.0)",
          "total_bill": 16.45
         },
         {
          "": "",
          "c": "rgb(31.0, 119.0, 180.0)",
          "total_bill": 3.07
         },
         {
          "": "",
          "c": "rgb(31.0, 119.0, 180.0)",
          "total_bill": 20.23
         },
         {
          "": "",
          "c": "rgb(31.0, 119.0, 180.0)",
          "total_bill": 15.01
         },
         {
          "": "",
          "c": "rgb(31.0, 119.0, 180.0)",
          "total_bill": 12.02
         },
         {
          "": "",
          "c": "rgb(31.0, 119.0, 180.0)",
          "total_bill": 17.07
         },
         {
          "": "",
          "c": "rgb(31.0, 119.0, 180.0)",
          "total_bill": 26.86
         },
         {
          "": "",
          "c": "rgb(31.0, 119.0, 180.0)",
          "total_bill": 25.28
         },
         {
          "": "",
          "c": "rgb(31.0, 119.0, 180.0)",
          "total_bill": 14.73
         },
         {
          "": "",
          "c": "rgb(31.0, 119.0, 180.0)",
          "total_bill": 10.51
         },
         {
          "": "",
          "c": "rgb(31.0, 119.0, 180.0)",
          "total_bill": 17.92
         },
         {
          "": "",
          "c": "rgb(31.0, 119.0, 180.0)",
          "total_bill": 27.2
         },
         {
          "": "",
          "c": "rgb(31.0, 119.0, 180.0)",
          "total_bill": 22.76
         },
         {
          "": "",
          "c": "rgb(31.0, 119.0, 180.0)",
          "total_bill": 17.29
         },
         {
          "": "",
          "c": "rgb(31.0, 119.0, 180.0)",
          "total_bill": 19.44
         },
         {
          "": "",
          "c": "rgb(31.0, 119.0, 180.0)",
          "total_bill": 16.66
         },
         {
          "": "",
          "c": "rgb(31.0, 119.0, 180.0)",
          "total_bill": 10.07
         },
         {
          "": "",
          "c": "rgb(31.0, 119.0, 180.0)",
          "total_bill": 32.68
         },
         {
          "": "",
          "c": "rgb(31.0, 119.0, 180.0)",
          "total_bill": 15.98
         },
         {
          "": "",
          "c": "rgb(31.0, 119.0, 180.0)",
          "total_bill": 34.83
         },
         {
          "": "",
          "c": "rgb(31.0, 119.0, 180.0)",
          "total_bill": 13.03
         },
         {
          "": "",
          "c": "rgb(31.0, 119.0, 180.0)",
          "total_bill": 18.28
         },
         {
          "": "",
          "c": "rgb(31.0, 119.0, 180.0)",
          "total_bill": 24.71
         },
         {
          "": "",
          "c": "rgb(31.0, 119.0, 180.0)",
          "total_bill": 21.16
         },
         {
          "": "",
          "c": "rgb(31.0, 119.0, 180.0)",
          "total_bill": 28.97
         },
         {
          "": "",
          "c": "rgb(31.0, 119.0, 180.0)",
          "total_bill": 22.49
         },
         {
          "": "",
          "c": "rgb(31.0, 119.0, 180.0)",
          "total_bill": 5.75
         },
         {
          "": "",
          "c": "rgb(31.0, 119.0, 180.0)",
          "total_bill": 16.32
         },
         {
          "": "",
          "c": "rgb(31.0, 119.0, 180.0)",
          "total_bill": 22.75
         },
         {
          "": "",
          "c": "rgb(31.0, 119.0, 180.0)",
          "total_bill": 40.17
         },
         {
          "": "",
          "c": "rgb(31.0, 119.0, 180.0)",
          "total_bill": 27.28
         },
         {
          "": "",
          "c": "rgb(31.0, 119.0, 180.0)",
          "total_bill": 12.03
         },
         {
          "": "",
          "c": "rgb(31.0, 119.0, 180.0)",
          "total_bill": 21.01
         },
         {
          "": "",
          "c": "rgb(31.0, 119.0, 180.0)",
          "total_bill": 12.46
         },
         {
          "": "",
          "c": "rgb(31.0, 119.0, 180.0)",
          "total_bill": 11.35
         },
         {
          "": "",
          "c": "rgb(31.0, 119.0, 180.0)",
          "total_bill": 15.38
         },
         {
          "": "",
          "c": "rgb(31.0, 119.0, 180.0)",
          "total_bill": 44.3
         },
         {
          "": "",
          "c": "rgb(31.0, 119.0, 180.0)",
          "total_bill": 22.42
         },
         {
          "": "",
          "c": "rgb(31.0, 119.0, 180.0)",
          "total_bill": 20.92
         },
         {
          "": "",
          "c": "rgb(31.0, 119.0, 180.0)",
          "total_bill": 15.36
         },
         {
          "": "",
          "c": "rgb(31.0, 119.0, 180.0)",
          "total_bill": 20.49
         },
         {
          "": "",
          "c": "rgb(31.0, 119.0, 180.0)",
          "total_bill": 25.21
         },
         {
          "": "",
          "c": "rgb(31.0, 119.0, 180.0)",
          "total_bill": 18.24
         },
         {
          "": "",
          "c": "rgb(31.0, 119.0, 180.0)",
          "total_bill": 14.31
         },
         {
          "": "",
          "c": "rgb(31.0, 119.0, 180.0)",
          "total_bill": 14
         },
         {
          "": "",
          "c": "rgb(31.0, 119.0, 180.0)",
          "total_bill": 7.25
         },
         {
          "": "",
          "c": "rgb(31.0, 119.0, 180.0)",
          "total_bill": 38.07
         },
         {
          "": "",
          "c": "rgb(31.0, 119.0, 180.0)",
          "total_bill": 23.95
         },
         {
          "": "",
          "c": "rgb(31.0, 119.0, 180.0)",
          "total_bill": 25.71
         },
         {
          "": "",
          "c": "rgb(31.0, 119.0, 180.0)",
          "total_bill": 17.31
         },
         {
          "": "",
          "c": "rgb(31.0, 119.0, 180.0)",
          "total_bill": 29.93
         },
         {
          "": "",
          "c": "rgb(31.0, 119.0, 180.0)",
          "total_bill": 10.65
         },
         {
          "": "",
          "c": "rgb(31.0, 119.0, 180.0)",
          "total_bill": 12.43
         },
         {
          "": "",
          "c": "rgb(31.0, 119.0, 180.0)",
          "total_bill": 24.08
         },
         {
          "": "",
          "c": "rgb(31.0, 119.0, 180.0)",
          "total_bill": 11.69
         },
         {
          "": "",
          "c": "rgb(31.0, 119.0, 180.0)",
          "total_bill": 13.42
         },
         {
          "": "",
          "c": "rgb(31.0, 119.0, 180.0)",
          "total_bill": 14.26
         },
         {
          "": "",
          "c": "rgb(31.0, 119.0, 180.0)",
          "total_bill": 15.95
         },
         {
          "": "",
          "c": "rgb(31.0, 119.0, 180.0)",
          "total_bill": 12.48
         },
         {
          "": "",
          "c": "rgb(31.0, 119.0, 180.0)",
          "total_bill": 29.8
         },
         {
          "": "",
          "c": "rgb(31.0, 119.0, 180.0)",
          "total_bill": 8.52
         },
         {
          "": "",
          "c": "rgb(31.0, 119.0, 180.0)",
          "total_bill": 14.52
         },
         {
          "": "",
          "c": "rgb(31.0, 119.0, 180.0)",
          "total_bill": 11.38
         },
         {
          "": "",
          "c": "rgb(31.0, 119.0, 180.0)",
          "total_bill": 22.82
         },
         {
          "": "",
          "c": "rgb(31.0, 119.0, 180.0)",
          "total_bill": 19.08
         },
         {
          "": "",
          "c": "rgb(31.0, 119.0, 180.0)",
          "total_bill": 20.27
         },
         {
          "": "",
          "c": "rgb(31.0, 119.0, 180.0)",
          "total_bill": 11.17
         },
         {
          "": "",
          "c": "rgb(31.0, 119.0, 180.0)",
          "total_bill": 12.26
         },
         {
          "": "",
          "c": "rgb(31.0, 119.0, 180.0)",
          "total_bill": 18.26
         },
         {
          "": "",
          "c": "rgb(31.0, 119.0, 180.0)",
          "total_bill": 8.51
         },
         {
          "": "",
          "c": "rgb(31.0, 119.0, 180.0)",
          "total_bill": 10.33
         },
         {
          "": "",
          "c": "rgb(31.0, 119.0, 180.0)",
          "total_bill": 14.15
         },
         {
          "": "",
          "c": "rgb(31.0, 119.0, 180.0)",
          "total_bill": 16
         },
         {
          "": "",
          "c": "rgb(31.0, 119.0, 180.0)",
          "total_bill": 13.16
         },
         {
          "": "",
          "c": "rgb(31.0, 119.0, 180.0)",
          "total_bill": 17.47
         },
         {
          "": "",
          "c": "rgb(31.0, 119.0, 180.0)",
          "total_bill": 34.3
         },
         {
          "": "",
          "c": "rgb(31.0, 119.0, 180.0)",
          "total_bill": 41.19
         },
         {
          "": "",
          "c": "rgb(31.0, 119.0, 180.0)",
          "total_bill": 27.05
         },
         {
          "": "",
          "c": "rgb(31.0, 119.0, 180.0)",
          "total_bill": 16.43
         },
         {
          "": "",
          "c": "rgb(31.0, 119.0, 180.0)",
          "total_bill": 8.35
         },
         {
          "": "",
          "c": "rgb(31.0, 119.0, 180.0)",
          "total_bill": 18.64
         },
         {
          "": "",
          "c": "rgb(31.0, 119.0, 180.0)",
          "total_bill": 11.87
         },
         {
          "": "",
          "c": "rgb(31.0, 119.0, 180.0)",
          "total_bill": 9.78
         },
         {
          "": "",
          "c": "rgb(31.0, 119.0, 180.0)",
          "total_bill": 7.51
         },
         {
          "": "",
          "c": "rgb(31.0, 119.0, 180.0)",
          "total_bill": 14.07
         },
         {
          "": "",
          "c": "rgb(31.0, 119.0, 180.0)",
          "total_bill": 13.13
         },
         {
          "": "",
          "c": "rgb(31.0, 119.0, 180.0)",
          "total_bill": 17.26
         },
         {
          "": "",
          "c": "rgb(31.0, 119.0, 180.0)",
          "total_bill": 24.55
         },
         {
          "": "",
          "c": "rgb(31.0, 119.0, 180.0)",
          "total_bill": 19.77
         },
         {
          "": "",
          "c": "rgb(31.0, 119.0, 180.0)",
          "total_bill": 29.85
         },
         {
          "": "",
          "c": "rgb(31.0, 119.0, 180.0)",
          "total_bill": 48.17
         },
         {
          "": "",
          "c": "rgb(31.0, 119.0, 180.0)",
          "total_bill": 25
         },
         {
          "": "",
          "c": "rgb(31.0, 119.0, 180.0)",
          "total_bill": 13.39
         },
         {
          "": "",
          "c": "rgb(31.0, 119.0, 180.0)",
          "total_bill": 16.49
         },
         {
          "": "",
          "c": "rgb(31.0, 119.0, 180.0)",
          "total_bill": 21.5
         },
         {
          "": "",
          "c": "rgb(31.0, 119.0, 180.0)",
          "total_bill": 12.66
         },
         {
          "": "",
          "c": "rgb(31.0, 119.0, 180.0)",
          "total_bill": 16.21
         },
         {
          "": "",
          "c": "rgb(31.0, 119.0, 180.0)",
          "total_bill": 13.81
         },
         {
          "": "",
          "c": "rgb(31.0, 119.0, 180.0)",
          "total_bill": 17.51
         },
         {
          "": "",
          "c": "rgb(31.0, 119.0, 180.0)",
          "total_bill": 24.52
         },
         {
          "": "",
          "c": "rgb(31.0, 119.0, 180.0)",
          "total_bill": 20.76
         },
         {
          "": "",
          "c": "rgb(31.0, 119.0, 180.0)",
          "total_bill": 31.71
         },
         {
          "": "",
          "c": "rgb(31.0, 119.0, 180.0)",
          "total_bill": 10.59
         },
         {
          "": "",
          "c": "rgb(31.0, 119.0, 180.0)",
          "total_bill": 10.63
         },
         {
          "": "",
          "c": "rgb(31.0, 119.0, 180.0)",
          "total_bill": 50.81
         },
         {
          "": "",
          "c": "rgb(31.0, 119.0, 180.0)",
          "total_bill": 15.81
         },
         {
          "": "",
          "c": "rgb(31.0, 119.0, 180.0)",
          "total_bill": 7.25
         },
         {
          "": "",
          "c": "rgb(31.0, 119.0, 180.0)",
          "total_bill": 31.85
         },
         {
          "": "",
          "c": "rgb(31.0, 119.0, 180.0)",
          "total_bill": 16.82
         },
         {
          "": "",
          "c": "rgb(31.0, 119.0, 180.0)",
          "total_bill": 32.9
         },
         {
          "": "",
          "c": "rgb(31.0, 119.0, 180.0)",
          "total_bill": 17.89
         },
         {
          "": "",
          "c": "rgb(31.0, 119.0, 180.0)",
          "total_bill": 14.48
         },
         {
          "": "",
          "c": "rgb(31.0, 119.0, 180.0)",
          "total_bill": 9.6
         },
         {
          "": "",
          "c": "rgb(31.0, 119.0, 180.0)",
          "total_bill": 34.63
         },
         {
          "": "",
          "c": "rgb(31.0, 119.0, 180.0)",
          "total_bill": 34.65
         },
         {
          "": "",
          "c": "rgb(31.0, 119.0, 180.0)",
          "total_bill": 23.33
         },
         {
          "": "",
          "c": "rgb(31.0, 119.0, 180.0)",
          "total_bill": 45.35
         },
         {
          "": "",
          "c": "rgb(31.0, 119.0, 180.0)",
          "total_bill": 23.17
         },
         {
          "": "",
          "c": "rgb(31.0, 119.0, 180.0)",
          "total_bill": 40.55
         },
         {
          "": "",
          "c": "rgb(31.0, 119.0, 180.0)",
          "total_bill": 20.69
         },
         {
          "": "",
          "c": "rgb(31.0, 119.0, 180.0)",
          "total_bill": 20.9
         },
         {
          "": "",
          "c": "rgb(31.0, 119.0, 180.0)",
          "total_bill": 30.46
         },
         {
          "": "",
          "c": "rgb(31.0, 119.0, 180.0)",
          "total_bill": 18.15
         },
         {
          "": "",
          "c": "rgb(31.0, 119.0, 180.0)",
          "total_bill": 23.1
         },
         {
          "": "",
          "c": "rgb(31.0, 119.0, 180.0)",
          "total_bill": 15.69
         },
         {
          "": "",
          "c": "rgb(31.0, 119.0, 180.0)",
          "total_bill": 19.81
         },
         {
          "": "",
          "c": "rgb(31.0, 119.0, 180.0)",
          "total_bill": 28.44
         },
         {
          "": "",
          "c": "rgb(31.0, 119.0, 180.0)",
          "total_bill": 15.48
         },
         {
          "": "",
          "c": "rgb(31.0, 119.0, 180.0)",
          "total_bill": 16.58
         },
         {
          "": "",
          "c": "rgb(31.0, 119.0, 180.0)",
          "total_bill": 7.56
         },
         {
          "": "",
          "c": "rgb(31.0, 119.0, 180.0)",
          "total_bill": 10.34
         },
         {
          "": "",
          "c": "rgb(31.0, 119.0, 180.0)",
          "total_bill": 43.11
         },
         {
          "": "",
          "c": "rgb(31.0, 119.0, 180.0)",
          "total_bill": 13
         },
         {
          "": "",
          "c": "rgb(31.0, 119.0, 180.0)",
          "total_bill": 13.51
         },
         {
          "": "",
          "c": "rgb(31.0, 119.0, 180.0)",
          "total_bill": 18.71
         },
         {
          "": "",
          "c": "rgb(31.0, 119.0, 180.0)",
          "total_bill": 12.74
         },
         {
          "": "",
          "c": "rgb(31.0, 119.0, 180.0)",
          "total_bill": 13
         },
         {
          "": "",
          "c": "rgb(31.0, 119.0, 180.0)",
          "total_bill": 16.4
         },
         {
          "": "",
          "c": "rgb(31.0, 119.0, 180.0)",
          "total_bill": 20.53
         },
         {
          "": "",
          "c": "rgb(31.0, 119.0, 180.0)",
          "total_bill": 16.47
         },
         {
          "": "",
          "c": "rgb(31.0, 119.0, 180.0)",
          "total_bill": 26.59
         },
         {
          "": "",
          "c": "rgb(31.0, 119.0, 180.0)",
          "total_bill": 38.73
         },
         {
          "": "",
          "c": "rgb(31.0, 119.0, 180.0)",
          "total_bill": 24.27
         },
         {
          "": "",
          "c": "rgb(31.0, 119.0, 180.0)",
          "total_bill": 12.76
         },
         {
          "": "",
          "c": "rgb(31.0, 119.0, 180.0)",
          "total_bill": 30.06
         },
         {
          "": "",
          "c": "rgb(31.0, 119.0, 180.0)",
          "total_bill": 25.89
         },
         {
          "": "",
          "c": "rgb(31.0, 119.0, 180.0)",
          "total_bill": 48.33
         },
         {
          "": "",
          "c": "rgb(31.0, 119.0, 180.0)",
          "total_bill": 13.27
         },
         {
          "": "",
          "c": "rgb(31.0, 119.0, 180.0)",
          "total_bill": 28.17
         },
         {
          "": "",
          "c": "rgb(31.0, 119.0, 180.0)",
          "total_bill": 12.9
         },
         {
          "": "",
          "c": "rgb(31.0, 119.0, 180.0)",
          "total_bill": 28.15
         },
         {
          "": "",
          "c": "rgb(31.0, 119.0, 180.0)",
          "total_bill": 11.59
         },
         {
          "": "",
          "c": "rgb(31.0, 119.0, 180.0)",
          "total_bill": 7.74
         },
         {
          "": "",
          "c": "rgb(31.0, 119.0, 180.0)",
          "total_bill": 30.14
         },
         {
          "": "",
          "c": "rgb(31.0, 119.0, 180.0)",
          "total_bill": 12.16
         },
         {
          "": "",
          "c": "rgb(31.0, 119.0, 180.0)",
          "total_bill": 13.42
         },
         {
          "": "",
          "c": "rgb(31.0, 119.0, 180.0)",
          "total_bill": 8.58
         },
         {
          "": "",
          "c": "rgb(31.0, 119.0, 180.0)",
          "total_bill": 15.98
         },
         {
          "": "",
          "c": "rgb(31.0, 119.0, 180.0)",
          "total_bill": 13.42
         },
         {
          "": "",
          "c": "rgb(31.0, 119.0, 180.0)",
          "total_bill": 16.27
         },
         {
          "": "",
          "c": "rgb(31.0, 119.0, 180.0)",
          "total_bill": 10.09
         },
         {
          "": "",
          "c": "rgb(31.0, 119.0, 180.0)",
          "total_bill": 20.45
         },
         {
          "": "",
          "c": "rgb(31.0, 119.0, 180.0)",
          "total_bill": 13.28
         },
         {
          "": "",
          "c": "rgb(31.0, 119.0, 180.0)",
          "total_bill": 22.12
         },
         {
          "": "",
          "c": "rgb(31.0, 119.0, 180.0)",
          "total_bill": 24.01
         },
         {
          "": "",
          "c": "rgb(31.0, 119.0, 180.0)",
          "total_bill": 15.69
         },
         {
          "": "",
          "c": "rgb(31.0, 119.0, 180.0)",
          "total_bill": 11.61
         },
         {
          "": "",
          "c": "rgb(31.0, 119.0, 180.0)",
          "total_bill": 10.77
         },
         {
          "": "",
          "c": "rgb(31.0, 119.0, 180.0)",
          "total_bill": 15.53
         },
         {
          "": "",
          "c": "rgb(31.0, 119.0, 180.0)",
          "total_bill": 10.07
         },
         {
          "": "",
          "c": "rgb(31.0, 119.0, 180.0)",
          "total_bill": 12.6
         },
         {
          "": "",
          "c": "rgb(31.0, 119.0, 180.0)",
          "total_bill": 32.83
         },
         {
          "": "",
          "c": "rgb(31.0, 119.0, 180.0)",
          "total_bill": 35.83
         },
         {
          "": "",
          "c": "rgb(31.0, 119.0, 180.0)",
          "total_bill": 29.03
         },
         {
          "": "",
          "c": "rgb(31.0, 119.0, 180.0)",
          "total_bill": 27.18
         },
         {
          "": "",
          "c": "rgb(31.0, 119.0, 180.0)",
          "total_bill": 22.67
         },
         {
          "": "",
          "c": "rgb(31.0, 119.0, 180.0)",
          "total_bill": 17.82
         },
         {
          "": "",
          "c": "rgb(31.0, 119.0, 180.0)",
          "total_bill": 18.78
         }
        ]
       },
       "encoding": {
        "color": {
         "field": "c",
         "scale": null,
         "type": "nominal"
        },
        "x": {
         "axis": {
          "title": "total_bill"
         },
         "field": "total_bill",
         "scale": {
          "zero": false
         },
         "type": "quantitative"
        },
        "y": {
         "axis": {
          "title": ""
         },
         "field": "",
         "sort": null,
         "type": "nominal"
        }
       },
       "mark": "circle",
       "selection": {
        "selector001": {
         "bind": "scales",
         "encodings": [
          "x",
          "y"
         ],
         "mark": {
          "fill": "#333",
          "fillOpacity": 0.125,
          "stroke": "white"
         },
         "on": "[mousedown, window:mouseup] > window:mousemove!",
         "resolve": "global",
         "translate": "[mousedown, window:mouseup] > window:mousemove!",
         "type": "interval",
         "zoom": "wheel!"
        }
       }
      },
      "image/png": "[encoded data removed]",
      "text/plain": [
       "<VegaLite 2 object>\n",
       "\n",
       "If you see this message, it means the renderer has not been properly enabled\n",
       "for the frontend that you are using. For more information, see\n",
       "https://altair-viz.github.io/user_guide/troubleshooting.html\n"
      ]
     },
     "metadata": {},
     "output_type": "display_data"
    },
    {
     "data": {
      "image/png": "[encoded data removed]",
      "text/plain": [
       "<Figure size 432x288 with 1 Axes>"
      ]
     },
     "metadata": {},
     "output_type": "display_data"
    }
   ],
   "source": [
    "display(salt.stripplot(x=tips[\"total_bill\"]))\n",
    "ax = sns.stripplot(x=tips[\"total_bill\"])"
   ]
  },
  {
   "cell_type": "code",
   "execution_count": 3,
   "metadata": {},
   "outputs": [
    {
     "data": {
      "application/vnd.vegalite.v2+json": {
       "$schema": "https://vega.github.io/schema/vega-lite/v2.4.1.json",
       "config": {
        "view": {
         "height": 300,
         "width": 400
        }
       },
       "data": {
        "values": [
         {
          "c": "rgb(31.0, 119.0, 180.0)",
          "day": "Thur",
          "total_bill": 27.2
         },
         {
          "c": "rgb(31.0, 119.0, 180.0)",
          "day": "Thur",
          "total_bill": 22.76
         },
         {
          "c": "rgb(31.0, 119.0, 180.0)",
          "day": "Thur",
          "total_bill": 17.29
         },
         {
          "c": "rgb(31.0, 119.0, 180.0)",
          "day": "Thur",
          "total_bill": 19.44
         },
         {
          "c": "rgb(31.0, 119.0, 180.0)",
          "day": "Thur",
          "total_bill": 16.66
         },
         {
          "c": "rgb(31.0, 119.0, 180.0)",
          "day": "Thur",
          "total_bill": 10.07
         },
         {
          "c": "rgb(31.0, 119.0, 180.0)",
          "day": "Thur",
          "total_bill": 32.68
         },
         {
          "c": "rgb(31.0, 119.0, 180.0)",
          "day": "Thur",
          "total_bill": 15.98
         },
         {
          "c": "rgb(31.0, 119.0, 180.0)",
          "day": "Thur",
          "total_bill": 34.83
         },
         {
          "c": "rgb(31.0, 119.0, 180.0)",
          "day": "Thur",
          "total_bill": 13.03
         },
         {
          "c": "rgb(31.0, 119.0, 180.0)",
          "day": "Thur",
          "total_bill": 18.28
         },
         {
          "c": "rgb(31.0, 119.0, 180.0)",
          "day": "Thur",
          "total_bill": 24.71
         },
         {
          "c": "rgb(31.0, 119.0, 180.0)",
          "day": "Thur",
          "total_bill": 21.16
         },
         {
          "c": "rgb(31.0, 119.0, 180.0)",
          "day": "Thur",
          "total_bill": 10.65
         },
         {
          "c": "rgb(31.0, 119.0, 180.0)",
          "day": "Thur",
          "total_bill": 12.43
         },
         {
          "c": "rgb(31.0, 119.0, 180.0)",
          "day": "Thur",
          "total_bill": 24.08
         },
         {
          "c": "rgb(31.0, 119.0, 180.0)",
          "day": "Thur",
          "total_bill": 11.69
         },
         {
          "c": "rgb(31.0, 119.0, 180.0)",
          "day": "Thur",
          "total_bill": 13.42
         },
         {
          "c": "rgb(31.0, 119.0, 180.0)",
          "day": "Thur",
          "total_bill": 14.26
         },
         {
          "c": "rgb(31.0, 119.0, 180.0)",
          "day": "Thur",
          "total_bill": 15.95
         },
         {
          "c": "rgb(31.0, 119.0, 180.0)",
          "day": "Thur",
          "total_bill": 12.48
         },
         {
          "c": "rgb(31.0, 119.0, 180.0)",
          "day": "Thur",
          "total_bill": 29.8
         },
         {
          "c": "rgb(31.0, 119.0, 180.0)",
          "day": "Thur",
          "total_bill": 8.52
         },
         {
          "c": "rgb(31.0, 119.0, 180.0)",
          "day": "Thur",
          "total_bill": 14.52
         },
         {
          "c": "rgb(31.0, 119.0, 180.0)",
          "day": "Thur",
          "total_bill": 11.38
         },
         {
          "c": "rgb(31.0, 119.0, 180.0)",
          "day": "Thur",
          "total_bill": 22.82
         },
         {
          "c": "rgb(31.0, 119.0, 180.0)",
          "day": "Thur",
          "total_bill": 19.08
         },
         {
          "c": "rgb(31.0, 119.0, 180.0)",
          "day": "Thur",
          "total_bill": 20.27
         },
         {
          "c": "rgb(31.0, 119.0, 180.0)",
          "day": "Thur",
          "total_bill": 11.17
         },
         {
          "c": "rgb(31.0, 119.0, 180.0)",
          "day": "Thur",
          "total_bill": 12.26
         },
         {
          "c": "rgb(31.0, 119.0, 180.0)",
          "day": "Thur",
          "total_bill": 18.26
         },
         {
          "c": "rgb(31.0, 119.0, 180.0)",
          "day": "Thur",
          "total_bill": 8.51
         },
         {
          "c": "rgb(31.0, 119.0, 180.0)",
          "day": "Thur",
          "total_bill": 10.33
         },
         {
          "c": "rgb(31.0, 119.0, 180.0)",
          "day": "Thur",
          "total_bill": 14.15
         },
         {
          "c": "rgb(31.0, 119.0, 180.0)",
          "day": "Thur",
          "total_bill": 16
         },
         {
          "c": "rgb(31.0, 119.0, 180.0)",
          "day": "Thur",
          "total_bill": 13.16
         },
         {
          "c": "rgb(31.0, 119.0, 180.0)",
          "day": "Thur",
          "total_bill": 17.47
         },
         {
          "c": "rgb(31.0, 119.0, 180.0)",
          "day": "Thur",
          "total_bill": 34.3
         },
         {
          "c": "rgb(31.0, 119.0, 180.0)",
          "day": "Thur",
          "total_bill": 41.19
         },
         {
          "c": "rgb(31.0, 119.0, 180.0)",
          "day": "Thur",
          "total_bill": 27.05
         },
         {
          "c": "rgb(31.0, 119.0, 180.0)",
          "day": "Thur",
          "total_bill": 16.43
         },
         {
          "c": "rgb(31.0, 119.0, 180.0)",
          "day": "Thur",
          "total_bill": 8.35
         },
         {
          "c": "rgb(31.0, 119.0, 180.0)",
          "day": "Thur",
          "total_bill": 18.64
         },
         {
          "c": "rgb(31.0, 119.0, 180.0)",
          "day": "Thur",
          "total_bill": 11.87
         },
         {
          "c": "rgb(31.0, 119.0, 180.0)",
          "day": "Thur",
          "total_bill": 9.78
         },
         {
          "c": "rgb(31.0, 119.0, 180.0)",
          "day": "Thur",
          "total_bill": 7.51
         },
         {
          "c": "rgb(31.0, 119.0, 180.0)",
          "day": "Thur",
          "total_bill": 19.81
         },
         {
          "c": "rgb(31.0, 119.0, 180.0)",
          "day": "Thur",
          "total_bill": 28.44
         },
         {
          "c": "rgb(31.0, 119.0, 180.0)",
          "day": "Thur",
          "total_bill": 15.48
         },
         {
          "c": "rgb(31.0, 119.0, 180.0)",
          "day": "Thur",
          "total_bill": 16.58
         },
         {
          "c": "rgb(31.0, 119.0, 180.0)",
          "day": "Thur",
          "total_bill": 7.56
         },
         {
          "c": "rgb(31.0, 119.0, 180.0)",
          "day": "Thur",
          "total_bill": 10.34
         },
         {
          "c": "rgb(31.0, 119.0, 180.0)",
          "day": "Thur",
          "total_bill": 43.11
         },
         {
          "c": "rgb(31.0, 119.0, 180.0)",
          "day": "Thur",
          "total_bill": 13
         },
         {
          "c": "rgb(31.0, 119.0, 180.0)",
          "day": "Thur",
          "total_bill": 13.51
         },
         {
          "c": "rgb(31.0, 119.0, 180.0)",
          "day": "Thur",
          "total_bill": 18.71
         },
         {
          "c": "rgb(31.0, 119.0, 180.0)",
          "day": "Thur",
          "total_bill": 12.74
         },
         {
          "c": "rgb(31.0, 119.0, 180.0)",
          "day": "Thur",
          "total_bill": 13
         },
         {
          "c": "rgb(31.0, 119.0, 180.0)",
          "day": "Thur",
          "total_bill": 16.4
         },
         {
          "c": "rgb(31.0, 119.0, 180.0)",
          "day": "Thur",
          "total_bill": 20.53
         },
         {
          "c": "rgb(31.0, 119.0, 180.0)",
          "day": "Thur",
          "total_bill": 16.47
         },
         {
          "c": "rgb(31.0, 119.0, 180.0)",
          "day": "Thur",
          "total_bill": 18.78
         },
         {
          "c": "rgb(255.0, 127.0, 14.0)",
          "day": "Fri",
          "total_bill": 28.97
         },
         {
          "c": "rgb(255.0, 127.0, 14.0)",
          "day": "Fri",
          "total_bill": 22.49
         },
         {
          "c": "rgb(255.0, 127.0, 14.0)",
          "day": "Fri",
          "total_bill": 5.75
         },
         {
          "c": "rgb(255.0, 127.0, 14.0)",
          "day": "Fri",
          "total_bill": 16.32
         },
         {
          "c": "rgb(255.0, 127.0, 14.0)",
          "day": "Fri",
          "total_bill": 22.75
         },
         {
          "c": "rgb(255.0, 127.0, 14.0)",
          "day": "Fri",
          "total_bill": 40.17
         },
         {
          "c": "rgb(255.0, 127.0, 14.0)",
          "day": "Fri",
          "total_bill": 27.28
         },
         {
          "c": "rgb(255.0, 127.0, 14.0)",
          "day": "Fri",
          "total_bill": 12.03
         },
         {
          "c": "rgb(255.0, 127.0, 14.0)",
          "day": "Fri",
          "total_bill": 21.01
         },
         {
          "c": "rgb(255.0, 127.0, 14.0)",
          "day": "Fri",
          "total_bill": 12.46
         },
         {
          "c": "rgb(255.0, 127.0, 14.0)",
          "day": "Fri",
          "total_bill": 11.35
         },
         {
          "c": "rgb(255.0, 127.0, 14.0)",
          "day": "Fri",
          "total_bill": 15.38
         },
         {
          "c": "rgb(255.0, 127.0, 14.0)",
          "day": "Fri",
          "total_bill": 12.16
         },
         {
          "c": "rgb(255.0, 127.0, 14.0)",
          "day": "Fri",
          "total_bill": 13.42
         },
         {
          "c": "rgb(255.0, 127.0, 14.0)",
          "day": "Fri",
          "total_bill": 8.58
         },
         {
          "c": "rgb(255.0, 127.0, 14.0)",
          "day": "Fri",
          "total_bill": 15.98
         },
         {
          "c": "rgb(255.0, 127.0, 14.0)",
          "day": "Fri",
          "total_bill": 13.42
         },
         {
          "c": "rgb(255.0, 127.0, 14.0)",
          "day": "Fri",
          "total_bill": 16.27
         },
         {
          "c": "rgb(255.0, 127.0, 14.0)",
          "day": "Fri",
          "total_bill": 10.09
         },
         {
          "c": "rgb(44.0, 160.0, 44.0)",
          "day": "Sat",
          "total_bill": 20.65
         },
         {
          "c": "rgb(44.0, 160.0, 44.0)",
          "day": "Sat",
          "total_bill": 17.92
         },
         {
          "c": "rgb(44.0, 160.0, 44.0)",
          "day": "Sat",
          "total_bill": 20.29
         },
         {
          "c": "rgb(44.0, 160.0, 44.0)",
          "day": "Sat",
          "total_bill": 15.77
         },
         {
          "c": "rgb(44.0, 160.0, 44.0)",
          "day": "Sat",
          "total_bill": 39.42
         },
         {
          "c": "rgb(44.0, 160.0, 44.0)",
          "day": "Sat",
          "total_bill": 19.82
         },
         {
          "c": "rgb(44.0, 160.0, 44.0)",
          "day": "Sat",
          "total_bill": 17.81
         },
         {
          "c": "rgb(44.0, 160.0, 44.0)",
          "day": "Sat",
          "total_bill": 13.37
         },
         {
          "c": "rgb(44.0, 160.0, 44.0)",
          "day": "Sat",
          "total_bill": 12.69
         },
         {
          "c": "rgb(44.0, 160.0, 44.0)",
          "day": "Sat",
          "total_bill": 21.7
         },
         {
          "c": "rgb(44.0, 160.0, 44.0)",
          "day": "Sat",
          "total_bill": 19.65
         },
         {
          "c": "rgb(44.0, 160.0, 44.0)",
          "day": "Sat",
          "total_bill": 9.55
         },
         {
          "c": "rgb(44.0, 160.0, 44.0)",
          "day": "Sat",
          "total_bill": 18.35
         },
         {
          "c": "rgb(44.0, 160.0, 44.0)",
          "day": "Sat",
          "total_bill": 15.06
         },
         {
          "c": "rgb(44.0, 160.0, 44.0)",
          "day": "Sat",
          "total_bill": 20.69
         },
         {
          "c": "rgb(44.0, 160.0, 44.0)",
          "day": "Sat",
          "total_bill": 17.78
         },
         {
          "c": "rgb(44.0, 160.0, 44.0)",
          "day": "Sat",
          "total_bill": 24.06
         },
         {
          "c": "rgb(44.0, 160.0, 44.0)",
          "day": "Sat",
          "total_bill": 16.31
         },
         {
          "c": "rgb(44.0, 160.0, 44.0)",
          "day": "Sat",
          "total_bill": 16.93
         },
         {
          "c": "rgb(44.0, 160.0, 44.0)",
          "day": "Sat",
          "total_bill": 18.69
         },
         {
          "c": "rgb(44.0, 160.0, 44.0)",
          "day": "Sat",
          "total_bill": 31.27
         },
         {
          "c": "rgb(44.0, 160.0, 44.0)",
          "day": "Sat",
          "total_bill": 16.04
         },
         {
          "c": "rgb(44.0, 160.0, 44.0)",
          "day": "Sat",
          "total_bill": 38.01
         },
         {
          "c": "rgb(44.0, 160.0, 44.0)",
          "day": "Sat",
          "total_bill": 26.41
         },
         {
          "c": "rgb(44.0, 160.0, 44.0)",
          "day": "Sat",
          "total_bill": 11.24
         },
         {
          "c": "rgb(44.0, 160.0, 44.0)",
          "day": "Sat",
          "total_bill": 48.27
         },
         {
          "c": "rgb(44.0, 160.0, 44.0)",
          "day": "Sat",
          "total_bill": 20.29
         },
         {
          "c": "rgb(44.0, 160.0, 44.0)",
          "day": "Sat",
          "total_bill": 13.81
         },
         {
          "c": "rgb(44.0, 160.0, 44.0)",
          "day": "Sat",
          "total_bill": 11.02
         },
         {
          "c": "rgb(44.0, 160.0, 44.0)",
          "day": "Sat",
          "total_bill": 18.29
         },
         {
          "c": "rgb(44.0, 160.0, 44.0)",
          "day": "Sat",
          "total_bill": 17.59
         },
         {
          "c": "rgb(44.0, 160.0, 44.0)",
          "day": "Sat",
          "total_bill": 20.08
         },
         {
          "c": "rgb(44.0, 160.0, 44.0)",
          "day": "Sat",
          "total_bill": 16.45
         },
         {
          "c": "rgb(44.0, 160.0, 44.0)",
          "day": "Sat",
          "total_bill": 3.07
         },
         {
          "c": "rgb(44.0, 160.0, 44.0)",
          "day": "Sat",
          "total_bill": 20.23
         },
         {
          "c": "rgb(44.0, 160.0, 44.0)",
          "day": "Sat",
          "total_bill": 15.01
         },
         {
          "c": "rgb(44.0, 160.0, 44.0)",
          "day": "Sat",
          "total_bill": 12.02
         },
         {
          "c": "rgb(44.0, 160.0, 44.0)",
          "day": "Sat",
          "total_bill": 17.07
         },
         {
          "c": "rgb(44.0, 160.0, 44.0)",
          "day": "Sat",
          "total_bill": 26.86
         },
         {
          "c": "rgb(44.0, 160.0, 44.0)",
          "day": "Sat",
          "total_bill": 25.28
         },
         {
          "c": "rgb(44.0, 160.0, 44.0)",
          "day": "Sat",
          "total_bill": 14.73
         },
         {
          "c": "rgb(44.0, 160.0, 44.0)",
          "day": "Sat",
          "total_bill": 10.51
         },
         {
          "c": "rgb(44.0, 160.0, 44.0)",
          "day": "Sat",
          "total_bill": 17.92
         },
         {
          "c": "rgb(44.0, 160.0, 44.0)",
          "day": "Sat",
          "total_bill": 44.3
         },
         {
          "c": "rgb(44.0, 160.0, 44.0)",
          "day": "Sat",
          "total_bill": 22.42
         },
         {
          "c": "rgb(44.0, 160.0, 44.0)",
          "day": "Sat",
          "total_bill": 20.92
         },
         {
          "c": "rgb(44.0, 160.0, 44.0)",
          "day": "Sat",
          "total_bill": 15.36
         },
         {
          "c": "rgb(44.0, 160.0, 44.0)",
          "day": "Sat",
          "total_bill": 20.49
         },
         {
          "c": "rgb(44.0, 160.0, 44.0)",
          "day": "Sat",
          "total_bill": 25.21
         },
         {
          "c": "rgb(44.0, 160.0, 44.0)",
          "day": "Sat",
          "total_bill": 18.24
         },
         {
          "c": "rgb(44.0, 160.0, 44.0)",
          "day": "Sat",
          "total_bill": 14.31
         },
         {
          "c": "rgb(44.0, 160.0, 44.0)",
          "day": "Sat",
          "total_bill": 14
         },
         {
          "c": "rgb(44.0, 160.0, 44.0)",
          "day": "Sat",
          "total_bill": 7.25
         },
         {
          "c": "rgb(44.0, 160.0, 44.0)",
          "day": "Sat",
          "total_bill": 10.59
         },
         {
          "c": "rgb(44.0, 160.0, 44.0)",
          "day": "Sat",
          "total_bill": 10.63
         },
         {
          "c": "rgb(44.0, 160.0, 44.0)",
          "day": "Sat",
          "total_bill": 50.81
         },
         {
          "c": "rgb(44.0, 160.0, 44.0)",
          "day": "Sat",
          "total_bill": 15.81
         },
         {
          "c": "rgb(44.0, 160.0, 44.0)",
          "day": "Sat",
          "total_bill": 26.59
         },
         {
          "c": "rgb(44.0, 160.0, 44.0)",
          "day": "Sat",
          "total_bill": 38.73
         },
         {
          "c": "rgb(44.0, 160.0, 44.0)",
          "day": "Sat",
          "total_bill": 24.27
         },
         {
          "c": "rgb(44.0, 160.0, 44.0)",
          "day": "Sat",
          "total_bill": 12.76
         },
         {
          "c": "rgb(44.0, 160.0, 44.0)",
          "day": "Sat",
          "total_bill": 30.06
         },
         {
          "c": "rgb(44.0, 160.0, 44.0)",
          "day": "Sat",
          "total_bill": 25.89
         },
         {
          "c": "rgb(44.0, 160.0, 44.0)",
          "day": "Sat",
          "total_bill": 48.33
         },
         {
          "c": "rgb(44.0, 160.0, 44.0)",
          "day": "Sat",
          "total_bill": 13.27
         },
         {
          "c": "rgb(44.0, 160.0, 44.0)",
          "day": "Sat",
          "total_bill": 28.17
         },
         {
          "c": "rgb(44.0, 160.0, 44.0)",
          "day": "Sat",
          "total_bill": 12.9
         },
         {
          "c": "rgb(44.0, 160.0, 44.0)",
          "day": "Sat",
          "total_bill": 28.15
         },
         {
          "c": "rgb(44.0, 160.0, 44.0)",
          "day": "Sat",
          "total_bill": 11.59
         },
         {
          "c": "rgb(44.0, 160.0, 44.0)",
          "day": "Sat",
          "total_bill": 7.74
         },
         {
          "c": "rgb(44.0, 160.0, 44.0)",
          "day": "Sat",
          "total_bill": 30.14
         },
         {
          "c": "rgb(44.0, 160.0, 44.0)",
          "day": "Sat",
          "total_bill": 20.45
         },
         {
          "c": "rgb(44.0, 160.0, 44.0)",
          "day": "Sat",
          "total_bill": 13.28
         },
         {
          "c": "rgb(44.0, 160.0, 44.0)",
          "day": "Sat",
          "total_bill": 22.12
         },
         {
          "c": "rgb(44.0, 160.0, 44.0)",
          "day": "Sat",
          "total_bill": 24.01
         },
         {
          "c": "rgb(44.0, 160.0, 44.0)",
          "day": "Sat",
          "total_bill": 15.69
         },
         {
          "c": "rgb(44.0, 160.0, 44.0)",
          "day": "Sat",
          "total_bill": 11.61
         },
         {
          "c": "rgb(44.0, 160.0, 44.0)",
          "day": "Sat",
          "total_bill": 10.77
         },
         {
          "c": "rgb(44.0, 160.0, 44.0)",
          "day": "Sat",
          "total_bill": 15.53
         },
         {
          "c": "rgb(44.0, 160.0, 44.0)",
          "day": "Sat",
          "total_bill": 10.07
         },
         {
          "c": "rgb(44.0, 160.0, 44.0)",
          "day": "Sat",
          "total_bill": 12.6
         },
         {
          "c": "rgb(44.0, 160.0, 44.0)",
          "day": "Sat",
          "total_bill": 32.83
         },
         {
          "c": "rgb(44.0, 160.0, 44.0)",
          "day": "Sat",
          "total_bill": 35.83
         },
         {
          "c": "rgb(44.0, 160.0, 44.0)",
          "day": "Sat",
          "total_bill": 29.03
         },
         {
          "c": "rgb(44.0, 160.0, 44.0)",
          "day": "Sat",
          "total_bill": 27.18
         },
         {
          "c": "rgb(44.0, 160.0, 44.0)",
          "day": "Sat",
          "total_bill": 22.67
         },
         {
          "c": "rgb(44.0, 160.0, 44.0)",
          "day": "Sat",
          "total_bill": 17.82
         },
         {
          "c": "rgb(214.0, 39.0, 40.0)",
          "day": "Sun",
          "total_bill": 16.99
         },
         {
          "c": "rgb(214.0, 39.0, 40.0)",
          "day": "Sun",
          "total_bill": 10.34
         },
         {
          "c": "rgb(214.0, 39.0, 40.0)",
          "day": "Sun",
          "total_bill": 21.01
         },
         {
          "c": "rgb(214.0, 39.0, 40.0)",
          "day": "Sun",
          "total_bill": 23.68
         },
         {
          "c": "rgb(214.0, 39.0, 40.0)",
          "day": "Sun",
          "total_bill": 24.59
         },
         {
          "c": "rgb(214.0, 39.0, 40.0)",
          "day": "Sun",
          "total_bill": 25.29
         },
         {
          "c": "rgb(214.0, 39.0, 40.0)",
          "day": "Sun",
          "total_bill": 8.77
         },
         {
          "c": "rgb(214.0, 39.0, 40.0)",
          "day": "Sun",
          "total_bill": 26.88
         },
         {
          "c": "rgb(214.0, 39.0, 40.0)",
          "day": "Sun",
          "total_bill": 15.04
         },
         {
          "c": "rgb(214.0, 39.0, 40.0)",
          "day": "Sun",
          "total_bill": 14.78
         },
         {
          "c": "rgb(214.0, 39.0, 40.0)",
          "day": "Sun",
          "total_bill": 10.27
         },
         {
          "c": "rgb(214.0, 39.0, 40.0)",
          "day": "Sun",
          "total_bill": 35.26
         },
         {
          "c": "rgb(214.0, 39.0, 40.0)",
          "day": "Sun",
          "total_bill": 15.42
         },
         {
          "c": "rgb(214.0, 39.0, 40.0)",
          "day": "Sun",
          "total_bill": 18.43
         },
         {
          "c": "rgb(214.0, 39.0, 40.0)",
          "day": "Sun",
          "total_bill": 14.83
         },
         {
          "c": "rgb(214.0, 39.0, 40.0)",
          "day": "Sun",
          "total_bill": 21.58
         },
         {
          "c": "rgb(214.0, 39.0, 40.0)",
          "day": "Sun",
          "total_bill": 10.33
         },
         {
          "c": "rgb(214.0, 39.0, 40.0)",
          "day": "Sun",
          "total_bill": 16.29
         },
         {
          "c": "rgb(214.0, 39.0, 40.0)",
          "day": "Sun",
          "total_bill": 16.97
         },
         {
          "c": "rgb(214.0, 39.0, 40.0)",
          "day": "Sun",
          "total_bill": 17.46
         },
         {
          "c": "rgb(214.0, 39.0, 40.0)",
          "day": "Sun",
          "total_bill": 13.94
         },
         {
          "c": "rgb(214.0, 39.0, 40.0)",
          "day": "Sun",
          "total_bill": 9.68
         },
         {
          "c": "rgb(214.0, 39.0, 40.0)",
          "day": "Sun",
          "total_bill": 30.4
         },
         {
          "c": "rgb(214.0, 39.0, 40.0)",
          "day": "Sun",
          "total_bill": 18.29
         },
         {
          "c": "rgb(214.0, 39.0, 40.0)",
          "day": "Sun",
          "total_bill": 22.23
         },
         {
          "c": "rgb(214.0, 39.0, 40.0)",
          "day": "Sun",
          "total_bill": 32.4
         },
         {
          "c": "rgb(214.0, 39.0, 40.0)",
          "day": "Sun",
          "total_bill": 28.55
         },
         {
          "c": "rgb(214.0, 39.0, 40.0)",
          "day": "Sun",
          "total_bill": 18.04
         },
         {
          "c": "rgb(214.0, 39.0, 40.0)",
          "day": "Sun",
          "total_bill": 12.54
         },
         {
          "c": "rgb(214.0, 39.0, 40.0)",
          "day": "Sun",
          "total_bill": 10.29
         },
         {
          "c": "rgb(214.0, 39.0, 40.0)",
          "day": "Sun",
          "total_bill": 34.81
         },
         {
          "c": "rgb(214.0, 39.0, 40.0)",
          "day": "Sun",
          "total_bill": 9.94
         },
         {
          "c": "rgb(214.0, 39.0, 40.0)",
          "day": "Sun",
          "total_bill": 25.56
         },
         {
          "c": "rgb(214.0, 39.0, 40.0)",
          "day": "Sun",
          "total_bill": 19.49
         },
         {
          "c": "rgb(214.0, 39.0, 40.0)",
          "day": "Sun",
          "total_bill": 38.07
         },
         {
          "c": "rgb(214.0, 39.0, 40.0)",
          "day": "Sun",
          "total_bill": 23.95
         },
         {
          "c": "rgb(214.0, 39.0, 40.0)",
          "day": "Sun",
          "total_bill": 25.71
         },
         {
          "c": "rgb(214.0, 39.0, 40.0)",
          "day": "Sun",
          "total_bill": 17.31
         },
         {
          "c": "rgb(214.0, 39.0, 40.0)",
          "day": "Sun",
          "total_bill": 29.93
         },
         {
          "c": "rgb(214.0, 39.0, 40.0)",
          "day": "Sun",
          "total_bill": 14.07
         },
         {
          "c": "rgb(214.0, 39.0, 40.0)",
          "day": "Sun",
          "total_bill": 13.13
         },
         {
          "c": "rgb(214.0, 39.0, 40.0)",
          "day": "Sun",
          "total_bill": 17.26
         },
         {
          "c": "rgb(214.0, 39.0, 40.0)",
          "day": "Sun",
          "total_bill": 24.55
         },
         {
          "c": "rgb(214.0, 39.0, 40.0)",
          "day": "Sun",
          "total_bill": 19.77
         },
         {
          "c": "rgb(214.0, 39.0, 40.0)",
          "day": "Sun",
          "total_bill": 29.85
         },
         {
          "c": "rgb(214.0, 39.0, 40.0)",
          "day": "Sun",
          "total_bill": 48.17
         },
         {
          "c": "rgb(214.0, 39.0, 40.0)",
          "day": "Sun",
          "total_bill": 25
         },
         {
          "c": "rgb(214.0, 39.0, 40.0)",
          "day": "Sun",
          "total_bill": 13.39
         },
         {
          "c": "rgb(214.0, 39.0, 40.0)",
          "day": "Sun",
          "total_bill": 16.49
         },
         {
          "c": "rgb(214.0, 39.0, 40.0)",
          "day": "Sun",
          "total_bill": 21.5
         },
         {
          "c": "rgb(214.0, 39.0, 40.0)",
          "day": "Sun",
          "total_bill": 12.66
         },
         {
          "c": "rgb(214.0, 39.0, 40.0)",
          "day": "Sun",
          "total_bill": 16.21
         },
         {
          "c": "rgb(214.0, 39.0, 40.0)",
          "day": "Sun",
          "total_bill": 13.81
         },
         {
          "c": "rgb(214.0, 39.0, 40.0)",
          "day": "Sun",
          "total_bill": 17.51
         },
         {
          "c": "rgb(214.0, 39.0, 40.0)",
          "day": "Sun",
          "total_bill": 24.52
         },
         {
          "c": "rgb(214.0, 39.0, 40.0)",
          "day": "Sun",
          "total_bill": 20.76
         },
         {
          "c": "rgb(214.0, 39.0, 40.0)",
          "day": "Sun",
          "total_bill": 31.71
         },
         {
          "c": "rgb(214.0, 39.0, 40.0)",
          "day": "Sun",
          "total_bill": 7.25
         },
         {
          "c": "rgb(214.0, 39.0, 40.0)",
          "day": "Sun",
          "total_bill": 31.85
         },
         {
          "c": "rgb(214.0, 39.0, 40.0)",
          "day": "Sun",
          "total_bill": 16.82
         },
         {
          "c": "rgb(214.0, 39.0, 40.0)",
          "day": "Sun",
          "total_bill": 32.9
         },
         {
          "c": "rgb(214.0, 39.0, 40.0)",
          "day": "Sun",
          "total_bill": 17.89
         },
         {
          "c": "rgb(214.0, 39.0, 40.0)",
          "day": "Sun",
          "total_bill": 14.48
         },
         {
          "c": "rgb(214.0, 39.0, 40.0)",
          "day": "Sun",
          "total_bill": 9.6
         },
         {
          "c": "rgb(214.0, 39.0, 40.0)",
          "day": "Sun",
          "total_bill": 34.63
         },
         {
          "c": "rgb(214.0, 39.0, 40.0)",
          "day": "Sun",
          "total_bill": 34.65
         },
         {
          "c": "rgb(214.0, 39.0, 40.0)",
          "day": "Sun",
          "total_bill": 23.33
         },
         {
          "c": "rgb(214.0, 39.0, 40.0)",
          "day": "Sun",
          "total_bill": 45.35
         },
         {
          "c": "rgb(214.0, 39.0, 40.0)",
          "day": "Sun",
          "total_bill": 23.17
         },
         {
          "c": "rgb(214.0, 39.0, 40.0)",
          "day": "Sun",
          "total_bill": 40.55
         },
         {
          "c": "rgb(214.0, 39.0, 40.0)",
          "day": "Sun",
          "total_bill": 20.69
         },
         {
          "c": "rgb(214.0, 39.0, 40.0)",
          "day": "Sun",
          "total_bill": 20.9
         },
         {
          "c": "rgb(214.0, 39.0, 40.0)",
          "day": "Sun",
          "total_bill": 30.46
         },
         {
          "c": "rgb(214.0, 39.0, 40.0)",
          "day": "Sun",
          "total_bill": 18.15
         },
         {
          "c": "rgb(214.0, 39.0, 40.0)",
          "day": "Sun",
          "total_bill": 23.1
         },
         {
          "c": "rgb(214.0, 39.0, 40.0)",
          "day": "Sun",
          "total_bill": 15.69
         }
        ]
       },
       "encoding": {
        "color": {
         "field": "c",
         "scale": null,
         "type": "nominal"
        },
        "x": {
         "axis": {
          "title": "day"
         },
         "field": "day",
         "sort": null,
         "type": "nominal"
        },
        "y": {
         "axis": {
          "title": "total_bill"
         },
         "field": "total_bill",
         "scale": {
          "zero": false
         },
         "type": "quantitative"
        }
       },
       "mark": "circle",
       "selection": {
        "selector002": {
         "bind": "scales",
         "encodings": [
          "x",
          "y"
         ],
         "mark": {
          "fill": "#333",
          "fillOpacity": 0.125,
          "stroke": "white"
         },
         "on": "[mousedown, window:mouseup] > window:mousemove!",
         "resolve": "global",
         "translate": "[mousedown, window:mouseup] > window:mousemove!",
         "type": "interval",
         "zoom": "wheel!"
        }
       }
      },
      "image/png": "[encoded data removed]",
      "text/plain": [
       "<VegaLite 2 object>\n",
       "\n",
       "If you see this message, it means the renderer has not been properly enabled\n",
       "for the frontend that you are using. For more information, see\n",
       "https://altair-viz.github.io/user_guide/troubleshooting.html\n"
      ]
     },
     "metadata": {},
     "output_type": "display_data"
    },
    {
     "data": {
      "image/png": "[encoded data removed]",
      "text/plain": [
       "<Figure size 432x288 with 1 Axes>"
      ]
     },
     "metadata": {},
     "output_type": "display_data"
    }
   ],
   "source": [
    "display(salt.stripplot(x=\"day\", y=\"total_bill\", data=tips))\n",
    "ax = sns.stripplot(x=\"day\", y=\"total_bill\", data=tips)"
   ]
  },
  {
   "cell_type": "code",
   "execution_count": 4,
   "metadata": {},
   "outputs": [
    {
     "data": {
      "application/vnd.vegalite.v2+json": {
       "$schema": "https://vega.github.io/schema/vega-lite/v2.4.1.json",
       "config": {
        "view": {
         "height": 300,
         "width": 400
        }
       },
       "data": {
        "values": [
         {
          "c": "rgb(31.0, 119.0, 180.0)",
          "day": "Thur",
          "total_bill": 27.2
         },
         {
          "c": "rgb(31.0, 119.0, 180.0)",
          "day": "Thur",
          "total_bill": 22.76
         },
         {
          "c": "rgb(31.0, 119.0, 180.0)",
          "day": "Thur",
          "total_bill": 17.29
         },
         {
          "c": "rgb(31.0, 119.0, 180.0)",
          "day": "Thur",
          "total_bill": 19.44
         },
         {
          "c": "rgb(31.0, 119.0, 180.0)",
          "day": "Thur",
          "total_bill": 16.66
         },
         {
          "c": "rgb(31.0, 119.0, 180.0)",
          "day": "Thur",
          "total_bill": 10.07
         },
         {
          "c": "rgb(31.0, 119.0, 180.0)",
          "day": "Thur",
          "total_bill": 32.68
         },
         {
          "c": "rgb(31.0, 119.0, 180.0)",
          "day": "Thur",
          "total_bill": 15.98
         },
         {
          "c": "rgb(31.0, 119.0, 180.0)",
          "day": "Thur",
          "total_bill": 34.83
         },
         {
          "c": "rgb(31.0, 119.0, 180.0)",
          "day": "Thur",
          "total_bill": 13.03
         },
         {
          "c": "rgb(31.0, 119.0, 180.0)",
          "day": "Thur",
          "total_bill": 18.28
         },
         {
          "c": "rgb(31.0, 119.0, 180.0)",
          "day": "Thur",
          "total_bill": 24.71
         },
         {
          "c": "rgb(31.0, 119.0, 180.0)",
          "day": "Thur",
          "total_bill": 21.16
         },
         {
          "c": "rgb(31.0, 119.0, 180.0)",
          "day": "Thur",
          "total_bill": 10.65
         },
         {
          "c": "rgb(31.0, 119.0, 180.0)",
          "day": "Thur",
          "total_bill": 12.43
         },
         {
          "c": "rgb(31.0, 119.0, 180.0)",
          "day": "Thur",
          "total_bill": 24.08
         },
         {
          "c": "rgb(31.0, 119.0, 180.0)",
          "day": "Thur",
          "total_bill": 11.69
         },
         {
          "c": "rgb(31.0, 119.0, 180.0)",
          "day": "Thur",
          "total_bill": 13.42
         },
         {
          "c": "rgb(31.0, 119.0, 180.0)",
          "day": "Thur",
          "total_bill": 14.26
         },
         {
          "c": "rgb(31.0, 119.0, 180.0)",
          "day": "Thur",
          "total_bill": 15.95
         },
         {
          "c": "rgb(31.0, 119.0, 180.0)",
          "day": "Thur",
          "total_bill": 12.48
         },
         {
          "c": "rgb(31.0, 119.0, 180.0)",
          "day": "Thur",
          "total_bill": 29.8
         },
         {
          "c": "rgb(31.0, 119.0, 180.0)",
          "day": "Thur",
          "total_bill": 8.52
         },
         {
          "c": "rgb(31.0, 119.0, 180.0)",
          "day": "Thur",
          "total_bill": 14.52
         },
         {
          "c": "rgb(31.0, 119.0, 180.0)",
          "day": "Thur",
          "total_bill": 11.38
         },
         {
          "c": "rgb(31.0, 119.0, 180.0)",
          "day": "Thur",
          "total_bill": 22.82
         },
         {
          "c": "rgb(31.0, 119.0, 180.0)",
          "day": "Thur",
          "total_bill": 19.08
         },
         {
          "c": "rgb(31.0, 119.0, 180.0)",
          "day": "Thur",
          "total_bill": 20.27
         },
         {
          "c": "rgb(31.0, 119.0, 180.0)",
          "day": "Thur",
          "total_bill": 11.17
         },
         {
          "c": "rgb(31.0, 119.0, 180.0)",
          "day": "Thur",
          "total_bill": 12.26
         },
         {
          "c": "rgb(31.0, 119.0, 180.0)",
          "day": "Thur",
          "total_bill": 18.26
         },
         {
          "c": "rgb(31.0, 119.0, 180.0)",
          "day": "Thur",
          "total_bill": 8.51
         },
         {
          "c": "rgb(31.0, 119.0, 180.0)",
          "day": "Thur",
          "total_bill": 10.33
         },
         {
          "c": "rgb(31.0, 119.0, 180.0)",
          "day": "Thur",
          "total_bill": 14.15
         },
         {
          "c": "rgb(31.0, 119.0, 180.0)",
          "day": "Thur",
          "total_bill": 16
         },
         {
          "c": "rgb(31.0, 119.0, 180.0)",
          "day": "Thur",
          "total_bill": 13.16
         },
         {
          "c": "rgb(31.0, 119.0, 180.0)",
          "day": "Thur",
          "total_bill": 17.47
         },
         {
          "c": "rgb(31.0, 119.0, 180.0)",
          "day": "Thur",
          "total_bill": 34.3
         },
         {
          "c": "rgb(31.0, 119.0, 180.0)",
          "day": "Thur",
          "total_bill": 41.19
         },
         {
          "c": "rgb(31.0, 119.0, 180.0)",
          "day": "Thur",
          "total_bill": 27.05
         },
         {
          "c": "rgb(31.0, 119.0, 180.0)",
          "day": "Thur",
          "total_bill": 16.43
         },
         {
          "c": "rgb(31.0, 119.0, 180.0)",
          "day": "Thur",
          "total_bill": 8.35
         },
         {
          "c": "rgb(31.0, 119.0, 180.0)",
          "day": "Thur",
          "total_bill": 18.64
         },
         {
          "c": "rgb(31.0, 119.0, 180.0)",
          "day": "Thur",
          "total_bill": 11.87
         },
         {
          "c": "rgb(31.0, 119.0, 180.0)",
          "day": "Thur",
          "total_bill": 9.78
         },
         {
          "c": "rgb(31.0, 119.0, 180.0)",
          "day": "Thur",
          "total_bill": 7.51
         },
         {
          "c": "rgb(31.0, 119.0, 180.0)",
          "day": "Thur",
          "total_bill": 19.81
         },
         {
          "c": "rgb(31.0, 119.0, 180.0)",
          "day": "Thur",
          "total_bill": 28.44
         },
         {
          "c": "rgb(31.0, 119.0, 180.0)",
          "day": "Thur",
          "total_bill": 15.48
         },
         {
          "c": "rgb(31.0, 119.0, 180.0)",
          "day": "Thur",
          "total_bill": 16.58
         },
         {
          "c": "rgb(31.0, 119.0, 180.0)",
          "day": "Thur",
          "total_bill": 7.56
         },
         {
          "c": "rgb(31.0, 119.0, 180.0)",
          "day": "Thur",
          "total_bill": 10.34
         },
         {
          "c": "rgb(31.0, 119.0, 180.0)",
          "day": "Thur",
          "total_bill": 43.11
         },
         {
          "c": "rgb(31.0, 119.0, 180.0)",
          "day": "Thur",
          "total_bill": 13
         },
         {
          "c": "rgb(31.0, 119.0, 180.0)",
          "day": "Thur",
          "total_bill": 13.51
         },
         {
          "c": "rgb(31.0, 119.0, 180.0)",
          "day": "Thur",
          "total_bill": 18.71
         },
         {
          "c": "rgb(31.0, 119.0, 180.0)",
          "day": "Thur",
          "total_bill": 12.74
         },
         {
          "c": "rgb(31.0, 119.0, 180.0)",
          "day": "Thur",
          "total_bill": 13
         },
         {
          "c": "rgb(31.0, 119.0, 180.0)",
          "day": "Thur",
          "total_bill": 16.4
         },
         {
          "c": "rgb(31.0, 119.0, 180.0)",
          "day": "Thur",
          "total_bill": 20.53
         },
         {
          "c": "rgb(31.0, 119.0, 180.0)",
          "day": "Thur",
          "total_bill": 16.47
         },
         {
          "c": "rgb(31.0, 119.0, 180.0)",
          "day": "Thur",
          "total_bill": 18.78
         },
         {
          "c": "rgb(255.0, 127.0, 14.0)",
          "day": "Fri",
          "total_bill": 28.97
         },
         {
          "c": "rgb(255.0, 127.0, 14.0)",
          "day": "Fri",
          "total_bill": 22.49
         },
         {
          "c": "rgb(255.0, 127.0, 14.0)",
          "day": "Fri",
          "total_bill": 5.75
         },
         {
          "c": "rgb(255.0, 127.0, 14.0)",
          "day": "Fri",
          "total_bill": 16.32
         },
         {
          "c": "rgb(255.0, 127.0, 14.0)",
          "day": "Fri",
          "total_bill": 22.75
         },
         {
          "c": "rgb(255.0, 127.0, 14.0)",
          "day": "Fri",
          "total_bill": 40.17
         },
         {
          "c": "rgb(255.0, 127.0, 14.0)",
          "day": "Fri",
          "total_bill": 27.28
         },
         {
          "c": "rgb(255.0, 127.0, 14.0)",
          "day": "Fri",
          "total_bill": 12.03
         },
         {
          "c": "rgb(255.0, 127.0, 14.0)",
          "day": "Fri",
          "total_bill": 21.01
         },
         {
          "c": "rgb(255.0, 127.0, 14.0)",
          "day": "Fri",
          "total_bill": 12.46
         },
         {
          "c": "rgb(255.0, 127.0, 14.0)",
          "day": "Fri",
          "total_bill": 11.35
         },
         {
          "c": "rgb(255.0, 127.0, 14.0)",
          "day": "Fri",
          "total_bill": 15.38
         },
         {
          "c": "rgb(255.0, 127.0, 14.0)",
          "day": "Fri",
          "total_bill": 12.16
         },
         {
          "c": "rgb(255.0, 127.0, 14.0)",
          "day": "Fri",
          "total_bill": 13.42
         },
         {
          "c": "rgb(255.0, 127.0, 14.0)",
          "day": "Fri",
          "total_bill": 8.58
         },
         {
          "c": "rgb(255.0, 127.0, 14.0)",
          "day": "Fri",
          "total_bill": 15.98
         },
         {
          "c": "rgb(255.0, 127.0, 14.0)",
          "day": "Fri",
          "total_bill": 13.42
         },
         {
          "c": "rgb(255.0, 127.0, 14.0)",
          "day": "Fri",
          "total_bill": 16.27
         },
         {
          "c": "rgb(255.0, 127.0, 14.0)",
          "day": "Fri",
          "total_bill": 10.09
         },
         {
          "c": "rgb(44.0, 160.0, 44.0)",
          "day": "Sat",
          "total_bill": 20.65
         },
         {
          "c": "rgb(44.0, 160.0, 44.0)",
          "day": "Sat",
          "total_bill": 17.92
         },
         {
          "c": "rgb(44.0, 160.0, 44.0)",
          "day": "Sat",
          "total_bill": 20.29
         },
         {
          "c": "rgb(44.0, 160.0, 44.0)",
          "day": "Sat",
          "total_bill": 15.77
         },
         {
          "c": "rgb(44.0, 160.0, 44.0)",
          "day": "Sat",
          "total_bill": 39.42
         },
         {
          "c": "rgb(44.0, 160.0, 44.0)",
          "day": "Sat",
          "total_bill": 19.82
         },
         {
          "c": "rgb(44.0, 160.0, 44.0)",
          "day": "Sat",
          "total_bill": 17.81
         },
         {
          "c": "rgb(44.0, 160.0, 44.0)",
          "day": "Sat",
          "total_bill": 13.37
         },
         {
          "c": "rgb(44.0, 160.0, 44.0)",
          "day": "Sat",
          "total_bill": 12.69
         },
         {
          "c": "rgb(44.0, 160.0, 44.0)",
          "day": "Sat",
          "total_bill": 21.7
         },
         {
          "c": "rgb(44.0, 160.0, 44.0)",
          "day": "Sat",
          "total_bill": 19.65
         },
         {
          "c": "rgb(44.0, 160.0, 44.0)",
          "day": "Sat",
          "total_bill": 9.55
         },
         {
          "c": "rgb(44.0, 160.0, 44.0)",
          "day": "Sat",
          "total_bill": 18.35
         },
         {
          "c": "rgb(44.0, 160.0, 44.0)",
          "day": "Sat",
          "total_bill": 15.06
         },
         {
          "c": "rgb(44.0, 160.0, 44.0)",
          "day": "Sat",
          "total_bill": 20.69
         },
         {
          "c": "rgb(44.0, 160.0, 44.0)",
          "day": "Sat",
          "total_bill": 17.78
         },
         {
          "c": "rgb(44.0, 160.0, 44.0)",
          "day": "Sat",
          "total_bill": 24.06
         },
         {
          "c": "rgb(44.0, 160.0, 44.0)",
          "day": "Sat",
          "total_bill": 16.31
         },
         {
          "c": "rgb(44.0, 160.0, 44.0)",
          "day": "Sat",
          "total_bill": 16.93
         },
         {
          "c": "rgb(44.0, 160.0, 44.0)",
          "day": "Sat",
          "total_bill": 18.69
         },
         {
          "c": "rgb(44.0, 160.0, 44.0)",
          "day": "Sat",
          "total_bill": 31.27
         },
         {
          "c": "rgb(44.0, 160.0, 44.0)",
          "day": "Sat",
          "total_bill": 16.04
         },
         {
          "c": "rgb(44.0, 160.0, 44.0)",
          "day": "Sat",
          "total_bill": 38.01
         },
         {
          "c": "rgb(44.0, 160.0, 44.0)",
          "day": "Sat",
          "total_bill": 26.41
         },
         {
          "c": "rgb(44.0, 160.0, 44.0)",
          "day": "Sat",
          "total_bill": 11.24
         },
         {
          "c": "rgb(44.0, 160.0, 44.0)",
          "day": "Sat",
          "total_bill": 48.27
         },
         {
          "c": "rgb(44.0, 160.0, 44.0)",
          "day": "Sat",
          "total_bill": 20.29
         },
         {
          "c": "rgb(44.0, 160.0, 44.0)",
          "day": "Sat",
          "total_bill": 13.81
         },
         {
          "c": "rgb(44.0, 160.0, 44.0)",
          "day": "Sat",
          "total_bill": 11.02
         },
         {
          "c": "rgb(44.0, 160.0, 44.0)",
          "day": "Sat",
          "total_bill": 18.29
         },
         {
          "c": "rgb(44.0, 160.0, 44.0)",
          "day": "Sat",
          "total_bill": 17.59
         },
         {
          "c": "rgb(44.0, 160.0, 44.0)",
          "day": "Sat",
          "total_bill": 20.08
         },
         {
          "c": "rgb(44.0, 160.0, 44.0)",
          "day": "Sat",
          "total_bill": 16.45
         },
         {
          "c": "rgb(44.0, 160.0, 44.0)",
          "day": "Sat",
          "total_bill": 3.07
         },
         {
          "c": "rgb(44.0, 160.0, 44.0)",
          "day": "Sat",
          "total_bill": 20.23
         },
         {
          "c": "rgb(44.0, 160.0, 44.0)",
          "day": "Sat",
          "total_bill": 15.01
         },
         {
          "c": "rgb(44.0, 160.0, 44.0)",
          "day": "Sat",
          "total_bill": 12.02
         },
         {
          "c": "rgb(44.0, 160.0, 44.0)",
          "day": "Sat",
          "total_bill": 17.07
         },
         {
          "c": "rgb(44.0, 160.0, 44.0)",
          "day": "Sat",
          "total_bill": 26.86
         },
         {
          "c": "rgb(44.0, 160.0, 44.0)",
          "day": "Sat",
          "total_bill": 25.28
         },
         {
          "c": "rgb(44.0, 160.0, 44.0)",
          "day": "Sat",
          "total_bill": 14.73
         },
         {
          "c": "rgb(44.0, 160.0, 44.0)",
          "day": "Sat",
          "total_bill": 10.51
         },
         {
          "c": "rgb(44.0, 160.0, 44.0)",
          "day": "Sat",
          "total_bill": 17.92
         },
         {
          "c": "rgb(44.0, 160.0, 44.0)",
          "day": "Sat",
          "total_bill": 44.3
         },
         {
          "c": "rgb(44.0, 160.0, 44.0)",
          "day": "Sat",
          "total_bill": 22.42
         },
         {
          "c": "rgb(44.0, 160.0, 44.0)",
          "day": "Sat",
          "total_bill": 20.92
         },
         {
          "c": "rgb(44.0, 160.0, 44.0)",
          "day": "Sat",
          "total_bill": 15.36
         },
         {
          "c": "rgb(44.0, 160.0, 44.0)",
          "day": "Sat",
          "total_bill": 20.49
         },
         {
          "c": "rgb(44.0, 160.0, 44.0)",
          "day": "Sat",
          "total_bill": 25.21
         },
         {
          "c": "rgb(44.0, 160.0, 44.0)",
          "day": "Sat",
          "total_bill": 18.24
         },
         {
          "c": "rgb(44.0, 160.0, 44.0)",
          "day": "Sat",
          "total_bill": 14.31
         },
         {
          "c": "rgb(44.0, 160.0, 44.0)",
          "day": "Sat",
          "total_bill": 14
         },
         {
          "c": "rgb(44.0, 160.0, 44.0)",
          "day": "Sat",
          "total_bill": 7.25
         },
         {
          "c": "rgb(44.0, 160.0, 44.0)",
          "day": "Sat",
          "total_bill": 10.59
         },
         {
          "c": "rgb(44.0, 160.0, 44.0)",
          "day": "Sat",
          "total_bill": 10.63
         },
         {
          "c": "rgb(44.0, 160.0, 44.0)",
          "day": "Sat",
          "total_bill": 50.81
         },
         {
          "c": "rgb(44.0, 160.0, 44.0)",
          "day": "Sat",
          "total_bill": 15.81
         },
         {
          "c": "rgb(44.0, 160.0, 44.0)",
          "day": "Sat",
          "total_bill": 26.59
         },
         {
          "c": "rgb(44.0, 160.0, 44.0)",
          "day": "Sat",
          "total_bill": 38.73
         },
         {
          "c": "rgb(44.0, 160.0, 44.0)",
          "day": "Sat",
          "total_bill": 24.27
         },
         {
          "c": "rgb(44.0, 160.0, 44.0)",
          "day": "Sat",
          "total_bill": 12.76
         },
         {
          "c": "rgb(44.0, 160.0, 44.0)",
          "day": "Sat",
          "total_bill": 30.06
         },
         {
          "c": "rgb(44.0, 160.0, 44.0)",
          "day": "Sat",
          "total_bill": 25.89
         },
         {
          "c": "rgb(44.0, 160.0, 44.0)",
          "day": "Sat",
          "total_bill": 48.33
         },
         {
          "c": "rgb(44.0, 160.0, 44.0)",
          "day": "Sat",
          "total_bill": 13.27
         },
         {
          "c": "rgb(44.0, 160.0, 44.0)",
          "day": "Sat",
          "total_bill": 28.17
         },
         {
          "c": "rgb(44.0, 160.0, 44.0)",
          "day": "Sat",
          "total_bill": 12.9
         },
         {
          "c": "rgb(44.0, 160.0, 44.0)",
          "day": "Sat",
          "total_bill": 28.15
         },
         {
          "c": "rgb(44.0, 160.0, 44.0)",
          "day": "Sat",
          "total_bill": 11.59
         },
         {
          "c": "rgb(44.0, 160.0, 44.0)",
          "day": "Sat",
          "total_bill": 7.74
         },
         {
          "c": "rgb(44.0, 160.0, 44.0)",
          "day": "Sat",
          "total_bill": 30.14
         },
         {
          "c": "rgb(44.0, 160.0, 44.0)",
          "day": "Sat",
          "total_bill": 20.45
         },
         {
          "c": "rgb(44.0, 160.0, 44.0)",
          "day": "Sat",
          "total_bill": 13.28
         },
         {
          "c": "rgb(44.0, 160.0, 44.0)",
          "day": "Sat",
          "total_bill": 22.12
         },
         {
          "c": "rgb(44.0, 160.0, 44.0)",
          "day": "Sat",
          "total_bill": 24.01
         },
         {
          "c": "rgb(44.0, 160.0, 44.0)",
          "day": "Sat",
          "total_bill": 15.69
         },
         {
          "c": "rgb(44.0, 160.0, 44.0)",
          "day": "Sat",
          "total_bill": 11.61
         },
         {
          "c": "rgb(44.0, 160.0, 44.0)",
          "day": "Sat",
          "total_bill": 10.77
         },
         {
          "c": "rgb(44.0, 160.0, 44.0)",
          "day": "Sat",
          "total_bill": 15.53
         },
         {
          "c": "rgb(44.0, 160.0, 44.0)",
          "day": "Sat",
          "total_bill": 10.07
         },
         {
          "c": "rgb(44.0, 160.0, 44.0)",
          "day": "Sat",
          "total_bill": 12.6
         },
         {
          "c": "rgb(44.0, 160.0, 44.0)",
          "day": "Sat",
          "total_bill": 32.83
         },
         {
          "c": "rgb(44.0, 160.0, 44.0)",
          "day": "Sat",
          "total_bill": 35.83
         },
         {
          "c": "rgb(44.0, 160.0, 44.0)",
          "day": "Sat",
          "total_bill": 29.03
         },
         {
          "c": "rgb(44.0, 160.0, 44.0)",
          "day": "Sat",
          "total_bill": 27.18
         },
         {
          "c": "rgb(44.0, 160.0, 44.0)",
          "day": "Sat",
          "total_bill": 22.67
         },
         {
          "c": "rgb(44.0, 160.0, 44.0)",
          "day": "Sat",
          "total_bill": 17.82
         },
         {
          "c": "rgb(214.0, 39.0, 40.0)",
          "day": "Sun",
          "total_bill": 16.99
         },
         {
          "c": "rgb(214.0, 39.0, 40.0)",
          "day": "Sun",
          "total_bill": 10.34
         },
         {
          "c": "rgb(214.0, 39.0, 40.0)",
          "day": "Sun",
          "total_bill": 21.01
         },
         {
          "c": "rgb(214.0, 39.0, 40.0)",
          "day": "Sun",
          "total_bill": 23.68
         },
         {
          "c": "rgb(214.0, 39.0, 40.0)",
          "day": "Sun",
          "total_bill": 24.59
         },
         {
          "c": "rgb(214.0, 39.0, 40.0)",
          "day": "Sun",
          "total_bill": 25.29
         },
         {
          "c": "rgb(214.0, 39.0, 40.0)",
          "day": "Sun",
          "total_bill": 8.77
         },
         {
          "c": "rgb(214.0, 39.0, 40.0)",
          "day": "Sun",
          "total_bill": 26.88
         },
         {
          "c": "rgb(214.0, 39.0, 40.0)",
          "day": "Sun",
          "total_bill": 15.04
         },
         {
          "c": "rgb(214.0, 39.0, 40.0)",
          "day": "Sun",
          "total_bill": 14.78
         },
         {
          "c": "rgb(214.0, 39.0, 40.0)",
          "day": "Sun",
          "total_bill": 10.27
         },
         {
          "c": "rgb(214.0, 39.0, 40.0)",
          "day": "Sun",
          "total_bill": 35.26
         },
         {
          "c": "rgb(214.0, 39.0, 40.0)",
          "day": "Sun",
          "total_bill": 15.42
         },
         {
          "c": "rgb(214.0, 39.0, 40.0)",
          "day": "Sun",
          "total_bill": 18.43
         },
         {
          "c": "rgb(214.0, 39.0, 40.0)",
          "day": "Sun",
          "total_bill": 14.83
         },
         {
          "c": "rgb(214.0, 39.0, 40.0)",
          "day": "Sun",
          "total_bill": 21.58
         },
         {
          "c": "rgb(214.0, 39.0, 40.0)",
          "day": "Sun",
          "total_bill": 10.33
         },
         {
          "c": "rgb(214.0, 39.0, 40.0)",
          "day": "Sun",
          "total_bill": 16.29
         },
         {
          "c": "rgb(214.0, 39.0, 40.0)",
          "day": "Sun",
          "total_bill": 16.97
         },
         {
          "c": "rgb(214.0, 39.0, 40.0)",
          "day": "Sun",
          "total_bill": 17.46
         },
         {
          "c": "rgb(214.0, 39.0, 40.0)",
          "day": "Sun",
          "total_bill": 13.94
         },
         {
          "c": "rgb(214.0, 39.0, 40.0)",
          "day": "Sun",
          "total_bill": 9.68
         },
         {
          "c": "rgb(214.0, 39.0, 40.0)",
          "day": "Sun",
          "total_bill": 30.4
         },
         {
          "c": "rgb(214.0, 39.0, 40.0)",
          "day": "Sun",
          "total_bill": 18.29
         },
         {
          "c": "rgb(214.0, 39.0, 40.0)",
          "day": "Sun",
          "total_bill": 22.23
         },
         {
          "c": "rgb(214.0, 39.0, 40.0)",
          "day": "Sun",
          "total_bill": 32.4
         },
         {
          "c": "rgb(214.0, 39.0, 40.0)",
          "day": "Sun",
          "total_bill": 28.55
         },
         {
          "c": "rgb(214.0, 39.0, 40.0)",
          "day": "Sun",
          "total_bill": 18.04
         },
         {
          "c": "rgb(214.0, 39.0, 40.0)",
          "day": "Sun",
          "total_bill": 12.54
         },
         {
          "c": "rgb(214.0, 39.0, 40.0)",
          "day": "Sun",
          "total_bill": 10.29
         },
         {
          "c": "rgb(214.0, 39.0, 40.0)",
          "day": "Sun",
          "total_bill": 34.81
         },
         {
          "c": "rgb(214.0, 39.0, 40.0)",
          "day": "Sun",
          "total_bill": 9.94
         },
         {
          "c": "rgb(214.0, 39.0, 40.0)",
          "day": "Sun",
          "total_bill": 25.56
         },
         {
          "c": "rgb(214.0, 39.0, 40.0)",
          "day": "Sun",
          "total_bill": 19.49
         },
         {
          "c": "rgb(214.0, 39.0, 40.0)",
          "day": "Sun",
          "total_bill": 38.07
         },
         {
          "c": "rgb(214.0, 39.0, 40.0)",
          "day": "Sun",
          "total_bill": 23.95
         },
         {
          "c": "rgb(214.0, 39.0, 40.0)",
          "day": "Sun",
          "total_bill": 25.71
         },
         {
          "c": "rgb(214.0, 39.0, 40.0)",
          "day": "Sun",
          "total_bill": 17.31
         },
         {
          "c": "rgb(214.0, 39.0, 40.0)",
          "day": "Sun",
          "total_bill": 29.93
         },
         {
          "c": "rgb(214.0, 39.0, 40.0)",
          "day": "Sun",
          "total_bill": 14.07
         },
         {
          "c": "rgb(214.0, 39.0, 40.0)",
          "day": "Sun",
          "total_bill": 13.13
         },
         {
          "c": "rgb(214.0, 39.0, 40.0)",
          "day": "Sun",
          "total_bill": 17.26
         },
         {
          "c": "rgb(214.0, 39.0, 40.0)",
          "day": "Sun",
          "total_bill": 24.55
         },
         {
          "c": "rgb(214.0, 39.0, 40.0)",
          "day": "Sun",
          "total_bill": 19.77
         },
         {
          "c": "rgb(214.0, 39.0, 40.0)",
          "day": "Sun",
          "total_bill": 29.85
         },
         {
          "c": "rgb(214.0, 39.0, 40.0)",
          "day": "Sun",
          "total_bill": 48.17
         },
         {
          "c": "rgb(214.0, 39.0, 40.0)",
          "day": "Sun",
          "total_bill": 25
         },
         {
          "c": "rgb(214.0, 39.0, 40.0)",
          "day": "Sun",
          "total_bill": 13.39
         },
         {
          "c": "rgb(214.0, 39.0, 40.0)",
          "day": "Sun",
          "total_bill": 16.49
         },
         {
          "c": "rgb(214.0, 39.0, 40.0)",
          "day": "Sun",
          "total_bill": 21.5
         },
         {
          "c": "rgb(214.0, 39.0, 40.0)",
          "day": "Sun",
          "total_bill": 12.66
         },
         {
          "c": "rgb(214.0, 39.0, 40.0)",
          "day": "Sun",
          "total_bill": 16.21
         },
         {
          "c": "rgb(214.0, 39.0, 40.0)",
          "day": "Sun",
          "total_bill": 13.81
         },
         {
          "c": "rgb(214.0, 39.0, 40.0)",
          "day": "Sun",
          "total_bill": 17.51
         },
         {
          "c": "rgb(214.0, 39.0, 40.0)",
          "day": "Sun",
          "total_bill": 24.52
         },
         {
          "c": "rgb(214.0, 39.0, 40.0)",
          "day": "Sun",
          "total_bill": 20.76
         },
         {
          "c": "rgb(214.0, 39.0, 40.0)",
          "day": "Sun",
          "total_bill": 31.71
         },
         {
          "c": "rgb(214.0, 39.0, 40.0)",
          "day": "Sun",
          "total_bill": 7.25
         },
         {
          "c": "rgb(214.0, 39.0, 40.0)",
          "day": "Sun",
          "total_bill": 31.85
         },
         {
          "c": "rgb(214.0, 39.0, 40.0)",
          "day": "Sun",
          "total_bill": 16.82
         },
         {
          "c": "rgb(214.0, 39.0, 40.0)",
          "day": "Sun",
          "total_bill": 32.9
         },
         {
          "c": "rgb(214.0, 39.0, 40.0)",
          "day": "Sun",
          "total_bill": 17.89
         },
         {
          "c": "rgb(214.0, 39.0, 40.0)",
          "day": "Sun",
          "total_bill": 14.48
         },
         {
          "c": "rgb(214.0, 39.0, 40.0)",
          "day": "Sun",
          "total_bill": 9.6
         },
         {
          "c": "rgb(214.0, 39.0, 40.0)",
          "day": "Sun",
          "total_bill": 34.63
         },
         {
          "c": "rgb(214.0, 39.0, 40.0)",
          "day": "Sun",
          "total_bill": 34.65
         },
         {
          "c": "rgb(214.0, 39.0, 40.0)",
          "day": "Sun",
          "total_bill": 23.33
         },
         {
          "c": "rgb(214.0, 39.0, 40.0)",
          "day": "Sun",
          "total_bill": 45.35
         },
         {
          "c": "rgb(214.0, 39.0, 40.0)",
          "day": "Sun",
          "total_bill": 23.17
         },
         {
          "c": "rgb(214.0, 39.0, 40.0)",
          "day": "Sun",
          "total_bill": 40.55
         },
         {
          "c": "rgb(214.0, 39.0, 40.0)",
          "day": "Sun",
          "total_bill": 20.69
         },
         {
          "c": "rgb(214.0, 39.0, 40.0)",
          "day": "Sun",
          "total_bill": 20.9
         },
         {
          "c": "rgb(214.0, 39.0, 40.0)",
          "day": "Sun",
          "total_bill": 30.46
         },
         {
          "c": "rgb(214.0, 39.0, 40.0)",
          "day": "Sun",
          "total_bill": 18.15
         },
         {
          "c": "rgb(214.0, 39.0, 40.0)",
          "day": "Sun",
          "total_bill": 23.1
         },
         {
          "c": "rgb(214.0, 39.0, 40.0)",
          "day": "Sun",
          "total_bill": 15.69
         }
        ]
       },
       "encoding": {
        "color": {
         "field": "c",
         "scale": null,
         "type": "nominal"
        },
        "x": {
         "axis": {
          "title": "day"
         },
         "field": "day",
         "sort": null,
         "type": "nominal"
        },
        "y": {
         "axis": {
          "title": "total_bill"
         },
         "field": "total_bill",
         "scale": {
          "zero": false
         },
         "type": "quantitative"
        }
       },
       "mark": "circle",
       "selection": {
        "selector003": {
         "bind": "scales",
         "encodings": [
          "x",
          "y"
         ],
         "mark": {
          "fill": "#333",
          "fillOpacity": 0.125,
          "stroke": "white"
         },
         "on": "[mousedown, window:mouseup] > window:mousemove!",
         "resolve": "global",
         "translate": "[mousedown, window:mouseup] > window:mousemove!",
         "type": "interval",
         "zoom": "wheel!"
        }
       }
      },
      "image/png": "[encoded data removed]",
      "text/plain": [
       "<VegaLite 2 object>\n",
       "\n",
       "If you see this message, it means the renderer has not been properly enabled\n",
       "for the frontend that you are using. For more information, see\n",
       "https://altair-viz.github.io/user_guide/troubleshooting.html\n"
      ]
     },
     "metadata": {},
     "output_type": "display_data"
    },
    {
     "data": {
      "image/png": "[encoded data removed]",
      "text/plain": [
       "<Figure size 432x288 with 1 Axes>"
      ]
     },
     "metadata": {},
     "output_type": "display_data"
    }
   ],
   "source": [
    "display(salt.stripplot(x=\"day\", y=\"total_bill\", data=tips, jitter=True))\n",
    "ax = sns.stripplot(x=\"day\", y=\"total_bill\", data=tips, jitter=True)"
   ]
  },
  {
   "cell_type": "code",
   "execution_count": 5,
   "metadata": {},
   "outputs": [
    {
     "data": {
      "application/vnd.vegalite.v2+json": {
       "$schema": "https://vega.github.io/schema/vega-lite/v2.4.1.json",
       "config": {
        "view": {
         "height": 300,
         "width": 400
        }
       },
       "data": {
        "values": [
         {
          "c": "rgb(31.0, 119.0, 180.0)",
          "day": "Thur",
          "total_bill": 27.2
         },
         {
          "c": "rgb(31.0, 119.0, 180.0)",
          "day": "Thur",
          "total_bill": 22.76
         },
         {
          "c": "rgb(31.0, 119.0, 180.0)",
          "day": "Thur",
          "total_bill": 17.29
         },
         {
          "c": "rgb(31.0, 119.0, 180.0)",
          "day": "Thur",
          "total_bill": 19.44
         },
         {
          "c": "rgb(31.0, 119.0, 180.0)",
          "day": "Thur",
          "total_bill": 16.66
         },
         {
          "c": "rgb(31.0, 119.0, 180.0)",
          "day": "Thur",
          "total_bill": 10.07
         },
         {
          "c": "rgb(31.0, 119.0, 180.0)",
          "day": "Thur",
          "total_bill": 32.68
         },
         {
          "c": "rgb(31.0, 119.0, 180.0)",
          "day": "Thur",
          "total_bill": 15.98
         },
         {
          "c": "rgb(31.0, 119.0, 180.0)",
          "day": "Thur",
          "total_bill": 34.83
         },
         {
          "c": "rgb(31.0, 119.0, 180.0)",
          "day": "Thur",
          "total_bill": 13.03
         },
         {
          "c": "rgb(31.0, 119.0, 180.0)",
          "day": "Thur",
          "total_bill": 18.28
         },
         {
          "c": "rgb(31.0, 119.0, 180.0)",
          "day": "Thur",
          "total_bill": 24.71
         },
         {
          "c": "rgb(31.0, 119.0, 180.0)",
          "day": "Thur",
          "total_bill": 21.16
         },
         {
          "c": "rgb(31.0, 119.0, 180.0)",
          "day": "Thur",
          "total_bill": 10.65
         },
         {
          "c": "rgb(31.0, 119.0, 180.0)",
          "day": "Thur",
          "total_bill": 12.43
         },
         {
          "c": "rgb(31.0, 119.0, 180.0)",
          "day": "Thur",
          "total_bill": 24.08
         },
         {
          "c": "rgb(31.0, 119.0, 180.0)",
          "day": "Thur",
          "total_bill": 11.69
         },
         {
          "c": "rgb(31.0, 119.0, 180.0)",
          "day": "Thur",
          "total_bill": 13.42
         },
         {
          "c": "rgb(31.0, 119.0, 180.0)",
          "day": "Thur",
          "total_bill": 14.26
         },
         {
          "c": "rgb(31.0, 119.0, 180.0)",
          "day": "Thur",
          "total_bill": 15.95
         },
         {
          "c": "rgb(31.0, 119.0, 180.0)",
          "day": "Thur",
          "total_bill": 12.48
         },
         {
          "c": "rgb(31.0, 119.0, 180.0)",
          "day": "Thur",
          "total_bill": 29.8
         },
         {
          "c": "rgb(31.0, 119.0, 180.0)",
          "day": "Thur",
          "total_bill": 8.52
         },
         {
          "c": "rgb(31.0, 119.0, 180.0)",
          "day": "Thur",
          "total_bill": 14.52
         },
         {
          "c": "rgb(31.0, 119.0, 180.0)",
          "day": "Thur",
          "total_bill": 11.38
         },
         {
          "c": "rgb(31.0, 119.0, 180.0)",
          "day": "Thur",
          "total_bill": 22.82
         },
         {
          "c": "rgb(31.0, 119.0, 180.0)",
          "day": "Thur",
          "total_bill": 19.08
         },
         {
          "c": "rgb(31.0, 119.0, 180.0)",
          "day": "Thur",
          "total_bill": 20.27
         },
         {
          "c": "rgb(31.0, 119.0, 180.0)",
          "day": "Thur",
          "total_bill": 11.17
         },
         {
          "c": "rgb(31.0, 119.0, 180.0)",
          "day": "Thur",
          "total_bill": 12.26
         },
         {
          "c": "rgb(31.0, 119.0, 180.0)",
          "day": "Thur",
          "total_bill": 18.26
         },
         {
          "c": "rgb(31.0, 119.0, 180.0)",
          "day": "Thur",
          "total_bill": 8.51
         },
         {
          "c": "rgb(31.0, 119.0, 180.0)",
          "day": "Thur",
          "total_bill": 10.33
         },
         {
          "c": "rgb(31.0, 119.0, 180.0)",
          "day": "Thur",
          "total_bill": 14.15
         },
         {
          "c": "rgb(31.0, 119.0, 180.0)",
          "day": "Thur",
          "total_bill": 16
         },
         {
          "c": "rgb(31.0, 119.0, 180.0)",
          "day": "Thur",
          "total_bill": 13.16
         },
         {
          "c": "rgb(31.0, 119.0, 180.0)",
          "day": "Thur",
          "total_bill": 17.47
         },
         {
          "c": "rgb(31.0, 119.0, 180.0)",
          "day": "Thur",
          "total_bill": 34.3
         },
         {
          "c": "rgb(31.0, 119.0, 180.0)",
          "day": "Thur",
          "total_bill": 41.19
         },
         {
          "c": "rgb(31.0, 119.0, 180.0)",
          "day": "Thur",
          "total_bill": 27.05
         },
         {
          "c": "rgb(31.0, 119.0, 180.0)",
          "day": "Thur",
          "total_bill": 16.43
         },
         {
          "c": "rgb(31.0, 119.0, 180.0)",
          "day": "Thur",
          "total_bill": 8.35
         },
         {
          "c": "rgb(31.0, 119.0, 180.0)",
          "day": "Thur",
          "total_bill": 18.64
         },
         {
          "c": "rgb(31.0, 119.0, 180.0)",
          "day": "Thur",
          "total_bill": 11.87
         },
         {
          "c": "rgb(31.0, 119.0, 180.0)",
          "day": "Thur",
          "total_bill": 9.78
         },
         {
          "c": "rgb(31.0, 119.0, 180.0)",
          "day": "Thur",
          "total_bill": 7.51
         },
         {
          "c": "rgb(31.0, 119.0, 180.0)",
          "day": "Thur",
          "total_bill": 19.81
         },
         {
          "c": "rgb(31.0, 119.0, 180.0)",
          "day": "Thur",
          "total_bill": 28.44
         },
         {
          "c": "rgb(31.0, 119.0, 180.0)",
          "day": "Thur",
          "total_bill": 15.48
         },
         {
          "c": "rgb(31.0, 119.0, 180.0)",
          "day": "Thur",
          "total_bill": 16.58
         },
         {
          "c": "rgb(31.0, 119.0, 180.0)",
          "day": "Thur",
          "total_bill": 7.56
         },
         {
          "c": "rgb(31.0, 119.0, 180.0)",
          "day": "Thur",
          "total_bill": 10.34
         },
         {
          "c": "rgb(31.0, 119.0, 180.0)",
          "day": "Thur",
          "total_bill": 43.11
         },
         {
          "c": "rgb(31.0, 119.0, 180.0)",
          "day": "Thur",
          "total_bill": 13
         },
         {
          "c": "rgb(31.0, 119.0, 180.0)",
          "day": "Thur",
          "total_bill": 13.51
         },
         {
          "c": "rgb(31.0, 119.0, 180.0)",
          "day": "Thur",
          "total_bill": 18.71
         },
         {
          "c": "rgb(31.0, 119.0, 180.0)",
          "day": "Thur",
          "total_bill": 12.74
         },
         {
          "c": "rgb(31.0, 119.0, 180.0)",
          "day": "Thur",
          "total_bill": 13
         },
         {
          "c": "rgb(31.0, 119.0, 180.0)",
          "day": "Thur",
          "total_bill": 16.4
         },
         {
          "c": "rgb(31.0, 119.0, 180.0)",
          "day": "Thur",
          "total_bill": 20.53
         },
         {
          "c": "rgb(31.0, 119.0, 180.0)",
          "day": "Thur",
          "total_bill": 16.47
         },
         {
          "c": "rgb(31.0, 119.0, 180.0)",
          "day": "Thur",
          "total_bill": 18.78
         },
         {
          "c": "rgb(255.0, 127.0, 14.0)",
          "day": "Fri",
          "total_bill": 28.97
         },
         {
          "c": "rgb(255.0, 127.0, 14.0)",
          "day": "Fri",
          "total_bill": 22.49
         },
         {
          "c": "rgb(255.0, 127.0, 14.0)",
          "day": "Fri",
          "total_bill": 5.75
         },
         {
          "c": "rgb(255.0, 127.0, 14.0)",
          "day": "Fri",
          "total_bill": 16.32
         },
         {
          "c": "rgb(255.0, 127.0, 14.0)",
          "day": "Fri",
          "total_bill": 22.75
         },
         {
          "c": "rgb(255.0, 127.0, 14.0)",
          "day": "Fri",
          "total_bill": 40.17
         },
         {
          "c": "rgb(255.0, 127.0, 14.0)",
          "day": "Fri",
          "total_bill": 27.28
         },
         {
          "c": "rgb(255.0, 127.0, 14.0)",
          "day": "Fri",
          "total_bill": 12.03
         },
         {
          "c": "rgb(255.0, 127.0, 14.0)",
          "day": "Fri",
          "total_bill": 21.01
         },
         {
          "c": "rgb(255.0, 127.0, 14.0)",
          "day": "Fri",
          "total_bill": 12.46
         },
         {
          "c": "rgb(255.0, 127.0, 14.0)",
          "day": "Fri",
          "total_bill": 11.35
         },
         {
          "c": "rgb(255.0, 127.0, 14.0)",
          "day": "Fri",
          "total_bill": 15.38
         },
         {
          "c": "rgb(255.0, 127.0, 14.0)",
          "day": "Fri",
          "total_bill": 12.16
         },
         {
          "c": "rgb(255.0, 127.0, 14.0)",
          "day": "Fri",
          "total_bill": 13.42
         },
         {
          "c": "rgb(255.0, 127.0, 14.0)",
          "day": "Fri",
          "total_bill": 8.58
         },
         {
          "c": "rgb(255.0, 127.0, 14.0)",
          "day": "Fri",
          "total_bill": 15.98
         },
         {
          "c": "rgb(255.0, 127.0, 14.0)",
          "day": "Fri",
          "total_bill": 13.42
         },
         {
          "c": "rgb(255.0, 127.0, 14.0)",
          "day": "Fri",
          "total_bill": 16.27
         },
         {
          "c": "rgb(255.0, 127.0, 14.0)",
          "day": "Fri",
          "total_bill": 10.09
         },
         {
          "c": "rgb(44.0, 160.0, 44.0)",
          "day": "Sat",
          "total_bill": 20.65
         },
         {
          "c": "rgb(44.0, 160.0, 44.0)",
          "day": "Sat",
          "total_bill": 17.92
         },
         {
          "c": "rgb(44.0, 160.0, 44.0)",
          "day": "Sat",
          "total_bill": 20.29
         },
         {
          "c": "rgb(44.0, 160.0, 44.0)",
          "day": "Sat",
          "total_bill": 15.77
         },
         {
          "c": "rgb(44.0, 160.0, 44.0)",
          "day": "Sat",
          "total_bill": 39.42
         },
         {
          "c": "rgb(44.0, 160.0, 44.0)",
          "day": "Sat",
          "total_bill": 19.82
         },
         {
          "c": "rgb(44.0, 160.0, 44.0)",
          "day": "Sat",
          "total_bill": 17.81
         },
         {
          "c": "rgb(44.0, 160.0, 44.0)",
          "day": "Sat",
          "total_bill": 13.37
         },
         {
          "c": "rgb(44.0, 160.0, 44.0)",
          "day": "Sat",
          "total_bill": 12.69
         },
         {
          "c": "rgb(44.0, 160.0, 44.0)",
          "day": "Sat",
          "total_bill": 21.7
         },
         {
          "c": "rgb(44.0, 160.0, 44.0)",
          "day": "Sat",
          "total_bill": 19.65
         },
         {
          "c": "rgb(44.0, 160.0, 44.0)",
          "day": "Sat",
          "total_bill": 9.55
         },
         {
          "c": "rgb(44.0, 160.0, 44.0)",
          "day": "Sat",
          "total_bill": 18.35
         },
         {
          "c": "rgb(44.0, 160.0, 44.0)",
          "day": "Sat",
          "total_bill": 15.06
         },
         {
          "c": "rgb(44.0, 160.0, 44.0)",
          "day": "Sat",
          "total_bill": 20.69
         },
         {
          "c": "rgb(44.0, 160.0, 44.0)",
          "day": "Sat",
          "total_bill": 17.78
         },
         {
          "c": "rgb(44.0, 160.0, 44.0)",
          "day": "Sat",
          "total_bill": 24.06
         },
         {
          "c": "rgb(44.0, 160.0, 44.0)",
          "day": "Sat",
          "total_bill": 16.31
         },
         {
          "c": "rgb(44.0, 160.0, 44.0)",
          "day": "Sat",
          "total_bill": 16.93
         },
         {
          "c": "rgb(44.0, 160.0, 44.0)",
          "day": "Sat",
          "total_bill": 18.69
         },
         {
          "c": "rgb(44.0, 160.0, 44.0)",
          "day": "Sat",
          "total_bill": 31.27
         },
         {
          "c": "rgb(44.0, 160.0, 44.0)",
          "day": "Sat",
          "total_bill": 16.04
         },
         {
          "c": "rgb(44.0, 160.0, 44.0)",
          "day": "Sat",
          "total_bill": 38.01
         },
         {
          "c": "rgb(44.0, 160.0, 44.0)",
          "day": "Sat",
          "total_bill": 26.41
         },
         {
          "c": "rgb(44.0, 160.0, 44.0)",
          "day": "Sat",
          "total_bill": 11.24
         },
         {
          "c": "rgb(44.0, 160.0, 44.0)",
          "day": "Sat",
          "total_bill": 48.27
         },
         {
          "c": "rgb(44.0, 160.0, 44.0)",
          "day": "Sat",
          "total_bill": 20.29
         },
         {
          "c": "rgb(44.0, 160.0, 44.0)",
          "day": "Sat",
          "total_bill": 13.81
         },
         {
          "c": "rgb(44.0, 160.0, 44.0)",
          "day": "Sat",
          "total_bill": 11.02
         },
         {
          "c": "rgb(44.0, 160.0, 44.0)",
          "day": "Sat",
          "total_bill": 18.29
         },
         {
          "c": "rgb(44.0, 160.0, 44.0)",
          "day": "Sat",
          "total_bill": 17.59
         },
         {
          "c": "rgb(44.0, 160.0, 44.0)",
          "day": "Sat",
          "total_bill": 20.08
         },
         {
          "c": "rgb(44.0, 160.0, 44.0)",
          "day": "Sat",
          "total_bill": 16.45
         },
         {
          "c": "rgb(44.0, 160.0, 44.0)",
          "day": "Sat",
          "total_bill": 3.07
         },
         {
          "c": "rgb(44.0, 160.0, 44.0)",
          "day": "Sat",
          "total_bill": 20.23
         },
         {
          "c": "rgb(44.0, 160.0, 44.0)",
          "day": "Sat",
          "total_bill": 15.01
         },
         {
          "c": "rgb(44.0, 160.0, 44.0)",
          "day": "Sat",
          "total_bill": 12.02
         },
         {
          "c": "rgb(44.0, 160.0, 44.0)",
          "day": "Sat",
          "total_bill": 17.07
         },
         {
          "c": "rgb(44.0, 160.0, 44.0)",
          "day": "Sat",
          "total_bill": 26.86
         },
         {
          "c": "rgb(44.0, 160.0, 44.0)",
          "day": "Sat",
          "total_bill": 25.28
         },
         {
          "c": "rgb(44.0, 160.0, 44.0)",
          "day": "Sat",
          "total_bill": 14.73
         },
         {
          "c": "rgb(44.0, 160.0, 44.0)",
          "day": "Sat",
          "total_bill": 10.51
         },
         {
          "c": "rgb(44.0, 160.0, 44.0)",
          "day": "Sat",
          "total_bill": 17.92
         },
         {
          "c": "rgb(44.0, 160.0, 44.0)",
          "day": "Sat",
          "total_bill": 44.3
         },
         {
          "c": "rgb(44.0, 160.0, 44.0)",
          "day": "Sat",
          "total_bill": 22.42
         },
         {
          "c": "rgb(44.0, 160.0, 44.0)",
          "day": "Sat",
          "total_bill": 20.92
         },
         {
          "c": "rgb(44.0, 160.0, 44.0)",
          "day": "Sat",
          "total_bill": 15.36
         },
         {
          "c": "rgb(44.0, 160.0, 44.0)",
          "day": "Sat",
          "total_bill": 20.49
         },
         {
          "c": "rgb(44.0, 160.0, 44.0)",
          "day": "Sat",
          "total_bill": 25.21
         },
         {
          "c": "rgb(44.0, 160.0, 44.0)",
          "day": "Sat",
          "total_bill": 18.24
         },
         {
          "c": "rgb(44.0, 160.0, 44.0)",
          "day": "Sat",
          "total_bill": 14.31
         },
         {
          "c": "rgb(44.0, 160.0, 44.0)",
          "day": "Sat",
          "total_bill": 14
         },
         {
          "c": "rgb(44.0, 160.0, 44.0)",
          "day": "Sat",
          "total_bill": 7.25
         },
         {
          "c": "rgb(44.0, 160.0, 44.0)",
          "day": "Sat",
          "total_bill": 10.59
         },
         {
          "c": "rgb(44.0, 160.0, 44.0)",
          "day": "Sat",
          "total_bill": 10.63
         },
         {
          "c": "rgb(44.0, 160.0, 44.0)",
          "day": "Sat",
          "total_bill": 50.81
         },
         {
          "c": "rgb(44.0, 160.0, 44.0)",
          "day": "Sat",
          "total_bill": 15.81
         },
         {
          "c": "rgb(44.0, 160.0, 44.0)",
          "day": "Sat",
          "total_bill": 26.59
         },
         {
          "c": "rgb(44.0, 160.0, 44.0)",
          "day": "Sat",
          "total_bill": 38.73
         },
         {
          "c": "rgb(44.0, 160.0, 44.0)",
          "day": "Sat",
          "total_bill": 24.27
         },
         {
          "c": "rgb(44.0, 160.0, 44.0)",
          "day": "Sat",
          "total_bill": 12.76
         },
         {
          "c": "rgb(44.0, 160.0, 44.0)",
          "day": "Sat",
          "total_bill": 30.06
         },
         {
          "c": "rgb(44.0, 160.0, 44.0)",
          "day": "Sat",
          "total_bill": 25.89
         },
         {
          "c": "rgb(44.0, 160.0, 44.0)",
          "day": "Sat",
          "total_bill": 48.33
         },
         {
          "c": "rgb(44.0, 160.0, 44.0)",
          "day": "Sat",
          "total_bill": 13.27
         },
         {
          "c": "rgb(44.0, 160.0, 44.0)",
          "day": "Sat",
          "total_bill": 28.17
         },
         {
          "c": "rgb(44.0, 160.0, 44.0)",
          "day": "Sat",
          "total_bill": 12.9
         },
         {
          "c": "rgb(44.0, 160.0, 44.0)",
          "day": "Sat",
          "total_bill": 28.15
         },
         {
          "c": "rgb(44.0, 160.0, 44.0)",
          "day": "Sat",
          "total_bill": 11.59
         },
         {
          "c": "rgb(44.0, 160.0, 44.0)",
          "day": "Sat",
          "total_bill": 7.74
         },
         {
          "c": "rgb(44.0, 160.0, 44.0)",
          "day": "Sat",
          "total_bill": 30.14
         },
         {
          "c": "rgb(44.0, 160.0, 44.0)",
          "day": "Sat",
          "total_bill": 20.45
         },
         {
          "c": "rgb(44.0, 160.0, 44.0)",
          "day": "Sat",
          "total_bill": 13.28
         },
         {
          "c": "rgb(44.0, 160.0, 44.0)",
          "day": "Sat",
          "total_bill": 22.12
         },
         {
          "c": "rgb(44.0, 160.0, 44.0)",
          "day": "Sat",
          "total_bill": 24.01
         },
         {
          "c": "rgb(44.0, 160.0, 44.0)",
          "day": "Sat",
          "total_bill": 15.69
         },
         {
          "c": "rgb(44.0, 160.0, 44.0)",
          "day": "Sat",
          "total_bill": 11.61
         },
         {
          "c": "rgb(44.0, 160.0, 44.0)",
          "day": "Sat",
          "total_bill": 10.77
         },
         {
          "c": "rgb(44.0, 160.0, 44.0)",
          "day": "Sat",
          "total_bill": 15.53
         },
         {
          "c": "rgb(44.0, 160.0, 44.0)",
          "day": "Sat",
          "total_bill": 10.07
         },
         {
          "c": "rgb(44.0, 160.0, 44.0)",
          "day": "Sat",
          "total_bill": 12.6
         },
         {
          "c": "rgb(44.0, 160.0, 44.0)",
          "day": "Sat",
          "total_bill": 32.83
         },
         {
          "c": "rgb(44.0, 160.0, 44.0)",
          "day": "Sat",
          "total_bill": 35.83
         },
         {
          "c": "rgb(44.0, 160.0, 44.0)",
          "day": "Sat",
          "total_bill": 29.03
         },
         {
          "c": "rgb(44.0, 160.0, 44.0)",
          "day": "Sat",
          "total_bill": 27.18
         },
         {
          "c": "rgb(44.0, 160.0, 44.0)",
          "day": "Sat",
          "total_bill": 22.67
         },
         {
          "c": "rgb(44.0, 160.0, 44.0)",
          "day": "Sat",
          "total_bill": 17.82
         },
         {
          "c": "rgb(214.0, 39.0, 40.0)",
          "day": "Sun",
          "total_bill": 16.99
         },
         {
          "c": "rgb(214.0, 39.0, 40.0)",
          "day": "Sun",
          "total_bill": 10.34
         },
         {
          "c": "rgb(214.0, 39.0, 40.0)",
          "day": "Sun",
          "total_bill": 21.01
         },
         {
          "c": "rgb(214.0, 39.0, 40.0)",
          "day": "Sun",
          "total_bill": 23.68
         },
         {
          "c": "rgb(214.0, 39.0, 40.0)",
          "day": "Sun",
          "total_bill": 24.59
         },
         {
          "c": "rgb(214.0, 39.0, 40.0)",
          "day": "Sun",
          "total_bill": 25.29
         },
         {
          "c": "rgb(214.0, 39.0, 40.0)",
          "day": "Sun",
          "total_bill": 8.77
         },
         {
          "c": "rgb(214.0, 39.0, 40.0)",
          "day": "Sun",
          "total_bill": 26.88
         },
         {
          "c": "rgb(214.0, 39.0, 40.0)",
          "day": "Sun",
          "total_bill": 15.04
         },
         {
          "c": "rgb(214.0, 39.0, 40.0)",
          "day": "Sun",
          "total_bill": 14.78
         },
         {
          "c": "rgb(214.0, 39.0, 40.0)",
          "day": "Sun",
          "total_bill": 10.27
         },
         {
          "c": "rgb(214.0, 39.0, 40.0)",
          "day": "Sun",
          "total_bill": 35.26
         },
         {
          "c": "rgb(214.0, 39.0, 40.0)",
          "day": "Sun",
          "total_bill": 15.42
         },
         {
          "c": "rgb(214.0, 39.0, 40.0)",
          "day": "Sun",
          "total_bill": 18.43
         },
         {
          "c": "rgb(214.0, 39.0, 40.0)",
          "day": "Sun",
          "total_bill": 14.83
         },
         {
          "c": "rgb(214.0, 39.0, 40.0)",
          "day": "Sun",
          "total_bill": 21.58
         },
         {
          "c": "rgb(214.0, 39.0, 40.0)",
          "day": "Sun",
          "total_bill": 10.33
         },
         {
          "c": "rgb(214.0, 39.0, 40.0)",
          "day": "Sun",
          "total_bill": 16.29
         },
         {
          "c": "rgb(214.0, 39.0, 40.0)",
          "day": "Sun",
          "total_bill": 16.97
         },
         {
          "c": "rgb(214.0, 39.0, 40.0)",
          "day": "Sun",
          "total_bill": 17.46
         },
         {
          "c": "rgb(214.0, 39.0, 40.0)",
          "day": "Sun",
          "total_bill": 13.94
         },
         {
          "c": "rgb(214.0, 39.0, 40.0)",
          "day": "Sun",
          "total_bill": 9.68
         },
         {
          "c": "rgb(214.0, 39.0, 40.0)",
          "day": "Sun",
          "total_bill": 30.4
         },
         {
          "c": "rgb(214.0, 39.0, 40.0)",
          "day": "Sun",
          "total_bill": 18.29
         },
         {
          "c": "rgb(214.0, 39.0, 40.0)",
          "day": "Sun",
          "total_bill": 22.23
         },
         {
          "c": "rgb(214.0, 39.0, 40.0)",
          "day": "Sun",
          "total_bill": 32.4
         },
         {
          "c": "rgb(214.0, 39.0, 40.0)",
          "day": "Sun",
          "total_bill": 28.55
         },
         {
          "c": "rgb(214.0, 39.0, 40.0)",
          "day": "Sun",
          "total_bill": 18.04
         },
         {
          "c": "rgb(214.0, 39.0, 40.0)",
          "day": "Sun",
          "total_bill": 12.54
         },
         {
          "c": "rgb(214.0, 39.0, 40.0)",
          "day": "Sun",
          "total_bill": 10.29
         },
         {
          "c": "rgb(214.0, 39.0, 40.0)",
          "day": "Sun",
          "total_bill": 34.81
         },
         {
          "c": "rgb(214.0, 39.0, 40.0)",
          "day": "Sun",
          "total_bill": 9.94
         },
         {
          "c": "rgb(214.0, 39.0, 40.0)",
          "day": "Sun",
          "total_bill": 25.56
         },
         {
          "c": "rgb(214.0, 39.0, 40.0)",
          "day": "Sun",
          "total_bill": 19.49
         },
         {
          "c": "rgb(214.0, 39.0, 40.0)",
          "day": "Sun",
          "total_bill": 38.07
         },
         {
          "c": "rgb(214.0, 39.0, 40.0)",
          "day": "Sun",
          "total_bill": 23.95
         },
         {
          "c": "rgb(214.0, 39.0, 40.0)",
          "day": "Sun",
          "total_bill": 25.71
         },
         {
          "c": "rgb(214.0, 39.0, 40.0)",
          "day": "Sun",
          "total_bill": 17.31
         },
         {
          "c": "rgb(214.0, 39.0, 40.0)",
          "day": "Sun",
          "total_bill": 29.93
         },
         {
          "c": "rgb(214.0, 39.0, 40.0)",
          "day": "Sun",
          "total_bill": 14.07
         },
         {
          "c": "rgb(214.0, 39.0, 40.0)",
          "day": "Sun",
          "total_bill": 13.13
         },
         {
          "c": "rgb(214.0, 39.0, 40.0)",
          "day": "Sun",
          "total_bill": 17.26
         },
         {
          "c": "rgb(214.0, 39.0, 40.0)",
          "day": "Sun",
          "total_bill": 24.55
         },
         {
          "c": "rgb(214.0, 39.0, 40.0)",
          "day": "Sun",
          "total_bill": 19.77
         },
         {
          "c": "rgb(214.0, 39.0, 40.0)",
          "day": "Sun",
          "total_bill": 29.85
         },
         {
          "c": "rgb(214.0, 39.0, 40.0)",
          "day": "Sun",
          "total_bill": 48.17
         },
         {
          "c": "rgb(214.0, 39.0, 40.0)",
          "day": "Sun",
          "total_bill": 25
         },
         {
          "c": "rgb(214.0, 39.0, 40.0)",
          "day": "Sun",
          "total_bill": 13.39
         },
         {
          "c": "rgb(214.0, 39.0, 40.0)",
          "day": "Sun",
          "total_bill": 16.49
         },
         {
          "c": "rgb(214.0, 39.0, 40.0)",
          "day": "Sun",
          "total_bill": 21.5
         },
         {
          "c": "rgb(214.0, 39.0, 40.0)",
          "day": "Sun",
          "total_bill": 12.66
         },
         {
          "c": "rgb(214.0, 39.0, 40.0)",
          "day": "Sun",
          "total_bill": 16.21
         },
         {
          "c": "rgb(214.0, 39.0, 40.0)",
          "day": "Sun",
          "total_bill": 13.81
         },
         {
          "c": "rgb(214.0, 39.0, 40.0)",
          "day": "Sun",
          "total_bill": 17.51
         },
         {
          "c": "rgb(214.0, 39.0, 40.0)",
          "day": "Sun",
          "total_bill": 24.52
         },
         {
          "c": "rgb(214.0, 39.0, 40.0)",
          "day": "Sun",
          "total_bill": 20.76
         },
         {
          "c": "rgb(214.0, 39.0, 40.0)",
          "day": "Sun",
          "total_bill": 31.71
         },
         {
          "c": "rgb(214.0, 39.0, 40.0)",
          "day": "Sun",
          "total_bill": 7.25
         },
         {
          "c": "rgb(214.0, 39.0, 40.0)",
          "day": "Sun",
          "total_bill": 31.85
         },
         {
          "c": "rgb(214.0, 39.0, 40.0)",
          "day": "Sun",
          "total_bill": 16.82
         },
         {
          "c": "rgb(214.0, 39.0, 40.0)",
          "day": "Sun",
          "total_bill": 32.9
         },
         {
          "c": "rgb(214.0, 39.0, 40.0)",
          "day": "Sun",
          "total_bill": 17.89
         },
         {
          "c": "rgb(214.0, 39.0, 40.0)",
          "day": "Sun",
          "total_bill": 14.48
         },
         {
          "c": "rgb(214.0, 39.0, 40.0)",
          "day": "Sun",
          "total_bill": 9.6
         },
         {
          "c": "rgb(214.0, 39.0, 40.0)",
          "day": "Sun",
          "total_bill": 34.63
         },
         {
          "c": "rgb(214.0, 39.0, 40.0)",
          "day": "Sun",
          "total_bill": 34.65
         },
         {
          "c": "rgb(214.0, 39.0, 40.0)",
          "day": "Sun",
          "total_bill": 23.33
         },
         {
          "c": "rgb(214.0, 39.0, 40.0)",
          "day": "Sun",
          "total_bill": 45.35
         },
         {
          "c": "rgb(214.0, 39.0, 40.0)",
          "day": "Sun",
          "total_bill": 23.17
         },
         {
          "c": "rgb(214.0, 39.0, 40.0)",
          "day": "Sun",
          "total_bill": 40.55
         },
         {
          "c": "rgb(214.0, 39.0, 40.0)",
          "day": "Sun",
          "total_bill": 20.69
         },
         {
          "c": "rgb(214.0, 39.0, 40.0)",
          "day": "Sun",
          "total_bill": 20.9
         },
         {
          "c": "rgb(214.0, 39.0, 40.0)",
          "day": "Sun",
          "total_bill": 30.46
         },
         {
          "c": "rgb(214.0, 39.0, 40.0)",
          "day": "Sun",
          "total_bill": 18.15
         },
         {
          "c": "rgb(214.0, 39.0, 40.0)",
          "day": "Sun",
          "total_bill": 23.1
         },
         {
          "c": "rgb(214.0, 39.0, 40.0)",
          "day": "Sun",
          "total_bill": 15.69
         }
        ]
       },
       "encoding": {
        "color": {
         "field": "c",
         "scale": null,
         "type": "nominal"
        },
        "x": {
         "axis": {
          "title": "day"
         },
         "field": "day",
         "sort": null,
         "type": "nominal"
        },
        "y": {
         "axis": {
          "title": "total_bill"
         },
         "field": "total_bill",
         "scale": {
          "zero": false
         },
         "type": "quantitative"
        }
       },
       "mark": "circle",
       "selection": {
        "selector004": {
         "bind": "scales",
         "encodings": [
          "x",
          "y"
         ],
         "mark": {
          "fill": "#333",
          "fillOpacity": 0.125,
          "stroke": "white"
         },
         "on": "[mousedown, window:mouseup] > window:mousemove!",
         "resolve": "global",
         "translate": "[mousedown, window:mouseup] > window:mousemove!",
         "type": "interval",
         "zoom": "wheel!"
        }
       }
      },
      "image/png": "[encoded data removed]",
      "text/plain": [
       "<VegaLite 2 object>\n",
       "\n",
       "If you see this message, it means the renderer has not been properly enabled\n",
       "for the frontend that you are using. For more information, see\n",
       "https://altair-viz.github.io/user_guide/troubleshooting.html\n"
      ]
     },
     "metadata": {},
     "output_type": "display_data"
    },
    {
     "data": {
      "image/png": "[encoded data removed]",
      "text/plain": [
       "<Figure size 432x288 with 1 Axes>"
      ]
     },
     "metadata": {},
     "output_type": "display_data"
    }
   ],
   "source": [
    "display(salt.stripplot(x=\"day\", y=\"total_bill\", data=tips, jitter=0.05))\n",
    "ax = sns.stripplot(x=\"day\", y=\"total_bill\", data=tips, jitter=0.05)"
   ]
  },
  {
   "cell_type": "code",
   "execution_count": 6,
   "metadata": {},
   "outputs": [
    {
     "data": {
      "application/vnd.vegalite.v2+json": {
       "$schema": "https://vega.github.io/schema/vega-lite/v2.4.1.json",
       "config": {
        "view": {
         "height": 300,
         "width": 400
        }
       },
       "data": {
        "values": [
         {
          "c": "rgb(31.0, 119.0, 180.0)",
          "day": "Thur",
          "total_bill": 27.2
         },
         {
          "c": "rgb(31.0, 119.0, 180.0)",
          "day": "Thur",
          "total_bill": 22.76
         },
         {
          "c": "rgb(31.0, 119.0, 180.0)",
          "day": "Thur",
          "total_bill": 17.29
         },
         {
          "c": "rgb(31.0, 119.0, 180.0)",
          "day": "Thur",
          "total_bill": 19.44
         },
         {
          "c": "rgb(31.0, 119.0, 180.0)",
          "day": "Thur",
          "total_bill": 16.66
         },
         {
          "c": "rgb(31.0, 119.0, 180.0)",
          "day": "Thur",
          "total_bill": 10.07
         },
         {
          "c": "rgb(31.0, 119.0, 180.0)",
          "day": "Thur",
          "total_bill": 32.68
         },
         {
          "c": "rgb(31.0, 119.0, 180.0)",
          "day": "Thur",
          "total_bill": 15.98
         },
         {
          "c": "rgb(31.0, 119.0, 180.0)",
          "day": "Thur",
          "total_bill": 34.83
         },
         {
          "c": "rgb(31.0, 119.0, 180.0)",
          "day": "Thur",
          "total_bill": 13.03
         },
         {
          "c": "rgb(31.0, 119.0, 180.0)",
          "day": "Thur",
          "total_bill": 18.28
         },
         {
          "c": "rgb(31.0, 119.0, 180.0)",
          "day": "Thur",
          "total_bill": 24.71
         },
         {
          "c": "rgb(31.0, 119.0, 180.0)",
          "day": "Thur",
          "total_bill": 21.16
         },
         {
          "c": "rgb(31.0, 119.0, 180.0)",
          "day": "Thur",
          "total_bill": 10.65
         },
         {
          "c": "rgb(31.0, 119.0, 180.0)",
          "day": "Thur",
          "total_bill": 12.43
         },
         {
          "c": "rgb(31.0, 119.0, 180.0)",
          "day": "Thur",
          "total_bill": 24.08
         },
         {
          "c": "rgb(31.0, 119.0, 180.0)",
          "day": "Thur",
          "total_bill": 11.69
         },
         {
          "c": "rgb(31.0, 119.0, 180.0)",
          "day": "Thur",
          "total_bill": 13.42
         },
         {
          "c": "rgb(31.0, 119.0, 180.0)",
          "day": "Thur",
          "total_bill": 14.26
         },
         {
          "c": "rgb(31.0, 119.0, 180.0)",
          "day": "Thur",
          "total_bill": 15.95
         },
         {
          "c": "rgb(31.0, 119.0, 180.0)",
          "day": "Thur",
          "total_bill": 12.48
         },
         {
          "c": "rgb(31.0, 119.0, 180.0)",
          "day": "Thur",
          "total_bill": 29.8
         },
         {
          "c": "rgb(31.0, 119.0, 180.0)",
          "day": "Thur",
          "total_bill": 8.52
         },
         {
          "c": "rgb(31.0, 119.0, 180.0)",
          "day": "Thur",
          "total_bill": 14.52
         },
         {
          "c": "rgb(31.0, 119.0, 180.0)",
          "day": "Thur",
          "total_bill": 11.38
         },
         {
          "c": "rgb(31.0, 119.0, 180.0)",
          "day": "Thur",
          "total_bill": 22.82
         },
         {
          "c": "rgb(31.0, 119.0, 180.0)",
          "day": "Thur",
          "total_bill": 19.08
         },
         {
          "c": "rgb(31.0, 119.0, 180.0)",
          "day": "Thur",
          "total_bill": 20.27
         },
         {
          "c": "rgb(31.0, 119.0, 180.0)",
          "day": "Thur",
          "total_bill": 11.17
         },
         {
          "c": "rgb(31.0, 119.0, 180.0)",
          "day": "Thur",
          "total_bill": 12.26
         },
         {
          "c": "rgb(31.0, 119.0, 180.0)",
          "day": "Thur",
          "total_bill": 18.26
         },
         {
          "c": "rgb(31.0, 119.0, 180.0)",
          "day": "Thur",
          "total_bill": 8.51
         },
         {
          "c": "rgb(31.0, 119.0, 180.0)",
          "day": "Thur",
          "total_bill": 10.33
         },
         {
          "c": "rgb(31.0, 119.0, 180.0)",
          "day": "Thur",
          "total_bill": 14.15
         },
         {
          "c": "rgb(31.0, 119.0, 180.0)",
          "day": "Thur",
          "total_bill": 16
         },
         {
          "c": "rgb(31.0, 119.0, 180.0)",
          "day": "Thur",
          "total_bill": 13.16
         },
         {
          "c": "rgb(31.0, 119.0, 180.0)",
          "day": "Thur",
          "total_bill": 17.47
         },
         {
          "c": "rgb(31.0, 119.0, 180.0)",
          "day": "Thur",
          "total_bill": 34.3
         },
         {
          "c": "rgb(31.0, 119.0, 180.0)",
          "day": "Thur",
          "total_bill": 41.19
         },
         {
          "c": "rgb(31.0, 119.0, 180.0)",
          "day": "Thur",
          "total_bill": 27.05
         },
         {
          "c": "rgb(31.0, 119.0, 180.0)",
          "day": "Thur",
          "total_bill": 16.43
         },
         {
          "c": "rgb(31.0, 119.0, 180.0)",
          "day": "Thur",
          "total_bill": 8.35
         },
         {
          "c": "rgb(31.0, 119.0, 180.0)",
          "day": "Thur",
          "total_bill": 18.64
         },
         {
          "c": "rgb(31.0, 119.0, 180.0)",
          "day": "Thur",
          "total_bill": 11.87
         },
         {
          "c": "rgb(31.0, 119.0, 180.0)",
          "day": "Thur",
          "total_bill": 9.78
         },
         {
          "c": "rgb(31.0, 119.0, 180.0)",
          "day": "Thur",
          "total_bill": 7.51
         },
         {
          "c": "rgb(31.0, 119.0, 180.0)",
          "day": "Thur",
          "total_bill": 19.81
         },
         {
          "c": "rgb(31.0, 119.0, 180.0)",
          "day": "Thur",
          "total_bill": 28.44
         },
         {
          "c": "rgb(31.0, 119.0, 180.0)",
          "day": "Thur",
          "total_bill": 15.48
         },
         {
          "c": "rgb(31.0, 119.0, 180.0)",
          "day": "Thur",
          "total_bill": 16.58
         },
         {
          "c": "rgb(31.0, 119.0, 180.0)",
          "day": "Thur",
          "total_bill": 7.56
         },
         {
          "c": "rgb(31.0, 119.0, 180.0)",
          "day": "Thur",
          "total_bill": 10.34
         },
         {
          "c": "rgb(31.0, 119.0, 180.0)",
          "day": "Thur",
          "total_bill": 43.11
         },
         {
          "c": "rgb(31.0, 119.0, 180.0)",
          "day": "Thur",
          "total_bill": 13
         },
         {
          "c": "rgb(31.0, 119.0, 180.0)",
          "day": "Thur",
          "total_bill": 13.51
         },
         {
          "c": "rgb(31.0, 119.0, 180.0)",
          "day": "Thur",
          "total_bill": 18.71
         },
         {
          "c": "rgb(31.0, 119.0, 180.0)",
          "day": "Thur",
          "total_bill": 12.74
         },
         {
          "c": "rgb(31.0, 119.0, 180.0)",
          "day": "Thur",
          "total_bill": 13
         },
         {
          "c": "rgb(31.0, 119.0, 180.0)",
          "day": "Thur",
          "total_bill": 16.4
         },
         {
          "c": "rgb(31.0, 119.0, 180.0)",
          "day": "Thur",
          "total_bill": 20.53
         },
         {
          "c": "rgb(31.0, 119.0, 180.0)",
          "day": "Thur",
          "total_bill": 16.47
         },
         {
          "c": "rgb(31.0, 119.0, 180.0)",
          "day": "Thur",
          "total_bill": 18.78
         },
         {
          "c": "rgb(255.0, 127.0, 14.0)",
          "day": "Fri",
          "total_bill": 28.97
         },
         {
          "c": "rgb(255.0, 127.0, 14.0)",
          "day": "Fri",
          "total_bill": 22.49
         },
         {
          "c": "rgb(255.0, 127.0, 14.0)",
          "day": "Fri",
          "total_bill": 5.75
         },
         {
          "c": "rgb(255.0, 127.0, 14.0)",
          "day": "Fri",
          "total_bill": 16.32
         },
         {
          "c": "rgb(255.0, 127.0, 14.0)",
          "day": "Fri",
          "total_bill": 22.75
         },
         {
          "c": "rgb(255.0, 127.0, 14.0)",
          "day": "Fri",
          "total_bill": 40.17
         },
         {
          "c": "rgb(255.0, 127.0, 14.0)",
          "day": "Fri",
          "total_bill": 27.28
         },
         {
          "c": "rgb(255.0, 127.0, 14.0)",
          "day": "Fri",
          "total_bill": 12.03
         },
         {
          "c": "rgb(255.0, 127.0, 14.0)",
          "day": "Fri",
          "total_bill": 21.01
         },
         {
          "c": "rgb(255.0, 127.0, 14.0)",
          "day": "Fri",
          "total_bill": 12.46
         },
         {
          "c": "rgb(255.0, 127.0, 14.0)",
          "day": "Fri",
          "total_bill": 11.35
         },
         {
          "c": "rgb(255.0, 127.0, 14.0)",
          "day": "Fri",
          "total_bill": 15.38
         },
         {
          "c": "rgb(255.0, 127.0, 14.0)",
          "day": "Fri",
          "total_bill": 12.16
         },
         {
          "c": "rgb(255.0, 127.0, 14.0)",
          "day": "Fri",
          "total_bill": 13.42
         },
         {
          "c": "rgb(255.0, 127.0, 14.0)",
          "day": "Fri",
          "total_bill": 8.58
         },
         {
          "c": "rgb(255.0, 127.0, 14.0)",
          "day": "Fri",
          "total_bill": 15.98
         },
         {
          "c": "rgb(255.0, 127.0, 14.0)",
          "day": "Fri",
          "total_bill": 13.42
         },
         {
          "c": "rgb(255.0, 127.0, 14.0)",
          "day": "Fri",
          "total_bill": 16.27
         },
         {
          "c": "rgb(255.0, 127.0, 14.0)",
          "day": "Fri",
          "total_bill": 10.09
         },
         {
          "c": "rgb(44.0, 160.0, 44.0)",
          "day": "Sat",
          "total_bill": 20.65
         },
         {
          "c": "rgb(44.0, 160.0, 44.0)",
          "day": "Sat",
          "total_bill": 17.92
         },
         {
          "c": "rgb(44.0, 160.0, 44.0)",
          "day": "Sat",
          "total_bill": 20.29
         },
         {
          "c": "rgb(44.0, 160.0, 44.0)",
          "day": "Sat",
          "total_bill": 15.77
         },
         {
          "c": "rgb(44.0, 160.0, 44.0)",
          "day": "Sat",
          "total_bill": 39.42
         },
         {
          "c": "rgb(44.0, 160.0, 44.0)",
          "day": "Sat",
          "total_bill": 19.82
         },
         {
          "c": "rgb(44.0, 160.0, 44.0)",
          "day": "Sat",
          "total_bill": 17.81
         },
         {
          "c": "rgb(44.0, 160.0, 44.0)",
          "day": "Sat",
          "total_bill": 13.37
         },
         {
          "c": "rgb(44.0, 160.0, 44.0)",
          "day": "Sat",
          "total_bill": 12.69
         },
         {
          "c": "rgb(44.0, 160.0, 44.0)",
          "day": "Sat",
          "total_bill": 21.7
         },
         {
          "c": "rgb(44.0, 160.0, 44.0)",
          "day": "Sat",
          "total_bill": 19.65
         },
         {
          "c": "rgb(44.0, 160.0, 44.0)",
          "day": "Sat",
          "total_bill": 9.55
         },
         {
          "c": "rgb(44.0, 160.0, 44.0)",
          "day": "Sat",
          "total_bill": 18.35
         },
         {
          "c": "rgb(44.0, 160.0, 44.0)",
          "day": "Sat",
          "total_bill": 15.06
         },
         {
          "c": "rgb(44.0, 160.0, 44.0)",
          "day": "Sat",
          "total_bill": 20.69
         },
         {
          "c": "rgb(44.0, 160.0, 44.0)",
          "day": "Sat",
          "total_bill": 17.78
         },
         {
          "c": "rgb(44.0, 160.0, 44.0)",
          "day": "Sat",
          "total_bill": 24.06
         },
         {
          "c": "rgb(44.0, 160.0, 44.0)",
          "day": "Sat",
          "total_bill": 16.31
         },
         {
          "c": "rgb(44.0, 160.0, 44.0)",
          "day": "Sat",
          "total_bill": 16.93
         },
         {
          "c": "rgb(44.0, 160.0, 44.0)",
          "day": "Sat",
          "total_bill": 18.69
         },
         {
          "c": "rgb(44.0, 160.0, 44.0)",
          "day": "Sat",
          "total_bill": 31.27
         },
         {
          "c": "rgb(44.0, 160.0, 44.0)",
          "day": "Sat",
          "total_bill": 16.04
         },
         {
          "c": "rgb(44.0, 160.0, 44.0)",
          "day": "Sat",
          "total_bill": 38.01
         },
         {
          "c": "rgb(44.0, 160.0, 44.0)",
          "day": "Sat",
          "total_bill": 26.41
         },
         {
          "c": "rgb(44.0, 160.0, 44.0)",
          "day": "Sat",
          "total_bill": 11.24
         },
         {
          "c": "rgb(44.0, 160.0, 44.0)",
          "day": "Sat",
          "total_bill": 48.27
         },
         {
          "c": "rgb(44.0, 160.0, 44.0)",
          "day": "Sat",
          "total_bill": 20.29
         },
         {
          "c": "rgb(44.0, 160.0, 44.0)",
          "day": "Sat",
          "total_bill": 13.81
         },
         {
          "c": "rgb(44.0, 160.0, 44.0)",
          "day": "Sat",
          "total_bill": 11.02
         },
         {
          "c": "rgb(44.0, 160.0, 44.0)",
          "day": "Sat",
          "total_bill": 18.29
         },
         {
          "c": "rgb(44.0, 160.0, 44.0)",
          "day": "Sat",
          "total_bill": 17.59
         },
         {
          "c": "rgb(44.0, 160.0, 44.0)",
          "day": "Sat",
          "total_bill": 20.08
         },
         {
          "c": "rgb(44.0, 160.0, 44.0)",
          "day": "Sat",
          "total_bill": 16.45
         },
         {
          "c": "rgb(44.0, 160.0, 44.0)",
          "day": "Sat",
          "total_bill": 3.07
         },
         {
          "c": "rgb(44.0, 160.0, 44.0)",
          "day": "Sat",
          "total_bill": 20.23
         },
         {
          "c": "rgb(44.0, 160.0, 44.0)",
          "day": "Sat",
          "total_bill": 15.01
         },
         {
          "c": "rgb(44.0, 160.0, 44.0)",
          "day": "Sat",
          "total_bill": 12.02
         },
         {
          "c": "rgb(44.0, 160.0, 44.0)",
          "day": "Sat",
          "total_bill": 17.07
         },
         {
          "c": "rgb(44.0, 160.0, 44.0)",
          "day": "Sat",
          "total_bill": 26.86
         },
         {
          "c": "rgb(44.0, 160.0, 44.0)",
          "day": "Sat",
          "total_bill": 25.28
         },
         {
          "c": "rgb(44.0, 160.0, 44.0)",
          "day": "Sat",
          "total_bill": 14.73
         },
         {
          "c": "rgb(44.0, 160.0, 44.0)",
          "day": "Sat",
          "total_bill": 10.51
         },
         {
          "c": "rgb(44.0, 160.0, 44.0)",
          "day": "Sat",
          "total_bill": 17.92
         },
         {
          "c": "rgb(44.0, 160.0, 44.0)",
          "day": "Sat",
          "total_bill": 44.3
         },
         {
          "c": "rgb(44.0, 160.0, 44.0)",
          "day": "Sat",
          "total_bill": 22.42
         },
         {
          "c": "rgb(44.0, 160.0, 44.0)",
          "day": "Sat",
          "total_bill": 20.92
         },
         {
          "c": "rgb(44.0, 160.0, 44.0)",
          "day": "Sat",
          "total_bill": 15.36
         },
         {
          "c": "rgb(44.0, 160.0, 44.0)",
          "day": "Sat",
          "total_bill": 20.49
         },
         {
          "c": "rgb(44.0, 160.0, 44.0)",
          "day": "Sat",
          "total_bill": 25.21
         },
         {
          "c": "rgb(44.0, 160.0, 44.0)",
          "day": "Sat",
          "total_bill": 18.24
         },
         {
          "c": "rgb(44.0, 160.0, 44.0)",
          "day": "Sat",
          "total_bill": 14.31
         },
         {
          "c": "rgb(44.0, 160.0, 44.0)",
          "day": "Sat",
          "total_bill": 14
         },
         {
          "c": "rgb(44.0, 160.0, 44.0)",
          "day": "Sat",
          "total_bill": 7.25
         },
         {
          "c": "rgb(44.0, 160.0, 44.0)",
          "day": "Sat",
          "total_bill": 10.59
         },
         {
          "c": "rgb(44.0, 160.0, 44.0)",
          "day": "Sat",
          "total_bill": 10.63
         },
         {
          "c": "rgb(44.0, 160.0, 44.0)",
          "day": "Sat",
          "total_bill": 50.81
         },
         {
          "c": "rgb(44.0, 160.0, 44.0)",
          "day": "Sat",
          "total_bill": 15.81
         },
         {
          "c": "rgb(44.0, 160.0, 44.0)",
          "day": "Sat",
          "total_bill": 26.59
         },
         {
          "c": "rgb(44.0, 160.0, 44.0)",
          "day": "Sat",
          "total_bill": 38.73
         },
         {
          "c": "rgb(44.0, 160.0, 44.0)",
          "day": "Sat",
          "total_bill": 24.27
         },
         {
          "c": "rgb(44.0, 160.0, 44.0)",
          "day": "Sat",
          "total_bill": 12.76
         },
         {
          "c": "rgb(44.0, 160.0, 44.0)",
          "day": "Sat",
          "total_bill": 30.06
         },
         {
          "c": "rgb(44.0, 160.0, 44.0)",
          "day": "Sat",
          "total_bill": 25.89
         },
         {
          "c": "rgb(44.0, 160.0, 44.0)",
          "day": "Sat",
          "total_bill": 48.33
         },
         {
          "c": "rgb(44.0, 160.0, 44.0)",
          "day": "Sat",
          "total_bill": 13.27
         },
         {
          "c": "rgb(44.0, 160.0, 44.0)",
          "day": "Sat",
          "total_bill": 28.17
         },
         {
          "c": "rgb(44.0, 160.0, 44.0)",
          "day": "Sat",
          "total_bill": 12.9
         },
         {
          "c": "rgb(44.0, 160.0, 44.0)",
          "day": "Sat",
          "total_bill": 28.15
         },
         {
          "c": "rgb(44.0, 160.0, 44.0)",
          "day": "Sat",
          "total_bill": 11.59
         },
         {
          "c": "rgb(44.0, 160.0, 44.0)",
          "day": "Sat",
          "total_bill": 7.74
         },
         {
          "c": "rgb(44.0, 160.0, 44.0)",
          "day": "Sat",
          "total_bill": 30.14
         },
         {
          "c": "rgb(44.0, 160.0, 44.0)",
          "day": "Sat",
          "total_bill": 20.45
         },
         {
          "c": "rgb(44.0, 160.0, 44.0)",
          "day": "Sat",
          "total_bill": 13.28
         },
         {
          "c": "rgb(44.0, 160.0, 44.0)",
          "day": "Sat",
          "total_bill": 22.12
         },
         {
          "c": "rgb(44.0, 160.0, 44.0)",
          "day": "Sat",
          "total_bill": 24.01
         },
         {
          "c": "rgb(44.0, 160.0, 44.0)",
          "day": "Sat",
          "total_bill": 15.69
         },
         {
          "c": "rgb(44.0, 160.0, 44.0)",
          "day": "Sat",
          "total_bill": 11.61
         },
         {
          "c": "rgb(44.0, 160.0, 44.0)",
          "day": "Sat",
          "total_bill": 10.77
         },
         {
          "c": "rgb(44.0, 160.0, 44.0)",
          "day": "Sat",
          "total_bill": 15.53
         },
         {
          "c": "rgb(44.0, 160.0, 44.0)",
          "day": "Sat",
          "total_bill": 10.07
         },
         {
          "c": "rgb(44.0, 160.0, 44.0)",
          "day": "Sat",
          "total_bill": 12.6
         },
         {
          "c": "rgb(44.0, 160.0, 44.0)",
          "day": "Sat",
          "total_bill": 32.83
         },
         {
          "c": "rgb(44.0, 160.0, 44.0)",
          "day": "Sat",
          "total_bill": 35.83
         },
         {
          "c": "rgb(44.0, 160.0, 44.0)",
          "day": "Sat",
          "total_bill": 29.03
         },
         {
          "c": "rgb(44.0, 160.0, 44.0)",
          "day": "Sat",
          "total_bill": 27.18
         },
         {
          "c": "rgb(44.0, 160.0, 44.0)",
          "day": "Sat",
          "total_bill": 22.67
         },
         {
          "c": "rgb(44.0, 160.0, 44.0)",
          "day": "Sat",
          "total_bill": 17.82
         },
         {
          "c": "rgb(214.0, 39.0, 40.0)",
          "day": "Sun",
          "total_bill": 16.99
         },
         {
          "c": "rgb(214.0, 39.0, 40.0)",
          "day": "Sun",
          "total_bill": 10.34
         },
         {
          "c": "rgb(214.0, 39.0, 40.0)",
          "day": "Sun",
          "total_bill": 21.01
         },
         {
          "c": "rgb(214.0, 39.0, 40.0)",
          "day": "Sun",
          "total_bill": 23.68
         },
         {
          "c": "rgb(214.0, 39.0, 40.0)",
          "day": "Sun",
          "total_bill": 24.59
         },
         {
          "c": "rgb(214.0, 39.0, 40.0)",
          "day": "Sun",
          "total_bill": 25.29
         },
         {
          "c": "rgb(214.0, 39.0, 40.0)",
          "day": "Sun",
          "total_bill": 8.77
         },
         {
          "c": "rgb(214.0, 39.0, 40.0)",
          "day": "Sun",
          "total_bill": 26.88
         },
         {
          "c": "rgb(214.0, 39.0, 40.0)",
          "day": "Sun",
          "total_bill": 15.04
         },
         {
          "c": "rgb(214.0, 39.0, 40.0)",
          "day": "Sun",
          "total_bill": 14.78
         },
         {
          "c": "rgb(214.0, 39.0, 40.0)",
          "day": "Sun",
          "total_bill": 10.27
         },
         {
          "c": "rgb(214.0, 39.0, 40.0)",
          "day": "Sun",
          "total_bill": 35.26
         },
         {
          "c": "rgb(214.0, 39.0, 40.0)",
          "day": "Sun",
          "total_bill": 15.42
         },
         {
          "c": "rgb(214.0, 39.0, 40.0)",
          "day": "Sun",
          "total_bill": 18.43
         },
         {
          "c": "rgb(214.0, 39.0, 40.0)",
          "day": "Sun",
          "total_bill": 14.83
         },
         {
          "c": "rgb(214.0, 39.0, 40.0)",
          "day": "Sun",
          "total_bill": 21.58
         },
         {
          "c": "rgb(214.0, 39.0, 40.0)",
          "day": "Sun",
          "total_bill": 10.33
         },
         {
          "c": "rgb(214.0, 39.0, 40.0)",
          "day": "Sun",
          "total_bill": 16.29
         },
         {
          "c": "rgb(214.0, 39.0, 40.0)",
          "day": "Sun",
          "total_bill": 16.97
         },
         {
          "c": "rgb(214.0, 39.0, 40.0)",
          "day": "Sun",
          "total_bill": 17.46
         },
         {
          "c": "rgb(214.0, 39.0, 40.0)",
          "day": "Sun",
          "total_bill": 13.94
         },
         {
          "c": "rgb(214.0, 39.0, 40.0)",
          "day": "Sun",
          "total_bill": 9.68
         },
         {
          "c": "rgb(214.0, 39.0, 40.0)",
          "day": "Sun",
          "total_bill": 30.4
         },
         {
          "c": "rgb(214.0, 39.0, 40.0)",
          "day": "Sun",
          "total_bill": 18.29
         },
         {
          "c": "rgb(214.0, 39.0, 40.0)",
          "day": "Sun",
          "total_bill": 22.23
         },
         {
          "c": "rgb(214.0, 39.0, 40.0)",
          "day": "Sun",
          "total_bill": 32.4
         },
         {
          "c": "rgb(214.0, 39.0, 40.0)",
          "day": "Sun",
          "total_bill": 28.55
         },
         {
          "c": "rgb(214.0, 39.0, 40.0)",
          "day": "Sun",
          "total_bill": 18.04
         },
         {
          "c": "rgb(214.0, 39.0, 40.0)",
          "day": "Sun",
          "total_bill": 12.54
         },
         {
          "c": "rgb(214.0, 39.0, 40.0)",
          "day": "Sun",
          "total_bill": 10.29
         },
         {
          "c": "rgb(214.0, 39.0, 40.0)",
          "day": "Sun",
          "total_bill": 34.81
         },
         {
          "c": "rgb(214.0, 39.0, 40.0)",
          "day": "Sun",
          "total_bill": 9.94
         },
         {
          "c": "rgb(214.0, 39.0, 40.0)",
          "day": "Sun",
          "total_bill": 25.56
         },
         {
          "c": "rgb(214.0, 39.0, 40.0)",
          "day": "Sun",
          "total_bill": 19.49
         },
         {
          "c": "rgb(214.0, 39.0, 40.0)",
          "day": "Sun",
          "total_bill": 38.07
         },
         {
          "c": "rgb(214.0, 39.0, 40.0)",
          "day": "Sun",
          "total_bill": 23.95
         },
         {
          "c": "rgb(214.0, 39.0, 40.0)",
          "day": "Sun",
          "total_bill": 25.71
         },
         {
          "c": "rgb(214.0, 39.0, 40.0)",
          "day": "Sun",
          "total_bill": 17.31
         },
         {
          "c": "rgb(214.0, 39.0, 40.0)",
          "day": "Sun",
          "total_bill": 29.93
         },
         {
          "c": "rgb(214.0, 39.0, 40.0)",
          "day": "Sun",
          "total_bill": 14.07
         },
         {
          "c": "rgb(214.0, 39.0, 40.0)",
          "day": "Sun",
          "total_bill": 13.13
         },
         {
          "c": "rgb(214.0, 39.0, 40.0)",
          "day": "Sun",
          "total_bill": 17.26
         },
         {
          "c": "rgb(214.0, 39.0, 40.0)",
          "day": "Sun",
          "total_bill": 24.55
         },
         {
          "c": "rgb(214.0, 39.0, 40.0)",
          "day": "Sun",
          "total_bill": 19.77
         },
         {
          "c": "rgb(214.0, 39.0, 40.0)",
          "day": "Sun",
          "total_bill": 29.85
         },
         {
          "c": "rgb(214.0, 39.0, 40.0)",
          "day": "Sun",
          "total_bill": 48.17
         },
         {
          "c": "rgb(214.0, 39.0, 40.0)",
          "day": "Sun",
          "total_bill": 25
         },
         {
          "c": "rgb(214.0, 39.0, 40.0)",
          "day": "Sun",
          "total_bill": 13.39
         },
         {
          "c": "rgb(214.0, 39.0, 40.0)",
          "day": "Sun",
          "total_bill": 16.49
         },
         {
          "c": "rgb(214.0, 39.0, 40.0)",
          "day": "Sun",
          "total_bill": 21.5
         },
         {
          "c": "rgb(214.0, 39.0, 40.0)",
          "day": "Sun",
          "total_bill": 12.66
         },
         {
          "c": "rgb(214.0, 39.0, 40.0)",
          "day": "Sun",
          "total_bill": 16.21
         },
         {
          "c": "rgb(214.0, 39.0, 40.0)",
          "day": "Sun",
          "total_bill": 13.81
         },
         {
          "c": "rgb(214.0, 39.0, 40.0)",
          "day": "Sun",
          "total_bill": 17.51
         },
         {
          "c": "rgb(214.0, 39.0, 40.0)",
          "day": "Sun",
          "total_bill": 24.52
         },
         {
          "c": "rgb(214.0, 39.0, 40.0)",
          "day": "Sun",
          "total_bill": 20.76
         },
         {
          "c": "rgb(214.0, 39.0, 40.0)",
          "day": "Sun",
          "total_bill": 31.71
         },
         {
          "c": "rgb(214.0, 39.0, 40.0)",
          "day": "Sun",
          "total_bill": 7.25
         },
         {
          "c": "rgb(214.0, 39.0, 40.0)",
          "day": "Sun",
          "total_bill": 31.85
         },
         {
          "c": "rgb(214.0, 39.0, 40.0)",
          "day": "Sun",
          "total_bill": 16.82
         },
         {
          "c": "rgb(214.0, 39.0, 40.0)",
          "day": "Sun",
          "total_bill": 32.9
         },
         {
          "c": "rgb(214.0, 39.0, 40.0)",
          "day": "Sun",
          "total_bill": 17.89
         },
         {
          "c": "rgb(214.0, 39.0, 40.0)",
          "day": "Sun",
          "total_bill": 14.48
         },
         {
          "c": "rgb(214.0, 39.0, 40.0)",
          "day": "Sun",
          "total_bill": 9.6
         },
         {
          "c": "rgb(214.0, 39.0, 40.0)",
          "day": "Sun",
          "total_bill": 34.63
         },
         {
          "c": "rgb(214.0, 39.0, 40.0)",
          "day": "Sun",
          "total_bill": 34.65
         },
         {
          "c": "rgb(214.0, 39.0, 40.0)",
          "day": "Sun",
          "total_bill": 23.33
         },
         {
          "c": "rgb(214.0, 39.0, 40.0)",
          "day": "Sun",
          "total_bill": 45.35
         },
         {
          "c": "rgb(214.0, 39.0, 40.0)",
          "day": "Sun",
          "total_bill": 23.17
         },
         {
          "c": "rgb(214.0, 39.0, 40.0)",
          "day": "Sun",
          "total_bill": 40.55
         },
         {
          "c": "rgb(214.0, 39.0, 40.0)",
          "day": "Sun",
          "total_bill": 20.69
         },
         {
          "c": "rgb(214.0, 39.0, 40.0)",
          "day": "Sun",
          "total_bill": 20.9
         },
         {
          "c": "rgb(214.0, 39.0, 40.0)",
          "day": "Sun",
          "total_bill": 30.46
         },
         {
          "c": "rgb(214.0, 39.0, 40.0)",
          "day": "Sun",
          "total_bill": 18.15
         },
         {
          "c": "rgb(214.0, 39.0, 40.0)",
          "day": "Sun",
          "total_bill": 23.1
         },
         {
          "c": "rgb(214.0, 39.0, 40.0)",
          "day": "Sun",
          "total_bill": 15.69
         }
        ]
       },
       "encoding": {
        "color": {
         "field": "c",
         "scale": null,
         "type": "nominal"
        },
        "x": {
         "axis": {
          "title": "total_bill"
         },
         "field": "total_bill",
         "scale": {
          "zero": false
         },
         "type": "quantitative"
        },
        "y": {
         "axis": {
          "title": "day"
         },
         "field": "day",
         "sort": null,
         "type": "nominal"
        }
       },
       "mark": "circle",
       "selection": {
        "selector005": {
         "bind": "scales",
         "encodings": [
          "x",
          "y"
         ],
         "mark": {
          "fill": "#333",
          "fillOpacity": 0.125,
          "stroke": "white"
         },
         "on": "[mousedown, window:mouseup] > window:mousemove!",
         "resolve": "global",
         "translate": "[mousedown, window:mouseup] > window:mousemove!",
         "type": "interval",
         "zoom": "wheel!"
        }
       }
      },
      "image/png": "[encoded data removed]",
      "text/plain": [
       "<VegaLite 2 object>\n",
       "\n",
       "If you see this message, it means the renderer has not been properly enabled\n",
       "for the frontend that you are using. For more information, see\n",
       "https://altair-viz.github.io/user_guide/troubleshooting.html\n"
      ]
     },
     "metadata": {},
     "output_type": "display_data"
    },
    {
     "data": {
      "image/png": "[encoded data removed]",
      "text/plain": [
       "<Figure size 432x288 with 1 Axes>"
      ]
     },
     "metadata": {},
     "output_type": "display_data"
    }
   ],
   "source": [
    "display(salt.stripplot(x=\"total_bill\", y=\"day\", data=tips, jitter=True))\n",
    "ax = sns.stripplot(x=\"total_bill\", y=\"day\", data=tips, jitter=True)"
   ]
  },
  {
   "cell_type": "code",
   "execution_count": 7,
   "metadata": {},
   "outputs": [
    {
     "data": {
      "application/vnd.vegalite.v2+json": {
       "$schema": "https://vega.github.io/schema/vega-lite/v2.4.1.json",
       "config": {
        "view": {
         "height": 300,
         "width": 400
        }
       },
       "data": {
        "values": [
         {
          "c": "rgb(31.0, 119.0, 180.0)",
          "day": "Thur",
          "total_bill": 27.2
         },
         {
          "c": "rgb(31.0, 119.0, 180.0)",
          "day": "Thur",
          "total_bill": 22.76
         },
         {
          "c": "rgb(31.0, 119.0, 180.0)",
          "day": "Thur",
          "total_bill": 17.29
         },
         {
          "c": "rgb(31.0, 119.0, 180.0)",
          "day": "Thur",
          "total_bill": 19.44
         },
         {
          "c": "rgb(31.0, 119.0, 180.0)",
          "day": "Thur",
          "total_bill": 16.66
         },
         {
          "c": "rgb(31.0, 119.0, 180.0)",
          "day": "Thur",
          "total_bill": 10.07
         },
         {
          "c": "rgb(31.0, 119.0, 180.0)",
          "day": "Thur",
          "total_bill": 32.68
         },
         {
          "c": "rgb(31.0, 119.0, 180.0)",
          "day": "Thur",
          "total_bill": 15.98
         },
         {
          "c": "rgb(31.0, 119.0, 180.0)",
          "day": "Thur",
          "total_bill": 34.83
         },
         {
          "c": "rgb(31.0, 119.0, 180.0)",
          "day": "Thur",
          "total_bill": 13.03
         },
         {
          "c": "rgb(31.0, 119.0, 180.0)",
          "day": "Thur",
          "total_bill": 18.28
         },
         {
          "c": "rgb(31.0, 119.0, 180.0)",
          "day": "Thur",
          "total_bill": 24.71
         },
         {
          "c": "rgb(31.0, 119.0, 180.0)",
          "day": "Thur",
          "total_bill": 21.16
         },
         {
          "c": "rgb(31.0, 119.0, 180.0)",
          "day": "Thur",
          "total_bill": 10.65
         },
         {
          "c": "rgb(31.0, 119.0, 180.0)",
          "day": "Thur",
          "total_bill": 12.43
         },
         {
          "c": "rgb(31.0, 119.0, 180.0)",
          "day": "Thur",
          "total_bill": 24.08
         },
         {
          "c": "rgb(31.0, 119.0, 180.0)",
          "day": "Thur",
          "total_bill": 11.69
         },
         {
          "c": "rgb(31.0, 119.0, 180.0)",
          "day": "Thur",
          "total_bill": 13.42
         },
         {
          "c": "rgb(31.0, 119.0, 180.0)",
          "day": "Thur",
          "total_bill": 14.26
         },
         {
          "c": "rgb(31.0, 119.0, 180.0)",
          "day": "Thur",
          "total_bill": 15.95
         },
         {
          "c": "rgb(31.0, 119.0, 180.0)",
          "day": "Thur",
          "total_bill": 12.48
         },
         {
          "c": "rgb(31.0, 119.0, 180.0)",
          "day": "Thur",
          "total_bill": 29.8
         },
         {
          "c": "rgb(31.0, 119.0, 180.0)",
          "day": "Thur",
          "total_bill": 8.52
         },
         {
          "c": "rgb(31.0, 119.0, 180.0)",
          "day": "Thur",
          "total_bill": 14.52
         },
         {
          "c": "rgb(31.0, 119.0, 180.0)",
          "day": "Thur",
          "total_bill": 11.38
         },
         {
          "c": "rgb(31.0, 119.0, 180.0)",
          "day": "Thur",
          "total_bill": 22.82
         },
         {
          "c": "rgb(31.0, 119.0, 180.0)",
          "day": "Thur",
          "total_bill": 19.08
         },
         {
          "c": "rgb(31.0, 119.0, 180.0)",
          "day": "Thur",
          "total_bill": 20.27
         },
         {
          "c": "rgb(31.0, 119.0, 180.0)",
          "day": "Thur",
          "total_bill": 11.17
         },
         {
          "c": "rgb(31.0, 119.0, 180.0)",
          "day": "Thur",
          "total_bill": 12.26
         },
         {
          "c": "rgb(31.0, 119.0, 180.0)",
          "day": "Thur",
          "total_bill": 18.26
         },
         {
          "c": "rgb(31.0, 119.0, 180.0)",
          "day": "Thur",
          "total_bill": 8.51
         },
         {
          "c": "rgb(31.0, 119.0, 180.0)",
          "day": "Thur",
          "total_bill": 10.33
         },
         {
          "c": "rgb(31.0, 119.0, 180.0)",
          "day": "Thur",
          "total_bill": 14.15
         },
         {
          "c": "rgb(31.0, 119.0, 180.0)",
          "day": "Thur",
          "total_bill": 16
         },
         {
          "c": "rgb(31.0, 119.0, 180.0)",
          "day": "Thur",
          "total_bill": 13.16
         },
         {
          "c": "rgb(31.0, 119.0, 180.0)",
          "day": "Thur",
          "total_bill": 17.47
         },
         {
          "c": "rgb(31.0, 119.0, 180.0)",
          "day": "Thur",
          "total_bill": 34.3
         },
         {
          "c": "rgb(31.0, 119.0, 180.0)",
          "day": "Thur",
          "total_bill": 41.19
         },
         {
          "c": "rgb(31.0, 119.0, 180.0)",
          "day": "Thur",
          "total_bill": 27.05
         },
         {
          "c": "rgb(31.0, 119.0, 180.0)",
          "day": "Thur",
          "total_bill": 16.43
         },
         {
          "c": "rgb(31.0, 119.0, 180.0)",
          "day": "Thur",
          "total_bill": 8.35
         },
         {
          "c": "rgb(31.0, 119.0, 180.0)",
          "day": "Thur",
          "total_bill": 18.64
         },
         {
          "c": "rgb(31.0, 119.0, 180.0)",
          "day": "Thur",
          "total_bill": 11.87
         },
         {
          "c": "rgb(31.0, 119.0, 180.0)",
          "day": "Thur",
          "total_bill": 9.78
         },
         {
          "c": "rgb(31.0, 119.0, 180.0)",
          "day": "Thur",
          "total_bill": 7.51
         },
         {
          "c": "rgb(31.0, 119.0, 180.0)",
          "day": "Thur",
          "total_bill": 19.81
         },
         {
          "c": "rgb(31.0, 119.0, 180.0)",
          "day": "Thur",
          "total_bill": 28.44
         },
         {
          "c": "rgb(31.0, 119.0, 180.0)",
          "day": "Thur",
          "total_bill": 15.48
         },
         {
          "c": "rgb(31.0, 119.0, 180.0)",
          "day": "Thur",
          "total_bill": 16.58
         },
         {
          "c": "rgb(31.0, 119.0, 180.0)",
          "day": "Thur",
          "total_bill": 7.56
         },
         {
          "c": "rgb(31.0, 119.0, 180.0)",
          "day": "Thur",
          "total_bill": 10.34
         },
         {
          "c": "rgb(31.0, 119.0, 180.0)",
          "day": "Thur",
          "total_bill": 43.11
         },
         {
          "c": "rgb(31.0, 119.0, 180.0)",
          "day": "Thur",
          "total_bill": 13
         },
         {
          "c": "rgb(31.0, 119.0, 180.0)",
          "day": "Thur",
          "total_bill": 13.51
         },
         {
          "c": "rgb(31.0, 119.0, 180.0)",
          "day": "Thur",
          "total_bill": 18.71
         },
         {
          "c": "rgb(31.0, 119.0, 180.0)",
          "day": "Thur",
          "total_bill": 12.74
         },
         {
          "c": "rgb(31.0, 119.0, 180.0)",
          "day": "Thur",
          "total_bill": 13
         },
         {
          "c": "rgb(31.0, 119.0, 180.0)",
          "day": "Thur",
          "total_bill": 16.4
         },
         {
          "c": "rgb(31.0, 119.0, 180.0)",
          "day": "Thur",
          "total_bill": 20.53
         },
         {
          "c": "rgb(31.0, 119.0, 180.0)",
          "day": "Thur",
          "total_bill": 16.47
         },
         {
          "c": "rgb(31.0, 119.0, 180.0)",
          "day": "Thur",
          "total_bill": 18.78
         },
         {
          "c": "rgb(255.0, 127.0, 14.0)",
          "day": "Fri",
          "total_bill": 28.97
         },
         {
          "c": "rgb(255.0, 127.0, 14.0)",
          "day": "Fri",
          "total_bill": 22.49
         },
         {
          "c": "rgb(255.0, 127.0, 14.0)",
          "day": "Fri",
          "total_bill": 5.75
         },
         {
          "c": "rgb(255.0, 127.0, 14.0)",
          "day": "Fri",
          "total_bill": 16.32
         },
         {
          "c": "rgb(255.0, 127.0, 14.0)",
          "day": "Fri",
          "total_bill": 22.75
         },
         {
          "c": "rgb(255.0, 127.0, 14.0)",
          "day": "Fri",
          "total_bill": 40.17
         },
         {
          "c": "rgb(255.0, 127.0, 14.0)",
          "day": "Fri",
          "total_bill": 27.28
         },
         {
          "c": "rgb(255.0, 127.0, 14.0)",
          "day": "Fri",
          "total_bill": 12.03
         },
         {
          "c": "rgb(255.0, 127.0, 14.0)",
          "day": "Fri",
          "total_bill": 21.01
         },
         {
          "c": "rgb(255.0, 127.0, 14.0)",
          "day": "Fri",
          "total_bill": 12.46
         },
         {
          "c": "rgb(255.0, 127.0, 14.0)",
          "day": "Fri",
          "total_bill": 11.35
         },
         {
          "c": "rgb(255.0, 127.0, 14.0)",
          "day": "Fri",
          "total_bill": 15.38
         },
         {
          "c": "rgb(255.0, 127.0, 14.0)",
          "day": "Fri",
          "total_bill": 12.16
         },
         {
          "c": "rgb(255.0, 127.0, 14.0)",
          "day": "Fri",
          "total_bill": 13.42
         },
         {
          "c": "rgb(255.0, 127.0, 14.0)",
          "day": "Fri",
          "total_bill": 8.58
         },
         {
          "c": "rgb(255.0, 127.0, 14.0)",
          "day": "Fri",
          "total_bill": 15.98
         },
         {
          "c": "rgb(255.0, 127.0, 14.0)",
          "day": "Fri",
          "total_bill": 13.42
         },
         {
          "c": "rgb(255.0, 127.0, 14.0)",
          "day": "Fri",
          "total_bill": 16.27
         },
         {
          "c": "rgb(255.0, 127.0, 14.0)",
          "day": "Fri",
          "total_bill": 10.09
         },
         {
          "c": "rgb(44.0, 160.0, 44.0)",
          "day": "Sat",
          "total_bill": 20.65
         },
         {
          "c": "rgb(44.0, 160.0, 44.0)",
          "day": "Sat",
          "total_bill": 17.92
         },
         {
          "c": "rgb(44.0, 160.0, 44.0)",
          "day": "Sat",
          "total_bill": 20.29
         },
         {
          "c": "rgb(44.0, 160.0, 44.0)",
          "day": "Sat",
          "total_bill": 15.77
         },
         {
          "c": "rgb(44.0, 160.0, 44.0)",
          "day": "Sat",
          "total_bill": 39.42
         },
         {
          "c": "rgb(44.0, 160.0, 44.0)",
          "day": "Sat",
          "total_bill": 19.82
         },
         {
          "c": "rgb(44.0, 160.0, 44.0)",
          "day": "Sat",
          "total_bill": 17.81
         },
         {
          "c": "rgb(44.0, 160.0, 44.0)",
          "day": "Sat",
          "total_bill": 13.37
         },
         {
          "c": "rgb(44.0, 160.0, 44.0)",
          "day": "Sat",
          "total_bill": 12.69
         },
         {
          "c": "rgb(44.0, 160.0, 44.0)",
          "day": "Sat",
          "total_bill": 21.7
         },
         {
          "c": "rgb(44.0, 160.0, 44.0)",
          "day": "Sat",
          "total_bill": 19.65
         },
         {
          "c": "rgb(44.0, 160.0, 44.0)",
          "day": "Sat",
          "total_bill": 9.55
         },
         {
          "c": "rgb(44.0, 160.0, 44.0)",
          "day": "Sat",
          "total_bill": 18.35
         },
         {
          "c": "rgb(44.0, 160.0, 44.0)",
          "day": "Sat",
          "total_bill": 15.06
         },
         {
          "c": "rgb(44.0, 160.0, 44.0)",
          "day": "Sat",
          "total_bill": 20.69
         },
         {
          "c": "rgb(44.0, 160.0, 44.0)",
          "day": "Sat",
          "total_bill": 17.78
         },
         {
          "c": "rgb(44.0, 160.0, 44.0)",
          "day": "Sat",
          "total_bill": 24.06
         },
         {
          "c": "rgb(44.0, 160.0, 44.0)",
          "day": "Sat",
          "total_bill": 16.31
         },
         {
          "c": "rgb(44.0, 160.0, 44.0)",
          "day": "Sat",
          "total_bill": 16.93
         },
         {
          "c": "rgb(44.0, 160.0, 44.0)",
          "day": "Sat",
          "total_bill": 18.69
         },
         {
          "c": "rgb(44.0, 160.0, 44.0)",
          "day": "Sat",
          "total_bill": 31.27
         },
         {
          "c": "rgb(44.0, 160.0, 44.0)",
          "day": "Sat",
          "total_bill": 16.04
         },
         {
          "c": "rgb(44.0, 160.0, 44.0)",
          "day": "Sat",
          "total_bill": 38.01
         },
         {
          "c": "rgb(44.0, 160.0, 44.0)",
          "day": "Sat",
          "total_bill": 26.41
         },
         {
          "c": "rgb(44.0, 160.0, 44.0)",
          "day": "Sat",
          "total_bill": 11.24
         },
         {
          "c": "rgb(44.0, 160.0, 44.0)",
          "day": "Sat",
          "total_bill": 48.27
         },
         {
          "c": "rgb(44.0, 160.0, 44.0)",
          "day": "Sat",
          "total_bill": 20.29
         },
         {
          "c": "rgb(44.0, 160.0, 44.0)",
          "day": "Sat",
          "total_bill": 13.81
         },
         {
          "c": "rgb(44.0, 160.0, 44.0)",
          "day": "Sat",
          "total_bill": 11.02
         },
         {
          "c": "rgb(44.0, 160.0, 44.0)",
          "day": "Sat",
          "total_bill": 18.29
         },
         {
          "c": "rgb(44.0, 160.0, 44.0)",
          "day": "Sat",
          "total_bill": 17.59
         },
         {
          "c": "rgb(44.0, 160.0, 44.0)",
          "day": "Sat",
          "total_bill": 20.08
         },
         {
          "c": "rgb(44.0, 160.0, 44.0)",
          "day": "Sat",
          "total_bill": 16.45
         },
         {
          "c": "rgb(44.0, 160.0, 44.0)",
          "day": "Sat",
          "total_bill": 3.07
         },
         {
          "c": "rgb(44.0, 160.0, 44.0)",
          "day": "Sat",
          "total_bill": 20.23
         },
         {
          "c": "rgb(44.0, 160.0, 44.0)",
          "day": "Sat",
          "total_bill": 15.01
         },
         {
          "c": "rgb(44.0, 160.0, 44.0)",
          "day": "Sat",
          "total_bill": 12.02
         },
         {
          "c": "rgb(44.0, 160.0, 44.0)",
          "day": "Sat",
          "total_bill": 17.07
         },
         {
          "c": "rgb(44.0, 160.0, 44.0)",
          "day": "Sat",
          "total_bill": 26.86
         },
         {
          "c": "rgb(44.0, 160.0, 44.0)",
          "day": "Sat",
          "total_bill": 25.28
         },
         {
          "c": "rgb(44.0, 160.0, 44.0)",
          "day": "Sat",
          "total_bill": 14.73
         },
         {
          "c": "rgb(44.0, 160.0, 44.0)",
          "day": "Sat",
          "total_bill": 10.51
         },
         {
          "c": "rgb(44.0, 160.0, 44.0)",
          "day": "Sat",
          "total_bill": 17.92
         },
         {
          "c": "rgb(44.0, 160.0, 44.0)",
          "day": "Sat",
          "total_bill": 44.3
         },
         {
          "c": "rgb(44.0, 160.0, 44.0)",
          "day": "Sat",
          "total_bill": 22.42
         },
         {
          "c": "rgb(44.0, 160.0, 44.0)",
          "day": "Sat",
          "total_bill": 20.92
         },
         {
          "c": "rgb(44.0, 160.0, 44.0)",
          "day": "Sat",
          "total_bill": 15.36
         },
         {
          "c": "rgb(44.0, 160.0, 44.0)",
          "day": "Sat",
          "total_bill": 20.49
         },
         {
          "c": "rgb(44.0, 160.0, 44.0)",
          "day": "Sat",
          "total_bill": 25.21
         },
         {
          "c": "rgb(44.0, 160.0, 44.0)",
          "day": "Sat",
          "total_bill": 18.24
         },
         {
          "c": "rgb(44.0, 160.0, 44.0)",
          "day": "Sat",
          "total_bill": 14.31
         },
         {
          "c": "rgb(44.0, 160.0, 44.0)",
          "day": "Sat",
          "total_bill": 14
         },
         {
          "c": "rgb(44.0, 160.0, 44.0)",
          "day": "Sat",
          "total_bill": 7.25
         },
         {
          "c": "rgb(44.0, 160.0, 44.0)",
          "day": "Sat",
          "total_bill": 10.59
         },
         {
          "c": "rgb(44.0, 160.0, 44.0)",
          "day": "Sat",
          "total_bill": 10.63
         },
         {
          "c": "rgb(44.0, 160.0, 44.0)",
          "day": "Sat",
          "total_bill": 50.81
         },
         {
          "c": "rgb(44.0, 160.0, 44.0)",
          "day": "Sat",
          "total_bill": 15.81
         },
         {
          "c": "rgb(44.0, 160.0, 44.0)",
          "day": "Sat",
          "total_bill": 26.59
         },
         {
          "c": "rgb(44.0, 160.0, 44.0)",
          "day": "Sat",
          "total_bill": 38.73
         },
         {
          "c": "rgb(44.0, 160.0, 44.0)",
          "day": "Sat",
          "total_bill": 24.27
         },
         {
          "c": "rgb(44.0, 160.0, 44.0)",
          "day": "Sat",
          "total_bill": 12.76
         },
         {
          "c": "rgb(44.0, 160.0, 44.0)",
          "day": "Sat",
          "total_bill": 30.06
         },
         {
          "c": "rgb(44.0, 160.0, 44.0)",
          "day": "Sat",
          "total_bill": 25.89
         },
         {
          "c": "rgb(44.0, 160.0, 44.0)",
          "day": "Sat",
          "total_bill": 48.33
         },
         {
          "c": "rgb(44.0, 160.0, 44.0)",
          "day": "Sat",
          "total_bill": 13.27
         },
         {
          "c": "rgb(44.0, 160.0, 44.0)",
          "day": "Sat",
          "total_bill": 28.17
         },
         {
          "c": "rgb(44.0, 160.0, 44.0)",
          "day": "Sat",
          "total_bill": 12.9
         },
         {
          "c": "rgb(44.0, 160.0, 44.0)",
          "day": "Sat",
          "total_bill": 28.15
         },
         {
          "c": "rgb(44.0, 160.0, 44.0)",
          "day": "Sat",
          "total_bill": 11.59
         },
         {
          "c": "rgb(44.0, 160.0, 44.0)",
          "day": "Sat",
          "total_bill": 7.74
         },
         {
          "c": "rgb(44.0, 160.0, 44.0)",
          "day": "Sat",
          "total_bill": 30.14
         },
         {
          "c": "rgb(44.0, 160.0, 44.0)",
          "day": "Sat",
          "total_bill": 20.45
         },
         {
          "c": "rgb(44.0, 160.0, 44.0)",
          "day": "Sat",
          "total_bill": 13.28
         },
         {
          "c": "rgb(44.0, 160.0, 44.0)",
          "day": "Sat",
          "total_bill": 22.12
         },
         {
          "c": "rgb(44.0, 160.0, 44.0)",
          "day": "Sat",
          "total_bill": 24.01
         },
         {
          "c": "rgb(44.0, 160.0, 44.0)",
          "day": "Sat",
          "total_bill": 15.69
         },
         {
          "c": "rgb(44.0, 160.0, 44.0)",
          "day": "Sat",
          "total_bill": 11.61
         },
         {
          "c": "rgb(44.0, 160.0, 44.0)",
          "day": "Sat",
          "total_bill": 10.77
         },
         {
          "c": "rgb(44.0, 160.0, 44.0)",
          "day": "Sat",
          "total_bill": 15.53
         },
         {
          "c": "rgb(44.0, 160.0, 44.0)",
          "day": "Sat",
          "total_bill": 10.07
         },
         {
          "c": "rgb(44.0, 160.0, 44.0)",
          "day": "Sat",
          "total_bill": 12.6
         },
         {
          "c": "rgb(44.0, 160.0, 44.0)",
          "day": "Sat",
          "total_bill": 32.83
         },
         {
          "c": "rgb(44.0, 160.0, 44.0)",
          "day": "Sat",
          "total_bill": 35.83
         },
         {
          "c": "rgb(44.0, 160.0, 44.0)",
          "day": "Sat",
          "total_bill": 29.03
         },
         {
          "c": "rgb(44.0, 160.0, 44.0)",
          "day": "Sat",
          "total_bill": 27.18
         },
         {
          "c": "rgb(44.0, 160.0, 44.0)",
          "day": "Sat",
          "total_bill": 22.67
         },
         {
          "c": "rgb(44.0, 160.0, 44.0)",
          "day": "Sat",
          "total_bill": 17.82
         },
         {
          "c": "rgb(214.0, 39.0, 40.0)",
          "day": "Sun",
          "total_bill": 16.99
         },
         {
          "c": "rgb(214.0, 39.0, 40.0)",
          "day": "Sun",
          "total_bill": 10.34
         },
         {
          "c": "rgb(214.0, 39.0, 40.0)",
          "day": "Sun",
          "total_bill": 21.01
         },
         {
          "c": "rgb(214.0, 39.0, 40.0)",
          "day": "Sun",
          "total_bill": 23.68
         },
         {
          "c": "rgb(214.0, 39.0, 40.0)",
          "day": "Sun",
          "total_bill": 24.59
         },
         {
          "c": "rgb(214.0, 39.0, 40.0)",
          "day": "Sun",
          "total_bill": 25.29
         },
         {
          "c": "rgb(214.0, 39.0, 40.0)",
          "day": "Sun",
          "total_bill": 8.77
         },
         {
          "c": "rgb(214.0, 39.0, 40.0)",
          "day": "Sun",
          "total_bill": 26.88
         },
         {
          "c": "rgb(214.0, 39.0, 40.0)",
          "day": "Sun",
          "total_bill": 15.04
         },
         {
          "c": "rgb(214.0, 39.0, 40.0)",
          "day": "Sun",
          "total_bill": 14.78
         },
         {
          "c": "rgb(214.0, 39.0, 40.0)",
          "day": "Sun",
          "total_bill": 10.27
         },
         {
          "c": "rgb(214.0, 39.0, 40.0)",
          "day": "Sun",
          "total_bill": 35.26
         },
         {
          "c": "rgb(214.0, 39.0, 40.0)",
          "day": "Sun",
          "total_bill": 15.42
         },
         {
          "c": "rgb(214.0, 39.0, 40.0)",
          "day": "Sun",
          "total_bill": 18.43
         },
         {
          "c": "rgb(214.0, 39.0, 40.0)",
          "day": "Sun",
          "total_bill": 14.83
         },
         {
          "c": "rgb(214.0, 39.0, 40.0)",
          "day": "Sun",
          "total_bill": 21.58
         },
         {
          "c": "rgb(214.0, 39.0, 40.0)",
          "day": "Sun",
          "total_bill": 10.33
         },
         {
          "c": "rgb(214.0, 39.0, 40.0)",
          "day": "Sun",
          "total_bill": 16.29
         },
         {
          "c": "rgb(214.0, 39.0, 40.0)",
          "day": "Sun",
          "total_bill": 16.97
         },
         {
          "c": "rgb(214.0, 39.0, 40.0)",
          "day": "Sun",
          "total_bill": 17.46
         },
         {
          "c": "rgb(214.0, 39.0, 40.0)",
          "day": "Sun",
          "total_bill": 13.94
         },
         {
          "c": "rgb(214.0, 39.0, 40.0)",
          "day": "Sun",
          "total_bill": 9.68
         },
         {
          "c": "rgb(214.0, 39.0, 40.0)",
          "day": "Sun",
          "total_bill": 30.4
         },
         {
          "c": "rgb(214.0, 39.0, 40.0)",
          "day": "Sun",
          "total_bill": 18.29
         },
         {
          "c": "rgb(214.0, 39.0, 40.0)",
          "day": "Sun",
          "total_bill": 22.23
         },
         {
          "c": "rgb(214.0, 39.0, 40.0)",
          "day": "Sun",
          "total_bill": 32.4
         },
         {
          "c": "rgb(214.0, 39.0, 40.0)",
          "day": "Sun",
          "total_bill": 28.55
         },
         {
          "c": "rgb(214.0, 39.0, 40.0)",
          "day": "Sun",
          "total_bill": 18.04
         },
         {
          "c": "rgb(214.0, 39.0, 40.0)",
          "day": "Sun",
          "total_bill": 12.54
         },
         {
          "c": "rgb(214.0, 39.0, 40.0)",
          "day": "Sun",
          "total_bill": 10.29
         },
         {
          "c": "rgb(214.0, 39.0, 40.0)",
          "day": "Sun",
          "total_bill": 34.81
         },
         {
          "c": "rgb(214.0, 39.0, 40.0)",
          "day": "Sun",
          "total_bill": 9.94
         },
         {
          "c": "rgb(214.0, 39.0, 40.0)",
          "day": "Sun",
          "total_bill": 25.56
         },
         {
          "c": "rgb(214.0, 39.0, 40.0)",
          "day": "Sun",
          "total_bill": 19.49
         },
         {
          "c": "rgb(214.0, 39.0, 40.0)",
          "day": "Sun",
          "total_bill": 38.07
         },
         {
          "c": "rgb(214.0, 39.0, 40.0)",
          "day": "Sun",
          "total_bill": 23.95
         },
         {
          "c": "rgb(214.0, 39.0, 40.0)",
          "day": "Sun",
          "total_bill": 25.71
         },
         {
          "c": "rgb(214.0, 39.0, 40.0)",
          "day": "Sun",
          "total_bill": 17.31
         },
         {
          "c": "rgb(214.0, 39.0, 40.0)",
          "day": "Sun",
          "total_bill": 29.93
         },
         {
          "c": "rgb(214.0, 39.0, 40.0)",
          "day": "Sun",
          "total_bill": 14.07
         },
         {
          "c": "rgb(214.0, 39.0, 40.0)",
          "day": "Sun",
          "total_bill": 13.13
         },
         {
          "c": "rgb(214.0, 39.0, 40.0)",
          "day": "Sun",
          "total_bill": 17.26
         },
         {
          "c": "rgb(214.0, 39.0, 40.0)",
          "day": "Sun",
          "total_bill": 24.55
         },
         {
          "c": "rgb(214.0, 39.0, 40.0)",
          "day": "Sun",
          "total_bill": 19.77
         },
         {
          "c": "rgb(214.0, 39.0, 40.0)",
          "day": "Sun",
          "total_bill": 29.85
         },
         {
          "c": "rgb(214.0, 39.0, 40.0)",
          "day": "Sun",
          "total_bill": 48.17
         },
         {
          "c": "rgb(214.0, 39.0, 40.0)",
          "day": "Sun",
          "total_bill": 25
         },
         {
          "c": "rgb(214.0, 39.0, 40.0)",
          "day": "Sun",
          "total_bill": 13.39
         },
         {
          "c": "rgb(214.0, 39.0, 40.0)",
          "day": "Sun",
          "total_bill": 16.49
         },
         {
          "c": "rgb(214.0, 39.0, 40.0)",
          "day": "Sun",
          "total_bill": 21.5
         },
         {
          "c": "rgb(214.0, 39.0, 40.0)",
          "day": "Sun",
          "total_bill": 12.66
         },
         {
          "c": "rgb(214.0, 39.0, 40.0)",
          "day": "Sun",
          "total_bill": 16.21
         },
         {
          "c": "rgb(214.0, 39.0, 40.0)",
          "day": "Sun",
          "total_bill": 13.81
         },
         {
          "c": "rgb(214.0, 39.0, 40.0)",
          "day": "Sun",
          "total_bill": 17.51
         },
         {
          "c": "rgb(214.0, 39.0, 40.0)",
          "day": "Sun",
          "total_bill": 24.52
         },
         {
          "c": "rgb(214.0, 39.0, 40.0)",
          "day": "Sun",
          "total_bill": 20.76
         },
         {
          "c": "rgb(214.0, 39.0, 40.0)",
          "day": "Sun",
          "total_bill": 31.71
         },
         {
          "c": "rgb(214.0, 39.0, 40.0)",
          "day": "Sun",
          "total_bill": 7.25
         },
         {
          "c": "rgb(214.0, 39.0, 40.0)",
          "day": "Sun",
          "total_bill": 31.85
         },
         {
          "c": "rgb(214.0, 39.0, 40.0)",
          "day": "Sun",
          "total_bill": 16.82
         },
         {
          "c": "rgb(214.0, 39.0, 40.0)",
          "day": "Sun",
          "total_bill": 32.9
         },
         {
          "c": "rgb(214.0, 39.0, 40.0)",
          "day": "Sun",
          "total_bill": 17.89
         },
         {
          "c": "rgb(214.0, 39.0, 40.0)",
          "day": "Sun",
          "total_bill": 14.48
         },
         {
          "c": "rgb(214.0, 39.0, 40.0)",
          "day": "Sun",
          "total_bill": 9.6
         },
         {
          "c": "rgb(214.0, 39.0, 40.0)",
          "day": "Sun",
          "total_bill": 34.63
         },
         {
          "c": "rgb(214.0, 39.0, 40.0)",
          "day": "Sun",
          "total_bill": 34.65
         },
         {
          "c": "rgb(214.0, 39.0, 40.0)",
          "day": "Sun",
          "total_bill": 23.33
         },
         {
          "c": "rgb(214.0, 39.0, 40.0)",
          "day": "Sun",
          "total_bill": 45.35
         },
         {
          "c": "rgb(214.0, 39.0, 40.0)",
          "day": "Sun",
          "total_bill": 23.17
         },
         {
          "c": "rgb(214.0, 39.0, 40.0)",
          "day": "Sun",
          "total_bill": 40.55
         },
         {
          "c": "rgb(214.0, 39.0, 40.0)",
          "day": "Sun",
          "total_bill": 20.69
         },
         {
          "c": "rgb(214.0, 39.0, 40.0)",
          "day": "Sun",
          "total_bill": 20.9
         },
         {
          "c": "rgb(214.0, 39.0, 40.0)",
          "day": "Sun",
          "total_bill": 30.46
         },
         {
          "c": "rgb(214.0, 39.0, 40.0)",
          "day": "Sun",
          "total_bill": 18.15
         },
         {
          "c": "rgb(214.0, 39.0, 40.0)",
          "day": "Sun",
          "total_bill": 23.1
         },
         {
          "c": "rgb(214.0, 39.0, 40.0)",
          "day": "Sun",
          "total_bill": 15.69
         }
        ]
       },
       "encoding": {
        "color": {
         "field": "c",
         "scale": null,
         "type": "nominal"
        },
        "x": {
         "axis": {
          "title": "total_bill"
         },
         "field": "total_bill",
         "scale": {
          "zero": false
         },
         "type": "quantitative"
        },
        "y": {
         "axis": {
          "title": "day"
         },
         "field": "day",
         "sort": null,
         "type": "nominal"
        }
       },
       "mark": "circle",
       "selection": {
        "selector006": {
         "bind": "scales",
         "encodings": [
          "x",
          "y"
         ],
         "mark": {
          "fill": "#333",
          "fillOpacity": 0.125,
          "stroke": "white"
         },
         "on": "[mousedown, window:mouseup] > window:mousemove!",
         "resolve": "global",
         "translate": "[mousedown, window:mouseup] > window:mousemove!",
         "type": "interval",
         "zoom": "wheel!"
        }
       }
      },
      "image/png": "[encoded data removed]",
      "text/plain": [
       "<VegaLite 2 object>\n",
       "\n",
       "If you see this message, it means the renderer has not been properly enabled\n",
       "for the frontend that you are using. For more information, see\n",
       "https://altair-viz.github.io/user_guide/troubleshooting.html\n"
      ]
     },
     "metadata": {},
     "output_type": "display_data"
    },
    {
     "data": {
      "image/png": "[encoded data removed]",
      "text/plain": [
       "<Figure size 432x288 with 1 Axes>"
      ]
     },
     "metadata": {},
     "output_type": "display_data"
    }
   ],
   "source": [
    "display(salt.stripplot(x=\"total_bill\", y=\"day\", data=tips, jitter=True, linewidth=1))\n",
    "ax = sns.stripplot(x=\"total_bill\", y=\"day\", data=tips, jitter=True, linewidth=1)"
   ]
  },
  {
   "cell_type": "code",
   "execution_count": 8,
   "metadata": {},
   "outputs": [
    {
     "data": {
      "application/vnd.vegalite.v2+json": {
       "$schema": "https://vega.github.io/schema/vega-lite/v2.4.1.json",
       "config": {
        "view": {
         "height": 300,
         "width": 400
        }
       },
       "data": {
        "values": [
         {
          "c": "rgb(214.0, 39.0, 40.0)",
          "day": "Sun",
          "sex": "Male",
          "total_bill": 10.34
         },
         {
          "c": "rgb(214.0, 39.0, 40.0)",
          "day": "Sun",
          "sex": "Male",
          "total_bill": 21.01
         },
         {
          "c": "rgb(214.0, 39.0, 40.0)",
          "day": "Sun",
          "sex": "Male",
          "total_bill": 23.68
         },
         {
          "c": "rgb(214.0, 39.0, 40.0)",
          "day": "Sun",
          "sex": "Male",
          "total_bill": 25.29
         },
         {
          "c": "rgb(214.0, 39.0, 40.0)",
          "day": "Sun",
          "sex": "Male",
          "total_bill": 8.77
         },
         {
          "c": "rgb(214.0, 39.0, 40.0)",
          "day": "Sun",
          "sex": "Male",
          "total_bill": 26.88
         },
         {
          "c": "rgb(214.0, 39.0, 40.0)",
          "day": "Sun",
          "sex": "Male",
          "total_bill": 15.04
         },
         {
          "c": "rgb(214.0, 39.0, 40.0)",
          "day": "Sun",
          "sex": "Male",
          "total_bill": 14.78
         },
         {
          "c": "rgb(214.0, 39.0, 40.0)",
          "day": "Sun",
          "sex": "Male",
          "total_bill": 10.27
         },
         {
          "c": "rgb(214.0, 39.0, 40.0)",
          "day": "Sun",
          "sex": "Male",
          "total_bill": 15.42
         },
         {
          "c": "rgb(214.0, 39.0, 40.0)",
          "day": "Sun",
          "sex": "Male",
          "total_bill": 18.43
         },
         {
          "c": "rgb(214.0, 39.0, 40.0)",
          "day": "Sun",
          "sex": "Male",
          "total_bill": 21.58
         },
         {
          "c": "rgb(214.0, 39.0, 40.0)",
          "day": "Sun",
          "sex": "Male",
          "total_bill": 16.29
         },
         {
          "c": "rgb(44.0, 160.0, 44.0)",
          "day": "Sat",
          "sex": "Male",
          "total_bill": 20.65
         },
         {
          "c": "rgb(44.0, 160.0, 44.0)",
          "day": "Sat",
          "sex": "Male",
          "total_bill": 17.92
         },
         {
          "c": "rgb(44.0, 160.0, 44.0)",
          "day": "Sat",
          "sex": "Male",
          "total_bill": 39.42
         },
         {
          "c": "rgb(44.0, 160.0, 44.0)",
          "day": "Sat",
          "sex": "Male",
          "total_bill": 19.82
         },
         {
          "c": "rgb(44.0, 160.0, 44.0)",
          "day": "Sat",
          "sex": "Male",
          "total_bill": 17.81
         },
         {
          "c": "rgb(44.0, 160.0, 44.0)",
          "day": "Sat",
          "sex": "Male",
          "total_bill": 13.37
         },
         {
          "c": "rgb(44.0, 160.0, 44.0)",
          "day": "Sat",
          "sex": "Male",
          "total_bill": 12.69
         },
         {
          "c": "rgb(44.0, 160.0, 44.0)",
          "day": "Sat",
          "sex": "Male",
          "total_bill": 21.7
         },
         {
          "c": "rgb(44.0, 160.0, 44.0)",
          "day": "Sat",
          "sex": "Male",
          "total_bill": 9.55
         },
         {
          "c": "rgb(44.0, 160.0, 44.0)",
          "day": "Sat",
          "sex": "Male",
          "total_bill": 18.35
         },
         {
          "c": "rgb(44.0, 160.0, 44.0)",
          "day": "Sat",
          "sex": "Male",
          "total_bill": 17.78
         },
         {
          "c": "rgb(44.0, 160.0, 44.0)",
          "day": "Sat",
          "sex": "Male",
          "total_bill": 24.06
         },
         {
          "c": "rgb(44.0, 160.0, 44.0)",
          "day": "Sat",
          "sex": "Male",
          "total_bill": 16.31
         },
         {
          "c": "rgb(44.0, 160.0, 44.0)",
          "day": "Sat",
          "sex": "Male",
          "total_bill": 18.69
         },
         {
          "c": "rgb(44.0, 160.0, 44.0)",
          "day": "Sat",
          "sex": "Male",
          "total_bill": 31.27
         },
         {
          "c": "rgb(44.0, 160.0, 44.0)",
          "day": "Sat",
          "sex": "Male",
          "total_bill": 16.04
         },
         {
          "c": "rgb(214.0, 39.0, 40.0)",
          "day": "Sun",
          "sex": "Male",
          "total_bill": 17.46
         },
         {
          "c": "rgb(214.0, 39.0, 40.0)",
          "day": "Sun",
          "sex": "Male",
          "total_bill": 13.94
         },
         {
          "c": "rgb(214.0, 39.0, 40.0)",
          "day": "Sun",
          "sex": "Male",
          "total_bill": 9.68
         },
         {
          "c": "rgb(214.0, 39.0, 40.0)",
          "day": "Sun",
          "sex": "Male",
          "total_bill": 30.4
         },
         {
          "c": "rgb(214.0, 39.0, 40.0)",
          "day": "Sun",
          "sex": "Male",
          "total_bill": 18.29
         },
         {
          "c": "rgb(214.0, 39.0, 40.0)",
          "day": "Sun",
          "sex": "Male",
          "total_bill": 22.23
         },
         {
          "c": "rgb(214.0, 39.0, 40.0)",
          "day": "Sun",
          "sex": "Male",
          "total_bill": 32.4
         },
         {
          "c": "rgb(214.0, 39.0, 40.0)",
          "day": "Sun",
          "sex": "Male",
          "total_bill": 28.55
         },
         {
          "c": "rgb(214.0, 39.0, 40.0)",
          "day": "Sun",
          "sex": "Male",
          "total_bill": 18.04
         },
         {
          "c": "rgb(214.0, 39.0, 40.0)",
          "day": "Sun",
          "sex": "Male",
          "total_bill": 12.54
         },
         {
          "c": "rgb(214.0, 39.0, 40.0)",
          "day": "Sun",
          "sex": "Male",
          "total_bill": 9.94
         },
         {
          "c": "rgb(214.0, 39.0, 40.0)",
          "day": "Sun",
          "sex": "Male",
          "total_bill": 25.56
         },
         {
          "c": "rgb(214.0, 39.0, 40.0)",
          "day": "Sun",
          "sex": "Male",
          "total_bill": 19.49
         },
         {
          "c": "rgb(44.0, 160.0, 44.0)",
          "day": "Sat",
          "sex": "Male",
          "total_bill": 38.01
         },
         {
          "c": "rgb(44.0, 160.0, 44.0)",
          "day": "Sat",
          "sex": "Male",
          "total_bill": 11.24
         },
         {
          "c": "rgb(44.0, 160.0, 44.0)",
          "day": "Sat",
          "sex": "Male",
          "total_bill": 48.27
         },
         {
          "c": "rgb(44.0, 160.0, 44.0)",
          "day": "Sat",
          "sex": "Male",
          "total_bill": 20.29
         },
         {
          "c": "rgb(44.0, 160.0, 44.0)",
          "day": "Sat",
          "sex": "Male",
          "total_bill": 13.81
         },
         {
          "c": "rgb(44.0, 160.0, 44.0)",
          "day": "Sat",
          "sex": "Male",
          "total_bill": 11.02
         },
         {
          "c": "rgb(44.0, 160.0, 44.0)",
          "day": "Sat",
          "sex": "Male",
          "total_bill": 18.29
         },
         {
          "c": "rgb(44.0, 160.0, 44.0)",
          "day": "Sat",
          "sex": "Male",
          "total_bill": 17.59
         },
         {
          "c": "rgb(44.0, 160.0, 44.0)",
          "day": "Sat",
          "sex": "Male",
          "total_bill": 20.08
         },
         {
          "c": "rgb(44.0, 160.0, 44.0)",
          "day": "Sat",
          "sex": "Male",
          "total_bill": 20.23
         },
         {
          "c": "rgb(44.0, 160.0, 44.0)",
          "day": "Sat",
          "sex": "Male",
          "total_bill": 15.01
         },
         {
          "c": "rgb(44.0, 160.0, 44.0)",
          "day": "Sat",
          "sex": "Male",
          "total_bill": 12.02
         },
         {
          "c": "rgb(44.0, 160.0, 44.0)",
          "day": "Sat",
          "sex": "Male",
          "total_bill": 10.51
         },
         {
          "c": "rgb(44.0, 160.0, 44.0)",
          "day": "Sat",
          "sex": "Male",
          "total_bill": 17.92
         },
         {
          "c": "rgb(31.0, 119.0, 180.0)",
          "day": "Thur",
          "sex": "Male",
          "total_bill": 27.2
         },
         {
          "c": "rgb(31.0, 119.0, 180.0)",
          "day": "Thur",
          "sex": "Male",
          "total_bill": 22.76
         },
         {
          "c": "rgb(31.0, 119.0, 180.0)",
          "day": "Thur",
          "sex": "Male",
          "total_bill": 17.29
         },
         {
          "c": "rgb(31.0, 119.0, 180.0)",
          "day": "Thur",
          "sex": "Male",
          "total_bill": 19.44
         },
         {
          "c": "rgb(31.0, 119.0, 180.0)",
          "day": "Thur",
          "sex": "Male",
          "total_bill": 16.66
         },
         {
          "c": "rgb(31.0, 119.0, 180.0)",
          "day": "Thur",
          "sex": "Male",
          "total_bill": 32.68
         },
         {
          "c": "rgb(31.0, 119.0, 180.0)",
          "day": "Thur",
          "sex": "Male",
          "total_bill": 15.98
         },
         {
          "c": "rgb(31.0, 119.0, 180.0)",
          "day": "Thur",
          "sex": "Male",
          "total_bill": 13.03
         },
         {
          "c": "rgb(31.0, 119.0, 180.0)",
          "day": "Thur",
          "sex": "Male",
          "total_bill": 18.28
         },
         {
          "c": "rgb(31.0, 119.0, 180.0)",
          "day": "Thur",
          "sex": "Male",
          "total_bill": 24.71
         },
         {
          "c": "rgb(31.0, 119.0, 180.0)",
          "day": "Thur",
          "sex": "Male",
          "total_bill": 21.16
         },
         {
          "c": "rgb(255.0, 127.0, 14.0)",
          "day": "Fri",
          "sex": "Male",
          "total_bill": 28.97
         },
         {
          "c": "rgb(255.0, 127.0, 14.0)",
          "day": "Fri",
          "sex": "Male",
          "total_bill": 22.49
         },
         {
          "c": "rgb(255.0, 127.0, 14.0)",
          "day": "Fri",
          "sex": "Male",
          "total_bill": 40.17
         },
         {
          "c": "rgb(255.0, 127.0, 14.0)",
          "day": "Fri",
          "sex": "Male",
          "total_bill": 27.28
         },
         {
          "c": "rgb(255.0, 127.0, 14.0)",
          "day": "Fri",
          "sex": "Male",
          "total_bill": 12.03
         },
         {
          "c": "rgb(255.0, 127.0, 14.0)",
          "day": "Fri",
          "sex": "Male",
          "total_bill": 21.01
         },
         {
          "c": "rgb(255.0, 127.0, 14.0)",
          "day": "Fri",
          "sex": "Male",
          "total_bill": 12.46
         },
         {
          "c": "rgb(44.0, 160.0, 44.0)",
          "day": "Sat",
          "sex": "Male",
          "total_bill": 15.36
         },
         {
          "c": "rgb(44.0, 160.0, 44.0)",
          "day": "Sat",
          "sex": "Male",
          "total_bill": 20.49
         },
         {
          "c": "rgb(44.0, 160.0, 44.0)",
          "day": "Sat",
          "sex": "Male",
          "total_bill": 25.21
         },
         {
          "c": "rgb(44.0, 160.0, 44.0)",
          "day": "Sat",
          "sex": "Male",
          "total_bill": 18.24
         },
         {
          "c": "rgb(44.0, 160.0, 44.0)",
          "day": "Sat",
          "sex": "Male",
          "total_bill": 14
         },
         {
          "c": "rgb(214.0, 39.0, 40.0)",
          "day": "Sun",
          "sex": "Male",
          "total_bill": 38.07
         },
         {
          "c": "rgb(214.0, 39.0, 40.0)",
          "day": "Sun",
          "sex": "Male",
          "total_bill": 23.95
         },
         {
          "c": "rgb(214.0, 39.0, 40.0)",
          "day": "Sun",
          "sex": "Male",
          "total_bill": 29.93
         },
         {
          "c": "rgb(31.0, 119.0, 180.0)",
          "day": "Thur",
          "sex": "Male",
          "total_bill": 11.69
         },
         {
          "c": "rgb(31.0, 119.0, 180.0)",
          "day": "Thur",
          "sex": "Male",
          "total_bill": 14.26
         },
         {
          "c": "rgb(31.0, 119.0, 180.0)",
          "day": "Thur",
          "sex": "Male",
          "total_bill": 15.95
         },
         {
          "c": "rgb(31.0, 119.0, 180.0)",
          "day": "Thur",
          "sex": "Male",
          "total_bill": 8.52
         },
         {
          "c": "rgb(31.0, 119.0, 180.0)",
          "day": "Thur",
          "sex": "Male",
          "total_bill": 22.82
         },
         {
          "c": "rgb(31.0, 119.0, 180.0)",
          "day": "Thur",
          "sex": "Male",
          "total_bill": 19.08
         },
         {
          "c": "rgb(31.0, 119.0, 180.0)",
          "day": "Thur",
          "sex": "Male",
          "total_bill": 16
         },
         {
          "c": "rgb(31.0, 119.0, 180.0)",
          "day": "Thur",
          "sex": "Male",
          "total_bill": 34.3
         },
         {
          "c": "rgb(31.0, 119.0, 180.0)",
          "day": "Thur",
          "sex": "Male",
          "total_bill": 41.19
         },
         {
          "c": "rgb(31.0, 119.0, 180.0)",
          "day": "Thur",
          "sex": "Male",
          "total_bill": 9.78
         },
         {
          "c": "rgb(31.0, 119.0, 180.0)",
          "day": "Thur",
          "sex": "Male",
          "total_bill": 7.51
         },
         {
          "c": "rgb(214.0, 39.0, 40.0)",
          "day": "Sun",
          "sex": "Male",
          "total_bill": 14.07
         },
         {
          "c": "rgb(214.0, 39.0, 40.0)",
          "day": "Sun",
          "sex": "Male",
          "total_bill": 13.13
         },
         {
          "c": "rgb(214.0, 39.0, 40.0)",
          "day": "Sun",
          "sex": "Male",
          "total_bill": 17.26
         },
         {
          "c": "rgb(214.0, 39.0, 40.0)",
          "day": "Sun",
          "sex": "Male",
          "total_bill": 24.55
         },
         {
          "c": "rgb(214.0, 39.0, 40.0)",
          "day": "Sun",
          "sex": "Male",
          "total_bill": 19.77
         },
         {
          "c": "rgb(214.0, 39.0, 40.0)",
          "day": "Sun",
          "sex": "Male",
          "total_bill": 48.17
         },
         {
          "c": "rgb(214.0, 39.0, 40.0)",
          "day": "Sun",
          "sex": "Male",
          "total_bill": 16.49
         },
         {
          "c": "rgb(214.0, 39.0, 40.0)",
          "day": "Sun",
          "sex": "Male",
          "total_bill": 21.5
         },
         {
          "c": "rgb(214.0, 39.0, 40.0)",
          "day": "Sun",
          "sex": "Male",
          "total_bill": 12.66
         },
         {
          "c": "rgb(214.0, 39.0, 40.0)",
          "day": "Sun",
          "sex": "Male",
          "total_bill": 13.81
         },
         {
          "c": "rgb(214.0, 39.0, 40.0)",
          "day": "Sun",
          "sex": "Male",
          "total_bill": 24.52
         },
         {
          "c": "rgb(214.0, 39.0, 40.0)",
          "day": "Sun",
          "sex": "Male",
          "total_bill": 20.76
         },
         {
          "c": "rgb(214.0, 39.0, 40.0)",
          "day": "Sun",
          "sex": "Male",
          "total_bill": 31.71
         },
         {
          "c": "rgb(44.0, 160.0, 44.0)",
          "day": "Sat",
          "sex": "Male",
          "total_bill": 50.81
         },
         {
          "c": "rgb(44.0, 160.0, 44.0)",
          "day": "Sat",
          "sex": "Male",
          "total_bill": 15.81
         },
         {
          "c": "rgb(214.0, 39.0, 40.0)",
          "day": "Sun",
          "sex": "Male",
          "total_bill": 7.25
         },
         {
          "c": "rgb(214.0, 39.0, 40.0)",
          "day": "Sun",
          "sex": "Male",
          "total_bill": 31.85
         },
         {
          "c": "rgb(214.0, 39.0, 40.0)",
          "day": "Sun",
          "sex": "Male",
          "total_bill": 16.82
         },
         {
          "c": "rgb(214.0, 39.0, 40.0)",
          "day": "Sun",
          "sex": "Male",
          "total_bill": 32.9
         },
         {
          "c": "rgb(214.0, 39.0, 40.0)",
          "day": "Sun",
          "sex": "Male",
          "total_bill": 17.89
         },
         {
          "c": "rgb(214.0, 39.0, 40.0)",
          "day": "Sun",
          "sex": "Male",
          "total_bill": 14.48
         },
         {
          "c": "rgb(214.0, 39.0, 40.0)",
          "day": "Sun",
          "sex": "Male",
          "total_bill": 34.63
         },
         {
          "c": "rgb(214.0, 39.0, 40.0)",
          "day": "Sun",
          "sex": "Male",
          "total_bill": 34.65
         },
         {
          "c": "rgb(214.0, 39.0, 40.0)",
          "day": "Sun",
          "sex": "Male",
          "total_bill": 23.33
         },
         {
          "c": "rgb(214.0, 39.0, 40.0)",
          "day": "Sun",
          "sex": "Male",
          "total_bill": 45.35
         },
         {
          "c": "rgb(214.0, 39.0, 40.0)",
          "day": "Sun",
          "sex": "Male",
          "total_bill": 23.17
         },
         {
          "c": "rgb(214.0, 39.0, 40.0)",
          "day": "Sun",
          "sex": "Male",
          "total_bill": 40.55
         },
         {
          "c": "rgb(214.0, 39.0, 40.0)",
          "day": "Sun",
          "sex": "Male",
          "total_bill": 20.69
         },
         {
          "c": "rgb(214.0, 39.0, 40.0)",
          "day": "Sun",
          "sex": "Male",
          "total_bill": 30.46
         },
         {
          "c": "rgb(214.0, 39.0, 40.0)",
          "day": "Sun",
          "sex": "Male",
          "total_bill": 23.1
         },
         {
          "c": "rgb(214.0, 39.0, 40.0)",
          "day": "Sun",
          "sex": "Male",
          "total_bill": 15.69
         },
         {
          "c": "rgb(31.0, 119.0, 180.0)",
          "day": "Thur",
          "sex": "Male",
          "total_bill": 28.44
         },
         {
          "c": "rgb(31.0, 119.0, 180.0)",
          "day": "Thur",
          "sex": "Male",
          "total_bill": 15.48
         },
         {
          "c": "rgb(31.0, 119.0, 180.0)",
          "day": "Thur",
          "sex": "Male",
          "total_bill": 16.58
         },
         {
          "c": "rgb(31.0, 119.0, 180.0)",
          "day": "Thur",
          "sex": "Male",
          "total_bill": 7.56
         },
         {
          "c": "rgb(31.0, 119.0, 180.0)",
          "day": "Thur",
          "sex": "Male",
          "total_bill": 10.34
         },
         {
          "c": "rgb(31.0, 119.0, 180.0)",
          "day": "Thur",
          "sex": "Male",
          "total_bill": 13.51
         },
         {
          "c": "rgb(31.0, 119.0, 180.0)",
          "day": "Thur",
          "sex": "Male",
          "total_bill": 18.71
         },
         {
          "c": "rgb(31.0, 119.0, 180.0)",
          "day": "Thur",
          "sex": "Male",
          "total_bill": 20.53
         },
         {
          "c": "rgb(44.0, 160.0, 44.0)",
          "day": "Sat",
          "sex": "Male",
          "total_bill": 26.59
         },
         {
          "c": "rgb(44.0, 160.0, 44.0)",
          "day": "Sat",
          "sex": "Male",
          "total_bill": 38.73
         },
         {
          "c": "rgb(44.0, 160.0, 44.0)",
          "day": "Sat",
          "sex": "Male",
          "total_bill": 24.27
         },
         {
          "c": "rgb(44.0, 160.0, 44.0)",
          "day": "Sat",
          "sex": "Male",
          "total_bill": 30.06
         },
         {
          "c": "rgb(44.0, 160.0, 44.0)",
          "day": "Sat",
          "sex": "Male",
          "total_bill": 25.89
         },
         {
          "c": "rgb(44.0, 160.0, 44.0)",
          "day": "Sat",
          "sex": "Male",
          "total_bill": 48.33
         },
         {
          "c": "rgb(44.0, 160.0, 44.0)",
          "day": "Sat",
          "sex": "Male",
          "total_bill": 28.15
         },
         {
          "c": "rgb(44.0, 160.0, 44.0)",
          "day": "Sat",
          "sex": "Male",
          "total_bill": 11.59
         },
         {
          "c": "rgb(44.0, 160.0, 44.0)",
          "day": "Sat",
          "sex": "Male",
          "total_bill": 7.74
         },
         {
          "c": "rgb(255.0, 127.0, 14.0)",
          "day": "Fri",
          "sex": "Male",
          "total_bill": 12.16
         },
         {
          "c": "rgb(255.0, 127.0, 14.0)",
          "day": "Fri",
          "sex": "Male",
          "total_bill": 8.58
         },
         {
          "c": "rgb(255.0, 127.0, 14.0)",
          "day": "Fri",
          "sex": "Male",
          "total_bill": 13.42
         },
         {
          "c": "rgb(44.0, 160.0, 44.0)",
          "day": "Sat",
          "sex": "Male",
          "total_bill": 20.45
         },
         {
          "c": "rgb(44.0, 160.0, 44.0)",
          "day": "Sat",
          "sex": "Male",
          "total_bill": 13.28
         },
         {
          "c": "rgb(44.0, 160.0, 44.0)",
          "day": "Sat",
          "sex": "Male",
          "total_bill": 24.01
         },
         {
          "c": "rgb(44.0, 160.0, 44.0)",
          "day": "Sat",
          "sex": "Male",
          "total_bill": 15.69
         },
         {
          "c": "rgb(44.0, 160.0, 44.0)",
          "day": "Sat",
          "sex": "Male",
          "total_bill": 11.61
         },
         {
          "c": "rgb(44.0, 160.0, 44.0)",
          "day": "Sat",
          "sex": "Male",
          "total_bill": 10.77
         },
         {
          "c": "rgb(44.0, 160.0, 44.0)",
          "day": "Sat",
          "sex": "Male",
          "total_bill": 15.53
         },
         {
          "c": "rgb(44.0, 160.0, 44.0)",
          "day": "Sat",
          "sex": "Male",
          "total_bill": 10.07
         },
         {
          "c": "rgb(44.0, 160.0, 44.0)",
          "day": "Sat",
          "sex": "Male",
          "total_bill": 12.6
         },
         {
          "c": "rgb(44.0, 160.0, 44.0)",
          "day": "Sat",
          "sex": "Male",
          "total_bill": 32.83
         },
         {
          "c": "rgb(44.0, 160.0, 44.0)",
          "day": "Sat",
          "sex": "Male",
          "total_bill": 29.03
         },
         {
          "c": "rgb(44.0, 160.0, 44.0)",
          "day": "Sat",
          "sex": "Male",
          "total_bill": 22.67
         },
         {
          "c": "rgb(44.0, 160.0, 44.0)",
          "day": "Sat",
          "sex": "Male",
          "total_bill": 17.82
         },
         {
          "c": "rgb(214.0, 39.0, 40.0)",
          "day": "Sun",
          "sex": "Female",
          "total_bill": 16.99
         },
         {
          "c": "rgb(214.0, 39.0, 40.0)",
          "day": "Sun",
          "sex": "Female",
          "total_bill": 24.59
         },
         {
          "c": "rgb(214.0, 39.0, 40.0)",
          "day": "Sun",
          "sex": "Female",
          "total_bill": 35.26
         },
         {
          "c": "rgb(214.0, 39.0, 40.0)",
          "day": "Sun",
          "sex": "Female",
          "total_bill": 14.83
         },
         {
          "c": "rgb(214.0, 39.0, 40.0)",
          "day": "Sun",
          "sex": "Female",
          "total_bill": 10.33
         },
         {
          "c": "rgb(214.0, 39.0, 40.0)",
          "day": "Sun",
          "sex": "Female",
          "total_bill": 16.97
         },
         {
          "c": "rgb(44.0, 160.0, 44.0)",
          "day": "Sat",
          "sex": "Female",
          "total_bill": 20.29
         },
         {
          "c": "rgb(44.0, 160.0, 44.0)",
          "day": "Sat",
          "sex": "Female",
          "total_bill": 15.77
         },
         {
          "c": "rgb(44.0, 160.0, 44.0)",
          "day": "Sat",
          "sex": "Female",
          "total_bill": 19.65
         },
         {
          "c": "rgb(44.0, 160.0, 44.0)",
          "day": "Sat",
          "sex": "Female",
          "total_bill": 15.06
         },
         {
          "c": "rgb(44.0, 160.0, 44.0)",
          "day": "Sat",
          "sex": "Female",
          "total_bill": 20.69
         },
         {
          "c": "rgb(44.0, 160.0, 44.0)",
          "day": "Sat",
          "sex": "Female",
          "total_bill": 16.93
         },
         {
          "c": "rgb(214.0, 39.0, 40.0)",
          "day": "Sun",
          "sex": "Female",
          "total_bill": 10.29
         },
         {
          "c": "rgb(214.0, 39.0, 40.0)",
          "day": "Sun",
          "sex": "Female",
          "total_bill": 34.81
         },
         {
          "c": "rgb(44.0, 160.0, 44.0)",
          "day": "Sat",
          "sex": "Female",
          "total_bill": 26.41
         },
         {
          "c": "rgb(44.0, 160.0, 44.0)",
          "day": "Sat",
          "sex": "Female",
          "total_bill": 16.45
         },
         {
          "c": "rgb(44.0, 160.0, 44.0)",
          "day": "Sat",
          "sex": "Female",
          "total_bill": 3.07
         },
         {
          "c": "rgb(44.0, 160.0, 44.0)",
          "day": "Sat",
          "sex": "Female",
          "total_bill": 17.07
         },
         {
          "c": "rgb(44.0, 160.0, 44.0)",
          "day": "Sat",
          "sex": "Female",
          "total_bill": 26.86
         },
         {
          "c": "rgb(44.0, 160.0, 44.0)",
          "day": "Sat",
          "sex": "Female",
          "total_bill": 25.28
         },
         {
          "c": "rgb(44.0, 160.0, 44.0)",
          "day": "Sat",
          "sex": "Female",
          "total_bill": 14.73
         },
         {
          "c": "rgb(31.0, 119.0, 180.0)",
          "day": "Thur",
          "sex": "Female",
          "total_bill": 10.07
         },
         {
          "c": "rgb(31.0, 119.0, 180.0)",
          "day": "Thur",
          "sex": "Female",
          "total_bill": 34.83
         },
         {
          "c": "rgb(255.0, 127.0, 14.0)",
          "day": "Fri",
          "sex": "Female",
          "total_bill": 5.75
         },
         {
          "c": "rgb(255.0, 127.0, 14.0)",
          "day": "Fri",
          "sex": "Female",
          "total_bill": 16.32
         },
         {
          "c": "rgb(255.0, 127.0, 14.0)",
          "day": "Fri",
          "sex": "Female",
          "total_bill": 22.75
         },
         {
          "c": "rgb(255.0, 127.0, 14.0)",
          "day": "Fri",
          "sex": "Female",
          "total_bill": 11.35
         },
         {
          "c": "rgb(255.0, 127.0, 14.0)",
          "day": "Fri",
          "sex": "Female",
          "total_bill": 15.38
         },
         {
          "c": "rgb(44.0, 160.0, 44.0)",
          "day": "Sat",
          "sex": "Female",
          "total_bill": 44.3
         },
         {
          "c": "rgb(44.0, 160.0, 44.0)",
          "day": "Sat",
          "sex": "Female",
          "total_bill": 22.42
         },
         {
          "c": "rgb(44.0, 160.0, 44.0)",
          "day": "Sat",
          "sex": "Female",
          "total_bill": 20.92
         },
         {
          "c": "rgb(44.0, 160.0, 44.0)",
          "day": "Sat",
          "sex": "Female",
          "total_bill": 14.31
         },
         {
          "c": "rgb(44.0, 160.0, 44.0)",
          "day": "Sat",
          "sex": "Female",
          "total_bill": 7.25
         },
         {
          "c": "rgb(214.0, 39.0, 40.0)",
          "day": "Sun",
          "sex": "Female",
          "total_bill": 25.71
         },
         {
          "c": "rgb(214.0, 39.0, 40.0)",
          "day": "Sun",
          "sex": "Female",
          "total_bill": 17.31
         },
         {
          "c": "rgb(31.0, 119.0, 180.0)",
          "day": "Thur",
          "sex": "Female",
          "total_bill": 10.65
         },
         {
          "c": "rgb(31.0, 119.0, 180.0)",
          "day": "Thur",
          "sex": "Female",
          "total_bill": 12.43
         },
         {
          "c": "rgb(31.0, 119.0, 180.0)",
          "day": "Thur",
          "sex": "Female",
          "total_bill": 24.08
         },
         {
          "c": "rgb(31.0, 119.0, 180.0)",
          "day": "Thur",
          "sex": "Female",
          "total_bill": 13.42
         },
         {
          "c": "rgb(31.0, 119.0, 180.0)",
          "day": "Thur",
          "sex": "Female",
          "total_bill": 12.48
         },
         {
          "c": "rgb(31.0, 119.0, 180.0)",
          "day": "Thur",
          "sex": "Female",
          "total_bill": 29.8
         },
         {
          "c": "rgb(31.0, 119.0, 180.0)",
          "day": "Thur",
          "sex": "Female",
          "total_bill": 14.52
         },
         {
          "c": "rgb(31.0, 119.0, 180.0)",
          "day": "Thur",
          "sex": "Female",
          "total_bill": 11.38
         },
         {
          "c": "rgb(31.0, 119.0, 180.0)",
          "day": "Thur",
          "sex": "Female",
          "total_bill": 20.27
         },
         {
          "c": "rgb(31.0, 119.0, 180.0)",
          "day": "Thur",
          "sex": "Female",
          "total_bill": 11.17
         },
         {
          "c": "rgb(31.0, 119.0, 180.0)",
          "day": "Thur",
          "sex": "Female",
          "total_bill": 12.26
         },
         {
          "c": "rgb(31.0, 119.0, 180.0)",
          "day": "Thur",
          "sex": "Female",
          "total_bill": 18.26
         },
         {
          "c": "rgb(31.0, 119.0, 180.0)",
          "day": "Thur",
          "sex": "Female",
          "total_bill": 8.51
         },
         {
          "c": "rgb(31.0, 119.0, 180.0)",
          "day": "Thur",
          "sex": "Female",
          "total_bill": 10.33
         },
         {
          "c": "rgb(31.0, 119.0, 180.0)",
          "day": "Thur",
          "sex": "Female",
          "total_bill": 14.15
         },
         {
          "c": "rgb(31.0, 119.0, 180.0)",
          "day": "Thur",
          "sex": "Female",
          "total_bill": 13.16
         },
         {
          "c": "rgb(31.0, 119.0, 180.0)",
          "day": "Thur",
          "sex": "Female",
          "total_bill": 17.47
         },
         {
          "c": "rgb(31.0, 119.0, 180.0)",
          "day": "Thur",
          "sex": "Female",
          "total_bill": 27.05
         },
         {
          "c": "rgb(31.0, 119.0, 180.0)",
          "day": "Thur",
          "sex": "Female",
          "total_bill": 16.43
         },
         {
          "c": "rgb(31.0, 119.0, 180.0)",
          "day": "Thur",
          "sex": "Female",
          "total_bill": 8.35
         },
         {
          "c": "rgb(31.0, 119.0, 180.0)",
          "day": "Thur",
          "sex": "Female",
          "total_bill": 18.64
         },
         {
          "c": "rgb(31.0, 119.0, 180.0)",
          "day": "Thur",
          "sex": "Female",
          "total_bill": 11.87
         },
         {
          "c": "rgb(214.0, 39.0, 40.0)",
          "day": "Sun",
          "sex": "Female",
          "total_bill": 29.85
         },
         {
          "c": "rgb(214.0, 39.0, 40.0)",
          "day": "Sun",
          "sex": "Female",
          "total_bill": 25
         },
         {
          "c": "rgb(214.0, 39.0, 40.0)",
          "day": "Sun",
          "sex": "Female",
          "total_bill": 13.39
         },
         {
          "c": "rgb(214.0, 39.0, 40.0)",
          "day": "Sun",
          "sex": "Female",
          "total_bill": 16.21
         },
         {
          "c": "rgb(214.0, 39.0, 40.0)",
          "day": "Sun",
          "sex": "Female",
          "total_bill": 17.51
         },
         {
          "c": "rgb(44.0, 160.0, 44.0)",
          "day": "Sat",
          "sex": "Female",
          "total_bill": 10.59
         },
         {
          "c": "rgb(44.0, 160.0, 44.0)",
          "day": "Sat",
          "sex": "Female",
          "total_bill": 10.63
         },
         {
          "c": "rgb(214.0, 39.0, 40.0)",
          "day": "Sun",
          "sex": "Female",
          "total_bill": 9.6
         },
         {
          "c": "rgb(214.0, 39.0, 40.0)",
          "day": "Sun",
          "sex": "Female",
          "total_bill": 20.9
         },
         {
          "c": "rgb(214.0, 39.0, 40.0)",
          "day": "Sun",
          "sex": "Female",
          "total_bill": 18.15
         },
         {
          "c": "rgb(31.0, 119.0, 180.0)",
          "day": "Thur",
          "sex": "Female",
          "total_bill": 19.81
         },
         {
          "c": "rgb(31.0, 119.0, 180.0)",
          "day": "Thur",
          "sex": "Female",
          "total_bill": 43.11
         },
         {
          "c": "rgb(31.0, 119.0, 180.0)",
          "day": "Thur",
          "sex": "Female",
          "total_bill": 13
         },
         {
          "c": "rgb(31.0, 119.0, 180.0)",
          "day": "Thur",
          "sex": "Female",
          "total_bill": 12.74
         },
         {
          "c": "rgb(31.0, 119.0, 180.0)",
          "day": "Thur",
          "sex": "Female",
          "total_bill": 13
         },
         {
          "c": "rgb(31.0, 119.0, 180.0)",
          "day": "Thur",
          "sex": "Female",
          "total_bill": 16.4
         },
         {
          "c": "rgb(31.0, 119.0, 180.0)",
          "day": "Thur",
          "sex": "Female",
          "total_bill": 16.47
         },
         {
          "c": "rgb(44.0, 160.0, 44.0)",
          "day": "Sat",
          "sex": "Female",
          "total_bill": 12.76
         },
         {
          "c": "rgb(44.0, 160.0, 44.0)",
          "day": "Sat",
          "sex": "Female",
          "total_bill": 13.27
         },
         {
          "c": "rgb(44.0, 160.0, 44.0)",
          "day": "Sat",
          "sex": "Female",
          "total_bill": 28.17
         },
         {
          "c": "rgb(44.0, 160.0, 44.0)",
          "day": "Sat",
          "sex": "Female",
          "total_bill": 12.9
         },
         {
          "c": "rgb(44.0, 160.0, 44.0)",
          "day": "Sat",
          "sex": "Female",
          "total_bill": 30.14
         },
         {
          "c": "rgb(255.0, 127.0, 14.0)",
          "day": "Fri",
          "sex": "Female",
          "total_bill": 13.42
         },
         {
          "c": "rgb(255.0, 127.0, 14.0)",
          "day": "Fri",
          "sex": "Female",
          "total_bill": 15.98
         },
         {
          "c": "rgb(255.0, 127.0, 14.0)",
          "day": "Fri",
          "sex": "Female",
          "total_bill": 16.27
         },
         {
          "c": "rgb(255.0, 127.0, 14.0)",
          "day": "Fri",
          "sex": "Female",
          "total_bill": 10.09
         },
         {
          "c": "rgb(44.0, 160.0, 44.0)",
          "day": "Sat",
          "sex": "Female",
          "total_bill": 22.12
         },
         {
          "c": "rgb(44.0, 160.0, 44.0)",
          "day": "Sat",
          "sex": "Female",
          "total_bill": 35.83
         },
         {
          "c": "rgb(44.0, 160.0, 44.0)",
          "day": "Sat",
          "sex": "Female",
          "total_bill": 27.18
         },
         {
          "c": "rgb(31.0, 119.0, 180.0)",
          "day": "Thur",
          "sex": "Female",
          "total_bill": 18.78
         }
        ]
       },
       "encoding": {
        "color": {
         "field": "c",
         "scale": null,
         "type": "nominal"
        },
        "x": {
         "axis": {
          "title": "sex"
         },
         "field": "sex",
         "sort": null,
         "type": "nominal"
        },
        "y": {
         "axis": {
          "title": "total_bill"
         },
         "field": "total_bill",
         "scale": {
          "zero": false
         },
         "type": "quantitative"
        }
       },
       "mark": "circle",
       "selection": {
        "selector007": {
         "bind": "scales",
         "encodings": [
          "x",
          "y"
         ],
         "mark": {
          "fill": "#333",
          "fillOpacity": 0.125,
          "stroke": "white"
         },
         "on": "[mousedown, window:mouseup] > window:mousemove!",
         "resolve": "global",
         "translate": "[mousedown, window:mouseup] > window:mousemove!",
         "type": "interval",
         "zoom": "wheel!"
        }
       }
      },
      "image/png": "[encoded data removed]",
      "text/plain": [
       "<VegaLite 2 object>\n",
       "\n",
       "If you see this message, it means the renderer has not been properly enabled\n",
       "for the frontend that you are using. For more information, see\n",
       "https://altair-viz.github.io/user_guide/troubleshooting.html\n"
      ]
     },
     "metadata": {},
     "output_type": "display_data"
    },
    {
     "data": {
      "image/png": "[encoded data removed]",
      "text/plain": [
       "<Figure size 432x288 with 1 Axes>"
      ]
     },
     "metadata": {},
     "output_type": "display_data"
    }
   ],
   "source": [
    "# TODO: Set up colors as a scale with domain and range instead of using colors directly, to allow correct legend\n",
    "display(salt.stripplot(x=\"sex\", y=\"total_bill\", hue=\"day\", data=tips, jitter=True))\n",
    "ax = sns.stripplot(x=\"sex\", y=\"total_bill\", hue=\"day\", data=tips, jitter=True)"
   ]
  },
  {
   "cell_type": "code",
   "execution_count": 9,
   "metadata": {},
   "outputs": [
    {
     "data": {
      "application/vnd.vegalite.v2+json": {
       "$schema": "https://vega.github.io/schema/vega-lite/v2.4.1.json",
       "config": {
        "view": {
         "height": 300,
         "width": 400
        }
       },
       "data": {
        "values": [
         {
          "c": "rgb(252.0, 141.0, 98.0)",
          "day": "Thur",
          "smoker": "No",
          "total_bill": 27.2
         },
         {
          "c": "rgb(252.0, 141.0, 98.0)",
          "day": "Thur",
          "smoker": "No",
          "total_bill": 22.76
         },
         {
          "c": "rgb(252.0, 141.0, 98.0)",
          "day": "Thur",
          "smoker": "No",
          "total_bill": 17.29
         },
         {
          "c": "rgb(102.0, 194.0, 165.0)",
          "day": "Thur",
          "smoker": "Yes",
          "total_bill": 19.44
         },
         {
          "c": "rgb(252.0, 141.0, 98.0)",
          "day": "Thur",
          "smoker": "No",
          "total_bill": 16.66
         },
         {
          "c": "rgb(252.0, 141.0, 98.0)",
          "day": "Thur",
          "smoker": "No",
          "total_bill": 10.07
         },
         {
          "c": "rgb(102.0, 194.0, 165.0)",
          "day": "Thur",
          "smoker": "Yes",
          "total_bill": 32.68
         },
         {
          "c": "rgb(252.0, 141.0, 98.0)",
          "day": "Thur",
          "smoker": "No",
          "total_bill": 15.98
         },
         {
          "c": "rgb(252.0, 141.0, 98.0)",
          "day": "Thur",
          "smoker": "No",
          "total_bill": 34.83
         },
         {
          "c": "rgb(252.0, 141.0, 98.0)",
          "day": "Thur",
          "smoker": "No",
          "total_bill": 13.03
         },
         {
          "c": "rgb(252.0, 141.0, 98.0)",
          "day": "Thur",
          "smoker": "No",
          "total_bill": 18.28
         },
         {
          "c": "rgb(252.0, 141.0, 98.0)",
          "day": "Thur",
          "smoker": "No",
          "total_bill": 24.71
         },
         {
          "c": "rgb(252.0, 141.0, 98.0)",
          "day": "Thur",
          "smoker": "No",
          "total_bill": 21.16
         },
         {
          "c": "rgb(252.0, 141.0, 98.0)",
          "day": "Thur",
          "smoker": "No",
          "total_bill": 10.65
         },
         {
          "c": "rgb(252.0, 141.0, 98.0)",
          "day": "Thur",
          "smoker": "No",
          "total_bill": 12.43
         },
         {
          "c": "rgb(252.0, 141.0, 98.0)",
          "day": "Thur",
          "smoker": "No",
          "total_bill": 24.08
         },
         {
          "c": "rgb(252.0, 141.0, 98.0)",
          "day": "Thur",
          "smoker": "No",
          "total_bill": 11.69
         },
         {
          "c": "rgb(252.0, 141.0, 98.0)",
          "day": "Thur",
          "smoker": "No",
          "total_bill": 13.42
         },
         {
          "c": "rgb(252.0, 141.0, 98.0)",
          "day": "Thur",
          "smoker": "No",
          "total_bill": 14.26
         },
         {
          "c": "rgb(252.0, 141.0, 98.0)",
          "day": "Thur",
          "smoker": "No",
          "total_bill": 15.95
         },
         {
          "c": "rgb(252.0, 141.0, 98.0)",
          "day": "Thur",
          "smoker": "No",
          "total_bill": 12.48
         },
         {
          "c": "rgb(252.0, 141.0, 98.0)",
          "day": "Thur",
          "smoker": "No",
          "total_bill": 29.8
         },
         {
          "c": "rgb(252.0, 141.0, 98.0)",
          "day": "Thur",
          "smoker": "No",
          "total_bill": 8.52
         },
         {
          "c": "rgb(252.0, 141.0, 98.0)",
          "day": "Thur",
          "smoker": "No",
          "total_bill": 14.52
         },
         {
          "c": "rgb(252.0, 141.0, 98.0)",
          "day": "Thur",
          "smoker": "No",
          "total_bill": 11.38
         },
         {
          "c": "rgb(252.0, 141.0, 98.0)",
          "day": "Thur",
          "smoker": "No",
          "total_bill": 22.82
         },
         {
          "c": "rgb(252.0, 141.0, 98.0)",
          "day": "Thur",
          "smoker": "No",
          "total_bill": 19.08
         },
         {
          "c": "rgb(252.0, 141.0, 98.0)",
          "day": "Thur",
          "smoker": "No",
          "total_bill": 20.27
         },
         {
          "c": "rgb(252.0, 141.0, 98.0)",
          "day": "Thur",
          "smoker": "No",
          "total_bill": 11.17
         },
         {
          "c": "rgb(252.0, 141.0, 98.0)",
          "day": "Thur",
          "smoker": "No",
          "total_bill": 12.26
         },
         {
          "c": "rgb(252.0, 141.0, 98.0)",
          "day": "Thur",
          "smoker": "No",
          "total_bill": 18.26
         },
         {
          "c": "rgb(252.0, 141.0, 98.0)",
          "day": "Thur",
          "smoker": "No",
          "total_bill": 8.51
         },
         {
          "c": "rgb(252.0, 141.0, 98.0)",
          "day": "Thur",
          "smoker": "No",
          "total_bill": 10.33
         },
         {
          "c": "rgb(252.0, 141.0, 98.0)",
          "day": "Thur",
          "smoker": "No",
          "total_bill": 14.15
         },
         {
          "c": "rgb(102.0, 194.0, 165.0)",
          "day": "Thur",
          "smoker": "Yes",
          "total_bill": 16
         },
         {
          "c": "rgb(252.0, 141.0, 98.0)",
          "day": "Thur",
          "smoker": "No",
          "total_bill": 13.16
         },
         {
          "c": "rgb(252.0, 141.0, 98.0)",
          "day": "Thur",
          "smoker": "No",
          "total_bill": 17.47
         },
         {
          "c": "rgb(252.0, 141.0, 98.0)",
          "day": "Thur",
          "smoker": "No",
          "total_bill": 34.3
         },
         {
          "c": "rgb(252.0, 141.0, 98.0)",
          "day": "Thur",
          "smoker": "No",
          "total_bill": 41.19
         },
         {
          "c": "rgb(252.0, 141.0, 98.0)",
          "day": "Thur",
          "smoker": "No",
          "total_bill": 27.05
         },
         {
          "c": "rgb(252.0, 141.0, 98.0)",
          "day": "Thur",
          "smoker": "No",
          "total_bill": 16.43
         },
         {
          "c": "rgb(252.0, 141.0, 98.0)",
          "day": "Thur",
          "smoker": "No",
          "total_bill": 8.35
         },
         {
          "c": "rgb(252.0, 141.0, 98.0)",
          "day": "Thur",
          "smoker": "No",
          "total_bill": 18.64
         },
         {
          "c": "rgb(252.0, 141.0, 98.0)",
          "day": "Thur",
          "smoker": "No",
          "total_bill": 11.87
         },
         {
          "c": "rgb(252.0, 141.0, 98.0)",
          "day": "Thur",
          "smoker": "No",
          "total_bill": 9.78
         },
         {
          "c": "rgb(252.0, 141.0, 98.0)",
          "day": "Thur",
          "smoker": "No",
          "total_bill": 7.51
         },
         {
          "c": "rgb(102.0, 194.0, 165.0)",
          "day": "Thur",
          "smoker": "Yes",
          "total_bill": 19.81
         },
         {
          "c": "rgb(102.0, 194.0, 165.0)",
          "day": "Thur",
          "smoker": "Yes",
          "total_bill": 28.44
         },
         {
          "c": "rgb(102.0, 194.0, 165.0)",
          "day": "Thur",
          "smoker": "Yes",
          "total_bill": 15.48
         },
         {
          "c": "rgb(102.0, 194.0, 165.0)",
          "day": "Thur",
          "smoker": "Yes",
          "total_bill": 16.58
         },
         {
          "c": "rgb(252.0, 141.0, 98.0)",
          "day": "Thur",
          "smoker": "No",
          "total_bill": 7.56
         },
         {
          "c": "rgb(102.0, 194.0, 165.0)",
          "day": "Thur",
          "smoker": "Yes",
          "total_bill": 10.34
         },
         {
          "c": "rgb(102.0, 194.0, 165.0)",
          "day": "Thur",
          "smoker": "Yes",
          "total_bill": 43.11
         },
         {
          "c": "rgb(102.0, 194.0, 165.0)",
          "day": "Thur",
          "smoker": "Yes",
          "total_bill": 13
         },
         {
          "c": "rgb(102.0, 194.0, 165.0)",
          "day": "Thur",
          "smoker": "Yes",
          "total_bill": 13.51
         },
         {
          "c": "rgb(102.0, 194.0, 165.0)",
          "day": "Thur",
          "smoker": "Yes",
          "total_bill": 18.71
         },
         {
          "c": "rgb(102.0, 194.0, 165.0)",
          "day": "Thur",
          "smoker": "Yes",
          "total_bill": 12.74
         },
         {
          "c": "rgb(102.0, 194.0, 165.0)",
          "day": "Thur",
          "smoker": "Yes",
          "total_bill": 13
         },
         {
          "c": "rgb(102.0, 194.0, 165.0)",
          "day": "Thur",
          "smoker": "Yes",
          "total_bill": 16.4
         },
         {
          "c": "rgb(102.0, 194.0, 165.0)",
          "day": "Thur",
          "smoker": "Yes",
          "total_bill": 20.53
         },
         {
          "c": "rgb(102.0, 194.0, 165.0)",
          "day": "Thur",
          "smoker": "Yes",
          "total_bill": 16.47
         },
         {
          "c": "rgb(252.0, 141.0, 98.0)",
          "day": "Thur",
          "smoker": "No",
          "total_bill": 18.78
         },
         {
          "c": "rgb(102.0, 194.0, 165.0)",
          "day": "Fri",
          "smoker": "Yes",
          "total_bill": 28.97
         },
         {
          "c": "rgb(252.0, 141.0, 98.0)",
          "day": "Fri",
          "smoker": "No",
          "total_bill": 22.49
         },
         {
          "c": "rgb(102.0, 194.0, 165.0)",
          "day": "Fri",
          "smoker": "Yes",
          "total_bill": 5.75
         },
         {
          "c": "rgb(102.0, 194.0, 165.0)",
          "day": "Fri",
          "smoker": "Yes",
          "total_bill": 16.32
         },
         {
          "c": "rgb(252.0, 141.0, 98.0)",
          "day": "Fri",
          "smoker": "No",
          "total_bill": 22.75
         },
         {
          "c": "rgb(102.0, 194.0, 165.0)",
          "day": "Fri",
          "smoker": "Yes",
          "total_bill": 40.17
         },
         {
          "c": "rgb(102.0, 194.0, 165.0)",
          "day": "Fri",
          "smoker": "Yes",
          "total_bill": 27.28
         },
         {
          "c": "rgb(102.0, 194.0, 165.0)",
          "day": "Fri",
          "smoker": "Yes",
          "total_bill": 12.03
         },
         {
          "c": "rgb(102.0, 194.0, 165.0)",
          "day": "Fri",
          "smoker": "Yes",
          "total_bill": 21.01
         },
         {
          "c": "rgb(252.0, 141.0, 98.0)",
          "day": "Fri",
          "smoker": "No",
          "total_bill": 12.46
         },
         {
          "c": "rgb(102.0, 194.0, 165.0)",
          "day": "Fri",
          "smoker": "Yes",
          "total_bill": 11.35
         },
         {
          "c": "rgb(102.0, 194.0, 165.0)",
          "day": "Fri",
          "smoker": "Yes",
          "total_bill": 15.38
         },
         {
          "c": "rgb(102.0, 194.0, 165.0)",
          "day": "Fri",
          "smoker": "Yes",
          "total_bill": 12.16
         },
         {
          "c": "rgb(102.0, 194.0, 165.0)",
          "day": "Fri",
          "smoker": "Yes",
          "total_bill": 13.42
         },
         {
          "c": "rgb(102.0, 194.0, 165.0)",
          "day": "Fri",
          "smoker": "Yes",
          "total_bill": 8.58
         },
         {
          "c": "rgb(252.0, 141.0, 98.0)",
          "day": "Fri",
          "smoker": "No",
          "total_bill": 15.98
         },
         {
          "c": "rgb(102.0, 194.0, 165.0)",
          "day": "Fri",
          "smoker": "Yes",
          "total_bill": 13.42
         },
         {
          "c": "rgb(102.0, 194.0, 165.0)",
          "day": "Fri",
          "smoker": "Yes",
          "total_bill": 16.27
         },
         {
          "c": "rgb(102.0, 194.0, 165.0)",
          "day": "Fri",
          "smoker": "Yes",
          "total_bill": 10.09
         },
         {
          "c": "rgb(252.0, 141.0, 98.0)",
          "day": "Sat",
          "smoker": "No",
          "total_bill": 20.65
         },
         {
          "c": "rgb(252.0, 141.0, 98.0)",
          "day": "Sat",
          "smoker": "No",
          "total_bill": 17.92
         },
         {
          "c": "rgb(252.0, 141.0, 98.0)",
          "day": "Sat",
          "smoker": "No",
          "total_bill": 20.29
         },
         {
          "c": "rgb(252.0, 141.0, 98.0)",
          "day": "Sat",
          "smoker": "No",
          "total_bill": 15.77
         },
         {
          "c": "rgb(252.0, 141.0, 98.0)",
          "day": "Sat",
          "smoker": "No",
          "total_bill": 39.42
         },
         {
          "c": "rgb(252.0, 141.0, 98.0)",
          "day": "Sat",
          "smoker": "No",
          "total_bill": 19.82
         },
         {
          "c": "rgb(252.0, 141.0, 98.0)",
          "day": "Sat",
          "smoker": "No",
          "total_bill": 17.81
         },
         {
          "c": "rgb(252.0, 141.0, 98.0)",
          "day": "Sat",
          "smoker": "No",
          "total_bill": 13.37
         },
         {
          "c": "rgb(252.0, 141.0, 98.0)",
          "day": "Sat",
          "smoker": "No",
          "total_bill": 12.69
         },
         {
          "c": "rgb(252.0, 141.0, 98.0)",
          "day": "Sat",
          "smoker": "No",
          "total_bill": 21.7
         },
         {
          "c": "rgb(252.0, 141.0, 98.0)",
          "day": "Sat",
          "smoker": "No",
          "total_bill": 19.65
         },
         {
          "c": "rgb(252.0, 141.0, 98.0)",
          "day": "Sat",
          "smoker": "No",
          "total_bill": 9.55
         },
         {
          "c": "rgb(252.0, 141.0, 98.0)",
          "day": "Sat",
          "smoker": "No",
          "total_bill": 18.35
         },
         {
          "c": "rgb(252.0, 141.0, 98.0)",
          "day": "Sat",
          "smoker": "No",
          "total_bill": 15.06
         },
         {
          "c": "rgb(252.0, 141.0, 98.0)",
          "day": "Sat",
          "smoker": "No",
          "total_bill": 20.69
         },
         {
          "c": "rgb(252.0, 141.0, 98.0)",
          "day": "Sat",
          "smoker": "No",
          "total_bill": 17.78
         },
         {
          "c": "rgb(252.0, 141.0, 98.0)",
          "day": "Sat",
          "smoker": "No",
          "total_bill": 24.06
         },
         {
          "c": "rgb(252.0, 141.0, 98.0)",
          "day": "Sat",
          "smoker": "No",
          "total_bill": 16.31
         },
         {
          "c": "rgb(252.0, 141.0, 98.0)",
          "day": "Sat",
          "smoker": "No",
          "total_bill": 16.93
         },
         {
          "c": "rgb(252.0, 141.0, 98.0)",
          "day": "Sat",
          "smoker": "No",
          "total_bill": 18.69
         },
         {
          "c": "rgb(252.0, 141.0, 98.0)",
          "day": "Sat",
          "smoker": "No",
          "total_bill": 31.27
         },
         {
          "c": "rgb(252.0, 141.0, 98.0)",
          "day": "Sat",
          "smoker": "No",
          "total_bill": 16.04
         },
         {
          "c": "rgb(102.0, 194.0, 165.0)",
          "day": "Sat",
          "smoker": "Yes",
          "total_bill": 38.01
         },
         {
          "c": "rgb(252.0, 141.0, 98.0)",
          "day": "Sat",
          "smoker": "No",
          "total_bill": 26.41
         },
         {
          "c": "rgb(102.0, 194.0, 165.0)",
          "day": "Sat",
          "smoker": "Yes",
          "total_bill": 11.24
         },
         {
          "c": "rgb(252.0, 141.0, 98.0)",
          "day": "Sat",
          "smoker": "No",
          "total_bill": 48.27
         },
         {
          "c": "rgb(102.0, 194.0, 165.0)",
          "day": "Sat",
          "smoker": "Yes",
          "total_bill": 20.29
         },
         {
          "c": "rgb(102.0, 194.0, 165.0)",
          "day": "Sat",
          "smoker": "Yes",
          "total_bill": 13.81
         },
         {
          "c": "rgb(102.0, 194.0, 165.0)",
          "day": "Sat",
          "smoker": "Yes",
          "total_bill": 11.02
         },
         {
          "c": "rgb(102.0, 194.0, 165.0)",
          "day": "Sat",
          "smoker": "Yes",
          "total_bill": 18.29
         },
         {
          "c": "rgb(252.0, 141.0, 98.0)",
          "day": "Sat",
          "smoker": "No",
          "total_bill": 17.59
         },
         {
          "c": "rgb(252.0, 141.0, 98.0)",
          "day": "Sat",
          "smoker": "No",
          "total_bill": 20.08
         },
         {
          "c": "rgb(252.0, 141.0, 98.0)",
          "day": "Sat",
          "smoker": "No",
          "total_bill": 16.45
         },
         {
          "c": "rgb(102.0, 194.0, 165.0)",
          "day": "Sat",
          "smoker": "Yes",
          "total_bill": 3.07
         },
         {
          "c": "rgb(252.0, 141.0, 98.0)",
          "day": "Sat",
          "smoker": "No",
          "total_bill": 20.23
         },
         {
          "c": "rgb(102.0, 194.0, 165.0)",
          "day": "Sat",
          "smoker": "Yes",
          "total_bill": 15.01
         },
         {
          "c": "rgb(252.0, 141.0, 98.0)",
          "day": "Sat",
          "smoker": "No",
          "total_bill": 12.02
         },
         {
          "c": "rgb(252.0, 141.0, 98.0)",
          "day": "Sat",
          "smoker": "No",
          "total_bill": 17.07
         },
         {
          "c": "rgb(102.0, 194.0, 165.0)",
          "day": "Sat",
          "smoker": "Yes",
          "total_bill": 26.86
         },
         {
          "c": "rgb(102.0, 194.0, 165.0)",
          "day": "Sat",
          "smoker": "Yes",
          "total_bill": 25.28
         },
         {
          "c": "rgb(252.0, 141.0, 98.0)",
          "day": "Sat",
          "smoker": "No",
          "total_bill": 14.73
         },
         {
          "c": "rgb(252.0, 141.0, 98.0)",
          "day": "Sat",
          "smoker": "No",
          "total_bill": 10.51
         },
         {
          "c": "rgb(102.0, 194.0, 165.0)",
          "day": "Sat",
          "smoker": "Yes",
          "total_bill": 17.92
         },
         {
          "c": "rgb(102.0, 194.0, 165.0)",
          "day": "Sat",
          "smoker": "Yes",
          "total_bill": 44.3
         },
         {
          "c": "rgb(102.0, 194.0, 165.0)",
          "day": "Sat",
          "smoker": "Yes",
          "total_bill": 22.42
         },
         {
          "c": "rgb(252.0, 141.0, 98.0)",
          "day": "Sat",
          "smoker": "No",
          "total_bill": 20.92
         },
         {
          "c": "rgb(102.0, 194.0, 165.0)",
          "day": "Sat",
          "smoker": "Yes",
          "total_bill": 15.36
         },
         {
          "c": "rgb(102.0, 194.0, 165.0)",
          "day": "Sat",
          "smoker": "Yes",
          "total_bill": 20.49
         },
         {
          "c": "rgb(102.0, 194.0, 165.0)",
          "day": "Sat",
          "smoker": "Yes",
          "total_bill": 25.21
         },
         {
          "c": "rgb(252.0, 141.0, 98.0)",
          "day": "Sat",
          "smoker": "No",
          "total_bill": 18.24
         },
         {
          "c": "rgb(102.0, 194.0, 165.0)",
          "day": "Sat",
          "smoker": "Yes",
          "total_bill": 14.31
         },
         {
          "c": "rgb(252.0, 141.0, 98.0)",
          "day": "Sat",
          "smoker": "No",
          "total_bill": 14
         },
         {
          "c": "rgb(252.0, 141.0, 98.0)",
          "day": "Sat",
          "smoker": "No",
          "total_bill": 7.25
         },
         {
          "c": "rgb(102.0, 194.0, 165.0)",
          "day": "Sat",
          "smoker": "Yes",
          "total_bill": 10.59
         },
         {
          "c": "rgb(102.0, 194.0, 165.0)",
          "day": "Sat",
          "smoker": "Yes",
          "total_bill": 10.63
         },
         {
          "c": "rgb(102.0, 194.0, 165.0)",
          "day": "Sat",
          "smoker": "Yes",
          "total_bill": 50.81
         },
         {
          "c": "rgb(102.0, 194.0, 165.0)",
          "day": "Sat",
          "smoker": "Yes",
          "total_bill": 15.81
         },
         {
          "c": "rgb(102.0, 194.0, 165.0)",
          "day": "Sat",
          "smoker": "Yes",
          "total_bill": 26.59
         },
         {
          "c": "rgb(102.0, 194.0, 165.0)",
          "day": "Sat",
          "smoker": "Yes",
          "total_bill": 38.73
         },
         {
          "c": "rgb(102.0, 194.0, 165.0)",
          "day": "Sat",
          "smoker": "Yes",
          "total_bill": 24.27
         },
         {
          "c": "rgb(102.0, 194.0, 165.0)",
          "day": "Sat",
          "smoker": "Yes",
          "total_bill": 12.76
         },
         {
          "c": "rgb(102.0, 194.0, 165.0)",
          "day": "Sat",
          "smoker": "Yes",
          "total_bill": 30.06
         },
         {
          "c": "rgb(102.0, 194.0, 165.0)",
          "day": "Sat",
          "smoker": "Yes",
          "total_bill": 25.89
         },
         {
          "c": "rgb(252.0, 141.0, 98.0)",
          "day": "Sat",
          "smoker": "No",
          "total_bill": 48.33
         },
         {
          "c": "rgb(102.0, 194.0, 165.0)",
          "day": "Sat",
          "smoker": "Yes",
          "total_bill": 13.27
         },
         {
          "c": "rgb(102.0, 194.0, 165.0)",
          "day": "Sat",
          "smoker": "Yes",
          "total_bill": 28.17
         },
         {
          "c": "rgb(102.0, 194.0, 165.0)",
          "day": "Sat",
          "smoker": "Yes",
          "total_bill": 12.9
         },
         {
          "c": "rgb(102.0, 194.0, 165.0)",
          "day": "Sat",
          "smoker": "Yes",
          "total_bill": 28.15
         },
         {
          "c": "rgb(102.0, 194.0, 165.0)",
          "day": "Sat",
          "smoker": "Yes",
          "total_bill": 11.59
         },
         {
          "c": "rgb(102.0, 194.0, 165.0)",
          "day": "Sat",
          "smoker": "Yes",
          "total_bill": 7.74
         },
         {
          "c": "rgb(102.0, 194.0, 165.0)",
          "day": "Sat",
          "smoker": "Yes",
          "total_bill": 30.14
         },
         {
          "c": "rgb(252.0, 141.0, 98.0)",
          "day": "Sat",
          "smoker": "No",
          "total_bill": 20.45
         },
         {
          "c": "rgb(252.0, 141.0, 98.0)",
          "day": "Sat",
          "smoker": "No",
          "total_bill": 13.28
         },
         {
          "c": "rgb(102.0, 194.0, 165.0)",
          "day": "Sat",
          "smoker": "Yes",
          "total_bill": 22.12
         },
         {
          "c": "rgb(102.0, 194.0, 165.0)",
          "day": "Sat",
          "smoker": "Yes",
          "total_bill": 24.01
         },
         {
          "c": "rgb(102.0, 194.0, 165.0)",
          "day": "Sat",
          "smoker": "Yes",
          "total_bill": 15.69
         },
         {
          "c": "rgb(252.0, 141.0, 98.0)",
          "day": "Sat",
          "smoker": "No",
          "total_bill": 11.61
         },
         {
          "c": "rgb(252.0, 141.0, 98.0)",
          "day": "Sat",
          "smoker": "No",
          "total_bill": 10.77
         },
         {
          "c": "rgb(102.0, 194.0, 165.0)",
          "day": "Sat",
          "smoker": "Yes",
          "total_bill": 15.53
         },
         {
          "c": "rgb(252.0, 141.0, 98.0)",
          "day": "Sat",
          "smoker": "No",
          "total_bill": 10.07
         },
         {
          "c": "rgb(102.0, 194.0, 165.0)",
          "day": "Sat",
          "smoker": "Yes",
          "total_bill": 12.6
         },
         {
          "c": "rgb(102.0, 194.0, 165.0)",
          "day": "Sat",
          "smoker": "Yes",
          "total_bill": 32.83
         },
         {
          "c": "rgb(252.0, 141.0, 98.0)",
          "day": "Sat",
          "smoker": "No",
          "total_bill": 35.83
         },
         {
          "c": "rgb(252.0, 141.0, 98.0)",
          "day": "Sat",
          "smoker": "No",
          "total_bill": 29.03
         },
         {
          "c": "rgb(102.0, 194.0, 165.0)",
          "day": "Sat",
          "smoker": "Yes",
          "total_bill": 27.18
         },
         {
          "c": "rgb(102.0, 194.0, 165.0)",
          "day": "Sat",
          "smoker": "Yes",
          "total_bill": 22.67
         },
         {
          "c": "rgb(252.0, 141.0, 98.0)",
          "day": "Sat",
          "smoker": "No",
          "total_bill": 17.82
         },
         {
          "c": "rgb(252.0, 141.0, 98.0)",
          "day": "Sun",
          "smoker": "No",
          "total_bill": 16.99
         },
         {
          "c": "rgb(252.0, 141.0, 98.0)",
          "day": "Sun",
          "smoker": "No",
          "total_bill": 10.34
         },
         {
          "c": "rgb(252.0, 141.0, 98.0)",
          "day": "Sun",
          "smoker": "No",
          "total_bill": 21.01
         },
         {
          "c": "rgb(252.0, 141.0, 98.0)",
          "day": "Sun",
          "smoker": "No",
          "total_bill": 23.68
         },
         {
          "c": "rgb(252.0, 141.0, 98.0)",
          "day": "Sun",
          "smoker": "No",
          "total_bill": 24.59
         },
         {
          "c": "rgb(252.0, 141.0, 98.0)",
          "day": "Sun",
          "smoker": "No",
          "total_bill": 25.29
         },
         {
          "c": "rgb(252.0, 141.0, 98.0)",
          "day": "Sun",
          "smoker": "No",
          "total_bill": 8.77
         },
         {
          "c": "rgb(252.0, 141.0, 98.0)",
          "day": "Sun",
          "smoker": "No",
          "total_bill": 26.88
         },
         {
          "c": "rgb(252.0, 141.0, 98.0)",
          "day": "Sun",
          "smoker": "No",
          "total_bill": 15.04
         },
         {
          "c": "rgb(252.0, 141.0, 98.0)",
          "day": "Sun",
          "smoker": "No",
          "total_bill": 14.78
         },
         {
          "c": "rgb(252.0, 141.0, 98.0)",
          "day": "Sun",
          "smoker": "No",
          "total_bill": 10.27
         },
         {
          "c": "rgb(252.0, 141.0, 98.0)",
          "day": "Sun",
          "smoker": "No",
          "total_bill": 35.26
         },
         {
          "c": "rgb(252.0, 141.0, 98.0)",
          "day": "Sun",
          "smoker": "No",
          "total_bill": 15.42
         },
         {
          "c": "rgb(252.0, 141.0, 98.0)",
          "day": "Sun",
          "smoker": "No",
          "total_bill": 18.43
         },
         {
          "c": "rgb(252.0, 141.0, 98.0)",
          "day": "Sun",
          "smoker": "No",
          "total_bill": 14.83
         },
         {
          "c": "rgb(252.0, 141.0, 98.0)",
          "day": "Sun",
          "smoker": "No",
          "total_bill": 21.58
         },
         {
          "c": "rgb(252.0, 141.0, 98.0)",
          "day": "Sun",
          "smoker": "No",
          "total_bill": 10.33
         },
         {
          "c": "rgb(252.0, 141.0, 98.0)",
          "day": "Sun",
          "smoker": "No",
          "total_bill": 16.29
         },
         {
          "c": "rgb(252.0, 141.0, 98.0)",
          "day": "Sun",
          "smoker": "No",
          "total_bill": 16.97
         },
         {
          "c": "rgb(252.0, 141.0, 98.0)",
          "day": "Sun",
          "smoker": "No",
          "total_bill": 17.46
         },
         {
          "c": "rgb(252.0, 141.0, 98.0)",
          "day": "Sun",
          "smoker": "No",
          "total_bill": 13.94
         },
         {
          "c": "rgb(252.0, 141.0, 98.0)",
          "day": "Sun",
          "smoker": "No",
          "total_bill": 9.68
         },
         {
          "c": "rgb(252.0, 141.0, 98.0)",
          "day": "Sun",
          "smoker": "No",
          "total_bill": 30.4
         },
         {
          "c": "rgb(252.0, 141.0, 98.0)",
          "day": "Sun",
          "smoker": "No",
          "total_bill": 18.29
         },
         {
          "c": "rgb(252.0, 141.0, 98.0)",
          "day": "Sun",
          "smoker": "No",
          "total_bill": 22.23
         },
         {
          "c": "rgb(252.0, 141.0, 98.0)",
          "day": "Sun",
          "smoker": "No",
          "total_bill": 32.4
         },
         {
          "c": "rgb(252.0, 141.0, 98.0)",
          "day": "Sun",
          "smoker": "No",
          "total_bill": 28.55
         },
         {
          "c": "rgb(252.0, 141.0, 98.0)",
          "day": "Sun",
          "smoker": "No",
          "total_bill": 18.04
         },
         {
          "c": "rgb(252.0, 141.0, 98.0)",
          "day": "Sun",
          "smoker": "No",
          "total_bill": 12.54
         },
         {
          "c": "rgb(252.0, 141.0, 98.0)",
          "day": "Sun",
          "smoker": "No",
          "total_bill": 10.29
         },
         {
          "c": "rgb(252.0, 141.0, 98.0)",
          "day": "Sun",
          "smoker": "No",
          "total_bill": 34.81
         },
         {
          "c": "rgb(252.0, 141.0, 98.0)",
          "day": "Sun",
          "smoker": "No",
          "total_bill": 9.94
         },
         {
          "c": "rgb(252.0, 141.0, 98.0)",
          "day": "Sun",
          "smoker": "No",
          "total_bill": 25.56
         },
         {
          "c": "rgb(252.0, 141.0, 98.0)",
          "day": "Sun",
          "smoker": "No",
          "total_bill": 19.49
         },
         {
          "c": "rgb(252.0, 141.0, 98.0)",
          "day": "Sun",
          "smoker": "No",
          "total_bill": 38.07
         },
         {
          "c": "rgb(252.0, 141.0, 98.0)",
          "day": "Sun",
          "smoker": "No",
          "total_bill": 23.95
         },
         {
          "c": "rgb(252.0, 141.0, 98.0)",
          "day": "Sun",
          "smoker": "No",
          "total_bill": 25.71
         },
         {
          "c": "rgb(252.0, 141.0, 98.0)",
          "day": "Sun",
          "smoker": "No",
          "total_bill": 17.31
         },
         {
          "c": "rgb(252.0, 141.0, 98.0)",
          "day": "Sun",
          "smoker": "No",
          "total_bill": 29.93
         },
         {
          "c": "rgb(252.0, 141.0, 98.0)",
          "day": "Sun",
          "smoker": "No",
          "total_bill": 14.07
         },
         {
          "c": "rgb(252.0, 141.0, 98.0)",
          "day": "Sun",
          "smoker": "No",
          "total_bill": 13.13
         },
         {
          "c": "rgb(252.0, 141.0, 98.0)",
          "day": "Sun",
          "smoker": "No",
          "total_bill": 17.26
         },
         {
          "c": "rgb(252.0, 141.0, 98.0)",
          "day": "Sun",
          "smoker": "No",
          "total_bill": 24.55
         },
         {
          "c": "rgb(252.0, 141.0, 98.0)",
          "day": "Sun",
          "smoker": "No",
          "total_bill": 19.77
         },
         {
          "c": "rgb(252.0, 141.0, 98.0)",
          "day": "Sun",
          "smoker": "No",
          "total_bill": 29.85
         },
         {
          "c": "rgb(252.0, 141.0, 98.0)",
          "day": "Sun",
          "smoker": "No",
          "total_bill": 48.17
         },
         {
          "c": "rgb(252.0, 141.0, 98.0)",
          "day": "Sun",
          "smoker": "No",
          "total_bill": 25
         },
         {
          "c": "rgb(252.0, 141.0, 98.0)",
          "day": "Sun",
          "smoker": "No",
          "total_bill": 13.39
         },
         {
          "c": "rgb(252.0, 141.0, 98.0)",
          "day": "Sun",
          "smoker": "No",
          "total_bill": 16.49
         },
         {
          "c": "rgb(252.0, 141.0, 98.0)",
          "day": "Sun",
          "smoker": "No",
          "total_bill": 21.5
         },
         {
          "c": "rgb(252.0, 141.0, 98.0)",
          "day": "Sun",
          "smoker": "No",
          "total_bill": 12.66
         },
         {
          "c": "rgb(252.0, 141.0, 98.0)",
          "day": "Sun",
          "smoker": "No",
          "total_bill": 16.21
         },
         {
          "c": "rgb(252.0, 141.0, 98.0)",
          "day": "Sun",
          "smoker": "No",
          "total_bill": 13.81
         },
         {
          "c": "rgb(102.0, 194.0, 165.0)",
          "day": "Sun",
          "smoker": "Yes",
          "total_bill": 17.51
         },
         {
          "c": "rgb(252.0, 141.0, 98.0)",
          "day": "Sun",
          "smoker": "No",
          "total_bill": 24.52
         },
         {
          "c": "rgb(252.0, 141.0, 98.0)",
          "day": "Sun",
          "smoker": "No",
          "total_bill": 20.76
         },
         {
          "c": "rgb(252.0, 141.0, 98.0)",
          "day": "Sun",
          "smoker": "No",
          "total_bill": 31.71
         },
         {
          "c": "rgb(102.0, 194.0, 165.0)",
          "day": "Sun",
          "smoker": "Yes",
          "total_bill": 7.25
         },
         {
          "c": "rgb(102.0, 194.0, 165.0)",
          "day": "Sun",
          "smoker": "Yes",
          "total_bill": 31.85
         },
         {
          "c": "rgb(102.0, 194.0, 165.0)",
          "day": "Sun",
          "smoker": "Yes",
          "total_bill": 16.82
         },
         {
          "c": "rgb(102.0, 194.0, 165.0)",
          "day": "Sun",
          "smoker": "Yes",
          "total_bill": 32.9
         },
         {
          "c": "rgb(102.0, 194.0, 165.0)",
          "day": "Sun",
          "smoker": "Yes",
          "total_bill": 17.89
         },
         {
          "c": "rgb(102.0, 194.0, 165.0)",
          "day": "Sun",
          "smoker": "Yes",
          "total_bill": 14.48
         },
         {
          "c": "rgb(102.0, 194.0, 165.0)",
          "day": "Sun",
          "smoker": "Yes",
          "total_bill": 9.6
         },
         {
          "c": "rgb(102.0, 194.0, 165.0)",
          "day": "Sun",
          "smoker": "Yes",
          "total_bill": 34.63
         },
         {
          "c": "rgb(102.0, 194.0, 165.0)",
          "day": "Sun",
          "smoker": "Yes",
          "total_bill": 34.65
         },
         {
          "c": "rgb(102.0, 194.0, 165.0)",
          "day": "Sun",
          "smoker": "Yes",
          "total_bill": 23.33
         },
         {
          "c": "rgb(102.0, 194.0, 165.0)",
          "day": "Sun",
          "smoker": "Yes",
          "total_bill": 45.35
         },
         {
          "c": "rgb(102.0, 194.0, 165.0)",
          "day": "Sun",
          "smoker": "Yes",
          "total_bill": 23.17
         },
         {
          "c": "rgb(102.0, 194.0, 165.0)",
          "day": "Sun",
          "smoker": "Yes",
          "total_bill": 40.55
         },
         {
          "c": "rgb(252.0, 141.0, 98.0)",
          "day": "Sun",
          "smoker": "No",
          "total_bill": 20.69
         },
         {
          "c": "rgb(102.0, 194.0, 165.0)",
          "day": "Sun",
          "smoker": "Yes",
          "total_bill": 20.9
         },
         {
          "c": "rgb(102.0, 194.0, 165.0)",
          "day": "Sun",
          "smoker": "Yes",
          "total_bill": 30.46
         },
         {
          "c": "rgb(102.0, 194.0, 165.0)",
          "day": "Sun",
          "smoker": "Yes",
          "total_bill": 18.15
         },
         {
          "c": "rgb(102.0, 194.0, 165.0)",
          "day": "Sun",
          "smoker": "Yes",
          "total_bill": 23.1
         },
         {
          "c": "rgb(102.0, 194.0, 165.0)",
          "day": "Sun",
          "smoker": "Yes",
          "total_bill": 15.69
         }
        ]
       },
       "encoding": {
        "color": {
         "field": "c",
         "scale": null,
         "type": "nominal"
        },
        "x": {
         "axis": {
          "title": "day"
         },
         "field": "day",
         "sort": null,
         "type": "nominal"
        },
        "y": {
         "axis": {
          "title": "total_bill"
         },
         "field": "total_bill",
         "scale": {
          "zero": false
         },
         "type": "quantitative"
        }
       },
       "mark": "circle",
       "selection": {
        "selector008": {
         "bind": "scales",
         "encodings": [
          "x",
          "y"
         ],
         "mark": {
          "fill": "#333",
          "fillOpacity": 0.125,
          "stroke": "white"
         },
         "on": "[mousedown, window:mouseup] > window:mousemove!",
         "resolve": "global",
         "translate": "[mousedown, window:mouseup] > window:mousemove!",
         "type": "interval",
         "zoom": "wheel!"
        }
       }
      },
      "image/png": "[encoded data removed]",
      "text/plain": [
       "<VegaLite 2 object>\n",
       "\n",
       "If you see this message, it means the renderer has not been properly enabled\n",
       "for the frontend that you are using. For more information, see\n",
       "https://altair-viz.github.io/user_guide/troubleshooting.html\n"
      ]
     },
     "metadata": {},
     "output_type": "display_data"
    },
    {
     "data": {
      "image/png": "[encoded data removed]",
      "text/plain": [
       "<Figure size 432x288 with 1 Axes>"
      ]
     },
     "metadata": {},
     "output_type": "display_data"
    }
   ],
   "source": [
    "display(salt.stripplot(x=\"day\", y=\"total_bill\", hue=\"smoker\", data=tips, jitter=True, palette=\"Set2\", dodge=True))\n",
    "ax = sns.stripplot(x=\"day\", y=\"total_bill\", hue=\"smoker\", data=tips, jitter=True, palette=\"Set2\", dodge=True)"
   ]
  },
  {
   "cell_type": "code",
   "execution_count": 10,
   "metadata": {},
   "outputs": [
    {
     "data": {
      "application/vnd.vegalite.v2+json": {
       "$schema": "https://vega.github.io/schema/vega-lite/v2.4.1.json",
       "config": {
        "view": {
         "height": 300,
         "width": 400
        }
       },
       "data": {
        "values": [
         {
          "c": "rgb(31.0, 119.0, 180.0)",
          "time": "Lunch",
          "tip": 4
         },
         {
          "c": "rgb(31.0, 119.0, 180.0)",
          "time": "Lunch",
          "tip": 3
         },
         {
          "c": "rgb(31.0, 119.0, 180.0)",
          "time": "Lunch",
          "tip": 2.71
         },
         {
          "c": "rgb(31.0, 119.0, 180.0)",
          "time": "Lunch",
          "tip": 3
         },
         {
          "c": "rgb(31.0, 119.0, 180.0)",
          "time": "Lunch",
          "tip": 3.4
         },
         {
          "c": "rgb(31.0, 119.0, 180.0)",
          "time": "Lunch",
          "tip": 1.83
         },
         {
          "c": "rgb(31.0, 119.0, 180.0)",
          "time": "Lunch",
          "tip": 5
         },
         {
          "c": "rgb(31.0, 119.0, 180.0)",
          "time": "Lunch",
          "tip": 2.03
         },
         {
          "c": "rgb(31.0, 119.0, 180.0)",
          "time": "Lunch",
          "tip": 5.17
         },
         {
          "c": "rgb(31.0, 119.0, 180.0)",
          "time": "Lunch",
          "tip": 2
         },
         {
          "c": "rgb(31.0, 119.0, 180.0)",
          "time": "Lunch",
          "tip": 4
         },
         {
          "c": "rgb(31.0, 119.0, 180.0)",
          "time": "Lunch",
          "tip": 5.85
         },
         {
          "c": "rgb(31.0, 119.0, 180.0)",
          "time": "Lunch",
          "tip": 3
         },
         {
          "c": "rgb(31.0, 119.0, 180.0)",
          "time": "Lunch",
          "tip": 1.5
         },
         {
          "c": "rgb(31.0, 119.0, 180.0)",
          "time": "Lunch",
          "tip": 1.8
         },
         {
          "c": "rgb(31.0, 119.0, 180.0)",
          "time": "Lunch",
          "tip": 2.92
         },
         {
          "c": "rgb(31.0, 119.0, 180.0)",
          "time": "Lunch",
          "tip": 2.31
         },
         {
          "c": "rgb(31.0, 119.0, 180.0)",
          "time": "Lunch",
          "tip": 1.68
         },
         {
          "c": "rgb(31.0, 119.0, 180.0)",
          "time": "Lunch",
          "tip": 2.5
         },
         {
          "c": "rgb(31.0, 119.0, 180.0)",
          "time": "Lunch",
          "tip": 2
         },
         {
          "c": "rgb(31.0, 119.0, 180.0)",
          "time": "Lunch",
          "tip": 2.52
         },
         {
          "c": "rgb(31.0, 119.0, 180.0)",
          "time": "Lunch",
          "tip": 4.2
         },
         {
          "c": "rgb(31.0, 119.0, 180.0)",
          "time": "Lunch",
          "tip": 1.48
         },
         {
          "c": "rgb(31.0, 119.0, 180.0)",
          "time": "Lunch",
          "tip": 2
         },
         {
          "c": "rgb(31.0, 119.0, 180.0)",
          "time": "Lunch",
          "tip": 2
         },
         {
          "c": "rgb(31.0, 119.0, 180.0)",
          "time": "Lunch",
          "tip": 2.18
         },
         {
          "c": "rgb(31.0, 119.0, 180.0)",
          "time": "Lunch",
          "tip": 1.5
         },
         {
          "c": "rgb(31.0, 119.0, 180.0)",
          "time": "Lunch",
          "tip": 2.83
         },
         {
          "c": "rgb(31.0, 119.0, 180.0)",
          "time": "Lunch",
          "tip": 1.5
         },
         {
          "c": "rgb(31.0, 119.0, 180.0)",
          "time": "Lunch",
          "tip": 2
         },
         {
          "c": "rgb(31.0, 119.0, 180.0)",
          "time": "Lunch",
          "tip": 3.25
         },
         {
          "c": "rgb(31.0, 119.0, 180.0)",
          "time": "Lunch",
          "tip": 1.25
         },
         {
          "c": "rgb(31.0, 119.0, 180.0)",
          "time": "Lunch",
          "tip": 2
         },
         {
          "c": "rgb(31.0, 119.0, 180.0)",
          "time": "Lunch",
          "tip": 2
         },
         {
          "c": "rgb(31.0, 119.0, 180.0)",
          "time": "Lunch",
          "tip": 2
         },
         {
          "c": "rgb(31.0, 119.0, 180.0)",
          "time": "Lunch",
          "tip": 2.75
         },
         {
          "c": "rgb(31.0, 119.0, 180.0)",
          "time": "Lunch",
          "tip": 3.5
         },
         {
          "c": "rgb(31.0, 119.0, 180.0)",
          "time": "Lunch",
          "tip": 6.7
         },
         {
          "c": "rgb(31.0, 119.0, 180.0)",
          "time": "Lunch",
          "tip": 5
         },
         {
          "c": "rgb(31.0, 119.0, 180.0)",
          "time": "Lunch",
          "tip": 5
         },
         {
          "c": "rgb(31.0, 119.0, 180.0)",
          "time": "Lunch",
          "tip": 2.3
         },
         {
          "c": "rgb(31.0, 119.0, 180.0)",
          "time": "Lunch",
          "tip": 1.5
         },
         {
          "c": "rgb(31.0, 119.0, 180.0)",
          "time": "Lunch",
          "tip": 1.36
         },
         {
          "c": "rgb(31.0, 119.0, 180.0)",
          "time": "Lunch",
          "tip": 1.63
         },
         {
          "c": "rgb(31.0, 119.0, 180.0)",
          "time": "Lunch",
          "tip": 1.73
         },
         {
          "c": "rgb(31.0, 119.0, 180.0)",
          "time": "Lunch",
          "tip": 2
         },
         {
          "c": "rgb(31.0, 119.0, 180.0)",
          "time": "Lunch",
          "tip": 4.19
         },
         {
          "c": "rgb(31.0, 119.0, 180.0)",
          "time": "Lunch",
          "tip": 2.56
         },
         {
          "c": "rgb(31.0, 119.0, 180.0)",
          "time": "Lunch",
          "tip": 2.02
         },
         {
          "c": "rgb(31.0, 119.0, 180.0)",
          "time": "Lunch",
          "tip": 4
         },
         {
          "c": "rgb(31.0, 119.0, 180.0)",
          "time": "Lunch",
          "tip": 1.44
         },
         {
          "c": "rgb(31.0, 119.0, 180.0)",
          "time": "Lunch",
          "tip": 2
         },
         {
          "c": "rgb(31.0, 119.0, 180.0)",
          "time": "Lunch",
          "tip": 5
         },
         {
          "c": "rgb(31.0, 119.0, 180.0)",
          "time": "Lunch",
          "tip": 2
         },
         {
          "c": "rgb(31.0, 119.0, 180.0)",
          "time": "Lunch",
          "tip": 2
         },
         {
          "c": "rgb(31.0, 119.0, 180.0)",
          "time": "Lunch",
          "tip": 4
         },
         {
          "c": "rgb(31.0, 119.0, 180.0)",
          "time": "Lunch",
          "tip": 2.01
         },
         {
          "c": "rgb(31.0, 119.0, 180.0)",
          "time": "Lunch",
          "tip": 2
         },
         {
          "c": "rgb(31.0, 119.0, 180.0)",
          "time": "Lunch",
          "tip": 2.5
         },
         {
          "c": "rgb(31.0, 119.0, 180.0)",
          "time": "Lunch",
          "tip": 4
         },
         {
          "c": "rgb(31.0, 119.0, 180.0)",
          "time": "Lunch",
          "tip": 3.23
         },
         {
          "c": "rgb(31.0, 119.0, 180.0)",
          "time": "Lunch",
          "tip": 2.2
         },
         {
          "c": "rgb(31.0, 119.0, 180.0)",
          "time": "Lunch",
          "tip": 3.48
         },
         {
          "c": "rgb(31.0, 119.0, 180.0)",
          "time": "Lunch",
          "tip": 1.92
         },
         {
          "c": "rgb(31.0, 119.0, 180.0)",
          "time": "Lunch",
          "tip": 3
         },
         {
          "c": "rgb(31.0, 119.0, 180.0)",
          "time": "Lunch",
          "tip": 1.58
         },
         {
          "c": "rgb(31.0, 119.0, 180.0)",
          "time": "Lunch",
          "tip": 2.5
         },
         {
          "c": "rgb(31.0, 119.0, 180.0)",
          "time": "Lunch",
          "tip": 2
         },
         {
          "c": "rgb(255.0, 127.0, 14.0)",
          "time": "Dinner",
          "tip": 1.01
         },
         {
          "c": "rgb(255.0, 127.0, 14.0)",
          "time": "Dinner",
          "tip": 1.66
         },
         {
          "c": "rgb(255.0, 127.0, 14.0)",
          "time": "Dinner",
          "tip": 3.5
         },
         {
          "c": "rgb(255.0, 127.0, 14.0)",
          "time": "Dinner",
          "tip": 3.31
         },
         {
          "c": "rgb(255.0, 127.0, 14.0)",
          "time": "Dinner",
          "tip": 3.61
         },
         {
          "c": "rgb(255.0, 127.0, 14.0)",
          "time": "Dinner",
          "tip": 4.71
         },
         {
          "c": "rgb(255.0, 127.0, 14.0)",
          "time": "Dinner",
          "tip": 2
         },
         {
          "c": "rgb(255.0, 127.0, 14.0)",
          "time": "Dinner",
          "tip": 3.12
         },
         {
          "c": "rgb(255.0, 127.0, 14.0)",
          "time": "Dinner",
          "tip": 1.96
         },
         {
          "c": "rgb(255.0, 127.0, 14.0)",
          "time": "Dinner",
          "tip": 3.23
         },
         {
          "c": "rgb(255.0, 127.0, 14.0)",
          "time": "Dinner",
          "tip": 1.71
         },
         {
          "c": "rgb(255.0, 127.0, 14.0)",
          "time": "Dinner",
          "tip": 5
         },
         {
          "c": "rgb(255.0, 127.0, 14.0)",
          "time": "Dinner",
          "tip": 1.57
         },
         {
          "c": "rgb(255.0, 127.0, 14.0)",
          "time": "Dinner",
          "tip": 3
         },
         {
          "c": "rgb(255.0, 127.0, 14.0)",
          "time": "Dinner",
          "tip": 3.02
         },
         {
          "c": "rgb(255.0, 127.0, 14.0)",
          "time": "Dinner",
          "tip": 3.92
         },
         {
          "c": "rgb(255.0, 127.0, 14.0)",
          "time": "Dinner",
          "tip": 1.67
         },
         {
          "c": "rgb(255.0, 127.0, 14.0)",
          "time": "Dinner",
          "tip": 3.71
         },
         {
          "c": "rgb(255.0, 127.0, 14.0)",
          "time": "Dinner",
          "tip": 3.5
         },
         {
          "c": "rgb(255.0, 127.0, 14.0)",
          "time": "Dinner",
          "tip": 3.35
         },
         {
          "c": "rgb(255.0, 127.0, 14.0)",
          "time": "Dinner",
          "tip": 4.08
         },
         {
          "c": "rgb(255.0, 127.0, 14.0)",
          "time": "Dinner",
          "tip": 2.75
         },
         {
          "c": "rgb(255.0, 127.0, 14.0)",
          "time": "Dinner",
          "tip": 2.23
         },
         {
          "c": "rgb(255.0, 127.0, 14.0)",
          "time": "Dinner",
          "tip": 7.58
         },
         {
          "c": "rgb(255.0, 127.0, 14.0)",
          "time": "Dinner",
          "tip": 3.18
         },
         {
          "c": "rgb(255.0, 127.0, 14.0)",
          "time": "Dinner",
          "tip": 2.34
         },
         {
          "c": "rgb(255.0, 127.0, 14.0)",
          "time": "Dinner",
          "tip": 2
         },
         {
          "c": "rgb(255.0, 127.0, 14.0)",
          "time": "Dinner",
          "tip": 2
         },
         {
          "c": "rgb(255.0, 127.0, 14.0)",
          "time": "Dinner",
          "tip": 4.3
         },
         {
          "c": "rgb(255.0, 127.0, 14.0)",
          "time": "Dinner",
          "tip": 3
         },
         {
          "c": "rgb(255.0, 127.0, 14.0)",
          "time": "Dinner",
          "tip": 1.45
         },
         {
          "c": "rgb(255.0, 127.0, 14.0)",
          "time": "Dinner",
          "tip": 2.5
         },
         {
          "c": "rgb(255.0, 127.0, 14.0)",
          "time": "Dinner",
          "tip": 3
         },
         {
          "c": "rgb(255.0, 127.0, 14.0)",
          "time": "Dinner",
          "tip": 2.45
         },
         {
          "c": "rgb(255.0, 127.0, 14.0)",
          "time": "Dinner",
          "tip": 3.27
         },
         {
          "c": "rgb(255.0, 127.0, 14.0)",
          "time": "Dinner",
          "tip": 3.6
         },
         {
          "c": "rgb(255.0, 127.0, 14.0)",
          "time": "Dinner",
          "tip": 2
         },
         {
          "c": "rgb(255.0, 127.0, 14.0)",
          "time": "Dinner",
          "tip": 3.07
         },
         {
          "c": "rgb(255.0, 127.0, 14.0)",
          "time": "Dinner",
          "tip": 2.31
         },
         {
          "c": "rgb(255.0, 127.0, 14.0)",
          "time": "Dinner",
          "tip": 5
         },
         {
          "c": "rgb(255.0, 127.0, 14.0)",
          "time": "Dinner",
          "tip": 2.24
         },
         {
          "c": "rgb(255.0, 127.0, 14.0)",
          "time": "Dinner",
          "tip": 2.54
         },
         {
          "c": "rgb(255.0, 127.0, 14.0)",
          "time": "Dinner",
          "tip": 3.06
         },
         {
          "c": "rgb(255.0, 127.0, 14.0)",
          "time": "Dinner",
          "tip": 1.32
         },
         {
          "c": "rgb(255.0, 127.0, 14.0)",
          "time": "Dinner",
          "tip": 5.6
         },
         {
          "c": "rgb(255.0, 127.0, 14.0)",
          "time": "Dinner",
          "tip": 3
         },
         {
          "c": "rgb(255.0, 127.0, 14.0)",
          "time": "Dinner",
          "tip": 5
         },
         {
          "c": "rgb(255.0, 127.0, 14.0)",
          "time": "Dinner",
          "tip": 6
         },
         {
          "c": "rgb(255.0, 127.0, 14.0)",
          "time": "Dinner",
          "tip": 2.05
         },
         {
          "c": "rgb(255.0, 127.0, 14.0)",
          "time": "Dinner",
          "tip": 3
         },
         {
          "c": "rgb(255.0, 127.0, 14.0)",
          "time": "Dinner",
          "tip": 2.5
         },
         {
          "c": "rgb(255.0, 127.0, 14.0)",
          "time": "Dinner",
          "tip": 2.6
         },
         {
          "c": "rgb(255.0, 127.0, 14.0)",
          "time": "Dinner",
          "tip": 5.2
         },
         {
          "c": "rgb(255.0, 127.0, 14.0)",
          "time": "Dinner",
          "tip": 1.56
         },
         {
          "c": "rgb(255.0, 127.0, 14.0)",
          "time": "Dinner",
          "tip": 4.34
         },
         {
          "c": "rgb(255.0, 127.0, 14.0)",
          "time": "Dinner",
          "tip": 3.51
         },
         {
          "c": "rgb(255.0, 127.0, 14.0)",
          "time": "Dinner",
          "tip": 3
         },
         {
          "c": "rgb(255.0, 127.0, 14.0)",
          "time": "Dinner",
          "tip": 1.5
         },
         {
          "c": "rgb(255.0, 127.0, 14.0)",
          "time": "Dinner",
          "tip": 1.76
         },
         {
          "c": "rgb(255.0, 127.0, 14.0)",
          "time": "Dinner",
          "tip": 6.73
         },
         {
          "c": "rgb(255.0, 127.0, 14.0)",
          "time": "Dinner",
          "tip": 3.21
         },
         {
          "c": "rgb(255.0, 127.0, 14.0)",
          "time": "Dinner",
          "tip": 2
         },
         {
          "c": "rgb(255.0, 127.0, 14.0)",
          "time": "Dinner",
          "tip": 1.98
         },
         {
          "c": "rgb(255.0, 127.0, 14.0)",
          "time": "Dinner",
          "tip": 3.76
         },
         {
          "c": "rgb(255.0, 127.0, 14.0)",
          "time": "Dinner",
          "tip": 2.64
         },
         {
          "c": "rgb(255.0, 127.0, 14.0)",
          "time": "Dinner",
          "tip": 3.15
         },
         {
          "c": "rgb(255.0, 127.0, 14.0)",
          "time": "Dinner",
          "tip": 2.47
         },
         {
          "c": "rgb(255.0, 127.0, 14.0)",
          "time": "Dinner",
          "tip": 1
         },
         {
          "c": "rgb(255.0, 127.0, 14.0)",
          "time": "Dinner",
          "tip": 2.01
         },
         {
          "c": "rgb(255.0, 127.0, 14.0)",
          "time": "Dinner",
          "tip": 2.09
         },
         {
          "c": "rgb(255.0, 127.0, 14.0)",
          "time": "Dinner",
          "tip": 1.97
         },
         {
          "c": "rgb(255.0, 127.0, 14.0)",
          "time": "Dinner",
          "tip": 3
         },
         {
          "c": "rgb(255.0, 127.0, 14.0)",
          "time": "Dinner",
          "tip": 3.14
         },
         {
          "c": "rgb(255.0, 127.0, 14.0)",
          "time": "Dinner",
          "tip": 5
         },
         {
          "c": "rgb(255.0, 127.0, 14.0)",
          "time": "Dinner",
          "tip": 2.2
         },
         {
          "c": "rgb(255.0, 127.0, 14.0)",
          "time": "Dinner",
          "tip": 1.25
         },
         {
          "c": "rgb(255.0, 127.0, 14.0)",
          "time": "Dinner",
          "tip": 3.08
         },
         {
          "c": "rgb(255.0, 127.0, 14.0)",
          "time": "Dinner",
          "tip": 3
         },
         {
          "c": "rgb(255.0, 127.0, 14.0)",
          "time": "Dinner",
          "tip": 3.5
         },
         {
          "c": "rgb(255.0, 127.0, 14.0)",
          "time": "Dinner",
          "tip": 1
         },
         {
          "c": "rgb(255.0, 127.0, 14.0)",
          "time": "Dinner",
          "tip": 4.3
         },
         {
          "c": "rgb(255.0, 127.0, 14.0)",
          "time": "Dinner",
          "tip": 3.25
         },
         {
          "c": "rgb(255.0, 127.0, 14.0)",
          "time": "Dinner",
          "tip": 4.73
         },
         {
          "c": "rgb(255.0, 127.0, 14.0)",
          "time": "Dinner",
          "tip": 4
         },
         {
          "c": "rgb(255.0, 127.0, 14.0)",
          "time": "Dinner",
          "tip": 1.5
         },
         {
          "c": "rgb(255.0, 127.0, 14.0)",
          "time": "Dinner",
          "tip": 3
         },
         {
          "c": "rgb(255.0, 127.0, 14.0)",
          "time": "Dinner",
          "tip": 1.5
         },
         {
          "c": "rgb(255.0, 127.0, 14.0)",
          "time": "Dinner",
          "tip": 2.5
         },
         {
          "c": "rgb(255.0, 127.0, 14.0)",
          "time": "Dinner",
          "tip": 3
         },
         {
          "c": "rgb(255.0, 127.0, 14.0)",
          "time": "Dinner",
          "tip": 2.5
         },
         {
          "c": "rgb(255.0, 127.0, 14.0)",
          "time": "Dinner",
          "tip": 3.48
         },
         {
          "c": "rgb(255.0, 127.0, 14.0)",
          "time": "Dinner",
          "tip": 4.08
         },
         {
          "c": "rgb(255.0, 127.0, 14.0)",
          "time": "Dinner",
          "tip": 1.64
         },
         {
          "c": "rgb(255.0, 127.0, 14.0)",
          "time": "Dinner",
          "tip": 4.06
         },
         {
          "c": "rgb(255.0, 127.0, 14.0)",
          "time": "Dinner",
          "tip": 4.29
         },
         {
          "c": "rgb(255.0, 127.0, 14.0)",
          "time": "Dinner",
          "tip": 3.76
         },
         {
          "c": "rgb(255.0, 127.0, 14.0)",
          "time": "Dinner",
          "tip": 4
         },
         {
          "c": "rgb(255.0, 127.0, 14.0)",
          "time": "Dinner",
          "tip": 3
         },
         {
          "c": "rgb(255.0, 127.0, 14.0)",
          "time": "Dinner",
          "tip": 1
         },
         {
          "c": "rgb(255.0, 127.0, 14.0)",
          "time": "Dinner",
          "tip": 4
         },
         {
          "c": "rgb(255.0, 127.0, 14.0)",
          "time": "Dinner",
          "tip": 2.55
         },
         {
          "c": "rgb(255.0, 127.0, 14.0)",
          "time": "Dinner",
          "tip": 4
         },
         {
          "c": "rgb(255.0, 127.0, 14.0)",
          "time": "Dinner",
          "tip": 3.5
         },
         {
          "c": "rgb(255.0, 127.0, 14.0)",
          "time": "Dinner",
          "tip": 5.07
         },
         {
          "c": "rgb(255.0, 127.0, 14.0)",
          "time": "Dinner",
          "tip": 2.5
         },
         {
          "c": "rgb(255.0, 127.0, 14.0)",
          "time": "Dinner",
          "tip": 2
         },
         {
          "c": "rgb(255.0, 127.0, 14.0)",
          "time": "Dinner",
          "tip": 2.74
         },
         {
          "c": "rgb(255.0, 127.0, 14.0)",
          "time": "Dinner",
          "tip": 2
         },
         {
          "c": "rgb(255.0, 127.0, 14.0)",
          "time": "Dinner",
          "tip": 2
         },
         {
          "c": "rgb(255.0, 127.0, 14.0)",
          "time": "Dinner",
          "tip": 5.14
         },
         {
          "c": "rgb(255.0, 127.0, 14.0)",
          "time": "Dinner",
          "tip": 5
         },
         {
          "c": "rgb(255.0, 127.0, 14.0)",
          "time": "Dinner",
          "tip": 3.75
         },
         {
          "c": "rgb(255.0, 127.0, 14.0)",
          "time": "Dinner",
          "tip": 2.61
         },
         {
          "c": "rgb(255.0, 127.0, 14.0)",
          "time": "Dinner",
          "tip": 2
         },
         {
          "c": "rgb(255.0, 127.0, 14.0)",
          "time": "Dinner",
          "tip": 3.5
         },
         {
          "c": "rgb(255.0, 127.0, 14.0)",
          "time": "Dinner",
          "tip": 2.5
         },
         {
          "c": "rgb(255.0, 127.0, 14.0)",
          "time": "Dinner",
          "tip": 2
         },
         {
          "c": "rgb(255.0, 127.0, 14.0)",
          "time": "Dinner",
          "tip": 2
         },
         {
          "c": "rgb(255.0, 127.0, 14.0)",
          "time": "Dinner",
          "tip": 3
         },
         {
          "c": "rgb(255.0, 127.0, 14.0)",
          "time": "Dinner",
          "tip": 3.48
         },
         {
          "c": "rgb(255.0, 127.0, 14.0)",
          "time": "Dinner",
          "tip": 2.24
         },
         {
          "c": "rgb(255.0, 127.0, 14.0)",
          "time": "Dinner",
          "tip": 4.5
         },
         {
          "c": "rgb(255.0, 127.0, 14.0)",
          "time": "Dinner",
          "tip": 1.61
         },
         {
          "c": "rgb(255.0, 127.0, 14.0)",
          "time": "Dinner",
          "tip": 2
         },
         {
          "c": "rgb(255.0, 127.0, 14.0)",
          "time": "Dinner",
          "tip": 10
         },
         {
          "c": "rgb(255.0, 127.0, 14.0)",
          "time": "Dinner",
          "tip": 3.16
         },
         {
          "c": "rgb(255.0, 127.0, 14.0)",
          "time": "Dinner",
          "tip": 5.15
         },
         {
          "c": "rgb(255.0, 127.0, 14.0)",
          "time": "Dinner",
          "tip": 3.18
         },
         {
          "c": "rgb(255.0, 127.0, 14.0)",
          "time": "Dinner",
          "tip": 4
         },
         {
          "c": "rgb(255.0, 127.0, 14.0)",
          "time": "Dinner",
          "tip": 3.11
         },
         {
          "c": "rgb(255.0, 127.0, 14.0)",
          "time": "Dinner",
          "tip": 2
         },
         {
          "c": "rgb(255.0, 127.0, 14.0)",
          "time": "Dinner",
          "tip": 2
         },
         {
          "c": "rgb(255.0, 127.0, 14.0)",
          "time": "Dinner",
          "tip": 4
         },
         {
          "c": "rgb(255.0, 127.0, 14.0)",
          "time": "Dinner",
          "tip": 3.55
         },
         {
          "c": "rgb(255.0, 127.0, 14.0)",
          "time": "Dinner",
          "tip": 3.68
         },
         {
          "c": "rgb(255.0, 127.0, 14.0)",
          "time": "Dinner",
          "tip": 5.65
         },
         {
          "c": "rgb(255.0, 127.0, 14.0)",
          "time": "Dinner",
          "tip": 3.5
         },
         {
          "c": "rgb(255.0, 127.0, 14.0)",
          "time": "Dinner",
          "tip": 6.5
         },
         {
          "c": "rgb(255.0, 127.0, 14.0)",
          "time": "Dinner",
          "tip": 3
         },
         {
          "c": "rgb(255.0, 127.0, 14.0)",
          "time": "Dinner",
          "tip": 5
         },
         {
          "c": "rgb(255.0, 127.0, 14.0)",
          "time": "Dinner",
          "tip": 3.5
         },
         {
          "c": "rgb(255.0, 127.0, 14.0)",
          "time": "Dinner",
          "tip": 2
         },
         {
          "c": "rgb(255.0, 127.0, 14.0)",
          "time": "Dinner",
          "tip": 3.5
         },
         {
          "c": "rgb(255.0, 127.0, 14.0)",
          "time": "Dinner",
          "tip": 4
         },
         {
          "c": "rgb(255.0, 127.0, 14.0)",
          "time": "Dinner",
          "tip": 1.5
         },
         {
          "c": "rgb(255.0, 127.0, 14.0)",
          "time": "Dinner",
          "tip": 3.41
         },
         {
          "c": "rgb(255.0, 127.0, 14.0)",
          "time": "Dinner",
          "tip": 3
         },
         {
          "c": "rgb(255.0, 127.0, 14.0)",
          "time": "Dinner",
          "tip": 2.03
         },
         {
          "c": "rgb(255.0, 127.0, 14.0)",
          "time": "Dinner",
          "tip": 2.23
         },
         {
          "c": "rgb(255.0, 127.0, 14.0)",
          "time": "Dinner",
          "tip": 2
         },
         {
          "c": "rgb(255.0, 127.0, 14.0)",
          "time": "Dinner",
          "tip": 5.16
         },
         {
          "c": "rgb(255.0, 127.0, 14.0)",
          "time": "Dinner",
          "tip": 9
         },
         {
          "c": "rgb(255.0, 127.0, 14.0)",
          "time": "Dinner",
          "tip": 2.5
         },
         {
          "c": "rgb(255.0, 127.0, 14.0)",
          "time": "Dinner",
          "tip": 6.5
         },
         {
          "c": "rgb(255.0, 127.0, 14.0)",
          "time": "Dinner",
          "tip": 1.1
         },
         {
          "c": "rgb(255.0, 127.0, 14.0)",
          "time": "Dinner",
          "tip": 3
         },
         {
          "c": "rgb(255.0, 127.0, 14.0)",
          "time": "Dinner",
          "tip": 1.5
         },
         {
          "c": "rgb(255.0, 127.0, 14.0)",
          "time": "Dinner",
          "tip": 1.44
         },
         {
          "c": "rgb(255.0, 127.0, 14.0)",
          "time": "Dinner",
          "tip": 3.09
         },
         {
          "c": "rgb(255.0, 127.0, 14.0)",
          "time": "Dinner",
          "tip": 3
         },
         {
          "c": "rgb(255.0, 127.0, 14.0)",
          "time": "Dinner",
          "tip": 2.72
         },
         {
          "c": "rgb(255.0, 127.0, 14.0)",
          "time": "Dinner",
          "tip": 2.88
         },
         {
          "c": "rgb(255.0, 127.0, 14.0)",
          "time": "Dinner",
          "tip": 2
         },
         {
          "c": "rgb(255.0, 127.0, 14.0)",
          "time": "Dinner",
          "tip": 3
         },
         {
          "c": "rgb(255.0, 127.0, 14.0)",
          "time": "Dinner",
          "tip": 3.39
         },
         {
          "c": "rgb(255.0, 127.0, 14.0)",
          "time": "Dinner",
          "tip": 1.47
         },
         {
          "c": "rgb(255.0, 127.0, 14.0)",
          "time": "Dinner",
          "tip": 3
         },
         {
          "c": "rgb(255.0, 127.0, 14.0)",
          "time": "Dinner",
          "tip": 1.25
         },
         {
          "c": "rgb(255.0, 127.0, 14.0)",
          "time": "Dinner",
          "tip": 1
         },
         {
          "c": "rgb(255.0, 127.0, 14.0)",
          "time": "Dinner",
          "tip": 1.17
         },
         {
          "c": "rgb(255.0, 127.0, 14.0)",
          "time": "Dinner",
          "tip": 4.67
         },
         {
          "c": "rgb(255.0, 127.0, 14.0)",
          "time": "Dinner",
          "tip": 5.92
         },
         {
          "c": "rgb(255.0, 127.0, 14.0)",
          "time": "Dinner",
          "tip": 2
         },
         {
          "c": "rgb(255.0, 127.0, 14.0)",
          "time": "Dinner",
          "tip": 2
         },
         {
          "c": "rgb(255.0, 127.0, 14.0)",
          "time": "Dinner",
          "tip": 1.75
         },
         {
          "c": "rgb(255.0, 127.0, 14.0)",
          "time": "Dinner",
          "tip": 3
         }
        ]
       },
       "encoding": {
        "color": {
         "field": "c",
         "scale": null,
         "type": "nominal"
        },
        "x": {
         "axis": {
          "title": "time"
         },
         "field": "time",
         "sort": null,
         "type": "nominal"
        },
        "y": {
         "axis": {
          "title": "tip"
         },
         "field": "tip",
         "scale": {
          "zero": false
         },
         "type": "quantitative"
        }
       },
       "mark": "circle",
       "selection": {
        "selector009": {
         "bind": "scales",
         "encodings": [
          "x",
          "y"
         ],
         "mark": {
          "fill": "#333",
          "fillOpacity": 0.125,
          "stroke": "white"
         },
         "on": "[mousedown, window:mouseup] > window:mousemove!",
         "resolve": "global",
         "translate": "[mousedown, window:mouseup] > window:mousemove!",
         "type": "interval",
         "zoom": "wheel!"
        }
       }
      },
      "image/png": "[encoded data removed]",
      "text/plain": [
       "<VegaLite 2 object>\n",
       "\n",
       "If you see this message, it means the renderer has not been properly enabled\n",
       "for the frontend that you are using. For more information, see\n",
       "https://altair-viz.github.io/user_guide/troubleshooting.html\n"
      ]
     },
     "metadata": {},
     "output_type": "display_data"
    },
    {
     "data": {
      "image/png": "[encoded data removed]",
      "text/plain": [
       "<Figure size 432x288 with 1 Axes>"
      ]
     },
     "metadata": {},
     "output_type": "display_data"
    }
   ],
   "source": [
    "display(salt.stripplot(x=\"time\", y=\"tip\", data=tips, order=[\"Lunch\", \"Dinner\"]))\n",
    "ax = sns.stripplot(x=\"time\", y=\"tip\", data=tips, order=[\"Lunch\", \"Dinner\"])"
   ]
  },
  {
   "cell_type": "code",
   "execution_count": 11,
   "metadata": {},
   "outputs": [
    {
     "data": {
      "application/vnd.vegalite.v2+json": {
       "$schema": "https://vega.github.io/schema/vega-lite/v2.4.1.json",
       "config": {
        "view": {
         "height": 300,
         "width": 400
        }
       },
       "data": {
        "values": [
         {
          "c": "rgb(252.0, 141.0, 98.0)",
          "day": "Thur",
          "smoker": "No",
          "total_bill": 27.2
         },
         {
          "c": "rgb(252.0, 141.0, 98.0)",
          "day": "Thur",
          "smoker": "No",
          "total_bill": 22.76
         },
         {
          "c": "rgb(252.0, 141.0, 98.0)",
          "day": "Thur",
          "smoker": "No",
          "total_bill": 17.29
         },
         {
          "c": "rgb(102.0, 194.0, 165.0)",
          "day": "Thur",
          "smoker": "Yes",
          "total_bill": 19.44
         },
         {
          "c": "rgb(252.0, 141.0, 98.0)",
          "day": "Thur",
          "smoker": "No",
          "total_bill": 16.66
         },
         {
          "c": "rgb(252.0, 141.0, 98.0)",
          "day": "Thur",
          "smoker": "No",
          "total_bill": 10.07
         },
         {
          "c": "rgb(102.0, 194.0, 165.0)",
          "day": "Thur",
          "smoker": "Yes",
          "total_bill": 32.68
         },
         {
          "c": "rgb(252.0, 141.0, 98.0)",
          "day": "Thur",
          "smoker": "No",
          "total_bill": 15.98
         },
         {
          "c": "rgb(252.0, 141.0, 98.0)",
          "day": "Thur",
          "smoker": "No",
          "total_bill": 34.83
         },
         {
          "c": "rgb(252.0, 141.0, 98.0)",
          "day": "Thur",
          "smoker": "No",
          "total_bill": 13.03
         },
         {
          "c": "rgb(252.0, 141.0, 98.0)",
          "day": "Thur",
          "smoker": "No",
          "total_bill": 18.28
         },
         {
          "c": "rgb(252.0, 141.0, 98.0)",
          "day": "Thur",
          "smoker": "No",
          "total_bill": 24.71
         },
         {
          "c": "rgb(252.0, 141.0, 98.0)",
          "day": "Thur",
          "smoker": "No",
          "total_bill": 21.16
         },
         {
          "c": "rgb(252.0, 141.0, 98.0)",
          "day": "Thur",
          "smoker": "No",
          "total_bill": 10.65
         },
         {
          "c": "rgb(252.0, 141.0, 98.0)",
          "day": "Thur",
          "smoker": "No",
          "total_bill": 12.43
         },
         {
          "c": "rgb(252.0, 141.0, 98.0)",
          "day": "Thur",
          "smoker": "No",
          "total_bill": 24.08
         },
         {
          "c": "rgb(252.0, 141.0, 98.0)",
          "day": "Thur",
          "smoker": "No",
          "total_bill": 11.69
         },
         {
          "c": "rgb(252.0, 141.0, 98.0)",
          "day": "Thur",
          "smoker": "No",
          "total_bill": 13.42
         },
         {
          "c": "rgb(252.0, 141.0, 98.0)",
          "day": "Thur",
          "smoker": "No",
          "total_bill": 14.26
         },
         {
          "c": "rgb(252.0, 141.0, 98.0)",
          "day": "Thur",
          "smoker": "No",
          "total_bill": 15.95
         },
         {
          "c": "rgb(252.0, 141.0, 98.0)",
          "day": "Thur",
          "smoker": "No",
          "total_bill": 12.48
         },
         {
          "c": "rgb(252.0, 141.0, 98.0)",
          "day": "Thur",
          "smoker": "No",
          "total_bill": 29.8
         },
         {
          "c": "rgb(252.0, 141.0, 98.0)",
          "day": "Thur",
          "smoker": "No",
          "total_bill": 8.52
         },
         {
          "c": "rgb(252.0, 141.0, 98.0)",
          "day": "Thur",
          "smoker": "No",
          "total_bill": 14.52
         },
         {
          "c": "rgb(252.0, 141.0, 98.0)",
          "day": "Thur",
          "smoker": "No",
          "total_bill": 11.38
         },
         {
          "c": "rgb(252.0, 141.0, 98.0)",
          "day": "Thur",
          "smoker": "No",
          "total_bill": 22.82
         },
         {
          "c": "rgb(252.0, 141.0, 98.0)",
          "day": "Thur",
          "smoker": "No",
          "total_bill": 19.08
         },
         {
          "c": "rgb(252.0, 141.0, 98.0)",
          "day": "Thur",
          "smoker": "No",
          "total_bill": 20.27
         },
         {
          "c": "rgb(252.0, 141.0, 98.0)",
          "day": "Thur",
          "smoker": "No",
          "total_bill": 11.17
         },
         {
          "c": "rgb(252.0, 141.0, 98.0)",
          "day": "Thur",
          "smoker": "No",
          "total_bill": 12.26
         },
         {
          "c": "rgb(252.0, 141.0, 98.0)",
          "day": "Thur",
          "smoker": "No",
          "total_bill": 18.26
         },
         {
          "c": "rgb(252.0, 141.0, 98.0)",
          "day": "Thur",
          "smoker": "No",
          "total_bill": 8.51
         },
         {
          "c": "rgb(252.0, 141.0, 98.0)",
          "day": "Thur",
          "smoker": "No",
          "total_bill": 10.33
         },
         {
          "c": "rgb(252.0, 141.0, 98.0)",
          "day": "Thur",
          "smoker": "No",
          "total_bill": 14.15
         },
         {
          "c": "rgb(102.0, 194.0, 165.0)",
          "day": "Thur",
          "smoker": "Yes",
          "total_bill": 16
         },
         {
          "c": "rgb(252.0, 141.0, 98.0)",
          "day": "Thur",
          "smoker": "No",
          "total_bill": 13.16
         },
         {
          "c": "rgb(252.0, 141.0, 98.0)",
          "day": "Thur",
          "smoker": "No",
          "total_bill": 17.47
         },
         {
          "c": "rgb(252.0, 141.0, 98.0)",
          "day": "Thur",
          "smoker": "No",
          "total_bill": 34.3
         },
         {
          "c": "rgb(252.0, 141.0, 98.0)",
          "day": "Thur",
          "smoker": "No",
          "total_bill": 41.19
         },
         {
          "c": "rgb(252.0, 141.0, 98.0)",
          "day": "Thur",
          "smoker": "No",
          "total_bill": 27.05
         },
         {
          "c": "rgb(252.0, 141.0, 98.0)",
          "day": "Thur",
          "smoker": "No",
          "total_bill": 16.43
         },
         {
          "c": "rgb(252.0, 141.0, 98.0)",
          "day": "Thur",
          "smoker": "No",
          "total_bill": 8.35
         },
         {
          "c": "rgb(252.0, 141.0, 98.0)",
          "day": "Thur",
          "smoker": "No",
          "total_bill": 18.64
         },
         {
          "c": "rgb(252.0, 141.0, 98.0)",
          "day": "Thur",
          "smoker": "No",
          "total_bill": 11.87
         },
         {
          "c": "rgb(252.0, 141.0, 98.0)",
          "day": "Thur",
          "smoker": "No",
          "total_bill": 9.78
         },
         {
          "c": "rgb(252.0, 141.0, 98.0)",
          "day": "Thur",
          "smoker": "No",
          "total_bill": 7.51
         },
         {
          "c": "rgb(102.0, 194.0, 165.0)",
          "day": "Thur",
          "smoker": "Yes",
          "total_bill": 19.81
         },
         {
          "c": "rgb(102.0, 194.0, 165.0)",
          "day": "Thur",
          "smoker": "Yes",
          "total_bill": 28.44
         },
         {
          "c": "rgb(102.0, 194.0, 165.0)",
          "day": "Thur",
          "smoker": "Yes",
          "total_bill": 15.48
         },
         {
          "c": "rgb(102.0, 194.0, 165.0)",
          "day": "Thur",
          "smoker": "Yes",
          "total_bill": 16.58
         },
         {
          "c": "rgb(252.0, 141.0, 98.0)",
          "day": "Thur",
          "smoker": "No",
          "total_bill": 7.56
         },
         {
          "c": "rgb(102.0, 194.0, 165.0)",
          "day": "Thur",
          "smoker": "Yes",
          "total_bill": 10.34
         },
         {
          "c": "rgb(102.0, 194.0, 165.0)",
          "day": "Thur",
          "smoker": "Yes",
          "total_bill": 43.11
         },
         {
          "c": "rgb(102.0, 194.0, 165.0)",
          "day": "Thur",
          "smoker": "Yes",
          "total_bill": 13
         },
         {
          "c": "rgb(102.0, 194.0, 165.0)",
          "day": "Thur",
          "smoker": "Yes",
          "total_bill": 13.51
         },
         {
          "c": "rgb(102.0, 194.0, 165.0)",
          "day": "Thur",
          "smoker": "Yes",
          "total_bill": 18.71
         },
         {
          "c": "rgb(102.0, 194.0, 165.0)",
          "day": "Thur",
          "smoker": "Yes",
          "total_bill": 12.74
         },
         {
          "c": "rgb(102.0, 194.0, 165.0)",
          "day": "Thur",
          "smoker": "Yes",
          "total_bill": 13
         },
         {
          "c": "rgb(102.0, 194.0, 165.0)",
          "day": "Thur",
          "smoker": "Yes",
          "total_bill": 16.4
         },
         {
          "c": "rgb(102.0, 194.0, 165.0)",
          "day": "Thur",
          "smoker": "Yes",
          "total_bill": 20.53
         },
         {
          "c": "rgb(102.0, 194.0, 165.0)",
          "day": "Thur",
          "smoker": "Yes",
          "total_bill": 16.47
         },
         {
          "c": "rgb(252.0, 141.0, 98.0)",
          "day": "Thur",
          "smoker": "No",
          "total_bill": 18.78
         },
         {
          "c": "rgb(102.0, 194.0, 165.0)",
          "day": "Fri",
          "smoker": "Yes",
          "total_bill": 28.97
         },
         {
          "c": "rgb(252.0, 141.0, 98.0)",
          "day": "Fri",
          "smoker": "No",
          "total_bill": 22.49
         },
         {
          "c": "rgb(102.0, 194.0, 165.0)",
          "day": "Fri",
          "smoker": "Yes",
          "total_bill": 5.75
         },
         {
          "c": "rgb(102.0, 194.0, 165.0)",
          "day": "Fri",
          "smoker": "Yes",
          "total_bill": 16.32
         },
         {
          "c": "rgb(252.0, 141.0, 98.0)",
          "day": "Fri",
          "smoker": "No",
          "total_bill": 22.75
         },
         {
          "c": "rgb(102.0, 194.0, 165.0)",
          "day": "Fri",
          "smoker": "Yes",
          "total_bill": 40.17
         },
         {
          "c": "rgb(102.0, 194.0, 165.0)",
          "day": "Fri",
          "smoker": "Yes",
          "total_bill": 27.28
         },
         {
          "c": "rgb(102.0, 194.0, 165.0)",
          "day": "Fri",
          "smoker": "Yes",
          "total_bill": 12.03
         },
         {
          "c": "rgb(102.0, 194.0, 165.0)",
          "day": "Fri",
          "smoker": "Yes",
          "total_bill": 21.01
         },
         {
          "c": "rgb(252.0, 141.0, 98.0)",
          "day": "Fri",
          "smoker": "No",
          "total_bill": 12.46
         },
         {
          "c": "rgb(102.0, 194.0, 165.0)",
          "day": "Fri",
          "smoker": "Yes",
          "total_bill": 11.35
         },
         {
          "c": "rgb(102.0, 194.0, 165.0)",
          "day": "Fri",
          "smoker": "Yes",
          "total_bill": 15.38
         },
         {
          "c": "rgb(102.0, 194.0, 165.0)",
          "day": "Fri",
          "smoker": "Yes",
          "total_bill": 12.16
         },
         {
          "c": "rgb(102.0, 194.0, 165.0)",
          "day": "Fri",
          "smoker": "Yes",
          "total_bill": 13.42
         },
         {
          "c": "rgb(102.0, 194.0, 165.0)",
          "day": "Fri",
          "smoker": "Yes",
          "total_bill": 8.58
         },
         {
          "c": "rgb(252.0, 141.0, 98.0)",
          "day": "Fri",
          "smoker": "No",
          "total_bill": 15.98
         },
         {
          "c": "rgb(102.0, 194.0, 165.0)",
          "day": "Fri",
          "smoker": "Yes",
          "total_bill": 13.42
         },
         {
          "c": "rgb(102.0, 194.0, 165.0)",
          "day": "Fri",
          "smoker": "Yes",
          "total_bill": 16.27
         },
         {
          "c": "rgb(102.0, 194.0, 165.0)",
          "day": "Fri",
          "smoker": "Yes",
          "total_bill": 10.09
         },
         {
          "c": "rgb(252.0, 141.0, 98.0)",
          "day": "Sat",
          "smoker": "No",
          "total_bill": 20.65
         },
         {
          "c": "rgb(252.0, 141.0, 98.0)",
          "day": "Sat",
          "smoker": "No",
          "total_bill": 17.92
         },
         {
          "c": "rgb(252.0, 141.0, 98.0)",
          "day": "Sat",
          "smoker": "No",
          "total_bill": 20.29
         },
         {
          "c": "rgb(252.0, 141.0, 98.0)",
          "day": "Sat",
          "smoker": "No",
          "total_bill": 15.77
         },
         {
          "c": "rgb(252.0, 141.0, 98.0)",
          "day": "Sat",
          "smoker": "No",
          "total_bill": 39.42
         },
         {
          "c": "rgb(252.0, 141.0, 98.0)",
          "day": "Sat",
          "smoker": "No",
          "total_bill": 19.82
         },
         {
          "c": "rgb(252.0, 141.0, 98.0)",
          "day": "Sat",
          "smoker": "No",
          "total_bill": 17.81
         },
         {
          "c": "rgb(252.0, 141.0, 98.0)",
          "day": "Sat",
          "smoker": "No",
          "total_bill": 13.37
         },
         {
          "c": "rgb(252.0, 141.0, 98.0)",
          "day": "Sat",
          "smoker": "No",
          "total_bill": 12.69
         },
         {
          "c": "rgb(252.0, 141.0, 98.0)",
          "day": "Sat",
          "smoker": "No",
          "total_bill": 21.7
         },
         {
          "c": "rgb(252.0, 141.0, 98.0)",
          "day": "Sat",
          "smoker": "No",
          "total_bill": 19.65
         },
         {
          "c": "rgb(252.0, 141.0, 98.0)",
          "day": "Sat",
          "smoker": "No",
          "total_bill": 9.55
         },
         {
          "c": "rgb(252.0, 141.0, 98.0)",
          "day": "Sat",
          "smoker": "No",
          "total_bill": 18.35
         },
         {
          "c": "rgb(252.0, 141.0, 98.0)",
          "day": "Sat",
          "smoker": "No",
          "total_bill": 15.06
         },
         {
          "c": "rgb(252.0, 141.0, 98.0)",
          "day": "Sat",
          "smoker": "No",
          "total_bill": 20.69
         },
         {
          "c": "rgb(252.0, 141.0, 98.0)",
          "day": "Sat",
          "smoker": "No",
          "total_bill": 17.78
         },
         {
          "c": "rgb(252.0, 141.0, 98.0)",
          "day": "Sat",
          "smoker": "No",
          "total_bill": 24.06
         },
         {
          "c": "rgb(252.0, 141.0, 98.0)",
          "day": "Sat",
          "smoker": "No",
          "total_bill": 16.31
         },
         {
          "c": "rgb(252.0, 141.0, 98.0)",
          "day": "Sat",
          "smoker": "No",
          "total_bill": 16.93
         },
         {
          "c": "rgb(252.0, 141.0, 98.0)",
          "day": "Sat",
          "smoker": "No",
          "total_bill": 18.69
         },
         {
          "c": "rgb(252.0, 141.0, 98.0)",
          "day": "Sat",
          "smoker": "No",
          "total_bill": 31.27
         },
         {
          "c": "rgb(252.0, 141.0, 98.0)",
          "day": "Sat",
          "smoker": "No",
          "total_bill": 16.04
         },
         {
          "c": "rgb(102.0, 194.0, 165.0)",
          "day": "Sat",
          "smoker": "Yes",
          "total_bill": 38.01
         },
         {
          "c": "rgb(252.0, 141.0, 98.0)",
          "day": "Sat",
          "smoker": "No",
          "total_bill": 26.41
         },
         {
          "c": "rgb(102.0, 194.0, 165.0)",
          "day": "Sat",
          "smoker": "Yes",
          "total_bill": 11.24
         },
         {
          "c": "rgb(252.0, 141.0, 98.0)",
          "day": "Sat",
          "smoker": "No",
          "total_bill": 48.27
         },
         {
          "c": "rgb(102.0, 194.0, 165.0)",
          "day": "Sat",
          "smoker": "Yes",
          "total_bill": 20.29
         },
         {
          "c": "rgb(102.0, 194.0, 165.0)",
          "day": "Sat",
          "smoker": "Yes",
          "total_bill": 13.81
         },
         {
          "c": "rgb(102.0, 194.0, 165.0)",
          "day": "Sat",
          "smoker": "Yes",
          "total_bill": 11.02
         },
         {
          "c": "rgb(102.0, 194.0, 165.0)",
          "day": "Sat",
          "smoker": "Yes",
          "total_bill": 18.29
         },
         {
          "c": "rgb(252.0, 141.0, 98.0)",
          "day": "Sat",
          "smoker": "No",
          "total_bill": 17.59
         },
         {
          "c": "rgb(252.0, 141.0, 98.0)",
          "day": "Sat",
          "smoker": "No",
          "total_bill": 20.08
         },
         {
          "c": "rgb(252.0, 141.0, 98.0)",
          "day": "Sat",
          "smoker": "No",
          "total_bill": 16.45
         },
         {
          "c": "rgb(102.0, 194.0, 165.0)",
          "day": "Sat",
          "smoker": "Yes",
          "total_bill": 3.07
         },
         {
          "c": "rgb(252.0, 141.0, 98.0)",
          "day": "Sat",
          "smoker": "No",
          "total_bill": 20.23
         },
         {
          "c": "rgb(102.0, 194.0, 165.0)",
          "day": "Sat",
          "smoker": "Yes",
          "total_bill": 15.01
         },
         {
          "c": "rgb(252.0, 141.0, 98.0)",
          "day": "Sat",
          "smoker": "No",
          "total_bill": 12.02
         },
         {
          "c": "rgb(252.0, 141.0, 98.0)",
          "day": "Sat",
          "smoker": "No",
          "total_bill": 17.07
         },
         {
          "c": "rgb(102.0, 194.0, 165.0)",
          "day": "Sat",
          "smoker": "Yes",
          "total_bill": 26.86
         },
         {
          "c": "rgb(102.0, 194.0, 165.0)",
          "day": "Sat",
          "smoker": "Yes",
          "total_bill": 25.28
         },
         {
          "c": "rgb(252.0, 141.0, 98.0)",
          "day": "Sat",
          "smoker": "No",
          "total_bill": 14.73
         },
         {
          "c": "rgb(252.0, 141.0, 98.0)",
          "day": "Sat",
          "smoker": "No",
          "total_bill": 10.51
         },
         {
          "c": "rgb(102.0, 194.0, 165.0)",
          "day": "Sat",
          "smoker": "Yes",
          "total_bill": 17.92
         },
         {
          "c": "rgb(102.0, 194.0, 165.0)",
          "day": "Sat",
          "smoker": "Yes",
          "total_bill": 44.3
         },
         {
          "c": "rgb(102.0, 194.0, 165.0)",
          "day": "Sat",
          "smoker": "Yes",
          "total_bill": 22.42
         },
         {
          "c": "rgb(252.0, 141.0, 98.0)",
          "day": "Sat",
          "smoker": "No",
          "total_bill": 20.92
         },
         {
          "c": "rgb(102.0, 194.0, 165.0)",
          "day": "Sat",
          "smoker": "Yes",
          "total_bill": 15.36
         },
         {
          "c": "rgb(102.0, 194.0, 165.0)",
          "day": "Sat",
          "smoker": "Yes",
          "total_bill": 20.49
         },
         {
          "c": "rgb(102.0, 194.0, 165.0)",
          "day": "Sat",
          "smoker": "Yes",
          "total_bill": 25.21
         },
         {
          "c": "rgb(252.0, 141.0, 98.0)",
          "day": "Sat",
          "smoker": "No",
          "total_bill": 18.24
         },
         {
          "c": "rgb(102.0, 194.0, 165.0)",
          "day": "Sat",
          "smoker": "Yes",
          "total_bill": 14.31
         },
         {
          "c": "rgb(252.0, 141.0, 98.0)",
          "day": "Sat",
          "smoker": "No",
          "total_bill": 14
         },
         {
          "c": "rgb(252.0, 141.0, 98.0)",
          "day": "Sat",
          "smoker": "No",
          "total_bill": 7.25
         },
         {
          "c": "rgb(102.0, 194.0, 165.0)",
          "day": "Sat",
          "smoker": "Yes",
          "total_bill": 10.59
         },
         {
          "c": "rgb(102.0, 194.0, 165.0)",
          "day": "Sat",
          "smoker": "Yes",
          "total_bill": 10.63
         },
         {
          "c": "rgb(102.0, 194.0, 165.0)",
          "day": "Sat",
          "smoker": "Yes",
          "total_bill": 50.81
         },
         {
          "c": "rgb(102.0, 194.0, 165.0)",
          "day": "Sat",
          "smoker": "Yes",
          "total_bill": 15.81
         },
         {
          "c": "rgb(102.0, 194.0, 165.0)",
          "day": "Sat",
          "smoker": "Yes",
          "total_bill": 26.59
         },
         {
          "c": "rgb(102.0, 194.0, 165.0)",
          "day": "Sat",
          "smoker": "Yes",
          "total_bill": 38.73
         },
         {
          "c": "rgb(102.0, 194.0, 165.0)",
          "day": "Sat",
          "smoker": "Yes",
          "total_bill": 24.27
         },
         {
          "c": "rgb(102.0, 194.0, 165.0)",
          "day": "Sat",
          "smoker": "Yes",
          "total_bill": 12.76
         },
         {
          "c": "rgb(102.0, 194.0, 165.0)",
          "day": "Sat",
          "smoker": "Yes",
          "total_bill": 30.06
         },
         {
          "c": "rgb(102.0, 194.0, 165.0)",
          "day": "Sat",
          "smoker": "Yes",
          "total_bill": 25.89
         },
         {
          "c": "rgb(252.0, 141.0, 98.0)",
          "day": "Sat",
          "smoker": "No",
          "total_bill": 48.33
         },
         {
          "c": "rgb(102.0, 194.0, 165.0)",
          "day": "Sat",
          "smoker": "Yes",
          "total_bill": 13.27
         },
         {
          "c": "rgb(102.0, 194.0, 165.0)",
          "day": "Sat",
          "smoker": "Yes",
          "total_bill": 28.17
         },
         {
          "c": "rgb(102.0, 194.0, 165.0)",
          "day": "Sat",
          "smoker": "Yes",
          "total_bill": 12.9
         },
         {
          "c": "rgb(102.0, 194.0, 165.0)",
          "day": "Sat",
          "smoker": "Yes",
          "total_bill": 28.15
         },
         {
          "c": "rgb(102.0, 194.0, 165.0)",
          "day": "Sat",
          "smoker": "Yes",
          "total_bill": 11.59
         },
         {
          "c": "rgb(102.0, 194.0, 165.0)",
          "day": "Sat",
          "smoker": "Yes",
          "total_bill": 7.74
         },
         {
          "c": "rgb(102.0, 194.0, 165.0)",
          "day": "Sat",
          "smoker": "Yes",
          "total_bill": 30.14
         },
         {
          "c": "rgb(252.0, 141.0, 98.0)",
          "day": "Sat",
          "smoker": "No",
          "total_bill": 20.45
         },
         {
          "c": "rgb(252.0, 141.0, 98.0)",
          "day": "Sat",
          "smoker": "No",
          "total_bill": 13.28
         },
         {
          "c": "rgb(102.0, 194.0, 165.0)",
          "day": "Sat",
          "smoker": "Yes",
          "total_bill": 22.12
         },
         {
          "c": "rgb(102.0, 194.0, 165.0)",
          "day": "Sat",
          "smoker": "Yes",
          "total_bill": 24.01
         },
         {
          "c": "rgb(102.0, 194.0, 165.0)",
          "day": "Sat",
          "smoker": "Yes",
          "total_bill": 15.69
         },
         {
          "c": "rgb(252.0, 141.0, 98.0)",
          "day": "Sat",
          "smoker": "No",
          "total_bill": 11.61
         },
         {
          "c": "rgb(252.0, 141.0, 98.0)",
          "day": "Sat",
          "smoker": "No",
          "total_bill": 10.77
         },
         {
          "c": "rgb(102.0, 194.0, 165.0)",
          "day": "Sat",
          "smoker": "Yes",
          "total_bill": 15.53
         },
         {
          "c": "rgb(252.0, 141.0, 98.0)",
          "day": "Sat",
          "smoker": "No",
          "total_bill": 10.07
         },
         {
          "c": "rgb(102.0, 194.0, 165.0)",
          "day": "Sat",
          "smoker": "Yes",
          "total_bill": 12.6
         },
         {
          "c": "rgb(102.0, 194.0, 165.0)",
          "day": "Sat",
          "smoker": "Yes",
          "total_bill": 32.83
         },
         {
          "c": "rgb(252.0, 141.0, 98.0)",
          "day": "Sat",
          "smoker": "No",
          "total_bill": 35.83
         },
         {
          "c": "rgb(252.0, 141.0, 98.0)",
          "day": "Sat",
          "smoker": "No",
          "total_bill": 29.03
         },
         {
          "c": "rgb(102.0, 194.0, 165.0)",
          "day": "Sat",
          "smoker": "Yes",
          "total_bill": 27.18
         },
         {
          "c": "rgb(102.0, 194.0, 165.0)",
          "day": "Sat",
          "smoker": "Yes",
          "total_bill": 22.67
         },
         {
          "c": "rgb(252.0, 141.0, 98.0)",
          "day": "Sat",
          "smoker": "No",
          "total_bill": 17.82
         },
         {
          "c": "rgb(252.0, 141.0, 98.0)",
          "day": "Sun",
          "smoker": "No",
          "total_bill": 16.99
         },
         {
          "c": "rgb(252.0, 141.0, 98.0)",
          "day": "Sun",
          "smoker": "No",
          "total_bill": 10.34
         },
         {
          "c": "rgb(252.0, 141.0, 98.0)",
          "day": "Sun",
          "smoker": "No",
          "total_bill": 21.01
         },
         {
          "c": "rgb(252.0, 141.0, 98.0)",
          "day": "Sun",
          "smoker": "No",
          "total_bill": 23.68
         },
         {
          "c": "rgb(252.0, 141.0, 98.0)",
          "day": "Sun",
          "smoker": "No",
          "total_bill": 24.59
         },
         {
          "c": "rgb(252.0, 141.0, 98.0)",
          "day": "Sun",
          "smoker": "No",
          "total_bill": 25.29
         },
         {
          "c": "rgb(252.0, 141.0, 98.0)",
          "day": "Sun",
          "smoker": "No",
          "total_bill": 8.77
         },
         {
          "c": "rgb(252.0, 141.0, 98.0)",
          "day": "Sun",
          "smoker": "No",
          "total_bill": 26.88
         },
         {
          "c": "rgb(252.0, 141.0, 98.0)",
          "day": "Sun",
          "smoker": "No",
          "total_bill": 15.04
         },
         {
          "c": "rgb(252.0, 141.0, 98.0)",
          "day": "Sun",
          "smoker": "No",
          "total_bill": 14.78
         },
         {
          "c": "rgb(252.0, 141.0, 98.0)",
          "day": "Sun",
          "smoker": "No",
          "total_bill": 10.27
         },
         {
          "c": "rgb(252.0, 141.0, 98.0)",
          "day": "Sun",
          "smoker": "No",
          "total_bill": 35.26
         },
         {
          "c": "rgb(252.0, 141.0, 98.0)",
          "day": "Sun",
          "smoker": "No",
          "total_bill": 15.42
         },
         {
          "c": "rgb(252.0, 141.0, 98.0)",
          "day": "Sun",
          "smoker": "No",
          "total_bill": 18.43
         },
         {
          "c": "rgb(252.0, 141.0, 98.0)",
          "day": "Sun",
          "smoker": "No",
          "total_bill": 14.83
         },
         {
          "c": "rgb(252.0, 141.0, 98.0)",
          "day": "Sun",
          "smoker": "No",
          "total_bill": 21.58
         },
         {
          "c": "rgb(252.0, 141.0, 98.0)",
          "day": "Sun",
          "smoker": "No",
          "total_bill": 10.33
         },
         {
          "c": "rgb(252.0, 141.0, 98.0)",
          "day": "Sun",
          "smoker": "No",
          "total_bill": 16.29
         },
         {
          "c": "rgb(252.0, 141.0, 98.0)",
          "day": "Sun",
          "smoker": "No",
          "total_bill": 16.97
         },
         {
          "c": "rgb(252.0, 141.0, 98.0)",
          "day": "Sun",
          "smoker": "No",
          "total_bill": 17.46
         },
         {
          "c": "rgb(252.0, 141.0, 98.0)",
          "day": "Sun",
          "smoker": "No",
          "total_bill": 13.94
         },
         {
          "c": "rgb(252.0, 141.0, 98.0)",
          "day": "Sun",
          "smoker": "No",
          "total_bill": 9.68
         },
         {
          "c": "rgb(252.0, 141.0, 98.0)",
          "day": "Sun",
          "smoker": "No",
          "total_bill": 30.4
         },
         {
          "c": "rgb(252.0, 141.0, 98.0)",
          "day": "Sun",
          "smoker": "No",
          "total_bill": 18.29
         },
         {
          "c": "rgb(252.0, 141.0, 98.0)",
          "day": "Sun",
          "smoker": "No",
          "total_bill": 22.23
         },
         {
          "c": "rgb(252.0, 141.0, 98.0)",
          "day": "Sun",
          "smoker": "No",
          "total_bill": 32.4
         },
         {
          "c": "rgb(252.0, 141.0, 98.0)",
          "day": "Sun",
          "smoker": "No",
          "total_bill": 28.55
         },
         {
          "c": "rgb(252.0, 141.0, 98.0)",
          "day": "Sun",
          "smoker": "No",
          "total_bill": 18.04
         },
         {
          "c": "rgb(252.0, 141.0, 98.0)",
          "day": "Sun",
          "smoker": "No",
          "total_bill": 12.54
         },
         {
          "c": "rgb(252.0, 141.0, 98.0)",
          "day": "Sun",
          "smoker": "No",
          "total_bill": 10.29
         },
         {
          "c": "rgb(252.0, 141.0, 98.0)",
          "day": "Sun",
          "smoker": "No",
          "total_bill": 34.81
         },
         {
          "c": "rgb(252.0, 141.0, 98.0)",
          "day": "Sun",
          "smoker": "No",
          "total_bill": 9.94
         },
         {
          "c": "rgb(252.0, 141.0, 98.0)",
          "day": "Sun",
          "smoker": "No",
          "total_bill": 25.56
         },
         {
          "c": "rgb(252.0, 141.0, 98.0)",
          "day": "Sun",
          "smoker": "No",
          "total_bill": 19.49
         },
         {
          "c": "rgb(252.0, 141.0, 98.0)",
          "day": "Sun",
          "smoker": "No",
          "total_bill": 38.07
         },
         {
          "c": "rgb(252.0, 141.0, 98.0)",
          "day": "Sun",
          "smoker": "No",
          "total_bill": 23.95
         },
         {
          "c": "rgb(252.0, 141.0, 98.0)",
          "day": "Sun",
          "smoker": "No",
          "total_bill": 25.71
         },
         {
          "c": "rgb(252.0, 141.0, 98.0)",
          "day": "Sun",
          "smoker": "No",
          "total_bill": 17.31
         },
         {
          "c": "rgb(252.0, 141.0, 98.0)",
          "day": "Sun",
          "smoker": "No",
          "total_bill": 29.93
         },
         {
          "c": "rgb(252.0, 141.0, 98.0)",
          "day": "Sun",
          "smoker": "No",
          "total_bill": 14.07
         },
         {
          "c": "rgb(252.0, 141.0, 98.0)",
          "day": "Sun",
          "smoker": "No",
          "total_bill": 13.13
         },
         {
          "c": "rgb(252.0, 141.0, 98.0)",
          "day": "Sun",
          "smoker": "No",
          "total_bill": 17.26
         },
         {
          "c": "rgb(252.0, 141.0, 98.0)",
          "day": "Sun",
          "smoker": "No",
          "total_bill": 24.55
         },
         {
          "c": "rgb(252.0, 141.0, 98.0)",
          "day": "Sun",
          "smoker": "No",
          "total_bill": 19.77
         },
         {
          "c": "rgb(252.0, 141.0, 98.0)",
          "day": "Sun",
          "smoker": "No",
          "total_bill": 29.85
         },
         {
          "c": "rgb(252.0, 141.0, 98.0)",
          "day": "Sun",
          "smoker": "No",
          "total_bill": 48.17
         },
         {
          "c": "rgb(252.0, 141.0, 98.0)",
          "day": "Sun",
          "smoker": "No",
          "total_bill": 25
         },
         {
          "c": "rgb(252.0, 141.0, 98.0)",
          "day": "Sun",
          "smoker": "No",
          "total_bill": 13.39
         },
         {
          "c": "rgb(252.0, 141.0, 98.0)",
          "day": "Sun",
          "smoker": "No",
          "total_bill": 16.49
         },
         {
          "c": "rgb(252.0, 141.0, 98.0)",
          "day": "Sun",
          "smoker": "No",
          "total_bill": 21.5
         },
         {
          "c": "rgb(252.0, 141.0, 98.0)",
          "day": "Sun",
          "smoker": "No",
          "total_bill": 12.66
         },
         {
          "c": "rgb(252.0, 141.0, 98.0)",
          "day": "Sun",
          "smoker": "No",
          "total_bill": 16.21
         },
         {
          "c": "rgb(252.0, 141.0, 98.0)",
          "day": "Sun",
          "smoker": "No",
          "total_bill": 13.81
         },
         {
          "c": "rgb(102.0, 194.0, 165.0)",
          "day": "Sun",
          "smoker": "Yes",
          "total_bill": 17.51
         },
         {
          "c": "rgb(252.0, 141.0, 98.0)",
          "day": "Sun",
          "smoker": "No",
          "total_bill": 24.52
         },
         {
          "c": "rgb(252.0, 141.0, 98.0)",
          "day": "Sun",
          "smoker": "No",
          "total_bill": 20.76
         },
         {
          "c": "rgb(252.0, 141.0, 98.0)",
          "day": "Sun",
          "smoker": "No",
          "total_bill": 31.71
         },
         {
          "c": "rgb(102.0, 194.0, 165.0)",
          "day": "Sun",
          "smoker": "Yes",
          "total_bill": 7.25
         },
         {
          "c": "rgb(102.0, 194.0, 165.0)",
          "day": "Sun",
          "smoker": "Yes",
          "total_bill": 31.85
         },
         {
          "c": "rgb(102.0, 194.0, 165.0)",
          "day": "Sun",
          "smoker": "Yes",
          "total_bill": 16.82
         },
         {
          "c": "rgb(102.0, 194.0, 165.0)",
          "day": "Sun",
          "smoker": "Yes",
          "total_bill": 32.9
         },
         {
          "c": "rgb(102.0, 194.0, 165.0)",
          "day": "Sun",
          "smoker": "Yes",
          "total_bill": 17.89
         },
         {
          "c": "rgb(102.0, 194.0, 165.0)",
          "day": "Sun",
          "smoker": "Yes",
          "total_bill": 14.48
         },
         {
          "c": "rgb(102.0, 194.0, 165.0)",
          "day": "Sun",
          "smoker": "Yes",
          "total_bill": 9.6
         },
         {
          "c": "rgb(102.0, 194.0, 165.0)",
          "day": "Sun",
          "smoker": "Yes",
          "total_bill": 34.63
         },
         {
          "c": "rgb(102.0, 194.0, 165.0)",
          "day": "Sun",
          "smoker": "Yes",
          "total_bill": 34.65
         },
         {
          "c": "rgb(102.0, 194.0, 165.0)",
          "day": "Sun",
          "smoker": "Yes",
          "total_bill": 23.33
         },
         {
          "c": "rgb(102.0, 194.0, 165.0)",
          "day": "Sun",
          "smoker": "Yes",
          "total_bill": 45.35
         },
         {
          "c": "rgb(102.0, 194.0, 165.0)",
          "day": "Sun",
          "smoker": "Yes",
          "total_bill": 23.17
         },
         {
          "c": "rgb(102.0, 194.0, 165.0)",
          "day": "Sun",
          "smoker": "Yes",
          "total_bill": 40.55
         },
         {
          "c": "rgb(252.0, 141.0, 98.0)",
          "day": "Sun",
          "smoker": "No",
          "total_bill": 20.69
         },
         {
          "c": "rgb(102.0, 194.0, 165.0)",
          "day": "Sun",
          "smoker": "Yes",
          "total_bill": 20.9
         },
         {
          "c": "rgb(102.0, 194.0, 165.0)",
          "day": "Sun",
          "smoker": "Yes",
          "total_bill": 30.46
         },
         {
          "c": "rgb(102.0, 194.0, 165.0)",
          "day": "Sun",
          "smoker": "Yes",
          "total_bill": 18.15
         },
         {
          "c": "rgb(102.0, 194.0, 165.0)",
          "day": "Sun",
          "smoker": "Yes",
          "total_bill": 23.1
         },
         {
          "c": "rgb(102.0, 194.0, 165.0)",
          "day": "Sun",
          "smoker": "Yes",
          "total_bill": 15.69
         }
        ]
       },
       "encoding": {
        "color": {
         "field": "c",
         "scale": null,
         "type": "nominal"
        },
        "x": {
         "axis": {
          "title": "day"
         },
         "field": "day",
         "sort": null,
         "type": "nominal"
        },
        "y": {
         "axis": {
          "title": "total_bill"
         },
         "field": "total_bill",
         "scale": {
          "zero": false
         },
         "type": "quantitative"
        }
       },
       "mark": "circle",
       "selection": {
        "selector010": {
         "bind": "scales",
         "encodings": [
          "x",
          "y"
         ],
         "mark": {
          "fill": "#333",
          "fillOpacity": 0.125,
          "stroke": "white"
         },
         "on": "[mousedown, window:mouseup] > window:mousemove!",
         "resolve": "global",
         "translate": "[mousedown, window:mouseup] > window:mousemove!",
         "type": "interval",
         "zoom": "wheel!"
        }
       }
      },
      "image/png": "[encoded data removed]",
      "text/plain": [
       "<VegaLite 2 object>\n",
       "\n",
       "If you see this message, it means the renderer has not been properly enabled\n",
       "for the frontend that you are using. For more information, see\n",
       "https://altair-viz.github.io/user_guide/troubleshooting.html\n"
      ]
     },
     "metadata": {},
     "output_type": "display_data"
    },
    {
     "data": {
      "image/png": "[encoded data removed]",
      "text/plain": [
       "<Figure size 432x288 with 1 Axes>"
      ]
     },
     "metadata": {},
     "output_type": "display_data"
    }
   ],
   "source": [
    "display(salt.stripplot(\"day\", \"total_bill\", \"smoker\", data=tips, palette=\"Set2\", size=20, marker=\"D\", edgecolor=\"gray\", alpha=.25))\n",
    "ax = sns.stripplot(\"day\", \"total_bill\", \"smoker\", data=tips, palette=\"Set2\", size=20, marker=\"D\", edgecolor=\"gray\", alpha=.25)"
   ]
  }
 ],
 "metadata": {
  "kernelspec": {
   "display_name": "Python 3",
   "language": "python",
   "name": "python3"
  },
  "language_info": {
   "codemirror_mode": {
    "name": "ipython",
    "version": 3
   },
   "file_extension": ".py",
   "mimetype": "text/x-python",
   "name": "python",
   "nbconvert_exporter": "python",
   "pygments_lexer": "ipython3",
   "version": "3.6.4"
  }
 },
 "nbformat": 4,
 "nbformat_minor": 2
}
