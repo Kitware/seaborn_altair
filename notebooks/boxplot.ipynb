{
 "cells": [
  {
   "cell_type": "markdown",
   "metadata": {},
   "source": [
    "# seaborn_altair.boxplot"
   ]
  },
  {
   "cell_type": "code",
   "execution_count": 1,
   "metadata": {},
   "outputs": [],
   "source": [
    "import seaborn as sns\n",
    "import seaborn_altair as salt\n",
    "tips = sns.load_dataset(\"tips\")"
   ]
  },
  {
   "cell_type": "code",
   "execution_count": 2,
   "metadata": {},
   "outputs": [
    {
     "data": {
      "application/vnd.vegalite.v2+json": {
       "$schema": "https://vega.github.io/schema/vega-lite/v2.4.1.json",
       "config": {
        "range": {
         "category": [
          "rgba(49,115,161,1)",
          "rgba(224,128,44,1)",
          "rgba(58,145,58,1)",
          "rgba(192,60,61,1)",
          "rgba(147,113,178,1)",
          "rgba(131,91,83,1)",
          "rgba(213,132,188,1)",
          "rgba(127,127,127,1)",
          "rgba(168,169,53,1)",
          "rgba(45,171,184,1)"
         ]
        },
        "view": {
         "height": 300,
         "width": 400
        }
       },
       "data": {
        "values": [
         {
          "x": 16.99
         },
         {
          "x": 10.34
         },
         {
          "x": 21.01
         },
         {
          "x": 23.68
         },
         {
          "x": 24.59
         },
         {
          "x": 25.29
         },
         {
          "x": 8.77
         },
         {
          "x": 26.88
         },
         {
          "x": 15.04
         },
         {
          "x": 14.78
         },
         {
          "x": 10.27
         },
         {
          "x": 35.26
         },
         {
          "x": 15.42
         },
         {
          "x": 18.43
         },
         {
          "x": 14.83
         },
         {
          "x": 21.58
         },
         {
          "x": 10.33
         },
         {
          "x": 16.29
         },
         {
          "x": 16.97
         },
         {
          "x": 20.65
         },
         {
          "x": 17.92
         },
         {
          "x": 20.29
         },
         {
          "x": 15.77
         },
         {
          "x": 39.42
         },
         {
          "x": 19.82
         },
         {
          "x": 17.81
         },
         {
          "x": 13.37
         },
         {
          "x": 12.69
         },
         {
          "x": 21.7
         },
         {
          "x": 19.65
         },
         {
          "x": 9.55
         },
         {
          "x": 18.35
         },
         {
          "x": 15.06
         },
         {
          "x": 20.69
         },
         {
          "x": 17.78
         },
         {
          "x": 24.06
         },
         {
          "x": 16.31
         },
         {
          "x": 16.93
         },
         {
          "x": 18.69
         },
         {
          "x": 31.27
         },
         {
          "x": 16.04
         },
         {
          "x": 17.46
         },
         {
          "x": 13.94
         },
         {
          "x": 9.68
         },
         {
          "x": 30.4
         },
         {
          "x": 18.29
         },
         {
          "x": 22.23
         },
         {
          "x": 32.4
         },
         {
          "x": 28.55
         },
         {
          "x": 18.04
         },
         {
          "x": 12.54
         },
         {
          "x": 10.29
         },
         {
          "x": 34.81
         },
         {
          "x": 9.94
         },
         {
          "x": 25.56
         },
         {
          "x": 19.49
         },
         {
          "x": 38.01
         },
         {
          "x": 26.41
         },
         {
          "x": 11.24
         },
         {
          "x": 48.27
         },
         {
          "x": 20.29
         },
         {
          "x": 13.81
         },
         {
          "x": 11.02
         },
         {
          "x": 18.29
         },
         {
          "x": 17.59
         },
         {
          "x": 20.08
         },
         {
          "x": 16.45
         },
         {
          "x": 3.07
         },
         {
          "x": 20.23
         },
         {
          "x": 15.01
         },
         {
          "x": 12.02
         },
         {
          "x": 17.07
         },
         {
          "x": 26.86
         },
         {
          "x": 25.28
         },
         {
          "x": 14.73
         },
         {
          "x": 10.51
         },
         {
          "x": 17.92
         },
         {
          "x": 27.2
         },
         {
          "x": 22.76
         },
         {
          "x": 17.29
         },
         {
          "x": 19.44
         },
         {
          "x": 16.66
         },
         {
          "x": 10.07
         },
         {
          "x": 32.68
         },
         {
          "x": 15.98
         },
         {
          "x": 34.83
         },
         {
          "x": 13.03
         },
         {
          "x": 18.28
         },
         {
          "x": 24.71
         },
         {
          "x": 21.16
         },
         {
          "x": 28.97
         },
         {
          "x": 22.49
         },
         {
          "x": 5.75
         },
         {
          "x": 16.32
         },
         {
          "x": 22.75
         },
         {
          "x": 40.17
         },
         {
          "x": 27.28
         },
         {
          "x": 12.03
         },
         {
          "x": 21.01
         },
         {
          "x": 12.46
         },
         {
          "x": 11.35
         },
         {
          "x": 15.38
         },
         {
          "x": 44.3
         },
         {
          "x": 22.42
         },
         {
          "x": 20.92
         },
         {
          "x": 15.36
         },
         {
          "x": 20.49
         },
         {
          "x": 25.21
         },
         {
          "x": 18.24
         },
         {
          "x": 14.31
         },
         {
          "x": 14
         },
         {
          "x": 7.25
         },
         {
          "x": 38.07
         },
         {
          "x": 23.95
         },
         {
          "x": 25.71
         },
         {
          "x": 17.31
         },
         {
          "x": 29.93
         },
         {
          "x": 10.65
         },
         {
          "x": 12.43
         },
         {
          "x": 24.08
         },
         {
          "x": 11.69
         },
         {
          "x": 13.42
         },
         {
          "x": 14.26
         },
         {
          "x": 15.95
         },
         {
          "x": 12.48
         },
         {
          "x": 29.8
         },
         {
          "x": 8.52
         },
         {
          "x": 14.52
         },
         {
          "x": 11.38
         },
         {
          "x": 22.82
         },
         {
          "x": 19.08
         },
         {
          "x": 20.27
         },
         {
          "x": 11.17
         },
         {
          "x": 12.26
         },
         {
          "x": 18.26
         },
         {
          "x": 8.51
         },
         {
          "x": 10.33
         },
         {
          "x": 14.15
         },
         {
          "x": 16
         },
         {
          "x": 13.16
         },
         {
          "x": 17.47
         },
         {
          "x": 34.3
         },
         {
          "x": 41.19
         },
         {
          "x": 27.05
         },
         {
          "x": 16.43
         },
         {
          "x": 8.35
         },
         {
          "x": 18.64
         },
         {
          "x": 11.87
         },
         {
          "x": 9.78
         },
         {
          "x": 7.51
         },
         {
          "x": 14.07
         },
         {
          "x": 13.13
         },
         {
          "x": 17.26
         },
         {
          "x": 24.55
         },
         {
          "x": 19.77
         },
         {
          "x": 29.85
         },
         {
          "x": 48.17
         },
         {
          "x": 25
         },
         {
          "x": 13.39
         },
         {
          "x": 16.49
         },
         {
          "x": 21.5
         },
         {
          "x": 12.66
         },
         {
          "x": 16.21
         },
         {
          "x": 13.81
         },
         {
          "x": 17.51
         },
         {
          "x": 24.52
         },
         {
          "x": 20.76
         },
         {
          "x": 31.71
         },
         {
          "x": 10.59
         },
         {
          "x": 10.63
         },
         {
          "x": 50.81
         },
         {
          "x": 15.81
         },
         {
          "x": 7.25
         },
         {
          "x": 31.85
         },
         {
          "x": 16.82
         },
         {
          "x": 32.9
         },
         {
          "x": 17.89
         },
         {
          "x": 14.48
         },
         {
          "x": 9.6
         },
         {
          "x": 34.63
         },
         {
          "x": 34.65
         },
         {
          "x": 23.33
         },
         {
          "x": 45.35
         },
         {
          "x": 23.17
         },
         {
          "x": 40.55
         },
         {
          "x": 20.69
         },
         {
          "x": 20.9
         },
         {
          "x": 30.46
         },
         {
          "x": 18.15
         },
         {
          "x": 23.1
         },
         {
          "x": 15.69
         },
         {
          "x": 19.81
         },
         {
          "x": 28.44
         },
         {
          "x": 15.48
         },
         {
          "x": 16.58
         },
         {
          "x": 7.56
         },
         {
          "x": 10.34
         },
         {
          "x": 43.11
         },
         {
          "x": 13
         },
         {
          "x": 13.51
         },
         {
          "x": 18.71
         },
         {
          "x": 12.74
         },
         {
          "x": 13
         },
         {
          "x": 16.4
         },
         {
          "x": 20.53
         },
         {
          "x": 16.47
         },
         {
          "x": 26.59
         },
         {
          "x": 38.73
         },
         {
          "x": 24.27
         },
         {
          "x": 12.76
         },
         {
          "x": 30.06
         },
         {
          "x": 25.89
         },
         {
          "x": 48.33
         },
         {
          "x": 13.27
         },
         {
          "x": 28.17
         },
         {
          "x": 12.9
         },
         {
          "x": 28.15
         },
         {
          "x": 11.59
         },
         {
          "x": 7.74
         },
         {
          "x": 30.14
         },
         {
          "x": 12.16
         },
         {
          "x": 13.42
         },
         {
          "x": 8.58
         },
         {
          "x": 15.98
         },
         {
          "x": 13.42
         },
         {
          "x": 16.27
         },
         {
          "x": 10.09
         },
         {
          "x": 20.45
         },
         {
          "x": 13.28
         },
         {
          "x": 22.12
         },
         {
          "x": 24.01
         },
         {
          "x": 15.69
         },
         {
          "x": 11.61
         },
         {
          "x": 10.77
         },
         {
          "x": 15.53
         },
         {
          "x": 10.07
         },
         {
          "x": 12.6
         },
         {
          "x": 32.83
         },
         {
          "x": 35.83
         },
         {
          "x": 29.03
         },
         {
          "x": 27.18
         },
         {
          "x": 22.67
         },
         {
          "x": 17.82
         },
         {
          "x": 18.78
         }
        ]
       },
       "layer": [
        {
         "encoding": {
          "x": {
           "aggregate": "min",
           "field": "x",
           "type": "quantitative"
          },
          "x2": {
           "aggregate": "max",
           "field": "x",
           "type": "quantitative"
          }
         },
         "mark": "rule"
        },
        {
         "encoding": {
          "x": {
           "aggregate": "q1",
           "axis": {
            "title": "x"
           },
           "field": "x",
           "type": "quantitative"
          },
          "x2": {
           "aggregate": "q3",
           "field": "x",
           "type": "quantitative"
          }
         },
         "mark": "bar"
        },
        {
         "encoding": {
          "x": {
           "aggregate": "median",
           "field": "x",
           "type": "quantitative"
          }
         },
         "mark": {
          "color": "black",
          "size": 18,
          "type": "tick"
         }
        }
       ]
      },
      "image/png": "[encoded data removed]",
      "text/plain": [
       "<VegaLite 2 object>\n",
       "\n",
       "If you see this message, it means the renderer has not been properly enabled\n",
       "for the frontend that you are using. For more information, see\n",
       "https://altair-viz.github.io/user_guide/troubleshooting.html\n"
      ]
     },
     "metadata": {},
     "output_type": "display_data"
    },
    {
     "data": {
      "image/png": "[encoded data removed]",
      "text/plain": [
       "<Figure size 432x288 with 1 Axes>"
      ]
     },
     "metadata": {},
     "output_type": "display_data"
    }
   ],
   "source": [
    "display(salt.boxplot(x=tips[\"total_bill\"]))\n",
    "ax = sns.boxplot(x=tips[\"total_bill\"])"
   ]
  },
  {
   "cell_type": "code",
   "execution_count": 3,
   "metadata": {},
   "outputs": [
    {
     "data": {
      "application/vnd.vegalite.v2+json": {
       "$schema": "https://vega.github.io/schema/vega-lite/v2.4.1.json",
       "config": {
        "range": {
         "category": [
          "rgba(49,115,161,1)",
          "rgba(224,128,44,1)",
          "rgba(58,145,58,1)",
          "rgba(192,60,61,1)",
          "rgba(147,113,178,1)",
          "rgba(131,91,83,1)",
          "rgba(213,132,188,1)",
          "rgba(127,127,127,1)",
          "rgba(168,169,53,1)",
          "rgba(45,171,184,1)"
         ]
        },
        "view": {
         "height": 300,
         "width": 400
        }
       },
       "data": {
        "values": [
         {
          "day": "Sun",
          "sex": "Female",
          "size": 2,
          "smoker": "No",
          "time": "Dinner",
          "tip": 1.01,
          "total_bill": 16.99
         },
         {
          "day": "Sun",
          "sex": "Male",
          "size": 3,
          "smoker": "No",
          "time": "Dinner",
          "tip": 1.66,
          "total_bill": 10.34
         },
         {
          "day": "Sun",
          "sex": "Male",
          "size": 3,
          "smoker": "No",
          "time": "Dinner",
          "tip": 3.5,
          "total_bill": 21.01
         },
         {
          "day": "Sun",
          "sex": "Male",
          "size": 2,
          "smoker": "No",
          "time": "Dinner",
          "tip": 3.31,
          "total_bill": 23.68
         },
         {
          "day": "Sun",
          "sex": "Female",
          "size": 4,
          "smoker": "No",
          "time": "Dinner",
          "tip": 3.61,
          "total_bill": 24.59
         },
         {
          "day": "Sun",
          "sex": "Male",
          "size": 4,
          "smoker": "No",
          "time": "Dinner",
          "tip": 4.71,
          "total_bill": 25.29
         },
         {
          "day": "Sun",
          "sex": "Male",
          "size": 2,
          "smoker": "No",
          "time": "Dinner",
          "tip": 2,
          "total_bill": 8.77
         },
         {
          "day": "Sun",
          "sex": "Male",
          "size": 4,
          "smoker": "No",
          "time": "Dinner",
          "tip": 3.12,
          "total_bill": 26.88
         },
         {
          "day": "Sun",
          "sex": "Male",
          "size": 2,
          "smoker": "No",
          "time": "Dinner",
          "tip": 1.96,
          "total_bill": 15.04
         },
         {
          "day": "Sun",
          "sex": "Male",
          "size": 2,
          "smoker": "No",
          "time": "Dinner",
          "tip": 3.23,
          "total_bill": 14.78
         },
         {
          "day": "Sun",
          "sex": "Male",
          "size": 2,
          "smoker": "No",
          "time": "Dinner",
          "tip": 1.71,
          "total_bill": 10.27
         },
         {
          "day": "Sun",
          "sex": "Female",
          "size": 4,
          "smoker": "No",
          "time": "Dinner",
          "tip": 5,
          "total_bill": 35.26
         },
         {
          "day": "Sun",
          "sex": "Male",
          "size": 2,
          "smoker": "No",
          "time": "Dinner",
          "tip": 1.57,
          "total_bill": 15.42
         },
         {
          "day": "Sun",
          "sex": "Male",
          "size": 4,
          "smoker": "No",
          "time": "Dinner",
          "tip": 3,
          "total_bill": 18.43
         },
         {
          "day": "Sun",
          "sex": "Female",
          "size": 2,
          "smoker": "No",
          "time": "Dinner",
          "tip": 3.02,
          "total_bill": 14.83
         },
         {
          "day": "Sun",
          "sex": "Male",
          "size": 2,
          "smoker": "No",
          "time": "Dinner",
          "tip": 3.92,
          "total_bill": 21.58
         },
         {
          "day": "Sun",
          "sex": "Female",
          "size": 3,
          "smoker": "No",
          "time": "Dinner",
          "tip": 1.67,
          "total_bill": 10.33
         },
         {
          "day": "Sun",
          "sex": "Male",
          "size": 3,
          "smoker": "No",
          "time": "Dinner",
          "tip": 3.71,
          "total_bill": 16.29
         },
         {
          "day": "Sun",
          "sex": "Female",
          "size": 3,
          "smoker": "No",
          "time": "Dinner",
          "tip": 3.5,
          "total_bill": 16.97
         },
         {
          "day": "Sat",
          "sex": "Male",
          "size": 3,
          "smoker": "No",
          "time": "Dinner",
          "tip": 3.35,
          "total_bill": 20.65
         },
         {
          "day": "Sat",
          "sex": "Male",
          "size": 2,
          "smoker": "No",
          "time": "Dinner",
          "tip": 4.08,
          "total_bill": 17.92
         },
         {
          "day": "Sat",
          "sex": "Female",
          "size": 2,
          "smoker": "No",
          "time": "Dinner",
          "tip": 2.75,
          "total_bill": 20.29
         },
         {
          "day": "Sat",
          "sex": "Female",
          "size": 2,
          "smoker": "No",
          "time": "Dinner",
          "tip": 2.23,
          "total_bill": 15.77
         },
         {
          "day": "Sat",
          "sex": "Male",
          "size": 4,
          "smoker": "No",
          "time": "Dinner",
          "tip": 7.58,
          "total_bill": 39.42
         },
         {
          "day": "Sat",
          "sex": "Male",
          "size": 2,
          "smoker": "No",
          "time": "Dinner",
          "tip": 3.18,
          "total_bill": 19.82
         },
         {
          "day": "Sat",
          "sex": "Male",
          "size": 4,
          "smoker": "No",
          "time": "Dinner",
          "tip": 2.34,
          "total_bill": 17.81
         },
         {
          "day": "Sat",
          "sex": "Male",
          "size": 2,
          "smoker": "No",
          "time": "Dinner",
          "tip": 2,
          "total_bill": 13.37
         },
         {
          "day": "Sat",
          "sex": "Male",
          "size": 2,
          "smoker": "No",
          "time": "Dinner",
          "tip": 2,
          "total_bill": 12.69
         },
         {
          "day": "Sat",
          "sex": "Male",
          "size": 2,
          "smoker": "No",
          "time": "Dinner",
          "tip": 4.3,
          "total_bill": 21.7
         },
         {
          "day": "Sat",
          "sex": "Female",
          "size": 2,
          "smoker": "No",
          "time": "Dinner",
          "tip": 3,
          "total_bill": 19.65
         },
         {
          "day": "Sat",
          "sex": "Male",
          "size": 2,
          "smoker": "No",
          "time": "Dinner",
          "tip": 1.45,
          "total_bill": 9.55
         },
         {
          "day": "Sat",
          "sex": "Male",
          "size": 4,
          "smoker": "No",
          "time": "Dinner",
          "tip": 2.5,
          "total_bill": 18.35
         },
         {
          "day": "Sat",
          "sex": "Female",
          "size": 2,
          "smoker": "No",
          "time": "Dinner",
          "tip": 3,
          "total_bill": 15.06
         },
         {
          "day": "Sat",
          "sex": "Female",
          "size": 4,
          "smoker": "No",
          "time": "Dinner",
          "tip": 2.45,
          "total_bill": 20.69
         },
         {
          "day": "Sat",
          "sex": "Male",
          "size": 2,
          "smoker": "No",
          "time": "Dinner",
          "tip": 3.27,
          "total_bill": 17.78
         },
         {
          "day": "Sat",
          "sex": "Male",
          "size": 3,
          "smoker": "No",
          "time": "Dinner",
          "tip": 3.6,
          "total_bill": 24.06
         },
         {
          "day": "Sat",
          "sex": "Male",
          "size": 3,
          "smoker": "No",
          "time": "Dinner",
          "tip": 2,
          "total_bill": 16.31
         },
         {
          "day": "Sat",
          "sex": "Female",
          "size": 3,
          "smoker": "No",
          "time": "Dinner",
          "tip": 3.07,
          "total_bill": 16.93
         },
         {
          "day": "Sat",
          "sex": "Male",
          "size": 3,
          "smoker": "No",
          "time": "Dinner",
          "tip": 2.31,
          "total_bill": 18.69
         },
         {
          "day": "Sat",
          "sex": "Male",
          "size": 3,
          "smoker": "No",
          "time": "Dinner",
          "tip": 5,
          "total_bill": 31.27
         },
         {
          "day": "Sat",
          "sex": "Male",
          "size": 3,
          "smoker": "No",
          "time": "Dinner",
          "tip": 2.24,
          "total_bill": 16.04
         },
         {
          "day": "Sun",
          "sex": "Male",
          "size": 2,
          "smoker": "No",
          "time": "Dinner",
          "tip": 2.54,
          "total_bill": 17.46
         },
         {
          "day": "Sun",
          "sex": "Male",
          "size": 2,
          "smoker": "No",
          "time": "Dinner",
          "tip": 3.06,
          "total_bill": 13.94
         },
         {
          "day": "Sun",
          "sex": "Male",
          "size": 2,
          "smoker": "No",
          "time": "Dinner",
          "tip": 1.32,
          "total_bill": 9.68
         },
         {
          "day": "Sun",
          "sex": "Male",
          "size": 4,
          "smoker": "No",
          "time": "Dinner",
          "tip": 5.6,
          "total_bill": 30.4
         },
         {
          "day": "Sun",
          "sex": "Male",
          "size": 2,
          "smoker": "No",
          "time": "Dinner",
          "tip": 3,
          "total_bill": 18.29
         },
         {
          "day": "Sun",
          "sex": "Male",
          "size": 2,
          "smoker": "No",
          "time": "Dinner",
          "tip": 5,
          "total_bill": 22.23
         },
         {
          "day": "Sun",
          "sex": "Male",
          "size": 4,
          "smoker": "No",
          "time": "Dinner",
          "tip": 6,
          "total_bill": 32.4
         },
         {
          "day": "Sun",
          "sex": "Male",
          "size": 3,
          "smoker": "No",
          "time": "Dinner",
          "tip": 2.05,
          "total_bill": 28.55
         },
         {
          "day": "Sun",
          "sex": "Male",
          "size": 2,
          "smoker": "No",
          "time": "Dinner",
          "tip": 3,
          "total_bill": 18.04
         },
         {
          "day": "Sun",
          "sex": "Male",
          "size": 2,
          "smoker": "No",
          "time": "Dinner",
          "tip": 2.5,
          "total_bill": 12.54
         },
         {
          "day": "Sun",
          "sex": "Female",
          "size": 2,
          "smoker": "No",
          "time": "Dinner",
          "tip": 2.6,
          "total_bill": 10.29
         },
         {
          "day": "Sun",
          "sex": "Female",
          "size": 4,
          "smoker": "No",
          "time": "Dinner",
          "tip": 5.2,
          "total_bill": 34.81
         },
         {
          "day": "Sun",
          "sex": "Male",
          "size": 2,
          "smoker": "No",
          "time": "Dinner",
          "tip": 1.56,
          "total_bill": 9.94
         },
         {
          "day": "Sun",
          "sex": "Male",
          "size": 4,
          "smoker": "No",
          "time": "Dinner",
          "tip": 4.34,
          "total_bill": 25.56
         },
         {
          "day": "Sun",
          "sex": "Male",
          "size": 2,
          "smoker": "No",
          "time": "Dinner",
          "tip": 3.51,
          "total_bill": 19.49
         },
         {
          "day": "Sat",
          "sex": "Male",
          "size": 4,
          "smoker": "Yes",
          "time": "Dinner",
          "tip": 3,
          "total_bill": 38.01
         },
         {
          "day": "Sat",
          "sex": "Female",
          "size": 2,
          "smoker": "No",
          "time": "Dinner",
          "tip": 1.5,
          "total_bill": 26.41
         },
         {
          "day": "Sat",
          "sex": "Male",
          "size": 2,
          "smoker": "Yes",
          "time": "Dinner",
          "tip": 1.76,
          "total_bill": 11.24
         },
         {
          "day": "Sat",
          "sex": "Male",
          "size": 4,
          "smoker": "No",
          "time": "Dinner",
          "tip": 6.73,
          "total_bill": 48.27
         },
         {
          "day": "Sat",
          "sex": "Male",
          "size": 2,
          "smoker": "Yes",
          "time": "Dinner",
          "tip": 3.21,
          "total_bill": 20.29
         },
         {
          "day": "Sat",
          "sex": "Male",
          "size": 2,
          "smoker": "Yes",
          "time": "Dinner",
          "tip": 2,
          "total_bill": 13.81
         },
         {
          "day": "Sat",
          "sex": "Male",
          "size": 2,
          "smoker": "Yes",
          "time": "Dinner",
          "tip": 1.98,
          "total_bill": 11.02
         },
         {
          "day": "Sat",
          "sex": "Male",
          "size": 4,
          "smoker": "Yes",
          "time": "Dinner",
          "tip": 3.76,
          "total_bill": 18.29
         },
         {
          "day": "Sat",
          "sex": "Male",
          "size": 3,
          "smoker": "No",
          "time": "Dinner",
          "tip": 2.64,
          "total_bill": 17.59
         },
         {
          "day": "Sat",
          "sex": "Male",
          "size": 3,
          "smoker": "No",
          "time": "Dinner",
          "tip": 3.15,
          "total_bill": 20.08
         },
         {
          "day": "Sat",
          "sex": "Female",
          "size": 2,
          "smoker": "No",
          "time": "Dinner",
          "tip": 2.47,
          "total_bill": 16.45
         },
         {
          "day": "Sat",
          "sex": "Female",
          "size": 1,
          "smoker": "Yes",
          "time": "Dinner",
          "tip": 1,
          "total_bill": 3.07
         },
         {
          "day": "Sat",
          "sex": "Male",
          "size": 2,
          "smoker": "No",
          "time": "Dinner",
          "tip": 2.01,
          "total_bill": 20.23
         },
         {
          "day": "Sat",
          "sex": "Male",
          "size": 2,
          "smoker": "Yes",
          "time": "Dinner",
          "tip": 2.09,
          "total_bill": 15.01
         },
         {
          "day": "Sat",
          "sex": "Male",
          "size": 2,
          "smoker": "No",
          "time": "Dinner",
          "tip": 1.97,
          "total_bill": 12.02
         },
         {
          "day": "Sat",
          "sex": "Female",
          "size": 3,
          "smoker": "No",
          "time": "Dinner",
          "tip": 3,
          "total_bill": 17.07
         },
         {
          "day": "Sat",
          "sex": "Female",
          "size": 2,
          "smoker": "Yes",
          "time": "Dinner",
          "tip": 3.14,
          "total_bill": 26.86
         },
         {
          "day": "Sat",
          "sex": "Female",
          "size": 2,
          "smoker": "Yes",
          "time": "Dinner",
          "tip": 5,
          "total_bill": 25.28
         },
         {
          "day": "Sat",
          "sex": "Female",
          "size": 2,
          "smoker": "No",
          "time": "Dinner",
          "tip": 2.2,
          "total_bill": 14.73
         },
         {
          "day": "Sat",
          "sex": "Male",
          "size": 2,
          "smoker": "No",
          "time": "Dinner",
          "tip": 1.25,
          "total_bill": 10.51
         },
         {
          "day": "Sat",
          "sex": "Male",
          "size": 2,
          "smoker": "Yes",
          "time": "Dinner",
          "tip": 3.08,
          "total_bill": 17.92
         },
         {
          "day": "Thur",
          "sex": "Male",
          "size": 4,
          "smoker": "No",
          "time": "Lunch",
          "tip": 4,
          "total_bill": 27.2
         },
         {
          "day": "Thur",
          "sex": "Male",
          "size": 2,
          "smoker": "No",
          "time": "Lunch",
          "tip": 3,
          "total_bill": 22.76
         },
         {
          "day": "Thur",
          "sex": "Male",
          "size": 2,
          "smoker": "No",
          "time": "Lunch",
          "tip": 2.71,
          "total_bill": 17.29
         },
         {
          "day": "Thur",
          "sex": "Male",
          "size": 2,
          "smoker": "Yes",
          "time": "Lunch",
          "tip": 3,
          "total_bill": 19.44
         },
         {
          "day": "Thur",
          "sex": "Male",
          "size": 2,
          "smoker": "No",
          "time": "Lunch",
          "tip": 3.4,
          "total_bill": 16.66
         },
         {
          "day": "Thur",
          "sex": "Female",
          "size": 1,
          "smoker": "No",
          "time": "Lunch",
          "tip": 1.83,
          "total_bill": 10.07
         },
         {
          "day": "Thur",
          "sex": "Male",
          "size": 2,
          "smoker": "Yes",
          "time": "Lunch",
          "tip": 5,
          "total_bill": 32.68
         },
         {
          "day": "Thur",
          "sex": "Male",
          "size": 2,
          "smoker": "No",
          "time": "Lunch",
          "tip": 2.03,
          "total_bill": 15.98
         },
         {
          "day": "Thur",
          "sex": "Female",
          "size": 4,
          "smoker": "No",
          "time": "Lunch",
          "tip": 5.17,
          "total_bill": 34.83
         },
         {
          "day": "Thur",
          "sex": "Male",
          "size": 2,
          "smoker": "No",
          "time": "Lunch",
          "tip": 2,
          "total_bill": 13.03
         },
         {
          "day": "Thur",
          "sex": "Male",
          "size": 2,
          "smoker": "No",
          "time": "Lunch",
          "tip": 4,
          "total_bill": 18.28
         },
         {
          "day": "Thur",
          "sex": "Male",
          "size": 2,
          "smoker": "No",
          "time": "Lunch",
          "tip": 5.85,
          "total_bill": 24.71
         },
         {
          "day": "Thur",
          "sex": "Male",
          "size": 2,
          "smoker": "No",
          "time": "Lunch",
          "tip": 3,
          "total_bill": 21.16
         },
         {
          "day": "Fri",
          "sex": "Male",
          "size": 2,
          "smoker": "Yes",
          "time": "Dinner",
          "tip": 3,
          "total_bill": 28.97
         },
         {
          "day": "Fri",
          "sex": "Male",
          "size": 2,
          "smoker": "No",
          "time": "Dinner",
          "tip": 3.5,
          "total_bill": 22.49
         },
         {
          "day": "Fri",
          "sex": "Female",
          "size": 2,
          "smoker": "Yes",
          "time": "Dinner",
          "tip": 1,
          "total_bill": 5.75
         },
         {
          "day": "Fri",
          "sex": "Female",
          "size": 2,
          "smoker": "Yes",
          "time": "Dinner",
          "tip": 4.3,
          "total_bill": 16.32
         },
         {
          "day": "Fri",
          "sex": "Female",
          "size": 2,
          "smoker": "No",
          "time": "Dinner",
          "tip": 3.25,
          "total_bill": 22.75
         },
         {
          "day": "Fri",
          "sex": "Male",
          "size": 4,
          "smoker": "Yes",
          "time": "Dinner",
          "tip": 4.73,
          "total_bill": 40.17
         },
         {
          "day": "Fri",
          "sex": "Male",
          "size": 2,
          "smoker": "Yes",
          "time": "Dinner",
          "tip": 4,
          "total_bill": 27.28
         },
         {
          "day": "Fri",
          "sex": "Male",
          "size": 2,
          "smoker": "Yes",
          "time": "Dinner",
          "tip": 1.5,
          "total_bill": 12.03
         },
         {
          "day": "Fri",
          "sex": "Male",
          "size": 2,
          "smoker": "Yes",
          "time": "Dinner",
          "tip": 3,
          "total_bill": 21.01
         },
         {
          "day": "Fri",
          "sex": "Male",
          "size": 2,
          "smoker": "No",
          "time": "Dinner",
          "tip": 1.5,
          "total_bill": 12.46
         },
         {
          "day": "Fri",
          "sex": "Female",
          "size": 2,
          "smoker": "Yes",
          "time": "Dinner",
          "tip": 2.5,
          "total_bill": 11.35
         },
         {
          "day": "Fri",
          "sex": "Female",
          "size": 2,
          "smoker": "Yes",
          "time": "Dinner",
          "tip": 3,
          "total_bill": 15.38
         },
         {
          "day": "Sat",
          "sex": "Female",
          "size": 3,
          "smoker": "Yes",
          "time": "Dinner",
          "tip": 2.5,
          "total_bill": 44.3
         },
         {
          "day": "Sat",
          "sex": "Female",
          "size": 2,
          "smoker": "Yes",
          "time": "Dinner",
          "tip": 3.48,
          "total_bill": 22.42
         },
         {
          "day": "Sat",
          "sex": "Female",
          "size": 2,
          "smoker": "No",
          "time": "Dinner",
          "tip": 4.08,
          "total_bill": 20.92
         },
         {
          "day": "Sat",
          "sex": "Male",
          "size": 2,
          "smoker": "Yes",
          "time": "Dinner",
          "tip": 1.64,
          "total_bill": 15.36
         },
         {
          "day": "Sat",
          "sex": "Male",
          "size": 2,
          "smoker": "Yes",
          "time": "Dinner",
          "tip": 4.06,
          "total_bill": 20.49
         },
         {
          "day": "Sat",
          "sex": "Male",
          "size": 2,
          "smoker": "Yes",
          "time": "Dinner",
          "tip": 4.29,
          "total_bill": 25.21
         },
         {
          "day": "Sat",
          "sex": "Male",
          "size": 2,
          "smoker": "No",
          "time": "Dinner",
          "tip": 3.76,
          "total_bill": 18.24
         },
         {
          "day": "Sat",
          "sex": "Female",
          "size": 2,
          "smoker": "Yes",
          "time": "Dinner",
          "tip": 4,
          "total_bill": 14.31
         },
         {
          "day": "Sat",
          "sex": "Male",
          "size": 2,
          "smoker": "No",
          "time": "Dinner",
          "tip": 3,
          "total_bill": 14
         },
         {
          "day": "Sat",
          "sex": "Female",
          "size": 1,
          "smoker": "No",
          "time": "Dinner",
          "tip": 1,
          "total_bill": 7.25
         },
         {
          "day": "Sun",
          "sex": "Male",
          "size": 3,
          "smoker": "No",
          "time": "Dinner",
          "tip": 4,
          "total_bill": 38.07
         },
         {
          "day": "Sun",
          "sex": "Male",
          "size": 2,
          "smoker": "No",
          "time": "Dinner",
          "tip": 2.55,
          "total_bill": 23.95
         },
         {
          "day": "Sun",
          "sex": "Female",
          "size": 3,
          "smoker": "No",
          "time": "Dinner",
          "tip": 4,
          "total_bill": 25.71
         },
         {
          "day": "Sun",
          "sex": "Female",
          "size": 2,
          "smoker": "No",
          "time": "Dinner",
          "tip": 3.5,
          "total_bill": 17.31
         },
         {
          "day": "Sun",
          "sex": "Male",
          "size": 4,
          "smoker": "No",
          "time": "Dinner",
          "tip": 5.07,
          "total_bill": 29.93
         },
         {
          "day": "Thur",
          "sex": "Female",
          "size": 2,
          "smoker": "No",
          "time": "Lunch",
          "tip": 1.5,
          "total_bill": 10.65
         },
         {
          "day": "Thur",
          "sex": "Female",
          "size": 2,
          "smoker": "No",
          "time": "Lunch",
          "tip": 1.8,
          "total_bill": 12.43
         },
         {
          "day": "Thur",
          "sex": "Female",
          "size": 4,
          "smoker": "No",
          "time": "Lunch",
          "tip": 2.92,
          "total_bill": 24.08
         },
         {
          "day": "Thur",
          "sex": "Male",
          "size": 2,
          "smoker": "No",
          "time": "Lunch",
          "tip": 2.31,
          "total_bill": 11.69
         },
         {
          "day": "Thur",
          "sex": "Female",
          "size": 2,
          "smoker": "No",
          "time": "Lunch",
          "tip": 1.68,
          "total_bill": 13.42
         },
         {
          "day": "Thur",
          "sex": "Male",
          "size": 2,
          "smoker": "No",
          "time": "Lunch",
          "tip": 2.5,
          "total_bill": 14.26
         },
         {
          "day": "Thur",
          "sex": "Male",
          "size": 2,
          "smoker": "No",
          "time": "Lunch",
          "tip": 2,
          "total_bill": 15.95
         },
         {
          "day": "Thur",
          "sex": "Female",
          "size": 2,
          "smoker": "No",
          "time": "Lunch",
          "tip": 2.52,
          "total_bill": 12.48
         },
         {
          "day": "Thur",
          "sex": "Female",
          "size": 6,
          "smoker": "No",
          "time": "Lunch",
          "tip": 4.2,
          "total_bill": 29.8
         },
         {
          "day": "Thur",
          "sex": "Male",
          "size": 2,
          "smoker": "No",
          "time": "Lunch",
          "tip": 1.48,
          "total_bill": 8.52
         },
         {
          "day": "Thur",
          "sex": "Female",
          "size": 2,
          "smoker": "No",
          "time": "Lunch",
          "tip": 2,
          "total_bill": 14.52
         },
         {
          "day": "Thur",
          "sex": "Female",
          "size": 2,
          "smoker": "No",
          "time": "Lunch",
          "tip": 2,
          "total_bill": 11.38
         },
         {
          "day": "Thur",
          "sex": "Male",
          "size": 3,
          "smoker": "No",
          "time": "Lunch",
          "tip": 2.18,
          "total_bill": 22.82
         },
         {
          "day": "Thur",
          "sex": "Male",
          "size": 2,
          "smoker": "No",
          "time": "Lunch",
          "tip": 1.5,
          "total_bill": 19.08
         },
         {
          "day": "Thur",
          "sex": "Female",
          "size": 2,
          "smoker": "No",
          "time": "Lunch",
          "tip": 2.83,
          "total_bill": 20.27
         },
         {
          "day": "Thur",
          "sex": "Female",
          "size": 2,
          "smoker": "No",
          "time": "Lunch",
          "tip": 1.5,
          "total_bill": 11.17
         },
         {
          "day": "Thur",
          "sex": "Female",
          "size": 2,
          "smoker": "No",
          "time": "Lunch",
          "tip": 2,
          "total_bill": 12.26
         },
         {
          "day": "Thur",
          "sex": "Female",
          "size": 2,
          "smoker": "No",
          "time": "Lunch",
          "tip": 3.25,
          "total_bill": 18.26
         },
         {
          "day": "Thur",
          "sex": "Female",
          "size": 2,
          "smoker": "No",
          "time": "Lunch",
          "tip": 1.25,
          "total_bill": 8.51
         },
         {
          "day": "Thur",
          "sex": "Female",
          "size": 2,
          "smoker": "No",
          "time": "Lunch",
          "tip": 2,
          "total_bill": 10.33
         },
         {
          "day": "Thur",
          "sex": "Female",
          "size": 2,
          "smoker": "No",
          "time": "Lunch",
          "tip": 2,
          "total_bill": 14.15
         },
         {
          "day": "Thur",
          "sex": "Male",
          "size": 2,
          "smoker": "Yes",
          "time": "Lunch",
          "tip": 2,
          "total_bill": 16
         },
         {
          "day": "Thur",
          "sex": "Female",
          "size": 2,
          "smoker": "No",
          "time": "Lunch",
          "tip": 2.75,
          "total_bill": 13.16
         },
         {
          "day": "Thur",
          "sex": "Female",
          "size": 2,
          "smoker": "No",
          "time": "Lunch",
          "tip": 3.5,
          "total_bill": 17.47
         },
         {
          "day": "Thur",
          "sex": "Male",
          "size": 6,
          "smoker": "No",
          "time": "Lunch",
          "tip": 6.7,
          "total_bill": 34.3
         },
         {
          "day": "Thur",
          "sex": "Male",
          "size": 5,
          "smoker": "No",
          "time": "Lunch",
          "tip": 5,
          "total_bill": 41.19
         },
         {
          "day": "Thur",
          "sex": "Female",
          "size": 6,
          "smoker": "No",
          "time": "Lunch",
          "tip": 5,
          "total_bill": 27.05
         },
         {
          "day": "Thur",
          "sex": "Female",
          "size": 2,
          "smoker": "No",
          "time": "Lunch",
          "tip": 2.3,
          "total_bill": 16.43
         },
         {
          "day": "Thur",
          "sex": "Female",
          "size": 2,
          "smoker": "No",
          "time": "Lunch",
          "tip": 1.5,
          "total_bill": 8.35
         },
         {
          "day": "Thur",
          "sex": "Female",
          "size": 3,
          "smoker": "No",
          "time": "Lunch",
          "tip": 1.36,
          "total_bill": 18.64
         },
         {
          "day": "Thur",
          "sex": "Female",
          "size": 2,
          "smoker": "No",
          "time": "Lunch",
          "tip": 1.63,
          "total_bill": 11.87
         },
         {
          "day": "Thur",
          "sex": "Male",
          "size": 2,
          "smoker": "No",
          "time": "Lunch",
          "tip": 1.73,
          "total_bill": 9.78
         },
         {
          "day": "Thur",
          "sex": "Male",
          "size": 2,
          "smoker": "No",
          "time": "Lunch",
          "tip": 2,
          "total_bill": 7.51
         },
         {
          "day": "Sun",
          "sex": "Male",
          "size": 2,
          "smoker": "No",
          "time": "Dinner",
          "tip": 2.5,
          "total_bill": 14.07
         },
         {
          "day": "Sun",
          "sex": "Male",
          "size": 2,
          "smoker": "No",
          "time": "Dinner",
          "tip": 2,
          "total_bill": 13.13
         },
         {
          "day": "Sun",
          "sex": "Male",
          "size": 3,
          "smoker": "No",
          "time": "Dinner",
          "tip": 2.74,
          "total_bill": 17.26
         },
         {
          "day": "Sun",
          "sex": "Male",
          "size": 4,
          "smoker": "No",
          "time": "Dinner",
          "tip": 2,
          "total_bill": 24.55
         },
         {
          "day": "Sun",
          "sex": "Male",
          "size": 4,
          "smoker": "No",
          "time": "Dinner",
          "tip": 2,
          "total_bill": 19.77
         },
         {
          "day": "Sun",
          "sex": "Female",
          "size": 5,
          "smoker": "No",
          "time": "Dinner",
          "tip": 5.14,
          "total_bill": 29.85
         },
         {
          "day": "Sun",
          "sex": "Male",
          "size": 6,
          "smoker": "No",
          "time": "Dinner",
          "tip": 5,
          "total_bill": 48.17
         },
         {
          "day": "Sun",
          "sex": "Female",
          "size": 4,
          "smoker": "No",
          "time": "Dinner",
          "tip": 3.75,
          "total_bill": 25
         },
         {
          "day": "Sun",
          "sex": "Female",
          "size": 2,
          "smoker": "No",
          "time": "Dinner",
          "tip": 2.61,
          "total_bill": 13.39
         },
         {
          "day": "Sun",
          "sex": "Male",
          "size": 4,
          "smoker": "No",
          "time": "Dinner",
          "tip": 2,
          "total_bill": 16.49
         },
         {
          "day": "Sun",
          "sex": "Male",
          "size": 4,
          "smoker": "No",
          "time": "Dinner",
          "tip": 3.5,
          "total_bill": 21.5
         },
         {
          "day": "Sun",
          "sex": "Male",
          "size": 2,
          "smoker": "No",
          "time": "Dinner",
          "tip": 2.5,
          "total_bill": 12.66
         },
         {
          "day": "Sun",
          "sex": "Female",
          "size": 3,
          "smoker": "No",
          "time": "Dinner",
          "tip": 2,
          "total_bill": 16.21
         },
         {
          "day": "Sun",
          "sex": "Male",
          "size": 2,
          "smoker": "No",
          "time": "Dinner",
          "tip": 2,
          "total_bill": 13.81
         },
         {
          "day": "Sun",
          "sex": "Female",
          "size": 2,
          "smoker": "Yes",
          "time": "Dinner",
          "tip": 3,
          "total_bill": 17.51
         },
         {
          "day": "Sun",
          "sex": "Male",
          "size": 3,
          "smoker": "No",
          "time": "Dinner",
          "tip": 3.48,
          "total_bill": 24.52
         },
         {
          "day": "Sun",
          "sex": "Male",
          "size": 2,
          "smoker": "No",
          "time": "Dinner",
          "tip": 2.24,
          "total_bill": 20.76
         },
         {
          "day": "Sun",
          "sex": "Male",
          "size": 4,
          "smoker": "No",
          "time": "Dinner",
          "tip": 4.5,
          "total_bill": 31.71
         },
         {
          "day": "Sat",
          "sex": "Female",
          "size": 2,
          "smoker": "Yes",
          "time": "Dinner",
          "tip": 1.61,
          "total_bill": 10.59
         },
         {
          "day": "Sat",
          "sex": "Female",
          "size": 2,
          "smoker": "Yes",
          "time": "Dinner",
          "tip": 2,
          "total_bill": 10.63
         },
         {
          "day": "Sat",
          "sex": "Male",
          "size": 3,
          "smoker": "Yes",
          "time": "Dinner",
          "tip": 10,
          "total_bill": 50.81
         },
         {
          "day": "Sat",
          "sex": "Male",
          "size": 2,
          "smoker": "Yes",
          "time": "Dinner",
          "tip": 3.16,
          "total_bill": 15.81
         },
         {
          "day": "Sun",
          "sex": "Male",
          "size": 2,
          "smoker": "Yes",
          "time": "Dinner",
          "tip": 5.15,
          "total_bill": 7.25
         },
         {
          "day": "Sun",
          "sex": "Male",
          "size": 2,
          "smoker": "Yes",
          "time": "Dinner",
          "tip": 3.18,
          "total_bill": 31.85
         },
         {
          "day": "Sun",
          "sex": "Male",
          "size": 2,
          "smoker": "Yes",
          "time": "Dinner",
          "tip": 4,
          "total_bill": 16.82
         },
         {
          "day": "Sun",
          "sex": "Male",
          "size": 2,
          "smoker": "Yes",
          "time": "Dinner",
          "tip": 3.11,
          "total_bill": 32.9
         },
         {
          "day": "Sun",
          "sex": "Male",
          "size": 2,
          "smoker": "Yes",
          "time": "Dinner",
          "tip": 2,
          "total_bill": 17.89
         },
         {
          "day": "Sun",
          "sex": "Male",
          "size": 2,
          "smoker": "Yes",
          "time": "Dinner",
          "tip": 2,
          "total_bill": 14.48
         },
         {
          "day": "Sun",
          "sex": "Female",
          "size": 2,
          "smoker": "Yes",
          "time": "Dinner",
          "tip": 4,
          "total_bill": 9.6
         },
         {
          "day": "Sun",
          "sex": "Male",
          "size": 2,
          "smoker": "Yes",
          "time": "Dinner",
          "tip": 3.55,
          "total_bill": 34.63
         },
         {
          "day": "Sun",
          "sex": "Male",
          "size": 4,
          "smoker": "Yes",
          "time": "Dinner",
          "tip": 3.68,
          "total_bill": 34.65
         },
         {
          "day": "Sun",
          "sex": "Male",
          "size": 2,
          "smoker": "Yes",
          "time": "Dinner",
          "tip": 5.65,
          "total_bill": 23.33
         },
         {
          "day": "Sun",
          "sex": "Male",
          "size": 3,
          "smoker": "Yes",
          "time": "Dinner",
          "tip": 3.5,
          "total_bill": 45.35
         },
         {
          "day": "Sun",
          "sex": "Male",
          "size": 4,
          "smoker": "Yes",
          "time": "Dinner",
          "tip": 6.5,
          "total_bill": 23.17
         },
         {
          "day": "Sun",
          "sex": "Male",
          "size": 2,
          "smoker": "Yes",
          "time": "Dinner",
          "tip": 3,
          "total_bill": 40.55
         },
         {
          "day": "Sun",
          "sex": "Male",
          "size": 5,
          "smoker": "No",
          "time": "Dinner",
          "tip": 5,
          "total_bill": 20.69
         },
         {
          "day": "Sun",
          "sex": "Female",
          "size": 3,
          "smoker": "Yes",
          "time": "Dinner",
          "tip": 3.5,
          "total_bill": 20.9
         },
         {
          "day": "Sun",
          "sex": "Male",
          "size": 5,
          "smoker": "Yes",
          "time": "Dinner",
          "tip": 2,
          "total_bill": 30.46
         },
         {
          "day": "Sun",
          "sex": "Female",
          "size": 3,
          "smoker": "Yes",
          "time": "Dinner",
          "tip": 3.5,
          "total_bill": 18.15
         },
         {
          "day": "Sun",
          "sex": "Male",
          "size": 3,
          "smoker": "Yes",
          "time": "Dinner",
          "tip": 4,
          "total_bill": 23.1
         },
         {
          "day": "Sun",
          "sex": "Male",
          "size": 2,
          "smoker": "Yes",
          "time": "Dinner",
          "tip": 1.5,
          "total_bill": 15.69
         },
         {
          "day": "Thur",
          "sex": "Female",
          "size": 2,
          "smoker": "Yes",
          "time": "Lunch",
          "tip": 4.19,
          "total_bill": 19.81
         },
         {
          "day": "Thur",
          "sex": "Male",
          "size": 2,
          "smoker": "Yes",
          "time": "Lunch",
          "tip": 2.56,
          "total_bill": 28.44
         },
         {
          "day": "Thur",
          "sex": "Male",
          "size": 2,
          "smoker": "Yes",
          "time": "Lunch",
          "tip": 2.02,
          "total_bill": 15.48
         },
         {
          "day": "Thur",
          "sex": "Male",
          "size": 2,
          "smoker": "Yes",
          "time": "Lunch",
          "tip": 4,
          "total_bill": 16.58
         },
         {
          "day": "Thur",
          "sex": "Male",
          "size": 2,
          "smoker": "No",
          "time": "Lunch",
          "tip": 1.44,
          "total_bill": 7.56
         },
         {
          "day": "Thur",
          "sex": "Male",
          "size": 2,
          "smoker": "Yes",
          "time": "Lunch",
          "tip": 2,
          "total_bill": 10.34
         },
         {
          "day": "Thur",
          "sex": "Female",
          "size": 4,
          "smoker": "Yes",
          "time": "Lunch",
          "tip": 5,
          "total_bill": 43.11
         },
         {
          "day": "Thur",
          "sex": "Female",
          "size": 2,
          "smoker": "Yes",
          "time": "Lunch",
          "tip": 2,
          "total_bill": 13
         },
         {
          "day": "Thur",
          "sex": "Male",
          "size": 2,
          "smoker": "Yes",
          "time": "Lunch",
          "tip": 2,
          "total_bill": 13.51
         },
         {
          "day": "Thur",
          "sex": "Male",
          "size": 3,
          "smoker": "Yes",
          "time": "Lunch",
          "tip": 4,
          "total_bill": 18.71
         },
         {
          "day": "Thur",
          "sex": "Female",
          "size": 2,
          "smoker": "Yes",
          "time": "Lunch",
          "tip": 2.01,
          "total_bill": 12.74
         },
         {
          "day": "Thur",
          "sex": "Female",
          "size": 2,
          "smoker": "Yes",
          "time": "Lunch",
          "tip": 2,
          "total_bill": 13
         },
         {
          "day": "Thur",
          "sex": "Female",
          "size": 2,
          "smoker": "Yes",
          "time": "Lunch",
          "tip": 2.5,
          "total_bill": 16.4
         },
         {
          "day": "Thur",
          "sex": "Male",
          "size": 4,
          "smoker": "Yes",
          "time": "Lunch",
          "tip": 4,
          "total_bill": 20.53
         },
         {
          "day": "Thur",
          "sex": "Female",
          "size": 3,
          "smoker": "Yes",
          "time": "Lunch",
          "tip": 3.23,
          "total_bill": 16.47
         },
         {
          "day": "Sat",
          "sex": "Male",
          "size": 3,
          "smoker": "Yes",
          "time": "Dinner",
          "tip": 3.41,
          "total_bill": 26.59
         },
         {
          "day": "Sat",
          "sex": "Male",
          "size": 4,
          "smoker": "Yes",
          "time": "Dinner",
          "tip": 3,
          "total_bill": 38.73
         },
         {
          "day": "Sat",
          "sex": "Male",
          "size": 2,
          "smoker": "Yes",
          "time": "Dinner",
          "tip": 2.03,
          "total_bill": 24.27
         },
         {
          "day": "Sat",
          "sex": "Female",
          "size": 2,
          "smoker": "Yes",
          "time": "Dinner",
          "tip": 2.23,
          "total_bill": 12.76
         },
         {
          "day": "Sat",
          "sex": "Male",
          "size": 3,
          "smoker": "Yes",
          "time": "Dinner",
          "tip": 2,
          "total_bill": 30.06
         },
         {
          "day": "Sat",
          "sex": "Male",
          "size": 4,
          "smoker": "Yes",
          "time": "Dinner",
          "tip": 5.16,
          "total_bill": 25.89
         },
         {
          "day": "Sat",
          "sex": "Male",
          "size": 4,
          "smoker": "No",
          "time": "Dinner",
          "tip": 9,
          "total_bill": 48.33
         },
         {
          "day": "Sat",
          "sex": "Female",
          "size": 2,
          "smoker": "Yes",
          "time": "Dinner",
          "tip": 2.5,
          "total_bill": 13.27
         },
         {
          "day": "Sat",
          "sex": "Female",
          "size": 3,
          "smoker": "Yes",
          "time": "Dinner",
          "tip": 6.5,
          "total_bill": 28.17
         },
         {
          "day": "Sat",
          "sex": "Female",
          "size": 2,
          "smoker": "Yes",
          "time": "Dinner",
          "tip": 1.1,
          "total_bill": 12.9
         },
         {
          "day": "Sat",
          "sex": "Male",
          "size": 5,
          "smoker": "Yes",
          "time": "Dinner",
          "tip": 3,
          "total_bill": 28.15
         },
         {
          "day": "Sat",
          "sex": "Male",
          "size": 2,
          "smoker": "Yes",
          "time": "Dinner",
          "tip": 1.5,
          "total_bill": 11.59
         },
         {
          "day": "Sat",
          "sex": "Male",
          "size": 2,
          "smoker": "Yes",
          "time": "Dinner",
          "tip": 1.44,
          "total_bill": 7.74
         },
         {
          "day": "Sat",
          "sex": "Female",
          "size": 4,
          "smoker": "Yes",
          "time": "Dinner",
          "tip": 3.09,
          "total_bill": 30.14
         },
         {
          "day": "Fri",
          "sex": "Male",
          "size": 2,
          "smoker": "Yes",
          "time": "Lunch",
          "tip": 2.2,
          "total_bill": 12.16
         },
         {
          "day": "Fri",
          "sex": "Female",
          "size": 2,
          "smoker": "Yes",
          "time": "Lunch",
          "tip": 3.48,
          "total_bill": 13.42
         },
         {
          "day": "Fri",
          "sex": "Male",
          "size": 1,
          "smoker": "Yes",
          "time": "Lunch",
          "tip": 1.92,
          "total_bill": 8.58
         },
         {
          "day": "Fri",
          "sex": "Female",
          "size": 3,
          "smoker": "No",
          "time": "Lunch",
          "tip": 3,
          "total_bill": 15.98
         },
         {
          "day": "Fri",
          "sex": "Male",
          "size": 2,
          "smoker": "Yes",
          "time": "Lunch",
          "tip": 1.58,
          "total_bill": 13.42
         },
         {
          "day": "Fri",
          "sex": "Female",
          "size": 2,
          "smoker": "Yes",
          "time": "Lunch",
          "tip": 2.5,
          "total_bill": 16.27
         },
         {
          "day": "Fri",
          "sex": "Female",
          "size": 2,
          "smoker": "Yes",
          "time": "Lunch",
          "tip": 2,
          "total_bill": 10.09
         },
         {
          "day": "Sat",
          "sex": "Male",
          "size": 4,
          "smoker": "No",
          "time": "Dinner",
          "tip": 3,
          "total_bill": 20.45
         },
         {
          "day": "Sat",
          "sex": "Male",
          "size": 2,
          "smoker": "No",
          "time": "Dinner",
          "tip": 2.72,
          "total_bill": 13.28
         },
         {
          "day": "Sat",
          "sex": "Female",
          "size": 2,
          "smoker": "Yes",
          "time": "Dinner",
          "tip": 2.88,
          "total_bill": 22.12
         },
         {
          "day": "Sat",
          "sex": "Male",
          "size": 4,
          "smoker": "Yes",
          "time": "Dinner",
          "tip": 2,
          "total_bill": 24.01
         },
         {
          "day": "Sat",
          "sex": "Male",
          "size": 3,
          "smoker": "Yes",
          "time": "Dinner",
          "tip": 3,
          "total_bill": 15.69
         },
         {
          "day": "Sat",
          "sex": "Male",
          "size": 2,
          "smoker": "No",
          "time": "Dinner",
          "tip": 3.39,
          "total_bill": 11.61
         },
         {
          "day": "Sat",
          "sex": "Male",
          "size": 2,
          "smoker": "No",
          "time": "Dinner",
          "tip": 1.47,
          "total_bill": 10.77
         },
         {
          "day": "Sat",
          "sex": "Male",
          "size": 2,
          "smoker": "Yes",
          "time": "Dinner",
          "tip": 3,
          "total_bill": 15.53
         },
         {
          "day": "Sat",
          "sex": "Male",
          "size": 2,
          "smoker": "No",
          "time": "Dinner",
          "tip": 1.25,
          "total_bill": 10.07
         },
         {
          "day": "Sat",
          "sex": "Male",
          "size": 2,
          "smoker": "Yes",
          "time": "Dinner",
          "tip": 1,
          "total_bill": 12.6
         },
         {
          "day": "Sat",
          "sex": "Male",
          "size": 2,
          "smoker": "Yes",
          "time": "Dinner",
          "tip": 1.17,
          "total_bill": 32.83
         },
         {
          "day": "Sat",
          "sex": "Female",
          "size": 3,
          "smoker": "No",
          "time": "Dinner",
          "tip": 4.67,
          "total_bill": 35.83
         },
         {
          "day": "Sat",
          "sex": "Male",
          "size": 3,
          "smoker": "No",
          "time": "Dinner",
          "tip": 5.92,
          "total_bill": 29.03
         },
         {
          "day": "Sat",
          "sex": "Female",
          "size": 2,
          "smoker": "Yes",
          "time": "Dinner",
          "tip": 2,
          "total_bill": 27.18
         },
         {
          "day": "Sat",
          "sex": "Male",
          "size": 2,
          "smoker": "Yes",
          "time": "Dinner",
          "tip": 2,
          "total_bill": 22.67
         },
         {
          "day": "Sat",
          "sex": "Male",
          "size": 2,
          "smoker": "No",
          "time": "Dinner",
          "tip": 1.75,
          "total_bill": 17.82
         },
         {
          "day": "Thur",
          "sex": "Female",
          "size": 2,
          "smoker": "No",
          "time": "Dinner",
          "tip": 3,
          "total_bill": 18.78
         }
        ]
       },
       "layer": [
        {
         "encoding": {
          "x": {
           "field": "day",
           "type": "nominal"
          },
          "y": {
           "aggregate": "min",
           "field": "total_bill",
           "type": "quantitative"
          },
          "y2": {
           "aggregate": "max",
           "field": "total_bill",
           "type": "quantitative"
          }
         },
         "mark": "rule"
        },
        {
         "encoding": {
          "color": {
           "field": "day",
           "legend": null,
           "type": "nominal"
          },
          "x": {
           "field": "day",
           "type": "nominal"
          },
          "y": {
           "aggregate": "q1",
           "axis": {
            "title": "total_bill"
           },
           "field": "total_bill",
           "type": "quantitative"
          },
          "y2": {
           "aggregate": "q3",
           "field": "total_bill",
           "type": "quantitative"
          }
         },
         "mark": "bar"
        },
        {
         "encoding": {
          "x": {
           "field": "day",
           "type": "nominal"
          },
          "y": {
           "aggregate": "median",
           "field": "total_bill",
           "type": "quantitative"
          }
         },
         "mark": {
          "color": "black",
          "size": 18,
          "type": "tick"
         }
        }
       ]
      },
      "image/png": "[encoded data removed]",
      "text/plain": [
       "<VegaLite 2 object>\n",
       "\n",
       "If you see this message, it means the renderer has not been properly enabled\n",
       "for the frontend that you are using. For more information, see\n",
       "https://altair-viz.github.io/user_guide/troubleshooting.html\n"
      ]
     },
     "metadata": {},
     "output_type": "display_data"
    },
    {
     "data": {
      "image/png": "[encoded data removed]",
      "text/plain": [
       "<Figure size 432x288 with 1 Axes>"
      ]
     },
     "metadata": {},
     "output_type": "display_data"
    }
   ],
   "source": [
    "display(salt.boxplot(x=\"day\", y=\"total_bill\", data=tips))\n",
    "ax = sns.boxplot(x=\"day\", y=\"total_bill\", data=tips)"
   ]
  },
  {
   "cell_type": "code",
   "execution_count": 4,
   "metadata": {},
   "outputs": [
    {
     "data": {
      "application/vnd.vegalite.v2+json": {
       "$schema": "https://vega.github.io/schema/vega-lite/v2.4.1.json",
       "config": {
        "range": {
         "category": [
          "rgba(149,202,193,1)",
          "rgba(245,245,188,1)",
          "rgba(192,189,214,1)",
          "rgba(233,141,131,1)",
          "rgba(138,175,200,1)",
          "rgba(233,178,117,1)",
          "rgba(175,207,119,1)",
          "rgba(246,210,228,1)",
          "rgba(217,217,217,1)",
          "rgba(180,135,181,1)",
          "rgba(207,230,201,1)",
          "rgba(237,223,128,1)"
         ]
        },
        "view": {
         "height": 300,
         "width": 400
        }
       },
       "data": {
        "values": [
         {
          "day": "Sun",
          "sex": "Female",
          "size": 2,
          "smoker": "No",
          "time": "Dinner",
          "tip": 1.01,
          "total_bill": 16.99
         },
         {
          "day": "Sun",
          "sex": "Male",
          "size": 3,
          "smoker": "No",
          "time": "Dinner",
          "tip": 1.66,
          "total_bill": 10.34
         },
         {
          "day": "Sun",
          "sex": "Male",
          "size": 3,
          "smoker": "No",
          "time": "Dinner",
          "tip": 3.5,
          "total_bill": 21.01
         },
         {
          "day": "Sun",
          "sex": "Male",
          "size": 2,
          "smoker": "No",
          "time": "Dinner",
          "tip": 3.31,
          "total_bill": 23.68
         },
         {
          "day": "Sun",
          "sex": "Female",
          "size": 4,
          "smoker": "No",
          "time": "Dinner",
          "tip": 3.61,
          "total_bill": 24.59
         },
         {
          "day": "Sun",
          "sex": "Male",
          "size": 4,
          "smoker": "No",
          "time": "Dinner",
          "tip": 4.71,
          "total_bill": 25.29
         },
         {
          "day": "Sun",
          "sex": "Male",
          "size": 2,
          "smoker": "No",
          "time": "Dinner",
          "tip": 2,
          "total_bill": 8.77
         },
         {
          "day": "Sun",
          "sex": "Male",
          "size": 4,
          "smoker": "No",
          "time": "Dinner",
          "tip": 3.12,
          "total_bill": 26.88
         },
         {
          "day": "Sun",
          "sex": "Male",
          "size": 2,
          "smoker": "No",
          "time": "Dinner",
          "tip": 1.96,
          "total_bill": 15.04
         },
         {
          "day": "Sun",
          "sex": "Male",
          "size": 2,
          "smoker": "No",
          "time": "Dinner",
          "tip": 3.23,
          "total_bill": 14.78
         },
         {
          "day": "Sun",
          "sex": "Male",
          "size": 2,
          "smoker": "No",
          "time": "Dinner",
          "tip": 1.71,
          "total_bill": 10.27
         },
         {
          "day": "Sun",
          "sex": "Female",
          "size": 4,
          "smoker": "No",
          "time": "Dinner",
          "tip": 5,
          "total_bill": 35.26
         },
         {
          "day": "Sun",
          "sex": "Male",
          "size": 2,
          "smoker": "No",
          "time": "Dinner",
          "tip": 1.57,
          "total_bill": 15.42
         },
         {
          "day": "Sun",
          "sex": "Male",
          "size": 4,
          "smoker": "No",
          "time": "Dinner",
          "tip": 3,
          "total_bill": 18.43
         },
         {
          "day": "Sun",
          "sex": "Female",
          "size": 2,
          "smoker": "No",
          "time": "Dinner",
          "tip": 3.02,
          "total_bill": 14.83
         },
         {
          "day": "Sun",
          "sex": "Male",
          "size": 2,
          "smoker": "No",
          "time": "Dinner",
          "tip": 3.92,
          "total_bill": 21.58
         },
         {
          "day": "Sun",
          "sex": "Female",
          "size": 3,
          "smoker": "No",
          "time": "Dinner",
          "tip": 1.67,
          "total_bill": 10.33
         },
         {
          "day": "Sun",
          "sex": "Male",
          "size": 3,
          "smoker": "No",
          "time": "Dinner",
          "tip": 3.71,
          "total_bill": 16.29
         },
         {
          "day": "Sun",
          "sex": "Female",
          "size": 3,
          "smoker": "No",
          "time": "Dinner",
          "tip": 3.5,
          "total_bill": 16.97
         },
         {
          "day": "Sat",
          "sex": "Male",
          "size": 3,
          "smoker": "No",
          "time": "Dinner",
          "tip": 3.35,
          "total_bill": 20.65
         },
         {
          "day": "Sat",
          "sex": "Male",
          "size": 2,
          "smoker": "No",
          "time": "Dinner",
          "tip": 4.08,
          "total_bill": 17.92
         },
         {
          "day": "Sat",
          "sex": "Female",
          "size": 2,
          "smoker": "No",
          "time": "Dinner",
          "tip": 2.75,
          "total_bill": 20.29
         },
         {
          "day": "Sat",
          "sex": "Female",
          "size": 2,
          "smoker": "No",
          "time": "Dinner",
          "tip": 2.23,
          "total_bill": 15.77
         },
         {
          "day": "Sat",
          "sex": "Male",
          "size": 4,
          "smoker": "No",
          "time": "Dinner",
          "tip": 7.58,
          "total_bill": 39.42
         },
         {
          "day": "Sat",
          "sex": "Male",
          "size": 2,
          "smoker": "No",
          "time": "Dinner",
          "tip": 3.18,
          "total_bill": 19.82
         },
         {
          "day": "Sat",
          "sex": "Male",
          "size": 4,
          "smoker": "No",
          "time": "Dinner",
          "tip": 2.34,
          "total_bill": 17.81
         },
         {
          "day": "Sat",
          "sex": "Male",
          "size": 2,
          "smoker": "No",
          "time": "Dinner",
          "tip": 2,
          "total_bill": 13.37
         },
         {
          "day": "Sat",
          "sex": "Male",
          "size": 2,
          "smoker": "No",
          "time": "Dinner",
          "tip": 2,
          "total_bill": 12.69
         },
         {
          "day": "Sat",
          "sex": "Male",
          "size": 2,
          "smoker": "No",
          "time": "Dinner",
          "tip": 4.3,
          "total_bill": 21.7
         },
         {
          "day": "Sat",
          "sex": "Female",
          "size": 2,
          "smoker": "No",
          "time": "Dinner",
          "tip": 3,
          "total_bill": 19.65
         },
         {
          "day": "Sat",
          "sex": "Male",
          "size": 2,
          "smoker": "No",
          "time": "Dinner",
          "tip": 1.45,
          "total_bill": 9.55
         },
         {
          "day": "Sat",
          "sex": "Male",
          "size": 4,
          "smoker": "No",
          "time": "Dinner",
          "tip": 2.5,
          "total_bill": 18.35
         },
         {
          "day": "Sat",
          "sex": "Female",
          "size": 2,
          "smoker": "No",
          "time": "Dinner",
          "tip": 3,
          "total_bill": 15.06
         },
         {
          "day": "Sat",
          "sex": "Female",
          "size": 4,
          "smoker": "No",
          "time": "Dinner",
          "tip": 2.45,
          "total_bill": 20.69
         },
         {
          "day": "Sat",
          "sex": "Male",
          "size": 2,
          "smoker": "No",
          "time": "Dinner",
          "tip": 3.27,
          "total_bill": 17.78
         },
         {
          "day": "Sat",
          "sex": "Male",
          "size": 3,
          "smoker": "No",
          "time": "Dinner",
          "tip": 3.6,
          "total_bill": 24.06
         },
         {
          "day": "Sat",
          "sex": "Male",
          "size": 3,
          "smoker": "No",
          "time": "Dinner",
          "tip": 2,
          "total_bill": 16.31
         },
         {
          "day": "Sat",
          "sex": "Female",
          "size": 3,
          "smoker": "No",
          "time": "Dinner",
          "tip": 3.07,
          "total_bill": 16.93
         },
         {
          "day": "Sat",
          "sex": "Male",
          "size": 3,
          "smoker": "No",
          "time": "Dinner",
          "tip": 2.31,
          "total_bill": 18.69
         },
         {
          "day": "Sat",
          "sex": "Male",
          "size": 3,
          "smoker": "No",
          "time": "Dinner",
          "tip": 5,
          "total_bill": 31.27
         },
         {
          "day": "Sat",
          "sex": "Male",
          "size": 3,
          "smoker": "No",
          "time": "Dinner",
          "tip": 2.24,
          "total_bill": 16.04
         },
         {
          "day": "Sun",
          "sex": "Male",
          "size": 2,
          "smoker": "No",
          "time": "Dinner",
          "tip": 2.54,
          "total_bill": 17.46
         },
         {
          "day": "Sun",
          "sex": "Male",
          "size": 2,
          "smoker": "No",
          "time": "Dinner",
          "tip": 3.06,
          "total_bill": 13.94
         },
         {
          "day": "Sun",
          "sex": "Male",
          "size": 2,
          "smoker": "No",
          "time": "Dinner",
          "tip": 1.32,
          "total_bill": 9.68
         },
         {
          "day": "Sun",
          "sex": "Male",
          "size": 4,
          "smoker": "No",
          "time": "Dinner",
          "tip": 5.6,
          "total_bill": 30.4
         },
         {
          "day": "Sun",
          "sex": "Male",
          "size": 2,
          "smoker": "No",
          "time": "Dinner",
          "tip": 3,
          "total_bill": 18.29
         },
         {
          "day": "Sun",
          "sex": "Male",
          "size": 2,
          "smoker": "No",
          "time": "Dinner",
          "tip": 5,
          "total_bill": 22.23
         },
         {
          "day": "Sun",
          "sex": "Male",
          "size": 4,
          "smoker": "No",
          "time": "Dinner",
          "tip": 6,
          "total_bill": 32.4
         },
         {
          "day": "Sun",
          "sex": "Male",
          "size": 3,
          "smoker": "No",
          "time": "Dinner",
          "tip": 2.05,
          "total_bill": 28.55
         },
         {
          "day": "Sun",
          "sex": "Male",
          "size": 2,
          "smoker": "No",
          "time": "Dinner",
          "tip": 3,
          "total_bill": 18.04
         },
         {
          "day": "Sun",
          "sex": "Male",
          "size": 2,
          "smoker": "No",
          "time": "Dinner",
          "tip": 2.5,
          "total_bill": 12.54
         },
         {
          "day": "Sun",
          "sex": "Female",
          "size": 2,
          "smoker": "No",
          "time": "Dinner",
          "tip": 2.6,
          "total_bill": 10.29
         },
         {
          "day": "Sun",
          "sex": "Female",
          "size": 4,
          "smoker": "No",
          "time": "Dinner",
          "tip": 5.2,
          "total_bill": 34.81
         },
         {
          "day": "Sun",
          "sex": "Male",
          "size": 2,
          "smoker": "No",
          "time": "Dinner",
          "tip": 1.56,
          "total_bill": 9.94
         },
         {
          "day": "Sun",
          "sex": "Male",
          "size": 4,
          "smoker": "No",
          "time": "Dinner",
          "tip": 4.34,
          "total_bill": 25.56
         },
         {
          "day": "Sun",
          "sex": "Male",
          "size": 2,
          "smoker": "No",
          "time": "Dinner",
          "tip": 3.51,
          "total_bill": 19.49
         },
         {
          "day": "Sat",
          "sex": "Male",
          "size": 4,
          "smoker": "Yes",
          "time": "Dinner",
          "tip": 3,
          "total_bill": 38.01
         },
         {
          "day": "Sat",
          "sex": "Female",
          "size": 2,
          "smoker": "No",
          "time": "Dinner",
          "tip": 1.5,
          "total_bill": 26.41
         },
         {
          "day": "Sat",
          "sex": "Male",
          "size": 2,
          "smoker": "Yes",
          "time": "Dinner",
          "tip": 1.76,
          "total_bill": 11.24
         },
         {
          "day": "Sat",
          "sex": "Male",
          "size": 4,
          "smoker": "No",
          "time": "Dinner",
          "tip": 6.73,
          "total_bill": 48.27
         },
         {
          "day": "Sat",
          "sex": "Male",
          "size": 2,
          "smoker": "Yes",
          "time": "Dinner",
          "tip": 3.21,
          "total_bill": 20.29
         },
         {
          "day": "Sat",
          "sex": "Male",
          "size": 2,
          "smoker": "Yes",
          "time": "Dinner",
          "tip": 2,
          "total_bill": 13.81
         },
         {
          "day": "Sat",
          "sex": "Male",
          "size": 2,
          "smoker": "Yes",
          "time": "Dinner",
          "tip": 1.98,
          "total_bill": 11.02
         },
         {
          "day": "Sat",
          "sex": "Male",
          "size": 4,
          "smoker": "Yes",
          "time": "Dinner",
          "tip": 3.76,
          "total_bill": 18.29
         },
         {
          "day": "Sat",
          "sex": "Male",
          "size": 3,
          "smoker": "No",
          "time": "Dinner",
          "tip": 2.64,
          "total_bill": 17.59
         },
         {
          "day": "Sat",
          "sex": "Male",
          "size": 3,
          "smoker": "No",
          "time": "Dinner",
          "tip": 3.15,
          "total_bill": 20.08
         },
         {
          "day": "Sat",
          "sex": "Female",
          "size": 2,
          "smoker": "No",
          "time": "Dinner",
          "tip": 2.47,
          "total_bill": 16.45
         },
         {
          "day": "Sat",
          "sex": "Female",
          "size": 1,
          "smoker": "Yes",
          "time": "Dinner",
          "tip": 1,
          "total_bill": 3.07
         },
         {
          "day": "Sat",
          "sex": "Male",
          "size": 2,
          "smoker": "No",
          "time": "Dinner",
          "tip": 2.01,
          "total_bill": 20.23
         },
         {
          "day": "Sat",
          "sex": "Male",
          "size": 2,
          "smoker": "Yes",
          "time": "Dinner",
          "tip": 2.09,
          "total_bill": 15.01
         },
         {
          "day": "Sat",
          "sex": "Male",
          "size": 2,
          "smoker": "No",
          "time": "Dinner",
          "tip": 1.97,
          "total_bill": 12.02
         },
         {
          "day": "Sat",
          "sex": "Female",
          "size": 3,
          "smoker": "No",
          "time": "Dinner",
          "tip": 3,
          "total_bill": 17.07
         },
         {
          "day": "Sat",
          "sex": "Female",
          "size": 2,
          "smoker": "Yes",
          "time": "Dinner",
          "tip": 3.14,
          "total_bill": 26.86
         },
         {
          "day": "Sat",
          "sex": "Female",
          "size": 2,
          "smoker": "Yes",
          "time": "Dinner",
          "tip": 5,
          "total_bill": 25.28
         },
         {
          "day": "Sat",
          "sex": "Female",
          "size": 2,
          "smoker": "No",
          "time": "Dinner",
          "tip": 2.2,
          "total_bill": 14.73
         },
         {
          "day": "Sat",
          "sex": "Male",
          "size": 2,
          "smoker": "No",
          "time": "Dinner",
          "tip": 1.25,
          "total_bill": 10.51
         },
         {
          "day": "Sat",
          "sex": "Male",
          "size": 2,
          "smoker": "Yes",
          "time": "Dinner",
          "tip": 3.08,
          "total_bill": 17.92
         },
         {
          "day": "Thur",
          "sex": "Male",
          "size": 4,
          "smoker": "No",
          "time": "Lunch",
          "tip": 4,
          "total_bill": 27.2
         },
         {
          "day": "Thur",
          "sex": "Male",
          "size": 2,
          "smoker": "No",
          "time": "Lunch",
          "tip": 3,
          "total_bill": 22.76
         },
         {
          "day": "Thur",
          "sex": "Male",
          "size": 2,
          "smoker": "No",
          "time": "Lunch",
          "tip": 2.71,
          "total_bill": 17.29
         },
         {
          "day": "Thur",
          "sex": "Male",
          "size": 2,
          "smoker": "Yes",
          "time": "Lunch",
          "tip": 3,
          "total_bill": 19.44
         },
         {
          "day": "Thur",
          "sex": "Male",
          "size": 2,
          "smoker": "No",
          "time": "Lunch",
          "tip": 3.4,
          "total_bill": 16.66
         },
         {
          "day": "Thur",
          "sex": "Female",
          "size": 1,
          "smoker": "No",
          "time": "Lunch",
          "tip": 1.83,
          "total_bill": 10.07
         },
         {
          "day": "Thur",
          "sex": "Male",
          "size": 2,
          "smoker": "Yes",
          "time": "Lunch",
          "tip": 5,
          "total_bill": 32.68
         },
         {
          "day": "Thur",
          "sex": "Male",
          "size": 2,
          "smoker": "No",
          "time": "Lunch",
          "tip": 2.03,
          "total_bill": 15.98
         },
         {
          "day": "Thur",
          "sex": "Female",
          "size": 4,
          "smoker": "No",
          "time": "Lunch",
          "tip": 5.17,
          "total_bill": 34.83
         },
         {
          "day": "Thur",
          "sex": "Male",
          "size": 2,
          "smoker": "No",
          "time": "Lunch",
          "tip": 2,
          "total_bill": 13.03
         },
         {
          "day": "Thur",
          "sex": "Male",
          "size": 2,
          "smoker": "No",
          "time": "Lunch",
          "tip": 4,
          "total_bill": 18.28
         },
         {
          "day": "Thur",
          "sex": "Male",
          "size": 2,
          "smoker": "No",
          "time": "Lunch",
          "tip": 5.85,
          "total_bill": 24.71
         },
         {
          "day": "Thur",
          "sex": "Male",
          "size": 2,
          "smoker": "No",
          "time": "Lunch",
          "tip": 3,
          "total_bill": 21.16
         },
         {
          "day": "Fri",
          "sex": "Male",
          "size": 2,
          "smoker": "Yes",
          "time": "Dinner",
          "tip": 3,
          "total_bill": 28.97
         },
         {
          "day": "Fri",
          "sex": "Male",
          "size": 2,
          "smoker": "No",
          "time": "Dinner",
          "tip": 3.5,
          "total_bill": 22.49
         },
         {
          "day": "Fri",
          "sex": "Female",
          "size": 2,
          "smoker": "Yes",
          "time": "Dinner",
          "tip": 1,
          "total_bill": 5.75
         },
         {
          "day": "Fri",
          "sex": "Female",
          "size": 2,
          "smoker": "Yes",
          "time": "Dinner",
          "tip": 4.3,
          "total_bill": 16.32
         },
         {
          "day": "Fri",
          "sex": "Female",
          "size": 2,
          "smoker": "No",
          "time": "Dinner",
          "tip": 3.25,
          "total_bill": 22.75
         },
         {
          "day": "Fri",
          "sex": "Male",
          "size": 4,
          "smoker": "Yes",
          "time": "Dinner",
          "tip": 4.73,
          "total_bill": 40.17
         },
         {
          "day": "Fri",
          "sex": "Male",
          "size": 2,
          "smoker": "Yes",
          "time": "Dinner",
          "tip": 4,
          "total_bill": 27.28
         },
         {
          "day": "Fri",
          "sex": "Male",
          "size": 2,
          "smoker": "Yes",
          "time": "Dinner",
          "tip": 1.5,
          "total_bill": 12.03
         },
         {
          "day": "Fri",
          "sex": "Male",
          "size": 2,
          "smoker": "Yes",
          "time": "Dinner",
          "tip": 3,
          "total_bill": 21.01
         },
         {
          "day": "Fri",
          "sex": "Male",
          "size": 2,
          "smoker": "No",
          "time": "Dinner",
          "tip": 1.5,
          "total_bill": 12.46
         },
         {
          "day": "Fri",
          "sex": "Female",
          "size": 2,
          "smoker": "Yes",
          "time": "Dinner",
          "tip": 2.5,
          "total_bill": 11.35
         },
         {
          "day": "Fri",
          "sex": "Female",
          "size": 2,
          "smoker": "Yes",
          "time": "Dinner",
          "tip": 3,
          "total_bill": 15.38
         },
         {
          "day": "Sat",
          "sex": "Female",
          "size": 3,
          "smoker": "Yes",
          "time": "Dinner",
          "tip": 2.5,
          "total_bill": 44.3
         },
         {
          "day": "Sat",
          "sex": "Female",
          "size": 2,
          "smoker": "Yes",
          "time": "Dinner",
          "tip": 3.48,
          "total_bill": 22.42
         },
         {
          "day": "Sat",
          "sex": "Female",
          "size": 2,
          "smoker": "No",
          "time": "Dinner",
          "tip": 4.08,
          "total_bill": 20.92
         },
         {
          "day": "Sat",
          "sex": "Male",
          "size": 2,
          "smoker": "Yes",
          "time": "Dinner",
          "tip": 1.64,
          "total_bill": 15.36
         },
         {
          "day": "Sat",
          "sex": "Male",
          "size": 2,
          "smoker": "Yes",
          "time": "Dinner",
          "tip": 4.06,
          "total_bill": 20.49
         },
         {
          "day": "Sat",
          "sex": "Male",
          "size": 2,
          "smoker": "Yes",
          "time": "Dinner",
          "tip": 4.29,
          "total_bill": 25.21
         },
         {
          "day": "Sat",
          "sex": "Male",
          "size": 2,
          "smoker": "No",
          "time": "Dinner",
          "tip": 3.76,
          "total_bill": 18.24
         },
         {
          "day": "Sat",
          "sex": "Female",
          "size": 2,
          "smoker": "Yes",
          "time": "Dinner",
          "tip": 4,
          "total_bill": 14.31
         },
         {
          "day": "Sat",
          "sex": "Male",
          "size": 2,
          "smoker": "No",
          "time": "Dinner",
          "tip": 3,
          "total_bill": 14
         },
         {
          "day": "Sat",
          "sex": "Female",
          "size": 1,
          "smoker": "No",
          "time": "Dinner",
          "tip": 1,
          "total_bill": 7.25
         },
         {
          "day": "Sun",
          "sex": "Male",
          "size": 3,
          "smoker": "No",
          "time": "Dinner",
          "tip": 4,
          "total_bill": 38.07
         },
         {
          "day": "Sun",
          "sex": "Male",
          "size": 2,
          "smoker": "No",
          "time": "Dinner",
          "tip": 2.55,
          "total_bill": 23.95
         },
         {
          "day": "Sun",
          "sex": "Female",
          "size": 3,
          "smoker": "No",
          "time": "Dinner",
          "tip": 4,
          "total_bill": 25.71
         },
         {
          "day": "Sun",
          "sex": "Female",
          "size": 2,
          "smoker": "No",
          "time": "Dinner",
          "tip": 3.5,
          "total_bill": 17.31
         },
         {
          "day": "Sun",
          "sex": "Male",
          "size": 4,
          "smoker": "No",
          "time": "Dinner",
          "tip": 5.07,
          "total_bill": 29.93
         },
         {
          "day": "Thur",
          "sex": "Female",
          "size": 2,
          "smoker": "No",
          "time": "Lunch",
          "tip": 1.5,
          "total_bill": 10.65
         },
         {
          "day": "Thur",
          "sex": "Female",
          "size": 2,
          "smoker": "No",
          "time": "Lunch",
          "tip": 1.8,
          "total_bill": 12.43
         },
         {
          "day": "Thur",
          "sex": "Female",
          "size": 4,
          "smoker": "No",
          "time": "Lunch",
          "tip": 2.92,
          "total_bill": 24.08
         },
         {
          "day": "Thur",
          "sex": "Male",
          "size": 2,
          "smoker": "No",
          "time": "Lunch",
          "tip": 2.31,
          "total_bill": 11.69
         },
         {
          "day": "Thur",
          "sex": "Female",
          "size": 2,
          "smoker": "No",
          "time": "Lunch",
          "tip": 1.68,
          "total_bill": 13.42
         },
         {
          "day": "Thur",
          "sex": "Male",
          "size": 2,
          "smoker": "No",
          "time": "Lunch",
          "tip": 2.5,
          "total_bill": 14.26
         },
         {
          "day": "Thur",
          "sex": "Male",
          "size": 2,
          "smoker": "No",
          "time": "Lunch",
          "tip": 2,
          "total_bill": 15.95
         },
         {
          "day": "Thur",
          "sex": "Female",
          "size": 2,
          "smoker": "No",
          "time": "Lunch",
          "tip": 2.52,
          "total_bill": 12.48
         },
         {
          "day": "Thur",
          "sex": "Female",
          "size": 6,
          "smoker": "No",
          "time": "Lunch",
          "tip": 4.2,
          "total_bill": 29.8
         },
         {
          "day": "Thur",
          "sex": "Male",
          "size": 2,
          "smoker": "No",
          "time": "Lunch",
          "tip": 1.48,
          "total_bill": 8.52
         },
         {
          "day": "Thur",
          "sex": "Female",
          "size": 2,
          "smoker": "No",
          "time": "Lunch",
          "tip": 2,
          "total_bill": 14.52
         },
         {
          "day": "Thur",
          "sex": "Female",
          "size": 2,
          "smoker": "No",
          "time": "Lunch",
          "tip": 2,
          "total_bill": 11.38
         },
         {
          "day": "Thur",
          "sex": "Male",
          "size": 3,
          "smoker": "No",
          "time": "Lunch",
          "tip": 2.18,
          "total_bill": 22.82
         },
         {
          "day": "Thur",
          "sex": "Male",
          "size": 2,
          "smoker": "No",
          "time": "Lunch",
          "tip": 1.5,
          "total_bill": 19.08
         },
         {
          "day": "Thur",
          "sex": "Female",
          "size": 2,
          "smoker": "No",
          "time": "Lunch",
          "tip": 2.83,
          "total_bill": 20.27
         },
         {
          "day": "Thur",
          "sex": "Female",
          "size": 2,
          "smoker": "No",
          "time": "Lunch",
          "tip": 1.5,
          "total_bill": 11.17
         },
         {
          "day": "Thur",
          "sex": "Female",
          "size": 2,
          "smoker": "No",
          "time": "Lunch",
          "tip": 2,
          "total_bill": 12.26
         },
         {
          "day": "Thur",
          "sex": "Female",
          "size": 2,
          "smoker": "No",
          "time": "Lunch",
          "tip": 3.25,
          "total_bill": 18.26
         },
         {
          "day": "Thur",
          "sex": "Female",
          "size": 2,
          "smoker": "No",
          "time": "Lunch",
          "tip": 1.25,
          "total_bill": 8.51
         },
         {
          "day": "Thur",
          "sex": "Female",
          "size": 2,
          "smoker": "No",
          "time": "Lunch",
          "tip": 2,
          "total_bill": 10.33
         },
         {
          "day": "Thur",
          "sex": "Female",
          "size": 2,
          "smoker": "No",
          "time": "Lunch",
          "tip": 2,
          "total_bill": 14.15
         },
         {
          "day": "Thur",
          "sex": "Male",
          "size": 2,
          "smoker": "Yes",
          "time": "Lunch",
          "tip": 2,
          "total_bill": 16
         },
         {
          "day": "Thur",
          "sex": "Female",
          "size": 2,
          "smoker": "No",
          "time": "Lunch",
          "tip": 2.75,
          "total_bill": 13.16
         },
         {
          "day": "Thur",
          "sex": "Female",
          "size": 2,
          "smoker": "No",
          "time": "Lunch",
          "tip": 3.5,
          "total_bill": 17.47
         },
         {
          "day": "Thur",
          "sex": "Male",
          "size": 6,
          "smoker": "No",
          "time": "Lunch",
          "tip": 6.7,
          "total_bill": 34.3
         },
         {
          "day": "Thur",
          "sex": "Male",
          "size": 5,
          "smoker": "No",
          "time": "Lunch",
          "tip": 5,
          "total_bill": 41.19
         },
         {
          "day": "Thur",
          "sex": "Female",
          "size": 6,
          "smoker": "No",
          "time": "Lunch",
          "tip": 5,
          "total_bill": 27.05
         },
         {
          "day": "Thur",
          "sex": "Female",
          "size": 2,
          "smoker": "No",
          "time": "Lunch",
          "tip": 2.3,
          "total_bill": 16.43
         },
         {
          "day": "Thur",
          "sex": "Female",
          "size": 2,
          "smoker": "No",
          "time": "Lunch",
          "tip": 1.5,
          "total_bill": 8.35
         },
         {
          "day": "Thur",
          "sex": "Female",
          "size": 3,
          "smoker": "No",
          "time": "Lunch",
          "tip": 1.36,
          "total_bill": 18.64
         },
         {
          "day": "Thur",
          "sex": "Female",
          "size": 2,
          "smoker": "No",
          "time": "Lunch",
          "tip": 1.63,
          "total_bill": 11.87
         },
         {
          "day": "Thur",
          "sex": "Male",
          "size": 2,
          "smoker": "No",
          "time": "Lunch",
          "tip": 1.73,
          "total_bill": 9.78
         },
         {
          "day": "Thur",
          "sex": "Male",
          "size": 2,
          "smoker": "No",
          "time": "Lunch",
          "tip": 2,
          "total_bill": 7.51
         },
         {
          "day": "Sun",
          "sex": "Male",
          "size": 2,
          "smoker": "No",
          "time": "Dinner",
          "tip": 2.5,
          "total_bill": 14.07
         },
         {
          "day": "Sun",
          "sex": "Male",
          "size": 2,
          "smoker": "No",
          "time": "Dinner",
          "tip": 2,
          "total_bill": 13.13
         },
         {
          "day": "Sun",
          "sex": "Male",
          "size": 3,
          "smoker": "No",
          "time": "Dinner",
          "tip": 2.74,
          "total_bill": 17.26
         },
         {
          "day": "Sun",
          "sex": "Male",
          "size": 4,
          "smoker": "No",
          "time": "Dinner",
          "tip": 2,
          "total_bill": 24.55
         },
         {
          "day": "Sun",
          "sex": "Male",
          "size": 4,
          "smoker": "No",
          "time": "Dinner",
          "tip": 2,
          "total_bill": 19.77
         },
         {
          "day": "Sun",
          "sex": "Female",
          "size": 5,
          "smoker": "No",
          "time": "Dinner",
          "tip": 5.14,
          "total_bill": 29.85
         },
         {
          "day": "Sun",
          "sex": "Male",
          "size": 6,
          "smoker": "No",
          "time": "Dinner",
          "tip": 5,
          "total_bill": 48.17
         },
         {
          "day": "Sun",
          "sex": "Female",
          "size": 4,
          "smoker": "No",
          "time": "Dinner",
          "tip": 3.75,
          "total_bill": 25
         },
         {
          "day": "Sun",
          "sex": "Female",
          "size": 2,
          "smoker": "No",
          "time": "Dinner",
          "tip": 2.61,
          "total_bill": 13.39
         },
         {
          "day": "Sun",
          "sex": "Male",
          "size": 4,
          "smoker": "No",
          "time": "Dinner",
          "tip": 2,
          "total_bill": 16.49
         },
         {
          "day": "Sun",
          "sex": "Male",
          "size": 4,
          "smoker": "No",
          "time": "Dinner",
          "tip": 3.5,
          "total_bill": 21.5
         },
         {
          "day": "Sun",
          "sex": "Male",
          "size": 2,
          "smoker": "No",
          "time": "Dinner",
          "tip": 2.5,
          "total_bill": 12.66
         },
         {
          "day": "Sun",
          "sex": "Female",
          "size": 3,
          "smoker": "No",
          "time": "Dinner",
          "tip": 2,
          "total_bill": 16.21
         },
         {
          "day": "Sun",
          "sex": "Male",
          "size": 2,
          "smoker": "No",
          "time": "Dinner",
          "tip": 2,
          "total_bill": 13.81
         },
         {
          "day": "Sun",
          "sex": "Female",
          "size": 2,
          "smoker": "Yes",
          "time": "Dinner",
          "tip": 3,
          "total_bill": 17.51
         },
         {
          "day": "Sun",
          "sex": "Male",
          "size": 3,
          "smoker": "No",
          "time": "Dinner",
          "tip": 3.48,
          "total_bill": 24.52
         },
         {
          "day": "Sun",
          "sex": "Male",
          "size": 2,
          "smoker": "No",
          "time": "Dinner",
          "tip": 2.24,
          "total_bill": 20.76
         },
         {
          "day": "Sun",
          "sex": "Male",
          "size": 4,
          "smoker": "No",
          "time": "Dinner",
          "tip": 4.5,
          "total_bill": 31.71
         },
         {
          "day": "Sat",
          "sex": "Female",
          "size": 2,
          "smoker": "Yes",
          "time": "Dinner",
          "tip": 1.61,
          "total_bill": 10.59
         },
         {
          "day": "Sat",
          "sex": "Female",
          "size": 2,
          "smoker": "Yes",
          "time": "Dinner",
          "tip": 2,
          "total_bill": 10.63
         },
         {
          "day": "Sat",
          "sex": "Male",
          "size": 3,
          "smoker": "Yes",
          "time": "Dinner",
          "tip": 10,
          "total_bill": 50.81
         },
         {
          "day": "Sat",
          "sex": "Male",
          "size": 2,
          "smoker": "Yes",
          "time": "Dinner",
          "tip": 3.16,
          "total_bill": 15.81
         },
         {
          "day": "Sun",
          "sex": "Male",
          "size": 2,
          "smoker": "Yes",
          "time": "Dinner",
          "tip": 5.15,
          "total_bill": 7.25
         },
         {
          "day": "Sun",
          "sex": "Male",
          "size": 2,
          "smoker": "Yes",
          "time": "Dinner",
          "tip": 3.18,
          "total_bill": 31.85
         },
         {
          "day": "Sun",
          "sex": "Male",
          "size": 2,
          "smoker": "Yes",
          "time": "Dinner",
          "tip": 4,
          "total_bill": 16.82
         },
         {
          "day": "Sun",
          "sex": "Male",
          "size": 2,
          "smoker": "Yes",
          "time": "Dinner",
          "tip": 3.11,
          "total_bill": 32.9
         },
         {
          "day": "Sun",
          "sex": "Male",
          "size": 2,
          "smoker": "Yes",
          "time": "Dinner",
          "tip": 2,
          "total_bill": 17.89
         },
         {
          "day": "Sun",
          "sex": "Male",
          "size": 2,
          "smoker": "Yes",
          "time": "Dinner",
          "tip": 2,
          "total_bill": 14.48
         },
         {
          "day": "Sun",
          "sex": "Female",
          "size": 2,
          "smoker": "Yes",
          "time": "Dinner",
          "tip": 4,
          "total_bill": 9.6
         },
         {
          "day": "Sun",
          "sex": "Male",
          "size": 2,
          "smoker": "Yes",
          "time": "Dinner",
          "tip": 3.55,
          "total_bill": 34.63
         },
         {
          "day": "Sun",
          "sex": "Male",
          "size": 4,
          "smoker": "Yes",
          "time": "Dinner",
          "tip": 3.68,
          "total_bill": 34.65
         },
         {
          "day": "Sun",
          "sex": "Male",
          "size": 2,
          "smoker": "Yes",
          "time": "Dinner",
          "tip": 5.65,
          "total_bill": 23.33
         },
         {
          "day": "Sun",
          "sex": "Male",
          "size": 3,
          "smoker": "Yes",
          "time": "Dinner",
          "tip": 3.5,
          "total_bill": 45.35
         },
         {
          "day": "Sun",
          "sex": "Male",
          "size": 4,
          "smoker": "Yes",
          "time": "Dinner",
          "tip": 6.5,
          "total_bill": 23.17
         },
         {
          "day": "Sun",
          "sex": "Male",
          "size": 2,
          "smoker": "Yes",
          "time": "Dinner",
          "tip": 3,
          "total_bill": 40.55
         },
         {
          "day": "Sun",
          "sex": "Male",
          "size": 5,
          "smoker": "No",
          "time": "Dinner",
          "tip": 5,
          "total_bill": 20.69
         },
         {
          "day": "Sun",
          "sex": "Female",
          "size": 3,
          "smoker": "Yes",
          "time": "Dinner",
          "tip": 3.5,
          "total_bill": 20.9
         },
         {
          "day": "Sun",
          "sex": "Male",
          "size": 5,
          "smoker": "Yes",
          "time": "Dinner",
          "tip": 2,
          "total_bill": 30.46
         },
         {
          "day": "Sun",
          "sex": "Female",
          "size": 3,
          "smoker": "Yes",
          "time": "Dinner",
          "tip": 3.5,
          "total_bill": 18.15
         },
         {
          "day": "Sun",
          "sex": "Male",
          "size": 3,
          "smoker": "Yes",
          "time": "Dinner",
          "tip": 4,
          "total_bill": 23.1
         },
         {
          "day": "Sun",
          "sex": "Male",
          "size": 2,
          "smoker": "Yes",
          "time": "Dinner",
          "tip": 1.5,
          "total_bill": 15.69
         },
         {
          "day": "Thur",
          "sex": "Female",
          "size": 2,
          "smoker": "Yes",
          "time": "Lunch",
          "tip": 4.19,
          "total_bill": 19.81
         },
         {
          "day": "Thur",
          "sex": "Male",
          "size": 2,
          "smoker": "Yes",
          "time": "Lunch",
          "tip": 2.56,
          "total_bill": 28.44
         },
         {
          "day": "Thur",
          "sex": "Male",
          "size": 2,
          "smoker": "Yes",
          "time": "Lunch",
          "tip": 2.02,
          "total_bill": 15.48
         },
         {
          "day": "Thur",
          "sex": "Male",
          "size": 2,
          "smoker": "Yes",
          "time": "Lunch",
          "tip": 4,
          "total_bill": 16.58
         },
         {
          "day": "Thur",
          "sex": "Male",
          "size": 2,
          "smoker": "No",
          "time": "Lunch",
          "tip": 1.44,
          "total_bill": 7.56
         },
         {
          "day": "Thur",
          "sex": "Male",
          "size": 2,
          "smoker": "Yes",
          "time": "Lunch",
          "tip": 2,
          "total_bill": 10.34
         },
         {
          "day": "Thur",
          "sex": "Female",
          "size": 4,
          "smoker": "Yes",
          "time": "Lunch",
          "tip": 5,
          "total_bill": 43.11
         },
         {
          "day": "Thur",
          "sex": "Female",
          "size": 2,
          "smoker": "Yes",
          "time": "Lunch",
          "tip": 2,
          "total_bill": 13
         },
         {
          "day": "Thur",
          "sex": "Male",
          "size": 2,
          "smoker": "Yes",
          "time": "Lunch",
          "tip": 2,
          "total_bill": 13.51
         },
         {
          "day": "Thur",
          "sex": "Male",
          "size": 3,
          "smoker": "Yes",
          "time": "Lunch",
          "tip": 4,
          "total_bill": 18.71
         },
         {
          "day": "Thur",
          "sex": "Female",
          "size": 2,
          "smoker": "Yes",
          "time": "Lunch",
          "tip": 2.01,
          "total_bill": 12.74
         },
         {
          "day": "Thur",
          "sex": "Female",
          "size": 2,
          "smoker": "Yes",
          "time": "Lunch",
          "tip": 2,
          "total_bill": 13
         },
         {
          "day": "Thur",
          "sex": "Female",
          "size": 2,
          "smoker": "Yes",
          "time": "Lunch",
          "tip": 2.5,
          "total_bill": 16.4
         },
         {
          "day": "Thur",
          "sex": "Male",
          "size": 4,
          "smoker": "Yes",
          "time": "Lunch",
          "tip": 4,
          "total_bill": 20.53
         },
         {
          "day": "Thur",
          "sex": "Female",
          "size": 3,
          "smoker": "Yes",
          "time": "Lunch",
          "tip": 3.23,
          "total_bill": 16.47
         },
         {
          "day": "Sat",
          "sex": "Male",
          "size": 3,
          "smoker": "Yes",
          "time": "Dinner",
          "tip": 3.41,
          "total_bill": 26.59
         },
         {
          "day": "Sat",
          "sex": "Male",
          "size": 4,
          "smoker": "Yes",
          "time": "Dinner",
          "tip": 3,
          "total_bill": 38.73
         },
         {
          "day": "Sat",
          "sex": "Male",
          "size": 2,
          "smoker": "Yes",
          "time": "Dinner",
          "tip": 2.03,
          "total_bill": 24.27
         },
         {
          "day": "Sat",
          "sex": "Female",
          "size": 2,
          "smoker": "Yes",
          "time": "Dinner",
          "tip": 2.23,
          "total_bill": 12.76
         },
         {
          "day": "Sat",
          "sex": "Male",
          "size": 3,
          "smoker": "Yes",
          "time": "Dinner",
          "tip": 2,
          "total_bill": 30.06
         },
         {
          "day": "Sat",
          "sex": "Male",
          "size": 4,
          "smoker": "Yes",
          "time": "Dinner",
          "tip": 5.16,
          "total_bill": 25.89
         },
         {
          "day": "Sat",
          "sex": "Male",
          "size": 4,
          "smoker": "No",
          "time": "Dinner",
          "tip": 9,
          "total_bill": 48.33
         },
         {
          "day": "Sat",
          "sex": "Female",
          "size": 2,
          "smoker": "Yes",
          "time": "Dinner",
          "tip": 2.5,
          "total_bill": 13.27
         },
         {
          "day": "Sat",
          "sex": "Female",
          "size": 3,
          "smoker": "Yes",
          "time": "Dinner",
          "tip": 6.5,
          "total_bill": 28.17
         },
         {
          "day": "Sat",
          "sex": "Female",
          "size": 2,
          "smoker": "Yes",
          "time": "Dinner",
          "tip": 1.1,
          "total_bill": 12.9
         },
         {
          "day": "Sat",
          "sex": "Male",
          "size": 5,
          "smoker": "Yes",
          "time": "Dinner",
          "tip": 3,
          "total_bill": 28.15
         },
         {
          "day": "Sat",
          "sex": "Male",
          "size": 2,
          "smoker": "Yes",
          "time": "Dinner",
          "tip": 1.5,
          "total_bill": 11.59
         },
         {
          "day": "Sat",
          "sex": "Male",
          "size": 2,
          "smoker": "Yes",
          "time": "Dinner",
          "tip": 1.44,
          "total_bill": 7.74
         },
         {
          "day": "Sat",
          "sex": "Female",
          "size": 4,
          "smoker": "Yes",
          "time": "Dinner",
          "tip": 3.09,
          "total_bill": 30.14
         },
         {
          "day": "Fri",
          "sex": "Male",
          "size": 2,
          "smoker": "Yes",
          "time": "Lunch",
          "tip": 2.2,
          "total_bill": 12.16
         },
         {
          "day": "Fri",
          "sex": "Female",
          "size": 2,
          "smoker": "Yes",
          "time": "Lunch",
          "tip": 3.48,
          "total_bill": 13.42
         },
         {
          "day": "Fri",
          "sex": "Male",
          "size": 1,
          "smoker": "Yes",
          "time": "Lunch",
          "tip": 1.92,
          "total_bill": 8.58
         },
         {
          "day": "Fri",
          "sex": "Female",
          "size": 3,
          "smoker": "No",
          "time": "Lunch",
          "tip": 3,
          "total_bill": 15.98
         },
         {
          "day": "Fri",
          "sex": "Male",
          "size": 2,
          "smoker": "Yes",
          "time": "Lunch",
          "tip": 1.58,
          "total_bill": 13.42
         },
         {
          "day": "Fri",
          "sex": "Female",
          "size": 2,
          "smoker": "Yes",
          "time": "Lunch",
          "tip": 2.5,
          "total_bill": 16.27
         },
         {
          "day": "Fri",
          "sex": "Female",
          "size": 2,
          "smoker": "Yes",
          "time": "Lunch",
          "tip": 2,
          "total_bill": 10.09
         },
         {
          "day": "Sat",
          "sex": "Male",
          "size": 4,
          "smoker": "No",
          "time": "Dinner",
          "tip": 3,
          "total_bill": 20.45
         },
         {
          "day": "Sat",
          "sex": "Male",
          "size": 2,
          "smoker": "No",
          "time": "Dinner",
          "tip": 2.72,
          "total_bill": 13.28
         },
         {
          "day": "Sat",
          "sex": "Female",
          "size": 2,
          "smoker": "Yes",
          "time": "Dinner",
          "tip": 2.88,
          "total_bill": 22.12
         },
         {
          "day": "Sat",
          "sex": "Male",
          "size": 4,
          "smoker": "Yes",
          "time": "Dinner",
          "tip": 2,
          "total_bill": 24.01
         },
         {
          "day": "Sat",
          "sex": "Male",
          "size": 3,
          "smoker": "Yes",
          "time": "Dinner",
          "tip": 3,
          "total_bill": 15.69
         },
         {
          "day": "Sat",
          "sex": "Male",
          "size": 2,
          "smoker": "No",
          "time": "Dinner",
          "tip": 3.39,
          "total_bill": 11.61
         },
         {
          "day": "Sat",
          "sex": "Male",
          "size": 2,
          "smoker": "No",
          "time": "Dinner",
          "tip": 1.47,
          "total_bill": 10.77
         },
         {
          "day": "Sat",
          "sex": "Male",
          "size": 2,
          "smoker": "Yes",
          "time": "Dinner",
          "tip": 3,
          "total_bill": 15.53
         },
         {
          "day": "Sat",
          "sex": "Male",
          "size": 2,
          "smoker": "No",
          "time": "Dinner",
          "tip": 1.25,
          "total_bill": 10.07
         },
         {
          "day": "Sat",
          "sex": "Male",
          "size": 2,
          "smoker": "Yes",
          "time": "Dinner",
          "tip": 1,
          "total_bill": 12.6
         },
         {
          "day": "Sat",
          "sex": "Male",
          "size": 2,
          "smoker": "Yes",
          "time": "Dinner",
          "tip": 1.17,
          "total_bill": 32.83
         },
         {
          "day": "Sat",
          "sex": "Female",
          "size": 3,
          "smoker": "No",
          "time": "Dinner",
          "tip": 4.67,
          "total_bill": 35.83
         },
         {
          "day": "Sat",
          "sex": "Male",
          "size": 3,
          "smoker": "No",
          "time": "Dinner",
          "tip": 5.92,
          "total_bill": 29.03
         },
         {
          "day": "Sat",
          "sex": "Female",
          "size": 2,
          "smoker": "Yes",
          "time": "Dinner",
          "tip": 2,
          "total_bill": 27.18
         },
         {
          "day": "Sat",
          "sex": "Male",
          "size": 2,
          "smoker": "Yes",
          "time": "Dinner",
          "tip": 2,
          "total_bill": 22.67
         },
         {
          "day": "Sat",
          "sex": "Male",
          "size": 2,
          "smoker": "No",
          "time": "Dinner",
          "tip": 1.75,
          "total_bill": 17.82
         },
         {
          "day": "Thur",
          "sex": "Female",
          "size": 2,
          "smoker": "No",
          "time": "Dinner",
          "tip": 3,
          "total_bill": 18.78
         }
        ]
       },
       "facet": {
        "column": {
         "field": "day",
         "type": "nominal"
        }
       },
       "spec": {
        "layer": [
         {
          "encoding": {
           "x": {
            "field": "smoker",
            "type": "nominal"
           },
           "y": {
            "aggregate": "min",
            "field": "total_bill",
            "type": "quantitative"
           },
           "y2": {
            "aggregate": "max",
            "field": "total_bill",
            "type": "quantitative"
           }
          },
          "mark": "rule"
         },
         {
          "encoding": {
           "color": {
            "field": "smoker",
            "legend": null,
            "type": "nominal"
           },
           "x": {
            "field": "smoker",
            "type": "nominal"
           },
           "y": {
            "aggregate": "q1",
            "axis": {
             "title": "total_bill"
            },
            "field": "total_bill",
            "type": "quantitative"
           },
           "y2": {
            "aggregate": "q3",
            "field": "total_bill",
            "type": "quantitative"
           }
          },
          "mark": "bar"
         },
         {
          "encoding": {
           "x": {
            "field": "smoker",
            "type": "nominal"
           },
           "y": {
            "aggregate": "median",
            "field": "total_bill",
            "type": "quantitative"
           }
          },
          "mark": {
           "color": "black",
           "size": 18,
           "type": "tick"
          }
         }
        ]
       }
      },
      "image/png": "[encoded data removed]",
      "text/plain": [
       "<VegaLite 2 object>\n",
       "\n",
       "If you see this message, it means the renderer has not been properly enabled\n",
       "for the frontend that you are using. For more information, see\n",
       "https://altair-viz.github.io/user_guide/troubleshooting.html\n"
      ]
     },
     "metadata": {},
     "output_type": "display_data"
    },
    {
     "data": {
      "image/png": "[encoded data removed]",
      "text/plain": [
       "<Figure size 432x288 with 1 Axes>"
      ]
     },
     "metadata": {},
     "output_type": "display_data"
    }
   ],
   "source": [
    "display(salt.boxplot(x=\"day\", y=\"total_bill\", hue=\"smoker\", data=tips, palette=\"Set3\"))\n",
    "ax = sns.boxplot(x=\"day\", y=\"total_bill\", hue=\"smoker\", data=tips, palette=\"Set3\")"
   ]
  },
  {
   "cell_type": "code",
   "execution_count": 5,
   "metadata": {},
   "outputs": [
    {
     "data": {
      "application/vnd.vegalite.v2+json": {
       "$schema": "https://vega.github.io/schema/vega-lite/v2.4.1.json",
       "config": {
        "range": {
         "category": [
          "rgba(49,115,161,1)",
          "rgba(224,128,44,1)",
          "rgba(58,145,58,1)",
          "rgba(192,60,61,1)",
          "rgba(147,113,178,1)",
          "rgba(131,91,83,1)",
          "rgba(213,132,188,1)",
          "rgba(127,127,127,1)",
          "rgba(168,169,53,1)",
          "rgba(45,171,184,1)"
         ]
        },
        "view": {
         "height": 300,
         "width": 400
        }
       },
       "data": {
        "values": [
         {
          "day": "Sun",
          "sex": "Female",
          "size": 2,
          "smoker": "No",
          "time": "Dinner",
          "tip": 1.01,
          "total_bill": 16.99
         },
         {
          "day": "Sun",
          "sex": "Male",
          "size": 3,
          "smoker": "No",
          "time": "Dinner",
          "tip": 1.66,
          "total_bill": 10.34
         },
         {
          "day": "Sun",
          "sex": "Male",
          "size": 3,
          "smoker": "No",
          "time": "Dinner",
          "tip": 3.5,
          "total_bill": 21.01
         },
         {
          "day": "Sun",
          "sex": "Male",
          "size": 2,
          "smoker": "No",
          "time": "Dinner",
          "tip": 3.31,
          "total_bill": 23.68
         },
         {
          "day": "Sun",
          "sex": "Female",
          "size": 4,
          "smoker": "No",
          "time": "Dinner",
          "tip": 3.61,
          "total_bill": 24.59
         },
         {
          "day": "Sun",
          "sex": "Male",
          "size": 4,
          "smoker": "No",
          "time": "Dinner",
          "tip": 4.71,
          "total_bill": 25.29
         },
         {
          "day": "Sun",
          "sex": "Male",
          "size": 2,
          "smoker": "No",
          "time": "Dinner",
          "tip": 2,
          "total_bill": 8.77
         },
         {
          "day": "Sun",
          "sex": "Male",
          "size": 4,
          "smoker": "No",
          "time": "Dinner",
          "tip": 3.12,
          "total_bill": 26.88
         },
         {
          "day": "Sun",
          "sex": "Male",
          "size": 2,
          "smoker": "No",
          "time": "Dinner",
          "tip": 1.96,
          "total_bill": 15.04
         },
         {
          "day": "Sun",
          "sex": "Male",
          "size": 2,
          "smoker": "No",
          "time": "Dinner",
          "tip": 3.23,
          "total_bill": 14.78
         },
         {
          "day": "Sun",
          "sex": "Male",
          "size": 2,
          "smoker": "No",
          "time": "Dinner",
          "tip": 1.71,
          "total_bill": 10.27
         },
         {
          "day": "Sun",
          "sex": "Female",
          "size": 4,
          "smoker": "No",
          "time": "Dinner",
          "tip": 5,
          "total_bill": 35.26
         },
         {
          "day": "Sun",
          "sex": "Male",
          "size": 2,
          "smoker": "No",
          "time": "Dinner",
          "tip": 1.57,
          "total_bill": 15.42
         },
         {
          "day": "Sun",
          "sex": "Male",
          "size": 4,
          "smoker": "No",
          "time": "Dinner",
          "tip": 3,
          "total_bill": 18.43
         },
         {
          "day": "Sun",
          "sex": "Female",
          "size": 2,
          "smoker": "No",
          "time": "Dinner",
          "tip": 3.02,
          "total_bill": 14.83
         },
         {
          "day": "Sun",
          "sex": "Male",
          "size": 2,
          "smoker": "No",
          "time": "Dinner",
          "tip": 3.92,
          "total_bill": 21.58
         },
         {
          "day": "Sun",
          "sex": "Female",
          "size": 3,
          "smoker": "No",
          "time": "Dinner",
          "tip": 1.67,
          "total_bill": 10.33
         },
         {
          "day": "Sun",
          "sex": "Male",
          "size": 3,
          "smoker": "No",
          "time": "Dinner",
          "tip": 3.71,
          "total_bill": 16.29
         },
         {
          "day": "Sun",
          "sex": "Female",
          "size": 3,
          "smoker": "No",
          "time": "Dinner",
          "tip": 3.5,
          "total_bill": 16.97
         },
         {
          "day": "Sat",
          "sex": "Male",
          "size": 3,
          "smoker": "No",
          "time": "Dinner",
          "tip": 3.35,
          "total_bill": 20.65
         },
         {
          "day": "Sat",
          "sex": "Male",
          "size": 2,
          "smoker": "No",
          "time": "Dinner",
          "tip": 4.08,
          "total_bill": 17.92
         },
         {
          "day": "Sat",
          "sex": "Female",
          "size": 2,
          "smoker": "No",
          "time": "Dinner",
          "tip": 2.75,
          "total_bill": 20.29
         },
         {
          "day": "Sat",
          "sex": "Female",
          "size": 2,
          "smoker": "No",
          "time": "Dinner",
          "tip": 2.23,
          "total_bill": 15.77
         },
         {
          "day": "Sat",
          "sex": "Male",
          "size": 4,
          "smoker": "No",
          "time": "Dinner",
          "tip": 7.58,
          "total_bill": 39.42
         },
         {
          "day": "Sat",
          "sex": "Male",
          "size": 2,
          "smoker": "No",
          "time": "Dinner",
          "tip": 3.18,
          "total_bill": 19.82
         },
         {
          "day": "Sat",
          "sex": "Male",
          "size": 4,
          "smoker": "No",
          "time": "Dinner",
          "tip": 2.34,
          "total_bill": 17.81
         },
         {
          "day": "Sat",
          "sex": "Male",
          "size": 2,
          "smoker": "No",
          "time": "Dinner",
          "tip": 2,
          "total_bill": 13.37
         },
         {
          "day": "Sat",
          "sex": "Male",
          "size": 2,
          "smoker": "No",
          "time": "Dinner",
          "tip": 2,
          "total_bill": 12.69
         },
         {
          "day": "Sat",
          "sex": "Male",
          "size": 2,
          "smoker": "No",
          "time": "Dinner",
          "tip": 4.3,
          "total_bill": 21.7
         },
         {
          "day": "Sat",
          "sex": "Female",
          "size": 2,
          "smoker": "No",
          "time": "Dinner",
          "tip": 3,
          "total_bill": 19.65
         },
         {
          "day": "Sat",
          "sex": "Male",
          "size": 2,
          "smoker": "No",
          "time": "Dinner",
          "tip": 1.45,
          "total_bill": 9.55
         },
         {
          "day": "Sat",
          "sex": "Male",
          "size": 4,
          "smoker": "No",
          "time": "Dinner",
          "tip": 2.5,
          "total_bill": 18.35
         },
         {
          "day": "Sat",
          "sex": "Female",
          "size": 2,
          "smoker": "No",
          "time": "Dinner",
          "tip": 3,
          "total_bill": 15.06
         },
         {
          "day": "Sat",
          "sex": "Female",
          "size": 4,
          "smoker": "No",
          "time": "Dinner",
          "tip": 2.45,
          "total_bill": 20.69
         },
         {
          "day": "Sat",
          "sex": "Male",
          "size": 2,
          "smoker": "No",
          "time": "Dinner",
          "tip": 3.27,
          "total_bill": 17.78
         },
         {
          "day": "Sat",
          "sex": "Male",
          "size": 3,
          "smoker": "No",
          "time": "Dinner",
          "tip": 3.6,
          "total_bill": 24.06
         },
         {
          "day": "Sat",
          "sex": "Male",
          "size": 3,
          "smoker": "No",
          "time": "Dinner",
          "tip": 2,
          "total_bill": 16.31
         },
         {
          "day": "Sat",
          "sex": "Female",
          "size": 3,
          "smoker": "No",
          "time": "Dinner",
          "tip": 3.07,
          "total_bill": 16.93
         },
         {
          "day": "Sat",
          "sex": "Male",
          "size": 3,
          "smoker": "No",
          "time": "Dinner",
          "tip": 2.31,
          "total_bill": 18.69
         },
         {
          "day": "Sat",
          "sex": "Male",
          "size": 3,
          "smoker": "No",
          "time": "Dinner",
          "tip": 5,
          "total_bill": 31.27
         },
         {
          "day": "Sat",
          "sex": "Male",
          "size": 3,
          "smoker": "No",
          "time": "Dinner",
          "tip": 2.24,
          "total_bill": 16.04
         },
         {
          "day": "Sun",
          "sex": "Male",
          "size": 2,
          "smoker": "No",
          "time": "Dinner",
          "tip": 2.54,
          "total_bill": 17.46
         },
         {
          "day": "Sun",
          "sex": "Male",
          "size": 2,
          "smoker": "No",
          "time": "Dinner",
          "tip": 3.06,
          "total_bill": 13.94
         },
         {
          "day": "Sun",
          "sex": "Male",
          "size": 2,
          "smoker": "No",
          "time": "Dinner",
          "tip": 1.32,
          "total_bill": 9.68
         },
         {
          "day": "Sun",
          "sex": "Male",
          "size": 4,
          "smoker": "No",
          "time": "Dinner",
          "tip": 5.6,
          "total_bill": 30.4
         },
         {
          "day": "Sun",
          "sex": "Male",
          "size": 2,
          "smoker": "No",
          "time": "Dinner",
          "tip": 3,
          "total_bill": 18.29
         },
         {
          "day": "Sun",
          "sex": "Male",
          "size": 2,
          "smoker": "No",
          "time": "Dinner",
          "tip": 5,
          "total_bill": 22.23
         },
         {
          "day": "Sun",
          "sex": "Male",
          "size": 4,
          "smoker": "No",
          "time": "Dinner",
          "tip": 6,
          "total_bill": 32.4
         },
         {
          "day": "Sun",
          "sex": "Male",
          "size": 3,
          "smoker": "No",
          "time": "Dinner",
          "tip": 2.05,
          "total_bill": 28.55
         },
         {
          "day": "Sun",
          "sex": "Male",
          "size": 2,
          "smoker": "No",
          "time": "Dinner",
          "tip": 3,
          "total_bill": 18.04
         },
         {
          "day": "Sun",
          "sex": "Male",
          "size": 2,
          "smoker": "No",
          "time": "Dinner",
          "tip": 2.5,
          "total_bill": 12.54
         },
         {
          "day": "Sun",
          "sex": "Female",
          "size": 2,
          "smoker": "No",
          "time": "Dinner",
          "tip": 2.6,
          "total_bill": 10.29
         },
         {
          "day": "Sun",
          "sex": "Female",
          "size": 4,
          "smoker": "No",
          "time": "Dinner",
          "tip": 5.2,
          "total_bill": 34.81
         },
         {
          "day": "Sun",
          "sex": "Male",
          "size": 2,
          "smoker": "No",
          "time": "Dinner",
          "tip": 1.56,
          "total_bill": 9.94
         },
         {
          "day": "Sun",
          "sex": "Male",
          "size": 4,
          "smoker": "No",
          "time": "Dinner",
          "tip": 4.34,
          "total_bill": 25.56
         },
         {
          "day": "Sun",
          "sex": "Male",
          "size": 2,
          "smoker": "No",
          "time": "Dinner",
          "tip": 3.51,
          "total_bill": 19.49
         },
         {
          "day": "Sat",
          "sex": "Male",
          "size": 4,
          "smoker": "Yes",
          "time": "Dinner",
          "tip": 3,
          "total_bill": 38.01
         },
         {
          "day": "Sat",
          "sex": "Female",
          "size": 2,
          "smoker": "No",
          "time": "Dinner",
          "tip": 1.5,
          "total_bill": 26.41
         },
         {
          "day": "Sat",
          "sex": "Male",
          "size": 2,
          "smoker": "Yes",
          "time": "Dinner",
          "tip": 1.76,
          "total_bill": 11.24
         },
         {
          "day": "Sat",
          "sex": "Male",
          "size": 4,
          "smoker": "No",
          "time": "Dinner",
          "tip": 6.73,
          "total_bill": 48.27
         },
         {
          "day": "Sat",
          "sex": "Male",
          "size": 2,
          "smoker": "Yes",
          "time": "Dinner",
          "tip": 3.21,
          "total_bill": 20.29
         },
         {
          "day": "Sat",
          "sex": "Male",
          "size": 2,
          "smoker": "Yes",
          "time": "Dinner",
          "tip": 2,
          "total_bill": 13.81
         },
         {
          "day": "Sat",
          "sex": "Male",
          "size": 2,
          "smoker": "Yes",
          "time": "Dinner",
          "tip": 1.98,
          "total_bill": 11.02
         },
         {
          "day": "Sat",
          "sex": "Male",
          "size": 4,
          "smoker": "Yes",
          "time": "Dinner",
          "tip": 3.76,
          "total_bill": 18.29
         },
         {
          "day": "Sat",
          "sex": "Male",
          "size": 3,
          "smoker": "No",
          "time": "Dinner",
          "tip": 2.64,
          "total_bill": 17.59
         },
         {
          "day": "Sat",
          "sex": "Male",
          "size": 3,
          "smoker": "No",
          "time": "Dinner",
          "tip": 3.15,
          "total_bill": 20.08
         },
         {
          "day": "Sat",
          "sex": "Female",
          "size": 2,
          "smoker": "No",
          "time": "Dinner",
          "tip": 2.47,
          "total_bill": 16.45
         },
         {
          "day": "Sat",
          "sex": "Female",
          "size": 1,
          "smoker": "Yes",
          "time": "Dinner",
          "tip": 1,
          "total_bill": 3.07
         },
         {
          "day": "Sat",
          "sex": "Male",
          "size": 2,
          "smoker": "No",
          "time": "Dinner",
          "tip": 2.01,
          "total_bill": 20.23
         },
         {
          "day": "Sat",
          "sex": "Male",
          "size": 2,
          "smoker": "Yes",
          "time": "Dinner",
          "tip": 2.09,
          "total_bill": 15.01
         },
         {
          "day": "Sat",
          "sex": "Male",
          "size": 2,
          "smoker": "No",
          "time": "Dinner",
          "tip": 1.97,
          "total_bill": 12.02
         },
         {
          "day": "Sat",
          "sex": "Female",
          "size": 3,
          "smoker": "No",
          "time": "Dinner",
          "tip": 3,
          "total_bill": 17.07
         },
         {
          "day": "Sat",
          "sex": "Female",
          "size": 2,
          "smoker": "Yes",
          "time": "Dinner",
          "tip": 3.14,
          "total_bill": 26.86
         },
         {
          "day": "Sat",
          "sex": "Female",
          "size": 2,
          "smoker": "Yes",
          "time": "Dinner",
          "tip": 5,
          "total_bill": 25.28
         },
         {
          "day": "Sat",
          "sex": "Female",
          "size": 2,
          "smoker": "No",
          "time": "Dinner",
          "tip": 2.2,
          "total_bill": 14.73
         },
         {
          "day": "Sat",
          "sex": "Male",
          "size": 2,
          "smoker": "No",
          "time": "Dinner",
          "tip": 1.25,
          "total_bill": 10.51
         },
         {
          "day": "Sat",
          "sex": "Male",
          "size": 2,
          "smoker": "Yes",
          "time": "Dinner",
          "tip": 3.08,
          "total_bill": 17.92
         },
         {
          "day": "Thur",
          "sex": "Male",
          "size": 4,
          "smoker": "No",
          "time": "Lunch",
          "tip": 4,
          "total_bill": 27.2
         },
         {
          "day": "Thur",
          "sex": "Male",
          "size": 2,
          "smoker": "No",
          "time": "Lunch",
          "tip": 3,
          "total_bill": 22.76
         },
         {
          "day": "Thur",
          "sex": "Male",
          "size": 2,
          "smoker": "No",
          "time": "Lunch",
          "tip": 2.71,
          "total_bill": 17.29
         },
         {
          "day": "Thur",
          "sex": "Male",
          "size": 2,
          "smoker": "Yes",
          "time": "Lunch",
          "tip": 3,
          "total_bill": 19.44
         },
         {
          "day": "Thur",
          "sex": "Male",
          "size": 2,
          "smoker": "No",
          "time": "Lunch",
          "tip": 3.4,
          "total_bill": 16.66
         },
         {
          "day": "Thur",
          "sex": "Female",
          "size": 1,
          "smoker": "No",
          "time": "Lunch",
          "tip": 1.83,
          "total_bill": 10.07
         },
         {
          "day": "Thur",
          "sex": "Male",
          "size": 2,
          "smoker": "Yes",
          "time": "Lunch",
          "tip": 5,
          "total_bill": 32.68
         },
         {
          "day": "Thur",
          "sex": "Male",
          "size": 2,
          "smoker": "No",
          "time": "Lunch",
          "tip": 2.03,
          "total_bill": 15.98
         },
         {
          "day": "Thur",
          "sex": "Female",
          "size": 4,
          "smoker": "No",
          "time": "Lunch",
          "tip": 5.17,
          "total_bill": 34.83
         },
         {
          "day": "Thur",
          "sex": "Male",
          "size": 2,
          "smoker": "No",
          "time": "Lunch",
          "tip": 2,
          "total_bill": 13.03
         },
         {
          "day": "Thur",
          "sex": "Male",
          "size": 2,
          "smoker": "No",
          "time": "Lunch",
          "tip": 4,
          "total_bill": 18.28
         },
         {
          "day": "Thur",
          "sex": "Male",
          "size": 2,
          "smoker": "No",
          "time": "Lunch",
          "tip": 5.85,
          "total_bill": 24.71
         },
         {
          "day": "Thur",
          "sex": "Male",
          "size": 2,
          "smoker": "No",
          "time": "Lunch",
          "tip": 3,
          "total_bill": 21.16
         },
         {
          "day": "Fri",
          "sex": "Male",
          "size": 2,
          "smoker": "Yes",
          "time": "Dinner",
          "tip": 3,
          "total_bill": 28.97
         },
         {
          "day": "Fri",
          "sex": "Male",
          "size": 2,
          "smoker": "No",
          "time": "Dinner",
          "tip": 3.5,
          "total_bill": 22.49
         },
         {
          "day": "Fri",
          "sex": "Female",
          "size": 2,
          "smoker": "Yes",
          "time": "Dinner",
          "tip": 1,
          "total_bill": 5.75
         },
         {
          "day": "Fri",
          "sex": "Female",
          "size": 2,
          "smoker": "Yes",
          "time": "Dinner",
          "tip": 4.3,
          "total_bill": 16.32
         },
         {
          "day": "Fri",
          "sex": "Female",
          "size": 2,
          "smoker": "No",
          "time": "Dinner",
          "tip": 3.25,
          "total_bill": 22.75
         },
         {
          "day": "Fri",
          "sex": "Male",
          "size": 4,
          "smoker": "Yes",
          "time": "Dinner",
          "tip": 4.73,
          "total_bill": 40.17
         },
         {
          "day": "Fri",
          "sex": "Male",
          "size": 2,
          "smoker": "Yes",
          "time": "Dinner",
          "tip": 4,
          "total_bill": 27.28
         },
         {
          "day": "Fri",
          "sex": "Male",
          "size": 2,
          "smoker": "Yes",
          "time": "Dinner",
          "tip": 1.5,
          "total_bill": 12.03
         },
         {
          "day": "Fri",
          "sex": "Male",
          "size": 2,
          "smoker": "Yes",
          "time": "Dinner",
          "tip": 3,
          "total_bill": 21.01
         },
         {
          "day": "Fri",
          "sex": "Male",
          "size": 2,
          "smoker": "No",
          "time": "Dinner",
          "tip": 1.5,
          "total_bill": 12.46
         },
         {
          "day": "Fri",
          "sex": "Female",
          "size": 2,
          "smoker": "Yes",
          "time": "Dinner",
          "tip": 2.5,
          "total_bill": 11.35
         },
         {
          "day": "Fri",
          "sex": "Female",
          "size": 2,
          "smoker": "Yes",
          "time": "Dinner",
          "tip": 3,
          "total_bill": 15.38
         },
         {
          "day": "Sat",
          "sex": "Female",
          "size": 3,
          "smoker": "Yes",
          "time": "Dinner",
          "tip": 2.5,
          "total_bill": 44.3
         },
         {
          "day": "Sat",
          "sex": "Female",
          "size": 2,
          "smoker": "Yes",
          "time": "Dinner",
          "tip": 3.48,
          "total_bill": 22.42
         },
         {
          "day": "Sat",
          "sex": "Female",
          "size": 2,
          "smoker": "No",
          "time": "Dinner",
          "tip": 4.08,
          "total_bill": 20.92
         },
         {
          "day": "Sat",
          "sex": "Male",
          "size": 2,
          "smoker": "Yes",
          "time": "Dinner",
          "tip": 1.64,
          "total_bill": 15.36
         },
         {
          "day": "Sat",
          "sex": "Male",
          "size": 2,
          "smoker": "Yes",
          "time": "Dinner",
          "tip": 4.06,
          "total_bill": 20.49
         },
         {
          "day": "Sat",
          "sex": "Male",
          "size": 2,
          "smoker": "Yes",
          "time": "Dinner",
          "tip": 4.29,
          "total_bill": 25.21
         },
         {
          "day": "Sat",
          "sex": "Male",
          "size": 2,
          "smoker": "No",
          "time": "Dinner",
          "tip": 3.76,
          "total_bill": 18.24
         },
         {
          "day": "Sat",
          "sex": "Female",
          "size": 2,
          "smoker": "Yes",
          "time": "Dinner",
          "tip": 4,
          "total_bill": 14.31
         },
         {
          "day": "Sat",
          "sex": "Male",
          "size": 2,
          "smoker": "No",
          "time": "Dinner",
          "tip": 3,
          "total_bill": 14
         },
         {
          "day": "Sat",
          "sex": "Female",
          "size": 1,
          "smoker": "No",
          "time": "Dinner",
          "tip": 1,
          "total_bill": 7.25
         },
         {
          "day": "Sun",
          "sex": "Male",
          "size": 3,
          "smoker": "No",
          "time": "Dinner",
          "tip": 4,
          "total_bill": 38.07
         },
         {
          "day": "Sun",
          "sex": "Male",
          "size": 2,
          "smoker": "No",
          "time": "Dinner",
          "tip": 2.55,
          "total_bill": 23.95
         },
         {
          "day": "Sun",
          "sex": "Female",
          "size": 3,
          "smoker": "No",
          "time": "Dinner",
          "tip": 4,
          "total_bill": 25.71
         },
         {
          "day": "Sun",
          "sex": "Female",
          "size": 2,
          "smoker": "No",
          "time": "Dinner",
          "tip": 3.5,
          "total_bill": 17.31
         },
         {
          "day": "Sun",
          "sex": "Male",
          "size": 4,
          "smoker": "No",
          "time": "Dinner",
          "tip": 5.07,
          "total_bill": 29.93
         },
         {
          "day": "Thur",
          "sex": "Female",
          "size": 2,
          "smoker": "No",
          "time": "Lunch",
          "tip": 1.5,
          "total_bill": 10.65
         },
         {
          "day": "Thur",
          "sex": "Female",
          "size": 2,
          "smoker": "No",
          "time": "Lunch",
          "tip": 1.8,
          "total_bill": 12.43
         },
         {
          "day": "Thur",
          "sex": "Female",
          "size": 4,
          "smoker": "No",
          "time": "Lunch",
          "tip": 2.92,
          "total_bill": 24.08
         },
         {
          "day": "Thur",
          "sex": "Male",
          "size": 2,
          "smoker": "No",
          "time": "Lunch",
          "tip": 2.31,
          "total_bill": 11.69
         },
         {
          "day": "Thur",
          "sex": "Female",
          "size": 2,
          "smoker": "No",
          "time": "Lunch",
          "tip": 1.68,
          "total_bill": 13.42
         },
         {
          "day": "Thur",
          "sex": "Male",
          "size": 2,
          "smoker": "No",
          "time": "Lunch",
          "tip": 2.5,
          "total_bill": 14.26
         },
         {
          "day": "Thur",
          "sex": "Male",
          "size": 2,
          "smoker": "No",
          "time": "Lunch",
          "tip": 2,
          "total_bill": 15.95
         },
         {
          "day": "Thur",
          "sex": "Female",
          "size": 2,
          "smoker": "No",
          "time": "Lunch",
          "tip": 2.52,
          "total_bill": 12.48
         },
         {
          "day": "Thur",
          "sex": "Female",
          "size": 6,
          "smoker": "No",
          "time": "Lunch",
          "tip": 4.2,
          "total_bill": 29.8
         },
         {
          "day": "Thur",
          "sex": "Male",
          "size": 2,
          "smoker": "No",
          "time": "Lunch",
          "tip": 1.48,
          "total_bill": 8.52
         },
         {
          "day": "Thur",
          "sex": "Female",
          "size": 2,
          "smoker": "No",
          "time": "Lunch",
          "tip": 2,
          "total_bill": 14.52
         },
         {
          "day": "Thur",
          "sex": "Female",
          "size": 2,
          "smoker": "No",
          "time": "Lunch",
          "tip": 2,
          "total_bill": 11.38
         },
         {
          "day": "Thur",
          "sex": "Male",
          "size": 3,
          "smoker": "No",
          "time": "Lunch",
          "tip": 2.18,
          "total_bill": 22.82
         },
         {
          "day": "Thur",
          "sex": "Male",
          "size": 2,
          "smoker": "No",
          "time": "Lunch",
          "tip": 1.5,
          "total_bill": 19.08
         },
         {
          "day": "Thur",
          "sex": "Female",
          "size": 2,
          "smoker": "No",
          "time": "Lunch",
          "tip": 2.83,
          "total_bill": 20.27
         },
         {
          "day": "Thur",
          "sex": "Female",
          "size": 2,
          "smoker": "No",
          "time": "Lunch",
          "tip": 1.5,
          "total_bill": 11.17
         },
         {
          "day": "Thur",
          "sex": "Female",
          "size": 2,
          "smoker": "No",
          "time": "Lunch",
          "tip": 2,
          "total_bill": 12.26
         },
         {
          "day": "Thur",
          "sex": "Female",
          "size": 2,
          "smoker": "No",
          "time": "Lunch",
          "tip": 3.25,
          "total_bill": 18.26
         },
         {
          "day": "Thur",
          "sex": "Female",
          "size": 2,
          "smoker": "No",
          "time": "Lunch",
          "tip": 1.25,
          "total_bill": 8.51
         },
         {
          "day": "Thur",
          "sex": "Female",
          "size": 2,
          "smoker": "No",
          "time": "Lunch",
          "tip": 2,
          "total_bill": 10.33
         },
         {
          "day": "Thur",
          "sex": "Female",
          "size": 2,
          "smoker": "No",
          "time": "Lunch",
          "tip": 2,
          "total_bill": 14.15
         },
         {
          "day": "Thur",
          "sex": "Male",
          "size": 2,
          "smoker": "Yes",
          "time": "Lunch",
          "tip": 2,
          "total_bill": 16
         },
         {
          "day": "Thur",
          "sex": "Female",
          "size": 2,
          "smoker": "No",
          "time": "Lunch",
          "tip": 2.75,
          "total_bill": 13.16
         },
         {
          "day": "Thur",
          "sex": "Female",
          "size": 2,
          "smoker": "No",
          "time": "Lunch",
          "tip": 3.5,
          "total_bill": 17.47
         },
         {
          "day": "Thur",
          "sex": "Male",
          "size": 6,
          "smoker": "No",
          "time": "Lunch",
          "tip": 6.7,
          "total_bill": 34.3
         },
         {
          "day": "Thur",
          "sex": "Male",
          "size": 5,
          "smoker": "No",
          "time": "Lunch",
          "tip": 5,
          "total_bill": 41.19
         },
         {
          "day": "Thur",
          "sex": "Female",
          "size": 6,
          "smoker": "No",
          "time": "Lunch",
          "tip": 5,
          "total_bill": 27.05
         },
         {
          "day": "Thur",
          "sex": "Female",
          "size": 2,
          "smoker": "No",
          "time": "Lunch",
          "tip": 2.3,
          "total_bill": 16.43
         },
         {
          "day": "Thur",
          "sex": "Female",
          "size": 2,
          "smoker": "No",
          "time": "Lunch",
          "tip": 1.5,
          "total_bill": 8.35
         },
         {
          "day": "Thur",
          "sex": "Female",
          "size": 3,
          "smoker": "No",
          "time": "Lunch",
          "tip": 1.36,
          "total_bill": 18.64
         },
         {
          "day": "Thur",
          "sex": "Female",
          "size": 2,
          "smoker": "No",
          "time": "Lunch",
          "tip": 1.63,
          "total_bill": 11.87
         },
         {
          "day": "Thur",
          "sex": "Male",
          "size": 2,
          "smoker": "No",
          "time": "Lunch",
          "tip": 1.73,
          "total_bill": 9.78
         },
         {
          "day": "Thur",
          "sex": "Male",
          "size": 2,
          "smoker": "No",
          "time": "Lunch",
          "tip": 2,
          "total_bill": 7.51
         },
         {
          "day": "Sun",
          "sex": "Male",
          "size": 2,
          "smoker": "No",
          "time": "Dinner",
          "tip": 2.5,
          "total_bill": 14.07
         },
         {
          "day": "Sun",
          "sex": "Male",
          "size": 2,
          "smoker": "No",
          "time": "Dinner",
          "tip": 2,
          "total_bill": 13.13
         },
         {
          "day": "Sun",
          "sex": "Male",
          "size": 3,
          "smoker": "No",
          "time": "Dinner",
          "tip": 2.74,
          "total_bill": 17.26
         },
         {
          "day": "Sun",
          "sex": "Male",
          "size": 4,
          "smoker": "No",
          "time": "Dinner",
          "tip": 2,
          "total_bill": 24.55
         },
         {
          "day": "Sun",
          "sex": "Male",
          "size": 4,
          "smoker": "No",
          "time": "Dinner",
          "tip": 2,
          "total_bill": 19.77
         },
         {
          "day": "Sun",
          "sex": "Female",
          "size": 5,
          "smoker": "No",
          "time": "Dinner",
          "tip": 5.14,
          "total_bill": 29.85
         },
         {
          "day": "Sun",
          "sex": "Male",
          "size": 6,
          "smoker": "No",
          "time": "Dinner",
          "tip": 5,
          "total_bill": 48.17
         },
         {
          "day": "Sun",
          "sex": "Female",
          "size": 4,
          "smoker": "No",
          "time": "Dinner",
          "tip": 3.75,
          "total_bill": 25
         },
         {
          "day": "Sun",
          "sex": "Female",
          "size": 2,
          "smoker": "No",
          "time": "Dinner",
          "tip": 2.61,
          "total_bill": 13.39
         },
         {
          "day": "Sun",
          "sex": "Male",
          "size": 4,
          "smoker": "No",
          "time": "Dinner",
          "tip": 2,
          "total_bill": 16.49
         },
         {
          "day": "Sun",
          "sex": "Male",
          "size": 4,
          "smoker": "No",
          "time": "Dinner",
          "tip": 3.5,
          "total_bill": 21.5
         },
         {
          "day": "Sun",
          "sex": "Male",
          "size": 2,
          "smoker": "No",
          "time": "Dinner",
          "tip": 2.5,
          "total_bill": 12.66
         },
         {
          "day": "Sun",
          "sex": "Female",
          "size": 3,
          "smoker": "No",
          "time": "Dinner",
          "tip": 2,
          "total_bill": 16.21
         },
         {
          "day": "Sun",
          "sex": "Male",
          "size": 2,
          "smoker": "No",
          "time": "Dinner",
          "tip": 2,
          "total_bill": 13.81
         },
         {
          "day": "Sun",
          "sex": "Female",
          "size": 2,
          "smoker": "Yes",
          "time": "Dinner",
          "tip": 3,
          "total_bill": 17.51
         },
         {
          "day": "Sun",
          "sex": "Male",
          "size": 3,
          "smoker": "No",
          "time": "Dinner",
          "tip": 3.48,
          "total_bill": 24.52
         },
         {
          "day": "Sun",
          "sex": "Male",
          "size": 2,
          "smoker": "No",
          "time": "Dinner",
          "tip": 2.24,
          "total_bill": 20.76
         },
         {
          "day": "Sun",
          "sex": "Male",
          "size": 4,
          "smoker": "No",
          "time": "Dinner",
          "tip": 4.5,
          "total_bill": 31.71
         },
         {
          "day": "Sat",
          "sex": "Female",
          "size": 2,
          "smoker": "Yes",
          "time": "Dinner",
          "tip": 1.61,
          "total_bill": 10.59
         },
         {
          "day": "Sat",
          "sex": "Female",
          "size": 2,
          "smoker": "Yes",
          "time": "Dinner",
          "tip": 2,
          "total_bill": 10.63
         },
         {
          "day": "Sat",
          "sex": "Male",
          "size": 3,
          "smoker": "Yes",
          "time": "Dinner",
          "tip": 10,
          "total_bill": 50.81
         },
         {
          "day": "Sat",
          "sex": "Male",
          "size": 2,
          "smoker": "Yes",
          "time": "Dinner",
          "tip": 3.16,
          "total_bill": 15.81
         },
         {
          "day": "Sun",
          "sex": "Male",
          "size": 2,
          "smoker": "Yes",
          "time": "Dinner",
          "tip": 5.15,
          "total_bill": 7.25
         },
         {
          "day": "Sun",
          "sex": "Male",
          "size": 2,
          "smoker": "Yes",
          "time": "Dinner",
          "tip": 3.18,
          "total_bill": 31.85
         },
         {
          "day": "Sun",
          "sex": "Male",
          "size": 2,
          "smoker": "Yes",
          "time": "Dinner",
          "tip": 4,
          "total_bill": 16.82
         },
         {
          "day": "Sun",
          "sex": "Male",
          "size": 2,
          "smoker": "Yes",
          "time": "Dinner",
          "tip": 3.11,
          "total_bill": 32.9
         },
         {
          "day": "Sun",
          "sex": "Male",
          "size": 2,
          "smoker": "Yes",
          "time": "Dinner",
          "tip": 2,
          "total_bill": 17.89
         },
         {
          "day": "Sun",
          "sex": "Male",
          "size": 2,
          "smoker": "Yes",
          "time": "Dinner",
          "tip": 2,
          "total_bill": 14.48
         },
         {
          "day": "Sun",
          "sex": "Female",
          "size": 2,
          "smoker": "Yes",
          "time": "Dinner",
          "tip": 4,
          "total_bill": 9.6
         },
         {
          "day": "Sun",
          "sex": "Male",
          "size": 2,
          "smoker": "Yes",
          "time": "Dinner",
          "tip": 3.55,
          "total_bill": 34.63
         },
         {
          "day": "Sun",
          "sex": "Male",
          "size": 4,
          "smoker": "Yes",
          "time": "Dinner",
          "tip": 3.68,
          "total_bill": 34.65
         },
         {
          "day": "Sun",
          "sex": "Male",
          "size": 2,
          "smoker": "Yes",
          "time": "Dinner",
          "tip": 5.65,
          "total_bill": 23.33
         },
         {
          "day": "Sun",
          "sex": "Male",
          "size": 3,
          "smoker": "Yes",
          "time": "Dinner",
          "tip": 3.5,
          "total_bill": 45.35
         },
         {
          "day": "Sun",
          "sex": "Male",
          "size": 4,
          "smoker": "Yes",
          "time": "Dinner",
          "tip": 6.5,
          "total_bill": 23.17
         },
         {
          "day": "Sun",
          "sex": "Male",
          "size": 2,
          "smoker": "Yes",
          "time": "Dinner",
          "tip": 3,
          "total_bill": 40.55
         },
         {
          "day": "Sun",
          "sex": "Male",
          "size": 5,
          "smoker": "No",
          "time": "Dinner",
          "tip": 5,
          "total_bill": 20.69
         },
         {
          "day": "Sun",
          "sex": "Female",
          "size": 3,
          "smoker": "Yes",
          "time": "Dinner",
          "tip": 3.5,
          "total_bill": 20.9
         },
         {
          "day": "Sun",
          "sex": "Male",
          "size": 5,
          "smoker": "Yes",
          "time": "Dinner",
          "tip": 2,
          "total_bill": 30.46
         },
         {
          "day": "Sun",
          "sex": "Female",
          "size": 3,
          "smoker": "Yes",
          "time": "Dinner",
          "tip": 3.5,
          "total_bill": 18.15
         },
         {
          "day": "Sun",
          "sex": "Male",
          "size": 3,
          "smoker": "Yes",
          "time": "Dinner",
          "tip": 4,
          "total_bill": 23.1
         },
         {
          "day": "Sun",
          "sex": "Male",
          "size": 2,
          "smoker": "Yes",
          "time": "Dinner",
          "tip": 1.5,
          "total_bill": 15.69
         },
         {
          "day": "Thur",
          "sex": "Female",
          "size": 2,
          "smoker": "Yes",
          "time": "Lunch",
          "tip": 4.19,
          "total_bill": 19.81
         },
         {
          "day": "Thur",
          "sex": "Male",
          "size": 2,
          "smoker": "Yes",
          "time": "Lunch",
          "tip": 2.56,
          "total_bill": 28.44
         },
         {
          "day": "Thur",
          "sex": "Male",
          "size": 2,
          "smoker": "Yes",
          "time": "Lunch",
          "tip": 2.02,
          "total_bill": 15.48
         },
         {
          "day": "Thur",
          "sex": "Male",
          "size": 2,
          "smoker": "Yes",
          "time": "Lunch",
          "tip": 4,
          "total_bill": 16.58
         },
         {
          "day": "Thur",
          "sex": "Male",
          "size": 2,
          "smoker": "No",
          "time": "Lunch",
          "tip": 1.44,
          "total_bill": 7.56
         },
         {
          "day": "Thur",
          "sex": "Male",
          "size": 2,
          "smoker": "Yes",
          "time": "Lunch",
          "tip": 2,
          "total_bill": 10.34
         },
         {
          "day": "Thur",
          "sex": "Female",
          "size": 4,
          "smoker": "Yes",
          "time": "Lunch",
          "tip": 5,
          "total_bill": 43.11
         },
         {
          "day": "Thur",
          "sex": "Female",
          "size": 2,
          "smoker": "Yes",
          "time": "Lunch",
          "tip": 2,
          "total_bill": 13
         },
         {
          "day": "Thur",
          "sex": "Male",
          "size": 2,
          "smoker": "Yes",
          "time": "Lunch",
          "tip": 2,
          "total_bill": 13.51
         },
         {
          "day": "Thur",
          "sex": "Male",
          "size": 3,
          "smoker": "Yes",
          "time": "Lunch",
          "tip": 4,
          "total_bill": 18.71
         },
         {
          "day": "Thur",
          "sex": "Female",
          "size": 2,
          "smoker": "Yes",
          "time": "Lunch",
          "tip": 2.01,
          "total_bill": 12.74
         },
         {
          "day": "Thur",
          "sex": "Female",
          "size": 2,
          "smoker": "Yes",
          "time": "Lunch",
          "tip": 2,
          "total_bill": 13
         },
         {
          "day": "Thur",
          "sex": "Female",
          "size": 2,
          "smoker": "Yes",
          "time": "Lunch",
          "tip": 2.5,
          "total_bill": 16.4
         },
         {
          "day": "Thur",
          "sex": "Male",
          "size": 4,
          "smoker": "Yes",
          "time": "Lunch",
          "tip": 4,
          "total_bill": 20.53
         },
         {
          "day": "Thur",
          "sex": "Female",
          "size": 3,
          "smoker": "Yes",
          "time": "Lunch",
          "tip": 3.23,
          "total_bill": 16.47
         },
         {
          "day": "Sat",
          "sex": "Male",
          "size": 3,
          "smoker": "Yes",
          "time": "Dinner",
          "tip": 3.41,
          "total_bill": 26.59
         },
         {
          "day": "Sat",
          "sex": "Male",
          "size": 4,
          "smoker": "Yes",
          "time": "Dinner",
          "tip": 3,
          "total_bill": 38.73
         },
         {
          "day": "Sat",
          "sex": "Male",
          "size": 2,
          "smoker": "Yes",
          "time": "Dinner",
          "tip": 2.03,
          "total_bill": 24.27
         },
         {
          "day": "Sat",
          "sex": "Female",
          "size": 2,
          "smoker": "Yes",
          "time": "Dinner",
          "tip": 2.23,
          "total_bill": 12.76
         },
         {
          "day": "Sat",
          "sex": "Male",
          "size": 3,
          "smoker": "Yes",
          "time": "Dinner",
          "tip": 2,
          "total_bill": 30.06
         },
         {
          "day": "Sat",
          "sex": "Male",
          "size": 4,
          "smoker": "Yes",
          "time": "Dinner",
          "tip": 5.16,
          "total_bill": 25.89
         },
         {
          "day": "Sat",
          "sex": "Male",
          "size": 4,
          "smoker": "No",
          "time": "Dinner",
          "tip": 9,
          "total_bill": 48.33
         },
         {
          "day": "Sat",
          "sex": "Female",
          "size": 2,
          "smoker": "Yes",
          "time": "Dinner",
          "tip": 2.5,
          "total_bill": 13.27
         },
         {
          "day": "Sat",
          "sex": "Female",
          "size": 3,
          "smoker": "Yes",
          "time": "Dinner",
          "tip": 6.5,
          "total_bill": 28.17
         },
         {
          "day": "Sat",
          "sex": "Female",
          "size": 2,
          "smoker": "Yes",
          "time": "Dinner",
          "tip": 1.1,
          "total_bill": 12.9
         },
         {
          "day": "Sat",
          "sex": "Male",
          "size": 5,
          "smoker": "Yes",
          "time": "Dinner",
          "tip": 3,
          "total_bill": 28.15
         },
         {
          "day": "Sat",
          "sex": "Male",
          "size": 2,
          "smoker": "Yes",
          "time": "Dinner",
          "tip": 1.5,
          "total_bill": 11.59
         },
         {
          "day": "Sat",
          "sex": "Male",
          "size": 2,
          "smoker": "Yes",
          "time": "Dinner",
          "tip": 1.44,
          "total_bill": 7.74
         },
         {
          "day": "Sat",
          "sex": "Female",
          "size": 4,
          "smoker": "Yes",
          "time": "Dinner",
          "tip": 3.09,
          "total_bill": 30.14
         },
         {
          "day": "Fri",
          "sex": "Male",
          "size": 2,
          "smoker": "Yes",
          "time": "Lunch",
          "tip": 2.2,
          "total_bill": 12.16
         },
         {
          "day": "Fri",
          "sex": "Female",
          "size": 2,
          "smoker": "Yes",
          "time": "Lunch",
          "tip": 3.48,
          "total_bill": 13.42
         },
         {
          "day": "Fri",
          "sex": "Male",
          "size": 1,
          "smoker": "Yes",
          "time": "Lunch",
          "tip": 1.92,
          "total_bill": 8.58
         },
         {
          "day": "Fri",
          "sex": "Female",
          "size": 3,
          "smoker": "No",
          "time": "Lunch",
          "tip": 3,
          "total_bill": 15.98
         },
         {
          "day": "Fri",
          "sex": "Male",
          "size": 2,
          "smoker": "Yes",
          "time": "Lunch",
          "tip": 1.58,
          "total_bill": 13.42
         },
         {
          "day": "Fri",
          "sex": "Female",
          "size": 2,
          "smoker": "Yes",
          "time": "Lunch",
          "tip": 2.5,
          "total_bill": 16.27
         },
         {
          "day": "Fri",
          "sex": "Female",
          "size": 2,
          "smoker": "Yes",
          "time": "Lunch",
          "tip": 2,
          "total_bill": 10.09
         },
         {
          "day": "Sat",
          "sex": "Male",
          "size": 4,
          "smoker": "No",
          "time": "Dinner",
          "tip": 3,
          "total_bill": 20.45
         },
         {
          "day": "Sat",
          "sex": "Male",
          "size": 2,
          "smoker": "No",
          "time": "Dinner",
          "tip": 2.72,
          "total_bill": 13.28
         },
         {
          "day": "Sat",
          "sex": "Female",
          "size": 2,
          "smoker": "Yes",
          "time": "Dinner",
          "tip": 2.88,
          "total_bill": 22.12
         },
         {
          "day": "Sat",
          "sex": "Male",
          "size": 4,
          "smoker": "Yes",
          "time": "Dinner",
          "tip": 2,
          "total_bill": 24.01
         },
         {
          "day": "Sat",
          "sex": "Male",
          "size": 3,
          "smoker": "Yes",
          "time": "Dinner",
          "tip": 3,
          "total_bill": 15.69
         },
         {
          "day": "Sat",
          "sex": "Male",
          "size": 2,
          "smoker": "No",
          "time": "Dinner",
          "tip": 3.39,
          "total_bill": 11.61
         },
         {
          "day": "Sat",
          "sex": "Male",
          "size": 2,
          "smoker": "No",
          "time": "Dinner",
          "tip": 1.47,
          "total_bill": 10.77
         },
         {
          "day": "Sat",
          "sex": "Male",
          "size": 2,
          "smoker": "Yes",
          "time": "Dinner",
          "tip": 3,
          "total_bill": 15.53
         },
         {
          "day": "Sat",
          "sex": "Male",
          "size": 2,
          "smoker": "No",
          "time": "Dinner",
          "tip": 1.25,
          "total_bill": 10.07
         },
         {
          "day": "Sat",
          "sex": "Male",
          "size": 2,
          "smoker": "Yes",
          "time": "Dinner",
          "tip": 1,
          "total_bill": 12.6
         },
         {
          "day": "Sat",
          "sex": "Male",
          "size": 2,
          "smoker": "Yes",
          "time": "Dinner",
          "tip": 1.17,
          "total_bill": 32.83
         },
         {
          "day": "Sat",
          "sex": "Female",
          "size": 3,
          "smoker": "No",
          "time": "Dinner",
          "tip": 4.67,
          "total_bill": 35.83
         },
         {
          "day": "Sat",
          "sex": "Male",
          "size": 3,
          "smoker": "No",
          "time": "Dinner",
          "tip": 5.92,
          "total_bill": 29.03
         },
         {
          "day": "Sat",
          "sex": "Female",
          "size": 2,
          "smoker": "Yes",
          "time": "Dinner",
          "tip": 2,
          "total_bill": 27.18
         },
         {
          "day": "Sat",
          "sex": "Male",
          "size": 2,
          "smoker": "Yes",
          "time": "Dinner",
          "tip": 2,
          "total_bill": 22.67
         },
         {
          "day": "Sat",
          "sex": "Male",
          "size": 2,
          "smoker": "No",
          "time": "Dinner",
          "tip": 1.75,
          "total_bill": 17.82
         },
         {
          "day": "Thur",
          "sex": "Female",
          "size": 2,
          "smoker": "No",
          "time": "Dinner",
          "tip": 3,
          "total_bill": 18.78
         }
        ]
       },
       "facet": {
        "column": {
         "field": "day",
         "type": "nominal"
        }
       },
       "spec": {
        "layer": [
         {
          "encoding": {
           "x": {
            "field": "time",
            "type": "nominal"
           },
           "y": {
            "aggregate": "min",
            "field": "total_bill",
            "type": "quantitative"
           },
           "y2": {
            "aggregate": "max",
            "field": "total_bill",
            "type": "quantitative"
           }
          },
          "mark": "rule"
         },
         {
          "encoding": {
           "color": {
            "field": "time",
            "legend": null,
            "type": "nominal"
           },
           "x": {
            "field": "time",
            "type": "nominal"
           },
           "y": {
            "aggregate": "q1",
            "axis": {
             "title": "total_bill"
            },
            "field": "total_bill",
            "type": "quantitative"
           },
           "y2": {
            "aggregate": "q3",
            "field": "total_bill",
            "type": "quantitative"
           }
          },
          "mark": "bar"
         },
         {
          "encoding": {
           "x": {
            "field": "time",
            "type": "nominal"
           },
           "y": {
            "aggregate": "median",
            "field": "total_bill",
            "type": "quantitative"
           }
          },
          "mark": {
           "color": "black",
           "size": 18,
           "type": "tick"
          }
         }
        ]
       }
      },
      "image/png": "[encoded data removed]",
      "text/plain": [
       "<VegaLite 2 object>\n",
       "\n",
       "If you see this message, it means the renderer has not been properly enabled\n",
       "for the frontend that you are using. For more information, see\n",
       "https://altair-viz.github.io/user_guide/troubleshooting.html\n"
      ]
     },
     "metadata": {},
     "output_type": "display_data"
    },
    {
     "data": {
      "image/png": "[encoded data removed]",
      "text/plain": [
       "<Figure size 432x288 with 1 Axes>"
      ]
     },
     "metadata": {},
     "output_type": "display_data"
    }
   ],
   "source": [
    "display(salt.boxplot(x=\"day\", y=\"total_bill\", hue=\"time\", data=tips))\n",
    "ax = sns.boxplot(x=\"day\", y=\"total_bill\", hue=\"time\", data=tips, linewidth=2.5)"
   ]
  },
  {
   "cell_type": "code",
   "execution_count": 6,
   "metadata": {},
   "outputs": [
    {
     "data": {
      "application/vnd.vegalite.v2+json": {
       "$schema": "https://vega.github.io/schema/vega-lite/v2.4.1.json",
       "config": {
        "range": {
         "category": [
          "rgba(49,115,161,1)",
          "rgba(224,128,44,1)",
          "rgba(58,145,58,1)",
          "rgba(192,60,61,1)",
          "rgba(147,113,178,1)",
          "rgba(131,91,83,1)",
          "rgba(213,132,188,1)",
          "rgba(127,127,127,1)",
          "rgba(168,169,53,1)",
          "rgba(45,171,184,1)"
         ]
        },
        "view": {
         "height": 300,
         "width": 400
        }
       },
       "data": {
        "values": [
         {
          "day": "Sun",
          "sex": "Female",
          "size": 2,
          "smoker": "No",
          "time": "Dinner",
          "tip": 1.01,
          "total_bill": 16.99
         },
         {
          "day": "Sun",
          "sex": "Male",
          "size": 3,
          "smoker": "No",
          "time": "Dinner",
          "tip": 1.66,
          "total_bill": 10.34
         },
         {
          "day": "Sun",
          "sex": "Male",
          "size": 3,
          "smoker": "No",
          "time": "Dinner",
          "tip": 3.5,
          "total_bill": 21.01
         },
         {
          "day": "Sun",
          "sex": "Male",
          "size": 2,
          "smoker": "No",
          "time": "Dinner",
          "tip": 3.31,
          "total_bill": 23.68
         },
         {
          "day": "Sun",
          "sex": "Female",
          "size": 4,
          "smoker": "No",
          "time": "Dinner",
          "tip": 3.61,
          "total_bill": 24.59
         },
         {
          "day": "Sun",
          "sex": "Male",
          "size": 4,
          "smoker": "No",
          "time": "Dinner",
          "tip": 4.71,
          "total_bill": 25.29
         },
         {
          "day": "Sun",
          "sex": "Male",
          "size": 2,
          "smoker": "No",
          "time": "Dinner",
          "tip": 2,
          "total_bill": 8.77
         },
         {
          "day": "Sun",
          "sex": "Male",
          "size": 4,
          "smoker": "No",
          "time": "Dinner",
          "tip": 3.12,
          "total_bill": 26.88
         },
         {
          "day": "Sun",
          "sex": "Male",
          "size": 2,
          "smoker": "No",
          "time": "Dinner",
          "tip": 1.96,
          "total_bill": 15.04
         },
         {
          "day": "Sun",
          "sex": "Male",
          "size": 2,
          "smoker": "No",
          "time": "Dinner",
          "tip": 3.23,
          "total_bill": 14.78
         },
         {
          "day": "Sun",
          "sex": "Male",
          "size": 2,
          "smoker": "No",
          "time": "Dinner",
          "tip": 1.71,
          "total_bill": 10.27
         },
         {
          "day": "Sun",
          "sex": "Female",
          "size": 4,
          "smoker": "No",
          "time": "Dinner",
          "tip": 5,
          "total_bill": 35.26
         },
         {
          "day": "Sun",
          "sex": "Male",
          "size": 2,
          "smoker": "No",
          "time": "Dinner",
          "tip": 1.57,
          "total_bill": 15.42
         },
         {
          "day": "Sun",
          "sex": "Male",
          "size": 4,
          "smoker": "No",
          "time": "Dinner",
          "tip": 3,
          "total_bill": 18.43
         },
         {
          "day": "Sun",
          "sex": "Female",
          "size": 2,
          "smoker": "No",
          "time": "Dinner",
          "tip": 3.02,
          "total_bill": 14.83
         },
         {
          "day": "Sun",
          "sex": "Male",
          "size": 2,
          "smoker": "No",
          "time": "Dinner",
          "tip": 3.92,
          "total_bill": 21.58
         },
         {
          "day": "Sun",
          "sex": "Female",
          "size": 3,
          "smoker": "No",
          "time": "Dinner",
          "tip": 1.67,
          "total_bill": 10.33
         },
         {
          "day": "Sun",
          "sex": "Male",
          "size": 3,
          "smoker": "No",
          "time": "Dinner",
          "tip": 3.71,
          "total_bill": 16.29
         },
         {
          "day": "Sun",
          "sex": "Female",
          "size": 3,
          "smoker": "No",
          "time": "Dinner",
          "tip": 3.5,
          "total_bill": 16.97
         },
         {
          "day": "Sat",
          "sex": "Male",
          "size": 3,
          "smoker": "No",
          "time": "Dinner",
          "tip": 3.35,
          "total_bill": 20.65
         },
         {
          "day": "Sat",
          "sex": "Male",
          "size": 2,
          "smoker": "No",
          "time": "Dinner",
          "tip": 4.08,
          "total_bill": 17.92
         },
         {
          "day": "Sat",
          "sex": "Female",
          "size": 2,
          "smoker": "No",
          "time": "Dinner",
          "tip": 2.75,
          "total_bill": 20.29
         },
         {
          "day": "Sat",
          "sex": "Female",
          "size": 2,
          "smoker": "No",
          "time": "Dinner",
          "tip": 2.23,
          "total_bill": 15.77
         },
         {
          "day": "Sat",
          "sex": "Male",
          "size": 4,
          "smoker": "No",
          "time": "Dinner",
          "tip": 7.58,
          "total_bill": 39.42
         },
         {
          "day": "Sat",
          "sex": "Male",
          "size": 2,
          "smoker": "No",
          "time": "Dinner",
          "tip": 3.18,
          "total_bill": 19.82
         },
         {
          "day": "Sat",
          "sex": "Male",
          "size": 4,
          "smoker": "No",
          "time": "Dinner",
          "tip": 2.34,
          "total_bill": 17.81
         },
         {
          "day": "Sat",
          "sex": "Male",
          "size": 2,
          "smoker": "No",
          "time": "Dinner",
          "tip": 2,
          "total_bill": 13.37
         },
         {
          "day": "Sat",
          "sex": "Male",
          "size": 2,
          "smoker": "No",
          "time": "Dinner",
          "tip": 2,
          "total_bill": 12.69
         },
         {
          "day": "Sat",
          "sex": "Male",
          "size": 2,
          "smoker": "No",
          "time": "Dinner",
          "tip": 4.3,
          "total_bill": 21.7
         },
         {
          "day": "Sat",
          "sex": "Female",
          "size": 2,
          "smoker": "No",
          "time": "Dinner",
          "tip": 3,
          "total_bill": 19.65
         },
         {
          "day": "Sat",
          "sex": "Male",
          "size": 2,
          "smoker": "No",
          "time": "Dinner",
          "tip": 1.45,
          "total_bill": 9.55
         },
         {
          "day": "Sat",
          "sex": "Male",
          "size": 4,
          "smoker": "No",
          "time": "Dinner",
          "tip": 2.5,
          "total_bill": 18.35
         },
         {
          "day": "Sat",
          "sex": "Female",
          "size": 2,
          "smoker": "No",
          "time": "Dinner",
          "tip": 3,
          "total_bill": 15.06
         },
         {
          "day": "Sat",
          "sex": "Female",
          "size": 4,
          "smoker": "No",
          "time": "Dinner",
          "tip": 2.45,
          "total_bill": 20.69
         },
         {
          "day": "Sat",
          "sex": "Male",
          "size": 2,
          "smoker": "No",
          "time": "Dinner",
          "tip": 3.27,
          "total_bill": 17.78
         },
         {
          "day": "Sat",
          "sex": "Male",
          "size": 3,
          "smoker": "No",
          "time": "Dinner",
          "tip": 3.6,
          "total_bill": 24.06
         },
         {
          "day": "Sat",
          "sex": "Male",
          "size": 3,
          "smoker": "No",
          "time": "Dinner",
          "tip": 2,
          "total_bill": 16.31
         },
         {
          "day": "Sat",
          "sex": "Female",
          "size": 3,
          "smoker": "No",
          "time": "Dinner",
          "tip": 3.07,
          "total_bill": 16.93
         },
         {
          "day": "Sat",
          "sex": "Male",
          "size": 3,
          "smoker": "No",
          "time": "Dinner",
          "tip": 2.31,
          "total_bill": 18.69
         },
         {
          "day": "Sat",
          "sex": "Male",
          "size": 3,
          "smoker": "No",
          "time": "Dinner",
          "tip": 5,
          "total_bill": 31.27
         },
         {
          "day": "Sat",
          "sex": "Male",
          "size": 3,
          "smoker": "No",
          "time": "Dinner",
          "tip": 2.24,
          "total_bill": 16.04
         },
         {
          "day": "Sun",
          "sex": "Male",
          "size": 2,
          "smoker": "No",
          "time": "Dinner",
          "tip": 2.54,
          "total_bill": 17.46
         },
         {
          "day": "Sun",
          "sex": "Male",
          "size": 2,
          "smoker": "No",
          "time": "Dinner",
          "tip": 3.06,
          "total_bill": 13.94
         },
         {
          "day": "Sun",
          "sex": "Male",
          "size": 2,
          "smoker": "No",
          "time": "Dinner",
          "tip": 1.32,
          "total_bill": 9.68
         },
         {
          "day": "Sun",
          "sex": "Male",
          "size": 4,
          "smoker": "No",
          "time": "Dinner",
          "tip": 5.6,
          "total_bill": 30.4
         },
         {
          "day": "Sun",
          "sex": "Male",
          "size": 2,
          "smoker": "No",
          "time": "Dinner",
          "tip": 3,
          "total_bill": 18.29
         },
         {
          "day": "Sun",
          "sex": "Male",
          "size": 2,
          "smoker": "No",
          "time": "Dinner",
          "tip": 5,
          "total_bill": 22.23
         },
         {
          "day": "Sun",
          "sex": "Male",
          "size": 4,
          "smoker": "No",
          "time": "Dinner",
          "tip": 6,
          "total_bill": 32.4
         },
         {
          "day": "Sun",
          "sex": "Male",
          "size": 3,
          "smoker": "No",
          "time": "Dinner",
          "tip": 2.05,
          "total_bill": 28.55
         },
         {
          "day": "Sun",
          "sex": "Male",
          "size": 2,
          "smoker": "No",
          "time": "Dinner",
          "tip": 3,
          "total_bill": 18.04
         },
         {
          "day": "Sun",
          "sex": "Male",
          "size": 2,
          "smoker": "No",
          "time": "Dinner",
          "tip": 2.5,
          "total_bill": 12.54
         },
         {
          "day": "Sun",
          "sex": "Female",
          "size": 2,
          "smoker": "No",
          "time": "Dinner",
          "tip": 2.6,
          "total_bill": 10.29
         },
         {
          "day": "Sun",
          "sex": "Female",
          "size": 4,
          "smoker": "No",
          "time": "Dinner",
          "tip": 5.2,
          "total_bill": 34.81
         },
         {
          "day": "Sun",
          "sex": "Male",
          "size": 2,
          "smoker": "No",
          "time": "Dinner",
          "tip": 1.56,
          "total_bill": 9.94
         },
         {
          "day": "Sun",
          "sex": "Male",
          "size": 4,
          "smoker": "No",
          "time": "Dinner",
          "tip": 4.34,
          "total_bill": 25.56
         },
         {
          "day": "Sun",
          "sex": "Male",
          "size": 2,
          "smoker": "No",
          "time": "Dinner",
          "tip": 3.51,
          "total_bill": 19.49
         },
         {
          "day": "Sat",
          "sex": "Male",
          "size": 4,
          "smoker": "Yes",
          "time": "Dinner",
          "tip": 3,
          "total_bill": 38.01
         },
         {
          "day": "Sat",
          "sex": "Female",
          "size": 2,
          "smoker": "No",
          "time": "Dinner",
          "tip": 1.5,
          "total_bill": 26.41
         },
         {
          "day": "Sat",
          "sex": "Male",
          "size": 2,
          "smoker": "Yes",
          "time": "Dinner",
          "tip": 1.76,
          "total_bill": 11.24
         },
         {
          "day": "Sat",
          "sex": "Male",
          "size": 4,
          "smoker": "No",
          "time": "Dinner",
          "tip": 6.73,
          "total_bill": 48.27
         },
         {
          "day": "Sat",
          "sex": "Male",
          "size": 2,
          "smoker": "Yes",
          "time": "Dinner",
          "tip": 3.21,
          "total_bill": 20.29
         },
         {
          "day": "Sat",
          "sex": "Male",
          "size": 2,
          "smoker": "Yes",
          "time": "Dinner",
          "tip": 2,
          "total_bill": 13.81
         },
         {
          "day": "Sat",
          "sex": "Male",
          "size": 2,
          "smoker": "Yes",
          "time": "Dinner",
          "tip": 1.98,
          "total_bill": 11.02
         },
         {
          "day": "Sat",
          "sex": "Male",
          "size": 4,
          "smoker": "Yes",
          "time": "Dinner",
          "tip": 3.76,
          "total_bill": 18.29
         },
         {
          "day": "Sat",
          "sex": "Male",
          "size": 3,
          "smoker": "No",
          "time": "Dinner",
          "tip": 2.64,
          "total_bill": 17.59
         },
         {
          "day": "Sat",
          "sex": "Male",
          "size": 3,
          "smoker": "No",
          "time": "Dinner",
          "tip": 3.15,
          "total_bill": 20.08
         },
         {
          "day": "Sat",
          "sex": "Female",
          "size": 2,
          "smoker": "No",
          "time": "Dinner",
          "tip": 2.47,
          "total_bill": 16.45
         },
         {
          "day": "Sat",
          "sex": "Female",
          "size": 1,
          "smoker": "Yes",
          "time": "Dinner",
          "tip": 1,
          "total_bill": 3.07
         },
         {
          "day": "Sat",
          "sex": "Male",
          "size": 2,
          "smoker": "No",
          "time": "Dinner",
          "tip": 2.01,
          "total_bill": 20.23
         },
         {
          "day": "Sat",
          "sex": "Male",
          "size": 2,
          "smoker": "Yes",
          "time": "Dinner",
          "tip": 2.09,
          "total_bill": 15.01
         },
         {
          "day": "Sat",
          "sex": "Male",
          "size": 2,
          "smoker": "No",
          "time": "Dinner",
          "tip": 1.97,
          "total_bill": 12.02
         },
         {
          "day": "Sat",
          "sex": "Female",
          "size": 3,
          "smoker": "No",
          "time": "Dinner",
          "tip": 3,
          "total_bill": 17.07
         },
         {
          "day": "Sat",
          "sex": "Female",
          "size": 2,
          "smoker": "Yes",
          "time": "Dinner",
          "tip": 3.14,
          "total_bill": 26.86
         },
         {
          "day": "Sat",
          "sex": "Female",
          "size": 2,
          "smoker": "Yes",
          "time": "Dinner",
          "tip": 5,
          "total_bill": 25.28
         },
         {
          "day": "Sat",
          "sex": "Female",
          "size": 2,
          "smoker": "No",
          "time": "Dinner",
          "tip": 2.2,
          "total_bill": 14.73
         },
         {
          "day": "Sat",
          "sex": "Male",
          "size": 2,
          "smoker": "No",
          "time": "Dinner",
          "tip": 1.25,
          "total_bill": 10.51
         },
         {
          "day": "Sat",
          "sex": "Male",
          "size": 2,
          "smoker": "Yes",
          "time": "Dinner",
          "tip": 3.08,
          "total_bill": 17.92
         },
         {
          "day": "Thur",
          "sex": "Male",
          "size": 4,
          "smoker": "No",
          "time": "Lunch",
          "tip": 4,
          "total_bill": 27.2
         },
         {
          "day": "Thur",
          "sex": "Male",
          "size": 2,
          "smoker": "No",
          "time": "Lunch",
          "tip": 3,
          "total_bill": 22.76
         },
         {
          "day": "Thur",
          "sex": "Male",
          "size": 2,
          "smoker": "No",
          "time": "Lunch",
          "tip": 2.71,
          "total_bill": 17.29
         },
         {
          "day": "Thur",
          "sex": "Male",
          "size": 2,
          "smoker": "Yes",
          "time": "Lunch",
          "tip": 3,
          "total_bill": 19.44
         },
         {
          "day": "Thur",
          "sex": "Male",
          "size": 2,
          "smoker": "No",
          "time": "Lunch",
          "tip": 3.4,
          "total_bill": 16.66
         },
         {
          "day": "Thur",
          "sex": "Female",
          "size": 1,
          "smoker": "No",
          "time": "Lunch",
          "tip": 1.83,
          "total_bill": 10.07
         },
         {
          "day": "Thur",
          "sex": "Male",
          "size": 2,
          "smoker": "Yes",
          "time": "Lunch",
          "tip": 5,
          "total_bill": 32.68
         },
         {
          "day": "Thur",
          "sex": "Male",
          "size": 2,
          "smoker": "No",
          "time": "Lunch",
          "tip": 2.03,
          "total_bill": 15.98
         },
         {
          "day": "Thur",
          "sex": "Female",
          "size": 4,
          "smoker": "No",
          "time": "Lunch",
          "tip": 5.17,
          "total_bill": 34.83
         },
         {
          "day": "Thur",
          "sex": "Male",
          "size": 2,
          "smoker": "No",
          "time": "Lunch",
          "tip": 2,
          "total_bill": 13.03
         },
         {
          "day": "Thur",
          "sex": "Male",
          "size": 2,
          "smoker": "No",
          "time": "Lunch",
          "tip": 4,
          "total_bill": 18.28
         },
         {
          "day": "Thur",
          "sex": "Male",
          "size": 2,
          "smoker": "No",
          "time": "Lunch",
          "tip": 5.85,
          "total_bill": 24.71
         },
         {
          "day": "Thur",
          "sex": "Male",
          "size": 2,
          "smoker": "No",
          "time": "Lunch",
          "tip": 3,
          "total_bill": 21.16
         },
         {
          "day": "Fri",
          "sex": "Male",
          "size": 2,
          "smoker": "Yes",
          "time": "Dinner",
          "tip": 3,
          "total_bill": 28.97
         },
         {
          "day": "Fri",
          "sex": "Male",
          "size": 2,
          "smoker": "No",
          "time": "Dinner",
          "tip": 3.5,
          "total_bill": 22.49
         },
         {
          "day": "Fri",
          "sex": "Female",
          "size": 2,
          "smoker": "Yes",
          "time": "Dinner",
          "tip": 1,
          "total_bill": 5.75
         },
         {
          "day": "Fri",
          "sex": "Female",
          "size": 2,
          "smoker": "Yes",
          "time": "Dinner",
          "tip": 4.3,
          "total_bill": 16.32
         },
         {
          "day": "Fri",
          "sex": "Female",
          "size": 2,
          "smoker": "No",
          "time": "Dinner",
          "tip": 3.25,
          "total_bill": 22.75
         },
         {
          "day": "Fri",
          "sex": "Male",
          "size": 4,
          "smoker": "Yes",
          "time": "Dinner",
          "tip": 4.73,
          "total_bill": 40.17
         },
         {
          "day": "Fri",
          "sex": "Male",
          "size": 2,
          "smoker": "Yes",
          "time": "Dinner",
          "tip": 4,
          "total_bill": 27.28
         },
         {
          "day": "Fri",
          "sex": "Male",
          "size": 2,
          "smoker": "Yes",
          "time": "Dinner",
          "tip": 1.5,
          "total_bill": 12.03
         },
         {
          "day": "Fri",
          "sex": "Male",
          "size": 2,
          "smoker": "Yes",
          "time": "Dinner",
          "tip": 3,
          "total_bill": 21.01
         },
         {
          "day": "Fri",
          "sex": "Male",
          "size": 2,
          "smoker": "No",
          "time": "Dinner",
          "tip": 1.5,
          "total_bill": 12.46
         },
         {
          "day": "Fri",
          "sex": "Female",
          "size": 2,
          "smoker": "Yes",
          "time": "Dinner",
          "tip": 2.5,
          "total_bill": 11.35
         },
         {
          "day": "Fri",
          "sex": "Female",
          "size": 2,
          "smoker": "Yes",
          "time": "Dinner",
          "tip": 3,
          "total_bill": 15.38
         },
         {
          "day": "Sat",
          "sex": "Female",
          "size": 3,
          "smoker": "Yes",
          "time": "Dinner",
          "tip": 2.5,
          "total_bill": 44.3
         },
         {
          "day": "Sat",
          "sex": "Female",
          "size": 2,
          "smoker": "Yes",
          "time": "Dinner",
          "tip": 3.48,
          "total_bill": 22.42
         },
         {
          "day": "Sat",
          "sex": "Female",
          "size": 2,
          "smoker": "No",
          "time": "Dinner",
          "tip": 4.08,
          "total_bill": 20.92
         },
         {
          "day": "Sat",
          "sex": "Male",
          "size": 2,
          "smoker": "Yes",
          "time": "Dinner",
          "tip": 1.64,
          "total_bill": 15.36
         },
         {
          "day": "Sat",
          "sex": "Male",
          "size": 2,
          "smoker": "Yes",
          "time": "Dinner",
          "tip": 4.06,
          "total_bill": 20.49
         },
         {
          "day": "Sat",
          "sex": "Male",
          "size": 2,
          "smoker": "Yes",
          "time": "Dinner",
          "tip": 4.29,
          "total_bill": 25.21
         },
         {
          "day": "Sat",
          "sex": "Male",
          "size": 2,
          "smoker": "No",
          "time": "Dinner",
          "tip": 3.76,
          "total_bill": 18.24
         },
         {
          "day": "Sat",
          "sex": "Female",
          "size": 2,
          "smoker": "Yes",
          "time": "Dinner",
          "tip": 4,
          "total_bill": 14.31
         },
         {
          "day": "Sat",
          "sex": "Male",
          "size": 2,
          "smoker": "No",
          "time": "Dinner",
          "tip": 3,
          "total_bill": 14
         },
         {
          "day": "Sat",
          "sex": "Female",
          "size": 1,
          "smoker": "No",
          "time": "Dinner",
          "tip": 1,
          "total_bill": 7.25
         },
         {
          "day": "Sun",
          "sex": "Male",
          "size": 3,
          "smoker": "No",
          "time": "Dinner",
          "tip": 4,
          "total_bill": 38.07
         },
         {
          "day": "Sun",
          "sex": "Male",
          "size": 2,
          "smoker": "No",
          "time": "Dinner",
          "tip": 2.55,
          "total_bill": 23.95
         },
         {
          "day": "Sun",
          "sex": "Female",
          "size": 3,
          "smoker": "No",
          "time": "Dinner",
          "tip": 4,
          "total_bill": 25.71
         },
         {
          "day": "Sun",
          "sex": "Female",
          "size": 2,
          "smoker": "No",
          "time": "Dinner",
          "tip": 3.5,
          "total_bill": 17.31
         },
         {
          "day": "Sun",
          "sex": "Male",
          "size": 4,
          "smoker": "No",
          "time": "Dinner",
          "tip": 5.07,
          "total_bill": 29.93
         },
         {
          "day": "Thur",
          "sex": "Female",
          "size": 2,
          "smoker": "No",
          "time": "Lunch",
          "tip": 1.5,
          "total_bill": 10.65
         },
         {
          "day": "Thur",
          "sex": "Female",
          "size": 2,
          "smoker": "No",
          "time": "Lunch",
          "tip": 1.8,
          "total_bill": 12.43
         },
         {
          "day": "Thur",
          "sex": "Female",
          "size": 4,
          "smoker": "No",
          "time": "Lunch",
          "tip": 2.92,
          "total_bill": 24.08
         },
         {
          "day": "Thur",
          "sex": "Male",
          "size": 2,
          "smoker": "No",
          "time": "Lunch",
          "tip": 2.31,
          "total_bill": 11.69
         },
         {
          "day": "Thur",
          "sex": "Female",
          "size": 2,
          "smoker": "No",
          "time": "Lunch",
          "tip": 1.68,
          "total_bill": 13.42
         },
         {
          "day": "Thur",
          "sex": "Male",
          "size": 2,
          "smoker": "No",
          "time": "Lunch",
          "tip": 2.5,
          "total_bill": 14.26
         },
         {
          "day": "Thur",
          "sex": "Male",
          "size": 2,
          "smoker": "No",
          "time": "Lunch",
          "tip": 2,
          "total_bill": 15.95
         },
         {
          "day": "Thur",
          "sex": "Female",
          "size": 2,
          "smoker": "No",
          "time": "Lunch",
          "tip": 2.52,
          "total_bill": 12.48
         },
         {
          "day": "Thur",
          "sex": "Female",
          "size": 6,
          "smoker": "No",
          "time": "Lunch",
          "tip": 4.2,
          "total_bill": 29.8
         },
         {
          "day": "Thur",
          "sex": "Male",
          "size": 2,
          "smoker": "No",
          "time": "Lunch",
          "tip": 1.48,
          "total_bill": 8.52
         },
         {
          "day": "Thur",
          "sex": "Female",
          "size": 2,
          "smoker": "No",
          "time": "Lunch",
          "tip": 2,
          "total_bill": 14.52
         },
         {
          "day": "Thur",
          "sex": "Female",
          "size": 2,
          "smoker": "No",
          "time": "Lunch",
          "tip": 2,
          "total_bill": 11.38
         },
         {
          "day": "Thur",
          "sex": "Male",
          "size": 3,
          "smoker": "No",
          "time": "Lunch",
          "tip": 2.18,
          "total_bill": 22.82
         },
         {
          "day": "Thur",
          "sex": "Male",
          "size": 2,
          "smoker": "No",
          "time": "Lunch",
          "tip": 1.5,
          "total_bill": 19.08
         },
         {
          "day": "Thur",
          "sex": "Female",
          "size": 2,
          "smoker": "No",
          "time": "Lunch",
          "tip": 2.83,
          "total_bill": 20.27
         },
         {
          "day": "Thur",
          "sex": "Female",
          "size": 2,
          "smoker": "No",
          "time": "Lunch",
          "tip": 1.5,
          "total_bill": 11.17
         },
         {
          "day": "Thur",
          "sex": "Female",
          "size": 2,
          "smoker": "No",
          "time": "Lunch",
          "tip": 2,
          "total_bill": 12.26
         },
         {
          "day": "Thur",
          "sex": "Female",
          "size": 2,
          "smoker": "No",
          "time": "Lunch",
          "tip": 3.25,
          "total_bill": 18.26
         },
         {
          "day": "Thur",
          "sex": "Female",
          "size": 2,
          "smoker": "No",
          "time": "Lunch",
          "tip": 1.25,
          "total_bill": 8.51
         },
         {
          "day": "Thur",
          "sex": "Female",
          "size": 2,
          "smoker": "No",
          "time": "Lunch",
          "tip": 2,
          "total_bill": 10.33
         },
         {
          "day": "Thur",
          "sex": "Female",
          "size": 2,
          "smoker": "No",
          "time": "Lunch",
          "tip": 2,
          "total_bill": 14.15
         },
         {
          "day": "Thur",
          "sex": "Male",
          "size": 2,
          "smoker": "Yes",
          "time": "Lunch",
          "tip": 2,
          "total_bill": 16
         },
         {
          "day": "Thur",
          "sex": "Female",
          "size": 2,
          "smoker": "No",
          "time": "Lunch",
          "tip": 2.75,
          "total_bill": 13.16
         },
         {
          "day": "Thur",
          "sex": "Female",
          "size": 2,
          "smoker": "No",
          "time": "Lunch",
          "tip": 3.5,
          "total_bill": 17.47
         },
         {
          "day": "Thur",
          "sex": "Male",
          "size": 6,
          "smoker": "No",
          "time": "Lunch",
          "tip": 6.7,
          "total_bill": 34.3
         },
         {
          "day": "Thur",
          "sex": "Male",
          "size": 5,
          "smoker": "No",
          "time": "Lunch",
          "tip": 5,
          "total_bill": 41.19
         },
         {
          "day": "Thur",
          "sex": "Female",
          "size": 6,
          "smoker": "No",
          "time": "Lunch",
          "tip": 5,
          "total_bill": 27.05
         },
         {
          "day": "Thur",
          "sex": "Female",
          "size": 2,
          "smoker": "No",
          "time": "Lunch",
          "tip": 2.3,
          "total_bill": 16.43
         },
         {
          "day": "Thur",
          "sex": "Female",
          "size": 2,
          "smoker": "No",
          "time": "Lunch",
          "tip": 1.5,
          "total_bill": 8.35
         },
         {
          "day": "Thur",
          "sex": "Female",
          "size": 3,
          "smoker": "No",
          "time": "Lunch",
          "tip": 1.36,
          "total_bill": 18.64
         },
         {
          "day": "Thur",
          "sex": "Female",
          "size": 2,
          "smoker": "No",
          "time": "Lunch",
          "tip": 1.63,
          "total_bill": 11.87
         },
         {
          "day": "Thur",
          "sex": "Male",
          "size": 2,
          "smoker": "No",
          "time": "Lunch",
          "tip": 1.73,
          "total_bill": 9.78
         },
         {
          "day": "Thur",
          "sex": "Male",
          "size": 2,
          "smoker": "No",
          "time": "Lunch",
          "tip": 2,
          "total_bill": 7.51
         },
         {
          "day": "Sun",
          "sex": "Male",
          "size": 2,
          "smoker": "No",
          "time": "Dinner",
          "tip": 2.5,
          "total_bill": 14.07
         },
         {
          "day": "Sun",
          "sex": "Male",
          "size": 2,
          "smoker": "No",
          "time": "Dinner",
          "tip": 2,
          "total_bill": 13.13
         },
         {
          "day": "Sun",
          "sex": "Male",
          "size": 3,
          "smoker": "No",
          "time": "Dinner",
          "tip": 2.74,
          "total_bill": 17.26
         },
         {
          "day": "Sun",
          "sex": "Male",
          "size": 4,
          "smoker": "No",
          "time": "Dinner",
          "tip": 2,
          "total_bill": 24.55
         },
         {
          "day": "Sun",
          "sex": "Male",
          "size": 4,
          "smoker": "No",
          "time": "Dinner",
          "tip": 2,
          "total_bill": 19.77
         },
         {
          "day": "Sun",
          "sex": "Female",
          "size": 5,
          "smoker": "No",
          "time": "Dinner",
          "tip": 5.14,
          "total_bill": 29.85
         },
         {
          "day": "Sun",
          "sex": "Male",
          "size": 6,
          "smoker": "No",
          "time": "Dinner",
          "tip": 5,
          "total_bill": 48.17
         },
         {
          "day": "Sun",
          "sex": "Female",
          "size": 4,
          "smoker": "No",
          "time": "Dinner",
          "tip": 3.75,
          "total_bill": 25
         },
         {
          "day": "Sun",
          "sex": "Female",
          "size": 2,
          "smoker": "No",
          "time": "Dinner",
          "tip": 2.61,
          "total_bill": 13.39
         },
         {
          "day": "Sun",
          "sex": "Male",
          "size": 4,
          "smoker": "No",
          "time": "Dinner",
          "tip": 2,
          "total_bill": 16.49
         },
         {
          "day": "Sun",
          "sex": "Male",
          "size": 4,
          "smoker": "No",
          "time": "Dinner",
          "tip": 3.5,
          "total_bill": 21.5
         },
         {
          "day": "Sun",
          "sex": "Male",
          "size": 2,
          "smoker": "No",
          "time": "Dinner",
          "tip": 2.5,
          "total_bill": 12.66
         },
         {
          "day": "Sun",
          "sex": "Female",
          "size": 3,
          "smoker": "No",
          "time": "Dinner",
          "tip": 2,
          "total_bill": 16.21
         },
         {
          "day": "Sun",
          "sex": "Male",
          "size": 2,
          "smoker": "No",
          "time": "Dinner",
          "tip": 2,
          "total_bill": 13.81
         },
         {
          "day": "Sun",
          "sex": "Female",
          "size": 2,
          "smoker": "Yes",
          "time": "Dinner",
          "tip": 3,
          "total_bill": 17.51
         },
         {
          "day": "Sun",
          "sex": "Male",
          "size": 3,
          "smoker": "No",
          "time": "Dinner",
          "tip": 3.48,
          "total_bill": 24.52
         },
         {
          "day": "Sun",
          "sex": "Male",
          "size": 2,
          "smoker": "No",
          "time": "Dinner",
          "tip": 2.24,
          "total_bill": 20.76
         },
         {
          "day": "Sun",
          "sex": "Male",
          "size": 4,
          "smoker": "No",
          "time": "Dinner",
          "tip": 4.5,
          "total_bill": 31.71
         },
         {
          "day": "Sat",
          "sex": "Female",
          "size": 2,
          "smoker": "Yes",
          "time": "Dinner",
          "tip": 1.61,
          "total_bill": 10.59
         },
         {
          "day": "Sat",
          "sex": "Female",
          "size": 2,
          "smoker": "Yes",
          "time": "Dinner",
          "tip": 2,
          "total_bill": 10.63
         },
         {
          "day": "Sat",
          "sex": "Male",
          "size": 3,
          "smoker": "Yes",
          "time": "Dinner",
          "tip": 10,
          "total_bill": 50.81
         },
         {
          "day": "Sat",
          "sex": "Male",
          "size": 2,
          "smoker": "Yes",
          "time": "Dinner",
          "tip": 3.16,
          "total_bill": 15.81
         },
         {
          "day": "Sun",
          "sex": "Male",
          "size": 2,
          "smoker": "Yes",
          "time": "Dinner",
          "tip": 5.15,
          "total_bill": 7.25
         },
         {
          "day": "Sun",
          "sex": "Male",
          "size": 2,
          "smoker": "Yes",
          "time": "Dinner",
          "tip": 3.18,
          "total_bill": 31.85
         },
         {
          "day": "Sun",
          "sex": "Male",
          "size": 2,
          "smoker": "Yes",
          "time": "Dinner",
          "tip": 4,
          "total_bill": 16.82
         },
         {
          "day": "Sun",
          "sex": "Male",
          "size": 2,
          "smoker": "Yes",
          "time": "Dinner",
          "tip": 3.11,
          "total_bill": 32.9
         },
         {
          "day": "Sun",
          "sex": "Male",
          "size": 2,
          "smoker": "Yes",
          "time": "Dinner",
          "tip": 2,
          "total_bill": 17.89
         },
         {
          "day": "Sun",
          "sex": "Male",
          "size": 2,
          "smoker": "Yes",
          "time": "Dinner",
          "tip": 2,
          "total_bill": 14.48
         },
         {
          "day": "Sun",
          "sex": "Female",
          "size": 2,
          "smoker": "Yes",
          "time": "Dinner",
          "tip": 4,
          "total_bill": 9.6
         },
         {
          "day": "Sun",
          "sex": "Male",
          "size": 2,
          "smoker": "Yes",
          "time": "Dinner",
          "tip": 3.55,
          "total_bill": 34.63
         },
         {
          "day": "Sun",
          "sex": "Male",
          "size": 4,
          "smoker": "Yes",
          "time": "Dinner",
          "tip": 3.68,
          "total_bill": 34.65
         },
         {
          "day": "Sun",
          "sex": "Male",
          "size": 2,
          "smoker": "Yes",
          "time": "Dinner",
          "tip": 5.65,
          "total_bill": 23.33
         },
         {
          "day": "Sun",
          "sex": "Male",
          "size": 3,
          "smoker": "Yes",
          "time": "Dinner",
          "tip": 3.5,
          "total_bill": 45.35
         },
         {
          "day": "Sun",
          "sex": "Male",
          "size": 4,
          "smoker": "Yes",
          "time": "Dinner",
          "tip": 6.5,
          "total_bill": 23.17
         },
         {
          "day": "Sun",
          "sex": "Male",
          "size": 2,
          "smoker": "Yes",
          "time": "Dinner",
          "tip": 3,
          "total_bill": 40.55
         },
         {
          "day": "Sun",
          "sex": "Male",
          "size": 5,
          "smoker": "No",
          "time": "Dinner",
          "tip": 5,
          "total_bill": 20.69
         },
         {
          "day": "Sun",
          "sex": "Female",
          "size": 3,
          "smoker": "Yes",
          "time": "Dinner",
          "tip": 3.5,
          "total_bill": 20.9
         },
         {
          "day": "Sun",
          "sex": "Male",
          "size": 5,
          "smoker": "Yes",
          "time": "Dinner",
          "tip": 2,
          "total_bill": 30.46
         },
         {
          "day": "Sun",
          "sex": "Female",
          "size": 3,
          "smoker": "Yes",
          "time": "Dinner",
          "tip": 3.5,
          "total_bill": 18.15
         },
         {
          "day": "Sun",
          "sex": "Male",
          "size": 3,
          "smoker": "Yes",
          "time": "Dinner",
          "tip": 4,
          "total_bill": 23.1
         },
         {
          "day": "Sun",
          "sex": "Male",
          "size": 2,
          "smoker": "Yes",
          "time": "Dinner",
          "tip": 1.5,
          "total_bill": 15.69
         },
         {
          "day": "Thur",
          "sex": "Female",
          "size": 2,
          "smoker": "Yes",
          "time": "Lunch",
          "tip": 4.19,
          "total_bill": 19.81
         },
         {
          "day": "Thur",
          "sex": "Male",
          "size": 2,
          "smoker": "Yes",
          "time": "Lunch",
          "tip": 2.56,
          "total_bill": 28.44
         },
         {
          "day": "Thur",
          "sex": "Male",
          "size": 2,
          "smoker": "Yes",
          "time": "Lunch",
          "tip": 2.02,
          "total_bill": 15.48
         },
         {
          "day": "Thur",
          "sex": "Male",
          "size": 2,
          "smoker": "Yes",
          "time": "Lunch",
          "tip": 4,
          "total_bill": 16.58
         },
         {
          "day": "Thur",
          "sex": "Male",
          "size": 2,
          "smoker": "No",
          "time": "Lunch",
          "tip": 1.44,
          "total_bill": 7.56
         },
         {
          "day": "Thur",
          "sex": "Male",
          "size": 2,
          "smoker": "Yes",
          "time": "Lunch",
          "tip": 2,
          "total_bill": 10.34
         },
         {
          "day": "Thur",
          "sex": "Female",
          "size": 4,
          "smoker": "Yes",
          "time": "Lunch",
          "tip": 5,
          "total_bill": 43.11
         },
         {
          "day": "Thur",
          "sex": "Female",
          "size": 2,
          "smoker": "Yes",
          "time": "Lunch",
          "tip": 2,
          "total_bill": 13
         },
         {
          "day": "Thur",
          "sex": "Male",
          "size": 2,
          "smoker": "Yes",
          "time": "Lunch",
          "tip": 2,
          "total_bill": 13.51
         },
         {
          "day": "Thur",
          "sex": "Male",
          "size": 3,
          "smoker": "Yes",
          "time": "Lunch",
          "tip": 4,
          "total_bill": 18.71
         },
         {
          "day": "Thur",
          "sex": "Female",
          "size": 2,
          "smoker": "Yes",
          "time": "Lunch",
          "tip": 2.01,
          "total_bill": 12.74
         },
         {
          "day": "Thur",
          "sex": "Female",
          "size": 2,
          "smoker": "Yes",
          "time": "Lunch",
          "tip": 2,
          "total_bill": 13
         },
         {
          "day": "Thur",
          "sex": "Female",
          "size": 2,
          "smoker": "Yes",
          "time": "Lunch",
          "tip": 2.5,
          "total_bill": 16.4
         },
         {
          "day": "Thur",
          "sex": "Male",
          "size": 4,
          "smoker": "Yes",
          "time": "Lunch",
          "tip": 4,
          "total_bill": 20.53
         },
         {
          "day": "Thur",
          "sex": "Female",
          "size": 3,
          "smoker": "Yes",
          "time": "Lunch",
          "tip": 3.23,
          "total_bill": 16.47
         },
         {
          "day": "Sat",
          "sex": "Male",
          "size": 3,
          "smoker": "Yes",
          "time": "Dinner",
          "tip": 3.41,
          "total_bill": 26.59
         },
         {
          "day": "Sat",
          "sex": "Male",
          "size": 4,
          "smoker": "Yes",
          "time": "Dinner",
          "tip": 3,
          "total_bill": 38.73
         },
         {
          "day": "Sat",
          "sex": "Male",
          "size": 2,
          "smoker": "Yes",
          "time": "Dinner",
          "tip": 2.03,
          "total_bill": 24.27
         },
         {
          "day": "Sat",
          "sex": "Female",
          "size": 2,
          "smoker": "Yes",
          "time": "Dinner",
          "tip": 2.23,
          "total_bill": 12.76
         },
         {
          "day": "Sat",
          "sex": "Male",
          "size": 3,
          "smoker": "Yes",
          "time": "Dinner",
          "tip": 2,
          "total_bill": 30.06
         },
         {
          "day": "Sat",
          "sex": "Male",
          "size": 4,
          "smoker": "Yes",
          "time": "Dinner",
          "tip": 5.16,
          "total_bill": 25.89
         },
         {
          "day": "Sat",
          "sex": "Male",
          "size": 4,
          "smoker": "No",
          "time": "Dinner",
          "tip": 9,
          "total_bill": 48.33
         },
         {
          "day": "Sat",
          "sex": "Female",
          "size": 2,
          "smoker": "Yes",
          "time": "Dinner",
          "tip": 2.5,
          "total_bill": 13.27
         },
         {
          "day": "Sat",
          "sex": "Female",
          "size": 3,
          "smoker": "Yes",
          "time": "Dinner",
          "tip": 6.5,
          "total_bill": 28.17
         },
         {
          "day": "Sat",
          "sex": "Female",
          "size": 2,
          "smoker": "Yes",
          "time": "Dinner",
          "tip": 1.1,
          "total_bill": 12.9
         },
         {
          "day": "Sat",
          "sex": "Male",
          "size": 5,
          "smoker": "Yes",
          "time": "Dinner",
          "tip": 3,
          "total_bill": 28.15
         },
         {
          "day": "Sat",
          "sex": "Male",
          "size": 2,
          "smoker": "Yes",
          "time": "Dinner",
          "tip": 1.5,
          "total_bill": 11.59
         },
         {
          "day": "Sat",
          "sex": "Male",
          "size": 2,
          "smoker": "Yes",
          "time": "Dinner",
          "tip": 1.44,
          "total_bill": 7.74
         },
         {
          "day": "Sat",
          "sex": "Female",
          "size": 4,
          "smoker": "Yes",
          "time": "Dinner",
          "tip": 3.09,
          "total_bill": 30.14
         },
         {
          "day": "Fri",
          "sex": "Male",
          "size": 2,
          "smoker": "Yes",
          "time": "Lunch",
          "tip": 2.2,
          "total_bill": 12.16
         },
         {
          "day": "Fri",
          "sex": "Female",
          "size": 2,
          "smoker": "Yes",
          "time": "Lunch",
          "tip": 3.48,
          "total_bill": 13.42
         },
         {
          "day": "Fri",
          "sex": "Male",
          "size": 1,
          "smoker": "Yes",
          "time": "Lunch",
          "tip": 1.92,
          "total_bill": 8.58
         },
         {
          "day": "Fri",
          "sex": "Female",
          "size": 3,
          "smoker": "No",
          "time": "Lunch",
          "tip": 3,
          "total_bill": 15.98
         },
         {
          "day": "Fri",
          "sex": "Male",
          "size": 2,
          "smoker": "Yes",
          "time": "Lunch",
          "tip": 1.58,
          "total_bill": 13.42
         },
         {
          "day": "Fri",
          "sex": "Female",
          "size": 2,
          "smoker": "Yes",
          "time": "Lunch",
          "tip": 2.5,
          "total_bill": 16.27
         },
         {
          "day": "Fri",
          "sex": "Female",
          "size": 2,
          "smoker": "Yes",
          "time": "Lunch",
          "tip": 2,
          "total_bill": 10.09
         },
         {
          "day": "Sat",
          "sex": "Male",
          "size": 4,
          "smoker": "No",
          "time": "Dinner",
          "tip": 3,
          "total_bill": 20.45
         },
         {
          "day": "Sat",
          "sex": "Male",
          "size": 2,
          "smoker": "No",
          "time": "Dinner",
          "tip": 2.72,
          "total_bill": 13.28
         },
         {
          "day": "Sat",
          "sex": "Female",
          "size": 2,
          "smoker": "Yes",
          "time": "Dinner",
          "tip": 2.88,
          "total_bill": 22.12
         },
         {
          "day": "Sat",
          "sex": "Male",
          "size": 4,
          "smoker": "Yes",
          "time": "Dinner",
          "tip": 2,
          "total_bill": 24.01
         },
         {
          "day": "Sat",
          "sex": "Male",
          "size": 3,
          "smoker": "Yes",
          "time": "Dinner",
          "tip": 3,
          "total_bill": 15.69
         },
         {
          "day": "Sat",
          "sex": "Male",
          "size": 2,
          "smoker": "No",
          "time": "Dinner",
          "tip": 3.39,
          "total_bill": 11.61
         },
         {
          "day": "Sat",
          "sex": "Male",
          "size": 2,
          "smoker": "No",
          "time": "Dinner",
          "tip": 1.47,
          "total_bill": 10.77
         },
         {
          "day": "Sat",
          "sex": "Male",
          "size": 2,
          "smoker": "Yes",
          "time": "Dinner",
          "tip": 3,
          "total_bill": 15.53
         },
         {
          "day": "Sat",
          "sex": "Male",
          "size": 2,
          "smoker": "No",
          "time": "Dinner",
          "tip": 1.25,
          "total_bill": 10.07
         },
         {
          "day": "Sat",
          "sex": "Male",
          "size": 2,
          "smoker": "Yes",
          "time": "Dinner",
          "tip": 1,
          "total_bill": 12.6
         },
         {
          "day": "Sat",
          "sex": "Male",
          "size": 2,
          "smoker": "Yes",
          "time": "Dinner",
          "tip": 1.17,
          "total_bill": 32.83
         },
         {
          "day": "Sat",
          "sex": "Female",
          "size": 3,
          "smoker": "No",
          "time": "Dinner",
          "tip": 4.67,
          "total_bill": 35.83
         },
         {
          "day": "Sat",
          "sex": "Male",
          "size": 3,
          "smoker": "No",
          "time": "Dinner",
          "tip": 5.92,
          "total_bill": 29.03
         },
         {
          "day": "Sat",
          "sex": "Female",
          "size": 2,
          "smoker": "Yes",
          "time": "Dinner",
          "tip": 2,
          "total_bill": 27.18
         },
         {
          "day": "Sat",
          "sex": "Male",
          "size": 2,
          "smoker": "Yes",
          "time": "Dinner",
          "tip": 2,
          "total_bill": 22.67
         },
         {
          "day": "Sat",
          "sex": "Male",
          "size": 2,
          "smoker": "No",
          "time": "Dinner",
          "tip": 1.75,
          "total_bill": 17.82
         },
         {
          "day": "Thur",
          "sex": "Female",
          "size": 2,
          "smoker": "No",
          "time": "Dinner",
          "tip": 3,
          "total_bill": 18.78
         }
        ]
       },
       "layer": [
        {
         "encoding": {
          "x": {
           "field": "time",
           "type": "nominal"
          },
          "y": {
           "aggregate": "min",
           "field": "tip",
           "type": "quantitative"
          },
          "y2": {
           "aggregate": "max",
           "field": "tip",
           "type": "quantitative"
          }
         },
         "mark": "rule"
        },
        {
         "encoding": {
          "color": {
           "field": "time",
           "legend": null,
           "type": "nominal"
          },
          "x": {
           "field": "time",
           "type": "nominal"
          },
          "y": {
           "aggregate": "q1",
           "axis": {
            "title": "tip"
           },
           "field": "tip",
           "type": "quantitative"
          },
          "y2": {
           "aggregate": "q3",
           "field": "tip",
           "type": "quantitative"
          }
         },
         "mark": "bar"
        },
        {
         "encoding": {
          "x": {
           "field": "time",
           "type": "nominal"
          },
          "y": {
           "aggregate": "median",
           "field": "tip",
           "type": "quantitative"
          }
         },
         "mark": {
          "color": "black",
          "size": 18,
          "type": "tick"
         }
        }
       ]
      },
      "image/png": "[encoded data removed]",
      "text/plain": [
       "<VegaLite 2 object>\n",
       "\n",
       "If you see this message, it means the renderer has not been properly enabled\n",
       "for the frontend that you are using. For more information, see\n",
       "https://altair-viz.github.io/user_guide/troubleshooting.html\n"
      ]
     },
     "metadata": {},
     "output_type": "display_data"
    },
    {
     "data": {
      "image/png": "[encoded data removed]",
      "text/plain": [
       "<Figure size 432x288 with 1 Axes>"
      ]
     },
     "metadata": {},
     "output_type": "display_data"
    }
   ],
   "source": [
    "display(salt.boxplot(x=\"time\", y=\"tip\", data=tips))\n",
    "ax = sns.boxplot(x=\"time\", y=\"tip\", data=tips, order=[\"Lunch\", \"Dinner\"])"
   ]
  },
  {
   "cell_type": "code",
   "execution_count": 7,
   "metadata": {},
   "outputs": [
    {
     "data": {
      "application/vnd.vegalite.v2+json": {
       "$schema": "https://vega.github.io/schema/vega-lite/v2.4.1.json",
       "config": {
        "range": {
         "category": [
          "rgba(113,182,160,1)",
          "rgba(232,149,117,1)",
          "rgba(148,163,195,1)",
          "rgba(219,149,192,1)",
          "rgba(162,199,100,1)",
          "rgba(229,200,72,1)",
          "rgba(218,194,158,1)",
          "rgba(179,179,179,1)"
         ]
        },
        "view": {
         "height": 300,
         "width": 400
        }
       },
       "data": {
        "values": [
         {
          "column": "sepal_length",
          "value": 5.1
         },
         {
          "column": "sepal_length",
          "value": 4.9
         },
         {
          "column": "sepal_length",
          "value": 4.7
         },
         {
          "column": "sepal_length",
          "value": 4.6
         },
         {
          "column": "sepal_length",
          "value": 5
         },
         {
          "column": "sepal_length",
          "value": 5.4
         },
         {
          "column": "sepal_length",
          "value": 4.6
         },
         {
          "column": "sepal_length",
          "value": 5
         },
         {
          "column": "sepal_length",
          "value": 4.4
         },
         {
          "column": "sepal_length",
          "value": 4.9
         },
         {
          "column": "sepal_length",
          "value": 5.4
         },
         {
          "column": "sepal_length",
          "value": 4.8
         },
         {
          "column": "sepal_length",
          "value": 4.8
         },
         {
          "column": "sepal_length",
          "value": 4.3
         },
         {
          "column": "sepal_length",
          "value": 5.8
         },
         {
          "column": "sepal_length",
          "value": 5.7
         },
         {
          "column": "sepal_length",
          "value": 5.4
         },
         {
          "column": "sepal_length",
          "value": 5.1
         },
         {
          "column": "sepal_length",
          "value": 5.7
         },
         {
          "column": "sepal_length",
          "value": 5.1
         },
         {
          "column": "sepal_length",
          "value": 5.4
         },
         {
          "column": "sepal_length",
          "value": 5.1
         },
         {
          "column": "sepal_length",
          "value": 4.6
         },
         {
          "column": "sepal_length",
          "value": 5.1
         },
         {
          "column": "sepal_length",
          "value": 4.8
         },
         {
          "column": "sepal_length",
          "value": 5
         },
         {
          "column": "sepal_length",
          "value": 5
         },
         {
          "column": "sepal_length",
          "value": 5.2
         },
         {
          "column": "sepal_length",
          "value": 5.2
         },
         {
          "column": "sepal_length",
          "value": 4.7
         },
         {
          "column": "sepal_length",
          "value": 4.8
         },
         {
          "column": "sepal_length",
          "value": 5.4
         },
         {
          "column": "sepal_length",
          "value": 5.2
         },
         {
          "column": "sepal_length",
          "value": 5.5
         },
         {
          "column": "sepal_length",
          "value": 4.9
         },
         {
          "column": "sepal_length",
          "value": 5
         },
         {
          "column": "sepal_length",
          "value": 5.5
         },
         {
          "column": "sepal_length",
          "value": 4.9
         },
         {
          "column": "sepal_length",
          "value": 4.4
         },
         {
          "column": "sepal_length",
          "value": 5.1
         },
         {
          "column": "sepal_length",
          "value": 5
         },
         {
          "column": "sepal_length",
          "value": 4.5
         },
         {
          "column": "sepal_length",
          "value": 4.4
         },
         {
          "column": "sepal_length",
          "value": 5
         },
         {
          "column": "sepal_length",
          "value": 5.1
         },
         {
          "column": "sepal_length",
          "value": 4.8
         },
         {
          "column": "sepal_length",
          "value": 5.1
         },
         {
          "column": "sepal_length",
          "value": 4.6
         },
         {
          "column": "sepal_length",
          "value": 5.3
         },
         {
          "column": "sepal_length",
          "value": 5
         },
         {
          "column": "sepal_length",
          "value": 7
         },
         {
          "column": "sepal_length",
          "value": 6.4
         },
         {
          "column": "sepal_length",
          "value": 6.9
         },
         {
          "column": "sepal_length",
          "value": 5.5
         },
         {
          "column": "sepal_length",
          "value": 6.5
         },
         {
          "column": "sepal_length",
          "value": 5.7
         },
         {
          "column": "sepal_length",
          "value": 6.3
         },
         {
          "column": "sepal_length",
          "value": 4.9
         },
         {
          "column": "sepal_length",
          "value": 6.6
         },
         {
          "column": "sepal_length",
          "value": 5.2
         },
         {
          "column": "sepal_length",
          "value": 5
         },
         {
          "column": "sepal_length",
          "value": 5.9
         },
         {
          "column": "sepal_length",
          "value": 6
         },
         {
          "column": "sepal_length",
          "value": 6.1
         },
         {
          "column": "sepal_length",
          "value": 5.6
         },
         {
          "column": "sepal_length",
          "value": 6.7
         },
         {
          "column": "sepal_length",
          "value": 5.6
         },
         {
          "column": "sepal_length",
          "value": 5.8
         },
         {
          "column": "sepal_length",
          "value": 6.2
         },
         {
          "column": "sepal_length",
          "value": 5.6
         },
         {
          "column": "sepal_length",
          "value": 5.9
         },
         {
          "column": "sepal_length",
          "value": 6.1
         },
         {
          "column": "sepal_length",
          "value": 6.3
         },
         {
          "column": "sepal_length",
          "value": 6.1
         },
         {
          "column": "sepal_length",
          "value": 6.4
         },
         {
          "column": "sepal_length",
          "value": 6.6
         },
         {
          "column": "sepal_length",
          "value": 6.8
         },
         {
          "column": "sepal_length",
          "value": 6.7
         },
         {
          "column": "sepal_length",
          "value": 6
         },
         {
          "column": "sepal_length",
          "value": 5.7
         },
         {
          "column": "sepal_length",
          "value": 5.5
         },
         {
          "column": "sepal_length",
          "value": 5.5
         },
         {
          "column": "sepal_length",
          "value": 5.8
         },
         {
          "column": "sepal_length",
          "value": 6
         },
         {
          "column": "sepal_length",
          "value": 5.4
         },
         {
          "column": "sepal_length",
          "value": 6
         },
         {
          "column": "sepal_length",
          "value": 6.7
         },
         {
          "column": "sepal_length",
          "value": 6.3
         },
         {
          "column": "sepal_length",
          "value": 5.6
         },
         {
          "column": "sepal_length",
          "value": 5.5
         },
         {
          "column": "sepal_length",
          "value": 5.5
         },
         {
          "column": "sepal_length",
          "value": 6.1
         },
         {
          "column": "sepal_length",
          "value": 5.8
         },
         {
          "column": "sepal_length",
          "value": 5
         },
         {
          "column": "sepal_length",
          "value": 5.6
         },
         {
          "column": "sepal_length",
          "value": 5.7
         },
         {
          "column": "sepal_length",
          "value": 5.7
         },
         {
          "column": "sepal_length",
          "value": 6.2
         },
         {
          "column": "sepal_length",
          "value": 5.1
         },
         {
          "column": "sepal_length",
          "value": 5.7
         },
         {
          "column": "sepal_length",
          "value": 6.3
         },
         {
          "column": "sepal_length",
          "value": 5.8
         },
         {
          "column": "sepal_length",
          "value": 7.1
         },
         {
          "column": "sepal_length",
          "value": 6.3
         },
         {
          "column": "sepal_length",
          "value": 6.5
         },
         {
          "column": "sepal_length",
          "value": 7.6
         },
         {
          "column": "sepal_length",
          "value": 4.9
         },
         {
          "column": "sepal_length",
          "value": 7.3
         },
         {
          "column": "sepal_length",
          "value": 6.7
         },
         {
          "column": "sepal_length",
          "value": 7.2
         },
         {
          "column": "sepal_length",
          "value": 6.5
         },
         {
          "column": "sepal_length",
          "value": 6.4
         },
         {
          "column": "sepal_length",
          "value": 6.8
         },
         {
          "column": "sepal_length",
          "value": 5.7
         },
         {
          "column": "sepal_length",
          "value": 5.8
         },
         {
          "column": "sepal_length",
          "value": 6.4
         },
         {
          "column": "sepal_length",
          "value": 6.5
         },
         {
          "column": "sepal_length",
          "value": 7.7
         },
         {
          "column": "sepal_length",
          "value": 7.7
         },
         {
          "column": "sepal_length",
          "value": 6
         },
         {
          "column": "sepal_length",
          "value": 6.9
         },
         {
          "column": "sepal_length",
          "value": 5.6
         },
         {
          "column": "sepal_length",
          "value": 7.7
         },
         {
          "column": "sepal_length",
          "value": 6.3
         },
         {
          "column": "sepal_length",
          "value": 6.7
         },
         {
          "column": "sepal_length",
          "value": 7.2
         },
         {
          "column": "sepal_length",
          "value": 6.2
         },
         {
          "column": "sepal_length",
          "value": 6.1
         },
         {
          "column": "sepal_length",
          "value": 6.4
         },
         {
          "column": "sepal_length",
          "value": 7.2
         },
         {
          "column": "sepal_length",
          "value": 7.4
         },
         {
          "column": "sepal_length",
          "value": 7.9
         },
         {
          "column": "sepal_length",
          "value": 6.4
         },
         {
          "column": "sepal_length",
          "value": 6.3
         },
         {
          "column": "sepal_length",
          "value": 6.1
         },
         {
          "column": "sepal_length",
          "value": 7.7
         },
         {
          "column": "sepal_length",
          "value": 6.3
         },
         {
          "column": "sepal_length",
          "value": 6.4
         },
         {
          "column": "sepal_length",
          "value": 6
         },
         {
          "column": "sepal_length",
          "value": 6.9
         },
         {
          "column": "sepal_length",
          "value": 6.7
         },
         {
          "column": "sepal_length",
          "value": 6.9
         },
         {
          "column": "sepal_length",
          "value": 5.8
         },
         {
          "column": "sepal_length",
          "value": 6.8
         },
         {
          "column": "sepal_length",
          "value": 6.7
         },
         {
          "column": "sepal_length",
          "value": 6.7
         },
         {
          "column": "sepal_length",
          "value": 6.3
         },
         {
          "column": "sepal_length",
          "value": 6.5
         },
         {
          "column": "sepal_length",
          "value": 6.2
         },
         {
          "column": "sepal_length",
          "value": 5.9
         },
         {
          "column": "sepal_width",
          "value": 3.5
         },
         {
          "column": "sepal_width",
          "value": 3
         },
         {
          "column": "sepal_width",
          "value": 3.2
         },
         {
          "column": "sepal_width",
          "value": 3.1
         },
         {
          "column": "sepal_width",
          "value": 3.6
         },
         {
          "column": "sepal_width",
          "value": 3.9
         },
         {
          "column": "sepal_width",
          "value": 3.4
         },
         {
          "column": "sepal_width",
          "value": 3.4
         },
         {
          "column": "sepal_width",
          "value": 2.9
         },
         {
          "column": "sepal_width",
          "value": 3.1
         },
         {
          "column": "sepal_width",
          "value": 3.7
         },
         {
          "column": "sepal_width",
          "value": 3.4
         },
         {
          "column": "sepal_width",
          "value": 3
         },
         {
          "column": "sepal_width",
          "value": 3
         },
         {
          "column": "sepal_width",
          "value": 4
         },
         {
          "column": "sepal_width",
          "value": 4.4
         },
         {
          "column": "sepal_width",
          "value": 3.9
         },
         {
          "column": "sepal_width",
          "value": 3.5
         },
         {
          "column": "sepal_width",
          "value": 3.8
         },
         {
          "column": "sepal_width",
          "value": 3.8
         },
         {
          "column": "sepal_width",
          "value": 3.4
         },
         {
          "column": "sepal_width",
          "value": 3.7
         },
         {
          "column": "sepal_width",
          "value": 3.6
         },
         {
          "column": "sepal_width",
          "value": 3.3
         },
         {
          "column": "sepal_width",
          "value": 3.4
         },
         {
          "column": "sepal_width",
          "value": 3
         },
         {
          "column": "sepal_width",
          "value": 3.4
         },
         {
          "column": "sepal_width",
          "value": 3.5
         },
         {
          "column": "sepal_width",
          "value": 3.4
         },
         {
          "column": "sepal_width",
          "value": 3.2
         },
         {
          "column": "sepal_width",
          "value": 3.1
         },
         {
          "column": "sepal_width",
          "value": 3.4
         },
         {
          "column": "sepal_width",
          "value": 4.1
         },
         {
          "column": "sepal_width",
          "value": 4.2
         },
         {
          "column": "sepal_width",
          "value": 3.1
         },
         {
          "column": "sepal_width",
          "value": 3.2
         },
         {
          "column": "sepal_width",
          "value": 3.5
         },
         {
          "column": "sepal_width",
          "value": 3.6
         },
         {
          "column": "sepal_width",
          "value": 3
         },
         {
          "column": "sepal_width",
          "value": 3.4
         },
         {
          "column": "sepal_width",
          "value": 3.5
         },
         {
          "column": "sepal_width",
          "value": 2.3
         },
         {
          "column": "sepal_width",
          "value": 3.2
         },
         {
          "column": "sepal_width",
          "value": 3.5
         },
         {
          "column": "sepal_width",
          "value": 3.8
         },
         {
          "column": "sepal_width",
          "value": 3
         },
         {
          "column": "sepal_width",
          "value": 3.8
         },
         {
          "column": "sepal_width",
          "value": 3.2
         },
         {
          "column": "sepal_width",
          "value": 3.7
         },
         {
          "column": "sepal_width",
          "value": 3.3
         },
         {
          "column": "sepal_width",
          "value": 3.2
         },
         {
          "column": "sepal_width",
          "value": 3.2
         },
         {
          "column": "sepal_width",
          "value": 3.1
         },
         {
          "column": "sepal_width",
          "value": 2.3
         },
         {
          "column": "sepal_width",
          "value": 2.8
         },
         {
          "column": "sepal_width",
          "value": 2.8
         },
         {
          "column": "sepal_width",
          "value": 3.3
         },
         {
          "column": "sepal_width",
          "value": 2.4
         },
         {
          "column": "sepal_width",
          "value": 2.9
         },
         {
          "column": "sepal_width",
          "value": 2.7
         },
         {
          "column": "sepal_width",
          "value": 2
         },
         {
          "column": "sepal_width",
          "value": 3
         },
         {
          "column": "sepal_width",
          "value": 2.2
         },
         {
          "column": "sepal_width",
          "value": 2.9
         },
         {
          "column": "sepal_width",
          "value": 2.9
         },
         {
          "column": "sepal_width",
          "value": 3.1
         },
         {
          "column": "sepal_width",
          "value": 3
         },
         {
          "column": "sepal_width",
          "value": 2.7
         },
         {
          "column": "sepal_width",
          "value": 2.2
         },
         {
          "column": "sepal_width",
          "value": 2.5
         },
         {
          "column": "sepal_width",
          "value": 3.2
         },
         {
          "column": "sepal_width",
          "value": 2.8
         },
         {
          "column": "sepal_width",
          "value": 2.5
         },
         {
          "column": "sepal_width",
          "value": 2.8
         },
         {
          "column": "sepal_width",
          "value": 2.9
         },
         {
          "column": "sepal_width",
          "value": 3
         },
         {
          "column": "sepal_width",
          "value": 2.8
         },
         {
          "column": "sepal_width",
          "value": 3
         },
         {
          "column": "sepal_width",
          "value": 2.9
         },
         {
          "column": "sepal_width",
          "value": 2.6
         },
         {
          "column": "sepal_width",
          "value": 2.4
         },
         {
          "column": "sepal_width",
          "value": 2.4
         },
         {
          "column": "sepal_width",
          "value": 2.7
         },
         {
          "column": "sepal_width",
          "value": 2.7
         },
         {
          "column": "sepal_width",
          "value": 3
         },
         {
          "column": "sepal_width",
          "value": 3.4
         },
         {
          "column": "sepal_width",
          "value": 3.1
         },
         {
          "column": "sepal_width",
          "value": 2.3
         },
         {
          "column": "sepal_width",
          "value": 3
         },
         {
          "column": "sepal_width",
          "value": 2.5
         },
         {
          "column": "sepal_width",
          "value": 2.6
         },
         {
          "column": "sepal_width",
          "value": 3
         },
         {
          "column": "sepal_width",
          "value": 2.6
         },
         {
          "column": "sepal_width",
          "value": 2.3
         },
         {
          "column": "sepal_width",
          "value": 2.7
         },
         {
          "column": "sepal_width",
          "value": 3
         },
         {
          "column": "sepal_width",
          "value": 2.9
         },
         {
          "column": "sepal_width",
          "value": 2.9
         },
         {
          "column": "sepal_width",
          "value": 2.5
         },
         {
          "column": "sepal_width",
          "value": 2.8
         },
         {
          "column": "sepal_width",
          "value": 3.3
         },
         {
          "column": "sepal_width",
          "value": 2.7
         },
         {
          "column": "sepal_width",
          "value": 3
         },
         {
          "column": "sepal_width",
          "value": 2.9
         },
         {
          "column": "sepal_width",
          "value": 3
         },
         {
          "column": "sepal_width",
          "value": 3
         },
         {
          "column": "sepal_width",
          "value": 2.5
         },
         {
          "column": "sepal_width",
          "value": 2.9
         },
         {
          "column": "sepal_width",
          "value": 2.5
         },
         {
          "column": "sepal_width",
          "value": 3.6
         },
         {
          "column": "sepal_width",
          "value": 3.2
         },
         {
          "column": "sepal_width",
          "value": 2.7
         },
         {
          "column": "sepal_width",
          "value": 3
         },
         {
          "column": "sepal_width",
          "value": 2.5
         },
         {
          "column": "sepal_width",
          "value": 2.8
         },
         {
          "column": "sepal_width",
          "value": 3.2
         },
         {
          "column": "sepal_width",
          "value": 3
         },
         {
          "column": "sepal_width",
          "value": 3.8
         },
         {
          "column": "sepal_width",
          "value": 2.6
         },
         {
          "column": "sepal_width",
          "value": 2.2
         },
         {
          "column": "sepal_width",
          "value": 3.2
         },
         {
          "column": "sepal_width",
          "value": 2.8
         },
         {
          "column": "sepal_width",
          "value": 2.8
         },
         {
          "column": "sepal_width",
          "value": 2.7
         },
         {
          "column": "sepal_width",
          "value": 3.3
         },
         {
          "column": "sepal_width",
          "value": 3.2
         },
         {
          "column": "sepal_width",
          "value": 2.8
         },
         {
          "column": "sepal_width",
          "value": 3
         },
         {
          "column": "sepal_width",
          "value": 2.8
         },
         {
          "column": "sepal_width",
          "value": 3
         },
         {
          "column": "sepal_width",
          "value": 2.8
         },
         {
          "column": "sepal_width",
          "value": 3.8
         },
         {
          "column": "sepal_width",
          "value": 2.8
         },
         {
          "column": "sepal_width",
          "value": 2.8
         },
         {
          "column": "sepal_width",
          "value": 2.6
         },
         {
          "column": "sepal_width",
          "value": 3
         },
         {
          "column": "sepal_width",
          "value": 3.4
         },
         {
          "column": "sepal_width",
          "value": 3.1
         },
         {
          "column": "sepal_width",
          "value": 3
         },
         {
          "column": "sepal_width",
          "value": 3.1
         },
         {
          "column": "sepal_width",
          "value": 3.1
         },
         {
          "column": "sepal_width",
          "value": 3.1
         },
         {
          "column": "sepal_width",
          "value": 2.7
         },
         {
          "column": "sepal_width",
          "value": 3.2
         },
         {
          "column": "sepal_width",
          "value": 3.3
         },
         {
          "column": "sepal_width",
          "value": 3
         },
         {
          "column": "sepal_width",
          "value": 2.5
         },
         {
          "column": "sepal_width",
          "value": 3
         },
         {
          "column": "sepal_width",
          "value": 3.4
         },
         {
          "column": "sepal_width",
          "value": 3
         },
         {
          "column": "petal_length",
          "value": 1.4
         },
         {
          "column": "petal_length",
          "value": 1.4
         },
         {
          "column": "petal_length",
          "value": 1.3
         },
         {
          "column": "petal_length",
          "value": 1.5
         },
         {
          "column": "petal_length",
          "value": 1.4
         },
         {
          "column": "petal_length",
          "value": 1.7
         },
         {
          "column": "petal_length",
          "value": 1.4
         },
         {
          "column": "petal_length",
          "value": 1.5
         },
         {
          "column": "petal_length",
          "value": 1.4
         },
         {
          "column": "petal_length",
          "value": 1.5
         },
         {
          "column": "petal_length",
          "value": 1.5
         },
         {
          "column": "petal_length",
          "value": 1.6
         },
         {
          "column": "petal_length",
          "value": 1.4
         },
         {
          "column": "petal_length",
          "value": 1.1
         },
         {
          "column": "petal_length",
          "value": 1.2
         },
         {
          "column": "petal_length",
          "value": 1.5
         },
         {
          "column": "petal_length",
          "value": 1.3
         },
         {
          "column": "petal_length",
          "value": 1.4
         },
         {
          "column": "petal_length",
          "value": 1.7
         },
         {
          "column": "petal_length",
          "value": 1.5
         },
         {
          "column": "petal_length",
          "value": 1.7
         },
         {
          "column": "petal_length",
          "value": 1.5
         },
         {
          "column": "petal_length",
          "value": 1
         },
         {
          "column": "petal_length",
          "value": 1.7
         },
         {
          "column": "petal_length",
          "value": 1.9
         },
         {
          "column": "petal_length",
          "value": 1.6
         },
         {
          "column": "petal_length",
          "value": 1.6
         },
         {
          "column": "petal_length",
          "value": 1.5
         },
         {
          "column": "petal_length",
          "value": 1.4
         },
         {
          "column": "petal_length",
          "value": 1.6
         },
         {
          "column": "petal_length",
          "value": 1.6
         },
         {
          "column": "petal_length",
          "value": 1.5
         },
         {
          "column": "petal_length",
          "value": 1.5
         },
         {
          "column": "petal_length",
          "value": 1.4
         },
         {
          "column": "petal_length",
          "value": 1.5
         },
         {
          "column": "petal_length",
          "value": 1.2
         },
         {
          "column": "petal_length",
          "value": 1.3
         },
         {
          "column": "petal_length",
          "value": 1.4
         },
         {
          "column": "petal_length",
          "value": 1.3
         },
         {
          "column": "petal_length",
          "value": 1.5
         },
         {
          "column": "petal_length",
          "value": 1.3
         },
         {
          "column": "petal_length",
          "value": 1.3
         },
         {
          "column": "petal_length",
          "value": 1.3
         },
         {
          "column": "petal_length",
          "value": 1.6
         },
         {
          "column": "petal_length",
          "value": 1.9
         },
         {
          "column": "petal_length",
          "value": 1.4
         },
         {
          "column": "petal_length",
          "value": 1.6
         },
         {
          "column": "petal_length",
          "value": 1.4
         },
         {
          "column": "petal_length",
          "value": 1.5
         },
         {
          "column": "petal_length",
          "value": 1.4
         },
         {
          "column": "petal_length",
          "value": 4.7
         },
         {
          "column": "petal_length",
          "value": 4.5
         },
         {
          "column": "petal_length",
          "value": 4.9
         },
         {
          "column": "petal_length",
          "value": 4
         },
         {
          "column": "petal_length",
          "value": 4.6
         },
         {
          "column": "petal_length",
          "value": 4.5
         },
         {
          "column": "petal_length",
          "value": 4.7
         },
         {
          "column": "petal_length",
          "value": 3.3
         },
         {
          "column": "petal_length",
          "value": 4.6
         },
         {
          "column": "petal_length",
          "value": 3.9
         },
         {
          "column": "petal_length",
          "value": 3.5
         },
         {
          "column": "petal_length",
          "value": 4.2
         },
         {
          "column": "petal_length",
          "value": 4
         },
         {
          "column": "petal_length",
          "value": 4.7
         },
         {
          "column": "petal_length",
          "value": 3.6
         },
         {
          "column": "petal_length",
          "value": 4.4
         },
         {
          "column": "petal_length",
          "value": 4.5
         },
         {
          "column": "petal_length",
          "value": 4.1
         },
         {
          "column": "petal_length",
          "value": 4.5
         },
         {
          "column": "petal_length",
          "value": 3.9
         },
         {
          "column": "petal_length",
          "value": 4.8
         },
         {
          "column": "petal_length",
          "value": 4
         },
         {
          "column": "petal_length",
          "value": 4.9
         },
         {
          "column": "petal_length",
          "value": 4.7
         },
         {
          "column": "petal_length",
          "value": 4.3
         },
         {
          "column": "petal_length",
          "value": 4.4
         },
         {
          "column": "petal_length",
          "value": 4.8
         },
         {
          "column": "petal_length",
          "value": 5
         },
         {
          "column": "petal_length",
          "value": 4.5
         },
         {
          "column": "petal_length",
          "value": 3.5
         },
         {
          "column": "petal_length",
          "value": 3.8
         },
         {
          "column": "petal_length",
          "value": 3.7
         },
         {
          "column": "petal_length",
          "value": 3.9
         },
         {
          "column": "petal_length",
          "value": 5.1
         },
         {
          "column": "petal_length",
          "value": 4.5
         },
         {
          "column": "petal_length",
          "value": 4.5
         },
         {
          "column": "petal_length",
          "value": 4.7
         },
         {
          "column": "petal_length",
          "value": 4.4
         },
         {
          "column": "petal_length",
          "value": 4.1
         },
         {
          "column": "petal_length",
          "value": 4
         },
         {
          "column": "petal_length",
          "value": 4.4
         },
         {
          "column": "petal_length",
          "value": 4.6
         },
         {
          "column": "petal_length",
          "value": 4
         },
         {
          "column": "petal_length",
          "value": 3.3
         },
         {
          "column": "petal_length",
          "value": 4.2
         },
         {
          "column": "petal_length",
          "value": 4.2
         },
         {
          "column": "petal_length",
          "value": 4.2
         },
         {
          "column": "petal_length",
          "value": 4.3
         },
         {
          "column": "petal_length",
          "value": 3
         },
         {
          "column": "petal_length",
          "value": 4.1
         },
         {
          "column": "petal_length",
          "value": 6
         },
         {
          "column": "petal_length",
          "value": 5.1
         },
         {
          "column": "petal_length",
          "value": 5.9
         },
         {
          "column": "petal_length",
          "value": 5.6
         },
         {
          "column": "petal_length",
          "value": 5.8
         },
         {
          "column": "petal_length",
          "value": 6.6
         },
         {
          "column": "petal_length",
          "value": 4.5
         },
         {
          "column": "petal_length",
          "value": 6.3
         },
         {
          "column": "petal_length",
          "value": 5.8
         },
         {
          "column": "petal_length",
          "value": 6.1
         },
         {
          "column": "petal_length",
          "value": 5.1
         },
         {
          "column": "petal_length",
          "value": 5.3
         },
         {
          "column": "petal_length",
          "value": 5.5
         },
         {
          "column": "petal_length",
          "value": 5
         },
         {
          "column": "petal_length",
          "value": 5.1
         },
         {
          "column": "petal_length",
          "value": 5.3
         },
         {
          "column": "petal_length",
          "value": 5.5
         },
         {
          "column": "petal_length",
          "value": 6.7
         },
         {
          "column": "petal_length",
          "value": 6.9
         },
         {
          "column": "petal_length",
          "value": 5
         },
         {
          "column": "petal_length",
          "value": 5.7
         },
         {
          "column": "petal_length",
          "value": 4.9
         },
         {
          "column": "petal_length",
          "value": 6.7
         },
         {
          "column": "petal_length",
          "value": 4.9
         },
         {
          "column": "petal_length",
          "value": 5.7
         },
         {
          "column": "petal_length",
          "value": 6
         },
         {
          "column": "petal_length",
          "value": 4.8
         },
         {
          "column": "petal_length",
          "value": 4.9
         },
         {
          "column": "petal_length",
          "value": 5.6
         },
         {
          "column": "petal_length",
          "value": 5.8
         },
         {
          "column": "petal_length",
          "value": 6.1
         },
         {
          "column": "petal_length",
          "value": 6.4
         },
         {
          "column": "petal_length",
          "value": 5.6
         },
         {
          "column": "petal_length",
          "value": 5.1
         },
         {
          "column": "petal_length",
          "value": 5.6
         },
         {
          "column": "petal_length",
          "value": 6.1
         },
         {
          "column": "petal_length",
          "value": 5.6
         },
         {
          "column": "petal_length",
          "value": 5.5
         },
         {
          "column": "petal_length",
          "value": 4.8
         },
         {
          "column": "petal_length",
          "value": 5.4
         },
         {
          "column": "petal_length",
          "value": 5.6
         },
         {
          "column": "petal_length",
          "value": 5.1
         },
         {
          "column": "petal_length",
          "value": 5.1
         },
         {
          "column": "petal_length",
          "value": 5.9
         },
         {
          "column": "petal_length",
          "value": 5.7
         },
         {
          "column": "petal_length",
          "value": 5.2
         },
         {
          "column": "petal_length",
          "value": 5
         },
         {
          "column": "petal_length",
          "value": 5.2
         },
         {
          "column": "petal_length",
          "value": 5.4
         },
         {
          "column": "petal_length",
          "value": 5.1
         },
         {
          "column": "petal_width",
          "value": 0.2
         },
         {
          "column": "petal_width",
          "value": 0.2
         },
         {
          "column": "petal_width",
          "value": 0.2
         },
         {
          "column": "petal_width",
          "value": 0.2
         },
         {
          "column": "petal_width",
          "value": 0.2
         },
         {
          "column": "petal_width",
          "value": 0.4
         },
         {
          "column": "petal_width",
          "value": 0.3
         },
         {
          "column": "petal_width",
          "value": 0.2
         },
         {
          "column": "petal_width",
          "value": 0.2
         },
         {
          "column": "petal_width",
          "value": 0.1
         },
         {
          "column": "petal_width",
          "value": 0.2
         },
         {
          "column": "petal_width",
          "value": 0.2
         },
         {
          "column": "petal_width",
          "value": 0.1
         },
         {
          "column": "petal_width",
          "value": 0.1
         },
         {
          "column": "petal_width",
          "value": 0.2
         },
         {
          "column": "petal_width",
          "value": 0.4
         },
         {
          "column": "petal_width",
          "value": 0.4
         },
         {
          "column": "petal_width",
          "value": 0.3
         },
         {
          "column": "petal_width",
          "value": 0.3
         },
         {
          "column": "petal_width",
          "value": 0.3
         },
         {
          "column": "petal_width",
          "value": 0.2
         },
         {
          "column": "petal_width",
          "value": 0.4
         },
         {
          "column": "petal_width",
          "value": 0.2
         },
         {
          "column": "petal_width",
          "value": 0.5
         },
         {
          "column": "petal_width",
          "value": 0.2
         },
         {
          "column": "petal_width",
          "value": 0.2
         },
         {
          "column": "petal_width",
          "value": 0.4
         },
         {
          "column": "petal_width",
          "value": 0.2
         },
         {
          "column": "petal_width",
          "value": 0.2
         },
         {
          "column": "petal_width",
          "value": 0.2
         },
         {
          "column": "petal_width",
          "value": 0.2
         },
         {
          "column": "petal_width",
          "value": 0.4
         },
         {
          "column": "petal_width",
          "value": 0.1
         },
         {
          "column": "petal_width",
          "value": 0.2
         },
         {
          "column": "petal_width",
          "value": 0.2
         },
         {
          "column": "petal_width",
          "value": 0.2
         },
         {
          "column": "petal_width",
          "value": 0.2
         },
         {
          "column": "petal_width",
          "value": 0.1
         },
         {
          "column": "petal_width",
          "value": 0.2
         },
         {
          "column": "petal_width",
          "value": 0.2
         },
         {
          "column": "petal_width",
          "value": 0.3
         },
         {
          "column": "petal_width",
          "value": 0.3
         },
         {
          "column": "petal_width",
          "value": 0.2
         },
         {
          "column": "petal_width",
          "value": 0.6
         },
         {
          "column": "petal_width",
          "value": 0.4
         },
         {
          "column": "petal_width",
          "value": 0.3
         },
         {
          "column": "petal_width",
          "value": 0.2
         },
         {
          "column": "petal_width",
          "value": 0.2
         },
         {
          "column": "petal_width",
          "value": 0.2
         },
         {
          "column": "petal_width",
          "value": 0.2
         },
         {
          "column": "petal_width",
          "value": 1.4
         },
         {
          "column": "petal_width",
          "value": 1.5
         },
         {
          "column": "petal_width",
          "value": 1.5
         },
         {
          "column": "petal_width",
          "value": 1.3
         },
         {
          "column": "petal_width",
          "value": 1.5
         },
         {
          "column": "petal_width",
          "value": 1.3
         },
         {
          "column": "petal_width",
          "value": 1.6
         },
         {
          "column": "petal_width",
          "value": 1
         },
         {
          "column": "petal_width",
          "value": 1.3
         },
         {
          "column": "petal_width",
          "value": 1.4
         },
         {
          "column": "petal_width",
          "value": 1
         },
         {
          "column": "petal_width",
          "value": 1.5
         },
         {
          "column": "petal_width",
          "value": 1
         },
         {
          "column": "petal_width",
          "value": 1.4
         },
         {
          "column": "petal_width",
          "value": 1.3
         },
         {
          "column": "petal_width",
          "value": 1.4
         },
         {
          "column": "petal_width",
          "value": 1.5
         },
         {
          "column": "petal_width",
          "value": 1
         },
         {
          "column": "petal_width",
          "value": 1.5
         },
         {
          "column": "petal_width",
          "value": 1.1
         },
         {
          "column": "petal_width",
          "value": 1.8
         },
         {
          "column": "petal_width",
          "value": 1.3
         },
         {
          "column": "petal_width",
          "value": 1.5
         },
         {
          "column": "petal_width",
          "value": 1.2
         },
         {
          "column": "petal_width",
          "value": 1.3
         },
         {
          "column": "petal_width",
          "value": 1.4
         },
         {
          "column": "petal_width",
          "value": 1.4
         },
         {
          "column": "petal_width",
          "value": 1.7
         },
         {
          "column": "petal_width",
          "value": 1.5
         },
         {
          "column": "petal_width",
          "value": 1
         },
         {
          "column": "petal_width",
          "value": 1.1
         },
         {
          "column": "petal_width",
          "value": 1
         },
         {
          "column": "petal_width",
          "value": 1.2
         },
         {
          "column": "petal_width",
          "value": 1.6
         },
         {
          "column": "petal_width",
          "value": 1.5
         },
         {
          "column": "petal_width",
          "value": 1.6
         },
         {
          "column": "petal_width",
          "value": 1.5
         },
         {
          "column": "petal_width",
          "value": 1.3
         },
         {
          "column": "petal_width",
          "value": 1.3
         },
         {
          "column": "petal_width",
          "value": 1.3
         },
         {
          "column": "petal_width",
          "value": 1.2
         },
         {
          "column": "petal_width",
          "value": 1.4
         },
         {
          "column": "petal_width",
          "value": 1.2
         },
         {
          "column": "petal_width",
          "value": 1
         },
         {
          "column": "petal_width",
          "value": 1.3
         },
         {
          "column": "petal_width",
          "value": 1.2
         },
         {
          "column": "petal_width",
          "value": 1.3
         },
         {
          "column": "petal_width",
          "value": 1.3
         },
         {
          "column": "petal_width",
          "value": 1.1
         },
         {
          "column": "petal_width",
          "value": 1.3
         },
         {
          "column": "petal_width",
          "value": 2.5
         },
         {
          "column": "petal_width",
          "value": 1.9
         },
         {
          "column": "petal_width",
          "value": 2.1
         },
         {
          "column": "petal_width",
          "value": 1.8
         },
         {
          "column": "petal_width",
          "value": 2.2
         },
         {
          "column": "petal_width",
          "value": 2.1
         },
         {
          "column": "petal_width",
          "value": 1.7
         },
         {
          "column": "petal_width",
          "value": 1.8
         },
         {
          "column": "petal_width",
          "value": 1.8
         },
         {
          "column": "petal_width",
          "value": 2.5
         },
         {
          "column": "petal_width",
          "value": 2
         },
         {
          "column": "petal_width",
          "value": 1.9
         },
         {
          "column": "petal_width",
          "value": 2.1
         },
         {
          "column": "petal_width",
          "value": 2
         },
         {
          "column": "petal_width",
          "value": 2.4
         },
         {
          "column": "petal_width",
          "value": 2.3
         },
         {
          "column": "petal_width",
          "value": 1.8
         },
         {
          "column": "petal_width",
          "value": 2.2
         },
         {
          "column": "petal_width",
          "value": 2.3
         },
         {
          "column": "petal_width",
          "value": 1.5
         },
         {
          "column": "petal_width",
          "value": 2.3
         },
         {
          "column": "petal_width",
          "value": 2
         },
         {
          "column": "petal_width",
          "value": 2
         },
         {
          "column": "petal_width",
          "value": 1.8
         },
         {
          "column": "petal_width",
          "value": 2.1
         },
         {
          "column": "petal_width",
          "value": 1.8
         },
         {
          "column": "petal_width",
          "value": 1.8
         },
         {
          "column": "petal_width",
          "value": 1.8
         },
         {
          "column": "petal_width",
          "value": 2.1
         },
         {
          "column": "petal_width",
          "value": 1.6
         },
         {
          "column": "petal_width",
          "value": 1.9
         },
         {
          "column": "petal_width",
          "value": 2
         },
         {
          "column": "petal_width",
          "value": 2.2
         },
         {
          "column": "petal_width",
          "value": 1.5
         },
         {
          "column": "petal_width",
          "value": 1.4
         },
         {
          "column": "petal_width",
          "value": 2.3
         },
         {
          "column": "petal_width",
          "value": 2.4
         },
         {
          "column": "petal_width",
          "value": 1.8
         },
         {
          "column": "petal_width",
          "value": 1.8
         },
         {
          "column": "petal_width",
          "value": 2.1
         },
         {
          "column": "petal_width",
          "value": 2.4
         },
         {
          "column": "petal_width",
          "value": 2.3
         },
         {
          "column": "petal_width",
          "value": 1.9
         },
         {
          "column": "petal_width",
          "value": 2.3
         },
         {
          "column": "petal_width",
          "value": 2.5
         },
         {
          "column": "petal_width",
          "value": 2.3
         },
         {
          "column": "petal_width",
          "value": 1.9
         },
         {
          "column": "petal_width",
          "value": 2
         },
         {
          "column": "petal_width",
          "value": 2.3
         },
         {
          "column": "petal_width",
          "value": 1.8
         }
        ]
       },
       "layer": [
        {
         "encoding": {
          "x": {
           "aggregate": "min",
           "field": "value",
           "type": "quantitative"
          },
          "x2": {
           "aggregate": "max",
           "field": "value",
           "type": "quantitative"
          },
          "y": {
           "field": "column",
           "type": "nominal"
          }
         },
         "mark": "rule"
        },
        {
         "encoding": {
          "color": {
           "field": "column",
           "legend": null,
           "type": "nominal"
          },
          "x": {
           "aggregate": "q1",
           "axis": {
            "title": "value"
           },
           "field": "value",
           "type": "quantitative"
          },
          "x2": {
           "aggregate": "q3",
           "field": "value",
           "type": "quantitative"
          },
          "y": {
           "field": "column",
           "type": "nominal"
          }
         },
         "mark": "bar"
        },
        {
         "encoding": {
          "x": {
           "aggregate": "median",
           "field": "value",
           "type": "quantitative"
          },
          "y": {
           "field": "column",
           "type": "nominal"
          }
         },
         "mark": {
          "color": "black",
          "size": 18,
          "type": "tick"
         }
        }
       ]
      },
      "image/png": "[encoded data removed]",
      "text/plain": [
       "<VegaLite 2 object>\n",
       "\n",
       "If you see this message, it means the renderer has not been properly enabled\n",
       "for the frontend that you are using. For more information, see\n",
       "https://altair-viz.github.io/user_guide/troubleshooting.html\n"
      ]
     },
     "metadata": {},
     "output_type": "display_data"
    },
    {
     "data": {
      "image/png": "[encoded data removed]",
      "text/plain": [
       "<Figure size 432x288 with 1 Axes>"
      ]
     },
     "metadata": {},
     "output_type": "display_data"
    }
   ],
   "source": [
    "iris = sns.load_dataset(\"iris\")\n",
    "display(salt.boxplot(data=iris, orient=\"h\", palette=\"Set2\"))\n",
    "ax = sns.boxplot(data=iris, orient=\"h\", palette=\"Set2\")"
   ]
  },
  {
   "cell_type": "code",
   "execution_count": 8,
   "metadata": {},
   "outputs": [
    {
     "data": {
      "application/vnd.vegalite.v2+json": {
       "$schema": "https://vega.github.io/schema/vega-lite/v2.4.1.json",
       "config": {
        "range": {
         "category": [
          "rgba(49,115,161,1)",
          "rgba(224,128,44,1)",
          "rgba(58,145,58,1)",
          "rgba(192,60,61,1)",
          "rgba(147,113,178,1)",
          "rgba(131,91,83,1)",
          "rgba(213,132,188,1)",
          "rgba(127,127,127,1)",
          "rgba(168,169,53,1)",
          "rgba(45,171,184,1)"
         ]
        },
        "view": {
         "height": 300,
         "width": 400
        }
       },
       "data": {
        "values": [
         {
          "day": "Sun",
          "sex": "Female",
          "size": 2,
          "smoker": "No",
          "time": "Dinner",
          "tip": 1.01,
          "total_bill": 16.99,
          "weekend": true
         },
         {
          "day": "Sun",
          "sex": "Male",
          "size": 3,
          "smoker": "No",
          "time": "Dinner",
          "tip": 1.66,
          "total_bill": 10.34,
          "weekend": true
         },
         {
          "day": "Sun",
          "sex": "Male",
          "size": 3,
          "smoker": "No",
          "time": "Dinner",
          "tip": 3.5,
          "total_bill": 21.01,
          "weekend": true
         },
         {
          "day": "Sun",
          "sex": "Male",
          "size": 2,
          "smoker": "No",
          "time": "Dinner",
          "tip": 3.31,
          "total_bill": 23.68,
          "weekend": true
         },
         {
          "day": "Sun",
          "sex": "Female",
          "size": 4,
          "smoker": "No",
          "time": "Dinner",
          "tip": 3.61,
          "total_bill": 24.59,
          "weekend": true
         },
         {
          "day": "Sun",
          "sex": "Male",
          "size": 4,
          "smoker": "No",
          "time": "Dinner",
          "tip": 4.71,
          "total_bill": 25.29,
          "weekend": true
         },
         {
          "day": "Sun",
          "sex": "Male",
          "size": 2,
          "smoker": "No",
          "time": "Dinner",
          "tip": 2,
          "total_bill": 8.77,
          "weekend": true
         },
         {
          "day": "Sun",
          "sex": "Male",
          "size": 4,
          "smoker": "No",
          "time": "Dinner",
          "tip": 3.12,
          "total_bill": 26.88,
          "weekend": true
         },
         {
          "day": "Sun",
          "sex": "Male",
          "size": 2,
          "smoker": "No",
          "time": "Dinner",
          "tip": 1.96,
          "total_bill": 15.04,
          "weekend": true
         },
         {
          "day": "Sun",
          "sex": "Male",
          "size": 2,
          "smoker": "No",
          "time": "Dinner",
          "tip": 3.23,
          "total_bill": 14.78,
          "weekend": true
         },
         {
          "day": "Sun",
          "sex": "Male",
          "size": 2,
          "smoker": "No",
          "time": "Dinner",
          "tip": 1.71,
          "total_bill": 10.27,
          "weekend": true
         },
         {
          "day": "Sun",
          "sex": "Female",
          "size": 4,
          "smoker": "No",
          "time": "Dinner",
          "tip": 5,
          "total_bill": 35.26,
          "weekend": true
         },
         {
          "day": "Sun",
          "sex": "Male",
          "size": 2,
          "smoker": "No",
          "time": "Dinner",
          "tip": 1.57,
          "total_bill": 15.42,
          "weekend": true
         },
         {
          "day": "Sun",
          "sex": "Male",
          "size": 4,
          "smoker": "No",
          "time": "Dinner",
          "tip": 3,
          "total_bill": 18.43,
          "weekend": true
         },
         {
          "day": "Sun",
          "sex": "Female",
          "size": 2,
          "smoker": "No",
          "time": "Dinner",
          "tip": 3.02,
          "total_bill": 14.83,
          "weekend": true
         },
         {
          "day": "Sun",
          "sex": "Male",
          "size": 2,
          "smoker": "No",
          "time": "Dinner",
          "tip": 3.92,
          "total_bill": 21.58,
          "weekend": true
         },
         {
          "day": "Sun",
          "sex": "Female",
          "size": 3,
          "smoker": "No",
          "time": "Dinner",
          "tip": 1.67,
          "total_bill": 10.33,
          "weekend": true
         },
         {
          "day": "Sun",
          "sex": "Male",
          "size": 3,
          "smoker": "No",
          "time": "Dinner",
          "tip": 3.71,
          "total_bill": 16.29,
          "weekend": true
         },
         {
          "day": "Sun",
          "sex": "Female",
          "size": 3,
          "smoker": "No",
          "time": "Dinner",
          "tip": 3.5,
          "total_bill": 16.97,
          "weekend": true
         },
         {
          "day": "Sat",
          "sex": "Male",
          "size": 3,
          "smoker": "No",
          "time": "Dinner",
          "tip": 3.35,
          "total_bill": 20.65,
          "weekend": true
         },
         {
          "day": "Sat",
          "sex": "Male",
          "size": 2,
          "smoker": "No",
          "time": "Dinner",
          "tip": 4.08,
          "total_bill": 17.92,
          "weekend": true
         },
         {
          "day": "Sat",
          "sex": "Female",
          "size": 2,
          "smoker": "No",
          "time": "Dinner",
          "tip": 2.75,
          "total_bill": 20.29,
          "weekend": true
         },
         {
          "day": "Sat",
          "sex": "Female",
          "size": 2,
          "smoker": "No",
          "time": "Dinner",
          "tip": 2.23,
          "total_bill": 15.77,
          "weekend": true
         },
         {
          "day": "Sat",
          "sex": "Male",
          "size": 4,
          "smoker": "No",
          "time": "Dinner",
          "tip": 7.58,
          "total_bill": 39.42,
          "weekend": true
         },
         {
          "day": "Sat",
          "sex": "Male",
          "size": 2,
          "smoker": "No",
          "time": "Dinner",
          "tip": 3.18,
          "total_bill": 19.82,
          "weekend": true
         },
         {
          "day": "Sat",
          "sex": "Male",
          "size": 4,
          "smoker": "No",
          "time": "Dinner",
          "tip": 2.34,
          "total_bill": 17.81,
          "weekend": true
         },
         {
          "day": "Sat",
          "sex": "Male",
          "size": 2,
          "smoker": "No",
          "time": "Dinner",
          "tip": 2,
          "total_bill": 13.37,
          "weekend": true
         },
         {
          "day": "Sat",
          "sex": "Male",
          "size": 2,
          "smoker": "No",
          "time": "Dinner",
          "tip": 2,
          "total_bill": 12.69,
          "weekend": true
         },
         {
          "day": "Sat",
          "sex": "Male",
          "size": 2,
          "smoker": "No",
          "time": "Dinner",
          "tip": 4.3,
          "total_bill": 21.7,
          "weekend": true
         },
         {
          "day": "Sat",
          "sex": "Female",
          "size": 2,
          "smoker": "No",
          "time": "Dinner",
          "tip": 3,
          "total_bill": 19.65,
          "weekend": true
         },
         {
          "day": "Sat",
          "sex": "Male",
          "size": 2,
          "smoker": "No",
          "time": "Dinner",
          "tip": 1.45,
          "total_bill": 9.55,
          "weekend": true
         },
         {
          "day": "Sat",
          "sex": "Male",
          "size": 4,
          "smoker": "No",
          "time": "Dinner",
          "tip": 2.5,
          "total_bill": 18.35,
          "weekend": true
         },
         {
          "day": "Sat",
          "sex": "Female",
          "size": 2,
          "smoker": "No",
          "time": "Dinner",
          "tip": 3,
          "total_bill": 15.06,
          "weekend": true
         },
         {
          "day": "Sat",
          "sex": "Female",
          "size": 4,
          "smoker": "No",
          "time": "Dinner",
          "tip": 2.45,
          "total_bill": 20.69,
          "weekend": true
         },
         {
          "day": "Sat",
          "sex": "Male",
          "size": 2,
          "smoker": "No",
          "time": "Dinner",
          "tip": 3.27,
          "total_bill": 17.78,
          "weekend": true
         },
         {
          "day": "Sat",
          "sex": "Male",
          "size": 3,
          "smoker": "No",
          "time": "Dinner",
          "tip": 3.6,
          "total_bill": 24.06,
          "weekend": true
         },
         {
          "day": "Sat",
          "sex": "Male",
          "size": 3,
          "smoker": "No",
          "time": "Dinner",
          "tip": 2,
          "total_bill": 16.31,
          "weekend": true
         },
         {
          "day": "Sat",
          "sex": "Female",
          "size": 3,
          "smoker": "No",
          "time": "Dinner",
          "tip": 3.07,
          "total_bill": 16.93,
          "weekend": true
         },
         {
          "day": "Sat",
          "sex": "Male",
          "size": 3,
          "smoker": "No",
          "time": "Dinner",
          "tip": 2.31,
          "total_bill": 18.69,
          "weekend": true
         },
         {
          "day": "Sat",
          "sex": "Male",
          "size": 3,
          "smoker": "No",
          "time": "Dinner",
          "tip": 5,
          "total_bill": 31.27,
          "weekend": true
         },
         {
          "day": "Sat",
          "sex": "Male",
          "size": 3,
          "smoker": "No",
          "time": "Dinner",
          "tip": 2.24,
          "total_bill": 16.04,
          "weekend": true
         },
         {
          "day": "Sun",
          "sex": "Male",
          "size": 2,
          "smoker": "No",
          "time": "Dinner",
          "tip": 2.54,
          "total_bill": 17.46,
          "weekend": true
         },
         {
          "day": "Sun",
          "sex": "Male",
          "size": 2,
          "smoker": "No",
          "time": "Dinner",
          "tip": 3.06,
          "total_bill": 13.94,
          "weekend": true
         },
         {
          "day": "Sun",
          "sex": "Male",
          "size": 2,
          "smoker": "No",
          "time": "Dinner",
          "tip": 1.32,
          "total_bill": 9.68,
          "weekend": true
         },
         {
          "day": "Sun",
          "sex": "Male",
          "size": 4,
          "smoker": "No",
          "time": "Dinner",
          "tip": 5.6,
          "total_bill": 30.4,
          "weekend": true
         },
         {
          "day": "Sun",
          "sex": "Male",
          "size": 2,
          "smoker": "No",
          "time": "Dinner",
          "tip": 3,
          "total_bill": 18.29,
          "weekend": true
         },
         {
          "day": "Sun",
          "sex": "Male",
          "size": 2,
          "smoker": "No",
          "time": "Dinner",
          "tip": 5,
          "total_bill": 22.23,
          "weekend": true
         },
         {
          "day": "Sun",
          "sex": "Male",
          "size": 4,
          "smoker": "No",
          "time": "Dinner",
          "tip": 6,
          "total_bill": 32.4,
          "weekend": true
         },
         {
          "day": "Sun",
          "sex": "Male",
          "size": 3,
          "smoker": "No",
          "time": "Dinner",
          "tip": 2.05,
          "total_bill": 28.55,
          "weekend": true
         },
         {
          "day": "Sun",
          "sex": "Male",
          "size": 2,
          "smoker": "No",
          "time": "Dinner",
          "tip": 3,
          "total_bill": 18.04,
          "weekend": true
         },
         {
          "day": "Sun",
          "sex": "Male",
          "size": 2,
          "smoker": "No",
          "time": "Dinner",
          "tip": 2.5,
          "total_bill": 12.54,
          "weekend": true
         },
         {
          "day": "Sun",
          "sex": "Female",
          "size": 2,
          "smoker": "No",
          "time": "Dinner",
          "tip": 2.6,
          "total_bill": 10.29,
          "weekend": true
         },
         {
          "day": "Sun",
          "sex": "Female",
          "size": 4,
          "smoker": "No",
          "time": "Dinner",
          "tip": 5.2,
          "total_bill": 34.81,
          "weekend": true
         },
         {
          "day": "Sun",
          "sex": "Male",
          "size": 2,
          "smoker": "No",
          "time": "Dinner",
          "tip": 1.56,
          "total_bill": 9.94,
          "weekend": true
         },
         {
          "day": "Sun",
          "sex": "Male",
          "size": 4,
          "smoker": "No",
          "time": "Dinner",
          "tip": 4.34,
          "total_bill": 25.56,
          "weekend": true
         },
         {
          "day": "Sun",
          "sex": "Male",
          "size": 2,
          "smoker": "No",
          "time": "Dinner",
          "tip": 3.51,
          "total_bill": 19.49,
          "weekend": true
         },
         {
          "day": "Sat",
          "sex": "Male",
          "size": 4,
          "smoker": "Yes",
          "time": "Dinner",
          "tip": 3,
          "total_bill": 38.01,
          "weekend": true
         },
         {
          "day": "Sat",
          "sex": "Female",
          "size": 2,
          "smoker": "No",
          "time": "Dinner",
          "tip": 1.5,
          "total_bill": 26.41,
          "weekend": true
         },
         {
          "day": "Sat",
          "sex": "Male",
          "size": 2,
          "smoker": "Yes",
          "time": "Dinner",
          "tip": 1.76,
          "total_bill": 11.24,
          "weekend": true
         },
         {
          "day": "Sat",
          "sex": "Male",
          "size": 4,
          "smoker": "No",
          "time": "Dinner",
          "tip": 6.73,
          "total_bill": 48.27,
          "weekend": true
         },
         {
          "day": "Sat",
          "sex": "Male",
          "size": 2,
          "smoker": "Yes",
          "time": "Dinner",
          "tip": 3.21,
          "total_bill": 20.29,
          "weekend": true
         },
         {
          "day": "Sat",
          "sex": "Male",
          "size": 2,
          "smoker": "Yes",
          "time": "Dinner",
          "tip": 2,
          "total_bill": 13.81,
          "weekend": true
         },
         {
          "day": "Sat",
          "sex": "Male",
          "size": 2,
          "smoker": "Yes",
          "time": "Dinner",
          "tip": 1.98,
          "total_bill": 11.02,
          "weekend": true
         },
         {
          "day": "Sat",
          "sex": "Male",
          "size": 4,
          "smoker": "Yes",
          "time": "Dinner",
          "tip": 3.76,
          "total_bill": 18.29,
          "weekend": true
         },
         {
          "day": "Sat",
          "sex": "Male",
          "size": 3,
          "smoker": "No",
          "time": "Dinner",
          "tip": 2.64,
          "total_bill": 17.59,
          "weekend": true
         },
         {
          "day": "Sat",
          "sex": "Male",
          "size": 3,
          "smoker": "No",
          "time": "Dinner",
          "tip": 3.15,
          "total_bill": 20.08,
          "weekend": true
         },
         {
          "day": "Sat",
          "sex": "Female",
          "size": 2,
          "smoker": "No",
          "time": "Dinner",
          "tip": 2.47,
          "total_bill": 16.45,
          "weekend": true
         },
         {
          "day": "Sat",
          "sex": "Female",
          "size": 1,
          "smoker": "Yes",
          "time": "Dinner",
          "tip": 1,
          "total_bill": 3.07,
          "weekend": true
         },
         {
          "day": "Sat",
          "sex": "Male",
          "size": 2,
          "smoker": "No",
          "time": "Dinner",
          "tip": 2.01,
          "total_bill": 20.23,
          "weekend": true
         },
         {
          "day": "Sat",
          "sex": "Male",
          "size": 2,
          "smoker": "Yes",
          "time": "Dinner",
          "tip": 2.09,
          "total_bill": 15.01,
          "weekend": true
         },
         {
          "day": "Sat",
          "sex": "Male",
          "size": 2,
          "smoker": "No",
          "time": "Dinner",
          "tip": 1.97,
          "total_bill": 12.02,
          "weekend": true
         },
         {
          "day": "Sat",
          "sex": "Female",
          "size": 3,
          "smoker": "No",
          "time": "Dinner",
          "tip": 3,
          "total_bill": 17.07,
          "weekend": true
         },
         {
          "day": "Sat",
          "sex": "Female",
          "size": 2,
          "smoker": "Yes",
          "time": "Dinner",
          "tip": 3.14,
          "total_bill": 26.86,
          "weekend": true
         },
         {
          "day": "Sat",
          "sex": "Female",
          "size": 2,
          "smoker": "Yes",
          "time": "Dinner",
          "tip": 5,
          "total_bill": 25.28,
          "weekend": true
         },
         {
          "day": "Sat",
          "sex": "Female",
          "size": 2,
          "smoker": "No",
          "time": "Dinner",
          "tip": 2.2,
          "total_bill": 14.73,
          "weekend": true
         },
         {
          "day": "Sat",
          "sex": "Male",
          "size": 2,
          "smoker": "No",
          "time": "Dinner",
          "tip": 1.25,
          "total_bill": 10.51,
          "weekend": true
         },
         {
          "day": "Sat",
          "sex": "Male",
          "size": 2,
          "smoker": "Yes",
          "time": "Dinner",
          "tip": 3.08,
          "total_bill": 17.92,
          "weekend": true
         },
         {
          "day": "Thur",
          "sex": "Male",
          "size": 4,
          "smoker": "No",
          "time": "Lunch",
          "tip": 4,
          "total_bill": 27.2,
          "weekend": false
         },
         {
          "day": "Thur",
          "sex": "Male",
          "size": 2,
          "smoker": "No",
          "time": "Lunch",
          "tip": 3,
          "total_bill": 22.76,
          "weekend": false
         },
         {
          "day": "Thur",
          "sex": "Male",
          "size": 2,
          "smoker": "No",
          "time": "Lunch",
          "tip": 2.71,
          "total_bill": 17.29,
          "weekend": false
         },
         {
          "day": "Thur",
          "sex": "Male",
          "size": 2,
          "smoker": "Yes",
          "time": "Lunch",
          "tip": 3,
          "total_bill": 19.44,
          "weekend": false
         },
         {
          "day": "Thur",
          "sex": "Male",
          "size": 2,
          "smoker": "No",
          "time": "Lunch",
          "tip": 3.4,
          "total_bill": 16.66,
          "weekend": false
         },
         {
          "day": "Thur",
          "sex": "Female",
          "size": 1,
          "smoker": "No",
          "time": "Lunch",
          "tip": 1.83,
          "total_bill": 10.07,
          "weekend": false
         },
         {
          "day": "Thur",
          "sex": "Male",
          "size": 2,
          "smoker": "Yes",
          "time": "Lunch",
          "tip": 5,
          "total_bill": 32.68,
          "weekend": false
         },
         {
          "day": "Thur",
          "sex": "Male",
          "size": 2,
          "smoker": "No",
          "time": "Lunch",
          "tip": 2.03,
          "total_bill": 15.98,
          "weekend": false
         },
         {
          "day": "Thur",
          "sex": "Female",
          "size": 4,
          "smoker": "No",
          "time": "Lunch",
          "tip": 5.17,
          "total_bill": 34.83,
          "weekend": false
         },
         {
          "day": "Thur",
          "sex": "Male",
          "size": 2,
          "smoker": "No",
          "time": "Lunch",
          "tip": 2,
          "total_bill": 13.03,
          "weekend": false
         },
         {
          "day": "Thur",
          "sex": "Male",
          "size": 2,
          "smoker": "No",
          "time": "Lunch",
          "tip": 4,
          "total_bill": 18.28,
          "weekend": false
         },
         {
          "day": "Thur",
          "sex": "Male",
          "size": 2,
          "smoker": "No",
          "time": "Lunch",
          "tip": 5.85,
          "total_bill": 24.71,
          "weekend": false
         },
         {
          "day": "Thur",
          "sex": "Male",
          "size": 2,
          "smoker": "No",
          "time": "Lunch",
          "tip": 3,
          "total_bill": 21.16,
          "weekend": false
         },
         {
          "day": "Fri",
          "sex": "Male",
          "size": 2,
          "smoker": "Yes",
          "time": "Dinner",
          "tip": 3,
          "total_bill": 28.97,
          "weekend": false
         },
         {
          "day": "Fri",
          "sex": "Male",
          "size": 2,
          "smoker": "No",
          "time": "Dinner",
          "tip": 3.5,
          "total_bill": 22.49,
          "weekend": false
         },
         {
          "day": "Fri",
          "sex": "Female",
          "size": 2,
          "smoker": "Yes",
          "time": "Dinner",
          "tip": 1,
          "total_bill": 5.75,
          "weekend": false
         },
         {
          "day": "Fri",
          "sex": "Female",
          "size": 2,
          "smoker": "Yes",
          "time": "Dinner",
          "tip": 4.3,
          "total_bill": 16.32,
          "weekend": false
         },
         {
          "day": "Fri",
          "sex": "Female",
          "size": 2,
          "smoker": "No",
          "time": "Dinner",
          "tip": 3.25,
          "total_bill": 22.75,
          "weekend": false
         },
         {
          "day": "Fri",
          "sex": "Male",
          "size": 4,
          "smoker": "Yes",
          "time": "Dinner",
          "tip": 4.73,
          "total_bill": 40.17,
          "weekend": false
         },
         {
          "day": "Fri",
          "sex": "Male",
          "size": 2,
          "smoker": "Yes",
          "time": "Dinner",
          "tip": 4,
          "total_bill": 27.28,
          "weekend": false
         },
         {
          "day": "Fri",
          "sex": "Male",
          "size": 2,
          "smoker": "Yes",
          "time": "Dinner",
          "tip": 1.5,
          "total_bill": 12.03,
          "weekend": false
         },
         {
          "day": "Fri",
          "sex": "Male",
          "size": 2,
          "smoker": "Yes",
          "time": "Dinner",
          "tip": 3,
          "total_bill": 21.01,
          "weekend": false
         },
         {
          "day": "Fri",
          "sex": "Male",
          "size": 2,
          "smoker": "No",
          "time": "Dinner",
          "tip": 1.5,
          "total_bill": 12.46,
          "weekend": false
         },
         {
          "day": "Fri",
          "sex": "Female",
          "size": 2,
          "smoker": "Yes",
          "time": "Dinner",
          "tip": 2.5,
          "total_bill": 11.35,
          "weekend": false
         },
         {
          "day": "Fri",
          "sex": "Female",
          "size": 2,
          "smoker": "Yes",
          "time": "Dinner",
          "tip": 3,
          "total_bill": 15.38,
          "weekend": false
         },
         {
          "day": "Sat",
          "sex": "Female",
          "size": 3,
          "smoker": "Yes",
          "time": "Dinner",
          "tip": 2.5,
          "total_bill": 44.3,
          "weekend": true
         },
         {
          "day": "Sat",
          "sex": "Female",
          "size": 2,
          "smoker": "Yes",
          "time": "Dinner",
          "tip": 3.48,
          "total_bill": 22.42,
          "weekend": true
         },
         {
          "day": "Sat",
          "sex": "Female",
          "size": 2,
          "smoker": "No",
          "time": "Dinner",
          "tip": 4.08,
          "total_bill": 20.92,
          "weekend": true
         },
         {
          "day": "Sat",
          "sex": "Male",
          "size": 2,
          "smoker": "Yes",
          "time": "Dinner",
          "tip": 1.64,
          "total_bill": 15.36,
          "weekend": true
         },
         {
          "day": "Sat",
          "sex": "Male",
          "size": 2,
          "smoker": "Yes",
          "time": "Dinner",
          "tip": 4.06,
          "total_bill": 20.49,
          "weekend": true
         },
         {
          "day": "Sat",
          "sex": "Male",
          "size": 2,
          "smoker": "Yes",
          "time": "Dinner",
          "tip": 4.29,
          "total_bill": 25.21,
          "weekend": true
         },
         {
          "day": "Sat",
          "sex": "Male",
          "size": 2,
          "smoker": "No",
          "time": "Dinner",
          "tip": 3.76,
          "total_bill": 18.24,
          "weekend": true
         },
         {
          "day": "Sat",
          "sex": "Female",
          "size": 2,
          "smoker": "Yes",
          "time": "Dinner",
          "tip": 4,
          "total_bill": 14.31,
          "weekend": true
         },
         {
          "day": "Sat",
          "sex": "Male",
          "size": 2,
          "smoker": "No",
          "time": "Dinner",
          "tip": 3,
          "total_bill": 14,
          "weekend": true
         },
         {
          "day": "Sat",
          "sex": "Female",
          "size": 1,
          "smoker": "No",
          "time": "Dinner",
          "tip": 1,
          "total_bill": 7.25,
          "weekend": true
         },
         {
          "day": "Sun",
          "sex": "Male",
          "size": 3,
          "smoker": "No",
          "time": "Dinner",
          "tip": 4,
          "total_bill": 38.07,
          "weekend": true
         },
         {
          "day": "Sun",
          "sex": "Male",
          "size": 2,
          "smoker": "No",
          "time": "Dinner",
          "tip": 2.55,
          "total_bill": 23.95,
          "weekend": true
         },
         {
          "day": "Sun",
          "sex": "Female",
          "size": 3,
          "smoker": "No",
          "time": "Dinner",
          "tip": 4,
          "total_bill": 25.71,
          "weekend": true
         },
         {
          "day": "Sun",
          "sex": "Female",
          "size": 2,
          "smoker": "No",
          "time": "Dinner",
          "tip": 3.5,
          "total_bill": 17.31,
          "weekend": true
         },
         {
          "day": "Sun",
          "sex": "Male",
          "size": 4,
          "smoker": "No",
          "time": "Dinner",
          "tip": 5.07,
          "total_bill": 29.93,
          "weekend": true
         },
         {
          "day": "Thur",
          "sex": "Female",
          "size": 2,
          "smoker": "No",
          "time": "Lunch",
          "tip": 1.5,
          "total_bill": 10.65,
          "weekend": false
         },
         {
          "day": "Thur",
          "sex": "Female",
          "size": 2,
          "smoker": "No",
          "time": "Lunch",
          "tip": 1.8,
          "total_bill": 12.43,
          "weekend": false
         },
         {
          "day": "Thur",
          "sex": "Female",
          "size": 4,
          "smoker": "No",
          "time": "Lunch",
          "tip": 2.92,
          "total_bill": 24.08,
          "weekend": false
         },
         {
          "day": "Thur",
          "sex": "Male",
          "size": 2,
          "smoker": "No",
          "time": "Lunch",
          "tip": 2.31,
          "total_bill": 11.69,
          "weekend": false
         },
         {
          "day": "Thur",
          "sex": "Female",
          "size": 2,
          "smoker": "No",
          "time": "Lunch",
          "tip": 1.68,
          "total_bill": 13.42,
          "weekend": false
         },
         {
          "day": "Thur",
          "sex": "Male",
          "size": 2,
          "smoker": "No",
          "time": "Lunch",
          "tip": 2.5,
          "total_bill": 14.26,
          "weekend": false
         },
         {
          "day": "Thur",
          "sex": "Male",
          "size": 2,
          "smoker": "No",
          "time": "Lunch",
          "tip": 2,
          "total_bill": 15.95,
          "weekend": false
         },
         {
          "day": "Thur",
          "sex": "Female",
          "size": 2,
          "smoker": "No",
          "time": "Lunch",
          "tip": 2.52,
          "total_bill": 12.48,
          "weekend": false
         },
         {
          "day": "Thur",
          "sex": "Female",
          "size": 6,
          "smoker": "No",
          "time": "Lunch",
          "tip": 4.2,
          "total_bill": 29.8,
          "weekend": false
         },
         {
          "day": "Thur",
          "sex": "Male",
          "size": 2,
          "smoker": "No",
          "time": "Lunch",
          "tip": 1.48,
          "total_bill": 8.52,
          "weekend": false
         },
         {
          "day": "Thur",
          "sex": "Female",
          "size": 2,
          "smoker": "No",
          "time": "Lunch",
          "tip": 2,
          "total_bill": 14.52,
          "weekend": false
         },
         {
          "day": "Thur",
          "sex": "Female",
          "size": 2,
          "smoker": "No",
          "time": "Lunch",
          "tip": 2,
          "total_bill": 11.38,
          "weekend": false
         },
         {
          "day": "Thur",
          "sex": "Male",
          "size": 3,
          "smoker": "No",
          "time": "Lunch",
          "tip": 2.18,
          "total_bill": 22.82,
          "weekend": false
         },
         {
          "day": "Thur",
          "sex": "Male",
          "size": 2,
          "smoker": "No",
          "time": "Lunch",
          "tip": 1.5,
          "total_bill": 19.08,
          "weekend": false
         },
         {
          "day": "Thur",
          "sex": "Female",
          "size": 2,
          "smoker": "No",
          "time": "Lunch",
          "tip": 2.83,
          "total_bill": 20.27,
          "weekend": false
         },
         {
          "day": "Thur",
          "sex": "Female",
          "size": 2,
          "smoker": "No",
          "time": "Lunch",
          "tip": 1.5,
          "total_bill": 11.17,
          "weekend": false
         },
         {
          "day": "Thur",
          "sex": "Female",
          "size": 2,
          "smoker": "No",
          "time": "Lunch",
          "tip": 2,
          "total_bill": 12.26,
          "weekend": false
         },
         {
          "day": "Thur",
          "sex": "Female",
          "size": 2,
          "smoker": "No",
          "time": "Lunch",
          "tip": 3.25,
          "total_bill": 18.26,
          "weekend": false
         },
         {
          "day": "Thur",
          "sex": "Female",
          "size": 2,
          "smoker": "No",
          "time": "Lunch",
          "tip": 1.25,
          "total_bill": 8.51,
          "weekend": false
         },
         {
          "day": "Thur",
          "sex": "Female",
          "size": 2,
          "smoker": "No",
          "time": "Lunch",
          "tip": 2,
          "total_bill": 10.33,
          "weekend": false
         },
         {
          "day": "Thur",
          "sex": "Female",
          "size": 2,
          "smoker": "No",
          "time": "Lunch",
          "tip": 2,
          "total_bill": 14.15,
          "weekend": false
         },
         {
          "day": "Thur",
          "sex": "Male",
          "size": 2,
          "smoker": "Yes",
          "time": "Lunch",
          "tip": 2,
          "total_bill": 16,
          "weekend": false
         },
         {
          "day": "Thur",
          "sex": "Female",
          "size": 2,
          "smoker": "No",
          "time": "Lunch",
          "tip": 2.75,
          "total_bill": 13.16,
          "weekend": false
         },
         {
          "day": "Thur",
          "sex": "Female",
          "size": 2,
          "smoker": "No",
          "time": "Lunch",
          "tip": 3.5,
          "total_bill": 17.47,
          "weekend": false
         },
         {
          "day": "Thur",
          "sex": "Male",
          "size": 6,
          "smoker": "No",
          "time": "Lunch",
          "tip": 6.7,
          "total_bill": 34.3,
          "weekend": false
         },
         {
          "day": "Thur",
          "sex": "Male",
          "size": 5,
          "smoker": "No",
          "time": "Lunch",
          "tip": 5,
          "total_bill": 41.19,
          "weekend": false
         },
         {
          "day": "Thur",
          "sex": "Female",
          "size": 6,
          "smoker": "No",
          "time": "Lunch",
          "tip": 5,
          "total_bill": 27.05,
          "weekend": false
         },
         {
          "day": "Thur",
          "sex": "Female",
          "size": 2,
          "smoker": "No",
          "time": "Lunch",
          "tip": 2.3,
          "total_bill": 16.43,
          "weekend": false
         },
         {
          "day": "Thur",
          "sex": "Female",
          "size": 2,
          "smoker": "No",
          "time": "Lunch",
          "tip": 1.5,
          "total_bill": 8.35,
          "weekend": false
         },
         {
          "day": "Thur",
          "sex": "Female",
          "size": 3,
          "smoker": "No",
          "time": "Lunch",
          "tip": 1.36,
          "total_bill": 18.64,
          "weekend": false
         },
         {
          "day": "Thur",
          "sex": "Female",
          "size": 2,
          "smoker": "No",
          "time": "Lunch",
          "tip": 1.63,
          "total_bill": 11.87,
          "weekend": false
         },
         {
          "day": "Thur",
          "sex": "Male",
          "size": 2,
          "smoker": "No",
          "time": "Lunch",
          "tip": 1.73,
          "total_bill": 9.78,
          "weekend": false
         },
         {
          "day": "Thur",
          "sex": "Male",
          "size": 2,
          "smoker": "No",
          "time": "Lunch",
          "tip": 2,
          "total_bill": 7.51,
          "weekend": false
         },
         {
          "day": "Sun",
          "sex": "Male",
          "size": 2,
          "smoker": "No",
          "time": "Dinner",
          "tip": 2.5,
          "total_bill": 14.07,
          "weekend": true
         },
         {
          "day": "Sun",
          "sex": "Male",
          "size": 2,
          "smoker": "No",
          "time": "Dinner",
          "tip": 2,
          "total_bill": 13.13,
          "weekend": true
         },
         {
          "day": "Sun",
          "sex": "Male",
          "size": 3,
          "smoker": "No",
          "time": "Dinner",
          "tip": 2.74,
          "total_bill": 17.26,
          "weekend": true
         },
         {
          "day": "Sun",
          "sex": "Male",
          "size": 4,
          "smoker": "No",
          "time": "Dinner",
          "tip": 2,
          "total_bill": 24.55,
          "weekend": true
         },
         {
          "day": "Sun",
          "sex": "Male",
          "size": 4,
          "smoker": "No",
          "time": "Dinner",
          "tip": 2,
          "total_bill": 19.77,
          "weekend": true
         },
         {
          "day": "Sun",
          "sex": "Female",
          "size": 5,
          "smoker": "No",
          "time": "Dinner",
          "tip": 5.14,
          "total_bill": 29.85,
          "weekend": true
         },
         {
          "day": "Sun",
          "sex": "Male",
          "size": 6,
          "smoker": "No",
          "time": "Dinner",
          "tip": 5,
          "total_bill": 48.17,
          "weekend": true
         },
         {
          "day": "Sun",
          "sex": "Female",
          "size": 4,
          "smoker": "No",
          "time": "Dinner",
          "tip": 3.75,
          "total_bill": 25,
          "weekend": true
         },
         {
          "day": "Sun",
          "sex": "Female",
          "size": 2,
          "smoker": "No",
          "time": "Dinner",
          "tip": 2.61,
          "total_bill": 13.39,
          "weekend": true
         },
         {
          "day": "Sun",
          "sex": "Male",
          "size": 4,
          "smoker": "No",
          "time": "Dinner",
          "tip": 2,
          "total_bill": 16.49,
          "weekend": true
         },
         {
          "day": "Sun",
          "sex": "Male",
          "size": 4,
          "smoker": "No",
          "time": "Dinner",
          "tip": 3.5,
          "total_bill": 21.5,
          "weekend": true
         },
         {
          "day": "Sun",
          "sex": "Male",
          "size": 2,
          "smoker": "No",
          "time": "Dinner",
          "tip": 2.5,
          "total_bill": 12.66,
          "weekend": true
         },
         {
          "day": "Sun",
          "sex": "Female",
          "size": 3,
          "smoker": "No",
          "time": "Dinner",
          "tip": 2,
          "total_bill": 16.21,
          "weekend": true
         },
         {
          "day": "Sun",
          "sex": "Male",
          "size": 2,
          "smoker": "No",
          "time": "Dinner",
          "tip": 2,
          "total_bill": 13.81,
          "weekend": true
         },
         {
          "day": "Sun",
          "sex": "Female",
          "size": 2,
          "smoker": "Yes",
          "time": "Dinner",
          "tip": 3,
          "total_bill": 17.51,
          "weekend": true
         },
         {
          "day": "Sun",
          "sex": "Male",
          "size": 3,
          "smoker": "No",
          "time": "Dinner",
          "tip": 3.48,
          "total_bill": 24.52,
          "weekend": true
         },
         {
          "day": "Sun",
          "sex": "Male",
          "size": 2,
          "smoker": "No",
          "time": "Dinner",
          "tip": 2.24,
          "total_bill": 20.76,
          "weekend": true
         },
         {
          "day": "Sun",
          "sex": "Male",
          "size": 4,
          "smoker": "No",
          "time": "Dinner",
          "tip": 4.5,
          "total_bill": 31.71,
          "weekend": true
         },
         {
          "day": "Sat",
          "sex": "Female",
          "size": 2,
          "smoker": "Yes",
          "time": "Dinner",
          "tip": 1.61,
          "total_bill": 10.59,
          "weekend": true
         },
         {
          "day": "Sat",
          "sex": "Female",
          "size": 2,
          "smoker": "Yes",
          "time": "Dinner",
          "tip": 2,
          "total_bill": 10.63,
          "weekend": true
         },
         {
          "day": "Sat",
          "sex": "Male",
          "size": 3,
          "smoker": "Yes",
          "time": "Dinner",
          "tip": 10,
          "total_bill": 50.81,
          "weekend": true
         },
         {
          "day": "Sat",
          "sex": "Male",
          "size": 2,
          "smoker": "Yes",
          "time": "Dinner",
          "tip": 3.16,
          "total_bill": 15.81,
          "weekend": true
         },
         {
          "day": "Sun",
          "sex": "Male",
          "size": 2,
          "smoker": "Yes",
          "time": "Dinner",
          "tip": 5.15,
          "total_bill": 7.25,
          "weekend": true
         },
         {
          "day": "Sun",
          "sex": "Male",
          "size": 2,
          "smoker": "Yes",
          "time": "Dinner",
          "tip": 3.18,
          "total_bill": 31.85,
          "weekend": true
         },
         {
          "day": "Sun",
          "sex": "Male",
          "size": 2,
          "smoker": "Yes",
          "time": "Dinner",
          "tip": 4,
          "total_bill": 16.82,
          "weekend": true
         },
         {
          "day": "Sun",
          "sex": "Male",
          "size": 2,
          "smoker": "Yes",
          "time": "Dinner",
          "tip": 3.11,
          "total_bill": 32.9,
          "weekend": true
         },
         {
          "day": "Sun",
          "sex": "Male",
          "size": 2,
          "smoker": "Yes",
          "time": "Dinner",
          "tip": 2,
          "total_bill": 17.89,
          "weekend": true
         },
         {
          "day": "Sun",
          "sex": "Male",
          "size": 2,
          "smoker": "Yes",
          "time": "Dinner",
          "tip": 2,
          "total_bill": 14.48,
          "weekend": true
         },
         {
          "day": "Sun",
          "sex": "Female",
          "size": 2,
          "smoker": "Yes",
          "time": "Dinner",
          "tip": 4,
          "total_bill": 9.6,
          "weekend": true
         },
         {
          "day": "Sun",
          "sex": "Male",
          "size": 2,
          "smoker": "Yes",
          "time": "Dinner",
          "tip": 3.55,
          "total_bill": 34.63,
          "weekend": true
         },
         {
          "day": "Sun",
          "sex": "Male",
          "size": 4,
          "smoker": "Yes",
          "time": "Dinner",
          "tip": 3.68,
          "total_bill": 34.65,
          "weekend": true
         },
         {
          "day": "Sun",
          "sex": "Male",
          "size": 2,
          "smoker": "Yes",
          "time": "Dinner",
          "tip": 5.65,
          "total_bill": 23.33,
          "weekend": true
         },
         {
          "day": "Sun",
          "sex": "Male",
          "size": 3,
          "smoker": "Yes",
          "time": "Dinner",
          "tip": 3.5,
          "total_bill": 45.35,
          "weekend": true
         },
         {
          "day": "Sun",
          "sex": "Male",
          "size": 4,
          "smoker": "Yes",
          "time": "Dinner",
          "tip": 6.5,
          "total_bill": 23.17,
          "weekend": true
         },
         {
          "day": "Sun",
          "sex": "Male",
          "size": 2,
          "smoker": "Yes",
          "time": "Dinner",
          "tip": 3,
          "total_bill": 40.55,
          "weekend": true
         },
         {
          "day": "Sun",
          "sex": "Male",
          "size": 5,
          "smoker": "No",
          "time": "Dinner",
          "tip": 5,
          "total_bill": 20.69,
          "weekend": true
         },
         {
          "day": "Sun",
          "sex": "Female",
          "size": 3,
          "smoker": "Yes",
          "time": "Dinner",
          "tip": 3.5,
          "total_bill": 20.9,
          "weekend": true
         },
         {
          "day": "Sun",
          "sex": "Male",
          "size": 5,
          "smoker": "Yes",
          "time": "Dinner",
          "tip": 2,
          "total_bill": 30.46,
          "weekend": true
         },
         {
          "day": "Sun",
          "sex": "Female",
          "size": 3,
          "smoker": "Yes",
          "time": "Dinner",
          "tip": 3.5,
          "total_bill": 18.15,
          "weekend": true
         },
         {
          "day": "Sun",
          "sex": "Male",
          "size": 3,
          "smoker": "Yes",
          "time": "Dinner",
          "tip": 4,
          "total_bill": 23.1,
          "weekend": true
         },
         {
          "day": "Sun",
          "sex": "Male",
          "size": 2,
          "smoker": "Yes",
          "time": "Dinner",
          "tip": 1.5,
          "total_bill": 15.69,
          "weekend": true
         },
         {
          "day": "Thur",
          "sex": "Female",
          "size": 2,
          "smoker": "Yes",
          "time": "Lunch",
          "tip": 4.19,
          "total_bill": 19.81,
          "weekend": false
         },
         {
          "day": "Thur",
          "sex": "Male",
          "size": 2,
          "smoker": "Yes",
          "time": "Lunch",
          "tip": 2.56,
          "total_bill": 28.44,
          "weekend": false
         },
         {
          "day": "Thur",
          "sex": "Male",
          "size": 2,
          "smoker": "Yes",
          "time": "Lunch",
          "tip": 2.02,
          "total_bill": 15.48,
          "weekend": false
         },
         {
          "day": "Thur",
          "sex": "Male",
          "size": 2,
          "smoker": "Yes",
          "time": "Lunch",
          "tip": 4,
          "total_bill": 16.58,
          "weekend": false
         },
         {
          "day": "Thur",
          "sex": "Male",
          "size": 2,
          "smoker": "No",
          "time": "Lunch",
          "tip": 1.44,
          "total_bill": 7.56,
          "weekend": false
         },
         {
          "day": "Thur",
          "sex": "Male",
          "size": 2,
          "smoker": "Yes",
          "time": "Lunch",
          "tip": 2,
          "total_bill": 10.34,
          "weekend": false
         },
         {
          "day": "Thur",
          "sex": "Female",
          "size": 4,
          "smoker": "Yes",
          "time": "Lunch",
          "tip": 5,
          "total_bill": 43.11,
          "weekend": false
         },
         {
          "day": "Thur",
          "sex": "Female",
          "size": 2,
          "smoker": "Yes",
          "time": "Lunch",
          "tip": 2,
          "total_bill": 13,
          "weekend": false
         },
         {
          "day": "Thur",
          "sex": "Male",
          "size": 2,
          "smoker": "Yes",
          "time": "Lunch",
          "tip": 2,
          "total_bill": 13.51,
          "weekend": false
         },
         {
          "day": "Thur",
          "sex": "Male",
          "size": 3,
          "smoker": "Yes",
          "time": "Lunch",
          "tip": 4,
          "total_bill": 18.71,
          "weekend": false
         },
         {
          "day": "Thur",
          "sex": "Female",
          "size": 2,
          "smoker": "Yes",
          "time": "Lunch",
          "tip": 2.01,
          "total_bill": 12.74,
          "weekend": false
         },
         {
          "day": "Thur",
          "sex": "Female",
          "size": 2,
          "smoker": "Yes",
          "time": "Lunch",
          "tip": 2,
          "total_bill": 13,
          "weekend": false
         },
         {
          "day": "Thur",
          "sex": "Female",
          "size": 2,
          "smoker": "Yes",
          "time": "Lunch",
          "tip": 2.5,
          "total_bill": 16.4,
          "weekend": false
         },
         {
          "day": "Thur",
          "sex": "Male",
          "size": 4,
          "smoker": "Yes",
          "time": "Lunch",
          "tip": 4,
          "total_bill": 20.53,
          "weekend": false
         },
         {
          "day": "Thur",
          "sex": "Female",
          "size": 3,
          "smoker": "Yes",
          "time": "Lunch",
          "tip": 3.23,
          "total_bill": 16.47,
          "weekend": false
         },
         {
          "day": "Sat",
          "sex": "Male",
          "size": 3,
          "smoker": "Yes",
          "time": "Dinner",
          "tip": 3.41,
          "total_bill": 26.59,
          "weekend": true
         },
         {
          "day": "Sat",
          "sex": "Male",
          "size": 4,
          "smoker": "Yes",
          "time": "Dinner",
          "tip": 3,
          "total_bill": 38.73,
          "weekend": true
         },
         {
          "day": "Sat",
          "sex": "Male",
          "size": 2,
          "smoker": "Yes",
          "time": "Dinner",
          "tip": 2.03,
          "total_bill": 24.27,
          "weekend": true
         },
         {
          "day": "Sat",
          "sex": "Female",
          "size": 2,
          "smoker": "Yes",
          "time": "Dinner",
          "tip": 2.23,
          "total_bill": 12.76,
          "weekend": true
         },
         {
          "day": "Sat",
          "sex": "Male",
          "size": 3,
          "smoker": "Yes",
          "time": "Dinner",
          "tip": 2,
          "total_bill": 30.06,
          "weekend": true
         },
         {
          "day": "Sat",
          "sex": "Male",
          "size": 4,
          "smoker": "Yes",
          "time": "Dinner",
          "tip": 5.16,
          "total_bill": 25.89,
          "weekend": true
         },
         {
          "day": "Sat",
          "sex": "Male",
          "size": 4,
          "smoker": "No",
          "time": "Dinner",
          "tip": 9,
          "total_bill": 48.33,
          "weekend": true
         },
         {
          "day": "Sat",
          "sex": "Female",
          "size": 2,
          "smoker": "Yes",
          "time": "Dinner",
          "tip": 2.5,
          "total_bill": 13.27,
          "weekend": true
         },
         {
          "day": "Sat",
          "sex": "Female",
          "size": 3,
          "smoker": "Yes",
          "time": "Dinner",
          "tip": 6.5,
          "total_bill": 28.17,
          "weekend": true
         },
         {
          "day": "Sat",
          "sex": "Female",
          "size": 2,
          "smoker": "Yes",
          "time": "Dinner",
          "tip": 1.1,
          "total_bill": 12.9,
          "weekend": true
         },
         {
          "day": "Sat",
          "sex": "Male",
          "size": 5,
          "smoker": "Yes",
          "time": "Dinner",
          "tip": 3,
          "total_bill": 28.15,
          "weekend": true
         },
         {
          "day": "Sat",
          "sex": "Male",
          "size": 2,
          "smoker": "Yes",
          "time": "Dinner",
          "tip": 1.5,
          "total_bill": 11.59,
          "weekend": true
         },
         {
          "day": "Sat",
          "sex": "Male",
          "size": 2,
          "smoker": "Yes",
          "time": "Dinner",
          "tip": 1.44,
          "total_bill": 7.74,
          "weekend": true
         },
         {
          "day": "Sat",
          "sex": "Female",
          "size": 4,
          "smoker": "Yes",
          "time": "Dinner",
          "tip": 3.09,
          "total_bill": 30.14,
          "weekend": true
         },
         {
          "day": "Fri",
          "sex": "Male",
          "size": 2,
          "smoker": "Yes",
          "time": "Lunch",
          "tip": 2.2,
          "total_bill": 12.16,
          "weekend": false
         },
         {
          "day": "Fri",
          "sex": "Female",
          "size": 2,
          "smoker": "Yes",
          "time": "Lunch",
          "tip": 3.48,
          "total_bill": 13.42,
          "weekend": false
         },
         {
          "day": "Fri",
          "sex": "Male",
          "size": 1,
          "smoker": "Yes",
          "time": "Lunch",
          "tip": 1.92,
          "total_bill": 8.58,
          "weekend": false
         },
         {
          "day": "Fri",
          "sex": "Female",
          "size": 3,
          "smoker": "No",
          "time": "Lunch",
          "tip": 3,
          "total_bill": 15.98,
          "weekend": false
         },
         {
          "day": "Fri",
          "sex": "Male",
          "size": 2,
          "smoker": "Yes",
          "time": "Lunch",
          "tip": 1.58,
          "total_bill": 13.42,
          "weekend": false
         },
         {
          "day": "Fri",
          "sex": "Female",
          "size": 2,
          "smoker": "Yes",
          "time": "Lunch",
          "tip": 2.5,
          "total_bill": 16.27,
          "weekend": false
         },
         {
          "day": "Fri",
          "sex": "Female",
          "size": 2,
          "smoker": "Yes",
          "time": "Lunch",
          "tip": 2,
          "total_bill": 10.09,
          "weekend": false
         },
         {
          "day": "Sat",
          "sex": "Male",
          "size": 4,
          "smoker": "No",
          "time": "Dinner",
          "tip": 3,
          "total_bill": 20.45,
          "weekend": true
         },
         {
          "day": "Sat",
          "sex": "Male",
          "size": 2,
          "smoker": "No",
          "time": "Dinner",
          "tip": 2.72,
          "total_bill": 13.28,
          "weekend": true
         },
         {
          "day": "Sat",
          "sex": "Female",
          "size": 2,
          "smoker": "Yes",
          "time": "Dinner",
          "tip": 2.88,
          "total_bill": 22.12,
          "weekend": true
         },
         {
          "day": "Sat",
          "sex": "Male",
          "size": 4,
          "smoker": "Yes",
          "time": "Dinner",
          "tip": 2,
          "total_bill": 24.01,
          "weekend": true
         },
         {
          "day": "Sat",
          "sex": "Male",
          "size": 3,
          "smoker": "Yes",
          "time": "Dinner",
          "tip": 3,
          "total_bill": 15.69,
          "weekend": true
         },
         {
          "day": "Sat",
          "sex": "Male",
          "size": 2,
          "smoker": "No",
          "time": "Dinner",
          "tip": 3.39,
          "total_bill": 11.61,
          "weekend": true
         },
         {
          "day": "Sat",
          "sex": "Male",
          "size": 2,
          "smoker": "No",
          "time": "Dinner",
          "tip": 1.47,
          "total_bill": 10.77,
          "weekend": true
         },
         {
          "day": "Sat",
          "sex": "Male",
          "size": 2,
          "smoker": "Yes",
          "time": "Dinner",
          "tip": 3,
          "total_bill": 15.53,
          "weekend": true
         },
         {
          "day": "Sat",
          "sex": "Male",
          "size": 2,
          "smoker": "No",
          "time": "Dinner",
          "tip": 1.25,
          "total_bill": 10.07,
          "weekend": true
         },
         {
          "day": "Sat",
          "sex": "Male",
          "size": 2,
          "smoker": "Yes",
          "time": "Dinner",
          "tip": 1,
          "total_bill": 12.6,
          "weekend": true
         },
         {
          "day": "Sat",
          "sex": "Male",
          "size": 2,
          "smoker": "Yes",
          "time": "Dinner",
          "tip": 1.17,
          "total_bill": 32.83,
          "weekend": true
         },
         {
          "day": "Sat",
          "sex": "Female",
          "size": 3,
          "smoker": "No",
          "time": "Dinner",
          "tip": 4.67,
          "total_bill": 35.83,
          "weekend": true
         },
         {
          "day": "Sat",
          "sex": "Male",
          "size": 3,
          "smoker": "No",
          "time": "Dinner",
          "tip": 5.92,
          "total_bill": 29.03,
          "weekend": true
         },
         {
          "day": "Sat",
          "sex": "Female",
          "size": 2,
          "smoker": "Yes",
          "time": "Dinner",
          "tip": 2,
          "total_bill": 27.18,
          "weekend": true
         },
         {
          "day": "Sat",
          "sex": "Male",
          "size": 2,
          "smoker": "Yes",
          "time": "Dinner",
          "tip": 2,
          "total_bill": 22.67,
          "weekend": true
         },
         {
          "day": "Sat",
          "sex": "Male",
          "size": 2,
          "smoker": "No",
          "time": "Dinner",
          "tip": 1.75,
          "total_bill": 17.82,
          "weekend": true
         },
         {
          "day": "Thur",
          "sex": "Female",
          "size": 2,
          "smoker": "No",
          "time": "Dinner",
          "tip": 3,
          "total_bill": 18.78,
          "weekend": false
         }
        ]
       },
       "layer": [
        {
         "encoding": {
          "x": {
           "field": "day",
           "type": "nominal"
          },
          "y": {
           "aggregate": "min",
           "field": "total_bill",
           "type": "quantitative"
          },
          "y2": {
           "aggregate": "max",
           "field": "total_bill",
           "type": "quantitative"
          }
         },
         "mark": "rule"
        },
        {
         "encoding": {
          "color": {
           "field": "weekend",
           "type": "nominal"
          },
          "x": {
           "field": "day",
           "type": "nominal"
          },
          "y": {
           "aggregate": "q1",
           "axis": {
            "title": "total_bill"
           },
           "field": "total_bill",
           "type": "quantitative"
          },
          "y2": {
           "aggregate": "q3",
           "field": "total_bill",
           "type": "quantitative"
          }
         },
         "mark": "bar"
        },
        {
         "encoding": {
          "x": {
           "field": "day",
           "type": "nominal"
          },
          "y": {
           "aggregate": "median",
           "field": "total_bill",
           "type": "quantitative"
          }
         },
         "mark": {
          "color": "black",
          "size": 18,
          "type": "tick"
         }
        }
       ]
      },
      "image/png": "[encoded data removed]",
      "text/plain": [
       "<VegaLite 2 object>\n",
       "\n",
       "If you see this message, it means the renderer has not been properly enabled\n",
       "for the frontend that you are using. For more information, see\n",
       "https://altair-viz.github.io/user_guide/troubleshooting.html\n"
      ]
     },
     "metadata": {},
     "output_type": "display_data"
    },
    {
     "data": {
      "image/png": "[encoded data removed]",
      "text/plain": [
       "<Figure size 432x288 with 1 Axes>"
      ]
     },
     "metadata": {},
     "output_type": "display_data"
    }
   ],
   "source": [
    "tips[\"weekend\"] = tips[\"day\"].isin([\"Sat\", \"Sun\"])\n",
    "display(salt.boxplot(x=\"day\", y=\"total_bill\", hue=\"weekend\", data=tips, dodge=False))\n",
    "ax = sns.boxplot(x=\"day\", y=\"total_bill\", hue=\"weekend\", data=tips, dodge=False)"
   ]
  },
  {
   "cell_type": "code",
   "execution_count": null,
   "metadata": {},
   "outputs": [],
   "source": []
  }
 ],
 "metadata": {
  "kernelspec": {
   "display_name": "Python 3",
   "language": "python",
   "name": "python3"
  },
  "language_info": {
   "codemirror_mode": {
    "name": "ipython",
    "version": 3
   },
   "file_extension": ".py",
   "mimetype": "text/x-python",
   "name": "python",
   "nbconvert_exporter": "python",
   "pygments_lexer": "ipython3",
   "version": "3.6.4"
  }
 },
 "nbformat": 4,
 "nbformat_minor": 2
}
