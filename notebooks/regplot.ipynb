{
 "cells": [
  {
   "cell_type": "markdown",
   "metadata": {},
   "source": [
    "# seaborn_altair.regplot"
   ]
  },
  {
   "cell_type": "code",
   "execution_count": 1,
   "metadata": {},
   "outputs": [],
   "source": [
    "import seaborn as sns\n",
    "import seaborn_altair as salt\n",
    "import numpy as np; np.random.seed(8)\n",
    "sns.set(color_codes=True)\n",
    "tips = sns.load_dataset(\"tips\")\n",
    "ans = sns.load_dataset(\"anscombe\")\n",
    "mean, cov = [4, 6], [(1.5, .7), (.7, 1)]\n",
    "x, y = np.random.multivariate_normal(mean, cov, 80).T"
   ]
  },
  {
   "cell_type": "code",
   "execution_count": 2,
   "metadata": {},
   "outputs": [
    {
     "data": {
      "application/vnd.vegalite.v2+json": {
       "$schema": "https://vega.github.io/schema/vega-lite/v2.4.1.json",
       "config": {
        "view": {
         "height": 300,
         "width": 400
        }
       },
       "layer": [
        {
         "data": {
          "values": [
           {
            "day": "Sun",
            "sex": "Female",
            "size": 2,
            "smoker": "No",
            "time": "Dinner",
            "tip": 1.01,
            "total_bill": 16.99
           },
           {
            "day": "Sun",
            "sex": "Male",
            "size": 3,
            "smoker": "No",
            "time": "Dinner",
            "tip": 1.66,
            "total_bill": 10.34
           },
           {
            "day": "Sun",
            "sex": "Male",
            "size": 3,
            "smoker": "No",
            "time": "Dinner",
            "tip": 3.5,
            "total_bill": 21.01
           },
           {
            "day": "Sun",
            "sex": "Male",
            "size": 2,
            "smoker": "No",
            "time": "Dinner",
            "tip": 3.31,
            "total_bill": 23.68
           },
           {
            "day": "Sun",
            "sex": "Female",
            "size": 4,
            "smoker": "No",
            "time": "Dinner",
            "tip": 3.61,
            "total_bill": 24.59
           },
           {
            "day": "Sun",
            "sex": "Male",
            "size": 4,
            "smoker": "No",
            "time": "Dinner",
            "tip": 4.71,
            "total_bill": 25.29
           },
           {
            "day": "Sun",
            "sex": "Male",
            "size": 2,
            "smoker": "No",
            "time": "Dinner",
            "tip": 2,
            "total_bill": 8.77
           },
           {
            "day": "Sun",
            "sex": "Male",
            "size": 4,
            "smoker": "No",
            "time": "Dinner",
            "tip": 3.12,
            "total_bill": 26.88
           },
           {
            "day": "Sun",
            "sex": "Male",
            "size": 2,
            "smoker": "No",
            "time": "Dinner",
            "tip": 1.96,
            "total_bill": 15.04
           },
           {
            "day": "Sun",
            "sex": "Male",
            "size": 2,
            "smoker": "No",
            "time": "Dinner",
            "tip": 3.23,
            "total_bill": 14.78
           },
           {
            "day": "Sun",
            "sex": "Male",
            "size": 2,
            "smoker": "No",
            "time": "Dinner",
            "tip": 1.71,
            "total_bill": 10.27
           },
           {
            "day": "Sun",
            "sex": "Female",
            "size": 4,
            "smoker": "No",
            "time": "Dinner",
            "tip": 5,
            "total_bill": 35.26
           },
           {
            "day": "Sun",
            "sex": "Male",
            "size": 2,
            "smoker": "No",
            "time": "Dinner",
            "tip": 1.57,
            "total_bill": 15.42
           },
           {
            "day": "Sun",
            "sex": "Male",
            "size": 4,
            "smoker": "No",
            "time": "Dinner",
            "tip": 3,
            "total_bill": 18.43
           },
           {
            "day": "Sun",
            "sex": "Female",
            "size": 2,
            "smoker": "No",
            "time": "Dinner",
            "tip": 3.02,
            "total_bill": 14.83
           },
           {
            "day": "Sun",
            "sex": "Male",
            "size": 2,
            "smoker": "No",
            "time": "Dinner",
            "tip": 3.92,
            "total_bill": 21.58
           },
           {
            "day": "Sun",
            "sex": "Female",
            "size": 3,
            "smoker": "No",
            "time": "Dinner",
            "tip": 1.67,
            "total_bill": 10.33
           },
           {
            "day": "Sun",
            "sex": "Male",
            "size": 3,
            "smoker": "No",
            "time": "Dinner",
            "tip": 3.71,
            "total_bill": 16.29
           },
           {
            "day": "Sun",
            "sex": "Female",
            "size": 3,
            "smoker": "No",
            "time": "Dinner",
            "tip": 3.5,
            "total_bill": 16.97
           },
           {
            "day": "Sat",
            "sex": "Male",
            "size": 3,
            "smoker": "No",
            "time": "Dinner",
            "tip": 3.35,
            "total_bill": 20.65
           },
           {
            "day": "Sat",
            "sex": "Male",
            "size": 2,
            "smoker": "No",
            "time": "Dinner",
            "tip": 4.08,
            "total_bill": 17.92
           },
           {
            "day": "Sat",
            "sex": "Female",
            "size": 2,
            "smoker": "No",
            "time": "Dinner",
            "tip": 2.75,
            "total_bill": 20.29
           },
           {
            "day": "Sat",
            "sex": "Female",
            "size": 2,
            "smoker": "No",
            "time": "Dinner",
            "tip": 2.23,
            "total_bill": 15.77
           },
           {
            "day": "Sat",
            "sex": "Male",
            "size": 4,
            "smoker": "No",
            "time": "Dinner",
            "tip": 7.58,
            "total_bill": 39.42
           },
           {
            "day": "Sat",
            "sex": "Male",
            "size": 2,
            "smoker": "No",
            "time": "Dinner",
            "tip": 3.18,
            "total_bill": 19.82
           },
           {
            "day": "Sat",
            "sex": "Male",
            "size": 4,
            "smoker": "No",
            "time": "Dinner",
            "tip": 2.34,
            "total_bill": 17.81
           },
           {
            "day": "Sat",
            "sex": "Male",
            "size": 2,
            "smoker": "No",
            "time": "Dinner",
            "tip": 2,
            "total_bill": 13.37
           },
           {
            "day": "Sat",
            "sex": "Male",
            "size": 2,
            "smoker": "No",
            "time": "Dinner",
            "tip": 2,
            "total_bill": 12.69
           },
           {
            "day": "Sat",
            "sex": "Male",
            "size": 2,
            "smoker": "No",
            "time": "Dinner",
            "tip": 4.3,
            "total_bill": 21.7
           },
           {
            "day": "Sat",
            "sex": "Female",
            "size": 2,
            "smoker": "No",
            "time": "Dinner",
            "tip": 3,
            "total_bill": 19.65
           },
           {
            "day": "Sat",
            "sex": "Male",
            "size": 2,
            "smoker": "No",
            "time": "Dinner",
            "tip": 1.45,
            "total_bill": 9.55
           },
           {
            "day": "Sat",
            "sex": "Male",
            "size": 4,
            "smoker": "No",
            "time": "Dinner",
            "tip": 2.5,
            "total_bill": 18.35
           },
           {
            "day": "Sat",
            "sex": "Female",
            "size": 2,
            "smoker": "No",
            "time": "Dinner",
            "tip": 3,
            "total_bill": 15.06
           },
           {
            "day": "Sat",
            "sex": "Female",
            "size": 4,
            "smoker": "No",
            "time": "Dinner",
            "tip": 2.45,
            "total_bill": 20.69
           },
           {
            "day": "Sat",
            "sex": "Male",
            "size": 2,
            "smoker": "No",
            "time": "Dinner",
            "tip": 3.27,
            "total_bill": 17.78
           },
           {
            "day": "Sat",
            "sex": "Male",
            "size": 3,
            "smoker": "No",
            "time": "Dinner",
            "tip": 3.6,
            "total_bill": 24.06
           },
           {
            "day": "Sat",
            "sex": "Male",
            "size": 3,
            "smoker": "No",
            "time": "Dinner",
            "tip": 2,
            "total_bill": 16.31
           },
           {
            "day": "Sat",
            "sex": "Female",
            "size": 3,
            "smoker": "No",
            "time": "Dinner",
            "tip": 3.07,
            "total_bill": 16.93
           },
           {
            "day": "Sat",
            "sex": "Male",
            "size": 3,
            "smoker": "No",
            "time": "Dinner",
            "tip": 2.31,
            "total_bill": 18.69
           },
           {
            "day": "Sat",
            "sex": "Male",
            "size": 3,
            "smoker": "No",
            "time": "Dinner",
            "tip": 5,
            "total_bill": 31.27
           },
           {
            "day": "Sat",
            "sex": "Male",
            "size": 3,
            "smoker": "No",
            "time": "Dinner",
            "tip": 2.24,
            "total_bill": 16.04
           },
           {
            "day": "Sun",
            "sex": "Male",
            "size": 2,
            "smoker": "No",
            "time": "Dinner",
            "tip": 2.54,
            "total_bill": 17.46
           },
           {
            "day": "Sun",
            "sex": "Male",
            "size": 2,
            "smoker": "No",
            "time": "Dinner",
            "tip": 3.06,
            "total_bill": 13.94
           },
           {
            "day": "Sun",
            "sex": "Male",
            "size": 2,
            "smoker": "No",
            "time": "Dinner",
            "tip": 1.32,
            "total_bill": 9.68
           },
           {
            "day": "Sun",
            "sex": "Male",
            "size": 4,
            "smoker": "No",
            "time": "Dinner",
            "tip": 5.6,
            "total_bill": 30.4
           },
           {
            "day": "Sun",
            "sex": "Male",
            "size": 2,
            "smoker": "No",
            "time": "Dinner",
            "tip": 3,
            "total_bill": 18.29
           },
           {
            "day": "Sun",
            "sex": "Male",
            "size": 2,
            "smoker": "No",
            "time": "Dinner",
            "tip": 5,
            "total_bill": 22.23
           },
           {
            "day": "Sun",
            "sex": "Male",
            "size": 4,
            "smoker": "No",
            "time": "Dinner",
            "tip": 6,
            "total_bill": 32.4
           },
           {
            "day": "Sun",
            "sex": "Male",
            "size": 3,
            "smoker": "No",
            "time": "Dinner",
            "tip": 2.05,
            "total_bill": 28.55
           },
           {
            "day": "Sun",
            "sex": "Male",
            "size": 2,
            "smoker": "No",
            "time": "Dinner",
            "tip": 3,
            "total_bill": 18.04
           },
           {
            "day": "Sun",
            "sex": "Male",
            "size": 2,
            "smoker": "No",
            "time": "Dinner",
            "tip": 2.5,
            "total_bill": 12.54
           },
           {
            "day": "Sun",
            "sex": "Female",
            "size": 2,
            "smoker": "No",
            "time": "Dinner",
            "tip": 2.6,
            "total_bill": 10.29
           },
           {
            "day": "Sun",
            "sex": "Female",
            "size": 4,
            "smoker": "No",
            "time": "Dinner",
            "tip": 5.2,
            "total_bill": 34.81
           },
           {
            "day": "Sun",
            "sex": "Male",
            "size": 2,
            "smoker": "No",
            "time": "Dinner",
            "tip": 1.56,
            "total_bill": 9.94
           },
           {
            "day": "Sun",
            "sex": "Male",
            "size": 4,
            "smoker": "No",
            "time": "Dinner",
            "tip": 4.34,
            "total_bill": 25.56
           },
           {
            "day": "Sun",
            "sex": "Male",
            "size": 2,
            "smoker": "No",
            "time": "Dinner",
            "tip": 3.51,
            "total_bill": 19.49
           },
           {
            "day": "Sat",
            "sex": "Male",
            "size": 4,
            "smoker": "Yes",
            "time": "Dinner",
            "tip": 3,
            "total_bill": 38.01
           },
           {
            "day": "Sat",
            "sex": "Female",
            "size": 2,
            "smoker": "No",
            "time": "Dinner",
            "tip": 1.5,
            "total_bill": 26.41
           },
           {
            "day": "Sat",
            "sex": "Male",
            "size": 2,
            "smoker": "Yes",
            "time": "Dinner",
            "tip": 1.76,
            "total_bill": 11.24
           },
           {
            "day": "Sat",
            "sex": "Male",
            "size": 4,
            "smoker": "No",
            "time": "Dinner",
            "tip": 6.73,
            "total_bill": 48.27
           },
           {
            "day": "Sat",
            "sex": "Male",
            "size": 2,
            "smoker": "Yes",
            "time": "Dinner",
            "tip": 3.21,
            "total_bill": 20.29
           },
           {
            "day": "Sat",
            "sex": "Male",
            "size": 2,
            "smoker": "Yes",
            "time": "Dinner",
            "tip": 2,
            "total_bill": 13.81
           },
           {
            "day": "Sat",
            "sex": "Male",
            "size": 2,
            "smoker": "Yes",
            "time": "Dinner",
            "tip": 1.98,
            "total_bill": 11.02
           },
           {
            "day": "Sat",
            "sex": "Male",
            "size": 4,
            "smoker": "Yes",
            "time": "Dinner",
            "tip": 3.76,
            "total_bill": 18.29
           },
           {
            "day": "Sat",
            "sex": "Male",
            "size": 3,
            "smoker": "No",
            "time": "Dinner",
            "tip": 2.64,
            "total_bill": 17.59
           },
           {
            "day": "Sat",
            "sex": "Male",
            "size": 3,
            "smoker": "No",
            "time": "Dinner",
            "tip": 3.15,
            "total_bill": 20.08
           },
           {
            "day": "Sat",
            "sex": "Female",
            "size": 2,
            "smoker": "No",
            "time": "Dinner",
            "tip": 2.47,
            "total_bill": 16.45
           },
           {
            "day": "Sat",
            "sex": "Female",
            "size": 1,
            "smoker": "Yes",
            "time": "Dinner",
            "tip": 1,
            "total_bill": 3.07
           },
           {
            "day": "Sat",
            "sex": "Male",
            "size": 2,
            "smoker": "No",
            "time": "Dinner",
            "tip": 2.01,
            "total_bill": 20.23
           },
           {
            "day": "Sat",
            "sex": "Male",
            "size": 2,
            "smoker": "Yes",
            "time": "Dinner",
            "tip": 2.09,
            "total_bill": 15.01
           },
           {
            "day": "Sat",
            "sex": "Male",
            "size": 2,
            "smoker": "No",
            "time": "Dinner",
            "tip": 1.97,
            "total_bill": 12.02
           },
           {
            "day": "Sat",
            "sex": "Female",
            "size": 3,
            "smoker": "No",
            "time": "Dinner",
            "tip": 3,
            "total_bill": 17.07
           },
           {
            "day": "Sat",
            "sex": "Female",
            "size": 2,
            "smoker": "Yes",
            "time": "Dinner",
            "tip": 3.14,
            "total_bill": 26.86
           },
           {
            "day": "Sat",
            "sex": "Female",
            "size": 2,
            "smoker": "Yes",
            "time": "Dinner",
            "tip": 5,
            "total_bill": 25.28
           },
           {
            "day": "Sat",
            "sex": "Female",
            "size": 2,
            "smoker": "No",
            "time": "Dinner",
            "tip": 2.2,
            "total_bill": 14.73
           },
           {
            "day": "Sat",
            "sex": "Male",
            "size": 2,
            "smoker": "No",
            "time": "Dinner",
            "tip": 1.25,
            "total_bill": 10.51
           },
           {
            "day": "Sat",
            "sex": "Male",
            "size": 2,
            "smoker": "Yes",
            "time": "Dinner",
            "tip": 3.08,
            "total_bill": 17.92
           },
           {
            "day": "Thur",
            "sex": "Male",
            "size": 4,
            "smoker": "No",
            "time": "Lunch",
            "tip": 4,
            "total_bill": 27.2
           },
           {
            "day": "Thur",
            "sex": "Male",
            "size": 2,
            "smoker": "No",
            "time": "Lunch",
            "tip": 3,
            "total_bill": 22.76
           },
           {
            "day": "Thur",
            "sex": "Male",
            "size": 2,
            "smoker": "No",
            "time": "Lunch",
            "tip": 2.71,
            "total_bill": 17.29
           },
           {
            "day": "Thur",
            "sex": "Male",
            "size": 2,
            "smoker": "Yes",
            "time": "Lunch",
            "tip": 3,
            "total_bill": 19.44
           },
           {
            "day": "Thur",
            "sex": "Male",
            "size": 2,
            "smoker": "No",
            "time": "Lunch",
            "tip": 3.4,
            "total_bill": 16.66
           },
           {
            "day": "Thur",
            "sex": "Female",
            "size": 1,
            "smoker": "No",
            "time": "Lunch",
            "tip": 1.83,
            "total_bill": 10.07
           },
           {
            "day": "Thur",
            "sex": "Male",
            "size": 2,
            "smoker": "Yes",
            "time": "Lunch",
            "tip": 5,
            "total_bill": 32.68
           },
           {
            "day": "Thur",
            "sex": "Male",
            "size": 2,
            "smoker": "No",
            "time": "Lunch",
            "tip": 2.03,
            "total_bill": 15.98
           },
           {
            "day": "Thur",
            "sex": "Female",
            "size": 4,
            "smoker": "No",
            "time": "Lunch",
            "tip": 5.17,
            "total_bill": 34.83
           },
           {
            "day": "Thur",
            "sex": "Male",
            "size": 2,
            "smoker": "No",
            "time": "Lunch",
            "tip": 2,
            "total_bill": 13.03
           },
           {
            "day": "Thur",
            "sex": "Male",
            "size": 2,
            "smoker": "No",
            "time": "Lunch",
            "tip": 4,
            "total_bill": 18.28
           },
           {
            "day": "Thur",
            "sex": "Male",
            "size": 2,
            "smoker": "No",
            "time": "Lunch",
            "tip": 5.85,
            "total_bill": 24.71
           },
           {
            "day": "Thur",
            "sex": "Male",
            "size": 2,
            "smoker": "No",
            "time": "Lunch",
            "tip": 3,
            "total_bill": 21.16
           },
           {
            "day": "Fri",
            "sex": "Male",
            "size": 2,
            "smoker": "Yes",
            "time": "Dinner",
            "tip": 3,
            "total_bill": 28.97
           },
           {
            "day": "Fri",
            "sex": "Male",
            "size": 2,
            "smoker": "No",
            "time": "Dinner",
            "tip": 3.5,
            "total_bill": 22.49
           },
           {
            "day": "Fri",
            "sex": "Female",
            "size": 2,
            "smoker": "Yes",
            "time": "Dinner",
            "tip": 1,
            "total_bill": 5.75
           },
           {
            "day": "Fri",
            "sex": "Female",
            "size": 2,
            "smoker": "Yes",
            "time": "Dinner",
            "tip": 4.3,
            "total_bill": 16.32
           },
           {
            "day": "Fri",
            "sex": "Female",
            "size": 2,
            "smoker": "No",
            "time": "Dinner",
            "tip": 3.25,
            "total_bill": 22.75
           },
           {
            "day": "Fri",
            "sex": "Male",
            "size": 4,
            "smoker": "Yes",
            "time": "Dinner",
            "tip": 4.73,
            "total_bill": 40.17
           },
           {
            "day": "Fri",
            "sex": "Male",
            "size": 2,
            "smoker": "Yes",
            "time": "Dinner",
            "tip": 4,
            "total_bill": 27.28
           },
           {
            "day": "Fri",
            "sex": "Male",
            "size": 2,
            "smoker": "Yes",
            "time": "Dinner",
            "tip": 1.5,
            "total_bill": 12.03
           },
           {
            "day": "Fri",
            "sex": "Male",
            "size": 2,
            "smoker": "Yes",
            "time": "Dinner",
            "tip": 3,
            "total_bill": 21.01
           },
           {
            "day": "Fri",
            "sex": "Male",
            "size": 2,
            "smoker": "No",
            "time": "Dinner",
            "tip": 1.5,
            "total_bill": 12.46
           },
           {
            "day": "Fri",
            "sex": "Female",
            "size": 2,
            "smoker": "Yes",
            "time": "Dinner",
            "tip": 2.5,
            "total_bill": 11.35
           },
           {
            "day": "Fri",
            "sex": "Female",
            "size": 2,
            "smoker": "Yes",
            "time": "Dinner",
            "tip": 3,
            "total_bill": 15.38
           },
           {
            "day": "Sat",
            "sex": "Female",
            "size": 3,
            "smoker": "Yes",
            "time": "Dinner",
            "tip": 2.5,
            "total_bill": 44.3
           },
           {
            "day": "Sat",
            "sex": "Female",
            "size": 2,
            "smoker": "Yes",
            "time": "Dinner",
            "tip": 3.48,
            "total_bill": 22.42
           },
           {
            "day": "Sat",
            "sex": "Female",
            "size": 2,
            "smoker": "No",
            "time": "Dinner",
            "tip": 4.08,
            "total_bill": 20.92
           },
           {
            "day": "Sat",
            "sex": "Male",
            "size": 2,
            "smoker": "Yes",
            "time": "Dinner",
            "tip": 1.64,
            "total_bill": 15.36
           },
           {
            "day": "Sat",
            "sex": "Male",
            "size": 2,
            "smoker": "Yes",
            "time": "Dinner",
            "tip": 4.06,
            "total_bill": 20.49
           },
           {
            "day": "Sat",
            "sex": "Male",
            "size": 2,
            "smoker": "Yes",
            "time": "Dinner",
            "tip": 4.29,
            "total_bill": 25.21
           },
           {
            "day": "Sat",
            "sex": "Male",
            "size": 2,
            "smoker": "No",
            "time": "Dinner",
            "tip": 3.76,
            "total_bill": 18.24
           },
           {
            "day": "Sat",
            "sex": "Female",
            "size": 2,
            "smoker": "Yes",
            "time": "Dinner",
            "tip": 4,
            "total_bill": 14.31
           },
           {
            "day": "Sat",
            "sex": "Male",
            "size": 2,
            "smoker": "No",
            "time": "Dinner",
            "tip": 3,
            "total_bill": 14
           },
           {
            "day": "Sat",
            "sex": "Female",
            "size": 1,
            "smoker": "No",
            "time": "Dinner",
            "tip": 1,
            "total_bill": 7.25
           },
           {
            "day": "Sun",
            "sex": "Male",
            "size": 3,
            "smoker": "No",
            "time": "Dinner",
            "tip": 4,
            "total_bill": 38.07
           },
           {
            "day": "Sun",
            "sex": "Male",
            "size": 2,
            "smoker": "No",
            "time": "Dinner",
            "tip": 2.55,
            "total_bill": 23.95
           },
           {
            "day": "Sun",
            "sex": "Female",
            "size": 3,
            "smoker": "No",
            "time": "Dinner",
            "tip": 4,
            "total_bill": 25.71
           },
           {
            "day": "Sun",
            "sex": "Female",
            "size": 2,
            "smoker": "No",
            "time": "Dinner",
            "tip": 3.5,
            "total_bill": 17.31
           },
           {
            "day": "Sun",
            "sex": "Male",
            "size": 4,
            "smoker": "No",
            "time": "Dinner",
            "tip": 5.07,
            "total_bill": 29.93
           },
           {
            "day": "Thur",
            "sex": "Female",
            "size": 2,
            "smoker": "No",
            "time": "Lunch",
            "tip": 1.5,
            "total_bill": 10.65
           },
           {
            "day": "Thur",
            "sex": "Female",
            "size": 2,
            "smoker": "No",
            "time": "Lunch",
            "tip": 1.8,
            "total_bill": 12.43
           },
           {
            "day": "Thur",
            "sex": "Female",
            "size": 4,
            "smoker": "No",
            "time": "Lunch",
            "tip": 2.92,
            "total_bill": 24.08
           },
           {
            "day": "Thur",
            "sex": "Male",
            "size": 2,
            "smoker": "No",
            "time": "Lunch",
            "tip": 2.31,
            "total_bill": 11.69
           },
           {
            "day": "Thur",
            "sex": "Female",
            "size": 2,
            "smoker": "No",
            "time": "Lunch",
            "tip": 1.68,
            "total_bill": 13.42
           },
           {
            "day": "Thur",
            "sex": "Male",
            "size": 2,
            "smoker": "No",
            "time": "Lunch",
            "tip": 2.5,
            "total_bill": 14.26
           },
           {
            "day": "Thur",
            "sex": "Male",
            "size": 2,
            "smoker": "No",
            "time": "Lunch",
            "tip": 2,
            "total_bill": 15.95
           },
           {
            "day": "Thur",
            "sex": "Female",
            "size": 2,
            "smoker": "No",
            "time": "Lunch",
            "tip": 2.52,
            "total_bill": 12.48
           },
           {
            "day": "Thur",
            "sex": "Female",
            "size": 6,
            "smoker": "No",
            "time": "Lunch",
            "tip": 4.2,
            "total_bill": 29.8
           },
           {
            "day": "Thur",
            "sex": "Male",
            "size": 2,
            "smoker": "No",
            "time": "Lunch",
            "tip": 1.48,
            "total_bill": 8.52
           },
           {
            "day": "Thur",
            "sex": "Female",
            "size": 2,
            "smoker": "No",
            "time": "Lunch",
            "tip": 2,
            "total_bill": 14.52
           },
           {
            "day": "Thur",
            "sex": "Female",
            "size": 2,
            "smoker": "No",
            "time": "Lunch",
            "tip": 2,
            "total_bill": 11.38
           },
           {
            "day": "Thur",
            "sex": "Male",
            "size": 3,
            "smoker": "No",
            "time": "Lunch",
            "tip": 2.18,
            "total_bill": 22.82
           },
           {
            "day": "Thur",
            "sex": "Male",
            "size": 2,
            "smoker": "No",
            "time": "Lunch",
            "tip": 1.5,
            "total_bill": 19.08
           },
           {
            "day": "Thur",
            "sex": "Female",
            "size": 2,
            "smoker": "No",
            "time": "Lunch",
            "tip": 2.83,
            "total_bill": 20.27
           },
           {
            "day": "Thur",
            "sex": "Female",
            "size": 2,
            "smoker": "No",
            "time": "Lunch",
            "tip": 1.5,
            "total_bill": 11.17
           },
           {
            "day": "Thur",
            "sex": "Female",
            "size": 2,
            "smoker": "No",
            "time": "Lunch",
            "tip": 2,
            "total_bill": 12.26
           },
           {
            "day": "Thur",
            "sex": "Female",
            "size": 2,
            "smoker": "No",
            "time": "Lunch",
            "tip": 3.25,
            "total_bill": 18.26
           },
           {
            "day": "Thur",
            "sex": "Female",
            "size": 2,
            "smoker": "No",
            "time": "Lunch",
            "tip": 1.25,
            "total_bill": 8.51
           },
           {
            "day": "Thur",
            "sex": "Female",
            "size": 2,
            "smoker": "No",
            "time": "Lunch",
            "tip": 2,
            "total_bill": 10.33
           },
           {
            "day": "Thur",
            "sex": "Female",
            "size": 2,
            "smoker": "No",
            "time": "Lunch",
            "tip": 2,
            "total_bill": 14.15
           },
           {
            "day": "Thur",
            "sex": "Male",
            "size": 2,
            "smoker": "Yes",
            "time": "Lunch",
            "tip": 2,
            "total_bill": 16
           },
           {
            "day": "Thur",
            "sex": "Female",
            "size": 2,
            "smoker": "No",
            "time": "Lunch",
            "tip": 2.75,
            "total_bill": 13.16
           },
           {
            "day": "Thur",
            "sex": "Female",
            "size": 2,
            "smoker": "No",
            "time": "Lunch",
            "tip": 3.5,
            "total_bill": 17.47
           },
           {
            "day": "Thur",
            "sex": "Male",
            "size": 6,
            "smoker": "No",
            "time": "Lunch",
            "tip": 6.7,
            "total_bill": 34.3
           },
           {
            "day": "Thur",
            "sex": "Male",
            "size": 5,
            "smoker": "No",
            "time": "Lunch",
            "tip": 5,
            "total_bill": 41.19
           },
           {
            "day": "Thur",
            "sex": "Female",
            "size": 6,
            "smoker": "No",
            "time": "Lunch",
            "tip": 5,
            "total_bill": 27.05
           },
           {
            "day": "Thur",
            "sex": "Female",
            "size": 2,
            "smoker": "No",
            "time": "Lunch",
            "tip": 2.3,
            "total_bill": 16.43
           },
           {
            "day": "Thur",
            "sex": "Female",
            "size": 2,
            "smoker": "No",
            "time": "Lunch",
            "tip": 1.5,
            "total_bill": 8.35
           },
           {
            "day": "Thur",
            "sex": "Female",
            "size": 3,
            "smoker": "No",
            "time": "Lunch",
            "tip": 1.36,
            "total_bill": 18.64
           },
           {
            "day": "Thur",
            "sex": "Female",
            "size": 2,
            "smoker": "No",
            "time": "Lunch",
            "tip": 1.63,
            "total_bill": 11.87
           },
           {
            "day": "Thur",
            "sex": "Male",
            "size": 2,
            "smoker": "No",
            "time": "Lunch",
            "tip": 1.73,
            "total_bill": 9.78
           },
           {
            "day": "Thur",
            "sex": "Male",
            "size": 2,
            "smoker": "No",
            "time": "Lunch",
            "tip": 2,
            "total_bill": 7.51
           },
           {
            "day": "Sun",
            "sex": "Male",
            "size": 2,
            "smoker": "No",
            "time": "Dinner",
            "tip": 2.5,
            "total_bill": 14.07
           },
           {
            "day": "Sun",
            "sex": "Male",
            "size": 2,
            "smoker": "No",
            "time": "Dinner",
            "tip": 2,
            "total_bill": 13.13
           },
           {
            "day": "Sun",
            "sex": "Male",
            "size": 3,
            "smoker": "No",
            "time": "Dinner",
            "tip": 2.74,
            "total_bill": 17.26
           },
           {
            "day": "Sun",
            "sex": "Male",
            "size": 4,
            "smoker": "No",
            "time": "Dinner",
            "tip": 2,
            "total_bill": 24.55
           },
           {
            "day": "Sun",
            "sex": "Male",
            "size": 4,
            "smoker": "No",
            "time": "Dinner",
            "tip": 2,
            "total_bill": 19.77
           },
           {
            "day": "Sun",
            "sex": "Female",
            "size": 5,
            "smoker": "No",
            "time": "Dinner",
            "tip": 5.14,
            "total_bill": 29.85
           },
           {
            "day": "Sun",
            "sex": "Male",
            "size": 6,
            "smoker": "No",
            "time": "Dinner",
            "tip": 5,
            "total_bill": 48.17
           },
           {
            "day": "Sun",
            "sex": "Female",
            "size": 4,
            "smoker": "No",
            "time": "Dinner",
            "tip": 3.75,
            "total_bill": 25
           },
           {
            "day": "Sun",
            "sex": "Female",
            "size": 2,
            "smoker": "No",
            "time": "Dinner",
            "tip": 2.61,
            "total_bill": 13.39
           },
           {
            "day": "Sun",
            "sex": "Male",
            "size": 4,
            "smoker": "No",
            "time": "Dinner",
            "tip": 2,
            "total_bill": 16.49
           },
           {
            "day": "Sun",
            "sex": "Male",
            "size": 4,
            "smoker": "No",
            "time": "Dinner",
            "tip": 3.5,
            "total_bill": 21.5
           },
           {
            "day": "Sun",
            "sex": "Male",
            "size": 2,
            "smoker": "No",
            "time": "Dinner",
            "tip": 2.5,
            "total_bill": 12.66
           },
           {
            "day": "Sun",
            "sex": "Female",
            "size": 3,
            "smoker": "No",
            "time": "Dinner",
            "tip": 2,
            "total_bill": 16.21
           },
           {
            "day": "Sun",
            "sex": "Male",
            "size": 2,
            "smoker": "No",
            "time": "Dinner",
            "tip": 2,
            "total_bill": 13.81
           },
           {
            "day": "Sun",
            "sex": "Female",
            "size": 2,
            "smoker": "Yes",
            "time": "Dinner",
            "tip": 3,
            "total_bill": 17.51
           },
           {
            "day": "Sun",
            "sex": "Male",
            "size": 3,
            "smoker": "No",
            "time": "Dinner",
            "tip": 3.48,
            "total_bill": 24.52
           },
           {
            "day": "Sun",
            "sex": "Male",
            "size": 2,
            "smoker": "No",
            "time": "Dinner",
            "tip": 2.24,
            "total_bill": 20.76
           },
           {
            "day": "Sun",
            "sex": "Male",
            "size": 4,
            "smoker": "No",
            "time": "Dinner",
            "tip": 4.5,
            "total_bill": 31.71
           },
           {
            "day": "Sat",
            "sex": "Female",
            "size": 2,
            "smoker": "Yes",
            "time": "Dinner",
            "tip": 1.61,
            "total_bill": 10.59
           },
           {
            "day": "Sat",
            "sex": "Female",
            "size": 2,
            "smoker": "Yes",
            "time": "Dinner",
            "tip": 2,
            "total_bill": 10.63
           },
           {
            "day": "Sat",
            "sex": "Male",
            "size": 3,
            "smoker": "Yes",
            "time": "Dinner",
            "tip": 10,
            "total_bill": 50.81
           },
           {
            "day": "Sat",
            "sex": "Male",
            "size": 2,
            "smoker": "Yes",
            "time": "Dinner",
            "tip": 3.16,
            "total_bill": 15.81
           },
           {
            "day": "Sun",
            "sex": "Male",
            "size": 2,
            "smoker": "Yes",
            "time": "Dinner",
            "tip": 5.15,
            "total_bill": 7.25
           },
           {
            "day": "Sun",
            "sex": "Male",
            "size": 2,
            "smoker": "Yes",
            "time": "Dinner",
            "tip": 3.18,
            "total_bill": 31.85
           },
           {
            "day": "Sun",
            "sex": "Male",
            "size": 2,
            "smoker": "Yes",
            "time": "Dinner",
            "tip": 4,
            "total_bill": 16.82
           },
           {
            "day": "Sun",
            "sex": "Male",
            "size": 2,
            "smoker": "Yes",
            "time": "Dinner",
            "tip": 3.11,
            "total_bill": 32.9
           },
           {
            "day": "Sun",
            "sex": "Male",
            "size": 2,
            "smoker": "Yes",
            "time": "Dinner",
            "tip": 2,
            "total_bill": 17.89
           },
           {
            "day": "Sun",
            "sex": "Male",
            "size": 2,
            "smoker": "Yes",
            "time": "Dinner",
            "tip": 2,
            "total_bill": 14.48
           },
           {
            "day": "Sun",
            "sex": "Female",
            "size": 2,
            "smoker": "Yes",
            "time": "Dinner",
            "tip": 4,
            "total_bill": 9.6
           },
           {
            "day": "Sun",
            "sex": "Male",
            "size": 2,
            "smoker": "Yes",
            "time": "Dinner",
            "tip": 3.55,
            "total_bill": 34.63
           },
           {
            "day": "Sun",
            "sex": "Male",
            "size": 4,
            "smoker": "Yes",
            "time": "Dinner",
            "tip": 3.68,
            "total_bill": 34.65
           },
           {
            "day": "Sun",
            "sex": "Male",
            "size": 2,
            "smoker": "Yes",
            "time": "Dinner",
            "tip": 5.65,
            "total_bill": 23.33
           },
           {
            "day": "Sun",
            "sex": "Male",
            "size": 3,
            "smoker": "Yes",
            "time": "Dinner",
            "tip": 3.5,
            "total_bill": 45.35
           },
           {
            "day": "Sun",
            "sex": "Male",
            "size": 4,
            "smoker": "Yes",
            "time": "Dinner",
            "tip": 6.5,
            "total_bill": 23.17
           },
           {
            "day": "Sun",
            "sex": "Male",
            "size": 2,
            "smoker": "Yes",
            "time": "Dinner",
            "tip": 3,
            "total_bill": 40.55
           },
           {
            "day": "Sun",
            "sex": "Male",
            "size": 5,
            "smoker": "No",
            "time": "Dinner",
            "tip": 5,
            "total_bill": 20.69
           },
           {
            "day": "Sun",
            "sex": "Female",
            "size": 3,
            "smoker": "Yes",
            "time": "Dinner",
            "tip": 3.5,
            "total_bill": 20.9
           },
           {
            "day": "Sun",
            "sex": "Male",
            "size": 5,
            "smoker": "Yes",
            "time": "Dinner",
            "tip": 2,
            "total_bill": 30.46
           },
           {
            "day": "Sun",
            "sex": "Female",
            "size": 3,
            "smoker": "Yes",
            "time": "Dinner",
            "tip": 3.5,
            "total_bill": 18.15
           },
           {
            "day": "Sun",
            "sex": "Male",
            "size": 3,
            "smoker": "Yes",
            "time": "Dinner",
            "tip": 4,
            "total_bill": 23.1
           },
           {
            "day": "Sun",
            "sex": "Male",
            "size": 2,
            "smoker": "Yes",
            "time": "Dinner",
            "tip": 1.5,
            "total_bill": 15.69
           },
           {
            "day": "Thur",
            "sex": "Female",
            "size": 2,
            "smoker": "Yes",
            "time": "Lunch",
            "tip": 4.19,
            "total_bill": 19.81
           },
           {
            "day": "Thur",
            "sex": "Male",
            "size": 2,
            "smoker": "Yes",
            "time": "Lunch",
            "tip": 2.56,
            "total_bill": 28.44
           },
           {
            "day": "Thur",
            "sex": "Male",
            "size": 2,
            "smoker": "Yes",
            "time": "Lunch",
            "tip": 2.02,
            "total_bill": 15.48
           },
           {
            "day": "Thur",
            "sex": "Male",
            "size": 2,
            "smoker": "Yes",
            "time": "Lunch",
            "tip": 4,
            "total_bill": 16.58
           },
           {
            "day": "Thur",
            "sex": "Male",
            "size": 2,
            "smoker": "No",
            "time": "Lunch",
            "tip": 1.44,
            "total_bill": 7.56
           },
           {
            "day": "Thur",
            "sex": "Male",
            "size": 2,
            "smoker": "Yes",
            "time": "Lunch",
            "tip": 2,
            "total_bill": 10.34
           },
           {
            "day": "Thur",
            "sex": "Female",
            "size": 4,
            "smoker": "Yes",
            "time": "Lunch",
            "tip": 5,
            "total_bill": 43.11
           },
           {
            "day": "Thur",
            "sex": "Female",
            "size": 2,
            "smoker": "Yes",
            "time": "Lunch",
            "tip": 2,
            "total_bill": 13
           },
           {
            "day": "Thur",
            "sex": "Male",
            "size": 2,
            "smoker": "Yes",
            "time": "Lunch",
            "tip": 2,
            "total_bill": 13.51
           },
           {
            "day": "Thur",
            "sex": "Male",
            "size": 3,
            "smoker": "Yes",
            "time": "Lunch",
            "tip": 4,
            "total_bill": 18.71
           },
           {
            "day": "Thur",
            "sex": "Female",
            "size": 2,
            "smoker": "Yes",
            "time": "Lunch",
            "tip": 2.01,
            "total_bill": 12.74
           },
           {
            "day": "Thur",
            "sex": "Female",
            "size": 2,
            "smoker": "Yes",
            "time": "Lunch",
            "tip": 2,
            "total_bill": 13
           },
           {
            "day": "Thur",
            "sex": "Female",
            "size": 2,
            "smoker": "Yes",
            "time": "Lunch",
            "tip": 2.5,
            "total_bill": 16.4
           },
           {
            "day": "Thur",
            "sex": "Male",
            "size": 4,
            "smoker": "Yes",
            "time": "Lunch",
            "tip": 4,
            "total_bill": 20.53
           },
           {
            "day": "Thur",
            "sex": "Female",
            "size": 3,
            "smoker": "Yes",
            "time": "Lunch",
            "tip": 3.23,
            "total_bill": 16.47
           },
           {
            "day": "Sat",
            "sex": "Male",
            "size": 3,
            "smoker": "Yes",
            "time": "Dinner",
            "tip": 3.41,
            "total_bill": 26.59
           },
           {
            "day": "Sat",
            "sex": "Male",
            "size": 4,
            "smoker": "Yes",
            "time": "Dinner",
            "tip": 3,
            "total_bill": 38.73
           },
           {
            "day": "Sat",
            "sex": "Male",
            "size": 2,
            "smoker": "Yes",
            "time": "Dinner",
            "tip": 2.03,
            "total_bill": 24.27
           },
           {
            "day": "Sat",
            "sex": "Female",
            "size": 2,
            "smoker": "Yes",
            "time": "Dinner",
            "tip": 2.23,
            "total_bill": 12.76
           },
           {
            "day": "Sat",
            "sex": "Male",
            "size": 3,
            "smoker": "Yes",
            "time": "Dinner",
            "tip": 2,
            "total_bill": 30.06
           },
           {
            "day": "Sat",
            "sex": "Male",
            "size": 4,
            "smoker": "Yes",
            "time": "Dinner",
            "tip": 5.16,
            "total_bill": 25.89
           },
           {
            "day": "Sat",
            "sex": "Male",
            "size": 4,
            "smoker": "No",
            "time": "Dinner",
            "tip": 9,
            "total_bill": 48.33
           },
           {
            "day": "Sat",
            "sex": "Female",
            "size": 2,
            "smoker": "Yes",
            "time": "Dinner",
            "tip": 2.5,
            "total_bill": 13.27
           },
           {
            "day": "Sat",
            "sex": "Female",
            "size": 3,
            "smoker": "Yes",
            "time": "Dinner",
            "tip": 6.5,
            "total_bill": 28.17
           },
           {
            "day": "Sat",
            "sex": "Female",
            "size": 2,
            "smoker": "Yes",
            "time": "Dinner",
            "tip": 1.1,
            "total_bill": 12.9
           },
           {
            "day": "Sat",
            "sex": "Male",
            "size": 5,
            "smoker": "Yes",
            "time": "Dinner",
            "tip": 3,
            "total_bill": 28.15
           },
           {
            "day": "Sat",
            "sex": "Male",
            "size": 2,
            "smoker": "Yes",
            "time": "Dinner",
            "tip": 1.5,
            "total_bill": 11.59
           },
           {
            "day": "Sat",
            "sex": "Male",
            "size": 2,
            "smoker": "Yes",
            "time": "Dinner",
            "tip": 1.44,
            "total_bill": 7.74
           },
           {
            "day": "Sat",
            "sex": "Female",
            "size": 4,
            "smoker": "Yes",
            "time": "Dinner",
            "tip": 3.09,
            "total_bill": 30.14
           },
           {
            "day": "Fri",
            "sex": "Male",
            "size": 2,
            "smoker": "Yes",
            "time": "Lunch",
            "tip": 2.2,
            "total_bill": 12.16
           },
           {
            "day": "Fri",
            "sex": "Female",
            "size": 2,
            "smoker": "Yes",
            "time": "Lunch",
            "tip": 3.48,
            "total_bill": 13.42
           },
           {
            "day": "Fri",
            "sex": "Male",
            "size": 1,
            "smoker": "Yes",
            "time": "Lunch",
            "tip": 1.92,
            "total_bill": 8.58
           },
           {
            "day": "Fri",
            "sex": "Female",
            "size": 3,
            "smoker": "No",
            "time": "Lunch",
            "tip": 3,
            "total_bill": 15.98
           },
           {
            "day": "Fri",
            "sex": "Male",
            "size": 2,
            "smoker": "Yes",
            "time": "Lunch",
            "tip": 1.58,
            "total_bill": 13.42
           },
           {
            "day": "Fri",
            "sex": "Female",
            "size": 2,
            "smoker": "Yes",
            "time": "Lunch",
            "tip": 2.5,
            "total_bill": 16.27
           },
           {
            "day": "Fri",
            "sex": "Female",
            "size": 2,
            "smoker": "Yes",
            "time": "Lunch",
            "tip": 2,
            "total_bill": 10.09
           },
           {
            "day": "Sat",
            "sex": "Male",
            "size": 4,
            "smoker": "No",
            "time": "Dinner",
            "tip": 3,
            "total_bill": 20.45
           },
           {
            "day": "Sat",
            "sex": "Male",
            "size": 2,
            "smoker": "No",
            "time": "Dinner",
            "tip": 2.72,
            "total_bill": 13.28
           },
           {
            "day": "Sat",
            "sex": "Female",
            "size": 2,
            "smoker": "Yes",
            "time": "Dinner",
            "tip": 2.88,
            "total_bill": 22.12
           },
           {
            "day": "Sat",
            "sex": "Male",
            "size": 4,
            "smoker": "Yes",
            "time": "Dinner",
            "tip": 2,
            "total_bill": 24.01
           },
           {
            "day": "Sat",
            "sex": "Male",
            "size": 3,
            "smoker": "Yes",
            "time": "Dinner",
            "tip": 3,
            "total_bill": 15.69
           },
           {
            "day": "Sat",
            "sex": "Male",
            "size": 2,
            "smoker": "No",
            "time": "Dinner",
            "tip": 3.39,
            "total_bill": 11.61
           },
           {
            "day": "Sat",
            "sex": "Male",
            "size": 2,
            "smoker": "No",
            "time": "Dinner",
            "tip": 1.47,
            "total_bill": 10.77
           },
           {
            "day": "Sat",
            "sex": "Male",
            "size": 2,
            "smoker": "Yes",
            "time": "Dinner",
            "tip": 3,
            "total_bill": 15.53
           },
           {
            "day": "Sat",
            "sex": "Male",
            "size": 2,
            "smoker": "No",
            "time": "Dinner",
            "tip": 1.25,
            "total_bill": 10.07
           },
           {
            "day": "Sat",
            "sex": "Male",
            "size": 2,
            "smoker": "Yes",
            "time": "Dinner",
            "tip": 1,
            "total_bill": 12.6
           },
           {
            "day": "Sat",
            "sex": "Male",
            "size": 2,
            "smoker": "Yes",
            "time": "Dinner",
            "tip": 1.17,
            "total_bill": 32.83
           },
           {
            "day": "Sat",
            "sex": "Female",
            "size": 3,
            "smoker": "No",
            "time": "Dinner",
            "tip": 4.67,
            "total_bill": 35.83
           },
           {
            "day": "Sat",
            "sex": "Male",
            "size": 3,
            "smoker": "No",
            "time": "Dinner",
            "tip": 5.92,
            "total_bill": 29.03
           },
           {
            "day": "Sat",
            "sex": "Female",
            "size": 2,
            "smoker": "Yes",
            "time": "Dinner",
            "tip": 2,
            "total_bill": 27.18
           },
           {
            "day": "Sat",
            "sex": "Male",
            "size": 2,
            "smoker": "Yes",
            "time": "Dinner",
            "tip": 2,
            "total_bill": 22.67
           },
           {
            "day": "Sat",
            "sex": "Male",
            "size": 2,
            "smoker": "No",
            "time": "Dinner",
            "tip": 1.75,
            "total_bill": 17.82
           },
           {
            "day": "Thur",
            "sex": "Female",
            "size": 2,
            "smoker": "No",
            "time": "Dinner",
            "tip": 3,
            "total_bill": 18.78
           }
          ]
         },
         "encoding": {
          "x": {
           "axis": {
            "title": "total_bill"
           },
           "field": "total_bill",
           "scale": {
            "domain": [
             0.6829999999999998,
             53.197
            ],
            "nice": false
           },
           "type": "quantitative"
          },
          "y": {
           "axis": {
            "title": "tip"
           },
           "field": "tip",
           "type": "quantitative"
          }
         },
         "mark": {
          "clip": true,
          "type": "circle"
         }
        },
        {
         "data": {
          "values": [
           {
            "x": 0.6829999999999998,
            "y": 0.9920013589281866
           },
           {
            "x": 1.2134444444444443,
            "y": 1.0477110307051758
           },
           {
            "x": 1.7438888888888888,
            "y": 1.1034207024821652
           },
           {
            "x": 2.2743333333333333,
            "y": 1.1591303742591543
           },
           {
            "x": 2.804777777777778,
            "y": 1.2148400460361435
           },
           {
            "x": 3.3352222222222223,
            "y": 1.2705497178131329
           },
           {
            "x": 3.865666666666667,
            "y": 1.326259389590122
           },
           {
            "x": 4.396111111111111,
            "y": 1.3819690613671112
           },
           {
            "x": 4.926555555555556,
            "y": 1.4376787331441006
           },
           {
            "x": 5.457000000000001,
            "y": 1.4933884049210897
           },
           {
            "x": 5.987444444444445,
            "y": 1.5490980766980789
           },
           {
            "x": 6.517888888888889,
            "y": 1.604807748475068
           },
           {
            "x": 7.048333333333334,
            "y": 1.6605174202520572
           },
           {
            "x": 7.578777777777779,
            "y": 1.7162270920290466
           },
           {
            "x": 8.109222222222222,
            "y": 1.7719367638060357
           },
           {
            "x": 8.639666666666667,
            "y": 1.8276464355830249
           },
           {
            "x": 9.170111111111112,
            "y": 1.8833561073600142
           },
           {
            "x": 9.700555555555557,
            "y": 1.9390657791370034
           },
           {
            "x": 10.231000000000002,
            "y": 1.9947754509139928
           },
           {
            "x": 10.761444444444445,
            "y": 2.050485122690982
           },
           {
            "x": 11.29188888888889,
            "y": 2.106194794467971
           },
           {
            "x": 11.822333333333335,
            "y": 2.1619044662449607
           },
           {
            "x": 12.352777777777778,
            "y": 2.2176141380219496
           },
           {
            "x": 12.883222222222223,
            "y": 2.2733238097989386
           },
           {
            "x": 13.413666666666668,
            "y": 2.329033481575928
           },
           {
            "x": 13.944111111111113,
            "y": 2.3847431533529173
           },
           {
            "x": 14.474555555555558,
            "y": 2.4404528251299062
           },
           {
            "x": 15.005,
            "y": 2.4961624969068956
           },
           {
            "x": 15.535444444444446,
            "y": 2.551872168683885
           },
           {
            "x": 16.065888888888892,
            "y": 2.6075818404608744
           },
           {
            "x": 16.596333333333334,
            "y": 2.6632915122378633
           },
           {
            "x": 17.12677777777778,
            "y": 2.7190011840148527
           },
           {
            "x": 17.657222222222224,
            "y": 2.7747108557918416
           },
           {
            "x": 18.18766666666667,
            "y": 2.830420527568831
           },
           {
            "x": 18.718111111111114,
            "y": 2.8861301993458204
           },
           {
            "x": 19.24855555555556,
            "y": 2.9418398711228093
           },
           {
            "x": 19.779000000000003,
            "y": 2.997549542899799
           },
           {
            "x": 20.309444444444445,
            "y": 3.053259214676788
           },
           {
            "x": 20.83988888888889,
            "y": 3.108968886453777
           },
           {
            "x": 21.370333333333335,
            "y": 3.164678558230766
           },
           {
            "x": 21.90077777777778,
            "y": 3.2203882300077558
           },
           {
            "x": 22.431222222222225,
            "y": 3.2760979017847447
           },
           {
            "x": 22.96166666666667,
            "y": 3.3318075735617345
           },
           {
            "x": 23.492111111111114,
            "y": 3.3875172453387234
           },
           {
            "x": 24.022555555555556,
            "y": 3.4432269171157124
           },
           {
            "x": 24.553,
            "y": 3.4989365888927013
           },
           {
            "x": 25.083444444444446,
            "y": 3.554646260669691
           },
           {
            "x": 25.61388888888889,
            "y": 3.61035593244668
           },
           {
            "x": 26.144333333333336,
            "y": 3.666065604223669
           },
           {
            "x": 26.67477777777778,
            "y": 3.721775276000659
           },
           {
            "x": 27.205222222222226,
            "y": 3.7774849477776478
           },
           {
            "x": 27.73566666666667,
            "y": 3.8331946195546376
           },
           {
            "x": 28.266111111111115,
            "y": 3.8889042913316265
           },
           {
            "x": 28.796555555555557,
            "y": 3.9446139631086155
           },
           {
            "x": 29.327,
            "y": 4.000323634885604
           },
           {
            "x": 29.857444444444447,
            "y": 4.056033306662594
           },
           {
            "x": 30.38788888888889,
            "y": 4.111742978439583
           },
           {
            "x": 30.918333333333337,
            "y": 4.167452650216572
           },
           {
            "x": 31.44877777777778,
            "y": 4.223162321993562
           },
           {
            "x": 31.979222222222226,
            "y": 4.278871993770551
           },
           {
            "x": 32.50966666666667,
            "y": 4.33458166554754
           },
           {
            "x": 33.040111111111116,
            "y": 4.39029133732453
           },
           {
            "x": 33.57055555555556,
            "y": 4.4460010091015185
           },
           {
            "x": 34.101000000000006,
            "y": 4.501710680878508
           },
           {
            "x": 34.63144444444445,
            "y": 4.557420352655497
           },
           {
            "x": 35.16188888888889,
            "y": 4.613130024432486
           },
           {
            "x": 35.69233333333334,
            "y": 4.668839696209475
           },
           {
            "x": 36.22277777777778,
            "y": 4.724549367986464
           },
           {
            "x": 36.75322222222223,
            "y": 4.780259039763454
           },
           {
            "x": 37.28366666666667,
            "y": 4.835968711540443
           },
           {
            "x": 37.81411111111112,
            "y": 4.891678383317433
           },
           {
            "x": 38.34455555555556,
            "y": 4.947388055094422
           },
           {
            "x": 38.87500000000001,
            "y": 5.0030977268714105
           },
           {
            "x": 39.40544444444445,
            "y": 5.0588073986483995
           },
           {
            "x": 39.93588888888889,
            "y": 5.114517070425388
           },
           {
            "x": 40.46633333333334,
            "y": 5.170226742202378
           },
           {
            "x": 40.99677777777778,
            "y": 5.225936413979367
           },
           {
            "x": 41.52722222222223,
            "y": 5.281646085756357
           },
           {
            "x": 42.05766666666667,
            "y": 5.337355757533346
           },
           {
            "x": 42.58811111111112,
            "y": 5.393065429310336
           },
           {
            "x": 43.11855555555556,
            "y": 5.448775101087325
           },
           {
            "x": 43.649,
            "y": 5.504484772864314
           },
           {
            "x": 44.17944444444445,
            "y": 5.5601944446413025
           },
           {
            "x": 44.70988888888889,
            "y": 5.6159041164182915
           },
           {
            "x": 45.24033333333334,
            "y": 5.671613788195281
           },
           {
            "x": 45.77077777777778,
            "y": 5.72732345997227
           },
           {
            "x": 46.30122222222223,
            "y": 5.78303313174926
           },
           {
            "x": 46.83166666666667,
            "y": 5.838742803526249
           },
           {
            "x": 47.36211111111111,
            "y": 5.894452475303238
           },
           {
            "x": 47.89255555555556,
            "y": 5.950162147080228
           },
           {
            "x": 48.423,
            "y": 6.005871818857217
           },
           {
            "x": 48.95344444444445,
            "y": 6.061581490634206
           },
           {
            "x": 49.48388888888889,
            "y": 6.1172911624111945
           },
           {
            "x": 50.01433333333334,
            "y": 6.173000834188184
           },
           {
            "x": 50.54477777777778,
            "y": 6.228710505965173
           },
           {
            "x": 51.07522222222223,
            "y": 6.284420177742163
           },
           {
            "x": 51.60566666666667,
            "y": 6.340129849519152
           },
           {
            "x": 52.13611111111111,
            "y": 6.395839521296141
           },
           {
            "x": 52.66655555555556,
            "y": 6.451549193073131
           },
           {
            "x": 53.197,
            "y": 6.50725886485012
           }
          ]
         },
         "encoding": {
          "x": {
           "field": "x",
           "scale": {
            "domain": [
             0.6829999999999998,
             53.197
            ],
            "nice": false
           },
           "type": "quantitative"
          },
          "y": {
           "field": "y",
           "type": "quantitative"
          }
         },
         "mark": {
          "clip": true,
          "type": "line"
         }
        },
        {
         "data": {
          "values": [
           {
            "x": 0.6829999999999998,
            "y1": 0.5984903965275713,
            "y2": 1.3589368663289036
           },
           {
            "x": 1.2134444444444443,
            "y1": 0.6654052717976012,
            "y2": 1.4041195297357576
           },
           {
            "x": 1.7438888888888888,
            "y1": 0.7332364460211064,
            "y2": 1.4492395306517094
           },
           {
            "x": 2.2743333333333333,
            "y1": 0.7999487759026058,
            "y2": 1.4946280660981917
           },
           {
            "x": 2.804777777777778,
            "y1": 0.867324595178739,
            "y2": 1.5380968305500518
           },
           {
            "x": 3.3352222222222223,
            "y1": 0.9347079522873358,
            "y2": 1.5823800323063768
           },
           {
            "x": 3.865666666666667,
            "y1": 1.0020913093959327,
            "y2": 1.627772592442461
           },
           {
            "x": 4.396111111111111,
            "y1": 1.0694746665045294,
            "y2": 1.6731651525785454
           },
           {
            "x": 4.926555555555556,
            "y1": 1.1356688741319532,
            "y2": 1.7185577127146299
           },
           {
            "x": 5.457000000000001,
            "y1": 1.2015503169693733,
            "y2": 1.7639502728507144
           },
           {
            "x": 5.987444444444445,
            "y1": 1.2697010886588798,
            "y2": 1.8104938158145318
           },
           {
            "x": 6.517888888888889,
            "y1": 1.335606499120255,
            "y2": 1.855670892722631
           },
           {
            "x": 7.048333333333334,
            "y1": 1.4014605043117743,
            "y2": 1.9008694640732502
           },
           {
            "x": 7.578777777777779,
            "y1": 1.468305427637312,
            "y2": 1.9459984347411186
           },
           {
            "x": 8.109222222222222,
            "y1": 1.5365284716961507,
            "y2": 1.992998063747969
           },
           {
            "x": 8.639666666666667,
            "y1": 1.6048026459287488,
            "y2": 2.0406577669589554
           },
           {
            "x": 9.170111111111112,
            "y1": 1.673061026405407,
            "y2": 2.0883174701699416
           },
           {
            "x": 9.700555555555557,
            "y1": 1.7413225428614811,
            "y2": 2.1359496074595765
           },
           {
            "x": 10.231000000000002,
            "y1": 1.807047494850679,
            "y2": 2.183596102215689
           },
           {
            "x": 10.761444444444445,
            "y1": 1.8732935693065609,
            "y2": 2.2301710760212594
           },
           {
            "x": 11.29188888888889,
            "y1": 1.9392827000149326,
            "y2": 2.275856973114258
           },
           {
            "x": 11.822333333333335,
            "y1": 2.005187482771523,
            "y2": 2.323703200003617
           },
           {
            "x": 12.352777777777778,
            "y1": 2.0718621517433156,
            "y2": 2.3681250392260056
           },
           {
            "x": 12.883222222222223,
            "y1": 2.1379027065109346,
            "y2": 2.417316944368303
           },
           {
            "x": 13.413666666666668,
            "y1": 2.2041123431123375,
            "y2": 2.4641833994247153
           },
           {
            "x": 13.944111111111113,
            "y1": 2.2707041768183243,
            "y2": 2.513884305136255
           },
           {
            "x": 14.474555555555558,
            "y1": 2.3286600477929493,
            "y2": 2.5637428067487917
           },
           {
            "x": 15.005,
            "y1": 2.3885825644268506,
            "y2": 2.611851353303883
           },
           {
            "x": 15.535444444444446,
            "y1": 2.4455550055122526,
            "y2": 2.664444901650424
           },
           {
            "x": 16.065888888888892,
            "y1": 2.501352900490627,
            "y2": 2.715815242546411
           },
           {
            "x": 16.596333333333334,
            "y1": 2.5554712018957373,
            "y2": 2.76962439571695
           },
           {
            "x": 17.12677777777778,
            "y1": 2.609684532507725,
            "y2": 2.8258333701896476
           },
           {
            "x": 17.657222222222224,
            "y1": 2.6640481909765668,
            "y2": 2.8818185731238772
           },
           {
            "x": 18.18766666666667,
            "y1": 2.7185914987710915,
            "y2": 2.9428584918070393
           },
           {
            "x": 18.718111111111114,
            "y1": 2.7708128944692856,
            "y2": 3.0017048719142103
           },
           {
            "x": 19.24855555555556,
            "y1": 2.8192915371429956,
            "y2": 3.065138765843769
           },
           {
            "x": 19.779000000000003,
            "y1": 2.867274186013523,
            "y2": 3.1309474698784885
           },
           {
            "x": 20.309444444444445,
            "y1": 2.9148691370781203,
            "y2": 3.196117833873631
           },
           {
            "x": 20.83988888888889,
            "y1": 2.960593264850396,
            "y2": 3.260560035696989
           },
           {
            "x": 21.370333333333335,
            "y1": 3.006062105437037,
            "y2": 3.323790115616831
           },
           {
            "x": 21.90077777777778,
            "y1": 3.0519501843425982,
            "y2": 3.3856801502455873
           },
           {
            "x": 22.431222222222225,
            "y1": 3.0972150543877035,
            "y2": 3.452355561185454
           },
           {
            "x": 22.96166666666667,
            "y1": 3.142542681198973,
            "y2": 3.519976753143143
           },
           {
            "x": 23.492111111111114,
            "y1": 3.1881193343326335,
            "y2": 3.5874571147112215
           },
           {
            "x": 24.022555555555556,
            "y1": 3.23600710483031,
            "y2": 3.6545470017759123
           },
           {
            "x": 24.553,
            "y1": 3.282235178866755,
            "y2": 3.719102574479903
           },
           {
            "x": 25.083444444444446,
            "y1": 3.327084271590871,
            "y2": 3.783038187592621
           },
           {
            "x": 25.61388888888889,
            "y1": 3.3738266528213052,
            "y2": 3.850689126876735
           },
           {
            "x": 26.144333333333336,
            "y1": 3.420077610074216,
            "y2": 3.917941445035731
           },
           {
            "x": 26.67477777777778,
            "y1": 3.464978213982916,
            "y2": 3.9835667807177826
           },
           {
            "x": 27.205222222222226,
            "y1": 3.507964612790218,
            "y2": 4.049668327120876
           },
           {
            "x": 27.73566666666667,
            "y1": 3.5518082498206294,
            "y2": 4.118201677412318
           },
           {
            "x": 28.266111111111115,
            "y1": 3.5960774526168677,
            "y2": 4.186814198541538
           },
           {
            "x": 28.796555555555557,
            "y1": 3.6406351018962146,
            "y2": 4.255329140740541
           },
           {
            "x": 29.327,
            "y1": 3.683308553073771,
            "y2": 4.32389811047706
           },
           {
            "x": 29.857444444444447,
            "y1": 3.7257265986480776,
            "y2": 4.392487447839538
           },
           {
            "x": 30.38788888888889,
            "y1": 3.770007335479654,
            "y2": 4.461026417793186
           },
           {
            "x": 30.918333333333337,
            "y1": 3.8143202450143177,
            "y2": 4.529476500862823
           },
           {
            "x": 31.44877777777778,
            "y1": 3.858657189093036,
            "y2": 4.597376335907258
           },
           {
            "x": 31.979222222222226,
            "y1": 3.902994133171754,
            "y2": 4.665276170951694
           },
           {
            "x": 32.50966666666667,
            "y1": 3.9481970155546504,
            "y2": 4.733165410933708
           },
           {
            "x": 33.040111111111116,
            "y1": 3.993540614866409,
            "y2": 4.801248630039975
           },
           {
            "x": 33.57055555555556,
            "y1": 4.038860073519845,
            "y2": 4.86988943591518
           },
           {
            "x": 34.101000000000006,
            "y1": 4.084175609805923,
            "y2": 4.937435249576487
           },
           {
            "x": 34.63144444444445,
            "y1": 4.127853078150391,
            "y2": 5.004977264085412
           },
           {
            "x": 35.16188888888889,
            "y1": 4.171449530330942,
            "y2": 5.0726751812183135
           },
           {
            "x": 35.69233333333334,
            "y1": 4.216375570055003,
            "y2": 5.14057501626275
           },
           {
            "x": 36.22277777777778,
            "y1": 4.261342928292998,
            "y2": 5.208474851307187
           },
           {
            "x": 36.75322222222223,
            "y1": 4.306310532741515,
            "y2": 5.276374686351624
           },
           {
            "x": 37.28366666666667,
            "y1": 4.3512781371900315,
            "y2": 5.34427452139606
           },
           {
            "x": 37.81411111111112,
            "y1": 4.396245741638549,
            "y2": 5.412156623324727
           },
           {
            "x": 38.34455555555556,
            "y1": 4.441213346087066,
            "y2": 5.480024483950898
           },
           {
            "x": 38.87500000000001,
            "y1": 4.486180950535583,
            "y2": 5.547892344577069
           },
           {
            "x": 39.40544444444445,
            "y1": 4.530162237924457,
            "y2": 5.615760205203238
           },
           {
            "x": 39.93588888888889,
            "y1": 4.57397756090683,
            "y2": 5.683628065829409
           },
           {
            "x": 40.46633333333334,
            "y1": 4.6182674343517895,
            "y2": 5.751495926455578
           },
           {
            "x": 40.99677777777778,
            "y1": 4.665530183376139,
            "y2": 5.819361597277714
           },
           {
            "x": 41.52722222222223,
            "y1": 4.710073698975552,
            "y2": 5.887136274137935
           },
           {
            "x": 42.05766666666667,
            "y1": 4.754617214574964,
            "y2": 5.951156031590741
           },
           {
            "x": 42.58811111111112,
            "y1": 4.7991607301743775,
            "y2": 6.017433835565603
           },
           {
            "x": 43.11855555555556,
            "y1": 4.8437042457737896,
            "y2": 6.084939146868487
           },
           {
            "x": 43.649,
            "y1": 4.8882477613732025,
            "y2": 6.152805460889701
           },
           {
            "x": 44.17944444444445,
            "y1": 4.932791276972615,
            "y2": 6.2215605577597355
           },
           {
            "x": 44.70988888888889,
            "y1": 4.9770126232218646,
            "y2": 6.29031565462977
           },
           {
            "x": 45.24033333333334,
            "y1": 5.018756687412798,
            "y2": 6.359104239118363
           },
           {
            "x": 45.77077777777778,
            "y1": 5.060500804588025,
            "y2": 6.428167405841416
           },
           {
            "x": 46.30122222222223,
            "y1": 5.10225942128425,
            "y2": 6.4969268006710825
           },
           {
            "x": 46.83166666666667,
            "y1": 5.144020251381924,
            "y2": 6.565336042109907
           },
           {
            "x": 47.36211111111111,
            "y1": 5.188404250525773,
            "y2": 6.633843089816305
           },
           {
            "x": 47.89255555555556,
            "y1": 5.2330118162445585,
            "y2": 6.701748139239944
           },
           {
            "x": 48.423,
            "y1": 5.277619381963344,
            "y2": 6.769653188663582
           },
           {
            "x": 48.95344444444445,
            "y1": 5.322226947682131,
            "y2": 6.837558238087221
           },
           {
            "x": 49.48388888888889,
            "y1": 5.366834513400916,
            "y2": 6.905463287510859
           },
           {
            "x": 50.01433333333334,
            "y1": 5.411442079119703,
            "y2": 6.973368336934498
           },
           {
            "x": 50.54477777777778,
            "y1": 5.456049644838488,
            "y2": 7.041273386358136
           },
           {
            "x": 51.07522222222223,
            "y1": 5.500657210557274,
            "y2": 7.109178435781774
           },
           {
            "x": 51.60566666666667,
            "y1": 5.545264776276059,
            "y2": 7.177083485205412
           },
           {
            "x": 52.13611111111111,
            "y1": 5.589872341994845,
            "y2": 7.244988534629051
           },
           {
            "x": 52.66655555555556,
            "y1": 5.634479907713629,
            "y2": 7.31289358405269
           },
           {
            "x": 53.197,
            "y1": 5.679087473432416,
            "y2": 7.380798633476328
           }
          ]
         },
         "encoding": {
          "opacity": {
           "value": 0.15
          },
          "x": {
           "field": "x",
           "scale": {
            "domain": [
             0.6829999999999998,
             53.197
            ],
            "nice": false
           },
           "type": "quantitative"
          },
          "y": {
           "field": "y1",
           "type": "quantitative"
          },
          "y2": {
           "field": "y2",
           "type": "quantitative"
          }
         },
         "mark": {
          "clip": true,
          "type": "area"
         }
        }
       ]
      },
      "image/png": "[encoded data removed]",
      "text/plain": [
       "<VegaLite 2 object>\n",
       "\n",
       "If you see this message, it means the renderer has not been properly enabled\n",
       "for the frontend that you are using. For more information, see\n",
       "https://altair-viz.github.io/user_guide/troubleshooting.html\n"
      ]
     },
     "metadata": {},
     "output_type": "display_data"
    },
    {
     "data": {
      "image/png": "[encoded data removed]",
      "text/plain": [
       "<Figure size 432x288 with 1 Axes>"
      ]
     },
     "metadata": {},
     "output_type": "display_data"
    }
   ],
   "source": [
    "display(salt.regplot(x=\"total_bill\", y=\"tip\", data=tips))\n",
    "ax = sns.regplot(x=\"total_bill\", y=\"tip\", data=tips)"
   ]
  },
  {
   "cell_type": "code",
   "execution_count": 3,
   "metadata": {},
   "outputs": [
    {
     "data": {
      "application/vnd.vegalite.v2+json": {
       "$schema": "https://vega.github.io/schema/vega-lite/v2.4.1.json",
       "config": {
        "view": {
         "height": 300,
         "width": 400
        }
       },
       "layer": [
        {
         "data": {
          "values": [
           {
            "x": 3.4472674554489933,
            "y": 6.560795467069294
           },
           {
            "x": 6.815394473302423,
            "y": 6.776794171190588
           },
           {
            "x": 5.66215268077373,
            "y": 9.269895775730852
           },
           {
            "x": 1.10199746695202,
            "y": 5.877505549882242
           },
           {
            "x": 2.6823407023383963,
            "y": 5.921712471786477
           },
           {
            "x": 4.579951810500943,
            "y": 8.07752124436234
           },
           {
            "x": 5.5686755094443665,
            "y": 6.527216803606146
           },
           {
            "x": 4.761248694293739,
            "y": 5.847107897849393
           },
           {
            "x": 3.1026613143490045,
            "y": 5.166651287851882
           },
           {
            "x": 4.161327511622201,
            "y": 5.932004865793139
           },
           {
            "x": 2.6945072882422347,
            "y": 4.551444324681174
           },
           {
            "x": 4.027212708532483,
            "y": 6.388452058219906
           },
           {
            "x": 6.097850892652345,
            "y": 7.057316063081337
           },
           {
            "x": 2.9038640911201643,
            "y": 6.243036716266349
           },
           {
            "x": 4.089300583005972,
            "y": 5.477010974420871
           },
           {
            "x": 2.426053246358793,
            "y": 4.697938571532598
           },
           {
            "x": 3.889319435921919,
            "y": 6.080430184591791
           },
           {
            "x": 4.29469192018264,
            "y": 5.736063492812075
           },
           {
            "x": 3.929912129728125,
            "y": 4.9364521816290505
           },
           {
            "x": 4.745610057303384,
            "y": 6.16966046755525
           },
           {
            "x": 5.043644011671976,
            "y": 6.809069556103301
           },
           {
            "x": 3.8031927030152683,
            "y": 5.927096490864416
           },
           {
            "x": 3.953750213453688,
            "y": 6.447101097563419
           },
           {
            "x": 1.623204711192729,
            "y": 5.201158665940514
           },
           {
            "x": 7.150634084889576,
            "y": 9.212647014098156
           },
           {
            "x": 6.887385568768748,
            "y": 6.4854992503284326
           },
           {
            "x": 4.406533477331993,
            "y": 5.109991390442655
           },
           {
            "x": 1.920835293378265,
            "y": 5.141708184892615
           },
           {
            "x": 5.610286582288403,
            "y": 5.703815250335597
           },
           {
            "x": 3.1161098721088,
            "y": 6.443828667573446
           },
           {
            "x": 3.1194305599779657,
            "y": 7.013824314773961
           },
           {
            "x": 3.0566188039614217,
            "y": 6.030413348398504
           },
           {
            "x": 4.198242505508103,
            "y": 6.468854553418389
           },
           {
            "x": 5.034612710816454,
            "y": 5.086957228808459
           },
           {
            "x": 1.2067839802540323,
            "y": 3.90368060821833
           },
           {
            "x": 3.320995252344087,
            "y": 6.680065073085915
           },
           {
            "x": 3.7851643576672553,
            "y": 6.036245843671338
           },
           {
            "x": 3.976898280871597,
            "y": 4.981168456864824
           },
           {
            "x": 2.0925016399126606,
            "y": 4.969713056368721
           },
           {
            "x": 4.323565164242741,
            "y": 7.038104438610642
           },
           {
            "x": 3.978991438404368,
            "y": 5.15602925051924
           },
           {
            "x": 3.8244053937331137,
            "y": 5.876807985025687
           },
           {
            "x": 3.4596768757290515,
            "y": 5.945608741828876
           },
           {
            "x": 3.6686002302530643,
            "y": 4.72075736532541
           },
           {
            "x": 4.3762474004130905,
            "y": 5.462717986891764
           },
           {
            "x": 3.973366756044712,
            "y": 4.821581907934301
           },
           {
            "x": 6.706866650871843,
            "y": 7.527838268707506
           },
           {
            "x": 0.5912217306917902,
            "y": 4.599288484028882
           },
           {
            "x": 2.883067684346313,
            "y": 7.377964038820475
           },
           {
            "x": 4.300654535002846,
            "y": 6.049717712997151
           },
           {
            "x": 2.888548739009826,
            "y": 5.484412135578667
           },
           {
            "x": 4.275621262348634,
            "y": 5.78595114602522
           },
           {
            "x": 3.643901259716146,
            "y": 6.665690855931951
           },
           {
            "x": 5.7856084053557115,
            "y": 6.6760085965257865
           },
           {
            "x": 1.4139957830763068,
            "y": 6.381962973520549
           },
           {
            "x": 5.9580237487755525,
            "y": 7.732577056150008
           },
           {
            "x": 2.2075553396080507,
            "y": 4.542862939464893
           },
           {
            "x": 4.157467102726203,
            "y": 7.192688269458512
           },
           {
            "x": 4.935076831004592,
            "y": 6.029630302413066
           },
           {
            "x": 5.229570201851718,
            "y": 5.65605168689913
           },
           {
            "x": 6.291027164694992,
            "y": 8.619477658968647
           },
           {
            "x": 1.9600690857155536,
            "y": 4.757299722395388
           },
           {
            "x": 4.0277993836535515,
            "y": 6.454694399613655
           },
           {
            "x": 4.926781048375288,
            "y": 5.129336854507772
           },
           {
            "x": 5.222939339331523,
            "y": 7.231269108010916
           },
           {
            "x": 5.086953515510995,
            "y": 5.410526138584457
           },
           {
            "x": 5.271834084706491,
            "y": 7.7226358808383235
           },
           {
            "x": 5.295545243081503,
            "y": 7.9030109149751695
           },
           {
            "x": 3.8516262161928845,
            "y": 5.023013397436345
           },
           {
            "x": 4.302678000317347,
            "y": 6.351003217013041
           },
           {
            "x": 3.478794851245506,
            "y": 5.855156320617591
           },
           {
            "x": 1.9740230822003961,
            "y": 5.379728630641883
           },
           {
            "x": 4.6595730125374075,
            "y": 6.315408740352355
           },
           {
            "x": 5.265059963218892,
            "y": 6.436174108630501
           },
           {
            "x": 4.876900605149631,
            "y": 4.574330435706004
           },
           {
            "x": 3.903905058802349,
            "y": 5.891891024261857
           },
           {
            "x": 4.821049644740702,
            "y": 5.441860888028762
           },
           {
            "x": 4.978553783565133,
            "y": 6.023885473155691
           },
           {
            "x": 5.068359295478876,
            "y": 4.6328842181730705
           },
           {
            "x": 4.188174732829357,
            "y": 6.54419845556333
           }
          ]
         },
         "encoding": {
          "color": {
           "value": "rgba(85.0,168.0,104.0,1)"
          },
          "x": {
           "axis": {
            "title": "x"
           },
           "field": "x",
           "scale": {
            "domain": [
             0.26325111298190085,
             7.4786047025994655
            ],
            "nice": false
           },
           "type": "quantitative"
          },
          "y": {
           "axis": {
            "title": "y"
           },
           "field": "y",
           "type": "quantitative"
          }
         },
         "mark": {
          "clip": true,
          "type": "circle"
         }
        },
        {
         "data": {
          "values": [
           {
            "x": 0.26325111298190085,
            "y": 4.467765095897596
           },
           {
            "x": 0.33613347247298736,
            "y": 4.498313310462624
           },
           {
            "x": 0.4090158319640739,
            "y": 4.528861525027652
           },
           {
            "x": 0.4818981914551604,
            "y": 4.55940973959268
           },
           {
            "x": 0.5547805509462469,
            "y": 4.589957954157708
           },
           {
            "x": 0.6276629104373335,
            "y": 4.620506168722736
           },
           {
            "x": 0.7005452699284199,
            "y": 4.6510543832877635
           },
           {
            "x": 0.7734276294195064,
            "y": 4.681602597852792
           },
           {
            "x": 0.846309988910593,
            "y": 4.7121508124178195
           },
           {
            "x": 0.9191923484016795,
            "y": 4.742699026982848
           },
           {
            "x": 0.992074707892766,
            "y": 4.7732472415478755
           },
           {
            "x": 1.0649570673838524,
            "y": 4.803795456112903
           },
           {
            "x": 1.137839426874939,
            "y": 4.8343436706779315
           },
           {
            "x": 1.2107217863660256,
            "y": 4.864891885242959
           },
           {
            "x": 1.283604145857112,
            "y": 4.895440099807987
           },
           {
            "x": 1.3564865053481985,
            "y": 4.925988314373015
           },
           {
            "x": 1.429368864839285,
            "y": 4.956536528938043
           },
           {
            "x": 1.5022512243303716,
            "y": 4.987084743503071
           },
           {
            "x": 1.5751335838214582,
            "y": 5.0176329580680985
           },
           {
            "x": 1.6480159433125445,
            "y": 5.048181172633127
           },
           {
            "x": 1.720898302803631,
            "y": 5.0787293871981545
           },
           {
            "x": 1.7937806622947177,
            "y": 5.109277601763183
           },
           {
            "x": 1.866663021785804,
            "y": 5.1398258163282105
           },
           {
            "x": 1.9395453812768906,
            "y": 5.170374030893239
           },
           {
            "x": 2.0124277407679774,
            "y": 5.200922245458266
           },
           {
            "x": 2.085310100259064,
            "y": 5.231470460023295
           },
           {
            "x": 2.1581924597501505,
            "y": 5.262018674588322
           },
           {
            "x": 2.2310748192412366,
            "y": 5.29256688915335
           },
           {
            "x": 2.3039571787323228,
            "y": 5.323115103718378
           },
           {
            "x": 2.3768395382234093,
            "y": 5.353663318283406
           },
           {
            "x": 2.449721897714496,
            "y": 5.384211532848434
           },
           {
            "x": 2.5226042572055825,
            "y": 5.414759747413462
           },
           {
            "x": 2.595486616696669,
            "y": 5.445307961978489
           },
           {
            "x": 2.6683689761877556,
            "y": 5.475856176543518
           },
           {
            "x": 2.741251335678842,
            "y": 5.506404391108546
           },
           {
            "x": 2.8141336951699287,
            "y": 5.536952605673574
           },
           {
            "x": 2.8870160546610153,
            "y": 5.567500820238601
           },
           {
            "x": 2.959898414152102,
            "y": 5.59804903480363
           },
           {
            "x": 3.0327807736431884,
            "y": 5.628597249368657
           },
           {
            "x": 3.105663133134275,
            "y": 5.659145463933686
           },
           {
            "x": 3.1785454926253616,
            "y": 5.689693678498713
           },
           {
            "x": 3.251427852116448,
            "y": 5.720241893063742
           },
           {
            "x": 3.3243102116075347,
            "y": 5.750790107628769
           },
           {
            "x": 3.3971925710986213,
            "y": 5.781338322193798
           },
           {
            "x": 3.470074930589707,
            "y": 5.811886536758825
           },
           {
            "x": 3.5429572900807935,
            "y": 5.842434751323853
           },
           {
            "x": 3.61583964957188,
            "y": 5.87298296588888
           },
           {
            "x": 3.6887220090629667,
            "y": 5.903531180453909
           },
           {
            "x": 3.7616043685540532,
            "y": 5.934079395018937
           },
           {
            "x": 3.83448672804514,
            "y": 5.964627609583965
           },
           {
            "x": 3.9073690875362264,
            "y": 5.995175824148992
           },
           {
            "x": 3.980251447027313,
            "y": 6.025724038714021
           },
           {
            "x": 4.0531338065183995,
            "y": 6.056272253279049
           },
           {
            "x": 4.126016166009486,
            "y": 6.086820467844077
           },
           {
            "x": 4.198898525500573,
            "y": 6.117368682409104
           },
           {
            "x": 4.271780884991659,
            "y": 6.147916896974133
           },
           {
            "x": 4.344663244482745,
            "y": 6.17846511153916
           },
           {
            "x": 4.4175456039738314,
            "y": 6.209013326104188
           },
           {
            "x": 4.490427963464918,
            "y": 6.239561540669216
           },
           {
            "x": 4.563310322956005,
            "y": 6.270109755234244
           },
           {
            "x": 4.636192682447091,
            "y": 6.300657969799272
           },
           {
            "x": 4.709075041938178,
            "y": 6.3312061843643
           },
           {
            "x": 4.781957401429264,
            "y": 6.361754398929328
           },
           {
            "x": 4.854839760920351,
            "y": 6.392302613494356
           },
           {
            "x": 4.927722120411437,
            "y": 6.422850828059383
           },
           {
            "x": 5.000604479902524,
            "y": 6.453399042624412
           },
           {
            "x": 5.073486839393611,
            "y": 6.48394725718944
           },
           {
            "x": 5.146369198884697,
            "y": 6.514495471754468
           },
           {
            "x": 5.219251558375784,
            "y": 6.545043686319495
           },
           {
            "x": 5.29213391786687,
            "y": 6.575591900884524
           },
           {
            "x": 5.365016277357957,
            "y": 6.606140115449552
           },
           {
            "x": 5.437898636849043,
            "y": 6.63668833001458
           },
           {
            "x": 5.51078099634013,
            "y": 6.667236544579607
           },
           {
            "x": 5.583663355831216,
            "y": 6.697784759144636
           },
           {
            "x": 5.656545715322302,
            "y": 6.728332973709663
           },
           {
            "x": 5.729428074813389,
            "y": 6.758881188274691
           },
           {
            "x": 5.802310434304475,
            "y": 6.789429402839719
           },
           {
            "x": 5.875192793795562,
            "y": 6.8199776174047475
           },
           {
            "x": 5.9480751532866485,
            "y": 6.850525831969774
           },
           {
            "x": 6.020957512777735,
            "y": 6.881074046534803
           },
           {
            "x": 6.093839872268822,
            "y": 6.911622261099831
           },
           {
            "x": 6.166722231759908,
            "y": 6.942170475664859
           },
           {
            "x": 6.239604591250995,
            "y": 6.972718690229886
           },
           {
            "x": 6.312486950742081,
            "y": 7.0032669047949145
           },
           {
            "x": 6.385369310233168,
            "y": 7.033815119359943
           },
           {
            "x": 6.4582516697242545,
            "y": 7.0643633339249705
           },
           {
            "x": 6.531134029215341,
            "y": 7.094911548489998
           },
           {
            "x": 6.604016388706428,
            "y": 7.1254597630550265
           },
           {
            "x": 6.676898748197513,
            "y": 7.156007977620054
           },
           {
            "x": 6.7497811076886,
            "y": 7.186556192185082
           },
           {
            "x": 6.822663467179686,
            "y": 7.21710440675011
           },
           {
            "x": 6.895545826670773,
            "y": 7.247652621315138
           },
           {
            "x": 6.9684281861618595,
            "y": 7.278200835880166
           },
           {
            "x": 7.041310545652946,
            "y": 7.3087490504451935
           },
           {
            "x": 7.114192905144033,
            "y": 7.339297265010222
           },
           {
            "x": 7.187075264635119,
            "y": 7.36984547957525
           },
           {
            "x": 7.259957624126206,
            "y": 7.400393694140277
           },
           {
            "x": 7.332839983617292,
            "y": 7.4309419087053055
           },
           {
            "x": 7.405722343108379,
            "y": 7.461490123270334
           },
           {
            "x": 7.4786047025994655,
            "y": 7.492038337835361
           }
          ]
         },
         "encoding": {
          "color": {
           "value": "rgba(85.0,168.0,104.0,1)"
          },
          "x": {
           "field": "x",
           "scale": {
            "domain": [
             0.26325111298190085,
             7.4786047025994655
            ],
            "nice": false
           },
           "type": "quantitative"
          },
          "y": {
           "field": "y",
           "type": "quantitative"
          }
         },
         "mark": {
          "clip": true,
          "type": "line"
         }
        },
        {
         "data": {
          "values": [
           {
            "x": 0.26325111298190085,
            "y1": 3.927699973104738,
            "y2": 5.041643144333883
           },
           {
            "x": 0.33613347247298736,
            "y1": 3.9669352296569014,
            "y2": 5.061000192235295
           },
           {
            "x": 0.4090158319640739,
            "y1": 4.006170486209065,
            "y2": 5.080357240136707
           },
           {
            "x": 0.4818981914551604,
            "y1": 4.045405742761228,
            "y2": 5.099714288038118
           },
           {
            "x": 0.5547805509462469,
            "y1": 4.087525812962575,
            "y2": 5.119071335939532
           },
           {
            "x": 0.6276629104373335,
            "y1": 4.1271636695972385,
            "y2": 5.138428383840944
           },
           {
            "x": 0.7005452699284199,
            "y1": 4.164935989001195,
            "y2": 5.157785431742355
           },
           {
            "x": 0.7734276294195064,
            "y1": 4.206905078428219,
            "y2": 5.177142479643769
           },
           {
            "x": 0.846309988910593,
            "y1": 4.245687669616385,
            "y2": 5.1971489361400005
           },
           {
            "x": 0.9191923484016795,
            "y1": 4.287010208507276,
            "y2": 5.215768232188681
           },
           {
            "x": 0.992074707892766,
            "y1": 4.328332747398168,
            "y2": 5.235154009487241
           },
           {
            "x": 1.0649570673838524,
            "y1": 4.369693750229431,
            "y2": 5.256102207744389
           },
           {
            "x": 1.137839426874939,
            "y1": 4.411165403307893,
            "y2": 5.278939395680521
           },
           {
            "x": 1.2107217863660256,
            "y1": 4.44753922660804,
            "y2": 5.295055908419763
           },
           {
            "x": 1.283604145857112,
            "y1": 4.483313706992821,
            "y2": 5.312641814953653
           },
           {
            "x": 1.3564865053481985,
            "y1": 4.519816184941813,
            "y2": 5.331955762760704
           },
           {
            "x": 1.429368864839285,
            "y1": 4.5608628588221265,
            "y2": 5.350387870471772
           },
           {
            "x": 1.5022512243303716,
            "y1": 4.6031546867475726,
            "y2": 5.368774935039563
           },
           {
            "x": 1.5751335838214582,
            "y1": 4.640421997387369,
            "y2": 5.389874883517623
           },
           {
            "x": 1.6480159433125445,
            "y1": 4.679226932070475,
            "y2": 5.409277882344359
           },
           {
            "x": 1.720898302803631,
            "y1": 4.720180587010909,
            "y2": 5.430291166314343
           },
           {
            "x": 1.7937806622947177,
            "y1": 4.757441799235972,
            "y2": 5.452691137483132
           },
           {
            "x": 1.866663021785804,
            "y1": 4.798658762001667,
            "y2": 5.475547189842457
           },
           {
            "x": 1.9395453812768906,
            "y1": 4.8398265534426965,
            "y2": 5.49688646668399
           },
           {
            "x": 2.0124277407679774,
            "y1": 4.879218920201206,
            "y2": 5.517824260483333
           },
           {
            "x": 2.085310100259064,
            "y1": 4.917778323963889,
            "y2": 5.538455999316366
           },
           {
            "x": 2.1581924597501505,
            "y1": 4.95960173470126,
            "y2": 5.560221076532164
           },
           {
            "x": 2.2310748192412366,
            "y1": 4.9982263284398165,
            "y2": 5.582106781964086
           },
           {
            "x": 2.3039571787323228,
            "y1": 5.040346053541433,
            "y2": 5.605285144825865
           },
           {
            "x": 2.3768395382234093,
            "y1": 5.081513258456216,
            "y2": 5.62775858188581
           },
           {
            "x": 2.449721897714496,
            "y1": 5.119447238391915,
            "y2": 5.6486344740937975
           },
           {
            "x": 2.5226042572055825,
            "y1": 5.157344772059657,
            "y2": 5.671459554172409
           },
           {
            "x": 2.595486616696669,
            "y1": 5.19518894617309,
            "y2": 5.692103643521888
           },
           {
            "x": 2.6683689761877556,
            "y1": 5.233059923464377,
            "y2": 5.713151647261221
           },
           {
            "x": 2.741251335678842,
            "y1": 5.271206576256293,
            "y2": 5.736366675607298
           },
           {
            "x": 2.8141336951699287,
            "y1": 5.308441747045454,
            "y2": 5.7579313656202045
           },
           {
            "x": 2.8870160546610153,
            "y1": 5.346584097816229,
            "y2": 5.781733379853196
           },
           {
            "x": 2.959898414152102,
            "y1": 5.383959068698262,
            "y2": 5.807527016489346
           },
           {
            "x": 3.0327807736431884,
            "y1": 5.420325257342059,
            "y2": 5.8319546129813595
           },
           {
            "x": 3.105663133134275,
            "y1": 5.457533692862807,
            "y2": 5.854428861858997
           },
           {
            "x": 3.1785454926253616,
            "y1": 5.49089052311794,
            "y2": 5.883288081536861
           },
           {
            "x": 3.251427852116448,
            "y1": 5.52314154740556,
            "y2": 5.912181958496608
           },
           {
            "x": 3.3243102116075347,
            "y1": 5.555247477636583,
            "y2": 5.943307989527276
           },
           {
            "x": 3.3971925710986213,
            "y1": 5.5890774216194155,
            "y2": 5.96974130128976
           },
           {
            "x": 3.470074930589707,
            "y1": 5.620770365746438,
            "y2": 5.99587806682986
           },
           {
            "x": 3.5429572900807935,
            "y1": 5.651072105705335,
            "y2": 6.025766945296368
           },
           {
            "x": 3.61583964957188,
            "y1": 5.687279061088887,
            "y2": 6.056172302694731
           },
           {
            "x": 3.6887220090629667,
            "y1": 5.7196039038977,
            "y2": 6.08504884657158
           },
           {
            "x": 3.7616043685540532,
            "y1": 5.750485518262794,
            "y2": 6.114808541503128
           },
           {
            "x": 3.83448672804514,
            "y1": 5.783034313069544,
            "y2": 6.150237477678459
           },
           {
            "x": 3.9073690875362264,
            "y1": 5.809983323939744,
            "y2": 6.181702067192599
           },
           {
            "x": 3.980251447027313,
            "y1": 5.835607639886882,
            "y2": 6.213149458129613
           },
           {
            "x": 4.0531338065183995,
            "y1": 5.86214368670435,
            "y2": 6.2488673244017185
           },
           {
            "x": 4.126016166009486,
            "y1": 5.890600522570989,
            "y2": 6.2801846084251505
           },
           {
            "x": 4.198898525500573,
            "y1": 5.919072390139823,
            "y2": 6.311632856919215
           },
           {
            "x": 4.271780884991659,
            "y1": 5.942572316434566,
            "y2": 6.343563164542003
           },
           {
            "x": 4.344663244482745,
            "y1": 5.967270087803278,
            "y2": 6.383829922692885
           },
           {
            "x": 4.4175456039738314,
            "y1": 5.988603668187242,
            "y2": 6.418316444784153
           },
           {
            "x": 4.490427963464918,
            "y1": 6.012177590044743,
            "y2": 6.456630389539179
           },
           {
            "x": 4.563310322956005,
            "y1": 6.03949417118507,
            "y2": 6.490440495520355
           },
           {
            "x": 4.636192682447091,
            "y1": 6.065057967175786,
            "y2": 6.527236098862506
           },
           {
            "x": 4.709075041938178,
            "y1": 6.086848787541958,
            "y2": 6.561760185376321
           },
           {
            "x": 4.781957401429264,
            "y1": 6.109915095252036,
            "y2": 6.596979468014578
           },
           {
            "x": 4.854839760920351,
            "y1": 6.130896711862296,
            "y2": 6.632604345050962
           },
           {
            "x": 4.927722120411437,
            "y1": 6.151560463953686,
            "y2": 6.67558459845163
           },
           {
            "x": 5.000604479902524,
            "y1": 6.172141013209177,
            "y2": 6.711892033195472
           },
           {
            "x": 5.073486839393611,
            "y1": 6.193285293291492,
            "y2": 6.745997863001167
           },
           {
            "x": 5.146369198884697,
            "y1": 6.214035573401461,
            "y2": 6.7848152385702845
           },
           {
            "x": 5.219251558375784,
            "y1": 6.236061731698601,
            "y2": 6.823636029582155
           },
           {
            "x": 5.29213391786687,
            "y1": 6.256014672596914,
            "y2": 6.864829851197187
           },
           {
            "x": 5.365016277357957,
            "y1": 6.282116792805025,
            "y2": 6.907995600050219
           },
           {
            "x": 5.437898636849043,
            "y1": 6.2993681019196845,
            "y2": 6.949022522888052
           },
           {
            "x": 5.51078099634013,
            "y1": 6.31788443018328,
            "y2": 6.988963129147999
           },
           {
            "x": 5.583663355831216,
            "y1": 6.336530924621366,
            "y2": 7.0248748230826825
           },
           {
            "x": 5.656545715322302,
            "y1": 6.358777545209839,
            "y2": 7.060786517017364
           },
           {
            "x": 5.729428074813389,
            "y1": 6.379677021255392,
            "y2": 7.101399241019881
           },
           {
            "x": 5.802310434304475,
            "y1": 6.400859640076298,
            "y2": 7.14329749897942
           },
           {
            "x": 5.875192793795562,
            "y1": 6.421389710064876,
            "y2": 7.185190835173788
           },
           {
            "x": 5.9480751532866485,
            "y1": 6.44155717890004,
            "y2": 7.226369001162786
           },
           {
            "x": 6.020957512777735,
            "y1": 6.46314556393586,
            "y2": 7.264117002726236
           },
           {
            "x": 6.093839872268822,
            "y1": 6.483862027196094,
            "y2": 7.306334836008526
           },
           {
            "x": 6.166722231759908,
            "y1": 6.504578490456327,
            "y2": 7.342534282382019
           },
           {
            "x": 6.239604591250995,
            "y1": 6.5252949537165605,
            "y2": 7.378691720751868
           },
           {
            "x": 6.312486950742081,
            "y1": 6.54357989698803,
            "y2": 7.414849159121716
           },
           {
            "x": 6.385369310233168,
            "y1": 6.560989265058105,
            "y2": 7.451006597491567
           },
           {
            "x": 6.4582516697242545,
            "y1": 6.578428236639136,
            "y2": 7.489743288668535
           },
           {
            "x": 6.531134029215341,
            "y1": 6.598154277554253,
            "y2": 7.530218165440577
           },
           {
            "x": 6.604016388706428,
            "y1": 6.62154891284263,
            "y2": 7.571151317547283
           },
           {
            "x": 6.676898748197513,
            "y1": 6.641973824529577,
            "y2": 7.606604370161128
           },
           {
            "x": 6.7497811076886,
            "y1": 6.660761939796666,
            "y2": 7.643234425528288
           },
           {
            "x": 6.822663467179686,
            "y1": 6.679553505758735,
            "y2": 7.683504558162176
           },
           {
            "x": 6.895545826670773,
            "y1": 6.698345071720804,
            "y2": 7.723774690796066
           },
           {
            "x": 6.9684281861618595,
            "y1": 6.717136637682874,
            "y2": 7.764014310428248
           },
           {
            "x": 7.041310545652946,
            "y1": 6.735928203644943,
            "y2": 7.805527148252489
           },
           {
            "x": 7.114192905144033,
            "y1": 6.7547197696070125,
            "y2": 7.849317743211063
           },
           {
            "x": 7.187075264635119,
            "y1": 6.773511335569082,
            "y2": 7.893108338169636
           },
           {
            "x": 7.259957624126206,
            "y1": 6.791993068403315,
            "y2": 7.93689893312821
           },
           {
            "x": 7.332839983617292,
            "y1": 6.808511213552624,
            "y2": 7.976766113528147
           },
           {
            "x": 7.405722343108379,
            "y1": 6.825029358701933,
            "y2": 8.015849294353236
           },
           {
            "x": 7.4786047025994655,
            "y1": 6.841547503851242,
            "y2": 8.054832312619821
           }
          ]
         },
         "encoding": {
          "color": {
           "value": "rgba(85.0,168.0,104.0,1)"
          },
          "opacity": {
           "value": 0.15
          },
          "x": {
           "field": "x",
           "scale": {
            "domain": [
             0.26325111298190085,
             7.4786047025994655
            ],
            "nice": false
           },
           "type": "quantitative"
          },
          "y": {
           "field": "y1",
           "type": "quantitative"
          },
          "y2": {
           "field": "y2",
           "type": "quantitative"
          }
         },
         "mark": {
          "clip": true,
          "type": "area"
         }
        }
       ]
      },
      "image/png": "[encoded data removed]",
      "text/plain": [
       "<VegaLite 2 object>\n",
       "\n",
       "If you see this message, it means the renderer has not been properly enabled\n",
       "for the frontend that you are using. For more information, see\n",
       "https://altair-viz.github.io/user_guide/troubleshooting.html\n"
      ]
     },
     "metadata": {},
     "output_type": "display_data"
    },
    {
     "data": {
      "image/png": "[encoded data removed]",
      "text/plain": [
       "<Figure size 432x288 with 1 Axes>"
      ]
     },
     "metadata": {},
     "output_type": "display_data"
    }
   ],
   "source": [
    "display(salt.regplot(x=x, y=y, color=\"g\"))\n",
    "ax = sns.regplot(x=x, y=y, color=\"g\")"
   ]
  },
  {
   "cell_type": "code",
   "execution_count": 4,
   "metadata": {},
   "outputs": [
    {
     "data": {
      "application/vnd.vegalite.v2+json": {
       "$schema": "https://vega.github.io/schema/vega-lite/v2.4.1.json",
       "config": {
        "view": {
         "height": 300,
         "width": 400
        }
       },
       "layer": [
        {
         "data": {
          "values": [
           {
            "x_var": 3.4472674554489933,
            "y_var": 6.560795467069294
           },
           {
            "x_var": 6.815394473302423,
            "y_var": 6.776794171190588
           },
           {
            "x_var": 5.66215268077373,
            "y_var": 9.269895775730852
           },
           {
            "x_var": 1.10199746695202,
            "y_var": 5.877505549882242
           },
           {
            "x_var": 2.6823407023383963,
            "y_var": 5.921712471786477
           },
           {
            "x_var": 4.579951810500943,
            "y_var": 8.07752124436234
           },
           {
            "x_var": 5.5686755094443665,
            "y_var": 6.527216803606146
           },
           {
            "x_var": 4.761248694293739,
            "y_var": 5.847107897849393
           },
           {
            "x_var": 3.1026613143490045,
            "y_var": 5.166651287851882
           },
           {
            "x_var": 4.161327511622201,
            "y_var": 5.932004865793139
           },
           {
            "x_var": 2.6945072882422347,
            "y_var": 4.551444324681174
           },
           {
            "x_var": 4.027212708532483,
            "y_var": 6.388452058219906
           },
           {
            "x_var": 6.097850892652345,
            "y_var": 7.057316063081337
           },
           {
            "x_var": 2.9038640911201643,
            "y_var": 6.243036716266349
           },
           {
            "x_var": 4.089300583005972,
            "y_var": 5.477010974420871
           },
           {
            "x_var": 2.426053246358793,
            "y_var": 4.697938571532598
           },
           {
            "x_var": 3.889319435921919,
            "y_var": 6.080430184591791
           },
           {
            "x_var": 4.29469192018264,
            "y_var": 5.736063492812075
           },
           {
            "x_var": 3.929912129728125,
            "y_var": 4.9364521816290505
           },
           {
            "x_var": 4.745610057303384,
            "y_var": 6.16966046755525
           },
           {
            "x_var": 5.043644011671976,
            "y_var": 6.809069556103301
           },
           {
            "x_var": 3.8031927030152683,
            "y_var": 5.927096490864416
           },
           {
            "x_var": 3.953750213453688,
            "y_var": 6.447101097563419
           },
           {
            "x_var": 1.623204711192729,
            "y_var": 5.201158665940514
           },
           {
            "x_var": 7.150634084889576,
            "y_var": 9.212647014098156
           },
           {
            "x_var": 6.887385568768748,
            "y_var": 6.4854992503284326
           },
           {
            "x_var": 4.406533477331993,
            "y_var": 5.109991390442655
           },
           {
            "x_var": 1.920835293378265,
            "y_var": 5.141708184892615
           },
           {
            "x_var": 5.610286582288403,
            "y_var": 5.703815250335597
           },
           {
            "x_var": 3.1161098721088,
            "y_var": 6.443828667573446
           },
           {
            "x_var": 3.1194305599779657,
            "y_var": 7.013824314773961
           },
           {
            "x_var": 3.0566188039614217,
            "y_var": 6.030413348398504
           },
           {
            "x_var": 4.198242505508103,
            "y_var": 6.468854553418389
           },
           {
            "x_var": 5.034612710816454,
            "y_var": 5.086957228808459
           },
           {
            "x_var": 1.2067839802540323,
            "y_var": 3.90368060821833
           },
           {
            "x_var": 3.320995252344087,
            "y_var": 6.680065073085915
           },
           {
            "x_var": 3.7851643576672553,
            "y_var": 6.036245843671338
           },
           {
            "x_var": 3.976898280871597,
            "y_var": 4.981168456864824
           },
           {
            "x_var": 2.0925016399126606,
            "y_var": 4.969713056368721
           },
           {
            "x_var": 4.323565164242741,
            "y_var": 7.038104438610642
           },
           {
            "x_var": 3.978991438404368,
            "y_var": 5.15602925051924
           },
           {
            "x_var": 3.8244053937331137,
            "y_var": 5.876807985025687
           },
           {
            "x_var": 3.4596768757290515,
            "y_var": 5.945608741828876
           },
           {
            "x_var": 3.6686002302530643,
            "y_var": 4.72075736532541
           },
           {
            "x_var": 4.3762474004130905,
            "y_var": 5.462717986891764
           },
           {
            "x_var": 3.973366756044712,
            "y_var": 4.821581907934301
           },
           {
            "x_var": 6.706866650871843,
            "y_var": 7.527838268707506
           },
           {
            "x_var": 0.5912217306917902,
            "y_var": 4.599288484028882
           },
           {
            "x_var": 2.883067684346313,
            "y_var": 7.377964038820475
           },
           {
            "x_var": 4.300654535002846,
            "y_var": 6.049717712997151
           },
           {
            "x_var": 2.888548739009826,
            "y_var": 5.484412135578667
           },
           {
            "x_var": 4.275621262348634,
            "y_var": 5.78595114602522
           },
           {
            "x_var": 3.643901259716146,
            "y_var": 6.665690855931951
           },
           {
            "x_var": 5.7856084053557115,
            "y_var": 6.6760085965257865
           },
           {
            "x_var": 1.4139957830763068,
            "y_var": 6.381962973520549
           },
           {
            "x_var": 5.9580237487755525,
            "y_var": 7.732577056150008
           },
           {
            "x_var": 2.2075553396080507,
            "y_var": 4.542862939464893
           },
           {
            "x_var": 4.157467102726203,
            "y_var": 7.192688269458512
           },
           {
            "x_var": 4.935076831004592,
            "y_var": 6.029630302413066
           },
           {
            "x_var": 5.229570201851718,
            "y_var": 5.65605168689913
           },
           {
            "x_var": 6.291027164694992,
            "y_var": 8.619477658968647
           },
           {
            "x_var": 1.9600690857155536,
            "y_var": 4.757299722395388
           },
           {
            "x_var": 4.0277993836535515,
            "y_var": 6.454694399613655
           },
           {
            "x_var": 4.926781048375288,
            "y_var": 5.129336854507772
           },
           {
            "x_var": 5.222939339331523,
            "y_var": 7.231269108010916
           },
           {
            "x_var": 5.086953515510995,
            "y_var": 5.410526138584457
           },
           {
            "x_var": 5.271834084706491,
            "y_var": 7.7226358808383235
           },
           {
            "x_var": 5.295545243081503,
            "y_var": 7.9030109149751695
           },
           {
            "x_var": 3.8516262161928845,
            "y_var": 5.023013397436345
           },
           {
            "x_var": 4.302678000317347,
            "y_var": 6.351003217013041
           },
           {
            "x_var": 3.478794851245506,
            "y_var": 5.855156320617591
           },
           {
            "x_var": 1.9740230822003961,
            "y_var": 5.379728630641883
           },
           {
            "x_var": 4.6595730125374075,
            "y_var": 6.315408740352355
           },
           {
            "x_var": 5.265059963218892,
            "y_var": 6.436174108630501
           },
           {
            "x_var": 4.876900605149631,
            "y_var": 4.574330435706004
           },
           {
            "x_var": 3.903905058802349,
            "y_var": 5.891891024261857
           },
           {
            "x_var": 4.821049644740702,
            "y_var": 5.441860888028762
           },
           {
            "x_var": 4.978553783565133,
            "y_var": 6.023885473155691
           },
           {
            "x_var": 5.068359295478876,
            "y_var": 4.6328842181730705
           },
           {
            "x_var": 4.188174732829357,
            "y_var": 6.54419845556333
           }
          ]
         },
         "encoding": {
          "x": {
           "axis": {
            "title": "x_var"
           },
           "field": "x_var",
           "scale": {
            "domain": [
             0.26325111298190085,
             7.4786047025994655
            ],
            "nice": false
           },
           "type": "quantitative"
          },
          "y": {
           "axis": {
            "title": "y_var"
           },
           "field": "y_var",
           "type": "quantitative"
          }
         },
         "mark": {
          "clip": true,
          "type": "circle"
         }
        },
        {
         "data": {
          "values": [
           {
            "x": 0.26325111298190085,
            "y": 4.467765095897596
           },
           {
            "x": 0.33613347247298736,
            "y": 4.498313310462624
           },
           {
            "x": 0.4090158319640739,
            "y": 4.528861525027652
           },
           {
            "x": 0.4818981914551604,
            "y": 4.55940973959268
           },
           {
            "x": 0.5547805509462469,
            "y": 4.589957954157708
           },
           {
            "x": 0.6276629104373335,
            "y": 4.620506168722736
           },
           {
            "x": 0.7005452699284199,
            "y": 4.6510543832877635
           },
           {
            "x": 0.7734276294195064,
            "y": 4.681602597852792
           },
           {
            "x": 0.846309988910593,
            "y": 4.7121508124178195
           },
           {
            "x": 0.9191923484016795,
            "y": 4.742699026982848
           },
           {
            "x": 0.992074707892766,
            "y": 4.7732472415478755
           },
           {
            "x": 1.0649570673838524,
            "y": 4.803795456112903
           },
           {
            "x": 1.137839426874939,
            "y": 4.8343436706779315
           },
           {
            "x": 1.2107217863660256,
            "y": 4.864891885242959
           },
           {
            "x": 1.283604145857112,
            "y": 4.895440099807987
           },
           {
            "x": 1.3564865053481985,
            "y": 4.925988314373015
           },
           {
            "x": 1.429368864839285,
            "y": 4.956536528938043
           },
           {
            "x": 1.5022512243303716,
            "y": 4.987084743503071
           },
           {
            "x": 1.5751335838214582,
            "y": 5.0176329580680985
           },
           {
            "x": 1.6480159433125445,
            "y": 5.048181172633127
           },
           {
            "x": 1.720898302803631,
            "y": 5.0787293871981545
           },
           {
            "x": 1.7937806622947177,
            "y": 5.109277601763183
           },
           {
            "x": 1.866663021785804,
            "y": 5.1398258163282105
           },
           {
            "x": 1.9395453812768906,
            "y": 5.170374030893239
           },
           {
            "x": 2.0124277407679774,
            "y": 5.200922245458266
           },
           {
            "x": 2.085310100259064,
            "y": 5.231470460023295
           },
           {
            "x": 2.1581924597501505,
            "y": 5.262018674588322
           },
           {
            "x": 2.2310748192412366,
            "y": 5.29256688915335
           },
           {
            "x": 2.3039571787323228,
            "y": 5.323115103718378
           },
           {
            "x": 2.3768395382234093,
            "y": 5.353663318283406
           },
           {
            "x": 2.449721897714496,
            "y": 5.384211532848434
           },
           {
            "x": 2.5226042572055825,
            "y": 5.414759747413462
           },
           {
            "x": 2.595486616696669,
            "y": 5.445307961978489
           },
           {
            "x": 2.6683689761877556,
            "y": 5.475856176543518
           },
           {
            "x": 2.741251335678842,
            "y": 5.506404391108546
           },
           {
            "x": 2.8141336951699287,
            "y": 5.536952605673574
           },
           {
            "x": 2.8870160546610153,
            "y": 5.567500820238601
           },
           {
            "x": 2.959898414152102,
            "y": 5.59804903480363
           },
           {
            "x": 3.0327807736431884,
            "y": 5.628597249368657
           },
           {
            "x": 3.105663133134275,
            "y": 5.659145463933686
           },
           {
            "x": 3.1785454926253616,
            "y": 5.689693678498713
           },
           {
            "x": 3.251427852116448,
            "y": 5.720241893063742
           },
           {
            "x": 3.3243102116075347,
            "y": 5.750790107628769
           },
           {
            "x": 3.3971925710986213,
            "y": 5.781338322193798
           },
           {
            "x": 3.470074930589707,
            "y": 5.811886536758825
           },
           {
            "x": 3.5429572900807935,
            "y": 5.842434751323853
           },
           {
            "x": 3.61583964957188,
            "y": 5.87298296588888
           },
           {
            "x": 3.6887220090629667,
            "y": 5.903531180453909
           },
           {
            "x": 3.7616043685540532,
            "y": 5.934079395018937
           },
           {
            "x": 3.83448672804514,
            "y": 5.964627609583965
           },
           {
            "x": 3.9073690875362264,
            "y": 5.995175824148992
           },
           {
            "x": 3.980251447027313,
            "y": 6.025724038714021
           },
           {
            "x": 4.0531338065183995,
            "y": 6.056272253279049
           },
           {
            "x": 4.126016166009486,
            "y": 6.086820467844077
           },
           {
            "x": 4.198898525500573,
            "y": 6.117368682409104
           },
           {
            "x": 4.271780884991659,
            "y": 6.147916896974133
           },
           {
            "x": 4.344663244482745,
            "y": 6.17846511153916
           },
           {
            "x": 4.4175456039738314,
            "y": 6.209013326104188
           },
           {
            "x": 4.490427963464918,
            "y": 6.239561540669216
           },
           {
            "x": 4.563310322956005,
            "y": 6.270109755234244
           },
           {
            "x": 4.636192682447091,
            "y": 6.300657969799272
           },
           {
            "x": 4.709075041938178,
            "y": 6.3312061843643
           },
           {
            "x": 4.781957401429264,
            "y": 6.361754398929328
           },
           {
            "x": 4.854839760920351,
            "y": 6.392302613494356
           },
           {
            "x": 4.927722120411437,
            "y": 6.422850828059383
           },
           {
            "x": 5.000604479902524,
            "y": 6.453399042624412
           },
           {
            "x": 5.073486839393611,
            "y": 6.48394725718944
           },
           {
            "x": 5.146369198884697,
            "y": 6.514495471754468
           },
           {
            "x": 5.219251558375784,
            "y": 6.545043686319495
           },
           {
            "x": 5.29213391786687,
            "y": 6.575591900884524
           },
           {
            "x": 5.365016277357957,
            "y": 6.606140115449552
           },
           {
            "x": 5.437898636849043,
            "y": 6.63668833001458
           },
           {
            "x": 5.51078099634013,
            "y": 6.667236544579607
           },
           {
            "x": 5.583663355831216,
            "y": 6.697784759144636
           },
           {
            "x": 5.656545715322302,
            "y": 6.728332973709663
           },
           {
            "x": 5.729428074813389,
            "y": 6.758881188274691
           },
           {
            "x": 5.802310434304475,
            "y": 6.789429402839719
           },
           {
            "x": 5.875192793795562,
            "y": 6.8199776174047475
           },
           {
            "x": 5.9480751532866485,
            "y": 6.850525831969774
           },
           {
            "x": 6.020957512777735,
            "y": 6.881074046534803
           },
           {
            "x": 6.093839872268822,
            "y": 6.911622261099831
           },
           {
            "x": 6.166722231759908,
            "y": 6.942170475664859
           },
           {
            "x": 6.239604591250995,
            "y": 6.972718690229886
           },
           {
            "x": 6.312486950742081,
            "y": 7.0032669047949145
           },
           {
            "x": 6.385369310233168,
            "y": 7.033815119359943
           },
           {
            "x": 6.4582516697242545,
            "y": 7.0643633339249705
           },
           {
            "x": 6.531134029215341,
            "y": 7.094911548489998
           },
           {
            "x": 6.604016388706428,
            "y": 7.1254597630550265
           },
           {
            "x": 6.676898748197513,
            "y": 7.156007977620054
           },
           {
            "x": 6.7497811076886,
            "y": 7.186556192185082
           },
           {
            "x": 6.822663467179686,
            "y": 7.21710440675011
           },
           {
            "x": 6.895545826670773,
            "y": 7.247652621315138
           },
           {
            "x": 6.9684281861618595,
            "y": 7.278200835880166
           },
           {
            "x": 7.041310545652946,
            "y": 7.3087490504451935
           },
           {
            "x": 7.114192905144033,
            "y": 7.339297265010222
           },
           {
            "x": 7.187075264635119,
            "y": 7.36984547957525
           },
           {
            "x": 7.259957624126206,
            "y": 7.400393694140277
           },
           {
            "x": 7.332839983617292,
            "y": 7.4309419087053055
           },
           {
            "x": 7.405722343108379,
            "y": 7.461490123270334
           },
           {
            "x": 7.4786047025994655,
            "y": 7.492038337835361
           }
          ]
         },
         "encoding": {
          "x": {
           "field": "x",
           "scale": {
            "domain": [
             0.26325111298190085,
             7.4786047025994655
            ],
            "nice": false
           },
           "type": "quantitative"
          },
          "y": {
           "field": "y",
           "type": "quantitative"
          }
         },
         "mark": {
          "clip": true,
          "type": "line"
         }
        },
        {
         "data": {
          "values": [
           {
            "x": 0.26325111298190085,
            "y1": 3.934551835772007,
            "y2": 5.015109045476691
           },
           {
            "x": 0.33613347247298736,
            "y1": 3.9734627481762295,
            "y2": 5.031562280126503
           },
           {
            "x": 0.4090158319640739,
            "y1": 4.013505038247448,
            "y2": 5.050212527428822
           },
           {
            "x": 0.4818981914551604,
            "y1": 4.054492514109454,
            "y2": 5.072719123335722
           },
           {
            "x": 0.5547805509462469,
            "y1": 4.095515766840285,
            "y2": 5.093251243203794
           },
           {
            "x": 0.6276629104373335,
            "y1": 4.136539019571115,
            "y2": 5.114250375013512
           },
           {
            "x": 0.7005452699284199,
            "y1": 4.175079128110393,
            "y2": 5.135567448836035
           },
           {
            "x": 0.7734276294195064,
            "y1": 4.215251547111748,
            "y2": 5.1569271802898164
           },
           {
            "x": 0.846309988910593,
            "y1": 4.256171349420052,
            "y2": 5.178103774305096
           },
           {
            "x": 0.9191923484016795,
            "y1": 4.297093241982271,
            "y2": 5.199677747501998
           },
           {
            "x": 0.992074707892766,
            "y1": 4.3363903015273815,
            "y2": 5.21738581103899
           },
           {
            "x": 1.0649570673838524,
            "y1": 4.378323357120564,
            "y2": 5.236595615654539
           },
           {
            "x": 1.137839426874939,
            "y1": 4.419709667847932,
            "y2": 5.258059292283726
           },
           {
            "x": 1.2107217863660256,
            "y1": 4.4566941230369155,
            "y2": 5.28108856431967
           },
           {
            "x": 1.283604145857112,
            "y1": 4.497155876228512,
            "y2": 5.304640695130189
           },
           {
            "x": 1.3564865053481985,
            "y1": 4.538400634722839,
            "y2": 5.3263619872382515
           },
           {
            "x": 1.429368864839285,
            "y1": 4.579251103115424,
            "y2": 5.345802883558842
           },
           {
            "x": 1.5022512243303716,
            "y1": 4.616967703029075,
            "y2": 5.365154849416569
           },
           {
            "x": 1.5751335838214582,
            "y1": 4.653978378154986,
            "y2": 5.386267128074963
           },
           {
            "x": 1.6480159433125445,
            "y1": 4.692307225123125,
            "y2": 5.409046537235544
           },
           {
            "x": 1.720898302803631,
            "y1": 4.727648203221647,
            "y2": 5.429698060130026
           },
           {
            "x": 1.7937806622947177,
            "y1": 4.764430995487481,
            "y2": 5.451496586291447
           },
           {
            "x": 1.866663021785804,
            "y1": 4.8028012229563695,
            "y2": 5.473395967220294
           },
           {
            "x": 1.9395453812768906,
            "y1": 4.844304884265711,
            "y2": 5.496126271645489
           },
           {
            "x": 2.0124277407679774,
            "y1": 4.883685400898153,
            "y2": 5.516846559450669
           },
           {
            "x": 2.085310100259064,
            "y1": 4.919583348870532,
            "y2": 5.538842700809843
           },
           {
            "x": 2.1581924597501505,
            "y1": 4.957303261433297,
            "y2": 5.561164532007381
           },
           {
            "x": 2.2310748192412366,
            "y1": 4.994957339990577,
            "y2": 5.58348636320492
           },
           {
            "x": 2.3039571787323228,
            "y1": 5.030921605314701,
            "y2": 5.601999967604183
           },
           {
            "x": 2.3768395382234093,
            "y1": 5.070784507565834,
            "y2": 5.623640451445661
           },
           {
            "x": 2.449721897714496,
            "y1": 5.110686071883509,
            "y2": 5.648561976708601
           },
           {
            "x": 2.5226042572055825,
            "y1": 5.145895143060216,
            "y2": 5.67195204322304
           },
           {
            "x": 2.595486616696669,
            "y1": 5.185932309164691,
            "y2": 5.6940527672830585
           },
           {
            "x": 2.6683689761877556,
            "y1": 5.225816149503002,
            "y2": 5.717559405649848
           },
           {
            "x": 2.741251335678842,
            "y1": 5.263563515024041,
            "y2": 5.744087777594431
           },
           {
            "x": 2.8141336951699287,
            "y1": 5.301003789144344,
            "y2": 5.770428903392219
           },
           {
            "x": 2.8870160546610153,
            "y1": 5.335763077655111,
            "y2": 5.7930472020919686
           },
           {
            "x": 2.959898414152102,
            "y1": 5.371730326012633,
            "y2": 5.816208831382257
           },
           {
            "x": 3.0327807736431884,
            "y1": 5.404544596126277,
            "y2": 5.8448725468771245
           },
           {
            "x": 3.105663133134275,
            "y1": 5.445847680697839,
            "y2": 5.871185664421381
           },
           {
            "x": 3.1785454926253616,
            "y1": 5.479650618295671,
            "y2": 5.893840978132932
           },
           {
            "x": 3.251427852116448,
            "y1": 5.51124163273027,
            "y2": 5.920478624686916
           },
           {
            "x": 3.3243102116075347,
            "y1": 5.5426248516489505,
            "y2": 5.9505819509564715
           },
           {
            "x": 3.3971925710986213,
            "y1": 5.57548555862556,
            "y2": 5.98089244018189
           },
           {
            "x": 3.470074930589707,
            "y1": 5.610265137678112,
            "y2": 6.0066145711407675
           },
           {
            "x": 3.5429572900807935,
            "y1": 5.645723182742191,
            "y2": 6.034213969066557
           },
           {
            "x": 3.61583964957188,
            "y1": 5.680141285488561,
            "y2": 6.060072465576159
           },
           {
            "x": 3.6887220090629667,
            "y1": 5.707850143263484,
            "y2": 6.090398319248319
           },
           {
            "x": 3.7616043685540532,
            "y1": 5.737993019088082,
            "y2": 6.119744290014661
           },
           {
            "x": 3.83448672804514,
            "y1": 5.770756908205309,
            "y2": 6.148468314266162
           },
           {
            "x": 3.9073690875362264,
            "y1": 5.800614105376397,
            "y2": 6.178430750780725
           },
           {
            "x": 3.980251447027313,
            "y1": 5.829543079205396,
            "y2": 6.212823400325393
           },
           {
            "x": 4.0531338065183995,
            "y1": 5.855916307390256,
            "y2": 6.2520792123418305
           },
           {
            "x": 4.126016166009486,
            "y1": 5.884690483562859,
            "y2": 6.2840972214939
           },
           {
            "x": 4.198898525500573,
            "y1": 5.909810159335775,
            "y2": 6.315177144264173
           },
           {
            "x": 4.271780884991659,
            "y1": 5.935852606912965,
            "y2": 6.354009278631482
           },
           {
            "x": 4.344663244482745,
            "y1": 5.961818049741415,
            "y2": 6.391733375803446
           },
           {
            "x": 4.4175456039738314,
            "y1": 5.986333976870129,
            "y2": 6.426922300389026
           },
           {
            "x": 4.490427963464918,
            "y1": 6.009960610270742,
            "y2": 6.462088832243567
           },
           {
            "x": 4.563310322956005,
            "y1": 6.035294325116268,
            "y2": 6.497582106898226
           },
           {
            "x": 4.636192682447091,
            "y1": 6.062054407870208,
            "y2": 6.531296929552922
           },
           {
            "x": 4.709075041938178,
            "y1": 6.086203166137439,
            "y2": 6.564241342973154
           },
           {
            "x": 4.781957401429264,
            "y1": 6.112335280373118,
            "y2": 6.5976805367495475
           },
           {
            "x": 4.854839760920351,
            "y1": 6.13956163774859,
            "y2": 6.630818551969365
           },
           {
            "x": 4.927722120411437,
            "y1": 6.167850672917857,
            "y2": 6.664866438624236
           },
           {
            "x": 5.000604479902524,
            "y1": 6.1877732169721575,
            "y2": 6.700971567013642
           },
           {
            "x": 5.073486839393611,
            "y1": 6.213536354325014,
            "y2": 6.740808026927187
           },
           {
            "x": 5.146369198884697,
            "y1": 6.235016143572676,
            "y2": 6.779370191086529
           },
           {
            "x": 5.219251558375784,
            "y1": 6.25670691564642,
            "y2": 6.821808096462314
           },
           {
            "x": 5.29213391786687,
            "y1": 6.2797261686729895,
            "y2": 6.865136205312828
           },
           {
            "x": 5.365016277357957,
            "y1": 6.2997592801486,
            "y2": 6.9050617163797
           },
           {
            "x": 5.437898636849043,
            "y1": 6.316882047368517,
            "y2": 6.941247951866966
           },
           {
            "x": 5.51078099634013,
            "y1": 6.338096604695524,
            "y2": 6.980749249872188
           },
           {
            "x": 5.583663355831216,
            "y1": 6.3621443930775925,
            "y2": 7.020766305127506
           },
           {
            "x": 5.656545715322302,
            "y1": 6.38619218145966,
            "y2": 7.061147725645957
           },
           {
            "x": 5.729428074813389,
            "y1": 6.40455055688112,
            "y2": 7.102993547462725
           },
           {
            "x": 5.802310434304475,
            "y1": 6.423871406746607,
            "y2": 7.144839369279493
           },
           {
            "x": 5.875192793795562,
            "y1": 6.45084329799505,
            "y2": 7.186685191096261
           },
           {
            "x": 5.9480751532866485,
            "y1": 6.474718048472327,
            "y2": 7.227468410319696
           },
           {
            "x": 6.020957512777735,
            "y1": 6.49471628002659,
            "y2": 7.268252571509786
           },
           {
            "x": 6.093839872268822,
            "y1": 6.514714511580853,
            "y2": 7.311096799825463
           },
           {
            "x": 6.166722231759908,
            "y1": 6.536786628276555,
            "y2": 7.353746652424955
           },
           {
            "x": 6.239604591250995,
            "y1": 6.560184941455618,
            "y2": 7.395843586899161
           },
           {
            "x": 6.312486950742081,
            "y1": 6.581061004389701,
            "y2": 7.437930705176297
           },
           {
            "x": 6.385369310233168,
            "y1": 6.596733989299017,
            "y2": 7.480017823453432
           },
           {
            "x": 6.4582516697242545,
            "y1": 6.619364355224669,
            "y2": 7.522048379377987
           },
           {
            "x": 6.531134029215341,
            "y1": 6.640573302209704,
            "y2": 7.563979509265756
           },
           {
            "x": 6.604016388706428,
            "y1": 6.660805417489564,
            "y2": 7.60379909979922
           },
           {
            "x": 6.676898748197513,
            "y1": 6.6799416753129615,
            "y2": 7.639047515610636
           },
           {
            "x": 6.7497811076886,
            "y1": 6.699647666367787,
            "y2": 7.6736065772332225
           },
           {
            "x": 6.822663467179686,
            "y1": 6.720988695428229,
            "y2": 7.717130497417996
           },
           {
            "x": 6.895545826670773,
            "y1": 6.74232972448867,
            "y2": 7.759989841059812
           },
           {
            "x": 6.9684281861618595,
            "y1": 6.763670753549112,
            "y2": 7.799153938044145
           },
           {
            "x": 7.041310545652946,
            "y1": 6.785011782609553,
            "y2": 7.838318035028476
           },
           {
            "x": 7.114192905144033,
            "y1": 6.8063623170338,
            "y2": 7.877482132012809
           },
           {
            "x": 7.187075264635119,
            "y1": 6.827795851854664,
            "y2": 7.916646228997141
           },
           {
            "x": 7.259957624126206,
            "y1": 6.849229386675529,
            "y2": 7.955668998738666
           },
           {
            "x": 7.332839983617292,
            "y1": 6.870662921496393,
            "y2": 7.995093573428185
           },
           {
            "x": 7.405722343108379,
            "y1": 6.89126576867144,
            "y2": 8.03702984182737
           },
           {
            "x": 7.4786047025994655,
            "y1": 6.910430399168624,
            "y2": 8.078966110226554
           }
          ]
         },
         "encoding": {
          "opacity": {
           "value": 0.15
          },
          "x": {
           "field": "x",
           "scale": {
            "domain": [
             0.26325111298190085,
             7.4786047025994655
            ],
            "nice": false
           },
           "type": "quantitative"
          },
          "y": {
           "field": "y1",
           "type": "quantitative"
          },
          "y2": {
           "field": "y2",
           "type": "quantitative"
          }
         },
         "mark": {
          "clip": true,
          "type": "area"
         }
        }
       ]
      },
      "image/png": "[encoded data removed]",
      "text/plain": [
       "<VegaLite 2 object>\n",
       "\n",
       "If you see this message, it means the renderer has not been properly enabled\n",
       "for the frontend that you are using. For more information, see\n",
       "https://altair-viz.github.io/user_guide/troubleshooting.html\n"
      ]
     },
     "metadata": {},
     "output_type": "display_data"
    },
    {
     "data": {
      "image/png": "[encoded data removed]",
      "text/plain": [
       "<Figure size 432x288 with 1 Axes>"
      ]
     },
     "metadata": {},
     "output_type": "display_data"
    }
   ],
   "source": [
    "import pandas as pd\n",
    "x, y = pd.Series(x, name=\"x_var\"), pd.Series(y, name=\"y_var\")\n",
    "display(salt.regplot(x=x, y=y))\n",
    "ax = sns.regplot(x=x, y=y, marker=\"+\")"
   ]
  },
  {
   "cell_type": "code",
   "execution_count": 5,
   "metadata": {},
   "outputs": [
    {
     "data": {
      "application/vnd.vegalite.v2+json": {
       "$schema": "https://vega.github.io/schema/vega-lite/v2.4.1.json",
       "config": {
        "view": {
         "height": 300,
         "width": 400
        }
       },
       "layer": [
        {
         "data": {
          "values": [
           {
            "x_var": 3.4472674554489933,
            "y_var": 6.560795467069294
           },
           {
            "x_var": 6.815394473302423,
            "y_var": 6.776794171190588
           },
           {
            "x_var": 5.66215268077373,
            "y_var": 9.269895775730852
           },
           {
            "x_var": 1.10199746695202,
            "y_var": 5.877505549882242
           },
           {
            "x_var": 2.6823407023383963,
            "y_var": 5.921712471786477
           },
           {
            "x_var": 4.579951810500943,
            "y_var": 8.07752124436234
           },
           {
            "x_var": 5.5686755094443665,
            "y_var": 6.527216803606146
           },
           {
            "x_var": 4.761248694293739,
            "y_var": 5.847107897849393
           },
           {
            "x_var": 3.1026613143490045,
            "y_var": 5.166651287851882
           },
           {
            "x_var": 4.161327511622201,
            "y_var": 5.932004865793139
           },
           {
            "x_var": 2.6945072882422347,
            "y_var": 4.551444324681174
           },
           {
            "x_var": 4.027212708532483,
            "y_var": 6.388452058219906
           },
           {
            "x_var": 6.097850892652345,
            "y_var": 7.057316063081337
           },
           {
            "x_var": 2.9038640911201643,
            "y_var": 6.243036716266349
           },
           {
            "x_var": 4.089300583005972,
            "y_var": 5.477010974420871
           },
           {
            "x_var": 2.426053246358793,
            "y_var": 4.697938571532598
           },
           {
            "x_var": 3.889319435921919,
            "y_var": 6.080430184591791
           },
           {
            "x_var": 4.29469192018264,
            "y_var": 5.736063492812075
           },
           {
            "x_var": 3.929912129728125,
            "y_var": 4.9364521816290505
           },
           {
            "x_var": 4.745610057303384,
            "y_var": 6.16966046755525
           },
           {
            "x_var": 5.043644011671976,
            "y_var": 6.809069556103301
           },
           {
            "x_var": 3.8031927030152683,
            "y_var": 5.927096490864416
           },
           {
            "x_var": 3.953750213453688,
            "y_var": 6.447101097563419
           },
           {
            "x_var": 1.623204711192729,
            "y_var": 5.201158665940514
           },
           {
            "x_var": 7.150634084889576,
            "y_var": 9.212647014098156
           },
           {
            "x_var": 6.887385568768748,
            "y_var": 6.4854992503284326
           },
           {
            "x_var": 4.406533477331993,
            "y_var": 5.109991390442655
           },
           {
            "x_var": 1.920835293378265,
            "y_var": 5.141708184892615
           },
           {
            "x_var": 5.610286582288403,
            "y_var": 5.703815250335597
           },
           {
            "x_var": 3.1161098721088,
            "y_var": 6.443828667573446
           },
           {
            "x_var": 3.1194305599779657,
            "y_var": 7.013824314773961
           },
           {
            "x_var": 3.0566188039614217,
            "y_var": 6.030413348398504
           },
           {
            "x_var": 4.198242505508103,
            "y_var": 6.468854553418389
           },
           {
            "x_var": 5.034612710816454,
            "y_var": 5.086957228808459
           },
           {
            "x_var": 1.2067839802540323,
            "y_var": 3.90368060821833
           },
           {
            "x_var": 3.320995252344087,
            "y_var": 6.680065073085915
           },
           {
            "x_var": 3.7851643576672553,
            "y_var": 6.036245843671338
           },
           {
            "x_var": 3.976898280871597,
            "y_var": 4.981168456864824
           },
           {
            "x_var": 2.0925016399126606,
            "y_var": 4.969713056368721
           },
           {
            "x_var": 4.323565164242741,
            "y_var": 7.038104438610642
           },
           {
            "x_var": 3.978991438404368,
            "y_var": 5.15602925051924
           },
           {
            "x_var": 3.8244053937331137,
            "y_var": 5.876807985025687
           },
           {
            "x_var": 3.4596768757290515,
            "y_var": 5.945608741828876
           },
           {
            "x_var": 3.6686002302530643,
            "y_var": 4.72075736532541
           },
           {
            "x_var": 4.3762474004130905,
            "y_var": 5.462717986891764
           },
           {
            "x_var": 3.973366756044712,
            "y_var": 4.821581907934301
           },
           {
            "x_var": 6.706866650871843,
            "y_var": 7.527838268707506
           },
           {
            "x_var": 0.5912217306917902,
            "y_var": 4.599288484028882
           },
           {
            "x_var": 2.883067684346313,
            "y_var": 7.377964038820475
           },
           {
            "x_var": 4.300654535002846,
            "y_var": 6.049717712997151
           },
           {
            "x_var": 2.888548739009826,
            "y_var": 5.484412135578667
           },
           {
            "x_var": 4.275621262348634,
            "y_var": 5.78595114602522
           },
           {
            "x_var": 3.643901259716146,
            "y_var": 6.665690855931951
           },
           {
            "x_var": 5.7856084053557115,
            "y_var": 6.6760085965257865
           },
           {
            "x_var": 1.4139957830763068,
            "y_var": 6.381962973520549
           },
           {
            "x_var": 5.9580237487755525,
            "y_var": 7.732577056150008
           },
           {
            "x_var": 2.2075553396080507,
            "y_var": 4.542862939464893
           },
           {
            "x_var": 4.157467102726203,
            "y_var": 7.192688269458512
           },
           {
            "x_var": 4.935076831004592,
            "y_var": 6.029630302413066
           },
           {
            "x_var": 5.229570201851718,
            "y_var": 5.65605168689913
           },
           {
            "x_var": 6.291027164694992,
            "y_var": 8.619477658968647
           },
           {
            "x_var": 1.9600690857155536,
            "y_var": 4.757299722395388
           },
           {
            "x_var": 4.0277993836535515,
            "y_var": 6.454694399613655
           },
           {
            "x_var": 4.926781048375288,
            "y_var": 5.129336854507772
           },
           {
            "x_var": 5.222939339331523,
            "y_var": 7.231269108010916
           },
           {
            "x_var": 5.086953515510995,
            "y_var": 5.410526138584457
           },
           {
            "x_var": 5.271834084706491,
            "y_var": 7.7226358808383235
           },
           {
            "x_var": 5.295545243081503,
            "y_var": 7.9030109149751695
           },
           {
            "x_var": 3.8516262161928845,
            "y_var": 5.023013397436345
           },
           {
            "x_var": 4.302678000317347,
            "y_var": 6.351003217013041
           },
           {
            "x_var": 3.478794851245506,
            "y_var": 5.855156320617591
           },
           {
            "x_var": 1.9740230822003961,
            "y_var": 5.379728630641883
           },
           {
            "x_var": 4.6595730125374075,
            "y_var": 6.315408740352355
           },
           {
            "x_var": 5.265059963218892,
            "y_var": 6.436174108630501
           },
           {
            "x_var": 4.876900605149631,
            "y_var": 4.574330435706004
           },
           {
            "x_var": 3.903905058802349,
            "y_var": 5.891891024261857
           },
           {
            "x_var": 4.821049644740702,
            "y_var": 5.441860888028762
           },
           {
            "x_var": 4.978553783565133,
            "y_var": 6.023885473155691
           },
           {
            "x_var": 5.068359295478876,
            "y_var": 4.6328842181730705
           },
           {
            "x_var": 4.188174732829357,
            "y_var": 6.54419845556333
           }
          ]
         },
         "encoding": {
          "x": {
           "axis": {
            "title": "x_var"
           },
           "field": "x_var",
           "scale": {
            "domain": [
             0.26325111298190085,
             7.4786047025994655
            ],
            "nice": false
           },
           "type": "quantitative"
          },
          "y": {
           "axis": {
            "title": "y_var"
           },
           "field": "y_var",
           "type": "quantitative"
          }
         },
         "mark": {
          "clip": true,
          "type": "circle"
         }
        },
        {
         "data": {
          "values": [
           {
            "x": 0.26325111298190085,
            "y": 4.467765095897596
           },
           {
            "x": 0.33613347247298736,
            "y": 4.498313310462624
           },
           {
            "x": 0.4090158319640739,
            "y": 4.528861525027652
           },
           {
            "x": 0.4818981914551604,
            "y": 4.55940973959268
           },
           {
            "x": 0.5547805509462469,
            "y": 4.589957954157708
           },
           {
            "x": 0.6276629104373335,
            "y": 4.620506168722736
           },
           {
            "x": 0.7005452699284199,
            "y": 4.6510543832877635
           },
           {
            "x": 0.7734276294195064,
            "y": 4.681602597852792
           },
           {
            "x": 0.846309988910593,
            "y": 4.7121508124178195
           },
           {
            "x": 0.9191923484016795,
            "y": 4.742699026982848
           },
           {
            "x": 0.992074707892766,
            "y": 4.7732472415478755
           },
           {
            "x": 1.0649570673838524,
            "y": 4.803795456112903
           },
           {
            "x": 1.137839426874939,
            "y": 4.8343436706779315
           },
           {
            "x": 1.2107217863660256,
            "y": 4.864891885242959
           },
           {
            "x": 1.283604145857112,
            "y": 4.895440099807987
           },
           {
            "x": 1.3564865053481985,
            "y": 4.925988314373015
           },
           {
            "x": 1.429368864839285,
            "y": 4.956536528938043
           },
           {
            "x": 1.5022512243303716,
            "y": 4.987084743503071
           },
           {
            "x": 1.5751335838214582,
            "y": 5.0176329580680985
           },
           {
            "x": 1.6480159433125445,
            "y": 5.048181172633127
           },
           {
            "x": 1.720898302803631,
            "y": 5.0787293871981545
           },
           {
            "x": 1.7937806622947177,
            "y": 5.109277601763183
           },
           {
            "x": 1.866663021785804,
            "y": 5.1398258163282105
           },
           {
            "x": 1.9395453812768906,
            "y": 5.170374030893239
           },
           {
            "x": 2.0124277407679774,
            "y": 5.200922245458266
           },
           {
            "x": 2.085310100259064,
            "y": 5.231470460023295
           },
           {
            "x": 2.1581924597501505,
            "y": 5.262018674588322
           },
           {
            "x": 2.2310748192412366,
            "y": 5.29256688915335
           },
           {
            "x": 2.3039571787323228,
            "y": 5.323115103718378
           },
           {
            "x": 2.3768395382234093,
            "y": 5.353663318283406
           },
           {
            "x": 2.449721897714496,
            "y": 5.384211532848434
           },
           {
            "x": 2.5226042572055825,
            "y": 5.414759747413462
           },
           {
            "x": 2.595486616696669,
            "y": 5.445307961978489
           },
           {
            "x": 2.6683689761877556,
            "y": 5.475856176543518
           },
           {
            "x": 2.741251335678842,
            "y": 5.506404391108546
           },
           {
            "x": 2.8141336951699287,
            "y": 5.536952605673574
           },
           {
            "x": 2.8870160546610153,
            "y": 5.567500820238601
           },
           {
            "x": 2.959898414152102,
            "y": 5.59804903480363
           },
           {
            "x": 3.0327807736431884,
            "y": 5.628597249368657
           },
           {
            "x": 3.105663133134275,
            "y": 5.659145463933686
           },
           {
            "x": 3.1785454926253616,
            "y": 5.689693678498713
           },
           {
            "x": 3.251427852116448,
            "y": 5.720241893063742
           },
           {
            "x": 3.3243102116075347,
            "y": 5.750790107628769
           },
           {
            "x": 3.3971925710986213,
            "y": 5.781338322193798
           },
           {
            "x": 3.470074930589707,
            "y": 5.811886536758825
           },
           {
            "x": 3.5429572900807935,
            "y": 5.842434751323853
           },
           {
            "x": 3.61583964957188,
            "y": 5.87298296588888
           },
           {
            "x": 3.6887220090629667,
            "y": 5.903531180453909
           },
           {
            "x": 3.7616043685540532,
            "y": 5.934079395018937
           },
           {
            "x": 3.83448672804514,
            "y": 5.964627609583965
           },
           {
            "x": 3.9073690875362264,
            "y": 5.995175824148992
           },
           {
            "x": 3.980251447027313,
            "y": 6.025724038714021
           },
           {
            "x": 4.0531338065183995,
            "y": 6.056272253279049
           },
           {
            "x": 4.126016166009486,
            "y": 6.086820467844077
           },
           {
            "x": 4.198898525500573,
            "y": 6.117368682409104
           },
           {
            "x": 4.271780884991659,
            "y": 6.147916896974133
           },
           {
            "x": 4.344663244482745,
            "y": 6.17846511153916
           },
           {
            "x": 4.4175456039738314,
            "y": 6.209013326104188
           },
           {
            "x": 4.490427963464918,
            "y": 6.239561540669216
           },
           {
            "x": 4.563310322956005,
            "y": 6.270109755234244
           },
           {
            "x": 4.636192682447091,
            "y": 6.300657969799272
           },
           {
            "x": 4.709075041938178,
            "y": 6.3312061843643
           },
           {
            "x": 4.781957401429264,
            "y": 6.361754398929328
           },
           {
            "x": 4.854839760920351,
            "y": 6.392302613494356
           },
           {
            "x": 4.927722120411437,
            "y": 6.422850828059383
           },
           {
            "x": 5.000604479902524,
            "y": 6.453399042624412
           },
           {
            "x": 5.073486839393611,
            "y": 6.48394725718944
           },
           {
            "x": 5.146369198884697,
            "y": 6.514495471754468
           },
           {
            "x": 5.219251558375784,
            "y": 6.545043686319495
           },
           {
            "x": 5.29213391786687,
            "y": 6.575591900884524
           },
           {
            "x": 5.365016277357957,
            "y": 6.606140115449552
           },
           {
            "x": 5.437898636849043,
            "y": 6.63668833001458
           },
           {
            "x": 5.51078099634013,
            "y": 6.667236544579607
           },
           {
            "x": 5.583663355831216,
            "y": 6.697784759144636
           },
           {
            "x": 5.656545715322302,
            "y": 6.728332973709663
           },
           {
            "x": 5.729428074813389,
            "y": 6.758881188274691
           },
           {
            "x": 5.802310434304475,
            "y": 6.789429402839719
           },
           {
            "x": 5.875192793795562,
            "y": 6.8199776174047475
           },
           {
            "x": 5.9480751532866485,
            "y": 6.850525831969774
           },
           {
            "x": 6.020957512777735,
            "y": 6.881074046534803
           },
           {
            "x": 6.093839872268822,
            "y": 6.911622261099831
           },
           {
            "x": 6.166722231759908,
            "y": 6.942170475664859
           },
           {
            "x": 6.239604591250995,
            "y": 6.972718690229886
           },
           {
            "x": 6.312486950742081,
            "y": 7.0032669047949145
           },
           {
            "x": 6.385369310233168,
            "y": 7.033815119359943
           },
           {
            "x": 6.4582516697242545,
            "y": 7.0643633339249705
           },
           {
            "x": 6.531134029215341,
            "y": 7.094911548489998
           },
           {
            "x": 6.604016388706428,
            "y": 7.1254597630550265
           },
           {
            "x": 6.676898748197513,
            "y": 7.156007977620054
           },
           {
            "x": 6.7497811076886,
            "y": 7.186556192185082
           },
           {
            "x": 6.822663467179686,
            "y": 7.21710440675011
           },
           {
            "x": 6.895545826670773,
            "y": 7.247652621315138
           },
           {
            "x": 6.9684281861618595,
            "y": 7.278200835880166
           },
           {
            "x": 7.041310545652946,
            "y": 7.3087490504451935
           },
           {
            "x": 7.114192905144033,
            "y": 7.339297265010222
           },
           {
            "x": 7.187075264635119,
            "y": 7.36984547957525
           },
           {
            "x": 7.259957624126206,
            "y": 7.400393694140277
           },
           {
            "x": 7.332839983617292,
            "y": 7.4309419087053055
           },
           {
            "x": 7.405722343108379,
            "y": 7.461490123270334
           },
           {
            "x": 7.4786047025994655,
            "y": 7.492038337835361
           }
          ]
         },
         "encoding": {
          "x": {
           "field": "x",
           "scale": {
            "domain": [
             0.26325111298190085,
             7.4786047025994655
            ],
            "nice": false
           },
           "type": "quantitative"
          },
          "y": {
           "field": "y",
           "type": "quantitative"
          }
         },
         "mark": {
          "clip": true,
          "type": "line"
         }
        },
        {
         "data": {
          "values": [
           {
            "x": 0.26325111298190085,
            "y1": 4.1664676637573885,
            "y2": 4.754801231694627
           },
           {
            "x": 0.33613347247298736,
            "y1": 4.201256863194988,
            "y2": 4.778914997382601
           },
           {
            "x": 0.4090158319640739,
            "y1": 4.236698694670196,
            "y2": 4.804504664223165
           },
           {
            "x": 0.4818981914551604,
            "y1": 4.273767903820442,
            "y2": 4.829106886928703
           },
           {
            "x": 0.5547805509462469,
            "y1": 4.309782342814861,
            "y2": 4.854808117812298
           },
           {
            "x": 0.6276629104373335,
            "y1": 4.345753217132193,
            "y2": 4.878936265058907
           },
           {
            "x": 0.7005452699284199,
            "y1": 4.382382947950514,
            "y2": 4.904079904601882
           },
           {
            "x": 0.7734276294195064,
            "y1": 4.418452553571847,
            "y2": 4.928478355150127
           },
           {
            "x": 0.846309988910593,
            "y1": 4.454685654678018,
            "y2": 4.9527477161975035
           },
           {
            "x": 0.9191923484016795,
            "y1": 4.489605481617182,
            "y2": 4.977127366313341
           },
           {
            "x": 0.992074707892766,
            "y1": 4.5229508170301385,
            "y2": 5.002274355426836
           },
           {
            "x": 1.0649570673838524,
            "y1": 4.55859838706829,
            "y2": 5.027825727563208
           },
           {
            "x": 1.137839426874939,
            "y1": 4.594198520103299,
            "y2": 5.053470680554574
           },
           {
            "x": 1.2107217863660256,
            "y1": 4.629511034971017,
            "y2": 5.080373330450259
           },
           {
            "x": 1.283604145857112,
            "y1": 4.66636771833506,
            "y2": 5.109118794366834
           },
           {
            "x": 1.3564865053481985,
            "y1": 4.7031165214999255,
            "y2": 5.134000821679837
           },
           {
            "x": 1.429368864839285,
            "y1": 4.739783964097451,
            "y2": 5.158639541826427
           },
           {
            "x": 1.5022512243303716,
            "y1": 4.7763311114862335,
            "y2": 5.183763575892922
           },
           {
            "x": 1.5751335838214582,
            "y1": 4.811235088451552,
            "y2": 5.2083928441409535
           },
           {
            "x": 1.6480159433125445,
            "y1": 4.8483788820496025,
            "y2": 5.2338472224407475
           },
           {
            "x": 1.720898302803631,
            "y1": 4.885134299282841,
            "y2": 5.261837553736867
           },
           {
            "x": 1.7937806622947177,
            "y1": 4.921050175824627,
            "y2": 5.288023346139325
           },
           {
            "x": 1.866663021785804,
            "y1": 4.956882294450949,
            "y2": 5.316202441390461
           },
           {
            "x": 1.9395453812768906,
            "y1": 4.99642096326441,
            "y2": 5.340343916395881
           },
           {
            "x": 2.0124277407679774,
            "y1": 5.032828630675899,
            "y2": 5.365143168980579
           },
           {
            "x": 2.085310100259064,
            "y1": 5.065161741868622,
            "y2": 5.390658914532758
           },
           {
            "x": 2.1581924597501505,
            "y1": 5.1002369656712006,
            "y2": 5.418162649838886
           },
           {
            "x": 2.2310748192412366,
            "y1": 5.136307786708003,
            "y2": 5.443297185659188
           },
           {
            "x": 2.3039571787323228,
            "y1": 5.172636592123128,
            "y2": 5.469258283157503
           },
           {
            "x": 2.3768395382234093,
            "y1": 5.207837989742454,
            "y2": 5.4973778805916655
           },
           {
            "x": 2.449721897714496,
            "y1": 5.242102948073169,
            "y2": 5.523353914455152
           },
           {
            "x": 2.5226042572055825,
            "y1": 5.276398784420184,
            "y2": 5.549584899071861
           },
           {
            "x": 2.595486616696669,
            "y1": 5.310921380091797,
            "y2": 5.576539496944955
           },
           {
            "x": 2.6683689761877556,
            "y1": 5.343213706095348,
            "y2": 5.603639795316205
           },
           {
            "x": 2.741251335678842,
            "y1": 5.37813716262316,
            "y2": 5.630211857488322
           },
           {
            "x": 2.8141336951699287,
            "y1": 5.41172384870638,
            "y2": 5.656403336106141
           },
           {
            "x": 2.8870160546610153,
            "y1": 5.445759130345574,
            "y2": 5.683604627226966
           },
           {
            "x": 2.959898414152102,
            "y1": 5.481506684092978,
            "y2": 5.712112031246102
           },
           {
            "x": 3.0327807736431884,
            "y1": 5.516524307732683,
            "y2": 5.739694112644716
           },
           {
            "x": 3.105663133134275,
            "y1": 5.548649183575979,
            "y2": 5.767562417263126
           },
           {
            "x": 3.1785454926253616,
            "y1": 5.582653670152516,
            "y2": 5.792935077565229
           },
           {
            "x": 3.251427852116448,
            "y1": 5.614929342030054,
            "y2": 5.8212312771805
           },
           {
            "x": 3.3243102116075347,
            "y1": 5.647411662016754,
            "y2": 5.849363339998061
           },
           {
            "x": 3.3971925710986213,
            "y1": 5.678574865101144,
            "y2": 5.87634017895644
           },
           {
            "x": 3.470074930589707,
            "y1": 5.710192863616804,
            "y2": 5.905095336627502
           },
           {
            "x": 3.5429572900807935,
            "y1": 5.742271991876615,
            "y2": 5.933439275779751
           },
           {
            "x": 3.61583964957188,
            "y1": 5.77539593563764,
            "y2": 5.964506882484755
           },
           {
            "x": 3.6887220090629667,
            "y1": 5.808598698888129,
            "y2": 5.994386686984162
           },
           {
            "x": 3.7616043685540532,
            "y1": 5.83896248736163,
            "y2": 6.026786359240982
           },
           {
            "x": 3.83448672804514,
            "y1": 5.868504720506484,
            "y2": 6.057392306288881
           },
           {
            "x": 3.9073690875362264,
            "y1": 5.899186497334354,
            "y2": 6.0913569857157475
           },
           {
            "x": 3.980251447027313,
            "y1": 5.929098532564409,
            "y2": 6.124020402338957
           },
           {
            "x": 4.0531338065183995,
            "y1": 5.956988116351696,
            "y2": 6.154336988118755
           },
           {
            "x": 4.126016166009486,
            "y1": 5.9844329134798055,
            "y2": 6.185540467927863
           },
           {
            "x": 4.198898525500573,
            "y1": 6.013672017522515,
            "y2": 6.216651555021253
           },
           {
            "x": 4.271780884991659,
            "y1": 6.044453335237126,
            "y2": 6.248538371533779
           },
           {
            "x": 4.344663244482745,
            "y1": 6.073280514413815,
            "y2": 6.281171747872252
           },
           {
            "x": 4.4175456039738314,
            "y1": 6.101700307639677,
            "y2": 6.315930525122683
           },
           {
            "x": 4.490427963464918,
            "y1": 6.128031525533986,
            "y2": 6.349662474026426
           },
           {
            "x": 4.563310322956005,
            "y1": 6.1556317866149755,
            "y2": 6.382606604450254
           },
           {
            "x": 4.636192682447091,
            "y1": 6.1831682766334195,
            "y2": 6.417056242114835
           },
           {
            "x": 4.709075041938178,
            "y1": 6.210939005183127,
            "y2": 6.4496837219709455
           },
           {
            "x": 4.781957401429264,
            "y1": 6.237124995027565,
            "y2": 6.483491063933156
           },
           {
            "x": 4.854839760920351,
            "y1": 6.261992440844182,
            "y2": 6.521199238162367
           },
           {
            "x": 4.927722120411437,
            "y1": 6.290792538532594,
            "y2": 6.557228843925867
           },
           {
            "x": 5.000604479902524,
            "y1": 6.317014110382943,
            "y2": 6.5921540157953125
           },
           {
            "x": 5.073486839393611,
            "y1": 6.340926912451752,
            "y2": 6.627488937899157
           },
           {
            "x": 5.146369198884697,
            "y1": 6.365905888467308,
            "y2": 6.661077243342332
           },
           {
            "x": 5.219251558375784,
            "y1": 6.392886245891851,
            "y2": 6.696778252184346
           },
           {
            "x": 5.29213391786687,
            "y1": 6.418265530215479,
            "y2": 6.732640052435487
           },
           {
            "x": 5.365016277357957,
            "y1": 6.443116529177933,
            "y2": 6.765681501481638
           },
           {
            "x": 5.437898636849043,
            "y1": 6.468028048864407,
            "y2": 6.80031823628892
           },
           {
            "x": 5.51078099634013,
            "y1": 6.494111309439662,
            "y2": 6.837001966926468
           },
           {
            "x": 5.583663355831216,
            "y1": 6.518186742405321,
            "y2": 6.872831164220235
           },
           {
            "x": 5.656545715322302,
            "y1": 6.54442056603057,
            "y2": 6.9081238530776785
           },
           {
            "x": 5.729428074813389,
            "y1": 6.570674347908076,
            "y2": 6.94516215839028
           },
           {
            "x": 5.802310434304475,
            "y1": 6.597705817982539,
            "y2": 6.980958362187913
           },
           {
            "x": 5.875192793795562,
            "y1": 6.624215639804639,
            "y2": 7.015906515897729
           },
           {
            "x": 5.9480751532866485,
            "y1": 6.652199788379884,
            "y2": 7.051703138185678
           },
           {
            "x": 6.020957512777735,
            "y1": 6.680073495719268,
            "y2": 7.085947406790042
           },
           {
            "x": 6.093839872268822,
            "y1": 6.704288566217757,
            "y2": 7.12286221930753
           },
           {
            "x": 6.166722231759908,
            "y1": 6.728115522070803,
            "y2": 7.1599829489581595
           },
           {
            "x": 6.239604591250995,
            "y1": 6.754192998613117,
            "y2": 7.197234519549616
           },
           {
            "x": 6.312486950742081,
            "y1": 6.781393538916842,
            "y2": 7.23360274129669
           },
           {
            "x": 6.385369310233168,
            "y1": 6.807789862787408,
            "y2": 7.270091075466754
           },
           {
            "x": 6.4582516697242545,
            "y1": 6.8324634678610385,
            "y2": 7.305756714797518
           },
           {
            "x": 6.531134029215341,
            "y1": 6.858950257164319,
            "y2": 7.341479295404616
           },
           {
            "x": 6.604016388706428,
            "y1": 6.885892651400287,
            "y2": 7.376884438137221
           },
           {
            "x": 6.676898748197513,
            "y1": 6.912504109235436,
            "y2": 7.412595651721993
           },
           {
            "x": 6.7497811076886,
            "y1": 6.936935871765376,
            "y2": 7.448426862403462
           },
           {
            "x": 6.822663467179686,
            "y1": 6.963731228839867,
            "y2": 7.484222701532463
           },
           {
            "x": 6.895545826670773,
            "y1": 6.988917010757473,
            "y2": 7.519419098974659
           },
           {
            "x": 6.9684281861618595,
            "y1": 7.0155578389568936,
            "y2": 7.5545532818534795
           },
           {
            "x": 7.041310545652946,
            "y1": 7.042215445808109,
            "y2": 7.589584685837143
           },
           {
            "x": 7.114192905144033,
            "y1": 7.067600087520575,
            "y2": 7.623304572606482
           },
           {
            "x": 7.187075264635119,
            "y1": 7.09240126492058,
            "y2": 7.65712586384557
           },
           {
            "x": 7.259957624126206,
            "y1": 7.116796307181458,
            "y2": 7.692512293919152
           },
           {
            "x": 7.332839983617292,
            "y1": 7.140970800137671,
            "y2": 7.729296740364157
           },
           {
            "x": 7.405722343108379,
            "y1": 7.1662968383989805,
            "y2": 7.764536434809629
           },
           {
            "x": 7.4786047025994655,
            "y1": 7.193151314381412,
            "y2": 7.802259931061032
           }
          ]
         },
         "encoding": {
          "opacity": {
           "value": 0.15
          },
          "x": {
           "field": "x",
           "scale": {
            "domain": [
             0.26325111298190085,
             7.4786047025994655
            ],
            "nice": false
           },
           "type": "quantitative"
          },
          "y": {
           "field": "y1",
           "type": "quantitative"
          },
          "y2": {
           "field": "y2",
           "type": "quantitative"
          }
         },
         "mark": {
          "clip": true,
          "type": "area"
         }
        }
       ]
      },
      "image/png": "[encoded data removed]",
      "text/plain": [
       "<VegaLite 2 object>\n",
       "\n",
       "If you see this message, it means the renderer has not been properly enabled\n",
       "for the frontend that you are using. For more information, see\n",
       "https://altair-viz.github.io/user_guide/troubleshooting.html\n"
      ]
     },
     "metadata": {},
     "output_type": "display_data"
    },
    {
     "data": {
      "image/png": "[encoded data removed]",
      "text/plain": [
       "<Figure size 432x288 with 1 Axes>"
      ]
     },
     "metadata": {},
     "output_type": "display_data"
    }
   ],
   "source": [
    "display(salt.regplot(x=x, y=y, ci=68))\n",
    "ax = sns.regplot(x=x, y=y, ci=68)"
   ]
  },
  {
   "cell_type": "code",
   "execution_count": 6,
   "metadata": {},
   "outputs": [
    {
     "data": {
      "application/vnd.vegalite.v2+json": {
       "$schema": "https://vega.github.io/schema/vega-lite/v2.4.1.json",
       "config": {
        "view": {
         "height": 300,
         "width": 400
        }
       },
       "layer": [
        {
         "data": {
          "values": [
           {
            "day": "Sun",
            "sex": "Female",
            "size": 2,
            "smoker": "No",
            "time": "Dinner",
            "tip": 1.01,
            "total_bill": 16.99
           },
           {
            "day": "Sun",
            "sex": "Male",
            "size": 3,
            "smoker": "No",
            "time": "Dinner",
            "tip": 1.66,
            "total_bill": 10.34
           },
           {
            "day": "Sun",
            "sex": "Male",
            "size": 3,
            "smoker": "No",
            "time": "Dinner",
            "tip": 3.5,
            "total_bill": 21.01
           },
           {
            "day": "Sun",
            "sex": "Male",
            "size": 2,
            "smoker": "No",
            "time": "Dinner",
            "tip": 3.31,
            "total_bill": 23.68
           },
           {
            "day": "Sun",
            "sex": "Female",
            "size": 4,
            "smoker": "No",
            "time": "Dinner",
            "tip": 3.61,
            "total_bill": 24.59
           },
           {
            "day": "Sun",
            "sex": "Male",
            "size": 4,
            "smoker": "No",
            "time": "Dinner",
            "tip": 4.71,
            "total_bill": 25.29
           },
           {
            "day": "Sun",
            "sex": "Male",
            "size": 2,
            "smoker": "No",
            "time": "Dinner",
            "tip": 2,
            "total_bill": 8.77
           },
           {
            "day": "Sun",
            "sex": "Male",
            "size": 4,
            "smoker": "No",
            "time": "Dinner",
            "tip": 3.12,
            "total_bill": 26.88
           },
           {
            "day": "Sun",
            "sex": "Male",
            "size": 2,
            "smoker": "No",
            "time": "Dinner",
            "tip": 1.96,
            "total_bill": 15.04
           },
           {
            "day": "Sun",
            "sex": "Male",
            "size": 2,
            "smoker": "No",
            "time": "Dinner",
            "tip": 3.23,
            "total_bill": 14.78
           },
           {
            "day": "Sun",
            "sex": "Male",
            "size": 2,
            "smoker": "No",
            "time": "Dinner",
            "tip": 1.71,
            "total_bill": 10.27
           },
           {
            "day": "Sun",
            "sex": "Female",
            "size": 4,
            "smoker": "No",
            "time": "Dinner",
            "tip": 5,
            "total_bill": 35.26
           },
           {
            "day": "Sun",
            "sex": "Male",
            "size": 2,
            "smoker": "No",
            "time": "Dinner",
            "tip": 1.57,
            "total_bill": 15.42
           },
           {
            "day": "Sun",
            "sex": "Male",
            "size": 4,
            "smoker": "No",
            "time": "Dinner",
            "tip": 3,
            "total_bill": 18.43
           },
           {
            "day": "Sun",
            "sex": "Female",
            "size": 2,
            "smoker": "No",
            "time": "Dinner",
            "tip": 3.02,
            "total_bill": 14.83
           },
           {
            "day": "Sun",
            "sex": "Male",
            "size": 2,
            "smoker": "No",
            "time": "Dinner",
            "tip": 3.92,
            "total_bill": 21.58
           },
           {
            "day": "Sun",
            "sex": "Female",
            "size": 3,
            "smoker": "No",
            "time": "Dinner",
            "tip": 1.67,
            "total_bill": 10.33
           },
           {
            "day": "Sun",
            "sex": "Male",
            "size": 3,
            "smoker": "No",
            "time": "Dinner",
            "tip": 3.71,
            "total_bill": 16.29
           },
           {
            "day": "Sun",
            "sex": "Female",
            "size": 3,
            "smoker": "No",
            "time": "Dinner",
            "tip": 3.5,
            "total_bill": 16.97
           },
           {
            "day": "Sat",
            "sex": "Male",
            "size": 3,
            "smoker": "No",
            "time": "Dinner",
            "tip": 3.35,
            "total_bill": 20.65
           },
           {
            "day": "Sat",
            "sex": "Male",
            "size": 2,
            "smoker": "No",
            "time": "Dinner",
            "tip": 4.08,
            "total_bill": 17.92
           },
           {
            "day": "Sat",
            "sex": "Female",
            "size": 2,
            "smoker": "No",
            "time": "Dinner",
            "tip": 2.75,
            "total_bill": 20.29
           },
           {
            "day": "Sat",
            "sex": "Female",
            "size": 2,
            "smoker": "No",
            "time": "Dinner",
            "tip": 2.23,
            "total_bill": 15.77
           },
           {
            "day": "Sat",
            "sex": "Male",
            "size": 4,
            "smoker": "No",
            "time": "Dinner",
            "tip": 7.58,
            "total_bill": 39.42
           },
           {
            "day": "Sat",
            "sex": "Male",
            "size": 2,
            "smoker": "No",
            "time": "Dinner",
            "tip": 3.18,
            "total_bill": 19.82
           },
           {
            "day": "Sat",
            "sex": "Male",
            "size": 4,
            "smoker": "No",
            "time": "Dinner",
            "tip": 2.34,
            "total_bill": 17.81
           },
           {
            "day": "Sat",
            "sex": "Male",
            "size": 2,
            "smoker": "No",
            "time": "Dinner",
            "tip": 2,
            "total_bill": 13.37
           },
           {
            "day": "Sat",
            "sex": "Male",
            "size": 2,
            "smoker": "No",
            "time": "Dinner",
            "tip": 2,
            "total_bill": 12.69
           },
           {
            "day": "Sat",
            "sex": "Male",
            "size": 2,
            "smoker": "No",
            "time": "Dinner",
            "tip": 4.3,
            "total_bill": 21.7
           },
           {
            "day": "Sat",
            "sex": "Female",
            "size": 2,
            "smoker": "No",
            "time": "Dinner",
            "tip": 3,
            "total_bill": 19.65
           },
           {
            "day": "Sat",
            "sex": "Male",
            "size": 2,
            "smoker": "No",
            "time": "Dinner",
            "tip": 1.45,
            "total_bill": 9.55
           },
           {
            "day": "Sat",
            "sex": "Male",
            "size": 4,
            "smoker": "No",
            "time": "Dinner",
            "tip": 2.5,
            "total_bill": 18.35
           },
           {
            "day": "Sat",
            "sex": "Female",
            "size": 2,
            "smoker": "No",
            "time": "Dinner",
            "tip": 3,
            "total_bill": 15.06
           },
           {
            "day": "Sat",
            "sex": "Female",
            "size": 4,
            "smoker": "No",
            "time": "Dinner",
            "tip": 2.45,
            "total_bill": 20.69
           },
           {
            "day": "Sat",
            "sex": "Male",
            "size": 2,
            "smoker": "No",
            "time": "Dinner",
            "tip": 3.27,
            "total_bill": 17.78
           },
           {
            "day": "Sat",
            "sex": "Male",
            "size": 3,
            "smoker": "No",
            "time": "Dinner",
            "tip": 3.6,
            "total_bill": 24.06
           },
           {
            "day": "Sat",
            "sex": "Male",
            "size": 3,
            "smoker": "No",
            "time": "Dinner",
            "tip": 2,
            "total_bill": 16.31
           },
           {
            "day": "Sat",
            "sex": "Female",
            "size": 3,
            "smoker": "No",
            "time": "Dinner",
            "tip": 3.07,
            "total_bill": 16.93
           },
           {
            "day": "Sat",
            "sex": "Male",
            "size": 3,
            "smoker": "No",
            "time": "Dinner",
            "tip": 2.31,
            "total_bill": 18.69
           },
           {
            "day": "Sat",
            "sex": "Male",
            "size": 3,
            "smoker": "No",
            "time": "Dinner",
            "tip": 5,
            "total_bill": 31.27
           },
           {
            "day": "Sat",
            "sex": "Male",
            "size": 3,
            "smoker": "No",
            "time": "Dinner",
            "tip": 2.24,
            "total_bill": 16.04
           },
           {
            "day": "Sun",
            "sex": "Male",
            "size": 2,
            "smoker": "No",
            "time": "Dinner",
            "tip": 2.54,
            "total_bill": 17.46
           },
           {
            "day": "Sun",
            "sex": "Male",
            "size": 2,
            "smoker": "No",
            "time": "Dinner",
            "tip": 3.06,
            "total_bill": 13.94
           },
           {
            "day": "Sun",
            "sex": "Male",
            "size": 2,
            "smoker": "No",
            "time": "Dinner",
            "tip": 1.32,
            "total_bill": 9.68
           },
           {
            "day": "Sun",
            "sex": "Male",
            "size": 4,
            "smoker": "No",
            "time": "Dinner",
            "tip": 5.6,
            "total_bill": 30.4
           },
           {
            "day": "Sun",
            "sex": "Male",
            "size": 2,
            "smoker": "No",
            "time": "Dinner",
            "tip": 3,
            "total_bill": 18.29
           },
           {
            "day": "Sun",
            "sex": "Male",
            "size": 2,
            "smoker": "No",
            "time": "Dinner",
            "tip": 5,
            "total_bill": 22.23
           },
           {
            "day": "Sun",
            "sex": "Male",
            "size": 4,
            "smoker": "No",
            "time": "Dinner",
            "tip": 6,
            "total_bill": 32.4
           },
           {
            "day": "Sun",
            "sex": "Male",
            "size": 3,
            "smoker": "No",
            "time": "Dinner",
            "tip": 2.05,
            "total_bill": 28.55
           },
           {
            "day": "Sun",
            "sex": "Male",
            "size": 2,
            "smoker": "No",
            "time": "Dinner",
            "tip": 3,
            "total_bill": 18.04
           },
           {
            "day": "Sun",
            "sex": "Male",
            "size": 2,
            "smoker": "No",
            "time": "Dinner",
            "tip": 2.5,
            "total_bill": 12.54
           },
           {
            "day": "Sun",
            "sex": "Female",
            "size": 2,
            "smoker": "No",
            "time": "Dinner",
            "tip": 2.6,
            "total_bill": 10.29
           },
           {
            "day": "Sun",
            "sex": "Female",
            "size": 4,
            "smoker": "No",
            "time": "Dinner",
            "tip": 5.2,
            "total_bill": 34.81
           },
           {
            "day": "Sun",
            "sex": "Male",
            "size": 2,
            "smoker": "No",
            "time": "Dinner",
            "tip": 1.56,
            "total_bill": 9.94
           },
           {
            "day": "Sun",
            "sex": "Male",
            "size": 4,
            "smoker": "No",
            "time": "Dinner",
            "tip": 4.34,
            "total_bill": 25.56
           },
           {
            "day": "Sun",
            "sex": "Male",
            "size": 2,
            "smoker": "No",
            "time": "Dinner",
            "tip": 3.51,
            "total_bill": 19.49
           },
           {
            "day": "Sat",
            "sex": "Male",
            "size": 4,
            "smoker": "Yes",
            "time": "Dinner",
            "tip": 3,
            "total_bill": 38.01
           },
           {
            "day": "Sat",
            "sex": "Female",
            "size": 2,
            "smoker": "No",
            "time": "Dinner",
            "tip": 1.5,
            "total_bill": 26.41
           },
           {
            "day": "Sat",
            "sex": "Male",
            "size": 2,
            "smoker": "Yes",
            "time": "Dinner",
            "tip": 1.76,
            "total_bill": 11.24
           },
           {
            "day": "Sat",
            "sex": "Male",
            "size": 4,
            "smoker": "No",
            "time": "Dinner",
            "tip": 6.73,
            "total_bill": 48.27
           },
           {
            "day": "Sat",
            "sex": "Male",
            "size": 2,
            "smoker": "Yes",
            "time": "Dinner",
            "tip": 3.21,
            "total_bill": 20.29
           },
           {
            "day": "Sat",
            "sex": "Male",
            "size": 2,
            "smoker": "Yes",
            "time": "Dinner",
            "tip": 2,
            "total_bill": 13.81
           },
           {
            "day": "Sat",
            "sex": "Male",
            "size": 2,
            "smoker": "Yes",
            "time": "Dinner",
            "tip": 1.98,
            "total_bill": 11.02
           },
           {
            "day": "Sat",
            "sex": "Male",
            "size": 4,
            "smoker": "Yes",
            "time": "Dinner",
            "tip": 3.76,
            "total_bill": 18.29
           },
           {
            "day": "Sat",
            "sex": "Male",
            "size": 3,
            "smoker": "No",
            "time": "Dinner",
            "tip": 2.64,
            "total_bill": 17.59
           },
           {
            "day": "Sat",
            "sex": "Male",
            "size": 3,
            "smoker": "No",
            "time": "Dinner",
            "tip": 3.15,
            "total_bill": 20.08
           },
           {
            "day": "Sat",
            "sex": "Female",
            "size": 2,
            "smoker": "No",
            "time": "Dinner",
            "tip": 2.47,
            "total_bill": 16.45
           },
           {
            "day": "Sat",
            "sex": "Female",
            "size": 1,
            "smoker": "Yes",
            "time": "Dinner",
            "tip": 1,
            "total_bill": 3.07
           },
           {
            "day": "Sat",
            "sex": "Male",
            "size": 2,
            "smoker": "No",
            "time": "Dinner",
            "tip": 2.01,
            "total_bill": 20.23
           },
           {
            "day": "Sat",
            "sex": "Male",
            "size": 2,
            "smoker": "Yes",
            "time": "Dinner",
            "tip": 2.09,
            "total_bill": 15.01
           },
           {
            "day": "Sat",
            "sex": "Male",
            "size": 2,
            "smoker": "No",
            "time": "Dinner",
            "tip": 1.97,
            "total_bill": 12.02
           },
           {
            "day": "Sat",
            "sex": "Female",
            "size": 3,
            "smoker": "No",
            "time": "Dinner",
            "tip": 3,
            "total_bill": 17.07
           },
           {
            "day": "Sat",
            "sex": "Female",
            "size": 2,
            "smoker": "Yes",
            "time": "Dinner",
            "tip": 3.14,
            "total_bill": 26.86
           },
           {
            "day": "Sat",
            "sex": "Female",
            "size": 2,
            "smoker": "Yes",
            "time": "Dinner",
            "tip": 5,
            "total_bill": 25.28
           },
           {
            "day": "Sat",
            "sex": "Female",
            "size": 2,
            "smoker": "No",
            "time": "Dinner",
            "tip": 2.2,
            "total_bill": 14.73
           },
           {
            "day": "Sat",
            "sex": "Male",
            "size": 2,
            "smoker": "No",
            "time": "Dinner",
            "tip": 1.25,
            "total_bill": 10.51
           },
           {
            "day": "Sat",
            "sex": "Male",
            "size": 2,
            "smoker": "Yes",
            "time": "Dinner",
            "tip": 3.08,
            "total_bill": 17.92
           },
           {
            "day": "Thur",
            "sex": "Male",
            "size": 4,
            "smoker": "No",
            "time": "Lunch",
            "tip": 4,
            "total_bill": 27.2
           },
           {
            "day": "Thur",
            "sex": "Male",
            "size": 2,
            "smoker": "No",
            "time": "Lunch",
            "tip": 3,
            "total_bill": 22.76
           },
           {
            "day": "Thur",
            "sex": "Male",
            "size": 2,
            "smoker": "No",
            "time": "Lunch",
            "tip": 2.71,
            "total_bill": 17.29
           },
           {
            "day": "Thur",
            "sex": "Male",
            "size": 2,
            "smoker": "Yes",
            "time": "Lunch",
            "tip": 3,
            "total_bill": 19.44
           },
           {
            "day": "Thur",
            "sex": "Male",
            "size": 2,
            "smoker": "No",
            "time": "Lunch",
            "tip": 3.4,
            "total_bill": 16.66
           },
           {
            "day": "Thur",
            "sex": "Female",
            "size": 1,
            "smoker": "No",
            "time": "Lunch",
            "tip": 1.83,
            "total_bill": 10.07
           },
           {
            "day": "Thur",
            "sex": "Male",
            "size": 2,
            "smoker": "Yes",
            "time": "Lunch",
            "tip": 5,
            "total_bill": 32.68
           },
           {
            "day": "Thur",
            "sex": "Male",
            "size": 2,
            "smoker": "No",
            "time": "Lunch",
            "tip": 2.03,
            "total_bill": 15.98
           },
           {
            "day": "Thur",
            "sex": "Female",
            "size": 4,
            "smoker": "No",
            "time": "Lunch",
            "tip": 5.17,
            "total_bill": 34.83
           },
           {
            "day": "Thur",
            "sex": "Male",
            "size": 2,
            "smoker": "No",
            "time": "Lunch",
            "tip": 2,
            "total_bill": 13.03
           },
           {
            "day": "Thur",
            "sex": "Male",
            "size": 2,
            "smoker": "No",
            "time": "Lunch",
            "tip": 4,
            "total_bill": 18.28
           },
           {
            "day": "Thur",
            "sex": "Male",
            "size": 2,
            "smoker": "No",
            "time": "Lunch",
            "tip": 5.85,
            "total_bill": 24.71
           },
           {
            "day": "Thur",
            "sex": "Male",
            "size": 2,
            "smoker": "No",
            "time": "Lunch",
            "tip": 3,
            "total_bill": 21.16
           },
           {
            "day": "Fri",
            "sex": "Male",
            "size": 2,
            "smoker": "Yes",
            "time": "Dinner",
            "tip": 3,
            "total_bill": 28.97
           },
           {
            "day": "Fri",
            "sex": "Male",
            "size": 2,
            "smoker": "No",
            "time": "Dinner",
            "tip": 3.5,
            "total_bill": 22.49
           },
           {
            "day": "Fri",
            "sex": "Female",
            "size": 2,
            "smoker": "Yes",
            "time": "Dinner",
            "tip": 1,
            "total_bill": 5.75
           },
           {
            "day": "Fri",
            "sex": "Female",
            "size": 2,
            "smoker": "Yes",
            "time": "Dinner",
            "tip": 4.3,
            "total_bill": 16.32
           },
           {
            "day": "Fri",
            "sex": "Female",
            "size": 2,
            "smoker": "No",
            "time": "Dinner",
            "tip": 3.25,
            "total_bill": 22.75
           },
           {
            "day": "Fri",
            "sex": "Male",
            "size": 4,
            "smoker": "Yes",
            "time": "Dinner",
            "tip": 4.73,
            "total_bill": 40.17
           },
           {
            "day": "Fri",
            "sex": "Male",
            "size": 2,
            "smoker": "Yes",
            "time": "Dinner",
            "tip": 4,
            "total_bill": 27.28
           },
           {
            "day": "Fri",
            "sex": "Male",
            "size": 2,
            "smoker": "Yes",
            "time": "Dinner",
            "tip": 1.5,
            "total_bill": 12.03
           },
           {
            "day": "Fri",
            "sex": "Male",
            "size": 2,
            "smoker": "Yes",
            "time": "Dinner",
            "tip": 3,
            "total_bill": 21.01
           },
           {
            "day": "Fri",
            "sex": "Male",
            "size": 2,
            "smoker": "No",
            "time": "Dinner",
            "tip": 1.5,
            "total_bill": 12.46
           },
           {
            "day": "Fri",
            "sex": "Female",
            "size": 2,
            "smoker": "Yes",
            "time": "Dinner",
            "tip": 2.5,
            "total_bill": 11.35
           },
           {
            "day": "Fri",
            "sex": "Female",
            "size": 2,
            "smoker": "Yes",
            "time": "Dinner",
            "tip": 3,
            "total_bill": 15.38
           },
           {
            "day": "Sat",
            "sex": "Female",
            "size": 3,
            "smoker": "Yes",
            "time": "Dinner",
            "tip": 2.5,
            "total_bill": 44.3
           },
           {
            "day": "Sat",
            "sex": "Female",
            "size": 2,
            "smoker": "Yes",
            "time": "Dinner",
            "tip": 3.48,
            "total_bill": 22.42
           },
           {
            "day": "Sat",
            "sex": "Female",
            "size": 2,
            "smoker": "No",
            "time": "Dinner",
            "tip": 4.08,
            "total_bill": 20.92
           },
           {
            "day": "Sat",
            "sex": "Male",
            "size": 2,
            "smoker": "Yes",
            "time": "Dinner",
            "tip": 1.64,
            "total_bill": 15.36
           },
           {
            "day": "Sat",
            "sex": "Male",
            "size": 2,
            "smoker": "Yes",
            "time": "Dinner",
            "tip": 4.06,
            "total_bill": 20.49
           },
           {
            "day": "Sat",
            "sex": "Male",
            "size": 2,
            "smoker": "Yes",
            "time": "Dinner",
            "tip": 4.29,
            "total_bill": 25.21
           },
           {
            "day": "Sat",
            "sex": "Male",
            "size": 2,
            "smoker": "No",
            "time": "Dinner",
            "tip": 3.76,
            "total_bill": 18.24
           },
           {
            "day": "Sat",
            "sex": "Female",
            "size": 2,
            "smoker": "Yes",
            "time": "Dinner",
            "tip": 4,
            "total_bill": 14.31
           },
           {
            "day": "Sat",
            "sex": "Male",
            "size": 2,
            "smoker": "No",
            "time": "Dinner",
            "tip": 3,
            "total_bill": 14
           },
           {
            "day": "Sat",
            "sex": "Female",
            "size": 1,
            "smoker": "No",
            "time": "Dinner",
            "tip": 1,
            "total_bill": 7.25
           },
           {
            "day": "Sun",
            "sex": "Male",
            "size": 3,
            "smoker": "No",
            "time": "Dinner",
            "tip": 4,
            "total_bill": 38.07
           },
           {
            "day": "Sun",
            "sex": "Male",
            "size": 2,
            "smoker": "No",
            "time": "Dinner",
            "tip": 2.55,
            "total_bill": 23.95
           },
           {
            "day": "Sun",
            "sex": "Female",
            "size": 3,
            "smoker": "No",
            "time": "Dinner",
            "tip": 4,
            "total_bill": 25.71
           },
           {
            "day": "Sun",
            "sex": "Female",
            "size": 2,
            "smoker": "No",
            "time": "Dinner",
            "tip": 3.5,
            "total_bill": 17.31
           },
           {
            "day": "Sun",
            "sex": "Male",
            "size": 4,
            "smoker": "No",
            "time": "Dinner",
            "tip": 5.07,
            "total_bill": 29.93
           },
           {
            "day": "Thur",
            "sex": "Female",
            "size": 2,
            "smoker": "No",
            "time": "Lunch",
            "tip": 1.5,
            "total_bill": 10.65
           },
           {
            "day": "Thur",
            "sex": "Female",
            "size": 2,
            "smoker": "No",
            "time": "Lunch",
            "tip": 1.8,
            "total_bill": 12.43
           },
           {
            "day": "Thur",
            "sex": "Female",
            "size": 4,
            "smoker": "No",
            "time": "Lunch",
            "tip": 2.92,
            "total_bill": 24.08
           },
           {
            "day": "Thur",
            "sex": "Male",
            "size": 2,
            "smoker": "No",
            "time": "Lunch",
            "tip": 2.31,
            "total_bill": 11.69
           },
           {
            "day": "Thur",
            "sex": "Female",
            "size": 2,
            "smoker": "No",
            "time": "Lunch",
            "tip": 1.68,
            "total_bill": 13.42
           },
           {
            "day": "Thur",
            "sex": "Male",
            "size": 2,
            "smoker": "No",
            "time": "Lunch",
            "tip": 2.5,
            "total_bill": 14.26
           },
           {
            "day": "Thur",
            "sex": "Male",
            "size": 2,
            "smoker": "No",
            "time": "Lunch",
            "tip": 2,
            "total_bill": 15.95
           },
           {
            "day": "Thur",
            "sex": "Female",
            "size": 2,
            "smoker": "No",
            "time": "Lunch",
            "tip": 2.52,
            "total_bill": 12.48
           },
           {
            "day": "Thur",
            "sex": "Female",
            "size": 6,
            "smoker": "No",
            "time": "Lunch",
            "tip": 4.2,
            "total_bill": 29.8
           },
           {
            "day": "Thur",
            "sex": "Male",
            "size": 2,
            "smoker": "No",
            "time": "Lunch",
            "tip": 1.48,
            "total_bill": 8.52
           },
           {
            "day": "Thur",
            "sex": "Female",
            "size": 2,
            "smoker": "No",
            "time": "Lunch",
            "tip": 2,
            "total_bill": 14.52
           },
           {
            "day": "Thur",
            "sex": "Female",
            "size": 2,
            "smoker": "No",
            "time": "Lunch",
            "tip": 2,
            "total_bill": 11.38
           },
           {
            "day": "Thur",
            "sex": "Male",
            "size": 3,
            "smoker": "No",
            "time": "Lunch",
            "tip": 2.18,
            "total_bill": 22.82
           },
           {
            "day": "Thur",
            "sex": "Male",
            "size": 2,
            "smoker": "No",
            "time": "Lunch",
            "tip": 1.5,
            "total_bill": 19.08
           },
           {
            "day": "Thur",
            "sex": "Female",
            "size": 2,
            "smoker": "No",
            "time": "Lunch",
            "tip": 2.83,
            "total_bill": 20.27
           },
           {
            "day": "Thur",
            "sex": "Female",
            "size": 2,
            "smoker": "No",
            "time": "Lunch",
            "tip": 1.5,
            "total_bill": 11.17
           },
           {
            "day": "Thur",
            "sex": "Female",
            "size": 2,
            "smoker": "No",
            "time": "Lunch",
            "tip": 2,
            "total_bill": 12.26
           },
           {
            "day": "Thur",
            "sex": "Female",
            "size": 2,
            "smoker": "No",
            "time": "Lunch",
            "tip": 3.25,
            "total_bill": 18.26
           },
           {
            "day": "Thur",
            "sex": "Female",
            "size": 2,
            "smoker": "No",
            "time": "Lunch",
            "tip": 1.25,
            "total_bill": 8.51
           },
           {
            "day": "Thur",
            "sex": "Female",
            "size": 2,
            "smoker": "No",
            "time": "Lunch",
            "tip": 2,
            "total_bill": 10.33
           },
           {
            "day": "Thur",
            "sex": "Female",
            "size": 2,
            "smoker": "No",
            "time": "Lunch",
            "tip": 2,
            "total_bill": 14.15
           },
           {
            "day": "Thur",
            "sex": "Male",
            "size": 2,
            "smoker": "Yes",
            "time": "Lunch",
            "tip": 2,
            "total_bill": 16
           },
           {
            "day": "Thur",
            "sex": "Female",
            "size": 2,
            "smoker": "No",
            "time": "Lunch",
            "tip": 2.75,
            "total_bill": 13.16
           },
           {
            "day": "Thur",
            "sex": "Female",
            "size": 2,
            "smoker": "No",
            "time": "Lunch",
            "tip": 3.5,
            "total_bill": 17.47
           },
           {
            "day": "Thur",
            "sex": "Male",
            "size": 6,
            "smoker": "No",
            "time": "Lunch",
            "tip": 6.7,
            "total_bill": 34.3
           },
           {
            "day": "Thur",
            "sex": "Male",
            "size": 5,
            "smoker": "No",
            "time": "Lunch",
            "tip": 5,
            "total_bill": 41.19
           },
           {
            "day": "Thur",
            "sex": "Female",
            "size": 6,
            "smoker": "No",
            "time": "Lunch",
            "tip": 5,
            "total_bill": 27.05
           },
           {
            "day": "Thur",
            "sex": "Female",
            "size": 2,
            "smoker": "No",
            "time": "Lunch",
            "tip": 2.3,
            "total_bill": 16.43
           },
           {
            "day": "Thur",
            "sex": "Female",
            "size": 2,
            "smoker": "No",
            "time": "Lunch",
            "tip": 1.5,
            "total_bill": 8.35
           },
           {
            "day": "Thur",
            "sex": "Female",
            "size": 3,
            "smoker": "No",
            "time": "Lunch",
            "tip": 1.36,
            "total_bill": 18.64
           },
           {
            "day": "Thur",
            "sex": "Female",
            "size": 2,
            "smoker": "No",
            "time": "Lunch",
            "tip": 1.63,
            "total_bill": 11.87
           },
           {
            "day": "Thur",
            "sex": "Male",
            "size": 2,
            "smoker": "No",
            "time": "Lunch",
            "tip": 1.73,
            "total_bill": 9.78
           },
           {
            "day": "Thur",
            "sex": "Male",
            "size": 2,
            "smoker": "No",
            "time": "Lunch",
            "tip": 2,
            "total_bill": 7.51
           },
           {
            "day": "Sun",
            "sex": "Male",
            "size": 2,
            "smoker": "No",
            "time": "Dinner",
            "tip": 2.5,
            "total_bill": 14.07
           },
           {
            "day": "Sun",
            "sex": "Male",
            "size": 2,
            "smoker": "No",
            "time": "Dinner",
            "tip": 2,
            "total_bill": 13.13
           },
           {
            "day": "Sun",
            "sex": "Male",
            "size": 3,
            "smoker": "No",
            "time": "Dinner",
            "tip": 2.74,
            "total_bill": 17.26
           },
           {
            "day": "Sun",
            "sex": "Male",
            "size": 4,
            "smoker": "No",
            "time": "Dinner",
            "tip": 2,
            "total_bill": 24.55
           },
           {
            "day": "Sun",
            "sex": "Male",
            "size": 4,
            "smoker": "No",
            "time": "Dinner",
            "tip": 2,
            "total_bill": 19.77
           },
           {
            "day": "Sun",
            "sex": "Female",
            "size": 5,
            "smoker": "No",
            "time": "Dinner",
            "tip": 5.14,
            "total_bill": 29.85
           },
           {
            "day": "Sun",
            "sex": "Male",
            "size": 6,
            "smoker": "No",
            "time": "Dinner",
            "tip": 5,
            "total_bill": 48.17
           },
           {
            "day": "Sun",
            "sex": "Female",
            "size": 4,
            "smoker": "No",
            "time": "Dinner",
            "tip": 3.75,
            "total_bill": 25
           },
           {
            "day": "Sun",
            "sex": "Female",
            "size": 2,
            "smoker": "No",
            "time": "Dinner",
            "tip": 2.61,
            "total_bill": 13.39
           },
           {
            "day": "Sun",
            "sex": "Male",
            "size": 4,
            "smoker": "No",
            "time": "Dinner",
            "tip": 2,
            "total_bill": 16.49
           },
           {
            "day": "Sun",
            "sex": "Male",
            "size": 4,
            "smoker": "No",
            "time": "Dinner",
            "tip": 3.5,
            "total_bill": 21.5
           },
           {
            "day": "Sun",
            "sex": "Male",
            "size": 2,
            "smoker": "No",
            "time": "Dinner",
            "tip": 2.5,
            "total_bill": 12.66
           },
           {
            "day": "Sun",
            "sex": "Female",
            "size": 3,
            "smoker": "No",
            "time": "Dinner",
            "tip": 2,
            "total_bill": 16.21
           },
           {
            "day": "Sun",
            "sex": "Male",
            "size": 2,
            "smoker": "No",
            "time": "Dinner",
            "tip": 2,
            "total_bill": 13.81
           },
           {
            "day": "Sun",
            "sex": "Female",
            "size": 2,
            "smoker": "Yes",
            "time": "Dinner",
            "tip": 3,
            "total_bill": 17.51
           },
           {
            "day": "Sun",
            "sex": "Male",
            "size": 3,
            "smoker": "No",
            "time": "Dinner",
            "tip": 3.48,
            "total_bill": 24.52
           },
           {
            "day": "Sun",
            "sex": "Male",
            "size": 2,
            "smoker": "No",
            "time": "Dinner",
            "tip": 2.24,
            "total_bill": 20.76
           },
           {
            "day": "Sun",
            "sex": "Male",
            "size": 4,
            "smoker": "No",
            "time": "Dinner",
            "tip": 4.5,
            "total_bill": 31.71
           },
           {
            "day": "Sat",
            "sex": "Female",
            "size": 2,
            "smoker": "Yes",
            "time": "Dinner",
            "tip": 1.61,
            "total_bill": 10.59
           },
           {
            "day": "Sat",
            "sex": "Female",
            "size": 2,
            "smoker": "Yes",
            "time": "Dinner",
            "tip": 2,
            "total_bill": 10.63
           },
           {
            "day": "Sat",
            "sex": "Male",
            "size": 3,
            "smoker": "Yes",
            "time": "Dinner",
            "tip": 10,
            "total_bill": 50.81
           },
           {
            "day": "Sat",
            "sex": "Male",
            "size": 2,
            "smoker": "Yes",
            "time": "Dinner",
            "tip": 3.16,
            "total_bill": 15.81
           },
           {
            "day": "Sun",
            "sex": "Male",
            "size": 2,
            "smoker": "Yes",
            "time": "Dinner",
            "tip": 5.15,
            "total_bill": 7.25
           },
           {
            "day": "Sun",
            "sex": "Male",
            "size": 2,
            "smoker": "Yes",
            "time": "Dinner",
            "tip": 3.18,
            "total_bill": 31.85
           },
           {
            "day": "Sun",
            "sex": "Male",
            "size": 2,
            "smoker": "Yes",
            "time": "Dinner",
            "tip": 4,
            "total_bill": 16.82
           },
           {
            "day": "Sun",
            "sex": "Male",
            "size": 2,
            "smoker": "Yes",
            "time": "Dinner",
            "tip": 3.11,
            "total_bill": 32.9
           },
           {
            "day": "Sun",
            "sex": "Male",
            "size": 2,
            "smoker": "Yes",
            "time": "Dinner",
            "tip": 2,
            "total_bill": 17.89
           },
           {
            "day": "Sun",
            "sex": "Male",
            "size": 2,
            "smoker": "Yes",
            "time": "Dinner",
            "tip": 2,
            "total_bill": 14.48
           },
           {
            "day": "Sun",
            "sex": "Female",
            "size": 2,
            "smoker": "Yes",
            "time": "Dinner",
            "tip": 4,
            "total_bill": 9.6
           },
           {
            "day": "Sun",
            "sex": "Male",
            "size": 2,
            "smoker": "Yes",
            "time": "Dinner",
            "tip": 3.55,
            "total_bill": 34.63
           },
           {
            "day": "Sun",
            "sex": "Male",
            "size": 4,
            "smoker": "Yes",
            "time": "Dinner",
            "tip": 3.68,
            "total_bill": 34.65
           },
           {
            "day": "Sun",
            "sex": "Male",
            "size": 2,
            "smoker": "Yes",
            "time": "Dinner",
            "tip": 5.65,
            "total_bill": 23.33
           },
           {
            "day": "Sun",
            "sex": "Male",
            "size": 3,
            "smoker": "Yes",
            "time": "Dinner",
            "tip": 3.5,
            "total_bill": 45.35
           },
           {
            "day": "Sun",
            "sex": "Male",
            "size": 4,
            "smoker": "Yes",
            "time": "Dinner",
            "tip": 6.5,
            "total_bill": 23.17
           },
           {
            "day": "Sun",
            "sex": "Male",
            "size": 2,
            "smoker": "Yes",
            "time": "Dinner",
            "tip": 3,
            "total_bill": 40.55
           },
           {
            "day": "Sun",
            "sex": "Male",
            "size": 5,
            "smoker": "No",
            "time": "Dinner",
            "tip": 5,
            "total_bill": 20.69
           },
           {
            "day": "Sun",
            "sex": "Female",
            "size": 3,
            "smoker": "Yes",
            "time": "Dinner",
            "tip": 3.5,
            "total_bill": 20.9
           },
           {
            "day": "Sun",
            "sex": "Male",
            "size": 5,
            "smoker": "Yes",
            "time": "Dinner",
            "tip": 2,
            "total_bill": 30.46
           },
           {
            "day": "Sun",
            "sex": "Female",
            "size": 3,
            "smoker": "Yes",
            "time": "Dinner",
            "tip": 3.5,
            "total_bill": 18.15
           },
           {
            "day": "Sun",
            "sex": "Male",
            "size": 3,
            "smoker": "Yes",
            "time": "Dinner",
            "tip": 4,
            "total_bill": 23.1
           },
           {
            "day": "Sun",
            "sex": "Male",
            "size": 2,
            "smoker": "Yes",
            "time": "Dinner",
            "tip": 1.5,
            "total_bill": 15.69
           },
           {
            "day": "Thur",
            "sex": "Female",
            "size": 2,
            "smoker": "Yes",
            "time": "Lunch",
            "tip": 4.19,
            "total_bill": 19.81
           },
           {
            "day": "Thur",
            "sex": "Male",
            "size": 2,
            "smoker": "Yes",
            "time": "Lunch",
            "tip": 2.56,
            "total_bill": 28.44
           },
           {
            "day": "Thur",
            "sex": "Male",
            "size": 2,
            "smoker": "Yes",
            "time": "Lunch",
            "tip": 2.02,
            "total_bill": 15.48
           },
           {
            "day": "Thur",
            "sex": "Male",
            "size": 2,
            "smoker": "Yes",
            "time": "Lunch",
            "tip": 4,
            "total_bill": 16.58
           },
           {
            "day": "Thur",
            "sex": "Male",
            "size": 2,
            "smoker": "No",
            "time": "Lunch",
            "tip": 1.44,
            "total_bill": 7.56
           },
           {
            "day": "Thur",
            "sex": "Male",
            "size": 2,
            "smoker": "Yes",
            "time": "Lunch",
            "tip": 2,
            "total_bill": 10.34
           },
           {
            "day": "Thur",
            "sex": "Female",
            "size": 4,
            "smoker": "Yes",
            "time": "Lunch",
            "tip": 5,
            "total_bill": 43.11
           },
           {
            "day": "Thur",
            "sex": "Female",
            "size": 2,
            "smoker": "Yes",
            "time": "Lunch",
            "tip": 2,
            "total_bill": 13
           },
           {
            "day": "Thur",
            "sex": "Male",
            "size": 2,
            "smoker": "Yes",
            "time": "Lunch",
            "tip": 2,
            "total_bill": 13.51
           },
           {
            "day": "Thur",
            "sex": "Male",
            "size": 3,
            "smoker": "Yes",
            "time": "Lunch",
            "tip": 4,
            "total_bill": 18.71
           },
           {
            "day": "Thur",
            "sex": "Female",
            "size": 2,
            "smoker": "Yes",
            "time": "Lunch",
            "tip": 2.01,
            "total_bill": 12.74
           },
           {
            "day": "Thur",
            "sex": "Female",
            "size": 2,
            "smoker": "Yes",
            "time": "Lunch",
            "tip": 2,
            "total_bill": 13
           },
           {
            "day": "Thur",
            "sex": "Female",
            "size": 2,
            "smoker": "Yes",
            "time": "Lunch",
            "tip": 2.5,
            "total_bill": 16.4
           },
           {
            "day": "Thur",
            "sex": "Male",
            "size": 4,
            "smoker": "Yes",
            "time": "Lunch",
            "tip": 4,
            "total_bill": 20.53
           },
           {
            "day": "Thur",
            "sex": "Female",
            "size": 3,
            "smoker": "Yes",
            "time": "Lunch",
            "tip": 3.23,
            "total_bill": 16.47
           },
           {
            "day": "Sat",
            "sex": "Male",
            "size": 3,
            "smoker": "Yes",
            "time": "Dinner",
            "tip": 3.41,
            "total_bill": 26.59
           },
           {
            "day": "Sat",
            "sex": "Male",
            "size": 4,
            "smoker": "Yes",
            "time": "Dinner",
            "tip": 3,
            "total_bill": 38.73
           },
           {
            "day": "Sat",
            "sex": "Male",
            "size": 2,
            "smoker": "Yes",
            "time": "Dinner",
            "tip": 2.03,
            "total_bill": 24.27
           },
           {
            "day": "Sat",
            "sex": "Female",
            "size": 2,
            "smoker": "Yes",
            "time": "Dinner",
            "tip": 2.23,
            "total_bill": 12.76
           },
           {
            "day": "Sat",
            "sex": "Male",
            "size": 3,
            "smoker": "Yes",
            "time": "Dinner",
            "tip": 2,
            "total_bill": 30.06
           },
           {
            "day": "Sat",
            "sex": "Male",
            "size": 4,
            "smoker": "Yes",
            "time": "Dinner",
            "tip": 5.16,
            "total_bill": 25.89
           },
           {
            "day": "Sat",
            "sex": "Male",
            "size": 4,
            "smoker": "No",
            "time": "Dinner",
            "tip": 9,
            "total_bill": 48.33
           },
           {
            "day": "Sat",
            "sex": "Female",
            "size": 2,
            "smoker": "Yes",
            "time": "Dinner",
            "tip": 2.5,
            "total_bill": 13.27
           },
           {
            "day": "Sat",
            "sex": "Female",
            "size": 3,
            "smoker": "Yes",
            "time": "Dinner",
            "tip": 6.5,
            "total_bill": 28.17
           },
           {
            "day": "Sat",
            "sex": "Female",
            "size": 2,
            "smoker": "Yes",
            "time": "Dinner",
            "tip": 1.1,
            "total_bill": 12.9
           },
           {
            "day": "Sat",
            "sex": "Male",
            "size": 5,
            "smoker": "Yes",
            "time": "Dinner",
            "tip": 3,
            "total_bill": 28.15
           },
           {
            "day": "Sat",
            "sex": "Male",
            "size": 2,
            "smoker": "Yes",
            "time": "Dinner",
            "tip": 1.5,
            "total_bill": 11.59
           },
           {
            "day": "Sat",
            "sex": "Male",
            "size": 2,
            "smoker": "Yes",
            "time": "Dinner",
            "tip": 1.44,
            "total_bill": 7.74
           },
           {
            "day": "Sat",
            "sex": "Female",
            "size": 4,
            "smoker": "Yes",
            "time": "Dinner",
            "tip": 3.09,
            "total_bill": 30.14
           },
           {
            "day": "Fri",
            "sex": "Male",
            "size": 2,
            "smoker": "Yes",
            "time": "Lunch",
            "tip": 2.2,
            "total_bill": 12.16
           },
           {
            "day": "Fri",
            "sex": "Female",
            "size": 2,
            "smoker": "Yes",
            "time": "Lunch",
            "tip": 3.48,
            "total_bill": 13.42
           },
           {
            "day": "Fri",
            "sex": "Male",
            "size": 1,
            "smoker": "Yes",
            "time": "Lunch",
            "tip": 1.92,
            "total_bill": 8.58
           },
           {
            "day": "Fri",
            "sex": "Female",
            "size": 3,
            "smoker": "No",
            "time": "Lunch",
            "tip": 3,
            "total_bill": 15.98
           },
           {
            "day": "Fri",
            "sex": "Male",
            "size": 2,
            "smoker": "Yes",
            "time": "Lunch",
            "tip": 1.58,
            "total_bill": 13.42
           },
           {
            "day": "Fri",
            "sex": "Female",
            "size": 2,
            "smoker": "Yes",
            "time": "Lunch",
            "tip": 2.5,
            "total_bill": 16.27
           },
           {
            "day": "Fri",
            "sex": "Female",
            "size": 2,
            "smoker": "Yes",
            "time": "Lunch",
            "tip": 2,
            "total_bill": 10.09
           },
           {
            "day": "Sat",
            "sex": "Male",
            "size": 4,
            "smoker": "No",
            "time": "Dinner",
            "tip": 3,
            "total_bill": 20.45
           },
           {
            "day": "Sat",
            "sex": "Male",
            "size": 2,
            "smoker": "No",
            "time": "Dinner",
            "tip": 2.72,
            "total_bill": 13.28
           },
           {
            "day": "Sat",
            "sex": "Female",
            "size": 2,
            "smoker": "Yes",
            "time": "Dinner",
            "tip": 2.88,
            "total_bill": 22.12
           },
           {
            "day": "Sat",
            "sex": "Male",
            "size": 4,
            "smoker": "Yes",
            "time": "Dinner",
            "tip": 2,
            "total_bill": 24.01
           },
           {
            "day": "Sat",
            "sex": "Male",
            "size": 3,
            "smoker": "Yes",
            "time": "Dinner",
            "tip": 3,
            "total_bill": 15.69
           },
           {
            "day": "Sat",
            "sex": "Male",
            "size": 2,
            "smoker": "No",
            "time": "Dinner",
            "tip": 3.39,
            "total_bill": 11.61
           },
           {
            "day": "Sat",
            "sex": "Male",
            "size": 2,
            "smoker": "No",
            "time": "Dinner",
            "tip": 1.47,
            "total_bill": 10.77
           },
           {
            "day": "Sat",
            "sex": "Male",
            "size": 2,
            "smoker": "Yes",
            "time": "Dinner",
            "tip": 3,
            "total_bill": 15.53
           },
           {
            "day": "Sat",
            "sex": "Male",
            "size": 2,
            "smoker": "No",
            "time": "Dinner",
            "tip": 1.25,
            "total_bill": 10.07
           },
           {
            "day": "Sat",
            "sex": "Male",
            "size": 2,
            "smoker": "Yes",
            "time": "Dinner",
            "tip": 1,
            "total_bill": 12.6
           },
           {
            "day": "Sat",
            "sex": "Male",
            "size": 2,
            "smoker": "Yes",
            "time": "Dinner",
            "tip": 1.17,
            "total_bill": 32.83
           },
           {
            "day": "Sat",
            "sex": "Female",
            "size": 3,
            "smoker": "No",
            "time": "Dinner",
            "tip": 4.67,
            "total_bill": 35.83
           },
           {
            "day": "Sat",
            "sex": "Male",
            "size": 3,
            "smoker": "No",
            "time": "Dinner",
            "tip": 5.92,
            "total_bill": 29.03
           },
           {
            "day": "Sat",
            "sex": "Female",
            "size": 2,
            "smoker": "Yes",
            "time": "Dinner",
            "tip": 2,
            "total_bill": 27.18
           },
           {
            "day": "Sat",
            "sex": "Male",
            "size": 2,
            "smoker": "Yes",
            "time": "Dinner",
            "tip": 2,
            "total_bill": 22.67
           },
           {
            "day": "Sat",
            "sex": "Male",
            "size": 2,
            "smoker": "No",
            "time": "Dinner",
            "tip": 1.75,
            "total_bill": 17.82
           },
           {
            "day": "Thur",
            "sex": "Female",
            "size": 2,
            "smoker": "No",
            "time": "Dinner",
            "tip": 3,
            "total_bill": 18.78
           }
          ]
         },
         "encoding": {
          "x": {
           "axis": {
            "title": "size"
           },
           "field": "size",
           "scale": {
            "domain": [
             0.75,
             6.25
            ],
            "nice": false
           },
           "type": "quantitative"
          },
          "y": {
           "axis": {
            "title": "total_bill"
           },
           "field": "total_bill",
           "type": "quantitative"
          }
         },
         "mark": {
          "clip": true,
          "type": "circle"
         }
        },
        {
         "data": {
          "values": [
           {
            "x": 0.75,
            "y": 9.595226018458138
           },
           {
            "x": 0.8055555555555556,
            "y": 9.906354002879588
           },
           {
            "x": 0.8611111111111112,
            "y": 10.217481987301039
           },
           {
            "x": 0.9166666666666666,
            "y": 10.528609971722487
           },
           {
            "x": 0.9722222222222222,
            "y": 10.839737956143935
           },
           {
            "x": 1.0277777777777777,
            "y": 11.150865940565385
           },
           {
            "x": 1.0833333333333333,
            "y": 11.461993924986835
           },
           {
            "x": 1.1388888888888888,
            "y": 11.773121909408284
           },
           {
            "x": 1.1944444444444444,
            "y": 12.084249893829732
           },
           {
            "x": 1.25,
            "y": 12.395377878251182
           },
           {
            "x": 1.3055555555555556,
            "y": 12.706505862672632
           },
           {
            "x": 1.3611111111111112,
            "y": 13.017633847094082
           },
           {
            "x": 1.4166666666666665,
            "y": 13.328761831515529
           },
           {
            "x": 1.4722222222222223,
            "y": 13.639889815936979
           },
           {
            "x": 1.5277777777777777,
            "y": 13.951017800358429
           },
           {
            "x": 1.5833333333333333,
            "y": 14.262145784779879
           },
           {
            "x": 1.6388888888888888,
            "y": 14.573273769201325
           },
           {
            "x": 1.6944444444444444,
            "y": 14.884401753622775
           },
           {
            "x": 1.75,
            "y": 15.195529738044225
           },
           {
            "x": 1.8055555555555556,
            "y": 15.506657722465675
           },
           {
            "x": 1.8611111111111112,
            "y": 15.817785706887122
           },
           {
            "x": 1.9166666666666665,
            "y": 16.128913691308572
           },
           {
            "x": 1.972222222222222,
            "y": 16.440041675730022
           },
           {
            "x": 2.0277777777777777,
            "y": 16.75116966015147
           },
           {
            "x": 2.083333333333333,
            "y": 17.06229764457292
           },
           {
            "x": 2.138888888888889,
            "y": 17.37342562899437
           },
           {
            "x": 2.1944444444444446,
            "y": 17.68455361341582
           },
           {
            "x": 2.25,
            "y": 17.99568159783727
           },
           {
            "x": 2.3055555555555554,
            "y": 18.306809582258715
           },
           {
            "x": 2.3611111111111107,
            "y": 18.617937566680165
           },
           {
            "x": 2.4166666666666665,
            "y": 18.929065551101615
           },
           {
            "x": 2.4722222222222223,
            "y": 19.240193535523066
           },
           {
            "x": 2.5277777777777777,
            "y": 19.551321519944512
           },
           {
            "x": 2.583333333333333,
            "y": 19.862449504365962
           },
           {
            "x": 2.638888888888889,
            "y": 20.173577488787412
           },
           {
            "x": 2.6944444444444446,
            "y": 20.484705473208862
           },
           {
            "x": 2.75,
            "y": 20.79583345763031
           },
           {
            "x": 2.8055555555555554,
            "y": 21.10696144205176
           },
           {
            "x": 2.861111111111111,
            "y": 21.41808942647321
           },
           {
            "x": 2.9166666666666665,
            "y": 21.729217410894655
           },
           {
            "x": 2.9722222222222223,
            "y": 22.040345395316105
           },
           {
            "x": 3.0277777777777777,
            "y": 22.351473379737556
           },
           {
            "x": 3.083333333333333,
            "y": 22.662601364159002
           },
           {
            "x": 3.138888888888889,
            "y": 22.973729348580452
           },
           {
            "x": 3.194444444444444,
            "y": 23.284857333001902
           },
           {
            "x": 3.25,
            "y": 23.595985317423352
           },
           {
            "x": 3.3055555555555554,
            "y": 23.9071133018448
           },
           {
            "x": 3.361111111111111,
            "y": 24.21824128626625
           },
           {
            "x": 3.4166666666666665,
            "y": 24.5293692706877
           },
           {
            "x": 3.472222222222222,
            "y": 24.840497255109145
           },
           {
            "x": 3.5277777777777777,
            "y": 25.151625239530595
           },
           {
            "x": 3.583333333333333,
            "y": 25.462753223952046
           },
           {
            "x": 3.638888888888889,
            "y": 25.773881208373496
           },
           {
            "x": 3.694444444444444,
            "y": 26.085009192794942
           },
           {
            "x": 3.75,
            "y": 26.396137177216396
           },
           {
            "x": 3.8055555555555554,
            "y": 26.707265161637842
           },
           {
            "x": 3.8611111111111107,
            "y": 27.018393146059292
           },
           {
            "x": 3.9166666666666665,
            "y": 27.329521130480742
           },
           {
            "x": 3.972222222222222,
            "y": 27.64064911490219
           },
           {
            "x": 4.027777777777778,
            "y": 27.95177709932364
           },
           {
            "x": 4.083333333333333,
            "y": 28.26290508374509
           },
           {
            "x": 4.138888888888889,
            "y": 28.57403306816654
           },
           {
            "x": 4.194444444444445,
            "y": 28.88516105258799
           },
           {
            "x": 4.25,
            "y": 29.196289037009436
           },
           {
            "x": 4.305555555555555,
            "y": 29.507417021430886
           },
           {
            "x": 4.361111111111111,
            "y": 29.818545005852332
           },
           {
            "x": 4.416666666666666,
            "y": 30.129672990273782
           },
           {
            "x": 4.472222222222221,
            "y": 30.44080097469523
           },
           {
            "x": 4.527777777777778,
            "y": 30.751928959116682
           },
           {
            "x": 4.583333333333333,
            "y": 31.06305694353813
           },
           {
            "x": 4.638888888888889,
            "y": 31.374184927959583
           },
           {
            "x": 4.694444444444445,
            "y": 31.685312912381033
           },
           {
            "x": 4.75,
            "y": 31.99644089680248
           },
           {
            "x": 4.805555555555555,
            "y": 32.30756888122393
           },
           {
            "x": 4.861111111111111,
            "y": 32.618696865645376
           },
           {
            "x": 4.916666666666666,
            "y": 32.92982485006682
           },
           {
            "x": 4.972222222222222,
            "y": 33.240952834488276
           },
           {
            "x": 5.027777777777778,
            "y": 33.55208081890973
           },
           {
            "x": 5.083333333333333,
            "y": 33.863208803331176
           },
           {
            "x": 5.138888888888888,
            "y": 34.17433678775262
           },
           {
            "x": 5.194444444444445,
            "y": 34.485464772174076
           },
           {
            "x": 5.25,
            "y": 34.79659275659552
           },
           {
            "x": 5.305555555555555,
            "y": 35.10772074101697
           },
           {
            "x": 5.361111111111111,
            "y": 35.41884872543842
           },
           {
            "x": 5.416666666666666,
            "y": 35.72997670985987
           },
           {
            "x": 5.472222222222222,
            "y": 36.04110469428132
           },
           {
            "x": 5.527777777777778,
            "y": 36.35223267870277
           },
           {
            "x": 5.583333333333333,
            "y": 36.663360663124216
           },
           {
            "x": 5.638888888888888,
            "y": 36.97448864754566
           },
           {
            "x": 5.694444444444444,
            "y": 37.285616631967116
           },
           {
            "x": 5.75,
            "y": 37.59674461638857
           },
           {
            "x": 5.805555555555555,
            "y": 37.907872600810016
           },
           {
            "x": 5.861111111111111,
            "y": 38.21900058523146
           },
           {
            "x": 5.916666666666666,
            "y": 38.53012856965291
           },
           {
            "x": 5.972222222222222,
            "y": 38.84125655407436
           },
           {
            "x": 6.027777777777778,
            "y": 39.15238453849582
           },
           {
            "x": 6.083333333333333,
            "y": 39.46351252291726
           },
           {
            "x": 6.138888888888888,
            "y": 39.77464050733871
           },
           {
            "x": 6.194444444444444,
            "y": 40.085768491760156
           },
           {
            "x": 6.25,
            "y": 40.39689647618161
           }
          ]
         },
         "encoding": {
          "x": {
           "field": "x",
           "scale": {
            "domain": [
             0.75,
             6.25
            ],
            "nice": false
           },
           "type": "quantitative"
          },
          "y": {
           "field": "y",
           "type": "quantitative"
          }
         },
         "mark": {
          "clip": true,
          "type": "line"
         }
        },
        {
         "data": {
          "values": [
           {
            "x": 0.75,
            "y1": 7.532039874107227,
            "y2": 11.385651201534044
           },
           {
            "x": 0.8055555555555556,
            "y1": 7.917728667410242,
            "y2": 11.621069699123321
           },
           {
            "x": 0.8611111111111112,
            "y1": 8.30186016517418,
            "y2": 11.872733377545003
           },
           {
            "x": 0.9166666666666666,
            "y1": 8.686675148465653,
            "y2": 12.142215554241368
           },
           {
            "x": 0.9722222222222222,
            "y1": 9.07149013175713,
            "y2": 12.403109429580427
           },
           {
            "x": 1.0277777777777777,
            "y1": 9.456305115048606,
            "y2": 12.663633486435248
           },
           {
            "x": 1.0833333333333333,
            "y1": 9.841895713005448,
            "y2": 12.926702843148217
           },
           {
            "x": 1.1388888888888888,
            "y1": 10.195517871479728,
            "y2": 13.200872511710775
           },
           {
            "x": 1.1944444444444444,
            "y1": 10.563277037768092,
            "y2": 13.484991359785438
           },
           {
            "x": 1.25,
            "y1": 10.943713337456801,
            "y2": 13.757048065921973
           },
           {
            "x": 1.3055555555555556,
            "y1": 11.320564317204061,
            "y2": 14.026053218970326
           },
           {
            "x": 1.3611111111111112,
            "y1": 11.65143657556323,
            "y2": 14.305450833455813
           },
           {
            "x": 1.4166666666666665,
            "y1": 11.991980396740681,
            "y2": 14.596901762295966
           },
           {
            "x": 1.4722222222222223,
            "y1": 12.33967595258304,
            "y2": 14.869455675912786
           },
           {
            "x": 1.5277777777777777,
            "y1": 12.715515162951,
            "y2": 15.135850872354549
           },
           {
            "x": 1.5833333333333333,
            "y1": 13.090000907357755,
            "y2": 15.390875746864786
           },
           {
            "x": 1.6388888888888888,
            "y1": 13.429452994429553,
            "y2": 15.664379687483741
           },
           {
            "x": 1.6944444444444444,
            "y1": 13.792589952915167,
            "y2": 15.941414430852262
           },
           {
            "x": 1.75,
            "y1": 14.140289873275414,
            "y2": 16.23329864208585
           },
           {
            "x": 1.8055555555555556,
            "y1": 14.487921347838814,
            "y2": 16.51952721339958
           },
           {
            "x": 1.8611111111111112,
            "y1": 14.835457202400498,
            "y2": 16.805081126843678
           },
           {
            "x": 1.9166666666666665,
            "y1": 15.180477499262036,
            "y2": 17.12787059648112
           },
           {
            "x": 1.972222222222222,
            "y1": 15.524925664626107,
            "y2": 17.42180594529933
           },
           {
            "x": 2.0277777777777777,
            "y1": 15.84810227578268,
            "y2": 17.701918915298126
           },
           {
            "x": 2.083333333333333,
            "y1": 16.17746603638309,
            "y2": 17.981431724695778
           },
           {
            "x": 2.138888888888889,
            "y1": 16.52970754700534,
            "y2": 18.267645704019685
           },
           {
            "x": 2.1944444444444446,
            "y1": 16.839671862216772,
            "y2": 18.57744922815001
           },
           {
            "x": 2.25,
            "y1": 17.137210373481494,
            "y2": 18.872666141723947
           },
           {
            "x": 2.3055555555555554,
            "y1": 17.460896337359443,
            "y2": 19.18131911790611
           },
           {
            "x": 2.3611111111111107,
            "y1": 17.79099090199913,
            "y2": 19.48477941308412
           },
           {
            "x": 2.4166666666666665,
            "y1": 18.09858965778958,
            "y2": 19.79390990281598
           },
           {
            "x": 2.4722222222222223,
            "y1": 18.40459980556057,
            "y2": 20.108180851712255
           },
           {
            "x": 2.5277777777777777,
            "y1": 18.69067951750179,
            "y2": 20.440835397894627
           },
           {
            "x": 2.583333333333333,
            "y1": 18.971747373014246,
            "y2": 20.76402833317803
           },
           {
            "x": 2.638888888888889,
            "y1": 19.251878899787776,
            "y2": 21.0912069629615
           },
           {
            "x": 2.6944444444444446,
            "y1": 19.535967459509333,
            "y2": 21.416306898298746
           },
           {
            "x": 2.75,
            "y1": 19.819640018047764,
            "y2": 21.75199266461036
           },
           {
            "x": 2.8055555555555554,
            "y1": 20.099579182611095,
            "y2": 22.099869150117268
           },
           {
            "x": 2.861111111111111,
            "y1": 20.377510856962946,
            "y2": 22.435490876700616
           },
           {
            "x": 2.9166666666666665,
            "y1": 20.6519384313441,
            "y2": 22.79409228423479
           },
           {
            "x": 2.9722222222222223,
            "y1": 20.941832528239264,
            "y2": 23.12290780195005
           },
           {
            "x": 3.0277777777777777,
            "y1": 21.212544418383715,
            "y2": 23.50491473633925
           },
           {
            "x": 3.083333333333333,
            "y1": 21.472236911827277,
            "y2": 23.881133101815212
           },
           {
            "x": 3.138888888888889,
            "y1": 21.73126047388317,
            "y2": 24.215462337639174
           },
           {
            "x": 3.194444444444444,
            "y1": 21.99975483817283,
            "y2": 24.58463490718304
           },
           {
            "x": 3.25,
            "y1": 22.254243911707967,
            "y2": 24.935450146803326
           },
           {
            "x": 3.3055555555555554,
            "y1": 22.517364781056994,
            "y2": 25.31324833758731
           },
           {
            "x": 3.361111111111111,
            "y1": 22.784963535430165,
            "y2": 25.675530209402055
           },
           {
            "x": 3.4166666666666665,
            "y1": 23.046703307981264,
            "y2": 26.051895051160862
           },
           {
            "x": 3.472222222222222,
            "y1": 23.319592082071264,
            "y2": 26.42110257699408
           },
           {
            "x": 3.5277777777777777,
            "y1": 23.587376352017923,
            "y2": 26.796158309986183
           },
           {
            "x": 3.583333333333333,
            "y1": 23.850006228966397,
            "y2": 27.16433501124822
           },
           {
            "x": 3.638888888888889,
            "y1": 24.125240202281812,
            "y2": 27.528625684302806
           },
           {
            "x": 3.694444444444444,
            "y1": 24.400616385286426,
            "y2": 27.89291635735739
           },
           {
            "x": 3.75,
            "y1": 24.653914296856403,
            "y2": 28.261160782554736
           },
           {
            "x": 3.8055555555555554,
            "y1": 24.887653569818813,
            "y2": 28.621311540427406
           },
           {
            "x": 3.8611111111111107,
            "y1": 25.14948709062181,
            "y2": 28.988941862319294
           },
           {
            "x": 3.9166666666666665,
            "y1": 25.4126670081456,
            "y2": 29.3629258379493
           },
           {
            "x": 3.972222222222222,
            "y1": 25.675482396762526,
            "y2": 29.7421406837224
           },
           {
            "x": 4.027777777777778,
            "y1": 25.939131460303592,
            "y2": 30.112827808226264
           },
           {
            "x": 4.083333333333333,
            "y1": 26.196885059078326,
            "y2": 30.483800231821828
           },
           {
            "x": 4.138888888888889,
            "y1": 26.44978620007538,
            "y2": 30.852627498949506
           },
           {
            "x": 4.194444444444445,
            "y1": 26.71034773562392,
            "y2": 31.232980230837786
           },
           {
            "x": 4.25,
            "y1": 26.97615620386095,
            "y2": 31.60004266619246
           },
           {
            "x": 4.305555555555555,
            "y1": 27.240349604352836,
            "y2": 31.97604431127266
           },
           {
            "x": 4.361111111111111,
            "y1": 27.497266345453408,
            "y2": 32.34781730408394
           },
           {
            "x": 4.416666666666666,
            "y1": 27.759711903336807,
            "y2": 32.719590296895234
           },
           {
            "x": 4.472222222222221,
            "y1": 28.018955176318542,
            "y2": 33.091363289706514
           },
           {
            "x": 4.527777777777778,
            "y1": 28.278856122596693,
            "y2": 33.46313628251781
           },
           {
            "x": 4.583333333333333,
            "y1": 28.542100473768127,
            "y2": 33.834909275329096
           },
           {
            "x": 4.638888888888889,
            "y1": 28.80130765671264,
            "y2": 34.20668226814039
           },
           {
            "x": 4.694444444444445,
            "y1": 29.057622748620172,
            "y2": 34.57845526095167
           },
           {
            "x": 4.75,
            "y1": 29.313937840527693,
            "y2": 34.94993404520317
           },
           {
            "x": 4.805555555555555,
            "y1": 29.570252932435224,
            "y2": 35.321323568809895
           },
           {
            "x": 4.861111111111111,
            "y1": 29.82658005536143,
            "y2": 35.692648864108484
           },
           {
            "x": 4.916666666666666,
            "y1": 30.082914371712903,
            "y2": 36.063974159407074
           },
           {
            "x": 4.972222222222222,
            "y1": 30.339248688064377,
            "y2": 36.43529945470568
           },
           {
            "x": 5.027777777777778,
            "y1": 30.595583004415854,
            "y2": 36.80662475000427
           },
           {
            "x": 5.083333333333333,
            "y1": 30.84432206205819,
            "y2": 37.17994265565772
           },
           {
            "x": 5.138888888888888,
            "y1": 31.09231784201279,
            "y2": 37.55810326295159
           },
           {
            "x": 5.194444444444445,
            "y1": 31.34909275611544,
            "y2": 37.936263870245455
           },
           {
            "x": 5.25,
            "y1": 31.60586767021809,
            "y2": 38.314424477539326
           },
           {
            "x": 5.305555555555555,
            "y1": 31.862642584320735,
            "y2": 38.67990096300362
           },
           {
            "x": 5.361111111111111,
            "y1": 32.122867286238595,
            "y2": 39.04486220370098
           },
           {
            "x": 5.416666666666666,
            "y1": 32.38992321887617,
            "y2": 39.40982344439834
           },
           {
            "x": 5.472222222222222,
            "y1": 32.646257535227655,
            "y2": 39.778430074131975
           },
           {
            "x": 5.527777777777778,
            "y1": 32.90259185157913,
            "y2": 40.14963802763161
           },
           {
            "x": 5.583333333333333,
            "y1": 33.158926167930595,
            "y2": 40.52885904999009
           },
           {
            "x": 5.638888888888888,
            "y1": 33.41273231968058,
            "y2": 40.90149236062056
           },
           {
            "x": 5.694444444444444,
            "y1": 33.661768506621556,
            "y2": 41.26399142968278
           },
           {
            "x": 5.75,
            "y1": 33.91699852373294,
            "y2": 41.63572452178801
           },
           {
            "x": 5.805555555555555,
            "y1": 34.17361681124457,
            "y2": 42.0071911645789
           },
           {
            "x": 5.861111111111111,
            "y1": 34.420398106239844,
            "y2": 42.378605156810686
           },
           {
            "x": 5.916666666666666,
            "y1": 34.67407177412312,
            "y2": 42.750019149042465
           },
           {
            "x": 5.972222222222222,
            "y1": 34.93285634729642,
            "y2": 43.12143314127427
           },
           {
            "x": 6.027777777777778,
            "y1": 35.191640920469716,
            "y2": 43.49284713350605
           },
           {
            "x": 6.083333333333333,
            "y1": 35.45042549364301,
            "y2": 43.864261125737826
           },
           {
            "x": 6.138888888888888,
            "y1": 35.70921006681631,
            "y2": 44.23567511796962
           },
           {
            "x": 6.194444444444444,
            "y1": 35.968124839272164,
            "y2": 44.60708911020141
           },
           {
            "x": 6.25,
            "y1": 36.227074664158316,
            "y2": 44.978503102433194
           }
          ]
         },
         "encoding": {
          "opacity": {
           "value": 0.15
          },
          "x": {
           "field": "x",
           "scale": {
            "domain": [
             0.75,
             6.25
            ],
            "nice": false
           },
           "type": "quantitative"
          },
          "y": {
           "field": "y1",
           "type": "quantitative"
          },
          "y2": {
           "field": "y2",
           "type": "quantitative"
          }
         },
         "mark": {
          "clip": true,
          "type": "area"
         }
        }
       ]
      },
      "image/png": "[encoded data removed]",
      "text/plain": [
       "<VegaLite 2 object>\n",
       "\n",
       "If you see this message, it means the renderer has not been properly enabled\n",
       "for the frontend that you are using. For more information, see\n",
       "https://altair-viz.github.io/user_guide/troubleshooting.html\n"
      ]
     },
     "metadata": {},
     "output_type": "display_data"
    },
    {
     "data": {
      "image/png": "[encoded data removed]",
      "text/plain": [
       "<Figure size 432x288 with 1 Axes>"
      ]
     },
     "metadata": {},
     "output_type": "display_data"
    }
   ],
   "source": [
    "display(salt.regplot(x=\"size\", y=\"total_bill\", data=tips))\n",
    "ax = sns.regplot(x=\"size\", y=\"total_bill\", data=tips, x_jitter=.1)"
   ]
  },
  {
   "cell_type": "code",
   "execution_count": 7,
   "metadata": {},
   "outputs": [
    {
     "data": {
      "application/vnd.vegalite.v2+json": {
       "$schema": "https://vega.github.io/schema/vega-lite/v2.4.1.json",
       "config": {
        "view": {
         "height": 300,
         "width": 400
        }
       },
       "layer": [
        {
         "data": {
          "values": [
           {
            "size": 1,
            "total_bill": 4.4475
           },
           {
            "size": 1,
            "total_bill": 9.365
           }
          ]
         },
         "encoding": {
          "x": {
           "field": "size",
           "scale": {
            "domain": [
             0.75,
             6.25
            ],
            "nice": false
           },
           "type": "quantitative"
          },
          "y": {
           "field": "total_bill",
           "type": "quantitative"
          }
         },
         "mark": {
          "clip": true,
          "type": "line"
         }
        },
        {
         "data": {
          "values": [
           {
            "size": 2,
            "total_bill": 15.436078525641026
           },
           {
            "size": 2,
            "total_bill": 17.38746153846154
           }
          ]
         },
         "encoding": {
          "x": {
           "field": "size",
           "scale": {
            "domain": [
             0.75,
             6.25
            ],
            "nice": false
           },
           "type": "quantitative"
          },
          "y": {
           "field": "total_bill",
           "type": "quantitative"
          }
         },
         "mark": {
          "clip": true,
          "type": "line"
         }
        },
        {
         "data": {
          "values": [
           {
            "size": 3,
            "total_bill": 20.45245394736842
           },
           {
            "size": 3,
            "total_bill": 26.089085526315788
           }
          ]
         },
         "encoding": {
          "x": {
           "field": "size",
           "scale": {
            "domain": [
             0.75,
             6.25
            ],
            "nice": false
           },
           "type": "quantitative"
          },
          "y": {
           "field": "total_bill",
           "type": "quantitative"
          }
         },
         "mark": {
          "clip": true,
          "type": "line"
         }
        },
        {
         "data": {
          "values": [
           {
            "size": 4,
            "total_bill": 26.006351351351352
           },
           {
            "size": 4,
            "total_bill": 31.284972972972973
           }
          ]
         },
         "encoding": {
          "x": {
           "field": "size",
           "scale": {
            "domain": [
             0.75,
             6.25
            ],
            "nice": false
           },
           "type": "quantitative"
          },
          "y": {
           "field": "total_bill",
           "type": "quantitative"
          }
         },
         "mark": {
          "clip": true,
          "type": "line"
         }
        },
        {
         "data": {
          "values": [
           {
            "size": 5,
            "total_bill": 24.476
           },
           {
            "size": 5,
            "total_bill": 36.44144999999999
           }
          ]
         },
         "encoding": {
          "x": {
           "field": "size",
           "scale": {
            "domain": [
             0.75,
             6.25
            ],
            "nice": false
           },
           "type": "quantitative"
          },
          "y": {
           "field": "total_bill",
           "type": "quantitative"
          }
         },
         "mark": {
          "clip": true,
          "type": "line"
         }
        },
        {
         "data": {
          "values": [
           {
            "size": 6,
            "total_bill": 28.425
           },
           {
            "size": 6,
            "total_bill": 43.5775
           }
          ]
         },
         "encoding": {
          "x": {
           "field": "size",
           "scale": {
            "domain": [
             0.75,
             6.25
            ],
            "nice": false
           },
           "type": "quantitative"
          },
          "y": {
           "field": "total_bill",
           "type": "quantitative"
          }
         },
         "mark": {
          "clip": true,
          "type": "line"
         }
        },
        {
         "data": {
          "values": [
           {
            "size": 1,
            "total_bill": 7.2425
           },
           {
            "size": 2,
            "total_bill": 16.44801282051282
           },
           {
            "size": 3,
            "total_bill": 23.277631578947368
           },
           {
            "size": 4,
            "total_bill": 28.613513513513514
           },
           {
            "size": 5,
            "total_bill": 30.068
           },
           {
            "size": 6,
            "total_bill": 34.83
           }
          ]
         },
         "encoding": {
          "x": {
           "axis": {
            "title": "size"
           },
           "field": "size",
           "scale": {
            "domain": [
             0.75,
             6.25
            ],
            "nice": false
           },
           "type": "quantitative"
          },
          "y": {
           "axis": {
            "title": "total_bill"
           },
           "field": "total_bill",
           "type": "quantitative"
          }
         },
         "mark": {
          "clip": true,
          "type": "circle"
         }
        },
        {
         "data": {
          "values": [
           {
            "x": 0.75,
            "y": 9.595226018458138
           },
           {
            "x": 0.8055555555555556,
            "y": 9.906354002879588
           },
           {
            "x": 0.8611111111111112,
            "y": 10.217481987301039
           },
           {
            "x": 0.9166666666666666,
            "y": 10.528609971722487
           },
           {
            "x": 0.9722222222222222,
            "y": 10.839737956143935
           },
           {
            "x": 1.0277777777777777,
            "y": 11.150865940565385
           },
           {
            "x": 1.0833333333333333,
            "y": 11.461993924986835
           },
           {
            "x": 1.1388888888888888,
            "y": 11.773121909408284
           },
           {
            "x": 1.1944444444444444,
            "y": 12.084249893829732
           },
           {
            "x": 1.25,
            "y": 12.395377878251182
           },
           {
            "x": 1.3055555555555556,
            "y": 12.706505862672632
           },
           {
            "x": 1.3611111111111112,
            "y": 13.017633847094082
           },
           {
            "x": 1.4166666666666665,
            "y": 13.328761831515529
           },
           {
            "x": 1.4722222222222223,
            "y": 13.639889815936979
           },
           {
            "x": 1.5277777777777777,
            "y": 13.951017800358429
           },
           {
            "x": 1.5833333333333333,
            "y": 14.262145784779879
           },
           {
            "x": 1.6388888888888888,
            "y": 14.573273769201325
           },
           {
            "x": 1.6944444444444444,
            "y": 14.884401753622775
           },
           {
            "x": 1.75,
            "y": 15.195529738044225
           },
           {
            "x": 1.8055555555555556,
            "y": 15.506657722465675
           },
           {
            "x": 1.8611111111111112,
            "y": 15.817785706887122
           },
           {
            "x": 1.9166666666666665,
            "y": 16.128913691308572
           },
           {
            "x": 1.972222222222222,
            "y": 16.440041675730022
           },
           {
            "x": 2.0277777777777777,
            "y": 16.75116966015147
           },
           {
            "x": 2.083333333333333,
            "y": 17.06229764457292
           },
           {
            "x": 2.138888888888889,
            "y": 17.37342562899437
           },
           {
            "x": 2.1944444444444446,
            "y": 17.68455361341582
           },
           {
            "x": 2.25,
            "y": 17.99568159783727
           },
           {
            "x": 2.3055555555555554,
            "y": 18.306809582258715
           },
           {
            "x": 2.3611111111111107,
            "y": 18.617937566680165
           },
           {
            "x": 2.4166666666666665,
            "y": 18.929065551101615
           },
           {
            "x": 2.4722222222222223,
            "y": 19.240193535523066
           },
           {
            "x": 2.5277777777777777,
            "y": 19.551321519944512
           },
           {
            "x": 2.583333333333333,
            "y": 19.862449504365962
           },
           {
            "x": 2.638888888888889,
            "y": 20.173577488787412
           },
           {
            "x": 2.6944444444444446,
            "y": 20.484705473208862
           },
           {
            "x": 2.75,
            "y": 20.79583345763031
           },
           {
            "x": 2.8055555555555554,
            "y": 21.10696144205176
           },
           {
            "x": 2.861111111111111,
            "y": 21.41808942647321
           },
           {
            "x": 2.9166666666666665,
            "y": 21.729217410894655
           },
           {
            "x": 2.9722222222222223,
            "y": 22.040345395316105
           },
           {
            "x": 3.0277777777777777,
            "y": 22.351473379737556
           },
           {
            "x": 3.083333333333333,
            "y": 22.662601364159002
           },
           {
            "x": 3.138888888888889,
            "y": 22.973729348580452
           },
           {
            "x": 3.194444444444444,
            "y": 23.284857333001902
           },
           {
            "x": 3.25,
            "y": 23.595985317423352
           },
           {
            "x": 3.3055555555555554,
            "y": 23.9071133018448
           },
           {
            "x": 3.361111111111111,
            "y": 24.21824128626625
           },
           {
            "x": 3.4166666666666665,
            "y": 24.5293692706877
           },
           {
            "x": 3.472222222222222,
            "y": 24.840497255109145
           },
           {
            "x": 3.5277777777777777,
            "y": 25.151625239530595
           },
           {
            "x": 3.583333333333333,
            "y": 25.462753223952046
           },
           {
            "x": 3.638888888888889,
            "y": 25.773881208373496
           },
           {
            "x": 3.694444444444444,
            "y": 26.085009192794942
           },
           {
            "x": 3.75,
            "y": 26.396137177216396
           },
           {
            "x": 3.8055555555555554,
            "y": 26.707265161637842
           },
           {
            "x": 3.8611111111111107,
            "y": 27.018393146059292
           },
           {
            "x": 3.9166666666666665,
            "y": 27.329521130480742
           },
           {
            "x": 3.972222222222222,
            "y": 27.64064911490219
           },
           {
            "x": 4.027777777777778,
            "y": 27.95177709932364
           },
           {
            "x": 4.083333333333333,
            "y": 28.26290508374509
           },
           {
            "x": 4.138888888888889,
            "y": 28.57403306816654
           },
           {
            "x": 4.194444444444445,
            "y": 28.88516105258799
           },
           {
            "x": 4.25,
            "y": 29.196289037009436
           },
           {
            "x": 4.305555555555555,
            "y": 29.507417021430886
           },
           {
            "x": 4.361111111111111,
            "y": 29.818545005852332
           },
           {
            "x": 4.416666666666666,
            "y": 30.129672990273782
           },
           {
            "x": 4.472222222222221,
            "y": 30.44080097469523
           },
           {
            "x": 4.527777777777778,
            "y": 30.751928959116682
           },
           {
            "x": 4.583333333333333,
            "y": 31.06305694353813
           },
           {
            "x": 4.638888888888889,
            "y": 31.374184927959583
           },
           {
            "x": 4.694444444444445,
            "y": 31.685312912381033
           },
           {
            "x": 4.75,
            "y": 31.99644089680248
           },
           {
            "x": 4.805555555555555,
            "y": 32.30756888122393
           },
           {
            "x": 4.861111111111111,
            "y": 32.618696865645376
           },
           {
            "x": 4.916666666666666,
            "y": 32.92982485006682
           },
           {
            "x": 4.972222222222222,
            "y": 33.240952834488276
           },
           {
            "x": 5.027777777777778,
            "y": 33.55208081890973
           },
           {
            "x": 5.083333333333333,
            "y": 33.863208803331176
           },
           {
            "x": 5.138888888888888,
            "y": 34.17433678775262
           },
           {
            "x": 5.194444444444445,
            "y": 34.485464772174076
           },
           {
            "x": 5.25,
            "y": 34.79659275659552
           },
           {
            "x": 5.305555555555555,
            "y": 35.10772074101697
           },
           {
            "x": 5.361111111111111,
            "y": 35.41884872543842
           },
           {
            "x": 5.416666666666666,
            "y": 35.72997670985987
           },
           {
            "x": 5.472222222222222,
            "y": 36.04110469428132
           },
           {
            "x": 5.527777777777778,
            "y": 36.35223267870277
           },
           {
            "x": 5.583333333333333,
            "y": 36.663360663124216
           },
           {
            "x": 5.638888888888888,
            "y": 36.97448864754566
           },
           {
            "x": 5.694444444444444,
            "y": 37.285616631967116
           },
           {
            "x": 5.75,
            "y": 37.59674461638857
           },
           {
            "x": 5.805555555555555,
            "y": 37.907872600810016
           },
           {
            "x": 5.861111111111111,
            "y": 38.21900058523146
           },
           {
            "x": 5.916666666666666,
            "y": 38.53012856965291
           },
           {
            "x": 5.972222222222222,
            "y": 38.84125655407436
           },
           {
            "x": 6.027777777777778,
            "y": 39.15238453849582
           },
           {
            "x": 6.083333333333333,
            "y": 39.46351252291726
           },
           {
            "x": 6.138888888888888,
            "y": 39.77464050733871
           },
           {
            "x": 6.194444444444444,
            "y": 40.085768491760156
           },
           {
            "x": 6.25,
            "y": 40.39689647618161
           }
          ]
         },
         "encoding": {
          "x": {
           "field": "x",
           "scale": {
            "domain": [
             0.75,
             6.25
            ],
            "nice": false
           },
           "type": "quantitative"
          },
          "y": {
           "field": "y",
           "type": "quantitative"
          }
         },
         "mark": {
          "clip": true,
          "type": "line"
         }
        },
        {
         "data": {
          "values": [
           {
            "x": 0.75,
            "y1": 7.69981950530492,
            "y2": 11.30579051599793
           },
           {
            "x": 0.8055555555555556,
            "y1": 8.076932827920366,
            "y2": 11.561725415469263
           },
           {
            "x": 0.8611111111111112,
            "y1": 8.448307522628545,
            "y2": 11.830673222759799
           },
           {
            "x": 0.9166666666666666,
            "y1": 8.815778132202443,
            "y2": 12.105180310589978
           },
           {
            "x": 0.9722222222222222,
            "y1": 9.173824499496343,
            "y2": 12.379681075388413
           },
           {
            "x": 1.0277777777777777,
            "y1": 9.528590704972412,
            "y2": 12.651853478727247
           },
           {
            "x": 1.0833333333333333,
            "y1": 9.89038918759161,
            "y2": 12.914061778812508
           },
           {
            "x": 1.1388888888888888,
            "y1": 10.277197564975339,
            "y2": 13.179454846209284
           },
           {
            "x": 1.1944444444444444,
            "y1": 10.640746787729116,
            "y2": 13.440318846432138
           },
           {
            "x": 1.25,
            "y1": 11.002214664356265,
            "y2": 13.71808429585548
           },
           {
            "x": 1.3055555555555556,
            "y1": 11.363682540983412,
            "y2": 13.981723703649987
           },
           {
            "x": 1.3611111111111112,
            "y1": 11.718665173190837,
            "y2": 14.258257269066606
           },
           {
            "x": 1.4166666666666665,
            "y1": 12.082513703395298,
            "y2": 14.524389180992168
           },
           {
            "x": 1.4722222222222223,
            "y1": 12.447418197947863,
            "y2": 14.769865926274154
           },
           {
            "x": 1.5277777777777777,
            "y1": 12.798940180888575,
            "y2": 15.067040000535933
           },
           {
            "x": 1.5833333333333333,
            "y1": 13.14548330827321,
            "y2": 15.335170907195963
           },
           {
            "x": 1.6388888888888888,
            "y1": 13.480465727727992,
            "y2": 15.603190267151614
           },
           {
            "x": 1.6944444444444444,
            "y1": 13.804901186272078,
            "y2": 15.885375051703221
           },
           {
            "x": 1.75,
            "y1": 14.140062850850772,
            "y2": 16.16018662564521
           },
           {
            "x": 1.8055555555555556,
            "y1": 14.476400719092698,
            "y2": 16.415734201592173
           },
           {
            "x": 1.8611111111111112,
            "y1": 14.82115874097086,
            "y2": 16.72720957106181
           },
           {
            "x": 1.9166666666666665,
            "y1": 15.164899160803902,
            "y2": 17.02995346533042
           },
           {
            "x": 1.972222222222222,
            "y1": 15.49035445170392,
            "y2": 17.306513626732375
           },
           {
            "x": 2.0277777777777777,
            "y1": 15.838568656736145,
            "y2": 17.583093235587828
           },
           {
            "x": 2.083333333333333,
            "y1": 16.133946609653528,
            "y2": 17.888148194365595
           },
           {
            "x": 2.138888888888889,
            "y1": 16.454562301641356,
            "y2": 18.180519474180013
           },
           {
            "x": 2.1944444444444446,
            "y1": 16.779768388495693,
            "y2": 18.490774013708222
           },
           {
            "x": 2.25,
            "y1": 17.129838716303347,
            "y2": 18.802129644528804
           },
           {
            "x": 2.3055555555555554,
            "y1": 17.450543602203176,
            "y2": 19.11495689993271
           },
           {
            "x": 2.3611111111111107,
            "y1": 17.756457975046608,
            "y2": 19.44814543202087
           },
           {
            "x": 2.4166666666666665,
            "y1": 18.08243888668316,
            "y2": 19.7700186959967
           },
           {
            "x": 2.4722222222222223,
            "y1": 18.366612266033986,
            "y2": 20.092218052211095
           },
           {
            "x": 2.5277777777777777,
            "y1": 18.659251880069192,
            "y2": 20.419075116994602
           },
           {
            "x": 2.583333333333333,
            "y1": 18.959615850019613,
            "y2": 20.772403529026533
           },
           {
            "x": 2.638888888888889,
            "y1": 19.252930523314447,
            "y2": 21.11028721945286
           },
           {
            "x": 2.6944444444444446,
            "y1": 19.55821473128026,
            "y2": 21.451028392266142
           },
           {
            "x": 2.75,
            "y1": 19.86146589068778,
            "y2": 21.78730292742134
           },
           {
            "x": 2.8055555555555554,
            "y1": 20.15540432322679,
            "y2": 22.124536568922707
           },
           {
            "x": 2.861111111111111,
            "y1": 20.422471264555178,
            "y2": 22.465204132315794
           },
           {
            "x": 2.9166666666666665,
            "y1": 20.709934974831828,
            "y2": 22.81454209326042
           },
           {
            "x": 2.9722222222222223,
            "y1": 20.991090778699355,
            "y2": 23.171080216953936
           },
           {
            "x": 3.0277777777777777,
            "y1": 21.263017188099177,
            "y2": 23.5271503424877
           },
           {
            "x": 3.083333333333333,
            "y1": 21.53499411568555,
            "y2": 23.890624170962976
           },
           {
            "x": 3.138888888888889,
            "y1": 21.806240339078222,
            "y2": 24.246300147955992
           },
           {
            "x": 3.194444444444444,
            "y1": 22.073890302985696,
            "y2": 24.62030229281793
           },
           {
            "x": 3.25,
            "y1": 22.321065545236788,
            "y2": 25.00391209833765
           },
           {
            "x": 3.3055555555555554,
            "y1": 22.589436856599555,
            "y2": 25.38377548065252
           },
           {
            "x": 3.361111111111111,
            "y1": 22.84251735056923,
            "y2": 25.7595159449808
           },
           {
            "x": 3.4166666666666665,
            "y1": 23.12492741710171,
            "y2": 26.13619734838258
           },
           {
            "x": 3.472222222222222,
            "y1": 23.41520264705459,
            "y2": 26.49037554897775
           },
           {
            "x": 3.5277777777777777,
            "y1": 23.667589633254625,
            "y2": 26.855579465699716
           },
           {
            "x": 3.583333333333333,
            "y1": 23.92630959865565,
            "y2": 27.221657879417112
           },
           {
            "x": 3.638888888888889,
            "y1": 24.183137968928673,
            "y2": 27.598506305140457
           },
           {
            "x": 3.694444444444444,
            "y1": 24.424902537044794,
            "y2": 27.975354730863803
           },
           {
            "x": 3.75,
            "y1": 24.70393906482219,
            "y2": 28.350422501069033
           },
           {
            "x": 3.8055555555555554,
            "y1": 24.989811251978278,
            "y2": 28.71685704544869
           },
           {
            "x": 3.8611111111111107,
            "y1": 25.25017911706712,
            "y2": 29.106849702414223
           },
           {
            "x": 3.9166666666666665,
            "y1": 25.505222846581464,
            "y2": 29.484144998020767
           },
           {
            "x": 3.972222222222222,
            "y1": 25.775795167857982,
            "y2": 29.85945568867201
           },
           {
            "x": 4.027777777777778,
            "y1": 26.044111993248954,
            "y2": 30.226494279503747
           },
           {
            "x": 4.083333333333333,
            "y1": 26.28661470028805,
            "y2": 30.593532870335487
           },
           {
            "x": 4.138888888888889,
            "y1": 26.532102181185895,
            "y2": 30.960571461167227
           },
           {
            "x": 4.194444444444445,
            "y1": 26.8033197709108,
            "y2": 31.327962211439374
           },
           {
            "x": 4.25,
            "y1": 27.07530810749145,
            "y2": 31.705760550435937
           },
           {
            "x": 4.305555555555555,
            "y1": 27.331739606388453,
            "y2": 32.083558889432496
           },
           {
            "x": 4.361111111111111,
            "y1": 27.602628740389726,
            "y2": 32.46116401552573
           },
           {
            "x": 4.416666666666666,
            "y1": 27.872863706089802,
            "y2": 32.83861774873219
           },
           {
            "x": 4.472222222222221,
            "y1": 28.13317139970048,
            "y2": 33.21607148193865
           },
           {
            "x": 4.527777777777778,
            "y1": 28.393479093311164,
            "y2": 33.58456237641983
           },
           {
            "x": 4.583333333333333,
            "y1": 28.65753246018735,
            "y2": 33.9483661239234
           },
           {
            "x": 4.638888888888889,
            "y1": 28.913680301832823,
            "y2": 34.31216694457211
           },
           {
            "x": 4.694444444444445,
            "y1": 29.17333068891841,
            "y2": 34.6984667371222
           },
           {
            "x": 4.75,
            "y1": 29.432990222715517,
            "y2": 35.071822746388925
           },
           {
            "x": 4.805555555555555,
            "y1": 29.693337433926644,
            "y2": 35.433069806040386
           },
           {
            "x": 4.861111111111111,
            "y1": 29.953684645137766,
            "y2": 35.793966692119746
           },
           {
            "x": 4.916666666666666,
            "y1": 30.214031856348885,
            "y2": 36.15485492738981
           },
           {
            "x": 4.972222222222222,
            "y1": 30.474379067560015,
            "y2": 36.51574316265988
           },
           {
            "x": 5.027777777777778,
            "y1": 30.734726278771134,
            "y2": 36.876587206610935
           },
           {
            "x": 5.083333333333333,
            "y1": 30.99507348998226,
            "y2": 37.2387748328188
           },
           {
            "x": 5.138888888888888,
            "y1": 31.255374160914556,
            "y2": 37.62024850523693
           },
           {
            "x": 5.194444444444445,
            "y1": 31.515469446809767,
            "y2": 38.00172217765508
           },
           {
            "x": 5.25,
            "y1": 31.775564732704975,
            "y2": 38.38319585007322
           },
           {
            "x": 5.305555555555555,
            "y1": 32.03566001860018,
            "y2": 38.76466952249137
           },
           {
            "x": 5.361111111111111,
            "y1": 32.29575530449538,
            "y2": 39.1461431949095
           },
           {
            "x": 5.416666666666666,
            "y1": 32.555850590390584,
            "y2": 39.52761686732764
           },
           {
            "x": 5.472222222222222,
            "y1": 32.815945876285795,
            "y2": 39.9090905397458
           },
           {
            "x": 5.527777777777778,
            "y1": 33.076041162181,
            "y2": 40.29056421216393
           },
           {
            "x": 5.583333333333333,
            "y1": 33.3361364480762,
            "y2": 40.671598489953666
           },
           {
            "x": 5.638888888888888,
            "y1": 33.596231733971415,
            "y2": 41.03987346353233
           },
           {
            "x": 5.694444444444444,
            "y1": 33.849298621997626,
            "y2": 41.408148437110995
           },
           {
            "x": 5.75,
            "y1": 34.10150617497511,
            "y2": 41.77642341068967
           },
           {
            "x": 5.805555555555555,
            "y1": 34.353713727952574,
            "y2": 42.15787109543315
           },
           {
            "x": 5.861111111111111,
            "y1": 34.60592128093005,
            "y2": 42.549699279893076
           },
           {
            "x": 5.916666666666666,
            "y1": 34.85812883390752,
            "y2": 42.94152746435299
           },
           {
            "x": 5.972222222222222,
            "y1": 35.11275455121891,
            "y2": 43.33335564881292
           },
           {
            "x": 6.027777777777778,
            "y1": 35.36981900036035,
            "y2": 43.725183833272844
           },
           {
            "x": 6.083333333333333,
            "y1": 35.6268834495018,
            "y2": 44.10205479486815
           },
           {
            "x": 6.138888888888888,
            "y1": 35.883947898643235,
            "y2": 44.470136353699594
           },
           {
            "x": 6.194444444444444,
            "y1": 36.141012347784674,
            "y2": 44.837988299186144
           },
           {
            "x": 6.25,
            "y1": 36.39807679692613,
            "y2": 45.20566463029037
           }
          ]
         },
         "encoding": {
          "opacity": {
           "value": 0.15
          },
          "x": {
           "field": "x",
           "scale": {
            "domain": [
             0.75,
             6.25
            ],
            "nice": false
           },
           "type": "quantitative"
          },
          "y": {
           "field": "y1",
           "type": "quantitative"
          },
          "y2": {
           "field": "y2",
           "type": "quantitative"
          }
         },
         "mark": {
          "clip": true,
          "type": "area"
         }
        }
       ]
      },
      "image/png": "[encoded data removed]",
      "text/plain": [
       "<VegaLite 2 object>\n",
       "\n",
       "If you see this message, it means the renderer has not been properly enabled\n",
       "for the frontend that you are using. For more information, see\n",
       "https://altair-viz.github.io/user_guide/troubleshooting.html\n"
      ]
     },
     "metadata": {},
     "output_type": "display_data"
    },
    {
     "data": {
      "image/png": "[encoded data removed]",
      "text/plain": [
       "<Figure size 432x288 with 1 Axes>"
      ]
     },
     "metadata": {},
     "output_type": "display_data"
    }
   ],
   "source": [
    "display(salt.regplot(x=\"size\", y=\"total_bill\", data=tips, x_estimator=np.mean))\n",
    "ax = sns.regplot(x=\"size\", y=\"total_bill\", data=tips, x_estimator=np.mean)"
   ]
  },
  {
   "cell_type": "code",
   "execution_count": 8,
   "metadata": {},
   "outputs": [
    {
     "data": {
      "application/vnd.vegalite.v2+json": {
       "$schema": "https://vega.github.io/schema/vega-lite/v2.4.1.json",
       "config": {
        "view": {
         "height": 300,
         "width": 400
        }
       },
       "layer": [
        {
         "data": {
          "values": [
           {
            "x_var": 3.0260678613931704,
            "y_var": 5.205388008732223
           },
           {
            "x_var": 3.0260678613931704,
            "y_var": 5.960781429328122
           }
          ]
         },
         "encoding": {
          "x": {
           "field": "x_var",
           "scale": {
            "domain": [
             0.26325111298190085,
             7.4786047025994655
            ],
            "nice": false
           },
           "type": "quantitative"
          },
          "y": {
           "field": "y_var",
           "type": "quantitative"
          }
         },
         "mark": {
          "clip": true,
          "type": "line"
         },
         "selection": {
          "selector001": {
           "bind": "scales",
           "encodings": [
            "x",
            "y"
           ],
           "mark": {
            "fill": "#333",
            "fillOpacity": 0.125,
            "stroke": "white"
           },
           "on": "[mousedown, window:mouseup] > window:mousemove!",
           "resolve": "global",
           "translate": "[mousedown, window:mouseup] > window:mousemove!",
           "type": "interval",
           "zoom": "wheel!"
          }
         }
        },
        {
         "data": {
          "values": [
           {
            "x_var": 3.919509301357815,
            "y_var": 5.393539600057772
           },
           {
            "x_var": 3.919509301357815,
            "y_var": 5.969078188644748
           }
          ]
         },
         "encoding": {
          "x": {
           "field": "x_var",
           "scale": {
            "domain": [
             0.26325111298190085,
             7.4786047025994655
            ],
            "nice": false
           },
           "type": "quantitative"
          },
          "y": {
           "field": "y_var",
           "type": "quantitative"
          }
         },
         "mark": {
          "clip": true,
          "type": "line"
         }
        },
        {
         "data": {
          "values": [
           {
            "x_var": 4.311032865887505,
            "y_var": 5.910252417712409
           },
           {
            "x_var": 4.311032865887505,
            "y_var": 6.760952060902671
           }
          ]
         },
         "encoding": {
          "x": {
           "field": "x_var",
           "scale": {
            "domain": [
             0.26325111298190085,
             7.4786047025994655
            ],
            "nice": false
           },
           "type": "quantitative"
          },
          "y": {
           "field": "y_var",
           "type": "quantitative"
          }
         },
         "mark": {
          "clip": true,
          "type": "line"
         }
        },
        {
         "data": {
          "values": [
           {
            "x_var": 5.114150680275101,
            "y_var": 6.158325416904171
           },
           {
            "x_var": 5.114150680275101,
            "y_var": 7.069223318984402
           }
          ]
         },
         "encoding": {
          "x": {
           "field": "x_var",
           "scale": {
            "domain": [
             0.26325111298190085,
             7.4786047025994655
            ],
            "nice": false
           },
           "type": "quantitative"
          },
          "y": {
           "field": "y_var",
           "type": "quantitative"
          }
         },
         "mark": {
          "clip": true,
          "type": "line"
         }
        },
        {
         "data": {
          "values": [
           {
            "x_var": 3.0260678613931704,
            "y_var": 5.603156694547898
           },
           {
            "x_var": 3.919509301357815,
            "y_var": 5.690563517323038
           },
           {
            "x_var": 4.311032865887505,
            "y_var": 6.3126327318262
           },
           {
            "x_var": 5.114150680275101,
            "y_var": 6.58123989144305
           }
          ]
         },
         "encoding": {
          "x": {
           "axis": {
            "title": "x_var"
           },
           "field": "x_var",
           "scale": {
            "domain": [
             0.26325111298190085,
             7.4786047025994655
            ],
            "nice": false
           },
           "type": "quantitative"
          },
          "y": {
           "axis": {
            "title": "y_var"
           },
           "field": "y_var",
           "type": "quantitative"
          }
         },
         "mark": {
          "clip": true,
          "type": "circle"
         }
        },
        {
         "data": {
          "values": [
           {
            "x": 0.26325111298190085,
            "y": 4.467765095897596
           },
           {
            "x": 0.33613347247298736,
            "y": 4.498313310462624
           },
           {
            "x": 0.4090158319640739,
            "y": 4.528861525027652
           },
           {
            "x": 0.4818981914551604,
            "y": 4.55940973959268
           },
           {
            "x": 0.5547805509462469,
            "y": 4.589957954157708
           },
           {
            "x": 0.6276629104373335,
            "y": 4.620506168722736
           },
           {
            "x": 0.7005452699284199,
            "y": 4.6510543832877635
           },
           {
            "x": 0.7734276294195064,
            "y": 4.681602597852792
           },
           {
            "x": 0.846309988910593,
            "y": 4.7121508124178195
           },
           {
            "x": 0.9191923484016795,
            "y": 4.742699026982848
           },
           {
            "x": 0.992074707892766,
            "y": 4.7732472415478755
           },
           {
            "x": 1.0649570673838524,
            "y": 4.803795456112903
           },
           {
            "x": 1.137839426874939,
            "y": 4.8343436706779315
           },
           {
            "x": 1.2107217863660256,
            "y": 4.864891885242959
           },
           {
            "x": 1.283604145857112,
            "y": 4.895440099807987
           },
           {
            "x": 1.3564865053481985,
            "y": 4.925988314373015
           },
           {
            "x": 1.429368864839285,
            "y": 4.956536528938043
           },
           {
            "x": 1.5022512243303716,
            "y": 4.987084743503071
           },
           {
            "x": 1.5751335838214582,
            "y": 5.0176329580680985
           },
           {
            "x": 1.6480159433125445,
            "y": 5.048181172633127
           },
           {
            "x": 1.720898302803631,
            "y": 5.0787293871981545
           },
           {
            "x": 1.7937806622947177,
            "y": 5.109277601763183
           },
           {
            "x": 1.866663021785804,
            "y": 5.1398258163282105
           },
           {
            "x": 1.9395453812768906,
            "y": 5.170374030893239
           },
           {
            "x": 2.0124277407679774,
            "y": 5.200922245458266
           },
           {
            "x": 2.085310100259064,
            "y": 5.231470460023295
           },
           {
            "x": 2.1581924597501505,
            "y": 5.262018674588322
           },
           {
            "x": 2.2310748192412366,
            "y": 5.29256688915335
           },
           {
            "x": 2.3039571787323228,
            "y": 5.323115103718378
           },
           {
            "x": 2.3768395382234093,
            "y": 5.353663318283406
           },
           {
            "x": 2.449721897714496,
            "y": 5.384211532848434
           },
           {
            "x": 2.5226042572055825,
            "y": 5.414759747413462
           },
           {
            "x": 2.595486616696669,
            "y": 5.445307961978489
           },
           {
            "x": 2.6683689761877556,
            "y": 5.475856176543518
           },
           {
            "x": 2.741251335678842,
            "y": 5.506404391108546
           },
           {
            "x": 2.8141336951699287,
            "y": 5.536952605673574
           },
           {
            "x": 2.8870160546610153,
            "y": 5.567500820238601
           },
           {
            "x": 2.959898414152102,
            "y": 5.59804903480363
           },
           {
            "x": 3.0327807736431884,
            "y": 5.628597249368657
           },
           {
            "x": 3.105663133134275,
            "y": 5.659145463933686
           },
           {
            "x": 3.1785454926253616,
            "y": 5.689693678498713
           },
           {
            "x": 3.251427852116448,
            "y": 5.720241893063742
           },
           {
            "x": 3.3243102116075347,
            "y": 5.750790107628769
           },
           {
            "x": 3.3971925710986213,
            "y": 5.781338322193798
           },
           {
            "x": 3.470074930589707,
            "y": 5.811886536758825
           },
           {
            "x": 3.5429572900807935,
            "y": 5.842434751323853
           },
           {
            "x": 3.61583964957188,
            "y": 5.87298296588888
           },
           {
            "x": 3.6887220090629667,
            "y": 5.903531180453909
           },
           {
            "x": 3.7616043685540532,
            "y": 5.934079395018937
           },
           {
            "x": 3.83448672804514,
            "y": 5.964627609583965
           },
           {
            "x": 3.9073690875362264,
            "y": 5.995175824148992
           },
           {
            "x": 3.980251447027313,
            "y": 6.025724038714021
           },
           {
            "x": 4.0531338065183995,
            "y": 6.056272253279049
           },
           {
            "x": 4.126016166009486,
            "y": 6.086820467844077
           },
           {
            "x": 4.198898525500573,
            "y": 6.117368682409104
           },
           {
            "x": 4.271780884991659,
            "y": 6.147916896974133
           },
           {
            "x": 4.344663244482745,
            "y": 6.17846511153916
           },
           {
            "x": 4.4175456039738314,
            "y": 6.209013326104188
           },
           {
            "x": 4.490427963464918,
            "y": 6.239561540669216
           },
           {
            "x": 4.563310322956005,
            "y": 6.270109755234244
           },
           {
            "x": 4.636192682447091,
            "y": 6.300657969799272
           },
           {
            "x": 4.709075041938178,
            "y": 6.3312061843643
           },
           {
            "x": 4.781957401429264,
            "y": 6.361754398929328
           },
           {
            "x": 4.854839760920351,
            "y": 6.392302613494356
           },
           {
            "x": 4.927722120411437,
            "y": 6.422850828059383
           },
           {
            "x": 5.000604479902524,
            "y": 6.453399042624412
           },
           {
            "x": 5.073486839393611,
            "y": 6.48394725718944
           },
           {
            "x": 5.146369198884697,
            "y": 6.514495471754468
           },
           {
            "x": 5.219251558375784,
            "y": 6.545043686319495
           },
           {
            "x": 5.29213391786687,
            "y": 6.575591900884524
           },
           {
            "x": 5.365016277357957,
            "y": 6.606140115449552
           },
           {
            "x": 5.437898636849043,
            "y": 6.63668833001458
           },
           {
            "x": 5.51078099634013,
            "y": 6.667236544579607
           },
           {
            "x": 5.583663355831216,
            "y": 6.697784759144636
           },
           {
            "x": 5.656545715322302,
            "y": 6.728332973709663
           },
           {
            "x": 5.729428074813389,
            "y": 6.758881188274691
           },
           {
            "x": 5.802310434304475,
            "y": 6.789429402839719
           },
           {
            "x": 5.875192793795562,
            "y": 6.8199776174047475
           },
           {
            "x": 5.9480751532866485,
            "y": 6.850525831969774
           },
           {
            "x": 6.020957512777735,
            "y": 6.881074046534803
           },
           {
            "x": 6.093839872268822,
            "y": 6.911622261099831
           },
           {
            "x": 6.166722231759908,
            "y": 6.942170475664859
           },
           {
            "x": 6.239604591250995,
            "y": 6.972718690229886
           },
           {
            "x": 6.312486950742081,
            "y": 7.0032669047949145
           },
           {
            "x": 6.385369310233168,
            "y": 7.033815119359943
           },
           {
            "x": 6.4582516697242545,
            "y": 7.0643633339249705
           },
           {
            "x": 6.531134029215341,
            "y": 7.094911548489998
           },
           {
            "x": 6.604016388706428,
            "y": 7.1254597630550265
           },
           {
            "x": 6.676898748197513,
            "y": 7.156007977620054
           },
           {
            "x": 6.7497811076886,
            "y": 7.186556192185082
           },
           {
            "x": 6.822663467179686,
            "y": 7.21710440675011
           },
           {
            "x": 6.895545826670773,
            "y": 7.247652621315138
           },
           {
            "x": 6.9684281861618595,
            "y": 7.278200835880166
           },
           {
            "x": 7.041310545652946,
            "y": 7.3087490504451935
           },
           {
            "x": 7.114192905144033,
            "y": 7.339297265010222
           },
           {
            "x": 7.187075264635119,
            "y": 7.36984547957525
           },
           {
            "x": 7.259957624126206,
            "y": 7.400393694140277
           },
           {
            "x": 7.332839983617292,
            "y": 7.4309419087053055
           },
           {
            "x": 7.405722343108379,
            "y": 7.461490123270334
           },
           {
            "x": 7.4786047025994655,
            "y": 7.492038337835361
           }
          ]
         },
         "encoding": {
          "x": {
           "field": "x",
           "scale": {
            "domain": [
             0.26325111298190085,
             7.4786047025994655
            ],
            "nice": false
           },
           "type": "quantitative"
          },
          "y": {
           "field": "y",
           "type": "quantitative"
          }
         },
         "mark": {
          "clip": true,
          "type": "line"
         }
        },
        {
         "data": {
          "values": [
           {
            "x": 0.26325111298190085,
            "y1": 3.9125779913627623,
            "y2": 5.014174121099253
           },
           {
            "x": 0.33613347247298736,
            "y1": 3.951235742564295,
            "y2": 5.033853739920649
           },
           {
            "x": 0.4090158319640739,
            "y1": 3.992201484773087,
            "y2": 5.053751254838805
           },
           {
            "x": 0.4818981914551604,
            "y1": 4.035703227645299,
            "y2": 5.074193218087384
           },
           {
            "x": 0.5547805509462469,
            "y1": 4.079228719941432,
            "y2": 5.094604921004563
           },
           {
            "x": 0.6276629104373335,
            "y1": 4.11925490460621,
            "y2": 5.114985475984615
           },
           {
            "x": 0.7005452699284199,
            "y1": 4.157481264446647,
            "y2": 5.135340250125984
           },
           {
            "x": 0.7734276294195064,
            "y1": 4.195707624287084,
            "y2": 5.154031080842892
           },
           {
            "x": 0.846309988910593,
            "y1": 4.236452476283432,
            "y2": 5.175298036321491
           },
           {
            "x": 0.9191923484016795,
            "y1": 4.277697440342181,
            "y2": 5.196485877613959
           },
           {
            "x": 0.992074707892766,
            "y1": 4.317232782865018,
            "y2": 5.216116470430655
           },
           {
            "x": 1.0649570673838524,
            "y1": 4.355976231567619,
            "y2": 5.237309168746429
           },
           {
            "x": 1.137839426874939,
            "y1": 4.396733671933934,
            "y2": 5.257747576525103
           },
           {
            "x": 1.2107217863660256,
            "y1": 4.437558239584072,
            "y2": 5.278185984303778
           },
           {
            "x": 1.283604145857112,
            "y1": 4.478394696621015,
            "y2": 5.298624392082452
           },
           {
            "x": 1.3564865053481985,
            "y1": 4.519231153657957,
            "y2": 5.319058743509461
           },
           {
            "x": 1.429368864839285,
            "y1": 4.560067610694901,
            "y2": 5.339487554492045
           },
           {
            "x": 1.5022512243303716,
            "y1": 4.602215047913252,
            "y2": 5.3599163654746285
           },
           {
            "x": 1.5751335838214582,
            "y1": 4.644543222836057,
            "y2": 5.380328711332528
           },
           {
            "x": 1.6480159433125445,
            "y1": 4.684782095355613,
            "y2": 5.400690746059597
           },
           {
            "x": 1.720898302803631,
            "y1": 4.725530457044427,
            "y2": 5.421243754565635
           },
           {
            "x": 1.7937806622947177,
            "y1": 4.764128084831428,
            "y2": 5.442703229608537
           },
           {
            "x": 1.866663021785804,
            "y1": 4.804786602195215,
            "y2": 5.4620356204380665
           },
           {
            "x": 1.9395453812768906,
            "y1": 4.840866345165601,
            "y2": 5.485619266491929
           },
           {
            "x": 2.0124277407679774,
            "y1": 4.881352406591964,
            "y2": 5.509544680787342
           },
           {
            "x": 2.085310100259064,
            "y1": 4.921890393978957,
            "y2": 5.534150587750684
           },
           {
            "x": 2.1581924597501505,
            "y1": 4.960272695779193,
            "y2": 5.5580800752202135
           },
           {
            "x": 2.2310748192412366,
            "y1": 5.004270929191359,
            "y2": 5.5798339772855465
           },
           {
            "x": 2.3039571787323228,
            "y1": 5.043984045358039,
            "y2": 5.605404145870202
           },
           {
            "x": 2.3768395382234093,
            "y1": 5.084467538965008,
            "y2": 5.625850718247281
           },
           {
            "x": 2.449721897714496,
            "y1": 5.120940478778401,
            "y2": 5.645336038708171
           },
           {
            "x": 2.5226042572055825,
            "y1": 5.154078475978166,
            "y2": 5.66790280912777
           },
           {
            "x": 2.595486616696669,
            "y1": 5.1880330448704015,
            "y2": 5.686381549629777
           },
           {
            "x": 2.6683689761877556,
            "y1": 5.221476878170881,
            "y2": 5.711537846202685
           },
           {
            "x": 2.741251335678842,
            "y1": 5.2610255471835305,
            "y2": 5.735108496140045
           },
           {
            "x": 2.8141336951699287,
            "y1": 5.301263142981686,
            "y2": 5.761033152606967
           },
           {
            "x": 2.8870160546610153,
            "y1": 5.336681766951786,
            "y2": 5.787365791622834
           },
           {
            "x": 2.959898414152102,
            "y1": 5.3744711224719675,
            "y2": 5.813350702563804
           },
           {
            "x": 3.0327807736431884,
            "y1": 5.41082961281889,
            "y2": 5.838901648409618
           },
           {
            "x": 3.105663133134275,
            "y1": 5.44883105387871,
            "y2": 5.861245636994447
           },
           {
            "x": 3.1785454926253616,
            "y1": 5.492304477550363,
            "y2": 5.887597859179987
           },
           {
            "x": 3.251427852116448,
            "y1": 5.52323078508688,
            "y2": 5.915410208777064
           },
           {
            "x": 3.3243102116075347,
            "y1": 5.553235376967178,
            "y2": 5.939584413112733
           },
           {
            "x": 3.3971925710986213,
            "y1": 5.584778634950487,
            "y2": 5.969099330978621
           },
           {
            "x": 3.470074930589707,
            "y1": 5.624493476229124,
            "y2": 5.995263835282185
           },
           {
            "x": 3.5429572900807935,
            "y1": 5.653339419045912,
            "y2": 6.022466205422905
           },
           {
            "x": 3.61583964957188,
            "y1": 5.68756426998319,
            "y2": 6.049390569727632
           },
           {
            "x": 3.6887220090629667,
            "y1": 5.720667018609519,
            "y2": 6.078164949655665
           },
           {
            "x": 3.7616043685540532,
            "y1": 5.7525656471637046,
            "y2": 6.1133498641090505
           },
           {
            "x": 3.83448672804514,
            "y1": 5.786599112609652,
            "y2": 6.14537746342438
           },
           {
            "x": 3.9073690875362264,
            "y1": 5.814609123984762,
            "y2": 6.1809552725115156
           },
           {
            "x": 3.980251447027313,
            "y1": 5.840830647693159,
            "y2": 6.2164812796008615
           },
           {
            "x": 4.0531338065183995,
            "y1": 5.866416223568015,
            "y2": 6.253207547061968
           },
           {
            "x": 4.126016166009486,
            "y1": 5.892125131451091,
            "y2": 6.285528783921065
           },
           {
            "x": 4.198898525500573,
            "y1": 5.922257737258681,
            "y2": 6.31550287268223
           },
           {
            "x": 4.271780884991659,
            "y1": 5.948124253491053,
            "y2": 6.349038057341078
           },
           {
            "x": 4.344663244482745,
            "y1": 5.971546622981222,
            "y2": 6.3873376289930235
           },
           {
            "x": 4.4175456039738314,
            "y1": 5.994906067852489,
            "y2": 6.42255987777288
           },
           {
            "x": 4.490427963464918,
            "y1": 6.018244556375152,
            "y2": 6.456686600459712
           },
           {
            "x": 4.563310322956005,
            "y1": 6.0415907057877165,
            "y2": 6.495542765520401
           },
           {
            "x": 4.636192682447091,
            "y1": 6.064922883503348,
            "y2": 6.533292642035383
           },
           {
            "x": 4.709075041938178,
            "y1": 6.087814463996293,
            "y2": 6.566728484718536
           },
           {
            "x": 4.781957401429264,
            "y1": 6.110832843592074,
            "y2": 6.605396870553978
           },
           {
            "x": 4.854839760920351,
            "y1": 6.1349991145521825,
            "y2": 6.650858269703327
           },
           {
            "x": 4.927722120411437,
            "y1": 6.158362820524758,
            "y2": 6.686207301106146
           },
           {
            "x": 5.000604479902524,
            "y1": 6.179886149566035,
            "y2": 6.718630848100815
           },
           {
            "x": 5.073486839393611,
            "y1": 6.200736082519287,
            "y2": 6.751951451206517
           },
           {
            "x": 5.146369198884697,
            "y1": 6.222715144696437,
            "y2": 6.792467272940376
           },
           {
            "x": 5.219251558375784,
            "y1": 6.244134539522617,
            "y2": 6.832983094674236
           },
           {
            "x": 5.29213391786687,
            "y1": 6.266790525892375,
            "y2": 6.871543954587833
           },
           {
            "x": 5.365016277357957,
            "y1": 6.287926281542169,
            "y2": 6.914315239414839
           },
           {
            "x": 5.437898636849043,
            "y1": 6.310846450103499,
            "y2": 6.954989986927339
           },
           {
            "x": 5.51078099634013,
            "y1": 6.331461253118711,
            "y2": 6.995527798150019
           },
           {
            "x": 5.583663355831216,
            "y1": 6.352089971131726,
            "y2": 7.035492672267279
           },
           {
            "x": 5.656545715322302,
            "y1": 6.372698185213764,
            "y2": 7.072711099124124
           },
           {
            "x": 5.729428074813389,
            "y1": 6.394093518760073,
            "y2": 7.10984462904827
           },
           {
            "x": 5.802310434304475,
            "y1": 6.415488852306381,
            "y2": 7.149148269990802
           },
           {
            "x": 5.875192793795562,
            "y1": 6.436890018160801,
            "y2": 7.190192890108036
           },
           {
            "x": 5.9480751532866485,
            "y1": 6.457483210433263,
            "y2": 7.231481262492954
           },
           {
            "x": 6.020957512777735,
            "y1": 6.479412371445913,
            "y2": 7.270622259195569
           },
           {
            "x": 6.093839872268822,
            "y1": 6.500005116892389,
            "y2": 7.311313462604959
           },
           {
            "x": 6.166722231759908,
            "y1": 6.518963046747972,
            "y2": 7.3490913667582385
           },
           {
            "x": 6.239604591250995,
            "y1": 6.53677515905761,
            "y2": 7.38795201540287
           },
           {
            "x": 6.312486950742081,
            "y1": 6.557148405575062,
            "y2": 7.429449815693926
           },
           {
            "x": 6.385369310233168,
            "y1": 6.578300001731562,
            "y2": 7.474399213566149
           },
           {
            "x": 6.4582516697242545,
            "y1": 6.598345058747076,
            "y2": 7.519348611438372
           },
           {
            "x": 6.531134029215341,
            "y1": 6.6188911510989135,
            "y2": 7.561900791672495
           },
           {
            "x": 6.604016388706428,
            "y1": 6.639516973176229,
            "y2": 7.600762714067652
           },
           {
            "x": 6.676898748197513,
            "y1": 6.660717630371617,
            "y2": 7.638856964551622
           },
           {
            "x": 6.7497811076886,
            "y1": 6.681918287567006,
            "y2": 7.680684635413234
           },
           {
            "x": 6.822663467179686,
            "y1": 6.7031189447623944,
            "y2": 7.718937913456911
           },
           {
            "x": 6.895545826670773,
            "y1": 6.7243196019577836,
            "y2": 7.757154109926512
           },
           {
            "x": 6.9684281861618595,
            "y1": 6.745520259153173,
            "y2": 7.795370306396114
           },
           {
            "x": 7.041310545652946,
            "y1": 6.766106387018819,
            "y2": 7.833586502865716
           },
           {
            "x": 7.114192905144033,
            "y1": 6.783120849680327,
            "y2": 7.871796832031903
           },
           {
            "x": 7.187075264635119,
            "y1": 6.803543658961175,
            "y2": 7.909993768722932
           },
           {
            "x": 7.259957624126206,
            "y1": 6.823966468242022,
            "y2": 7.94819070541396
           },
           {
            "x": 7.332839983617292,
            "y1": 6.844389277522869,
            "y2": 7.986387642104989
           },
           {
            "x": 7.405722343108379,
            "y1": 6.864188882413975,
            "y2": 8.02499156657335
           },
           {
            "x": 7.4786047025994655,
            "y1": 6.882940807711614,
            "y2": 8.065796527043446
           }
          ]
         },
         "encoding": {
          "opacity": {
           "value": 0.15
          },
          "x": {
           "field": "x",
           "scale": {
            "domain": [
             0.26325111298190085,
             7.4786047025994655
            ],
            "nice": false
           },
           "type": "quantitative"
          },
          "y": {
           "field": "y1",
           "type": "quantitative"
          },
          "y2": {
           "field": "y2",
           "type": "quantitative"
          }
         },
         "mark": {
          "clip": true,
          "type": "area"
         }
        }
       ]
      },
      "image/png": "[encoded data removed]",
      "text/plain": [
       "<VegaLite 2 object>\n",
       "\n",
       "If you see this message, it means the renderer has not been properly enabled\n",
       "for the frontend that you are using. For more information, see\n",
       "https://altair-viz.github.io/user_guide/troubleshooting.html\n"
      ]
     },
     "metadata": {},
     "output_type": "display_data"
    },
    {
     "data": {
      "image/png": "[encoded data removed]",
      "text/plain": [
       "<Figure size 432x288 with 1 Axes>"
      ]
     },
     "metadata": {},
     "output_type": "display_data"
    }
   ],
   "source": [
    "display(salt.regplot(x=x, y=y, x_bins=4).interactive())\n",
    "ax = sns.regplot(x=x, y=y, x_bins=4)"
   ]
  },
  {
   "cell_type": "code",
   "execution_count": 9,
   "metadata": {},
   "outputs": [
    {
     "data": {
      "application/vnd.vegalite.v2+json": {
       "$schema": "https://vega.github.io/schema/vega-lite/v2.4.1.json",
       "config": {
        "view": {
         "height": 300,
         "width": 400
        }
       },
       "layer": [
        {
         "data": {
          "values": [
           {
            "dataset": "II",
            "x": 10,
            "y": 9.14
           },
           {
            "dataset": "II",
            "x": 8,
            "y": 8.14
           },
           {
            "dataset": "II",
            "x": 13,
            "y": 8.74
           },
           {
            "dataset": "II",
            "x": 9,
            "y": 8.77
           },
           {
            "dataset": "II",
            "x": 11,
            "y": 9.26
           },
           {
            "dataset": "II",
            "x": 14,
            "y": 8.1
           },
           {
            "dataset": "II",
            "x": 6,
            "y": 6.13
           },
           {
            "dataset": "II",
            "x": 4,
            "y": 3.1
           },
           {
            "dataset": "II",
            "x": 12,
            "y": 9.13
           },
           {
            "dataset": "II",
            "x": 7,
            "y": 7.26
           },
           {
            "dataset": "II",
            "x": 5,
            "y": 4.74
           }
          ]
         },
         "encoding": {
          "x": {
           "axis": {
            "title": "x"
           },
           "field": "x",
           "scale": {
            "domain": [
             3.5,
             14.5
            ],
            "nice": false
           },
           "type": "quantitative"
          },
          "y": {
           "axis": {
            "title": "y"
           },
           "field": "y",
           "type": "quantitative"
          }
         },
         "mark": {
          "clip": true,
          "type": "circle"
         }
        },
        {
         "data": {
          "values": [
           {
            "x": 4,
            "y": 3.100209790209793
           },
           {
            "x": 4.101010101010101,
            "y": 3.2774151988201625
           },
           {
            "x": 4.202020202020202,
            "y": 3.452034885836544
           },
           {
            "x": 4.303030303030303,
            "y": 3.6240688512589374
           },
           {
            "x": 4.404040404040404,
            "y": 3.7935170950873465
           },
           {
            "x": 4.505050505050505,
            "y": 3.960379617321771
           },
           {
            "x": 4.606060606060606,
            "y": 4.124656417962208
           },
           {
            "x": 4.707070707070707,
            "y": 4.286347497008658
           },
           {
            "x": 4.808080808080808,
            "y": 4.4454528544611245
           },
           {
            "x": 4.909090909090909,
            "y": 4.601972490319603
           },
           {
            "x": 5.01010101010101,
            "y": 4.755906404584095
           },
           {
            "x": 5.111111111111111,
            "y": 4.907254597254602
           },
           {
            "x": 5.212121212121212,
            "y": 5.056017068331122
           },
           {
            "x": 5.313131313131313,
            "y": 5.202193817813659
           },
           {
            "x": 5.414141414141414,
            "y": 5.345784845702208
           },
           {
            "x": 5.515151515151516,
            "y": 5.486790151996769
           },
           {
            "x": 5.616161616161616,
            "y": 5.625209736697346
           },
           {
            "x": 5.717171717171717,
            "y": 5.761043599803936
           },
           {
            "x": 5.818181818181818,
            "y": 5.8942917413165405
           },
           {
            "x": 5.919191919191919,
            "y": 6.024954161235159
           },
           {
            "x": 6.020202020202021,
            "y": 6.1530308595597925
           },
           {
            "x": 6.121212121212121,
            "y": 6.2785218362904365
           },
           {
            "x": 6.222222222222222,
            "y": 6.401427091427098
           },
           {
            "x": 6.3232323232323235,
            "y": 6.521746624969773
           },
           {
            "x": 6.424242424242424,
            "y": 6.63948043691846
           },
           {
            "x": 6.525252525252525,
            "y": 6.754628527273163
           },
           {
            "x": 6.626262626262626,
            "y": 6.867190896033878
           },
           {
            "x": 6.727272727272727,
            "y": 6.977167543200609
           },
           {
            "x": 6.828282828282829,
            "y": 7.084558468773353
           },
           {
            "x": 6.929292929292929,
            "y": 7.189363672752109
           },
           {
            "x": 7.03030303030303,
            "y": 7.291583155136881
           },
           {
            "x": 7.1313131313131315,
            "y": 7.391216915927667
           },
           {
            "x": 7.232323232323232,
            "y": 7.488264955124467
           },
           {
            "x": 7.333333333333334,
            "y": 7.582727272727282
           },
           {
            "x": 7.434343434343434,
            "y": 7.674603868736109
           },
           {
            "x": 7.5353535353535355,
            "y": 7.76389474315095
           },
           {
            "x": 7.636363636363637,
            "y": 7.850599895971805
           },
           {
            "x": 7.737373737373737,
            "y": 7.934719327198676
           },
           {
            "x": 7.838383838383838,
            "y": 8.016253036831557
           },
           {
            "x": 7.9393939393939394,
            "y": 8.095201024870455
           },
           {
            "x": 8.040404040404042,
            "y": 8.171563291315369
           },
           {
            "x": 8.141414141414142,
            "y": 8.245339836166291
           },
           {
            "x": 8.242424242424242,
            "y": 8.316530659423233
           },
           {
            "x": 8.343434343434343,
            "y": 8.385135761086183
           },
           {
            "x": 8.444444444444445,
            "y": 8.451155141155152
           },
           {
            "x": 8.545454545454545,
            "y": 8.514588799630133
           },
           {
            "x": 8.646464646464647,
            "y": 8.575436736511126
           },
           {
            "x": 8.747474747474747,
            "y": 8.633698951798134
           },
           {
            "x": 8.848484848484848,
            "y": 8.689375445491159
           },
           {
            "x": 8.94949494949495,
            "y": 8.742466217590195
           },
           {
            "x": 9.05050505050505,
            "y": 8.792971268095243
           },
           {
            "x": 9.151515151515152,
            "y": 8.840890597006311
           },
           {
            "x": 9.252525252525253,
            "y": 8.886224204323387
           },
           {
            "x": 9.353535353535353,
            "y": 8.928972090046479
           },
           {
            "x": 9.454545454545453,
            "y": 8.969134254175586
           },
           {
            "x": 9.555555555555555,
            "y": 9.006710696710705
           },
           {
            "x": 9.656565656565657,
            "y": 9.04170141765184
           },
           {
            "x": 9.757575757575758,
            "y": 9.07410641699899
           },
           {
            "x": 9.858585858585858,
            "y": 9.103925694752153
           },
           {
            "x": 9.959595959595958,
            "y": 9.131159250911328
           },
           {
            "x": 10.06060606060606,
            "y": 9.155807085476518
           },
           {
            "x": 10.161616161616163,
            "y": 9.177869198447723
           },
           {
            "x": 10.262626262626263,
            "y": 9.197345589824941
           },
           {
            "x": 10.363636363636363,
            "y": 9.214236259608171
           },
           {
            "x": 10.464646464646464,
            "y": 9.228541207797416
           },
           {
            "x": 10.565656565656566,
            "y": 9.240260434392678
           },
           {
            "x": 10.666666666666668,
            "y": 9.24939393939395
           },
           {
            "x": 10.767676767676768,
            "y": 9.25594172280124
           },
           {
            "x": 10.868686868686869,
            "y": 9.25990378461454
           },
           {
            "x": 10.969696969696969,
            "y": 9.261280124833853
           },
           {
            "x": 11.070707070707071,
            "y": 9.260070743459185
           },
           {
            "x": 11.171717171717171,
            "y": 9.256275640490525
           },
           {
            "x": 11.272727272727273,
            "y": 9.249894815927885
           },
           {
            "x": 11.373737373737374,
            "y": 9.240928269771256
           },
           {
            "x": 11.474747474747474,
            "y": 9.22937600202064
           },
           {
            "x": 11.575757575757574,
            "y": 9.21523801267604
           },
           {
            "x": 11.676767676767676,
            "y": 9.198514301737454
           },
           {
            "x": 11.777777777777779,
            "y": 9.17920486920488
           },
           {
            "x": 11.878787878787879,
            "y": 9.157309715078323
           },
           {
            "x": 11.97979797979798,
            "y": 9.132828839357778
           },
           {
            "x": 12.080808080808081,
            "y": 9.105762242043244
           },
           {
            "x": 12.181818181818182,
            "y": 9.076109923134727
           },
           {
            "x": 12.282828282828282,
            "y": 9.043871882632224
           },
           {
            "x": 12.383838383838384,
            "y": 9.009048120535734
           },
           {
            "x": 12.484848484848484,
            "y": 8.97163863684526
           },
           {
            "x": 12.585858585858587,
            "y": 8.931643431560797
           },
           {
            "x": 12.686868686868687,
            "y": 8.88906250468235
           },
           {
            "x": 12.787878787878787,
            "y": 8.843895856209915
           },
           {
            "x": 12.88888888888889,
            "y": 8.796143486143496
           },
           {
            "x": 12.98989898989899,
            "y": 8.745805394483092
           },
           {
            "x": 13.09090909090909,
            "y": 8.6928815812287
           },
           {
            "x": 13.191919191919192,
            "y": 8.637372046380321
           },
           {
            "x": 13.292929292929292,
            "y": 8.579276789937957
           },
           {
            "x": 13.393939393939394,
            "y": 8.518595811901605
           },
           {
            "x": 13.494949494949495,
            "y": 8.455329112271272
           },
           {
            "x": 13.595959595959595,
            "y": 8.389476691046951
           },
           {
            "x": 13.696969696969697,
            "y": 8.321038548228643
           },
           {
            "x": 13.797979797979798,
            "y": 8.25001468381635
           },
           {
            "x": 13.8989898989899,
            "y": 8.176405097810068
           },
           {
            "x": 14,
            "y": 8.100209790209803
           }
          ]
         },
         "encoding": {
          "x": {
           "field": "x",
           "scale": {
            "domain": [
             3.5,
             14.5
            ],
            "nice": false
           },
           "type": "quantitative"
          },
          "y": {
           "field": "y",
           "type": "quantitative"
          }
         },
         "mark": {
          "clip": true,
          "type": "line"
         }
        }
       ]
      },
      "image/png": "[encoded data removed]",
      "text/plain": [
       "<VegaLite 2 object>\n",
       "\n",
       "If you see this message, it means the renderer has not been properly enabled\n",
       "for the frontend that you are using. For more information, see\n",
       "https://altair-viz.github.io/user_guide/troubleshooting.html\n"
      ]
     },
     "metadata": {},
     "output_type": "display_data"
    },
    {
     "data": {
      "image/png": "[encoded data removed]",
      "text/plain": [
       "<Figure size 432x288 with 1 Axes>"
      ]
     },
     "metadata": {},
     "output_type": "display_data"
    }
   ],
   "source": [
    "display(salt.regplot(x=\"x\", y=\"y\", data=ans.loc[ans.dataset == \"II\"], scatter_kws={\"s\": 80}, order=2, ci=None, truncate=True))\n",
    "ax = sns.regplot(x=\"x\", y=\"y\", data=ans.loc[ans.dataset == \"II\"], scatter_kws={\"s\": 80}, order=2, ci=None, truncate=True)"
   ]
  },
  {
   "cell_type": "code",
   "execution_count": 10,
   "metadata": {},
   "outputs": [
    {
     "data": {
      "application/vnd.vegalite.v2+json": {
       "$schema": "https://vega.github.io/schema/vega-lite/v2.4.1.json",
       "config": {
        "view": {
         "height": 300,
         "width": 400
        }
       },
       "layer": [
        {
         "data": {
          "values": [
           {
            "dataset": "III",
            "x": 10,
            "y": 7.46
           },
           {
            "dataset": "III",
            "x": 8,
            "y": 6.77
           },
           {
            "dataset": "III",
            "x": 13,
            "y": 12.74
           },
           {
            "dataset": "III",
            "x": 9,
            "y": 7.11
           },
           {
            "dataset": "III",
            "x": 11,
            "y": 7.81
           },
           {
            "dataset": "III",
            "x": 14,
            "y": 8.84
           },
           {
            "dataset": "III",
            "x": 6,
            "y": 6.08
           },
           {
            "dataset": "III",
            "x": 4,
            "y": 5.39
           },
           {
            "dataset": "III",
            "x": 12,
            "y": 8.15
           },
           {
            "dataset": "III",
            "x": 7,
            "y": 6.42
           },
           {
            "dataset": "III",
            "x": 5,
            "y": 5.73
           }
          ]
         },
         "encoding": {
          "x": {
           "axis": {
            "title": "x"
           },
           "field": "x",
           "scale": {
            "domain": [
             3.5,
             14.5
            ],
            "nice": false
           },
           "type": "quantitative"
          },
          "y": {
           "axis": {
            "title": "y"
           },
           "field": "y",
           "type": "quantitative"
          }
         },
         "mark": {
          "clip": true,
          "type": "circle"
         }
        },
        {
         "data": {
          "values": [
           {
            "x": 3.5,
            "y": 5.213503137273091
           },
           {
            "x": 3.611111111111111,
            "y": 5.2519171624919325
           },
           {
            "x": 3.7222222222222223,
            "y": 5.290331187710774
           },
           {
            "x": 3.8333333333333335,
            "y": 5.328745212929616
           },
           {
            "x": 3.9444444444444446,
            "y": 5.367159238148458
           },
           {
            "x": 4.055555555555555,
            "y": 5.4055732633673
           },
           {
            "x": 4.166666666666667,
            "y": 5.443987288586142
           },
           {
            "x": 4.277777777777778,
            "y": 5.482401313804983
           },
           {
            "x": 4.388888888888889,
            "y": 5.520815339023825
           },
           {
            "x": 4.5,
            "y": 5.5592293642426664
           },
           {
            "x": 4.611111111111111,
            "y": 5.597643389461508
           },
           {
            "x": 4.722222222222222,
            "y": 5.63605741468035
           },
           {
            "x": 4.833333333333333,
            "y": 5.674471439899191
           },
           {
            "x": 4.944444444444445,
            "y": 5.712885465118034
           },
           {
            "x": 5.055555555555555,
            "y": 5.7512994903368755
           },
           {
            "x": 5.166666666666666,
            "y": 5.789713515555717
           },
           {
            "x": 5.277777777777778,
            "y": 5.828127540774559
           },
           {
            "x": 5.388888888888889,
            "y": 5.866541565993401
           },
           {
            "x": 5.5,
            "y": 5.904955591212243
           },
           {
            "x": 5.611111111111111,
            "y": 5.9433696164310845
           },
           {
            "x": 5.722222222222222,
            "y": 5.981783641649926
           },
           {
            "x": 5.833333333333333,
            "y": 6.020197666868768
           },
           {
            "x": 5.944444444444445,
            "y": 6.058611692087609
           },
           {
            "x": 6.055555555555555,
            "y": 6.097025717306451
           },
           {
            "x": 6.166666666666666,
            "y": 6.135439742525293
           },
           {
            "x": 6.277777777777778,
            "y": 6.173853767744134
           },
           {
            "x": 6.388888888888889,
            "y": 6.212267792962977
           },
           {
            "x": 6.5,
            "y": 6.2506818181818184
           },
           {
            "x": 6.611111111111111,
            "y": 6.28909584340066
           },
           {
            "x": 6.722222222222221,
            "y": 6.327509868619502
           },
           {
            "x": 6.833333333333333,
            "y": 6.365923893838344
           },
           {
            "x": 6.944444444444445,
            "y": 6.404337919057186
           },
           {
            "x": 7.055555555555555,
            "y": 6.4427519442760275
           },
           {
            "x": 7.166666666666666,
            "y": 6.481165969494869
           },
           {
            "x": 7.277777777777778,
            "y": 6.519579994713711
           },
           {
            "x": 7.388888888888889,
            "y": 6.557994019932552
           },
           {
            "x": 7.5,
            "y": 6.596408045151394
           },
           {
            "x": 7.611111111111111,
            "y": 6.634822070370236
           },
           {
            "x": 7.722222222222222,
            "y": 6.673236095589077
           },
           {
            "x": 7.833333333333333,
            "y": 6.711650120807919
           },
           {
            "x": 7.944444444444445,
            "y": 6.750064146026761
           },
           {
            "x": 8.055555555555555,
            "y": 6.788478171245603
           },
           {
            "x": 8.166666666666666,
            "y": 6.826892196464445
           },
           {
            "x": 8.277777777777779,
            "y": 6.865306221683287
           },
           {
            "x": 8.38888888888889,
            "y": 6.903720246902129
           },
           {
            "x": 8.5,
            "y": 6.9421342721209705
           },
           {
            "x": 8.61111111111111,
            "y": 6.980548297339812
           },
           {
            "x": 8.722222222222221,
            "y": 7.018962322558654
           },
           {
            "x": 8.833333333333332,
            "y": 7.057376347777495
           },
           {
            "x": 8.944444444444443,
            "y": 7.095790372996337
           },
           {
            "x": 9.055555555555555,
            "y": 7.134204398215179
           },
           {
            "x": 9.166666666666666,
            "y": 7.17261842343402
           },
           {
            "x": 9.277777777777779,
            "y": 7.211032448652863
           },
           {
            "x": 9.38888888888889,
            "y": 7.249446473871704
           },
           {
            "x": 9.5,
            "y": 7.287860499090546
           },
           {
            "x": 9.61111111111111,
            "y": 7.326274524309388
           },
           {
            "x": 9.722222222222221,
            "y": 7.364688549528229
           },
           {
            "x": 9.833333333333332,
            "y": 7.403102574747071
           },
           {
            "x": 9.944444444444443,
            "y": 7.4415165999659125
           },
           {
            "x": 10.055555555555555,
            "y": 7.479930625184755
           },
           {
            "x": 10.166666666666666,
            "y": 7.518344650403597
           },
           {
            "x": 10.277777777777779,
            "y": 7.556758675622438
           },
           {
            "x": 10.38888888888889,
            "y": 7.59517270084128
           },
           {
            "x": 10.5,
            "y": 7.633586726060122
           },
           {
            "x": 10.61111111111111,
            "y": 7.672000751278963
           },
           {
            "x": 10.722222222222221,
            "y": 7.710414776497805
           },
           {
            "x": 10.833333333333332,
            "y": 7.7488288017166465
           },
           {
            "x": 10.944444444444443,
            "y": 7.787242826935488
           },
           {
            "x": 11.055555555555555,
            "y": 7.825656852154331
           },
           {
            "x": 11.166666666666666,
            "y": 7.864070877373172
           },
           {
            "x": 11.277777777777779,
            "y": 7.902484902592015
           },
           {
            "x": 11.38888888888889,
            "y": 7.940898927810856
           },
           {
            "x": 11.5,
            "y": 7.979312953029698
           },
           {
            "x": 11.61111111111111,
            "y": 8.01772697824854
           },
           {
            "x": 11.722222222222221,
            "y": 8.056141003467381
           },
           {
            "x": 11.833333333333332,
            "y": 8.094555028686223
           },
           {
            "x": 11.944444444444445,
            "y": 8.132969053905065
           },
           {
            "x": 12.055555555555555,
            "y": 8.171383079123906
           },
           {
            "x": 12.166666666666666,
            "y": 8.209797104342748
           },
           {
            "x": 12.277777777777777,
            "y": 8.24821112956159
           },
           {
            "x": 12.38888888888889,
            "y": 8.286625154780431
           },
           {
            "x": 12.5,
            "y": 8.325039179999273
           },
           {
            "x": 12.61111111111111,
            "y": 8.363453205218114
           },
           {
            "x": 12.722222222222221,
            "y": 8.401867230436956
           },
           {
            "x": 12.833333333333332,
            "y": 8.440281255655798
           },
           {
            "x": 12.944444444444445,
            "y": 8.478695280874641
           },
           {
            "x": 13.055555555555555,
            "y": 8.517109306093483
           },
           {
            "x": 13.166666666666666,
            "y": 8.555523331312324
           },
           {
            "x": 13.277777777777777,
            "y": 8.593937356531166
           },
           {
            "x": 13.388888888888888,
            "y": 8.632351381750007
           },
           {
            "x": 13.5,
            "y": 8.670765406968851
           },
           {
            "x": 13.61111111111111,
            "y": 8.709179432187693
           },
           {
            "x": 13.722222222222221,
            "y": 8.747593457406534
           },
           {
            "x": 13.833333333333332,
            "y": 8.786007482625376
           },
           {
            "x": 13.944444444444445,
            "y": 8.824421507844217
           },
           {
            "x": 14.055555555555555,
            "y": 8.862835533063059
           },
           {
            "x": 14.166666666666666,
            "y": 8.9012495582819
           },
           {
            "x": 14.277777777777777,
            "y": 8.939663583500742
           },
           {
            "x": 14.388888888888888,
            "y": 8.978077608719584
           },
           {
            "x": 14.5,
            "y": 9.016491633938426
           }
          ]
         },
         "encoding": {
          "x": {
           "field": "x",
           "scale": {
            "domain": [
             3.5,
             14.5
            ],
            "nice": false
           },
           "type": "quantitative"
          },
          "y": {
           "field": "y",
           "type": "quantitative"
          }
         },
         "mark": {
          "clip": true,
          "type": "line"
         }
        }
       ]
      },
      "image/png": "[encoded data removed]",
      "text/plain": [
       "<VegaLite 2 object>\n",
       "\n",
       "If you see this message, it means the renderer has not been properly enabled\n",
       "for the frontend that you are using. For more information, see\n",
       "https://altair-viz.github.io/user_guide/troubleshooting.html\n"
      ]
     },
     "metadata": {},
     "output_type": "display_data"
    },
    {
     "data": {
      "image/png": "[encoded data removed]",
      "text/plain": [
       "<Figure size 432x288 with 1 Axes>"
      ]
     },
     "metadata": {},
     "output_type": "display_data"
    }
   ],
   "source": [
    "display(salt.regplot(x=\"x\", y=\"y\", data=ans.loc[ans.dataset == \"III\"], scatter_kws={\"s\": 80}, robust=True, ci=None))\n",
    "ax = sns.regplot(x=\"x\", y=\"y\", data=ans.loc[ans.dataset == \"III\"], scatter_kws={\"s\": 80}, robust=True, ci=None)"
   ]
  },
  {
   "cell_type": "code",
   "execution_count": 11,
   "metadata": {},
   "outputs": [
    {
     "data": {
      "application/vnd.vegalite.v2+json": {
       "$schema": "https://vega.github.io/schema/vega-lite/v2.4.1.json",
       "config": {
        "view": {
         "height": 300,
         "width": 400
        }
       },
       "layer": [
        {
         "data": {
          "values": [
           {
            "big_tip": false,
            "day": "Sun",
            "sex": "Female",
            "size": 2,
            "smoker": "No",
            "time": "Dinner",
            "tip": 1.01,
            "total_bill": 16.99
           },
           {
            "big_tip": false,
            "day": "Sun",
            "sex": "Male",
            "size": 3,
            "smoker": "No",
            "time": "Dinner",
            "tip": 1.66,
            "total_bill": 10.34
           },
           {
            "big_tip": false,
            "day": "Sun",
            "sex": "Male",
            "size": 3,
            "smoker": "No",
            "time": "Dinner",
            "tip": 3.5,
            "total_bill": 21.01
           },
           {
            "big_tip": false,
            "day": "Sun",
            "sex": "Male",
            "size": 2,
            "smoker": "No",
            "time": "Dinner",
            "tip": 3.31,
            "total_bill": 23.68
           },
           {
            "big_tip": false,
            "day": "Sun",
            "sex": "Female",
            "size": 4,
            "smoker": "No",
            "time": "Dinner",
            "tip": 3.61,
            "total_bill": 24.59
           },
           {
            "big_tip": true,
            "day": "Sun",
            "sex": "Male",
            "size": 4,
            "smoker": "No",
            "time": "Dinner",
            "tip": 4.71,
            "total_bill": 25.29
           },
           {
            "big_tip": true,
            "day": "Sun",
            "sex": "Male",
            "size": 2,
            "smoker": "No",
            "time": "Dinner",
            "tip": 2,
            "total_bill": 8.77
           },
           {
            "big_tip": false,
            "day": "Sun",
            "sex": "Male",
            "size": 4,
            "smoker": "No",
            "time": "Dinner",
            "tip": 3.12,
            "total_bill": 26.88
           },
           {
            "big_tip": false,
            "day": "Sun",
            "sex": "Male",
            "size": 2,
            "smoker": "No",
            "time": "Dinner",
            "tip": 1.96,
            "total_bill": 15.04
           },
           {
            "big_tip": true,
            "day": "Sun",
            "sex": "Male",
            "size": 2,
            "smoker": "No",
            "time": "Dinner",
            "tip": 3.23,
            "total_bill": 14.78
           },
           {
            "big_tip": false,
            "day": "Sun",
            "sex": "Male",
            "size": 2,
            "smoker": "No",
            "time": "Dinner",
            "tip": 1.71,
            "total_bill": 10.27
           },
           {
            "big_tip": false,
            "day": "Sun",
            "sex": "Female",
            "size": 4,
            "smoker": "No",
            "time": "Dinner",
            "tip": 5,
            "total_bill": 35.26
           },
           {
            "big_tip": false,
            "day": "Sun",
            "sex": "Male",
            "size": 2,
            "smoker": "No",
            "time": "Dinner",
            "tip": 1.57,
            "total_bill": 15.42
           },
           {
            "big_tip": false,
            "day": "Sun",
            "sex": "Male",
            "size": 4,
            "smoker": "No",
            "time": "Dinner",
            "tip": 3,
            "total_bill": 18.43
           },
           {
            "big_tip": true,
            "day": "Sun",
            "sex": "Female",
            "size": 2,
            "smoker": "No",
            "time": "Dinner",
            "tip": 3.02,
            "total_bill": 14.83
           },
           {
            "big_tip": true,
            "day": "Sun",
            "sex": "Male",
            "size": 2,
            "smoker": "No",
            "time": "Dinner",
            "tip": 3.92,
            "total_bill": 21.58
           },
           {
            "big_tip": false,
            "day": "Sun",
            "sex": "Female",
            "size": 3,
            "smoker": "No",
            "time": "Dinner",
            "tip": 1.67,
            "total_bill": 10.33
           },
           {
            "big_tip": true,
            "day": "Sun",
            "sex": "Male",
            "size": 3,
            "smoker": "No",
            "time": "Dinner",
            "tip": 3.71,
            "total_bill": 16.29
           },
           {
            "big_tip": true,
            "day": "Sun",
            "sex": "Female",
            "size": 3,
            "smoker": "No",
            "time": "Dinner",
            "tip": 3.5,
            "total_bill": 16.97
           },
           {
            "big_tip": false,
            "day": "Sat",
            "sex": "Male",
            "size": 3,
            "smoker": "No",
            "time": "Dinner",
            "tip": 3.35,
            "total_bill": 20.65
           },
           {
            "big_tip": true,
            "day": "Sat",
            "sex": "Male",
            "size": 2,
            "smoker": "No",
            "time": "Dinner",
            "tip": 4.08,
            "total_bill": 17.92
           },
           {
            "big_tip": false,
            "day": "Sat",
            "sex": "Female",
            "size": 2,
            "smoker": "No",
            "time": "Dinner",
            "tip": 2.75,
            "total_bill": 20.29
           },
           {
            "big_tip": false,
            "day": "Sat",
            "sex": "Female",
            "size": 2,
            "smoker": "No",
            "time": "Dinner",
            "tip": 2.23,
            "total_bill": 15.77
           },
           {
            "big_tip": true,
            "day": "Sat",
            "sex": "Male",
            "size": 4,
            "smoker": "No",
            "time": "Dinner",
            "tip": 7.58,
            "total_bill": 39.42
           },
           {
            "big_tip": false,
            "day": "Sat",
            "sex": "Male",
            "size": 2,
            "smoker": "No",
            "time": "Dinner",
            "tip": 3.18,
            "total_bill": 19.82
           },
           {
            "big_tip": false,
            "day": "Sat",
            "sex": "Male",
            "size": 4,
            "smoker": "No",
            "time": "Dinner",
            "tip": 2.34,
            "total_bill": 17.81
           },
           {
            "big_tip": false,
            "day": "Sat",
            "sex": "Male",
            "size": 2,
            "smoker": "No",
            "time": "Dinner",
            "tip": 2,
            "total_bill": 13.37
           },
           {
            "big_tip": false,
            "day": "Sat",
            "sex": "Male",
            "size": 2,
            "smoker": "No",
            "time": "Dinner",
            "tip": 2,
            "total_bill": 12.69
           },
           {
            "big_tip": true,
            "day": "Sat",
            "sex": "Male",
            "size": 2,
            "smoker": "No",
            "time": "Dinner",
            "tip": 4.3,
            "total_bill": 21.7
           },
           {
            "big_tip": false,
            "day": "Sat",
            "sex": "Female",
            "size": 2,
            "smoker": "No",
            "time": "Dinner",
            "tip": 3,
            "total_bill": 19.65
           },
           {
            "big_tip": false,
            "day": "Sat",
            "sex": "Male",
            "size": 2,
            "smoker": "No",
            "time": "Dinner",
            "tip": 1.45,
            "total_bill": 9.55
           },
           {
            "big_tip": false,
            "day": "Sat",
            "sex": "Male",
            "size": 4,
            "smoker": "No",
            "time": "Dinner",
            "tip": 2.5,
            "total_bill": 18.35
           },
           {
            "big_tip": true,
            "day": "Sat",
            "sex": "Female",
            "size": 2,
            "smoker": "No",
            "time": "Dinner",
            "tip": 3,
            "total_bill": 15.06
           },
           {
            "big_tip": false,
            "day": "Sat",
            "sex": "Female",
            "size": 4,
            "smoker": "No",
            "time": "Dinner",
            "tip": 2.45,
            "total_bill": 20.69
           },
           {
            "big_tip": true,
            "day": "Sat",
            "sex": "Male",
            "size": 2,
            "smoker": "No",
            "time": "Dinner",
            "tip": 3.27,
            "total_bill": 17.78
           },
           {
            "big_tip": false,
            "day": "Sat",
            "sex": "Male",
            "size": 3,
            "smoker": "No",
            "time": "Dinner",
            "tip": 3.6,
            "total_bill": 24.06
           },
           {
            "big_tip": false,
            "day": "Sat",
            "sex": "Male",
            "size": 3,
            "smoker": "No",
            "time": "Dinner",
            "tip": 2,
            "total_bill": 16.31
           },
           {
            "big_tip": true,
            "day": "Sat",
            "sex": "Female",
            "size": 3,
            "smoker": "No",
            "time": "Dinner",
            "tip": 3.07,
            "total_bill": 16.93
           },
           {
            "big_tip": false,
            "day": "Sat",
            "sex": "Male",
            "size": 3,
            "smoker": "No",
            "time": "Dinner",
            "tip": 2.31,
            "total_bill": 18.69
           },
           {
            "big_tip": false,
            "day": "Sat",
            "sex": "Male",
            "size": 3,
            "smoker": "No",
            "time": "Dinner",
            "tip": 5,
            "total_bill": 31.27
           },
           {
            "big_tip": false,
            "day": "Sat",
            "sex": "Male",
            "size": 3,
            "smoker": "No",
            "time": "Dinner",
            "tip": 2.24,
            "total_bill": 16.04
           },
           {
            "big_tip": false,
            "day": "Sun",
            "sex": "Male",
            "size": 2,
            "smoker": "No",
            "time": "Dinner",
            "tip": 2.54,
            "total_bill": 17.46
           },
           {
            "big_tip": true,
            "day": "Sun",
            "sex": "Male",
            "size": 2,
            "smoker": "No",
            "time": "Dinner",
            "tip": 3.06,
            "total_bill": 13.94
           },
           {
            "big_tip": false,
            "day": "Sun",
            "sex": "Male",
            "size": 2,
            "smoker": "No",
            "time": "Dinner",
            "tip": 1.32,
            "total_bill": 9.68
           },
           {
            "big_tip": true,
            "day": "Sun",
            "sex": "Male",
            "size": 4,
            "smoker": "No",
            "time": "Dinner",
            "tip": 5.6,
            "total_bill": 30.4
           },
           {
            "big_tip": false,
            "day": "Sun",
            "sex": "Male",
            "size": 2,
            "smoker": "No",
            "time": "Dinner",
            "tip": 3,
            "total_bill": 18.29
           },
           {
            "big_tip": true,
            "day": "Sun",
            "sex": "Male",
            "size": 2,
            "smoker": "No",
            "time": "Dinner",
            "tip": 5,
            "total_bill": 22.23
           },
           {
            "big_tip": true,
            "day": "Sun",
            "sex": "Male",
            "size": 4,
            "smoker": "No",
            "time": "Dinner",
            "tip": 6,
            "total_bill": 32.4
           },
           {
            "big_tip": false,
            "day": "Sun",
            "sex": "Male",
            "size": 3,
            "smoker": "No",
            "time": "Dinner",
            "tip": 2.05,
            "total_bill": 28.55
           },
           {
            "big_tip": false,
            "day": "Sun",
            "sex": "Male",
            "size": 2,
            "smoker": "No",
            "time": "Dinner",
            "tip": 3,
            "total_bill": 18.04
           },
           {
            "big_tip": true,
            "day": "Sun",
            "sex": "Male",
            "size": 2,
            "smoker": "No",
            "time": "Dinner",
            "tip": 2.5,
            "total_bill": 12.54
           },
           {
            "big_tip": true,
            "day": "Sun",
            "sex": "Female",
            "size": 2,
            "smoker": "No",
            "time": "Dinner",
            "tip": 2.6,
            "total_bill": 10.29
           },
           {
            "big_tip": false,
            "day": "Sun",
            "sex": "Female",
            "size": 4,
            "smoker": "No",
            "time": "Dinner",
            "tip": 5.2,
            "total_bill": 34.81
           },
           {
            "big_tip": false,
            "day": "Sun",
            "sex": "Male",
            "size": 2,
            "smoker": "No",
            "time": "Dinner",
            "tip": 1.56,
            "total_bill": 9.94
           },
           {
            "big_tip": false,
            "day": "Sun",
            "sex": "Male",
            "size": 4,
            "smoker": "No",
            "time": "Dinner",
            "tip": 4.34,
            "total_bill": 25.56
           },
           {
            "big_tip": true,
            "day": "Sun",
            "sex": "Male",
            "size": 2,
            "smoker": "No",
            "time": "Dinner",
            "tip": 3.51,
            "total_bill": 19.49
           },
           {
            "big_tip": false,
            "day": "Sat",
            "sex": "Male",
            "size": 4,
            "smoker": "Yes",
            "time": "Dinner",
            "tip": 3,
            "total_bill": 38.01
           },
           {
            "big_tip": false,
            "day": "Sat",
            "sex": "Female",
            "size": 2,
            "smoker": "No",
            "time": "Dinner",
            "tip": 1.5,
            "total_bill": 26.41
           },
           {
            "big_tip": false,
            "day": "Sat",
            "sex": "Male",
            "size": 2,
            "smoker": "Yes",
            "time": "Dinner",
            "tip": 1.76,
            "total_bill": 11.24
           },
           {
            "big_tip": false,
            "day": "Sat",
            "sex": "Male",
            "size": 4,
            "smoker": "No",
            "time": "Dinner",
            "tip": 6.73,
            "total_bill": 48.27
           },
           {
            "big_tip": false,
            "day": "Sat",
            "sex": "Male",
            "size": 2,
            "smoker": "Yes",
            "time": "Dinner",
            "tip": 3.21,
            "total_bill": 20.29
           },
           {
            "big_tip": false,
            "day": "Sat",
            "sex": "Male",
            "size": 2,
            "smoker": "Yes",
            "time": "Dinner",
            "tip": 2,
            "total_bill": 13.81
           },
           {
            "big_tip": true,
            "day": "Sat",
            "sex": "Male",
            "size": 2,
            "smoker": "Yes",
            "time": "Dinner",
            "tip": 1.98,
            "total_bill": 11.02
           },
           {
            "big_tip": true,
            "day": "Sat",
            "sex": "Male",
            "size": 4,
            "smoker": "Yes",
            "time": "Dinner",
            "tip": 3.76,
            "total_bill": 18.29
           },
           {
            "big_tip": false,
            "day": "Sat",
            "sex": "Male",
            "size": 3,
            "smoker": "No",
            "time": "Dinner",
            "tip": 2.64,
            "total_bill": 17.59
           },
           {
            "big_tip": false,
            "day": "Sat",
            "sex": "Male",
            "size": 3,
            "smoker": "No",
            "time": "Dinner",
            "tip": 3.15,
            "total_bill": 20.08
           },
           {
            "big_tip": false,
            "day": "Sat",
            "sex": "Female",
            "size": 2,
            "smoker": "No",
            "time": "Dinner",
            "tip": 2.47,
            "total_bill": 16.45
           },
           {
            "big_tip": true,
            "day": "Sat",
            "sex": "Female",
            "size": 1,
            "smoker": "Yes",
            "time": "Dinner",
            "tip": 1,
            "total_bill": 3.07
           },
           {
            "big_tip": false,
            "day": "Sat",
            "sex": "Male",
            "size": 2,
            "smoker": "No",
            "time": "Dinner",
            "tip": 2.01,
            "total_bill": 20.23
           },
           {
            "big_tip": false,
            "day": "Sat",
            "sex": "Male",
            "size": 2,
            "smoker": "Yes",
            "time": "Dinner",
            "tip": 2.09,
            "total_bill": 15.01
           },
           {
            "big_tip": false,
            "day": "Sat",
            "sex": "Male",
            "size": 2,
            "smoker": "No",
            "time": "Dinner",
            "tip": 1.97,
            "total_bill": 12.02
           },
           {
            "big_tip": true,
            "day": "Sat",
            "sex": "Female",
            "size": 3,
            "smoker": "No",
            "time": "Dinner",
            "tip": 3,
            "total_bill": 17.07
           },
           {
            "big_tip": false,
            "day": "Sat",
            "sex": "Female",
            "size": 2,
            "smoker": "Yes",
            "time": "Dinner",
            "tip": 3.14,
            "total_bill": 26.86
           },
           {
            "big_tip": true,
            "day": "Sat",
            "sex": "Female",
            "size": 2,
            "smoker": "Yes",
            "time": "Dinner",
            "tip": 5,
            "total_bill": 25.28
           },
           {
            "big_tip": false,
            "day": "Sat",
            "sex": "Female",
            "size": 2,
            "smoker": "No",
            "time": "Dinner",
            "tip": 2.2,
            "total_bill": 14.73
           },
           {
            "big_tip": false,
            "day": "Sat",
            "sex": "Male",
            "size": 2,
            "smoker": "No",
            "time": "Dinner",
            "tip": 1.25,
            "total_bill": 10.51
           },
           {
            "big_tip": false,
            "day": "Sat",
            "sex": "Male",
            "size": 2,
            "smoker": "Yes",
            "time": "Dinner",
            "tip": 3.08,
            "total_bill": 17.92
           },
           {
            "big_tip": false,
            "day": "Thur",
            "sex": "Male",
            "size": 4,
            "smoker": "No",
            "time": "Lunch",
            "tip": 4,
            "total_bill": 27.2
           },
           {
            "big_tip": false,
            "day": "Thur",
            "sex": "Male",
            "size": 2,
            "smoker": "No",
            "time": "Lunch",
            "tip": 3,
            "total_bill": 22.76
           },
           {
            "big_tip": false,
            "day": "Thur",
            "sex": "Male",
            "size": 2,
            "smoker": "No",
            "time": "Lunch",
            "tip": 2.71,
            "total_bill": 17.29
           },
           {
            "big_tip": false,
            "day": "Thur",
            "sex": "Male",
            "size": 2,
            "smoker": "Yes",
            "time": "Lunch",
            "tip": 3,
            "total_bill": 19.44
           },
           {
            "big_tip": true,
            "day": "Thur",
            "sex": "Male",
            "size": 2,
            "smoker": "No",
            "time": "Lunch",
            "tip": 3.4,
            "total_bill": 16.66
           },
           {
            "big_tip": true,
            "day": "Thur",
            "sex": "Female",
            "size": 1,
            "smoker": "No",
            "time": "Lunch",
            "tip": 1.83,
            "total_bill": 10.07
           },
           {
            "big_tip": false,
            "day": "Thur",
            "sex": "Male",
            "size": 2,
            "smoker": "Yes",
            "time": "Lunch",
            "tip": 5,
            "total_bill": 32.68
           },
           {
            "big_tip": false,
            "day": "Thur",
            "sex": "Male",
            "size": 2,
            "smoker": "No",
            "time": "Lunch",
            "tip": 2.03,
            "total_bill": 15.98
           },
           {
            "big_tip": false,
            "day": "Thur",
            "sex": "Female",
            "size": 4,
            "smoker": "No",
            "time": "Lunch",
            "tip": 5.17,
            "total_bill": 34.83
           },
           {
            "big_tip": false,
            "day": "Thur",
            "sex": "Male",
            "size": 2,
            "smoker": "No",
            "time": "Lunch",
            "tip": 2,
            "total_bill": 13.03
           },
           {
            "big_tip": true,
            "day": "Thur",
            "sex": "Male",
            "size": 2,
            "smoker": "No",
            "time": "Lunch",
            "tip": 4,
            "total_bill": 18.28
           },
           {
            "big_tip": true,
            "day": "Thur",
            "sex": "Male",
            "size": 2,
            "smoker": "No",
            "time": "Lunch",
            "tip": 5.85,
            "total_bill": 24.71
           },
           {
            "big_tip": false,
            "day": "Thur",
            "sex": "Male",
            "size": 2,
            "smoker": "No",
            "time": "Lunch",
            "tip": 3,
            "total_bill": 21.16
           },
           {
            "big_tip": false,
            "day": "Fri",
            "sex": "Male",
            "size": 2,
            "smoker": "Yes",
            "time": "Dinner",
            "tip": 3,
            "total_bill": 28.97
           },
           {
            "big_tip": false,
            "day": "Fri",
            "sex": "Male",
            "size": 2,
            "smoker": "No",
            "time": "Dinner",
            "tip": 3.5,
            "total_bill": 22.49
           },
           {
            "big_tip": false,
            "day": "Fri",
            "sex": "Female",
            "size": 2,
            "smoker": "Yes",
            "time": "Dinner",
            "tip": 1,
            "total_bill": 5.75
           },
           {
            "big_tip": true,
            "day": "Fri",
            "sex": "Female",
            "size": 2,
            "smoker": "Yes",
            "time": "Dinner",
            "tip": 4.3,
            "total_bill": 16.32
           },
           {
            "big_tip": false,
            "day": "Fri",
            "sex": "Female",
            "size": 2,
            "smoker": "No",
            "time": "Dinner",
            "tip": 3.25,
            "total_bill": 22.75
           },
           {
            "big_tip": false,
            "day": "Fri",
            "sex": "Male",
            "size": 4,
            "smoker": "Yes",
            "time": "Dinner",
            "tip": 4.73,
            "total_bill": 40.17
           },
           {
            "big_tip": false,
            "day": "Fri",
            "sex": "Male",
            "size": 2,
            "smoker": "Yes",
            "time": "Dinner",
            "tip": 4,
            "total_bill": 27.28
           },
           {
            "big_tip": false,
            "day": "Fri",
            "sex": "Male",
            "size": 2,
            "smoker": "Yes",
            "time": "Dinner",
            "tip": 1.5,
            "total_bill": 12.03
           },
           {
            "big_tip": false,
            "day": "Fri",
            "sex": "Male",
            "size": 2,
            "smoker": "Yes",
            "time": "Dinner",
            "tip": 3,
            "total_bill": 21.01
           },
           {
            "big_tip": false,
            "day": "Fri",
            "sex": "Male",
            "size": 2,
            "smoker": "No",
            "time": "Dinner",
            "tip": 1.5,
            "total_bill": 12.46
           },
           {
            "big_tip": true,
            "day": "Fri",
            "sex": "Female",
            "size": 2,
            "smoker": "Yes",
            "time": "Dinner",
            "tip": 2.5,
            "total_bill": 11.35
           },
           {
            "big_tip": true,
            "day": "Fri",
            "sex": "Female",
            "size": 2,
            "smoker": "Yes",
            "time": "Dinner",
            "tip": 3,
            "total_bill": 15.38
           },
           {
            "big_tip": false,
            "day": "Sat",
            "sex": "Female",
            "size": 3,
            "smoker": "Yes",
            "time": "Dinner",
            "tip": 2.5,
            "total_bill": 44.3
           },
           {
            "big_tip": false,
            "day": "Sat",
            "sex": "Female",
            "size": 2,
            "smoker": "Yes",
            "time": "Dinner",
            "tip": 3.48,
            "total_bill": 22.42
           },
           {
            "big_tip": true,
            "day": "Sat",
            "sex": "Female",
            "size": 2,
            "smoker": "No",
            "time": "Dinner",
            "tip": 4.08,
            "total_bill": 20.92
           },
           {
            "big_tip": false,
            "day": "Sat",
            "sex": "Male",
            "size": 2,
            "smoker": "Yes",
            "time": "Dinner",
            "tip": 1.64,
            "total_bill": 15.36
           },
           {
            "big_tip": true,
            "day": "Sat",
            "sex": "Male",
            "size": 2,
            "smoker": "Yes",
            "time": "Dinner",
            "tip": 4.06,
            "total_bill": 20.49
           },
           {
            "big_tip": false,
            "day": "Sat",
            "sex": "Male",
            "size": 2,
            "smoker": "Yes",
            "time": "Dinner",
            "tip": 4.29,
            "total_bill": 25.21
           },
           {
            "big_tip": true,
            "day": "Sat",
            "sex": "Male",
            "size": 2,
            "smoker": "No",
            "time": "Dinner",
            "tip": 3.76,
            "total_bill": 18.24
           },
           {
            "big_tip": true,
            "day": "Sat",
            "sex": "Female",
            "size": 2,
            "smoker": "Yes",
            "time": "Dinner",
            "tip": 4,
            "total_bill": 14.31
           },
           {
            "big_tip": true,
            "day": "Sat",
            "sex": "Male",
            "size": 2,
            "smoker": "No",
            "time": "Dinner",
            "tip": 3,
            "total_bill": 14
           },
           {
            "big_tip": false,
            "day": "Sat",
            "sex": "Female",
            "size": 1,
            "smoker": "No",
            "time": "Dinner",
            "tip": 1,
            "total_bill": 7.25
           },
           {
            "big_tip": false,
            "day": "Sun",
            "sex": "Male",
            "size": 3,
            "smoker": "No",
            "time": "Dinner",
            "tip": 4,
            "total_bill": 38.07
           },
           {
            "big_tip": false,
            "day": "Sun",
            "sex": "Male",
            "size": 2,
            "smoker": "No",
            "time": "Dinner",
            "tip": 2.55,
            "total_bill": 23.95
           },
           {
            "big_tip": false,
            "day": "Sun",
            "sex": "Female",
            "size": 3,
            "smoker": "No",
            "time": "Dinner",
            "tip": 4,
            "total_bill": 25.71
           },
           {
            "big_tip": true,
            "day": "Sun",
            "sex": "Female",
            "size": 2,
            "smoker": "No",
            "time": "Dinner",
            "tip": 3.5,
            "total_bill": 17.31
           },
           {
            "big_tip": false,
            "day": "Sun",
            "sex": "Male",
            "size": 4,
            "smoker": "No",
            "time": "Dinner",
            "tip": 5.07,
            "total_bill": 29.93
           },
           {
            "big_tip": false,
            "day": "Thur",
            "sex": "Female",
            "size": 2,
            "smoker": "No",
            "time": "Lunch",
            "tip": 1.5,
            "total_bill": 10.65
           },
           {
            "big_tip": false,
            "day": "Thur",
            "sex": "Female",
            "size": 2,
            "smoker": "No",
            "time": "Lunch",
            "tip": 1.8,
            "total_bill": 12.43
           },
           {
            "big_tip": false,
            "day": "Thur",
            "sex": "Female",
            "size": 4,
            "smoker": "No",
            "time": "Lunch",
            "tip": 2.92,
            "total_bill": 24.08
           },
           {
            "big_tip": true,
            "day": "Thur",
            "sex": "Male",
            "size": 2,
            "smoker": "No",
            "time": "Lunch",
            "tip": 2.31,
            "total_bill": 11.69
           },
           {
            "big_tip": false,
            "day": "Thur",
            "sex": "Female",
            "size": 2,
            "smoker": "No",
            "time": "Lunch",
            "tip": 1.68,
            "total_bill": 13.42
           },
           {
            "big_tip": true,
            "day": "Thur",
            "sex": "Male",
            "size": 2,
            "smoker": "No",
            "time": "Lunch",
            "tip": 2.5,
            "total_bill": 14.26
           },
           {
            "big_tip": false,
            "day": "Thur",
            "sex": "Male",
            "size": 2,
            "smoker": "No",
            "time": "Lunch",
            "tip": 2,
            "total_bill": 15.95
           },
           {
            "big_tip": true,
            "day": "Thur",
            "sex": "Female",
            "size": 2,
            "smoker": "No",
            "time": "Lunch",
            "tip": 2.52,
            "total_bill": 12.48
           },
           {
            "big_tip": false,
            "day": "Thur",
            "sex": "Female",
            "size": 6,
            "smoker": "No",
            "time": "Lunch",
            "tip": 4.2,
            "total_bill": 29.8
           },
           {
            "big_tip": false,
            "day": "Thur",
            "sex": "Male",
            "size": 2,
            "smoker": "No",
            "time": "Lunch",
            "tip": 1.48,
            "total_bill": 8.52
           },
           {
            "big_tip": false,
            "day": "Thur",
            "sex": "Female",
            "size": 2,
            "smoker": "No",
            "time": "Lunch",
            "tip": 2,
            "total_bill": 14.52
           },
           {
            "big_tip": true,
            "day": "Thur",
            "sex": "Female",
            "size": 2,
            "smoker": "No",
            "time": "Lunch",
            "tip": 2,
            "total_bill": 11.38
           },
           {
            "big_tip": false,
            "day": "Thur",
            "sex": "Male",
            "size": 3,
            "smoker": "No",
            "time": "Lunch",
            "tip": 2.18,
            "total_bill": 22.82
           },
           {
            "big_tip": false,
            "day": "Thur",
            "sex": "Male",
            "size": 2,
            "smoker": "No",
            "time": "Lunch",
            "tip": 1.5,
            "total_bill": 19.08
           },
           {
            "big_tip": false,
            "day": "Thur",
            "sex": "Female",
            "size": 2,
            "smoker": "No",
            "time": "Lunch",
            "tip": 2.83,
            "total_bill": 20.27
           },
           {
            "big_tip": false,
            "day": "Thur",
            "sex": "Female",
            "size": 2,
            "smoker": "No",
            "time": "Lunch",
            "tip": 1.5,
            "total_bill": 11.17
           },
           {
            "big_tip": false,
            "day": "Thur",
            "sex": "Female",
            "size": 2,
            "smoker": "No",
            "time": "Lunch",
            "tip": 2,
            "total_bill": 12.26
           },
           {
            "big_tip": true,
            "day": "Thur",
            "sex": "Female",
            "size": 2,
            "smoker": "No",
            "time": "Lunch",
            "tip": 3.25,
            "total_bill": 18.26
           },
           {
            "big_tip": false,
            "day": "Thur",
            "sex": "Female",
            "size": 2,
            "smoker": "No",
            "time": "Lunch",
            "tip": 1.25,
            "total_bill": 8.51
           },
           {
            "big_tip": true,
            "day": "Thur",
            "sex": "Female",
            "size": 2,
            "smoker": "No",
            "time": "Lunch",
            "tip": 2,
            "total_bill": 10.33
           },
           {
            "big_tip": false,
            "day": "Thur",
            "sex": "Female",
            "size": 2,
            "smoker": "No",
            "time": "Lunch",
            "tip": 2,
            "total_bill": 14.15
           },
           {
            "big_tip": false,
            "day": "Thur",
            "sex": "Male",
            "size": 2,
            "smoker": "Yes",
            "time": "Lunch",
            "tip": 2,
            "total_bill": 16
           },
           {
            "big_tip": true,
            "day": "Thur",
            "sex": "Female",
            "size": 2,
            "smoker": "No",
            "time": "Lunch",
            "tip": 2.75,
            "total_bill": 13.16
           },
           {
            "big_tip": true,
            "day": "Thur",
            "sex": "Female",
            "size": 2,
            "smoker": "No",
            "time": "Lunch",
            "tip": 3.5,
            "total_bill": 17.47
           },
           {
            "big_tip": true,
            "day": "Thur",
            "sex": "Male",
            "size": 6,
            "smoker": "No",
            "time": "Lunch",
            "tip": 6.7,
            "total_bill": 34.3
           },
           {
            "big_tip": false,
            "day": "Thur",
            "sex": "Male",
            "size": 5,
            "smoker": "No",
            "time": "Lunch",
            "tip": 5,
            "total_bill": 41.19
           },
           {
            "big_tip": true,
            "day": "Thur",
            "sex": "Female",
            "size": 6,
            "smoker": "No",
            "time": "Lunch",
            "tip": 5,
            "total_bill": 27.05
           },
           {
            "big_tip": false,
            "day": "Thur",
            "sex": "Female",
            "size": 2,
            "smoker": "No",
            "time": "Lunch",
            "tip": 2.3,
            "total_bill": 16.43
           },
           {
            "big_tip": true,
            "day": "Thur",
            "sex": "Female",
            "size": 2,
            "smoker": "No",
            "time": "Lunch",
            "tip": 1.5,
            "total_bill": 8.35
           },
           {
            "big_tip": false,
            "day": "Thur",
            "sex": "Female",
            "size": 3,
            "smoker": "No",
            "time": "Lunch",
            "tip": 1.36,
            "total_bill": 18.64
           },
           {
            "big_tip": false,
            "day": "Thur",
            "sex": "Female",
            "size": 2,
            "smoker": "No",
            "time": "Lunch",
            "tip": 1.63,
            "total_bill": 11.87
           },
           {
            "big_tip": true,
            "day": "Thur",
            "sex": "Male",
            "size": 2,
            "smoker": "No",
            "time": "Lunch",
            "tip": 1.73,
            "total_bill": 9.78
           },
           {
            "big_tip": true,
            "day": "Thur",
            "sex": "Male",
            "size": 2,
            "smoker": "No",
            "time": "Lunch",
            "tip": 2,
            "total_bill": 7.51
           },
           {
            "big_tip": true,
            "day": "Sun",
            "sex": "Male",
            "size": 2,
            "smoker": "No",
            "time": "Dinner",
            "tip": 2.5,
            "total_bill": 14.07
           },
           {
            "big_tip": false,
            "day": "Sun",
            "sex": "Male",
            "size": 2,
            "smoker": "No",
            "time": "Dinner",
            "tip": 2,
            "total_bill": 13.13
           },
           {
            "big_tip": false,
            "day": "Sun",
            "sex": "Male",
            "size": 3,
            "smoker": "No",
            "time": "Dinner",
            "tip": 2.74,
            "total_bill": 17.26
           },
           {
            "big_tip": false,
            "day": "Sun",
            "sex": "Male",
            "size": 4,
            "smoker": "No",
            "time": "Dinner",
            "tip": 2,
            "total_bill": 24.55
           },
           {
            "big_tip": false,
            "day": "Sun",
            "sex": "Male",
            "size": 4,
            "smoker": "No",
            "time": "Dinner",
            "tip": 2,
            "total_bill": 19.77
           },
           {
            "big_tip": false,
            "day": "Sun",
            "sex": "Female",
            "size": 5,
            "smoker": "No",
            "time": "Dinner",
            "tip": 5.14,
            "total_bill": 29.85
           },
           {
            "big_tip": false,
            "day": "Sun",
            "sex": "Male",
            "size": 6,
            "smoker": "No",
            "time": "Dinner",
            "tip": 5,
            "total_bill": 48.17
           },
           {
            "big_tip": false,
            "day": "Sun",
            "sex": "Female",
            "size": 4,
            "smoker": "No",
            "time": "Dinner",
            "tip": 3.75,
            "total_bill": 25
           },
           {
            "big_tip": true,
            "day": "Sun",
            "sex": "Female",
            "size": 2,
            "smoker": "No",
            "time": "Dinner",
            "tip": 2.61,
            "total_bill": 13.39
           },
           {
            "big_tip": false,
            "day": "Sun",
            "sex": "Male",
            "size": 4,
            "smoker": "No",
            "time": "Dinner",
            "tip": 2,
            "total_bill": 16.49
           },
           {
            "big_tip": false,
            "day": "Sun",
            "sex": "Male",
            "size": 4,
            "smoker": "No",
            "time": "Dinner",
            "tip": 3.5,
            "total_bill": 21.5
           },
           {
            "big_tip": true,
            "day": "Sun",
            "sex": "Male",
            "size": 2,
            "smoker": "No",
            "time": "Dinner",
            "tip": 2.5,
            "total_bill": 12.66
           },
           {
            "big_tip": false,
            "day": "Sun",
            "sex": "Female",
            "size": 3,
            "smoker": "No",
            "time": "Dinner",
            "tip": 2,
            "total_bill": 16.21
           },
           {
            "big_tip": false,
            "day": "Sun",
            "sex": "Male",
            "size": 2,
            "smoker": "No",
            "time": "Dinner",
            "tip": 2,
            "total_bill": 13.81
           },
           {
            "big_tip": false,
            "day": "Sun",
            "sex": "Female",
            "size": 2,
            "smoker": "Yes",
            "time": "Dinner",
            "tip": 3,
            "total_bill": 17.51
           },
           {
            "big_tip": false,
            "day": "Sun",
            "sex": "Male",
            "size": 3,
            "smoker": "No",
            "time": "Dinner",
            "tip": 3.48,
            "total_bill": 24.52
           },
           {
            "big_tip": false,
            "day": "Sun",
            "sex": "Male",
            "size": 2,
            "smoker": "No",
            "time": "Dinner",
            "tip": 2.24,
            "total_bill": 20.76
           },
           {
            "big_tip": false,
            "day": "Sun",
            "sex": "Male",
            "size": 4,
            "smoker": "No",
            "time": "Dinner",
            "tip": 4.5,
            "total_bill": 31.71
           },
           {
            "big_tip": false,
            "day": "Sat",
            "sex": "Female",
            "size": 2,
            "smoker": "Yes",
            "time": "Dinner",
            "tip": 1.61,
            "total_bill": 10.59
           },
           {
            "big_tip": true,
            "day": "Sat",
            "sex": "Female",
            "size": 2,
            "smoker": "Yes",
            "time": "Dinner",
            "tip": 2,
            "total_bill": 10.63
           },
           {
            "big_tip": true,
            "day": "Sat",
            "sex": "Male",
            "size": 3,
            "smoker": "Yes",
            "time": "Dinner",
            "tip": 10,
            "total_bill": 50.81
           },
           {
            "big_tip": true,
            "day": "Sat",
            "sex": "Male",
            "size": 2,
            "smoker": "Yes",
            "time": "Dinner",
            "tip": 3.16,
            "total_bill": 15.81
           },
           {
            "big_tip": true,
            "day": "Sun",
            "sex": "Male",
            "size": 2,
            "smoker": "Yes",
            "time": "Dinner",
            "tip": 5.15,
            "total_bill": 7.25
           },
           {
            "big_tip": false,
            "day": "Sun",
            "sex": "Male",
            "size": 2,
            "smoker": "Yes",
            "time": "Dinner",
            "tip": 3.18,
            "total_bill": 31.85
           },
           {
            "big_tip": true,
            "day": "Sun",
            "sex": "Male",
            "size": 2,
            "smoker": "Yes",
            "time": "Dinner",
            "tip": 4,
            "total_bill": 16.82
           },
           {
            "big_tip": false,
            "day": "Sun",
            "sex": "Male",
            "size": 2,
            "smoker": "Yes",
            "time": "Dinner",
            "tip": 3.11,
            "total_bill": 32.9
           },
           {
            "big_tip": false,
            "day": "Sun",
            "sex": "Male",
            "size": 2,
            "smoker": "Yes",
            "time": "Dinner",
            "tip": 2,
            "total_bill": 17.89
           },
           {
            "big_tip": false,
            "day": "Sun",
            "sex": "Male",
            "size": 2,
            "smoker": "Yes",
            "time": "Dinner",
            "tip": 2,
            "total_bill": 14.48
           },
           {
            "big_tip": true,
            "day": "Sun",
            "sex": "Female",
            "size": 2,
            "smoker": "Yes",
            "time": "Dinner",
            "tip": 4,
            "total_bill": 9.6
           },
           {
            "big_tip": false,
            "day": "Sun",
            "sex": "Male",
            "size": 2,
            "smoker": "Yes",
            "time": "Dinner",
            "tip": 3.55,
            "total_bill": 34.63
           },
           {
            "big_tip": false,
            "day": "Sun",
            "sex": "Male",
            "size": 4,
            "smoker": "Yes",
            "time": "Dinner",
            "tip": 3.68,
            "total_bill": 34.65
           },
           {
            "big_tip": true,
            "day": "Sun",
            "sex": "Male",
            "size": 2,
            "smoker": "Yes",
            "time": "Dinner",
            "tip": 5.65,
            "total_bill": 23.33
           },
           {
            "big_tip": false,
            "day": "Sun",
            "sex": "Male",
            "size": 3,
            "smoker": "Yes",
            "time": "Dinner",
            "tip": 3.5,
            "total_bill": 45.35
           },
           {
            "big_tip": true,
            "day": "Sun",
            "sex": "Male",
            "size": 4,
            "smoker": "Yes",
            "time": "Dinner",
            "tip": 6.5,
            "total_bill": 23.17
           },
           {
            "big_tip": false,
            "day": "Sun",
            "sex": "Male",
            "size": 2,
            "smoker": "Yes",
            "time": "Dinner",
            "tip": 3,
            "total_bill": 40.55
           },
           {
            "big_tip": true,
            "day": "Sun",
            "sex": "Male",
            "size": 5,
            "smoker": "No",
            "time": "Dinner",
            "tip": 5,
            "total_bill": 20.69
           },
           {
            "big_tip": false,
            "day": "Sun",
            "sex": "Female",
            "size": 3,
            "smoker": "Yes",
            "time": "Dinner",
            "tip": 3.5,
            "total_bill": 20.9
           },
           {
            "big_tip": false,
            "day": "Sun",
            "sex": "Male",
            "size": 5,
            "smoker": "Yes",
            "time": "Dinner",
            "tip": 2,
            "total_bill": 30.46
           },
           {
            "big_tip": true,
            "day": "Sun",
            "sex": "Female",
            "size": 3,
            "smoker": "Yes",
            "time": "Dinner",
            "tip": 3.5,
            "total_bill": 18.15
           },
           {
            "big_tip": false,
            "day": "Sun",
            "sex": "Male",
            "size": 3,
            "smoker": "Yes",
            "time": "Dinner",
            "tip": 4,
            "total_bill": 23.1
           },
           {
            "big_tip": false,
            "day": "Sun",
            "sex": "Male",
            "size": 2,
            "smoker": "Yes",
            "time": "Dinner",
            "tip": 1.5,
            "total_bill": 15.69
           },
           {
            "big_tip": true,
            "day": "Thur",
            "sex": "Female",
            "size": 2,
            "smoker": "Yes",
            "time": "Lunch",
            "tip": 4.19,
            "total_bill": 19.81
           },
           {
            "big_tip": false,
            "day": "Thur",
            "sex": "Male",
            "size": 2,
            "smoker": "Yes",
            "time": "Lunch",
            "tip": 2.56,
            "total_bill": 28.44
           },
           {
            "big_tip": false,
            "day": "Thur",
            "sex": "Male",
            "size": 2,
            "smoker": "Yes",
            "time": "Lunch",
            "tip": 2.02,
            "total_bill": 15.48
           },
           {
            "big_tip": true,
            "day": "Thur",
            "sex": "Male",
            "size": 2,
            "smoker": "Yes",
            "time": "Lunch",
            "tip": 4,
            "total_bill": 16.58
           },
           {
            "big_tip": true,
            "day": "Thur",
            "sex": "Male",
            "size": 2,
            "smoker": "No",
            "time": "Lunch",
            "tip": 1.44,
            "total_bill": 7.56
           },
           {
            "big_tip": true,
            "day": "Thur",
            "sex": "Male",
            "size": 2,
            "smoker": "Yes",
            "time": "Lunch",
            "tip": 2,
            "total_bill": 10.34
           },
           {
            "big_tip": false,
            "day": "Thur",
            "sex": "Female",
            "size": 4,
            "smoker": "Yes",
            "time": "Lunch",
            "tip": 5,
            "total_bill": 43.11
           },
           {
            "big_tip": false,
            "day": "Thur",
            "sex": "Female",
            "size": 2,
            "smoker": "Yes",
            "time": "Lunch",
            "tip": 2,
            "total_bill": 13
           },
           {
            "big_tip": false,
            "day": "Thur",
            "sex": "Male",
            "size": 2,
            "smoker": "Yes",
            "time": "Lunch",
            "tip": 2,
            "total_bill": 13.51
           },
           {
            "big_tip": true,
            "day": "Thur",
            "sex": "Male",
            "size": 3,
            "smoker": "Yes",
            "time": "Lunch",
            "tip": 4,
            "total_bill": 18.71
           },
           {
            "big_tip": false,
            "day": "Thur",
            "sex": "Female",
            "size": 2,
            "smoker": "Yes",
            "time": "Lunch",
            "tip": 2.01,
            "total_bill": 12.74
           },
           {
            "big_tip": false,
            "day": "Thur",
            "sex": "Female",
            "size": 2,
            "smoker": "Yes",
            "time": "Lunch",
            "tip": 2,
            "total_bill": 13
           },
           {
            "big_tip": false,
            "day": "Thur",
            "sex": "Female",
            "size": 2,
            "smoker": "Yes",
            "time": "Lunch",
            "tip": 2.5,
            "total_bill": 16.4
           },
           {
            "big_tip": true,
            "day": "Thur",
            "sex": "Male",
            "size": 4,
            "smoker": "Yes",
            "time": "Lunch",
            "tip": 4,
            "total_bill": 20.53
           },
           {
            "big_tip": true,
            "day": "Thur",
            "sex": "Female",
            "size": 3,
            "smoker": "Yes",
            "time": "Lunch",
            "tip": 3.23,
            "total_bill": 16.47
           },
           {
            "big_tip": false,
            "day": "Sat",
            "sex": "Male",
            "size": 3,
            "smoker": "Yes",
            "time": "Dinner",
            "tip": 3.41,
            "total_bill": 26.59
           },
           {
            "big_tip": false,
            "day": "Sat",
            "sex": "Male",
            "size": 4,
            "smoker": "Yes",
            "time": "Dinner",
            "tip": 3,
            "total_bill": 38.73
           },
           {
            "big_tip": false,
            "day": "Sat",
            "sex": "Male",
            "size": 2,
            "smoker": "Yes",
            "time": "Dinner",
            "tip": 2.03,
            "total_bill": 24.27
           },
           {
            "big_tip": false,
            "day": "Sat",
            "sex": "Female",
            "size": 2,
            "smoker": "Yes",
            "time": "Dinner",
            "tip": 2.23,
            "total_bill": 12.76
           },
           {
            "big_tip": false,
            "day": "Sat",
            "sex": "Male",
            "size": 3,
            "smoker": "Yes",
            "time": "Dinner",
            "tip": 2,
            "total_bill": 30.06
           },
           {
            "big_tip": true,
            "day": "Sat",
            "sex": "Male",
            "size": 4,
            "smoker": "Yes",
            "time": "Dinner",
            "tip": 5.16,
            "total_bill": 25.89
           },
           {
            "big_tip": true,
            "day": "Sat",
            "sex": "Male",
            "size": 4,
            "smoker": "No",
            "time": "Dinner",
            "tip": 9,
            "total_bill": 48.33
           },
           {
            "big_tip": true,
            "day": "Sat",
            "sex": "Female",
            "size": 2,
            "smoker": "Yes",
            "time": "Dinner",
            "tip": 2.5,
            "total_bill": 13.27
           },
           {
            "big_tip": true,
            "day": "Sat",
            "sex": "Female",
            "size": 3,
            "smoker": "Yes",
            "time": "Dinner",
            "tip": 6.5,
            "total_bill": 28.17
           },
           {
            "big_tip": false,
            "day": "Sat",
            "sex": "Female",
            "size": 2,
            "smoker": "Yes",
            "time": "Dinner",
            "tip": 1.1,
            "total_bill": 12.9
           },
           {
            "big_tip": false,
            "day": "Sat",
            "sex": "Male",
            "size": 5,
            "smoker": "Yes",
            "time": "Dinner",
            "tip": 3,
            "total_bill": 28.15
           },
           {
            "big_tip": false,
            "day": "Sat",
            "sex": "Male",
            "size": 2,
            "smoker": "Yes",
            "time": "Dinner",
            "tip": 1.5,
            "total_bill": 11.59
           },
           {
            "big_tip": true,
            "day": "Sat",
            "sex": "Male",
            "size": 2,
            "smoker": "Yes",
            "time": "Dinner",
            "tip": 1.44,
            "total_bill": 7.74
           },
           {
            "big_tip": false,
            "day": "Sat",
            "sex": "Female",
            "size": 4,
            "smoker": "Yes",
            "time": "Dinner",
            "tip": 3.09,
            "total_bill": 30.14
           },
           {
            "big_tip": true,
            "day": "Fri",
            "sex": "Male",
            "size": 2,
            "smoker": "Yes",
            "time": "Lunch",
            "tip": 2.2,
            "total_bill": 12.16
           },
           {
            "big_tip": true,
            "day": "Fri",
            "sex": "Female",
            "size": 2,
            "smoker": "Yes",
            "time": "Lunch",
            "tip": 3.48,
            "total_bill": 13.42
           },
           {
            "big_tip": true,
            "day": "Fri",
            "sex": "Male",
            "size": 1,
            "smoker": "Yes",
            "time": "Lunch",
            "tip": 1.92,
            "total_bill": 8.58
           },
           {
            "big_tip": true,
            "day": "Fri",
            "sex": "Female",
            "size": 3,
            "smoker": "No",
            "time": "Lunch",
            "tip": 3,
            "total_bill": 15.98
           },
           {
            "big_tip": false,
            "day": "Fri",
            "sex": "Male",
            "size": 2,
            "smoker": "Yes",
            "time": "Lunch",
            "tip": 1.58,
            "total_bill": 13.42
           },
           {
            "big_tip": false,
            "day": "Fri",
            "sex": "Female",
            "size": 2,
            "smoker": "Yes",
            "time": "Lunch",
            "tip": 2.5,
            "total_bill": 16.27
           },
           {
            "big_tip": true,
            "day": "Fri",
            "sex": "Female",
            "size": 2,
            "smoker": "Yes",
            "time": "Lunch",
            "tip": 2,
            "total_bill": 10.09
           },
           {
            "big_tip": false,
            "day": "Sat",
            "sex": "Male",
            "size": 4,
            "smoker": "No",
            "time": "Dinner",
            "tip": 3,
            "total_bill": 20.45
           },
           {
            "big_tip": true,
            "day": "Sat",
            "sex": "Male",
            "size": 2,
            "smoker": "No",
            "time": "Dinner",
            "tip": 2.72,
            "total_bill": 13.28
           },
           {
            "big_tip": false,
            "day": "Sat",
            "sex": "Female",
            "size": 2,
            "smoker": "Yes",
            "time": "Dinner",
            "tip": 2.88,
            "total_bill": 22.12
           },
           {
            "big_tip": false,
            "day": "Sat",
            "sex": "Male",
            "size": 4,
            "smoker": "Yes",
            "time": "Dinner",
            "tip": 2,
            "total_bill": 24.01
           },
           {
            "big_tip": true,
            "day": "Sat",
            "sex": "Male",
            "size": 3,
            "smoker": "Yes",
            "time": "Dinner",
            "tip": 3,
            "total_bill": 15.69
           },
           {
            "big_tip": true,
            "day": "Sat",
            "sex": "Male",
            "size": 2,
            "smoker": "No",
            "time": "Dinner",
            "tip": 3.39,
            "total_bill": 11.61
           },
           {
            "big_tip": false,
            "day": "Sat",
            "sex": "Male",
            "size": 2,
            "smoker": "No",
            "time": "Dinner",
            "tip": 1.47,
            "total_bill": 10.77
           },
           {
            "big_tip": true,
            "day": "Sat",
            "sex": "Male",
            "size": 2,
            "smoker": "Yes",
            "time": "Dinner",
            "tip": 3,
            "total_bill": 15.53
           },
           {
            "big_tip": false,
            "day": "Sat",
            "sex": "Male",
            "size": 2,
            "smoker": "No",
            "time": "Dinner",
            "tip": 1.25,
            "total_bill": 10.07
           },
           {
            "big_tip": false,
            "day": "Sat",
            "sex": "Male",
            "size": 2,
            "smoker": "Yes",
            "time": "Dinner",
            "tip": 1,
            "total_bill": 12.6
           },
           {
            "big_tip": false,
            "day": "Sat",
            "sex": "Male",
            "size": 2,
            "smoker": "Yes",
            "time": "Dinner",
            "tip": 1.17,
            "total_bill": 32.83
           },
           {
            "big_tip": false,
            "day": "Sat",
            "sex": "Female",
            "size": 3,
            "smoker": "No",
            "time": "Dinner",
            "tip": 4.67,
            "total_bill": 35.83
           },
           {
            "big_tip": true,
            "day": "Sat",
            "sex": "Male",
            "size": 3,
            "smoker": "No",
            "time": "Dinner",
            "tip": 5.92,
            "total_bill": 29.03
           },
           {
            "big_tip": false,
            "day": "Sat",
            "sex": "Female",
            "size": 2,
            "smoker": "Yes",
            "time": "Dinner",
            "tip": 2,
            "total_bill": 27.18
           },
           {
            "big_tip": false,
            "day": "Sat",
            "sex": "Male",
            "size": 2,
            "smoker": "Yes",
            "time": "Dinner",
            "tip": 2,
            "total_bill": 22.67
           },
           {
            "big_tip": false,
            "day": "Sat",
            "sex": "Male",
            "size": 2,
            "smoker": "No",
            "time": "Dinner",
            "tip": 1.75,
            "total_bill": 17.82
           },
           {
            "big_tip": false,
            "day": "Thur",
            "sex": "Female",
            "size": 2,
            "smoker": "No",
            "time": "Dinner",
            "tip": 3,
            "total_bill": 18.78
           }
          ]
         },
         "encoding": {
          "x": {
           "axis": {
            "title": "total_bill"
           },
           "field": "total_bill",
           "scale": {
            "domain": [
             0.6829999999999998,
             53.197
            ],
            "nice": false
           },
           "type": "quantitative"
          },
          "y": {
           "axis": {
            "title": "big_tip"
           },
           "field": "big_tip",
           "type": "quantitative"
          }
         },
         "mark": {
          "clip": true,
          "type": "circle"
         }
        },
        {
         "data": {
          "values": [
           {
            "x": 0.6829999999999998,
            "y": 0.5974788156155121
           },
           {
            "x": 1.2134444444444443,
            "y": 0.5904993105182745
           },
           {
            "x": 1.7438888888888888,
            "y": 0.5834831510888213
           },
           {
            "x": 2.2743333333333333,
            "y": 0.5764330083794963
           },
           {
            "x": 2.804777777777778,
            "y": 0.5693516079672695
           },
           {
            "x": 3.3352222222222223,
            "y": 0.5622417259345046
           },
           {
            "x": 3.865666666666667,
            "y": 0.555106184678653
           },
           {
            "x": 4.396111111111111,
            "y": 0.5479478485636777
           },
           {
            "x": 4.926555555555556,
            "y": 0.5407696194269286
           },
           {
            "x": 5.457000000000001,
            "y": 0.5335744319560326
           },
           {
            "x": 5.987444444444445,
            "y": 0.5263652489511367
           },
           {
            "x": 6.517888888888889,
            "y": 0.5191450564885169
           },
           {
            "x": 7.048333333333334,
            "y": 0.5119168590021664
           },
           {
            "x": 7.578777777777779,
            "y": 0.5046836743004611
           },
           {
            "x": 8.109222222222222,
            "y": 0.4974485285354028
           },
           {
            "x": 8.639666666666667,
            "y": 0.4902144511422218
           },
           {
            "x": 9.170111111111112,
            "y": 0.48298446976730625
           },
           {
            "x": 9.700555555555557,
            "y": 0.47576160520249144
           },
           {
            "x": 10.231000000000002,
            "y": 0.468548866343709
           },
           {
            "x": 10.761444444444445,
            "y": 0.46134924519184434
           },
           {
            "x": 11.29188888888889,
            "y": 0.45416571191339306
           },
           {
            "x": 11.822333333333335,
            "y": 0.4470012099781482
           },
           {
            "x": 12.352777777777778,
            "y": 0.4398586513906819
           },
           {
            "x": 12.883222222222223,
            "y": 0.4327409120318213
           },
           {
            "x": 13.413666666666668,
            "y": 0.42565082712566654
           },
           {
            "x": 13.944111111111113,
            "y": 0.41859118684694907
           },
           {
            "x": 14.474555555555558,
            "y": 0.41156473208270944
           },
           {
            "x": 15.005,
            "y": 0.40457415036137323
           },
           {
            "x": 15.535444444444446,
            "y": 0.3976220719613433
           },
           {
            "x": 16.065888888888892,
            "y": 0.3907110662102071
           },
           {
            "x": 16.596333333333334,
            "y": 0.38384363798458776
           },
           {
            "x": 17.12677777777778,
            "y": 0.37702222441956396
           },
           {
            "x": 17.657222222222224,
            "y": 0.3702491918354449
           },
           {
            "x": 18.18766666666667,
            "y": 0.3635268328885281
           },
           {
            "x": 18.718111111111114,
            "y": 0.35685736395129714
           },
           {
            "x": 19.24855555555556,
            "y": 0.3502429227263464
           },
           {
            "x": 19.779000000000003,
            "y": 0.3436855660971457
           },
           {
            "x": 20.309444444444445,
            "y": 0.33718726821761136
           },
           {
            "x": 20.83988888888889,
            "y": 0.33074991884131283
           },
           {
            "x": 21.370333333333335,
            "y": 0.3243753218900432
           },
           {
            "x": 21.90077777777778,
            "y": 0.31806519426041663
           },
           {
            "x": 22.431222222222225,
            "y": 0.31182116486613165
           },
           {
            "x": 22.96166666666667,
            "y": 0.3056447739125631
           },
           {
            "x": 23.492111111111114,
            "y": 0.2995374723994255
           },
           {
            "x": 24.022555555555556,
            "y": 0.29350062184638653
           },
           {
            "x": 24.553,
            "y": 0.28753549423570657
           },
           {
            "x": 25.083444444444446,
            "y": 0.28164327216524365
           },
           {
            "x": 25.61388888888889,
            "y": 0.27582504920449186
           },
           {
            "x": 26.144333333333336,
            "y": 0.2700818304457196
           },
           {
            "x": 26.67477777777778,
            "y": 0.2644145332417417
           },
           {
            "x": 27.205222222222226,
            "y": 0.258823988121396
           },
           {
            "x": 27.73566666666667,
            "y": 0.2533109398734026
           },
           {
            "x": 28.266111111111115,
            "y": 0.2478760487889585
           },
           {
            "x": 28.796555555555557,
            "y": 0.24251989205316485
           },
           {
            "x": 29.327,
            "y": 0.2372429652751907
           },
           {
            "x": 29.857444444444447,
            "y": 0.2320456841469498
           },
           {
            "x": 30.38788888888889,
            "y": 0.22692838622000008
           },
           {
            "x": 30.918333333333337,
            "y": 0.22189133279036327
           },
           {
            "x": 31.44877777777778,
            "y": 0.21693471088100996
           },
           {
            "x": 31.979222222222226,
            "y": 0.2120586353118477
           },
           {
            "x": 32.50966666666667,
            "y": 0.2072631508471946
           },
           {
            "x": 33.040111111111116,
            "y": 0.20254823441090744
           },
           {
            "x": 33.57055555555556,
            "y": 0.1979137973595577
           },
           {
            "x": 34.101000000000006,
            "y": 0.19335968780431306
           },
           {
            "x": 34.63144444444445,
            "y": 0.18888569297247473
           },
           {
            "x": 35.16188888888889,
            "y": 0.18449154159994205
           },
           {
            "x": 35.69233333333334,
            "y": 0.18017690634622383
           },
           {
            "x": 36.22277777777778,
            "y": 0.17594140622398086
           },
           {
            "x": 36.75322222222223,
            "y": 0.17178460903546688
           },
           {
            "x": 37.28366666666667,
            "y": 0.16770603380863477
           },
           {
            "x": 37.81411111111112,
            "y": 0.16370515322607754
           },
           {
            "x": 38.34455555555556,
            "y": 0.15978139604039124
           },
           {
            "x": 38.87500000000001,
            "y": 0.15593414946996137
           },
           {
            "x": 39.40544444444445,
            "y": 0.1521627615695967
           },
           {
            "x": 39.93588888888889,
            "y": 0.14846654357084837
           },
           {
            "x": 40.46633333333334,
            "y": 0.1448447721872696
           },
           {
            "x": 40.99677777777778,
            "y": 0.14129669188027824
           },
           {
            "x": 41.52722222222223,
            "y": 0.1378215170816842
           },
           {
            "x": 42.05766666666667,
            "y": 0.13441843436933798
           },
           {
            "x": 42.58811111111112,
            "y": 0.13108660459273405
           },
           {
            "x": 43.11855555555556,
            "y": 0.12782516494577426
           },
           {
            "x": 43.649,
            "y": 0.124633230984249
           },
           {
            "x": 44.17944444444445,
            "y": 0.12150989858593782
           },
           {
            "x": 44.70988888888889,
            "y": 0.11845424585155524
           },
           {
            "x": 45.24033333333334,
            "y": 0.1154653349450793
           },
           {
            "x": 45.77077777777778,
            "y": 0.1125422138722958
           },
           {
            "x": 46.30122222222223,
            "y": 0.10968391819666798
           },
           {
            "x": 46.83166666666667,
            "y": 0.10688947269190667
           },
           {
            "x": 47.36211111111111,
            "y": 0.10415789293085768
           },
           {
            "x": 47.89255555555556,
            "y": 0.1014881868105571
           },
           {
            "x": 48.423,
            "y": 0.09887935601351479
           },
           {
            "x": 48.95344444444445,
            "y": 0.09633039740548519
           },
           {
            "x": 49.48388888888889,
            "y": 0.09384030437016645
           },
           {
            "x": 50.01433333333334,
            "y": 0.09140806808143348
           },
           {
            "x": 50.54477777777778,
            "y": 0.08903267871386412
           },
           {
            "x": 51.07522222222223,
            "y": 0.08671312659245248
           },
           {
            "x": 51.60566666666667,
            "y": 0.08444840328252866
           },
           {
            "x": 52.13611111111111,
            "y": 0.08223750262101241
           },
           {
            "x": 52.66655555555556,
            "y": 0.08007942169022679
           },
           {
            "x": 53.197,
            "y": 0.07797316173558273
           }
          ]
         },
         "encoding": {
          "x": {
           "field": "x",
           "scale": {
            "domain": [
             0.6829999999999998,
             53.197
            ],
            "nice": false
           },
           "type": "quantitative"
          },
          "y": {
           "field": "y",
           "type": "quantitative"
          }
         },
         "mark": {
          "clip": true,
          "type": "line"
         }
        },
        {
         "data": {
          "values": [
           {
            "x": 0.6829999999999998,
            "y1": 0.42095045131528475,
            "y2": 0.7699286226778583
           },
           {
            "x": 1.2134444444444443,
            "y1": 0.41885073009610946,
            "y2": 0.7609056563237055
           },
           {
            "x": 1.7438888888888888,
            "y1": 0.4166334994660359,
            "y2": 0.7507756108309556
           },
           {
            "x": 2.2743333333333333,
            "y1": 0.4123147067081522,
            "y2": 0.7403139961099465
           },
           {
            "x": 2.804777777777778,
            "y1": 0.4079700573682127,
            "y2": 0.7295708690643146
           },
           {
            "x": 3.3352222222222223,
            "y1": 0.40303573018275307,
            "y2": 0.7185517635841001
           },
           {
            "x": 3.865666666666667,
            "y1": 0.3992653728680653,
            "y2": 0.7072837574065521
           },
           {
            "x": 4.396111111111111,
            "y1": 0.3958621159261074,
            "y2": 0.6965270803581785
           },
           {
            "x": 4.926555555555556,
            "y1": 0.3931707341239097,
            "y2": 0.6868174703236207
           },
           {
            "x": 5.457000000000001,
            "y1": 0.3909681174765849,
            "y2": 0.6749785823159713
           },
           {
            "x": 5.987444444444445,
            "y1": 0.3897197033637124,
            "y2": 0.6621518364637273
           },
           {
            "x": 6.517888888888889,
            "y1": 0.3877369505720315,
            "y2": 0.6501274493331091
           },
           {
            "x": 7.048333333333334,
            "y1": 0.3851191806064824,
            "y2": 0.6381411849129097
           },
           {
            "x": 7.578777777777779,
            "y1": 0.38250835562758084,
            "y2": 0.6267354356007186
           },
           {
            "x": 8.109222222222222,
            "y1": 0.38002353876884665,
            "y2": 0.6163181846227679
           },
           {
            "x": 8.639666666666667,
            "y1": 0.3778488820874504,
            "y2": 0.6055158951642131
           },
           {
            "x": 9.170111111111112,
            "y1": 0.3757213479393389,
            "y2": 0.5946187749334839
           },
           {
            "x": 9.700555555555557,
            "y1": 0.3721217770318629,
            "y2": 0.5812935706419193
           },
           {
            "x": 10.231000000000002,
            "y1": 0.36922202026534956,
            "y2": 0.5680201198998029
           },
           {
            "x": 10.761444444444445,
            "y1": 0.3675344313166472,
            "y2": 0.5570487880380829
           },
           {
            "x": 11.29188888888889,
            "y1": 0.3647416731007823,
            "y2": 0.5448346636718708
           },
           {
            "x": 11.822333333333335,
            "y1": 0.36191713340702303,
            "y2": 0.5347825894108551
           },
           {
            "x": 12.352777777777778,
            "y1": 0.3588694632145263,
            "y2": 0.5234116445492576
           },
           {
            "x": 12.883222222222223,
            "y1": 0.35553412853718624,
            "y2": 0.512677302518663
           },
           {
            "x": 13.413666666666668,
            "y1": 0.35284167423533586,
            "y2": 0.5021173635091005
           },
           {
            "x": 13.944111111111113,
            "y1": 0.3491778485717047,
            "y2": 0.4931303688339279
           },
           {
            "x": 14.474555555555558,
            "y1": 0.34561297473314745,
            "y2": 0.4839528900026938
           },
           {
            "x": 15.005,
            "y1": 0.33989703027563034,
            "y2": 0.4740296416855325
           },
           {
            "x": 15.535444444444446,
            "y1": 0.3347287964308363,
            "y2": 0.4628151893093593
           },
           {
            "x": 16.065888888888892,
            "y1": 0.32856439202293297,
            "y2": 0.4504877093954396
           },
           {
            "x": 16.596333333333334,
            "y1": 0.3238875771989119,
            "y2": 0.44301598728954056
           },
           {
            "x": 17.12677777777778,
            "y1": 0.3167501682674253,
            "y2": 0.43459164764934893
           },
           {
            "x": 17.657222222222224,
            "y1": 0.30779672178984085,
            "y2": 0.4261111006389109
           },
           {
            "x": 18.18766666666667,
            "y1": 0.29941420401092833,
            "y2": 0.419950522927401
           },
           {
            "x": 18.718111111111114,
            "y1": 0.2887400774916091,
            "y2": 0.41357641897902253
           },
           {
            "x": 19.24855555555556,
            "y1": 0.28149487139013163,
            "y2": 0.4062915022311723
           },
           {
            "x": 19.779000000000003,
            "y1": 0.2729494986899529,
            "y2": 0.39983124547771853
           },
           {
            "x": 20.309444444444445,
            "y1": 0.2659472634352963,
            "y2": 0.3946669010852185
           },
           {
            "x": 20.83988888888889,
            "y1": 0.26020017056353106,
            "y2": 0.3912502863705165
           },
           {
            "x": 21.370333333333335,
            "y1": 0.2531540256510286,
            "y2": 0.38669163350590874
           },
           {
            "x": 21.90077777777778,
            "y1": 0.24491187751174215,
            "y2": 0.3816470683476001
           },
           {
            "x": 22.431222222222225,
            "y1": 0.23638267558334117,
            "y2": 0.376800374550047
           },
           {
            "x": 22.96166666666667,
            "y1": 0.22833002605599498,
            "y2": 0.3725000525209114
           },
           {
            "x": 23.492111111111114,
            "y1": 0.22079069719543354,
            "y2": 0.3679271561631853
           },
           {
            "x": 24.022555555555556,
            "y1": 0.21368713987676388,
            "y2": 0.3632602885987919
           },
           {
            "x": 24.553,
            "y1": 0.206091367661562,
            "y2": 0.3585128369035424
           },
           {
            "x": 25.083444444444446,
            "y1": 0.1978432709514147,
            "y2": 0.3533197071212989
           },
           {
            "x": 25.61388888888889,
            "y1": 0.1888623505221101,
            "y2": 0.34894490418982504
           },
           {
            "x": 26.144333333333336,
            "y1": 0.18077783982211848,
            "y2": 0.34443946633081335
           },
           {
            "x": 26.67477777777778,
            "y1": 0.1726488869536254,
            "y2": 0.3402376523098961
           },
           {
            "x": 27.205222222222226,
            "y1": 0.16534393323628277,
            "y2": 0.33687274177657867
           },
           {
            "x": 27.73566666666667,
            "y1": 0.1588614572466717,
            "y2": 0.33528324342815163
           },
           {
            "x": 28.266111111111115,
            "y1": 0.15250327152343404,
            "y2": 0.333815574697647
           },
           {
            "x": 28.796555555555557,
            "y1": 0.14605486115277355,
            "y2": 0.3307897514733984
           },
           {
            "x": 29.327,
            "y1": 0.13967309171001155,
            "y2": 0.327996641794335
           },
           {
            "x": 29.857444444444447,
            "y1": 0.1335270070223118,
            "y2": 0.324014223066774
           },
           {
            "x": 30.38788888888889,
            "y1": 0.1274193448616739,
            "y2": 0.31971408756140185
           },
           {
            "x": 30.918333333333337,
            "y1": 0.12144231141268563,
            "y2": 0.31627559714797404
           },
           {
            "x": 31.44877777777778,
            "y1": 0.11570640540959362,
            "y2": 0.3128945125965634
           },
           {
            "x": 31.979222222222226,
            "y1": 0.11020743768263158,
            "y2": 0.3095341415018583
           },
           {
            "x": 32.50966666666667,
            "y1": 0.1049388029724968,
            "y2": 0.3061947505471383
           },
           {
            "x": 33.040111111111116,
            "y1": 0.09989377285336978,
            "y2": 0.3021592153061312
           },
           {
            "x": 33.57055555555556,
            "y1": 0.09533644348639354,
            "y2": 0.2981495642410254
           },
           {
            "x": 34.101000000000006,
            "y1": 0.09107630219498875,
            "y2": 0.2941706948384371
           },
           {
            "x": 34.63144444444445,
            "y1": 0.08693039003781544,
            "y2": 0.2906192213369566
           },
           {
            "x": 35.16188888888889,
            "y1": 0.0826228075791024,
            "y2": 0.28739405058643264
           },
           {
            "x": 35.69233333333334,
            "y1": 0.07850126615123115,
            "y2": 0.28419132921343004
           },
           {
            "x": 36.22277777777778,
            "y1": 0.07456867363949239,
            "y2": 0.281320089923899
           },
           {
            "x": 36.75322222222223,
            "y1": 0.07081801005423162,
            "y2": 0.2792597275047699
           },
           {
            "x": 37.28366666666667,
            "y1": 0.06724235182484542,
            "y2": 0.27720890034783074
           },
           {
            "x": 37.81411111111112,
            "y1": 0.06383488906901018,
            "y2": 0.2751676557810044
           },
           {
            "x": 38.34455555555556,
            "y1": 0.06058894051669697,
            "y2": 0.2729274139610882
           },
           {
            "x": 38.87500000000001,
            "y1": 0.05749796624852446,
            "y2": 0.2700821697542392
           },
           {
            "x": 39.40544444444445,
            "y1": 0.05455368965302016,
            "y2": 0.2672561182928802
           },
           {
            "x": 39.93588888888889,
            "y1": 0.051748263371059505,
            "y2": 0.2644493805642949
           },
           {
            "x": 40.46633333333334,
            "y1": 0.049079670095531686,
            "y2": 0.2617825927719391
           },
           {
            "x": 40.99677777777778,
            "y1": 0.04654198965493604,
            "y2": 0.25948071576314086
           },
           {
            "x": 41.52722222222223,
            "y1": 0.044129481089932636,
            "y2": 0.25719202783868883
           },
           {
            "x": 42.05766666666667,
            "y1": 0.0419040664147472,
            "y2": 0.25491657786233946
           },
           {
            "x": 42.58811111111112,
            "y1": 0.03981919874765849,
            "y2": 0.2525492260797887
           },
           {
            "x": 43.11855555555556,
            "y1": 0.03783010512828312,
            "y2": 0.2500071864040652
           },
           {
            "x": 43.649,
            "y1": 0.03587966502327093,
            "y2": 0.2475302893386645
           },
           {
            "x": 44.17944444444445,
            "y1": 0.03401478198751863,
            "y2": 0.24558730117755362
           },
           {
            "x": 44.70988888888889,
            "y1": 0.032243600827265545,
            "y2": 0.24367188480496926
           },
           {
            "x": 45.24033333333334,
            "y1": 0.03056174252365515,
            "y2": 0.24154430577084318
           },
           {
            "x": 45.77077777777778,
            "y1": 0.028964999026854097,
            "y2": 0.23936268668933883
           },
           {
            "x": 46.30122222222223,
            "y1": 0.027449330135698384,
            "y2": 0.23719461004661627
           },
           {
            "x": 46.83166666666667,
            "y1": 0.026010860007637353,
            "y2": 0.23504010338680723
           },
           {
            "x": 47.36211111111111,
            "y1": 0.02464587336133215,
            "y2": 0.23289919198589115
           },
           {
            "x": 47.89255555555556,
            "y1": 0.023350811428332924,
            "y2": 0.23077189887394411
           },
           {
            "x": 48.423,
            "y1": 0.022122267704673362,
            "y2": 0.2286582448579005
           },
           {
            "x": 48.95344444444445,
            "y1": 0.020956983547992174,
            "y2": 0.22655824854480544
           },
           {
            "x": 49.48388888888889,
            "y1": 0.01985184366092004,
            "y2": 0.22447192636553825
           },
           {
            "x": 50.01433333333334,
            "y1": 0.01880387149694853,
            "y2": 0.22239929259898578
           },
           {
            "x": 50.54477777777778,
            "y1": 0.017814797958470636,
            "y2": 0.22034035939664398
           },
           {
            "x": 51.07522222222223,
            "y1": 0.016872566250800365,
            "y2": 0.21829513680762924
           },
           {
            "x": 51.60566666666667,
            "y1": 0.015969214453612282,
            "y2": 0.21612873008845115
           },
           {
            "x": 52.13611111111111,
            "y1": 0.015113493214180925,
            "y2": 0.2139027405902467
           },
           {
            "x": 52.66655555555556,
            "y1": 0.014302968395849262,
            "y2": 0.21169367288399937
           },
           {
            "x": 53.197,
            "y1": 0.01353532214161858,
            "y2": 0.20955614743609027
           }
          ]
         },
         "encoding": {
          "opacity": {
           "value": 0.15
          },
          "x": {
           "field": "x",
           "scale": {
            "domain": [
             0.6829999999999998,
             53.197
            ],
            "nice": false
           },
           "type": "quantitative"
          },
          "y": {
           "field": "y1",
           "type": "quantitative"
          },
          "y2": {
           "field": "y2",
           "type": "quantitative"
          }
         },
         "mark": {
          "clip": true,
          "type": "area"
         }
        }
       ]
      },
      "image/png": "[encoded data removed]",
      "text/plain": [
       "<VegaLite 2 object>\n",
       "\n",
       "If you see this message, it means the renderer has not been properly enabled\n",
       "for the frontend that you are using. For more information, see\n",
       "https://altair-viz.github.io/user_guide/troubleshooting.html\n"
      ]
     },
     "metadata": {},
     "output_type": "display_data"
    },
    {
     "data": {
      "image/png": "[encoded data removed]",
      "text/plain": [
       "<Figure size 432x288 with 1 Axes>"
      ]
     },
     "metadata": {},
     "output_type": "display_data"
    }
   ],
   "source": [
    "tips[\"big_tip\"] = (tips.tip / tips.total_bill) > .175\n",
    "display(salt.regplot(x=\"total_bill\", y=\"big_tip\", data=tips, logistic=True, n_boot=500))\n",
    "ax = sns.regplot(x=\"total_bill\", y=\"big_tip\", data=tips, logistic=True, n_boot=500, y_jitter=.03)"
   ]
  },
  {
   "cell_type": "code",
   "execution_count": 12,
   "metadata": {},
   "outputs": [
    {
     "data": {
      "application/vnd.vegalite.v2+json": {
       "$schema": "https://vega.github.io/schema/vega-lite/v2.4.1.json",
       "config": {
        "view": {
         "height": 300,
         "width": 400
        }
       },
       "layer": [
        {
         "data": {
          "values": [
           {
            "size": 1,
            "total_bill": 4.4475
           },
           {
            "size": 1,
            "total_bill": 9.365
           }
          ]
         },
         "encoding": {
          "x": {
           "field": "size",
           "scale": {
            "domain": [
             0.75,
             6.25
            ],
            "nice": false
           },
           "type": "quantitative"
          },
          "y": {
           "field": "total_bill",
           "type": "quantitative"
          }
         },
         "mark": {
          "clip": true,
          "type": "line"
         }
        },
        {
         "data": {
          "values": [
           {
            "size": 2,
            "total_bill": 15.547786858974359
           },
           {
            "size": 2,
            "total_bill": 17.333987179487178
           }
          ]
         },
         "encoding": {
          "x": {
           "field": "size",
           "scale": {
            "domain": [
             0.75,
             6.25
            ],
            "nice": false
           },
           "type": "quantitative"
          },
          "y": {
           "field": "total_bill",
           "type": "quantitative"
          }
         },
         "mark": {
          "clip": true,
          "type": "line"
         }
        },
        {
         "data": {
          "values": [
           {
            "size": 3,
            "total_bill": 20.608355263157897
           },
           {
            "size": 3,
            "total_bill": 26.47478289473684
           }
          ]
         },
         "encoding": {
          "x": {
           "field": "size",
           "scale": {
            "domain": [
             0.75,
             6.25
            ],
            "nice": false
           },
           "type": "quantitative"
          },
          "y": {
           "field": "total_bill",
           "type": "quantitative"
          }
         },
         "mark": {
          "clip": true,
          "type": "line"
         }
        },
        {
         "data": {
          "values": [
           {
            "size": 4,
            "total_bill": 25.994189189189186
           },
           {
            "size": 4,
            "total_bill": 31.275155405405403
           }
          ]
         },
         "encoding": {
          "x": {
           "field": "size",
           "scale": {
            "domain": [
             0.75,
             6.25
            ],
            "nice": false
           },
           "type": "quantitative"
          },
          "y": {
           "field": "total_bill",
           "type": "quantitative"
          }
         },
         "mark": {
          "clip": true,
          "type": "line"
         }
        },
        {
         "data": {
          "values": [
           {
            "size": 5,
            "total_bill": 24.472949999999997
           },
           {
            "size": 5,
            "total_bill": 36.436
           }
          ]
         },
         "encoding": {
          "x": {
           "field": "size",
           "scale": {
            "domain": [
             0.75,
             6.25
            ],
            "nice": false
           },
           "type": "quantitative"
          },
          "y": {
           "field": "total_bill",
           "type": "quantitative"
          }
         },
         "mark": {
          "clip": true,
          "type": "line"
         }
        },
        {
         "data": {
          "values": [
           {
            "size": 6,
            "total_bill": 28.425
           },
           {
            "size": 6,
            "total_bill": 43.5775
           }
          ]
         },
         "encoding": {
          "x": {
           "field": "size",
           "scale": {
            "domain": [
             0.75,
             6.25
            ],
            "nice": false
           },
           "type": "quantitative"
          },
          "y": {
           "field": "total_bill",
           "type": "quantitative"
          }
         },
         "mark": {
          "clip": true,
          "type": "line"
         }
        },
        {
         "data": {
          "values": [
           {
            "size": 1,
            "total_bill": 7.2425
           },
           {
            "size": 2,
            "total_bill": 16.44801282051282
           },
           {
            "size": 3,
            "total_bill": 23.277631578947368
           },
           {
            "size": 4,
            "total_bill": 28.613513513513514
           },
           {
            "size": 5,
            "total_bill": 30.068
           },
           {
            "size": 6,
            "total_bill": 34.83
           }
          ]
         },
         "encoding": {
          "x": {
           "axis": {
            "title": "size"
           },
           "field": "size",
           "scale": {
            "domain": [
             0.75,
             6.25
            ],
            "nice": false
           },
           "type": "quantitative"
          },
          "y": {
           "axis": {
            "title": "total_bill"
           },
           "field": "total_bill",
           "type": "quantitative"
          }
         },
         "mark": {
          "clip": true,
          "type": "circle"
         }
        },
        {
         "data": {
          "values": [
           {
            "x": 1,
            "y": 5.078505843655541
           },
           {
            "x": 1.0505050505050506,
            "y": 5.895635135768378
           },
           {
            "x": 1.101010101010101,
            "y": 6.674387103175903
           },
           {
            "x": 1.1515151515151516,
            "y": 7.41820547360493
           },
           {
            "x": 1.202020202020202,
            "y": 8.130090284474557
           },
           {
            "x": 1.2525252525252526,
            "y": 8.812670974743986
           },
           {
            "x": 1.303030303030303,
            "y": 9.468265019136854
           },
           {
            "x": 1.3535353535353536,
            "y": 10.098925406222428
           },
           {
            "x": 1.404040404040404,
            "y": 10.706479414423884
           },
           {
            "x": 1.4545454545454546,
            "y": 11.292560532428823
           },
           {
            "x": 1.5050505050505052,
            "y": 11.858634928947538
           },
           {
            "x": 1.5555555555555556,
            "y": 12.406023551921432
           },
           {
            "x": 1.606060606060606,
            "y": 12.935920695541157
           },
           {
            "x": 1.6565656565656566,
            "y": 13.449409691615191
           },
           {
            "x": 1.7070707070707072,
            "y": 13.947476243724829
           },
           {
            "x": 1.7575757575757576,
            "y": 14.43101981673107
           },
           {
            "x": 1.808080808080808,
            "y": 14.900863412338282
           },
           {
            "x": 1.8585858585858586,
            "y": 15.35776199761131
           },
           {
            "x": 1.9090909090909092,
            "y": 15.80240980322824
           },
           {
            "x": 1.9595959595959596,
            "y": 16.2354466686104
           },
           {
            "x": 2.0101010101010104,
            "y": 16.657463579504196
           },
           {
            "x": 2.0606060606060606,
            "y": 17.06900751829204
           },
           {
            "x": 2.111111111111111,
            "y": 17.470585726915022
           },
           {
            "x": 2.1616161616161618,
            "y": 17.86266946575402
           },
           {
            "x": 2.212121212121212,
            "y": 18.245697338336836
           },
           {
            "x": 2.2626262626262625,
            "y": 18.620078240694713
           },
           {
            "x": 2.313131313131313,
            "y": 18.986193985098716
           },
           {
            "x": 2.3636363636363633,
            "y": 19.34440164038527
           },
           {
            "x": 2.4141414141414144,
            "y": 19.69503562483158
           },
           {
            "x": 2.4646464646464645,
            "y": 20.038409582328143
           },
           {
            "x": 2.515151515151515,
            "y": 20.374818068228908
           },
           {
            "x": 2.5656565656565657,
            "y": 20.704538067586885
           },
           {
            "x": 2.616161616161616,
            "y": 21.027830365384045
           },
           {
            "x": 2.666666666666667,
            "y": 21.344940785738917
           },
           {
            "x": 2.717171717171717,
            "y": 21.65610131484428
           },
           {
            "x": 2.7676767676767677,
            "y": 21.96153112048525
           },
           {
            "x": 2.8181818181818183,
            "y": 22.261437479360886
           },
           {
            "x": 2.8686868686868685,
            "y": 22.556016622036754
           },
           {
            "x": 2.919191919191919,
            "y": 22.845454504155256
           },
           {
            "x": 2.9696969696969697,
            "y": 23.12992751149413
           },
           {
            "x": 3.0202020202020203,
            "y": 23.409603105567765
           },
           {
            "x": 3.0707070707070705,
            "y": 23.684640415688303
           },
           {
            "x": 3.121212121212121,
            "y": 23.955190782728042
           },
           {
            "x": 3.1717171717171717,
            "y": 24.221398259235233
           },
           {
            "x": 3.2222222222222223,
            "y": 24.48340007004116
           },
           {
            "x": 3.2727272727272725,
            "y": 24.74132703704572
           },
           {
            "x": 3.323232323232323,
            "y": 24.995303971473263
           },
           {
            "x": 3.3737373737373737,
            "y": 25.24545003654309
           },
           {
            "x": 3.4242424242424243,
            "y": 25.49187908319254
           },
           {
            "x": 3.474747474747475,
            "y": 25.734699961220233
           },
           {
            "x": 3.525252525252525,
            "y": 25.974016807977883
           },
           {
            "x": 3.5757575757575757,
            "y": 26.209929316527138
           },
           {
            "x": 3.6262626262626263,
            "y": 26.44253298498962
           },
           {
            "x": 3.676767676767677,
            "y": 26.67191934865117
           },
           {
            "x": 3.727272727272727,
            "y": 26.89817619623209
           },
           {
            "x": 3.7777777777777777,
            "y": 27.121387771602134
           },
           {
            "x": 3.8282828282828283,
            "y": 27.3416349621002
           },
           {
            "x": 3.878787878787879,
            "y": 27.558995474512198
           },
           {
            "x": 3.929292929292929,
            "y": 27.773543999665137
           },
           {
            "x": 3.9797979797979797,
            "y": 27.985352366509847
           },
           {
            "x": 4.03030303030303,
            "y": 28.19448968648772
           },
           {
            "x": 4.080808080808081,
            "y": 28.401022488907543
           },
           {
            "x": 4.1313131313131315,
            "y": 28.60501484799589
           },
           {
            "x": 4.181818181818182,
            "y": 28.806528502228208
           },
           {
            "x": 4.232323232323232,
            "y": 29.005622966496656
           },
           {
            "x": 4.282828282828283,
            "y": 29.202355637624535
           },
           {
            "x": 4.333333333333334,
            "y": 29.39678189369537
           },
           {
            "x": 4.383838383838384,
            "y": 29.588955187626777
           },
           {
            "x": 4.434343434343434,
            "y": 29.77892713538459
           },
           {
            "x": 4.484848484848484,
            "y": 29.96674759920153
           },
           {
            "x": 4.5353535353535355,
            "y": 30.15246476613609
           },
           {
            "x": 4.585858585858586,
            "y": 30.336125222281254
           },
           {
            "x": 4.636363636363637,
            "y": 30.517774022908938
           },
           {
            "x": 4.686868686868687,
            "y": 30.697454758814445
           },
           {
            "x": 4.737373737373737,
            "y": 30.87520961910522
           },
           {
            "x": 4.787878787878787,
            "y": 31.051079450660247
           },
           {
            "x": 4.838383838383838,
            "y": 31.22510381446967
           },
           {
            "x": 4.888888888888889,
            "y": 31.39732103904901
           },
           {
            "x": 4.9393939393939394,
            "y": 31.567768271108466
           },
           {
            "x": 4.98989898989899,
            "y": 31.736481523644755
           },
           {
            "x": 5.040404040404041,
            "y": 31.9034957216113
           },
           {
            "x": 5.090909090909091,
            "y": 32.068844745311615
           },
           {
            "x": 5.141414141414141,
            "y": 32.232561471650776
           },
           {
            "x": 5.191919191919192,
            "y": 32.39467781337059
           },
           {
            "x": 5.242424242424242,
            "y": 32.555224756385535
           },
           {
            "x": 5.292929292929293,
            "y": 32.714232395328864
           },
           {
            "x": 5.343434343434343,
            "y": 32.871729967410694
           },
           {
            "x": 5.393939393939394,
            "y": 33.02774588468355
           },
           {
            "x": 5.444444444444445,
            "y": 33.18230776480423
           },
           {
            "x": 5.494949494949495,
            "y": 33.33544246037541
           },
           {
            "x": 5.545454545454545,
            "y": 33.48717608694504
           },
           {
            "x": 5.595959595959596,
            "y": 33.63753404973627
           },
           {
            "x": 5.646464646464646,
            "y": 33.78654106917668
           },
           {
            "x": 5.696969696969697,
            "y": 33.93422120529075
           },
           {
            "x": 5.747474747474747,
            "y": 34.08059788101579
           },
           {
            "x": 5.797979797979798,
            "y": 34.22569390449798
           },
           {
            "x": 5.848484848484849,
            "y": 34.36953149042143
           },
           {
            "x": 5.898989898989899,
            "y": 34.51213228042021
           },
           {
            "x": 5.94949494949495,
            "y": 34.65351736262036
           },
           {
            "x": 6,
            "y": 34.79370729035581
           }
          ]
         },
         "encoding": {
          "x": {
           "field": "x",
           "scale": {
            "domain": [
             0.75,
             6.25
            ],
            "nice": false
           },
           "type": "quantitative"
          },
          "y": {
           "field": "y",
           "type": "quantitative"
          }
         },
         "mark": {
          "clip": true,
          "type": "line"
         }
        },
        {
         "data": {
          "values": [
           {
            "x": 1,
            "y1": 2.5476268165842377,
            "y2": 7.24054077716858
           },
           {
            "x": 1.0505050505050506,
            "y1": 3.516205304525561,
            "y2": 7.968599809488012
           },
           {
            "x": 1.101010101010101,
            "y1": 4.440420281762683,
            "y2": 8.640633154966732
           },
           {
            "x": 1.1515151515151516,
            "y1": 5.32341526707126,
            "y2": 9.269456331777196
           },
           {
            "x": 1.202020202020202,
            "y1": 6.161652391603329,
            "y2": 9.86221450058871
           },
           {
            "x": 1.2525252525252526,
            "y1": 6.970040335469569,
            "y2": 10.433725187403105
           },
           {
            "x": 1.303030303030303,
            "y1": 7.746467692868901,
            "y2": 11.004793124489538
           },
           {
            "x": 1.3535353535353536,
            "y1": 8.453033125335912,
            "y2": 11.58021242012691
           },
           {
            "x": 1.404040404040404,
            "y1": 9.131887044340326,
            "y2": 12.065426834220663
           },
           {
            "x": 1.4545454545454546,
            "y1": 9.810519148797567,
            "y2": 12.570648465873171
           },
           {
            "x": 1.5050505050505052,
            "y1": 10.449408880706908,
            "y2": 13.062722851585482
           },
           {
            "x": 1.5555555555555556,
            "y1": 11.100024186863811,
            "y2": 13.56641170080361
           },
           {
            "x": 1.606060606060606,
            "y1": 11.706670585093365,
            "y2": 14.04886763614733
           },
           {
            "x": 1.6565656565656566,
            "y1": 12.280727260585412,
            "y2": 14.513663708115681
           },
           {
            "x": 1.7070707070707072,
            "y1": 12.829729004554089,
            "y2": 14.961537120564724
           },
           {
            "x": 1.7575757575757576,
            "y1": 13.39325753526821,
            "y2": 15.412462591288666
           },
           {
            "x": 1.808080808080808,
            "y1": 13.913973161462504,
            "y2": 15.86806001219354
           },
           {
            "x": 1.8585858585858586,
            "y1": 14.394605057805148,
            "y2": 16.28290782302936
           },
           {
            "x": 1.9090909090909092,
            "y1": 14.883448205826578,
            "y2": 16.70673746596843
           },
           {
            "x": 1.9595959595959596,
            "y1": 15.370514632644316,
            "y2": 17.114880672218643
           },
           {
            "x": 2.0101010101010104,
            "y1": 15.819140411865984,
            "y2": 17.51967935480043
           },
           {
            "x": 2.0606060606060606,
            "y1": 16.24251731934904,
            "y2": 17.93387789071991
           },
           {
            "x": 2.111111111111111,
            "y1": 16.658597973750297,
            "y2": 18.34381000169227
           },
           {
            "x": 2.1616161616161618,
            "y1": 17.073060486994862,
            "y2": 18.738810761555573
           },
           {
            "x": 2.212121212121212,
            "y1": 17.450778530410403,
            "y2": 19.108898565470394
           },
           {
            "x": 2.2626262626262625,
            "y1": 17.824121259850262,
            "y2": 19.46961921969372
           },
           {
            "x": 2.313131313131313,
            "y1": 18.16553850176684,
            "y2": 19.840170658950296
           },
           {
            "x": 2.3636363636363633,
            "y1": 18.51292193399446,
            "y2": 20.250285634131295
           },
           {
            "x": 2.4141414141414144,
            "y1": 18.861571553043756,
            "y2": 20.615059756861037
           },
           {
            "x": 2.4646464646464645,
            "y1": 19.203683414210296,
            "y2": 20.96558600330477
           },
           {
            "x": 2.515151515151515,
            "y1": 19.506064796732325,
            "y2": 21.312647984249857
           },
           {
            "x": 2.5656565656565657,
            "y1": 19.80526388912588,
            "y2": 21.67078524681925
           },
           {
            "x": 2.616161616161616,
            "y1": 20.11186830556586,
            "y2": 22.010245571116
           },
           {
            "x": 2.666666666666667,
            "y1": 20.420707029732604,
            "y2": 22.340756205208884
           },
           {
            "x": 2.717171717171717,
            "y1": 20.71632374174611,
            "y2": 22.689694430642447
           },
           {
            "x": 2.7676767676767677,
            "y1": 21.005230922659738,
            "y2": 23.032058424933627
           },
           {
            "x": 2.8181818181818183,
            "y1": 21.258634785366247,
            "y2": 23.360803307018415
           },
           {
            "x": 2.8686868686868685,
            "y1": 21.52240605478598,
            "y2": 23.698649745979974
           },
           {
            "x": 2.919191919191919,
            "y1": 21.765976796195353,
            "y2": 24.026934089297836
           },
           {
            "x": 2.9696969696969697,
            "y1": 22.030454334433433,
            "y2": 24.359050729870596
           },
           {
            "x": 3.0202020202020203,
            "y1": 22.293607927204143,
            "y2": 24.651899318106324
           },
           {
            "x": 3.0707070707070705,
            "y1": 22.54461596549209,
            "y2": 24.962966902631827
           },
           {
            "x": 3.121212121212121,
            "y1": 22.77781297855268,
            "y2": 25.278131191564874
           },
           {
            "x": 3.1717171717171717,
            "y1": 23.014937165228307,
            "y2": 25.588475430966625
           },
           {
            "x": 3.2222222222222223,
            "y1": 23.24449226857062,
            "y2": 25.9080575366489
           },
           {
            "x": 3.2727272727272725,
            "y1": 23.470117105301604,
            "y2": 26.207458384666495
           },
           {
            "x": 3.323232323232323,
            "y1": 23.69305622908054,
            "y2": 26.495788767033027
           },
           {
            "x": 3.3737373737373737,
            "y1": 23.91300244143671,
            "y2": 26.790118990951726
           },
           {
            "x": 3.4242424242424243,
            "y1": 24.12782794421755,
            "y2": 27.09458833388149
           },
           {
            "x": 3.474747474747475,
            "y1": 24.33560470871941,
            "y2": 27.394204749642224
           },
           {
            "x": 3.525252525252525,
            "y1": 24.55202581704875,
            "y2": 27.67993010202329
           },
           {
            "x": 3.5757575757575757,
            "y1": 24.76075783860107,
            "y2": 27.950695881984196
           },
           {
            "x": 3.6262626262626263,
            "y1": 24.96528849106203,
            "y2": 28.210874716766238
           },
           {
            "x": 3.676767676767677,
            "y1": 25.16163805695528,
            "y2": 28.473935754131663
           },
           {
            "x": 3.727272727272727,
            "y1": 25.360708166657624,
            "y2": 28.723236087192156
           },
           {
            "x": 3.7777777777777777,
            "y1": 25.55460747865471,
            "y2": 28.97058507123832
           },
           {
            "x": 3.8282828282828283,
            "y1": 25.74545719367644,
            "y2": 29.223723027273756
           },
           {
            "x": 3.878787878787879,
            "y1": 25.934013624625024,
            "y2": 29.476907851410896
           },
           {
            "x": 3.929292929292929,
            "y1": 26.120130705962413,
            "y2": 29.72681723010599
           },
           {
            "x": 3.9797979797979797,
            "y1": 26.303870748043217,
            "y2": 29.98226747177494
           },
           {
            "x": 4.03030303030303,
            "y1": 26.485293703830298,
            "y2": 30.237571026157283
           },
           {
            "x": 4.080808080808081,
            "y1": 26.66445728633178,
            "y2": 30.48969512605445
           },
           {
            "x": 4.1313131313131315,
            "y1": 26.841417078815027,
            "y2": 30.738717989824554
           },
           {
            "x": 4.181818181818182,
            "y1": 27.01622663832431,
            "y2": 30.973575565157475
           },
           {
            "x": 4.232323232323232,
            "y1": 27.18893759298438,
            "y2": 31.2034610267629
           },
           {
            "x": 4.282828282828283,
            "y1": 27.358250558827812,
            "y2": 31.430409989970702
           },
           {
            "x": 4.333333333333334,
            "y1": 27.518695350629926,
            "y2": 31.654507592704004
           },
           {
            "x": 4.383838383838384,
            "y1": 27.68181915344172,
            "y2": 31.866413901689523
           },
           {
            "x": 4.434343434343434,
            "y1": 27.845417009978256,
            "y2": 32.077220567674075
           },
           {
            "x": 4.484848484848484,
            "y1": 28.007162076325216,
            "y2": 32.30648307621163
           },
           {
            "x": 4.5353535353535355,
            "y1": 28.167095849659297,
            "y2": 32.52676163568664
           },
           {
            "x": 4.585858585858586,
            "y1": 28.325258448456122,
            "y2": 32.73903294291581
           },
           {
            "x": 4.636363636363637,
            "y1": 28.479790612824587,
            "y2": 32.94897921646406
           },
           {
            "x": 4.686868686868687,
            "y1": 28.622486445820922,
            "y2": 33.16020591774926
           },
           {
            "x": 4.737373737373737,
            "y1": 28.763652819224916,
            "y2": 33.3713537254511
           },
           {
            "x": 4.787878787878787,
            "y1": 28.903342829256303,
            "y2": 33.5802623837741
           },
           {
            "x": 4.838383838383838,
            "y1": 29.05511744733268,
            "y2": 33.78697888561803
           },
           {
            "x": 4.888888888888889,
            "y1": 29.2064325968511,
            "y2": 33.99154875987599
           },
           {
            "x": 4.9393939393939394,
            "y1": 29.35619257856649,
            "y2": 34.19401613162228
           },
           {
            "x": 4.98989898989899,
            "y1": 29.5044523521647,
            "y2": 34.39442377923884
           },
           {
            "x": 5.040404040404041,
            "y1": 29.648654061898373,
            "y2": 34.592813188665005
           },
           {
            "x": 5.090909090909091,
            "y1": 29.782486777885797,
            "y2": 34.7891325355737
           },
           {
            "x": 5.141414141414141,
            "y1": 29.922384989213395,
            "y2": 34.97011707242609
           },
           {
            "x": 5.191919191919192,
            "y1": 30.063426005844647,
            "y2": 35.166868277900655
           },
           {
            "x": 5.242424242424242,
            "y1": 30.203113329272927,
            "y2": 35.35626357630148
           },
           {
            "x": 5.292929292929293,
            "y1": 30.34146134806128,
            "y2": 35.53542209675332
           },
           {
            "x": 5.343434343434343,
            "y1": 30.478495500673684,
            "y2": 35.71282367969598
           },
           {
            "x": 5.393939393939394,
            "y1": 30.614240507627972,
            "y2": 35.88855636130248
           },
           {
            "x": 5.444444444444445,
            "y1": 30.7487203982609,
            "y2": 36.062599743664904
           },
           {
            "x": 5.494949494949495,
            "y1": 30.881958536257418,
            "y2": 36.23487570457221
           },
           {
            "x": 5.545454545454545,
            "y1": 31.01397764401212,
            "y2": 36.40557546808256
           },
           {
            "x": 5.595959595959596,
            "y1": 31.14479982588625,
            "y2": 36.574727614977206
           },
           {
            "x": 5.646464646464646,
            "y1": 31.274446590419906,
            "y2": 36.74235995564487
           },
           {
            "x": 5.696969696969697,
            "y1": 31.402938871555264,
            "y2": 36.91103324371398
           },
           {
            "x": 5.747474747474747,
            "y1": 31.5302970489231,
            "y2": 37.087047434039185
           },
           {
            "x": 5.797979797979798,
            "y1": 31.656540967241916,
            "y2": 37.25477960024451
           },
           {
            "x": 5.848484848484849,
            "y1": 31.781689954875787,
            "y2": 37.41511240858649
           },
           {
            "x": 5.898989898989899,
            "y1": 31.90576284159425,
            "y2": 37.579247914571454
           },
           {
            "x": 5.94949494949495,
            "y1": 32.02860552504141,
            "y2": 37.74557928203059
           },
           {
            "x": 6,
            "y1": 32.144229935497194,
            "y2": 37.91050461942386
           }
          ]
         },
         "encoding": {
          "opacity": {
           "value": 0.15
          },
          "x": {
           "field": "x",
           "scale": {
            "domain": [
             0.75,
             6.25
            ],
            "nice": false
           },
           "type": "quantitative"
          },
          "y": {
           "field": "y1",
           "type": "quantitative"
          },
          "y2": {
           "field": "y2",
           "type": "quantitative"
          }
         },
         "mark": {
          "clip": true,
          "type": "area"
         }
        }
       ]
      },
      "image/png": "[encoded data removed]",
      "text/plain": [
       "<VegaLite 2 object>\n",
       "\n",
       "If you see this message, it means the renderer has not been properly enabled\n",
       "for the frontend that you are using. For more information, see\n",
       "https://altair-viz.github.io/user_guide/troubleshooting.html\n"
      ]
     },
     "metadata": {},
     "output_type": "display_data"
    },
    {
     "data": {
      "image/png": "[encoded data removed]",
      "text/plain": [
       "<Figure size 432x288 with 1 Axes>"
      ]
     },
     "metadata": {},
     "output_type": "display_data"
    }
   ],
   "source": [
    "display(salt.regplot(x=\"size\", y=\"total_bill\", data=tips, x_estimator=np.mean, logx=True, truncate=True))\n",
    "ax = sns.regplot(x=\"size\", y=\"total_bill\", data=tips, x_estimator=np.mean, logx=True, truncate=True)"
   ]
  },
  {
   "cell_type": "code",
   "execution_count": null,
   "metadata": {},
   "outputs": [],
   "source": []
  }
 ],
 "metadata": {
  "kernelspec": {
   "display_name": "Python 3",
   "language": "python",
   "name": "python3"
  },
  "language_info": {
   "codemirror_mode": {
    "name": "ipython",
    "version": 3
   },
   "file_extension": ".py",
   "mimetype": "text/x-python",
   "name": "python",
   "nbconvert_exporter": "python",
   "pygments_lexer": "ipython3",
   "version": "3.6.4"
  }
 },
 "nbformat": 4,
 "nbformat_minor": 2
}
