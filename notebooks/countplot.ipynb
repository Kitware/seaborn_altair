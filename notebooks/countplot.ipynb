{
 "cells": [
  {
   "cell_type": "markdown",
   "metadata": {},
   "source": [
    "# seaborn_altair.countplot"
   ]
  },
  {
   "cell_type": "code",
   "execution_count": 8,
   "metadata": {},
   "outputs": [],
   "source": [
    "import seaborn as sns\n",
    "import seaborn_altair as salt\n",
    "titanic = sns.load_dataset(\"titanic\")"
   ]
  },
  {
   "cell_type": "code",
   "execution_count": 9,
   "metadata": {},
   "outputs": [
    {
     "data": {
      "application/vnd.vegalite.v2+json": {
       "$schema": "https://vega.github.io/schema/vega-lite/v2.4.1.json",
       "config": {
        "view": {
         "height": 300,
         "width": 400
        }
       },
       "data": {
        "values": [
         {
          "c": "rgb(49.62499999999999, 115.62499999999996, 161.37500000000003)",
          "class": "First",
          "count": 216
         },
         {
          "c": "rgb(224.87499999999997, 128.875, 44.12500000000004)",
          "class": "Second",
          "count": 184
         },
         {
          "c": "rgb(58.49999999999999, 145.50000000000003, 58.49999999999999)",
          "class": "Third",
          "count": 491
         }
        ]
       },
       "encoding": {
        "color": {
         "field": "c",
         "scale": null,
         "type": "nominal"
        },
        "x": {
         "axis": {
          "title": "class"
         },
         "field": "class",
         "sort": null,
         "type": "nominal"
        },
        "y": {
         "axis": {
          "title": "count"
         },
         "field": "count",
         "type": "quantitative"
        }
       },
       "mark": "bar",
       "selection": {
        "selector006": {
         "bind": "scales",
         "encodings": [
          "x",
          "y"
         ],
         "mark": {
          "fill": "#333",
          "fillOpacity": 0.125,
          "stroke": "white"
         },
         "on": "[mousedown, window:mouseup] > window:mousemove!",
         "resolve": "global",
         "translate": "[mousedown, window:mouseup] > window:mousemove!",
         "type": "interval",
         "zoom": "wheel!"
        }
       }
      },
      "image/png": "[encoded data removed]",
      "text/plain": [
       "<VegaLite 2 object>\n",
       "\n",
       "If you see this message, it means the renderer has not been properly enabled\n",
       "for the frontend that you are using. For more information, see\n",
       "https://altair-viz.github.io/user_guide/troubleshooting.html\n"
      ]
     },
     "metadata": {},
     "output_type": "display_data"
    },
    {
     "data": {
      "image/png": "[encoded data removed]",
      "text/plain": [
       "<Figure size 432x288 with 1 Axes>"
      ]
     },
     "metadata": {},
     "output_type": "display_data"
    }
   ],
   "source": [
    "display(salt.countplot(x=\"class\", data=titanic))\n",
    "ax = sns.countplot(x=\"class\", data=titanic)"
   ]
  },
  {
   "cell_type": "code",
   "execution_count": 10,
   "metadata": {},
   "outputs": [
    {
     "data": {
      "application/vnd.vegalite.v2+json": {
       "$schema": "https://vega.github.io/schema/vega-lite/v2.4.1.json",
       "config": {
        "view": {
         "height": 300,
         "width": 400
        }
       },
       "data": {
        "values": [
         {
          "c": "rgb(49.62499999999999, 115.62499999999996, 161.37500000000003)",
          "class": "First",
          "count": 119,
          "who": "man"
         },
         {
          "c": "rgb(224.87499999999997, 128.875, 44.12500000000004)",
          "class": "First",
          "count": 91,
          "who": "woman"
         },
         {
          "c": "rgb(58.49999999999999, 145.50000000000003, 58.49999999999999)",
          "class": "First",
          "count": 6,
          "who": "child"
         },
         {
          "c": "rgb(49.62499999999999, 115.62499999999996, 161.37500000000003)",
          "class": "Second",
          "count": 99,
          "who": "man"
         },
         {
          "c": "rgb(224.87499999999997, 128.875, 44.12500000000004)",
          "class": "Second",
          "count": 66,
          "who": "woman"
         },
         {
          "c": "rgb(58.49999999999999, 145.50000000000003, 58.49999999999999)",
          "class": "Second",
          "count": 19,
          "who": "child"
         },
         {
          "c": "rgb(49.62499999999999, 115.62499999999996, 161.37500000000003)",
          "class": "Third",
          "count": 319,
          "who": "man"
         },
         {
          "c": "rgb(224.87499999999997, 128.875, 44.12500000000004)",
          "class": "Third",
          "count": 114,
          "who": "woman"
         },
         {
          "c": "rgb(58.49999999999999, 145.50000000000003, 58.49999999999999)",
          "class": "Third",
          "count": 58,
          "who": "child"
         }
        ]
       },
       "facet": {
        "column": {
         "field": "class",
         "type": "nominal"
        }
       },
       "spec": {
        "encoding": {
         "color": {
          "field": "c",
          "scale": null,
          "type": "nominal"
         },
         "x": {
          "axis": {
           "title": ""
          },
          "field": "who",
          "sort": null,
          "type": "nominal"
         },
         "y": {
          "axis": {
           "title": "count"
          },
          "field": "count",
          "type": "quantitative"
         }
        },
        "mark": "bar",
        "selection": {
         "selector007": {
          "bind": "scales",
          "encodings": [
           "x",
           "y"
          ],
          "mark": {
           "fill": "#333",
           "fillOpacity": 0.125,
           "stroke": "white"
          },
          "on": "[mousedown, window:mouseup] > window:mousemove!",
          "resolve": "global",
          "translate": "[mousedown, window:mouseup] > window:mousemove!",
          "type": "interval",
          "zoom": "wheel!"
         }
        }
       }
      },
      "image/png": "[encoded data removed]",
      "text/plain": [
       "<VegaLite 2 object>\n",
       "\n",
       "If you see this message, it means the renderer has not been properly enabled\n",
       "for the frontend that you are using. For more information, see\n",
       "https://altair-viz.github.io/user_guide/troubleshooting.html\n"
      ]
     },
     "metadata": {},
     "output_type": "display_data"
    },
    {
     "data": {
      "image/png": "[encoded data removed]",
      "text/plain": [
       "<Figure size 432x288 with 1 Axes>"
      ]
     },
     "metadata": {},
     "output_type": "display_data"
    }
   ],
   "source": [
    "display(salt.countplot(x=\"class\", hue=\"who\", data=titanic))\n",
    "ax = sns.countplot(x=\"class\", hue=\"who\", data=titanic)"
   ]
  },
  {
   "cell_type": "code",
   "execution_count": 11,
   "metadata": {},
   "outputs": [
    {
     "data": {
      "application/vnd.vegalite.v2+json": {
       "$schema": "https://vega.github.io/schema/vega-lite/v2.4.1.json",
       "config": {
        "view": {
         "height": 300,
         "width": 400
        }
       },
       "data": {
        "values": [
         {
          "c": "rgb(49.62499999999999, 115.62499999999996, 161.37500000000003)",
          "class": "First",
          "count": 119,
          "who": "man"
         },
         {
          "c": "rgb(224.87499999999997, 128.875, 44.12500000000004)",
          "class": "First",
          "count": 91,
          "who": "woman"
         },
         {
          "c": "rgb(58.49999999999999, 145.50000000000003, 58.49999999999999)",
          "class": "First",
          "count": 6,
          "who": "child"
         },
         {
          "c": "rgb(49.62499999999999, 115.62499999999996, 161.37500000000003)",
          "class": "Second",
          "count": 99,
          "who": "man"
         },
         {
          "c": "rgb(224.87499999999997, 128.875, 44.12500000000004)",
          "class": "Second",
          "count": 66,
          "who": "woman"
         },
         {
          "c": "rgb(58.49999999999999, 145.50000000000003, 58.49999999999999)",
          "class": "Second",
          "count": 19,
          "who": "child"
         },
         {
          "c": "rgb(49.62499999999999, 115.62499999999996, 161.37500000000003)",
          "class": "Third",
          "count": 319,
          "who": "man"
         },
         {
          "c": "rgb(224.87499999999997, 128.875, 44.12500000000004)",
          "class": "Third",
          "count": 114,
          "who": "woman"
         },
         {
          "c": "rgb(58.49999999999999, 145.50000000000003, 58.49999999999999)",
          "class": "Third",
          "count": 58,
          "who": "child"
         }
        ]
       },
       "facet": {
        "row": {
         "field": "class",
         "type": "nominal"
        }
       },
       "spec": {
        "encoding": {
         "color": {
          "field": "c",
          "scale": null,
          "type": "nominal"
         },
         "x": {
          "axis": {
           "title": "count"
          },
          "field": "count",
          "type": "quantitative"
         },
         "y": {
          "axis": {
           "title": ""
          },
          "field": "who",
          "sort": null,
          "type": "nominal"
         }
        },
        "mark": "bar",
        "selection": {
         "selector008": {
          "bind": "scales",
          "encodings": [
           "x",
           "y"
          ],
          "mark": {
           "fill": "#333",
           "fillOpacity": 0.125,
           "stroke": "white"
          },
          "on": "[mousedown, window:mouseup] > window:mousemove!",
          "resolve": "global",
          "translate": "[mousedown, window:mouseup] > window:mousemove!",
          "type": "interval",
          "zoom": "wheel!"
         }
        }
       }
      },
      "image/png": "[encoded data removed]",
      "text/plain": [
       "<VegaLite 2 object>\n",
       "\n",
       "If you see this message, it means the renderer has not been properly enabled\n",
       "for the frontend that you are using. For more information, see\n",
       "https://altair-viz.github.io/user_guide/troubleshooting.html\n"
      ]
     },
     "metadata": {},
     "output_type": "display_data"
    },
    {
     "data": {
      "image/png": "[encoded data removed]",
      "text/plain": [
       "<Figure size 432x288 with 1 Axes>"
      ]
     },
     "metadata": {},
     "output_type": "display_data"
    }
   ],
   "source": [
    "display(salt.countplot(y=\"class\", hue=\"who\", data=titanic))\n",
    "ax = sns.countplot(y=\"class\", hue=\"who\", data=titanic)"
   ]
  },
  {
   "cell_type": "code",
   "execution_count": 12,
   "metadata": {},
   "outputs": [
    {
     "data": {
      "application/vnd.vegalite.v2+json": {
       "$schema": "https://vega.github.io/schema/vega-lite/v2.4.1.json",
       "config": {
        "view": {
         "height": 300,
         "width": 400
        }
       },
       "data": {
        "values": [
         {
          "c": "rgb(149.75000000000003, 202.24999999999997, 193.25)",
          "count": 537,
          "who": "man"
         },
         {
          "c": "rgb(245.50000000000003, 245.50000000000003, 188.49999999999994)",
          "count": 271,
          "who": "woman"
         },
         {
          "c": "rgb(192.99999999999997, 189.99999999999997, 214.0)",
          "count": 83,
          "who": "child"
         }
        ]
       },
       "encoding": {
        "color": {
         "field": "c",
         "scale": null,
         "type": "nominal"
        },
        "x": {
         "axis": {
          "title": "who"
         },
         "field": "who",
         "sort": null,
         "type": "nominal"
        },
        "y": {
         "axis": {
          "title": "count"
         },
         "field": "count",
         "type": "quantitative"
        }
       },
       "mark": "bar",
       "selection": {
        "selector009": {
         "bind": "scales",
         "encodings": [
          "x",
          "y"
         ],
         "mark": {
          "fill": "#333",
          "fillOpacity": 0.125,
          "stroke": "white"
         },
         "on": "[mousedown, window:mouseup] > window:mousemove!",
         "resolve": "global",
         "translate": "[mousedown, window:mouseup] > window:mousemove!",
         "type": "interval",
         "zoom": "wheel!"
        }
       }
      },
      "image/png": "[encoded data removed]",
      "text/plain": [
       "<VegaLite 2 object>\n",
       "\n",
       "If you see this message, it means the renderer has not been properly enabled\n",
       "for the frontend that you are using. For more information, see\n",
       "https://altair-viz.github.io/user_guide/troubleshooting.html\n"
      ]
     },
     "metadata": {},
     "output_type": "display_data"
    },
    {
     "data": {
      "image/png": "[encoded data removed]",
      "text/plain": [
       "<Figure size 432x288 with 1 Axes>"
      ]
     },
     "metadata": {},
     "output_type": "display_data"
    }
   ],
   "source": [
    "display(salt.countplot(x=\"who\", data=titanic, palette=\"Set3\"))\n",
    "ax = sns.countplot(x=\"who\", data=titanic, palette=\"Set3\")"
   ]
  },
  {
   "cell_type": "code",
   "execution_count": 13,
   "metadata": {},
   "outputs": [
    {
     "data": {
      "application/vnd.vegalite.v2+json": {
       "$schema": "https://vega.github.io/schema/vega-lite/v2.4.1.json",
       "config": {
        "view": {
         "height": 300,
         "width": 400
        }
       },
       "data": {
        "values": [
         {
          "c": "rgb(49.62499999999999, 115.62499999999996, 161.37500000000003)",
          "count": 537,
          "who": "man"
         },
         {
          "c": "rgb(224.87499999999997, 128.875, 44.12500000000004)",
          "count": 271,
          "who": "woman"
         },
         {
          "c": "rgb(58.49999999999999, 145.50000000000003, 58.49999999999999)",
          "count": 83,
          "who": "child"
         }
        ]
       },
       "encoding": {
        "color": {
         "field": "c",
         "scale": null,
         "type": "nominal"
        },
        "x": {
         "axis": {
          "title": "who"
         },
         "field": "who",
         "sort": null,
         "type": "nominal"
        },
        "y": {
         "axis": {
          "title": "count"
         },
         "field": "count",
         "type": "quantitative"
        }
       },
       "mark": "bar",
       "selection": {
        "selector010": {
         "bind": "scales",
         "encodings": [
          "x",
          "y"
         ],
         "mark": {
          "fill": "#333",
          "fillOpacity": 0.125,
          "stroke": "white"
         },
         "on": "[mousedown, window:mouseup] > window:mousemove!",
         "resolve": "global",
         "translate": "[mousedown, window:mouseup] > window:mousemove!",
         "type": "interval",
         "zoom": "wheel!"
        }
       }
      },
      "image/png": "[encoded data removed]",
      "text/plain": [
       "<VegaLite 2 object>\n",
       "\n",
       "If you see this message, it means the renderer has not been properly enabled\n",
       "for the frontend that you are using. For more information, see\n",
       "https://altair-viz.github.io/user_guide/troubleshooting.html\n"
      ]
     },
     "metadata": {},
     "output_type": "display_data"
    },
    {
     "data": {
      "image/png": "[encoded data removed]",
      "text/plain": [
       "<Figure size 432x288 with 1 Axes>"
      ]
     },
     "metadata": {},
     "output_type": "display_data"
    }
   ],
   "source": [
    "display(salt.countplot(x=\"who\", data=titanic, facecolor=(0, 0, 0, 0), linewidth=5, edgecolor=sns.color_palette(\"dark\", 3)))\n",
    "ax = sns.countplot(x=\"who\", data=titanic, facecolor=(0, 0, 0, 0), linewidth=5, edgecolor=sns.color_palette(\"dark\", 3))"
   ]
  }
 ],
 "metadata": {
  "kernelspec": {
   "display_name": "Python 3",
   "language": "python",
   "name": "python3"
  },
  "language_info": {
   "codemirror_mode": {
    "name": "ipython",
    "version": 3
   },
   "file_extension": ".py",
   "mimetype": "text/x-python",
   "name": "python",
   "nbconvert_exporter": "python",
   "pygments_lexer": "ipython3",
   "version": "3.6.4"
  }
 },
 "nbformat": 4,
 "nbformat_minor": 2
}
