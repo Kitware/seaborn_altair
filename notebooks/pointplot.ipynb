{
 "cells": [
  {
   "cell_type": "markdown",
   "metadata": {},
   "source": [
    "# seaborn_altair.pointplot"
   ]
  },
  {
   "cell_type": "code",
   "execution_count": 2,
   "metadata": {},
   "outputs": [],
   "source": [
    "import seaborn as sns\n",
    "import seaborn_altair as salt\n",
    "tips = sns.load_dataset(\"tips\")"
   ]
  },
  {
   "cell_type": "code",
   "execution_count": 3,
   "metadata": {},
   "outputs": [
    {
     "data": {
      "application/vnd.vegalite.v2+json": {
       "$schema": "https://vega.github.io/schema/vega-lite/v2.4.1.json",
       "config": {
        "view": {
         "height": 300,
         "width": 400
        }
       },
       "data": {
        "values": [
         {
          "c": "rgb(31.0, 119.0, 180.0)",
          "ci0": 15.352257352941177,
          "ci1": 19.08408823529412,
          "time": "Lunch",
          "total_bill": 17.168676470588235
         },
         {
          "c": "rgb(31.0, 119.0, 180.0)",
          "ci0": 19.343014204545455,
          "ci1": 22.173579545454544,
          "time": "Dinner",
          "total_bill": 20.79715909090909
         }
        ]
       },
       "layer": [
        {
         "encoding": {
          "color": {
           "field": "c",
           "scale": null,
           "type": "nominal"
          },
          "x": {
           "axis": {
            "title": "time"
           },
           "field": "time",
           "sort": null,
           "type": "nominal"
          },
          "y": {
           "axis": {
            "title": "total_bill"
           },
           "field": "total_bill",
           "scale": {
            "zero": false
           },
           "type": "quantitative"
          }
         },
         "mark": {
          "point": true,
          "type": "line"
         },
         "selection": {
          "selector001": {
           "bind": "scales",
           "encodings": [
            "x",
            "y"
           ],
           "mark": {
            "fill": "#333",
            "fillOpacity": 0.125,
            "stroke": "white"
           },
           "on": "[mousedown, window:mouseup] > window:mousemove!",
           "resolve": "global",
           "translate": "[mousedown, window:mouseup] > window:mousemove!",
           "type": "interval",
           "zoom": "wheel!"
          }
         }
        },
        {
         "encoding": {
          "color": {
           "field": "c",
           "scale": null,
           "type": "nominal"
          },
          "x": {
           "axis": null,
           "field": "time",
           "sort": null,
           "type": "nominal"
          },
          "y": {
           "field": "ci0",
           "type": "quantitative"
          },
          "y2": {
           "field": "ci1",
           "type": "quantitative"
          }
         },
         "mark": "rule"
        }
       ]
      },
      "image/png": "[encoded data removed]",
      "text/plain": [
       "<VegaLite 2 object>\n",
       "\n",
       "If you see this message, it means the renderer has not been properly enabled\n",
       "for the frontend that you are using. For more information, see\n",
       "https://altair-viz.github.io/user_guide/troubleshooting.html\n"
      ]
     },
     "metadata": {},
     "output_type": "display_data"
    },
    {
     "data": {
      "image/png": "[encoded data removed]",
      "text/plain": [
       "<Figure size 432x288 with 1 Axes>"
      ]
     },
     "metadata": {},
     "output_type": "display_data"
    }
   ],
   "source": [
    "display(salt.pointplot(x=\"time\", y=\"total_bill\", data=tips))\n",
    "ax = sns.pointplot(x=\"time\", y=\"total_bill\", data=tips)"
   ]
  },
  {
   "cell_type": "code",
   "execution_count": 4,
   "metadata": {},
   "outputs": [
    {
     "data": {
      "application/vnd.vegalite.v2+json": {
       "$schema": "https://vega.github.io/schema/vega-lite/v2.4.1.json",
       "config": {
        "view": {
         "height": 300,
         "width": 400
        }
       },
       "data": {
        "values": [
         {
          "c": "rgb(31.0, 119.0, 180.0)",
          "ci0": 14.617010869565219,
          "ci1": 20.735163043478256,
          "smoker": "Yes",
          "time": "Lunch",
          "total_bill": 17.39913043478261
         },
         {
          "c": "rgb(255.0, 127.0, 14.0)",
          "ci0": 14.979066666666665,
          "ci1": 19.43093888888889,
          "smoker": "No",
          "time": "Lunch",
          "total_bill": 17.05088888888889
         },
         {
          "c": "rgb(31.0, 119.0, 180.0)",
          "ci0": 19.50086071428571,
          "ci1": 24.196603571428575,
          "smoker": "Yes",
          "time": "Dinner",
          "total_bill": 21.859428571428573
         },
         {
          "c": "rgb(255.0, 127.0, 14.0)",
          "ci0": 18.64345990566038,
          "ci1": 21.77202358490566,
          "smoker": "No",
          "time": "Dinner",
          "total_bill": 20.095660377358495
         }
        ]
       },
       "layer": [
        {
         "encoding": {
          "color": {
           "field": "c",
           "scale": null,
           "type": "nominal"
          },
          "x": {
           "axis": {
            "title": "time"
           },
           "field": "time",
           "sort": null,
           "type": "nominal"
          },
          "y": {
           "axis": {
            "title": "total_bill"
           },
           "field": "total_bill",
           "scale": {
            "zero": false
           },
           "type": "quantitative"
          }
         },
         "mark": {
          "point": true,
          "type": "line"
         },
         "selection": {
          "selector002": {
           "bind": "scales",
           "encodings": [
            "x",
            "y"
           ],
           "mark": {
            "fill": "#333",
            "fillOpacity": 0.125,
            "stroke": "white"
           },
           "on": "[mousedown, window:mouseup] > window:mousemove!",
           "resolve": "global",
           "translate": "[mousedown, window:mouseup] > window:mousemove!",
           "type": "interval",
           "zoom": "wheel!"
          }
         }
        },
        {
         "encoding": {
          "color": {
           "field": "c",
           "scale": null,
           "type": "nominal"
          },
          "x": {
           "axis": null,
           "field": "time",
           "sort": null,
           "type": "nominal"
          },
          "y": {
           "field": "ci0",
           "type": "quantitative"
          },
          "y2": {
           "field": "ci1",
           "type": "quantitative"
          }
         },
         "mark": "rule"
        }
       ]
      },
      "image/png": "[encoded data removed]",
      "text/plain": [
       "<VegaLite 2 object>\n",
       "\n",
       "If you see this message, it means the renderer has not been properly enabled\n",
       "for the frontend that you are using. For more information, see\n",
       "https://altair-viz.github.io/user_guide/troubleshooting.html\n"
      ]
     },
     "metadata": {},
     "output_type": "display_data"
    },
    {
     "data": {
      "image/png": "[encoded data removed]",
      "text/plain": [
       "<Figure size 432x288 with 1 Axes>"
      ]
     },
     "metadata": {},
     "output_type": "display_data"
    }
   ],
   "source": [
    "display(salt.pointplot(x=\"time\", y=\"total_bill\", hue=\"smoker\", data=tips))\n",
    "ax = sns.pointplot(x=\"time\", y=\"total_bill\", hue=\"smoker\", data=tips)"
   ]
  },
  {
   "cell_type": "code",
   "execution_count": 5,
   "metadata": {},
   "outputs": [
    {
     "data": {
      "application/vnd.vegalite.v2+json": {
       "$schema": "https://vega.github.io/schema/vega-lite/v2.4.1.json",
       "config": {
        "view": {
         "height": 300,
         "width": 400
        }
       },
       "data": {
        "values": [
         {
          "c": "rgb(31.0, 119.0, 180.0)",
          "ci0": 14.475130434782606,
          "ci1": 20.815576086956515,
          "smoker": "Yes",
          "time": "Lunch",
          "total_bill": 17.39913043478261
         },
         {
          "c": "rgb(255.0, 127.0, 14.0)",
          "ci0": 14.88415,
          "ci1": 19.46637222222222,
          "smoker": "No",
          "time": "Lunch",
          "total_bill": 17.05088888888889
         },
         {
          "c": "rgb(31.0, 119.0, 180.0)",
          "ci0": 19.55447857142857,
          "ci1": 24.151578571428566,
          "smoker": "Yes",
          "time": "Dinner",
          "total_bill": 21.859428571428573
         },
         {
          "c": "rgb(255.0, 127.0, 14.0)",
          "ci0": 18.476101415094334,
          "ci1": 21.685497641509432,
          "smoker": "No",
          "time": "Dinner",
          "total_bill": 20.095660377358495
         }
        ]
       },
       "layer": [
        {
         "encoding": {
          "color": {
           "field": "c",
           "scale": null,
           "type": "nominal"
          },
          "x": {
           "axis": {
            "title": "time"
           },
           "field": "time",
           "sort": null,
           "type": "nominal"
          },
          "y": {
           "axis": {
            "title": "total_bill"
           },
           "field": "total_bill",
           "scale": {
            "zero": false
           },
           "type": "quantitative"
          }
         },
         "mark": {
          "point": true,
          "type": "line"
         },
         "selection": {
          "selector003": {
           "bind": "scales",
           "encodings": [
            "x",
            "y"
           ],
           "mark": {
            "fill": "#333",
            "fillOpacity": 0.125,
            "stroke": "white"
           },
           "on": "[mousedown, window:mouseup] > window:mousemove!",
           "resolve": "global",
           "translate": "[mousedown, window:mouseup] > window:mousemove!",
           "type": "interval",
           "zoom": "wheel!"
          }
         }
        },
        {
         "encoding": {
          "color": {
           "field": "c",
           "scale": null,
           "type": "nominal"
          },
          "x": {
           "axis": null,
           "field": "time",
           "sort": null,
           "type": "nominal"
          },
          "y": {
           "field": "ci0",
           "type": "quantitative"
          },
          "y2": {
           "field": "ci1",
           "type": "quantitative"
          }
         },
         "mark": "rule"
        }
       ]
      },
      "image/png": "[encoded data removed]",
      "text/plain": [
       "<VegaLite 2 object>\n",
       "\n",
       "If you see this message, it means the renderer has not been properly enabled\n",
       "for the frontend that you are using. For more information, see\n",
       "https://altair-viz.github.io/user_guide/troubleshooting.html\n"
      ]
     },
     "metadata": {},
     "output_type": "display_data"
    },
    {
     "data": {
      "image/png": "[encoded data removed]",
      "text/plain": [
       "<Figure size 432x288 with 1 Axes>"
      ]
     },
     "metadata": {},
     "output_type": "display_data"
    }
   ],
   "source": [
    "display(salt.pointplot(x=\"time\", y=\"total_bill\", hue=\"smoker\", data=tips, dodge=True))\n",
    "ax = sns.pointplot(x=\"time\", y=\"total_bill\", hue=\"smoker\", data=tips, dodge=True)"
   ]
  },
  {
   "cell_type": "code",
   "execution_count": 6,
   "metadata": {},
   "outputs": [
    {
     "data": {
      "application/vnd.vegalite.v2+json": {
       "$schema": "https://vega.github.io/schema/vega-lite/v2.4.1.json",
       "config": {
        "view": {
         "height": 300,
         "width": 400
        }
       },
       "data": {
        "values": [
         {
          "c": "rgb(31.0, 119.0, 180.0)",
          "ci0": 14.705858695652173,
          "ci1": 20.883760869565215,
          "smoker": "Yes",
          "time": "Lunch",
          "total_bill": 17.39913043478261
         },
         {
          "c": "rgb(255.0, 127.0, 14.0)",
          "ci0": 15.01816111111111,
          "ci1": 19.368711111111107,
          "smoker": "No",
          "time": "Lunch",
          "total_bill": 17.05088888888889
         },
         {
          "c": "rgb(31.0, 119.0, 180.0)",
          "ci0": 19.756403571428567,
          "ci1": 23.98726071428571,
          "smoker": "Yes",
          "time": "Dinner",
          "total_bill": 21.859428571428573
         },
         {
          "c": "rgb(255.0, 127.0, 14.0)",
          "ci0": 18.532681603773586,
          "ci1": 21.69257311320755,
          "smoker": "No",
          "time": "Dinner",
          "total_bill": 20.095660377358495
         }
        ]
       },
       "layer": [
        {
         "encoding": {
          "color": {
           "field": "c",
           "scale": null,
           "type": "nominal"
          },
          "x": {
           "axis": {
            "title": "time"
           },
           "field": "time",
           "sort": null,
           "type": "nominal"
          },
          "y": {
           "axis": {
            "title": "total_bill"
           },
           "field": "total_bill",
           "scale": {
            "zero": false
           },
           "type": "quantitative"
          }
         },
         "mark": {
          "point": true,
          "type": "line"
         },
         "selection": {
          "selector004": {
           "bind": "scales",
           "encodings": [
            "x",
            "y"
           ],
           "mark": {
            "fill": "#333",
            "fillOpacity": 0.125,
            "stroke": "white"
           },
           "on": "[mousedown, window:mouseup] > window:mousemove!",
           "resolve": "global",
           "translate": "[mousedown, window:mouseup] > window:mousemove!",
           "type": "interval",
           "zoom": "wheel!"
          }
         }
        },
        {
         "encoding": {
          "color": {
           "field": "c",
           "scale": null,
           "type": "nominal"
          },
          "x": {
           "axis": null,
           "field": "time",
           "sort": null,
           "type": "nominal"
          },
          "y": {
           "field": "ci0",
           "type": "quantitative"
          },
          "y2": {
           "field": "ci1",
           "type": "quantitative"
          }
         },
         "mark": "rule"
        }
       ]
      },
      "image/png": "[encoded data removed]",
      "text/plain": [
       "<VegaLite 2 object>\n",
       "\n",
       "If you see this message, it means the renderer has not been properly enabled\n",
       "for the frontend that you are using. For more information, see\n",
       "https://altair-viz.github.io/user_guide/troubleshooting.html\n"
      ]
     },
     "metadata": {},
     "output_type": "display_data"
    },
    {
     "data": {
      "image/png": "[encoded data removed]",
      "text/plain": [
       "<Figure size 432x288 with 1 Axes>"
      ]
     },
     "metadata": {},
     "output_type": "display_data"
    }
   ],
   "source": [
    "display(salt.pointplot(x=\"time\", y=\"total_bill\", hue=\"smoker\", data=tips, markers=[\"o\", \"x\"], linestyles=[\"-\", \"--\"]))\n",
    "ax = sns.pointplot(x=\"time\", y=\"total_bill\", hue=\"smoker\", data=tips, markers=[\"o\", \"x\"], linestyles=[\"-\", \"--\"])"
   ]
  },
  {
   "cell_type": "code",
   "execution_count": 7,
   "metadata": {},
   "outputs": [
    {
     "data": {
      "application/vnd.vegalite.v2+json": {
       "$schema": "https://vega.github.io/schema/vega-lite/v2.4.1.json",
       "config": {
        "view": {
         "height": 300,
         "width": 400
        }
       },
       "data": {
        "values": [
         {
          "c": "rgb(31.0, 119.0, 180.0)",
          "ci0": 2.4686854838709675,
          "ci1": 3.0790483870967735,
          "day": "Thur",
          "tip": 2.771451612903225
         },
         {
          "c": "rgb(31.0, 119.0, 180.0)",
          "ci0": 2.3136184210526314,
          "ci1": 3.204828947368421,
          "day": "Fri",
          "tip": 2.7347368421052627
         },
         {
          "c": "rgb(31.0, 119.0, 180.0)",
          "ci0": 2.704382183908046,
          "ci1": 3.3392557471264364,
          "day": "Sat",
          "tip": 2.993103448275862
         },
         {
          "c": "rgb(31.0, 119.0, 180.0)",
          "ci0": 2.983894736842106,
          "ci1": 3.5378289473684204,
          "day": "Sun",
          "tip": 3.2551315789473687
         }
        ]
       },
       "layer": [
        {
         "encoding": {
          "color": {
           "field": "c",
           "scale": null,
           "type": "nominal"
          },
          "x": {
           "axis": {
            "title": "tip"
           },
           "field": "tip",
           "scale": {
            "zero": false
           },
           "type": "quantitative"
          },
          "y": {
           "axis": {
            "title": "day"
           },
           "field": "day",
           "sort": null,
           "type": "nominal"
          }
         },
         "mark": {
          "point": true,
          "type": "line"
         },
         "selection": {
          "selector005": {
           "bind": "scales",
           "encodings": [
            "x",
            "y"
           ],
           "mark": {
            "fill": "#333",
            "fillOpacity": 0.125,
            "stroke": "white"
           },
           "on": "[mousedown, window:mouseup] > window:mousemove!",
           "resolve": "global",
           "translate": "[mousedown, window:mouseup] > window:mousemove!",
           "type": "interval",
           "zoom": "wheel!"
          }
         }
        },
        {
         "encoding": {
          "color": {
           "field": "c",
           "scale": null,
           "type": "nominal"
          },
          "x": {
           "field": "ci0",
           "type": "quantitative"
          },
          "x2": {
           "field": "ci1",
           "type": "quantitative"
          },
          "y": {
           "axis": null,
           "field": "day",
           "sort": null,
           "type": "nominal"
          }
         },
         "mark": "rule"
        }
       ]
      },
      "image/png": "[encoded data removed]",
      "text/plain": [
       "<VegaLite 2 object>\n",
       "\n",
       "If you see this message, it means the renderer has not been properly enabled\n",
       "for the frontend that you are using. For more information, see\n",
       "https://altair-viz.github.io/user_guide/troubleshooting.html\n"
      ]
     },
     "metadata": {},
     "output_type": "display_data"
    },
    {
     "data": {
      "image/png": "[encoded data removed]",
      "text/plain": [
       "<Figure size 432x288 with 1 Axes>"
      ]
     },
     "metadata": {},
     "output_type": "display_data"
    }
   ],
   "source": [
    "display(salt.pointplot(x=\"tip\", y=\"day\", data=tips))\n",
    "ax = sns.pointplot(x=\"tip\", y=\"day\", data=tips)"
   ]
  },
  {
   "cell_type": "code",
   "execution_count": 8,
   "metadata": {},
   "outputs": [
    {
     "data": {
      "application/vnd.vegalite.v2+json": {
       "$schema": "https://vega.github.io/schema/vega-lite/v2.4.1.json",
       "config": {
        "view": {
         "height": 300,
         "width": 400
        }
       },
       "data": {
        "values": [
         {
          "c": "rgb(31.0, 119.0, 180.0)",
          "ci0": 2.4591733870967745,
          "ci1": 3.098741935483871,
          "day": "Thur",
          "tip": 2.771451612903225
         },
         {
          "c": "rgb(31.0, 119.0, 180.0)",
          "ci0": 2.299973684210527,
          "ci1": 3.1812894736842106,
          "day": "Fri",
          "tip": 2.7347368421052627
         },
         {
          "c": "rgb(31.0, 119.0, 180.0)",
          "ci0": 2.6456896551724136,
          "ci1": 3.3426005747126446,
          "day": "Sat",
          "tip": 2.993103448275862
         },
         {
          "c": "rgb(31.0, 119.0, 180.0)",
          "ci0": 2.977720394736842,
          "ci1": 3.548292763157894,
          "day": "Sun",
          "tip": 3.2551315789473687
         }
        ]
       },
       "layer": [
        {
         "encoding": {
          "color": {
           "field": "c",
           "scale": null,
           "type": "nominal"
          },
          "x": {
           "axis": {
            "title": "tip"
           },
           "field": "tip",
           "scale": {
            "zero": false
           },
           "type": "quantitative"
          },
          "y": {
           "axis": {
            "title": "day"
           },
           "field": "day",
           "sort": null,
           "type": "nominal"
          }
         },
         "mark": {
          "point": true,
          "type": "line"
         },
         "selection": {
          "selector006": {
           "bind": "scales",
           "encodings": [
            "x",
            "y"
           ],
           "mark": {
            "fill": "#333",
            "fillOpacity": 0.125,
            "stroke": "white"
           },
           "on": "[mousedown, window:mouseup] > window:mousemove!",
           "resolve": "global",
           "translate": "[mousedown, window:mouseup] > window:mousemove!",
           "type": "interval",
           "zoom": "wheel!"
          }
         }
        },
        {
         "encoding": {
          "color": {
           "field": "c",
           "scale": null,
           "type": "nominal"
          },
          "x": {
           "field": "ci0",
           "type": "quantitative"
          },
          "x2": {
           "field": "ci1",
           "type": "quantitative"
          },
          "y": {
           "axis": null,
           "field": "day",
           "sort": null,
           "type": "nominal"
          }
         },
         "mark": "rule"
        }
       ]
      },
      "image/png": "[encoded data removed]",
      "text/plain": [
       "<VegaLite 2 object>\n",
       "\n",
       "If you see this message, it means the renderer has not been properly enabled\n",
       "for the frontend that you are using. For more information, see\n",
       "https://altair-viz.github.io/user_guide/troubleshooting.html\n"
      ]
     },
     "metadata": {},
     "output_type": "display_data"
    },
    {
     "data": {
      "image/png": "[encoded data removed]",
      "text/plain": [
       "<Figure size 432x288 with 1 Axes>"
      ]
     },
     "metadata": {},
     "output_type": "display_data"
    }
   ],
   "source": [
    "display(salt.pointplot(x=\"tip\", y=\"day\", data=tips, join=False))\n",
    "ax = sns.pointplot(x=\"tip\", y=\"day\", data=tips, join=False)"
   ]
  },
  {
   "cell_type": "code",
   "execution_count": 9,
   "metadata": {},
   "outputs": [
    {
     "data": {
      "application/vnd.vegalite.v2+json": {
       "$schema": "https://vega.github.io/schema/vega-lite/v2.4.1.json",
       "config": {
        "view": {
         "height": 300,
         "width": 400
        }
       },
       "data": {
        "values": [
         {
          "c": "rgb(187.0, 63.0, 63.0)",
          "ci0": 15.478871323529411,
          "ci1": 19.159426470588233,
          "time": "Lunch",
          "total_bill": 17.168676470588235
         },
         {
          "c": "rgb(187.0, 63.0, 63.0)",
          "ci0": 19.49760511363636,
          "ci1": 22.143238636363638,
          "time": "Dinner",
          "total_bill": 20.79715909090909
         }
        ]
       },
       "layer": [
        {
         "encoding": {
          "color": {
           "field": "c",
           "scale": null,
           "type": "nominal"
          },
          "x": {
           "axis": {
            "title": "time"
           },
           "field": "time",
           "sort": null,
           "type": "nominal"
          },
          "y": {
           "axis": {
            "title": "total_bill"
           },
           "field": "total_bill",
           "scale": {
            "zero": false
           },
           "type": "quantitative"
          }
         },
         "mark": {
          "point": true,
          "type": "line"
         },
         "selection": {
          "selector007": {
           "bind": "scales",
           "encodings": [
            "x",
            "y"
           ],
           "mark": {
            "fill": "#333",
            "fillOpacity": 0.125,
            "stroke": "white"
           },
           "on": "[mousedown, window:mouseup] > window:mousemove!",
           "resolve": "global",
           "translate": "[mousedown, window:mouseup] > window:mousemove!",
           "type": "interval",
           "zoom": "wheel!"
          }
         }
        },
        {
         "encoding": {
          "color": {
           "field": "c",
           "scale": null,
           "type": "nominal"
          },
          "x": {
           "axis": null,
           "field": "time",
           "sort": null,
           "type": "nominal"
          },
          "y": {
           "field": "ci0",
           "type": "quantitative"
          },
          "y2": {
           "field": "ci1",
           "type": "quantitative"
          }
         },
         "mark": "rule"
        }
       ]
      },
      "image/png": "[encoded data removed]",
      "text/plain": [
       "<VegaLite 2 object>\n",
       "\n",
       "If you see this message, it means the renderer has not been properly enabled\n",
       "for the frontend that you are using. For more information, see\n",
       "https://altair-viz.github.io/user_guide/troubleshooting.html\n"
      ]
     },
     "metadata": {},
     "output_type": "display_data"
    },
    {
     "data": {
      "image/png": "[encoded data removed]",
      "text/plain": [
       "<Figure size 432x288 with 1 Axes>"
      ]
     },
     "metadata": {},
     "output_type": "display_data"
    }
   ],
   "source": [
    "display(salt.pointplot(\"time\", y=\"total_bill\", data=tips, color=\"#bb3f3f\"))\n",
    "ax = sns.pointplot(\"time\", y=\"total_bill\", data=tips, color=\"#bb3f3f\")"
   ]
  },
  {
   "cell_type": "code",
   "execution_count": 10,
   "metadata": {},
   "outputs": [
    {
     "data": {
      "application/vnd.vegalite.v2+json": {
       "$schema": "https://vega.github.io/schema/vega-lite/v2.4.1.json",
       "config": {
        "view": {
         "height": 300,
         "width": 400
        }
       },
       "data": {
        "values": [
         {
          "c": "rgb(102.0, 194.0, 165.0)",
          "ci0": 14.506510869565217,
          "ci1": 20.574010869565218,
          "smoker": "Yes",
          "time": "Lunch",
          "total_bill": 17.39913043478261
         },
         {
          "c": "rgb(252.0, 141.0, 98.0)",
          "ci0": 14.964816666666666,
          "ci1": 19.470583333333334,
          "smoker": "No",
          "time": "Lunch",
          "total_bill": 17.05088888888889
         },
         {
          "c": "rgb(102.0, 194.0, 165.0)",
          "ci0": 19.59433214285714,
          "ci1": 24.32572142857143,
          "smoker": "Yes",
          "time": "Dinner",
          "total_bill": 21.859428571428573
         },
         {
          "c": "rgb(252.0, 141.0, 98.0)",
          "ci0": 18.583311320754717,
          "ci1": 21.820856132075473,
          "smoker": "No",
          "time": "Dinner",
          "total_bill": 20.095660377358495
         }
        ]
       },
       "layer": [
        {
         "encoding": {
          "color": {
           "field": "c",
           "scale": null,
           "type": "nominal"
          },
          "x": {
           "axis": {
            "title": "time"
           },
           "field": "time",
           "sort": null,
           "type": "nominal"
          },
          "y": {
           "axis": {
            "title": "total_bill"
           },
           "field": "total_bill",
           "scale": {
            "zero": false
           },
           "type": "quantitative"
          }
         },
         "mark": {
          "point": true,
          "type": "line"
         },
         "selection": {
          "selector008": {
           "bind": "scales",
           "encodings": [
            "x",
            "y"
           ],
           "mark": {
            "fill": "#333",
            "fillOpacity": 0.125,
            "stroke": "white"
           },
           "on": "[mousedown, window:mouseup] > window:mousemove!",
           "resolve": "global",
           "translate": "[mousedown, window:mouseup] > window:mousemove!",
           "type": "interval",
           "zoom": "wheel!"
          }
         }
        },
        {
         "encoding": {
          "color": {
           "field": "c",
           "scale": null,
           "type": "nominal"
          },
          "x": {
           "axis": null,
           "field": "time",
           "sort": null,
           "type": "nominal"
          },
          "y": {
           "field": "ci0",
           "type": "quantitative"
          },
          "y2": {
           "field": "ci1",
           "type": "quantitative"
          }
         },
         "mark": "rule"
        }
       ]
      },
      "image/png": "[encoded data removed]",
      "text/plain": [
       "<VegaLite 2 object>\n",
       "\n",
       "If you see this message, it means the renderer has not been properly enabled\n",
       "for the frontend that you are using. For more information, see\n",
       "https://altair-viz.github.io/user_guide/troubleshooting.html\n"
      ]
     },
     "metadata": {},
     "output_type": "display_data"
    },
    {
     "data": {
      "image/png": "[encoded data removed]",
      "text/plain": [
       "<Figure size 432x288 with 1 Axes>"
      ]
     },
     "metadata": {},
     "output_type": "display_data"
    }
   ],
   "source": [
    "display(salt.pointplot(x=\"time\", y=\"total_bill\", hue=\"smoker\", data=tips, palette=\"Set2\"))\n",
    "ax = sns.pointplot(x=\"time\", y=\"total_bill\", hue=\"smoker\", data=tips, palette=\"Set2\")"
   ]
  },
  {
   "cell_type": "code",
   "execution_count": 11,
   "metadata": {},
   "outputs": [
    {
     "data": {
      "application/vnd.vegalite.v2+json": {
       "$schema": "https://vega.github.io/schema/vega-lite/v2.4.1.json",
       "config": {
        "view": {
         "height": 300,
         "width": 400
        }
       },
       "data": {
        "values": [
         {
          "c": "rgb(31.0, 119.0, 180.0)",
          "ci0": 2.8930838068181823,
          "ci1": 3.298302556818182,
          "time": "Dinner",
          "tip": 3.102670454545454
         },
         {
          "c": "rgb(31.0, 119.0, 180.0)",
          "ci0": 2.4552352941176476,
          "ci1": 3.017966911764706,
          "time": "Lunch",
          "tip": 2.728088235294118
         }
        ]
       },
       "layer": [
        {
         "encoding": {
          "color": {
           "field": "c",
           "scale": null,
           "type": "nominal"
          },
          "x": {
           "axis": {
            "title": "time"
           },
           "field": "time",
           "sort": null,
           "type": "nominal"
          },
          "y": {
           "axis": {
            "title": "tip"
           },
           "field": "tip",
           "scale": {
            "zero": false
           },
           "type": "quantitative"
          }
         },
         "mark": {
          "point": true,
          "type": "line"
         },
         "selection": {
          "selector009": {
           "bind": "scales",
           "encodings": [
            "x",
            "y"
           ],
           "mark": {
            "fill": "#333",
            "fillOpacity": 0.125,
            "stroke": "white"
           },
           "on": "[mousedown, window:mouseup] > window:mousemove!",
           "resolve": "global",
           "translate": "[mousedown, window:mouseup] > window:mousemove!",
           "type": "interval",
           "zoom": "wheel!"
          }
         }
        },
        {
         "encoding": {
          "color": {
           "field": "c",
           "scale": null,
           "type": "nominal"
          },
          "x": {
           "axis": null,
           "field": "time",
           "sort": null,
           "type": "nominal"
          },
          "y": {
           "field": "ci0",
           "type": "quantitative"
          },
          "y2": {
           "field": "ci1",
           "type": "quantitative"
          }
         },
         "mark": "rule"
        }
       ]
      },
      "image/png": "[encoded data removed]",
      "text/plain": [
       "<VegaLite 2 object>\n",
       "\n",
       "If you see this message, it means the renderer has not been properly enabled\n",
       "for the frontend that you are using. For more information, see\n",
       "https://altair-viz.github.io/user_guide/troubleshooting.html\n"
      ]
     },
     "metadata": {},
     "output_type": "display_data"
    },
    {
     "data": {
      "image/png": "[encoded data removed]",
      "text/plain": [
       "<Figure size 432x288 with 1 Axes>"
      ]
     },
     "metadata": {},
     "output_type": "display_data"
    }
   ],
   "source": [
    "display(salt.pointplot(x=\"time\", y=\"tip\", data=tips, order=[\"Dinner\", \"Lunch\"]))\n",
    "ax = sns.pointplot(x=\"time\", y=\"tip\", data=tips, order=[\"Dinner\", \"Lunch\"])"
   ]
  },
  {
   "cell_type": "code",
   "execution_count": 12,
   "metadata": {},
   "outputs": [
    {
     "data": {
      "application/vnd.vegalite.v2+json": {
       "$schema": "https://vega.github.io/schema/vega-lite/v2.4.1.json",
       "config": {
        "view": {
         "height": 300,
         "width": 400
        }
       },
       "data": {
        "values": [
         {
          "c": "rgb(31.0, 119.0, 180.0)",
          "ci0": 2,
          "ci1": 2.835,
          "day": "Thur",
          "tip": 2.3049999999999997
         },
         {
          "c": "rgb(31.0, 119.0, 180.0)",
          "ci0": 2,
          "ci1": 3.25,
          "day": "Fri",
          "tip": 3
         },
         {
          "c": "rgb(31.0, 119.0, 180.0)",
          "ci0": 2.31,
          "ci1": 3,
          "day": "Sat",
          "tip": 2.75
         },
         {
          "c": "rgb(31.0, 119.0, 180.0)",
          "ci0": 2.87,
          "ci1": 3.5,
          "day": "Sun",
          "tip": 3.1500000000000004
         }
        ]
       },
       "layer": [
        {
         "encoding": {
          "color": {
           "field": "c",
           "scale": null,
           "type": "nominal"
          },
          "x": {
           "axis": {
            "title": "day"
           },
           "field": "day",
           "sort": null,
           "type": "nominal"
          },
          "y": {
           "axis": {
            "title": "tip"
           },
           "field": "tip",
           "scale": {
            "zero": false
           },
           "type": "quantitative"
          }
         },
         "mark": {
          "point": true,
          "type": "line"
         },
         "selection": {
          "selector010": {
           "bind": "scales",
           "encodings": [
            "x",
            "y"
           ],
           "mark": {
            "fill": "#333",
            "fillOpacity": 0.125,
            "stroke": "white"
           },
           "on": "[mousedown, window:mouseup] > window:mousemove!",
           "resolve": "global",
           "translate": "[mousedown, window:mouseup] > window:mousemove!",
           "type": "interval",
           "zoom": "wheel!"
          }
         }
        },
        {
         "encoding": {
          "color": {
           "field": "c",
           "scale": null,
           "type": "nominal"
          },
          "x": {
           "axis": null,
           "field": "day",
           "sort": null,
           "type": "nominal"
          },
          "y": {
           "field": "ci0",
           "type": "quantitative"
          },
          "y2": {
           "field": "ci1",
           "type": "quantitative"
          }
         },
         "mark": "rule"
        }
       ]
      },
      "image/png": "[encoded data removed]",
      "text/plain": [
       "<VegaLite 2 object>\n",
       "\n",
       "If you see this message, it means the renderer has not been properly enabled\n",
       "for the frontend that you are using. For more information, see\n",
       "https://altair-viz.github.io/user_guide/troubleshooting.html\n"
      ]
     },
     "metadata": {},
     "output_type": "display_data"
    },
    {
     "data": {
      "image/png": "[encoded data removed]",
      "text/plain": [
       "<Figure size 432x288 with 1 Axes>"
      ]
     },
     "metadata": {},
     "output_type": "display_data"
    }
   ],
   "source": [
    "from numpy import median\n",
    "display(salt.pointplot(x=\"day\", y=\"tip\", data=tips, estimator=median))\n",
    "ax = sns.pointplot(x=\"day\", y=\"tip\", data=tips, estimator=median)"
   ]
  },
  {
   "cell_type": "code",
   "execution_count": 13,
   "metadata": {},
   "outputs": [
    {
     "data": {
      "application/vnd.vegalite.v2+json": {
       "$schema": "https://vega.github.io/schema/vega-lite/v2.4.1.json",
       "config": {
        "view": {
         "height": 300,
         "width": 400
        }
       },
       "data": {
        "values": [
         {
          "c": "rgb(31.0, 119.0, 180.0)",
          "ci0": 2.615941935483871,
          "ci1": 2.9248387096774193,
          "day": "Thur",
          "tip": 2.771451612903225
         },
         {
          "c": "rgb(31.0, 119.0, 180.0)",
          "ci0": 2.5138736842105263,
          "ci1": 2.971663157894737,
          "day": "Fri",
          "tip": 2.7347368421052627
         },
         {
          "c": "rgb(31.0, 119.0, 180.0)",
          "ci0": 2.8129379310344826,
          "ci1": 3.159498850574713,
          "day": "Sat",
          "tip": 2.993103448275862
         },
         {
          "c": "rgb(31.0, 119.0, 180.0)",
          "ci0": 3.120878947368421,
          "ci1": 3.3980000000000006,
          "day": "Sun",
          "tip": 3.2551315789473687
         }
        ]
       },
       "layer": [
        {
         "encoding": {
          "color": {
           "field": "c",
           "scale": null,
           "type": "nominal"
          },
          "x": {
           "axis": {
            "title": "day"
           },
           "field": "day",
           "sort": null,
           "type": "nominal"
          },
          "y": {
           "axis": {
            "title": "tip"
           },
           "field": "tip",
           "scale": {
            "zero": false
           },
           "type": "quantitative"
          }
         },
         "mark": {
          "point": true,
          "type": "line"
         },
         "selection": {
          "selector011": {
           "bind": "scales",
           "encodings": [
            "x",
            "y"
           ],
           "mark": {
            "fill": "#333",
            "fillOpacity": 0.125,
            "stroke": "white"
           },
           "on": "[mousedown, window:mouseup] > window:mousemove!",
           "resolve": "global",
           "translate": "[mousedown, window:mouseup] > window:mousemove!",
           "type": "interval",
           "zoom": "wheel!"
          }
         }
        },
        {
         "encoding": {
          "color": {
           "field": "c",
           "scale": null,
           "type": "nominal"
          },
          "x": {
           "axis": null,
           "field": "day",
           "sort": null,
           "type": "nominal"
          },
          "y": {
           "field": "ci0",
           "type": "quantitative"
          },
          "y2": {
           "field": "ci1",
           "type": "quantitative"
          }
         },
         "mark": "rule"
        }
       ]
      },
      "image/png": "[encoded data removed]",
      "text/plain": [
       "<VegaLite 2 object>\n",
       "\n",
       "If you see this message, it means the renderer has not been properly enabled\n",
       "for the frontend that you are using. For more information, see\n",
       "https://altair-viz.github.io/user_guide/troubleshooting.html\n"
      ]
     },
     "metadata": {},
     "output_type": "display_data"
    },
    {
     "data": {
      "image/png": "[encoded data removed]",
      "text/plain": [
       "<Figure size 432x288 with 1 Axes>"
      ]
     },
     "metadata": {},
     "output_type": "display_data"
    }
   ],
   "source": [
    "display(salt.pointplot(x=\"day\", y=\"tip\", data=tips, ci=68))\n",
    "ax = sns.pointplot(x=\"day\", y=\"tip\", data=tips, ci=68)"
   ]
  },
  {
   "cell_type": "code",
   "execution_count": 14,
   "metadata": {},
   "outputs": [
    {
     "data": {
      "application/vnd.vegalite.v2+json": {
       "$schema": "https://vega.github.io/schema/vega-lite/v2.4.1.json",
       "config": {
        "view": {
         "height": 300,
         "width": 400
        }
       },
       "data": {
        "values": [
         {
          "c": "rgb(31.0, 119.0, 180.0)",
          "ci0": 1.5412708672347164,
          "ci1": 4.001632358571733,
          "day": "Thur",
          "tip": 2.771451612903225
         },
         {
          "c": "rgb(31.0, 119.0, 180.0)",
          "ci0": 1.7423533825756703,
          "ci1": 3.727120301634855,
          "day": "Fri",
          "tip": 2.7347368421052627
         },
         {
          "c": "rgb(31.0, 119.0, 180.0)",
          "ci0": 1.3714898696160578,
          "ci1": 4.614717026935666,
          "day": "Sat",
          "tip": 2.993103448275862
         },
         {
          "c": "rgb(31.0, 119.0, 180.0)",
          "ci0": 2.0284024090116444,
          "ci1": 4.4818607488830935,
          "day": "Sun",
          "tip": 3.2551315789473687
         }
        ]
       },
       "layer": [
        {
         "encoding": {
          "color": {
           "field": "c",
           "scale": null,
           "type": "nominal"
          },
          "x": {
           "axis": {
            "title": "day"
           },
           "field": "day",
           "sort": null,
           "type": "nominal"
          },
          "y": {
           "axis": {
            "title": "tip"
           },
           "field": "tip",
           "scale": {
            "zero": false
           },
           "type": "quantitative"
          }
         },
         "mark": {
          "point": true,
          "type": "line"
         },
         "selection": {
          "selector012": {
           "bind": "scales",
           "encodings": [
            "x",
            "y"
           ],
           "mark": {
            "fill": "#333",
            "fillOpacity": 0.125,
            "stroke": "white"
           },
           "on": "[mousedown, window:mouseup] > window:mousemove!",
           "resolve": "global",
           "translate": "[mousedown, window:mouseup] > window:mousemove!",
           "type": "interval",
           "zoom": "wheel!"
          }
         }
        },
        {
         "encoding": {
          "color": {
           "field": "c",
           "scale": null,
           "type": "nominal"
          },
          "x": {
           "axis": null,
           "field": "day",
           "sort": null,
           "type": "nominal"
          },
          "y": {
           "field": "ci0",
           "type": "quantitative"
          },
          "y2": {
           "field": "ci1",
           "type": "quantitative"
          }
         },
         "mark": "rule"
        }
       ]
      },
      "image/png": "[encoded data removed]",
      "text/plain": [
       "<VegaLite 2 object>\n",
       "\n",
       "If you see this message, it means the renderer has not been properly enabled\n",
       "for the frontend that you are using. For more information, see\n",
       "https://altair-viz.github.io/user_guide/troubleshooting.html\n"
      ]
     },
     "metadata": {},
     "output_type": "display_data"
    },
    {
     "data": {
      "image/png": "[encoded data removed]",
      "text/plain": [
       "<Figure size 432x288 with 1 Axes>"
      ]
     },
     "metadata": {},
     "output_type": "display_data"
    }
   ],
   "source": [
    "display(salt.pointplot(x=\"day\", y=\"tip\", data=tips, ci=\"sd\"))\n",
    "ax = sns.pointplot(x=\"day\", y=\"tip\", data=tips, ci=\"sd\")"
   ]
  },
  {
   "cell_type": "code",
   "execution_count": 15,
   "metadata": {},
   "outputs": [
    {
     "data": {
      "application/vnd.vegalite.v2+json": {
       "$schema": "https://vega.github.io/schema/vega-lite/v2.4.1.json",
       "config": {
        "view": {
         "height": 300,
         "width": 400
        }
       },
       "data": {
        "values": [
         {
          "c": "rgb(31.0, 119.0, 180.0)",
          "ci0": 2.458483870967742,
          "ci1": 3.10053629032258,
          "day": "Thur",
          "tip": 2.771451612903225
         },
         {
          "c": "rgb(31.0, 119.0, 180.0)",
          "ci0": 2.287868421052632,
          "ci1": 3.17025,
          "day": "Fri",
          "tip": 2.7347368421052627
         },
         {
          "c": "rgb(31.0, 119.0, 180.0)",
          "ci0": 2.6841350574712646,
          "ci1": 3.3778160919540223,
          "day": "Sat",
          "tip": 2.993103448275862
         },
         {
          "c": "rgb(31.0, 119.0, 180.0)",
          "ci0": 2.9879572368421052,
          "ci1": 3.530828947368421,
          "day": "Sun",
          "tip": 3.2551315789473687
         }
        ]
       },
       "layer": [
        {
         "encoding": {
          "color": {
           "field": "c",
           "scale": null,
           "type": "nominal"
          },
          "x": {
           "axis": {
            "title": "day"
           },
           "field": "day",
           "sort": null,
           "type": "nominal"
          },
          "y": {
           "axis": {
            "title": "tip"
           },
           "field": "tip",
           "scale": {
            "zero": false
           },
           "type": "quantitative"
          }
         },
         "mark": {
          "point": true,
          "type": "line"
         },
         "selection": {
          "selector013": {
           "bind": "scales",
           "encodings": [
            "x",
            "y"
           ],
           "mark": {
            "fill": "#333",
            "fillOpacity": 0.125,
            "stroke": "white"
           },
           "on": "[mousedown, window:mouseup] > window:mousemove!",
           "resolve": "global",
           "translate": "[mousedown, window:mouseup] > window:mousemove!",
           "type": "interval",
           "zoom": "wheel!"
          }
         }
        },
        {
         "encoding": {
          "color": {
           "field": "c",
           "scale": null,
           "type": "nominal"
          },
          "x": {
           "axis": null,
           "field": "day",
           "sort": null,
           "type": "nominal"
          },
          "y": {
           "field": "ci0",
           "type": "quantitative"
          },
          "y2": {
           "field": "ci1",
           "type": "quantitative"
          }
         },
         "mark": "rule"
        }
       ]
      },
      "image/png": "[encoded data removed]",
      "text/plain": [
       "<VegaLite 2 object>\n",
       "\n",
       "If you see this message, it means the renderer has not been properly enabled\n",
       "for the frontend that you are using. For more information, see\n",
       "https://altair-viz.github.io/user_guide/troubleshooting.html\n"
      ]
     },
     "metadata": {},
     "output_type": "display_data"
    },
    {
     "data": {
      "image/png": "[encoded data removed]",
      "text/plain": [
       "<Figure size 432x288 with 1 Axes>"
      ]
     },
     "metadata": {},
     "output_type": "display_data"
    }
   ],
   "source": [
    "display(salt.pointplot(x=\"day\", y=\"tip\", data=tips, capsize=.2))\n",
    "ax = sns.pointplot(x=\"day\", y=\"tip\", data=tips, capsize=.2)"
   ]
  }
 ],
 "metadata": {
  "kernelspec": {
   "display_name": "Python 3",
   "language": "python",
   "name": "python3"
  },
  "language_info": {
   "codemirror_mode": {
    "name": "ipython",
    "version": 3
   },
   "file_extension": ".py",
   "mimetype": "text/x-python",
   "name": "python",
   "nbconvert_exporter": "python",
   "pygments_lexer": "ipython3",
   "version": "3.6.4"
  }
 },
 "nbformat": 4,
 "nbformat_minor": 2
}
