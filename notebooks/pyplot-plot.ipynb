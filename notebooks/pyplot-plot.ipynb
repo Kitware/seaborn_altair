{
 "cells": [
  {
   "cell_type": "markdown",
   "metadata": {},
   "source": [
    "# seaborn_altair.pyplot.plot"
   ]
  },
  {
   "cell_type": "code",
   "execution_count": 1,
   "metadata": {},
   "outputs": [],
   "source": [
    "import seaborn as sns\n",
    "import seaborn_altair.pyplot as palt\n",
    "attend = sns.load_dataset(\"attention\")"
   ]
  },
  {
   "cell_type": "code",
   "execution_count": 2,
   "metadata": {},
   "outputs": [
    {
     "data": {
      "application/vnd.vegalite.v2+json": {
       "$schema": "https://vega.github.io/schema/vega-lite/v2.4.1.json",
       "config": {
        "range": {
         "category": [
          "rgba(31.0,119.0,180.0,1)",
          "rgba(255.0,127.0,14.0,1)",
          "rgba(44.0,160.0,44.0,1)",
          "rgba(214.0,39.0,40.0,1)",
          "rgba(148.0,103.0,189.0,1)",
          "rgba(140.0,86.0,75.0,1)",
          "rgba(227.0,119.0,194.0,1)",
          "rgba(127.0,127.0,127.0,1)",
          "rgba(188.0,189.0,34.0,1)",
          "rgba(23.0,190.0,207.0,1)"
         ]
        },
        "view": {
         "height": 300,
         "width": 400
        }
       },
       "data": {
        "values": [
         {
          "Unnamed: 0": 0,
          "attention": "divided",
          "score": 2,
          "solutions": 1,
          "subject": 1
         },
         {
          "Unnamed: 0": 20,
          "attention": "divided",
          "score": 4,
          "solutions": 2,
          "subject": 1
         },
         {
          "Unnamed: 0": 40,
          "attention": "divided",
          "score": 7,
          "solutions": 3,
          "subject": 1
         }
        ]
       },
       "encoding": {
        "color": {
         "value": "rgba(0.0,128.0,0.0,1.0)"
        },
        "x": {
         "field": "solutions",
         "type": "quantitative"
        },
        "y": {
         "field": "score",
         "type": "quantitative"
        }
       },
       "mark": "line",
       "selection": {
        "selector001": {
         "bind": "scales",
         "encodings": [
          "x",
          "y"
         ],
         "mark": {
          "fill": "#333",
          "fillOpacity": 0.125,
          "stroke": "white"
         },
         "on": "[mousedown, window:mouseup] > window:mousemove!",
         "resolve": "global",
         "translate": "[mousedown, window:mouseup] > window:mousemove!",
         "type": "interval",
         "zoom": "wheel!"
        }
       }
      },
      "image/png": "[encoded data removed]",
      "text/plain": [
       "<VegaLite 2 object>\n",
       "\n",
       "If you see this message, it means the renderer has not been properly enabled\n",
       "for the frontend that you are using. For more information, see\n",
       "https://altair-viz.github.io/user_guide/troubleshooting.html\n"
      ]
     },
     "execution_count": 2,
     "metadata": {},
     "output_type": "execute_result"
    }
   ],
   "source": [
    "palt.plot('solutions', 'score', color=\"green\", data=attend[attend['subject'] == 1]).interactive()"
   ]
  },
  {
   "cell_type": "code",
   "execution_count": null,
   "metadata": {},
   "outputs": [],
   "source": []
  }
 ],
 "metadata": {
  "kernelspec": {
   "display_name": "Python 3",
   "language": "python",
   "name": "python3"
  },
  "language_info": {
   "codemirror_mode": {
    "name": "ipython",
    "version": 3
   },
   "file_extension": ".py",
   "mimetype": "text/x-python",
   "name": "python",
   "nbconvert_exporter": "python",
   "pygments_lexer": "ipython3",
   "version": "3.6.4"
  }
 },
 "nbformat": 4,
 "nbformat_minor": 2
}
