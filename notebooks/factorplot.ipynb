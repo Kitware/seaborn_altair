{
 "cells": [
  {
   "cell_type": "markdown",
   "metadata": {},
   "source": [
    "# seaborn_altair.factorplot"
   ]
  },
  {
   "cell_type": "code",
   "execution_count": 1,
   "metadata": {},
   "outputs": [],
   "source": [
    "import numpy as np\n",
    "import seaborn as sns\n",
    "import seaborn_altair as salt\n",
    "exercise = sns.load_dataset(\"exercise\")"
   ]
  },
  {
   "cell_type": "code",
   "execution_count": 2,
   "metadata": {},
   "outputs": [
    {
     "data": {
      "application/vnd.vegalite.v2+json": {
       "$schema": "https://vega.github.io/schema/vega-lite/v2.4.1.json",
       "config": {
        "range": {
         "category": [
          "rgba(49.62499999999999,115.62499999999996,161.37500000000003,1)",
          "rgba(224.87499999999997,128.875,44.12500000000004,1)",
          "rgba(58.49999999999999,145.50000000000003,58.49999999999999,1)",
          "rgba(192.125,60.87500000000001,61.62499999999999,1)",
          "rgba(147.49999999999994,113.74999999999999,178.25,1)",
          "rgba(131.875,91.37500000000001,83.12500000000001,1)",
          "rgba(213.50000000000003,132.49999999999997,188.74999999999994,1)",
          "rgba(127.0,127.0,127.0,1)",
          "rgba(168.87500000000003,169.625,53.37500000000001,1)",
          "rgba(45.99999999999998,171.25,184.00000000000003,1)"
         ]
        },
        "view": {
         "height": 300,
         "width": 400
        }
       },
       "data": {
        "values": [
         {
          "Unnamed: 0": 0,
          "diet": "low fat",
          "id": 1,
          "kind": "rest",
          "pulse": 85,
          "time": "1 min"
         },
         {
          "Unnamed: 0": 1,
          "diet": "low fat",
          "id": 1,
          "kind": "rest",
          "pulse": 85,
          "time": "15 min"
         },
         {
          "Unnamed: 0": 2,
          "diet": "low fat",
          "id": 1,
          "kind": "rest",
          "pulse": 88,
          "time": "30 min"
         },
         {
          "Unnamed: 0": 3,
          "diet": "low fat",
          "id": 2,
          "kind": "rest",
          "pulse": 90,
          "time": "1 min"
         },
         {
          "Unnamed: 0": 4,
          "diet": "low fat",
          "id": 2,
          "kind": "rest",
          "pulse": 92,
          "time": "15 min"
         },
         {
          "Unnamed: 0": 5,
          "diet": "low fat",
          "id": 2,
          "kind": "rest",
          "pulse": 93,
          "time": "30 min"
         },
         {
          "Unnamed: 0": 6,
          "diet": "low fat",
          "id": 3,
          "kind": "rest",
          "pulse": 97,
          "time": "1 min"
         },
         {
          "Unnamed: 0": 7,
          "diet": "low fat",
          "id": 3,
          "kind": "rest",
          "pulse": 97,
          "time": "15 min"
         },
         {
          "Unnamed: 0": 8,
          "diet": "low fat",
          "id": 3,
          "kind": "rest",
          "pulse": 94,
          "time": "30 min"
         },
         {
          "Unnamed: 0": 9,
          "diet": "low fat",
          "id": 4,
          "kind": "rest",
          "pulse": 80,
          "time": "1 min"
         },
         {
          "Unnamed: 0": 10,
          "diet": "low fat",
          "id": 4,
          "kind": "rest",
          "pulse": 82,
          "time": "15 min"
         },
         {
          "Unnamed: 0": 11,
          "diet": "low fat",
          "id": 4,
          "kind": "rest",
          "pulse": 83,
          "time": "30 min"
         },
         {
          "Unnamed: 0": 12,
          "diet": "low fat",
          "id": 5,
          "kind": "rest",
          "pulse": 91,
          "time": "1 min"
         },
         {
          "Unnamed: 0": 13,
          "diet": "low fat",
          "id": 5,
          "kind": "rest",
          "pulse": 92,
          "time": "15 min"
         },
         {
          "Unnamed: 0": 14,
          "diet": "low fat",
          "id": 5,
          "kind": "rest",
          "pulse": 91,
          "time": "30 min"
         },
         {
          "Unnamed: 0": 15,
          "diet": "no fat",
          "id": 6,
          "kind": "rest",
          "pulse": 83,
          "time": "1 min"
         },
         {
          "Unnamed: 0": 16,
          "diet": "no fat",
          "id": 6,
          "kind": "rest",
          "pulse": 83,
          "time": "15 min"
         },
         {
          "Unnamed: 0": 17,
          "diet": "no fat",
          "id": 6,
          "kind": "rest",
          "pulse": 84,
          "time": "30 min"
         },
         {
          "Unnamed: 0": 18,
          "diet": "no fat",
          "id": 7,
          "kind": "rest",
          "pulse": 87,
          "time": "1 min"
         },
         {
          "Unnamed: 0": 19,
          "diet": "no fat",
          "id": 7,
          "kind": "rest",
          "pulse": 88,
          "time": "15 min"
         },
         {
          "Unnamed: 0": 20,
          "diet": "no fat",
          "id": 7,
          "kind": "rest",
          "pulse": 90,
          "time": "30 min"
         },
         {
          "Unnamed: 0": 21,
          "diet": "no fat",
          "id": 8,
          "kind": "rest",
          "pulse": 92,
          "time": "1 min"
         },
         {
          "Unnamed: 0": 22,
          "diet": "no fat",
          "id": 8,
          "kind": "rest",
          "pulse": 94,
          "time": "15 min"
         },
         {
          "Unnamed: 0": 23,
          "diet": "no fat",
          "id": 8,
          "kind": "rest",
          "pulse": 95,
          "time": "30 min"
         },
         {
          "Unnamed: 0": 24,
          "diet": "no fat",
          "id": 9,
          "kind": "rest",
          "pulse": 97,
          "time": "1 min"
         },
         {
          "Unnamed: 0": 25,
          "diet": "no fat",
          "id": 9,
          "kind": "rest",
          "pulse": 99,
          "time": "15 min"
         },
         {
          "Unnamed: 0": 26,
          "diet": "no fat",
          "id": 9,
          "kind": "rest",
          "pulse": 96,
          "time": "30 min"
         },
         {
          "Unnamed: 0": 27,
          "diet": "no fat",
          "id": 10,
          "kind": "rest",
          "pulse": 100,
          "time": "1 min"
         },
         {
          "Unnamed: 0": 28,
          "diet": "no fat",
          "id": 10,
          "kind": "rest",
          "pulse": 97,
          "time": "15 min"
         },
         {
          "Unnamed: 0": 29,
          "diet": "no fat",
          "id": 10,
          "kind": "rest",
          "pulse": 100,
          "time": "30 min"
         },
         {
          "Unnamed: 0": 30,
          "diet": "low fat",
          "id": 11,
          "kind": "walking",
          "pulse": 86,
          "time": "1 min"
         },
         {
          "Unnamed: 0": 31,
          "diet": "low fat",
          "id": 11,
          "kind": "walking",
          "pulse": 86,
          "time": "15 min"
         },
         {
          "Unnamed: 0": 32,
          "diet": "low fat",
          "id": 11,
          "kind": "walking",
          "pulse": 84,
          "time": "30 min"
         },
         {
          "Unnamed: 0": 33,
          "diet": "low fat",
          "id": 12,
          "kind": "walking",
          "pulse": 93,
          "time": "1 min"
         },
         {
          "Unnamed: 0": 34,
          "diet": "low fat",
          "id": 12,
          "kind": "walking",
          "pulse": 103,
          "time": "15 min"
         },
         {
          "Unnamed: 0": 35,
          "diet": "low fat",
          "id": 12,
          "kind": "walking",
          "pulse": 104,
          "time": "30 min"
         },
         {
          "Unnamed: 0": 36,
          "diet": "low fat",
          "id": 13,
          "kind": "walking",
          "pulse": 90,
          "time": "1 min"
         },
         {
          "Unnamed: 0": 37,
          "diet": "low fat",
          "id": 13,
          "kind": "walking",
          "pulse": 92,
          "time": "15 min"
         },
         {
          "Unnamed: 0": 38,
          "diet": "low fat",
          "id": 13,
          "kind": "walking",
          "pulse": 93,
          "time": "30 min"
         },
         {
          "Unnamed: 0": 39,
          "diet": "low fat",
          "id": 14,
          "kind": "walking",
          "pulse": 95,
          "time": "1 min"
         },
         {
          "Unnamed: 0": 40,
          "diet": "low fat",
          "id": 14,
          "kind": "walking",
          "pulse": 96,
          "time": "15 min"
         },
         {
          "Unnamed: 0": 41,
          "diet": "low fat",
          "id": 14,
          "kind": "walking",
          "pulse": 100,
          "time": "30 min"
         },
         {
          "Unnamed: 0": 42,
          "diet": "low fat",
          "id": 15,
          "kind": "walking",
          "pulse": 89,
          "time": "1 min"
         },
         {
          "Unnamed: 0": 43,
          "diet": "low fat",
          "id": 15,
          "kind": "walking",
          "pulse": 96,
          "time": "15 min"
         },
         {
          "Unnamed: 0": 44,
          "diet": "low fat",
          "id": 15,
          "kind": "walking",
          "pulse": 95,
          "time": "30 min"
         },
         {
          "Unnamed: 0": 45,
          "diet": "no fat",
          "id": 16,
          "kind": "walking",
          "pulse": 84,
          "time": "1 min"
         },
         {
          "Unnamed: 0": 46,
          "diet": "no fat",
          "id": 16,
          "kind": "walking",
          "pulse": 86,
          "time": "15 min"
         },
         {
          "Unnamed: 0": 47,
          "diet": "no fat",
          "id": 16,
          "kind": "walking",
          "pulse": 89,
          "time": "30 min"
         },
         {
          "Unnamed: 0": 48,
          "diet": "no fat",
          "id": 17,
          "kind": "walking",
          "pulse": 103,
          "time": "1 min"
         },
         {
          "Unnamed: 0": 49,
          "diet": "no fat",
          "id": 17,
          "kind": "walking",
          "pulse": 109,
          "time": "15 min"
         },
         {
          "Unnamed: 0": 50,
          "diet": "no fat",
          "id": 17,
          "kind": "walking",
          "pulse": 90,
          "time": "30 min"
         },
         {
          "Unnamed: 0": 51,
          "diet": "no fat",
          "id": 18,
          "kind": "walking",
          "pulse": 92,
          "time": "1 min"
         },
         {
          "Unnamed: 0": 52,
          "diet": "no fat",
          "id": 18,
          "kind": "walking",
          "pulse": 96,
          "time": "15 min"
         },
         {
          "Unnamed: 0": 53,
          "diet": "no fat",
          "id": 18,
          "kind": "walking",
          "pulse": 101,
          "time": "30 min"
         },
         {
          "Unnamed: 0": 54,
          "diet": "no fat",
          "id": 19,
          "kind": "walking",
          "pulse": 97,
          "time": "1 min"
         },
         {
          "Unnamed: 0": 55,
          "diet": "no fat",
          "id": 19,
          "kind": "walking",
          "pulse": 98,
          "time": "15 min"
         },
         {
          "Unnamed: 0": 56,
          "diet": "no fat",
          "id": 19,
          "kind": "walking",
          "pulse": 100,
          "time": "30 min"
         },
         {
          "Unnamed: 0": 57,
          "diet": "no fat",
          "id": 20,
          "kind": "walking",
          "pulse": 102,
          "time": "1 min"
         },
         {
          "Unnamed: 0": 58,
          "diet": "no fat",
          "id": 20,
          "kind": "walking",
          "pulse": 104,
          "time": "15 min"
         },
         {
          "Unnamed: 0": 59,
          "diet": "no fat",
          "id": 20,
          "kind": "walking",
          "pulse": 103,
          "time": "30 min"
         },
         {
          "Unnamed: 0": 60,
          "diet": "low fat",
          "id": 21,
          "kind": "running",
          "pulse": 93,
          "time": "1 min"
         },
         {
          "Unnamed: 0": 61,
          "diet": "low fat",
          "id": 21,
          "kind": "running",
          "pulse": 98,
          "time": "15 min"
         },
         {
          "Unnamed: 0": 62,
          "diet": "low fat",
          "id": 21,
          "kind": "running",
          "pulse": 110,
          "time": "30 min"
         },
         {
          "Unnamed: 0": 63,
          "diet": "low fat",
          "id": 22,
          "kind": "running",
          "pulse": 98,
          "time": "1 min"
         },
         {
          "Unnamed: 0": 64,
          "diet": "low fat",
          "id": 22,
          "kind": "running",
          "pulse": 104,
          "time": "15 min"
         },
         {
          "Unnamed: 0": 65,
          "diet": "low fat",
          "id": 22,
          "kind": "running",
          "pulse": 112,
          "time": "30 min"
         },
         {
          "Unnamed: 0": 66,
          "diet": "low fat",
          "id": 23,
          "kind": "running",
          "pulse": 98,
          "time": "1 min"
         },
         {
          "Unnamed: 0": 67,
          "diet": "low fat",
          "id": 23,
          "kind": "running",
          "pulse": 105,
          "time": "15 min"
         },
         {
          "Unnamed: 0": 68,
          "diet": "low fat",
          "id": 23,
          "kind": "running",
          "pulse": 99,
          "time": "30 min"
         },
         {
          "Unnamed: 0": 69,
          "diet": "low fat",
          "id": 24,
          "kind": "running",
          "pulse": 87,
          "time": "1 min"
         },
         {
          "Unnamed: 0": 70,
          "diet": "low fat",
          "id": 24,
          "kind": "running",
          "pulse": 132,
          "time": "15 min"
         },
         {
          "Unnamed: 0": 71,
          "diet": "low fat",
          "id": 24,
          "kind": "running",
          "pulse": 120,
          "time": "30 min"
         },
         {
          "Unnamed: 0": 72,
          "diet": "low fat",
          "id": 25,
          "kind": "running",
          "pulse": 94,
          "time": "1 min"
         },
         {
          "Unnamed: 0": 73,
          "diet": "low fat",
          "id": 25,
          "kind": "running",
          "pulse": 110,
          "time": "15 min"
         },
         {
          "Unnamed: 0": 74,
          "diet": "low fat",
          "id": 25,
          "kind": "running",
          "pulse": 116,
          "time": "30 min"
         },
         {
          "Unnamed: 0": 75,
          "diet": "no fat",
          "id": 26,
          "kind": "running",
          "pulse": 95,
          "time": "1 min"
         },
         {
          "Unnamed: 0": 76,
          "diet": "no fat",
          "id": 26,
          "kind": "running",
          "pulse": 126,
          "time": "15 min"
         },
         {
          "Unnamed: 0": 77,
          "diet": "no fat",
          "id": 26,
          "kind": "running",
          "pulse": 143,
          "time": "30 min"
         },
         {
          "Unnamed: 0": 78,
          "diet": "no fat",
          "id": 27,
          "kind": "running",
          "pulse": 100,
          "time": "1 min"
         },
         {
          "Unnamed: 0": 79,
          "diet": "no fat",
          "id": 27,
          "kind": "running",
          "pulse": 126,
          "time": "15 min"
         },
         {
          "Unnamed: 0": 80,
          "diet": "no fat",
          "id": 27,
          "kind": "running",
          "pulse": 140,
          "time": "30 min"
         },
         {
          "Unnamed: 0": 81,
          "diet": "no fat",
          "id": 28,
          "kind": "running",
          "pulse": 103,
          "time": "1 min"
         },
         {
          "Unnamed: 0": 82,
          "diet": "no fat",
          "id": 28,
          "kind": "running",
          "pulse": 124,
          "time": "15 min"
         },
         {
          "Unnamed: 0": 83,
          "diet": "no fat",
          "id": 28,
          "kind": "running",
          "pulse": 140,
          "time": "30 min"
         },
         {
          "Unnamed: 0": 84,
          "diet": "no fat",
          "id": 29,
          "kind": "running",
          "pulse": 94,
          "time": "1 min"
         },
         {
          "Unnamed: 0": 85,
          "diet": "no fat",
          "id": 29,
          "kind": "running",
          "pulse": 135,
          "time": "15 min"
         },
         {
          "Unnamed: 0": 86,
          "diet": "no fat",
          "id": 29,
          "kind": "running",
          "pulse": 130,
          "time": "30 min"
         },
         {
          "Unnamed: 0": 87,
          "diet": "no fat",
          "id": 30,
          "kind": "running",
          "pulse": 99,
          "time": "1 min"
         },
         {
          "Unnamed: 0": 88,
          "diet": "no fat",
          "id": 30,
          "kind": "running",
          "pulse": 111,
          "time": "15 min"
         },
         {
          "Unnamed: 0": 89,
          "diet": "no fat",
          "id": 30,
          "kind": "running",
          "pulse": 150,
          "time": "30 min"
         }
        ]
       },
       "facet": {
        "column": {
         "field": "time",
         "type": "nominal"
        }
       },
       "spec": {
        "layer": [
         {
          "encoding": {
           "color": {
            "field": "kind",
            "legend": null,
            "type": "nominal"
           },
           "x": {
            "field": "kind",
            "type": "nominal"
           },
           "y": {
            "aggregate": "mean",
            "axis": {
             "title": "pulse"
            },
            "field": "pulse",
            "type": "quantitative"
           }
          },
          "mark": "bar"
         },
         {
          "encoding": {
           "x": {
            "field": "kind",
            "type": "nominal"
           },
           "y": {
            "aggregate": "ci0",
            "field": "pulse",
            "type": "quantitative"
           },
           "y2": {
            "aggregate": "ci1",
            "field": "pulse",
            "type": "quantitative"
           }
          },
          "mark": "rule"
         }
        ]
       }
      },
      "image/png": "[encoded data removed]",
      "text/plain": [
       "<VegaLite 2 object>\n",
       "\n",
       "If you see this message, it means the renderer has not been properly enabled\n",
       "for the frontend that you are using. For more information, see\n",
       "https://altair-viz.github.io/user_guide/troubleshooting.html\n"
      ]
     },
     "metadata": {},
     "output_type": "display_data"
    },
    {
     "data": {
      "image/png": "[encoded data removed]",
      "text/plain": [
       "<Figure size 362.875x288 with 1 Axes>"
      ]
     },
     "metadata": {},
     "output_type": "display_data"
    }
   ],
   "source": [
    "display(salt.factorplot(x=\"time\", y=\"pulse\", hue=\"kind\", data=exercise, kind=\"bar\"))\n",
    "g = sns.factorplot(x=\"time\", y=\"pulse\", hue=\"kind\", data=exercise, kind=\"bar\")"
   ]
  },
  {
   "cell_type": "code",
   "execution_count": 3,
   "metadata": {},
   "outputs": [
    {
     "data": {
      "application/vnd.vegalite.v2+json": {
       "$schema": "https://vega.github.io/schema/vega-lite/v2.4.1.json",
       "config": {
        "range": {
         "category": [
          "rgba(49.62499999999999,115.62499999999996,161.37500000000003,1)",
          "rgba(224.87499999999997,128.875,44.12500000000004,1)",
          "rgba(58.49999999999999,145.50000000000003,58.49999999999999,1)",
          "rgba(192.125,60.87500000000001,61.62499999999999,1)",
          "rgba(147.49999999999994,113.74999999999999,178.25,1)",
          "rgba(131.875,91.37500000000001,83.12500000000001,1)",
          "rgba(213.50000000000003,132.49999999999997,188.74999999999994,1)",
          "rgba(127.0,127.0,127.0,1)",
          "rgba(168.87500000000003,169.625,53.37500000000001,1)",
          "rgba(45.99999999999998,171.25,184.00000000000003,1)"
         ]
        },
        "view": {
         "height": 300,
         "width": 400
        }
       },
       "data": {
        "values": [
         {
          "Unnamed: 0": 0,
          "diet": "low fat",
          "id": 1,
          "kind": "rest",
          "pulse": 85,
          "time": "1 min"
         },
         {
          "Unnamed: 0": 1,
          "diet": "low fat",
          "id": 1,
          "kind": "rest",
          "pulse": 85,
          "time": "15 min"
         },
         {
          "Unnamed: 0": 2,
          "diet": "low fat",
          "id": 1,
          "kind": "rest",
          "pulse": 88,
          "time": "30 min"
         },
         {
          "Unnamed: 0": 3,
          "diet": "low fat",
          "id": 2,
          "kind": "rest",
          "pulse": 90,
          "time": "1 min"
         },
         {
          "Unnamed: 0": 4,
          "diet": "low fat",
          "id": 2,
          "kind": "rest",
          "pulse": 92,
          "time": "15 min"
         },
         {
          "Unnamed: 0": 5,
          "diet": "low fat",
          "id": 2,
          "kind": "rest",
          "pulse": 93,
          "time": "30 min"
         },
         {
          "Unnamed: 0": 6,
          "diet": "low fat",
          "id": 3,
          "kind": "rest",
          "pulse": 97,
          "time": "1 min"
         },
         {
          "Unnamed: 0": 7,
          "diet": "low fat",
          "id": 3,
          "kind": "rest",
          "pulse": 97,
          "time": "15 min"
         },
         {
          "Unnamed: 0": 8,
          "diet": "low fat",
          "id": 3,
          "kind": "rest",
          "pulse": 94,
          "time": "30 min"
         },
         {
          "Unnamed: 0": 9,
          "diet": "low fat",
          "id": 4,
          "kind": "rest",
          "pulse": 80,
          "time": "1 min"
         },
         {
          "Unnamed: 0": 10,
          "diet": "low fat",
          "id": 4,
          "kind": "rest",
          "pulse": 82,
          "time": "15 min"
         },
         {
          "Unnamed: 0": 11,
          "diet": "low fat",
          "id": 4,
          "kind": "rest",
          "pulse": 83,
          "time": "30 min"
         },
         {
          "Unnamed: 0": 12,
          "diet": "low fat",
          "id": 5,
          "kind": "rest",
          "pulse": 91,
          "time": "1 min"
         },
         {
          "Unnamed: 0": 13,
          "diet": "low fat",
          "id": 5,
          "kind": "rest",
          "pulse": 92,
          "time": "15 min"
         },
         {
          "Unnamed: 0": 14,
          "diet": "low fat",
          "id": 5,
          "kind": "rest",
          "pulse": 91,
          "time": "30 min"
         },
         {
          "Unnamed: 0": 15,
          "diet": "no fat",
          "id": 6,
          "kind": "rest",
          "pulse": 83,
          "time": "1 min"
         },
         {
          "Unnamed: 0": 16,
          "diet": "no fat",
          "id": 6,
          "kind": "rest",
          "pulse": 83,
          "time": "15 min"
         },
         {
          "Unnamed: 0": 17,
          "diet": "no fat",
          "id": 6,
          "kind": "rest",
          "pulse": 84,
          "time": "30 min"
         },
         {
          "Unnamed: 0": 18,
          "diet": "no fat",
          "id": 7,
          "kind": "rest",
          "pulse": 87,
          "time": "1 min"
         },
         {
          "Unnamed: 0": 19,
          "diet": "no fat",
          "id": 7,
          "kind": "rest",
          "pulse": 88,
          "time": "15 min"
         },
         {
          "Unnamed: 0": 20,
          "diet": "no fat",
          "id": 7,
          "kind": "rest",
          "pulse": 90,
          "time": "30 min"
         },
         {
          "Unnamed: 0": 21,
          "diet": "no fat",
          "id": 8,
          "kind": "rest",
          "pulse": 92,
          "time": "1 min"
         },
         {
          "Unnamed: 0": 22,
          "diet": "no fat",
          "id": 8,
          "kind": "rest",
          "pulse": 94,
          "time": "15 min"
         },
         {
          "Unnamed: 0": 23,
          "diet": "no fat",
          "id": 8,
          "kind": "rest",
          "pulse": 95,
          "time": "30 min"
         },
         {
          "Unnamed: 0": 24,
          "diet": "no fat",
          "id": 9,
          "kind": "rest",
          "pulse": 97,
          "time": "1 min"
         },
         {
          "Unnamed: 0": 25,
          "diet": "no fat",
          "id": 9,
          "kind": "rest",
          "pulse": 99,
          "time": "15 min"
         },
         {
          "Unnamed: 0": 26,
          "diet": "no fat",
          "id": 9,
          "kind": "rest",
          "pulse": 96,
          "time": "30 min"
         },
         {
          "Unnamed: 0": 27,
          "diet": "no fat",
          "id": 10,
          "kind": "rest",
          "pulse": 100,
          "time": "1 min"
         },
         {
          "Unnamed: 0": 28,
          "diet": "no fat",
          "id": 10,
          "kind": "rest",
          "pulse": 97,
          "time": "15 min"
         },
         {
          "Unnamed: 0": 29,
          "diet": "no fat",
          "id": 10,
          "kind": "rest",
          "pulse": 100,
          "time": "30 min"
         },
         {
          "Unnamed: 0": 30,
          "diet": "low fat",
          "id": 11,
          "kind": "walking",
          "pulse": 86,
          "time": "1 min"
         },
         {
          "Unnamed: 0": 31,
          "diet": "low fat",
          "id": 11,
          "kind": "walking",
          "pulse": 86,
          "time": "15 min"
         },
         {
          "Unnamed: 0": 32,
          "diet": "low fat",
          "id": 11,
          "kind": "walking",
          "pulse": 84,
          "time": "30 min"
         },
         {
          "Unnamed: 0": 33,
          "diet": "low fat",
          "id": 12,
          "kind": "walking",
          "pulse": 93,
          "time": "1 min"
         },
         {
          "Unnamed: 0": 34,
          "diet": "low fat",
          "id": 12,
          "kind": "walking",
          "pulse": 103,
          "time": "15 min"
         },
         {
          "Unnamed: 0": 35,
          "diet": "low fat",
          "id": 12,
          "kind": "walking",
          "pulse": 104,
          "time": "30 min"
         },
         {
          "Unnamed: 0": 36,
          "diet": "low fat",
          "id": 13,
          "kind": "walking",
          "pulse": 90,
          "time": "1 min"
         },
         {
          "Unnamed: 0": 37,
          "diet": "low fat",
          "id": 13,
          "kind": "walking",
          "pulse": 92,
          "time": "15 min"
         },
         {
          "Unnamed: 0": 38,
          "diet": "low fat",
          "id": 13,
          "kind": "walking",
          "pulse": 93,
          "time": "30 min"
         },
         {
          "Unnamed: 0": 39,
          "diet": "low fat",
          "id": 14,
          "kind": "walking",
          "pulse": 95,
          "time": "1 min"
         },
         {
          "Unnamed: 0": 40,
          "diet": "low fat",
          "id": 14,
          "kind": "walking",
          "pulse": 96,
          "time": "15 min"
         },
         {
          "Unnamed: 0": 41,
          "diet": "low fat",
          "id": 14,
          "kind": "walking",
          "pulse": 100,
          "time": "30 min"
         },
         {
          "Unnamed: 0": 42,
          "diet": "low fat",
          "id": 15,
          "kind": "walking",
          "pulse": 89,
          "time": "1 min"
         },
         {
          "Unnamed: 0": 43,
          "diet": "low fat",
          "id": 15,
          "kind": "walking",
          "pulse": 96,
          "time": "15 min"
         },
         {
          "Unnamed: 0": 44,
          "diet": "low fat",
          "id": 15,
          "kind": "walking",
          "pulse": 95,
          "time": "30 min"
         },
         {
          "Unnamed: 0": 45,
          "diet": "no fat",
          "id": 16,
          "kind": "walking",
          "pulse": 84,
          "time": "1 min"
         },
         {
          "Unnamed: 0": 46,
          "diet": "no fat",
          "id": 16,
          "kind": "walking",
          "pulse": 86,
          "time": "15 min"
         },
         {
          "Unnamed: 0": 47,
          "diet": "no fat",
          "id": 16,
          "kind": "walking",
          "pulse": 89,
          "time": "30 min"
         },
         {
          "Unnamed: 0": 48,
          "diet": "no fat",
          "id": 17,
          "kind": "walking",
          "pulse": 103,
          "time": "1 min"
         },
         {
          "Unnamed: 0": 49,
          "diet": "no fat",
          "id": 17,
          "kind": "walking",
          "pulse": 109,
          "time": "15 min"
         },
         {
          "Unnamed: 0": 50,
          "diet": "no fat",
          "id": 17,
          "kind": "walking",
          "pulse": 90,
          "time": "30 min"
         },
         {
          "Unnamed: 0": 51,
          "diet": "no fat",
          "id": 18,
          "kind": "walking",
          "pulse": 92,
          "time": "1 min"
         },
         {
          "Unnamed: 0": 52,
          "diet": "no fat",
          "id": 18,
          "kind": "walking",
          "pulse": 96,
          "time": "15 min"
         },
         {
          "Unnamed: 0": 53,
          "diet": "no fat",
          "id": 18,
          "kind": "walking",
          "pulse": 101,
          "time": "30 min"
         },
         {
          "Unnamed: 0": 54,
          "diet": "no fat",
          "id": 19,
          "kind": "walking",
          "pulse": 97,
          "time": "1 min"
         },
         {
          "Unnamed: 0": 55,
          "diet": "no fat",
          "id": 19,
          "kind": "walking",
          "pulse": 98,
          "time": "15 min"
         },
         {
          "Unnamed: 0": 56,
          "diet": "no fat",
          "id": 19,
          "kind": "walking",
          "pulse": 100,
          "time": "30 min"
         },
         {
          "Unnamed: 0": 57,
          "diet": "no fat",
          "id": 20,
          "kind": "walking",
          "pulse": 102,
          "time": "1 min"
         },
         {
          "Unnamed: 0": 58,
          "diet": "no fat",
          "id": 20,
          "kind": "walking",
          "pulse": 104,
          "time": "15 min"
         },
         {
          "Unnamed: 0": 59,
          "diet": "no fat",
          "id": 20,
          "kind": "walking",
          "pulse": 103,
          "time": "30 min"
         },
         {
          "Unnamed: 0": 60,
          "diet": "low fat",
          "id": 21,
          "kind": "running",
          "pulse": 93,
          "time": "1 min"
         },
         {
          "Unnamed: 0": 61,
          "diet": "low fat",
          "id": 21,
          "kind": "running",
          "pulse": 98,
          "time": "15 min"
         },
         {
          "Unnamed: 0": 62,
          "diet": "low fat",
          "id": 21,
          "kind": "running",
          "pulse": 110,
          "time": "30 min"
         },
         {
          "Unnamed: 0": 63,
          "diet": "low fat",
          "id": 22,
          "kind": "running",
          "pulse": 98,
          "time": "1 min"
         },
         {
          "Unnamed: 0": 64,
          "diet": "low fat",
          "id": 22,
          "kind": "running",
          "pulse": 104,
          "time": "15 min"
         },
         {
          "Unnamed: 0": 65,
          "diet": "low fat",
          "id": 22,
          "kind": "running",
          "pulse": 112,
          "time": "30 min"
         },
         {
          "Unnamed: 0": 66,
          "diet": "low fat",
          "id": 23,
          "kind": "running",
          "pulse": 98,
          "time": "1 min"
         },
         {
          "Unnamed: 0": 67,
          "diet": "low fat",
          "id": 23,
          "kind": "running",
          "pulse": 105,
          "time": "15 min"
         },
         {
          "Unnamed: 0": 68,
          "diet": "low fat",
          "id": 23,
          "kind": "running",
          "pulse": 99,
          "time": "30 min"
         },
         {
          "Unnamed: 0": 69,
          "diet": "low fat",
          "id": 24,
          "kind": "running",
          "pulse": 87,
          "time": "1 min"
         },
         {
          "Unnamed: 0": 70,
          "diet": "low fat",
          "id": 24,
          "kind": "running",
          "pulse": 132,
          "time": "15 min"
         },
         {
          "Unnamed: 0": 71,
          "diet": "low fat",
          "id": 24,
          "kind": "running",
          "pulse": 120,
          "time": "30 min"
         },
         {
          "Unnamed: 0": 72,
          "diet": "low fat",
          "id": 25,
          "kind": "running",
          "pulse": 94,
          "time": "1 min"
         },
         {
          "Unnamed: 0": 73,
          "diet": "low fat",
          "id": 25,
          "kind": "running",
          "pulse": 110,
          "time": "15 min"
         },
         {
          "Unnamed: 0": 74,
          "diet": "low fat",
          "id": 25,
          "kind": "running",
          "pulse": 116,
          "time": "30 min"
         },
         {
          "Unnamed: 0": 75,
          "diet": "no fat",
          "id": 26,
          "kind": "running",
          "pulse": 95,
          "time": "1 min"
         },
         {
          "Unnamed: 0": 76,
          "diet": "no fat",
          "id": 26,
          "kind": "running",
          "pulse": 126,
          "time": "15 min"
         },
         {
          "Unnamed: 0": 77,
          "diet": "no fat",
          "id": 26,
          "kind": "running",
          "pulse": 143,
          "time": "30 min"
         },
         {
          "Unnamed: 0": 78,
          "diet": "no fat",
          "id": 27,
          "kind": "running",
          "pulse": 100,
          "time": "1 min"
         },
         {
          "Unnamed: 0": 79,
          "diet": "no fat",
          "id": 27,
          "kind": "running",
          "pulse": 126,
          "time": "15 min"
         },
         {
          "Unnamed: 0": 80,
          "diet": "no fat",
          "id": 27,
          "kind": "running",
          "pulse": 140,
          "time": "30 min"
         },
         {
          "Unnamed: 0": 81,
          "diet": "no fat",
          "id": 28,
          "kind": "running",
          "pulse": 103,
          "time": "1 min"
         },
         {
          "Unnamed: 0": 82,
          "diet": "no fat",
          "id": 28,
          "kind": "running",
          "pulse": 124,
          "time": "15 min"
         },
         {
          "Unnamed: 0": 83,
          "diet": "no fat",
          "id": 28,
          "kind": "running",
          "pulse": 140,
          "time": "30 min"
         },
         {
          "Unnamed: 0": 84,
          "diet": "no fat",
          "id": 29,
          "kind": "running",
          "pulse": 94,
          "time": "1 min"
         },
         {
          "Unnamed: 0": 85,
          "diet": "no fat",
          "id": 29,
          "kind": "running",
          "pulse": 135,
          "time": "15 min"
         },
         {
          "Unnamed: 0": 86,
          "diet": "no fat",
          "id": 29,
          "kind": "running",
          "pulse": 130,
          "time": "30 min"
         },
         {
          "Unnamed: 0": 87,
          "diet": "no fat",
          "id": 30,
          "kind": "running",
          "pulse": 99,
          "time": "1 min"
         },
         {
          "Unnamed: 0": 88,
          "diet": "no fat",
          "id": 30,
          "kind": "running",
          "pulse": 111,
          "time": "15 min"
         },
         {
          "Unnamed: 0": 89,
          "diet": "no fat",
          "id": 30,
          "kind": "running",
          "pulse": 150,
          "time": "30 min"
         }
        ]
       },
       "facet": {
        "column": {
         "field": "time",
         "type": "nominal"
        }
       },
       "spec": {
        "layer": [
         {
          "encoding": {
           "color": {
            "field": "kind",
            "legend": null,
            "type": "nominal"
           },
           "x": {
            "field": "kind",
            "type": "nominal"
           },
           "y": {
            "aggregate": "mean",
            "axis": {
             "title": "pulse"
            },
            "field": "pulse",
            "type": "quantitative"
           }
          },
          "mark": "bar"
         },
         {
          "encoding": {
           "x": {
            "field": "kind",
            "type": "nominal"
           },
           "y": {
            "aggregate": "ci0",
            "field": "pulse",
            "type": "quantitative"
           },
           "y2": {
            "aggregate": "ci1",
            "field": "pulse",
            "type": "quantitative"
           }
          },
          "mark": "rule"
         }
        ]
       }
      },
      "image/png": "[encoded data removed]",
      "text/plain": [
       "<VegaLite 2 object>\n",
       "\n",
       "If you see this message, it means the renderer has not been properly enabled\n",
       "for the frontend that you are using. For more information, see\n",
       "https://altair-viz.github.io/user_guide/troubleshooting.html\n"
      ]
     },
     "metadata": {},
     "output_type": "display_data"
    },
    {
     "data": {
      "image/png": "[encoded data removed]",
      "text/plain": [
       "<Figure size 362.875x288 with 1 Axes>"
      ]
     },
     "metadata": {},
     "output_type": "display_data"
    }
   ],
   "source": [
    "display(salt.factorplot(x=\"time\", y=\"pulse\", hue=\"kind\", data=exercise, kind=\"bar\"))\n",
    "g = sns.factorplot(x=\"time\", y=\"pulse\", hue=\"kind\", data=exercise, kind=\"violin\")"
   ]
  },
  {
   "cell_type": "code",
   "execution_count": 4,
   "metadata": {},
   "outputs": [
    {
     "data": {
      "application/vnd.vegalite.v2+json": {
       "$schema": "https://vega.github.io/schema/vega-lite/v2.4.1.json",
       "config": {
        "range": {
         "category": [
          "rgba(49.62499999999999,115.62499999999996,161.37500000000003,1)",
          "rgba(224.87499999999997,128.875,44.12500000000004,1)",
          "rgba(58.49999999999999,145.50000000000003,58.49999999999999,1)",
          "rgba(192.125,60.87500000000001,61.62499999999999,1)",
          "rgba(147.49999999999994,113.74999999999999,178.25,1)",
          "rgba(131.875,91.37500000000001,83.12500000000001,1)",
          "rgba(213.50000000000003,132.49999999999997,188.74999999999994,1)",
          "rgba(127.0,127.0,127.0,1)",
          "rgba(168.87500000000003,169.625,53.37500000000001,1)",
          "rgba(45.99999999999998,171.25,184.00000000000003,1)"
         ]
        },
        "view": {
         "height": 300,
         "width": 400
        }
       },
       "data": {
        "values": [
         {
          "Unnamed: 0": 0,
          "diet": "low fat",
          "id": 1,
          "kind": "rest",
          "pulse": 85,
          "time": "1 min"
         },
         {
          "Unnamed: 0": 1,
          "diet": "low fat",
          "id": 1,
          "kind": "rest",
          "pulse": 85,
          "time": "15 min"
         },
         {
          "Unnamed: 0": 2,
          "diet": "low fat",
          "id": 1,
          "kind": "rest",
          "pulse": 88,
          "time": "30 min"
         },
         {
          "Unnamed: 0": 3,
          "diet": "low fat",
          "id": 2,
          "kind": "rest",
          "pulse": 90,
          "time": "1 min"
         },
         {
          "Unnamed: 0": 4,
          "diet": "low fat",
          "id": 2,
          "kind": "rest",
          "pulse": 92,
          "time": "15 min"
         },
         {
          "Unnamed: 0": 5,
          "diet": "low fat",
          "id": 2,
          "kind": "rest",
          "pulse": 93,
          "time": "30 min"
         },
         {
          "Unnamed: 0": 6,
          "diet": "low fat",
          "id": 3,
          "kind": "rest",
          "pulse": 97,
          "time": "1 min"
         },
         {
          "Unnamed: 0": 7,
          "diet": "low fat",
          "id": 3,
          "kind": "rest",
          "pulse": 97,
          "time": "15 min"
         },
         {
          "Unnamed: 0": 8,
          "diet": "low fat",
          "id": 3,
          "kind": "rest",
          "pulse": 94,
          "time": "30 min"
         },
         {
          "Unnamed: 0": 9,
          "diet": "low fat",
          "id": 4,
          "kind": "rest",
          "pulse": 80,
          "time": "1 min"
         },
         {
          "Unnamed: 0": 10,
          "diet": "low fat",
          "id": 4,
          "kind": "rest",
          "pulse": 82,
          "time": "15 min"
         },
         {
          "Unnamed: 0": 11,
          "diet": "low fat",
          "id": 4,
          "kind": "rest",
          "pulse": 83,
          "time": "30 min"
         },
         {
          "Unnamed: 0": 12,
          "diet": "low fat",
          "id": 5,
          "kind": "rest",
          "pulse": 91,
          "time": "1 min"
         },
         {
          "Unnamed: 0": 13,
          "diet": "low fat",
          "id": 5,
          "kind": "rest",
          "pulse": 92,
          "time": "15 min"
         },
         {
          "Unnamed: 0": 14,
          "diet": "low fat",
          "id": 5,
          "kind": "rest",
          "pulse": 91,
          "time": "30 min"
         },
         {
          "Unnamed: 0": 15,
          "diet": "no fat",
          "id": 6,
          "kind": "rest",
          "pulse": 83,
          "time": "1 min"
         },
         {
          "Unnamed: 0": 16,
          "diet": "no fat",
          "id": 6,
          "kind": "rest",
          "pulse": 83,
          "time": "15 min"
         },
         {
          "Unnamed: 0": 17,
          "diet": "no fat",
          "id": 6,
          "kind": "rest",
          "pulse": 84,
          "time": "30 min"
         },
         {
          "Unnamed: 0": 18,
          "diet": "no fat",
          "id": 7,
          "kind": "rest",
          "pulse": 87,
          "time": "1 min"
         },
         {
          "Unnamed: 0": 19,
          "diet": "no fat",
          "id": 7,
          "kind": "rest",
          "pulse": 88,
          "time": "15 min"
         },
         {
          "Unnamed: 0": 20,
          "diet": "no fat",
          "id": 7,
          "kind": "rest",
          "pulse": 90,
          "time": "30 min"
         },
         {
          "Unnamed: 0": 21,
          "diet": "no fat",
          "id": 8,
          "kind": "rest",
          "pulse": 92,
          "time": "1 min"
         },
         {
          "Unnamed: 0": 22,
          "diet": "no fat",
          "id": 8,
          "kind": "rest",
          "pulse": 94,
          "time": "15 min"
         },
         {
          "Unnamed: 0": 23,
          "diet": "no fat",
          "id": 8,
          "kind": "rest",
          "pulse": 95,
          "time": "30 min"
         },
         {
          "Unnamed: 0": 24,
          "diet": "no fat",
          "id": 9,
          "kind": "rest",
          "pulse": 97,
          "time": "1 min"
         },
         {
          "Unnamed: 0": 25,
          "diet": "no fat",
          "id": 9,
          "kind": "rest",
          "pulse": 99,
          "time": "15 min"
         },
         {
          "Unnamed: 0": 26,
          "diet": "no fat",
          "id": 9,
          "kind": "rest",
          "pulse": 96,
          "time": "30 min"
         },
         {
          "Unnamed: 0": 27,
          "diet": "no fat",
          "id": 10,
          "kind": "rest",
          "pulse": 100,
          "time": "1 min"
         },
         {
          "Unnamed: 0": 28,
          "diet": "no fat",
          "id": 10,
          "kind": "rest",
          "pulse": 97,
          "time": "15 min"
         },
         {
          "Unnamed: 0": 29,
          "diet": "no fat",
          "id": 10,
          "kind": "rest",
          "pulse": 100,
          "time": "30 min"
         },
         {
          "Unnamed: 0": 30,
          "diet": "low fat",
          "id": 11,
          "kind": "walking",
          "pulse": 86,
          "time": "1 min"
         },
         {
          "Unnamed: 0": 31,
          "diet": "low fat",
          "id": 11,
          "kind": "walking",
          "pulse": 86,
          "time": "15 min"
         },
         {
          "Unnamed: 0": 32,
          "diet": "low fat",
          "id": 11,
          "kind": "walking",
          "pulse": 84,
          "time": "30 min"
         },
         {
          "Unnamed: 0": 33,
          "diet": "low fat",
          "id": 12,
          "kind": "walking",
          "pulse": 93,
          "time": "1 min"
         },
         {
          "Unnamed: 0": 34,
          "diet": "low fat",
          "id": 12,
          "kind": "walking",
          "pulse": 103,
          "time": "15 min"
         },
         {
          "Unnamed: 0": 35,
          "diet": "low fat",
          "id": 12,
          "kind": "walking",
          "pulse": 104,
          "time": "30 min"
         },
         {
          "Unnamed: 0": 36,
          "diet": "low fat",
          "id": 13,
          "kind": "walking",
          "pulse": 90,
          "time": "1 min"
         },
         {
          "Unnamed: 0": 37,
          "diet": "low fat",
          "id": 13,
          "kind": "walking",
          "pulse": 92,
          "time": "15 min"
         },
         {
          "Unnamed: 0": 38,
          "diet": "low fat",
          "id": 13,
          "kind": "walking",
          "pulse": 93,
          "time": "30 min"
         },
         {
          "Unnamed: 0": 39,
          "diet": "low fat",
          "id": 14,
          "kind": "walking",
          "pulse": 95,
          "time": "1 min"
         },
         {
          "Unnamed: 0": 40,
          "diet": "low fat",
          "id": 14,
          "kind": "walking",
          "pulse": 96,
          "time": "15 min"
         },
         {
          "Unnamed: 0": 41,
          "diet": "low fat",
          "id": 14,
          "kind": "walking",
          "pulse": 100,
          "time": "30 min"
         },
         {
          "Unnamed: 0": 42,
          "diet": "low fat",
          "id": 15,
          "kind": "walking",
          "pulse": 89,
          "time": "1 min"
         },
         {
          "Unnamed: 0": 43,
          "diet": "low fat",
          "id": 15,
          "kind": "walking",
          "pulse": 96,
          "time": "15 min"
         },
         {
          "Unnamed: 0": 44,
          "diet": "low fat",
          "id": 15,
          "kind": "walking",
          "pulse": 95,
          "time": "30 min"
         },
         {
          "Unnamed: 0": 45,
          "diet": "no fat",
          "id": 16,
          "kind": "walking",
          "pulse": 84,
          "time": "1 min"
         },
         {
          "Unnamed: 0": 46,
          "diet": "no fat",
          "id": 16,
          "kind": "walking",
          "pulse": 86,
          "time": "15 min"
         },
         {
          "Unnamed: 0": 47,
          "diet": "no fat",
          "id": 16,
          "kind": "walking",
          "pulse": 89,
          "time": "30 min"
         },
         {
          "Unnamed: 0": 48,
          "diet": "no fat",
          "id": 17,
          "kind": "walking",
          "pulse": 103,
          "time": "1 min"
         },
         {
          "Unnamed: 0": 49,
          "diet": "no fat",
          "id": 17,
          "kind": "walking",
          "pulse": 109,
          "time": "15 min"
         },
         {
          "Unnamed: 0": 50,
          "diet": "no fat",
          "id": 17,
          "kind": "walking",
          "pulse": 90,
          "time": "30 min"
         },
         {
          "Unnamed: 0": 51,
          "diet": "no fat",
          "id": 18,
          "kind": "walking",
          "pulse": 92,
          "time": "1 min"
         },
         {
          "Unnamed: 0": 52,
          "diet": "no fat",
          "id": 18,
          "kind": "walking",
          "pulse": 96,
          "time": "15 min"
         },
         {
          "Unnamed: 0": 53,
          "diet": "no fat",
          "id": 18,
          "kind": "walking",
          "pulse": 101,
          "time": "30 min"
         },
         {
          "Unnamed: 0": 54,
          "diet": "no fat",
          "id": 19,
          "kind": "walking",
          "pulse": 97,
          "time": "1 min"
         },
         {
          "Unnamed: 0": 55,
          "diet": "no fat",
          "id": 19,
          "kind": "walking",
          "pulse": 98,
          "time": "15 min"
         },
         {
          "Unnamed: 0": 56,
          "diet": "no fat",
          "id": 19,
          "kind": "walking",
          "pulse": 100,
          "time": "30 min"
         },
         {
          "Unnamed: 0": 57,
          "diet": "no fat",
          "id": 20,
          "kind": "walking",
          "pulse": 102,
          "time": "1 min"
         },
         {
          "Unnamed: 0": 58,
          "diet": "no fat",
          "id": 20,
          "kind": "walking",
          "pulse": 104,
          "time": "15 min"
         },
         {
          "Unnamed: 0": 59,
          "diet": "no fat",
          "id": 20,
          "kind": "walking",
          "pulse": 103,
          "time": "30 min"
         },
         {
          "Unnamed: 0": 60,
          "diet": "low fat",
          "id": 21,
          "kind": "running",
          "pulse": 93,
          "time": "1 min"
         },
         {
          "Unnamed: 0": 61,
          "diet": "low fat",
          "id": 21,
          "kind": "running",
          "pulse": 98,
          "time": "15 min"
         },
         {
          "Unnamed: 0": 62,
          "diet": "low fat",
          "id": 21,
          "kind": "running",
          "pulse": 110,
          "time": "30 min"
         },
         {
          "Unnamed: 0": 63,
          "diet": "low fat",
          "id": 22,
          "kind": "running",
          "pulse": 98,
          "time": "1 min"
         },
         {
          "Unnamed: 0": 64,
          "diet": "low fat",
          "id": 22,
          "kind": "running",
          "pulse": 104,
          "time": "15 min"
         },
         {
          "Unnamed: 0": 65,
          "diet": "low fat",
          "id": 22,
          "kind": "running",
          "pulse": 112,
          "time": "30 min"
         },
         {
          "Unnamed: 0": 66,
          "diet": "low fat",
          "id": 23,
          "kind": "running",
          "pulse": 98,
          "time": "1 min"
         },
         {
          "Unnamed: 0": 67,
          "diet": "low fat",
          "id": 23,
          "kind": "running",
          "pulse": 105,
          "time": "15 min"
         },
         {
          "Unnamed: 0": 68,
          "diet": "low fat",
          "id": 23,
          "kind": "running",
          "pulse": 99,
          "time": "30 min"
         },
         {
          "Unnamed: 0": 69,
          "diet": "low fat",
          "id": 24,
          "kind": "running",
          "pulse": 87,
          "time": "1 min"
         },
         {
          "Unnamed: 0": 70,
          "diet": "low fat",
          "id": 24,
          "kind": "running",
          "pulse": 132,
          "time": "15 min"
         },
         {
          "Unnamed: 0": 71,
          "diet": "low fat",
          "id": 24,
          "kind": "running",
          "pulse": 120,
          "time": "30 min"
         },
         {
          "Unnamed: 0": 72,
          "diet": "low fat",
          "id": 25,
          "kind": "running",
          "pulse": 94,
          "time": "1 min"
         },
         {
          "Unnamed: 0": 73,
          "diet": "low fat",
          "id": 25,
          "kind": "running",
          "pulse": 110,
          "time": "15 min"
         },
         {
          "Unnamed: 0": 74,
          "diet": "low fat",
          "id": 25,
          "kind": "running",
          "pulse": 116,
          "time": "30 min"
         },
         {
          "Unnamed: 0": 75,
          "diet": "no fat",
          "id": 26,
          "kind": "running",
          "pulse": 95,
          "time": "1 min"
         },
         {
          "Unnamed: 0": 76,
          "diet": "no fat",
          "id": 26,
          "kind": "running",
          "pulse": 126,
          "time": "15 min"
         },
         {
          "Unnamed: 0": 77,
          "diet": "no fat",
          "id": 26,
          "kind": "running",
          "pulse": 143,
          "time": "30 min"
         },
         {
          "Unnamed: 0": 78,
          "diet": "no fat",
          "id": 27,
          "kind": "running",
          "pulse": 100,
          "time": "1 min"
         },
         {
          "Unnamed: 0": 79,
          "diet": "no fat",
          "id": 27,
          "kind": "running",
          "pulse": 126,
          "time": "15 min"
         },
         {
          "Unnamed: 0": 80,
          "diet": "no fat",
          "id": 27,
          "kind": "running",
          "pulse": 140,
          "time": "30 min"
         },
         {
          "Unnamed: 0": 81,
          "diet": "no fat",
          "id": 28,
          "kind": "running",
          "pulse": 103,
          "time": "1 min"
         },
         {
          "Unnamed: 0": 82,
          "diet": "no fat",
          "id": 28,
          "kind": "running",
          "pulse": 124,
          "time": "15 min"
         },
         {
          "Unnamed: 0": 83,
          "diet": "no fat",
          "id": 28,
          "kind": "running",
          "pulse": 140,
          "time": "30 min"
         },
         {
          "Unnamed: 0": 84,
          "diet": "no fat",
          "id": 29,
          "kind": "running",
          "pulse": 94,
          "time": "1 min"
         },
         {
          "Unnamed: 0": 85,
          "diet": "no fat",
          "id": 29,
          "kind": "running",
          "pulse": 135,
          "time": "15 min"
         },
         {
          "Unnamed: 0": 86,
          "diet": "no fat",
          "id": 29,
          "kind": "running",
          "pulse": 130,
          "time": "30 min"
         },
         {
          "Unnamed: 0": 87,
          "diet": "no fat",
          "id": 30,
          "kind": "running",
          "pulse": 99,
          "time": "1 min"
         },
         {
          "Unnamed: 0": 88,
          "diet": "no fat",
          "id": 30,
          "kind": "running",
          "pulse": 111,
          "time": "15 min"
         },
         {
          "Unnamed: 0": 89,
          "diet": "no fat",
          "id": 30,
          "kind": "running",
          "pulse": 150,
          "time": "30 min"
         }
        ]
       },
       "facet": {
        "column": {
         "field": "time",
         "type": "nominal"
        },
        "row": {
         "field": "diet",
         "type": "nominal"
        }
       },
       "spec": {
        "layer": [
         {
          "encoding": {
           "color": {
            "field": "kind",
            "legend": null,
            "type": "nominal"
           },
           "x": {
            "field": "kind",
            "type": "nominal"
           },
           "y": {
            "aggregate": "mean",
            "axis": {
             "title": "pulse"
            },
            "field": "pulse",
            "type": "quantitative"
           }
          },
          "mark": "bar"
         },
         {
          "encoding": {
           "x": {
            "field": "kind",
            "type": "nominal"
           },
           "y": {
            "aggregate": "ci0",
            "field": "pulse",
            "type": "quantitative"
           },
           "y2": {
            "aggregate": "ci1",
            "field": "pulse",
            "type": "quantitative"
           }
          },
          "mark": "rule"
         }
        ]
       }
      },
      "image/png": "[encoded data removed]",
      "text/plain": [
       "<VegaLite 2 object>\n",
       "\n",
       "If you see this message, it means the renderer has not been properly enabled\n",
       "for the frontend that you are using. For more information, see\n",
       "https://altair-viz.github.io/user_guide/troubleshooting.html\n"
      ]
     },
     "metadata": {},
     "output_type": "display_data"
    },
    {
     "data": {
      "image/png": "[encoded data removed]",
      "text/plain": [
       "<Figure size 650.875x288 with 2 Axes>"
      ]
     },
     "metadata": {},
     "output_type": "display_data"
    }
   ],
   "source": [
    "display(salt.factorplot(x=\"kind\", y=\"pulse\", col=\"time\", row=\"diet\", kind=\"bar\", data=exercise))\n",
    "g = sns.factorplot(x=\"time\", y=\"pulse\", hue=\"kind\", col=\"diet\", kind=\"bar\", data=exercise)"
   ]
  },
  {
   "cell_type": "code",
   "execution_count": 5,
   "metadata": {},
   "outputs": [
    {
     "data": {
      "application/vnd.vegalite.v2+json": {
       "$schema": "https://vega.github.io/schema/vega-lite/v2.4.1.json",
       "config": {
        "range": {
         "category": [
          "rgba(49.62499999999999,115.62499999999996,161.37500000000003,1)",
          "rgba(224.87499999999997,128.875,44.12500000000004,1)",
          "rgba(58.49999999999999,145.50000000000003,58.49999999999999,1)",
          "rgba(192.125,60.87500000000001,61.62499999999999,1)",
          "rgba(147.49999999999994,113.74999999999999,178.25,1)",
          "rgba(131.875,91.37500000000001,83.12500000000001,1)",
          "rgba(213.50000000000003,132.49999999999997,188.74999999999994,1)",
          "rgba(127.0,127.0,127.0,1)",
          "rgba(168.87500000000003,169.625,53.37500000000001,1)",
          "rgba(45.99999999999998,171.25,184.00000000000003,1)"
         ]
        },
        "view": {
         "height": 300,
         "width": 400
        }
       },
       "data": {
        "values": [
         {
          "Unnamed: 0": 0,
          "diet": "low fat",
          "id": 1,
          "kind": "rest",
          "pulse": 85,
          "time": "1 min"
         },
         {
          "Unnamed: 0": 1,
          "diet": "low fat",
          "id": 1,
          "kind": "rest",
          "pulse": 85,
          "time": "15 min"
         },
         {
          "Unnamed: 0": 2,
          "diet": "low fat",
          "id": 1,
          "kind": "rest",
          "pulse": 88,
          "time": "30 min"
         },
         {
          "Unnamed: 0": 3,
          "diet": "low fat",
          "id": 2,
          "kind": "rest",
          "pulse": 90,
          "time": "1 min"
         },
         {
          "Unnamed: 0": 4,
          "diet": "low fat",
          "id": 2,
          "kind": "rest",
          "pulse": 92,
          "time": "15 min"
         },
         {
          "Unnamed: 0": 5,
          "diet": "low fat",
          "id": 2,
          "kind": "rest",
          "pulse": 93,
          "time": "30 min"
         },
         {
          "Unnamed: 0": 6,
          "diet": "low fat",
          "id": 3,
          "kind": "rest",
          "pulse": 97,
          "time": "1 min"
         },
         {
          "Unnamed: 0": 7,
          "diet": "low fat",
          "id": 3,
          "kind": "rest",
          "pulse": 97,
          "time": "15 min"
         },
         {
          "Unnamed: 0": 8,
          "diet": "low fat",
          "id": 3,
          "kind": "rest",
          "pulse": 94,
          "time": "30 min"
         },
         {
          "Unnamed: 0": 9,
          "diet": "low fat",
          "id": 4,
          "kind": "rest",
          "pulse": 80,
          "time": "1 min"
         },
         {
          "Unnamed: 0": 10,
          "diet": "low fat",
          "id": 4,
          "kind": "rest",
          "pulse": 82,
          "time": "15 min"
         },
         {
          "Unnamed: 0": 11,
          "diet": "low fat",
          "id": 4,
          "kind": "rest",
          "pulse": 83,
          "time": "30 min"
         },
         {
          "Unnamed: 0": 12,
          "diet": "low fat",
          "id": 5,
          "kind": "rest",
          "pulse": 91,
          "time": "1 min"
         },
         {
          "Unnamed: 0": 13,
          "diet": "low fat",
          "id": 5,
          "kind": "rest",
          "pulse": 92,
          "time": "15 min"
         },
         {
          "Unnamed: 0": 14,
          "diet": "low fat",
          "id": 5,
          "kind": "rest",
          "pulse": 91,
          "time": "30 min"
         },
         {
          "Unnamed: 0": 15,
          "diet": "no fat",
          "id": 6,
          "kind": "rest",
          "pulse": 83,
          "time": "1 min"
         },
         {
          "Unnamed: 0": 16,
          "diet": "no fat",
          "id": 6,
          "kind": "rest",
          "pulse": 83,
          "time": "15 min"
         },
         {
          "Unnamed: 0": 17,
          "diet": "no fat",
          "id": 6,
          "kind": "rest",
          "pulse": 84,
          "time": "30 min"
         },
         {
          "Unnamed: 0": 18,
          "diet": "no fat",
          "id": 7,
          "kind": "rest",
          "pulse": 87,
          "time": "1 min"
         },
         {
          "Unnamed: 0": 19,
          "diet": "no fat",
          "id": 7,
          "kind": "rest",
          "pulse": 88,
          "time": "15 min"
         },
         {
          "Unnamed: 0": 20,
          "diet": "no fat",
          "id": 7,
          "kind": "rest",
          "pulse": 90,
          "time": "30 min"
         },
         {
          "Unnamed: 0": 21,
          "diet": "no fat",
          "id": 8,
          "kind": "rest",
          "pulse": 92,
          "time": "1 min"
         },
         {
          "Unnamed: 0": 22,
          "diet": "no fat",
          "id": 8,
          "kind": "rest",
          "pulse": 94,
          "time": "15 min"
         },
         {
          "Unnamed: 0": 23,
          "diet": "no fat",
          "id": 8,
          "kind": "rest",
          "pulse": 95,
          "time": "30 min"
         },
         {
          "Unnamed: 0": 24,
          "diet": "no fat",
          "id": 9,
          "kind": "rest",
          "pulse": 97,
          "time": "1 min"
         },
         {
          "Unnamed: 0": 25,
          "diet": "no fat",
          "id": 9,
          "kind": "rest",
          "pulse": 99,
          "time": "15 min"
         },
         {
          "Unnamed: 0": 26,
          "diet": "no fat",
          "id": 9,
          "kind": "rest",
          "pulse": 96,
          "time": "30 min"
         },
         {
          "Unnamed: 0": 27,
          "diet": "no fat",
          "id": 10,
          "kind": "rest",
          "pulse": 100,
          "time": "1 min"
         },
         {
          "Unnamed: 0": 28,
          "diet": "no fat",
          "id": 10,
          "kind": "rest",
          "pulse": 97,
          "time": "15 min"
         },
         {
          "Unnamed: 0": 29,
          "diet": "no fat",
          "id": 10,
          "kind": "rest",
          "pulse": 100,
          "time": "30 min"
         },
         {
          "Unnamed: 0": 30,
          "diet": "low fat",
          "id": 11,
          "kind": "walking",
          "pulse": 86,
          "time": "1 min"
         },
         {
          "Unnamed: 0": 31,
          "diet": "low fat",
          "id": 11,
          "kind": "walking",
          "pulse": 86,
          "time": "15 min"
         },
         {
          "Unnamed: 0": 32,
          "diet": "low fat",
          "id": 11,
          "kind": "walking",
          "pulse": 84,
          "time": "30 min"
         },
         {
          "Unnamed: 0": 33,
          "diet": "low fat",
          "id": 12,
          "kind": "walking",
          "pulse": 93,
          "time": "1 min"
         },
         {
          "Unnamed: 0": 34,
          "diet": "low fat",
          "id": 12,
          "kind": "walking",
          "pulse": 103,
          "time": "15 min"
         },
         {
          "Unnamed: 0": 35,
          "diet": "low fat",
          "id": 12,
          "kind": "walking",
          "pulse": 104,
          "time": "30 min"
         },
         {
          "Unnamed: 0": 36,
          "diet": "low fat",
          "id": 13,
          "kind": "walking",
          "pulse": 90,
          "time": "1 min"
         },
         {
          "Unnamed: 0": 37,
          "diet": "low fat",
          "id": 13,
          "kind": "walking",
          "pulse": 92,
          "time": "15 min"
         },
         {
          "Unnamed: 0": 38,
          "diet": "low fat",
          "id": 13,
          "kind": "walking",
          "pulse": 93,
          "time": "30 min"
         },
         {
          "Unnamed: 0": 39,
          "diet": "low fat",
          "id": 14,
          "kind": "walking",
          "pulse": 95,
          "time": "1 min"
         },
         {
          "Unnamed: 0": 40,
          "diet": "low fat",
          "id": 14,
          "kind": "walking",
          "pulse": 96,
          "time": "15 min"
         },
         {
          "Unnamed: 0": 41,
          "diet": "low fat",
          "id": 14,
          "kind": "walking",
          "pulse": 100,
          "time": "30 min"
         },
         {
          "Unnamed: 0": 42,
          "diet": "low fat",
          "id": 15,
          "kind": "walking",
          "pulse": 89,
          "time": "1 min"
         },
         {
          "Unnamed: 0": 43,
          "diet": "low fat",
          "id": 15,
          "kind": "walking",
          "pulse": 96,
          "time": "15 min"
         },
         {
          "Unnamed: 0": 44,
          "diet": "low fat",
          "id": 15,
          "kind": "walking",
          "pulse": 95,
          "time": "30 min"
         },
         {
          "Unnamed: 0": 45,
          "diet": "no fat",
          "id": 16,
          "kind": "walking",
          "pulse": 84,
          "time": "1 min"
         },
         {
          "Unnamed: 0": 46,
          "diet": "no fat",
          "id": 16,
          "kind": "walking",
          "pulse": 86,
          "time": "15 min"
         },
         {
          "Unnamed: 0": 47,
          "diet": "no fat",
          "id": 16,
          "kind": "walking",
          "pulse": 89,
          "time": "30 min"
         },
         {
          "Unnamed: 0": 48,
          "diet": "no fat",
          "id": 17,
          "kind": "walking",
          "pulse": 103,
          "time": "1 min"
         },
         {
          "Unnamed: 0": 49,
          "diet": "no fat",
          "id": 17,
          "kind": "walking",
          "pulse": 109,
          "time": "15 min"
         },
         {
          "Unnamed: 0": 50,
          "diet": "no fat",
          "id": 17,
          "kind": "walking",
          "pulse": 90,
          "time": "30 min"
         },
         {
          "Unnamed: 0": 51,
          "diet": "no fat",
          "id": 18,
          "kind": "walking",
          "pulse": 92,
          "time": "1 min"
         },
         {
          "Unnamed: 0": 52,
          "diet": "no fat",
          "id": 18,
          "kind": "walking",
          "pulse": 96,
          "time": "15 min"
         },
         {
          "Unnamed: 0": 53,
          "diet": "no fat",
          "id": 18,
          "kind": "walking",
          "pulse": 101,
          "time": "30 min"
         },
         {
          "Unnamed: 0": 54,
          "diet": "no fat",
          "id": 19,
          "kind": "walking",
          "pulse": 97,
          "time": "1 min"
         },
         {
          "Unnamed: 0": 55,
          "diet": "no fat",
          "id": 19,
          "kind": "walking",
          "pulse": 98,
          "time": "15 min"
         },
         {
          "Unnamed: 0": 56,
          "diet": "no fat",
          "id": 19,
          "kind": "walking",
          "pulse": 100,
          "time": "30 min"
         },
         {
          "Unnamed: 0": 57,
          "diet": "no fat",
          "id": 20,
          "kind": "walking",
          "pulse": 102,
          "time": "1 min"
         },
         {
          "Unnamed: 0": 58,
          "diet": "no fat",
          "id": 20,
          "kind": "walking",
          "pulse": 104,
          "time": "15 min"
         },
         {
          "Unnamed: 0": 59,
          "diet": "no fat",
          "id": 20,
          "kind": "walking",
          "pulse": 103,
          "time": "30 min"
         },
         {
          "Unnamed: 0": 60,
          "diet": "low fat",
          "id": 21,
          "kind": "running",
          "pulse": 93,
          "time": "1 min"
         },
         {
          "Unnamed: 0": 61,
          "diet": "low fat",
          "id": 21,
          "kind": "running",
          "pulse": 98,
          "time": "15 min"
         },
         {
          "Unnamed: 0": 62,
          "diet": "low fat",
          "id": 21,
          "kind": "running",
          "pulse": 110,
          "time": "30 min"
         },
         {
          "Unnamed: 0": 63,
          "diet": "low fat",
          "id": 22,
          "kind": "running",
          "pulse": 98,
          "time": "1 min"
         },
         {
          "Unnamed: 0": 64,
          "diet": "low fat",
          "id": 22,
          "kind": "running",
          "pulse": 104,
          "time": "15 min"
         },
         {
          "Unnamed: 0": 65,
          "diet": "low fat",
          "id": 22,
          "kind": "running",
          "pulse": 112,
          "time": "30 min"
         },
         {
          "Unnamed: 0": 66,
          "diet": "low fat",
          "id": 23,
          "kind": "running",
          "pulse": 98,
          "time": "1 min"
         },
         {
          "Unnamed: 0": 67,
          "diet": "low fat",
          "id": 23,
          "kind": "running",
          "pulse": 105,
          "time": "15 min"
         },
         {
          "Unnamed: 0": 68,
          "diet": "low fat",
          "id": 23,
          "kind": "running",
          "pulse": 99,
          "time": "30 min"
         },
         {
          "Unnamed: 0": 69,
          "diet": "low fat",
          "id": 24,
          "kind": "running",
          "pulse": 87,
          "time": "1 min"
         },
         {
          "Unnamed: 0": 70,
          "diet": "low fat",
          "id": 24,
          "kind": "running",
          "pulse": 132,
          "time": "15 min"
         },
         {
          "Unnamed: 0": 71,
          "diet": "low fat",
          "id": 24,
          "kind": "running",
          "pulse": 120,
          "time": "30 min"
         },
         {
          "Unnamed: 0": 72,
          "diet": "low fat",
          "id": 25,
          "kind": "running",
          "pulse": 94,
          "time": "1 min"
         },
         {
          "Unnamed: 0": 73,
          "diet": "low fat",
          "id": 25,
          "kind": "running",
          "pulse": 110,
          "time": "15 min"
         },
         {
          "Unnamed: 0": 74,
          "diet": "low fat",
          "id": 25,
          "kind": "running",
          "pulse": 116,
          "time": "30 min"
         },
         {
          "Unnamed: 0": 75,
          "diet": "no fat",
          "id": 26,
          "kind": "running",
          "pulse": 95,
          "time": "1 min"
         },
         {
          "Unnamed: 0": 76,
          "diet": "no fat",
          "id": 26,
          "kind": "running",
          "pulse": 126,
          "time": "15 min"
         },
         {
          "Unnamed: 0": 77,
          "diet": "no fat",
          "id": 26,
          "kind": "running",
          "pulse": 143,
          "time": "30 min"
         },
         {
          "Unnamed: 0": 78,
          "diet": "no fat",
          "id": 27,
          "kind": "running",
          "pulse": 100,
          "time": "1 min"
         },
         {
          "Unnamed: 0": 79,
          "diet": "no fat",
          "id": 27,
          "kind": "running",
          "pulse": 126,
          "time": "15 min"
         },
         {
          "Unnamed: 0": 80,
          "diet": "no fat",
          "id": 27,
          "kind": "running",
          "pulse": 140,
          "time": "30 min"
         },
         {
          "Unnamed: 0": 81,
          "diet": "no fat",
          "id": 28,
          "kind": "running",
          "pulse": 103,
          "time": "1 min"
         },
         {
          "Unnamed: 0": 82,
          "diet": "no fat",
          "id": 28,
          "kind": "running",
          "pulse": 124,
          "time": "15 min"
         },
         {
          "Unnamed: 0": 83,
          "diet": "no fat",
          "id": 28,
          "kind": "running",
          "pulse": 140,
          "time": "30 min"
         },
         {
          "Unnamed: 0": 84,
          "diet": "no fat",
          "id": 29,
          "kind": "running",
          "pulse": 94,
          "time": "1 min"
         },
         {
          "Unnamed: 0": 85,
          "diet": "no fat",
          "id": 29,
          "kind": "running",
          "pulse": 135,
          "time": "15 min"
         },
         {
          "Unnamed: 0": 86,
          "diet": "no fat",
          "id": 29,
          "kind": "running",
          "pulse": 130,
          "time": "30 min"
         },
         {
          "Unnamed: 0": 87,
          "diet": "no fat",
          "id": 30,
          "kind": "running",
          "pulse": 99,
          "time": "1 min"
         },
         {
          "Unnamed: 0": 88,
          "diet": "no fat",
          "id": 30,
          "kind": "running",
          "pulse": 111,
          "time": "15 min"
         },
         {
          "Unnamed: 0": 89,
          "diet": "no fat",
          "id": 30,
          "kind": "running",
          "pulse": 150,
          "time": "30 min"
         }
        ]
       },
       "facet": {
        "column": {
         "field": "diet",
         "type": "nominal"
        },
        "row": {
         "field": "kind",
         "type": "nominal"
        }
       },
       "spec": {
        "layer": [
         {
          "encoding": {
           "color": {
            "field": "time",
            "legend": null,
            "type": "nominal"
           },
           "x": {
            "field": "time",
            "type": "nominal"
           },
           "y": {
            "aggregate": "mean",
            "axis": {
             "title": "pulse"
            },
            "field": "pulse",
            "type": "quantitative"
           }
          },
          "mark": "bar"
         },
         {
          "encoding": {
           "x": {
            "field": "time",
            "type": "nominal"
           },
           "y": {
            "aggregate": "ci0",
            "field": "pulse",
            "type": "quantitative"
           },
           "y2": {
            "aggregate": "ci1",
            "field": "pulse",
            "type": "quantitative"
           }
          },
          "mark": "rule"
         }
        ]
       }
      },
      "image/png": "[encoded data removed]",
      "text/plain": [
       "<VegaLite 2 object>\n",
       "\n",
       "If you see this message, it means the renderer has not been properly enabled\n",
       "for the frontend that you are using. For more information, see\n",
       "https://altair-viz.github.io/user_guide/troubleshooting.html\n"
      ]
     },
     "metadata": {},
     "output_type": "display_data"
    },
    {
     "data": {
      "image/png": "[encoded data removed]",
      "text/plain": [
       "<Figure size 576x864 with 6 Axes>"
      ]
     },
     "metadata": {},
     "output_type": "display_data"
    }
   ],
   "source": [
    "display(salt.factorplot(x=\"time\", y=\"pulse\", row=\"kind\", col=\"diet\", kind=\"bar\", data=exercise))\n",
    "g = sns.factorplot(x=\"time\", y=\"pulse\", row=\"kind\", col=\"diet\", kind=\"bar\", data=exercise)"
   ]
  },
  {
   "cell_type": "code",
   "execution_count": 6,
   "metadata": {},
   "outputs": [
    {
     "data": {
      "application/vnd.vegalite.v2+json": {
       "$schema": "https://vega.github.io/schema/vega-lite/v2.4.1.json",
       "config": {
        "range": {
         "category": [
          "rgba(49.62499999999999,115.62499999999996,161.37500000000003,1)",
          "rgba(224.87499999999997,128.875,44.12500000000004,1)",
          "rgba(58.49999999999999,145.50000000000003,58.49999999999999,1)",
          "rgba(192.125,60.87500000000001,61.62499999999999,1)",
          "rgba(147.49999999999994,113.74999999999999,178.25,1)",
          "rgba(131.875,91.37500000000001,83.12500000000001,1)",
          "rgba(213.50000000000003,132.49999999999997,188.74999999999994,1)",
          "rgba(127.0,127.0,127.0,1)",
          "rgba(168.87500000000003,169.625,53.37500000000001,1)",
          "rgba(45.99999999999998,171.25,184.00000000000003,1)"
         ]
        },
        "view": {
         "height": 300,
         "width": 400
        }
       },
       "data": {
        "values": [
         {
          "adult_male": false,
          "age": 38,
          "alive": "yes",
          "alone": false,
          "class": "First",
          "deck": "C",
          "embark_town": "Cherbourg",
          "embarked": "C",
          "fare": 71.2833,
          "parch": 0,
          "pclass": 1,
          "sex": "female",
          "sibsp": 1,
          "survived": 1,
          "who": "woman"
         },
         {
          "adult_male": false,
          "age": 35,
          "alive": "yes",
          "alone": false,
          "class": "First",
          "deck": "C",
          "embark_town": "Southampton",
          "embarked": "S",
          "fare": 53.1,
          "parch": 0,
          "pclass": 1,
          "sex": "female",
          "sibsp": 1,
          "survived": 1,
          "who": "woman"
         },
         {
          "adult_male": true,
          "age": 54,
          "alive": "no",
          "alone": true,
          "class": "First",
          "deck": "E",
          "embark_town": "Southampton",
          "embarked": "S",
          "fare": 51.8625,
          "parch": 0,
          "pclass": 1,
          "sex": "male",
          "sibsp": 0,
          "survived": 0,
          "who": "man"
         },
         {
          "adult_male": false,
          "age": 4,
          "alive": "yes",
          "alone": false,
          "class": "Third",
          "deck": "G",
          "embark_town": "Southampton",
          "embarked": "S",
          "fare": 16.7,
          "parch": 1,
          "pclass": 3,
          "sex": "female",
          "sibsp": 1,
          "survived": 1,
          "who": "child"
         },
         {
          "adult_male": false,
          "age": 58,
          "alive": "yes",
          "alone": true,
          "class": "First",
          "deck": "C",
          "embark_town": "Southampton",
          "embarked": "S",
          "fare": 26.55,
          "parch": 0,
          "pclass": 1,
          "sex": "female",
          "sibsp": 0,
          "survived": 1,
          "who": "woman"
         },
         {
          "adult_male": true,
          "age": 34,
          "alive": "yes",
          "alone": true,
          "class": "Second",
          "deck": "D",
          "embark_town": "Southampton",
          "embarked": "S",
          "fare": 13,
          "parch": 0,
          "pclass": 2,
          "sex": "male",
          "sibsp": 0,
          "survived": 1,
          "who": "man"
         },
         {
          "adult_male": true,
          "age": 28,
          "alive": "yes",
          "alone": true,
          "class": "First",
          "deck": "A",
          "embark_town": "Southampton",
          "embarked": "S",
          "fare": 35.5,
          "parch": 0,
          "pclass": 1,
          "sex": "male",
          "sibsp": 0,
          "survived": 1,
          "who": "man"
         },
         {
          "adult_male": true,
          "age": 19,
          "alive": "no",
          "alone": false,
          "class": "First",
          "deck": "C",
          "embark_town": "Southampton",
          "embarked": "S",
          "fare": 263,
          "parch": 2,
          "pclass": 1,
          "sex": "male",
          "sibsp": 3,
          "survived": 0,
          "who": "man"
         },
         {
          "adult_male": false,
          "age": null,
          "alive": "yes",
          "alone": false,
          "class": "First",
          "deck": "B",
          "embark_town": "Cherbourg",
          "embarked": "C",
          "fare": 146.5208,
          "parch": 0,
          "pclass": 1,
          "sex": "female",
          "sibsp": 1,
          "survived": 1,
          "who": "woman"
         },
         {
          "adult_male": false,
          "age": 49,
          "alive": "yes",
          "alone": false,
          "class": "First",
          "deck": "D",
          "embark_town": "Cherbourg",
          "embarked": "C",
          "fare": 76.7292,
          "parch": 0,
          "pclass": 1,
          "sex": "female",
          "sibsp": 1,
          "survived": 1,
          "who": "woman"
         },
         {
          "adult_male": true,
          "age": 65,
          "alive": "no",
          "alone": false,
          "class": "First",
          "deck": "B",
          "embark_town": "Cherbourg",
          "embarked": "C",
          "fare": 61.9792,
          "parch": 1,
          "pclass": 1,
          "sex": "male",
          "sibsp": 0,
          "survived": 0,
          "who": "man"
         },
         {
          "adult_male": true,
          "age": null,
          "alive": "yes",
          "alone": true,
          "class": "First",
          "deck": "C",
          "embark_town": "Southampton",
          "embarked": "S",
          "fare": 35.5,
          "parch": 0,
          "pclass": 1,
          "sex": "male",
          "sibsp": 0,
          "survived": 1,
          "who": "man"
         },
         {
          "adult_male": false,
          "age": 38,
          "alive": "yes",
          "alone": true,
          "class": "First",
          "deck": "B",
          "embark_town": null,
          "embarked": null,
          "fare": 80,
          "parch": 0,
          "pclass": 1,
          "sex": "female",
          "sibsp": 0,
          "survived": 1,
          "who": "woman"
         },
         {
          "adult_male": true,
          "age": 45,
          "alive": "no",
          "alone": false,
          "class": "First",
          "deck": "C",
          "embark_town": "Southampton",
          "embarked": "S",
          "fare": 83.475,
          "parch": 0,
          "pclass": 1,
          "sex": "male",
          "sibsp": 1,
          "survived": 0,
          "who": "man"
         },
         {
          "adult_male": false,
          "age": 29,
          "alive": "yes",
          "alone": true,
          "class": "Second",
          "deck": "F",
          "embark_town": "Southampton",
          "embarked": "S",
          "fare": 10.5,
          "parch": 0,
          "pclass": 2,
          "sex": "female",
          "sibsp": 0,
          "survived": 1,
          "who": "woman"
         },
         {
          "adult_male": true,
          "age": 25,
          "alive": "no",
          "alone": true,
          "class": "Third",
          "deck": "F",
          "embark_town": "Southampton",
          "embarked": "S",
          "fare": 7.65,
          "parch": 0,
          "pclass": 3,
          "sex": "male",
          "sibsp": 0,
          "survived": 0,
          "who": "man"
         },
         {
          "adult_male": false,
          "age": 23,
          "alive": "yes",
          "alone": false,
          "class": "First",
          "deck": "C",
          "embark_town": "Southampton",
          "embarked": "S",
          "fare": 263,
          "parch": 2,
          "pclass": 1,
          "sex": "female",
          "sibsp": 3,
          "survived": 1,
          "who": "woman"
         },
         {
          "adult_male": true,
          "age": 46,
          "alive": "no",
          "alone": false,
          "class": "First",
          "deck": "E",
          "embark_town": "Southampton",
          "embarked": "S",
          "fare": 61.175,
          "parch": 0,
          "pclass": 1,
          "sex": "male",
          "sibsp": 1,
          "survived": 0,
          "who": "man"
         },
         {
          "adult_male": true,
          "age": 71,
          "alive": "no",
          "alone": true,
          "class": "First",
          "deck": "A",
          "embark_town": "Cherbourg",
          "embarked": "C",
          "fare": 34.6542,
          "parch": 0,
          "pclass": 1,
          "sex": "male",
          "sibsp": 0,
          "survived": 0,
          "who": "man"
         },
         {
          "adult_male": true,
          "age": 23,
          "alive": "yes",
          "alone": false,
          "class": "First",
          "deck": "D",
          "embark_town": "Cherbourg",
          "embarked": "C",
          "fare": 63.3583,
          "parch": 1,
          "pclass": 1,
          "sex": "male",
          "sibsp": 0,
          "survived": 1,
          "who": "man"
         },
         {
          "adult_male": true,
          "age": 21,
          "alive": "no",
          "alone": false,
          "class": "First",
          "deck": "D",
          "embark_town": "Southampton",
          "embarked": "S",
          "fare": 77.2875,
          "parch": 1,
          "pclass": 1,
          "sex": "male",
          "sibsp": 0,
          "survived": 0,
          "who": "man"
         },
         {
          "adult_male": true,
          "age": 47,
          "alive": "no",
          "alone": true,
          "class": "First",
          "deck": "C",
          "embark_town": "Southampton",
          "embarked": "S",
          "fare": 52,
          "parch": 0,
          "pclass": 1,
          "sex": "male",
          "sibsp": 0,
          "survived": 0,
          "who": "man"
         },
         {
          "adult_male": true,
          "age": 24,
          "alive": "no",
          "alone": false,
          "class": "First",
          "deck": "B",
          "embark_town": "Cherbourg",
          "embarked": "C",
          "fare": 247.5208,
          "parch": 1,
          "pclass": 1,
          "sex": "male",
          "sibsp": 0,
          "survived": 0,
          "who": "man"
         },
         {
          "adult_male": false,
          "age": 32.5,
          "alive": "yes",
          "alone": true,
          "class": "Second",
          "deck": "E",
          "embark_town": "Southampton",
          "embarked": "S",
          "fare": 13,
          "parch": 0,
          "pclass": 2,
          "sex": "female",
          "sibsp": 0,
          "survived": 1,
          "who": "woman"
         },
         {
          "adult_male": true,
          "age": 54,
          "alive": "no",
          "alone": false,
          "class": "First",
          "deck": "D",
          "embark_town": "Southampton",
          "embarked": "S",
          "fare": 77.2875,
          "parch": 1,
          "pclass": 1,
          "sex": "male",
          "sibsp": 0,
          "survived": 0,
          "who": "man"
         },
         {
          "adult_male": false,
          "age": null,
          "alive": "yes",
          "alone": false,
          "class": "Third",
          "deck": "F",
          "embark_town": "Cherbourg",
          "embarked": "C",
          "fare": 22.3583,
          "parch": 1,
          "pclass": 3,
          "sex": "female",
          "sibsp": 1,
          "survived": 1,
          "who": "woman"
         },
         {
          "adult_male": false,
          "age": 19,
          "alive": "yes",
          "alone": false,
          "class": "First",
          "deck": "D",
          "embark_town": "Southampton",
          "embarked": "S",
          "fare": 26.2833,
          "parch": 2,
          "pclass": 1,
          "sex": "female",
          "sibsp": 0,
          "survived": 1,
          "who": "woman"
         },
         {
          "adult_male": true,
          "age": 37,
          "alive": "no",
          "alone": false,
          "class": "First",
          "deck": "C",
          "embark_town": "Southampton",
          "embarked": "S",
          "fare": 53.1,
          "parch": 0,
          "pclass": 1,
          "sex": "male",
          "sibsp": 1,
          "survived": 0,
          "who": "man"
         },
         {
          "adult_male": true,
          "age": 24,
          "alive": "no",
          "alone": true,
          "class": "First",
          "deck": "B",
          "embark_town": "Cherbourg",
          "embarked": "C",
          "fare": 79.2,
          "parch": 0,
          "pclass": 1,
          "sex": "male",
          "sibsp": 0,
          "survived": 0,
          "who": "man"
         },
         {
          "adult_male": true,
          "age": 36.5,
          "alive": "no",
          "alone": false,
          "class": "Second",
          "deck": "F",
          "embark_town": "Southampton",
          "embarked": "S",
          "fare": 26,
          "parch": 2,
          "pclass": 2,
          "sex": "male",
          "sibsp": 0,
          "survived": 0,
          "who": "man"
         },
         {
          "adult_male": false,
          "age": 22,
          "alive": "yes",
          "alone": false,
          "class": "First",
          "deck": "C",
          "embark_town": "Southampton",
          "embarked": "S",
          "fare": 66.6,
          "parch": 0,
          "pclass": 1,
          "sex": "female",
          "sibsp": 1,
          "survived": 1,
          "who": "woman"
         },
         {
          "adult_male": false,
          "age": null,
          "alive": "yes",
          "alone": false,
          "class": "First",
          "deck": "E",
          "embark_town": "Southampton",
          "embarked": "S",
          "fare": 55,
          "parch": 1,
          "pclass": 1,
          "sex": "female",
          "sibsp": 0,
          "survived": 1,
          "who": "woman"
         },
         {
          "adult_male": true,
          "age": 61,
          "alive": "no",
          "alone": true,
          "class": "First",
          "deck": "B",
          "embark_town": "Southampton",
          "embarked": "S",
          "fare": 33.5,
          "parch": 0,
          "pclass": 1,
          "sex": "male",
          "sibsp": 0,
          "survived": 0,
          "who": "man"
         },
         {
          "adult_male": true,
          "age": 56,
          "alive": "no",
          "alone": true,
          "class": "First",
          "deck": "A",
          "embark_town": "Cherbourg",
          "embarked": "C",
          "fare": 30.6958,
          "parch": 0,
          "pclass": 1,
          "sex": "male",
          "sibsp": 0,
          "survived": 0,
          "who": "man"
         },
         {
          "adult_male": false,
          "age": 50,
          "alive": "no",
          "alone": true,
          "class": "First",
          "deck": "C",
          "embark_town": "Cherbourg",
          "embarked": "C",
          "fare": 28.7125,
          "parch": 0,
          "pclass": 1,
          "sex": "female",
          "sibsp": 0,
          "survived": 0,
          "who": "woman"
         },
         {
          "adult_male": false,
          "age": 1,
          "alive": "yes",
          "alone": false,
          "class": "Second",
          "deck": "F",
          "embark_town": "Southampton",
          "embarked": "S",
          "fare": 39,
          "parch": 1,
          "pclass": 2,
          "sex": "male",
          "sibsp": 2,
          "survived": 1,
          "who": "child"
         },
         {
          "adult_male": true,
          "age": null,
          "alive": "no",
          "alone": true,
          "class": "First",
          "deck": "A",
          "embark_town": "Southampton",
          "embarked": "S",
          "fare": 50,
          "parch": 0,
          "pclass": 1,
          "sex": "male",
          "sibsp": 0,
          "survived": 0,
          "who": "man"
         },
         {
          "adult_male": false,
          "age": 3,
          "alive": "yes",
          "alone": false,
          "class": "Second",
          "deck": "F",
          "embark_town": "Southampton",
          "embarked": "S",
          "fare": 26,
          "parch": 1,
          "pclass": 2,
          "sex": "male",
          "sibsp": 1,
          "survived": 1,
          "who": "child"
         },
         {
          "adult_male": false,
          "age": 44,
          "alive": "yes",
          "alone": true,
          "class": "First",
          "deck": "B",
          "embark_town": "Cherbourg",
          "embarked": "C",
          "fare": 27.7208,
          "parch": 0,
          "pclass": 1,
          "sex": "female",
          "sibsp": 0,
          "survived": 1,
          "who": "woman"
         },
         {
          "adult_male": false,
          "age": 58,
          "alive": "yes",
          "alone": true,
          "class": "First",
          "deck": "B",
          "embark_town": "Cherbourg",
          "embarked": "C",
          "fare": 146.5208,
          "parch": 0,
          "pclass": 1,
          "sex": "female",
          "sibsp": 0,
          "survived": 1,
          "who": "woman"
         },
         {
          "adult_male": false,
          "age": 2,
          "alive": "no",
          "alone": false,
          "class": "Third",
          "deck": "G",
          "embark_town": "Southampton",
          "embarked": "S",
          "fare": 10.4625,
          "parch": 1,
          "pclass": 3,
          "sex": "female",
          "sibsp": 0,
          "survived": 0,
          "who": "child"
         },
         {
          "adult_male": true,
          "age": 40,
          "alive": "yes",
          "alone": true,
          "class": "First",
          "deck": "A",
          "embark_town": "Cherbourg",
          "embarked": "C",
          "fare": 31,
          "parch": 0,
          "pclass": 1,
          "sex": "male",
          "sibsp": 0,
          "survived": 1,
          "who": "man"
         },
         {
          "adult_male": false,
          "age": 31,
          "alive": "yes",
          "alone": false,
          "class": "First",
          "deck": "D",
          "embark_town": "Cherbourg",
          "embarked": "C",
          "fare": 113.275,
          "parch": 0,
          "pclass": 1,
          "sex": "female",
          "sibsp": 1,
          "survived": 1,
          "who": "woman"
         },
         {
          "adult_male": false,
          "age": 32,
          "alive": "yes",
          "alone": true,
          "class": "First",
          "deck": "D",
          "embark_town": "Cherbourg",
          "embarked": "C",
          "fare": 76.2917,
          "parch": 0,
          "pclass": 1,
          "sex": "female",
          "sibsp": 0,
          "survived": 1,
          "who": "woman"
         },
         {
          "adult_male": true,
          "age": 38,
          "alive": "yes",
          "alone": false,
          "class": "First",
          "deck": "C",
          "embark_town": "Southampton",
          "embarked": "S",
          "fare": 90,
          "parch": 0,
          "pclass": 1,
          "sex": "male",
          "sibsp": 1,
          "survived": 1,
          "who": "man"
         },
         {
          "adult_male": false,
          "age": 35,
          "alive": "yes",
          "alone": false,
          "class": "First",
          "deck": "C",
          "embark_town": "Southampton",
          "embarked": "S",
          "fare": 83.475,
          "parch": 0,
          "pclass": 1,
          "sex": "female",
          "sibsp": 1,
          "survived": 1,
          "who": "woman"
         },
         {
          "adult_male": true,
          "age": 44,
          "alive": "no",
          "alone": false,
          "class": "First",
          "deck": "C",
          "embark_town": "Queenstown",
          "embarked": "Q",
          "fare": 90,
          "parch": 0,
          "pclass": 1,
          "sex": "male",
          "sibsp": 2,
          "survived": 0,
          "who": "man"
         },
         {
          "adult_male": true,
          "age": 37,
          "alive": "yes",
          "alone": false,
          "class": "First",
          "deck": "D",
          "embark_town": "Southampton",
          "embarked": "S",
          "fare": 52.5542,
          "parch": 1,
          "pclass": 1,
          "sex": "male",
          "sibsp": 1,
          "survived": 1,
          "who": "man"
         },
         {
          "adult_male": false,
          "age": 29,
          "alive": "no",
          "alone": false,
          "class": "Third",
          "deck": "G",
          "embark_town": "Southampton",
          "embarked": "S",
          "fare": 10.4625,
          "parch": 1,
          "pclass": 3,
          "sex": "female",
          "sibsp": 1,
          "survived": 0,
          "who": "woman"
         },
         {
          "adult_male": true,
          "age": 62,
          "alive": "no",
          "alone": true,
          "class": "First",
          "deck": "C",
          "embark_town": "Southampton",
          "embarked": "S",
          "fare": 26.55,
          "parch": 0,
          "pclass": 1,
          "sex": "male",
          "sibsp": 0,
          "survived": 0,
          "who": "man"
         },
         {
          "adult_male": false,
          "age": 30,
          "alive": "yes",
          "alone": true,
          "class": "First",
          "deck": "B",
          "embark_town": "Southampton",
          "embarked": "S",
          "fare": 86.5,
          "parch": 0,
          "pclass": 1,
          "sex": "female",
          "sibsp": 0,
          "survived": 1,
          "who": "woman"
         },
         {
          "adult_male": true,
          "age": 52,
          "alive": "no",
          "alone": false,
          "class": "First",
          "deck": "E",
          "embark_town": "Southampton",
          "embarked": "S",
          "fare": 79.65,
          "parch": 1,
          "pclass": 1,
          "sex": "male",
          "sibsp": 1,
          "survived": 0,
          "who": "man"
         },
         {
          "adult_male": true,
          "age": 40,
          "alive": "no",
          "alone": true,
          "class": "First",
          "deck": "B",
          "embark_town": "Southampton",
          "embarked": "S",
          "fare": 0,
          "parch": 0,
          "pclass": 1,
          "sex": "male",
          "sibsp": 0,
          "survived": 0,
          "who": "man"
         },
         {
          "adult_male": false,
          "age": 58,
          "alive": "yes",
          "alone": false,
          "class": "First",
          "deck": "C",
          "embark_town": "Southampton",
          "embarked": "S",
          "fare": 153.4625,
          "parch": 1,
          "pclass": 1,
          "sex": "female",
          "sibsp": 0,
          "survived": 1,
          "who": "woman"
         },
         {
          "adult_male": false,
          "age": 35,
          "alive": "yes",
          "alone": true,
          "class": "First",
          "deck": "C",
          "embark_town": "Southampton",
          "embarked": "S",
          "fare": 135.6333,
          "parch": 0,
          "pclass": 1,
          "sex": "female",
          "sibsp": 0,
          "survived": 1,
          "who": "woman"
         },
         {
          "adult_male": true,
          "age": 37,
          "alive": "no",
          "alone": false,
          "class": "First",
          "deck": "C",
          "embark_town": "Cherbourg",
          "embarked": "C",
          "fare": 29.7,
          "parch": 1,
          "pclass": 1,
          "sex": "male",
          "sibsp": 0,
          "survived": 0,
          "who": "man"
         },
         {
          "adult_male": false,
          "age": 63,
          "alive": "yes",
          "alone": false,
          "class": "First",
          "deck": "D",
          "embark_town": "Southampton",
          "embarked": "S",
          "fare": 77.9583,
          "parch": 0,
          "pclass": 1,
          "sex": "female",
          "sibsp": 1,
          "survived": 1,
          "who": "woman"
         },
         {
          "adult_male": true,
          "age": null,
          "alive": "no",
          "alone": true,
          "class": "First",
          "deck": "A",
          "embark_town": "Southampton",
          "embarked": "S",
          "fare": 26,
          "parch": 0,
          "pclass": 1,
          "sex": "male",
          "sibsp": 0,
          "survived": 0,
          "who": "man"
         },
         {
          "adult_male": false,
          "age": 19,
          "alive": "yes",
          "alone": false,
          "class": "First",
          "deck": "B",
          "embark_town": "Cherbourg",
          "embarked": "C",
          "fare": 91.0792,
          "parch": 0,
          "pclass": 1,
          "sex": "female",
          "sibsp": 1,
          "survived": 1,
          "who": "woman"
         },
         {
          "adult_male": true,
          "age": 36,
          "alive": "no",
          "alone": true,
          "class": "Second",
          "deck": "D",
          "embark_town": "Cherbourg",
          "embarked": "C",
          "fare": 12.875,
          "parch": 0,
          "pclass": 2,
          "sex": "male",
          "sibsp": 0,
          "survived": 0,
          "who": "man"
         },
         {
          "adult_male": false,
          "age": 2,
          "alive": "no",
          "alone": false,
          "class": "First",
          "deck": "C",
          "embark_town": "Southampton",
          "embarked": "S",
          "fare": 151.55,
          "parch": 2,
          "pclass": 1,
          "sex": "female",
          "sibsp": 1,
          "survived": 0,
          "who": "child"
         },
         {
          "adult_male": true,
          "age": null,
          "alive": "yes",
          "alone": true,
          "class": "First",
          "deck": "C",
          "embark_town": "Southampton",
          "embarked": "S",
          "fare": 30.5,
          "parch": 0,
          "pclass": 1,
          "sex": "male",
          "sibsp": 0,
          "survived": 1,
          "who": "man"
         },
         {
          "adult_male": false,
          "age": 50,
          "alive": "yes",
          "alone": false,
          "class": "First",
          "deck": "B",
          "embark_town": "Cherbourg",
          "embarked": "C",
          "fare": 247.5208,
          "parch": 1,
          "pclass": 1,
          "sex": "female",
          "sibsp": 0,
          "survived": 1,
          "who": "woman"
         },
         {
          "adult_male": false,
          "age": null,
          "alive": "yes",
          "alone": true,
          "class": "Second",
          "deck": "E",
          "embark_town": "Queenstown",
          "embarked": "Q",
          "fare": 12.35,
          "parch": 0,
          "pclass": 2,
          "sex": "female",
          "sibsp": 0,
          "survived": 1,
          "who": "woman"
         },
         {
          "adult_male": false,
          "age": 0.92,
          "alive": "yes",
          "alone": false,
          "class": "First",
          "deck": "C",
          "embark_town": "Southampton",
          "embarked": "S",
          "fare": 151.55,
          "parch": 2,
          "pclass": 1,
          "sex": "male",
          "sibsp": 1,
          "survived": 1,
          "who": "child"
         },
         {
          "adult_male": false,
          "age": 17,
          "alive": "yes",
          "alone": false,
          "class": "First",
          "deck": "C",
          "embark_town": "Cherbourg",
          "embarked": "C",
          "fare": 108.9,
          "parch": 0,
          "pclass": 1,
          "sex": "female",
          "sibsp": 1,
          "survived": 1,
          "who": "woman"
         },
         {
          "adult_male": false,
          "age": 30,
          "alive": "yes",
          "alone": true,
          "class": "First",
          "deck": "E",
          "embark_town": "Cherbourg",
          "embarked": "C",
          "fare": 56.9292,
          "parch": 0,
          "pclass": 1,
          "sex": "female",
          "sibsp": 0,
          "survived": 1,
          "who": "woman"
         },
         {
          "adult_male": false,
          "age": 24,
          "alive": "yes",
          "alone": true,
          "class": "First",
          "deck": "C",
          "embark_town": "Cherbourg",
          "embarked": "C",
          "fare": 83.1583,
          "parch": 0,
          "pclass": 1,
          "sex": "female",
          "sibsp": 0,
          "survived": 1,
          "who": "woman"
         },
         {
          "adult_male": false,
          "age": 18,
          "alive": "yes",
          "alone": false,
          "class": "First",
          "deck": "B",
          "embark_town": "Cherbourg",
          "embarked": "C",
          "fare": 262.375,
          "parch": 2,
          "pclass": 1,
          "sex": "female",
          "sibsp": 2,
          "survived": 1,
          "who": "woman"
         },
         {
          "adult_male": false,
          "age": 31,
          "alive": "yes",
          "alone": false,
          "class": "First",
          "deck": "C",
          "embark_town": "Southampton",
          "embarked": "S",
          "fare": 164.8667,
          "parch": 2,
          "pclass": 1,
          "sex": "female",
          "sibsp": 0,
          "survived": 1,
          "who": "woman"
         },
         {
          "adult_male": false,
          "age": 40,
          "alive": "yes",
          "alone": false,
          "class": "First",
          "deck": "E",
          "embark_town": "Cherbourg",
          "embarked": "C",
          "fare": 134.5,
          "parch": 1,
          "pclass": 1,
          "sex": "female",
          "sibsp": 1,
          "survived": 1,
          "who": "woman"
         },
         {
          "adult_male": false,
          "age": 36,
          "alive": "yes",
          "alone": true,
          "class": "First",
          "deck": "C",
          "embark_town": "Cherbourg",
          "embarked": "C",
          "fare": 135.6333,
          "parch": 0,
          "pclass": 1,
          "sex": "female",
          "sibsp": 0,
          "survived": 1,
          "who": "woman"
         },
         {
          "adult_male": false,
          "age": 36,
          "alive": "yes",
          "alone": true,
          "class": "Second",
          "deck": "D",
          "embark_town": "Southampton",
          "embarked": "S",
          "fare": 13,
          "parch": 0,
          "pclass": 2,
          "sex": "female",
          "sibsp": 0,
          "survived": 1,
          "who": "woman"
         },
         {
          "adult_male": false,
          "age": 16,
          "alive": "yes",
          "alone": false,
          "class": "First",
          "deck": "B",
          "embark_town": "Cherbourg",
          "embarked": "C",
          "fare": 57.9792,
          "parch": 1,
          "pclass": 1,
          "sex": "female",
          "sibsp": 0,
          "survived": 1,
          "who": "woman"
         },
         {
          "adult_male": true,
          "age": 45.5,
          "alive": "no",
          "alone": true,
          "class": "First",
          "deck": "C",
          "embark_town": "Southampton",
          "embarked": "S",
          "fare": 28.5,
          "parch": 0,
          "pclass": 1,
          "sex": "male",
          "sibsp": 0,
          "survived": 0,
          "who": "man"
         },
         {
          "adult_male": true,
          "age": 38,
          "alive": "no",
          "alone": false,
          "class": "First",
          "deck": "C",
          "embark_town": "Southampton",
          "embarked": "S",
          "fare": 153.4625,
          "parch": 1,
          "pclass": 1,
          "sex": "male",
          "sibsp": 0,
          "survived": 0,
          "who": "man"
         },
         {
          "adult_male": true,
          "age": 29,
          "alive": "no",
          "alone": false,
          "class": "First",
          "deck": "C",
          "embark_town": "Southampton",
          "embarked": "S",
          "fare": 66.6,
          "parch": 0,
          "pclass": 1,
          "sex": "male",
          "sibsp": 1,
          "survived": 0,
          "who": "man"
         },
         {
          "adult_male": false,
          "age": 41,
          "alive": "yes",
          "alone": true,
          "class": "First",
          "deck": "E",
          "embark_town": "Cherbourg",
          "embarked": "C",
          "fare": 134.5,
          "parch": 0,
          "pclass": 1,
          "sex": "female",
          "sibsp": 0,
          "survived": 1,
          "who": "woman"
         },
         {
          "adult_male": false,
          "age": 2,
          "alive": "yes",
          "alone": false,
          "class": "Second",
          "deck": "F",
          "embark_town": "Southampton",
          "embarked": "S",
          "fare": 26,
          "parch": 1,
          "pclass": 2,
          "sex": "male",
          "sibsp": 1,
          "survived": 1,
          "who": "child"
         },
         {
          "adult_male": false,
          "age": 24,
          "alive": "yes",
          "alone": false,
          "class": "First",
          "deck": "C",
          "embark_town": "Southampton",
          "embarked": "S",
          "fare": 263,
          "parch": 2,
          "pclass": 1,
          "sex": "female",
          "sibsp": 3,
          "survived": 1,
          "who": "woman"
         },
         {
          "adult_male": false,
          "age": 24,
          "alive": "yes",
          "alone": true,
          "class": "Second",
          "deck": "F",
          "embark_town": "Southampton",
          "embarked": "S",
          "fare": 13,
          "parch": 0,
          "pclass": 2,
          "sex": "female",
          "sibsp": 0,
          "survived": 1,
          "who": "woman"
         },
         {
          "adult_male": true,
          "age": null,
          "alive": "no",
          "alone": true,
          "class": "First",
          "deck": "C",
          "embark_town": "Southampton",
          "embarked": "S",
          "fare": 35,
          "parch": 0,
          "pclass": 1,
          "sex": "male",
          "sibsp": 0,
          "survived": 0,
          "who": "man"
         },
         {
          "adult_male": false,
          "age": 22,
          "alive": "yes",
          "alone": false,
          "class": "First",
          "deck": "E",
          "embark_town": "Southampton",
          "embarked": "S",
          "fare": 55,
          "parch": 1,
          "pclass": 1,
          "sex": "female",
          "sibsp": 0,
          "survived": 1,
          "who": "woman"
         },
         {
          "adult_male": false,
          "age": 60,
          "alive": "yes",
          "alone": false,
          "class": "First",
          "deck": "D",
          "embark_town": "Cherbourg",
          "embarked": "C",
          "fare": 75.25,
          "parch": 0,
          "pclass": 1,
          "sex": "female",
          "sibsp": 1,
          "survived": 1,
          "who": "woman"
         },
         {
          "adult_male": false,
          "age": 24,
          "alive": "yes",
          "alone": true,
          "class": "First",
          "deck": "B",
          "embark_town": "Cherbourg",
          "embarked": "C",
          "fare": 69.3,
          "parch": 0,
          "pclass": 1,
          "sex": "female",
          "sibsp": 0,
          "survived": 1,
          "who": "woman"
         },
         {
          "adult_male": true,
          "age": 25,
          "alive": "yes",
          "alone": false,
          "class": "First",
          "deck": "E",
          "embark_town": "Cherbourg",
          "embarked": "C",
          "fare": 55.4417,
          "parch": 0,
          "pclass": 1,
          "sex": "male",
          "sibsp": 1,
          "survived": 1,
          "who": "man"
         },
         {
          "adult_male": true,
          "age": 27,
          "alive": "no",
          "alone": false,
          "class": "First",
          "deck": "C",
          "embark_town": "Cherbourg",
          "embarked": "C",
          "fare": 211.5,
          "parch": 2,
          "pclass": 1,
          "sex": "male",
          "sibsp": 0,
          "survived": 0,
          "who": "man"
         },
         {
          "adult_male": true,
          "age": 36,
          "alive": "yes",
          "alone": false,
          "class": "First",
          "deck": "B",
          "embark_town": "Southampton",
          "embarked": "S",
          "fare": 120,
          "parch": 2,
          "pclass": 1,
          "sex": "male",
          "sibsp": 1,
          "survived": 1,
          "who": "man"
         },
         {
          "adult_male": false,
          "age": 23,
          "alive": "yes",
          "alone": false,
          "class": "First",
          "deck": "D",
          "embark_town": "Cherbourg",
          "embarked": "C",
          "fare": 113.275,
          "parch": 0,
          "pclass": 1,
          "sex": "female",
          "sibsp": 1,
          "survived": 1,
          "who": "woman"
         },
         {
          "adult_male": false,
          "age": 24,
          "alive": "yes",
          "alone": false,
          "class": "Third",
          "deck": "G",
          "embark_town": "Southampton",
          "embarked": "S",
          "fare": 16.7,
          "parch": 2,
          "pclass": 3,
          "sex": "female",
          "sibsp": 0,
          "survived": 1,
          "who": "woman"
         },
         {
          "adult_male": false,
          "age": 33,
          "alive": "yes",
          "alone": false,
          "class": "First",
          "deck": "C",
          "embark_town": "Queenstown",
          "embarked": "Q",
          "fare": 90,
          "parch": 0,
          "pclass": 1,
          "sex": "female",
          "sibsp": 1,
          "survived": 1,
          "who": "woman"
         },
         {
          "adult_male": true,
          "age": 32,
          "alive": "yes",
          "alone": true,
          "class": "Third",
          "deck": "E",
          "embark_town": "Southampton",
          "embarked": "S",
          "fare": 8.05,
          "parch": 0,
          "pclass": 3,
          "sex": "male",
          "sibsp": 0,
          "survived": 1,
          "who": "man"
         },
         {
          "adult_male": true,
          "age": 28,
          "alive": "yes",
          "alone": true,
          "class": "First",
          "deck": "C",
          "embark_town": "Southampton",
          "embarked": "S",
          "fare": 26.55,
          "parch": 0,
          "pclass": 1,
          "sex": "male",
          "sibsp": 0,
          "survived": 1,
          "who": "man"
         },
         {
          "adult_male": true,
          "age": 50,
          "alive": "no",
          "alone": false,
          "class": "First",
          "deck": "E",
          "embark_town": "Southampton",
          "embarked": "S",
          "fare": 55.9,
          "parch": 0,
          "pclass": 1,
          "sex": "male",
          "sibsp": 1,
          "survived": 0,
          "who": "man"
         },
         {
          "adult_male": false,
          "age": 14,
          "alive": "yes",
          "alone": false,
          "class": "First",
          "deck": "B",
          "embark_town": "Southampton",
          "embarked": "S",
          "fare": 120,
          "parch": 2,
          "pclass": 1,
          "sex": "female",
          "sibsp": 1,
          "survived": 1,
          "who": "child"
         },
         {
          "adult_male": true,
          "age": 64,
          "alive": "no",
          "alone": false,
          "class": "First",
          "deck": "C",
          "embark_town": "Southampton",
          "embarked": "S",
          "fare": 263,
          "parch": 4,
          "pclass": 1,
          "sex": "male",
          "sibsp": 1,
          "survived": 0,
          "who": "man"
         },
         {
          "adult_male": false,
          "age": 4,
          "alive": "yes",
          "alone": false,
          "class": "First",
          "deck": "A",
          "embark_town": "Southampton",
          "embarked": "S",
          "fare": 81.8583,
          "parch": 2,
          "pclass": 1,
          "sex": "male",
          "sibsp": 0,
          "survived": 1,
          "who": "child"
         },
         {
          "adult_male": true,
          "age": 52,
          "alive": "yes",
          "alone": true,
          "class": "First",
          "deck": "C",
          "embark_town": "Southampton",
          "embarked": "S",
          "fare": 30.5,
          "parch": 0,
          "pclass": 1,
          "sex": "male",
          "sibsp": 0,
          "survived": 1,
          "who": "man"
         },
         {
          "adult_male": true,
          "age": 30,
          "alive": "no",
          "alone": true,
          "class": "First",
          "deck": "C",
          "embark_town": "Cherbourg",
          "embarked": "C",
          "fare": 27.75,
          "parch": 0,
          "pclass": 1,
          "sex": "male",
          "sibsp": 0,
          "survived": 0,
          "who": "man"
         },
         {
          "adult_male": true,
          "age": 49,
          "alive": "yes",
          "alone": false,
          "class": "First",
          "deck": "C",
          "embark_town": "Cherbourg",
          "embarked": "C",
          "fare": 89.1042,
          "parch": 0,
          "pclass": 1,
          "sex": "male",
          "sibsp": 1,
          "survived": 1,
          "who": "man"
         },
         {
          "adult_male": true,
          "age": 65,
          "alive": "no",
          "alone": true,
          "class": "First",
          "deck": "E",
          "embark_town": "Southampton",
          "embarked": "S",
          "fare": 26.55,
          "parch": 0,
          "pclass": 1,
          "sex": "male",
          "sibsp": 0,
          "survived": 0,
          "who": "man"
         },
         {
          "adult_male": false,
          "age": null,
          "alive": "yes",
          "alone": false,
          "class": "First",
          "deck": "D",
          "embark_town": "Southampton",
          "embarked": "S",
          "fare": 51.8625,
          "parch": 0,
          "pclass": 1,
          "sex": "female",
          "sibsp": 1,
          "survived": 1,
          "who": "woman"
         },
         {
          "adult_male": true,
          "age": 48,
          "alive": "yes",
          "alone": true,
          "class": "First",
          "deck": "E",
          "embark_town": "Southampton",
          "embarked": "S",
          "fare": 26.55,
          "parch": 0,
          "pclass": 1,
          "sex": "male",
          "sibsp": 0,
          "survived": 1,
          "who": "man"
         },
         {
          "adult_male": true,
          "age": 47,
          "alive": "no",
          "alone": true,
          "class": "First",
          "deck": "E",
          "embark_town": "Southampton",
          "embarked": "S",
          "fare": 38.5,
          "parch": 0,
          "pclass": 1,
          "sex": "male",
          "sibsp": 0,
          "survived": 0,
          "who": "man"
         },
         {
          "adult_male": false,
          "age": 23,
          "alive": "yes",
          "alone": true,
          "class": "Second",
          "deck": "D",
          "embark_town": "Cherbourg",
          "embarked": "C",
          "fare": 13.7917,
          "parch": 0,
          "pclass": 2,
          "sex": "female",
          "sibsp": 0,
          "survived": 1,
          "who": "woman"
         },
         {
          "adult_male": true,
          "age": null,
          "alive": "no",
          "alone": true,
          "class": "First",
          "deck": "A",
          "embark_town": "Southampton",
          "embarked": "S",
          "fare": 52,
          "parch": 0,
          "pclass": 1,
          "sex": "male",
          "sibsp": 0,
          "survived": 0,
          "who": "man"
         },
         {
          "adult_male": true,
          "age": 25,
          "alive": "yes",
          "alone": false,
          "class": "First",
          "deck": "B",
          "embark_town": "Cherbourg",
          "embarked": "C",
          "fare": 91.0792,
          "parch": 0,
          "pclass": 1,
          "sex": "male",
          "sibsp": 1,
          "survived": 1,
          "who": "man"
         },
         {
          "adult_male": false,
          "age": 35,
          "alive": "yes",
          "alone": false,
          "class": "First",
          "deck": "C",
          "embark_town": "Southampton",
          "embarked": "S",
          "fare": 90,
          "parch": 0,
          "pclass": 1,
          "sex": "female",
          "sibsp": 1,
          "survived": 1,
          "who": "woman"
         },
         {
          "adult_male": true,
          "age": 58,
          "alive": "no",
          "alone": true,
          "class": "First",
          "deck": "B",
          "embark_town": "Cherbourg",
          "embarked": "C",
          "fare": 29.7,
          "parch": 0,
          "pclass": 1,
          "sex": "male",
          "sibsp": 0,
          "survived": 0,
          "who": "man"
         },
         {
          "adult_male": true,
          "age": 55,
          "alive": "no",
          "alone": true,
          "class": "First",
          "deck": "C",
          "embark_town": "Southampton",
          "embarked": "S",
          "fare": 30.5,
          "parch": 0,
          "pclass": 1,
          "sex": "male",
          "sibsp": 0,
          "survived": 0,
          "who": "man"
         },
         {
          "adult_male": false,
          "age": 54,
          "alive": "yes",
          "alone": false,
          "class": "First",
          "deck": "D",
          "embark_town": "Cherbourg",
          "embarked": "C",
          "fare": 78.2667,
          "parch": 0,
          "pclass": 1,
          "sex": "female",
          "sibsp": 1,
          "survived": 1,
          "who": "woman"
         },
         {
          "adult_male": false,
          "age": 25,
          "alive": "no",
          "alone": false,
          "class": "First",
          "deck": "C",
          "embark_town": "Southampton",
          "embarked": "S",
          "fare": 151.55,
          "parch": 2,
          "pclass": 1,
          "sex": "female",
          "sibsp": 1,
          "survived": 0,
          "who": "woman"
         },
         {
          "adult_male": false,
          "age": 16,
          "alive": "yes",
          "alone": true,
          "class": "First",
          "deck": "B",
          "embark_town": "Southampton",
          "embarked": "S",
          "fare": 86.5,
          "parch": 0,
          "pclass": 1,
          "sex": "female",
          "sibsp": 0,
          "survived": 1,
          "who": "woman"
         },
         {
          "adult_male": true,
          "age": 18,
          "alive": "no",
          "alone": false,
          "class": "First",
          "deck": "C",
          "embark_town": "Cherbourg",
          "embarked": "C",
          "fare": 108.9,
          "parch": 0,
          "pclass": 1,
          "sex": "male",
          "sibsp": 1,
          "survived": 0,
          "who": "man"
         },
         {
          "adult_male": true,
          "age": 36,
          "alive": "yes",
          "alone": true,
          "class": "First",
          "deck": "E",
          "embark_town": "Southampton",
          "embarked": "S",
          "fare": 26.2875,
          "parch": 0,
          "pclass": 1,
          "sex": "male",
          "sibsp": 0,
          "survived": 1,
          "who": "man"
         },
         {
          "adult_male": true,
          "age": 47,
          "alive": "no",
          "alone": true,
          "class": "First",
          "deck": "D",
          "embark_town": "Southampton",
          "embarked": "S",
          "fare": 34.0208,
          "parch": 0,
          "pclass": 1,
          "sex": "male",
          "sibsp": 0,
          "survived": 0,
          "who": "man"
         },
         {
          "adult_male": false,
          "age": 34,
          "alive": "yes",
          "alone": true,
          "class": "Second",
          "deck": "F",
          "embark_town": "Southampton",
          "embarked": "S",
          "fare": 10.5,
          "parch": 0,
          "pclass": 2,
          "sex": "female",
          "sibsp": 0,
          "survived": 1,
          "who": "woman"
         },
         {
          "adult_male": false,
          "age": 30,
          "alive": "yes",
          "alone": true,
          "class": "First",
          "deck": "B",
          "embark_town": "Southampton",
          "embarked": "S",
          "fare": 93.5,
          "parch": 0,
          "pclass": 1,
          "sex": "female",
          "sibsp": 0,
          "survived": 1,
          "who": "woman"
         },
         {
          "adult_male": false,
          "age": 44,
          "alive": "yes",
          "alone": false,
          "class": "First",
          "deck": "B",
          "embark_town": "Cherbourg",
          "embarked": "C",
          "fare": 57.9792,
          "parch": 1,
          "pclass": 1,
          "sex": "female",
          "sibsp": 0,
          "survived": 1,
          "who": "woman"
         },
         {
          "adult_male": true,
          "age": null,
          "alive": "no",
          "alone": true,
          "class": "First",
          "deck": "C",
          "embark_town": "Southampton",
          "embarked": "S",
          "fare": 221.7792,
          "parch": 0,
          "pclass": 1,
          "sex": "male",
          "sibsp": 0,
          "survived": 0,
          "who": "man"
         },
         {
          "adult_male": true,
          "age": 45,
          "alive": "no",
          "alone": true,
          "class": "First",
          "deck": "B",
          "embark_town": "Southampton",
          "embarked": "S",
          "fare": 26.55,
          "parch": 0,
          "pclass": 1,
          "sex": "male",
          "sibsp": 0,
          "survived": 0,
          "who": "man"
         },
         {
          "adult_male": false,
          "age": 22,
          "alive": "yes",
          "alone": false,
          "class": "First",
          "deck": "B",
          "embark_town": "Cherbourg",
          "embarked": "C",
          "fare": 49.5,
          "parch": 2,
          "pclass": 1,
          "sex": "female",
          "sibsp": 0,
          "survived": 1,
          "who": "woman"
         },
         {
          "adult_male": false,
          "age": 36,
          "alive": "yes",
          "alone": false,
          "class": "First",
          "deck": "B",
          "embark_town": "Southampton",
          "embarked": "S",
          "fare": 71,
          "parch": 2,
          "pclass": 1,
          "sex": "female",
          "sibsp": 0,
          "survived": 1,
          "who": "woman"
         },
         {
          "adult_male": true,
          "age": 50,
          "alive": "no",
          "alone": false,
          "class": "First",
          "deck": "C",
          "embark_town": "Cherbourg",
          "embarked": "C",
          "fare": 106.425,
          "parch": 0,
          "pclass": 1,
          "sex": "male",
          "sibsp": 1,
          "survived": 0,
          "who": "man"
         },
         {
          "adult_male": true,
          "age": 17,
          "alive": "yes",
          "alone": false,
          "class": "First",
          "deck": "C",
          "embark_town": "Cherbourg",
          "embarked": "C",
          "fare": 110.8833,
          "parch": 2,
          "pclass": 1,
          "sex": "male",
          "sibsp": 0,
          "survived": 1,
          "who": "man"
         },
         {
          "adult_male": false,
          "age": 48,
          "alive": "yes",
          "alone": false,
          "class": "First",
          "deck": "A",
          "embark_town": "Cherbourg",
          "embarked": "C",
          "fare": 39.6,
          "parch": 0,
          "pclass": 1,
          "sex": "female",
          "sibsp": 1,
          "survived": 1,
          "who": "woman"
         },
         {
          "adult_male": false,
          "age": 39,
          "alive": "yes",
          "alone": false,
          "class": "First",
          "deck": "E",
          "embark_town": "Southampton",
          "embarked": "S",
          "fare": 79.65,
          "parch": 1,
          "pclass": 1,
          "sex": "female",
          "sibsp": 1,
          "survived": 1,
          "who": "woman"
         },
         {
          "adult_male": false,
          "age": 53,
          "alive": "yes",
          "alone": false,
          "class": "First",
          "deck": "C",
          "embark_town": "Southampton",
          "embarked": "S",
          "fare": 51.4792,
          "parch": 0,
          "pclass": 1,
          "sex": "female",
          "sibsp": 2,
          "survived": 1,
          "who": "woman"
         },
         {
          "adult_male": true,
          "age": 36,
          "alive": "yes",
          "alone": true,
          "class": "First",
          "deck": "E",
          "embark_town": "Southampton",
          "embarked": "S",
          "fare": 26.3875,
          "parch": 0,
          "pclass": 1,
          "sex": "male",
          "sibsp": 0,
          "survived": 1,
          "who": "man"
         },
         {
          "adult_male": false,
          "age": 39,
          "alive": "yes",
          "alone": false,
          "class": "First",
          "deck": "E",
          "embark_town": "Southampton",
          "embarked": "S",
          "fare": 55.9,
          "parch": 0,
          "pclass": 1,
          "sex": "female",
          "sibsp": 1,
          "survived": 1,
          "who": "woman"
         },
         {
          "adult_male": false,
          "age": 39,
          "alive": "yes",
          "alone": false,
          "class": "First",
          "deck": "C",
          "embark_town": "Cherbourg",
          "embarked": "C",
          "fare": 110.8833,
          "parch": 1,
          "pclass": 1,
          "sex": "female",
          "sibsp": 1,
          "survived": 1,
          "who": "woman"
         },
         {
          "adult_male": true,
          "age": 36,
          "alive": "no",
          "alone": true,
          "class": "First",
          "deck": "A",
          "embark_town": "Cherbourg",
          "embarked": "C",
          "fare": 40.125,
          "parch": 0,
          "pclass": 1,
          "sex": "male",
          "sibsp": 0,
          "survived": 0,
          "who": "man"
         },
         {
          "adult_male": false,
          "age": 18,
          "alive": "yes",
          "alone": false,
          "class": "First",
          "deck": "E",
          "embark_town": "Southampton",
          "embarked": "S",
          "fare": 79.65,
          "parch": 2,
          "pclass": 1,
          "sex": "female",
          "sibsp": 0,
          "survived": 1,
          "who": "woman"
         },
         {
          "adult_male": true,
          "age": 60,
          "alive": "yes",
          "alone": false,
          "class": "First",
          "deck": "B",
          "embark_town": "Cherbourg",
          "embarked": "C",
          "fare": 79.2,
          "parch": 1,
          "pclass": 1,
          "sex": "male",
          "sibsp": 1,
          "survived": 1,
          "who": "man"
         },
         {
          "adult_male": false,
          "age": 52,
          "alive": "yes",
          "alone": false,
          "class": "First",
          "deck": "D",
          "embark_town": "Cherbourg",
          "embarked": "C",
          "fare": 78.2667,
          "parch": 0,
          "pclass": 1,
          "sex": "female",
          "sibsp": 1,
          "survived": 1,
          "who": "woman"
         },
         {
          "adult_male": true,
          "age": 49,
          "alive": "yes",
          "alone": false,
          "class": "First",
          "deck": "A",
          "embark_town": "Cherbourg",
          "embarked": "C",
          "fare": 56.9292,
          "parch": 0,
          "pclass": 1,
          "sex": "male",
          "sibsp": 1,
          "survived": 1,
          "who": "man"
         },
         {
          "adult_male": false,
          "age": 40,
          "alive": "yes",
          "alone": true,
          "class": "First",
          "deck": "C",
          "embark_town": "Southampton",
          "embarked": "S",
          "fare": 153.4625,
          "parch": 0,
          "pclass": 1,
          "sex": "female",
          "sibsp": 0,
          "survived": 1,
          "who": "woman"
         },
         {
          "adult_male": false,
          "age": 4,
          "alive": "yes",
          "alone": false,
          "class": "Second",
          "deck": "F",
          "embark_town": "Southampton",
          "embarked": "S",
          "fare": 39,
          "parch": 1,
          "pclass": 2,
          "sex": "female",
          "sibsp": 2,
          "survived": 1,
          "who": "child"
         },
         {
          "adult_male": true,
          "age": 42,
          "alive": "yes",
          "alone": false,
          "class": "First",
          "deck": "D",
          "embark_town": "Southampton",
          "embarked": "S",
          "fare": 52.5542,
          "parch": 0,
          "pclass": 1,
          "sex": "male",
          "sibsp": 1,
          "survived": 1,
          "who": "man"
         },
         {
          "adult_male": true,
          "age": 61,
          "alive": "no",
          "alone": true,
          "class": "First",
          "deck": "D",
          "embark_town": "Southampton",
          "embarked": "S",
          "fare": 32.3208,
          "parch": 0,
          "pclass": 1,
          "sex": "male",
          "sibsp": 0,
          "survived": 0,
          "who": "man"
         },
         {
          "adult_male": false,
          "age": 21,
          "alive": "yes",
          "alone": true,
          "class": "First",
          "deck": "D",
          "embark_town": "Southampton",
          "embarked": "S",
          "fare": 77.9583,
          "parch": 0,
          "pclass": 1,
          "sex": "female",
          "sibsp": 0,
          "survived": 1,
          "who": "woman"
         },
         {
          "adult_male": true,
          "age": 80,
          "alive": "yes",
          "alone": true,
          "class": "First",
          "deck": "A",
          "embark_town": "Southampton",
          "embarked": "S",
          "fare": 30,
          "parch": 0,
          "pclass": 1,
          "sex": "male",
          "sibsp": 0,
          "survived": 1,
          "who": "man"
         },
         {
          "adult_male": true,
          "age": 32,
          "alive": "yes",
          "alone": true,
          "class": "First",
          "deck": "B",
          "embark_town": "Cherbourg",
          "embarked": "C",
          "fare": 30.5,
          "parch": 0,
          "pclass": 1,
          "sex": "male",
          "sibsp": 0,
          "survived": 1,
          "who": "man"
         },
         {
          "adult_male": false,
          "age": 24,
          "alive": "yes",
          "alone": true,
          "class": "First",
          "deck": "B",
          "embark_town": "Cherbourg",
          "embarked": "C",
          "fare": 69.3,
          "parch": 0,
          "pclass": 1,
          "sex": "female",
          "sibsp": 0,
          "survived": 1,
          "who": "woman"
         },
         {
          "adult_male": true,
          "age": 48,
          "alive": "yes",
          "alone": false,
          "class": "First",
          "deck": "D",
          "embark_town": "Cherbourg",
          "embarked": "C",
          "fare": 76.7292,
          "parch": 0,
          "pclass": 1,
          "sex": "male",
          "sibsp": 1,
          "survived": 1,
          "who": "man"
         },
         {
          "adult_male": true,
          "age": 56,
          "alive": "yes",
          "alone": true,
          "class": "First",
          "deck": "A",
          "embark_town": "Cherbourg",
          "embarked": "C",
          "fare": 35.5,
          "parch": 0,
          "pclass": 1,
          "sex": "male",
          "sibsp": 0,
          "survived": 1,
          "who": "man"
         },
         {
          "adult_male": true,
          "age": 58,
          "alive": "no",
          "alone": false,
          "class": "First",
          "deck": "D",
          "embark_town": "Cherbourg",
          "embarked": "C",
          "fare": 113.275,
          "parch": 2,
          "pclass": 1,
          "sex": "male",
          "sibsp": 0,
          "survived": 0,
          "who": "man"
         },
         {
          "adult_male": true,
          "age": 47,
          "alive": "no",
          "alone": true,
          "class": "First",
          "deck": "E",
          "embark_town": "Southampton",
          "embarked": "S",
          "fare": 25.5875,
          "parch": 0,
          "pclass": 1,
          "sex": "male",
          "sibsp": 0,
          "survived": 0,
          "who": "man"
         },
         {
          "adult_male": false,
          "age": null,
          "alive": "yes",
          "alone": false,
          "class": "First",
          "deck": "C",
          "embark_town": "Southampton",
          "embarked": "S",
          "fare": 52,
          "parch": 0,
          "pclass": 1,
          "sex": "female",
          "sibsp": 1,
          "survived": 1,
          "who": "woman"
         },
         {
          "adult_male": true,
          "age": 31,
          "alive": "no",
          "alone": false,
          "class": "First",
          "deck": "B",
          "embark_town": "Southampton",
          "embarked": "S",
          "fare": 52,
          "parch": 0,
          "pclass": 1,
          "sex": "male",
          "sibsp": 1,
          "survived": 0,
          "who": "man"
         },
         {
          "adult_male": true,
          "age": 36,
          "alive": "yes",
          "alone": false,
          "class": "First",
          "deck": "B",
          "embark_town": "Cherbourg",
          "embarked": "C",
          "fare": 512.3292,
          "parch": 1,
          "pclass": 1,
          "sex": "male",
          "sibsp": 0,
          "survived": 1,
          "who": "man"
         },
         {
          "adult_male": true,
          "age": 27,
          "alive": "yes",
          "alone": true,
          "class": "First",
          "deck": "D",
          "embark_town": "Cherbourg",
          "embarked": "C",
          "fare": 76.7292,
          "parch": 0,
          "pclass": 1,
          "sex": "male",
          "sibsp": 0,
          "survived": 1,
          "who": "man"
         },
         {
          "adult_male": false,
          "age": 15,
          "alive": "yes",
          "alone": false,
          "class": "First",
          "deck": "B",
          "embark_town": "Southampton",
          "embarked": "S",
          "fare": 211.3375,
          "parch": 1,
          "pclass": 1,
          "sex": "female",
          "sibsp": 0,
          "survived": 1,
          "who": "child"
         },
         {
          "adult_male": true,
          "age": 31,
          "alive": "yes",
          "alone": false,
          "class": "First",
          "deck": "B",
          "embark_town": "Southampton",
          "embarked": "S",
          "fare": 57,
          "parch": 0,
          "pclass": 1,
          "sex": "male",
          "sibsp": 1,
          "survived": 1,
          "who": "man"
         },
         {
          "adult_male": true,
          "age": 49,
          "alive": "no",
          "alone": false,
          "class": "First",
          "deck": "C",
          "embark_town": "Cherbourg",
          "embarked": "C",
          "fare": 110.8833,
          "parch": 1,
          "pclass": 1,
          "sex": "male",
          "sibsp": 1,
          "survived": 0,
          "who": "man"
         },
         {
          "adult_male": true,
          "age": 42,
          "alive": "no",
          "alone": true,
          "class": "Third",
          "deck": "F",
          "embark_town": "Southampton",
          "embarked": "S",
          "fare": 7.65,
          "parch": 0,
          "pclass": 3,
          "sex": "male",
          "sibsp": 0,
          "survived": 0,
          "who": "man"
         },
         {
          "adult_male": false,
          "age": 18,
          "alive": "yes",
          "alone": false,
          "class": "First",
          "deck": "C",
          "embark_town": "Cherbourg",
          "embarked": "C",
          "fare": 227.525,
          "parch": 0,
          "pclass": 1,
          "sex": "female",
          "sibsp": 1,
          "survived": 1,
          "who": "woman"
         },
         {
          "adult_male": true,
          "age": 35,
          "alive": "yes",
          "alone": true,
          "class": "First",
          "deck": "E",
          "embark_town": "Southampton",
          "embarked": "S",
          "fare": 26.2875,
          "parch": 0,
          "pclass": 1,
          "sex": "male",
          "sibsp": 0,
          "survived": 1,
          "who": "man"
         },
         {
          "adult_male": true,
          "age": 42,
          "alive": "yes",
          "alone": true,
          "class": "First",
          "deck": "E",
          "embark_town": "Southampton",
          "embarked": "S",
          "fare": 26.2875,
          "parch": 0,
          "pclass": 1,
          "sex": "male",
          "sibsp": 0,
          "survived": 1,
          "who": "man"
         },
         {
          "adult_male": false,
          "age": 24,
          "alive": "yes",
          "alone": true,
          "class": "First",
          "deck": "C",
          "embark_town": "Cherbourg",
          "embarked": "C",
          "fare": 49.5042,
          "parch": 0,
          "pclass": 1,
          "sex": "female",
          "sibsp": 0,
          "survived": 1,
          "who": "woman"
         },
         {
          "adult_male": true,
          "age": null,
          "alive": "no",
          "alone": true,
          "class": "First",
          "deck": "C",
          "embark_town": "Southampton",
          "embarked": "S",
          "fare": 26.55,
          "parch": 0,
          "pclass": 1,
          "sex": "male",
          "sibsp": 0,
          "survived": 0,
          "who": "man"
         },
         {
          "adult_male": true,
          "age": 48,
          "alive": "yes",
          "alone": false,
          "class": "First",
          "deck": "C",
          "embark_town": "Southampton",
          "embarked": "S",
          "fare": 52,
          "parch": 0,
          "pclass": 1,
          "sex": "male",
          "sibsp": 1,
          "survived": 1,
          "who": "man"
         },
         {
          "adult_male": true,
          "age": 19,
          "alive": "no",
          "alone": true,
          "class": "Third",
          "deck": "F",
          "embark_town": "Southampton",
          "embarked": "S",
          "fare": 7.65,
          "parch": 0,
          "pclass": 3,
          "sex": "male",
          "sibsp": 0,
          "survived": 0,
          "who": "man"
         },
         {
          "adult_male": false,
          "age": 38,
          "alive": "yes",
          "alone": true,
          "class": "First",
          "deck": "C",
          "embark_town": "Cherbourg",
          "embarked": "C",
          "fare": 227.525,
          "parch": 0,
          "pclass": 1,
          "sex": "female",
          "sibsp": 0,
          "survived": 1,
          "who": "woman"
         },
         {
          "adult_male": false,
          "age": 27,
          "alive": "yes",
          "alone": true,
          "class": "Second",
          "deck": "E",
          "embark_town": "Southampton",
          "embarked": "S",
          "fare": 10.5,
          "parch": 0,
          "pclass": 2,
          "sex": "female",
          "sibsp": 0,
          "survived": 1,
          "who": "woman"
         },
         {
          "adult_male": true,
          "age": 27,
          "alive": "yes",
          "alone": false,
          "class": "First",
          "deck": "E",
          "embark_town": "Southampton",
          "embarked": "S",
          "fare": 53.1,
          "parch": 0,
          "pclass": 1,
          "sex": "male",
          "sibsp": 1,
          "survived": 1,
          "who": "man"
         },
         {
          "adult_male": false,
          "age": 29,
          "alive": "yes",
          "alone": true,
          "class": "First",
          "deck": "B",
          "embark_town": "Southampton",
          "embarked": "S",
          "fare": 211.3375,
          "parch": 0,
          "pclass": 1,
          "sex": "female",
          "sibsp": 0,
          "survived": 1,
          "who": "woman"
         },
         {
          "adult_male": true,
          "age": 35,
          "alive": "yes",
          "alone": true,
          "class": "First",
          "deck": "B",
          "embark_town": "Cherbourg",
          "embarked": "C",
          "fare": 512.3292,
          "parch": 0,
          "pclass": 1,
          "sex": "male",
          "sibsp": 0,
          "survived": 1,
          "who": "man"
         },
         {
          "adult_male": true,
          "age": null,
          "alive": "yes",
          "alone": true,
          "class": "First",
          "deck": "D",
          "embark_town": "Southampton",
          "embarked": "S",
          "fare": 30,
          "parch": 0,
          "pclass": 1,
          "sex": "male",
          "sibsp": 0,
          "survived": 1,
          "who": "man"
         },
         {
          "adult_male": true,
          "age": 36,
          "alive": "no",
          "alone": false,
          "class": "First",
          "deck": "C",
          "embark_town": "Southampton",
          "embarked": "S",
          "fare": 78.85,
          "parch": 0,
          "pclass": 1,
          "sex": "male",
          "sibsp": 1,
          "survived": 0,
          "who": "man"
         },
         {
          "adult_male": false,
          "age": 21,
          "alive": "yes",
          "alone": false,
          "class": "First",
          "deck": "B",
          "embark_town": "Cherbourg",
          "embarked": "C",
          "fare": 262.375,
          "parch": 2,
          "pclass": 1,
          "sex": "female",
          "sibsp": 2,
          "survived": 1,
          "who": "woman"
         },
         {
          "adult_male": true,
          "age": 70,
          "alive": "no",
          "alone": false,
          "class": "First",
          "deck": "B",
          "embark_town": "Southampton",
          "embarked": "S",
          "fare": 71,
          "parch": 1,
          "pclass": 1,
          "sex": "male",
          "sibsp": 1,
          "survived": 0,
          "who": "man"
         },
         {
          "adult_male": true,
          "age": 19,
          "alive": "no",
          "alone": false,
          "class": "First",
          "deck": "D",
          "embark_town": "Southampton",
          "embarked": "S",
          "fare": 53.1,
          "parch": 0,
          "pclass": 1,
          "sex": "male",
          "sibsp": 1,
          "survived": 0,
          "who": "man"
         },
         {
          "adult_male": false,
          "age": 6,
          "alive": "yes",
          "alone": false,
          "class": "Third",
          "deck": "E",
          "embark_town": "Southampton",
          "embarked": "S",
          "fare": 12.475,
          "parch": 1,
          "pclass": 3,
          "sex": "male",
          "sibsp": 0,
          "survived": 1,
          "who": "child"
         },
         {
          "adult_male": false,
          "age": 33,
          "alive": "yes",
          "alone": true,
          "class": "First",
          "deck": "B",
          "embark_town": "Southampton",
          "embarked": "S",
          "fare": 86.5,
          "parch": 0,
          "pclass": 1,
          "sex": "female",
          "sibsp": 0,
          "survived": 1,
          "who": "woman"
         },
         {
          "adult_male": false,
          "age": 36,
          "alive": "yes",
          "alone": false,
          "class": "First",
          "deck": "B",
          "embark_town": "Southampton",
          "embarked": "S",
          "fare": 120,
          "parch": 2,
          "pclass": 1,
          "sex": "female",
          "sibsp": 1,
          "survived": 1,
          "who": "woman"
         },
         {
          "adult_male": false,
          "age": 51,
          "alive": "yes",
          "alone": false,
          "class": "First",
          "deck": "D",
          "embark_town": "Southampton",
          "embarked": "S",
          "fare": 77.9583,
          "parch": 0,
          "pclass": 1,
          "sex": "female",
          "sibsp": 1,
          "survived": 1,
          "who": "woman"
         },
         {
          "adult_male": false,
          "age": 57,
          "alive": "no",
          "alone": true,
          "class": "Second",
          "deck": "E",
          "embark_town": "Southampton",
          "embarked": "S",
          "fare": 10.5,
          "parch": 0,
          "pclass": 2,
          "sex": "female",
          "sibsp": 0,
          "survived": 0,
          "who": "woman"
         },
         {
          "adult_male": true,
          "age": null,
          "alive": "no",
          "alone": true,
          "class": "Third",
          "deck": "F",
          "embark_town": "Queenstown",
          "embarked": "Q",
          "fare": 7.75,
          "parch": 0,
          "pclass": 3,
          "sex": "male",
          "sibsp": 0,
          "survived": 0,
          "who": "man"
         },
         {
          "adult_male": false,
          "age": 43,
          "alive": "yes",
          "alone": false,
          "class": "First",
          "deck": "B",
          "embark_town": "Southampton",
          "embarked": "S",
          "fare": 211.3375,
          "parch": 1,
          "pclass": 1,
          "sex": "female",
          "sibsp": 0,
          "survived": 1,
          "who": "woman"
         },
         {
          "adult_male": false,
          "age": 17,
          "alive": "yes",
          "alone": false,
          "class": "First",
          "deck": "B",
          "embark_town": "Southampton",
          "embarked": "S",
          "fare": 57,
          "parch": 0,
          "pclass": 1,
          "sex": "female",
          "sibsp": 1,
          "survived": 1,
          "who": "woman"
         },
         {
          "adult_male": true,
          "age": 29,
          "alive": "no",
          "alone": true,
          "class": "First",
          "deck": "D",
          "embark_town": "Southampton",
          "embarked": "S",
          "fare": 30,
          "parch": 0,
          "pclass": 1,
          "sex": "male",
          "sibsp": 0,
          "survived": 0,
          "who": "man"
         },
         {
          "adult_male": true,
          "age": 46,
          "alive": "no",
          "alone": true,
          "class": "First",
          "deck": "B",
          "embark_town": "Cherbourg",
          "embarked": "C",
          "fare": 79.2,
          "parch": 0,
          "pclass": 1,
          "sex": "male",
          "sibsp": 0,
          "survived": 0,
          "who": "man"
         },
         {
          "adult_male": false,
          "age": 49,
          "alive": "yes",
          "alone": true,
          "class": "First",
          "deck": "D",
          "embark_town": "Southampton",
          "embarked": "S",
          "fare": 25.9292,
          "parch": 0,
          "pclass": 1,
          "sex": "female",
          "sibsp": 0,
          "survived": 1,
          "who": "woman"
         },
         {
          "adult_male": false,
          "age": 11,
          "alive": "yes",
          "alone": false,
          "class": "First",
          "deck": "B",
          "embark_town": "Southampton",
          "embarked": "S",
          "fare": 120,
          "parch": 2,
          "pclass": 1,
          "sex": "male",
          "sibsp": 1,
          "survived": 1,
          "who": "child"
         },
         {
          "adult_male": true,
          "age": 39,
          "alive": "no",
          "alone": true,
          "class": "First",
          "deck": "A",
          "embark_town": "Southampton",
          "embarked": "S",
          "fare": 0,
          "parch": 0,
          "pclass": 1,
          "sex": "male",
          "sibsp": 0,
          "survived": 0,
          "who": "man"
         },
         {
          "adult_male": false,
          "age": 33,
          "alive": "yes",
          "alone": false,
          "class": "First",
          "deck": "E",
          "embark_town": "Southampton",
          "embarked": "S",
          "fare": 53.1,
          "parch": 0,
          "pclass": 1,
          "sex": "female",
          "sibsp": 1,
          "survived": 1,
          "who": "woman"
         },
         {
          "adult_male": true,
          "age": null,
          "alive": "no",
          "alone": true,
          "class": "First",
          "deck": "B",
          "embark_town": "Southampton",
          "embarked": "S",
          "fare": 0,
          "parch": 0,
          "pclass": 1,
          "sex": "male",
          "sibsp": 0,
          "survived": 0,
          "who": "man"
         },
         {
          "adult_male": false,
          "age": 52,
          "alive": "yes",
          "alone": false,
          "class": "First",
          "deck": "B",
          "embark_town": "Southampton",
          "embarked": "S",
          "fare": 93.5,
          "parch": 1,
          "pclass": 1,
          "sex": "female",
          "sibsp": 1,
          "survived": 1,
          "who": "woman"
         },
         {
          "adult_male": false,
          "age": 27,
          "alive": "yes",
          "alone": false,
          "class": "Third",
          "deck": "E",
          "embark_town": "Southampton",
          "embarked": "S",
          "fare": 12.475,
          "parch": 1,
          "pclass": 3,
          "sex": "female",
          "sibsp": 0,
          "survived": 1,
          "who": "woman"
         },
         {
          "adult_male": false,
          "age": 62,
          "alive": "yes",
          "alone": true,
          "class": "First",
          "deck": "B",
          "embark_town": null,
          "embarked": null,
          "fare": 80,
          "parch": 0,
          "pclass": 1,
          "sex": "female",
          "sibsp": 0,
          "survived": 1,
          "who": "woman"
         },
         {
          "adult_male": false,
          "age": 39,
          "alive": "yes",
          "alone": false,
          "class": "First",
          "deck": "E",
          "embark_town": "Cherbourg",
          "embarked": "C",
          "fare": 83.1583,
          "parch": 1,
          "pclass": 1,
          "sex": "female",
          "sibsp": 1,
          "survived": 1,
          "who": "woman"
         },
         {
          "adult_male": true,
          "age": null,
          "alive": "yes",
          "alone": true,
          "class": "First",
          "deck": "C",
          "embark_town": "Cherbourg",
          "embarked": "C",
          "fare": 29.7,
          "parch": 0,
          "pclass": 1,
          "sex": "male",
          "sibsp": 0,
          "survived": 1,
          "who": "man"
         },
         {
          "adult_male": false,
          "age": null,
          "alive": "yes",
          "alone": false,
          "class": "First",
          "deck": "C",
          "embark_town": "Cherbourg",
          "embarked": "C",
          "fare": 89.1042,
          "parch": 0,
          "pclass": 1,
          "sex": "female",
          "sibsp": 1,
          "survived": 1,
          "who": "woman"
         },
         {
          "adult_male": false,
          "age": 16,
          "alive": "yes",
          "alone": false,
          "class": "First",
          "deck": "D",
          "embark_town": "Southampton",
          "embarked": "S",
          "fare": 39.4,
          "parch": 1,
          "pclass": 1,
          "sex": "female",
          "sibsp": 0,
          "survived": 1,
          "who": "woman"
         },
         {
          "adult_male": true,
          "age": 51,
          "alive": "yes",
          "alone": true,
          "class": "First",
          "deck": "E",
          "embark_town": "Southampton",
          "embarked": "S",
          "fare": 26.55,
          "parch": 0,
          "pclass": 1,
          "sex": "male",
          "sibsp": 0,
          "survived": 1,
          "who": "man"
         },
         {
          "adult_male": false,
          "age": 48,
          "alive": "yes",
          "alone": true,
          "class": "First",
          "deck": "D",
          "embark_town": "Southampton",
          "embarked": "S",
          "fare": 25.9292,
          "parch": 0,
          "pclass": 1,
          "sex": "female",
          "sibsp": 0,
          "survived": 1,
          "who": "woman"
         },
         {
          "adult_male": true,
          "age": 31,
          "alive": "no",
          "alone": true,
          "class": "First",
          "deck": "A",
          "embark_town": "Southampton",
          "embarked": "S",
          "fare": 50.4958,
          "parch": 0,
          "pclass": 1,
          "sex": "male",
          "sibsp": 0,
          "survived": 0,
          "who": "man"
         },
         {
          "adult_male": false,
          "age": 47,
          "alive": "yes",
          "alone": false,
          "class": "First",
          "deck": "D",
          "embark_town": "Southampton",
          "embarked": "S",
          "fare": 52.5542,
          "parch": 1,
          "pclass": 1,
          "sex": "female",
          "sibsp": 1,
          "survived": 1,
          "who": "woman"
         },
         {
          "adult_male": true,
          "age": 33,
          "alive": "no",
          "alone": true,
          "class": "First",
          "deck": "B",
          "embark_town": "Southampton",
          "embarked": "S",
          "fare": 5,
          "parch": 0,
          "pclass": 1,
          "sex": "male",
          "sibsp": 0,
          "survived": 0,
          "who": "man"
         },
         {
          "adult_male": false,
          "age": 56,
          "alive": "yes",
          "alone": false,
          "class": "First",
          "deck": "C",
          "embark_town": "Cherbourg",
          "embarked": "C",
          "fare": 83.1583,
          "parch": 1,
          "pclass": 1,
          "sex": "female",
          "sibsp": 0,
          "survived": 1,
          "who": "woman"
         },
         {
          "adult_male": false,
          "age": 19,
          "alive": "yes",
          "alone": true,
          "class": "First",
          "deck": "B",
          "embark_town": "Southampton",
          "embarked": "S",
          "fare": 30,
          "parch": 0,
          "pclass": 1,
          "sex": "female",
          "sibsp": 0,
          "survived": 1,
          "who": "woman"
         },
         {
          "adult_male": true,
          "age": 26,
          "alive": "yes",
          "alone": true,
          "class": "First",
          "deck": "C",
          "embark_town": "Cherbourg",
          "embarked": "C",
          "fare": 30,
          "parch": 0,
          "pclass": 1,
          "sex": "male",
          "sibsp": 0,
          "survived": 1,
          "who": "man"
         }
        ]
       },
       "facet": {
        "column": {
         "field": "deck",
         "type": "nominal"
        }
       },
       "spec": {
        "encoding": {
         "color": {
          "field": "alive",
          "legend": null,
          "type": "nominal"
         },
         "x": {
          "field": "alive",
          "type": "nominal"
         },
         "y": {
          "aggregate": "count",
          "axis": {
           "title": "alive"
          },
          "field": "alive",
          "type": "quantitative"
         }
        },
        "height": 180,
        "mark": "bar",
        "width": 144
       }
      },
      "image/png": "[encoded data removed]",
      "text/plain": [
       "<VegaLite 2 object>\n",
       "\n",
       "If you see this message, it means the renderer has not been properly enabled\n",
       "for the frontend that you are using. For more information, see\n",
       "https://altair-viz.github.io/user_guide/troubleshooting.html\n"
      ]
     },
     "metadata": {},
     "output_type": "display_data"
    },
    {
     "data": {
      "image/png": "[encoded data removed]",
      "text/plain": [
       "<Figure size 576x360 with 7 Axes>"
      ]
     },
     "metadata": {},
     "output_type": "display_data"
    }
   ],
   "source": [
    "titanic = sns.load_dataset(\"titanic\")\n",
    "display(salt.factorplot(\"alive\", col=\"deck\",\n",
    "                        data=titanic[titanic.deck.notnull()],\n",
    "                        kind=\"count\", size=2.5, aspect=.8))\n",
    "g = sns.factorplot(\"alive\", col=\"deck\", col_wrap=4,\n",
    "                   data=titanic[titanic.deck.notnull()],\n",
    "                   kind=\"count\", size=2.5, aspect=.8)"
   ]
  },
  {
   "cell_type": "code",
   "execution_count": null,
   "metadata": {},
   "outputs": [],
   "source": []
  }
 ],
 "metadata": {
  "kernelspec": {
   "display_name": "Python 3",
   "language": "python",
   "name": "python3"
  },
  "language_info": {
   "codemirror_mode": {
    "name": "ipython",
    "version": 3
   },
   "file_extension": ".py",
   "mimetype": "text/x-python",
   "name": "python",
   "nbconvert_exporter": "python",
   "pygments_lexer": "ipython3",
   "version": "3.6.4"
  }
 },
 "nbformat": 4,
 "nbformat_minor": 2
}
