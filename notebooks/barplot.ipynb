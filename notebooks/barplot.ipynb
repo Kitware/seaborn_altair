{
 "cells": [
  {
   "cell_type": "markdown",
   "metadata": {},
   "source": [
    "# seaborn_altair.barplot"
   ]
  },
  {
   "cell_type": "code",
   "execution_count": 1,
   "metadata": {},
   "outputs": [],
   "source": [
    "import seaborn as sns\n",
    "import seaborn_altair as salt\n",
    "tips = sns.load_dataset(\"tips\")"
   ]
  },
  {
   "cell_type": "code",
   "execution_count": 2,
   "metadata": {},
   "outputs": [
    {
     "data": {
      "application/vnd.vegalite.v2+json": {
       "$schema": "https://vega.github.io/schema/vega-lite/v2.4.1.json",
       "config": {
        "view": {
         "height": 300,
         "width": 400
        }
       },
       "data": {
        "values": [
         {
          "c": "rgb(49.62499999999999, 115.62499999999996, 161.37500000000003)",
          "ci0": 15.906487903225809,
          "ci1": 19.655330645161293,
          "day": "Thur",
          "total_bill": 17.682741935483868
         },
         {
          "c": "rgb(224.87499999999997, 128.875, 44.12500000000004)",
          "ci0": 13.719723684210525,
          "ci1": 21.038026315789477,
          "day": "Fri",
          "total_bill": 17.15157894736842
         },
         {
          "c": "rgb(58.49999999999999, 145.50000000000003, 58.49999999999999)",
          "ci0": 18.552249999999997,
          "ci1": 22.548000000000002,
          "day": "Sat",
          "total_bill": 20.441379310344825
         },
         {
          "c": "rgb(192.125, 60.87500000000001, 61.62499999999999)",
          "ci0": 19.449115131578946,
          "ci1": 23.41024013157895,
          "day": "Sun",
          "total_bill": 21.41
         }
        ]
       },
       "layer": [
        {
         "encoding": {
          "color": {
           "field": "c",
           "scale": null,
           "type": "nominal"
          },
          "x": {
           "axis": {
            "title": "day"
           },
           "field": "day",
           "sort": null,
           "type": "nominal"
          },
          "y": {
           "axis": {
            "title": "total_bill"
           },
           "field": "total_bill",
           "type": "quantitative"
          }
         },
         "mark": "bar",
         "selection": {
          "selector001": {
           "bind": "scales",
           "encodings": [
            "x",
            "y"
           ],
           "mark": {
            "fill": "#333",
            "fillOpacity": 0.125,
            "stroke": "white"
           },
           "on": "[mousedown, window:mouseup] > window:mousemove!",
           "resolve": "global",
           "translate": "[mousedown, window:mouseup] > window:mousemove!",
           "type": "interval",
           "zoom": "wheel!"
          }
         }
        },
        {
         "encoding": {
          "x": {
           "axis": null,
           "field": "day",
           "sort": null,
           "type": "nominal"
          },
          "y": {
           "field": "ci0",
           "type": "quantitative"
          },
          "y2": {
           "field": "ci1",
           "type": "quantitative"
          }
         },
         "mark": "rule"
        }
       ]
      },
      "image/png": "[encoded data removed]",
      "text/plain": [
       "<VegaLite 2 object>\n",
       "\n",
       "If you see this message, it means the renderer has not been properly enabled\n",
       "for the frontend that you are using. For more information, see\n",
       "https://altair-viz.github.io/user_guide/troubleshooting.html\n"
      ]
     },
     "metadata": {},
     "output_type": "display_data"
    },
    {
     "data": {
      "image/png": "[encoded data removed]",
      "text/plain": [
       "<Figure size 432x288 with 1 Axes>"
      ]
     },
     "metadata": {},
     "output_type": "display_data"
    }
   ],
   "source": [
    "display(salt.barplot(x=\"day\", y=\"total_bill\", data=tips))\n",
    "ax = sns.barplot(x=\"day\", y=\"total_bill\", data=tips)"
   ]
  },
  {
   "cell_type": "code",
   "execution_count": 3,
   "metadata": {},
   "outputs": [
    {
     "data": {
      "application/vnd.vegalite.v2+json": {
       "$schema": "https://vega.github.io/schema/vega-lite/v2.4.1.json",
       "config": {
        "view": {
         "height": 300,
         "width": 400
        }
       },
       "data": {
        "values": [
         {
          "c": "rgb(49.62499999999999, 115.62499999999996, 161.37500000000003)",
          "ci0": 15.947566666666667,
          "ci1": 21.692849999999996,
          "day": "Thur",
          "sex": "Male",
          "total_bill": 18.71466666666667
         },
         {
          "c": "rgb(224.87499999999997, 128.875, 44.12500000000004)",
          "ci0": 14.329203124999998,
          "ci1": 19.45015625,
          "day": "Thur",
          "sex": "Female",
          "total_bill": 16.7153125
         },
         {
          "c": "rgb(49.62499999999999, 115.62499999999996, 161.37500000000003)",
          "ci0": 14.329825,
          "ci1": 25.972375,
          "day": "Fri",
          "sex": "Male",
          "total_bill": 19.857
         },
         {
          "c": "rgb(224.87499999999997, 128.875, 44.12500000000004)",
          "ci0": 11.298750000000002,
          "ci1": 17.176749999999995,
          "day": "Fri",
          "sex": "Female",
          "total_bill": 14.145555555555555
         },
         {
          "c": "rgb(49.62499999999999, 115.62499999999996, 161.37500000000003)",
          "ci0": 18.48543644067796,
          "ci1": 23.387542372881352,
          "day": "Sat",
          "sex": "Male",
          "total_bill": 20.802542372881355
         },
         {
          "c": "rgb(224.87499999999997, 128.875, 44.12500000000004)",
          "ci0": 16.516741071428573,
          "ci1": 22.89886607142857,
          "day": "Sat",
          "sex": "Female",
          "total_bill": 19.68035714285714
         },
         {
          "c": "rgb(49.62499999999999, 115.62499999999996, 161.37500000000003)",
          "ci0": 19.556146551724133,
          "ci1": 24.28259051724138,
          "day": "Sun",
          "sex": "Male",
          "total_bill": 21.887241379310346
         },
         {
          "c": "rgb(224.87499999999997, 128.875, 44.12500000000004)",
          "ci0": 16.708138888888893,
          "ci1": 23.68211111111111,
          "day": "Sun",
          "sex": "Female",
          "total_bill": 19.87222222222222
         }
        ]
       },
       "facet": {
        "column": {
         "field": "day",
         "type": "nominal"
        }
       },
       "spec": {
        "layer": [
         {
          "encoding": {
           "color": {
            "field": "c",
            "scale": null,
            "type": "nominal"
           },
           "x": {
            "axis": {
             "title": ""
            },
            "field": "sex",
            "sort": null,
            "type": "nominal"
           },
           "y": {
            "axis": {
             "title": "total_bill"
            },
            "field": "total_bill",
            "type": "quantitative"
           }
          },
          "mark": "bar",
          "selection": {
           "selector002": {
            "bind": "scales",
            "encodings": [
             "x",
             "y"
            ],
            "mark": {
             "fill": "#333",
             "fillOpacity": 0.125,
             "stroke": "white"
            },
            "on": "[mousedown, window:mouseup] > window:mousemove!",
            "resolve": "global",
            "translate": "[mousedown, window:mouseup] > window:mousemove!",
            "type": "interval",
            "zoom": "wheel!"
           }
          }
         },
         {
          "encoding": {
           "x": {
            "axis": null,
            "field": "sex",
            "sort": null,
            "type": "nominal"
           },
           "y": {
            "field": "ci0",
            "type": "quantitative"
           },
           "y2": {
            "field": "ci1",
            "type": "quantitative"
           }
          },
          "mark": "rule"
         }
        ]
       }
      },
      "image/png": "[encoded data removed]",
      "text/plain": [
       "<VegaLite 2 object>\n",
       "\n",
       "If you see this message, it means the renderer has not been properly enabled\n",
       "for the frontend that you are using. For more information, see\n",
       "https://altair-viz.github.io/user_guide/troubleshooting.html\n"
      ]
     },
     "metadata": {},
     "output_type": "display_data"
    },
    {
     "data": {
      "image/png": "[encoded data removed]",
      "text/plain": [
       "<Figure size 432x288 with 1 Axes>"
      ]
     },
     "metadata": {},
     "output_type": "display_data"
    }
   ],
   "source": [
    "display(salt.barplot(x=\"day\", y=\"total_bill\", hue=\"sex\", data=tips))\n",
    "ax = sns.barplot(x=\"day\", y=\"total_bill\", hue=\"sex\", data=tips)"
   ]
  },
  {
   "cell_type": "code",
   "execution_count": 4,
   "metadata": {},
   "outputs": [
    {
     "data": {
      "application/vnd.vegalite.v2+json": {
       "$schema": "https://vega.github.io/schema/vega-lite/v2.4.1.json",
       "config": {
        "view": {
         "height": 300,
         "width": 400
        }
       },
       "data": {
        "values": [
         {
          "c": "rgb(49.62499999999999, 115.62499999999996, 161.37500000000003)",
          "ci0": 2.4806008064516134,
          "ci1": 3.0658629032258062,
          "day": "Thur",
          "tip": 2.771451612903225
         },
         {
          "c": "rgb(224.87499999999997, 128.875, 44.12500000000004)",
          "ci0": 2.29625,
          "ci1": 3.1664605263157894,
          "day": "Fri",
          "tip": 2.7347368421052627
         },
         {
          "c": "rgb(58.49999999999999, 145.50000000000003, 58.49999999999999)",
          "ci0": 2.656706896551724,
          "ci1": 3.3494597701149424,
          "day": "Sat",
          "tip": 2.993103448275862
         },
         {
          "c": "rgb(192.125, 60.87500000000001, 61.62499999999999)",
          "ci0": 2.973631578947369,
          "ci1": 3.543480263157894,
          "day": "Sun",
          "tip": 3.2551315789473687
         }
        ]
       },
       "layer": [
        {
         "encoding": {
          "color": {
           "field": "c",
           "scale": null,
           "type": "nominal"
          },
          "x": {
           "axis": {
            "title": "tip"
           },
           "field": "tip",
           "type": "quantitative"
          },
          "y": {
           "axis": {
            "title": "day"
           },
           "field": "day",
           "sort": null,
           "type": "nominal"
          }
         },
         "mark": "bar",
         "selection": {
          "selector003": {
           "bind": "scales",
           "encodings": [
            "x",
            "y"
           ],
           "mark": {
            "fill": "#333",
            "fillOpacity": 0.125,
            "stroke": "white"
           },
           "on": "[mousedown, window:mouseup] > window:mousemove!",
           "resolve": "global",
           "translate": "[mousedown, window:mouseup] > window:mousemove!",
           "type": "interval",
           "zoom": "wheel!"
          }
         }
        },
        {
         "encoding": {
          "x": {
           "field": "ci0",
           "type": "quantitative"
          },
          "x2": {
           "field": "ci1",
           "type": "quantitative"
          },
          "y": {
           "axis": null,
           "field": "day",
           "sort": null,
           "type": "nominal"
          }
         },
         "mark": "rule"
        }
       ]
      },
      "image/png": "[encoded data removed]",
      "text/plain": [
       "<VegaLite 2 object>\n",
       "\n",
       "If you see this message, it means the renderer has not been properly enabled\n",
       "for the frontend that you are using. For more information, see\n",
       "https://altair-viz.github.io/user_guide/troubleshooting.html\n"
      ]
     },
     "metadata": {},
     "output_type": "display_data"
    },
    {
     "data": {
      "image/png": "[encoded data removed]",
      "text/plain": [
       "<Figure size 432x288 with 1 Axes>"
      ]
     },
     "metadata": {},
     "output_type": "display_data"
    }
   ],
   "source": [
    "display(salt.barplot(x=\"tip\", y=\"day\", data=tips))\n",
    "ax = sns.barplot(x=\"tip\", y=\"day\", data=tips)"
   ]
  },
  {
   "cell_type": "code",
   "execution_count": 5,
   "metadata": {},
   "outputs": [
    {
     "data": {
      "application/vnd.vegalite.v2+json": {
       "$schema": "https://vega.github.io/schema/vega-lite/v2.4.1.json",
       "config": {
        "view": {
         "height": 300,
         "width": 400
        }
       },
       "data": {
        "values": [
         {
          "c": "rgb(49.62499999999999, 115.62499999999996, 161.37500000000003)",
          "ci0": 2.466599264705882,
          "ci1": 3.008492647058824,
          "time": "Lunch",
          "tip": 2.728088235294118
         },
         {
          "c": "rgb(224.87499999999997, 128.875, 44.12500000000004)",
          "ci0": 2.8920269886363634,
          "ci1": 3.3083025568181816,
          "time": "Dinner",
          "tip": 3.102670454545454
         }
        ]
       },
       "layer": [
        {
         "encoding": {
          "color": {
           "field": "c",
           "scale": null,
           "type": "nominal"
          },
          "x": {
           "axis": {
            "title": "time"
           },
           "field": "time",
           "sort": null,
           "type": "nominal"
          },
          "y": {
           "axis": {
            "title": "tip"
           },
           "field": "tip",
           "type": "quantitative"
          }
         },
         "mark": "bar",
         "selection": {
          "selector004": {
           "bind": "scales",
           "encodings": [
            "x",
            "y"
           ],
           "mark": {
            "fill": "#333",
            "fillOpacity": 0.125,
            "stroke": "white"
           },
           "on": "[mousedown, window:mouseup] > window:mousemove!",
           "resolve": "global",
           "translate": "[mousedown, window:mouseup] > window:mousemove!",
           "type": "interval",
           "zoom": "wheel!"
          }
         }
        },
        {
         "encoding": {
          "x": {
           "axis": null,
           "field": "time",
           "sort": null,
           "type": "nominal"
          },
          "y": {
           "field": "ci0",
           "type": "quantitative"
          },
          "y2": {
           "field": "ci1",
           "type": "quantitative"
          }
         },
         "mark": "rule"
        }
       ]
      },
      "image/png": "[encoded data removed]",
      "text/plain": [
       "<VegaLite 2 object>\n",
       "\n",
       "If you see this message, it means the renderer has not been properly enabled\n",
       "for the frontend that you are using. For more information, see\n",
       "https://altair-viz.github.io/user_guide/troubleshooting.html\n"
      ]
     },
     "metadata": {},
     "output_type": "display_data"
    },
    {
     "data": {
      "image/png": "[encoded data removed]",
      "text/plain": [
       "<Figure size 432x288 with 1 Axes>"
      ]
     },
     "metadata": {},
     "output_type": "display_data"
    }
   ],
   "source": [
    "display(salt.barplot(x=\"time\", y=\"tip\", data=tips, order=[\"Lunch\", \"Dinner\"]))\n",
    "ax = sns.barplot(x=\"time\", y=\"tip\", data=tips, order=[\"Lunch\", \"Dinner\"])"
   ]
  },
  {
   "cell_type": "code",
   "execution_count": 6,
   "metadata": {},
   "outputs": [
    {
     "data": {
      "application/vnd.vegalite.v2+json": {
       "$schema": "https://vega.github.io/schema/vega-lite/v2.4.1.json",
       "config": {
        "view": {
         "height": 300,
         "width": 400
        }
       },
       "data": {
        "values": [
         {
          "c": "rgb(49.62499999999999, 115.62499999999996, 161.37500000000003)",
          "ci0": 2,
          "ci1": 2.83,
          "day": "Thur",
          "tip": 2.3049999999999997
         },
         {
          "c": "rgb(224.87499999999997, 128.875, 44.12500000000004)",
          "ci0": 2,
          "ci1": 3.25,
          "day": "Fri",
          "tip": 3
         },
         {
          "c": "rgb(58.49999999999999, 145.50000000000003, 58.49999999999999)",
          "ci0": 2.31,
          "ci1": 3,
          "day": "Sat",
          "tip": 2.75
         },
         {
          "c": "rgb(192.125, 60.87500000000001, 61.62499999999999)",
          "ci0": 3,
          "ci1": 3.5,
          "day": "Sun",
          "tip": 3.1500000000000004
         }
        ]
       },
       "layer": [
        {
         "encoding": {
          "color": {
           "field": "c",
           "scale": null,
           "type": "nominal"
          },
          "x": {
           "axis": {
            "title": "day"
           },
           "field": "day",
           "sort": null,
           "type": "nominal"
          },
          "y": {
           "axis": {
            "title": "tip"
           },
           "field": "tip",
           "type": "quantitative"
          }
         },
         "mark": "bar",
         "selection": {
          "selector005": {
           "bind": "scales",
           "encodings": [
            "x",
            "y"
           ],
           "mark": {
            "fill": "#333",
            "fillOpacity": 0.125,
            "stroke": "white"
           },
           "on": "[mousedown, window:mouseup] > window:mousemove!",
           "resolve": "global",
           "translate": "[mousedown, window:mouseup] > window:mousemove!",
           "type": "interval",
           "zoom": "wheel!"
          }
         }
        },
        {
         "encoding": {
          "x": {
           "axis": null,
           "field": "day",
           "sort": null,
           "type": "nominal"
          },
          "y": {
           "field": "ci0",
           "type": "quantitative"
          },
          "y2": {
           "field": "ci1",
           "type": "quantitative"
          }
         },
         "mark": "rule"
        }
       ]
      },
      "image/png": "[encoded data removed]",
      "text/plain": [
       "<VegaLite 2 object>\n",
       "\n",
       "If you see this message, it means the renderer has not been properly enabled\n",
       "for the frontend that you are using. For more information, see\n",
       "https://altair-viz.github.io/user_guide/troubleshooting.html\n"
      ]
     },
     "metadata": {},
     "output_type": "display_data"
    },
    {
     "data": {
      "image/png": "[encoded data removed]",
      "text/plain": [
       "<Figure size 432x288 with 1 Axes>"
      ]
     },
     "metadata": {},
     "output_type": "display_data"
    }
   ],
   "source": [
    "from numpy import median\n",
    "display(salt.barplot(x=\"day\", y=\"tip\", data=tips, estimator=median))\n",
    "ax = sns.barplot(x=\"day\", y=\"tip\", data=tips, estimator=median)"
   ]
  },
  {
   "cell_type": "code",
   "execution_count": 7,
   "metadata": {},
   "outputs": [
    {
     "data": {
      "application/vnd.vegalite.v2+json": {
       "$schema": "https://vega.github.io/schema/vega-lite/v2.4.1.json",
       "config": {
        "view": {
         "height": 300,
         "width": 400
        }
       },
       "data": {
        "values": [
         {
          "c": "rgb(49.62499999999999, 115.62499999999996, 161.37500000000003)",
          "ci0": 2.6140387096774194,
          "ci1": 2.9368193548387103,
          "day": "Thur",
          "tip": 2.771451612903225
         },
         {
          "c": "rgb(224.87499999999997, 128.875, 44.12500000000004)",
          "ci0": 2.512378947368421,
          "ci1": 2.948673684210527,
          "day": "Fri",
          "tip": 2.7347368421052627
         },
         {
          "c": "rgb(58.49999999999999, 145.50000000000003, 58.49999999999999)",
          "ci0": 2.821572413793104,
          "ci1": 3.1579678160919533,
          "day": "Sat",
          "tip": 2.993103448275862
         },
         {
          "c": "rgb(192.125, 60.87500000000001, 61.62499999999999)",
          "ci0": 3.1096947368421053,
          "ci1": 3.3888578947368413,
          "day": "Sun",
          "tip": 3.2551315789473687
         }
        ]
       },
       "layer": [
        {
         "encoding": {
          "color": {
           "field": "c",
           "scale": null,
           "type": "nominal"
          },
          "x": {
           "axis": {
            "title": "day"
           },
           "field": "day",
           "sort": null,
           "type": "nominal"
          },
          "y": {
           "axis": {
            "title": "tip"
           },
           "field": "tip",
           "type": "quantitative"
          }
         },
         "mark": "bar",
         "selection": {
          "selector006": {
           "bind": "scales",
           "encodings": [
            "x",
            "y"
           ],
           "mark": {
            "fill": "#333",
            "fillOpacity": 0.125,
            "stroke": "white"
           },
           "on": "[mousedown, window:mouseup] > window:mousemove!",
           "resolve": "global",
           "translate": "[mousedown, window:mouseup] > window:mousemove!",
           "type": "interval",
           "zoom": "wheel!"
          }
         }
        },
        {
         "encoding": {
          "x": {
           "axis": null,
           "field": "day",
           "sort": null,
           "type": "nominal"
          },
          "y": {
           "field": "ci0",
           "type": "quantitative"
          },
          "y2": {
           "field": "ci1",
           "type": "quantitative"
          }
         },
         "mark": "rule"
        }
       ]
      },
      "image/png": "[encoded data removed]",
      "text/plain": [
       "<VegaLite 2 object>\n",
       "\n",
       "If you see this message, it means the renderer has not been properly enabled\n",
       "for the frontend that you are using. For more information, see\n",
       "https://altair-viz.github.io/user_guide/troubleshooting.html\n"
      ]
     },
     "metadata": {},
     "output_type": "display_data"
    },
    {
     "data": {
      "image/png": "[encoded data removed]",
      "text/plain": [
       "<Figure size 432x288 with 1 Axes>"
      ]
     },
     "metadata": {},
     "output_type": "display_data"
    }
   ],
   "source": [
    "display(salt.barplot(x=\"day\", y=\"tip\", data=tips, ci=68))\n",
    "ax = sns.barplot(x=\"day\", y=\"tip\", data=tips, ci=68)"
   ]
  },
  {
   "cell_type": "code",
   "execution_count": 8,
   "metadata": {},
   "outputs": [
    {
     "data": {
      "application/vnd.vegalite.v2+json": {
       "$schema": "https://vega.github.io/schema/vega-lite/v2.4.1.json",
       "config": {
        "view": {
         "height": 300,
         "width": 400
        }
       },
       "data": {
        "values": [
         {
          "c": "rgb(49.62499999999999, 115.62499999999996, 161.37500000000003)",
          "ci0": 1.5412708672347164,
          "ci1": 4.001632358571733,
          "day": "Thur",
          "tip": 2.771451612903225
         },
         {
          "c": "rgb(224.87499999999997, 128.875, 44.12500000000004)",
          "ci0": 1.7423533825756703,
          "ci1": 3.727120301634855,
          "day": "Fri",
          "tip": 2.7347368421052627
         },
         {
          "c": "rgb(58.49999999999999, 145.50000000000003, 58.49999999999999)",
          "ci0": 1.3714898696160578,
          "ci1": 4.614717026935666,
          "day": "Sat",
          "tip": 2.993103448275862
         },
         {
          "c": "rgb(192.125, 60.87500000000001, 61.62499999999999)",
          "ci0": 2.0284024090116444,
          "ci1": 4.4818607488830935,
          "day": "Sun",
          "tip": 3.2551315789473687
         }
        ]
       },
       "layer": [
        {
         "encoding": {
          "color": {
           "field": "c",
           "scale": null,
           "type": "nominal"
          },
          "x": {
           "axis": {
            "title": "day"
           },
           "field": "day",
           "sort": null,
           "type": "nominal"
          },
          "y": {
           "axis": {
            "title": "tip"
           },
           "field": "tip",
           "type": "quantitative"
          }
         },
         "mark": "bar",
         "selection": {
          "selector007": {
           "bind": "scales",
           "encodings": [
            "x",
            "y"
           ],
           "mark": {
            "fill": "#333",
            "fillOpacity": 0.125,
            "stroke": "white"
           },
           "on": "[mousedown, window:mouseup] > window:mousemove!",
           "resolve": "global",
           "translate": "[mousedown, window:mouseup] > window:mousemove!",
           "type": "interval",
           "zoom": "wheel!"
          }
         }
        },
        {
         "encoding": {
          "x": {
           "axis": null,
           "field": "day",
           "sort": null,
           "type": "nominal"
          },
          "y": {
           "field": "ci0",
           "type": "quantitative"
          },
          "y2": {
           "field": "ci1",
           "type": "quantitative"
          }
         },
         "mark": "rule"
        }
       ]
      },
      "image/png": "[encoded data removed]",
      "text/plain": [
       "<VegaLite 2 object>\n",
       "\n",
       "If you see this message, it means the renderer has not been properly enabled\n",
       "for the frontend that you are using. For more information, see\n",
       "https://altair-viz.github.io/user_guide/troubleshooting.html\n"
      ]
     },
     "metadata": {},
     "output_type": "display_data"
    },
    {
     "data": {
      "image/png": "[encoded data removed]",
      "text/plain": [
       "<Figure size 432x288 with 1 Axes>"
      ]
     },
     "metadata": {},
     "output_type": "display_data"
    }
   ],
   "source": [
    "display(salt.barplot(x=\"day\", y=\"tip\", data=tips, ci=\"sd\"))\n",
    "ax = sns.barplot(x=\"day\", y=\"tip\", data=tips, ci=\"sd\")"
   ]
  },
  {
   "cell_type": "code",
   "execution_count": 9,
   "metadata": {},
   "outputs": [
    {
     "data": {
      "application/vnd.vegalite.v2+json": {
       "$schema": "https://vega.github.io/schema/vega-lite/v2.4.1.json",
       "config": {
        "view": {
         "height": 300,
         "width": 400
        }
       },
       "data": {
        "values": [
         {
          "c": "rgb(49.62499999999999, 115.62499999999996, 161.37500000000003)",
          "ci0": 2.4922016129032265,
          "ci1": 3.0910040322580645,
          "day": "Thur",
          "tip": 2.771451612903225
         },
         {
          "c": "rgb(224.87499999999997, 128.875, 44.12500000000004)",
          "ci0": 2.306763157894737,
          "ci1": 3.181157894736842,
          "day": "Fri",
          "tip": 2.7347368421052627
         },
         {
          "c": "rgb(58.49999999999999, 145.50000000000003, 58.49999999999999)",
          "ci0": 2.6618074712643676,
          "ci1": 3.339456896551724,
          "day": "Sat",
          "tip": 2.993103448275862
         },
         {
          "c": "rgb(192.125, 60.87500000000001, 61.62499999999999)",
          "ci0": 2.9808749999999997,
          "ci1": 3.5246480263157887,
          "day": "Sun",
          "tip": 3.2551315789473687
         }
        ]
       },
       "layer": [
        {
         "encoding": {
          "color": {
           "field": "c",
           "scale": null,
           "type": "nominal"
          },
          "x": {
           "axis": {
            "title": "day"
           },
           "field": "day",
           "sort": null,
           "type": "nominal"
          },
          "y": {
           "axis": {
            "title": "tip"
           },
           "field": "tip",
           "type": "quantitative"
          }
         },
         "mark": "bar",
         "selection": {
          "selector008": {
           "bind": "scales",
           "encodings": [
            "x",
            "y"
           ],
           "mark": {
            "fill": "#333",
            "fillOpacity": 0.125,
            "stroke": "white"
           },
           "on": "[mousedown, window:mouseup] > window:mousemove!",
           "resolve": "global",
           "translate": "[mousedown, window:mouseup] > window:mousemove!",
           "type": "interval",
           "zoom": "wheel!"
          }
         }
        },
        {
         "encoding": {
          "x": {
           "axis": null,
           "field": "day",
           "sort": null,
           "type": "nominal"
          },
          "y": {
           "field": "ci0",
           "type": "quantitative"
          },
          "y2": {
           "field": "ci1",
           "type": "quantitative"
          }
         },
         "mark": "rule"
        }
       ]
      },
      "image/png": "[encoded data removed]",
      "text/plain": [
       "<VegaLite 2 object>\n",
       "\n",
       "If you see this message, it means the renderer has not been properly enabled\n",
       "for the frontend that you are using. For more information, see\n",
       "https://altair-viz.github.io/user_guide/troubleshooting.html\n"
      ]
     },
     "metadata": {},
     "output_type": "display_data"
    },
    {
     "data": {
      "image/png": "[encoded data removed]",
      "text/plain": [
       "<Figure size 432x288 with 1 Axes>"
      ]
     },
     "metadata": {},
     "output_type": "display_data"
    }
   ],
   "source": [
    "display(salt.barplot(x=\"day\", y=\"tip\", data=tips, capsize=.2))\n",
    "ax = sns.barplot(x=\"day\", y=\"tip\", data=tips, capsize=.2)"
   ]
  },
  {
   "cell_type": "code",
   "execution_count": 10,
   "metadata": {},
   "outputs": [
    {
     "data": {
      "application/vnd.vegalite.v2+json": {
       "$schema": "https://vega.github.io/schema/vega-lite/v2.4.1.json",
       "config": {
        "view": {
         "height": 300,
         "width": 400
        }
       },
       "data": {
        "values": [
         {
          "c": "rgb(56.9764705882353, 73.91764705882353, 86.05882352941177)",
          "ci0": 4.4475,
          "ci1": 9.365,
          "size": 1,
          "total_bill": 7.2425
         },
         {
          "c": "rgb(63.11895424836602, 97.47189542483659, 122.09150326797386)",
          "ci0": 15.471850961538461,
          "ci1": 17.532695512820514,
          "size": 2,
          "total_bill": 16.44801282051282
         },
         {
          "c": "rgb(69.09542483660131, 120.38954248366011, 157.15032679738565)",
          "ci0": 20.373072368421056,
          "ci1": 26.300289473684213,
          "size": 3,
          "total_bill": 23.277631578947368
         },
         {
          "c": "rgb(87.61356209150327, 142.86160130718952, 182.0165032679739)",
          "ci0": 25.765831081081082,
          "ci1": 31.42346621621621,
          "size": 4,
          "total_bill": 28.613513513513514
         },
         {
          "c": "rgb(117.67238562091507, 163.67336601307187, 195.34591503267973)",
          "ci0": 24.136000000000003,
          "ci1": 36.65704999999999,
          "size": 5,
          "total_bill": 30.068
         },
         {
          "c": "rgb(148.56617647058826, 185.06323529411762, 209.04558823529413)",
          "ci0": 28.425,
          "ci1": 43.5775,
          "size": 6,
          "total_bill": 34.83
         }
        ]
       },
       "layer": [
        {
         "encoding": {
          "color": {
           "field": "c",
           "scale": null,
           "type": "nominal"
          },
          "x": {
           "axis": {
            "title": "size"
           },
           "field": "size",
           "sort": null,
           "type": "nominal"
          },
          "y": {
           "axis": {
            "title": "total_bill"
           },
           "field": "total_bill",
           "type": "quantitative"
          }
         },
         "mark": "bar",
         "selection": {
          "selector009": {
           "bind": "scales",
           "encodings": [
            "x",
            "y"
           ],
           "mark": {
            "fill": "#333",
            "fillOpacity": 0.125,
            "stroke": "white"
           },
           "on": "[mousedown, window:mouseup] > window:mousemove!",
           "resolve": "global",
           "translate": "[mousedown, window:mouseup] > window:mousemove!",
           "type": "interval",
           "zoom": "wheel!"
          }
         }
        },
        {
         "encoding": {
          "x": {
           "axis": null,
           "field": "size",
           "sort": null,
           "type": "nominal"
          },
          "y": {
           "field": "ci0",
           "type": "quantitative"
          },
          "y2": {
           "field": "ci1",
           "type": "quantitative"
          }
         },
         "mark": "rule"
        }
       ]
      },
      "image/png": "[encoded data removed]",
      "text/plain": [
       "<VegaLite 2 object>\n",
       "\n",
       "If you see this message, it means the renderer has not been properly enabled\n",
       "for the frontend that you are using. For more information, see\n",
       "https://altair-viz.github.io/user_guide/troubleshooting.html\n"
      ]
     },
     "metadata": {},
     "output_type": "display_data"
    },
    {
     "data": {
      "image/png": "[encoded data removed]",
      "text/plain": [
       "<Figure size 432x288 with 1 Axes>"
      ]
     },
     "metadata": {},
     "output_type": "display_data"
    }
   ],
   "source": [
    "display(salt.barplot(\"size\", y=\"total_bill\", data=tips, palette=\"Blues_d\"))\n",
    "ax = sns.barplot(\"size\", y=\"total_bill\", data=tips, palette=\"Blues_d\")"
   ]
  },
  {
   "cell_type": "code",
   "execution_count": 11,
   "metadata": {},
   "outputs": [
    {
     "data": {
      "application/vnd.vegalite.v2+json": {
       "$schema": "https://vega.github.io/schema/vega-lite/v2.4.1.json",
       "config": {
        "view": {
         "height": 300,
         "width": 400
        }
       },
       "data": {
        "values": [
         {
          "c": "rgb(49.62499999999999, 115.62499999999996, 161.37500000000003)",
          "ci0": 15.76499193548387,
          "ci1": 19.671762096774195,
          "day": "Thur",
          "total_bill": 17.682741935483868,
          "weekend": false
         },
         {
          "c": "rgb(224.87499999999997, 128.875, 44.12500000000004)",
          "ci0": null,
          "ci1": null,
          "day": "Thur",
          "total_bill": null,
          "weekend": true
         },
         {
          "c": "rgb(49.62499999999999, 115.62499999999996, 161.37500000000003)",
          "ci0": 13.874315789473686,
          "ci1": 21.00642105263158,
          "day": "Fri",
          "total_bill": 17.15157894736842,
          "weekend": false
         },
         {
          "c": "rgb(224.87499999999997, 128.875, 44.12500000000004)",
          "ci0": null,
          "ci1": null,
          "day": "Fri",
          "total_bill": null,
          "weekend": true
         },
         {
          "c": "rgb(49.62499999999999, 115.62499999999996, 161.37500000000003)",
          "ci0": null,
          "ci1": null,
          "day": "Sat",
          "total_bill": null,
          "weekend": false
         },
         {
          "c": "rgb(224.87499999999997, 128.875, 44.12500000000004)",
          "ci0": 18.597364942528742,
          "ci1": 22.479882183908042,
          "day": "Sat",
          "total_bill": 20.441379310344825,
          "weekend": true
         },
         {
          "c": "rgb(49.62499999999999, 115.62499999999996, 161.37500000000003)",
          "ci0": null,
          "ci1": null,
          "day": "Sun",
          "total_bill": null,
          "weekend": false
         },
         {
          "c": "rgb(224.87499999999997, 128.875, 44.12500000000004)",
          "ci0": 19.452128289473684,
          "ci1": 23.336888157894737,
          "day": "Sun",
          "total_bill": 21.41,
          "weekend": true
         }
        ]
       },
       "facet": {
        "column": {
         "field": "day",
         "type": "nominal"
        }
       },
       "spec": {
        "layer": [
         {
          "encoding": {
           "color": {
            "field": "c",
            "scale": null,
            "type": "nominal"
           },
           "x": {
            "axis": {
             "title": ""
            },
            "field": "weekend",
            "sort": null,
            "type": "nominal"
           },
           "y": {
            "axis": {
             "title": "total_bill"
            },
            "field": "total_bill",
            "type": "quantitative"
           }
          },
          "mark": "bar",
          "selection": {
           "selector010": {
            "bind": "scales",
            "encodings": [
             "x",
             "y"
            ],
            "mark": {
             "fill": "#333",
             "fillOpacity": 0.125,
             "stroke": "white"
            },
            "on": "[mousedown, window:mouseup] > window:mousemove!",
            "resolve": "global",
            "translate": "[mousedown, window:mouseup] > window:mousemove!",
            "type": "interval",
            "zoom": "wheel!"
           }
          }
         },
         {
          "encoding": {
           "x": {
            "axis": null,
            "field": "weekend",
            "sort": null,
            "type": "nominal"
           },
           "y": {
            "field": "ci0",
            "type": "quantitative"
           },
           "y2": {
            "field": "ci1",
            "type": "quantitative"
           }
          },
          "mark": "rule"
         }
        ]
       }
      },
      "image/png": "[encoded data removed]",
      "text/plain": [
       "<VegaLite 2 object>\n",
       "\n",
       "If you see this message, it means the renderer has not been properly enabled\n",
       "for the frontend that you are using. For more information, see\n",
       "https://altair-viz.github.io/user_guide/troubleshooting.html\n"
      ]
     },
     "metadata": {},
     "output_type": "display_data"
    },
    {
     "data": {
      "image/png": "[encoded data removed]",
      "text/plain": [
       "<Figure size 432x288 with 1 Axes>"
      ]
     },
     "metadata": {},
     "output_type": "display_data"
    }
   ],
   "source": [
    "tips[\"weekend\"] = tips[\"day\"].isin([\"Sat\", \"Sun\"])\n",
    "display(salt.barplot(x=\"day\", y=\"total_bill\", hue=\"weekend\", data=tips, dodge=False))\n",
    "ax = sns.barplot(x=\"day\", y=\"total_bill\", hue=\"weekend\", data=tips, dodge=False)"
   ]
  },
  {
   "cell_type": "code",
   "execution_count": 12,
   "metadata": {},
   "outputs": [
    {
     "data": {
      "application/vnd.vegalite.v2+json": {
       "$schema": "https://vega.github.io/schema/vega-lite/v2.4.1.json",
       "config": {
        "view": {
         "height": 300,
         "width": 400
        }
       },
       "data": {
        "values": [
         {
          "c": "rgb(216.00000000000003, 155.0, 147.99999999999997)",
          "ci0": 4.115,
          "ci1": 9.365,
          "size": 1,
          "total_bill": 7.2425
         },
         {
          "c": "rgb(216.00000000000003, 155.0, 147.99999999999997)",
          "ci0": 15.564467948717953,
          "ci1": 17.525831730769237,
          "size": 2,
          "total_bill": 16.44801282051282
         },
         {
          "c": "rgb(216.00000000000003, 155.0, 147.99999999999997)",
          "ci0": 20.26764473684211,
          "ci1": 26.296776315789476,
          "size": 3,
          "total_bill": 23.277631578947368
         },
         {
          "c": "rgb(216.00000000000003, 155.0, 147.99999999999997)",
          "ci0": 25.93762162162162,
          "ci1": 31.16409459459461,
          "size": 4,
          "total_bill": 28.613513513513514
         },
         {
          "c": "rgb(216.00000000000003, 155.0, 147.99999999999997)",
          "ci0": 24.136000000000003,
          "ci1": 36.436,
          "size": 5,
          "total_bill": 30.068
         },
         {
          "c": "rgb(216.00000000000003, 155.0, 147.99999999999997)",
          "ci0": 28.4078125,
          "ci1": 43.5775,
          "size": 6,
          "total_bill": 34.83
         }
        ]
       },
       "layer": [
        {
         "encoding": {
          "color": {
           "field": "c",
           "scale": null,
           "type": "nominal"
          },
          "x": {
           "axis": {
            "title": "size"
           },
           "field": "size",
           "sort": null,
           "type": "nominal"
          },
          "y": {
           "axis": {
            "title": "total_bill"
           },
           "field": "total_bill",
           "type": "quantitative"
          }
         },
         "mark": "bar",
         "selection": {
          "selector011": {
           "bind": "scales",
           "encodings": [
            "x",
            "y"
           ],
           "mark": {
            "fill": "#333",
            "fillOpacity": 0.125,
            "stroke": "white"
           },
           "on": "[mousedown, window:mouseup] > window:mousemove!",
           "resolve": "global",
           "translate": "[mousedown, window:mouseup] > window:mousemove!",
           "type": "interval",
           "zoom": "wheel!"
          }
         }
        },
        {
         "encoding": {
          "x": {
           "axis": null,
           "field": "size",
           "sort": null,
           "type": "nominal"
          },
          "y": {
           "field": "ci0",
           "type": "quantitative"
          },
          "y2": {
           "field": "ci1",
           "type": "quantitative"
          }
         },
         "mark": "rule"
        }
       ]
      },
      "image/png": "[encoded data removed]",
      "text/plain": [
       "<VegaLite 2 object>\n",
       "\n",
       "If you see this message, it means the renderer has not been properly enabled\n",
       "for the frontend that you are using. For more information, see\n",
       "https://altair-viz.github.io/user_guide/troubleshooting.html\n"
      ]
     },
     "metadata": {},
     "output_type": "display_data"
    },
    {
     "data": {
      "image/png": "[encoded data removed]",
      "text/plain": [
       "<Figure size 432x288 with 1 Axes>"
      ]
     },
     "metadata": {},
     "output_type": "display_data"
    }
   ],
   "source": [
    "display(salt.barplot(\"size\", y=\"total_bill\", data=tips, color=\"salmon\", saturation=.5))\n",
    "ax = sns.barplot(\"size\", y=\"total_bill\", data=tips, color=\"salmon\", saturation=.5)"
   ]
  },
  {
   "cell_type": "code",
   "execution_count": 13,
   "metadata": {},
   "outputs": [
    {
     "data": {
      "application/vnd.vegalite.v2+json": {
       "$schema": "https://vega.github.io/schema/vega-lite/v2.4.1.json",
       "config": {
        "view": {
         "height": 300,
         "width": 400
        }
       },
       "data": {
        "values": [
         {
          "c": "rgb(49.62499999999999, 115.62499999999996, 161.37500000000003)",
          "ci0": 15.886249999999999,
          "ci1": 19.565491935483866,
          "day": "Thur",
          "total_bill": 17.682741935483868
         },
         {
          "c": "rgb(224.87499999999997, 128.875, 44.12500000000004)",
          "ci0": 13.89113157894737,
          "ci1": 21.190092105263155,
          "day": "Fri",
          "total_bill": 17.15157894736842
         },
         {
          "c": "rgb(58.49999999999999, 145.50000000000003, 58.49999999999999)",
          "ci0": 18.553988505747128,
          "ci1": 22.459772988505748,
          "day": "Sat",
          "total_bill": 20.441379310344825
         },
         {
          "c": "rgb(192.125, 60.87500000000001, 61.62499999999999)",
          "ci0": 19.41421052631579,
          "ci1": 23.517430921052636,
          "day": "Sun",
          "total_bill": 21.41
         }
        ]
       },
       "layer": [
        {
         "encoding": {
          "color": {
           "field": "c",
           "scale": null,
           "type": "nominal"
          },
          "x": {
           "axis": {
            "title": "day"
           },
           "field": "day",
           "sort": null,
           "type": "nominal"
          },
          "y": {
           "axis": {
            "title": "total_bill"
           },
           "field": "total_bill",
           "type": "quantitative"
          }
         },
         "mark": "bar",
         "selection": {
          "selector012": {
           "bind": "scales",
           "encodings": [
            "x",
            "y"
           ],
           "mark": {
            "fill": "#333",
            "fillOpacity": 0.125,
            "stroke": "white"
           },
           "on": "[mousedown, window:mouseup] > window:mousemove!",
           "resolve": "global",
           "translate": "[mousedown, window:mouseup] > window:mousemove!",
           "type": "interval",
           "zoom": "wheel!"
          }
         }
        },
        {
         "encoding": {
          "x": {
           "axis": null,
           "field": "day",
           "sort": null,
           "type": "nominal"
          },
          "y": {
           "field": "ci0",
           "type": "quantitative"
          },
          "y2": {
           "field": "ci1",
           "type": "quantitative"
          }
         },
         "mark": "rule"
        }
       ]
      },
      "image/png": "[encoded data removed]",
      "text/plain": [
       "<VegaLite 2 object>\n",
       "\n",
       "If you see this message, it means the renderer has not been properly enabled\n",
       "for the frontend that you are using. For more information, see\n",
       "https://altair-viz.github.io/user_guide/troubleshooting.html\n"
      ]
     },
     "metadata": {},
     "output_type": "display_data"
    },
    {
     "data": {
      "image/png": "[encoded data removed]",
      "text/plain": [
       "<Figure size 432x288 with 1 Axes>"
      ]
     },
     "metadata": {},
     "output_type": "display_data"
    }
   ],
   "source": [
    "display(salt.barplot(\"day\", \"total_bill\", data=tips, linewidth=2.5, facecolor=(1, 1, 1, 0), errcolor=\".2\", edgecolor=\".2\"))\n",
    "ax = sns.barplot(\"day\", \"total_bill\", data=tips, linewidth=2.5, facecolor=(1, 1, 1, 0), errcolor=\".2\", edgecolor=\".2\")"
   ]
  }
 ],
 "metadata": {
  "kernelspec": {
   "display_name": "Python 3",
   "language": "python",
   "name": "python3"
  },
  "language_info": {
   "codemirror_mode": {
    "name": "ipython",
    "version": 3
   },
   "file_extension": ".py",
   "mimetype": "text/x-python",
   "name": "python",
   "nbconvert_exporter": "python",
   "pygments_lexer": "ipython3",
   "version": "3.6.4"
  }
 },
 "nbformat": 4,
 "nbformat_minor": 2
}
