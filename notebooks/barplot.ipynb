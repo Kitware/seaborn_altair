{
 "cells": [
  {
   "cell_type": "markdown",
   "metadata": {},
   "source": [
    "# seaborn_altair.barplot"
   ]
  },
  {
   "cell_type": "code",
   "execution_count": 5,
   "metadata": {},
   "outputs": [],
   "source": [
    "import seaborn as sns\n",
    "import seaborn_altair as salt\n",
    "tips = sns.load_dataset(\"tips\")"
   ]
  },
  {
   "cell_type": "code",
   "execution_count": 6,
   "metadata": {},
   "outputs": [
    {
     "data": {
      "application/vnd.vegalite.v2+json": {
       "$schema": "https://vega.github.io/schema/vega-lite/v2.4.1.json",
       "config": {
        "range": {
         "category": [
          "rgba(49.62499999999999,115.62499999999996,161.37500000000003,1)",
          "rgba(224.87499999999997,128.875,44.12500000000004,1)",
          "rgba(58.49999999999999,145.50000000000003,58.49999999999999,1)",
          "rgba(192.125,60.87500000000001,61.62499999999999,1)",
          "rgba(147.49999999999994,113.74999999999999,178.25,1)",
          "rgba(131.875,91.37500000000001,83.12500000000001,1)",
          "rgba(213.50000000000003,132.49999999999997,188.74999999999994,1)",
          "rgba(127.0,127.0,127.0,1)",
          "rgba(168.87500000000003,169.625,53.37500000000001,1)",
          "rgba(45.99999999999998,171.25,184.00000000000003,1)"
         ]
        },
        "view": {
         "height": 300,
         "width": 400
        }
       },
       "data": {
        "values": [
         {
          "day": "Sun",
          "sex": "Female",
          "size": 2,
          "smoker": "No",
          "time": "Dinner",
          "tip": 1.01,
          "total_bill": 16.99
         },
         {
          "day": "Sun",
          "sex": "Male",
          "size": 3,
          "smoker": "No",
          "time": "Dinner",
          "tip": 1.66,
          "total_bill": 10.34
         },
         {
          "day": "Sun",
          "sex": "Male",
          "size": 3,
          "smoker": "No",
          "time": "Dinner",
          "tip": 3.5,
          "total_bill": 21.01
         },
         {
          "day": "Sun",
          "sex": "Male",
          "size": 2,
          "smoker": "No",
          "time": "Dinner",
          "tip": 3.31,
          "total_bill": 23.68
         },
         {
          "day": "Sun",
          "sex": "Female",
          "size": 4,
          "smoker": "No",
          "time": "Dinner",
          "tip": 3.61,
          "total_bill": 24.59
         },
         {
          "day": "Sun",
          "sex": "Male",
          "size": 4,
          "smoker": "No",
          "time": "Dinner",
          "tip": 4.71,
          "total_bill": 25.29
         },
         {
          "day": "Sun",
          "sex": "Male",
          "size": 2,
          "smoker": "No",
          "time": "Dinner",
          "tip": 2,
          "total_bill": 8.77
         },
         {
          "day": "Sun",
          "sex": "Male",
          "size": 4,
          "smoker": "No",
          "time": "Dinner",
          "tip": 3.12,
          "total_bill": 26.88
         },
         {
          "day": "Sun",
          "sex": "Male",
          "size": 2,
          "smoker": "No",
          "time": "Dinner",
          "tip": 1.96,
          "total_bill": 15.04
         },
         {
          "day": "Sun",
          "sex": "Male",
          "size": 2,
          "smoker": "No",
          "time": "Dinner",
          "tip": 3.23,
          "total_bill": 14.78
         },
         {
          "day": "Sun",
          "sex": "Male",
          "size": 2,
          "smoker": "No",
          "time": "Dinner",
          "tip": 1.71,
          "total_bill": 10.27
         },
         {
          "day": "Sun",
          "sex": "Female",
          "size": 4,
          "smoker": "No",
          "time": "Dinner",
          "tip": 5,
          "total_bill": 35.26
         },
         {
          "day": "Sun",
          "sex": "Male",
          "size": 2,
          "smoker": "No",
          "time": "Dinner",
          "tip": 1.57,
          "total_bill": 15.42
         },
         {
          "day": "Sun",
          "sex": "Male",
          "size": 4,
          "smoker": "No",
          "time": "Dinner",
          "tip": 3,
          "total_bill": 18.43
         },
         {
          "day": "Sun",
          "sex": "Female",
          "size": 2,
          "smoker": "No",
          "time": "Dinner",
          "tip": 3.02,
          "total_bill": 14.83
         },
         {
          "day": "Sun",
          "sex": "Male",
          "size": 2,
          "smoker": "No",
          "time": "Dinner",
          "tip": 3.92,
          "total_bill": 21.58
         },
         {
          "day": "Sun",
          "sex": "Female",
          "size": 3,
          "smoker": "No",
          "time": "Dinner",
          "tip": 1.67,
          "total_bill": 10.33
         },
         {
          "day": "Sun",
          "sex": "Male",
          "size": 3,
          "smoker": "No",
          "time": "Dinner",
          "tip": 3.71,
          "total_bill": 16.29
         },
         {
          "day": "Sun",
          "sex": "Female",
          "size": 3,
          "smoker": "No",
          "time": "Dinner",
          "tip": 3.5,
          "total_bill": 16.97
         },
         {
          "day": "Sat",
          "sex": "Male",
          "size": 3,
          "smoker": "No",
          "time": "Dinner",
          "tip": 3.35,
          "total_bill": 20.65
         },
         {
          "day": "Sat",
          "sex": "Male",
          "size": 2,
          "smoker": "No",
          "time": "Dinner",
          "tip": 4.08,
          "total_bill": 17.92
         },
         {
          "day": "Sat",
          "sex": "Female",
          "size": 2,
          "smoker": "No",
          "time": "Dinner",
          "tip": 2.75,
          "total_bill": 20.29
         },
         {
          "day": "Sat",
          "sex": "Female",
          "size": 2,
          "smoker": "No",
          "time": "Dinner",
          "tip": 2.23,
          "total_bill": 15.77
         },
         {
          "day": "Sat",
          "sex": "Male",
          "size": 4,
          "smoker": "No",
          "time": "Dinner",
          "tip": 7.58,
          "total_bill": 39.42
         },
         {
          "day": "Sat",
          "sex": "Male",
          "size": 2,
          "smoker": "No",
          "time": "Dinner",
          "tip": 3.18,
          "total_bill": 19.82
         },
         {
          "day": "Sat",
          "sex": "Male",
          "size": 4,
          "smoker": "No",
          "time": "Dinner",
          "tip": 2.34,
          "total_bill": 17.81
         },
         {
          "day": "Sat",
          "sex": "Male",
          "size": 2,
          "smoker": "No",
          "time": "Dinner",
          "tip": 2,
          "total_bill": 13.37
         },
         {
          "day": "Sat",
          "sex": "Male",
          "size": 2,
          "smoker": "No",
          "time": "Dinner",
          "tip": 2,
          "total_bill": 12.69
         },
         {
          "day": "Sat",
          "sex": "Male",
          "size": 2,
          "smoker": "No",
          "time": "Dinner",
          "tip": 4.3,
          "total_bill": 21.7
         },
         {
          "day": "Sat",
          "sex": "Female",
          "size": 2,
          "smoker": "No",
          "time": "Dinner",
          "tip": 3,
          "total_bill": 19.65
         },
         {
          "day": "Sat",
          "sex": "Male",
          "size": 2,
          "smoker": "No",
          "time": "Dinner",
          "tip": 1.45,
          "total_bill": 9.55
         },
         {
          "day": "Sat",
          "sex": "Male",
          "size": 4,
          "smoker": "No",
          "time": "Dinner",
          "tip": 2.5,
          "total_bill": 18.35
         },
         {
          "day": "Sat",
          "sex": "Female",
          "size": 2,
          "smoker": "No",
          "time": "Dinner",
          "tip": 3,
          "total_bill": 15.06
         },
         {
          "day": "Sat",
          "sex": "Female",
          "size": 4,
          "smoker": "No",
          "time": "Dinner",
          "tip": 2.45,
          "total_bill": 20.69
         },
         {
          "day": "Sat",
          "sex": "Male",
          "size": 2,
          "smoker": "No",
          "time": "Dinner",
          "tip": 3.27,
          "total_bill": 17.78
         },
         {
          "day": "Sat",
          "sex": "Male",
          "size": 3,
          "smoker": "No",
          "time": "Dinner",
          "tip": 3.6,
          "total_bill": 24.06
         },
         {
          "day": "Sat",
          "sex": "Male",
          "size": 3,
          "smoker": "No",
          "time": "Dinner",
          "tip": 2,
          "total_bill": 16.31
         },
         {
          "day": "Sat",
          "sex": "Female",
          "size": 3,
          "smoker": "No",
          "time": "Dinner",
          "tip": 3.07,
          "total_bill": 16.93
         },
         {
          "day": "Sat",
          "sex": "Male",
          "size": 3,
          "smoker": "No",
          "time": "Dinner",
          "tip": 2.31,
          "total_bill": 18.69
         },
         {
          "day": "Sat",
          "sex": "Male",
          "size": 3,
          "smoker": "No",
          "time": "Dinner",
          "tip": 5,
          "total_bill": 31.27
         },
         {
          "day": "Sat",
          "sex": "Male",
          "size": 3,
          "smoker": "No",
          "time": "Dinner",
          "tip": 2.24,
          "total_bill": 16.04
         },
         {
          "day": "Sun",
          "sex": "Male",
          "size": 2,
          "smoker": "No",
          "time": "Dinner",
          "tip": 2.54,
          "total_bill": 17.46
         },
         {
          "day": "Sun",
          "sex": "Male",
          "size": 2,
          "smoker": "No",
          "time": "Dinner",
          "tip": 3.06,
          "total_bill": 13.94
         },
         {
          "day": "Sun",
          "sex": "Male",
          "size": 2,
          "smoker": "No",
          "time": "Dinner",
          "tip": 1.32,
          "total_bill": 9.68
         },
         {
          "day": "Sun",
          "sex": "Male",
          "size": 4,
          "smoker": "No",
          "time": "Dinner",
          "tip": 5.6,
          "total_bill": 30.4
         },
         {
          "day": "Sun",
          "sex": "Male",
          "size": 2,
          "smoker": "No",
          "time": "Dinner",
          "tip": 3,
          "total_bill": 18.29
         },
         {
          "day": "Sun",
          "sex": "Male",
          "size": 2,
          "smoker": "No",
          "time": "Dinner",
          "tip": 5,
          "total_bill": 22.23
         },
         {
          "day": "Sun",
          "sex": "Male",
          "size": 4,
          "smoker": "No",
          "time": "Dinner",
          "tip": 6,
          "total_bill": 32.4
         },
         {
          "day": "Sun",
          "sex": "Male",
          "size": 3,
          "smoker": "No",
          "time": "Dinner",
          "tip": 2.05,
          "total_bill": 28.55
         },
         {
          "day": "Sun",
          "sex": "Male",
          "size": 2,
          "smoker": "No",
          "time": "Dinner",
          "tip": 3,
          "total_bill": 18.04
         },
         {
          "day": "Sun",
          "sex": "Male",
          "size": 2,
          "smoker": "No",
          "time": "Dinner",
          "tip": 2.5,
          "total_bill": 12.54
         },
         {
          "day": "Sun",
          "sex": "Female",
          "size": 2,
          "smoker": "No",
          "time": "Dinner",
          "tip": 2.6,
          "total_bill": 10.29
         },
         {
          "day": "Sun",
          "sex": "Female",
          "size": 4,
          "smoker": "No",
          "time": "Dinner",
          "tip": 5.2,
          "total_bill": 34.81
         },
         {
          "day": "Sun",
          "sex": "Male",
          "size": 2,
          "smoker": "No",
          "time": "Dinner",
          "tip": 1.56,
          "total_bill": 9.94
         },
         {
          "day": "Sun",
          "sex": "Male",
          "size": 4,
          "smoker": "No",
          "time": "Dinner",
          "tip": 4.34,
          "total_bill": 25.56
         },
         {
          "day": "Sun",
          "sex": "Male",
          "size": 2,
          "smoker": "No",
          "time": "Dinner",
          "tip": 3.51,
          "total_bill": 19.49
         },
         {
          "day": "Sat",
          "sex": "Male",
          "size": 4,
          "smoker": "Yes",
          "time": "Dinner",
          "tip": 3,
          "total_bill": 38.01
         },
         {
          "day": "Sat",
          "sex": "Female",
          "size": 2,
          "smoker": "No",
          "time": "Dinner",
          "tip": 1.5,
          "total_bill": 26.41
         },
         {
          "day": "Sat",
          "sex": "Male",
          "size": 2,
          "smoker": "Yes",
          "time": "Dinner",
          "tip": 1.76,
          "total_bill": 11.24
         },
         {
          "day": "Sat",
          "sex": "Male",
          "size": 4,
          "smoker": "No",
          "time": "Dinner",
          "tip": 6.73,
          "total_bill": 48.27
         },
         {
          "day": "Sat",
          "sex": "Male",
          "size": 2,
          "smoker": "Yes",
          "time": "Dinner",
          "tip": 3.21,
          "total_bill": 20.29
         },
         {
          "day": "Sat",
          "sex": "Male",
          "size": 2,
          "smoker": "Yes",
          "time": "Dinner",
          "tip": 2,
          "total_bill": 13.81
         },
         {
          "day": "Sat",
          "sex": "Male",
          "size": 2,
          "smoker": "Yes",
          "time": "Dinner",
          "tip": 1.98,
          "total_bill": 11.02
         },
         {
          "day": "Sat",
          "sex": "Male",
          "size": 4,
          "smoker": "Yes",
          "time": "Dinner",
          "tip": 3.76,
          "total_bill": 18.29
         },
         {
          "day": "Sat",
          "sex": "Male",
          "size": 3,
          "smoker": "No",
          "time": "Dinner",
          "tip": 2.64,
          "total_bill": 17.59
         },
         {
          "day": "Sat",
          "sex": "Male",
          "size": 3,
          "smoker": "No",
          "time": "Dinner",
          "tip": 3.15,
          "total_bill": 20.08
         },
         {
          "day": "Sat",
          "sex": "Female",
          "size": 2,
          "smoker": "No",
          "time": "Dinner",
          "tip": 2.47,
          "total_bill": 16.45
         },
         {
          "day": "Sat",
          "sex": "Female",
          "size": 1,
          "smoker": "Yes",
          "time": "Dinner",
          "tip": 1,
          "total_bill": 3.07
         },
         {
          "day": "Sat",
          "sex": "Male",
          "size": 2,
          "smoker": "No",
          "time": "Dinner",
          "tip": 2.01,
          "total_bill": 20.23
         },
         {
          "day": "Sat",
          "sex": "Male",
          "size": 2,
          "smoker": "Yes",
          "time": "Dinner",
          "tip": 2.09,
          "total_bill": 15.01
         },
         {
          "day": "Sat",
          "sex": "Male",
          "size": 2,
          "smoker": "No",
          "time": "Dinner",
          "tip": 1.97,
          "total_bill": 12.02
         },
         {
          "day": "Sat",
          "sex": "Female",
          "size": 3,
          "smoker": "No",
          "time": "Dinner",
          "tip": 3,
          "total_bill": 17.07
         },
         {
          "day": "Sat",
          "sex": "Female",
          "size": 2,
          "smoker": "Yes",
          "time": "Dinner",
          "tip": 3.14,
          "total_bill": 26.86
         },
         {
          "day": "Sat",
          "sex": "Female",
          "size": 2,
          "smoker": "Yes",
          "time": "Dinner",
          "tip": 5,
          "total_bill": 25.28
         },
         {
          "day": "Sat",
          "sex": "Female",
          "size": 2,
          "smoker": "No",
          "time": "Dinner",
          "tip": 2.2,
          "total_bill": 14.73
         },
         {
          "day": "Sat",
          "sex": "Male",
          "size": 2,
          "smoker": "No",
          "time": "Dinner",
          "tip": 1.25,
          "total_bill": 10.51
         },
         {
          "day": "Sat",
          "sex": "Male",
          "size": 2,
          "smoker": "Yes",
          "time": "Dinner",
          "tip": 3.08,
          "total_bill": 17.92
         },
         {
          "day": "Thur",
          "sex": "Male",
          "size": 4,
          "smoker": "No",
          "time": "Lunch",
          "tip": 4,
          "total_bill": 27.2
         },
         {
          "day": "Thur",
          "sex": "Male",
          "size": 2,
          "smoker": "No",
          "time": "Lunch",
          "tip": 3,
          "total_bill": 22.76
         },
         {
          "day": "Thur",
          "sex": "Male",
          "size": 2,
          "smoker": "No",
          "time": "Lunch",
          "tip": 2.71,
          "total_bill": 17.29
         },
         {
          "day": "Thur",
          "sex": "Male",
          "size": 2,
          "smoker": "Yes",
          "time": "Lunch",
          "tip": 3,
          "total_bill": 19.44
         },
         {
          "day": "Thur",
          "sex": "Male",
          "size": 2,
          "smoker": "No",
          "time": "Lunch",
          "tip": 3.4,
          "total_bill": 16.66
         },
         {
          "day": "Thur",
          "sex": "Female",
          "size": 1,
          "smoker": "No",
          "time": "Lunch",
          "tip": 1.83,
          "total_bill": 10.07
         },
         {
          "day": "Thur",
          "sex": "Male",
          "size": 2,
          "smoker": "Yes",
          "time": "Lunch",
          "tip": 5,
          "total_bill": 32.68
         },
         {
          "day": "Thur",
          "sex": "Male",
          "size": 2,
          "smoker": "No",
          "time": "Lunch",
          "tip": 2.03,
          "total_bill": 15.98
         },
         {
          "day": "Thur",
          "sex": "Female",
          "size": 4,
          "smoker": "No",
          "time": "Lunch",
          "tip": 5.17,
          "total_bill": 34.83
         },
         {
          "day": "Thur",
          "sex": "Male",
          "size": 2,
          "smoker": "No",
          "time": "Lunch",
          "tip": 2,
          "total_bill": 13.03
         },
         {
          "day": "Thur",
          "sex": "Male",
          "size": 2,
          "smoker": "No",
          "time": "Lunch",
          "tip": 4,
          "total_bill": 18.28
         },
         {
          "day": "Thur",
          "sex": "Male",
          "size": 2,
          "smoker": "No",
          "time": "Lunch",
          "tip": 5.85,
          "total_bill": 24.71
         },
         {
          "day": "Thur",
          "sex": "Male",
          "size": 2,
          "smoker": "No",
          "time": "Lunch",
          "tip": 3,
          "total_bill": 21.16
         },
         {
          "day": "Fri",
          "sex": "Male",
          "size": 2,
          "smoker": "Yes",
          "time": "Dinner",
          "tip": 3,
          "total_bill": 28.97
         },
         {
          "day": "Fri",
          "sex": "Male",
          "size": 2,
          "smoker": "No",
          "time": "Dinner",
          "tip": 3.5,
          "total_bill": 22.49
         },
         {
          "day": "Fri",
          "sex": "Female",
          "size": 2,
          "smoker": "Yes",
          "time": "Dinner",
          "tip": 1,
          "total_bill": 5.75
         },
         {
          "day": "Fri",
          "sex": "Female",
          "size": 2,
          "smoker": "Yes",
          "time": "Dinner",
          "tip": 4.3,
          "total_bill": 16.32
         },
         {
          "day": "Fri",
          "sex": "Female",
          "size": 2,
          "smoker": "No",
          "time": "Dinner",
          "tip": 3.25,
          "total_bill": 22.75
         },
         {
          "day": "Fri",
          "sex": "Male",
          "size": 4,
          "smoker": "Yes",
          "time": "Dinner",
          "tip": 4.73,
          "total_bill": 40.17
         },
         {
          "day": "Fri",
          "sex": "Male",
          "size": 2,
          "smoker": "Yes",
          "time": "Dinner",
          "tip": 4,
          "total_bill": 27.28
         },
         {
          "day": "Fri",
          "sex": "Male",
          "size": 2,
          "smoker": "Yes",
          "time": "Dinner",
          "tip": 1.5,
          "total_bill": 12.03
         },
         {
          "day": "Fri",
          "sex": "Male",
          "size": 2,
          "smoker": "Yes",
          "time": "Dinner",
          "tip": 3,
          "total_bill": 21.01
         },
         {
          "day": "Fri",
          "sex": "Male",
          "size": 2,
          "smoker": "No",
          "time": "Dinner",
          "tip": 1.5,
          "total_bill": 12.46
         },
         {
          "day": "Fri",
          "sex": "Female",
          "size": 2,
          "smoker": "Yes",
          "time": "Dinner",
          "tip": 2.5,
          "total_bill": 11.35
         },
         {
          "day": "Fri",
          "sex": "Female",
          "size": 2,
          "smoker": "Yes",
          "time": "Dinner",
          "tip": 3,
          "total_bill": 15.38
         },
         {
          "day": "Sat",
          "sex": "Female",
          "size": 3,
          "smoker": "Yes",
          "time": "Dinner",
          "tip": 2.5,
          "total_bill": 44.3
         },
         {
          "day": "Sat",
          "sex": "Female",
          "size": 2,
          "smoker": "Yes",
          "time": "Dinner",
          "tip": 3.48,
          "total_bill": 22.42
         },
         {
          "day": "Sat",
          "sex": "Female",
          "size": 2,
          "smoker": "No",
          "time": "Dinner",
          "tip": 4.08,
          "total_bill": 20.92
         },
         {
          "day": "Sat",
          "sex": "Male",
          "size": 2,
          "smoker": "Yes",
          "time": "Dinner",
          "tip": 1.64,
          "total_bill": 15.36
         },
         {
          "day": "Sat",
          "sex": "Male",
          "size": 2,
          "smoker": "Yes",
          "time": "Dinner",
          "tip": 4.06,
          "total_bill": 20.49
         },
         {
          "day": "Sat",
          "sex": "Male",
          "size": 2,
          "smoker": "Yes",
          "time": "Dinner",
          "tip": 4.29,
          "total_bill": 25.21
         },
         {
          "day": "Sat",
          "sex": "Male",
          "size": 2,
          "smoker": "No",
          "time": "Dinner",
          "tip": 3.76,
          "total_bill": 18.24
         },
         {
          "day": "Sat",
          "sex": "Female",
          "size": 2,
          "smoker": "Yes",
          "time": "Dinner",
          "tip": 4,
          "total_bill": 14.31
         },
         {
          "day": "Sat",
          "sex": "Male",
          "size": 2,
          "smoker": "No",
          "time": "Dinner",
          "tip": 3,
          "total_bill": 14
         },
         {
          "day": "Sat",
          "sex": "Female",
          "size": 1,
          "smoker": "No",
          "time": "Dinner",
          "tip": 1,
          "total_bill": 7.25
         },
         {
          "day": "Sun",
          "sex": "Male",
          "size": 3,
          "smoker": "No",
          "time": "Dinner",
          "tip": 4,
          "total_bill": 38.07
         },
         {
          "day": "Sun",
          "sex": "Male",
          "size": 2,
          "smoker": "No",
          "time": "Dinner",
          "tip": 2.55,
          "total_bill": 23.95
         },
         {
          "day": "Sun",
          "sex": "Female",
          "size": 3,
          "smoker": "No",
          "time": "Dinner",
          "tip": 4,
          "total_bill": 25.71
         },
         {
          "day": "Sun",
          "sex": "Female",
          "size": 2,
          "smoker": "No",
          "time": "Dinner",
          "tip": 3.5,
          "total_bill": 17.31
         },
         {
          "day": "Sun",
          "sex": "Male",
          "size": 4,
          "smoker": "No",
          "time": "Dinner",
          "tip": 5.07,
          "total_bill": 29.93
         },
         {
          "day": "Thur",
          "sex": "Female",
          "size": 2,
          "smoker": "No",
          "time": "Lunch",
          "tip": 1.5,
          "total_bill": 10.65
         },
         {
          "day": "Thur",
          "sex": "Female",
          "size": 2,
          "smoker": "No",
          "time": "Lunch",
          "tip": 1.8,
          "total_bill": 12.43
         },
         {
          "day": "Thur",
          "sex": "Female",
          "size": 4,
          "smoker": "No",
          "time": "Lunch",
          "tip": 2.92,
          "total_bill": 24.08
         },
         {
          "day": "Thur",
          "sex": "Male",
          "size": 2,
          "smoker": "No",
          "time": "Lunch",
          "tip": 2.31,
          "total_bill": 11.69
         },
         {
          "day": "Thur",
          "sex": "Female",
          "size": 2,
          "smoker": "No",
          "time": "Lunch",
          "tip": 1.68,
          "total_bill": 13.42
         },
         {
          "day": "Thur",
          "sex": "Male",
          "size": 2,
          "smoker": "No",
          "time": "Lunch",
          "tip": 2.5,
          "total_bill": 14.26
         },
         {
          "day": "Thur",
          "sex": "Male",
          "size": 2,
          "smoker": "No",
          "time": "Lunch",
          "tip": 2,
          "total_bill": 15.95
         },
         {
          "day": "Thur",
          "sex": "Female",
          "size": 2,
          "smoker": "No",
          "time": "Lunch",
          "tip": 2.52,
          "total_bill": 12.48
         },
         {
          "day": "Thur",
          "sex": "Female",
          "size": 6,
          "smoker": "No",
          "time": "Lunch",
          "tip": 4.2,
          "total_bill": 29.8
         },
         {
          "day": "Thur",
          "sex": "Male",
          "size": 2,
          "smoker": "No",
          "time": "Lunch",
          "tip": 1.48,
          "total_bill": 8.52
         },
         {
          "day": "Thur",
          "sex": "Female",
          "size": 2,
          "smoker": "No",
          "time": "Lunch",
          "tip": 2,
          "total_bill": 14.52
         },
         {
          "day": "Thur",
          "sex": "Female",
          "size": 2,
          "smoker": "No",
          "time": "Lunch",
          "tip": 2,
          "total_bill": 11.38
         },
         {
          "day": "Thur",
          "sex": "Male",
          "size": 3,
          "smoker": "No",
          "time": "Lunch",
          "tip": 2.18,
          "total_bill": 22.82
         },
         {
          "day": "Thur",
          "sex": "Male",
          "size": 2,
          "smoker": "No",
          "time": "Lunch",
          "tip": 1.5,
          "total_bill": 19.08
         },
         {
          "day": "Thur",
          "sex": "Female",
          "size": 2,
          "smoker": "No",
          "time": "Lunch",
          "tip": 2.83,
          "total_bill": 20.27
         },
         {
          "day": "Thur",
          "sex": "Female",
          "size": 2,
          "smoker": "No",
          "time": "Lunch",
          "tip": 1.5,
          "total_bill": 11.17
         },
         {
          "day": "Thur",
          "sex": "Female",
          "size": 2,
          "smoker": "No",
          "time": "Lunch",
          "tip": 2,
          "total_bill": 12.26
         },
         {
          "day": "Thur",
          "sex": "Female",
          "size": 2,
          "smoker": "No",
          "time": "Lunch",
          "tip": 3.25,
          "total_bill": 18.26
         },
         {
          "day": "Thur",
          "sex": "Female",
          "size": 2,
          "smoker": "No",
          "time": "Lunch",
          "tip": 1.25,
          "total_bill": 8.51
         },
         {
          "day": "Thur",
          "sex": "Female",
          "size": 2,
          "smoker": "No",
          "time": "Lunch",
          "tip": 2,
          "total_bill": 10.33
         },
         {
          "day": "Thur",
          "sex": "Female",
          "size": 2,
          "smoker": "No",
          "time": "Lunch",
          "tip": 2,
          "total_bill": 14.15
         },
         {
          "day": "Thur",
          "sex": "Male",
          "size": 2,
          "smoker": "Yes",
          "time": "Lunch",
          "tip": 2,
          "total_bill": 16
         },
         {
          "day": "Thur",
          "sex": "Female",
          "size": 2,
          "smoker": "No",
          "time": "Lunch",
          "tip": 2.75,
          "total_bill": 13.16
         },
         {
          "day": "Thur",
          "sex": "Female",
          "size": 2,
          "smoker": "No",
          "time": "Lunch",
          "tip": 3.5,
          "total_bill": 17.47
         },
         {
          "day": "Thur",
          "sex": "Male",
          "size": 6,
          "smoker": "No",
          "time": "Lunch",
          "tip": 6.7,
          "total_bill": 34.3
         },
         {
          "day": "Thur",
          "sex": "Male",
          "size": 5,
          "smoker": "No",
          "time": "Lunch",
          "tip": 5,
          "total_bill": 41.19
         },
         {
          "day": "Thur",
          "sex": "Female",
          "size": 6,
          "smoker": "No",
          "time": "Lunch",
          "tip": 5,
          "total_bill": 27.05
         },
         {
          "day": "Thur",
          "sex": "Female",
          "size": 2,
          "smoker": "No",
          "time": "Lunch",
          "tip": 2.3,
          "total_bill": 16.43
         },
         {
          "day": "Thur",
          "sex": "Female",
          "size": 2,
          "smoker": "No",
          "time": "Lunch",
          "tip": 1.5,
          "total_bill": 8.35
         },
         {
          "day": "Thur",
          "sex": "Female",
          "size": 3,
          "smoker": "No",
          "time": "Lunch",
          "tip": 1.36,
          "total_bill": 18.64
         },
         {
          "day": "Thur",
          "sex": "Female",
          "size": 2,
          "smoker": "No",
          "time": "Lunch",
          "tip": 1.63,
          "total_bill": 11.87
         },
         {
          "day": "Thur",
          "sex": "Male",
          "size": 2,
          "smoker": "No",
          "time": "Lunch",
          "tip": 1.73,
          "total_bill": 9.78
         },
         {
          "day": "Thur",
          "sex": "Male",
          "size": 2,
          "smoker": "No",
          "time": "Lunch",
          "tip": 2,
          "total_bill": 7.51
         },
         {
          "day": "Sun",
          "sex": "Male",
          "size": 2,
          "smoker": "No",
          "time": "Dinner",
          "tip": 2.5,
          "total_bill": 14.07
         },
         {
          "day": "Sun",
          "sex": "Male",
          "size": 2,
          "smoker": "No",
          "time": "Dinner",
          "tip": 2,
          "total_bill": 13.13
         },
         {
          "day": "Sun",
          "sex": "Male",
          "size": 3,
          "smoker": "No",
          "time": "Dinner",
          "tip": 2.74,
          "total_bill": 17.26
         },
         {
          "day": "Sun",
          "sex": "Male",
          "size": 4,
          "smoker": "No",
          "time": "Dinner",
          "tip": 2,
          "total_bill": 24.55
         },
         {
          "day": "Sun",
          "sex": "Male",
          "size": 4,
          "smoker": "No",
          "time": "Dinner",
          "tip": 2,
          "total_bill": 19.77
         },
         {
          "day": "Sun",
          "sex": "Female",
          "size": 5,
          "smoker": "No",
          "time": "Dinner",
          "tip": 5.14,
          "total_bill": 29.85
         },
         {
          "day": "Sun",
          "sex": "Male",
          "size": 6,
          "smoker": "No",
          "time": "Dinner",
          "tip": 5,
          "total_bill": 48.17
         },
         {
          "day": "Sun",
          "sex": "Female",
          "size": 4,
          "smoker": "No",
          "time": "Dinner",
          "tip": 3.75,
          "total_bill": 25
         },
         {
          "day": "Sun",
          "sex": "Female",
          "size": 2,
          "smoker": "No",
          "time": "Dinner",
          "tip": 2.61,
          "total_bill": 13.39
         },
         {
          "day": "Sun",
          "sex": "Male",
          "size": 4,
          "smoker": "No",
          "time": "Dinner",
          "tip": 2,
          "total_bill": 16.49
         },
         {
          "day": "Sun",
          "sex": "Male",
          "size": 4,
          "smoker": "No",
          "time": "Dinner",
          "tip": 3.5,
          "total_bill": 21.5
         },
         {
          "day": "Sun",
          "sex": "Male",
          "size": 2,
          "smoker": "No",
          "time": "Dinner",
          "tip": 2.5,
          "total_bill": 12.66
         },
         {
          "day": "Sun",
          "sex": "Female",
          "size": 3,
          "smoker": "No",
          "time": "Dinner",
          "tip": 2,
          "total_bill": 16.21
         },
         {
          "day": "Sun",
          "sex": "Male",
          "size": 2,
          "smoker": "No",
          "time": "Dinner",
          "tip": 2,
          "total_bill": 13.81
         },
         {
          "day": "Sun",
          "sex": "Female",
          "size": 2,
          "smoker": "Yes",
          "time": "Dinner",
          "tip": 3,
          "total_bill": 17.51
         },
         {
          "day": "Sun",
          "sex": "Male",
          "size": 3,
          "smoker": "No",
          "time": "Dinner",
          "tip": 3.48,
          "total_bill": 24.52
         },
         {
          "day": "Sun",
          "sex": "Male",
          "size": 2,
          "smoker": "No",
          "time": "Dinner",
          "tip": 2.24,
          "total_bill": 20.76
         },
         {
          "day": "Sun",
          "sex": "Male",
          "size": 4,
          "smoker": "No",
          "time": "Dinner",
          "tip": 4.5,
          "total_bill": 31.71
         },
         {
          "day": "Sat",
          "sex": "Female",
          "size": 2,
          "smoker": "Yes",
          "time": "Dinner",
          "tip": 1.61,
          "total_bill": 10.59
         },
         {
          "day": "Sat",
          "sex": "Female",
          "size": 2,
          "smoker": "Yes",
          "time": "Dinner",
          "tip": 2,
          "total_bill": 10.63
         },
         {
          "day": "Sat",
          "sex": "Male",
          "size": 3,
          "smoker": "Yes",
          "time": "Dinner",
          "tip": 10,
          "total_bill": 50.81
         },
         {
          "day": "Sat",
          "sex": "Male",
          "size": 2,
          "smoker": "Yes",
          "time": "Dinner",
          "tip": 3.16,
          "total_bill": 15.81
         },
         {
          "day": "Sun",
          "sex": "Male",
          "size": 2,
          "smoker": "Yes",
          "time": "Dinner",
          "tip": 5.15,
          "total_bill": 7.25
         },
         {
          "day": "Sun",
          "sex": "Male",
          "size": 2,
          "smoker": "Yes",
          "time": "Dinner",
          "tip": 3.18,
          "total_bill": 31.85
         },
         {
          "day": "Sun",
          "sex": "Male",
          "size": 2,
          "smoker": "Yes",
          "time": "Dinner",
          "tip": 4,
          "total_bill": 16.82
         },
         {
          "day": "Sun",
          "sex": "Male",
          "size": 2,
          "smoker": "Yes",
          "time": "Dinner",
          "tip": 3.11,
          "total_bill": 32.9
         },
         {
          "day": "Sun",
          "sex": "Male",
          "size": 2,
          "smoker": "Yes",
          "time": "Dinner",
          "tip": 2,
          "total_bill": 17.89
         },
         {
          "day": "Sun",
          "sex": "Male",
          "size": 2,
          "smoker": "Yes",
          "time": "Dinner",
          "tip": 2,
          "total_bill": 14.48
         },
         {
          "day": "Sun",
          "sex": "Female",
          "size": 2,
          "smoker": "Yes",
          "time": "Dinner",
          "tip": 4,
          "total_bill": 9.6
         },
         {
          "day": "Sun",
          "sex": "Male",
          "size": 2,
          "smoker": "Yes",
          "time": "Dinner",
          "tip": 3.55,
          "total_bill": 34.63
         },
         {
          "day": "Sun",
          "sex": "Male",
          "size": 4,
          "smoker": "Yes",
          "time": "Dinner",
          "tip": 3.68,
          "total_bill": 34.65
         },
         {
          "day": "Sun",
          "sex": "Male",
          "size": 2,
          "smoker": "Yes",
          "time": "Dinner",
          "tip": 5.65,
          "total_bill": 23.33
         },
         {
          "day": "Sun",
          "sex": "Male",
          "size": 3,
          "smoker": "Yes",
          "time": "Dinner",
          "tip": 3.5,
          "total_bill": 45.35
         },
         {
          "day": "Sun",
          "sex": "Male",
          "size": 4,
          "smoker": "Yes",
          "time": "Dinner",
          "tip": 6.5,
          "total_bill": 23.17
         },
         {
          "day": "Sun",
          "sex": "Male",
          "size": 2,
          "smoker": "Yes",
          "time": "Dinner",
          "tip": 3,
          "total_bill": 40.55
         },
         {
          "day": "Sun",
          "sex": "Male",
          "size": 5,
          "smoker": "No",
          "time": "Dinner",
          "tip": 5,
          "total_bill": 20.69
         },
         {
          "day": "Sun",
          "sex": "Female",
          "size": 3,
          "smoker": "Yes",
          "time": "Dinner",
          "tip": 3.5,
          "total_bill": 20.9
         },
         {
          "day": "Sun",
          "sex": "Male",
          "size": 5,
          "smoker": "Yes",
          "time": "Dinner",
          "tip": 2,
          "total_bill": 30.46
         },
         {
          "day": "Sun",
          "sex": "Female",
          "size": 3,
          "smoker": "Yes",
          "time": "Dinner",
          "tip": 3.5,
          "total_bill": 18.15
         },
         {
          "day": "Sun",
          "sex": "Male",
          "size": 3,
          "smoker": "Yes",
          "time": "Dinner",
          "tip": 4,
          "total_bill": 23.1
         },
         {
          "day": "Sun",
          "sex": "Male",
          "size": 2,
          "smoker": "Yes",
          "time": "Dinner",
          "tip": 1.5,
          "total_bill": 15.69
         },
         {
          "day": "Thur",
          "sex": "Female",
          "size": 2,
          "smoker": "Yes",
          "time": "Lunch",
          "tip": 4.19,
          "total_bill": 19.81
         },
         {
          "day": "Thur",
          "sex": "Male",
          "size": 2,
          "smoker": "Yes",
          "time": "Lunch",
          "tip": 2.56,
          "total_bill": 28.44
         },
         {
          "day": "Thur",
          "sex": "Male",
          "size": 2,
          "smoker": "Yes",
          "time": "Lunch",
          "tip": 2.02,
          "total_bill": 15.48
         },
         {
          "day": "Thur",
          "sex": "Male",
          "size": 2,
          "smoker": "Yes",
          "time": "Lunch",
          "tip": 4,
          "total_bill": 16.58
         },
         {
          "day": "Thur",
          "sex": "Male",
          "size": 2,
          "smoker": "No",
          "time": "Lunch",
          "tip": 1.44,
          "total_bill": 7.56
         },
         {
          "day": "Thur",
          "sex": "Male",
          "size": 2,
          "smoker": "Yes",
          "time": "Lunch",
          "tip": 2,
          "total_bill": 10.34
         },
         {
          "day": "Thur",
          "sex": "Female",
          "size": 4,
          "smoker": "Yes",
          "time": "Lunch",
          "tip": 5,
          "total_bill": 43.11
         },
         {
          "day": "Thur",
          "sex": "Female",
          "size": 2,
          "smoker": "Yes",
          "time": "Lunch",
          "tip": 2,
          "total_bill": 13
         },
         {
          "day": "Thur",
          "sex": "Male",
          "size": 2,
          "smoker": "Yes",
          "time": "Lunch",
          "tip": 2,
          "total_bill": 13.51
         },
         {
          "day": "Thur",
          "sex": "Male",
          "size": 3,
          "smoker": "Yes",
          "time": "Lunch",
          "tip": 4,
          "total_bill": 18.71
         },
         {
          "day": "Thur",
          "sex": "Female",
          "size": 2,
          "smoker": "Yes",
          "time": "Lunch",
          "tip": 2.01,
          "total_bill": 12.74
         },
         {
          "day": "Thur",
          "sex": "Female",
          "size": 2,
          "smoker": "Yes",
          "time": "Lunch",
          "tip": 2,
          "total_bill": 13
         },
         {
          "day": "Thur",
          "sex": "Female",
          "size": 2,
          "smoker": "Yes",
          "time": "Lunch",
          "tip": 2.5,
          "total_bill": 16.4
         },
         {
          "day": "Thur",
          "sex": "Male",
          "size": 4,
          "smoker": "Yes",
          "time": "Lunch",
          "tip": 4,
          "total_bill": 20.53
         },
         {
          "day": "Thur",
          "sex": "Female",
          "size": 3,
          "smoker": "Yes",
          "time": "Lunch",
          "tip": 3.23,
          "total_bill": 16.47
         },
         {
          "day": "Sat",
          "sex": "Male",
          "size": 3,
          "smoker": "Yes",
          "time": "Dinner",
          "tip": 3.41,
          "total_bill": 26.59
         },
         {
          "day": "Sat",
          "sex": "Male",
          "size": 4,
          "smoker": "Yes",
          "time": "Dinner",
          "tip": 3,
          "total_bill": 38.73
         },
         {
          "day": "Sat",
          "sex": "Male",
          "size": 2,
          "smoker": "Yes",
          "time": "Dinner",
          "tip": 2.03,
          "total_bill": 24.27
         },
         {
          "day": "Sat",
          "sex": "Female",
          "size": 2,
          "smoker": "Yes",
          "time": "Dinner",
          "tip": 2.23,
          "total_bill": 12.76
         },
         {
          "day": "Sat",
          "sex": "Male",
          "size": 3,
          "smoker": "Yes",
          "time": "Dinner",
          "tip": 2,
          "total_bill": 30.06
         },
         {
          "day": "Sat",
          "sex": "Male",
          "size": 4,
          "smoker": "Yes",
          "time": "Dinner",
          "tip": 5.16,
          "total_bill": 25.89
         },
         {
          "day": "Sat",
          "sex": "Male",
          "size": 4,
          "smoker": "No",
          "time": "Dinner",
          "tip": 9,
          "total_bill": 48.33
         },
         {
          "day": "Sat",
          "sex": "Female",
          "size": 2,
          "smoker": "Yes",
          "time": "Dinner",
          "tip": 2.5,
          "total_bill": 13.27
         },
         {
          "day": "Sat",
          "sex": "Female",
          "size": 3,
          "smoker": "Yes",
          "time": "Dinner",
          "tip": 6.5,
          "total_bill": 28.17
         },
         {
          "day": "Sat",
          "sex": "Female",
          "size": 2,
          "smoker": "Yes",
          "time": "Dinner",
          "tip": 1.1,
          "total_bill": 12.9
         },
         {
          "day": "Sat",
          "sex": "Male",
          "size": 5,
          "smoker": "Yes",
          "time": "Dinner",
          "tip": 3,
          "total_bill": 28.15
         },
         {
          "day": "Sat",
          "sex": "Male",
          "size": 2,
          "smoker": "Yes",
          "time": "Dinner",
          "tip": 1.5,
          "total_bill": 11.59
         },
         {
          "day": "Sat",
          "sex": "Male",
          "size": 2,
          "smoker": "Yes",
          "time": "Dinner",
          "tip": 1.44,
          "total_bill": 7.74
         },
         {
          "day": "Sat",
          "sex": "Female",
          "size": 4,
          "smoker": "Yes",
          "time": "Dinner",
          "tip": 3.09,
          "total_bill": 30.14
         },
         {
          "day": "Fri",
          "sex": "Male",
          "size": 2,
          "smoker": "Yes",
          "time": "Lunch",
          "tip": 2.2,
          "total_bill": 12.16
         },
         {
          "day": "Fri",
          "sex": "Female",
          "size": 2,
          "smoker": "Yes",
          "time": "Lunch",
          "tip": 3.48,
          "total_bill": 13.42
         },
         {
          "day": "Fri",
          "sex": "Male",
          "size": 1,
          "smoker": "Yes",
          "time": "Lunch",
          "tip": 1.92,
          "total_bill": 8.58
         },
         {
          "day": "Fri",
          "sex": "Female",
          "size": 3,
          "smoker": "No",
          "time": "Lunch",
          "tip": 3,
          "total_bill": 15.98
         },
         {
          "day": "Fri",
          "sex": "Male",
          "size": 2,
          "smoker": "Yes",
          "time": "Lunch",
          "tip": 1.58,
          "total_bill": 13.42
         },
         {
          "day": "Fri",
          "sex": "Female",
          "size": 2,
          "smoker": "Yes",
          "time": "Lunch",
          "tip": 2.5,
          "total_bill": 16.27
         },
         {
          "day": "Fri",
          "sex": "Female",
          "size": 2,
          "smoker": "Yes",
          "time": "Lunch",
          "tip": 2,
          "total_bill": 10.09
         },
         {
          "day": "Sat",
          "sex": "Male",
          "size": 4,
          "smoker": "No",
          "time": "Dinner",
          "tip": 3,
          "total_bill": 20.45
         },
         {
          "day": "Sat",
          "sex": "Male",
          "size": 2,
          "smoker": "No",
          "time": "Dinner",
          "tip": 2.72,
          "total_bill": 13.28
         },
         {
          "day": "Sat",
          "sex": "Female",
          "size": 2,
          "smoker": "Yes",
          "time": "Dinner",
          "tip": 2.88,
          "total_bill": 22.12
         },
         {
          "day": "Sat",
          "sex": "Male",
          "size": 4,
          "smoker": "Yes",
          "time": "Dinner",
          "tip": 2,
          "total_bill": 24.01
         },
         {
          "day": "Sat",
          "sex": "Male",
          "size": 3,
          "smoker": "Yes",
          "time": "Dinner",
          "tip": 3,
          "total_bill": 15.69
         },
         {
          "day": "Sat",
          "sex": "Male",
          "size": 2,
          "smoker": "No",
          "time": "Dinner",
          "tip": 3.39,
          "total_bill": 11.61
         },
         {
          "day": "Sat",
          "sex": "Male",
          "size": 2,
          "smoker": "No",
          "time": "Dinner",
          "tip": 1.47,
          "total_bill": 10.77
         },
         {
          "day": "Sat",
          "sex": "Male",
          "size": 2,
          "smoker": "Yes",
          "time": "Dinner",
          "tip": 3,
          "total_bill": 15.53
         },
         {
          "day": "Sat",
          "sex": "Male",
          "size": 2,
          "smoker": "No",
          "time": "Dinner",
          "tip": 1.25,
          "total_bill": 10.07
         },
         {
          "day": "Sat",
          "sex": "Male",
          "size": 2,
          "smoker": "Yes",
          "time": "Dinner",
          "tip": 1,
          "total_bill": 12.6
         },
         {
          "day": "Sat",
          "sex": "Male",
          "size": 2,
          "smoker": "Yes",
          "time": "Dinner",
          "tip": 1.17,
          "total_bill": 32.83
         },
         {
          "day": "Sat",
          "sex": "Female",
          "size": 3,
          "smoker": "No",
          "time": "Dinner",
          "tip": 4.67,
          "total_bill": 35.83
         },
         {
          "day": "Sat",
          "sex": "Male",
          "size": 3,
          "smoker": "No",
          "time": "Dinner",
          "tip": 5.92,
          "total_bill": 29.03
         },
         {
          "day": "Sat",
          "sex": "Female",
          "size": 2,
          "smoker": "Yes",
          "time": "Dinner",
          "tip": 2,
          "total_bill": 27.18
         },
         {
          "day": "Sat",
          "sex": "Male",
          "size": 2,
          "smoker": "Yes",
          "time": "Dinner",
          "tip": 2,
          "total_bill": 22.67
         },
         {
          "day": "Sat",
          "sex": "Male",
          "size": 2,
          "smoker": "No",
          "time": "Dinner",
          "tip": 1.75,
          "total_bill": 17.82
         },
         {
          "day": "Thur",
          "sex": "Female",
          "size": 2,
          "smoker": "No",
          "time": "Dinner",
          "tip": 3,
          "total_bill": 18.78
         }
        ]
       },
       "layer": [
        {
         "encoding": {
          "color": {
           "field": "day",
           "legend": null,
           "type": "nominal"
          },
          "x": {
           "field": "day",
           "type": "nominal"
          },
          "y": {
           "aggregate": "mean",
           "axis": {
            "title": "total_bill"
           },
           "field": "total_bill",
           "type": "quantitative"
          }
         },
         "mark": "bar"
        },
        {
         "encoding": {
          "x": {
           "field": "day",
           "type": "nominal"
          },
          "y": {
           "aggregate": "ci0",
           "field": "total_bill",
           "type": "quantitative"
          },
          "y2": {
           "aggregate": "ci1",
           "field": "total_bill",
           "type": "quantitative"
          }
         },
         "mark": "rule"
        }
       ]
      },
      "image/png": "[encoded data removed]",
      "text/plain": [
       "<VegaLite 2 object>\n",
       "\n",
       "If you see this message, it means the renderer has not been properly enabled\n",
       "for the frontend that you are using. For more information, see\n",
       "https://altair-viz.github.io/user_guide/troubleshooting.html\n"
      ]
     },
     "metadata": {},
     "output_type": "display_data"
    },
    {
     "data": {
      "image/png": "[encoded data removed]",
      "text/plain": [
       "<Figure size 432x288 with 1 Axes>"
      ]
     },
     "metadata": {},
     "output_type": "display_data"
    }
   ],
   "source": [
    "display(salt.barplot(x=\"day\", y=\"total_bill\", data=tips))\n",
    "ax = sns.barplot(x=\"day\", y=\"total_bill\", data=tips)"
   ]
  },
  {
   "cell_type": "code",
   "execution_count": 7,
   "metadata": {},
   "outputs": [
    {
     "data": {
      "application/vnd.vegalite.v2+json": {
       "$schema": "https://vega.github.io/schema/vega-lite/v2.4.1.json",
       "config": {
        "range": {
         "category": [
          "rgba(49.62499999999999,115.62499999999996,161.37500000000003,1)",
          "rgba(224.87499999999997,128.875,44.12500000000004,1)",
          "rgba(58.49999999999999,145.50000000000003,58.49999999999999,1)",
          "rgba(192.125,60.87500000000001,61.62499999999999,1)",
          "rgba(147.49999999999994,113.74999999999999,178.25,1)",
          "rgba(131.875,91.37500000000001,83.12500000000001,1)",
          "rgba(213.50000000000003,132.49999999999997,188.74999999999994,1)",
          "rgba(127.0,127.0,127.0,1)",
          "rgba(168.87500000000003,169.625,53.37500000000001,1)",
          "rgba(45.99999999999998,171.25,184.00000000000003,1)"
         ]
        },
        "view": {
         "height": 300,
         "width": 400
        }
       },
       "data": {
        "values": [
         {
          "day": "Sun",
          "sex": "Female",
          "size": 2,
          "smoker": "No",
          "time": "Dinner",
          "tip": 1.01,
          "total_bill": 16.99
         },
         {
          "day": "Sun",
          "sex": "Male",
          "size": 3,
          "smoker": "No",
          "time": "Dinner",
          "tip": 1.66,
          "total_bill": 10.34
         },
         {
          "day": "Sun",
          "sex": "Male",
          "size": 3,
          "smoker": "No",
          "time": "Dinner",
          "tip": 3.5,
          "total_bill": 21.01
         },
         {
          "day": "Sun",
          "sex": "Male",
          "size": 2,
          "smoker": "No",
          "time": "Dinner",
          "tip": 3.31,
          "total_bill": 23.68
         },
         {
          "day": "Sun",
          "sex": "Female",
          "size": 4,
          "smoker": "No",
          "time": "Dinner",
          "tip": 3.61,
          "total_bill": 24.59
         },
         {
          "day": "Sun",
          "sex": "Male",
          "size": 4,
          "smoker": "No",
          "time": "Dinner",
          "tip": 4.71,
          "total_bill": 25.29
         },
         {
          "day": "Sun",
          "sex": "Male",
          "size": 2,
          "smoker": "No",
          "time": "Dinner",
          "tip": 2,
          "total_bill": 8.77
         },
         {
          "day": "Sun",
          "sex": "Male",
          "size": 4,
          "smoker": "No",
          "time": "Dinner",
          "tip": 3.12,
          "total_bill": 26.88
         },
         {
          "day": "Sun",
          "sex": "Male",
          "size": 2,
          "smoker": "No",
          "time": "Dinner",
          "tip": 1.96,
          "total_bill": 15.04
         },
         {
          "day": "Sun",
          "sex": "Male",
          "size": 2,
          "smoker": "No",
          "time": "Dinner",
          "tip": 3.23,
          "total_bill": 14.78
         },
         {
          "day": "Sun",
          "sex": "Male",
          "size": 2,
          "smoker": "No",
          "time": "Dinner",
          "tip": 1.71,
          "total_bill": 10.27
         },
         {
          "day": "Sun",
          "sex": "Female",
          "size": 4,
          "smoker": "No",
          "time": "Dinner",
          "tip": 5,
          "total_bill": 35.26
         },
         {
          "day": "Sun",
          "sex": "Male",
          "size": 2,
          "smoker": "No",
          "time": "Dinner",
          "tip": 1.57,
          "total_bill": 15.42
         },
         {
          "day": "Sun",
          "sex": "Male",
          "size": 4,
          "smoker": "No",
          "time": "Dinner",
          "tip": 3,
          "total_bill": 18.43
         },
         {
          "day": "Sun",
          "sex": "Female",
          "size": 2,
          "smoker": "No",
          "time": "Dinner",
          "tip": 3.02,
          "total_bill": 14.83
         },
         {
          "day": "Sun",
          "sex": "Male",
          "size": 2,
          "smoker": "No",
          "time": "Dinner",
          "tip": 3.92,
          "total_bill": 21.58
         },
         {
          "day": "Sun",
          "sex": "Female",
          "size": 3,
          "smoker": "No",
          "time": "Dinner",
          "tip": 1.67,
          "total_bill": 10.33
         },
         {
          "day": "Sun",
          "sex": "Male",
          "size": 3,
          "smoker": "No",
          "time": "Dinner",
          "tip": 3.71,
          "total_bill": 16.29
         },
         {
          "day": "Sun",
          "sex": "Female",
          "size": 3,
          "smoker": "No",
          "time": "Dinner",
          "tip": 3.5,
          "total_bill": 16.97
         },
         {
          "day": "Sat",
          "sex": "Male",
          "size": 3,
          "smoker": "No",
          "time": "Dinner",
          "tip": 3.35,
          "total_bill": 20.65
         },
         {
          "day": "Sat",
          "sex": "Male",
          "size": 2,
          "smoker": "No",
          "time": "Dinner",
          "tip": 4.08,
          "total_bill": 17.92
         },
         {
          "day": "Sat",
          "sex": "Female",
          "size": 2,
          "smoker": "No",
          "time": "Dinner",
          "tip": 2.75,
          "total_bill": 20.29
         },
         {
          "day": "Sat",
          "sex": "Female",
          "size": 2,
          "smoker": "No",
          "time": "Dinner",
          "tip": 2.23,
          "total_bill": 15.77
         },
         {
          "day": "Sat",
          "sex": "Male",
          "size": 4,
          "smoker": "No",
          "time": "Dinner",
          "tip": 7.58,
          "total_bill": 39.42
         },
         {
          "day": "Sat",
          "sex": "Male",
          "size": 2,
          "smoker": "No",
          "time": "Dinner",
          "tip": 3.18,
          "total_bill": 19.82
         },
         {
          "day": "Sat",
          "sex": "Male",
          "size": 4,
          "smoker": "No",
          "time": "Dinner",
          "tip": 2.34,
          "total_bill": 17.81
         },
         {
          "day": "Sat",
          "sex": "Male",
          "size": 2,
          "smoker": "No",
          "time": "Dinner",
          "tip": 2,
          "total_bill": 13.37
         },
         {
          "day": "Sat",
          "sex": "Male",
          "size": 2,
          "smoker": "No",
          "time": "Dinner",
          "tip": 2,
          "total_bill": 12.69
         },
         {
          "day": "Sat",
          "sex": "Male",
          "size": 2,
          "smoker": "No",
          "time": "Dinner",
          "tip": 4.3,
          "total_bill": 21.7
         },
         {
          "day": "Sat",
          "sex": "Female",
          "size": 2,
          "smoker": "No",
          "time": "Dinner",
          "tip": 3,
          "total_bill": 19.65
         },
         {
          "day": "Sat",
          "sex": "Male",
          "size": 2,
          "smoker": "No",
          "time": "Dinner",
          "tip": 1.45,
          "total_bill": 9.55
         },
         {
          "day": "Sat",
          "sex": "Male",
          "size": 4,
          "smoker": "No",
          "time": "Dinner",
          "tip": 2.5,
          "total_bill": 18.35
         },
         {
          "day": "Sat",
          "sex": "Female",
          "size": 2,
          "smoker": "No",
          "time": "Dinner",
          "tip": 3,
          "total_bill": 15.06
         },
         {
          "day": "Sat",
          "sex": "Female",
          "size": 4,
          "smoker": "No",
          "time": "Dinner",
          "tip": 2.45,
          "total_bill": 20.69
         },
         {
          "day": "Sat",
          "sex": "Male",
          "size": 2,
          "smoker": "No",
          "time": "Dinner",
          "tip": 3.27,
          "total_bill": 17.78
         },
         {
          "day": "Sat",
          "sex": "Male",
          "size": 3,
          "smoker": "No",
          "time": "Dinner",
          "tip": 3.6,
          "total_bill": 24.06
         },
         {
          "day": "Sat",
          "sex": "Male",
          "size": 3,
          "smoker": "No",
          "time": "Dinner",
          "tip": 2,
          "total_bill": 16.31
         },
         {
          "day": "Sat",
          "sex": "Female",
          "size": 3,
          "smoker": "No",
          "time": "Dinner",
          "tip": 3.07,
          "total_bill": 16.93
         },
         {
          "day": "Sat",
          "sex": "Male",
          "size": 3,
          "smoker": "No",
          "time": "Dinner",
          "tip": 2.31,
          "total_bill": 18.69
         },
         {
          "day": "Sat",
          "sex": "Male",
          "size": 3,
          "smoker": "No",
          "time": "Dinner",
          "tip": 5,
          "total_bill": 31.27
         },
         {
          "day": "Sat",
          "sex": "Male",
          "size": 3,
          "smoker": "No",
          "time": "Dinner",
          "tip": 2.24,
          "total_bill": 16.04
         },
         {
          "day": "Sun",
          "sex": "Male",
          "size": 2,
          "smoker": "No",
          "time": "Dinner",
          "tip": 2.54,
          "total_bill": 17.46
         },
         {
          "day": "Sun",
          "sex": "Male",
          "size": 2,
          "smoker": "No",
          "time": "Dinner",
          "tip": 3.06,
          "total_bill": 13.94
         },
         {
          "day": "Sun",
          "sex": "Male",
          "size": 2,
          "smoker": "No",
          "time": "Dinner",
          "tip": 1.32,
          "total_bill": 9.68
         },
         {
          "day": "Sun",
          "sex": "Male",
          "size": 4,
          "smoker": "No",
          "time": "Dinner",
          "tip": 5.6,
          "total_bill": 30.4
         },
         {
          "day": "Sun",
          "sex": "Male",
          "size": 2,
          "smoker": "No",
          "time": "Dinner",
          "tip": 3,
          "total_bill": 18.29
         },
         {
          "day": "Sun",
          "sex": "Male",
          "size": 2,
          "smoker": "No",
          "time": "Dinner",
          "tip": 5,
          "total_bill": 22.23
         },
         {
          "day": "Sun",
          "sex": "Male",
          "size": 4,
          "smoker": "No",
          "time": "Dinner",
          "tip": 6,
          "total_bill": 32.4
         },
         {
          "day": "Sun",
          "sex": "Male",
          "size": 3,
          "smoker": "No",
          "time": "Dinner",
          "tip": 2.05,
          "total_bill": 28.55
         },
         {
          "day": "Sun",
          "sex": "Male",
          "size": 2,
          "smoker": "No",
          "time": "Dinner",
          "tip": 3,
          "total_bill": 18.04
         },
         {
          "day": "Sun",
          "sex": "Male",
          "size": 2,
          "smoker": "No",
          "time": "Dinner",
          "tip": 2.5,
          "total_bill": 12.54
         },
         {
          "day": "Sun",
          "sex": "Female",
          "size": 2,
          "smoker": "No",
          "time": "Dinner",
          "tip": 2.6,
          "total_bill": 10.29
         },
         {
          "day": "Sun",
          "sex": "Female",
          "size": 4,
          "smoker": "No",
          "time": "Dinner",
          "tip": 5.2,
          "total_bill": 34.81
         },
         {
          "day": "Sun",
          "sex": "Male",
          "size": 2,
          "smoker": "No",
          "time": "Dinner",
          "tip": 1.56,
          "total_bill": 9.94
         },
         {
          "day": "Sun",
          "sex": "Male",
          "size": 4,
          "smoker": "No",
          "time": "Dinner",
          "tip": 4.34,
          "total_bill": 25.56
         },
         {
          "day": "Sun",
          "sex": "Male",
          "size": 2,
          "smoker": "No",
          "time": "Dinner",
          "tip": 3.51,
          "total_bill": 19.49
         },
         {
          "day": "Sat",
          "sex": "Male",
          "size": 4,
          "smoker": "Yes",
          "time": "Dinner",
          "tip": 3,
          "total_bill": 38.01
         },
         {
          "day": "Sat",
          "sex": "Female",
          "size": 2,
          "smoker": "No",
          "time": "Dinner",
          "tip": 1.5,
          "total_bill": 26.41
         },
         {
          "day": "Sat",
          "sex": "Male",
          "size": 2,
          "smoker": "Yes",
          "time": "Dinner",
          "tip": 1.76,
          "total_bill": 11.24
         },
         {
          "day": "Sat",
          "sex": "Male",
          "size": 4,
          "smoker": "No",
          "time": "Dinner",
          "tip": 6.73,
          "total_bill": 48.27
         },
         {
          "day": "Sat",
          "sex": "Male",
          "size": 2,
          "smoker": "Yes",
          "time": "Dinner",
          "tip": 3.21,
          "total_bill": 20.29
         },
         {
          "day": "Sat",
          "sex": "Male",
          "size": 2,
          "smoker": "Yes",
          "time": "Dinner",
          "tip": 2,
          "total_bill": 13.81
         },
         {
          "day": "Sat",
          "sex": "Male",
          "size": 2,
          "smoker": "Yes",
          "time": "Dinner",
          "tip": 1.98,
          "total_bill": 11.02
         },
         {
          "day": "Sat",
          "sex": "Male",
          "size": 4,
          "smoker": "Yes",
          "time": "Dinner",
          "tip": 3.76,
          "total_bill": 18.29
         },
         {
          "day": "Sat",
          "sex": "Male",
          "size": 3,
          "smoker": "No",
          "time": "Dinner",
          "tip": 2.64,
          "total_bill": 17.59
         },
         {
          "day": "Sat",
          "sex": "Male",
          "size": 3,
          "smoker": "No",
          "time": "Dinner",
          "tip": 3.15,
          "total_bill": 20.08
         },
         {
          "day": "Sat",
          "sex": "Female",
          "size": 2,
          "smoker": "No",
          "time": "Dinner",
          "tip": 2.47,
          "total_bill": 16.45
         },
         {
          "day": "Sat",
          "sex": "Female",
          "size": 1,
          "smoker": "Yes",
          "time": "Dinner",
          "tip": 1,
          "total_bill": 3.07
         },
         {
          "day": "Sat",
          "sex": "Male",
          "size": 2,
          "smoker": "No",
          "time": "Dinner",
          "tip": 2.01,
          "total_bill": 20.23
         },
         {
          "day": "Sat",
          "sex": "Male",
          "size": 2,
          "smoker": "Yes",
          "time": "Dinner",
          "tip": 2.09,
          "total_bill": 15.01
         },
         {
          "day": "Sat",
          "sex": "Male",
          "size": 2,
          "smoker": "No",
          "time": "Dinner",
          "tip": 1.97,
          "total_bill": 12.02
         },
         {
          "day": "Sat",
          "sex": "Female",
          "size": 3,
          "smoker": "No",
          "time": "Dinner",
          "tip": 3,
          "total_bill": 17.07
         },
         {
          "day": "Sat",
          "sex": "Female",
          "size": 2,
          "smoker": "Yes",
          "time": "Dinner",
          "tip": 3.14,
          "total_bill": 26.86
         },
         {
          "day": "Sat",
          "sex": "Female",
          "size": 2,
          "smoker": "Yes",
          "time": "Dinner",
          "tip": 5,
          "total_bill": 25.28
         },
         {
          "day": "Sat",
          "sex": "Female",
          "size": 2,
          "smoker": "No",
          "time": "Dinner",
          "tip": 2.2,
          "total_bill": 14.73
         },
         {
          "day": "Sat",
          "sex": "Male",
          "size": 2,
          "smoker": "No",
          "time": "Dinner",
          "tip": 1.25,
          "total_bill": 10.51
         },
         {
          "day": "Sat",
          "sex": "Male",
          "size": 2,
          "smoker": "Yes",
          "time": "Dinner",
          "tip": 3.08,
          "total_bill": 17.92
         },
         {
          "day": "Thur",
          "sex": "Male",
          "size": 4,
          "smoker": "No",
          "time": "Lunch",
          "tip": 4,
          "total_bill": 27.2
         },
         {
          "day": "Thur",
          "sex": "Male",
          "size": 2,
          "smoker": "No",
          "time": "Lunch",
          "tip": 3,
          "total_bill": 22.76
         },
         {
          "day": "Thur",
          "sex": "Male",
          "size": 2,
          "smoker": "No",
          "time": "Lunch",
          "tip": 2.71,
          "total_bill": 17.29
         },
         {
          "day": "Thur",
          "sex": "Male",
          "size": 2,
          "smoker": "Yes",
          "time": "Lunch",
          "tip": 3,
          "total_bill": 19.44
         },
         {
          "day": "Thur",
          "sex": "Male",
          "size": 2,
          "smoker": "No",
          "time": "Lunch",
          "tip": 3.4,
          "total_bill": 16.66
         },
         {
          "day": "Thur",
          "sex": "Female",
          "size": 1,
          "smoker": "No",
          "time": "Lunch",
          "tip": 1.83,
          "total_bill": 10.07
         },
         {
          "day": "Thur",
          "sex": "Male",
          "size": 2,
          "smoker": "Yes",
          "time": "Lunch",
          "tip": 5,
          "total_bill": 32.68
         },
         {
          "day": "Thur",
          "sex": "Male",
          "size": 2,
          "smoker": "No",
          "time": "Lunch",
          "tip": 2.03,
          "total_bill": 15.98
         },
         {
          "day": "Thur",
          "sex": "Female",
          "size": 4,
          "smoker": "No",
          "time": "Lunch",
          "tip": 5.17,
          "total_bill": 34.83
         },
         {
          "day": "Thur",
          "sex": "Male",
          "size": 2,
          "smoker": "No",
          "time": "Lunch",
          "tip": 2,
          "total_bill": 13.03
         },
         {
          "day": "Thur",
          "sex": "Male",
          "size": 2,
          "smoker": "No",
          "time": "Lunch",
          "tip": 4,
          "total_bill": 18.28
         },
         {
          "day": "Thur",
          "sex": "Male",
          "size": 2,
          "smoker": "No",
          "time": "Lunch",
          "tip": 5.85,
          "total_bill": 24.71
         },
         {
          "day": "Thur",
          "sex": "Male",
          "size": 2,
          "smoker": "No",
          "time": "Lunch",
          "tip": 3,
          "total_bill": 21.16
         },
         {
          "day": "Fri",
          "sex": "Male",
          "size": 2,
          "smoker": "Yes",
          "time": "Dinner",
          "tip": 3,
          "total_bill": 28.97
         },
         {
          "day": "Fri",
          "sex": "Male",
          "size": 2,
          "smoker": "No",
          "time": "Dinner",
          "tip": 3.5,
          "total_bill": 22.49
         },
         {
          "day": "Fri",
          "sex": "Female",
          "size": 2,
          "smoker": "Yes",
          "time": "Dinner",
          "tip": 1,
          "total_bill": 5.75
         },
         {
          "day": "Fri",
          "sex": "Female",
          "size": 2,
          "smoker": "Yes",
          "time": "Dinner",
          "tip": 4.3,
          "total_bill": 16.32
         },
         {
          "day": "Fri",
          "sex": "Female",
          "size": 2,
          "smoker": "No",
          "time": "Dinner",
          "tip": 3.25,
          "total_bill": 22.75
         },
         {
          "day": "Fri",
          "sex": "Male",
          "size": 4,
          "smoker": "Yes",
          "time": "Dinner",
          "tip": 4.73,
          "total_bill": 40.17
         },
         {
          "day": "Fri",
          "sex": "Male",
          "size": 2,
          "smoker": "Yes",
          "time": "Dinner",
          "tip": 4,
          "total_bill": 27.28
         },
         {
          "day": "Fri",
          "sex": "Male",
          "size": 2,
          "smoker": "Yes",
          "time": "Dinner",
          "tip": 1.5,
          "total_bill": 12.03
         },
         {
          "day": "Fri",
          "sex": "Male",
          "size": 2,
          "smoker": "Yes",
          "time": "Dinner",
          "tip": 3,
          "total_bill": 21.01
         },
         {
          "day": "Fri",
          "sex": "Male",
          "size": 2,
          "smoker": "No",
          "time": "Dinner",
          "tip": 1.5,
          "total_bill": 12.46
         },
         {
          "day": "Fri",
          "sex": "Female",
          "size": 2,
          "smoker": "Yes",
          "time": "Dinner",
          "tip": 2.5,
          "total_bill": 11.35
         },
         {
          "day": "Fri",
          "sex": "Female",
          "size": 2,
          "smoker": "Yes",
          "time": "Dinner",
          "tip": 3,
          "total_bill": 15.38
         },
         {
          "day": "Sat",
          "sex": "Female",
          "size": 3,
          "smoker": "Yes",
          "time": "Dinner",
          "tip": 2.5,
          "total_bill": 44.3
         },
         {
          "day": "Sat",
          "sex": "Female",
          "size": 2,
          "smoker": "Yes",
          "time": "Dinner",
          "tip": 3.48,
          "total_bill": 22.42
         },
         {
          "day": "Sat",
          "sex": "Female",
          "size": 2,
          "smoker": "No",
          "time": "Dinner",
          "tip": 4.08,
          "total_bill": 20.92
         },
         {
          "day": "Sat",
          "sex": "Male",
          "size": 2,
          "smoker": "Yes",
          "time": "Dinner",
          "tip": 1.64,
          "total_bill": 15.36
         },
         {
          "day": "Sat",
          "sex": "Male",
          "size": 2,
          "smoker": "Yes",
          "time": "Dinner",
          "tip": 4.06,
          "total_bill": 20.49
         },
         {
          "day": "Sat",
          "sex": "Male",
          "size": 2,
          "smoker": "Yes",
          "time": "Dinner",
          "tip": 4.29,
          "total_bill": 25.21
         },
         {
          "day": "Sat",
          "sex": "Male",
          "size": 2,
          "smoker": "No",
          "time": "Dinner",
          "tip": 3.76,
          "total_bill": 18.24
         },
         {
          "day": "Sat",
          "sex": "Female",
          "size": 2,
          "smoker": "Yes",
          "time": "Dinner",
          "tip": 4,
          "total_bill": 14.31
         },
         {
          "day": "Sat",
          "sex": "Male",
          "size": 2,
          "smoker": "No",
          "time": "Dinner",
          "tip": 3,
          "total_bill": 14
         },
         {
          "day": "Sat",
          "sex": "Female",
          "size": 1,
          "smoker": "No",
          "time": "Dinner",
          "tip": 1,
          "total_bill": 7.25
         },
         {
          "day": "Sun",
          "sex": "Male",
          "size": 3,
          "smoker": "No",
          "time": "Dinner",
          "tip": 4,
          "total_bill": 38.07
         },
         {
          "day": "Sun",
          "sex": "Male",
          "size": 2,
          "smoker": "No",
          "time": "Dinner",
          "tip": 2.55,
          "total_bill": 23.95
         },
         {
          "day": "Sun",
          "sex": "Female",
          "size": 3,
          "smoker": "No",
          "time": "Dinner",
          "tip": 4,
          "total_bill": 25.71
         },
         {
          "day": "Sun",
          "sex": "Female",
          "size": 2,
          "smoker": "No",
          "time": "Dinner",
          "tip": 3.5,
          "total_bill": 17.31
         },
         {
          "day": "Sun",
          "sex": "Male",
          "size": 4,
          "smoker": "No",
          "time": "Dinner",
          "tip": 5.07,
          "total_bill": 29.93
         },
         {
          "day": "Thur",
          "sex": "Female",
          "size": 2,
          "smoker": "No",
          "time": "Lunch",
          "tip": 1.5,
          "total_bill": 10.65
         },
         {
          "day": "Thur",
          "sex": "Female",
          "size": 2,
          "smoker": "No",
          "time": "Lunch",
          "tip": 1.8,
          "total_bill": 12.43
         },
         {
          "day": "Thur",
          "sex": "Female",
          "size": 4,
          "smoker": "No",
          "time": "Lunch",
          "tip": 2.92,
          "total_bill": 24.08
         },
         {
          "day": "Thur",
          "sex": "Male",
          "size": 2,
          "smoker": "No",
          "time": "Lunch",
          "tip": 2.31,
          "total_bill": 11.69
         },
         {
          "day": "Thur",
          "sex": "Female",
          "size": 2,
          "smoker": "No",
          "time": "Lunch",
          "tip": 1.68,
          "total_bill": 13.42
         },
         {
          "day": "Thur",
          "sex": "Male",
          "size": 2,
          "smoker": "No",
          "time": "Lunch",
          "tip": 2.5,
          "total_bill": 14.26
         },
         {
          "day": "Thur",
          "sex": "Male",
          "size": 2,
          "smoker": "No",
          "time": "Lunch",
          "tip": 2,
          "total_bill": 15.95
         },
         {
          "day": "Thur",
          "sex": "Female",
          "size": 2,
          "smoker": "No",
          "time": "Lunch",
          "tip": 2.52,
          "total_bill": 12.48
         },
         {
          "day": "Thur",
          "sex": "Female",
          "size": 6,
          "smoker": "No",
          "time": "Lunch",
          "tip": 4.2,
          "total_bill": 29.8
         },
         {
          "day": "Thur",
          "sex": "Male",
          "size": 2,
          "smoker": "No",
          "time": "Lunch",
          "tip": 1.48,
          "total_bill": 8.52
         },
         {
          "day": "Thur",
          "sex": "Female",
          "size": 2,
          "smoker": "No",
          "time": "Lunch",
          "tip": 2,
          "total_bill": 14.52
         },
         {
          "day": "Thur",
          "sex": "Female",
          "size": 2,
          "smoker": "No",
          "time": "Lunch",
          "tip": 2,
          "total_bill": 11.38
         },
         {
          "day": "Thur",
          "sex": "Male",
          "size": 3,
          "smoker": "No",
          "time": "Lunch",
          "tip": 2.18,
          "total_bill": 22.82
         },
         {
          "day": "Thur",
          "sex": "Male",
          "size": 2,
          "smoker": "No",
          "time": "Lunch",
          "tip": 1.5,
          "total_bill": 19.08
         },
         {
          "day": "Thur",
          "sex": "Female",
          "size": 2,
          "smoker": "No",
          "time": "Lunch",
          "tip": 2.83,
          "total_bill": 20.27
         },
         {
          "day": "Thur",
          "sex": "Female",
          "size": 2,
          "smoker": "No",
          "time": "Lunch",
          "tip": 1.5,
          "total_bill": 11.17
         },
         {
          "day": "Thur",
          "sex": "Female",
          "size": 2,
          "smoker": "No",
          "time": "Lunch",
          "tip": 2,
          "total_bill": 12.26
         },
         {
          "day": "Thur",
          "sex": "Female",
          "size": 2,
          "smoker": "No",
          "time": "Lunch",
          "tip": 3.25,
          "total_bill": 18.26
         },
         {
          "day": "Thur",
          "sex": "Female",
          "size": 2,
          "smoker": "No",
          "time": "Lunch",
          "tip": 1.25,
          "total_bill": 8.51
         },
         {
          "day": "Thur",
          "sex": "Female",
          "size": 2,
          "smoker": "No",
          "time": "Lunch",
          "tip": 2,
          "total_bill": 10.33
         },
         {
          "day": "Thur",
          "sex": "Female",
          "size": 2,
          "smoker": "No",
          "time": "Lunch",
          "tip": 2,
          "total_bill": 14.15
         },
         {
          "day": "Thur",
          "sex": "Male",
          "size": 2,
          "smoker": "Yes",
          "time": "Lunch",
          "tip": 2,
          "total_bill": 16
         },
         {
          "day": "Thur",
          "sex": "Female",
          "size": 2,
          "smoker": "No",
          "time": "Lunch",
          "tip": 2.75,
          "total_bill": 13.16
         },
         {
          "day": "Thur",
          "sex": "Female",
          "size": 2,
          "smoker": "No",
          "time": "Lunch",
          "tip": 3.5,
          "total_bill": 17.47
         },
         {
          "day": "Thur",
          "sex": "Male",
          "size": 6,
          "smoker": "No",
          "time": "Lunch",
          "tip": 6.7,
          "total_bill": 34.3
         },
         {
          "day": "Thur",
          "sex": "Male",
          "size": 5,
          "smoker": "No",
          "time": "Lunch",
          "tip": 5,
          "total_bill": 41.19
         },
         {
          "day": "Thur",
          "sex": "Female",
          "size": 6,
          "smoker": "No",
          "time": "Lunch",
          "tip": 5,
          "total_bill": 27.05
         },
         {
          "day": "Thur",
          "sex": "Female",
          "size": 2,
          "smoker": "No",
          "time": "Lunch",
          "tip": 2.3,
          "total_bill": 16.43
         },
         {
          "day": "Thur",
          "sex": "Female",
          "size": 2,
          "smoker": "No",
          "time": "Lunch",
          "tip": 1.5,
          "total_bill": 8.35
         },
         {
          "day": "Thur",
          "sex": "Female",
          "size": 3,
          "smoker": "No",
          "time": "Lunch",
          "tip": 1.36,
          "total_bill": 18.64
         },
         {
          "day": "Thur",
          "sex": "Female",
          "size": 2,
          "smoker": "No",
          "time": "Lunch",
          "tip": 1.63,
          "total_bill": 11.87
         },
         {
          "day": "Thur",
          "sex": "Male",
          "size": 2,
          "smoker": "No",
          "time": "Lunch",
          "tip": 1.73,
          "total_bill": 9.78
         },
         {
          "day": "Thur",
          "sex": "Male",
          "size": 2,
          "smoker": "No",
          "time": "Lunch",
          "tip": 2,
          "total_bill": 7.51
         },
         {
          "day": "Sun",
          "sex": "Male",
          "size": 2,
          "smoker": "No",
          "time": "Dinner",
          "tip": 2.5,
          "total_bill": 14.07
         },
         {
          "day": "Sun",
          "sex": "Male",
          "size": 2,
          "smoker": "No",
          "time": "Dinner",
          "tip": 2,
          "total_bill": 13.13
         },
         {
          "day": "Sun",
          "sex": "Male",
          "size": 3,
          "smoker": "No",
          "time": "Dinner",
          "tip": 2.74,
          "total_bill": 17.26
         },
         {
          "day": "Sun",
          "sex": "Male",
          "size": 4,
          "smoker": "No",
          "time": "Dinner",
          "tip": 2,
          "total_bill": 24.55
         },
         {
          "day": "Sun",
          "sex": "Male",
          "size": 4,
          "smoker": "No",
          "time": "Dinner",
          "tip": 2,
          "total_bill": 19.77
         },
         {
          "day": "Sun",
          "sex": "Female",
          "size": 5,
          "smoker": "No",
          "time": "Dinner",
          "tip": 5.14,
          "total_bill": 29.85
         },
         {
          "day": "Sun",
          "sex": "Male",
          "size": 6,
          "smoker": "No",
          "time": "Dinner",
          "tip": 5,
          "total_bill": 48.17
         },
         {
          "day": "Sun",
          "sex": "Female",
          "size": 4,
          "smoker": "No",
          "time": "Dinner",
          "tip": 3.75,
          "total_bill": 25
         },
         {
          "day": "Sun",
          "sex": "Female",
          "size": 2,
          "smoker": "No",
          "time": "Dinner",
          "tip": 2.61,
          "total_bill": 13.39
         },
         {
          "day": "Sun",
          "sex": "Male",
          "size": 4,
          "smoker": "No",
          "time": "Dinner",
          "tip": 2,
          "total_bill": 16.49
         },
         {
          "day": "Sun",
          "sex": "Male",
          "size": 4,
          "smoker": "No",
          "time": "Dinner",
          "tip": 3.5,
          "total_bill": 21.5
         },
         {
          "day": "Sun",
          "sex": "Male",
          "size": 2,
          "smoker": "No",
          "time": "Dinner",
          "tip": 2.5,
          "total_bill": 12.66
         },
         {
          "day": "Sun",
          "sex": "Female",
          "size": 3,
          "smoker": "No",
          "time": "Dinner",
          "tip": 2,
          "total_bill": 16.21
         },
         {
          "day": "Sun",
          "sex": "Male",
          "size": 2,
          "smoker": "No",
          "time": "Dinner",
          "tip": 2,
          "total_bill": 13.81
         },
         {
          "day": "Sun",
          "sex": "Female",
          "size": 2,
          "smoker": "Yes",
          "time": "Dinner",
          "tip": 3,
          "total_bill": 17.51
         },
         {
          "day": "Sun",
          "sex": "Male",
          "size": 3,
          "smoker": "No",
          "time": "Dinner",
          "tip": 3.48,
          "total_bill": 24.52
         },
         {
          "day": "Sun",
          "sex": "Male",
          "size": 2,
          "smoker": "No",
          "time": "Dinner",
          "tip": 2.24,
          "total_bill": 20.76
         },
         {
          "day": "Sun",
          "sex": "Male",
          "size": 4,
          "smoker": "No",
          "time": "Dinner",
          "tip": 4.5,
          "total_bill": 31.71
         },
         {
          "day": "Sat",
          "sex": "Female",
          "size": 2,
          "smoker": "Yes",
          "time": "Dinner",
          "tip": 1.61,
          "total_bill": 10.59
         },
         {
          "day": "Sat",
          "sex": "Female",
          "size": 2,
          "smoker": "Yes",
          "time": "Dinner",
          "tip": 2,
          "total_bill": 10.63
         },
         {
          "day": "Sat",
          "sex": "Male",
          "size": 3,
          "smoker": "Yes",
          "time": "Dinner",
          "tip": 10,
          "total_bill": 50.81
         },
         {
          "day": "Sat",
          "sex": "Male",
          "size": 2,
          "smoker": "Yes",
          "time": "Dinner",
          "tip": 3.16,
          "total_bill": 15.81
         },
         {
          "day": "Sun",
          "sex": "Male",
          "size": 2,
          "smoker": "Yes",
          "time": "Dinner",
          "tip": 5.15,
          "total_bill": 7.25
         },
         {
          "day": "Sun",
          "sex": "Male",
          "size": 2,
          "smoker": "Yes",
          "time": "Dinner",
          "tip": 3.18,
          "total_bill": 31.85
         },
         {
          "day": "Sun",
          "sex": "Male",
          "size": 2,
          "smoker": "Yes",
          "time": "Dinner",
          "tip": 4,
          "total_bill": 16.82
         },
         {
          "day": "Sun",
          "sex": "Male",
          "size": 2,
          "smoker": "Yes",
          "time": "Dinner",
          "tip": 3.11,
          "total_bill": 32.9
         },
         {
          "day": "Sun",
          "sex": "Male",
          "size": 2,
          "smoker": "Yes",
          "time": "Dinner",
          "tip": 2,
          "total_bill": 17.89
         },
         {
          "day": "Sun",
          "sex": "Male",
          "size": 2,
          "smoker": "Yes",
          "time": "Dinner",
          "tip": 2,
          "total_bill": 14.48
         },
         {
          "day": "Sun",
          "sex": "Female",
          "size": 2,
          "smoker": "Yes",
          "time": "Dinner",
          "tip": 4,
          "total_bill": 9.6
         },
         {
          "day": "Sun",
          "sex": "Male",
          "size": 2,
          "smoker": "Yes",
          "time": "Dinner",
          "tip": 3.55,
          "total_bill": 34.63
         },
         {
          "day": "Sun",
          "sex": "Male",
          "size": 4,
          "smoker": "Yes",
          "time": "Dinner",
          "tip": 3.68,
          "total_bill": 34.65
         },
         {
          "day": "Sun",
          "sex": "Male",
          "size": 2,
          "smoker": "Yes",
          "time": "Dinner",
          "tip": 5.65,
          "total_bill": 23.33
         },
         {
          "day": "Sun",
          "sex": "Male",
          "size": 3,
          "smoker": "Yes",
          "time": "Dinner",
          "tip": 3.5,
          "total_bill": 45.35
         },
         {
          "day": "Sun",
          "sex": "Male",
          "size": 4,
          "smoker": "Yes",
          "time": "Dinner",
          "tip": 6.5,
          "total_bill": 23.17
         },
         {
          "day": "Sun",
          "sex": "Male",
          "size": 2,
          "smoker": "Yes",
          "time": "Dinner",
          "tip": 3,
          "total_bill": 40.55
         },
         {
          "day": "Sun",
          "sex": "Male",
          "size": 5,
          "smoker": "No",
          "time": "Dinner",
          "tip": 5,
          "total_bill": 20.69
         },
         {
          "day": "Sun",
          "sex": "Female",
          "size": 3,
          "smoker": "Yes",
          "time": "Dinner",
          "tip": 3.5,
          "total_bill": 20.9
         },
         {
          "day": "Sun",
          "sex": "Male",
          "size": 5,
          "smoker": "Yes",
          "time": "Dinner",
          "tip": 2,
          "total_bill": 30.46
         },
         {
          "day": "Sun",
          "sex": "Female",
          "size": 3,
          "smoker": "Yes",
          "time": "Dinner",
          "tip": 3.5,
          "total_bill": 18.15
         },
         {
          "day": "Sun",
          "sex": "Male",
          "size": 3,
          "smoker": "Yes",
          "time": "Dinner",
          "tip": 4,
          "total_bill": 23.1
         },
         {
          "day": "Sun",
          "sex": "Male",
          "size": 2,
          "smoker": "Yes",
          "time": "Dinner",
          "tip": 1.5,
          "total_bill": 15.69
         },
         {
          "day": "Thur",
          "sex": "Female",
          "size": 2,
          "smoker": "Yes",
          "time": "Lunch",
          "tip": 4.19,
          "total_bill": 19.81
         },
         {
          "day": "Thur",
          "sex": "Male",
          "size": 2,
          "smoker": "Yes",
          "time": "Lunch",
          "tip": 2.56,
          "total_bill": 28.44
         },
         {
          "day": "Thur",
          "sex": "Male",
          "size": 2,
          "smoker": "Yes",
          "time": "Lunch",
          "tip": 2.02,
          "total_bill": 15.48
         },
         {
          "day": "Thur",
          "sex": "Male",
          "size": 2,
          "smoker": "Yes",
          "time": "Lunch",
          "tip": 4,
          "total_bill": 16.58
         },
         {
          "day": "Thur",
          "sex": "Male",
          "size": 2,
          "smoker": "No",
          "time": "Lunch",
          "tip": 1.44,
          "total_bill": 7.56
         },
         {
          "day": "Thur",
          "sex": "Male",
          "size": 2,
          "smoker": "Yes",
          "time": "Lunch",
          "tip": 2,
          "total_bill": 10.34
         },
         {
          "day": "Thur",
          "sex": "Female",
          "size": 4,
          "smoker": "Yes",
          "time": "Lunch",
          "tip": 5,
          "total_bill": 43.11
         },
         {
          "day": "Thur",
          "sex": "Female",
          "size": 2,
          "smoker": "Yes",
          "time": "Lunch",
          "tip": 2,
          "total_bill": 13
         },
         {
          "day": "Thur",
          "sex": "Male",
          "size": 2,
          "smoker": "Yes",
          "time": "Lunch",
          "tip": 2,
          "total_bill": 13.51
         },
         {
          "day": "Thur",
          "sex": "Male",
          "size": 3,
          "smoker": "Yes",
          "time": "Lunch",
          "tip": 4,
          "total_bill": 18.71
         },
         {
          "day": "Thur",
          "sex": "Female",
          "size": 2,
          "smoker": "Yes",
          "time": "Lunch",
          "tip": 2.01,
          "total_bill": 12.74
         },
         {
          "day": "Thur",
          "sex": "Female",
          "size": 2,
          "smoker": "Yes",
          "time": "Lunch",
          "tip": 2,
          "total_bill": 13
         },
         {
          "day": "Thur",
          "sex": "Female",
          "size": 2,
          "smoker": "Yes",
          "time": "Lunch",
          "tip": 2.5,
          "total_bill": 16.4
         },
         {
          "day": "Thur",
          "sex": "Male",
          "size": 4,
          "smoker": "Yes",
          "time": "Lunch",
          "tip": 4,
          "total_bill": 20.53
         },
         {
          "day": "Thur",
          "sex": "Female",
          "size": 3,
          "smoker": "Yes",
          "time": "Lunch",
          "tip": 3.23,
          "total_bill": 16.47
         },
         {
          "day": "Sat",
          "sex": "Male",
          "size": 3,
          "smoker": "Yes",
          "time": "Dinner",
          "tip": 3.41,
          "total_bill": 26.59
         },
         {
          "day": "Sat",
          "sex": "Male",
          "size": 4,
          "smoker": "Yes",
          "time": "Dinner",
          "tip": 3,
          "total_bill": 38.73
         },
         {
          "day": "Sat",
          "sex": "Male",
          "size": 2,
          "smoker": "Yes",
          "time": "Dinner",
          "tip": 2.03,
          "total_bill": 24.27
         },
         {
          "day": "Sat",
          "sex": "Female",
          "size": 2,
          "smoker": "Yes",
          "time": "Dinner",
          "tip": 2.23,
          "total_bill": 12.76
         },
         {
          "day": "Sat",
          "sex": "Male",
          "size": 3,
          "smoker": "Yes",
          "time": "Dinner",
          "tip": 2,
          "total_bill": 30.06
         },
         {
          "day": "Sat",
          "sex": "Male",
          "size": 4,
          "smoker": "Yes",
          "time": "Dinner",
          "tip": 5.16,
          "total_bill": 25.89
         },
         {
          "day": "Sat",
          "sex": "Male",
          "size": 4,
          "smoker": "No",
          "time": "Dinner",
          "tip": 9,
          "total_bill": 48.33
         },
         {
          "day": "Sat",
          "sex": "Female",
          "size": 2,
          "smoker": "Yes",
          "time": "Dinner",
          "tip": 2.5,
          "total_bill": 13.27
         },
         {
          "day": "Sat",
          "sex": "Female",
          "size": 3,
          "smoker": "Yes",
          "time": "Dinner",
          "tip": 6.5,
          "total_bill": 28.17
         },
         {
          "day": "Sat",
          "sex": "Female",
          "size": 2,
          "smoker": "Yes",
          "time": "Dinner",
          "tip": 1.1,
          "total_bill": 12.9
         },
         {
          "day": "Sat",
          "sex": "Male",
          "size": 5,
          "smoker": "Yes",
          "time": "Dinner",
          "tip": 3,
          "total_bill": 28.15
         },
         {
          "day": "Sat",
          "sex": "Male",
          "size": 2,
          "smoker": "Yes",
          "time": "Dinner",
          "tip": 1.5,
          "total_bill": 11.59
         },
         {
          "day": "Sat",
          "sex": "Male",
          "size": 2,
          "smoker": "Yes",
          "time": "Dinner",
          "tip": 1.44,
          "total_bill": 7.74
         },
         {
          "day": "Sat",
          "sex": "Female",
          "size": 4,
          "smoker": "Yes",
          "time": "Dinner",
          "tip": 3.09,
          "total_bill": 30.14
         },
         {
          "day": "Fri",
          "sex": "Male",
          "size": 2,
          "smoker": "Yes",
          "time": "Lunch",
          "tip": 2.2,
          "total_bill": 12.16
         },
         {
          "day": "Fri",
          "sex": "Female",
          "size": 2,
          "smoker": "Yes",
          "time": "Lunch",
          "tip": 3.48,
          "total_bill": 13.42
         },
         {
          "day": "Fri",
          "sex": "Male",
          "size": 1,
          "smoker": "Yes",
          "time": "Lunch",
          "tip": 1.92,
          "total_bill": 8.58
         },
         {
          "day": "Fri",
          "sex": "Female",
          "size": 3,
          "smoker": "No",
          "time": "Lunch",
          "tip": 3,
          "total_bill": 15.98
         },
         {
          "day": "Fri",
          "sex": "Male",
          "size": 2,
          "smoker": "Yes",
          "time": "Lunch",
          "tip": 1.58,
          "total_bill": 13.42
         },
         {
          "day": "Fri",
          "sex": "Female",
          "size": 2,
          "smoker": "Yes",
          "time": "Lunch",
          "tip": 2.5,
          "total_bill": 16.27
         },
         {
          "day": "Fri",
          "sex": "Female",
          "size": 2,
          "smoker": "Yes",
          "time": "Lunch",
          "tip": 2,
          "total_bill": 10.09
         },
         {
          "day": "Sat",
          "sex": "Male",
          "size": 4,
          "smoker": "No",
          "time": "Dinner",
          "tip": 3,
          "total_bill": 20.45
         },
         {
          "day": "Sat",
          "sex": "Male",
          "size": 2,
          "smoker": "No",
          "time": "Dinner",
          "tip": 2.72,
          "total_bill": 13.28
         },
         {
          "day": "Sat",
          "sex": "Female",
          "size": 2,
          "smoker": "Yes",
          "time": "Dinner",
          "tip": 2.88,
          "total_bill": 22.12
         },
         {
          "day": "Sat",
          "sex": "Male",
          "size": 4,
          "smoker": "Yes",
          "time": "Dinner",
          "tip": 2,
          "total_bill": 24.01
         },
         {
          "day": "Sat",
          "sex": "Male",
          "size": 3,
          "smoker": "Yes",
          "time": "Dinner",
          "tip": 3,
          "total_bill": 15.69
         },
         {
          "day": "Sat",
          "sex": "Male",
          "size": 2,
          "smoker": "No",
          "time": "Dinner",
          "tip": 3.39,
          "total_bill": 11.61
         },
         {
          "day": "Sat",
          "sex": "Male",
          "size": 2,
          "smoker": "No",
          "time": "Dinner",
          "tip": 1.47,
          "total_bill": 10.77
         },
         {
          "day": "Sat",
          "sex": "Male",
          "size": 2,
          "smoker": "Yes",
          "time": "Dinner",
          "tip": 3,
          "total_bill": 15.53
         },
         {
          "day": "Sat",
          "sex": "Male",
          "size": 2,
          "smoker": "No",
          "time": "Dinner",
          "tip": 1.25,
          "total_bill": 10.07
         },
         {
          "day": "Sat",
          "sex": "Male",
          "size": 2,
          "smoker": "Yes",
          "time": "Dinner",
          "tip": 1,
          "total_bill": 12.6
         },
         {
          "day": "Sat",
          "sex": "Male",
          "size": 2,
          "smoker": "Yes",
          "time": "Dinner",
          "tip": 1.17,
          "total_bill": 32.83
         },
         {
          "day": "Sat",
          "sex": "Female",
          "size": 3,
          "smoker": "No",
          "time": "Dinner",
          "tip": 4.67,
          "total_bill": 35.83
         },
         {
          "day": "Sat",
          "sex": "Male",
          "size": 3,
          "smoker": "No",
          "time": "Dinner",
          "tip": 5.92,
          "total_bill": 29.03
         },
         {
          "day": "Sat",
          "sex": "Female",
          "size": 2,
          "smoker": "Yes",
          "time": "Dinner",
          "tip": 2,
          "total_bill": 27.18
         },
         {
          "day": "Sat",
          "sex": "Male",
          "size": 2,
          "smoker": "Yes",
          "time": "Dinner",
          "tip": 2,
          "total_bill": 22.67
         },
         {
          "day": "Sat",
          "sex": "Male",
          "size": 2,
          "smoker": "No",
          "time": "Dinner",
          "tip": 1.75,
          "total_bill": 17.82
         },
         {
          "day": "Thur",
          "sex": "Female",
          "size": 2,
          "smoker": "No",
          "time": "Dinner",
          "tip": 3,
          "total_bill": 18.78
         }
        ]
       },
       "facet": {
        "column": {
         "field": "day",
         "type": "nominal"
        }
       },
       "spec": {
        "layer": [
         {
          "encoding": {
           "color": {
            "field": "sex",
            "legend": null,
            "type": "nominal"
           },
           "x": {
            "field": "sex",
            "type": "nominal"
           },
           "y": {
            "aggregate": "mean",
            "axis": {
             "title": "total_bill"
            },
            "field": "total_bill",
            "type": "quantitative"
           }
          },
          "mark": "bar"
         },
         {
          "encoding": {
           "x": {
            "field": "sex",
            "type": "nominal"
           },
           "y": {
            "aggregate": "ci0",
            "field": "total_bill",
            "type": "quantitative"
           },
           "y2": {
            "aggregate": "ci1",
            "field": "total_bill",
            "type": "quantitative"
           }
          },
          "mark": "rule"
         }
        ]
       }
      },
      "image/png": "[encoded data removed]",
      "text/plain": [
       "<VegaLite 2 object>\n",
       "\n",
       "If you see this message, it means the renderer has not been properly enabled\n",
       "for the frontend that you are using. For more information, see\n",
       "https://altair-viz.github.io/user_guide/troubleshooting.html\n"
      ]
     },
     "metadata": {},
     "output_type": "display_data"
    },
    {
     "data": {
      "image/png": "[encoded data removed]",
      "text/plain": [
       "<Figure size 432x288 with 1 Axes>"
      ]
     },
     "metadata": {},
     "output_type": "display_data"
    }
   ],
   "source": [
    "display(salt.barplot(x=\"day\", y=\"total_bill\", hue=\"sex\", data=tips))\n",
    "ax = sns.barplot(x=\"day\", y=\"total_bill\", hue=\"sex\", data=tips)"
   ]
  },
  {
   "cell_type": "code",
   "execution_count": 8,
   "metadata": {},
   "outputs": [
    {
     "data": {
      "application/vnd.vegalite.v2+json": {
       "$schema": "https://vega.github.io/schema/vega-lite/v2.4.1.json",
       "config": {
        "range": {
         "category": [
          "rgba(49.62499999999999,115.62499999999996,161.37500000000003,1)",
          "rgba(224.87499999999997,128.875,44.12500000000004,1)",
          "rgba(58.49999999999999,145.50000000000003,58.49999999999999,1)",
          "rgba(192.125,60.87500000000001,61.62499999999999,1)",
          "rgba(147.49999999999994,113.74999999999999,178.25,1)",
          "rgba(131.875,91.37500000000001,83.12500000000001,1)",
          "rgba(213.50000000000003,132.49999999999997,188.74999999999994,1)",
          "rgba(127.0,127.0,127.0,1)",
          "rgba(168.87500000000003,169.625,53.37500000000001,1)",
          "rgba(45.99999999999998,171.25,184.00000000000003,1)"
         ]
        },
        "view": {
         "height": 300,
         "width": 400
        }
       },
       "data": {
        "values": [
         {
          "day": "Sun",
          "sex": "Female",
          "size": 2,
          "smoker": "No",
          "time": "Dinner",
          "tip": 1.01,
          "total_bill": 16.99
         },
         {
          "day": "Sun",
          "sex": "Male",
          "size": 3,
          "smoker": "No",
          "time": "Dinner",
          "tip": 1.66,
          "total_bill": 10.34
         },
         {
          "day": "Sun",
          "sex": "Male",
          "size": 3,
          "smoker": "No",
          "time": "Dinner",
          "tip": 3.5,
          "total_bill": 21.01
         },
         {
          "day": "Sun",
          "sex": "Male",
          "size": 2,
          "smoker": "No",
          "time": "Dinner",
          "tip": 3.31,
          "total_bill": 23.68
         },
         {
          "day": "Sun",
          "sex": "Female",
          "size": 4,
          "smoker": "No",
          "time": "Dinner",
          "tip": 3.61,
          "total_bill": 24.59
         },
         {
          "day": "Sun",
          "sex": "Male",
          "size": 4,
          "smoker": "No",
          "time": "Dinner",
          "tip": 4.71,
          "total_bill": 25.29
         },
         {
          "day": "Sun",
          "sex": "Male",
          "size": 2,
          "smoker": "No",
          "time": "Dinner",
          "tip": 2,
          "total_bill": 8.77
         },
         {
          "day": "Sun",
          "sex": "Male",
          "size": 4,
          "smoker": "No",
          "time": "Dinner",
          "tip": 3.12,
          "total_bill": 26.88
         },
         {
          "day": "Sun",
          "sex": "Male",
          "size": 2,
          "smoker": "No",
          "time": "Dinner",
          "tip": 1.96,
          "total_bill": 15.04
         },
         {
          "day": "Sun",
          "sex": "Male",
          "size": 2,
          "smoker": "No",
          "time": "Dinner",
          "tip": 3.23,
          "total_bill": 14.78
         },
         {
          "day": "Sun",
          "sex": "Male",
          "size": 2,
          "smoker": "No",
          "time": "Dinner",
          "tip": 1.71,
          "total_bill": 10.27
         },
         {
          "day": "Sun",
          "sex": "Female",
          "size": 4,
          "smoker": "No",
          "time": "Dinner",
          "tip": 5,
          "total_bill": 35.26
         },
         {
          "day": "Sun",
          "sex": "Male",
          "size": 2,
          "smoker": "No",
          "time": "Dinner",
          "tip": 1.57,
          "total_bill": 15.42
         },
         {
          "day": "Sun",
          "sex": "Male",
          "size": 4,
          "smoker": "No",
          "time": "Dinner",
          "tip": 3,
          "total_bill": 18.43
         },
         {
          "day": "Sun",
          "sex": "Female",
          "size": 2,
          "smoker": "No",
          "time": "Dinner",
          "tip": 3.02,
          "total_bill": 14.83
         },
         {
          "day": "Sun",
          "sex": "Male",
          "size": 2,
          "smoker": "No",
          "time": "Dinner",
          "tip": 3.92,
          "total_bill": 21.58
         },
         {
          "day": "Sun",
          "sex": "Female",
          "size": 3,
          "smoker": "No",
          "time": "Dinner",
          "tip": 1.67,
          "total_bill": 10.33
         },
         {
          "day": "Sun",
          "sex": "Male",
          "size": 3,
          "smoker": "No",
          "time": "Dinner",
          "tip": 3.71,
          "total_bill": 16.29
         },
         {
          "day": "Sun",
          "sex": "Female",
          "size": 3,
          "smoker": "No",
          "time": "Dinner",
          "tip": 3.5,
          "total_bill": 16.97
         },
         {
          "day": "Sat",
          "sex": "Male",
          "size": 3,
          "smoker": "No",
          "time": "Dinner",
          "tip": 3.35,
          "total_bill": 20.65
         },
         {
          "day": "Sat",
          "sex": "Male",
          "size": 2,
          "smoker": "No",
          "time": "Dinner",
          "tip": 4.08,
          "total_bill": 17.92
         },
         {
          "day": "Sat",
          "sex": "Female",
          "size": 2,
          "smoker": "No",
          "time": "Dinner",
          "tip": 2.75,
          "total_bill": 20.29
         },
         {
          "day": "Sat",
          "sex": "Female",
          "size": 2,
          "smoker": "No",
          "time": "Dinner",
          "tip": 2.23,
          "total_bill": 15.77
         },
         {
          "day": "Sat",
          "sex": "Male",
          "size": 4,
          "smoker": "No",
          "time": "Dinner",
          "tip": 7.58,
          "total_bill": 39.42
         },
         {
          "day": "Sat",
          "sex": "Male",
          "size": 2,
          "smoker": "No",
          "time": "Dinner",
          "tip": 3.18,
          "total_bill": 19.82
         },
         {
          "day": "Sat",
          "sex": "Male",
          "size": 4,
          "smoker": "No",
          "time": "Dinner",
          "tip": 2.34,
          "total_bill": 17.81
         },
         {
          "day": "Sat",
          "sex": "Male",
          "size": 2,
          "smoker": "No",
          "time": "Dinner",
          "tip": 2,
          "total_bill": 13.37
         },
         {
          "day": "Sat",
          "sex": "Male",
          "size": 2,
          "smoker": "No",
          "time": "Dinner",
          "tip": 2,
          "total_bill": 12.69
         },
         {
          "day": "Sat",
          "sex": "Male",
          "size": 2,
          "smoker": "No",
          "time": "Dinner",
          "tip": 4.3,
          "total_bill": 21.7
         },
         {
          "day": "Sat",
          "sex": "Female",
          "size": 2,
          "smoker": "No",
          "time": "Dinner",
          "tip": 3,
          "total_bill": 19.65
         },
         {
          "day": "Sat",
          "sex": "Male",
          "size": 2,
          "smoker": "No",
          "time": "Dinner",
          "tip": 1.45,
          "total_bill": 9.55
         },
         {
          "day": "Sat",
          "sex": "Male",
          "size": 4,
          "smoker": "No",
          "time": "Dinner",
          "tip": 2.5,
          "total_bill": 18.35
         },
         {
          "day": "Sat",
          "sex": "Female",
          "size": 2,
          "smoker": "No",
          "time": "Dinner",
          "tip": 3,
          "total_bill": 15.06
         },
         {
          "day": "Sat",
          "sex": "Female",
          "size": 4,
          "smoker": "No",
          "time": "Dinner",
          "tip": 2.45,
          "total_bill": 20.69
         },
         {
          "day": "Sat",
          "sex": "Male",
          "size": 2,
          "smoker": "No",
          "time": "Dinner",
          "tip": 3.27,
          "total_bill": 17.78
         },
         {
          "day": "Sat",
          "sex": "Male",
          "size": 3,
          "smoker": "No",
          "time": "Dinner",
          "tip": 3.6,
          "total_bill": 24.06
         },
         {
          "day": "Sat",
          "sex": "Male",
          "size": 3,
          "smoker": "No",
          "time": "Dinner",
          "tip": 2,
          "total_bill": 16.31
         },
         {
          "day": "Sat",
          "sex": "Female",
          "size": 3,
          "smoker": "No",
          "time": "Dinner",
          "tip": 3.07,
          "total_bill": 16.93
         },
         {
          "day": "Sat",
          "sex": "Male",
          "size": 3,
          "smoker": "No",
          "time": "Dinner",
          "tip": 2.31,
          "total_bill": 18.69
         },
         {
          "day": "Sat",
          "sex": "Male",
          "size": 3,
          "smoker": "No",
          "time": "Dinner",
          "tip": 5,
          "total_bill": 31.27
         },
         {
          "day": "Sat",
          "sex": "Male",
          "size": 3,
          "smoker": "No",
          "time": "Dinner",
          "tip": 2.24,
          "total_bill": 16.04
         },
         {
          "day": "Sun",
          "sex": "Male",
          "size": 2,
          "smoker": "No",
          "time": "Dinner",
          "tip": 2.54,
          "total_bill": 17.46
         },
         {
          "day": "Sun",
          "sex": "Male",
          "size": 2,
          "smoker": "No",
          "time": "Dinner",
          "tip": 3.06,
          "total_bill": 13.94
         },
         {
          "day": "Sun",
          "sex": "Male",
          "size": 2,
          "smoker": "No",
          "time": "Dinner",
          "tip": 1.32,
          "total_bill": 9.68
         },
         {
          "day": "Sun",
          "sex": "Male",
          "size": 4,
          "smoker": "No",
          "time": "Dinner",
          "tip": 5.6,
          "total_bill": 30.4
         },
         {
          "day": "Sun",
          "sex": "Male",
          "size": 2,
          "smoker": "No",
          "time": "Dinner",
          "tip": 3,
          "total_bill": 18.29
         },
         {
          "day": "Sun",
          "sex": "Male",
          "size": 2,
          "smoker": "No",
          "time": "Dinner",
          "tip": 5,
          "total_bill": 22.23
         },
         {
          "day": "Sun",
          "sex": "Male",
          "size": 4,
          "smoker": "No",
          "time": "Dinner",
          "tip": 6,
          "total_bill": 32.4
         },
         {
          "day": "Sun",
          "sex": "Male",
          "size": 3,
          "smoker": "No",
          "time": "Dinner",
          "tip": 2.05,
          "total_bill": 28.55
         },
         {
          "day": "Sun",
          "sex": "Male",
          "size": 2,
          "smoker": "No",
          "time": "Dinner",
          "tip": 3,
          "total_bill": 18.04
         },
         {
          "day": "Sun",
          "sex": "Male",
          "size": 2,
          "smoker": "No",
          "time": "Dinner",
          "tip": 2.5,
          "total_bill": 12.54
         },
         {
          "day": "Sun",
          "sex": "Female",
          "size": 2,
          "smoker": "No",
          "time": "Dinner",
          "tip": 2.6,
          "total_bill": 10.29
         },
         {
          "day": "Sun",
          "sex": "Female",
          "size": 4,
          "smoker": "No",
          "time": "Dinner",
          "tip": 5.2,
          "total_bill": 34.81
         },
         {
          "day": "Sun",
          "sex": "Male",
          "size": 2,
          "smoker": "No",
          "time": "Dinner",
          "tip": 1.56,
          "total_bill": 9.94
         },
         {
          "day": "Sun",
          "sex": "Male",
          "size": 4,
          "smoker": "No",
          "time": "Dinner",
          "tip": 4.34,
          "total_bill": 25.56
         },
         {
          "day": "Sun",
          "sex": "Male",
          "size": 2,
          "smoker": "No",
          "time": "Dinner",
          "tip": 3.51,
          "total_bill": 19.49
         },
         {
          "day": "Sat",
          "sex": "Male",
          "size": 4,
          "smoker": "Yes",
          "time": "Dinner",
          "tip": 3,
          "total_bill": 38.01
         },
         {
          "day": "Sat",
          "sex": "Female",
          "size": 2,
          "smoker": "No",
          "time": "Dinner",
          "tip": 1.5,
          "total_bill": 26.41
         },
         {
          "day": "Sat",
          "sex": "Male",
          "size": 2,
          "smoker": "Yes",
          "time": "Dinner",
          "tip": 1.76,
          "total_bill": 11.24
         },
         {
          "day": "Sat",
          "sex": "Male",
          "size": 4,
          "smoker": "No",
          "time": "Dinner",
          "tip": 6.73,
          "total_bill": 48.27
         },
         {
          "day": "Sat",
          "sex": "Male",
          "size": 2,
          "smoker": "Yes",
          "time": "Dinner",
          "tip": 3.21,
          "total_bill": 20.29
         },
         {
          "day": "Sat",
          "sex": "Male",
          "size": 2,
          "smoker": "Yes",
          "time": "Dinner",
          "tip": 2,
          "total_bill": 13.81
         },
         {
          "day": "Sat",
          "sex": "Male",
          "size": 2,
          "smoker": "Yes",
          "time": "Dinner",
          "tip": 1.98,
          "total_bill": 11.02
         },
         {
          "day": "Sat",
          "sex": "Male",
          "size": 4,
          "smoker": "Yes",
          "time": "Dinner",
          "tip": 3.76,
          "total_bill": 18.29
         },
         {
          "day": "Sat",
          "sex": "Male",
          "size": 3,
          "smoker": "No",
          "time": "Dinner",
          "tip": 2.64,
          "total_bill": 17.59
         },
         {
          "day": "Sat",
          "sex": "Male",
          "size": 3,
          "smoker": "No",
          "time": "Dinner",
          "tip": 3.15,
          "total_bill": 20.08
         },
         {
          "day": "Sat",
          "sex": "Female",
          "size": 2,
          "smoker": "No",
          "time": "Dinner",
          "tip": 2.47,
          "total_bill": 16.45
         },
         {
          "day": "Sat",
          "sex": "Female",
          "size": 1,
          "smoker": "Yes",
          "time": "Dinner",
          "tip": 1,
          "total_bill": 3.07
         },
         {
          "day": "Sat",
          "sex": "Male",
          "size": 2,
          "smoker": "No",
          "time": "Dinner",
          "tip": 2.01,
          "total_bill": 20.23
         },
         {
          "day": "Sat",
          "sex": "Male",
          "size": 2,
          "smoker": "Yes",
          "time": "Dinner",
          "tip": 2.09,
          "total_bill": 15.01
         },
         {
          "day": "Sat",
          "sex": "Male",
          "size": 2,
          "smoker": "No",
          "time": "Dinner",
          "tip": 1.97,
          "total_bill": 12.02
         },
         {
          "day": "Sat",
          "sex": "Female",
          "size": 3,
          "smoker": "No",
          "time": "Dinner",
          "tip": 3,
          "total_bill": 17.07
         },
         {
          "day": "Sat",
          "sex": "Female",
          "size": 2,
          "smoker": "Yes",
          "time": "Dinner",
          "tip": 3.14,
          "total_bill": 26.86
         },
         {
          "day": "Sat",
          "sex": "Female",
          "size": 2,
          "smoker": "Yes",
          "time": "Dinner",
          "tip": 5,
          "total_bill": 25.28
         },
         {
          "day": "Sat",
          "sex": "Female",
          "size": 2,
          "smoker": "No",
          "time": "Dinner",
          "tip": 2.2,
          "total_bill": 14.73
         },
         {
          "day": "Sat",
          "sex": "Male",
          "size": 2,
          "smoker": "No",
          "time": "Dinner",
          "tip": 1.25,
          "total_bill": 10.51
         },
         {
          "day": "Sat",
          "sex": "Male",
          "size": 2,
          "smoker": "Yes",
          "time": "Dinner",
          "tip": 3.08,
          "total_bill": 17.92
         },
         {
          "day": "Thur",
          "sex": "Male",
          "size": 4,
          "smoker": "No",
          "time": "Lunch",
          "tip": 4,
          "total_bill": 27.2
         },
         {
          "day": "Thur",
          "sex": "Male",
          "size": 2,
          "smoker": "No",
          "time": "Lunch",
          "tip": 3,
          "total_bill": 22.76
         },
         {
          "day": "Thur",
          "sex": "Male",
          "size": 2,
          "smoker": "No",
          "time": "Lunch",
          "tip": 2.71,
          "total_bill": 17.29
         },
         {
          "day": "Thur",
          "sex": "Male",
          "size": 2,
          "smoker": "Yes",
          "time": "Lunch",
          "tip": 3,
          "total_bill": 19.44
         },
         {
          "day": "Thur",
          "sex": "Male",
          "size": 2,
          "smoker": "No",
          "time": "Lunch",
          "tip": 3.4,
          "total_bill": 16.66
         },
         {
          "day": "Thur",
          "sex": "Female",
          "size": 1,
          "smoker": "No",
          "time": "Lunch",
          "tip": 1.83,
          "total_bill": 10.07
         },
         {
          "day": "Thur",
          "sex": "Male",
          "size": 2,
          "smoker": "Yes",
          "time": "Lunch",
          "tip": 5,
          "total_bill": 32.68
         },
         {
          "day": "Thur",
          "sex": "Male",
          "size": 2,
          "smoker": "No",
          "time": "Lunch",
          "tip": 2.03,
          "total_bill": 15.98
         },
         {
          "day": "Thur",
          "sex": "Female",
          "size": 4,
          "smoker": "No",
          "time": "Lunch",
          "tip": 5.17,
          "total_bill": 34.83
         },
         {
          "day": "Thur",
          "sex": "Male",
          "size": 2,
          "smoker": "No",
          "time": "Lunch",
          "tip": 2,
          "total_bill": 13.03
         },
         {
          "day": "Thur",
          "sex": "Male",
          "size": 2,
          "smoker": "No",
          "time": "Lunch",
          "tip": 4,
          "total_bill": 18.28
         },
         {
          "day": "Thur",
          "sex": "Male",
          "size": 2,
          "smoker": "No",
          "time": "Lunch",
          "tip": 5.85,
          "total_bill": 24.71
         },
         {
          "day": "Thur",
          "sex": "Male",
          "size": 2,
          "smoker": "No",
          "time": "Lunch",
          "tip": 3,
          "total_bill": 21.16
         },
         {
          "day": "Fri",
          "sex": "Male",
          "size": 2,
          "smoker": "Yes",
          "time": "Dinner",
          "tip": 3,
          "total_bill": 28.97
         },
         {
          "day": "Fri",
          "sex": "Male",
          "size": 2,
          "smoker": "No",
          "time": "Dinner",
          "tip": 3.5,
          "total_bill": 22.49
         },
         {
          "day": "Fri",
          "sex": "Female",
          "size": 2,
          "smoker": "Yes",
          "time": "Dinner",
          "tip": 1,
          "total_bill": 5.75
         },
         {
          "day": "Fri",
          "sex": "Female",
          "size": 2,
          "smoker": "Yes",
          "time": "Dinner",
          "tip": 4.3,
          "total_bill": 16.32
         },
         {
          "day": "Fri",
          "sex": "Female",
          "size": 2,
          "smoker": "No",
          "time": "Dinner",
          "tip": 3.25,
          "total_bill": 22.75
         },
         {
          "day": "Fri",
          "sex": "Male",
          "size": 4,
          "smoker": "Yes",
          "time": "Dinner",
          "tip": 4.73,
          "total_bill": 40.17
         },
         {
          "day": "Fri",
          "sex": "Male",
          "size": 2,
          "smoker": "Yes",
          "time": "Dinner",
          "tip": 4,
          "total_bill": 27.28
         },
         {
          "day": "Fri",
          "sex": "Male",
          "size": 2,
          "smoker": "Yes",
          "time": "Dinner",
          "tip": 1.5,
          "total_bill": 12.03
         },
         {
          "day": "Fri",
          "sex": "Male",
          "size": 2,
          "smoker": "Yes",
          "time": "Dinner",
          "tip": 3,
          "total_bill": 21.01
         },
         {
          "day": "Fri",
          "sex": "Male",
          "size": 2,
          "smoker": "No",
          "time": "Dinner",
          "tip": 1.5,
          "total_bill": 12.46
         },
         {
          "day": "Fri",
          "sex": "Female",
          "size": 2,
          "smoker": "Yes",
          "time": "Dinner",
          "tip": 2.5,
          "total_bill": 11.35
         },
         {
          "day": "Fri",
          "sex": "Female",
          "size": 2,
          "smoker": "Yes",
          "time": "Dinner",
          "tip": 3,
          "total_bill": 15.38
         },
         {
          "day": "Sat",
          "sex": "Female",
          "size": 3,
          "smoker": "Yes",
          "time": "Dinner",
          "tip": 2.5,
          "total_bill": 44.3
         },
         {
          "day": "Sat",
          "sex": "Female",
          "size": 2,
          "smoker": "Yes",
          "time": "Dinner",
          "tip": 3.48,
          "total_bill": 22.42
         },
         {
          "day": "Sat",
          "sex": "Female",
          "size": 2,
          "smoker": "No",
          "time": "Dinner",
          "tip": 4.08,
          "total_bill": 20.92
         },
         {
          "day": "Sat",
          "sex": "Male",
          "size": 2,
          "smoker": "Yes",
          "time": "Dinner",
          "tip": 1.64,
          "total_bill": 15.36
         },
         {
          "day": "Sat",
          "sex": "Male",
          "size": 2,
          "smoker": "Yes",
          "time": "Dinner",
          "tip": 4.06,
          "total_bill": 20.49
         },
         {
          "day": "Sat",
          "sex": "Male",
          "size": 2,
          "smoker": "Yes",
          "time": "Dinner",
          "tip": 4.29,
          "total_bill": 25.21
         },
         {
          "day": "Sat",
          "sex": "Male",
          "size": 2,
          "smoker": "No",
          "time": "Dinner",
          "tip": 3.76,
          "total_bill": 18.24
         },
         {
          "day": "Sat",
          "sex": "Female",
          "size": 2,
          "smoker": "Yes",
          "time": "Dinner",
          "tip": 4,
          "total_bill": 14.31
         },
         {
          "day": "Sat",
          "sex": "Male",
          "size": 2,
          "smoker": "No",
          "time": "Dinner",
          "tip": 3,
          "total_bill": 14
         },
         {
          "day": "Sat",
          "sex": "Female",
          "size": 1,
          "smoker": "No",
          "time": "Dinner",
          "tip": 1,
          "total_bill": 7.25
         },
         {
          "day": "Sun",
          "sex": "Male",
          "size": 3,
          "smoker": "No",
          "time": "Dinner",
          "tip": 4,
          "total_bill": 38.07
         },
         {
          "day": "Sun",
          "sex": "Male",
          "size": 2,
          "smoker": "No",
          "time": "Dinner",
          "tip": 2.55,
          "total_bill": 23.95
         },
         {
          "day": "Sun",
          "sex": "Female",
          "size": 3,
          "smoker": "No",
          "time": "Dinner",
          "tip": 4,
          "total_bill": 25.71
         },
         {
          "day": "Sun",
          "sex": "Female",
          "size": 2,
          "smoker": "No",
          "time": "Dinner",
          "tip": 3.5,
          "total_bill": 17.31
         },
         {
          "day": "Sun",
          "sex": "Male",
          "size": 4,
          "smoker": "No",
          "time": "Dinner",
          "tip": 5.07,
          "total_bill": 29.93
         },
         {
          "day": "Thur",
          "sex": "Female",
          "size": 2,
          "smoker": "No",
          "time": "Lunch",
          "tip": 1.5,
          "total_bill": 10.65
         },
         {
          "day": "Thur",
          "sex": "Female",
          "size": 2,
          "smoker": "No",
          "time": "Lunch",
          "tip": 1.8,
          "total_bill": 12.43
         },
         {
          "day": "Thur",
          "sex": "Female",
          "size": 4,
          "smoker": "No",
          "time": "Lunch",
          "tip": 2.92,
          "total_bill": 24.08
         },
         {
          "day": "Thur",
          "sex": "Male",
          "size": 2,
          "smoker": "No",
          "time": "Lunch",
          "tip": 2.31,
          "total_bill": 11.69
         },
         {
          "day": "Thur",
          "sex": "Female",
          "size": 2,
          "smoker": "No",
          "time": "Lunch",
          "tip": 1.68,
          "total_bill": 13.42
         },
         {
          "day": "Thur",
          "sex": "Male",
          "size": 2,
          "smoker": "No",
          "time": "Lunch",
          "tip": 2.5,
          "total_bill": 14.26
         },
         {
          "day": "Thur",
          "sex": "Male",
          "size": 2,
          "smoker": "No",
          "time": "Lunch",
          "tip": 2,
          "total_bill": 15.95
         },
         {
          "day": "Thur",
          "sex": "Female",
          "size": 2,
          "smoker": "No",
          "time": "Lunch",
          "tip": 2.52,
          "total_bill": 12.48
         },
         {
          "day": "Thur",
          "sex": "Female",
          "size": 6,
          "smoker": "No",
          "time": "Lunch",
          "tip": 4.2,
          "total_bill": 29.8
         },
         {
          "day": "Thur",
          "sex": "Male",
          "size": 2,
          "smoker": "No",
          "time": "Lunch",
          "tip": 1.48,
          "total_bill": 8.52
         },
         {
          "day": "Thur",
          "sex": "Female",
          "size": 2,
          "smoker": "No",
          "time": "Lunch",
          "tip": 2,
          "total_bill": 14.52
         },
         {
          "day": "Thur",
          "sex": "Female",
          "size": 2,
          "smoker": "No",
          "time": "Lunch",
          "tip": 2,
          "total_bill": 11.38
         },
         {
          "day": "Thur",
          "sex": "Male",
          "size": 3,
          "smoker": "No",
          "time": "Lunch",
          "tip": 2.18,
          "total_bill": 22.82
         },
         {
          "day": "Thur",
          "sex": "Male",
          "size": 2,
          "smoker": "No",
          "time": "Lunch",
          "tip": 1.5,
          "total_bill": 19.08
         },
         {
          "day": "Thur",
          "sex": "Female",
          "size": 2,
          "smoker": "No",
          "time": "Lunch",
          "tip": 2.83,
          "total_bill": 20.27
         },
         {
          "day": "Thur",
          "sex": "Female",
          "size": 2,
          "smoker": "No",
          "time": "Lunch",
          "tip": 1.5,
          "total_bill": 11.17
         },
         {
          "day": "Thur",
          "sex": "Female",
          "size": 2,
          "smoker": "No",
          "time": "Lunch",
          "tip": 2,
          "total_bill": 12.26
         },
         {
          "day": "Thur",
          "sex": "Female",
          "size": 2,
          "smoker": "No",
          "time": "Lunch",
          "tip": 3.25,
          "total_bill": 18.26
         },
         {
          "day": "Thur",
          "sex": "Female",
          "size": 2,
          "smoker": "No",
          "time": "Lunch",
          "tip": 1.25,
          "total_bill": 8.51
         },
         {
          "day": "Thur",
          "sex": "Female",
          "size": 2,
          "smoker": "No",
          "time": "Lunch",
          "tip": 2,
          "total_bill": 10.33
         },
         {
          "day": "Thur",
          "sex": "Female",
          "size": 2,
          "smoker": "No",
          "time": "Lunch",
          "tip": 2,
          "total_bill": 14.15
         },
         {
          "day": "Thur",
          "sex": "Male",
          "size": 2,
          "smoker": "Yes",
          "time": "Lunch",
          "tip": 2,
          "total_bill": 16
         },
         {
          "day": "Thur",
          "sex": "Female",
          "size": 2,
          "smoker": "No",
          "time": "Lunch",
          "tip": 2.75,
          "total_bill": 13.16
         },
         {
          "day": "Thur",
          "sex": "Female",
          "size": 2,
          "smoker": "No",
          "time": "Lunch",
          "tip": 3.5,
          "total_bill": 17.47
         },
         {
          "day": "Thur",
          "sex": "Male",
          "size": 6,
          "smoker": "No",
          "time": "Lunch",
          "tip": 6.7,
          "total_bill": 34.3
         },
         {
          "day": "Thur",
          "sex": "Male",
          "size": 5,
          "smoker": "No",
          "time": "Lunch",
          "tip": 5,
          "total_bill": 41.19
         },
         {
          "day": "Thur",
          "sex": "Female",
          "size": 6,
          "smoker": "No",
          "time": "Lunch",
          "tip": 5,
          "total_bill": 27.05
         },
         {
          "day": "Thur",
          "sex": "Female",
          "size": 2,
          "smoker": "No",
          "time": "Lunch",
          "tip": 2.3,
          "total_bill": 16.43
         },
         {
          "day": "Thur",
          "sex": "Female",
          "size": 2,
          "smoker": "No",
          "time": "Lunch",
          "tip": 1.5,
          "total_bill": 8.35
         },
         {
          "day": "Thur",
          "sex": "Female",
          "size": 3,
          "smoker": "No",
          "time": "Lunch",
          "tip": 1.36,
          "total_bill": 18.64
         },
         {
          "day": "Thur",
          "sex": "Female",
          "size": 2,
          "smoker": "No",
          "time": "Lunch",
          "tip": 1.63,
          "total_bill": 11.87
         },
         {
          "day": "Thur",
          "sex": "Male",
          "size": 2,
          "smoker": "No",
          "time": "Lunch",
          "tip": 1.73,
          "total_bill": 9.78
         },
         {
          "day": "Thur",
          "sex": "Male",
          "size": 2,
          "smoker": "No",
          "time": "Lunch",
          "tip": 2,
          "total_bill": 7.51
         },
         {
          "day": "Sun",
          "sex": "Male",
          "size": 2,
          "smoker": "No",
          "time": "Dinner",
          "tip": 2.5,
          "total_bill": 14.07
         },
         {
          "day": "Sun",
          "sex": "Male",
          "size": 2,
          "smoker": "No",
          "time": "Dinner",
          "tip": 2,
          "total_bill": 13.13
         },
         {
          "day": "Sun",
          "sex": "Male",
          "size": 3,
          "smoker": "No",
          "time": "Dinner",
          "tip": 2.74,
          "total_bill": 17.26
         },
         {
          "day": "Sun",
          "sex": "Male",
          "size": 4,
          "smoker": "No",
          "time": "Dinner",
          "tip": 2,
          "total_bill": 24.55
         },
         {
          "day": "Sun",
          "sex": "Male",
          "size": 4,
          "smoker": "No",
          "time": "Dinner",
          "tip": 2,
          "total_bill": 19.77
         },
         {
          "day": "Sun",
          "sex": "Female",
          "size": 5,
          "smoker": "No",
          "time": "Dinner",
          "tip": 5.14,
          "total_bill": 29.85
         },
         {
          "day": "Sun",
          "sex": "Male",
          "size": 6,
          "smoker": "No",
          "time": "Dinner",
          "tip": 5,
          "total_bill": 48.17
         },
         {
          "day": "Sun",
          "sex": "Female",
          "size": 4,
          "smoker": "No",
          "time": "Dinner",
          "tip": 3.75,
          "total_bill": 25
         },
         {
          "day": "Sun",
          "sex": "Female",
          "size": 2,
          "smoker": "No",
          "time": "Dinner",
          "tip": 2.61,
          "total_bill": 13.39
         },
         {
          "day": "Sun",
          "sex": "Male",
          "size": 4,
          "smoker": "No",
          "time": "Dinner",
          "tip": 2,
          "total_bill": 16.49
         },
         {
          "day": "Sun",
          "sex": "Male",
          "size": 4,
          "smoker": "No",
          "time": "Dinner",
          "tip": 3.5,
          "total_bill": 21.5
         },
         {
          "day": "Sun",
          "sex": "Male",
          "size": 2,
          "smoker": "No",
          "time": "Dinner",
          "tip": 2.5,
          "total_bill": 12.66
         },
         {
          "day": "Sun",
          "sex": "Female",
          "size": 3,
          "smoker": "No",
          "time": "Dinner",
          "tip": 2,
          "total_bill": 16.21
         },
         {
          "day": "Sun",
          "sex": "Male",
          "size": 2,
          "smoker": "No",
          "time": "Dinner",
          "tip": 2,
          "total_bill": 13.81
         },
         {
          "day": "Sun",
          "sex": "Female",
          "size": 2,
          "smoker": "Yes",
          "time": "Dinner",
          "tip": 3,
          "total_bill": 17.51
         },
         {
          "day": "Sun",
          "sex": "Male",
          "size": 3,
          "smoker": "No",
          "time": "Dinner",
          "tip": 3.48,
          "total_bill": 24.52
         },
         {
          "day": "Sun",
          "sex": "Male",
          "size": 2,
          "smoker": "No",
          "time": "Dinner",
          "tip": 2.24,
          "total_bill": 20.76
         },
         {
          "day": "Sun",
          "sex": "Male",
          "size": 4,
          "smoker": "No",
          "time": "Dinner",
          "tip": 4.5,
          "total_bill": 31.71
         },
         {
          "day": "Sat",
          "sex": "Female",
          "size": 2,
          "smoker": "Yes",
          "time": "Dinner",
          "tip": 1.61,
          "total_bill": 10.59
         },
         {
          "day": "Sat",
          "sex": "Female",
          "size": 2,
          "smoker": "Yes",
          "time": "Dinner",
          "tip": 2,
          "total_bill": 10.63
         },
         {
          "day": "Sat",
          "sex": "Male",
          "size": 3,
          "smoker": "Yes",
          "time": "Dinner",
          "tip": 10,
          "total_bill": 50.81
         },
         {
          "day": "Sat",
          "sex": "Male",
          "size": 2,
          "smoker": "Yes",
          "time": "Dinner",
          "tip": 3.16,
          "total_bill": 15.81
         },
         {
          "day": "Sun",
          "sex": "Male",
          "size": 2,
          "smoker": "Yes",
          "time": "Dinner",
          "tip": 5.15,
          "total_bill": 7.25
         },
         {
          "day": "Sun",
          "sex": "Male",
          "size": 2,
          "smoker": "Yes",
          "time": "Dinner",
          "tip": 3.18,
          "total_bill": 31.85
         },
         {
          "day": "Sun",
          "sex": "Male",
          "size": 2,
          "smoker": "Yes",
          "time": "Dinner",
          "tip": 4,
          "total_bill": 16.82
         },
         {
          "day": "Sun",
          "sex": "Male",
          "size": 2,
          "smoker": "Yes",
          "time": "Dinner",
          "tip": 3.11,
          "total_bill": 32.9
         },
         {
          "day": "Sun",
          "sex": "Male",
          "size": 2,
          "smoker": "Yes",
          "time": "Dinner",
          "tip": 2,
          "total_bill": 17.89
         },
         {
          "day": "Sun",
          "sex": "Male",
          "size": 2,
          "smoker": "Yes",
          "time": "Dinner",
          "tip": 2,
          "total_bill": 14.48
         },
         {
          "day": "Sun",
          "sex": "Female",
          "size": 2,
          "smoker": "Yes",
          "time": "Dinner",
          "tip": 4,
          "total_bill": 9.6
         },
         {
          "day": "Sun",
          "sex": "Male",
          "size": 2,
          "smoker": "Yes",
          "time": "Dinner",
          "tip": 3.55,
          "total_bill": 34.63
         },
         {
          "day": "Sun",
          "sex": "Male",
          "size": 4,
          "smoker": "Yes",
          "time": "Dinner",
          "tip": 3.68,
          "total_bill": 34.65
         },
         {
          "day": "Sun",
          "sex": "Male",
          "size": 2,
          "smoker": "Yes",
          "time": "Dinner",
          "tip": 5.65,
          "total_bill": 23.33
         },
         {
          "day": "Sun",
          "sex": "Male",
          "size": 3,
          "smoker": "Yes",
          "time": "Dinner",
          "tip": 3.5,
          "total_bill": 45.35
         },
         {
          "day": "Sun",
          "sex": "Male",
          "size": 4,
          "smoker": "Yes",
          "time": "Dinner",
          "tip": 6.5,
          "total_bill": 23.17
         },
         {
          "day": "Sun",
          "sex": "Male",
          "size": 2,
          "smoker": "Yes",
          "time": "Dinner",
          "tip": 3,
          "total_bill": 40.55
         },
         {
          "day": "Sun",
          "sex": "Male",
          "size": 5,
          "smoker": "No",
          "time": "Dinner",
          "tip": 5,
          "total_bill": 20.69
         },
         {
          "day": "Sun",
          "sex": "Female",
          "size": 3,
          "smoker": "Yes",
          "time": "Dinner",
          "tip": 3.5,
          "total_bill": 20.9
         },
         {
          "day": "Sun",
          "sex": "Male",
          "size": 5,
          "smoker": "Yes",
          "time": "Dinner",
          "tip": 2,
          "total_bill": 30.46
         },
         {
          "day": "Sun",
          "sex": "Female",
          "size": 3,
          "smoker": "Yes",
          "time": "Dinner",
          "tip": 3.5,
          "total_bill": 18.15
         },
         {
          "day": "Sun",
          "sex": "Male",
          "size": 3,
          "smoker": "Yes",
          "time": "Dinner",
          "tip": 4,
          "total_bill": 23.1
         },
         {
          "day": "Sun",
          "sex": "Male",
          "size": 2,
          "smoker": "Yes",
          "time": "Dinner",
          "tip": 1.5,
          "total_bill": 15.69
         },
         {
          "day": "Thur",
          "sex": "Female",
          "size": 2,
          "smoker": "Yes",
          "time": "Lunch",
          "tip": 4.19,
          "total_bill": 19.81
         },
         {
          "day": "Thur",
          "sex": "Male",
          "size": 2,
          "smoker": "Yes",
          "time": "Lunch",
          "tip": 2.56,
          "total_bill": 28.44
         },
         {
          "day": "Thur",
          "sex": "Male",
          "size": 2,
          "smoker": "Yes",
          "time": "Lunch",
          "tip": 2.02,
          "total_bill": 15.48
         },
         {
          "day": "Thur",
          "sex": "Male",
          "size": 2,
          "smoker": "Yes",
          "time": "Lunch",
          "tip": 4,
          "total_bill": 16.58
         },
         {
          "day": "Thur",
          "sex": "Male",
          "size": 2,
          "smoker": "No",
          "time": "Lunch",
          "tip": 1.44,
          "total_bill": 7.56
         },
         {
          "day": "Thur",
          "sex": "Male",
          "size": 2,
          "smoker": "Yes",
          "time": "Lunch",
          "tip": 2,
          "total_bill": 10.34
         },
         {
          "day": "Thur",
          "sex": "Female",
          "size": 4,
          "smoker": "Yes",
          "time": "Lunch",
          "tip": 5,
          "total_bill": 43.11
         },
         {
          "day": "Thur",
          "sex": "Female",
          "size": 2,
          "smoker": "Yes",
          "time": "Lunch",
          "tip": 2,
          "total_bill": 13
         },
         {
          "day": "Thur",
          "sex": "Male",
          "size": 2,
          "smoker": "Yes",
          "time": "Lunch",
          "tip": 2,
          "total_bill": 13.51
         },
         {
          "day": "Thur",
          "sex": "Male",
          "size": 3,
          "smoker": "Yes",
          "time": "Lunch",
          "tip": 4,
          "total_bill": 18.71
         },
         {
          "day": "Thur",
          "sex": "Female",
          "size": 2,
          "smoker": "Yes",
          "time": "Lunch",
          "tip": 2.01,
          "total_bill": 12.74
         },
         {
          "day": "Thur",
          "sex": "Female",
          "size": 2,
          "smoker": "Yes",
          "time": "Lunch",
          "tip": 2,
          "total_bill": 13
         },
         {
          "day": "Thur",
          "sex": "Female",
          "size": 2,
          "smoker": "Yes",
          "time": "Lunch",
          "tip": 2.5,
          "total_bill": 16.4
         },
         {
          "day": "Thur",
          "sex": "Male",
          "size": 4,
          "smoker": "Yes",
          "time": "Lunch",
          "tip": 4,
          "total_bill": 20.53
         },
         {
          "day": "Thur",
          "sex": "Female",
          "size": 3,
          "smoker": "Yes",
          "time": "Lunch",
          "tip": 3.23,
          "total_bill": 16.47
         },
         {
          "day": "Sat",
          "sex": "Male",
          "size": 3,
          "smoker": "Yes",
          "time": "Dinner",
          "tip": 3.41,
          "total_bill": 26.59
         },
         {
          "day": "Sat",
          "sex": "Male",
          "size": 4,
          "smoker": "Yes",
          "time": "Dinner",
          "tip": 3,
          "total_bill": 38.73
         },
         {
          "day": "Sat",
          "sex": "Male",
          "size": 2,
          "smoker": "Yes",
          "time": "Dinner",
          "tip": 2.03,
          "total_bill": 24.27
         },
         {
          "day": "Sat",
          "sex": "Female",
          "size": 2,
          "smoker": "Yes",
          "time": "Dinner",
          "tip": 2.23,
          "total_bill": 12.76
         },
         {
          "day": "Sat",
          "sex": "Male",
          "size": 3,
          "smoker": "Yes",
          "time": "Dinner",
          "tip": 2,
          "total_bill": 30.06
         },
         {
          "day": "Sat",
          "sex": "Male",
          "size": 4,
          "smoker": "Yes",
          "time": "Dinner",
          "tip": 5.16,
          "total_bill": 25.89
         },
         {
          "day": "Sat",
          "sex": "Male",
          "size": 4,
          "smoker": "No",
          "time": "Dinner",
          "tip": 9,
          "total_bill": 48.33
         },
         {
          "day": "Sat",
          "sex": "Female",
          "size": 2,
          "smoker": "Yes",
          "time": "Dinner",
          "tip": 2.5,
          "total_bill": 13.27
         },
         {
          "day": "Sat",
          "sex": "Female",
          "size": 3,
          "smoker": "Yes",
          "time": "Dinner",
          "tip": 6.5,
          "total_bill": 28.17
         },
         {
          "day": "Sat",
          "sex": "Female",
          "size": 2,
          "smoker": "Yes",
          "time": "Dinner",
          "tip": 1.1,
          "total_bill": 12.9
         },
         {
          "day": "Sat",
          "sex": "Male",
          "size": 5,
          "smoker": "Yes",
          "time": "Dinner",
          "tip": 3,
          "total_bill": 28.15
         },
         {
          "day": "Sat",
          "sex": "Male",
          "size": 2,
          "smoker": "Yes",
          "time": "Dinner",
          "tip": 1.5,
          "total_bill": 11.59
         },
         {
          "day": "Sat",
          "sex": "Male",
          "size": 2,
          "smoker": "Yes",
          "time": "Dinner",
          "tip": 1.44,
          "total_bill": 7.74
         },
         {
          "day": "Sat",
          "sex": "Female",
          "size": 4,
          "smoker": "Yes",
          "time": "Dinner",
          "tip": 3.09,
          "total_bill": 30.14
         },
         {
          "day": "Fri",
          "sex": "Male",
          "size": 2,
          "smoker": "Yes",
          "time": "Lunch",
          "tip": 2.2,
          "total_bill": 12.16
         },
         {
          "day": "Fri",
          "sex": "Female",
          "size": 2,
          "smoker": "Yes",
          "time": "Lunch",
          "tip": 3.48,
          "total_bill": 13.42
         },
         {
          "day": "Fri",
          "sex": "Male",
          "size": 1,
          "smoker": "Yes",
          "time": "Lunch",
          "tip": 1.92,
          "total_bill": 8.58
         },
         {
          "day": "Fri",
          "sex": "Female",
          "size": 3,
          "smoker": "No",
          "time": "Lunch",
          "tip": 3,
          "total_bill": 15.98
         },
         {
          "day": "Fri",
          "sex": "Male",
          "size": 2,
          "smoker": "Yes",
          "time": "Lunch",
          "tip": 1.58,
          "total_bill": 13.42
         },
         {
          "day": "Fri",
          "sex": "Female",
          "size": 2,
          "smoker": "Yes",
          "time": "Lunch",
          "tip": 2.5,
          "total_bill": 16.27
         },
         {
          "day": "Fri",
          "sex": "Female",
          "size": 2,
          "smoker": "Yes",
          "time": "Lunch",
          "tip": 2,
          "total_bill": 10.09
         },
         {
          "day": "Sat",
          "sex": "Male",
          "size": 4,
          "smoker": "No",
          "time": "Dinner",
          "tip": 3,
          "total_bill": 20.45
         },
         {
          "day": "Sat",
          "sex": "Male",
          "size": 2,
          "smoker": "No",
          "time": "Dinner",
          "tip": 2.72,
          "total_bill": 13.28
         },
         {
          "day": "Sat",
          "sex": "Female",
          "size": 2,
          "smoker": "Yes",
          "time": "Dinner",
          "tip": 2.88,
          "total_bill": 22.12
         },
         {
          "day": "Sat",
          "sex": "Male",
          "size": 4,
          "smoker": "Yes",
          "time": "Dinner",
          "tip": 2,
          "total_bill": 24.01
         },
         {
          "day": "Sat",
          "sex": "Male",
          "size": 3,
          "smoker": "Yes",
          "time": "Dinner",
          "tip": 3,
          "total_bill": 15.69
         },
         {
          "day": "Sat",
          "sex": "Male",
          "size": 2,
          "smoker": "No",
          "time": "Dinner",
          "tip": 3.39,
          "total_bill": 11.61
         },
         {
          "day": "Sat",
          "sex": "Male",
          "size": 2,
          "smoker": "No",
          "time": "Dinner",
          "tip": 1.47,
          "total_bill": 10.77
         },
         {
          "day": "Sat",
          "sex": "Male",
          "size": 2,
          "smoker": "Yes",
          "time": "Dinner",
          "tip": 3,
          "total_bill": 15.53
         },
         {
          "day": "Sat",
          "sex": "Male",
          "size": 2,
          "smoker": "No",
          "time": "Dinner",
          "tip": 1.25,
          "total_bill": 10.07
         },
         {
          "day": "Sat",
          "sex": "Male",
          "size": 2,
          "smoker": "Yes",
          "time": "Dinner",
          "tip": 1,
          "total_bill": 12.6
         },
         {
          "day": "Sat",
          "sex": "Male",
          "size": 2,
          "smoker": "Yes",
          "time": "Dinner",
          "tip": 1.17,
          "total_bill": 32.83
         },
         {
          "day": "Sat",
          "sex": "Female",
          "size": 3,
          "smoker": "No",
          "time": "Dinner",
          "tip": 4.67,
          "total_bill": 35.83
         },
         {
          "day": "Sat",
          "sex": "Male",
          "size": 3,
          "smoker": "No",
          "time": "Dinner",
          "tip": 5.92,
          "total_bill": 29.03
         },
         {
          "day": "Sat",
          "sex": "Female",
          "size": 2,
          "smoker": "Yes",
          "time": "Dinner",
          "tip": 2,
          "total_bill": 27.18
         },
         {
          "day": "Sat",
          "sex": "Male",
          "size": 2,
          "smoker": "Yes",
          "time": "Dinner",
          "tip": 2,
          "total_bill": 22.67
         },
         {
          "day": "Sat",
          "sex": "Male",
          "size": 2,
          "smoker": "No",
          "time": "Dinner",
          "tip": 1.75,
          "total_bill": 17.82
         },
         {
          "day": "Thur",
          "sex": "Female",
          "size": 2,
          "smoker": "No",
          "time": "Dinner",
          "tip": 3,
          "total_bill": 18.78
         }
        ]
       },
       "layer": [
        {
         "encoding": {
          "color": {
           "field": "day",
           "legend": null,
           "type": "nominal"
          },
          "x": {
           "aggregate": "mean",
           "axis": {
            "title": "tip"
           },
           "field": "tip",
           "type": "quantitative"
          },
          "y": {
           "field": "day",
           "type": "nominal"
          }
         },
         "mark": "bar"
        },
        {
         "encoding": {
          "x": {
           "aggregate": "ci0",
           "field": "tip",
           "type": "quantitative"
          },
          "x2": {
           "aggregate": "ci1",
           "field": "tip",
           "type": "quantitative"
          },
          "y": {
           "field": "day",
           "type": "nominal"
          }
         },
         "mark": "rule"
        }
       ]
      },
      "image/png": "[encoded data removed]",
      "text/plain": [
       "<VegaLite 2 object>\n",
       "\n",
       "If you see this message, it means the renderer has not been properly enabled\n",
       "for the frontend that you are using. For more information, see\n",
       "https://altair-viz.github.io/user_guide/troubleshooting.html\n"
      ]
     },
     "metadata": {},
     "output_type": "display_data"
    },
    {
     "data": {
      "image/png": "[encoded data removed]",
      "text/plain": [
       "<Figure size 432x288 with 1 Axes>"
      ]
     },
     "metadata": {},
     "output_type": "display_data"
    }
   ],
   "source": [
    "display(salt.barplot(x=\"tip\", y=\"day\", data=tips))\n",
    "ax = sns.barplot(x=\"tip\", y=\"day\", data=tips)"
   ]
  },
  {
   "cell_type": "code",
   "execution_count": 9,
   "metadata": {},
   "outputs": [
    {
     "data": {
      "application/vnd.vegalite.v2+json": {
       "$schema": "https://vega.github.io/schema/vega-lite/v2.4.1.json",
       "config": {
        "range": {
         "category": [
          "rgba(49.62499999999999,115.62499999999996,161.37500000000003,1)",
          "rgba(224.87499999999997,128.875,44.12500000000004,1)",
          "rgba(58.49999999999999,145.50000000000003,58.49999999999999,1)",
          "rgba(192.125,60.87500000000001,61.62499999999999,1)",
          "rgba(147.49999999999994,113.74999999999999,178.25,1)",
          "rgba(131.875,91.37500000000001,83.12500000000001,1)",
          "rgba(213.50000000000003,132.49999999999997,188.74999999999994,1)",
          "rgba(127.0,127.0,127.0,1)",
          "rgba(168.87500000000003,169.625,53.37500000000001,1)",
          "rgba(45.99999999999998,171.25,184.00000000000003,1)"
         ]
        },
        "view": {
         "height": 300,
         "width": 400
        }
       },
       "data": {
        "values": [
         {
          "day": "Sun",
          "sex": "Female",
          "size": 2,
          "smoker": "No",
          "time": "Dinner",
          "tip": 1.01,
          "total_bill": 16.99
         },
         {
          "day": "Sun",
          "sex": "Male",
          "size": 3,
          "smoker": "No",
          "time": "Dinner",
          "tip": 1.66,
          "total_bill": 10.34
         },
         {
          "day": "Sun",
          "sex": "Male",
          "size": 3,
          "smoker": "No",
          "time": "Dinner",
          "tip": 3.5,
          "total_bill": 21.01
         },
         {
          "day": "Sun",
          "sex": "Male",
          "size": 2,
          "smoker": "No",
          "time": "Dinner",
          "tip": 3.31,
          "total_bill": 23.68
         },
         {
          "day": "Sun",
          "sex": "Female",
          "size": 4,
          "smoker": "No",
          "time": "Dinner",
          "tip": 3.61,
          "total_bill": 24.59
         },
         {
          "day": "Sun",
          "sex": "Male",
          "size": 4,
          "smoker": "No",
          "time": "Dinner",
          "tip": 4.71,
          "total_bill": 25.29
         },
         {
          "day": "Sun",
          "sex": "Male",
          "size": 2,
          "smoker": "No",
          "time": "Dinner",
          "tip": 2,
          "total_bill": 8.77
         },
         {
          "day": "Sun",
          "sex": "Male",
          "size": 4,
          "smoker": "No",
          "time": "Dinner",
          "tip": 3.12,
          "total_bill": 26.88
         },
         {
          "day": "Sun",
          "sex": "Male",
          "size": 2,
          "smoker": "No",
          "time": "Dinner",
          "tip": 1.96,
          "total_bill": 15.04
         },
         {
          "day": "Sun",
          "sex": "Male",
          "size": 2,
          "smoker": "No",
          "time": "Dinner",
          "tip": 3.23,
          "total_bill": 14.78
         },
         {
          "day": "Sun",
          "sex": "Male",
          "size": 2,
          "smoker": "No",
          "time": "Dinner",
          "tip": 1.71,
          "total_bill": 10.27
         },
         {
          "day": "Sun",
          "sex": "Female",
          "size": 4,
          "smoker": "No",
          "time": "Dinner",
          "tip": 5,
          "total_bill": 35.26
         },
         {
          "day": "Sun",
          "sex": "Male",
          "size": 2,
          "smoker": "No",
          "time": "Dinner",
          "tip": 1.57,
          "total_bill": 15.42
         },
         {
          "day": "Sun",
          "sex": "Male",
          "size": 4,
          "smoker": "No",
          "time": "Dinner",
          "tip": 3,
          "total_bill": 18.43
         },
         {
          "day": "Sun",
          "sex": "Female",
          "size": 2,
          "smoker": "No",
          "time": "Dinner",
          "tip": 3.02,
          "total_bill": 14.83
         },
         {
          "day": "Sun",
          "sex": "Male",
          "size": 2,
          "smoker": "No",
          "time": "Dinner",
          "tip": 3.92,
          "total_bill": 21.58
         },
         {
          "day": "Sun",
          "sex": "Female",
          "size": 3,
          "smoker": "No",
          "time": "Dinner",
          "tip": 1.67,
          "total_bill": 10.33
         },
         {
          "day": "Sun",
          "sex": "Male",
          "size": 3,
          "smoker": "No",
          "time": "Dinner",
          "tip": 3.71,
          "total_bill": 16.29
         },
         {
          "day": "Sun",
          "sex": "Female",
          "size": 3,
          "smoker": "No",
          "time": "Dinner",
          "tip": 3.5,
          "total_bill": 16.97
         },
         {
          "day": "Sat",
          "sex": "Male",
          "size": 3,
          "smoker": "No",
          "time": "Dinner",
          "tip": 3.35,
          "total_bill": 20.65
         },
         {
          "day": "Sat",
          "sex": "Male",
          "size": 2,
          "smoker": "No",
          "time": "Dinner",
          "tip": 4.08,
          "total_bill": 17.92
         },
         {
          "day": "Sat",
          "sex": "Female",
          "size": 2,
          "smoker": "No",
          "time": "Dinner",
          "tip": 2.75,
          "total_bill": 20.29
         },
         {
          "day": "Sat",
          "sex": "Female",
          "size": 2,
          "smoker": "No",
          "time": "Dinner",
          "tip": 2.23,
          "total_bill": 15.77
         },
         {
          "day": "Sat",
          "sex": "Male",
          "size": 4,
          "smoker": "No",
          "time": "Dinner",
          "tip": 7.58,
          "total_bill": 39.42
         },
         {
          "day": "Sat",
          "sex": "Male",
          "size": 2,
          "smoker": "No",
          "time": "Dinner",
          "tip": 3.18,
          "total_bill": 19.82
         },
         {
          "day": "Sat",
          "sex": "Male",
          "size": 4,
          "smoker": "No",
          "time": "Dinner",
          "tip": 2.34,
          "total_bill": 17.81
         },
         {
          "day": "Sat",
          "sex": "Male",
          "size": 2,
          "smoker": "No",
          "time": "Dinner",
          "tip": 2,
          "total_bill": 13.37
         },
         {
          "day": "Sat",
          "sex": "Male",
          "size": 2,
          "smoker": "No",
          "time": "Dinner",
          "tip": 2,
          "total_bill": 12.69
         },
         {
          "day": "Sat",
          "sex": "Male",
          "size": 2,
          "smoker": "No",
          "time": "Dinner",
          "tip": 4.3,
          "total_bill": 21.7
         },
         {
          "day": "Sat",
          "sex": "Female",
          "size": 2,
          "smoker": "No",
          "time": "Dinner",
          "tip": 3,
          "total_bill": 19.65
         },
         {
          "day": "Sat",
          "sex": "Male",
          "size": 2,
          "smoker": "No",
          "time": "Dinner",
          "tip": 1.45,
          "total_bill": 9.55
         },
         {
          "day": "Sat",
          "sex": "Male",
          "size": 4,
          "smoker": "No",
          "time": "Dinner",
          "tip": 2.5,
          "total_bill": 18.35
         },
         {
          "day": "Sat",
          "sex": "Female",
          "size": 2,
          "smoker": "No",
          "time": "Dinner",
          "tip": 3,
          "total_bill": 15.06
         },
         {
          "day": "Sat",
          "sex": "Female",
          "size": 4,
          "smoker": "No",
          "time": "Dinner",
          "tip": 2.45,
          "total_bill": 20.69
         },
         {
          "day": "Sat",
          "sex": "Male",
          "size": 2,
          "smoker": "No",
          "time": "Dinner",
          "tip": 3.27,
          "total_bill": 17.78
         },
         {
          "day": "Sat",
          "sex": "Male",
          "size": 3,
          "smoker": "No",
          "time": "Dinner",
          "tip": 3.6,
          "total_bill": 24.06
         },
         {
          "day": "Sat",
          "sex": "Male",
          "size": 3,
          "smoker": "No",
          "time": "Dinner",
          "tip": 2,
          "total_bill": 16.31
         },
         {
          "day": "Sat",
          "sex": "Female",
          "size": 3,
          "smoker": "No",
          "time": "Dinner",
          "tip": 3.07,
          "total_bill": 16.93
         },
         {
          "day": "Sat",
          "sex": "Male",
          "size": 3,
          "smoker": "No",
          "time": "Dinner",
          "tip": 2.31,
          "total_bill": 18.69
         },
         {
          "day": "Sat",
          "sex": "Male",
          "size": 3,
          "smoker": "No",
          "time": "Dinner",
          "tip": 5,
          "total_bill": 31.27
         },
         {
          "day": "Sat",
          "sex": "Male",
          "size": 3,
          "smoker": "No",
          "time": "Dinner",
          "tip": 2.24,
          "total_bill": 16.04
         },
         {
          "day": "Sun",
          "sex": "Male",
          "size": 2,
          "smoker": "No",
          "time": "Dinner",
          "tip": 2.54,
          "total_bill": 17.46
         },
         {
          "day": "Sun",
          "sex": "Male",
          "size": 2,
          "smoker": "No",
          "time": "Dinner",
          "tip": 3.06,
          "total_bill": 13.94
         },
         {
          "day": "Sun",
          "sex": "Male",
          "size": 2,
          "smoker": "No",
          "time": "Dinner",
          "tip": 1.32,
          "total_bill": 9.68
         },
         {
          "day": "Sun",
          "sex": "Male",
          "size": 4,
          "smoker": "No",
          "time": "Dinner",
          "tip": 5.6,
          "total_bill": 30.4
         },
         {
          "day": "Sun",
          "sex": "Male",
          "size": 2,
          "smoker": "No",
          "time": "Dinner",
          "tip": 3,
          "total_bill": 18.29
         },
         {
          "day": "Sun",
          "sex": "Male",
          "size": 2,
          "smoker": "No",
          "time": "Dinner",
          "tip": 5,
          "total_bill": 22.23
         },
         {
          "day": "Sun",
          "sex": "Male",
          "size": 4,
          "smoker": "No",
          "time": "Dinner",
          "tip": 6,
          "total_bill": 32.4
         },
         {
          "day": "Sun",
          "sex": "Male",
          "size": 3,
          "smoker": "No",
          "time": "Dinner",
          "tip": 2.05,
          "total_bill": 28.55
         },
         {
          "day": "Sun",
          "sex": "Male",
          "size": 2,
          "smoker": "No",
          "time": "Dinner",
          "tip": 3,
          "total_bill": 18.04
         },
         {
          "day": "Sun",
          "sex": "Male",
          "size": 2,
          "smoker": "No",
          "time": "Dinner",
          "tip": 2.5,
          "total_bill": 12.54
         },
         {
          "day": "Sun",
          "sex": "Female",
          "size": 2,
          "smoker": "No",
          "time": "Dinner",
          "tip": 2.6,
          "total_bill": 10.29
         },
         {
          "day": "Sun",
          "sex": "Female",
          "size": 4,
          "smoker": "No",
          "time": "Dinner",
          "tip": 5.2,
          "total_bill": 34.81
         },
         {
          "day": "Sun",
          "sex": "Male",
          "size": 2,
          "smoker": "No",
          "time": "Dinner",
          "tip": 1.56,
          "total_bill": 9.94
         },
         {
          "day": "Sun",
          "sex": "Male",
          "size": 4,
          "smoker": "No",
          "time": "Dinner",
          "tip": 4.34,
          "total_bill": 25.56
         },
         {
          "day": "Sun",
          "sex": "Male",
          "size": 2,
          "smoker": "No",
          "time": "Dinner",
          "tip": 3.51,
          "total_bill": 19.49
         },
         {
          "day": "Sat",
          "sex": "Male",
          "size": 4,
          "smoker": "Yes",
          "time": "Dinner",
          "tip": 3,
          "total_bill": 38.01
         },
         {
          "day": "Sat",
          "sex": "Female",
          "size": 2,
          "smoker": "No",
          "time": "Dinner",
          "tip": 1.5,
          "total_bill": 26.41
         },
         {
          "day": "Sat",
          "sex": "Male",
          "size": 2,
          "smoker": "Yes",
          "time": "Dinner",
          "tip": 1.76,
          "total_bill": 11.24
         },
         {
          "day": "Sat",
          "sex": "Male",
          "size": 4,
          "smoker": "No",
          "time": "Dinner",
          "tip": 6.73,
          "total_bill": 48.27
         },
         {
          "day": "Sat",
          "sex": "Male",
          "size": 2,
          "smoker": "Yes",
          "time": "Dinner",
          "tip": 3.21,
          "total_bill": 20.29
         },
         {
          "day": "Sat",
          "sex": "Male",
          "size": 2,
          "smoker": "Yes",
          "time": "Dinner",
          "tip": 2,
          "total_bill": 13.81
         },
         {
          "day": "Sat",
          "sex": "Male",
          "size": 2,
          "smoker": "Yes",
          "time": "Dinner",
          "tip": 1.98,
          "total_bill": 11.02
         },
         {
          "day": "Sat",
          "sex": "Male",
          "size": 4,
          "smoker": "Yes",
          "time": "Dinner",
          "tip": 3.76,
          "total_bill": 18.29
         },
         {
          "day": "Sat",
          "sex": "Male",
          "size": 3,
          "smoker": "No",
          "time": "Dinner",
          "tip": 2.64,
          "total_bill": 17.59
         },
         {
          "day": "Sat",
          "sex": "Male",
          "size": 3,
          "smoker": "No",
          "time": "Dinner",
          "tip": 3.15,
          "total_bill": 20.08
         },
         {
          "day": "Sat",
          "sex": "Female",
          "size": 2,
          "smoker": "No",
          "time": "Dinner",
          "tip": 2.47,
          "total_bill": 16.45
         },
         {
          "day": "Sat",
          "sex": "Female",
          "size": 1,
          "smoker": "Yes",
          "time": "Dinner",
          "tip": 1,
          "total_bill": 3.07
         },
         {
          "day": "Sat",
          "sex": "Male",
          "size": 2,
          "smoker": "No",
          "time": "Dinner",
          "tip": 2.01,
          "total_bill": 20.23
         },
         {
          "day": "Sat",
          "sex": "Male",
          "size": 2,
          "smoker": "Yes",
          "time": "Dinner",
          "tip": 2.09,
          "total_bill": 15.01
         },
         {
          "day": "Sat",
          "sex": "Male",
          "size": 2,
          "smoker": "No",
          "time": "Dinner",
          "tip": 1.97,
          "total_bill": 12.02
         },
         {
          "day": "Sat",
          "sex": "Female",
          "size": 3,
          "smoker": "No",
          "time": "Dinner",
          "tip": 3,
          "total_bill": 17.07
         },
         {
          "day": "Sat",
          "sex": "Female",
          "size": 2,
          "smoker": "Yes",
          "time": "Dinner",
          "tip": 3.14,
          "total_bill": 26.86
         },
         {
          "day": "Sat",
          "sex": "Female",
          "size": 2,
          "smoker": "Yes",
          "time": "Dinner",
          "tip": 5,
          "total_bill": 25.28
         },
         {
          "day": "Sat",
          "sex": "Female",
          "size": 2,
          "smoker": "No",
          "time": "Dinner",
          "tip": 2.2,
          "total_bill": 14.73
         },
         {
          "day": "Sat",
          "sex": "Male",
          "size": 2,
          "smoker": "No",
          "time": "Dinner",
          "tip": 1.25,
          "total_bill": 10.51
         },
         {
          "day": "Sat",
          "sex": "Male",
          "size": 2,
          "smoker": "Yes",
          "time": "Dinner",
          "tip": 3.08,
          "total_bill": 17.92
         },
         {
          "day": "Thur",
          "sex": "Male",
          "size": 4,
          "smoker": "No",
          "time": "Lunch",
          "tip": 4,
          "total_bill": 27.2
         },
         {
          "day": "Thur",
          "sex": "Male",
          "size": 2,
          "smoker": "No",
          "time": "Lunch",
          "tip": 3,
          "total_bill": 22.76
         },
         {
          "day": "Thur",
          "sex": "Male",
          "size": 2,
          "smoker": "No",
          "time": "Lunch",
          "tip": 2.71,
          "total_bill": 17.29
         },
         {
          "day": "Thur",
          "sex": "Male",
          "size": 2,
          "smoker": "Yes",
          "time": "Lunch",
          "tip": 3,
          "total_bill": 19.44
         },
         {
          "day": "Thur",
          "sex": "Male",
          "size": 2,
          "smoker": "No",
          "time": "Lunch",
          "tip": 3.4,
          "total_bill": 16.66
         },
         {
          "day": "Thur",
          "sex": "Female",
          "size": 1,
          "smoker": "No",
          "time": "Lunch",
          "tip": 1.83,
          "total_bill": 10.07
         },
         {
          "day": "Thur",
          "sex": "Male",
          "size": 2,
          "smoker": "Yes",
          "time": "Lunch",
          "tip": 5,
          "total_bill": 32.68
         },
         {
          "day": "Thur",
          "sex": "Male",
          "size": 2,
          "smoker": "No",
          "time": "Lunch",
          "tip": 2.03,
          "total_bill": 15.98
         },
         {
          "day": "Thur",
          "sex": "Female",
          "size": 4,
          "smoker": "No",
          "time": "Lunch",
          "tip": 5.17,
          "total_bill": 34.83
         },
         {
          "day": "Thur",
          "sex": "Male",
          "size": 2,
          "smoker": "No",
          "time": "Lunch",
          "tip": 2,
          "total_bill": 13.03
         },
         {
          "day": "Thur",
          "sex": "Male",
          "size": 2,
          "smoker": "No",
          "time": "Lunch",
          "tip": 4,
          "total_bill": 18.28
         },
         {
          "day": "Thur",
          "sex": "Male",
          "size": 2,
          "smoker": "No",
          "time": "Lunch",
          "tip": 5.85,
          "total_bill": 24.71
         },
         {
          "day": "Thur",
          "sex": "Male",
          "size": 2,
          "smoker": "No",
          "time": "Lunch",
          "tip": 3,
          "total_bill": 21.16
         },
         {
          "day": "Fri",
          "sex": "Male",
          "size": 2,
          "smoker": "Yes",
          "time": "Dinner",
          "tip": 3,
          "total_bill": 28.97
         },
         {
          "day": "Fri",
          "sex": "Male",
          "size": 2,
          "smoker": "No",
          "time": "Dinner",
          "tip": 3.5,
          "total_bill": 22.49
         },
         {
          "day": "Fri",
          "sex": "Female",
          "size": 2,
          "smoker": "Yes",
          "time": "Dinner",
          "tip": 1,
          "total_bill": 5.75
         },
         {
          "day": "Fri",
          "sex": "Female",
          "size": 2,
          "smoker": "Yes",
          "time": "Dinner",
          "tip": 4.3,
          "total_bill": 16.32
         },
         {
          "day": "Fri",
          "sex": "Female",
          "size": 2,
          "smoker": "No",
          "time": "Dinner",
          "tip": 3.25,
          "total_bill": 22.75
         },
         {
          "day": "Fri",
          "sex": "Male",
          "size": 4,
          "smoker": "Yes",
          "time": "Dinner",
          "tip": 4.73,
          "total_bill": 40.17
         },
         {
          "day": "Fri",
          "sex": "Male",
          "size": 2,
          "smoker": "Yes",
          "time": "Dinner",
          "tip": 4,
          "total_bill": 27.28
         },
         {
          "day": "Fri",
          "sex": "Male",
          "size": 2,
          "smoker": "Yes",
          "time": "Dinner",
          "tip": 1.5,
          "total_bill": 12.03
         },
         {
          "day": "Fri",
          "sex": "Male",
          "size": 2,
          "smoker": "Yes",
          "time": "Dinner",
          "tip": 3,
          "total_bill": 21.01
         },
         {
          "day": "Fri",
          "sex": "Male",
          "size": 2,
          "smoker": "No",
          "time": "Dinner",
          "tip": 1.5,
          "total_bill": 12.46
         },
         {
          "day": "Fri",
          "sex": "Female",
          "size": 2,
          "smoker": "Yes",
          "time": "Dinner",
          "tip": 2.5,
          "total_bill": 11.35
         },
         {
          "day": "Fri",
          "sex": "Female",
          "size": 2,
          "smoker": "Yes",
          "time": "Dinner",
          "tip": 3,
          "total_bill": 15.38
         },
         {
          "day": "Sat",
          "sex": "Female",
          "size": 3,
          "smoker": "Yes",
          "time": "Dinner",
          "tip": 2.5,
          "total_bill": 44.3
         },
         {
          "day": "Sat",
          "sex": "Female",
          "size": 2,
          "smoker": "Yes",
          "time": "Dinner",
          "tip": 3.48,
          "total_bill": 22.42
         },
         {
          "day": "Sat",
          "sex": "Female",
          "size": 2,
          "smoker": "No",
          "time": "Dinner",
          "tip": 4.08,
          "total_bill": 20.92
         },
         {
          "day": "Sat",
          "sex": "Male",
          "size": 2,
          "smoker": "Yes",
          "time": "Dinner",
          "tip": 1.64,
          "total_bill": 15.36
         },
         {
          "day": "Sat",
          "sex": "Male",
          "size": 2,
          "smoker": "Yes",
          "time": "Dinner",
          "tip": 4.06,
          "total_bill": 20.49
         },
         {
          "day": "Sat",
          "sex": "Male",
          "size": 2,
          "smoker": "Yes",
          "time": "Dinner",
          "tip": 4.29,
          "total_bill": 25.21
         },
         {
          "day": "Sat",
          "sex": "Male",
          "size": 2,
          "smoker": "No",
          "time": "Dinner",
          "tip": 3.76,
          "total_bill": 18.24
         },
         {
          "day": "Sat",
          "sex": "Female",
          "size": 2,
          "smoker": "Yes",
          "time": "Dinner",
          "tip": 4,
          "total_bill": 14.31
         },
         {
          "day": "Sat",
          "sex": "Male",
          "size": 2,
          "smoker": "No",
          "time": "Dinner",
          "tip": 3,
          "total_bill": 14
         },
         {
          "day": "Sat",
          "sex": "Female",
          "size": 1,
          "smoker": "No",
          "time": "Dinner",
          "tip": 1,
          "total_bill": 7.25
         },
         {
          "day": "Sun",
          "sex": "Male",
          "size": 3,
          "smoker": "No",
          "time": "Dinner",
          "tip": 4,
          "total_bill": 38.07
         },
         {
          "day": "Sun",
          "sex": "Male",
          "size": 2,
          "smoker": "No",
          "time": "Dinner",
          "tip": 2.55,
          "total_bill": 23.95
         },
         {
          "day": "Sun",
          "sex": "Female",
          "size": 3,
          "smoker": "No",
          "time": "Dinner",
          "tip": 4,
          "total_bill": 25.71
         },
         {
          "day": "Sun",
          "sex": "Female",
          "size": 2,
          "smoker": "No",
          "time": "Dinner",
          "tip": 3.5,
          "total_bill": 17.31
         },
         {
          "day": "Sun",
          "sex": "Male",
          "size": 4,
          "smoker": "No",
          "time": "Dinner",
          "tip": 5.07,
          "total_bill": 29.93
         },
         {
          "day": "Thur",
          "sex": "Female",
          "size": 2,
          "smoker": "No",
          "time": "Lunch",
          "tip": 1.5,
          "total_bill": 10.65
         },
         {
          "day": "Thur",
          "sex": "Female",
          "size": 2,
          "smoker": "No",
          "time": "Lunch",
          "tip": 1.8,
          "total_bill": 12.43
         },
         {
          "day": "Thur",
          "sex": "Female",
          "size": 4,
          "smoker": "No",
          "time": "Lunch",
          "tip": 2.92,
          "total_bill": 24.08
         },
         {
          "day": "Thur",
          "sex": "Male",
          "size": 2,
          "smoker": "No",
          "time": "Lunch",
          "tip": 2.31,
          "total_bill": 11.69
         },
         {
          "day": "Thur",
          "sex": "Female",
          "size": 2,
          "smoker": "No",
          "time": "Lunch",
          "tip": 1.68,
          "total_bill": 13.42
         },
         {
          "day": "Thur",
          "sex": "Male",
          "size": 2,
          "smoker": "No",
          "time": "Lunch",
          "tip": 2.5,
          "total_bill": 14.26
         },
         {
          "day": "Thur",
          "sex": "Male",
          "size": 2,
          "smoker": "No",
          "time": "Lunch",
          "tip": 2,
          "total_bill": 15.95
         },
         {
          "day": "Thur",
          "sex": "Female",
          "size": 2,
          "smoker": "No",
          "time": "Lunch",
          "tip": 2.52,
          "total_bill": 12.48
         },
         {
          "day": "Thur",
          "sex": "Female",
          "size": 6,
          "smoker": "No",
          "time": "Lunch",
          "tip": 4.2,
          "total_bill": 29.8
         },
         {
          "day": "Thur",
          "sex": "Male",
          "size": 2,
          "smoker": "No",
          "time": "Lunch",
          "tip": 1.48,
          "total_bill": 8.52
         },
         {
          "day": "Thur",
          "sex": "Female",
          "size": 2,
          "smoker": "No",
          "time": "Lunch",
          "tip": 2,
          "total_bill": 14.52
         },
         {
          "day": "Thur",
          "sex": "Female",
          "size": 2,
          "smoker": "No",
          "time": "Lunch",
          "tip": 2,
          "total_bill": 11.38
         },
         {
          "day": "Thur",
          "sex": "Male",
          "size": 3,
          "smoker": "No",
          "time": "Lunch",
          "tip": 2.18,
          "total_bill": 22.82
         },
         {
          "day": "Thur",
          "sex": "Male",
          "size": 2,
          "smoker": "No",
          "time": "Lunch",
          "tip": 1.5,
          "total_bill": 19.08
         },
         {
          "day": "Thur",
          "sex": "Female",
          "size": 2,
          "smoker": "No",
          "time": "Lunch",
          "tip": 2.83,
          "total_bill": 20.27
         },
         {
          "day": "Thur",
          "sex": "Female",
          "size": 2,
          "smoker": "No",
          "time": "Lunch",
          "tip": 1.5,
          "total_bill": 11.17
         },
         {
          "day": "Thur",
          "sex": "Female",
          "size": 2,
          "smoker": "No",
          "time": "Lunch",
          "tip": 2,
          "total_bill": 12.26
         },
         {
          "day": "Thur",
          "sex": "Female",
          "size": 2,
          "smoker": "No",
          "time": "Lunch",
          "tip": 3.25,
          "total_bill": 18.26
         },
         {
          "day": "Thur",
          "sex": "Female",
          "size": 2,
          "smoker": "No",
          "time": "Lunch",
          "tip": 1.25,
          "total_bill": 8.51
         },
         {
          "day": "Thur",
          "sex": "Female",
          "size": 2,
          "smoker": "No",
          "time": "Lunch",
          "tip": 2,
          "total_bill": 10.33
         },
         {
          "day": "Thur",
          "sex": "Female",
          "size": 2,
          "smoker": "No",
          "time": "Lunch",
          "tip": 2,
          "total_bill": 14.15
         },
         {
          "day": "Thur",
          "sex": "Male",
          "size": 2,
          "smoker": "Yes",
          "time": "Lunch",
          "tip": 2,
          "total_bill": 16
         },
         {
          "day": "Thur",
          "sex": "Female",
          "size": 2,
          "smoker": "No",
          "time": "Lunch",
          "tip": 2.75,
          "total_bill": 13.16
         },
         {
          "day": "Thur",
          "sex": "Female",
          "size": 2,
          "smoker": "No",
          "time": "Lunch",
          "tip": 3.5,
          "total_bill": 17.47
         },
         {
          "day": "Thur",
          "sex": "Male",
          "size": 6,
          "smoker": "No",
          "time": "Lunch",
          "tip": 6.7,
          "total_bill": 34.3
         },
         {
          "day": "Thur",
          "sex": "Male",
          "size": 5,
          "smoker": "No",
          "time": "Lunch",
          "tip": 5,
          "total_bill": 41.19
         },
         {
          "day": "Thur",
          "sex": "Female",
          "size": 6,
          "smoker": "No",
          "time": "Lunch",
          "tip": 5,
          "total_bill": 27.05
         },
         {
          "day": "Thur",
          "sex": "Female",
          "size": 2,
          "smoker": "No",
          "time": "Lunch",
          "tip": 2.3,
          "total_bill": 16.43
         },
         {
          "day": "Thur",
          "sex": "Female",
          "size": 2,
          "smoker": "No",
          "time": "Lunch",
          "tip": 1.5,
          "total_bill": 8.35
         },
         {
          "day": "Thur",
          "sex": "Female",
          "size": 3,
          "smoker": "No",
          "time": "Lunch",
          "tip": 1.36,
          "total_bill": 18.64
         },
         {
          "day": "Thur",
          "sex": "Female",
          "size": 2,
          "smoker": "No",
          "time": "Lunch",
          "tip": 1.63,
          "total_bill": 11.87
         },
         {
          "day": "Thur",
          "sex": "Male",
          "size": 2,
          "smoker": "No",
          "time": "Lunch",
          "tip": 1.73,
          "total_bill": 9.78
         },
         {
          "day": "Thur",
          "sex": "Male",
          "size": 2,
          "smoker": "No",
          "time": "Lunch",
          "tip": 2,
          "total_bill": 7.51
         },
         {
          "day": "Sun",
          "sex": "Male",
          "size": 2,
          "smoker": "No",
          "time": "Dinner",
          "tip": 2.5,
          "total_bill": 14.07
         },
         {
          "day": "Sun",
          "sex": "Male",
          "size": 2,
          "smoker": "No",
          "time": "Dinner",
          "tip": 2,
          "total_bill": 13.13
         },
         {
          "day": "Sun",
          "sex": "Male",
          "size": 3,
          "smoker": "No",
          "time": "Dinner",
          "tip": 2.74,
          "total_bill": 17.26
         },
         {
          "day": "Sun",
          "sex": "Male",
          "size": 4,
          "smoker": "No",
          "time": "Dinner",
          "tip": 2,
          "total_bill": 24.55
         },
         {
          "day": "Sun",
          "sex": "Male",
          "size": 4,
          "smoker": "No",
          "time": "Dinner",
          "tip": 2,
          "total_bill": 19.77
         },
         {
          "day": "Sun",
          "sex": "Female",
          "size": 5,
          "smoker": "No",
          "time": "Dinner",
          "tip": 5.14,
          "total_bill": 29.85
         },
         {
          "day": "Sun",
          "sex": "Male",
          "size": 6,
          "smoker": "No",
          "time": "Dinner",
          "tip": 5,
          "total_bill": 48.17
         },
         {
          "day": "Sun",
          "sex": "Female",
          "size": 4,
          "smoker": "No",
          "time": "Dinner",
          "tip": 3.75,
          "total_bill": 25
         },
         {
          "day": "Sun",
          "sex": "Female",
          "size": 2,
          "smoker": "No",
          "time": "Dinner",
          "tip": 2.61,
          "total_bill": 13.39
         },
         {
          "day": "Sun",
          "sex": "Male",
          "size": 4,
          "smoker": "No",
          "time": "Dinner",
          "tip": 2,
          "total_bill": 16.49
         },
         {
          "day": "Sun",
          "sex": "Male",
          "size": 4,
          "smoker": "No",
          "time": "Dinner",
          "tip": 3.5,
          "total_bill": 21.5
         },
         {
          "day": "Sun",
          "sex": "Male",
          "size": 2,
          "smoker": "No",
          "time": "Dinner",
          "tip": 2.5,
          "total_bill": 12.66
         },
         {
          "day": "Sun",
          "sex": "Female",
          "size": 3,
          "smoker": "No",
          "time": "Dinner",
          "tip": 2,
          "total_bill": 16.21
         },
         {
          "day": "Sun",
          "sex": "Male",
          "size": 2,
          "smoker": "No",
          "time": "Dinner",
          "tip": 2,
          "total_bill": 13.81
         },
         {
          "day": "Sun",
          "sex": "Female",
          "size": 2,
          "smoker": "Yes",
          "time": "Dinner",
          "tip": 3,
          "total_bill": 17.51
         },
         {
          "day": "Sun",
          "sex": "Male",
          "size": 3,
          "smoker": "No",
          "time": "Dinner",
          "tip": 3.48,
          "total_bill": 24.52
         },
         {
          "day": "Sun",
          "sex": "Male",
          "size": 2,
          "smoker": "No",
          "time": "Dinner",
          "tip": 2.24,
          "total_bill": 20.76
         },
         {
          "day": "Sun",
          "sex": "Male",
          "size": 4,
          "smoker": "No",
          "time": "Dinner",
          "tip": 4.5,
          "total_bill": 31.71
         },
         {
          "day": "Sat",
          "sex": "Female",
          "size": 2,
          "smoker": "Yes",
          "time": "Dinner",
          "tip": 1.61,
          "total_bill": 10.59
         },
         {
          "day": "Sat",
          "sex": "Female",
          "size": 2,
          "smoker": "Yes",
          "time": "Dinner",
          "tip": 2,
          "total_bill": 10.63
         },
         {
          "day": "Sat",
          "sex": "Male",
          "size": 3,
          "smoker": "Yes",
          "time": "Dinner",
          "tip": 10,
          "total_bill": 50.81
         },
         {
          "day": "Sat",
          "sex": "Male",
          "size": 2,
          "smoker": "Yes",
          "time": "Dinner",
          "tip": 3.16,
          "total_bill": 15.81
         },
         {
          "day": "Sun",
          "sex": "Male",
          "size": 2,
          "smoker": "Yes",
          "time": "Dinner",
          "tip": 5.15,
          "total_bill": 7.25
         },
         {
          "day": "Sun",
          "sex": "Male",
          "size": 2,
          "smoker": "Yes",
          "time": "Dinner",
          "tip": 3.18,
          "total_bill": 31.85
         },
         {
          "day": "Sun",
          "sex": "Male",
          "size": 2,
          "smoker": "Yes",
          "time": "Dinner",
          "tip": 4,
          "total_bill": 16.82
         },
         {
          "day": "Sun",
          "sex": "Male",
          "size": 2,
          "smoker": "Yes",
          "time": "Dinner",
          "tip": 3.11,
          "total_bill": 32.9
         },
         {
          "day": "Sun",
          "sex": "Male",
          "size": 2,
          "smoker": "Yes",
          "time": "Dinner",
          "tip": 2,
          "total_bill": 17.89
         },
         {
          "day": "Sun",
          "sex": "Male",
          "size": 2,
          "smoker": "Yes",
          "time": "Dinner",
          "tip": 2,
          "total_bill": 14.48
         },
         {
          "day": "Sun",
          "sex": "Female",
          "size": 2,
          "smoker": "Yes",
          "time": "Dinner",
          "tip": 4,
          "total_bill": 9.6
         },
         {
          "day": "Sun",
          "sex": "Male",
          "size": 2,
          "smoker": "Yes",
          "time": "Dinner",
          "tip": 3.55,
          "total_bill": 34.63
         },
         {
          "day": "Sun",
          "sex": "Male",
          "size": 4,
          "smoker": "Yes",
          "time": "Dinner",
          "tip": 3.68,
          "total_bill": 34.65
         },
         {
          "day": "Sun",
          "sex": "Male",
          "size": 2,
          "smoker": "Yes",
          "time": "Dinner",
          "tip": 5.65,
          "total_bill": 23.33
         },
         {
          "day": "Sun",
          "sex": "Male",
          "size": 3,
          "smoker": "Yes",
          "time": "Dinner",
          "tip": 3.5,
          "total_bill": 45.35
         },
         {
          "day": "Sun",
          "sex": "Male",
          "size": 4,
          "smoker": "Yes",
          "time": "Dinner",
          "tip": 6.5,
          "total_bill": 23.17
         },
         {
          "day": "Sun",
          "sex": "Male",
          "size": 2,
          "smoker": "Yes",
          "time": "Dinner",
          "tip": 3,
          "total_bill": 40.55
         },
         {
          "day": "Sun",
          "sex": "Male",
          "size": 5,
          "smoker": "No",
          "time": "Dinner",
          "tip": 5,
          "total_bill": 20.69
         },
         {
          "day": "Sun",
          "sex": "Female",
          "size": 3,
          "smoker": "Yes",
          "time": "Dinner",
          "tip": 3.5,
          "total_bill": 20.9
         },
         {
          "day": "Sun",
          "sex": "Male",
          "size": 5,
          "smoker": "Yes",
          "time": "Dinner",
          "tip": 2,
          "total_bill": 30.46
         },
         {
          "day": "Sun",
          "sex": "Female",
          "size": 3,
          "smoker": "Yes",
          "time": "Dinner",
          "tip": 3.5,
          "total_bill": 18.15
         },
         {
          "day": "Sun",
          "sex": "Male",
          "size": 3,
          "smoker": "Yes",
          "time": "Dinner",
          "tip": 4,
          "total_bill": 23.1
         },
         {
          "day": "Sun",
          "sex": "Male",
          "size": 2,
          "smoker": "Yes",
          "time": "Dinner",
          "tip": 1.5,
          "total_bill": 15.69
         },
         {
          "day": "Thur",
          "sex": "Female",
          "size": 2,
          "smoker": "Yes",
          "time": "Lunch",
          "tip": 4.19,
          "total_bill": 19.81
         },
         {
          "day": "Thur",
          "sex": "Male",
          "size": 2,
          "smoker": "Yes",
          "time": "Lunch",
          "tip": 2.56,
          "total_bill": 28.44
         },
         {
          "day": "Thur",
          "sex": "Male",
          "size": 2,
          "smoker": "Yes",
          "time": "Lunch",
          "tip": 2.02,
          "total_bill": 15.48
         },
         {
          "day": "Thur",
          "sex": "Male",
          "size": 2,
          "smoker": "Yes",
          "time": "Lunch",
          "tip": 4,
          "total_bill": 16.58
         },
         {
          "day": "Thur",
          "sex": "Male",
          "size": 2,
          "smoker": "No",
          "time": "Lunch",
          "tip": 1.44,
          "total_bill": 7.56
         },
         {
          "day": "Thur",
          "sex": "Male",
          "size": 2,
          "smoker": "Yes",
          "time": "Lunch",
          "tip": 2,
          "total_bill": 10.34
         },
         {
          "day": "Thur",
          "sex": "Female",
          "size": 4,
          "smoker": "Yes",
          "time": "Lunch",
          "tip": 5,
          "total_bill": 43.11
         },
         {
          "day": "Thur",
          "sex": "Female",
          "size": 2,
          "smoker": "Yes",
          "time": "Lunch",
          "tip": 2,
          "total_bill": 13
         },
         {
          "day": "Thur",
          "sex": "Male",
          "size": 2,
          "smoker": "Yes",
          "time": "Lunch",
          "tip": 2,
          "total_bill": 13.51
         },
         {
          "day": "Thur",
          "sex": "Male",
          "size": 3,
          "smoker": "Yes",
          "time": "Lunch",
          "tip": 4,
          "total_bill": 18.71
         },
         {
          "day": "Thur",
          "sex": "Female",
          "size": 2,
          "smoker": "Yes",
          "time": "Lunch",
          "tip": 2.01,
          "total_bill": 12.74
         },
         {
          "day": "Thur",
          "sex": "Female",
          "size": 2,
          "smoker": "Yes",
          "time": "Lunch",
          "tip": 2,
          "total_bill": 13
         },
         {
          "day": "Thur",
          "sex": "Female",
          "size": 2,
          "smoker": "Yes",
          "time": "Lunch",
          "tip": 2.5,
          "total_bill": 16.4
         },
         {
          "day": "Thur",
          "sex": "Male",
          "size": 4,
          "smoker": "Yes",
          "time": "Lunch",
          "tip": 4,
          "total_bill": 20.53
         },
         {
          "day": "Thur",
          "sex": "Female",
          "size": 3,
          "smoker": "Yes",
          "time": "Lunch",
          "tip": 3.23,
          "total_bill": 16.47
         },
         {
          "day": "Sat",
          "sex": "Male",
          "size": 3,
          "smoker": "Yes",
          "time": "Dinner",
          "tip": 3.41,
          "total_bill": 26.59
         },
         {
          "day": "Sat",
          "sex": "Male",
          "size": 4,
          "smoker": "Yes",
          "time": "Dinner",
          "tip": 3,
          "total_bill": 38.73
         },
         {
          "day": "Sat",
          "sex": "Male",
          "size": 2,
          "smoker": "Yes",
          "time": "Dinner",
          "tip": 2.03,
          "total_bill": 24.27
         },
         {
          "day": "Sat",
          "sex": "Female",
          "size": 2,
          "smoker": "Yes",
          "time": "Dinner",
          "tip": 2.23,
          "total_bill": 12.76
         },
         {
          "day": "Sat",
          "sex": "Male",
          "size": 3,
          "smoker": "Yes",
          "time": "Dinner",
          "tip": 2,
          "total_bill": 30.06
         },
         {
          "day": "Sat",
          "sex": "Male",
          "size": 4,
          "smoker": "Yes",
          "time": "Dinner",
          "tip": 5.16,
          "total_bill": 25.89
         },
         {
          "day": "Sat",
          "sex": "Male",
          "size": 4,
          "smoker": "No",
          "time": "Dinner",
          "tip": 9,
          "total_bill": 48.33
         },
         {
          "day": "Sat",
          "sex": "Female",
          "size": 2,
          "smoker": "Yes",
          "time": "Dinner",
          "tip": 2.5,
          "total_bill": 13.27
         },
         {
          "day": "Sat",
          "sex": "Female",
          "size": 3,
          "smoker": "Yes",
          "time": "Dinner",
          "tip": 6.5,
          "total_bill": 28.17
         },
         {
          "day": "Sat",
          "sex": "Female",
          "size": 2,
          "smoker": "Yes",
          "time": "Dinner",
          "tip": 1.1,
          "total_bill": 12.9
         },
         {
          "day": "Sat",
          "sex": "Male",
          "size": 5,
          "smoker": "Yes",
          "time": "Dinner",
          "tip": 3,
          "total_bill": 28.15
         },
         {
          "day": "Sat",
          "sex": "Male",
          "size": 2,
          "smoker": "Yes",
          "time": "Dinner",
          "tip": 1.5,
          "total_bill": 11.59
         },
         {
          "day": "Sat",
          "sex": "Male",
          "size": 2,
          "smoker": "Yes",
          "time": "Dinner",
          "tip": 1.44,
          "total_bill": 7.74
         },
         {
          "day": "Sat",
          "sex": "Female",
          "size": 4,
          "smoker": "Yes",
          "time": "Dinner",
          "tip": 3.09,
          "total_bill": 30.14
         },
         {
          "day": "Fri",
          "sex": "Male",
          "size": 2,
          "smoker": "Yes",
          "time": "Lunch",
          "tip": 2.2,
          "total_bill": 12.16
         },
         {
          "day": "Fri",
          "sex": "Female",
          "size": 2,
          "smoker": "Yes",
          "time": "Lunch",
          "tip": 3.48,
          "total_bill": 13.42
         },
         {
          "day": "Fri",
          "sex": "Male",
          "size": 1,
          "smoker": "Yes",
          "time": "Lunch",
          "tip": 1.92,
          "total_bill": 8.58
         },
         {
          "day": "Fri",
          "sex": "Female",
          "size": 3,
          "smoker": "No",
          "time": "Lunch",
          "tip": 3,
          "total_bill": 15.98
         },
         {
          "day": "Fri",
          "sex": "Male",
          "size": 2,
          "smoker": "Yes",
          "time": "Lunch",
          "tip": 1.58,
          "total_bill": 13.42
         },
         {
          "day": "Fri",
          "sex": "Female",
          "size": 2,
          "smoker": "Yes",
          "time": "Lunch",
          "tip": 2.5,
          "total_bill": 16.27
         },
         {
          "day": "Fri",
          "sex": "Female",
          "size": 2,
          "smoker": "Yes",
          "time": "Lunch",
          "tip": 2,
          "total_bill": 10.09
         },
         {
          "day": "Sat",
          "sex": "Male",
          "size": 4,
          "smoker": "No",
          "time": "Dinner",
          "tip": 3,
          "total_bill": 20.45
         },
         {
          "day": "Sat",
          "sex": "Male",
          "size": 2,
          "smoker": "No",
          "time": "Dinner",
          "tip": 2.72,
          "total_bill": 13.28
         },
         {
          "day": "Sat",
          "sex": "Female",
          "size": 2,
          "smoker": "Yes",
          "time": "Dinner",
          "tip": 2.88,
          "total_bill": 22.12
         },
         {
          "day": "Sat",
          "sex": "Male",
          "size": 4,
          "smoker": "Yes",
          "time": "Dinner",
          "tip": 2,
          "total_bill": 24.01
         },
         {
          "day": "Sat",
          "sex": "Male",
          "size": 3,
          "smoker": "Yes",
          "time": "Dinner",
          "tip": 3,
          "total_bill": 15.69
         },
         {
          "day": "Sat",
          "sex": "Male",
          "size": 2,
          "smoker": "No",
          "time": "Dinner",
          "tip": 3.39,
          "total_bill": 11.61
         },
         {
          "day": "Sat",
          "sex": "Male",
          "size": 2,
          "smoker": "No",
          "time": "Dinner",
          "tip": 1.47,
          "total_bill": 10.77
         },
         {
          "day": "Sat",
          "sex": "Male",
          "size": 2,
          "smoker": "Yes",
          "time": "Dinner",
          "tip": 3,
          "total_bill": 15.53
         },
         {
          "day": "Sat",
          "sex": "Male",
          "size": 2,
          "smoker": "No",
          "time": "Dinner",
          "tip": 1.25,
          "total_bill": 10.07
         },
         {
          "day": "Sat",
          "sex": "Male",
          "size": 2,
          "smoker": "Yes",
          "time": "Dinner",
          "tip": 1,
          "total_bill": 12.6
         },
         {
          "day": "Sat",
          "sex": "Male",
          "size": 2,
          "smoker": "Yes",
          "time": "Dinner",
          "tip": 1.17,
          "total_bill": 32.83
         },
         {
          "day": "Sat",
          "sex": "Female",
          "size": 3,
          "smoker": "No",
          "time": "Dinner",
          "tip": 4.67,
          "total_bill": 35.83
         },
         {
          "day": "Sat",
          "sex": "Male",
          "size": 3,
          "smoker": "No",
          "time": "Dinner",
          "tip": 5.92,
          "total_bill": 29.03
         },
         {
          "day": "Sat",
          "sex": "Female",
          "size": 2,
          "smoker": "Yes",
          "time": "Dinner",
          "tip": 2,
          "total_bill": 27.18
         },
         {
          "day": "Sat",
          "sex": "Male",
          "size": 2,
          "smoker": "Yes",
          "time": "Dinner",
          "tip": 2,
          "total_bill": 22.67
         },
         {
          "day": "Sat",
          "sex": "Male",
          "size": 2,
          "smoker": "No",
          "time": "Dinner",
          "tip": 1.75,
          "total_bill": 17.82
         },
         {
          "day": "Thur",
          "sex": "Female",
          "size": 2,
          "smoker": "No",
          "time": "Dinner",
          "tip": 3,
          "total_bill": 18.78
         }
        ]
       },
       "layer": [
        {
         "encoding": {
          "color": {
           "field": "time",
           "legend": null,
           "type": "nominal"
          },
          "x": {
           "field": "time",
           "type": "nominal"
          },
          "y": {
           "aggregate": "mean",
           "axis": {
            "title": "tip"
           },
           "field": "tip",
           "type": "quantitative"
          }
         },
         "mark": "bar"
        },
        {
         "encoding": {
          "x": {
           "field": "time",
           "type": "nominal"
          },
          "y": {
           "aggregate": "ci0",
           "field": "tip",
           "type": "quantitative"
          },
          "y2": {
           "aggregate": "ci1",
           "field": "tip",
           "type": "quantitative"
          }
         },
         "mark": "rule"
        }
       ]
      },
      "image/png": "[encoded data removed]",
      "text/plain": [
       "<VegaLite 2 object>\n",
       "\n",
       "If you see this message, it means the renderer has not been properly enabled\n",
       "for the frontend that you are using. For more information, see\n",
       "https://altair-viz.github.io/user_guide/troubleshooting.html\n"
      ]
     },
     "metadata": {},
     "output_type": "display_data"
    },
    {
     "data": {
      "image/png": "[encoded data removed]",
      "text/plain": [
       "<Figure size 432x288 with 1 Axes>"
      ]
     },
     "metadata": {},
     "output_type": "display_data"
    }
   ],
   "source": [
    "display(salt.barplot(x=\"time\", y=\"tip\", data=tips))\n",
    "ax = sns.barplot(x=\"time\", y=\"tip\", data=tips, order=[\"Lunch\", \"Dinner\"])"
   ]
  },
  {
   "cell_type": "code",
   "execution_count": 10,
   "metadata": {},
   "outputs": [
    {
     "data": {
      "application/vnd.vegalite.v2+json": {
       "$schema": "https://vega.github.io/schema/vega-lite/v2.4.1.json",
       "config": {
        "range": {
         "category": [
          "rgba(49.62499999999999,115.62499999999996,161.37500000000003,1)",
          "rgba(224.87499999999997,128.875,44.12500000000004,1)",
          "rgba(58.49999999999999,145.50000000000003,58.49999999999999,1)",
          "rgba(192.125,60.87500000000001,61.62499999999999,1)",
          "rgba(147.49999999999994,113.74999999999999,178.25,1)",
          "rgba(131.875,91.37500000000001,83.12500000000001,1)",
          "rgba(213.50000000000003,132.49999999999997,188.74999999999994,1)",
          "rgba(127.0,127.0,127.0,1)",
          "rgba(168.87500000000003,169.625,53.37500000000001,1)",
          "rgba(45.99999999999998,171.25,184.00000000000003,1)"
         ]
        },
        "view": {
         "height": 300,
         "width": 400
        }
       },
       "data": {
        "values": [
         {
          "day": "Sun",
          "sex": "Female",
          "size": 2,
          "smoker": "No",
          "time": "Dinner",
          "tip": 1.01,
          "total_bill": 16.99
         },
         {
          "day": "Sun",
          "sex": "Male",
          "size": 3,
          "smoker": "No",
          "time": "Dinner",
          "tip": 1.66,
          "total_bill": 10.34
         },
         {
          "day": "Sun",
          "sex": "Male",
          "size": 3,
          "smoker": "No",
          "time": "Dinner",
          "tip": 3.5,
          "total_bill": 21.01
         },
         {
          "day": "Sun",
          "sex": "Male",
          "size": 2,
          "smoker": "No",
          "time": "Dinner",
          "tip": 3.31,
          "total_bill": 23.68
         },
         {
          "day": "Sun",
          "sex": "Female",
          "size": 4,
          "smoker": "No",
          "time": "Dinner",
          "tip": 3.61,
          "total_bill": 24.59
         },
         {
          "day": "Sun",
          "sex": "Male",
          "size": 4,
          "smoker": "No",
          "time": "Dinner",
          "tip": 4.71,
          "total_bill": 25.29
         },
         {
          "day": "Sun",
          "sex": "Male",
          "size": 2,
          "smoker": "No",
          "time": "Dinner",
          "tip": 2,
          "total_bill": 8.77
         },
         {
          "day": "Sun",
          "sex": "Male",
          "size": 4,
          "smoker": "No",
          "time": "Dinner",
          "tip": 3.12,
          "total_bill": 26.88
         },
         {
          "day": "Sun",
          "sex": "Male",
          "size": 2,
          "smoker": "No",
          "time": "Dinner",
          "tip": 1.96,
          "total_bill": 15.04
         },
         {
          "day": "Sun",
          "sex": "Male",
          "size": 2,
          "smoker": "No",
          "time": "Dinner",
          "tip": 3.23,
          "total_bill": 14.78
         },
         {
          "day": "Sun",
          "sex": "Male",
          "size": 2,
          "smoker": "No",
          "time": "Dinner",
          "tip": 1.71,
          "total_bill": 10.27
         },
         {
          "day": "Sun",
          "sex": "Female",
          "size": 4,
          "smoker": "No",
          "time": "Dinner",
          "tip": 5,
          "total_bill": 35.26
         },
         {
          "day": "Sun",
          "sex": "Male",
          "size": 2,
          "smoker": "No",
          "time": "Dinner",
          "tip": 1.57,
          "total_bill": 15.42
         },
         {
          "day": "Sun",
          "sex": "Male",
          "size": 4,
          "smoker": "No",
          "time": "Dinner",
          "tip": 3,
          "total_bill": 18.43
         },
         {
          "day": "Sun",
          "sex": "Female",
          "size": 2,
          "smoker": "No",
          "time": "Dinner",
          "tip": 3.02,
          "total_bill": 14.83
         },
         {
          "day": "Sun",
          "sex": "Male",
          "size": 2,
          "smoker": "No",
          "time": "Dinner",
          "tip": 3.92,
          "total_bill": 21.58
         },
         {
          "day": "Sun",
          "sex": "Female",
          "size": 3,
          "smoker": "No",
          "time": "Dinner",
          "tip": 1.67,
          "total_bill": 10.33
         },
         {
          "day": "Sun",
          "sex": "Male",
          "size": 3,
          "smoker": "No",
          "time": "Dinner",
          "tip": 3.71,
          "total_bill": 16.29
         },
         {
          "day": "Sun",
          "sex": "Female",
          "size": 3,
          "smoker": "No",
          "time": "Dinner",
          "tip": 3.5,
          "total_bill": 16.97
         },
         {
          "day": "Sat",
          "sex": "Male",
          "size": 3,
          "smoker": "No",
          "time": "Dinner",
          "tip": 3.35,
          "total_bill": 20.65
         },
         {
          "day": "Sat",
          "sex": "Male",
          "size": 2,
          "smoker": "No",
          "time": "Dinner",
          "tip": 4.08,
          "total_bill": 17.92
         },
         {
          "day": "Sat",
          "sex": "Female",
          "size": 2,
          "smoker": "No",
          "time": "Dinner",
          "tip": 2.75,
          "total_bill": 20.29
         },
         {
          "day": "Sat",
          "sex": "Female",
          "size": 2,
          "smoker": "No",
          "time": "Dinner",
          "tip": 2.23,
          "total_bill": 15.77
         },
         {
          "day": "Sat",
          "sex": "Male",
          "size": 4,
          "smoker": "No",
          "time": "Dinner",
          "tip": 7.58,
          "total_bill": 39.42
         },
         {
          "day": "Sat",
          "sex": "Male",
          "size": 2,
          "smoker": "No",
          "time": "Dinner",
          "tip": 3.18,
          "total_bill": 19.82
         },
         {
          "day": "Sat",
          "sex": "Male",
          "size": 4,
          "smoker": "No",
          "time": "Dinner",
          "tip": 2.34,
          "total_bill": 17.81
         },
         {
          "day": "Sat",
          "sex": "Male",
          "size": 2,
          "smoker": "No",
          "time": "Dinner",
          "tip": 2,
          "total_bill": 13.37
         },
         {
          "day": "Sat",
          "sex": "Male",
          "size": 2,
          "smoker": "No",
          "time": "Dinner",
          "tip": 2,
          "total_bill": 12.69
         },
         {
          "day": "Sat",
          "sex": "Male",
          "size": 2,
          "smoker": "No",
          "time": "Dinner",
          "tip": 4.3,
          "total_bill": 21.7
         },
         {
          "day": "Sat",
          "sex": "Female",
          "size": 2,
          "smoker": "No",
          "time": "Dinner",
          "tip": 3,
          "total_bill": 19.65
         },
         {
          "day": "Sat",
          "sex": "Male",
          "size": 2,
          "smoker": "No",
          "time": "Dinner",
          "tip": 1.45,
          "total_bill": 9.55
         },
         {
          "day": "Sat",
          "sex": "Male",
          "size": 4,
          "smoker": "No",
          "time": "Dinner",
          "tip": 2.5,
          "total_bill": 18.35
         },
         {
          "day": "Sat",
          "sex": "Female",
          "size": 2,
          "smoker": "No",
          "time": "Dinner",
          "tip": 3,
          "total_bill": 15.06
         },
         {
          "day": "Sat",
          "sex": "Female",
          "size": 4,
          "smoker": "No",
          "time": "Dinner",
          "tip": 2.45,
          "total_bill": 20.69
         },
         {
          "day": "Sat",
          "sex": "Male",
          "size": 2,
          "smoker": "No",
          "time": "Dinner",
          "tip": 3.27,
          "total_bill": 17.78
         },
         {
          "day": "Sat",
          "sex": "Male",
          "size": 3,
          "smoker": "No",
          "time": "Dinner",
          "tip": 3.6,
          "total_bill": 24.06
         },
         {
          "day": "Sat",
          "sex": "Male",
          "size": 3,
          "smoker": "No",
          "time": "Dinner",
          "tip": 2,
          "total_bill": 16.31
         },
         {
          "day": "Sat",
          "sex": "Female",
          "size": 3,
          "smoker": "No",
          "time": "Dinner",
          "tip": 3.07,
          "total_bill": 16.93
         },
         {
          "day": "Sat",
          "sex": "Male",
          "size": 3,
          "smoker": "No",
          "time": "Dinner",
          "tip": 2.31,
          "total_bill": 18.69
         },
         {
          "day": "Sat",
          "sex": "Male",
          "size": 3,
          "smoker": "No",
          "time": "Dinner",
          "tip": 5,
          "total_bill": 31.27
         },
         {
          "day": "Sat",
          "sex": "Male",
          "size": 3,
          "smoker": "No",
          "time": "Dinner",
          "tip": 2.24,
          "total_bill": 16.04
         },
         {
          "day": "Sun",
          "sex": "Male",
          "size": 2,
          "smoker": "No",
          "time": "Dinner",
          "tip": 2.54,
          "total_bill": 17.46
         },
         {
          "day": "Sun",
          "sex": "Male",
          "size": 2,
          "smoker": "No",
          "time": "Dinner",
          "tip": 3.06,
          "total_bill": 13.94
         },
         {
          "day": "Sun",
          "sex": "Male",
          "size": 2,
          "smoker": "No",
          "time": "Dinner",
          "tip": 1.32,
          "total_bill": 9.68
         },
         {
          "day": "Sun",
          "sex": "Male",
          "size": 4,
          "smoker": "No",
          "time": "Dinner",
          "tip": 5.6,
          "total_bill": 30.4
         },
         {
          "day": "Sun",
          "sex": "Male",
          "size": 2,
          "smoker": "No",
          "time": "Dinner",
          "tip": 3,
          "total_bill": 18.29
         },
         {
          "day": "Sun",
          "sex": "Male",
          "size": 2,
          "smoker": "No",
          "time": "Dinner",
          "tip": 5,
          "total_bill": 22.23
         },
         {
          "day": "Sun",
          "sex": "Male",
          "size": 4,
          "smoker": "No",
          "time": "Dinner",
          "tip": 6,
          "total_bill": 32.4
         },
         {
          "day": "Sun",
          "sex": "Male",
          "size": 3,
          "smoker": "No",
          "time": "Dinner",
          "tip": 2.05,
          "total_bill": 28.55
         },
         {
          "day": "Sun",
          "sex": "Male",
          "size": 2,
          "smoker": "No",
          "time": "Dinner",
          "tip": 3,
          "total_bill": 18.04
         },
         {
          "day": "Sun",
          "sex": "Male",
          "size": 2,
          "smoker": "No",
          "time": "Dinner",
          "tip": 2.5,
          "total_bill": 12.54
         },
         {
          "day": "Sun",
          "sex": "Female",
          "size": 2,
          "smoker": "No",
          "time": "Dinner",
          "tip": 2.6,
          "total_bill": 10.29
         },
         {
          "day": "Sun",
          "sex": "Female",
          "size": 4,
          "smoker": "No",
          "time": "Dinner",
          "tip": 5.2,
          "total_bill": 34.81
         },
         {
          "day": "Sun",
          "sex": "Male",
          "size": 2,
          "smoker": "No",
          "time": "Dinner",
          "tip": 1.56,
          "total_bill": 9.94
         },
         {
          "day": "Sun",
          "sex": "Male",
          "size": 4,
          "smoker": "No",
          "time": "Dinner",
          "tip": 4.34,
          "total_bill": 25.56
         },
         {
          "day": "Sun",
          "sex": "Male",
          "size": 2,
          "smoker": "No",
          "time": "Dinner",
          "tip": 3.51,
          "total_bill": 19.49
         },
         {
          "day": "Sat",
          "sex": "Male",
          "size": 4,
          "smoker": "Yes",
          "time": "Dinner",
          "tip": 3,
          "total_bill": 38.01
         },
         {
          "day": "Sat",
          "sex": "Female",
          "size": 2,
          "smoker": "No",
          "time": "Dinner",
          "tip": 1.5,
          "total_bill": 26.41
         },
         {
          "day": "Sat",
          "sex": "Male",
          "size": 2,
          "smoker": "Yes",
          "time": "Dinner",
          "tip": 1.76,
          "total_bill": 11.24
         },
         {
          "day": "Sat",
          "sex": "Male",
          "size": 4,
          "smoker": "No",
          "time": "Dinner",
          "tip": 6.73,
          "total_bill": 48.27
         },
         {
          "day": "Sat",
          "sex": "Male",
          "size": 2,
          "smoker": "Yes",
          "time": "Dinner",
          "tip": 3.21,
          "total_bill": 20.29
         },
         {
          "day": "Sat",
          "sex": "Male",
          "size": 2,
          "smoker": "Yes",
          "time": "Dinner",
          "tip": 2,
          "total_bill": 13.81
         },
         {
          "day": "Sat",
          "sex": "Male",
          "size": 2,
          "smoker": "Yes",
          "time": "Dinner",
          "tip": 1.98,
          "total_bill": 11.02
         },
         {
          "day": "Sat",
          "sex": "Male",
          "size": 4,
          "smoker": "Yes",
          "time": "Dinner",
          "tip": 3.76,
          "total_bill": 18.29
         },
         {
          "day": "Sat",
          "sex": "Male",
          "size": 3,
          "smoker": "No",
          "time": "Dinner",
          "tip": 2.64,
          "total_bill": 17.59
         },
         {
          "day": "Sat",
          "sex": "Male",
          "size": 3,
          "smoker": "No",
          "time": "Dinner",
          "tip": 3.15,
          "total_bill": 20.08
         },
         {
          "day": "Sat",
          "sex": "Female",
          "size": 2,
          "smoker": "No",
          "time": "Dinner",
          "tip": 2.47,
          "total_bill": 16.45
         },
         {
          "day": "Sat",
          "sex": "Female",
          "size": 1,
          "smoker": "Yes",
          "time": "Dinner",
          "tip": 1,
          "total_bill": 3.07
         },
         {
          "day": "Sat",
          "sex": "Male",
          "size": 2,
          "smoker": "No",
          "time": "Dinner",
          "tip": 2.01,
          "total_bill": 20.23
         },
         {
          "day": "Sat",
          "sex": "Male",
          "size": 2,
          "smoker": "Yes",
          "time": "Dinner",
          "tip": 2.09,
          "total_bill": 15.01
         },
         {
          "day": "Sat",
          "sex": "Male",
          "size": 2,
          "smoker": "No",
          "time": "Dinner",
          "tip": 1.97,
          "total_bill": 12.02
         },
         {
          "day": "Sat",
          "sex": "Female",
          "size": 3,
          "smoker": "No",
          "time": "Dinner",
          "tip": 3,
          "total_bill": 17.07
         },
         {
          "day": "Sat",
          "sex": "Female",
          "size": 2,
          "smoker": "Yes",
          "time": "Dinner",
          "tip": 3.14,
          "total_bill": 26.86
         },
         {
          "day": "Sat",
          "sex": "Female",
          "size": 2,
          "smoker": "Yes",
          "time": "Dinner",
          "tip": 5,
          "total_bill": 25.28
         },
         {
          "day": "Sat",
          "sex": "Female",
          "size": 2,
          "smoker": "No",
          "time": "Dinner",
          "tip": 2.2,
          "total_bill": 14.73
         },
         {
          "day": "Sat",
          "sex": "Male",
          "size": 2,
          "smoker": "No",
          "time": "Dinner",
          "tip": 1.25,
          "total_bill": 10.51
         },
         {
          "day": "Sat",
          "sex": "Male",
          "size": 2,
          "smoker": "Yes",
          "time": "Dinner",
          "tip": 3.08,
          "total_bill": 17.92
         },
         {
          "day": "Thur",
          "sex": "Male",
          "size": 4,
          "smoker": "No",
          "time": "Lunch",
          "tip": 4,
          "total_bill": 27.2
         },
         {
          "day": "Thur",
          "sex": "Male",
          "size": 2,
          "smoker": "No",
          "time": "Lunch",
          "tip": 3,
          "total_bill": 22.76
         },
         {
          "day": "Thur",
          "sex": "Male",
          "size": 2,
          "smoker": "No",
          "time": "Lunch",
          "tip": 2.71,
          "total_bill": 17.29
         },
         {
          "day": "Thur",
          "sex": "Male",
          "size": 2,
          "smoker": "Yes",
          "time": "Lunch",
          "tip": 3,
          "total_bill": 19.44
         },
         {
          "day": "Thur",
          "sex": "Male",
          "size": 2,
          "smoker": "No",
          "time": "Lunch",
          "tip": 3.4,
          "total_bill": 16.66
         },
         {
          "day": "Thur",
          "sex": "Female",
          "size": 1,
          "smoker": "No",
          "time": "Lunch",
          "tip": 1.83,
          "total_bill": 10.07
         },
         {
          "day": "Thur",
          "sex": "Male",
          "size": 2,
          "smoker": "Yes",
          "time": "Lunch",
          "tip": 5,
          "total_bill": 32.68
         },
         {
          "day": "Thur",
          "sex": "Male",
          "size": 2,
          "smoker": "No",
          "time": "Lunch",
          "tip": 2.03,
          "total_bill": 15.98
         },
         {
          "day": "Thur",
          "sex": "Female",
          "size": 4,
          "smoker": "No",
          "time": "Lunch",
          "tip": 5.17,
          "total_bill": 34.83
         },
         {
          "day": "Thur",
          "sex": "Male",
          "size": 2,
          "smoker": "No",
          "time": "Lunch",
          "tip": 2,
          "total_bill": 13.03
         },
         {
          "day": "Thur",
          "sex": "Male",
          "size": 2,
          "smoker": "No",
          "time": "Lunch",
          "tip": 4,
          "total_bill": 18.28
         },
         {
          "day": "Thur",
          "sex": "Male",
          "size": 2,
          "smoker": "No",
          "time": "Lunch",
          "tip": 5.85,
          "total_bill": 24.71
         },
         {
          "day": "Thur",
          "sex": "Male",
          "size": 2,
          "smoker": "No",
          "time": "Lunch",
          "tip": 3,
          "total_bill": 21.16
         },
         {
          "day": "Fri",
          "sex": "Male",
          "size": 2,
          "smoker": "Yes",
          "time": "Dinner",
          "tip": 3,
          "total_bill": 28.97
         },
         {
          "day": "Fri",
          "sex": "Male",
          "size": 2,
          "smoker": "No",
          "time": "Dinner",
          "tip": 3.5,
          "total_bill": 22.49
         },
         {
          "day": "Fri",
          "sex": "Female",
          "size": 2,
          "smoker": "Yes",
          "time": "Dinner",
          "tip": 1,
          "total_bill": 5.75
         },
         {
          "day": "Fri",
          "sex": "Female",
          "size": 2,
          "smoker": "Yes",
          "time": "Dinner",
          "tip": 4.3,
          "total_bill": 16.32
         },
         {
          "day": "Fri",
          "sex": "Female",
          "size": 2,
          "smoker": "No",
          "time": "Dinner",
          "tip": 3.25,
          "total_bill": 22.75
         },
         {
          "day": "Fri",
          "sex": "Male",
          "size": 4,
          "smoker": "Yes",
          "time": "Dinner",
          "tip": 4.73,
          "total_bill": 40.17
         },
         {
          "day": "Fri",
          "sex": "Male",
          "size": 2,
          "smoker": "Yes",
          "time": "Dinner",
          "tip": 4,
          "total_bill": 27.28
         },
         {
          "day": "Fri",
          "sex": "Male",
          "size": 2,
          "smoker": "Yes",
          "time": "Dinner",
          "tip": 1.5,
          "total_bill": 12.03
         },
         {
          "day": "Fri",
          "sex": "Male",
          "size": 2,
          "smoker": "Yes",
          "time": "Dinner",
          "tip": 3,
          "total_bill": 21.01
         },
         {
          "day": "Fri",
          "sex": "Male",
          "size": 2,
          "smoker": "No",
          "time": "Dinner",
          "tip": 1.5,
          "total_bill": 12.46
         },
         {
          "day": "Fri",
          "sex": "Female",
          "size": 2,
          "smoker": "Yes",
          "time": "Dinner",
          "tip": 2.5,
          "total_bill": 11.35
         },
         {
          "day": "Fri",
          "sex": "Female",
          "size": 2,
          "smoker": "Yes",
          "time": "Dinner",
          "tip": 3,
          "total_bill": 15.38
         },
         {
          "day": "Sat",
          "sex": "Female",
          "size": 3,
          "smoker": "Yes",
          "time": "Dinner",
          "tip": 2.5,
          "total_bill": 44.3
         },
         {
          "day": "Sat",
          "sex": "Female",
          "size": 2,
          "smoker": "Yes",
          "time": "Dinner",
          "tip": 3.48,
          "total_bill": 22.42
         },
         {
          "day": "Sat",
          "sex": "Female",
          "size": 2,
          "smoker": "No",
          "time": "Dinner",
          "tip": 4.08,
          "total_bill": 20.92
         },
         {
          "day": "Sat",
          "sex": "Male",
          "size": 2,
          "smoker": "Yes",
          "time": "Dinner",
          "tip": 1.64,
          "total_bill": 15.36
         },
         {
          "day": "Sat",
          "sex": "Male",
          "size": 2,
          "smoker": "Yes",
          "time": "Dinner",
          "tip": 4.06,
          "total_bill": 20.49
         },
         {
          "day": "Sat",
          "sex": "Male",
          "size": 2,
          "smoker": "Yes",
          "time": "Dinner",
          "tip": 4.29,
          "total_bill": 25.21
         },
         {
          "day": "Sat",
          "sex": "Male",
          "size": 2,
          "smoker": "No",
          "time": "Dinner",
          "tip": 3.76,
          "total_bill": 18.24
         },
         {
          "day": "Sat",
          "sex": "Female",
          "size": 2,
          "smoker": "Yes",
          "time": "Dinner",
          "tip": 4,
          "total_bill": 14.31
         },
         {
          "day": "Sat",
          "sex": "Male",
          "size": 2,
          "smoker": "No",
          "time": "Dinner",
          "tip": 3,
          "total_bill": 14
         },
         {
          "day": "Sat",
          "sex": "Female",
          "size": 1,
          "smoker": "No",
          "time": "Dinner",
          "tip": 1,
          "total_bill": 7.25
         },
         {
          "day": "Sun",
          "sex": "Male",
          "size": 3,
          "smoker": "No",
          "time": "Dinner",
          "tip": 4,
          "total_bill": 38.07
         },
         {
          "day": "Sun",
          "sex": "Male",
          "size": 2,
          "smoker": "No",
          "time": "Dinner",
          "tip": 2.55,
          "total_bill": 23.95
         },
         {
          "day": "Sun",
          "sex": "Female",
          "size": 3,
          "smoker": "No",
          "time": "Dinner",
          "tip": 4,
          "total_bill": 25.71
         },
         {
          "day": "Sun",
          "sex": "Female",
          "size": 2,
          "smoker": "No",
          "time": "Dinner",
          "tip": 3.5,
          "total_bill": 17.31
         },
         {
          "day": "Sun",
          "sex": "Male",
          "size": 4,
          "smoker": "No",
          "time": "Dinner",
          "tip": 5.07,
          "total_bill": 29.93
         },
         {
          "day": "Thur",
          "sex": "Female",
          "size": 2,
          "smoker": "No",
          "time": "Lunch",
          "tip": 1.5,
          "total_bill": 10.65
         },
         {
          "day": "Thur",
          "sex": "Female",
          "size": 2,
          "smoker": "No",
          "time": "Lunch",
          "tip": 1.8,
          "total_bill": 12.43
         },
         {
          "day": "Thur",
          "sex": "Female",
          "size": 4,
          "smoker": "No",
          "time": "Lunch",
          "tip": 2.92,
          "total_bill": 24.08
         },
         {
          "day": "Thur",
          "sex": "Male",
          "size": 2,
          "smoker": "No",
          "time": "Lunch",
          "tip": 2.31,
          "total_bill": 11.69
         },
         {
          "day": "Thur",
          "sex": "Female",
          "size": 2,
          "smoker": "No",
          "time": "Lunch",
          "tip": 1.68,
          "total_bill": 13.42
         },
         {
          "day": "Thur",
          "sex": "Male",
          "size": 2,
          "smoker": "No",
          "time": "Lunch",
          "tip": 2.5,
          "total_bill": 14.26
         },
         {
          "day": "Thur",
          "sex": "Male",
          "size": 2,
          "smoker": "No",
          "time": "Lunch",
          "tip": 2,
          "total_bill": 15.95
         },
         {
          "day": "Thur",
          "sex": "Female",
          "size": 2,
          "smoker": "No",
          "time": "Lunch",
          "tip": 2.52,
          "total_bill": 12.48
         },
         {
          "day": "Thur",
          "sex": "Female",
          "size": 6,
          "smoker": "No",
          "time": "Lunch",
          "tip": 4.2,
          "total_bill": 29.8
         },
         {
          "day": "Thur",
          "sex": "Male",
          "size": 2,
          "smoker": "No",
          "time": "Lunch",
          "tip": 1.48,
          "total_bill": 8.52
         },
         {
          "day": "Thur",
          "sex": "Female",
          "size": 2,
          "smoker": "No",
          "time": "Lunch",
          "tip": 2,
          "total_bill": 14.52
         },
         {
          "day": "Thur",
          "sex": "Female",
          "size": 2,
          "smoker": "No",
          "time": "Lunch",
          "tip": 2,
          "total_bill": 11.38
         },
         {
          "day": "Thur",
          "sex": "Male",
          "size": 3,
          "smoker": "No",
          "time": "Lunch",
          "tip": 2.18,
          "total_bill": 22.82
         },
         {
          "day": "Thur",
          "sex": "Male",
          "size": 2,
          "smoker": "No",
          "time": "Lunch",
          "tip": 1.5,
          "total_bill": 19.08
         },
         {
          "day": "Thur",
          "sex": "Female",
          "size": 2,
          "smoker": "No",
          "time": "Lunch",
          "tip": 2.83,
          "total_bill": 20.27
         },
         {
          "day": "Thur",
          "sex": "Female",
          "size": 2,
          "smoker": "No",
          "time": "Lunch",
          "tip": 1.5,
          "total_bill": 11.17
         },
         {
          "day": "Thur",
          "sex": "Female",
          "size": 2,
          "smoker": "No",
          "time": "Lunch",
          "tip": 2,
          "total_bill": 12.26
         },
         {
          "day": "Thur",
          "sex": "Female",
          "size": 2,
          "smoker": "No",
          "time": "Lunch",
          "tip": 3.25,
          "total_bill": 18.26
         },
         {
          "day": "Thur",
          "sex": "Female",
          "size": 2,
          "smoker": "No",
          "time": "Lunch",
          "tip": 1.25,
          "total_bill": 8.51
         },
         {
          "day": "Thur",
          "sex": "Female",
          "size": 2,
          "smoker": "No",
          "time": "Lunch",
          "tip": 2,
          "total_bill": 10.33
         },
         {
          "day": "Thur",
          "sex": "Female",
          "size": 2,
          "smoker": "No",
          "time": "Lunch",
          "tip": 2,
          "total_bill": 14.15
         },
         {
          "day": "Thur",
          "sex": "Male",
          "size": 2,
          "smoker": "Yes",
          "time": "Lunch",
          "tip": 2,
          "total_bill": 16
         },
         {
          "day": "Thur",
          "sex": "Female",
          "size": 2,
          "smoker": "No",
          "time": "Lunch",
          "tip": 2.75,
          "total_bill": 13.16
         },
         {
          "day": "Thur",
          "sex": "Female",
          "size": 2,
          "smoker": "No",
          "time": "Lunch",
          "tip": 3.5,
          "total_bill": 17.47
         },
         {
          "day": "Thur",
          "sex": "Male",
          "size": 6,
          "smoker": "No",
          "time": "Lunch",
          "tip": 6.7,
          "total_bill": 34.3
         },
         {
          "day": "Thur",
          "sex": "Male",
          "size": 5,
          "smoker": "No",
          "time": "Lunch",
          "tip": 5,
          "total_bill": 41.19
         },
         {
          "day": "Thur",
          "sex": "Female",
          "size": 6,
          "smoker": "No",
          "time": "Lunch",
          "tip": 5,
          "total_bill": 27.05
         },
         {
          "day": "Thur",
          "sex": "Female",
          "size": 2,
          "smoker": "No",
          "time": "Lunch",
          "tip": 2.3,
          "total_bill": 16.43
         },
         {
          "day": "Thur",
          "sex": "Female",
          "size": 2,
          "smoker": "No",
          "time": "Lunch",
          "tip": 1.5,
          "total_bill": 8.35
         },
         {
          "day": "Thur",
          "sex": "Female",
          "size": 3,
          "smoker": "No",
          "time": "Lunch",
          "tip": 1.36,
          "total_bill": 18.64
         },
         {
          "day": "Thur",
          "sex": "Female",
          "size": 2,
          "smoker": "No",
          "time": "Lunch",
          "tip": 1.63,
          "total_bill": 11.87
         },
         {
          "day": "Thur",
          "sex": "Male",
          "size": 2,
          "smoker": "No",
          "time": "Lunch",
          "tip": 1.73,
          "total_bill": 9.78
         },
         {
          "day": "Thur",
          "sex": "Male",
          "size": 2,
          "smoker": "No",
          "time": "Lunch",
          "tip": 2,
          "total_bill": 7.51
         },
         {
          "day": "Sun",
          "sex": "Male",
          "size": 2,
          "smoker": "No",
          "time": "Dinner",
          "tip": 2.5,
          "total_bill": 14.07
         },
         {
          "day": "Sun",
          "sex": "Male",
          "size": 2,
          "smoker": "No",
          "time": "Dinner",
          "tip": 2,
          "total_bill": 13.13
         },
         {
          "day": "Sun",
          "sex": "Male",
          "size": 3,
          "smoker": "No",
          "time": "Dinner",
          "tip": 2.74,
          "total_bill": 17.26
         },
         {
          "day": "Sun",
          "sex": "Male",
          "size": 4,
          "smoker": "No",
          "time": "Dinner",
          "tip": 2,
          "total_bill": 24.55
         },
         {
          "day": "Sun",
          "sex": "Male",
          "size": 4,
          "smoker": "No",
          "time": "Dinner",
          "tip": 2,
          "total_bill": 19.77
         },
         {
          "day": "Sun",
          "sex": "Female",
          "size": 5,
          "smoker": "No",
          "time": "Dinner",
          "tip": 5.14,
          "total_bill": 29.85
         },
         {
          "day": "Sun",
          "sex": "Male",
          "size": 6,
          "smoker": "No",
          "time": "Dinner",
          "tip": 5,
          "total_bill": 48.17
         },
         {
          "day": "Sun",
          "sex": "Female",
          "size": 4,
          "smoker": "No",
          "time": "Dinner",
          "tip": 3.75,
          "total_bill": 25
         },
         {
          "day": "Sun",
          "sex": "Female",
          "size": 2,
          "smoker": "No",
          "time": "Dinner",
          "tip": 2.61,
          "total_bill": 13.39
         },
         {
          "day": "Sun",
          "sex": "Male",
          "size": 4,
          "smoker": "No",
          "time": "Dinner",
          "tip": 2,
          "total_bill": 16.49
         },
         {
          "day": "Sun",
          "sex": "Male",
          "size": 4,
          "smoker": "No",
          "time": "Dinner",
          "tip": 3.5,
          "total_bill": 21.5
         },
         {
          "day": "Sun",
          "sex": "Male",
          "size": 2,
          "smoker": "No",
          "time": "Dinner",
          "tip": 2.5,
          "total_bill": 12.66
         },
         {
          "day": "Sun",
          "sex": "Female",
          "size": 3,
          "smoker": "No",
          "time": "Dinner",
          "tip": 2,
          "total_bill": 16.21
         },
         {
          "day": "Sun",
          "sex": "Male",
          "size": 2,
          "smoker": "No",
          "time": "Dinner",
          "tip": 2,
          "total_bill": 13.81
         },
         {
          "day": "Sun",
          "sex": "Female",
          "size": 2,
          "smoker": "Yes",
          "time": "Dinner",
          "tip": 3,
          "total_bill": 17.51
         },
         {
          "day": "Sun",
          "sex": "Male",
          "size": 3,
          "smoker": "No",
          "time": "Dinner",
          "tip": 3.48,
          "total_bill": 24.52
         },
         {
          "day": "Sun",
          "sex": "Male",
          "size": 2,
          "smoker": "No",
          "time": "Dinner",
          "tip": 2.24,
          "total_bill": 20.76
         },
         {
          "day": "Sun",
          "sex": "Male",
          "size": 4,
          "smoker": "No",
          "time": "Dinner",
          "tip": 4.5,
          "total_bill": 31.71
         },
         {
          "day": "Sat",
          "sex": "Female",
          "size": 2,
          "smoker": "Yes",
          "time": "Dinner",
          "tip": 1.61,
          "total_bill": 10.59
         },
         {
          "day": "Sat",
          "sex": "Female",
          "size": 2,
          "smoker": "Yes",
          "time": "Dinner",
          "tip": 2,
          "total_bill": 10.63
         },
         {
          "day": "Sat",
          "sex": "Male",
          "size": 3,
          "smoker": "Yes",
          "time": "Dinner",
          "tip": 10,
          "total_bill": 50.81
         },
         {
          "day": "Sat",
          "sex": "Male",
          "size": 2,
          "smoker": "Yes",
          "time": "Dinner",
          "tip": 3.16,
          "total_bill": 15.81
         },
         {
          "day": "Sun",
          "sex": "Male",
          "size": 2,
          "smoker": "Yes",
          "time": "Dinner",
          "tip": 5.15,
          "total_bill": 7.25
         },
         {
          "day": "Sun",
          "sex": "Male",
          "size": 2,
          "smoker": "Yes",
          "time": "Dinner",
          "tip": 3.18,
          "total_bill": 31.85
         },
         {
          "day": "Sun",
          "sex": "Male",
          "size": 2,
          "smoker": "Yes",
          "time": "Dinner",
          "tip": 4,
          "total_bill": 16.82
         },
         {
          "day": "Sun",
          "sex": "Male",
          "size": 2,
          "smoker": "Yes",
          "time": "Dinner",
          "tip": 3.11,
          "total_bill": 32.9
         },
         {
          "day": "Sun",
          "sex": "Male",
          "size": 2,
          "smoker": "Yes",
          "time": "Dinner",
          "tip": 2,
          "total_bill": 17.89
         },
         {
          "day": "Sun",
          "sex": "Male",
          "size": 2,
          "smoker": "Yes",
          "time": "Dinner",
          "tip": 2,
          "total_bill": 14.48
         },
         {
          "day": "Sun",
          "sex": "Female",
          "size": 2,
          "smoker": "Yes",
          "time": "Dinner",
          "tip": 4,
          "total_bill": 9.6
         },
         {
          "day": "Sun",
          "sex": "Male",
          "size": 2,
          "smoker": "Yes",
          "time": "Dinner",
          "tip": 3.55,
          "total_bill": 34.63
         },
         {
          "day": "Sun",
          "sex": "Male",
          "size": 4,
          "smoker": "Yes",
          "time": "Dinner",
          "tip": 3.68,
          "total_bill": 34.65
         },
         {
          "day": "Sun",
          "sex": "Male",
          "size": 2,
          "smoker": "Yes",
          "time": "Dinner",
          "tip": 5.65,
          "total_bill": 23.33
         },
         {
          "day": "Sun",
          "sex": "Male",
          "size": 3,
          "smoker": "Yes",
          "time": "Dinner",
          "tip": 3.5,
          "total_bill": 45.35
         },
         {
          "day": "Sun",
          "sex": "Male",
          "size": 4,
          "smoker": "Yes",
          "time": "Dinner",
          "tip": 6.5,
          "total_bill": 23.17
         },
         {
          "day": "Sun",
          "sex": "Male",
          "size": 2,
          "smoker": "Yes",
          "time": "Dinner",
          "tip": 3,
          "total_bill": 40.55
         },
         {
          "day": "Sun",
          "sex": "Male",
          "size": 5,
          "smoker": "No",
          "time": "Dinner",
          "tip": 5,
          "total_bill": 20.69
         },
         {
          "day": "Sun",
          "sex": "Female",
          "size": 3,
          "smoker": "Yes",
          "time": "Dinner",
          "tip": 3.5,
          "total_bill": 20.9
         },
         {
          "day": "Sun",
          "sex": "Male",
          "size": 5,
          "smoker": "Yes",
          "time": "Dinner",
          "tip": 2,
          "total_bill": 30.46
         },
         {
          "day": "Sun",
          "sex": "Female",
          "size": 3,
          "smoker": "Yes",
          "time": "Dinner",
          "tip": 3.5,
          "total_bill": 18.15
         },
         {
          "day": "Sun",
          "sex": "Male",
          "size": 3,
          "smoker": "Yes",
          "time": "Dinner",
          "tip": 4,
          "total_bill": 23.1
         },
         {
          "day": "Sun",
          "sex": "Male",
          "size": 2,
          "smoker": "Yes",
          "time": "Dinner",
          "tip": 1.5,
          "total_bill": 15.69
         },
         {
          "day": "Thur",
          "sex": "Female",
          "size": 2,
          "smoker": "Yes",
          "time": "Lunch",
          "tip": 4.19,
          "total_bill": 19.81
         },
         {
          "day": "Thur",
          "sex": "Male",
          "size": 2,
          "smoker": "Yes",
          "time": "Lunch",
          "tip": 2.56,
          "total_bill": 28.44
         },
         {
          "day": "Thur",
          "sex": "Male",
          "size": 2,
          "smoker": "Yes",
          "time": "Lunch",
          "tip": 2.02,
          "total_bill": 15.48
         },
         {
          "day": "Thur",
          "sex": "Male",
          "size": 2,
          "smoker": "Yes",
          "time": "Lunch",
          "tip": 4,
          "total_bill": 16.58
         },
         {
          "day": "Thur",
          "sex": "Male",
          "size": 2,
          "smoker": "No",
          "time": "Lunch",
          "tip": 1.44,
          "total_bill": 7.56
         },
         {
          "day": "Thur",
          "sex": "Male",
          "size": 2,
          "smoker": "Yes",
          "time": "Lunch",
          "tip": 2,
          "total_bill": 10.34
         },
         {
          "day": "Thur",
          "sex": "Female",
          "size": 4,
          "smoker": "Yes",
          "time": "Lunch",
          "tip": 5,
          "total_bill": 43.11
         },
         {
          "day": "Thur",
          "sex": "Female",
          "size": 2,
          "smoker": "Yes",
          "time": "Lunch",
          "tip": 2,
          "total_bill": 13
         },
         {
          "day": "Thur",
          "sex": "Male",
          "size": 2,
          "smoker": "Yes",
          "time": "Lunch",
          "tip": 2,
          "total_bill": 13.51
         },
         {
          "day": "Thur",
          "sex": "Male",
          "size": 3,
          "smoker": "Yes",
          "time": "Lunch",
          "tip": 4,
          "total_bill": 18.71
         },
         {
          "day": "Thur",
          "sex": "Female",
          "size": 2,
          "smoker": "Yes",
          "time": "Lunch",
          "tip": 2.01,
          "total_bill": 12.74
         },
         {
          "day": "Thur",
          "sex": "Female",
          "size": 2,
          "smoker": "Yes",
          "time": "Lunch",
          "tip": 2,
          "total_bill": 13
         },
         {
          "day": "Thur",
          "sex": "Female",
          "size": 2,
          "smoker": "Yes",
          "time": "Lunch",
          "tip": 2.5,
          "total_bill": 16.4
         },
         {
          "day": "Thur",
          "sex": "Male",
          "size": 4,
          "smoker": "Yes",
          "time": "Lunch",
          "tip": 4,
          "total_bill": 20.53
         },
         {
          "day": "Thur",
          "sex": "Female",
          "size": 3,
          "smoker": "Yes",
          "time": "Lunch",
          "tip": 3.23,
          "total_bill": 16.47
         },
         {
          "day": "Sat",
          "sex": "Male",
          "size": 3,
          "smoker": "Yes",
          "time": "Dinner",
          "tip": 3.41,
          "total_bill": 26.59
         },
         {
          "day": "Sat",
          "sex": "Male",
          "size": 4,
          "smoker": "Yes",
          "time": "Dinner",
          "tip": 3,
          "total_bill": 38.73
         },
         {
          "day": "Sat",
          "sex": "Male",
          "size": 2,
          "smoker": "Yes",
          "time": "Dinner",
          "tip": 2.03,
          "total_bill": 24.27
         },
         {
          "day": "Sat",
          "sex": "Female",
          "size": 2,
          "smoker": "Yes",
          "time": "Dinner",
          "tip": 2.23,
          "total_bill": 12.76
         },
         {
          "day": "Sat",
          "sex": "Male",
          "size": 3,
          "smoker": "Yes",
          "time": "Dinner",
          "tip": 2,
          "total_bill": 30.06
         },
         {
          "day": "Sat",
          "sex": "Male",
          "size": 4,
          "smoker": "Yes",
          "time": "Dinner",
          "tip": 5.16,
          "total_bill": 25.89
         },
         {
          "day": "Sat",
          "sex": "Male",
          "size": 4,
          "smoker": "No",
          "time": "Dinner",
          "tip": 9,
          "total_bill": 48.33
         },
         {
          "day": "Sat",
          "sex": "Female",
          "size": 2,
          "smoker": "Yes",
          "time": "Dinner",
          "tip": 2.5,
          "total_bill": 13.27
         },
         {
          "day": "Sat",
          "sex": "Female",
          "size": 3,
          "smoker": "Yes",
          "time": "Dinner",
          "tip": 6.5,
          "total_bill": 28.17
         },
         {
          "day": "Sat",
          "sex": "Female",
          "size": 2,
          "smoker": "Yes",
          "time": "Dinner",
          "tip": 1.1,
          "total_bill": 12.9
         },
         {
          "day": "Sat",
          "sex": "Male",
          "size": 5,
          "smoker": "Yes",
          "time": "Dinner",
          "tip": 3,
          "total_bill": 28.15
         },
         {
          "day": "Sat",
          "sex": "Male",
          "size": 2,
          "smoker": "Yes",
          "time": "Dinner",
          "tip": 1.5,
          "total_bill": 11.59
         },
         {
          "day": "Sat",
          "sex": "Male",
          "size": 2,
          "smoker": "Yes",
          "time": "Dinner",
          "tip": 1.44,
          "total_bill": 7.74
         },
         {
          "day": "Sat",
          "sex": "Female",
          "size": 4,
          "smoker": "Yes",
          "time": "Dinner",
          "tip": 3.09,
          "total_bill": 30.14
         },
         {
          "day": "Fri",
          "sex": "Male",
          "size": 2,
          "smoker": "Yes",
          "time": "Lunch",
          "tip": 2.2,
          "total_bill": 12.16
         },
         {
          "day": "Fri",
          "sex": "Female",
          "size": 2,
          "smoker": "Yes",
          "time": "Lunch",
          "tip": 3.48,
          "total_bill": 13.42
         },
         {
          "day": "Fri",
          "sex": "Male",
          "size": 1,
          "smoker": "Yes",
          "time": "Lunch",
          "tip": 1.92,
          "total_bill": 8.58
         },
         {
          "day": "Fri",
          "sex": "Female",
          "size": 3,
          "smoker": "No",
          "time": "Lunch",
          "tip": 3,
          "total_bill": 15.98
         },
         {
          "day": "Fri",
          "sex": "Male",
          "size": 2,
          "smoker": "Yes",
          "time": "Lunch",
          "tip": 1.58,
          "total_bill": 13.42
         },
         {
          "day": "Fri",
          "sex": "Female",
          "size": 2,
          "smoker": "Yes",
          "time": "Lunch",
          "tip": 2.5,
          "total_bill": 16.27
         },
         {
          "day": "Fri",
          "sex": "Female",
          "size": 2,
          "smoker": "Yes",
          "time": "Lunch",
          "tip": 2,
          "total_bill": 10.09
         },
         {
          "day": "Sat",
          "sex": "Male",
          "size": 4,
          "smoker": "No",
          "time": "Dinner",
          "tip": 3,
          "total_bill": 20.45
         },
         {
          "day": "Sat",
          "sex": "Male",
          "size": 2,
          "smoker": "No",
          "time": "Dinner",
          "tip": 2.72,
          "total_bill": 13.28
         },
         {
          "day": "Sat",
          "sex": "Female",
          "size": 2,
          "smoker": "Yes",
          "time": "Dinner",
          "tip": 2.88,
          "total_bill": 22.12
         },
         {
          "day": "Sat",
          "sex": "Male",
          "size": 4,
          "smoker": "Yes",
          "time": "Dinner",
          "tip": 2,
          "total_bill": 24.01
         },
         {
          "day": "Sat",
          "sex": "Male",
          "size": 3,
          "smoker": "Yes",
          "time": "Dinner",
          "tip": 3,
          "total_bill": 15.69
         },
         {
          "day": "Sat",
          "sex": "Male",
          "size": 2,
          "smoker": "No",
          "time": "Dinner",
          "tip": 3.39,
          "total_bill": 11.61
         },
         {
          "day": "Sat",
          "sex": "Male",
          "size": 2,
          "smoker": "No",
          "time": "Dinner",
          "tip": 1.47,
          "total_bill": 10.77
         },
         {
          "day": "Sat",
          "sex": "Male",
          "size": 2,
          "smoker": "Yes",
          "time": "Dinner",
          "tip": 3,
          "total_bill": 15.53
         },
         {
          "day": "Sat",
          "sex": "Male",
          "size": 2,
          "smoker": "No",
          "time": "Dinner",
          "tip": 1.25,
          "total_bill": 10.07
         },
         {
          "day": "Sat",
          "sex": "Male",
          "size": 2,
          "smoker": "Yes",
          "time": "Dinner",
          "tip": 1,
          "total_bill": 12.6
         },
         {
          "day": "Sat",
          "sex": "Male",
          "size": 2,
          "smoker": "Yes",
          "time": "Dinner",
          "tip": 1.17,
          "total_bill": 32.83
         },
         {
          "day": "Sat",
          "sex": "Female",
          "size": 3,
          "smoker": "No",
          "time": "Dinner",
          "tip": 4.67,
          "total_bill": 35.83
         },
         {
          "day": "Sat",
          "sex": "Male",
          "size": 3,
          "smoker": "No",
          "time": "Dinner",
          "tip": 5.92,
          "total_bill": 29.03
         },
         {
          "day": "Sat",
          "sex": "Female",
          "size": 2,
          "smoker": "Yes",
          "time": "Dinner",
          "tip": 2,
          "total_bill": 27.18
         },
         {
          "day": "Sat",
          "sex": "Male",
          "size": 2,
          "smoker": "Yes",
          "time": "Dinner",
          "tip": 2,
          "total_bill": 22.67
         },
         {
          "day": "Sat",
          "sex": "Male",
          "size": 2,
          "smoker": "No",
          "time": "Dinner",
          "tip": 1.75,
          "total_bill": 17.82
         },
         {
          "day": "Thur",
          "sex": "Female",
          "size": 2,
          "smoker": "No",
          "time": "Dinner",
          "tip": 3,
          "total_bill": 18.78
         }
        ]
       },
       "encoding": {
        "color": {
         "field": "day",
         "legend": null,
         "type": "nominal"
        },
        "x": {
         "field": "day",
         "type": "nominal"
        },
        "y": {
         "aggregate": "median",
         "axis": {
          "title": "tip"
         },
         "field": "tip",
         "type": "quantitative"
        }
       },
       "mark": "bar"
      },
      "image/png": "[encoded data removed]",
      "text/plain": [
       "<VegaLite 2 object>\n",
       "\n",
       "If you see this message, it means the renderer has not been properly enabled\n",
       "for the frontend that you are using. For more information, see\n",
       "https://altair-viz.github.io/user_guide/troubleshooting.html\n"
      ]
     },
     "metadata": {},
     "output_type": "display_data"
    },
    {
     "data": {
      "image/png": "[encoded data removed]",
      "text/plain": [
       "<Figure size 432x288 with 1 Axes>"
      ]
     },
     "metadata": {},
     "output_type": "display_data"
    }
   ],
   "source": [
    "from numpy import median\n",
    "display(salt.barplot(x=\"day\", y=\"tip\", data=tips, estimator=median, ci=None))\n",
    "ax = sns.barplot(x=\"day\", y=\"tip\", data=tips, estimator=median, ci=None)"
   ]
  },
  {
   "cell_type": "code",
   "execution_count": 11,
   "metadata": {},
   "outputs": [
    {
     "data": {
      "application/vnd.vegalite.v2+json": {
       "$schema": "https://vega.github.io/schema/vega-lite/v2.4.1.json",
       "config": {
        "range": {
         "category": [
          "rgba(49.62499999999999,115.62499999999996,161.37500000000003,1)",
          "rgba(224.87499999999997,128.875,44.12500000000004,1)",
          "rgba(58.49999999999999,145.50000000000003,58.49999999999999,1)",
          "rgba(192.125,60.87500000000001,61.62499999999999,1)",
          "rgba(147.49999999999994,113.74999999999999,178.25,1)",
          "rgba(131.875,91.37500000000001,83.12500000000001,1)",
          "rgba(213.50000000000003,132.49999999999997,188.74999999999994,1)",
          "rgba(127.0,127.0,127.0,1)",
          "rgba(168.87500000000003,169.625,53.37500000000001,1)",
          "rgba(45.99999999999998,171.25,184.00000000000003,1)"
         ]
        },
        "view": {
         "height": 300,
         "width": 400
        }
       },
       "data": {
        "values": [
         {
          "day": "Sun",
          "sex": "Female",
          "size": 2,
          "smoker": "No",
          "time": "Dinner",
          "tip": 1.01,
          "total_bill": 16.99
         },
         {
          "day": "Sun",
          "sex": "Male",
          "size": 3,
          "smoker": "No",
          "time": "Dinner",
          "tip": 1.66,
          "total_bill": 10.34
         },
         {
          "day": "Sun",
          "sex": "Male",
          "size": 3,
          "smoker": "No",
          "time": "Dinner",
          "tip": 3.5,
          "total_bill": 21.01
         },
         {
          "day": "Sun",
          "sex": "Male",
          "size": 2,
          "smoker": "No",
          "time": "Dinner",
          "tip": 3.31,
          "total_bill": 23.68
         },
         {
          "day": "Sun",
          "sex": "Female",
          "size": 4,
          "smoker": "No",
          "time": "Dinner",
          "tip": 3.61,
          "total_bill": 24.59
         },
         {
          "day": "Sun",
          "sex": "Male",
          "size": 4,
          "smoker": "No",
          "time": "Dinner",
          "tip": 4.71,
          "total_bill": 25.29
         },
         {
          "day": "Sun",
          "sex": "Male",
          "size": 2,
          "smoker": "No",
          "time": "Dinner",
          "tip": 2,
          "total_bill": 8.77
         },
         {
          "day": "Sun",
          "sex": "Male",
          "size": 4,
          "smoker": "No",
          "time": "Dinner",
          "tip": 3.12,
          "total_bill": 26.88
         },
         {
          "day": "Sun",
          "sex": "Male",
          "size": 2,
          "smoker": "No",
          "time": "Dinner",
          "tip": 1.96,
          "total_bill": 15.04
         },
         {
          "day": "Sun",
          "sex": "Male",
          "size": 2,
          "smoker": "No",
          "time": "Dinner",
          "tip": 3.23,
          "total_bill": 14.78
         },
         {
          "day": "Sun",
          "sex": "Male",
          "size": 2,
          "smoker": "No",
          "time": "Dinner",
          "tip": 1.71,
          "total_bill": 10.27
         },
         {
          "day": "Sun",
          "sex": "Female",
          "size": 4,
          "smoker": "No",
          "time": "Dinner",
          "tip": 5,
          "total_bill": 35.26
         },
         {
          "day": "Sun",
          "sex": "Male",
          "size": 2,
          "smoker": "No",
          "time": "Dinner",
          "tip": 1.57,
          "total_bill": 15.42
         },
         {
          "day": "Sun",
          "sex": "Male",
          "size": 4,
          "smoker": "No",
          "time": "Dinner",
          "tip": 3,
          "total_bill": 18.43
         },
         {
          "day": "Sun",
          "sex": "Female",
          "size": 2,
          "smoker": "No",
          "time": "Dinner",
          "tip": 3.02,
          "total_bill": 14.83
         },
         {
          "day": "Sun",
          "sex": "Male",
          "size": 2,
          "smoker": "No",
          "time": "Dinner",
          "tip": 3.92,
          "total_bill": 21.58
         },
         {
          "day": "Sun",
          "sex": "Female",
          "size": 3,
          "smoker": "No",
          "time": "Dinner",
          "tip": 1.67,
          "total_bill": 10.33
         },
         {
          "day": "Sun",
          "sex": "Male",
          "size": 3,
          "smoker": "No",
          "time": "Dinner",
          "tip": 3.71,
          "total_bill": 16.29
         },
         {
          "day": "Sun",
          "sex": "Female",
          "size": 3,
          "smoker": "No",
          "time": "Dinner",
          "tip": 3.5,
          "total_bill": 16.97
         },
         {
          "day": "Sat",
          "sex": "Male",
          "size": 3,
          "smoker": "No",
          "time": "Dinner",
          "tip": 3.35,
          "total_bill": 20.65
         },
         {
          "day": "Sat",
          "sex": "Male",
          "size": 2,
          "smoker": "No",
          "time": "Dinner",
          "tip": 4.08,
          "total_bill": 17.92
         },
         {
          "day": "Sat",
          "sex": "Female",
          "size": 2,
          "smoker": "No",
          "time": "Dinner",
          "tip": 2.75,
          "total_bill": 20.29
         },
         {
          "day": "Sat",
          "sex": "Female",
          "size": 2,
          "smoker": "No",
          "time": "Dinner",
          "tip": 2.23,
          "total_bill": 15.77
         },
         {
          "day": "Sat",
          "sex": "Male",
          "size": 4,
          "smoker": "No",
          "time": "Dinner",
          "tip": 7.58,
          "total_bill": 39.42
         },
         {
          "day": "Sat",
          "sex": "Male",
          "size": 2,
          "smoker": "No",
          "time": "Dinner",
          "tip": 3.18,
          "total_bill": 19.82
         },
         {
          "day": "Sat",
          "sex": "Male",
          "size": 4,
          "smoker": "No",
          "time": "Dinner",
          "tip": 2.34,
          "total_bill": 17.81
         },
         {
          "day": "Sat",
          "sex": "Male",
          "size": 2,
          "smoker": "No",
          "time": "Dinner",
          "tip": 2,
          "total_bill": 13.37
         },
         {
          "day": "Sat",
          "sex": "Male",
          "size": 2,
          "smoker": "No",
          "time": "Dinner",
          "tip": 2,
          "total_bill": 12.69
         },
         {
          "day": "Sat",
          "sex": "Male",
          "size": 2,
          "smoker": "No",
          "time": "Dinner",
          "tip": 4.3,
          "total_bill": 21.7
         },
         {
          "day": "Sat",
          "sex": "Female",
          "size": 2,
          "smoker": "No",
          "time": "Dinner",
          "tip": 3,
          "total_bill": 19.65
         },
         {
          "day": "Sat",
          "sex": "Male",
          "size": 2,
          "smoker": "No",
          "time": "Dinner",
          "tip": 1.45,
          "total_bill": 9.55
         },
         {
          "day": "Sat",
          "sex": "Male",
          "size": 4,
          "smoker": "No",
          "time": "Dinner",
          "tip": 2.5,
          "total_bill": 18.35
         },
         {
          "day": "Sat",
          "sex": "Female",
          "size": 2,
          "smoker": "No",
          "time": "Dinner",
          "tip": 3,
          "total_bill": 15.06
         },
         {
          "day": "Sat",
          "sex": "Female",
          "size": 4,
          "smoker": "No",
          "time": "Dinner",
          "tip": 2.45,
          "total_bill": 20.69
         },
         {
          "day": "Sat",
          "sex": "Male",
          "size": 2,
          "smoker": "No",
          "time": "Dinner",
          "tip": 3.27,
          "total_bill": 17.78
         },
         {
          "day": "Sat",
          "sex": "Male",
          "size": 3,
          "smoker": "No",
          "time": "Dinner",
          "tip": 3.6,
          "total_bill": 24.06
         },
         {
          "day": "Sat",
          "sex": "Male",
          "size": 3,
          "smoker": "No",
          "time": "Dinner",
          "tip": 2,
          "total_bill": 16.31
         },
         {
          "day": "Sat",
          "sex": "Female",
          "size": 3,
          "smoker": "No",
          "time": "Dinner",
          "tip": 3.07,
          "total_bill": 16.93
         },
         {
          "day": "Sat",
          "sex": "Male",
          "size": 3,
          "smoker": "No",
          "time": "Dinner",
          "tip": 2.31,
          "total_bill": 18.69
         },
         {
          "day": "Sat",
          "sex": "Male",
          "size": 3,
          "smoker": "No",
          "time": "Dinner",
          "tip": 5,
          "total_bill": 31.27
         },
         {
          "day": "Sat",
          "sex": "Male",
          "size": 3,
          "smoker": "No",
          "time": "Dinner",
          "tip": 2.24,
          "total_bill": 16.04
         },
         {
          "day": "Sun",
          "sex": "Male",
          "size": 2,
          "smoker": "No",
          "time": "Dinner",
          "tip": 2.54,
          "total_bill": 17.46
         },
         {
          "day": "Sun",
          "sex": "Male",
          "size": 2,
          "smoker": "No",
          "time": "Dinner",
          "tip": 3.06,
          "total_bill": 13.94
         },
         {
          "day": "Sun",
          "sex": "Male",
          "size": 2,
          "smoker": "No",
          "time": "Dinner",
          "tip": 1.32,
          "total_bill": 9.68
         },
         {
          "day": "Sun",
          "sex": "Male",
          "size": 4,
          "smoker": "No",
          "time": "Dinner",
          "tip": 5.6,
          "total_bill": 30.4
         },
         {
          "day": "Sun",
          "sex": "Male",
          "size": 2,
          "smoker": "No",
          "time": "Dinner",
          "tip": 3,
          "total_bill": 18.29
         },
         {
          "day": "Sun",
          "sex": "Male",
          "size": 2,
          "smoker": "No",
          "time": "Dinner",
          "tip": 5,
          "total_bill": 22.23
         },
         {
          "day": "Sun",
          "sex": "Male",
          "size": 4,
          "smoker": "No",
          "time": "Dinner",
          "tip": 6,
          "total_bill": 32.4
         },
         {
          "day": "Sun",
          "sex": "Male",
          "size": 3,
          "smoker": "No",
          "time": "Dinner",
          "tip": 2.05,
          "total_bill": 28.55
         },
         {
          "day": "Sun",
          "sex": "Male",
          "size": 2,
          "smoker": "No",
          "time": "Dinner",
          "tip": 3,
          "total_bill": 18.04
         },
         {
          "day": "Sun",
          "sex": "Male",
          "size": 2,
          "smoker": "No",
          "time": "Dinner",
          "tip": 2.5,
          "total_bill": 12.54
         },
         {
          "day": "Sun",
          "sex": "Female",
          "size": 2,
          "smoker": "No",
          "time": "Dinner",
          "tip": 2.6,
          "total_bill": 10.29
         },
         {
          "day": "Sun",
          "sex": "Female",
          "size": 4,
          "smoker": "No",
          "time": "Dinner",
          "tip": 5.2,
          "total_bill": 34.81
         },
         {
          "day": "Sun",
          "sex": "Male",
          "size": 2,
          "smoker": "No",
          "time": "Dinner",
          "tip": 1.56,
          "total_bill": 9.94
         },
         {
          "day": "Sun",
          "sex": "Male",
          "size": 4,
          "smoker": "No",
          "time": "Dinner",
          "tip": 4.34,
          "total_bill": 25.56
         },
         {
          "day": "Sun",
          "sex": "Male",
          "size": 2,
          "smoker": "No",
          "time": "Dinner",
          "tip": 3.51,
          "total_bill": 19.49
         },
         {
          "day": "Sat",
          "sex": "Male",
          "size": 4,
          "smoker": "Yes",
          "time": "Dinner",
          "tip": 3,
          "total_bill": 38.01
         },
         {
          "day": "Sat",
          "sex": "Female",
          "size": 2,
          "smoker": "No",
          "time": "Dinner",
          "tip": 1.5,
          "total_bill": 26.41
         },
         {
          "day": "Sat",
          "sex": "Male",
          "size": 2,
          "smoker": "Yes",
          "time": "Dinner",
          "tip": 1.76,
          "total_bill": 11.24
         },
         {
          "day": "Sat",
          "sex": "Male",
          "size": 4,
          "smoker": "No",
          "time": "Dinner",
          "tip": 6.73,
          "total_bill": 48.27
         },
         {
          "day": "Sat",
          "sex": "Male",
          "size": 2,
          "smoker": "Yes",
          "time": "Dinner",
          "tip": 3.21,
          "total_bill": 20.29
         },
         {
          "day": "Sat",
          "sex": "Male",
          "size": 2,
          "smoker": "Yes",
          "time": "Dinner",
          "tip": 2,
          "total_bill": 13.81
         },
         {
          "day": "Sat",
          "sex": "Male",
          "size": 2,
          "smoker": "Yes",
          "time": "Dinner",
          "tip": 1.98,
          "total_bill": 11.02
         },
         {
          "day": "Sat",
          "sex": "Male",
          "size": 4,
          "smoker": "Yes",
          "time": "Dinner",
          "tip": 3.76,
          "total_bill": 18.29
         },
         {
          "day": "Sat",
          "sex": "Male",
          "size": 3,
          "smoker": "No",
          "time": "Dinner",
          "tip": 2.64,
          "total_bill": 17.59
         },
         {
          "day": "Sat",
          "sex": "Male",
          "size": 3,
          "smoker": "No",
          "time": "Dinner",
          "tip": 3.15,
          "total_bill": 20.08
         },
         {
          "day": "Sat",
          "sex": "Female",
          "size": 2,
          "smoker": "No",
          "time": "Dinner",
          "tip": 2.47,
          "total_bill": 16.45
         },
         {
          "day": "Sat",
          "sex": "Female",
          "size": 1,
          "smoker": "Yes",
          "time": "Dinner",
          "tip": 1,
          "total_bill": 3.07
         },
         {
          "day": "Sat",
          "sex": "Male",
          "size": 2,
          "smoker": "No",
          "time": "Dinner",
          "tip": 2.01,
          "total_bill": 20.23
         },
         {
          "day": "Sat",
          "sex": "Male",
          "size": 2,
          "smoker": "Yes",
          "time": "Dinner",
          "tip": 2.09,
          "total_bill": 15.01
         },
         {
          "day": "Sat",
          "sex": "Male",
          "size": 2,
          "smoker": "No",
          "time": "Dinner",
          "tip": 1.97,
          "total_bill": 12.02
         },
         {
          "day": "Sat",
          "sex": "Female",
          "size": 3,
          "smoker": "No",
          "time": "Dinner",
          "tip": 3,
          "total_bill": 17.07
         },
         {
          "day": "Sat",
          "sex": "Female",
          "size": 2,
          "smoker": "Yes",
          "time": "Dinner",
          "tip": 3.14,
          "total_bill": 26.86
         },
         {
          "day": "Sat",
          "sex": "Female",
          "size": 2,
          "smoker": "Yes",
          "time": "Dinner",
          "tip": 5,
          "total_bill": 25.28
         },
         {
          "day": "Sat",
          "sex": "Female",
          "size": 2,
          "smoker": "No",
          "time": "Dinner",
          "tip": 2.2,
          "total_bill": 14.73
         },
         {
          "day": "Sat",
          "sex": "Male",
          "size": 2,
          "smoker": "No",
          "time": "Dinner",
          "tip": 1.25,
          "total_bill": 10.51
         },
         {
          "day": "Sat",
          "sex": "Male",
          "size": 2,
          "smoker": "Yes",
          "time": "Dinner",
          "tip": 3.08,
          "total_bill": 17.92
         },
         {
          "day": "Thur",
          "sex": "Male",
          "size": 4,
          "smoker": "No",
          "time": "Lunch",
          "tip": 4,
          "total_bill": 27.2
         },
         {
          "day": "Thur",
          "sex": "Male",
          "size": 2,
          "smoker": "No",
          "time": "Lunch",
          "tip": 3,
          "total_bill": 22.76
         },
         {
          "day": "Thur",
          "sex": "Male",
          "size": 2,
          "smoker": "No",
          "time": "Lunch",
          "tip": 2.71,
          "total_bill": 17.29
         },
         {
          "day": "Thur",
          "sex": "Male",
          "size": 2,
          "smoker": "Yes",
          "time": "Lunch",
          "tip": 3,
          "total_bill": 19.44
         },
         {
          "day": "Thur",
          "sex": "Male",
          "size": 2,
          "smoker": "No",
          "time": "Lunch",
          "tip": 3.4,
          "total_bill": 16.66
         },
         {
          "day": "Thur",
          "sex": "Female",
          "size": 1,
          "smoker": "No",
          "time": "Lunch",
          "tip": 1.83,
          "total_bill": 10.07
         },
         {
          "day": "Thur",
          "sex": "Male",
          "size": 2,
          "smoker": "Yes",
          "time": "Lunch",
          "tip": 5,
          "total_bill": 32.68
         },
         {
          "day": "Thur",
          "sex": "Male",
          "size": 2,
          "smoker": "No",
          "time": "Lunch",
          "tip": 2.03,
          "total_bill": 15.98
         },
         {
          "day": "Thur",
          "sex": "Female",
          "size": 4,
          "smoker": "No",
          "time": "Lunch",
          "tip": 5.17,
          "total_bill": 34.83
         },
         {
          "day": "Thur",
          "sex": "Male",
          "size": 2,
          "smoker": "No",
          "time": "Lunch",
          "tip": 2,
          "total_bill": 13.03
         },
         {
          "day": "Thur",
          "sex": "Male",
          "size": 2,
          "smoker": "No",
          "time": "Lunch",
          "tip": 4,
          "total_bill": 18.28
         },
         {
          "day": "Thur",
          "sex": "Male",
          "size": 2,
          "smoker": "No",
          "time": "Lunch",
          "tip": 5.85,
          "total_bill": 24.71
         },
         {
          "day": "Thur",
          "sex": "Male",
          "size": 2,
          "smoker": "No",
          "time": "Lunch",
          "tip": 3,
          "total_bill": 21.16
         },
         {
          "day": "Fri",
          "sex": "Male",
          "size": 2,
          "smoker": "Yes",
          "time": "Dinner",
          "tip": 3,
          "total_bill": 28.97
         },
         {
          "day": "Fri",
          "sex": "Male",
          "size": 2,
          "smoker": "No",
          "time": "Dinner",
          "tip": 3.5,
          "total_bill": 22.49
         },
         {
          "day": "Fri",
          "sex": "Female",
          "size": 2,
          "smoker": "Yes",
          "time": "Dinner",
          "tip": 1,
          "total_bill": 5.75
         },
         {
          "day": "Fri",
          "sex": "Female",
          "size": 2,
          "smoker": "Yes",
          "time": "Dinner",
          "tip": 4.3,
          "total_bill": 16.32
         },
         {
          "day": "Fri",
          "sex": "Female",
          "size": 2,
          "smoker": "No",
          "time": "Dinner",
          "tip": 3.25,
          "total_bill": 22.75
         },
         {
          "day": "Fri",
          "sex": "Male",
          "size": 4,
          "smoker": "Yes",
          "time": "Dinner",
          "tip": 4.73,
          "total_bill": 40.17
         },
         {
          "day": "Fri",
          "sex": "Male",
          "size": 2,
          "smoker": "Yes",
          "time": "Dinner",
          "tip": 4,
          "total_bill": 27.28
         },
         {
          "day": "Fri",
          "sex": "Male",
          "size": 2,
          "smoker": "Yes",
          "time": "Dinner",
          "tip": 1.5,
          "total_bill": 12.03
         },
         {
          "day": "Fri",
          "sex": "Male",
          "size": 2,
          "smoker": "Yes",
          "time": "Dinner",
          "tip": 3,
          "total_bill": 21.01
         },
         {
          "day": "Fri",
          "sex": "Male",
          "size": 2,
          "smoker": "No",
          "time": "Dinner",
          "tip": 1.5,
          "total_bill": 12.46
         },
         {
          "day": "Fri",
          "sex": "Female",
          "size": 2,
          "smoker": "Yes",
          "time": "Dinner",
          "tip": 2.5,
          "total_bill": 11.35
         },
         {
          "day": "Fri",
          "sex": "Female",
          "size": 2,
          "smoker": "Yes",
          "time": "Dinner",
          "tip": 3,
          "total_bill": 15.38
         },
         {
          "day": "Sat",
          "sex": "Female",
          "size": 3,
          "smoker": "Yes",
          "time": "Dinner",
          "tip": 2.5,
          "total_bill": 44.3
         },
         {
          "day": "Sat",
          "sex": "Female",
          "size": 2,
          "smoker": "Yes",
          "time": "Dinner",
          "tip": 3.48,
          "total_bill": 22.42
         },
         {
          "day": "Sat",
          "sex": "Female",
          "size": 2,
          "smoker": "No",
          "time": "Dinner",
          "tip": 4.08,
          "total_bill": 20.92
         },
         {
          "day": "Sat",
          "sex": "Male",
          "size": 2,
          "smoker": "Yes",
          "time": "Dinner",
          "tip": 1.64,
          "total_bill": 15.36
         },
         {
          "day": "Sat",
          "sex": "Male",
          "size": 2,
          "smoker": "Yes",
          "time": "Dinner",
          "tip": 4.06,
          "total_bill": 20.49
         },
         {
          "day": "Sat",
          "sex": "Male",
          "size": 2,
          "smoker": "Yes",
          "time": "Dinner",
          "tip": 4.29,
          "total_bill": 25.21
         },
         {
          "day": "Sat",
          "sex": "Male",
          "size": 2,
          "smoker": "No",
          "time": "Dinner",
          "tip": 3.76,
          "total_bill": 18.24
         },
         {
          "day": "Sat",
          "sex": "Female",
          "size": 2,
          "smoker": "Yes",
          "time": "Dinner",
          "tip": 4,
          "total_bill": 14.31
         },
         {
          "day": "Sat",
          "sex": "Male",
          "size": 2,
          "smoker": "No",
          "time": "Dinner",
          "tip": 3,
          "total_bill": 14
         },
         {
          "day": "Sat",
          "sex": "Female",
          "size": 1,
          "smoker": "No",
          "time": "Dinner",
          "tip": 1,
          "total_bill": 7.25
         },
         {
          "day": "Sun",
          "sex": "Male",
          "size": 3,
          "smoker": "No",
          "time": "Dinner",
          "tip": 4,
          "total_bill": 38.07
         },
         {
          "day": "Sun",
          "sex": "Male",
          "size": 2,
          "smoker": "No",
          "time": "Dinner",
          "tip": 2.55,
          "total_bill": 23.95
         },
         {
          "day": "Sun",
          "sex": "Female",
          "size": 3,
          "smoker": "No",
          "time": "Dinner",
          "tip": 4,
          "total_bill": 25.71
         },
         {
          "day": "Sun",
          "sex": "Female",
          "size": 2,
          "smoker": "No",
          "time": "Dinner",
          "tip": 3.5,
          "total_bill": 17.31
         },
         {
          "day": "Sun",
          "sex": "Male",
          "size": 4,
          "smoker": "No",
          "time": "Dinner",
          "tip": 5.07,
          "total_bill": 29.93
         },
         {
          "day": "Thur",
          "sex": "Female",
          "size": 2,
          "smoker": "No",
          "time": "Lunch",
          "tip": 1.5,
          "total_bill": 10.65
         },
         {
          "day": "Thur",
          "sex": "Female",
          "size": 2,
          "smoker": "No",
          "time": "Lunch",
          "tip": 1.8,
          "total_bill": 12.43
         },
         {
          "day": "Thur",
          "sex": "Female",
          "size": 4,
          "smoker": "No",
          "time": "Lunch",
          "tip": 2.92,
          "total_bill": 24.08
         },
         {
          "day": "Thur",
          "sex": "Male",
          "size": 2,
          "smoker": "No",
          "time": "Lunch",
          "tip": 2.31,
          "total_bill": 11.69
         },
         {
          "day": "Thur",
          "sex": "Female",
          "size": 2,
          "smoker": "No",
          "time": "Lunch",
          "tip": 1.68,
          "total_bill": 13.42
         },
         {
          "day": "Thur",
          "sex": "Male",
          "size": 2,
          "smoker": "No",
          "time": "Lunch",
          "tip": 2.5,
          "total_bill": 14.26
         },
         {
          "day": "Thur",
          "sex": "Male",
          "size": 2,
          "smoker": "No",
          "time": "Lunch",
          "tip": 2,
          "total_bill": 15.95
         },
         {
          "day": "Thur",
          "sex": "Female",
          "size": 2,
          "smoker": "No",
          "time": "Lunch",
          "tip": 2.52,
          "total_bill": 12.48
         },
         {
          "day": "Thur",
          "sex": "Female",
          "size": 6,
          "smoker": "No",
          "time": "Lunch",
          "tip": 4.2,
          "total_bill": 29.8
         },
         {
          "day": "Thur",
          "sex": "Male",
          "size": 2,
          "smoker": "No",
          "time": "Lunch",
          "tip": 1.48,
          "total_bill": 8.52
         },
         {
          "day": "Thur",
          "sex": "Female",
          "size": 2,
          "smoker": "No",
          "time": "Lunch",
          "tip": 2,
          "total_bill": 14.52
         },
         {
          "day": "Thur",
          "sex": "Female",
          "size": 2,
          "smoker": "No",
          "time": "Lunch",
          "tip": 2,
          "total_bill": 11.38
         },
         {
          "day": "Thur",
          "sex": "Male",
          "size": 3,
          "smoker": "No",
          "time": "Lunch",
          "tip": 2.18,
          "total_bill": 22.82
         },
         {
          "day": "Thur",
          "sex": "Male",
          "size": 2,
          "smoker": "No",
          "time": "Lunch",
          "tip": 1.5,
          "total_bill": 19.08
         },
         {
          "day": "Thur",
          "sex": "Female",
          "size": 2,
          "smoker": "No",
          "time": "Lunch",
          "tip": 2.83,
          "total_bill": 20.27
         },
         {
          "day": "Thur",
          "sex": "Female",
          "size": 2,
          "smoker": "No",
          "time": "Lunch",
          "tip": 1.5,
          "total_bill": 11.17
         },
         {
          "day": "Thur",
          "sex": "Female",
          "size": 2,
          "smoker": "No",
          "time": "Lunch",
          "tip": 2,
          "total_bill": 12.26
         },
         {
          "day": "Thur",
          "sex": "Female",
          "size": 2,
          "smoker": "No",
          "time": "Lunch",
          "tip": 3.25,
          "total_bill": 18.26
         },
         {
          "day": "Thur",
          "sex": "Female",
          "size": 2,
          "smoker": "No",
          "time": "Lunch",
          "tip": 1.25,
          "total_bill": 8.51
         },
         {
          "day": "Thur",
          "sex": "Female",
          "size": 2,
          "smoker": "No",
          "time": "Lunch",
          "tip": 2,
          "total_bill": 10.33
         },
         {
          "day": "Thur",
          "sex": "Female",
          "size": 2,
          "smoker": "No",
          "time": "Lunch",
          "tip": 2,
          "total_bill": 14.15
         },
         {
          "day": "Thur",
          "sex": "Male",
          "size": 2,
          "smoker": "Yes",
          "time": "Lunch",
          "tip": 2,
          "total_bill": 16
         },
         {
          "day": "Thur",
          "sex": "Female",
          "size": 2,
          "smoker": "No",
          "time": "Lunch",
          "tip": 2.75,
          "total_bill": 13.16
         },
         {
          "day": "Thur",
          "sex": "Female",
          "size": 2,
          "smoker": "No",
          "time": "Lunch",
          "tip": 3.5,
          "total_bill": 17.47
         },
         {
          "day": "Thur",
          "sex": "Male",
          "size": 6,
          "smoker": "No",
          "time": "Lunch",
          "tip": 6.7,
          "total_bill": 34.3
         },
         {
          "day": "Thur",
          "sex": "Male",
          "size": 5,
          "smoker": "No",
          "time": "Lunch",
          "tip": 5,
          "total_bill": 41.19
         },
         {
          "day": "Thur",
          "sex": "Female",
          "size": 6,
          "smoker": "No",
          "time": "Lunch",
          "tip": 5,
          "total_bill": 27.05
         },
         {
          "day": "Thur",
          "sex": "Female",
          "size": 2,
          "smoker": "No",
          "time": "Lunch",
          "tip": 2.3,
          "total_bill": 16.43
         },
         {
          "day": "Thur",
          "sex": "Female",
          "size": 2,
          "smoker": "No",
          "time": "Lunch",
          "tip": 1.5,
          "total_bill": 8.35
         },
         {
          "day": "Thur",
          "sex": "Female",
          "size": 3,
          "smoker": "No",
          "time": "Lunch",
          "tip": 1.36,
          "total_bill": 18.64
         },
         {
          "day": "Thur",
          "sex": "Female",
          "size": 2,
          "smoker": "No",
          "time": "Lunch",
          "tip": 1.63,
          "total_bill": 11.87
         },
         {
          "day": "Thur",
          "sex": "Male",
          "size": 2,
          "smoker": "No",
          "time": "Lunch",
          "tip": 1.73,
          "total_bill": 9.78
         },
         {
          "day": "Thur",
          "sex": "Male",
          "size": 2,
          "smoker": "No",
          "time": "Lunch",
          "tip": 2,
          "total_bill": 7.51
         },
         {
          "day": "Sun",
          "sex": "Male",
          "size": 2,
          "smoker": "No",
          "time": "Dinner",
          "tip": 2.5,
          "total_bill": 14.07
         },
         {
          "day": "Sun",
          "sex": "Male",
          "size": 2,
          "smoker": "No",
          "time": "Dinner",
          "tip": 2,
          "total_bill": 13.13
         },
         {
          "day": "Sun",
          "sex": "Male",
          "size": 3,
          "smoker": "No",
          "time": "Dinner",
          "tip": 2.74,
          "total_bill": 17.26
         },
         {
          "day": "Sun",
          "sex": "Male",
          "size": 4,
          "smoker": "No",
          "time": "Dinner",
          "tip": 2,
          "total_bill": 24.55
         },
         {
          "day": "Sun",
          "sex": "Male",
          "size": 4,
          "smoker": "No",
          "time": "Dinner",
          "tip": 2,
          "total_bill": 19.77
         },
         {
          "day": "Sun",
          "sex": "Female",
          "size": 5,
          "smoker": "No",
          "time": "Dinner",
          "tip": 5.14,
          "total_bill": 29.85
         },
         {
          "day": "Sun",
          "sex": "Male",
          "size": 6,
          "smoker": "No",
          "time": "Dinner",
          "tip": 5,
          "total_bill": 48.17
         },
         {
          "day": "Sun",
          "sex": "Female",
          "size": 4,
          "smoker": "No",
          "time": "Dinner",
          "tip": 3.75,
          "total_bill": 25
         },
         {
          "day": "Sun",
          "sex": "Female",
          "size": 2,
          "smoker": "No",
          "time": "Dinner",
          "tip": 2.61,
          "total_bill": 13.39
         },
         {
          "day": "Sun",
          "sex": "Male",
          "size": 4,
          "smoker": "No",
          "time": "Dinner",
          "tip": 2,
          "total_bill": 16.49
         },
         {
          "day": "Sun",
          "sex": "Male",
          "size": 4,
          "smoker": "No",
          "time": "Dinner",
          "tip": 3.5,
          "total_bill": 21.5
         },
         {
          "day": "Sun",
          "sex": "Male",
          "size": 2,
          "smoker": "No",
          "time": "Dinner",
          "tip": 2.5,
          "total_bill": 12.66
         },
         {
          "day": "Sun",
          "sex": "Female",
          "size": 3,
          "smoker": "No",
          "time": "Dinner",
          "tip": 2,
          "total_bill": 16.21
         },
         {
          "day": "Sun",
          "sex": "Male",
          "size": 2,
          "smoker": "No",
          "time": "Dinner",
          "tip": 2,
          "total_bill": 13.81
         },
         {
          "day": "Sun",
          "sex": "Female",
          "size": 2,
          "smoker": "Yes",
          "time": "Dinner",
          "tip": 3,
          "total_bill": 17.51
         },
         {
          "day": "Sun",
          "sex": "Male",
          "size": 3,
          "smoker": "No",
          "time": "Dinner",
          "tip": 3.48,
          "total_bill": 24.52
         },
         {
          "day": "Sun",
          "sex": "Male",
          "size": 2,
          "smoker": "No",
          "time": "Dinner",
          "tip": 2.24,
          "total_bill": 20.76
         },
         {
          "day": "Sun",
          "sex": "Male",
          "size": 4,
          "smoker": "No",
          "time": "Dinner",
          "tip": 4.5,
          "total_bill": 31.71
         },
         {
          "day": "Sat",
          "sex": "Female",
          "size": 2,
          "smoker": "Yes",
          "time": "Dinner",
          "tip": 1.61,
          "total_bill": 10.59
         },
         {
          "day": "Sat",
          "sex": "Female",
          "size": 2,
          "smoker": "Yes",
          "time": "Dinner",
          "tip": 2,
          "total_bill": 10.63
         },
         {
          "day": "Sat",
          "sex": "Male",
          "size": 3,
          "smoker": "Yes",
          "time": "Dinner",
          "tip": 10,
          "total_bill": 50.81
         },
         {
          "day": "Sat",
          "sex": "Male",
          "size": 2,
          "smoker": "Yes",
          "time": "Dinner",
          "tip": 3.16,
          "total_bill": 15.81
         },
         {
          "day": "Sun",
          "sex": "Male",
          "size": 2,
          "smoker": "Yes",
          "time": "Dinner",
          "tip": 5.15,
          "total_bill": 7.25
         },
         {
          "day": "Sun",
          "sex": "Male",
          "size": 2,
          "smoker": "Yes",
          "time": "Dinner",
          "tip": 3.18,
          "total_bill": 31.85
         },
         {
          "day": "Sun",
          "sex": "Male",
          "size": 2,
          "smoker": "Yes",
          "time": "Dinner",
          "tip": 4,
          "total_bill": 16.82
         },
         {
          "day": "Sun",
          "sex": "Male",
          "size": 2,
          "smoker": "Yes",
          "time": "Dinner",
          "tip": 3.11,
          "total_bill": 32.9
         },
         {
          "day": "Sun",
          "sex": "Male",
          "size": 2,
          "smoker": "Yes",
          "time": "Dinner",
          "tip": 2,
          "total_bill": 17.89
         },
         {
          "day": "Sun",
          "sex": "Male",
          "size": 2,
          "smoker": "Yes",
          "time": "Dinner",
          "tip": 2,
          "total_bill": 14.48
         },
         {
          "day": "Sun",
          "sex": "Female",
          "size": 2,
          "smoker": "Yes",
          "time": "Dinner",
          "tip": 4,
          "total_bill": 9.6
         },
         {
          "day": "Sun",
          "sex": "Male",
          "size": 2,
          "smoker": "Yes",
          "time": "Dinner",
          "tip": 3.55,
          "total_bill": 34.63
         },
         {
          "day": "Sun",
          "sex": "Male",
          "size": 4,
          "smoker": "Yes",
          "time": "Dinner",
          "tip": 3.68,
          "total_bill": 34.65
         },
         {
          "day": "Sun",
          "sex": "Male",
          "size": 2,
          "smoker": "Yes",
          "time": "Dinner",
          "tip": 5.65,
          "total_bill": 23.33
         },
         {
          "day": "Sun",
          "sex": "Male",
          "size": 3,
          "smoker": "Yes",
          "time": "Dinner",
          "tip": 3.5,
          "total_bill": 45.35
         },
         {
          "day": "Sun",
          "sex": "Male",
          "size": 4,
          "smoker": "Yes",
          "time": "Dinner",
          "tip": 6.5,
          "total_bill": 23.17
         },
         {
          "day": "Sun",
          "sex": "Male",
          "size": 2,
          "smoker": "Yes",
          "time": "Dinner",
          "tip": 3,
          "total_bill": 40.55
         },
         {
          "day": "Sun",
          "sex": "Male",
          "size": 5,
          "smoker": "No",
          "time": "Dinner",
          "tip": 5,
          "total_bill": 20.69
         },
         {
          "day": "Sun",
          "sex": "Female",
          "size": 3,
          "smoker": "Yes",
          "time": "Dinner",
          "tip": 3.5,
          "total_bill": 20.9
         },
         {
          "day": "Sun",
          "sex": "Male",
          "size": 5,
          "smoker": "Yes",
          "time": "Dinner",
          "tip": 2,
          "total_bill": 30.46
         },
         {
          "day": "Sun",
          "sex": "Female",
          "size": 3,
          "smoker": "Yes",
          "time": "Dinner",
          "tip": 3.5,
          "total_bill": 18.15
         },
         {
          "day": "Sun",
          "sex": "Male",
          "size": 3,
          "smoker": "Yes",
          "time": "Dinner",
          "tip": 4,
          "total_bill": 23.1
         },
         {
          "day": "Sun",
          "sex": "Male",
          "size": 2,
          "smoker": "Yes",
          "time": "Dinner",
          "tip": 1.5,
          "total_bill": 15.69
         },
         {
          "day": "Thur",
          "sex": "Female",
          "size": 2,
          "smoker": "Yes",
          "time": "Lunch",
          "tip": 4.19,
          "total_bill": 19.81
         },
         {
          "day": "Thur",
          "sex": "Male",
          "size": 2,
          "smoker": "Yes",
          "time": "Lunch",
          "tip": 2.56,
          "total_bill": 28.44
         },
         {
          "day": "Thur",
          "sex": "Male",
          "size": 2,
          "smoker": "Yes",
          "time": "Lunch",
          "tip": 2.02,
          "total_bill": 15.48
         },
         {
          "day": "Thur",
          "sex": "Male",
          "size": 2,
          "smoker": "Yes",
          "time": "Lunch",
          "tip": 4,
          "total_bill": 16.58
         },
         {
          "day": "Thur",
          "sex": "Male",
          "size": 2,
          "smoker": "No",
          "time": "Lunch",
          "tip": 1.44,
          "total_bill": 7.56
         },
         {
          "day": "Thur",
          "sex": "Male",
          "size": 2,
          "smoker": "Yes",
          "time": "Lunch",
          "tip": 2,
          "total_bill": 10.34
         },
         {
          "day": "Thur",
          "sex": "Female",
          "size": 4,
          "smoker": "Yes",
          "time": "Lunch",
          "tip": 5,
          "total_bill": 43.11
         },
         {
          "day": "Thur",
          "sex": "Female",
          "size": 2,
          "smoker": "Yes",
          "time": "Lunch",
          "tip": 2,
          "total_bill": 13
         },
         {
          "day": "Thur",
          "sex": "Male",
          "size": 2,
          "smoker": "Yes",
          "time": "Lunch",
          "tip": 2,
          "total_bill": 13.51
         },
         {
          "day": "Thur",
          "sex": "Male",
          "size": 3,
          "smoker": "Yes",
          "time": "Lunch",
          "tip": 4,
          "total_bill": 18.71
         },
         {
          "day": "Thur",
          "sex": "Female",
          "size": 2,
          "smoker": "Yes",
          "time": "Lunch",
          "tip": 2.01,
          "total_bill": 12.74
         },
         {
          "day": "Thur",
          "sex": "Female",
          "size": 2,
          "smoker": "Yes",
          "time": "Lunch",
          "tip": 2,
          "total_bill": 13
         },
         {
          "day": "Thur",
          "sex": "Female",
          "size": 2,
          "smoker": "Yes",
          "time": "Lunch",
          "tip": 2.5,
          "total_bill": 16.4
         },
         {
          "day": "Thur",
          "sex": "Male",
          "size": 4,
          "smoker": "Yes",
          "time": "Lunch",
          "tip": 4,
          "total_bill": 20.53
         },
         {
          "day": "Thur",
          "sex": "Female",
          "size": 3,
          "smoker": "Yes",
          "time": "Lunch",
          "tip": 3.23,
          "total_bill": 16.47
         },
         {
          "day": "Sat",
          "sex": "Male",
          "size": 3,
          "smoker": "Yes",
          "time": "Dinner",
          "tip": 3.41,
          "total_bill": 26.59
         },
         {
          "day": "Sat",
          "sex": "Male",
          "size": 4,
          "smoker": "Yes",
          "time": "Dinner",
          "tip": 3,
          "total_bill": 38.73
         },
         {
          "day": "Sat",
          "sex": "Male",
          "size": 2,
          "smoker": "Yes",
          "time": "Dinner",
          "tip": 2.03,
          "total_bill": 24.27
         },
         {
          "day": "Sat",
          "sex": "Female",
          "size": 2,
          "smoker": "Yes",
          "time": "Dinner",
          "tip": 2.23,
          "total_bill": 12.76
         },
         {
          "day": "Sat",
          "sex": "Male",
          "size": 3,
          "smoker": "Yes",
          "time": "Dinner",
          "tip": 2,
          "total_bill": 30.06
         },
         {
          "day": "Sat",
          "sex": "Male",
          "size": 4,
          "smoker": "Yes",
          "time": "Dinner",
          "tip": 5.16,
          "total_bill": 25.89
         },
         {
          "day": "Sat",
          "sex": "Male",
          "size": 4,
          "smoker": "No",
          "time": "Dinner",
          "tip": 9,
          "total_bill": 48.33
         },
         {
          "day": "Sat",
          "sex": "Female",
          "size": 2,
          "smoker": "Yes",
          "time": "Dinner",
          "tip": 2.5,
          "total_bill": 13.27
         },
         {
          "day": "Sat",
          "sex": "Female",
          "size": 3,
          "smoker": "Yes",
          "time": "Dinner",
          "tip": 6.5,
          "total_bill": 28.17
         },
         {
          "day": "Sat",
          "sex": "Female",
          "size": 2,
          "smoker": "Yes",
          "time": "Dinner",
          "tip": 1.1,
          "total_bill": 12.9
         },
         {
          "day": "Sat",
          "sex": "Male",
          "size": 5,
          "smoker": "Yes",
          "time": "Dinner",
          "tip": 3,
          "total_bill": 28.15
         },
         {
          "day": "Sat",
          "sex": "Male",
          "size": 2,
          "smoker": "Yes",
          "time": "Dinner",
          "tip": 1.5,
          "total_bill": 11.59
         },
         {
          "day": "Sat",
          "sex": "Male",
          "size": 2,
          "smoker": "Yes",
          "time": "Dinner",
          "tip": 1.44,
          "total_bill": 7.74
         },
         {
          "day": "Sat",
          "sex": "Female",
          "size": 4,
          "smoker": "Yes",
          "time": "Dinner",
          "tip": 3.09,
          "total_bill": 30.14
         },
         {
          "day": "Fri",
          "sex": "Male",
          "size": 2,
          "smoker": "Yes",
          "time": "Lunch",
          "tip": 2.2,
          "total_bill": 12.16
         },
         {
          "day": "Fri",
          "sex": "Female",
          "size": 2,
          "smoker": "Yes",
          "time": "Lunch",
          "tip": 3.48,
          "total_bill": 13.42
         },
         {
          "day": "Fri",
          "sex": "Male",
          "size": 1,
          "smoker": "Yes",
          "time": "Lunch",
          "tip": 1.92,
          "total_bill": 8.58
         },
         {
          "day": "Fri",
          "sex": "Female",
          "size": 3,
          "smoker": "No",
          "time": "Lunch",
          "tip": 3,
          "total_bill": 15.98
         },
         {
          "day": "Fri",
          "sex": "Male",
          "size": 2,
          "smoker": "Yes",
          "time": "Lunch",
          "tip": 1.58,
          "total_bill": 13.42
         },
         {
          "day": "Fri",
          "sex": "Female",
          "size": 2,
          "smoker": "Yes",
          "time": "Lunch",
          "tip": 2.5,
          "total_bill": 16.27
         },
         {
          "day": "Fri",
          "sex": "Female",
          "size": 2,
          "smoker": "Yes",
          "time": "Lunch",
          "tip": 2,
          "total_bill": 10.09
         },
         {
          "day": "Sat",
          "sex": "Male",
          "size": 4,
          "smoker": "No",
          "time": "Dinner",
          "tip": 3,
          "total_bill": 20.45
         },
         {
          "day": "Sat",
          "sex": "Male",
          "size": 2,
          "smoker": "No",
          "time": "Dinner",
          "tip": 2.72,
          "total_bill": 13.28
         },
         {
          "day": "Sat",
          "sex": "Female",
          "size": 2,
          "smoker": "Yes",
          "time": "Dinner",
          "tip": 2.88,
          "total_bill": 22.12
         },
         {
          "day": "Sat",
          "sex": "Male",
          "size": 4,
          "smoker": "Yes",
          "time": "Dinner",
          "tip": 2,
          "total_bill": 24.01
         },
         {
          "day": "Sat",
          "sex": "Male",
          "size": 3,
          "smoker": "Yes",
          "time": "Dinner",
          "tip": 3,
          "total_bill": 15.69
         },
         {
          "day": "Sat",
          "sex": "Male",
          "size": 2,
          "smoker": "No",
          "time": "Dinner",
          "tip": 3.39,
          "total_bill": 11.61
         },
         {
          "day": "Sat",
          "sex": "Male",
          "size": 2,
          "smoker": "No",
          "time": "Dinner",
          "tip": 1.47,
          "total_bill": 10.77
         },
         {
          "day": "Sat",
          "sex": "Male",
          "size": 2,
          "smoker": "Yes",
          "time": "Dinner",
          "tip": 3,
          "total_bill": 15.53
         },
         {
          "day": "Sat",
          "sex": "Male",
          "size": 2,
          "smoker": "No",
          "time": "Dinner",
          "tip": 1.25,
          "total_bill": 10.07
         },
         {
          "day": "Sat",
          "sex": "Male",
          "size": 2,
          "smoker": "Yes",
          "time": "Dinner",
          "tip": 1,
          "total_bill": 12.6
         },
         {
          "day": "Sat",
          "sex": "Male",
          "size": 2,
          "smoker": "Yes",
          "time": "Dinner",
          "tip": 1.17,
          "total_bill": 32.83
         },
         {
          "day": "Sat",
          "sex": "Female",
          "size": 3,
          "smoker": "No",
          "time": "Dinner",
          "tip": 4.67,
          "total_bill": 35.83
         },
         {
          "day": "Sat",
          "sex": "Male",
          "size": 3,
          "smoker": "No",
          "time": "Dinner",
          "tip": 5.92,
          "total_bill": 29.03
         },
         {
          "day": "Sat",
          "sex": "Female",
          "size": 2,
          "smoker": "Yes",
          "time": "Dinner",
          "tip": 2,
          "total_bill": 27.18
         },
         {
          "day": "Sat",
          "sex": "Male",
          "size": 2,
          "smoker": "Yes",
          "time": "Dinner",
          "tip": 2,
          "total_bill": 22.67
         },
         {
          "day": "Sat",
          "sex": "Male",
          "size": 2,
          "smoker": "No",
          "time": "Dinner",
          "tip": 1.75,
          "total_bill": 17.82
         },
         {
          "day": "Thur",
          "sex": "Female",
          "size": 2,
          "smoker": "No",
          "time": "Dinner",
          "tip": 3,
          "total_bill": 18.78
         }
        ]
       },
       "layer": [
        {
         "encoding": {
          "color": {
           "field": "day",
           "legend": null,
           "type": "nominal"
          },
          "x": {
           "field": "day",
           "type": "nominal"
          },
          "y": {
           "aggregate": "mean",
           "axis": {
            "title": "tip"
           },
           "field": "tip",
           "type": "quantitative"
          }
         },
         "mark": "bar"
        },
        {
         "encoding": {
          "x": {
           "field": "day",
           "type": "nominal"
          },
          "y": {
           "aggregate": "ci0",
           "field": "tip",
           "type": "quantitative"
          },
          "y2": {
           "aggregate": "ci1",
           "field": "tip",
           "type": "quantitative"
          }
         },
         "mark": "rule"
        }
       ]
      },
      "image/png": "[encoded data removed]",
      "text/plain": [
       "<VegaLite 2 object>\n",
       "\n",
       "If you see this message, it means the renderer has not been properly enabled\n",
       "for the frontend that you are using. For more information, see\n",
       "https://altair-viz.github.io/user_guide/troubleshooting.html\n"
      ]
     },
     "metadata": {},
     "output_type": "display_data"
    },
    {
     "data": {
      "image/png": "[encoded data removed]",
      "text/plain": [
       "<Figure size 432x288 with 1 Axes>"
      ]
     },
     "metadata": {},
     "output_type": "display_data"
    }
   ],
   "source": [
    "display(salt.barplot(x=\"day\", y=\"tip\", data=tips))\n",
    "ax = sns.barplot(x=\"day\", y=\"tip\", data=tips, ci=68)"
   ]
  },
  {
   "cell_type": "code",
   "execution_count": 12,
   "metadata": {},
   "outputs": [
    {
     "data": {
      "application/vnd.vegalite.v2+json": {
       "$schema": "https://vega.github.io/schema/vega-lite/v2.4.1.json",
       "config": {
        "range": {
         "category": [
          "rgba(49.62499999999999,115.62499999999996,161.37500000000003,1)",
          "rgba(224.87499999999997,128.875,44.12500000000004,1)",
          "rgba(58.49999999999999,145.50000000000003,58.49999999999999,1)",
          "rgba(192.125,60.87500000000001,61.62499999999999,1)",
          "rgba(147.49999999999994,113.74999999999999,178.25,1)",
          "rgba(131.875,91.37500000000001,83.12500000000001,1)",
          "rgba(213.50000000000003,132.49999999999997,188.74999999999994,1)",
          "rgba(127.0,127.0,127.0,1)",
          "rgba(168.87500000000003,169.625,53.37500000000001,1)",
          "rgba(45.99999999999998,171.25,184.00000000000003,1)"
         ]
        },
        "view": {
         "height": 300,
         "width": 400
        }
       },
       "data": {
        "values": [
         {
          "day": "Sun",
          "sex": "Female",
          "size": 2,
          "smoker": "No",
          "time": "Dinner",
          "tip": 1.01,
          "total_bill": 16.99
         },
         {
          "day": "Sun",
          "sex": "Male",
          "size": 3,
          "smoker": "No",
          "time": "Dinner",
          "tip": 1.66,
          "total_bill": 10.34
         },
         {
          "day": "Sun",
          "sex": "Male",
          "size": 3,
          "smoker": "No",
          "time": "Dinner",
          "tip": 3.5,
          "total_bill": 21.01
         },
         {
          "day": "Sun",
          "sex": "Male",
          "size": 2,
          "smoker": "No",
          "time": "Dinner",
          "tip": 3.31,
          "total_bill": 23.68
         },
         {
          "day": "Sun",
          "sex": "Female",
          "size": 4,
          "smoker": "No",
          "time": "Dinner",
          "tip": 3.61,
          "total_bill": 24.59
         },
         {
          "day": "Sun",
          "sex": "Male",
          "size": 4,
          "smoker": "No",
          "time": "Dinner",
          "tip": 4.71,
          "total_bill": 25.29
         },
         {
          "day": "Sun",
          "sex": "Male",
          "size": 2,
          "smoker": "No",
          "time": "Dinner",
          "tip": 2,
          "total_bill": 8.77
         },
         {
          "day": "Sun",
          "sex": "Male",
          "size": 4,
          "smoker": "No",
          "time": "Dinner",
          "tip": 3.12,
          "total_bill": 26.88
         },
         {
          "day": "Sun",
          "sex": "Male",
          "size": 2,
          "smoker": "No",
          "time": "Dinner",
          "tip": 1.96,
          "total_bill": 15.04
         },
         {
          "day": "Sun",
          "sex": "Male",
          "size": 2,
          "smoker": "No",
          "time": "Dinner",
          "tip": 3.23,
          "total_bill": 14.78
         },
         {
          "day": "Sun",
          "sex": "Male",
          "size": 2,
          "smoker": "No",
          "time": "Dinner",
          "tip": 1.71,
          "total_bill": 10.27
         },
         {
          "day": "Sun",
          "sex": "Female",
          "size": 4,
          "smoker": "No",
          "time": "Dinner",
          "tip": 5,
          "total_bill": 35.26
         },
         {
          "day": "Sun",
          "sex": "Male",
          "size": 2,
          "smoker": "No",
          "time": "Dinner",
          "tip": 1.57,
          "total_bill": 15.42
         },
         {
          "day": "Sun",
          "sex": "Male",
          "size": 4,
          "smoker": "No",
          "time": "Dinner",
          "tip": 3,
          "total_bill": 18.43
         },
         {
          "day": "Sun",
          "sex": "Female",
          "size": 2,
          "smoker": "No",
          "time": "Dinner",
          "tip": 3.02,
          "total_bill": 14.83
         },
         {
          "day": "Sun",
          "sex": "Male",
          "size": 2,
          "smoker": "No",
          "time": "Dinner",
          "tip": 3.92,
          "total_bill": 21.58
         },
         {
          "day": "Sun",
          "sex": "Female",
          "size": 3,
          "smoker": "No",
          "time": "Dinner",
          "tip": 1.67,
          "total_bill": 10.33
         },
         {
          "day": "Sun",
          "sex": "Male",
          "size": 3,
          "smoker": "No",
          "time": "Dinner",
          "tip": 3.71,
          "total_bill": 16.29
         },
         {
          "day": "Sun",
          "sex": "Female",
          "size": 3,
          "smoker": "No",
          "time": "Dinner",
          "tip": 3.5,
          "total_bill": 16.97
         },
         {
          "day": "Sat",
          "sex": "Male",
          "size": 3,
          "smoker": "No",
          "time": "Dinner",
          "tip": 3.35,
          "total_bill": 20.65
         },
         {
          "day": "Sat",
          "sex": "Male",
          "size": 2,
          "smoker": "No",
          "time": "Dinner",
          "tip": 4.08,
          "total_bill": 17.92
         },
         {
          "day": "Sat",
          "sex": "Female",
          "size": 2,
          "smoker": "No",
          "time": "Dinner",
          "tip": 2.75,
          "total_bill": 20.29
         },
         {
          "day": "Sat",
          "sex": "Female",
          "size": 2,
          "smoker": "No",
          "time": "Dinner",
          "tip": 2.23,
          "total_bill": 15.77
         },
         {
          "day": "Sat",
          "sex": "Male",
          "size": 4,
          "smoker": "No",
          "time": "Dinner",
          "tip": 7.58,
          "total_bill": 39.42
         },
         {
          "day": "Sat",
          "sex": "Male",
          "size": 2,
          "smoker": "No",
          "time": "Dinner",
          "tip": 3.18,
          "total_bill": 19.82
         },
         {
          "day": "Sat",
          "sex": "Male",
          "size": 4,
          "smoker": "No",
          "time": "Dinner",
          "tip": 2.34,
          "total_bill": 17.81
         },
         {
          "day": "Sat",
          "sex": "Male",
          "size": 2,
          "smoker": "No",
          "time": "Dinner",
          "tip": 2,
          "total_bill": 13.37
         },
         {
          "day": "Sat",
          "sex": "Male",
          "size": 2,
          "smoker": "No",
          "time": "Dinner",
          "tip": 2,
          "total_bill": 12.69
         },
         {
          "day": "Sat",
          "sex": "Male",
          "size": 2,
          "smoker": "No",
          "time": "Dinner",
          "tip": 4.3,
          "total_bill": 21.7
         },
         {
          "day": "Sat",
          "sex": "Female",
          "size": 2,
          "smoker": "No",
          "time": "Dinner",
          "tip": 3,
          "total_bill": 19.65
         },
         {
          "day": "Sat",
          "sex": "Male",
          "size": 2,
          "smoker": "No",
          "time": "Dinner",
          "tip": 1.45,
          "total_bill": 9.55
         },
         {
          "day": "Sat",
          "sex": "Male",
          "size": 4,
          "smoker": "No",
          "time": "Dinner",
          "tip": 2.5,
          "total_bill": 18.35
         },
         {
          "day": "Sat",
          "sex": "Female",
          "size": 2,
          "smoker": "No",
          "time": "Dinner",
          "tip": 3,
          "total_bill": 15.06
         },
         {
          "day": "Sat",
          "sex": "Female",
          "size": 4,
          "smoker": "No",
          "time": "Dinner",
          "tip": 2.45,
          "total_bill": 20.69
         },
         {
          "day": "Sat",
          "sex": "Male",
          "size": 2,
          "smoker": "No",
          "time": "Dinner",
          "tip": 3.27,
          "total_bill": 17.78
         },
         {
          "day": "Sat",
          "sex": "Male",
          "size": 3,
          "smoker": "No",
          "time": "Dinner",
          "tip": 3.6,
          "total_bill": 24.06
         },
         {
          "day": "Sat",
          "sex": "Male",
          "size": 3,
          "smoker": "No",
          "time": "Dinner",
          "tip": 2,
          "total_bill": 16.31
         },
         {
          "day": "Sat",
          "sex": "Female",
          "size": 3,
          "smoker": "No",
          "time": "Dinner",
          "tip": 3.07,
          "total_bill": 16.93
         },
         {
          "day": "Sat",
          "sex": "Male",
          "size": 3,
          "smoker": "No",
          "time": "Dinner",
          "tip": 2.31,
          "total_bill": 18.69
         },
         {
          "day": "Sat",
          "sex": "Male",
          "size": 3,
          "smoker": "No",
          "time": "Dinner",
          "tip": 5,
          "total_bill": 31.27
         },
         {
          "day": "Sat",
          "sex": "Male",
          "size": 3,
          "smoker": "No",
          "time": "Dinner",
          "tip": 2.24,
          "total_bill": 16.04
         },
         {
          "day": "Sun",
          "sex": "Male",
          "size": 2,
          "smoker": "No",
          "time": "Dinner",
          "tip": 2.54,
          "total_bill": 17.46
         },
         {
          "day": "Sun",
          "sex": "Male",
          "size": 2,
          "smoker": "No",
          "time": "Dinner",
          "tip": 3.06,
          "total_bill": 13.94
         },
         {
          "day": "Sun",
          "sex": "Male",
          "size": 2,
          "smoker": "No",
          "time": "Dinner",
          "tip": 1.32,
          "total_bill": 9.68
         },
         {
          "day": "Sun",
          "sex": "Male",
          "size": 4,
          "smoker": "No",
          "time": "Dinner",
          "tip": 5.6,
          "total_bill": 30.4
         },
         {
          "day": "Sun",
          "sex": "Male",
          "size": 2,
          "smoker": "No",
          "time": "Dinner",
          "tip": 3,
          "total_bill": 18.29
         },
         {
          "day": "Sun",
          "sex": "Male",
          "size": 2,
          "smoker": "No",
          "time": "Dinner",
          "tip": 5,
          "total_bill": 22.23
         },
         {
          "day": "Sun",
          "sex": "Male",
          "size": 4,
          "smoker": "No",
          "time": "Dinner",
          "tip": 6,
          "total_bill": 32.4
         },
         {
          "day": "Sun",
          "sex": "Male",
          "size": 3,
          "smoker": "No",
          "time": "Dinner",
          "tip": 2.05,
          "total_bill": 28.55
         },
         {
          "day": "Sun",
          "sex": "Male",
          "size": 2,
          "smoker": "No",
          "time": "Dinner",
          "tip": 3,
          "total_bill": 18.04
         },
         {
          "day": "Sun",
          "sex": "Male",
          "size": 2,
          "smoker": "No",
          "time": "Dinner",
          "tip": 2.5,
          "total_bill": 12.54
         },
         {
          "day": "Sun",
          "sex": "Female",
          "size": 2,
          "smoker": "No",
          "time": "Dinner",
          "tip": 2.6,
          "total_bill": 10.29
         },
         {
          "day": "Sun",
          "sex": "Female",
          "size": 4,
          "smoker": "No",
          "time": "Dinner",
          "tip": 5.2,
          "total_bill": 34.81
         },
         {
          "day": "Sun",
          "sex": "Male",
          "size": 2,
          "smoker": "No",
          "time": "Dinner",
          "tip": 1.56,
          "total_bill": 9.94
         },
         {
          "day": "Sun",
          "sex": "Male",
          "size": 4,
          "smoker": "No",
          "time": "Dinner",
          "tip": 4.34,
          "total_bill": 25.56
         },
         {
          "day": "Sun",
          "sex": "Male",
          "size": 2,
          "smoker": "No",
          "time": "Dinner",
          "tip": 3.51,
          "total_bill": 19.49
         },
         {
          "day": "Sat",
          "sex": "Male",
          "size": 4,
          "smoker": "Yes",
          "time": "Dinner",
          "tip": 3,
          "total_bill": 38.01
         },
         {
          "day": "Sat",
          "sex": "Female",
          "size": 2,
          "smoker": "No",
          "time": "Dinner",
          "tip": 1.5,
          "total_bill": 26.41
         },
         {
          "day": "Sat",
          "sex": "Male",
          "size": 2,
          "smoker": "Yes",
          "time": "Dinner",
          "tip": 1.76,
          "total_bill": 11.24
         },
         {
          "day": "Sat",
          "sex": "Male",
          "size": 4,
          "smoker": "No",
          "time": "Dinner",
          "tip": 6.73,
          "total_bill": 48.27
         },
         {
          "day": "Sat",
          "sex": "Male",
          "size": 2,
          "smoker": "Yes",
          "time": "Dinner",
          "tip": 3.21,
          "total_bill": 20.29
         },
         {
          "day": "Sat",
          "sex": "Male",
          "size": 2,
          "smoker": "Yes",
          "time": "Dinner",
          "tip": 2,
          "total_bill": 13.81
         },
         {
          "day": "Sat",
          "sex": "Male",
          "size": 2,
          "smoker": "Yes",
          "time": "Dinner",
          "tip": 1.98,
          "total_bill": 11.02
         },
         {
          "day": "Sat",
          "sex": "Male",
          "size": 4,
          "smoker": "Yes",
          "time": "Dinner",
          "tip": 3.76,
          "total_bill": 18.29
         },
         {
          "day": "Sat",
          "sex": "Male",
          "size": 3,
          "smoker": "No",
          "time": "Dinner",
          "tip": 2.64,
          "total_bill": 17.59
         },
         {
          "day": "Sat",
          "sex": "Male",
          "size": 3,
          "smoker": "No",
          "time": "Dinner",
          "tip": 3.15,
          "total_bill": 20.08
         },
         {
          "day": "Sat",
          "sex": "Female",
          "size": 2,
          "smoker": "No",
          "time": "Dinner",
          "tip": 2.47,
          "total_bill": 16.45
         },
         {
          "day": "Sat",
          "sex": "Female",
          "size": 1,
          "smoker": "Yes",
          "time": "Dinner",
          "tip": 1,
          "total_bill": 3.07
         },
         {
          "day": "Sat",
          "sex": "Male",
          "size": 2,
          "smoker": "No",
          "time": "Dinner",
          "tip": 2.01,
          "total_bill": 20.23
         },
         {
          "day": "Sat",
          "sex": "Male",
          "size": 2,
          "smoker": "Yes",
          "time": "Dinner",
          "tip": 2.09,
          "total_bill": 15.01
         },
         {
          "day": "Sat",
          "sex": "Male",
          "size": 2,
          "smoker": "No",
          "time": "Dinner",
          "tip": 1.97,
          "total_bill": 12.02
         },
         {
          "day": "Sat",
          "sex": "Female",
          "size": 3,
          "smoker": "No",
          "time": "Dinner",
          "tip": 3,
          "total_bill": 17.07
         },
         {
          "day": "Sat",
          "sex": "Female",
          "size": 2,
          "smoker": "Yes",
          "time": "Dinner",
          "tip": 3.14,
          "total_bill": 26.86
         },
         {
          "day": "Sat",
          "sex": "Female",
          "size": 2,
          "smoker": "Yes",
          "time": "Dinner",
          "tip": 5,
          "total_bill": 25.28
         },
         {
          "day": "Sat",
          "sex": "Female",
          "size": 2,
          "smoker": "No",
          "time": "Dinner",
          "tip": 2.2,
          "total_bill": 14.73
         },
         {
          "day": "Sat",
          "sex": "Male",
          "size": 2,
          "smoker": "No",
          "time": "Dinner",
          "tip": 1.25,
          "total_bill": 10.51
         },
         {
          "day": "Sat",
          "sex": "Male",
          "size": 2,
          "smoker": "Yes",
          "time": "Dinner",
          "tip": 3.08,
          "total_bill": 17.92
         },
         {
          "day": "Thur",
          "sex": "Male",
          "size": 4,
          "smoker": "No",
          "time": "Lunch",
          "tip": 4,
          "total_bill": 27.2
         },
         {
          "day": "Thur",
          "sex": "Male",
          "size": 2,
          "smoker": "No",
          "time": "Lunch",
          "tip": 3,
          "total_bill": 22.76
         },
         {
          "day": "Thur",
          "sex": "Male",
          "size": 2,
          "smoker": "No",
          "time": "Lunch",
          "tip": 2.71,
          "total_bill": 17.29
         },
         {
          "day": "Thur",
          "sex": "Male",
          "size": 2,
          "smoker": "Yes",
          "time": "Lunch",
          "tip": 3,
          "total_bill": 19.44
         },
         {
          "day": "Thur",
          "sex": "Male",
          "size": 2,
          "smoker": "No",
          "time": "Lunch",
          "tip": 3.4,
          "total_bill": 16.66
         },
         {
          "day": "Thur",
          "sex": "Female",
          "size": 1,
          "smoker": "No",
          "time": "Lunch",
          "tip": 1.83,
          "total_bill": 10.07
         },
         {
          "day": "Thur",
          "sex": "Male",
          "size": 2,
          "smoker": "Yes",
          "time": "Lunch",
          "tip": 5,
          "total_bill": 32.68
         },
         {
          "day": "Thur",
          "sex": "Male",
          "size": 2,
          "smoker": "No",
          "time": "Lunch",
          "tip": 2.03,
          "total_bill": 15.98
         },
         {
          "day": "Thur",
          "sex": "Female",
          "size": 4,
          "smoker": "No",
          "time": "Lunch",
          "tip": 5.17,
          "total_bill": 34.83
         },
         {
          "day": "Thur",
          "sex": "Male",
          "size": 2,
          "smoker": "No",
          "time": "Lunch",
          "tip": 2,
          "total_bill": 13.03
         },
         {
          "day": "Thur",
          "sex": "Male",
          "size": 2,
          "smoker": "No",
          "time": "Lunch",
          "tip": 4,
          "total_bill": 18.28
         },
         {
          "day": "Thur",
          "sex": "Male",
          "size": 2,
          "smoker": "No",
          "time": "Lunch",
          "tip": 5.85,
          "total_bill": 24.71
         },
         {
          "day": "Thur",
          "sex": "Male",
          "size": 2,
          "smoker": "No",
          "time": "Lunch",
          "tip": 3,
          "total_bill": 21.16
         },
         {
          "day": "Fri",
          "sex": "Male",
          "size": 2,
          "smoker": "Yes",
          "time": "Dinner",
          "tip": 3,
          "total_bill": 28.97
         },
         {
          "day": "Fri",
          "sex": "Male",
          "size": 2,
          "smoker": "No",
          "time": "Dinner",
          "tip": 3.5,
          "total_bill": 22.49
         },
         {
          "day": "Fri",
          "sex": "Female",
          "size": 2,
          "smoker": "Yes",
          "time": "Dinner",
          "tip": 1,
          "total_bill": 5.75
         },
         {
          "day": "Fri",
          "sex": "Female",
          "size": 2,
          "smoker": "Yes",
          "time": "Dinner",
          "tip": 4.3,
          "total_bill": 16.32
         },
         {
          "day": "Fri",
          "sex": "Female",
          "size": 2,
          "smoker": "No",
          "time": "Dinner",
          "tip": 3.25,
          "total_bill": 22.75
         },
         {
          "day": "Fri",
          "sex": "Male",
          "size": 4,
          "smoker": "Yes",
          "time": "Dinner",
          "tip": 4.73,
          "total_bill": 40.17
         },
         {
          "day": "Fri",
          "sex": "Male",
          "size": 2,
          "smoker": "Yes",
          "time": "Dinner",
          "tip": 4,
          "total_bill": 27.28
         },
         {
          "day": "Fri",
          "sex": "Male",
          "size": 2,
          "smoker": "Yes",
          "time": "Dinner",
          "tip": 1.5,
          "total_bill": 12.03
         },
         {
          "day": "Fri",
          "sex": "Male",
          "size": 2,
          "smoker": "Yes",
          "time": "Dinner",
          "tip": 3,
          "total_bill": 21.01
         },
         {
          "day": "Fri",
          "sex": "Male",
          "size": 2,
          "smoker": "No",
          "time": "Dinner",
          "tip": 1.5,
          "total_bill": 12.46
         },
         {
          "day": "Fri",
          "sex": "Female",
          "size": 2,
          "smoker": "Yes",
          "time": "Dinner",
          "tip": 2.5,
          "total_bill": 11.35
         },
         {
          "day": "Fri",
          "sex": "Female",
          "size": 2,
          "smoker": "Yes",
          "time": "Dinner",
          "tip": 3,
          "total_bill": 15.38
         },
         {
          "day": "Sat",
          "sex": "Female",
          "size": 3,
          "smoker": "Yes",
          "time": "Dinner",
          "tip": 2.5,
          "total_bill": 44.3
         },
         {
          "day": "Sat",
          "sex": "Female",
          "size": 2,
          "smoker": "Yes",
          "time": "Dinner",
          "tip": 3.48,
          "total_bill": 22.42
         },
         {
          "day": "Sat",
          "sex": "Female",
          "size": 2,
          "smoker": "No",
          "time": "Dinner",
          "tip": 4.08,
          "total_bill": 20.92
         },
         {
          "day": "Sat",
          "sex": "Male",
          "size": 2,
          "smoker": "Yes",
          "time": "Dinner",
          "tip": 1.64,
          "total_bill": 15.36
         },
         {
          "day": "Sat",
          "sex": "Male",
          "size": 2,
          "smoker": "Yes",
          "time": "Dinner",
          "tip": 4.06,
          "total_bill": 20.49
         },
         {
          "day": "Sat",
          "sex": "Male",
          "size": 2,
          "smoker": "Yes",
          "time": "Dinner",
          "tip": 4.29,
          "total_bill": 25.21
         },
         {
          "day": "Sat",
          "sex": "Male",
          "size": 2,
          "smoker": "No",
          "time": "Dinner",
          "tip": 3.76,
          "total_bill": 18.24
         },
         {
          "day": "Sat",
          "sex": "Female",
          "size": 2,
          "smoker": "Yes",
          "time": "Dinner",
          "tip": 4,
          "total_bill": 14.31
         },
         {
          "day": "Sat",
          "sex": "Male",
          "size": 2,
          "smoker": "No",
          "time": "Dinner",
          "tip": 3,
          "total_bill": 14
         },
         {
          "day": "Sat",
          "sex": "Female",
          "size": 1,
          "smoker": "No",
          "time": "Dinner",
          "tip": 1,
          "total_bill": 7.25
         },
         {
          "day": "Sun",
          "sex": "Male",
          "size": 3,
          "smoker": "No",
          "time": "Dinner",
          "tip": 4,
          "total_bill": 38.07
         },
         {
          "day": "Sun",
          "sex": "Male",
          "size": 2,
          "smoker": "No",
          "time": "Dinner",
          "tip": 2.55,
          "total_bill": 23.95
         },
         {
          "day": "Sun",
          "sex": "Female",
          "size": 3,
          "smoker": "No",
          "time": "Dinner",
          "tip": 4,
          "total_bill": 25.71
         },
         {
          "day": "Sun",
          "sex": "Female",
          "size": 2,
          "smoker": "No",
          "time": "Dinner",
          "tip": 3.5,
          "total_bill": 17.31
         },
         {
          "day": "Sun",
          "sex": "Male",
          "size": 4,
          "smoker": "No",
          "time": "Dinner",
          "tip": 5.07,
          "total_bill": 29.93
         },
         {
          "day": "Thur",
          "sex": "Female",
          "size": 2,
          "smoker": "No",
          "time": "Lunch",
          "tip": 1.5,
          "total_bill": 10.65
         },
         {
          "day": "Thur",
          "sex": "Female",
          "size": 2,
          "smoker": "No",
          "time": "Lunch",
          "tip": 1.8,
          "total_bill": 12.43
         },
         {
          "day": "Thur",
          "sex": "Female",
          "size": 4,
          "smoker": "No",
          "time": "Lunch",
          "tip": 2.92,
          "total_bill": 24.08
         },
         {
          "day": "Thur",
          "sex": "Male",
          "size": 2,
          "smoker": "No",
          "time": "Lunch",
          "tip": 2.31,
          "total_bill": 11.69
         },
         {
          "day": "Thur",
          "sex": "Female",
          "size": 2,
          "smoker": "No",
          "time": "Lunch",
          "tip": 1.68,
          "total_bill": 13.42
         },
         {
          "day": "Thur",
          "sex": "Male",
          "size": 2,
          "smoker": "No",
          "time": "Lunch",
          "tip": 2.5,
          "total_bill": 14.26
         },
         {
          "day": "Thur",
          "sex": "Male",
          "size": 2,
          "smoker": "No",
          "time": "Lunch",
          "tip": 2,
          "total_bill": 15.95
         },
         {
          "day": "Thur",
          "sex": "Female",
          "size": 2,
          "smoker": "No",
          "time": "Lunch",
          "tip": 2.52,
          "total_bill": 12.48
         },
         {
          "day": "Thur",
          "sex": "Female",
          "size": 6,
          "smoker": "No",
          "time": "Lunch",
          "tip": 4.2,
          "total_bill": 29.8
         },
         {
          "day": "Thur",
          "sex": "Male",
          "size": 2,
          "smoker": "No",
          "time": "Lunch",
          "tip": 1.48,
          "total_bill": 8.52
         },
         {
          "day": "Thur",
          "sex": "Female",
          "size": 2,
          "smoker": "No",
          "time": "Lunch",
          "tip": 2,
          "total_bill": 14.52
         },
         {
          "day": "Thur",
          "sex": "Female",
          "size": 2,
          "smoker": "No",
          "time": "Lunch",
          "tip": 2,
          "total_bill": 11.38
         },
         {
          "day": "Thur",
          "sex": "Male",
          "size": 3,
          "smoker": "No",
          "time": "Lunch",
          "tip": 2.18,
          "total_bill": 22.82
         },
         {
          "day": "Thur",
          "sex": "Male",
          "size": 2,
          "smoker": "No",
          "time": "Lunch",
          "tip": 1.5,
          "total_bill": 19.08
         },
         {
          "day": "Thur",
          "sex": "Female",
          "size": 2,
          "smoker": "No",
          "time": "Lunch",
          "tip": 2.83,
          "total_bill": 20.27
         },
         {
          "day": "Thur",
          "sex": "Female",
          "size": 2,
          "smoker": "No",
          "time": "Lunch",
          "tip": 1.5,
          "total_bill": 11.17
         },
         {
          "day": "Thur",
          "sex": "Female",
          "size": 2,
          "smoker": "No",
          "time": "Lunch",
          "tip": 2,
          "total_bill": 12.26
         },
         {
          "day": "Thur",
          "sex": "Female",
          "size": 2,
          "smoker": "No",
          "time": "Lunch",
          "tip": 3.25,
          "total_bill": 18.26
         },
         {
          "day": "Thur",
          "sex": "Female",
          "size": 2,
          "smoker": "No",
          "time": "Lunch",
          "tip": 1.25,
          "total_bill": 8.51
         },
         {
          "day": "Thur",
          "sex": "Female",
          "size": 2,
          "smoker": "No",
          "time": "Lunch",
          "tip": 2,
          "total_bill": 10.33
         },
         {
          "day": "Thur",
          "sex": "Female",
          "size": 2,
          "smoker": "No",
          "time": "Lunch",
          "tip": 2,
          "total_bill": 14.15
         },
         {
          "day": "Thur",
          "sex": "Male",
          "size": 2,
          "smoker": "Yes",
          "time": "Lunch",
          "tip": 2,
          "total_bill": 16
         },
         {
          "day": "Thur",
          "sex": "Female",
          "size": 2,
          "smoker": "No",
          "time": "Lunch",
          "tip": 2.75,
          "total_bill": 13.16
         },
         {
          "day": "Thur",
          "sex": "Female",
          "size": 2,
          "smoker": "No",
          "time": "Lunch",
          "tip": 3.5,
          "total_bill": 17.47
         },
         {
          "day": "Thur",
          "sex": "Male",
          "size": 6,
          "smoker": "No",
          "time": "Lunch",
          "tip": 6.7,
          "total_bill": 34.3
         },
         {
          "day": "Thur",
          "sex": "Male",
          "size": 5,
          "smoker": "No",
          "time": "Lunch",
          "tip": 5,
          "total_bill": 41.19
         },
         {
          "day": "Thur",
          "sex": "Female",
          "size": 6,
          "smoker": "No",
          "time": "Lunch",
          "tip": 5,
          "total_bill": 27.05
         },
         {
          "day": "Thur",
          "sex": "Female",
          "size": 2,
          "smoker": "No",
          "time": "Lunch",
          "tip": 2.3,
          "total_bill": 16.43
         },
         {
          "day": "Thur",
          "sex": "Female",
          "size": 2,
          "smoker": "No",
          "time": "Lunch",
          "tip": 1.5,
          "total_bill": 8.35
         },
         {
          "day": "Thur",
          "sex": "Female",
          "size": 3,
          "smoker": "No",
          "time": "Lunch",
          "tip": 1.36,
          "total_bill": 18.64
         },
         {
          "day": "Thur",
          "sex": "Female",
          "size": 2,
          "smoker": "No",
          "time": "Lunch",
          "tip": 1.63,
          "total_bill": 11.87
         },
         {
          "day": "Thur",
          "sex": "Male",
          "size": 2,
          "smoker": "No",
          "time": "Lunch",
          "tip": 1.73,
          "total_bill": 9.78
         },
         {
          "day": "Thur",
          "sex": "Male",
          "size": 2,
          "smoker": "No",
          "time": "Lunch",
          "tip": 2,
          "total_bill": 7.51
         },
         {
          "day": "Sun",
          "sex": "Male",
          "size": 2,
          "smoker": "No",
          "time": "Dinner",
          "tip": 2.5,
          "total_bill": 14.07
         },
         {
          "day": "Sun",
          "sex": "Male",
          "size": 2,
          "smoker": "No",
          "time": "Dinner",
          "tip": 2,
          "total_bill": 13.13
         },
         {
          "day": "Sun",
          "sex": "Male",
          "size": 3,
          "smoker": "No",
          "time": "Dinner",
          "tip": 2.74,
          "total_bill": 17.26
         },
         {
          "day": "Sun",
          "sex": "Male",
          "size": 4,
          "smoker": "No",
          "time": "Dinner",
          "tip": 2,
          "total_bill": 24.55
         },
         {
          "day": "Sun",
          "sex": "Male",
          "size": 4,
          "smoker": "No",
          "time": "Dinner",
          "tip": 2,
          "total_bill": 19.77
         },
         {
          "day": "Sun",
          "sex": "Female",
          "size": 5,
          "smoker": "No",
          "time": "Dinner",
          "tip": 5.14,
          "total_bill": 29.85
         },
         {
          "day": "Sun",
          "sex": "Male",
          "size": 6,
          "smoker": "No",
          "time": "Dinner",
          "tip": 5,
          "total_bill": 48.17
         },
         {
          "day": "Sun",
          "sex": "Female",
          "size": 4,
          "smoker": "No",
          "time": "Dinner",
          "tip": 3.75,
          "total_bill": 25
         },
         {
          "day": "Sun",
          "sex": "Female",
          "size": 2,
          "smoker": "No",
          "time": "Dinner",
          "tip": 2.61,
          "total_bill": 13.39
         },
         {
          "day": "Sun",
          "sex": "Male",
          "size": 4,
          "smoker": "No",
          "time": "Dinner",
          "tip": 2,
          "total_bill": 16.49
         },
         {
          "day": "Sun",
          "sex": "Male",
          "size": 4,
          "smoker": "No",
          "time": "Dinner",
          "tip": 3.5,
          "total_bill": 21.5
         },
         {
          "day": "Sun",
          "sex": "Male",
          "size": 2,
          "smoker": "No",
          "time": "Dinner",
          "tip": 2.5,
          "total_bill": 12.66
         },
         {
          "day": "Sun",
          "sex": "Female",
          "size": 3,
          "smoker": "No",
          "time": "Dinner",
          "tip": 2,
          "total_bill": 16.21
         },
         {
          "day": "Sun",
          "sex": "Male",
          "size": 2,
          "smoker": "No",
          "time": "Dinner",
          "tip": 2,
          "total_bill": 13.81
         },
         {
          "day": "Sun",
          "sex": "Female",
          "size": 2,
          "smoker": "Yes",
          "time": "Dinner",
          "tip": 3,
          "total_bill": 17.51
         },
         {
          "day": "Sun",
          "sex": "Male",
          "size": 3,
          "smoker": "No",
          "time": "Dinner",
          "tip": 3.48,
          "total_bill": 24.52
         },
         {
          "day": "Sun",
          "sex": "Male",
          "size": 2,
          "smoker": "No",
          "time": "Dinner",
          "tip": 2.24,
          "total_bill": 20.76
         },
         {
          "day": "Sun",
          "sex": "Male",
          "size": 4,
          "smoker": "No",
          "time": "Dinner",
          "tip": 4.5,
          "total_bill": 31.71
         },
         {
          "day": "Sat",
          "sex": "Female",
          "size": 2,
          "smoker": "Yes",
          "time": "Dinner",
          "tip": 1.61,
          "total_bill": 10.59
         },
         {
          "day": "Sat",
          "sex": "Female",
          "size": 2,
          "smoker": "Yes",
          "time": "Dinner",
          "tip": 2,
          "total_bill": 10.63
         },
         {
          "day": "Sat",
          "sex": "Male",
          "size": 3,
          "smoker": "Yes",
          "time": "Dinner",
          "tip": 10,
          "total_bill": 50.81
         },
         {
          "day": "Sat",
          "sex": "Male",
          "size": 2,
          "smoker": "Yes",
          "time": "Dinner",
          "tip": 3.16,
          "total_bill": 15.81
         },
         {
          "day": "Sun",
          "sex": "Male",
          "size": 2,
          "smoker": "Yes",
          "time": "Dinner",
          "tip": 5.15,
          "total_bill": 7.25
         },
         {
          "day": "Sun",
          "sex": "Male",
          "size": 2,
          "smoker": "Yes",
          "time": "Dinner",
          "tip": 3.18,
          "total_bill": 31.85
         },
         {
          "day": "Sun",
          "sex": "Male",
          "size": 2,
          "smoker": "Yes",
          "time": "Dinner",
          "tip": 4,
          "total_bill": 16.82
         },
         {
          "day": "Sun",
          "sex": "Male",
          "size": 2,
          "smoker": "Yes",
          "time": "Dinner",
          "tip": 3.11,
          "total_bill": 32.9
         },
         {
          "day": "Sun",
          "sex": "Male",
          "size": 2,
          "smoker": "Yes",
          "time": "Dinner",
          "tip": 2,
          "total_bill": 17.89
         },
         {
          "day": "Sun",
          "sex": "Male",
          "size": 2,
          "smoker": "Yes",
          "time": "Dinner",
          "tip": 2,
          "total_bill": 14.48
         },
         {
          "day": "Sun",
          "sex": "Female",
          "size": 2,
          "smoker": "Yes",
          "time": "Dinner",
          "tip": 4,
          "total_bill": 9.6
         },
         {
          "day": "Sun",
          "sex": "Male",
          "size": 2,
          "smoker": "Yes",
          "time": "Dinner",
          "tip": 3.55,
          "total_bill": 34.63
         },
         {
          "day": "Sun",
          "sex": "Male",
          "size": 4,
          "smoker": "Yes",
          "time": "Dinner",
          "tip": 3.68,
          "total_bill": 34.65
         },
         {
          "day": "Sun",
          "sex": "Male",
          "size": 2,
          "smoker": "Yes",
          "time": "Dinner",
          "tip": 5.65,
          "total_bill": 23.33
         },
         {
          "day": "Sun",
          "sex": "Male",
          "size": 3,
          "smoker": "Yes",
          "time": "Dinner",
          "tip": 3.5,
          "total_bill": 45.35
         },
         {
          "day": "Sun",
          "sex": "Male",
          "size": 4,
          "smoker": "Yes",
          "time": "Dinner",
          "tip": 6.5,
          "total_bill": 23.17
         },
         {
          "day": "Sun",
          "sex": "Male",
          "size": 2,
          "smoker": "Yes",
          "time": "Dinner",
          "tip": 3,
          "total_bill": 40.55
         },
         {
          "day": "Sun",
          "sex": "Male",
          "size": 5,
          "smoker": "No",
          "time": "Dinner",
          "tip": 5,
          "total_bill": 20.69
         },
         {
          "day": "Sun",
          "sex": "Female",
          "size": 3,
          "smoker": "Yes",
          "time": "Dinner",
          "tip": 3.5,
          "total_bill": 20.9
         },
         {
          "day": "Sun",
          "sex": "Male",
          "size": 5,
          "smoker": "Yes",
          "time": "Dinner",
          "tip": 2,
          "total_bill": 30.46
         },
         {
          "day": "Sun",
          "sex": "Female",
          "size": 3,
          "smoker": "Yes",
          "time": "Dinner",
          "tip": 3.5,
          "total_bill": 18.15
         },
         {
          "day": "Sun",
          "sex": "Male",
          "size": 3,
          "smoker": "Yes",
          "time": "Dinner",
          "tip": 4,
          "total_bill": 23.1
         },
         {
          "day": "Sun",
          "sex": "Male",
          "size": 2,
          "smoker": "Yes",
          "time": "Dinner",
          "tip": 1.5,
          "total_bill": 15.69
         },
         {
          "day": "Thur",
          "sex": "Female",
          "size": 2,
          "smoker": "Yes",
          "time": "Lunch",
          "tip": 4.19,
          "total_bill": 19.81
         },
         {
          "day": "Thur",
          "sex": "Male",
          "size": 2,
          "smoker": "Yes",
          "time": "Lunch",
          "tip": 2.56,
          "total_bill": 28.44
         },
         {
          "day": "Thur",
          "sex": "Male",
          "size": 2,
          "smoker": "Yes",
          "time": "Lunch",
          "tip": 2.02,
          "total_bill": 15.48
         },
         {
          "day": "Thur",
          "sex": "Male",
          "size": 2,
          "smoker": "Yes",
          "time": "Lunch",
          "tip": 4,
          "total_bill": 16.58
         },
         {
          "day": "Thur",
          "sex": "Male",
          "size": 2,
          "smoker": "No",
          "time": "Lunch",
          "tip": 1.44,
          "total_bill": 7.56
         },
         {
          "day": "Thur",
          "sex": "Male",
          "size": 2,
          "smoker": "Yes",
          "time": "Lunch",
          "tip": 2,
          "total_bill": 10.34
         },
         {
          "day": "Thur",
          "sex": "Female",
          "size": 4,
          "smoker": "Yes",
          "time": "Lunch",
          "tip": 5,
          "total_bill": 43.11
         },
         {
          "day": "Thur",
          "sex": "Female",
          "size": 2,
          "smoker": "Yes",
          "time": "Lunch",
          "tip": 2,
          "total_bill": 13
         },
         {
          "day": "Thur",
          "sex": "Male",
          "size": 2,
          "smoker": "Yes",
          "time": "Lunch",
          "tip": 2,
          "total_bill": 13.51
         },
         {
          "day": "Thur",
          "sex": "Male",
          "size": 3,
          "smoker": "Yes",
          "time": "Lunch",
          "tip": 4,
          "total_bill": 18.71
         },
         {
          "day": "Thur",
          "sex": "Female",
          "size": 2,
          "smoker": "Yes",
          "time": "Lunch",
          "tip": 2.01,
          "total_bill": 12.74
         },
         {
          "day": "Thur",
          "sex": "Female",
          "size": 2,
          "smoker": "Yes",
          "time": "Lunch",
          "tip": 2,
          "total_bill": 13
         },
         {
          "day": "Thur",
          "sex": "Female",
          "size": 2,
          "smoker": "Yes",
          "time": "Lunch",
          "tip": 2.5,
          "total_bill": 16.4
         },
         {
          "day": "Thur",
          "sex": "Male",
          "size": 4,
          "smoker": "Yes",
          "time": "Lunch",
          "tip": 4,
          "total_bill": 20.53
         },
         {
          "day": "Thur",
          "sex": "Female",
          "size": 3,
          "smoker": "Yes",
          "time": "Lunch",
          "tip": 3.23,
          "total_bill": 16.47
         },
         {
          "day": "Sat",
          "sex": "Male",
          "size": 3,
          "smoker": "Yes",
          "time": "Dinner",
          "tip": 3.41,
          "total_bill": 26.59
         },
         {
          "day": "Sat",
          "sex": "Male",
          "size": 4,
          "smoker": "Yes",
          "time": "Dinner",
          "tip": 3,
          "total_bill": 38.73
         },
         {
          "day": "Sat",
          "sex": "Male",
          "size": 2,
          "smoker": "Yes",
          "time": "Dinner",
          "tip": 2.03,
          "total_bill": 24.27
         },
         {
          "day": "Sat",
          "sex": "Female",
          "size": 2,
          "smoker": "Yes",
          "time": "Dinner",
          "tip": 2.23,
          "total_bill": 12.76
         },
         {
          "day": "Sat",
          "sex": "Male",
          "size": 3,
          "smoker": "Yes",
          "time": "Dinner",
          "tip": 2,
          "total_bill": 30.06
         },
         {
          "day": "Sat",
          "sex": "Male",
          "size": 4,
          "smoker": "Yes",
          "time": "Dinner",
          "tip": 5.16,
          "total_bill": 25.89
         },
         {
          "day": "Sat",
          "sex": "Male",
          "size": 4,
          "smoker": "No",
          "time": "Dinner",
          "tip": 9,
          "total_bill": 48.33
         },
         {
          "day": "Sat",
          "sex": "Female",
          "size": 2,
          "smoker": "Yes",
          "time": "Dinner",
          "tip": 2.5,
          "total_bill": 13.27
         },
         {
          "day": "Sat",
          "sex": "Female",
          "size": 3,
          "smoker": "Yes",
          "time": "Dinner",
          "tip": 6.5,
          "total_bill": 28.17
         },
         {
          "day": "Sat",
          "sex": "Female",
          "size": 2,
          "smoker": "Yes",
          "time": "Dinner",
          "tip": 1.1,
          "total_bill": 12.9
         },
         {
          "day": "Sat",
          "sex": "Male",
          "size": 5,
          "smoker": "Yes",
          "time": "Dinner",
          "tip": 3,
          "total_bill": 28.15
         },
         {
          "day": "Sat",
          "sex": "Male",
          "size": 2,
          "smoker": "Yes",
          "time": "Dinner",
          "tip": 1.5,
          "total_bill": 11.59
         },
         {
          "day": "Sat",
          "sex": "Male",
          "size": 2,
          "smoker": "Yes",
          "time": "Dinner",
          "tip": 1.44,
          "total_bill": 7.74
         },
         {
          "day": "Sat",
          "sex": "Female",
          "size": 4,
          "smoker": "Yes",
          "time": "Dinner",
          "tip": 3.09,
          "total_bill": 30.14
         },
         {
          "day": "Fri",
          "sex": "Male",
          "size": 2,
          "smoker": "Yes",
          "time": "Lunch",
          "tip": 2.2,
          "total_bill": 12.16
         },
         {
          "day": "Fri",
          "sex": "Female",
          "size": 2,
          "smoker": "Yes",
          "time": "Lunch",
          "tip": 3.48,
          "total_bill": 13.42
         },
         {
          "day": "Fri",
          "sex": "Male",
          "size": 1,
          "smoker": "Yes",
          "time": "Lunch",
          "tip": 1.92,
          "total_bill": 8.58
         },
         {
          "day": "Fri",
          "sex": "Female",
          "size": 3,
          "smoker": "No",
          "time": "Lunch",
          "tip": 3,
          "total_bill": 15.98
         },
         {
          "day": "Fri",
          "sex": "Male",
          "size": 2,
          "smoker": "Yes",
          "time": "Lunch",
          "tip": 1.58,
          "total_bill": 13.42
         },
         {
          "day": "Fri",
          "sex": "Female",
          "size": 2,
          "smoker": "Yes",
          "time": "Lunch",
          "tip": 2.5,
          "total_bill": 16.27
         },
         {
          "day": "Fri",
          "sex": "Female",
          "size": 2,
          "smoker": "Yes",
          "time": "Lunch",
          "tip": 2,
          "total_bill": 10.09
         },
         {
          "day": "Sat",
          "sex": "Male",
          "size": 4,
          "smoker": "No",
          "time": "Dinner",
          "tip": 3,
          "total_bill": 20.45
         },
         {
          "day": "Sat",
          "sex": "Male",
          "size": 2,
          "smoker": "No",
          "time": "Dinner",
          "tip": 2.72,
          "total_bill": 13.28
         },
         {
          "day": "Sat",
          "sex": "Female",
          "size": 2,
          "smoker": "Yes",
          "time": "Dinner",
          "tip": 2.88,
          "total_bill": 22.12
         },
         {
          "day": "Sat",
          "sex": "Male",
          "size": 4,
          "smoker": "Yes",
          "time": "Dinner",
          "tip": 2,
          "total_bill": 24.01
         },
         {
          "day": "Sat",
          "sex": "Male",
          "size": 3,
          "smoker": "Yes",
          "time": "Dinner",
          "tip": 3,
          "total_bill": 15.69
         },
         {
          "day": "Sat",
          "sex": "Male",
          "size": 2,
          "smoker": "No",
          "time": "Dinner",
          "tip": 3.39,
          "total_bill": 11.61
         },
         {
          "day": "Sat",
          "sex": "Male",
          "size": 2,
          "smoker": "No",
          "time": "Dinner",
          "tip": 1.47,
          "total_bill": 10.77
         },
         {
          "day": "Sat",
          "sex": "Male",
          "size": 2,
          "smoker": "Yes",
          "time": "Dinner",
          "tip": 3,
          "total_bill": 15.53
         },
         {
          "day": "Sat",
          "sex": "Male",
          "size": 2,
          "smoker": "No",
          "time": "Dinner",
          "tip": 1.25,
          "total_bill": 10.07
         },
         {
          "day": "Sat",
          "sex": "Male",
          "size": 2,
          "smoker": "Yes",
          "time": "Dinner",
          "tip": 1,
          "total_bill": 12.6
         },
         {
          "day": "Sat",
          "sex": "Male",
          "size": 2,
          "smoker": "Yes",
          "time": "Dinner",
          "tip": 1.17,
          "total_bill": 32.83
         },
         {
          "day": "Sat",
          "sex": "Female",
          "size": 3,
          "smoker": "No",
          "time": "Dinner",
          "tip": 4.67,
          "total_bill": 35.83
         },
         {
          "day": "Sat",
          "sex": "Male",
          "size": 3,
          "smoker": "No",
          "time": "Dinner",
          "tip": 5.92,
          "total_bill": 29.03
         },
         {
          "day": "Sat",
          "sex": "Female",
          "size": 2,
          "smoker": "Yes",
          "time": "Dinner",
          "tip": 2,
          "total_bill": 27.18
         },
         {
          "day": "Sat",
          "sex": "Male",
          "size": 2,
          "smoker": "Yes",
          "time": "Dinner",
          "tip": 2,
          "total_bill": 22.67
         },
         {
          "day": "Sat",
          "sex": "Male",
          "size": 2,
          "smoker": "No",
          "time": "Dinner",
          "tip": 1.75,
          "total_bill": 17.82
         },
         {
          "day": "Thur",
          "sex": "Female",
          "size": 2,
          "smoker": "No",
          "time": "Dinner",
          "tip": 3,
          "total_bill": 18.78
         }
        ]
       },
       "layer": [
        {
         "encoding": {
          "color": {
           "field": "day",
           "legend": null,
           "type": "nominal"
          },
          "x": {
           "field": "day",
           "type": "nominal"
          },
          "y": {
           "aggregate": "mean",
           "axis": {
            "title": "tip"
           },
           "field": "tip",
           "type": "quantitative"
          }
         },
         "mark": "bar"
        },
        {
         "encoding": {
          "x": {
           "field": "day",
           "type": "nominal"
          },
          "y": {
           "aggregate": "ci0",
           "field": "tip",
           "type": "quantitative"
          },
          "y2": {
           "aggregate": "ci1",
           "field": "tip",
           "type": "quantitative"
          }
         },
         "mark": "rule"
        }
       ]
      },
      "image/png": "[encoded data removed]",
      "text/plain": [
       "<VegaLite 2 object>\n",
       "\n",
       "If you see this message, it means the renderer has not been properly enabled\n",
       "for the frontend that you are using. For more information, see\n",
       "https://altair-viz.github.io/user_guide/troubleshooting.html\n"
      ]
     },
     "metadata": {},
     "output_type": "display_data"
    },
    {
     "data": {
      "image/png": "[encoded data removed]",
      "text/plain": [
       "<Figure size 432x288 with 1 Axes>"
      ]
     },
     "metadata": {},
     "output_type": "display_data"
    }
   ],
   "source": [
    "display(salt.barplot(x=\"day\", y=\"tip\", data=tips))\n",
    "ax = sns.barplot(x=\"day\", y=\"tip\", data=tips, ci=\"sd\")"
   ]
  },
  {
   "cell_type": "code",
   "execution_count": 13,
   "metadata": {},
   "outputs": [
    {
     "data": {
      "application/vnd.vegalite.v2+json": {
       "$schema": "https://vega.github.io/schema/vega-lite/v2.4.1.json",
       "config": {
        "range": {
         "category": [
          "rgba(49.62499999999999,115.62499999999996,161.37500000000003,1)",
          "rgba(224.87499999999997,128.875,44.12500000000004,1)",
          "rgba(58.49999999999999,145.50000000000003,58.49999999999999,1)",
          "rgba(192.125,60.87500000000001,61.62499999999999,1)",
          "rgba(147.49999999999994,113.74999999999999,178.25,1)",
          "rgba(131.875,91.37500000000001,83.12500000000001,1)",
          "rgba(213.50000000000003,132.49999999999997,188.74999999999994,1)",
          "rgba(127.0,127.0,127.0,1)",
          "rgba(168.87500000000003,169.625,53.37500000000001,1)",
          "rgba(45.99999999999998,171.25,184.00000000000003,1)"
         ]
        },
        "view": {
         "height": 300,
         "width": 400
        }
       },
       "data": {
        "values": [
         {
          "day": "Sun",
          "sex": "Female",
          "size": 2,
          "smoker": "No",
          "time": "Dinner",
          "tip": 1.01,
          "total_bill": 16.99
         },
         {
          "day": "Sun",
          "sex": "Male",
          "size": 3,
          "smoker": "No",
          "time": "Dinner",
          "tip": 1.66,
          "total_bill": 10.34
         },
         {
          "day": "Sun",
          "sex": "Male",
          "size": 3,
          "smoker": "No",
          "time": "Dinner",
          "tip": 3.5,
          "total_bill": 21.01
         },
         {
          "day": "Sun",
          "sex": "Male",
          "size": 2,
          "smoker": "No",
          "time": "Dinner",
          "tip": 3.31,
          "total_bill": 23.68
         },
         {
          "day": "Sun",
          "sex": "Female",
          "size": 4,
          "smoker": "No",
          "time": "Dinner",
          "tip": 3.61,
          "total_bill": 24.59
         },
         {
          "day": "Sun",
          "sex": "Male",
          "size": 4,
          "smoker": "No",
          "time": "Dinner",
          "tip": 4.71,
          "total_bill": 25.29
         },
         {
          "day": "Sun",
          "sex": "Male",
          "size": 2,
          "smoker": "No",
          "time": "Dinner",
          "tip": 2,
          "total_bill": 8.77
         },
         {
          "day": "Sun",
          "sex": "Male",
          "size": 4,
          "smoker": "No",
          "time": "Dinner",
          "tip": 3.12,
          "total_bill": 26.88
         },
         {
          "day": "Sun",
          "sex": "Male",
          "size": 2,
          "smoker": "No",
          "time": "Dinner",
          "tip": 1.96,
          "total_bill": 15.04
         },
         {
          "day": "Sun",
          "sex": "Male",
          "size": 2,
          "smoker": "No",
          "time": "Dinner",
          "tip": 3.23,
          "total_bill": 14.78
         },
         {
          "day": "Sun",
          "sex": "Male",
          "size": 2,
          "smoker": "No",
          "time": "Dinner",
          "tip": 1.71,
          "total_bill": 10.27
         },
         {
          "day": "Sun",
          "sex": "Female",
          "size": 4,
          "smoker": "No",
          "time": "Dinner",
          "tip": 5,
          "total_bill": 35.26
         },
         {
          "day": "Sun",
          "sex": "Male",
          "size": 2,
          "smoker": "No",
          "time": "Dinner",
          "tip": 1.57,
          "total_bill": 15.42
         },
         {
          "day": "Sun",
          "sex": "Male",
          "size": 4,
          "smoker": "No",
          "time": "Dinner",
          "tip": 3,
          "total_bill": 18.43
         },
         {
          "day": "Sun",
          "sex": "Female",
          "size": 2,
          "smoker": "No",
          "time": "Dinner",
          "tip": 3.02,
          "total_bill": 14.83
         },
         {
          "day": "Sun",
          "sex": "Male",
          "size": 2,
          "smoker": "No",
          "time": "Dinner",
          "tip": 3.92,
          "total_bill": 21.58
         },
         {
          "day": "Sun",
          "sex": "Female",
          "size": 3,
          "smoker": "No",
          "time": "Dinner",
          "tip": 1.67,
          "total_bill": 10.33
         },
         {
          "day": "Sun",
          "sex": "Male",
          "size": 3,
          "smoker": "No",
          "time": "Dinner",
          "tip": 3.71,
          "total_bill": 16.29
         },
         {
          "day": "Sun",
          "sex": "Female",
          "size": 3,
          "smoker": "No",
          "time": "Dinner",
          "tip": 3.5,
          "total_bill": 16.97
         },
         {
          "day": "Sat",
          "sex": "Male",
          "size": 3,
          "smoker": "No",
          "time": "Dinner",
          "tip": 3.35,
          "total_bill": 20.65
         },
         {
          "day": "Sat",
          "sex": "Male",
          "size": 2,
          "smoker": "No",
          "time": "Dinner",
          "tip": 4.08,
          "total_bill": 17.92
         },
         {
          "day": "Sat",
          "sex": "Female",
          "size": 2,
          "smoker": "No",
          "time": "Dinner",
          "tip": 2.75,
          "total_bill": 20.29
         },
         {
          "day": "Sat",
          "sex": "Female",
          "size": 2,
          "smoker": "No",
          "time": "Dinner",
          "tip": 2.23,
          "total_bill": 15.77
         },
         {
          "day": "Sat",
          "sex": "Male",
          "size": 4,
          "smoker": "No",
          "time": "Dinner",
          "tip": 7.58,
          "total_bill": 39.42
         },
         {
          "day": "Sat",
          "sex": "Male",
          "size": 2,
          "smoker": "No",
          "time": "Dinner",
          "tip": 3.18,
          "total_bill": 19.82
         },
         {
          "day": "Sat",
          "sex": "Male",
          "size": 4,
          "smoker": "No",
          "time": "Dinner",
          "tip": 2.34,
          "total_bill": 17.81
         },
         {
          "day": "Sat",
          "sex": "Male",
          "size": 2,
          "smoker": "No",
          "time": "Dinner",
          "tip": 2,
          "total_bill": 13.37
         },
         {
          "day": "Sat",
          "sex": "Male",
          "size": 2,
          "smoker": "No",
          "time": "Dinner",
          "tip": 2,
          "total_bill": 12.69
         },
         {
          "day": "Sat",
          "sex": "Male",
          "size": 2,
          "smoker": "No",
          "time": "Dinner",
          "tip": 4.3,
          "total_bill": 21.7
         },
         {
          "day": "Sat",
          "sex": "Female",
          "size": 2,
          "smoker": "No",
          "time": "Dinner",
          "tip": 3,
          "total_bill": 19.65
         },
         {
          "day": "Sat",
          "sex": "Male",
          "size": 2,
          "smoker": "No",
          "time": "Dinner",
          "tip": 1.45,
          "total_bill": 9.55
         },
         {
          "day": "Sat",
          "sex": "Male",
          "size": 4,
          "smoker": "No",
          "time": "Dinner",
          "tip": 2.5,
          "total_bill": 18.35
         },
         {
          "day": "Sat",
          "sex": "Female",
          "size": 2,
          "smoker": "No",
          "time": "Dinner",
          "tip": 3,
          "total_bill": 15.06
         },
         {
          "day": "Sat",
          "sex": "Female",
          "size": 4,
          "smoker": "No",
          "time": "Dinner",
          "tip": 2.45,
          "total_bill": 20.69
         },
         {
          "day": "Sat",
          "sex": "Male",
          "size": 2,
          "smoker": "No",
          "time": "Dinner",
          "tip": 3.27,
          "total_bill": 17.78
         },
         {
          "day": "Sat",
          "sex": "Male",
          "size": 3,
          "smoker": "No",
          "time": "Dinner",
          "tip": 3.6,
          "total_bill": 24.06
         },
         {
          "day": "Sat",
          "sex": "Male",
          "size": 3,
          "smoker": "No",
          "time": "Dinner",
          "tip": 2,
          "total_bill": 16.31
         },
         {
          "day": "Sat",
          "sex": "Female",
          "size": 3,
          "smoker": "No",
          "time": "Dinner",
          "tip": 3.07,
          "total_bill": 16.93
         },
         {
          "day": "Sat",
          "sex": "Male",
          "size": 3,
          "smoker": "No",
          "time": "Dinner",
          "tip": 2.31,
          "total_bill": 18.69
         },
         {
          "day": "Sat",
          "sex": "Male",
          "size": 3,
          "smoker": "No",
          "time": "Dinner",
          "tip": 5,
          "total_bill": 31.27
         },
         {
          "day": "Sat",
          "sex": "Male",
          "size": 3,
          "smoker": "No",
          "time": "Dinner",
          "tip": 2.24,
          "total_bill": 16.04
         },
         {
          "day": "Sun",
          "sex": "Male",
          "size": 2,
          "smoker": "No",
          "time": "Dinner",
          "tip": 2.54,
          "total_bill": 17.46
         },
         {
          "day": "Sun",
          "sex": "Male",
          "size": 2,
          "smoker": "No",
          "time": "Dinner",
          "tip": 3.06,
          "total_bill": 13.94
         },
         {
          "day": "Sun",
          "sex": "Male",
          "size": 2,
          "smoker": "No",
          "time": "Dinner",
          "tip": 1.32,
          "total_bill": 9.68
         },
         {
          "day": "Sun",
          "sex": "Male",
          "size": 4,
          "smoker": "No",
          "time": "Dinner",
          "tip": 5.6,
          "total_bill": 30.4
         },
         {
          "day": "Sun",
          "sex": "Male",
          "size": 2,
          "smoker": "No",
          "time": "Dinner",
          "tip": 3,
          "total_bill": 18.29
         },
         {
          "day": "Sun",
          "sex": "Male",
          "size": 2,
          "smoker": "No",
          "time": "Dinner",
          "tip": 5,
          "total_bill": 22.23
         },
         {
          "day": "Sun",
          "sex": "Male",
          "size": 4,
          "smoker": "No",
          "time": "Dinner",
          "tip": 6,
          "total_bill": 32.4
         },
         {
          "day": "Sun",
          "sex": "Male",
          "size": 3,
          "smoker": "No",
          "time": "Dinner",
          "tip": 2.05,
          "total_bill": 28.55
         },
         {
          "day": "Sun",
          "sex": "Male",
          "size": 2,
          "smoker": "No",
          "time": "Dinner",
          "tip": 3,
          "total_bill": 18.04
         },
         {
          "day": "Sun",
          "sex": "Male",
          "size": 2,
          "smoker": "No",
          "time": "Dinner",
          "tip": 2.5,
          "total_bill": 12.54
         },
         {
          "day": "Sun",
          "sex": "Female",
          "size": 2,
          "smoker": "No",
          "time": "Dinner",
          "tip": 2.6,
          "total_bill": 10.29
         },
         {
          "day": "Sun",
          "sex": "Female",
          "size": 4,
          "smoker": "No",
          "time": "Dinner",
          "tip": 5.2,
          "total_bill": 34.81
         },
         {
          "day": "Sun",
          "sex": "Male",
          "size": 2,
          "smoker": "No",
          "time": "Dinner",
          "tip": 1.56,
          "total_bill": 9.94
         },
         {
          "day": "Sun",
          "sex": "Male",
          "size": 4,
          "smoker": "No",
          "time": "Dinner",
          "tip": 4.34,
          "total_bill": 25.56
         },
         {
          "day": "Sun",
          "sex": "Male",
          "size": 2,
          "smoker": "No",
          "time": "Dinner",
          "tip": 3.51,
          "total_bill": 19.49
         },
         {
          "day": "Sat",
          "sex": "Male",
          "size": 4,
          "smoker": "Yes",
          "time": "Dinner",
          "tip": 3,
          "total_bill": 38.01
         },
         {
          "day": "Sat",
          "sex": "Female",
          "size": 2,
          "smoker": "No",
          "time": "Dinner",
          "tip": 1.5,
          "total_bill": 26.41
         },
         {
          "day": "Sat",
          "sex": "Male",
          "size": 2,
          "smoker": "Yes",
          "time": "Dinner",
          "tip": 1.76,
          "total_bill": 11.24
         },
         {
          "day": "Sat",
          "sex": "Male",
          "size": 4,
          "smoker": "No",
          "time": "Dinner",
          "tip": 6.73,
          "total_bill": 48.27
         },
         {
          "day": "Sat",
          "sex": "Male",
          "size": 2,
          "smoker": "Yes",
          "time": "Dinner",
          "tip": 3.21,
          "total_bill": 20.29
         },
         {
          "day": "Sat",
          "sex": "Male",
          "size": 2,
          "smoker": "Yes",
          "time": "Dinner",
          "tip": 2,
          "total_bill": 13.81
         },
         {
          "day": "Sat",
          "sex": "Male",
          "size": 2,
          "smoker": "Yes",
          "time": "Dinner",
          "tip": 1.98,
          "total_bill": 11.02
         },
         {
          "day": "Sat",
          "sex": "Male",
          "size": 4,
          "smoker": "Yes",
          "time": "Dinner",
          "tip": 3.76,
          "total_bill": 18.29
         },
         {
          "day": "Sat",
          "sex": "Male",
          "size": 3,
          "smoker": "No",
          "time": "Dinner",
          "tip": 2.64,
          "total_bill": 17.59
         },
         {
          "day": "Sat",
          "sex": "Male",
          "size": 3,
          "smoker": "No",
          "time": "Dinner",
          "tip": 3.15,
          "total_bill": 20.08
         },
         {
          "day": "Sat",
          "sex": "Female",
          "size": 2,
          "smoker": "No",
          "time": "Dinner",
          "tip": 2.47,
          "total_bill": 16.45
         },
         {
          "day": "Sat",
          "sex": "Female",
          "size": 1,
          "smoker": "Yes",
          "time": "Dinner",
          "tip": 1,
          "total_bill": 3.07
         },
         {
          "day": "Sat",
          "sex": "Male",
          "size": 2,
          "smoker": "No",
          "time": "Dinner",
          "tip": 2.01,
          "total_bill": 20.23
         },
         {
          "day": "Sat",
          "sex": "Male",
          "size": 2,
          "smoker": "Yes",
          "time": "Dinner",
          "tip": 2.09,
          "total_bill": 15.01
         },
         {
          "day": "Sat",
          "sex": "Male",
          "size": 2,
          "smoker": "No",
          "time": "Dinner",
          "tip": 1.97,
          "total_bill": 12.02
         },
         {
          "day": "Sat",
          "sex": "Female",
          "size": 3,
          "smoker": "No",
          "time": "Dinner",
          "tip": 3,
          "total_bill": 17.07
         },
         {
          "day": "Sat",
          "sex": "Female",
          "size": 2,
          "smoker": "Yes",
          "time": "Dinner",
          "tip": 3.14,
          "total_bill": 26.86
         },
         {
          "day": "Sat",
          "sex": "Female",
          "size": 2,
          "smoker": "Yes",
          "time": "Dinner",
          "tip": 5,
          "total_bill": 25.28
         },
         {
          "day": "Sat",
          "sex": "Female",
          "size": 2,
          "smoker": "No",
          "time": "Dinner",
          "tip": 2.2,
          "total_bill": 14.73
         },
         {
          "day": "Sat",
          "sex": "Male",
          "size": 2,
          "smoker": "No",
          "time": "Dinner",
          "tip": 1.25,
          "total_bill": 10.51
         },
         {
          "day": "Sat",
          "sex": "Male",
          "size": 2,
          "smoker": "Yes",
          "time": "Dinner",
          "tip": 3.08,
          "total_bill": 17.92
         },
         {
          "day": "Thur",
          "sex": "Male",
          "size": 4,
          "smoker": "No",
          "time": "Lunch",
          "tip": 4,
          "total_bill": 27.2
         },
         {
          "day": "Thur",
          "sex": "Male",
          "size": 2,
          "smoker": "No",
          "time": "Lunch",
          "tip": 3,
          "total_bill": 22.76
         },
         {
          "day": "Thur",
          "sex": "Male",
          "size": 2,
          "smoker": "No",
          "time": "Lunch",
          "tip": 2.71,
          "total_bill": 17.29
         },
         {
          "day": "Thur",
          "sex": "Male",
          "size": 2,
          "smoker": "Yes",
          "time": "Lunch",
          "tip": 3,
          "total_bill": 19.44
         },
         {
          "day": "Thur",
          "sex": "Male",
          "size": 2,
          "smoker": "No",
          "time": "Lunch",
          "tip": 3.4,
          "total_bill": 16.66
         },
         {
          "day": "Thur",
          "sex": "Female",
          "size": 1,
          "smoker": "No",
          "time": "Lunch",
          "tip": 1.83,
          "total_bill": 10.07
         },
         {
          "day": "Thur",
          "sex": "Male",
          "size": 2,
          "smoker": "Yes",
          "time": "Lunch",
          "tip": 5,
          "total_bill": 32.68
         },
         {
          "day": "Thur",
          "sex": "Male",
          "size": 2,
          "smoker": "No",
          "time": "Lunch",
          "tip": 2.03,
          "total_bill": 15.98
         },
         {
          "day": "Thur",
          "sex": "Female",
          "size": 4,
          "smoker": "No",
          "time": "Lunch",
          "tip": 5.17,
          "total_bill": 34.83
         },
         {
          "day": "Thur",
          "sex": "Male",
          "size": 2,
          "smoker": "No",
          "time": "Lunch",
          "tip": 2,
          "total_bill": 13.03
         },
         {
          "day": "Thur",
          "sex": "Male",
          "size": 2,
          "smoker": "No",
          "time": "Lunch",
          "tip": 4,
          "total_bill": 18.28
         },
         {
          "day": "Thur",
          "sex": "Male",
          "size": 2,
          "smoker": "No",
          "time": "Lunch",
          "tip": 5.85,
          "total_bill": 24.71
         },
         {
          "day": "Thur",
          "sex": "Male",
          "size": 2,
          "smoker": "No",
          "time": "Lunch",
          "tip": 3,
          "total_bill": 21.16
         },
         {
          "day": "Fri",
          "sex": "Male",
          "size": 2,
          "smoker": "Yes",
          "time": "Dinner",
          "tip": 3,
          "total_bill": 28.97
         },
         {
          "day": "Fri",
          "sex": "Male",
          "size": 2,
          "smoker": "No",
          "time": "Dinner",
          "tip": 3.5,
          "total_bill": 22.49
         },
         {
          "day": "Fri",
          "sex": "Female",
          "size": 2,
          "smoker": "Yes",
          "time": "Dinner",
          "tip": 1,
          "total_bill": 5.75
         },
         {
          "day": "Fri",
          "sex": "Female",
          "size": 2,
          "smoker": "Yes",
          "time": "Dinner",
          "tip": 4.3,
          "total_bill": 16.32
         },
         {
          "day": "Fri",
          "sex": "Female",
          "size": 2,
          "smoker": "No",
          "time": "Dinner",
          "tip": 3.25,
          "total_bill": 22.75
         },
         {
          "day": "Fri",
          "sex": "Male",
          "size": 4,
          "smoker": "Yes",
          "time": "Dinner",
          "tip": 4.73,
          "total_bill": 40.17
         },
         {
          "day": "Fri",
          "sex": "Male",
          "size": 2,
          "smoker": "Yes",
          "time": "Dinner",
          "tip": 4,
          "total_bill": 27.28
         },
         {
          "day": "Fri",
          "sex": "Male",
          "size": 2,
          "smoker": "Yes",
          "time": "Dinner",
          "tip": 1.5,
          "total_bill": 12.03
         },
         {
          "day": "Fri",
          "sex": "Male",
          "size": 2,
          "smoker": "Yes",
          "time": "Dinner",
          "tip": 3,
          "total_bill": 21.01
         },
         {
          "day": "Fri",
          "sex": "Male",
          "size": 2,
          "smoker": "No",
          "time": "Dinner",
          "tip": 1.5,
          "total_bill": 12.46
         },
         {
          "day": "Fri",
          "sex": "Female",
          "size": 2,
          "smoker": "Yes",
          "time": "Dinner",
          "tip": 2.5,
          "total_bill": 11.35
         },
         {
          "day": "Fri",
          "sex": "Female",
          "size": 2,
          "smoker": "Yes",
          "time": "Dinner",
          "tip": 3,
          "total_bill": 15.38
         },
         {
          "day": "Sat",
          "sex": "Female",
          "size": 3,
          "smoker": "Yes",
          "time": "Dinner",
          "tip": 2.5,
          "total_bill": 44.3
         },
         {
          "day": "Sat",
          "sex": "Female",
          "size": 2,
          "smoker": "Yes",
          "time": "Dinner",
          "tip": 3.48,
          "total_bill": 22.42
         },
         {
          "day": "Sat",
          "sex": "Female",
          "size": 2,
          "smoker": "No",
          "time": "Dinner",
          "tip": 4.08,
          "total_bill": 20.92
         },
         {
          "day": "Sat",
          "sex": "Male",
          "size": 2,
          "smoker": "Yes",
          "time": "Dinner",
          "tip": 1.64,
          "total_bill": 15.36
         },
         {
          "day": "Sat",
          "sex": "Male",
          "size": 2,
          "smoker": "Yes",
          "time": "Dinner",
          "tip": 4.06,
          "total_bill": 20.49
         },
         {
          "day": "Sat",
          "sex": "Male",
          "size": 2,
          "smoker": "Yes",
          "time": "Dinner",
          "tip": 4.29,
          "total_bill": 25.21
         },
         {
          "day": "Sat",
          "sex": "Male",
          "size": 2,
          "smoker": "No",
          "time": "Dinner",
          "tip": 3.76,
          "total_bill": 18.24
         },
         {
          "day": "Sat",
          "sex": "Female",
          "size": 2,
          "smoker": "Yes",
          "time": "Dinner",
          "tip": 4,
          "total_bill": 14.31
         },
         {
          "day": "Sat",
          "sex": "Male",
          "size": 2,
          "smoker": "No",
          "time": "Dinner",
          "tip": 3,
          "total_bill": 14
         },
         {
          "day": "Sat",
          "sex": "Female",
          "size": 1,
          "smoker": "No",
          "time": "Dinner",
          "tip": 1,
          "total_bill": 7.25
         },
         {
          "day": "Sun",
          "sex": "Male",
          "size": 3,
          "smoker": "No",
          "time": "Dinner",
          "tip": 4,
          "total_bill": 38.07
         },
         {
          "day": "Sun",
          "sex": "Male",
          "size": 2,
          "smoker": "No",
          "time": "Dinner",
          "tip": 2.55,
          "total_bill": 23.95
         },
         {
          "day": "Sun",
          "sex": "Female",
          "size": 3,
          "smoker": "No",
          "time": "Dinner",
          "tip": 4,
          "total_bill": 25.71
         },
         {
          "day": "Sun",
          "sex": "Female",
          "size": 2,
          "smoker": "No",
          "time": "Dinner",
          "tip": 3.5,
          "total_bill": 17.31
         },
         {
          "day": "Sun",
          "sex": "Male",
          "size": 4,
          "smoker": "No",
          "time": "Dinner",
          "tip": 5.07,
          "total_bill": 29.93
         },
         {
          "day": "Thur",
          "sex": "Female",
          "size": 2,
          "smoker": "No",
          "time": "Lunch",
          "tip": 1.5,
          "total_bill": 10.65
         },
         {
          "day": "Thur",
          "sex": "Female",
          "size": 2,
          "smoker": "No",
          "time": "Lunch",
          "tip": 1.8,
          "total_bill": 12.43
         },
         {
          "day": "Thur",
          "sex": "Female",
          "size": 4,
          "smoker": "No",
          "time": "Lunch",
          "tip": 2.92,
          "total_bill": 24.08
         },
         {
          "day": "Thur",
          "sex": "Male",
          "size": 2,
          "smoker": "No",
          "time": "Lunch",
          "tip": 2.31,
          "total_bill": 11.69
         },
         {
          "day": "Thur",
          "sex": "Female",
          "size": 2,
          "smoker": "No",
          "time": "Lunch",
          "tip": 1.68,
          "total_bill": 13.42
         },
         {
          "day": "Thur",
          "sex": "Male",
          "size": 2,
          "smoker": "No",
          "time": "Lunch",
          "tip": 2.5,
          "total_bill": 14.26
         },
         {
          "day": "Thur",
          "sex": "Male",
          "size": 2,
          "smoker": "No",
          "time": "Lunch",
          "tip": 2,
          "total_bill": 15.95
         },
         {
          "day": "Thur",
          "sex": "Female",
          "size": 2,
          "smoker": "No",
          "time": "Lunch",
          "tip": 2.52,
          "total_bill": 12.48
         },
         {
          "day": "Thur",
          "sex": "Female",
          "size": 6,
          "smoker": "No",
          "time": "Lunch",
          "tip": 4.2,
          "total_bill": 29.8
         },
         {
          "day": "Thur",
          "sex": "Male",
          "size": 2,
          "smoker": "No",
          "time": "Lunch",
          "tip": 1.48,
          "total_bill": 8.52
         },
         {
          "day": "Thur",
          "sex": "Female",
          "size": 2,
          "smoker": "No",
          "time": "Lunch",
          "tip": 2,
          "total_bill": 14.52
         },
         {
          "day": "Thur",
          "sex": "Female",
          "size": 2,
          "smoker": "No",
          "time": "Lunch",
          "tip": 2,
          "total_bill": 11.38
         },
         {
          "day": "Thur",
          "sex": "Male",
          "size": 3,
          "smoker": "No",
          "time": "Lunch",
          "tip": 2.18,
          "total_bill": 22.82
         },
         {
          "day": "Thur",
          "sex": "Male",
          "size": 2,
          "smoker": "No",
          "time": "Lunch",
          "tip": 1.5,
          "total_bill": 19.08
         },
         {
          "day": "Thur",
          "sex": "Female",
          "size": 2,
          "smoker": "No",
          "time": "Lunch",
          "tip": 2.83,
          "total_bill": 20.27
         },
         {
          "day": "Thur",
          "sex": "Female",
          "size": 2,
          "smoker": "No",
          "time": "Lunch",
          "tip": 1.5,
          "total_bill": 11.17
         },
         {
          "day": "Thur",
          "sex": "Female",
          "size": 2,
          "smoker": "No",
          "time": "Lunch",
          "tip": 2,
          "total_bill": 12.26
         },
         {
          "day": "Thur",
          "sex": "Female",
          "size": 2,
          "smoker": "No",
          "time": "Lunch",
          "tip": 3.25,
          "total_bill": 18.26
         },
         {
          "day": "Thur",
          "sex": "Female",
          "size": 2,
          "smoker": "No",
          "time": "Lunch",
          "tip": 1.25,
          "total_bill": 8.51
         },
         {
          "day": "Thur",
          "sex": "Female",
          "size": 2,
          "smoker": "No",
          "time": "Lunch",
          "tip": 2,
          "total_bill": 10.33
         },
         {
          "day": "Thur",
          "sex": "Female",
          "size": 2,
          "smoker": "No",
          "time": "Lunch",
          "tip": 2,
          "total_bill": 14.15
         },
         {
          "day": "Thur",
          "sex": "Male",
          "size": 2,
          "smoker": "Yes",
          "time": "Lunch",
          "tip": 2,
          "total_bill": 16
         },
         {
          "day": "Thur",
          "sex": "Female",
          "size": 2,
          "smoker": "No",
          "time": "Lunch",
          "tip": 2.75,
          "total_bill": 13.16
         },
         {
          "day": "Thur",
          "sex": "Female",
          "size": 2,
          "smoker": "No",
          "time": "Lunch",
          "tip": 3.5,
          "total_bill": 17.47
         },
         {
          "day": "Thur",
          "sex": "Male",
          "size": 6,
          "smoker": "No",
          "time": "Lunch",
          "tip": 6.7,
          "total_bill": 34.3
         },
         {
          "day": "Thur",
          "sex": "Male",
          "size": 5,
          "smoker": "No",
          "time": "Lunch",
          "tip": 5,
          "total_bill": 41.19
         },
         {
          "day": "Thur",
          "sex": "Female",
          "size": 6,
          "smoker": "No",
          "time": "Lunch",
          "tip": 5,
          "total_bill": 27.05
         },
         {
          "day": "Thur",
          "sex": "Female",
          "size": 2,
          "smoker": "No",
          "time": "Lunch",
          "tip": 2.3,
          "total_bill": 16.43
         },
         {
          "day": "Thur",
          "sex": "Female",
          "size": 2,
          "smoker": "No",
          "time": "Lunch",
          "tip": 1.5,
          "total_bill": 8.35
         },
         {
          "day": "Thur",
          "sex": "Female",
          "size": 3,
          "smoker": "No",
          "time": "Lunch",
          "tip": 1.36,
          "total_bill": 18.64
         },
         {
          "day": "Thur",
          "sex": "Female",
          "size": 2,
          "smoker": "No",
          "time": "Lunch",
          "tip": 1.63,
          "total_bill": 11.87
         },
         {
          "day": "Thur",
          "sex": "Male",
          "size": 2,
          "smoker": "No",
          "time": "Lunch",
          "tip": 1.73,
          "total_bill": 9.78
         },
         {
          "day": "Thur",
          "sex": "Male",
          "size": 2,
          "smoker": "No",
          "time": "Lunch",
          "tip": 2,
          "total_bill": 7.51
         },
         {
          "day": "Sun",
          "sex": "Male",
          "size": 2,
          "smoker": "No",
          "time": "Dinner",
          "tip": 2.5,
          "total_bill": 14.07
         },
         {
          "day": "Sun",
          "sex": "Male",
          "size": 2,
          "smoker": "No",
          "time": "Dinner",
          "tip": 2,
          "total_bill": 13.13
         },
         {
          "day": "Sun",
          "sex": "Male",
          "size": 3,
          "smoker": "No",
          "time": "Dinner",
          "tip": 2.74,
          "total_bill": 17.26
         },
         {
          "day": "Sun",
          "sex": "Male",
          "size": 4,
          "smoker": "No",
          "time": "Dinner",
          "tip": 2,
          "total_bill": 24.55
         },
         {
          "day": "Sun",
          "sex": "Male",
          "size": 4,
          "smoker": "No",
          "time": "Dinner",
          "tip": 2,
          "total_bill": 19.77
         },
         {
          "day": "Sun",
          "sex": "Female",
          "size": 5,
          "smoker": "No",
          "time": "Dinner",
          "tip": 5.14,
          "total_bill": 29.85
         },
         {
          "day": "Sun",
          "sex": "Male",
          "size": 6,
          "smoker": "No",
          "time": "Dinner",
          "tip": 5,
          "total_bill": 48.17
         },
         {
          "day": "Sun",
          "sex": "Female",
          "size": 4,
          "smoker": "No",
          "time": "Dinner",
          "tip": 3.75,
          "total_bill": 25
         },
         {
          "day": "Sun",
          "sex": "Female",
          "size": 2,
          "smoker": "No",
          "time": "Dinner",
          "tip": 2.61,
          "total_bill": 13.39
         },
         {
          "day": "Sun",
          "sex": "Male",
          "size": 4,
          "smoker": "No",
          "time": "Dinner",
          "tip": 2,
          "total_bill": 16.49
         },
         {
          "day": "Sun",
          "sex": "Male",
          "size": 4,
          "smoker": "No",
          "time": "Dinner",
          "tip": 3.5,
          "total_bill": 21.5
         },
         {
          "day": "Sun",
          "sex": "Male",
          "size": 2,
          "smoker": "No",
          "time": "Dinner",
          "tip": 2.5,
          "total_bill": 12.66
         },
         {
          "day": "Sun",
          "sex": "Female",
          "size": 3,
          "smoker": "No",
          "time": "Dinner",
          "tip": 2,
          "total_bill": 16.21
         },
         {
          "day": "Sun",
          "sex": "Male",
          "size": 2,
          "smoker": "No",
          "time": "Dinner",
          "tip": 2,
          "total_bill": 13.81
         },
         {
          "day": "Sun",
          "sex": "Female",
          "size": 2,
          "smoker": "Yes",
          "time": "Dinner",
          "tip": 3,
          "total_bill": 17.51
         },
         {
          "day": "Sun",
          "sex": "Male",
          "size": 3,
          "smoker": "No",
          "time": "Dinner",
          "tip": 3.48,
          "total_bill": 24.52
         },
         {
          "day": "Sun",
          "sex": "Male",
          "size": 2,
          "smoker": "No",
          "time": "Dinner",
          "tip": 2.24,
          "total_bill": 20.76
         },
         {
          "day": "Sun",
          "sex": "Male",
          "size": 4,
          "smoker": "No",
          "time": "Dinner",
          "tip": 4.5,
          "total_bill": 31.71
         },
         {
          "day": "Sat",
          "sex": "Female",
          "size": 2,
          "smoker": "Yes",
          "time": "Dinner",
          "tip": 1.61,
          "total_bill": 10.59
         },
         {
          "day": "Sat",
          "sex": "Female",
          "size": 2,
          "smoker": "Yes",
          "time": "Dinner",
          "tip": 2,
          "total_bill": 10.63
         },
         {
          "day": "Sat",
          "sex": "Male",
          "size": 3,
          "smoker": "Yes",
          "time": "Dinner",
          "tip": 10,
          "total_bill": 50.81
         },
         {
          "day": "Sat",
          "sex": "Male",
          "size": 2,
          "smoker": "Yes",
          "time": "Dinner",
          "tip": 3.16,
          "total_bill": 15.81
         },
         {
          "day": "Sun",
          "sex": "Male",
          "size": 2,
          "smoker": "Yes",
          "time": "Dinner",
          "tip": 5.15,
          "total_bill": 7.25
         },
         {
          "day": "Sun",
          "sex": "Male",
          "size": 2,
          "smoker": "Yes",
          "time": "Dinner",
          "tip": 3.18,
          "total_bill": 31.85
         },
         {
          "day": "Sun",
          "sex": "Male",
          "size": 2,
          "smoker": "Yes",
          "time": "Dinner",
          "tip": 4,
          "total_bill": 16.82
         },
         {
          "day": "Sun",
          "sex": "Male",
          "size": 2,
          "smoker": "Yes",
          "time": "Dinner",
          "tip": 3.11,
          "total_bill": 32.9
         },
         {
          "day": "Sun",
          "sex": "Male",
          "size": 2,
          "smoker": "Yes",
          "time": "Dinner",
          "tip": 2,
          "total_bill": 17.89
         },
         {
          "day": "Sun",
          "sex": "Male",
          "size": 2,
          "smoker": "Yes",
          "time": "Dinner",
          "tip": 2,
          "total_bill": 14.48
         },
         {
          "day": "Sun",
          "sex": "Female",
          "size": 2,
          "smoker": "Yes",
          "time": "Dinner",
          "tip": 4,
          "total_bill": 9.6
         },
         {
          "day": "Sun",
          "sex": "Male",
          "size": 2,
          "smoker": "Yes",
          "time": "Dinner",
          "tip": 3.55,
          "total_bill": 34.63
         },
         {
          "day": "Sun",
          "sex": "Male",
          "size": 4,
          "smoker": "Yes",
          "time": "Dinner",
          "tip": 3.68,
          "total_bill": 34.65
         },
         {
          "day": "Sun",
          "sex": "Male",
          "size": 2,
          "smoker": "Yes",
          "time": "Dinner",
          "tip": 5.65,
          "total_bill": 23.33
         },
         {
          "day": "Sun",
          "sex": "Male",
          "size": 3,
          "smoker": "Yes",
          "time": "Dinner",
          "tip": 3.5,
          "total_bill": 45.35
         },
         {
          "day": "Sun",
          "sex": "Male",
          "size": 4,
          "smoker": "Yes",
          "time": "Dinner",
          "tip": 6.5,
          "total_bill": 23.17
         },
         {
          "day": "Sun",
          "sex": "Male",
          "size": 2,
          "smoker": "Yes",
          "time": "Dinner",
          "tip": 3,
          "total_bill": 40.55
         },
         {
          "day": "Sun",
          "sex": "Male",
          "size": 5,
          "smoker": "No",
          "time": "Dinner",
          "tip": 5,
          "total_bill": 20.69
         },
         {
          "day": "Sun",
          "sex": "Female",
          "size": 3,
          "smoker": "Yes",
          "time": "Dinner",
          "tip": 3.5,
          "total_bill": 20.9
         },
         {
          "day": "Sun",
          "sex": "Male",
          "size": 5,
          "smoker": "Yes",
          "time": "Dinner",
          "tip": 2,
          "total_bill": 30.46
         },
         {
          "day": "Sun",
          "sex": "Female",
          "size": 3,
          "smoker": "Yes",
          "time": "Dinner",
          "tip": 3.5,
          "total_bill": 18.15
         },
         {
          "day": "Sun",
          "sex": "Male",
          "size": 3,
          "smoker": "Yes",
          "time": "Dinner",
          "tip": 4,
          "total_bill": 23.1
         },
         {
          "day": "Sun",
          "sex": "Male",
          "size": 2,
          "smoker": "Yes",
          "time": "Dinner",
          "tip": 1.5,
          "total_bill": 15.69
         },
         {
          "day": "Thur",
          "sex": "Female",
          "size": 2,
          "smoker": "Yes",
          "time": "Lunch",
          "tip": 4.19,
          "total_bill": 19.81
         },
         {
          "day": "Thur",
          "sex": "Male",
          "size": 2,
          "smoker": "Yes",
          "time": "Lunch",
          "tip": 2.56,
          "total_bill": 28.44
         },
         {
          "day": "Thur",
          "sex": "Male",
          "size": 2,
          "smoker": "Yes",
          "time": "Lunch",
          "tip": 2.02,
          "total_bill": 15.48
         },
         {
          "day": "Thur",
          "sex": "Male",
          "size": 2,
          "smoker": "Yes",
          "time": "Lunch",
          "tip": 4,
          "total_bill": 16.58
         },
         {
          "day": "Thur",
          "sex": "Male",
          "size": 2,
          "smoker": "No",
          "time": "Lunch",
          "tip": 1.44,
          "total_bill": 7.56
         },
         {
          "day": "Thur",
          "sex": "Male",
          "size": 2,
          "smoker": "Yes",
          "time": "Lunch",
          "tip": 2,
          "total_bill": 10.34
         },
         {
          "day": "Thur",
          "sex": "Female",
          "size": 4,
          "smoker": "Yes",
          "time": "Lunch",
          "tip": 5,
          "total_bill": 43.11
         },
         {
          "day": "Thur",
          "sex": "Female",
          "size": 2,
          "smoker": "Yes",
          "time": "Lunch",
          "tip": 2,
          "total_bill": 13
         },
         {
          "day": "Thur",
          "sex": "Male",
          "size": 2,
          "smoker": "Yes",
          "time": "Lunch",
          "tip": 2,
          "total_bill": 13.51
         },
         {
          "day": "Thur",
          "sex": "Male",
          "size": 3,
          "smoker": "Yes",
          "time": "Lunch",
          "tip": 4,
          "total_bill": 18.71
         },
         {
          "day": "Thur",
          "sex": "Female",
          "size": 2,
          "smoker": "Yes",
          "time": "Lunch",
          "tip": 2.01,
          "total_bill": 12.74
         },
         {
          "day": "Thur",
          "sex": "Female",
          "size": 2,
          "smoker": "Yes",
          "time": "Lunch",
          "tip": 2,
          "total_bill": 13
         },
         {
          "day": "Thur",
          "sex": "Female",
          "size": 2,
          "smoker": "Yes",
          "time": "Lunch",
          "tip": 2.5,
          "total_bill": 16.4
         },
         {
          "day": "Thur",
          "sex": "Male",
          "size": 4,
          "smoker": "Yes",
          "time": "Lunch",
          "tip": 4,
          "total_bill": 20.53
         },
         {
          "day": "Thur",
          "sex": "Female",
          "size": 3,
          "smoker": "Yes",
          "time": "Lunch",
          "tip": 3.23,
          "total_bill": 16.47
         },
         {
          "day": "Sat",
          "sex": "Male",
          "size": 3,
          "smoker": "Yes",
          "time": "Dinner",
          "tip": 3.41,
          "total_bill": 26.59
         },
         {
          "day": "Sat",
          "sex": "Male",
          "size": 4,
          "smoker": "Yes",
          "time": "Dinner",
          "tip": 3,
          "total_bill": 38.73
         },
         {
          "day": "Sat",
          "sex": "Male",
          "size": 2,
          "smoker": "Yes",
          "time": "Dinner",
          "tip": 2.03,
          "total_bill": 24.27
         },
         {
          "day": "Sat",
          "sex": "Female",
          "size": 2,
          "smoker": "Yes",
          "time": "Dinner",
          "tip": 2.23,
          "total_bill": 12.76
         },
         {
          "day": "Sat",
          "sex": "Male",
          "size": 3,
          "smoker": "Yes",
          "time": "Dinner",
          "tip": 2,
          "total_bill": 30.06
         },
         {
          "day": "Sat",
          "sex": "Male",
          "size": 4,
          "smoker": "Yes",
          "time": "Dinner",
          "tip": 5.16,
          "total_bill": 25.89
         },
         {
          "day": "Sat",
          "sex": "Male",
          "size": 4,
          "smoker": "No",
          "time": "Dinner",
          "tip": 9,
          "total_bill": 48.33
         },
         {
          "day": "Sat",
          "sex": "Female",
          "size": 2,
          "smoker": "Yes",
          "time": "Dinner",
          "tip": 2.5,
          "total_bill": 13.27
         },
         {
          "day": "Sat",
          "sex": "Female",
          "size": 3,
          "smoker": "Yes",
          "time": "Dinner",
          "tip": 6.5,
          "total_bill": 28.17
         },
         {
          "day": "Sat",
          "sex": "Female",
          "size": 2,
          "smoker": "Yes",
          "time": "Dinner",
          "tip": 1.1,
          "total_bill": 12.9
         },
         {
          "day": "Sat",
          "sex": "Male",
          "size": 5,
          "smoker": "Yes",
          "time": "Dinner",
          "tip": 3,
          "total_bill": 28.15
         },
         {
          "day": "Sat",
          "sex": "Male",
          "size": 2,
          "smoker": "Yes",
          "time": "Dinner",
          "tip": 1.5,
          "total_bill": 11.59
         },
         {
          "day": "Sat",
          "sex": "Male",
          "size": 2,
          "smoker": "Yes",
          "time": "Dinner",
          "tip": 1.44,
          "total_bill": 7.74
         },
         {
          "day": "Sat",
          "sex": "Female",
          "size": 4,
          "smoker": "Yes",
          "time": "Dinner",
          "tip": 3.09,
          "total_bill": 30.14
         },
         {
          "day": "Fri",
          "sex": "Male",
          "size": 2,
          "smoker": "Yes",
          "time": "Lunch",
          "tip": 2.2,
          "total_bill": 12.16
         },
         {
          "day": "Fri",
          "sex": "Female",
          "size": 2,
          "smoker": "Yes",
          "time": "Lunch",
          "tip": 3.48,
          "total_bill": 13.42
         },
         {
          "day": "Fri",
          "sex": "Male",
          "size": 1,
          "smoker": "Yes",
          "time": "Lunch",
          "tip": 1.92,
          "total_bill": 8.58
         },
         {
          "day": "Fri",
          "sex": "Female",
          "size": 3,
          "smoker": "No",
          "time": "Lunch",
          "tip": 3,
          "total_bill": 15.98
         },
         {
          "day": "Fri",
          "sex": "Male",
          "size": 2,
          "smoker": "Yes",
          "time": "Lunch",
          "tip": 1.58,
          "total_bill": 13.42
         },
         {
          "day": "Fri",
          "sex": "Female",
          "size": 2,
          "smoker": "Yes",
          "time": "Lunch",
          "tip": 2.5,
          "total_bill": 16.27
         },
         {
          "day": "Fri",
          "sex": "Female",
          "size": 2,
          "smoker": "Yes",
          "time": "Lunch",
          "tip": 2,
          "total_bill": 10.09
         },
         {
          "day": "Sat",
          "sex": "Male",
          "size": 4,
          "smoker": "No",
          "time": "Dinner",
          "tip": 3,
          "total_bill": 20.45
         },
         {
          "day": "Sat",
          "sex": "Male",
          "size": 2,
          "smoker": "No",
          "time": "Dinner",
          "tip": 2.72,
          "total_bill": 13.28
         },
         {
          "day": "Sat",
          "sex": "Female",
          "size": 2,
          "smoker": "Yes",
          "time": "Dinner",
          "tip": 2.88,
          "total_bill": 22.12
         },
         {
          "day": "Sat",
          "sex": "Male",
          "size": 4,
          "smoker": "Yes",
          "time": "Dinner",
          "tip": 2,
          "total_bill": 24.01
         },
         {
          "day": "Sat",
          "sex": "Male",
          "size": 3,
          "smoker": "Yes",
          "time": "Dinner",
          "tip": 3,
          "total_bill": 15.69
         },
         {
          "day": "Sat",
          "sex": "Male",
          "size": 2,
          "smoker": "No",
          "time": "Dinner",
          "tip": 3.39,
          "total_bill": 11.61
         },
         {
          "day": "Sat",
          "sex": "Male",
          "size": 2,
          "smoker": "No",
          "time": "Dinner",
          "tip": 1.47,
          "total_bill": 10.77
         },
         {
          "day": "Sat",
          "sex": "Male",
          "size": 2,
          "smoker": "Yes",
          "time": "Dinner",
          "tip": 3,
          "total_bill": 15.53
         },
         {
          "day": "Sat",
          "sex": "Male",
          "size": 2,
          "smoker": "No",
          "time": "Dinner",
          "tip": 1.25,
          "total_bill": 10.07
         },
         {
          "day": "Sat",
          "sex": "Male",
          "size": 2,
          "smoker": "Yes",
          "time": "Dinner",
          "tip": 1,
          "total_bill": 12.6
         },
         {
          "day": "Sat",
          "sex": "Male",
          "size": 2,
          "smoker": "Yes",
          "time": "Dinner",
          "tip": 1.17,
          "total_bill": 32.83
         },
         {
          "day": "Sat",
          "sex": "Female",
          "size": 3,
          "smoker": "No",
          "time": "Dinner",
          "tip": 4.67,
          "total_bill": 35.83
         },
         {
          "day": "Sat",
          "sex": "Male",
          "size": 3,
          "smoker": "No",
          "time": "Dinner",
          "tip": 5.92,
          "total_bill": 29.03
         },
         {
          "day": "Sat",
          "sex": "Female",
          "size": 2,
          "smoker": "Yes",
          "time": "Dinner",
          "tip": 2,
          "total_bill": 27.18
         },
         {
          "day": "Sat",
          "sex": "Male",
          "size": 2,
          "smoker": "Yes",
          "time": "Dinner",
          "tip": 2,
          "total_bill": 22.67
         },
         {
          "day": "Sat",
          "sex": "Male",
          "size": 2,
          "smoker": "No",
          "time": "Dinner",
          "tip": 1.75,
          "total_bill": 17.82
         },
         {
          "day": "Thur",
          "sex": "Female",
          "size": 2,
          "smoker": "No",
          "time": "Dinner",
          "tip": 3,
          "total_bill": 18.78
         }
        ]
       },
       "layer": [
        {
         "encoding": {
          "color": {
           "field": "day",
           "legend": null,
           "type": "nominal"
          },
          "x": {
           "field": "day",
           "type": "nominal"
          },
          "y": {
           "aggregate": "mean",
           "axis": {
            "title": "tip"
           },
           "field": "tip",
           "type": "quantitative"
          }
         },
         "mark": "bar"
        },
        {
         "encoding": {
          "x": {
           "field": "day",
           "type": "nominal"
          },
          "y": {
           "aggregate": "ci0",
           "field": "tip",
           "type": "quantitative"
          },
          "y2": {
           "aggregate": "ci1",
           "field": "tip",
           "type": "quantitative"
          }
         },
         "mark": "rule"
        }
       ]
      },
      "image/png": "[encoded data removed]",
      "text/plain": [
       "<VegaLite 2 object>\n",
       "\n",
       "If you see this message, it means the renderer has not been properly enabled\n",
       "for the frontend that you are using. For more information, see\n",
       "https://altair-viz.github.io/user_guide/troubleshooting.html\n"
      ]
     },
     "metadata": {},
     "output_type": "display_data"
    },
    {
     "data": {
      "image/png": "[encoded data removed]",
      "text/plain": [
       "<Figure size 432x288 with 1 Axes>"
      ]
     },
     "metadata": {},
     "output_type": "display_data"
    }
   ],
   "source": [
    "display(salt.barplot(x=\"day\", y=\"tip\", data=tips))\n",
    "ax = sns.barplot(x=\"day\", y=\"tip\", data=tips, capsize=.2)"
   ]
  },
  {
   "cell_type": "code",
   "execution_count": 14,
   "metadata": {},
   "outputs": [
    {
     "data": {
      "application/vnd.vegalite.v2+json": {
       "$schema": "https://vega.github.io/schema/vega-lite/v2.4.1.json",
       "config": {
        "range": {
         "category": [
          "rgba(56.9764705882353,73.91764705882353,86.05882352941177,1)",
          "rgba(63.11895424836602,97.47189542483659,122.09150326797386,1)",
          "rgba(69.09542483660131,120.38954248366011,157.15032679738565,1)",
          "rgba(87.61356209150327,142.86160130718952,182.0165032679739,1)",
          "rgba(117.67238562091507,163.67336601307187,195.34591503267973,1)",
          "rgba(148.56617647058826,185.06323529411762,209.04558823529413,1)"
         ]
        },
        "view": {
         "height": 300,
         "width": 400
        }
       },
       "data": {
        "values": [
         {
          "day": "Sun",
          "sex": "Female",
          "size": 2,
          "smoker": "No",
          "time": "Dinner",
          "tip": 1.01,
          "total_bill": 16.99
         },
         {
          "day": "Sun",
          "sex": "Male",
          "size": 3,
          "smoker": "No",
          "time": "Dinner",
          "tip": 1.66,
          "total_bill": 10.34
         },
         {
          "day": "Sun",
          "sex": "Male",
          "size": 3,
          "smoker": "No",
          "time": "Dinner",
          "tip": 3.5,
          "total_bill": 21.01
         },
         {
          "day": "Sun",
          "sex": "Male",
          "size": 2,
          "smoker": "No",
          "time": "Dinner",
          "tip": 3.31,
          "total_bill": 23.68
         },
         {
          "day": "Sun",
          "sex": "Female",
          "size": 4,
          "smoker": "No",
          "time": "Dinner",
          "tip": 3.61,
          "total_bill": 24.59
         },
         {
          "day": "Sun",
          "sex": "Male",
          "size": 4,
          "smoker": "No",
          "time": "Dinner",
          "tip": 4.71,
          "total_bill": 25.29
         },
         {
          "day": "Sun",
          "sex": "Male",
          "size": 2,
          "smoker": "No",
          "time": "Dinner",
          "tip": 2,
          "total_bill": 8.77
         },
         {
          "day": "Sun",
          "sex": "Male",
          "size": 4,
          "smoker": "No",
          "time": "Dinner",
          "tip": 3.12,
          "total_bill": 26.88
         },
         {
          "day": "Sun",
          "sex": "Male",
          "size": 2,
          "smoker": "No",
          "time": "Dinner",
          "tip": 1.96,
          "total_bill": 15.04
         },
         {
          "day": "Sun",
          "sex": "Male",
          "size": 2,
          "smoker": "No",
          "time": "Dinner",
          "tip": 3.23,
          "total_bill": 14.78
         },
         {
          "day": "Sun",
          "sex": "Male",
          "size": 2,
          "smoker": "No",
          "time": "Dinner",
          "tip": 1.71,
          "total_bill": 10.27
         },
         {
          "day": "Sun",
          "sex": "Female",
          "size": 4,
          "smoker": "No",
          "time": "Dinner",
          "tip": 5,
          "total_bill": 35.26
         },
         {
          "day": "Sun",
          "sex": "Male",
          "size": 2,
          "smoker": "No",
          "time": "Dinner",
          "tip": 1.57,
          "total_bill": 15.42
         },
         {
          "day": "Sun",
          "sex": "Male",
          "size": 4,
          "smoker": "No",
          "time": "Dinner",
          "tip": 3,
          "total_bill": 18.43
         },
         {
          "day": "Sun",
          "sex": "Female",
          "size": 2,
          "smoker": "No",
          "time": "Dinner",
          "tip": 3.02,
          "total_bill": 14.83
         },
         {
          "day": "Sun",
          "sex": "Male",
          "size": 2,
          "smoker": "No",
          "time": "Dinner",
          "tip": 3.92,
          "total_bill": 21.58
         },
         {
          "day": "Sun",
          "sex": "Female",
          "size": 3,
          "smoker": "No",
          "time": "Dinner",
          "tip": 1.67,
          "total_bill": 10.33
         },
         {
          "day": "Sun",
          "sex": "Male",
          "size": 3,
          "smoker": "No",
          "time": "Dinner",
          "tip": 3.71,
          "total_bill": 16.29
         },
         {
          "day": "Sun",
          "sex": "Female",
          "size": 3,
          "smoker": "No",
          "time": "Dinner",
          "tip": 3.5,
          "total_bill": 16.97
         },
         {
          "day": "Sat",
          "sex": "Male",
          "size": 3,
          "smoker": "No",
          "time": "Dinner",
          "tip": 3.35,
          "total_bill": 20.65
         },
         {
          "day": "Sat",
          "sex": "Male",
          "size": 2,
          "smoker": "No",
          "time": "Dinner",
          "tip": 4.08,
          "total_bill": 17.92
         },
         {
          "day": "Sat",
          "sex": "Female",
          "size": 2,
          "smoker": "No",
          "time": "Dinner",
          "tip": 2.75,
          "total_bill": 20.29
         },
         {
          "day": "Sat",
          "sex": "Female",
          "size": 2,
          "smoker": "No",
          "time": "Dinner",
          "tip": 2.23,
          "total_bill": 15.77
         },
         {
          "day": "Sat",
          "sex": "Male",
          "size": 4,
          "smoker": "No",
          "time": "Dinner",
          "tip": 7.58,
          "total_bill": 39.42
         },
         {
          "day": "Sat",
          "sex": "Male",
          "size": 2,
          "smoker": "No",
          "time": "Dinner",
          "tip": 3.18,
          "total_bill": 19.82
         },
         {
          "day": "Sat",
          "sex": "Male",
          "size": 4,
          "smoker": "No",
          "time": "Dinner",
          "tip": 2.34,
          "total_bill": 17.81
         },
         {
          "day": "Sat",
          "sex": "Male",
          "size": 2,
          "smoker": "No",
          "time": "Dinner",
          "tip": 2,
          "total_bill": 13.37
         },
         {
          "day": "Sat",
          "sex": "Male",
          "size": 2,
          "smoker": "No",
          "time": "Dinner",
          "tip": 2,
          "total_bill": 12.69
         },
         {
          "day": "Sat",
          "sex": "Male",
          "size": 2,
          "smoker": "No",
          "time": "Dinner",
          "tip": 4.3,
          "total_bill": 21.7
         },
         {
          "day": "Sat",
          "sex": "Female",
          "size": 2,
          "smoker": "No",
          "time": "Dinner",
          "tip": 3,
          "total_bill": 19.65
         },
         {
          "day": "Sat",
          "sex": "Male",
          "size": 2,
          "smoker": "No",
          "time": "Dinner",
          "tip": 1.45,
          "total_bill": 9.55
         },
         {
          "day": "Sat",
          "sex": "Male",
          "size": 4,
          "smoker": "No",
          "time": "Dinner",
          "tip": 2.5,
          "total_bill": 18.35
         },
         {
          "day": "Sat",
          "sex": "Female",
          "size": 2,
          "smoker": "No",
          "time": "Dinner",
          "tip": 3,
          "total_bill": 15.06
         },
         {
          "day": "Sat",
          "sex": "Female",
          "size": 4,
          "smoker": "No",
          "time": "Dinner",
          "tip": 2.45,
          "total_bill": 20.69
         },
         {
          "day": "Sat",
          "sex": "Male",
          "size": 2,
          "smoker": "No",
          "time": "Dinner",
          "tip": 3.27,
          "total_bill": 17.78
         },
         {
          "day": "Sat",
          "sex": "Male",
          "size": 3,
          "smoker": "No",
          "time": "Dinner",
          "tip": 3.6,
          "total_bill": 24.06
         },
         {
          "day": "Sat",
          "sex": "Male",
          "size": 3,
          "smoker": "No",
          "time": "Dinner",
          "tip": 2,
          "total_bill": 16.31
         },
         {
          "day": "Sat",
          "sex": "Female",
          "size": 3,
          "smoker": "No",
          "time": "Dinner",
          "tip": 3.07,
          "total_bill": 16.93
         },
         {
          "day": "Sat",
          "sex": "Male",
          "size": 3,
          "smoker": "No",
          "time": "Dinner",
          "tip": 2.31,
          "total_bill": 18.69
         },
         {
          "day": "Sat",
          "sex": "Male",
          "size": 3,
          "smoker": "No",
          "time": "Dinner",
          "tip": 5,
          "total_bill": 31.27
         },
         {
          "day": "Sat",
          "sex": "Male",
          "size": 3,
          "smoker": "No",
          "time": "Dinner",
          "tip": 2.24,
          "total_bill": 16.04
         },
         {
          "day": "Sun",
          "sex": "Male",
          "size": 2,
          "smoker": "No",
          "time": "Dinner",
          "tip": 2.54,
          "total_bill": 17.46
         },
         {
          "day": "Sun",
          "sex": "Male",
          "size": 2,
          "smoker": "No",
          "time": "Dinner",
          "tip": 3.06,
          "total_bill": 13.94
         },
         {
          "day": "Sun",
          "sex": "Male",
          "size": 2,
          "smoker": "No",
          "time": "Dinner",
          "tip": 1.32,
          "total_bill": 9.68
         },
         {
          "day": "Sun",
          "sex": "Male",
          "size": 4,
          "smoker": "No",
          "time": "Dinner",
          "tip": 5.6,
          "total_bill": 30.4
         },
         {
          "day": "Sun",
          "sex": "Male",
          "size": 2,
          "smoker": "No",
          "time": "Dinner",
          "tip": 3,
          "total_bill": 18.29
         },
         {
          "day": "Sun",
          "sex": "Male",
          "size": 2,
          "smoker": "No",
          "time": "Dinner",
          "tip": 5,
          "total_bill": 22.23
         },
         {
          "day": "Sun",
          "sex": "Male",
          "size": 4,
          "smoker": "No",
          "time": "Dinner",
          "tip": 6,
          "total_bill": 32.4
         },
         {
          "day": "Sun",
          "sex": "Male",
          "size": 3,
          "smoker": "No",
          "time": "Dinner",
          "tip": 2.05,
          "total_bill": 28.55
         },
         {
          "day": "Sun",
          "sex": "Male",
          "size": 2,
          "smoker": "No",
          "time": "Dinner",
          "tip": 3,
          "total_bill": 18.04
         },
         {
          "day": "Sun",
          "sex": "Male",
          "size": 2,
          "smoker": "No",
          "time": "Dinner",
          "tip": 2.5,
          "total_bill": 12.54
         },
         {
          "day": "Sun",
          "sex": "Female",
          "size": 2,
          "smoker": "No",
          "time": "Dinner",
          "tip": 2.6,
          "total_bill": 10.29
         },
         {
          "day": "Sun",
          "sex": "Female",
          "size": 4,
          "smoker": "No",
          "time": "Dinner",
          "tip": 5.2,
          "total_bill": 34.81
         },
         {
          "day": "Sun",
          "sex": "Male",
          "size": 2,
          "smoker": "No",
          "time": "Dinner",
          "tip": 1.56,
          "total_bill": 9.94
         },
         {
          "day": "Sun",
          "sex": "Male",
          "size": 4,
          "smoker": "No",
          "time": "Dinner",
          "tip": 4.34,
          "total_bill": 25.56
         },
         {
          "day": "Sun",
          "sex": "Male",
          "size": 2,
          "smoker": "No",
          "time": "Dinner",
          "tip": 3.51,
          "total_bill": 19.49
         },
         {
          "day": "Sat",
          "sex": "Male",
          "size": 4,
          "smoker": "Yes",
          "time": "Dinner",
          "tip": 3,
          "total_bill": 38.01
         },
         {
          "day": "Sat",
          "sex": "Female",
          "size": 2,
          "smoker": "No",
          "time": "Dinner",
          "tip": 1.5,
          "total_bill": 26.41
         },
         {
          "day": "Sat",
          "sex": "Male",
          "size": 2,
          "smoker": "Yes",
          "time": "Dinner",
          "tip": 1.76,
          "total_bill": 11.24
         },
         {
          "day": "Sat",
          "sex": "Male",
          "size": 4,
          "smoker": "No",
          "time": "Dinner",
          "tip": 6.73,
          "total_bill": 48.27
         },
         {
          "day": "Sat",
          "sex": "Male",
          "size": 2,
          "smoker": "Yes",
          "time": "Dinner",
          "tip": 3.21,
          "total_bill": 20.29
         },
         {
          "day": "Sat",
          "sex": "Male",
          "size": 2,
          "smoker": "Yes",
          "time": "Dinner",
          "tip": 2,
          "total_bill": 13.81
         },
         {
          "day": "Sat",
          "sex": "Male",
          "size": 2,
          "smoker": "Yes",
          "time": "Dinner",
          "tip": 1.98,
          "total_bill": 11.02
         },
         {
          "day": "Sat",
          "sex": "Male",
          "size": 4,
          "smoker": "Yes",
          "time": "Dinner",
          "tip": 3.76,
          "total_bill": 18.29
         },
         {
          "day": "Sat",
          "sex": "Male",
          "size": 3,
          "smoker": "No",
          "time": "Dinner",
          "tip": 2.64,
          "total_bill": 17.59
         },
         {
          "day": "Sat",
          "sex": "Male",
          "size": 3,
          "smoker": "No",
          "time": "Dinner",
          "tip": 3.15,
          "total_bill": 20.08
         },
         {
          "day": "Sat",
          "sex": "Female",
          "size": 2,
          "smoker": "No",
          "time": "Dinner",
          "tip": 2.47,
          "total_bill": 16.45
         },
         {
          "day": "Sat",
          "sex": "Female",
          "size": 1,
          "smoker": "Yes",
          "time": "Dinner",
          "tip": 1,
          "total_bill": 3.07
         },
         {
          "day": "Sat",
          "sex": "Male",
          "size": 2,
          "smoker": "No",
          "time": "Dinner",
          "tip": 2.01,
          "total_bill": 20.23
         },
         {
          "day": "Sat",
          "sex": "Male",
          "size": 2,
          "smoker": "Yes",
          "time": "Dinner",
          "tip": 2.09,
          "total_bill": 15.01
         },
         {
          "day": "Sat",
          "sex": "Male",
          "size": 2,
          "smoker": "No",
          "time": "Dinner",
          "tip": 1.97,
          "total_bill": 12.02
         },
         {
          "day": "Sat",
          "sex": "Female",
          "size": 3,
          "smoker": "No",
          "time": "Dinner",
          "tip": 3,
          "total_bill": 17.07
         },
         {
          "day": "Sat",
          "sex": "Female",
          "size": 2,
          "smoker": "Yes",
          "time": "Dinner",
          "tip": 3.14,
          "total_bill": 26.86
         },
         {
          "day": "Sat",
          "sex": "Female",
          "size": 2,
          "smoker": "Yes",
          "time": "Dinner",
          "tip": 5,
          "total_bill": 25.28
         },
         {
          "day": "Sat",
          "sex": "Female",
          "size": 2,
          "smoker": "No",
          "time": "Dinner",
          "tip": 2.2,
          "total_bill": 14.73
         },
         {
          "day": "Sat",
          "sex": "Male",
          "size": 2,
          "smoker": "No",
          "time": "Dinner",
          "tip": 1.25,
          "total_bill": 10.51
         },
         {
          "day": "Sat",
          "sex": "Male",
          "size": 2,
          "smoker": "Yes",
          "time": "Dinner",
          "tip": 3.08,
          "total_bill": 17.92
         },
         {
          "day": "Thur",
          "sex": "Male",
          "size": 4,
          "smoker": "No",
          "time": "Lunch",
          "tip": 4,
          "total_bill": 27.2
         },
         {
          "day": "Thur",
          "sex": "Male",
          "size": 2,
          "smoker": "No",
          "time": "Lunch",
          "tip": 3,
          "total_bill": 22.76
         },
         {
          "day": "Thur",
          "sex": "Male",
          "size": 2,
          "smoker": "No",
          "time": "Lunch",
          "tip": 2.71,
          "total_bill": 17.29
         },
         {
          "day": "Thur",
          "sex": "Male",
          "size": 2,
          "smoker": "Yes",
          "time": "Lunch",
          "tip": 3,
          "total_bill": 19.44
         },
         {
          "day": "Thur",
          "sex": "Male",
          "size": 2,
          "smoker": "No",
          "time": "Lunch",
          "tip": 3.4,
          "total_bill": 16.66
         },
         {
          "day": "Thur",
          "sex": "Female",
          "size": 1,
          "smoker": "No",
          "time": "Lunch",
          "tip": 1.83,
          "total_bill": 10.07
         },
         {
          "day": "Thur",
          "sex": "Male",
          "size": 2,
          "smoker": "Yes",
          "time": "Lunch",
          "tip": 5,
          "total_bill": 32.68
         },
         {
          "day": "Thur",
          "sex": "Male",
          "size": 2,
          "smoker": "No",
          "time": "Lunch",
          "tip": 2.03,
          "total_bill": 15.98
         },
         {
          "day": "Thur",
          "sex": "Female",
          "size": 4,
          "smoker": "No",
          "time": "Lunch",
          "tip": 5.17,
          "total_bill": 34.83
         },
         {
          "day": "Thur",
          "sex": "Male",
          "size": 2,
          "smoker": "No",
          "time": "Lunch",
          "tip": 2,
          "total_bill": 13.03
         },
         {
          "day": "Thur",
          "sex": "Male",
          "size": 2,
          "smoker": "No",
          "time": "Lunch",
          "tip": 4,
          "total_bill": 18.28
         },
         {
          "day": "Thur",
          "sex": "Male",
          "size": 2,
          "smoker": "No",
          "time": "Lunch",
          "tip": 5.85,
          "total_bill": 24.71
         },
         {
          "day": "Thur",
          "sex": "Male",
          "size": 2,
          "smoker": "No",
          "time": "Lunch",
          "tip": 3,
          "total_bill": 21.16
         },
         {
          "day": "Fri",
          "sex": "Male",
          "size": 2,
          "smoker": "Yes",
          "time": "Dinner",
          "tip": 3,
          "total_bill": 28.97
         },
         {
          "day": "Fri",
          "sex": "Male",
          "size": 2,
          "smoker": "No",
          "time": "Dinner",
          "tip": 3.5,
          "total_bill": 22.49
         },
         {
          "day": "Fri",
          "sex": "Female",
          "size": 2,
          "smoker": "Yes",
          "time": "Dinner",
          "tip": 1,
          "total_bill": 5.75
         },
         {
          "day": "Fri",
          "sex": "Female",
          "size": 2,
          "smoker": "Yes",
          "time": "Dinner",
          "tip": 4.3,
          "total_bill": 16.32
         },
         {
          "day": "Fri",
          "sex": "Female",
          "size": 2,
          "smoker": "No",
          "time": "Dinner",
          "tip": 3.25,
          "total_bill": 22.75
         },
         {
          "day": "Fri",
          "sex": "Male",
          "size": 4,
          "smoker": "Yes",
          "time": "Dinner",
          "tip": 4.73,
          "total_bill": 40.17
         },
         {
          "day": "Fri",
          "sex": "Male",
          "size": 2,
          "smoker": "Yes",
          "time": "Dinner",
          "tip": 4,
          "total_bill": 27.28
         },
         {
          "day": "Fri",
          "sex": "Male",
          "size": 2,
          "smoker": "Yes",
          "time": "Dinner",
          "tip": 1.5,
          "total_bill": 12.03
         },
         {
          "day": "Fri",
          "sex": "Male",
          "size": 2,
          "smoker": "Yes",
          "time": "Dinner",
          "tip": 3,
          "total_bill": 21.01
         },
         {
          "day": "Fri",
          "sex": "Male",
          "size": 2,
          "smoker": "No",
          "time": "Dinner",
          "tip": 1.5,
          "total_bill": 12.46
         },
         {
          "day": "Fri",
          "sex": "Female",
          "size": 2,
          "smoker": "Yes",
          "time": "Dinner",
          "tip": 2.5,
          "total_bill": 11.35
         },
         {
          "day": "Fri",
          "sex": "Female",
          "size": 2,
          "smoker": "Yes",
          "time": "Dinner",
          "tip": 3,
          "total_bill": 15.38
         },
         {
          "day": "Sat",
          "sex": "Female",
          "size": 3,
          "smoker": "Yes",
          "time": "Dinner",
          "tip": 2.5,
          "total_bill": 44.3
         },
         {
          "day": "Sat",
          "sex": "Female",
          "size": 2,
          "smoker": "Yes",
          "time": "Dinner",
          "tip": 3.48,
          "total_bill": 22.42
         },
         {
          "day": "Sat",
          "sex": "Female",
          "size": 2,
          "smoker": "No",
          "time": "Dinner",
          "tip": 4.08,
          "total_bill": 20.92
         },
         {
          "day": "Sat",
          "sex": "Male",
          "size": 2,
          "smoker": "Yes",
          "time": "Dinner",
          "tip": 1.64,
          "total_bill": 15.36
         },
         {
          "day": "Sat",
          "sex": "Male",
          "size": 2,
          "smoker": "Yes",
          "time": "Dinner",
          "tip": 4.06,
          "total_bill": 20.49
         },
         {
          "day": "Sat",
          "sex": "Male",
          "size": 2,
          "smoker": "Yes",
          "time": "Dinner",
          "tip": 4.29,
          "total_bill": 25.21
         },
         {
          "day": "Sat",
          "sex": "Male",
          "size": 2,
          "smoker": "No",
          "time": "Dinner",
          "tip": 3.76,
          "total_bill": 18.24
         },
         {
          "day": "Sat",
          "sex": "Female",
          "size": 2,
          "smoker": "Yes",
          "time": "Dinner",
          "tip": 4,
          "total_bill": 14.31
         },
         {
          "day": "Sat",
          "sex": "Male",
          "size": 2,
          "smoker": "No",
          "time": "Dinner",
          "tip": 3,
          "total_bill": 14
         },
         {
          "day": "Sat",
          "sex": "Female",
          "size": 1,
          "smoker": "No",
          "time": "Dinner",
          "tip": 1,
          "total_bill": 7.25
         },
         {
          "day": "Sun",
          "sex": "Male",
          "size": 3,
          "smoker": "No",
          "time": "Dinner",
          "tip": 4,
          "total_bill": 38.07
         },
         {
          "day": "Sun",
          "sex": "Male",
          "size": 2,
          "smoker": "No",
          "time": "Dinner",
          "tip": 2.55,
          "total_bill": 23.95
         },
         {
          "day": "Sun",
          "sex": "Female",
          "size": 3,
          "smoker": "No",
          "time": "Dinner",
          "tip": 4,
          "total_bill": 25.71
         },
         {
          "day": "Sun",
          "sex": "Female",
          "size": 2,
          "smoker": "No",
          "time": "Dinner",
          "tip": 3.5,
          "total_bill": 17.31
         },
         {
          "day": "Sun",
          "sex": "Male",
          "size": 4,
          "smoker": "No",
          "time": "Dinner",
          "tip": 5.07,
          "total_bill": 29.93
         },
         {
          "day": "Thur",
          "sex": "Female",
          "size": 2,
          "smoker": "No",
          "time": "Lunch",
          "tip": 1.5,
          "total_bill": 10.65
         },
         {
          "day": "Thur",
          "sex": "Female",
          "size": 2,
          "smoker": "No",
          "time": "Lunch",
          "tip": 1.8,
          "total_bill": 12.43
         },
         {
          "day": "Thur",
          "sex": "Female",
          "size": 4,
          "smoker": "No",
          "time": "Lunch",
          "tip": 2.92,
          "total_bill": 24.08
         },
         {
          "day": "Thur",
          "sex": "Male",
          "size": 2,
          "smoker": "No",
          "time": "Lunch",
          "tip": 2.31,
          "total_bill": 11.69
         },
         {
          "day": "Thur",
          "sex": "Female",
          "size": 2,
          "smoker": "No",
          "time": "Lunch",
          "tip": 1.68,
          "total_bill": 13.42
         },
         {
          "day": "Thur",
          "sex": "Male",
          "size": 2,
          "smoker": "No",
          "time": "Lunch",
          "tip": 2.5,
          "total_bill": 14.26
         },
         {
          "day": "Thur",
          "sex": "Male",
          "size": 2,
          "smoker": "No",
          "time": "Lunch",
          "tip": 2,
          "total_bill": 15.95
         },
         {
          "day": "Thur",
          "sex": "Female",
          "size": 2,
          "smoker": "No",
          "time": "Lunch",
          "tip": 2.52,
          "total_bill": 12.48
         },
         {
          "day": "Thur",
          "sex": "Female",
          "size": 6,
          "smoker": "No",
          "time": "Lunch",
          "tip": 4.2,
          "total_bill": 29.8
         },
         {
          "day": "Thur",
          "sex": "Male",
          "size": 2,
          "smoker": "No",
          "time": "Lunch",
          "tip": 1.48,
          "total_bill": 8.52
         },
         {
          "day": "Thur",
          "sex": "Female",
          "size": 2,
          "smoker": "No",
          "time": "Lunch",
          "tip": 2,
          "total_bill": 14.52
         },
         {
          "day": "Thur",
          "sex": "Female",
          "size": 2,
          "smoker": "No",
          "time": "Lunch",
          "tip": 2,
          "total_bill": 11.38
         },
         {
          "day": "Thur",
          "sex": "Male",
          "size": 3,
          "smoker": "No",
          "time": "Lunch",
          "tip": 2.18,
          "total_bill": 22.82
         },
         {
          "day": "Thur",
          "sex": "Male",
          "size": 2,
          "smoker": "No",
          "time": "Lunch",
          "tip": 1.5,
          "total_bill": 19.08
         },
         {
          "day": "Thur",
          "sex": "Female",
          "size": 2,
          "smoker": "No",
          "time": "Lunch",
          "tip": 2.83,
          "total_bill": 20.27
         },
         {
          "day": "Thur",
          "sex": "Female",
          "size": 2,
          "smoker": "No",
          "time": "Lunch",
          "tip": 1.5,
          "total_bill": 11.17
         },
         {
          "day": "Thur",
          "sex": "Female",
          "size": 2,
          "smoker": "No",
          "time": "Lunch",
          "tip": 2,
          "total_bill": 12.26
         },
         {
          "day": "Thur",
          "sex": "Female",
          "size": 2,
          "smoker": "No",
          "time": "Lunch",
          "tip": 3.25,
          "total_bill": 18.26
         },
         {
          "day": "Thur",
          "sex": "Female",
          "size": 2,
          "smoker": "No",
          "time": "Lunch",
          "tip": 1.25,
          "total_bill": 8.51
         },
         {
          "day": "Thur",
          "sex": "Female",
          "size": 2,
          "smoker": "No",
          "time": "Lunch",
          "tip": 2,
          "total_bill": 10.33
         },
         {
          "day": "Thur",
          "sex": "Female",
          "size": 2,
          "smoker": "No",
          "time": "Lunch",
          "tip": 2,
          "total_bill": 14.15
         },
         {
          "day": "Thur",
          "sex": "Male",
          "size": 2,
          "smoker": "Yes",
          "time": "Lunch",
          "tip": 2,
          "total_bill": 16
         },
         {
          "day": "Thur",
          "sex": "Female",
          "size": 2,
          "smoker": "No",
          "time": "Lunch",
          "tip": 2.75,
          "total_bill": 13.16
         },
         {
          "day": "Thur",
          "sex": "Female",
          "size": 2,
          "smoker": "No",
          "time": "Lunch",
          "tip": 3.5,
          "total_bill": 17.47
         },
         {
          "day": "Thur",
          "sex": "Male",
          "size": 6,
          "smoker": "No",
          "time": "Lunch",
          "tip": 6.7,
          "total_bill": 34.3
         },
         {
          "day": "Thur",
          "sex": "Male",
          "size": 5,
          "smoker": "No",
          "time": "Lunch",
          "tip": 5,
          "total_bill": 41.19
         },
         {
          "day": "Thur",
          "sex": "Female",
          "size": 6,
          "smoker": "No",
          "time": "Lunch",
          "tip": 5,
          "total_bill": 27.05
         },
         {
          "day": "Thur",
          "sex": "Female",
          "size": 2,
          "smoker": "No",
          "time": "Lunch",
          "tip": 2.3,
          "total_bill": 16.43
         },
         {
          "day": "Thur",
          "sex": "Female",
          "size": 2,
          "smoker": "No",
          "time": "Lunch",
          "tip": 1.5,
          "total_bill": 8.35
         },
         {
          "day": "Thur",
          "sex": "Female",
          "size": 3,
          "smoker": "No",
          "time": "Lunch",
          "tip": 1.36,
          "total_bill": 18.64
         },
         {
          "day": "Thur",
          "sex": "Female",
          "size": 2,
          "smoker": "No",
          "time": "Lunch",
          "tip": 1.63,
          "total_bill": 11.87
         },
         {
          "day": "Thur",
          "sex": "Male",
          "size": 2,
          "smoker": "No",
          "time": "Lunch",
          "tip": 1.73,
          "total_bill": 9.78
         },
         {
          "day": "Thur",
          "sex": "Male",
          "size": 2,
          "smoker": "No",
          "time": "Lunch",
          "tip": 2,
          "total_bill": 7.51
         },
         {
          "day": "Sun",
          "sex": "Male",
          "size": 2,
          "smoker": "No",
          "time": "Dinner",
          "tip": 2.5,
          "total_bill": 14.07
         },
         {
          "day": "Sun",
          "sex": "Male",
          "size": 2,
          "smoker": "No",
          "time": "Dinner",
          "tip": 2,
          "total_bill": 13.13
         },
         {
          "day": "Sun",
          "sex": "Male",
          "size": 3,
          "smoker": "No",
          "time": "Dinner",
          "tip": 2.74,
          "total_bill": 17.26
         },
         {
          "day": "Sun",
          "sex": "Male",
          "size": 4,
          "smoker": "No",
          "time": "Dinner",
          "tip": 2,
          "total_bill": 24.55
         },
         {
          "day": "Sun",
          "sex": "Male",
          "size": 4,
          "smoker": "No",
          "time": "Dinner",
          "tip": 2,
          "total_bill": 19.77
         },
         {
          "day": "Sun",
          "sex": "Female",
          "size": 5,
          "smoker": "No",
          "time": "Dinner",
          "tip": 5.14,
          "total_bill": 29.85
         },
         {
          "day": "Sun",
          "sex": "Male",
          "size": 6,
          "smoker": "No",
          "time": "Dinner",
          "tip": 5,
          "total_bill": 48.17
         },
         {
          "day": "Sun",
          "sex": "Female",
          "size": 4,
          "smoker": "No",
          "time": "Dinner",
          "tip": 3.75,
          "total_bill": 25
         },
         {
          "day": "Sun",
          "sex": "Female",
          "size": 2,
          "smoker": "No",
          "time": "Dinner",
          "tip": 2.61,
          "total_bill": 13.39
         },
         {
          "day": "Sun",
          "sex": "Male",
          "size": 4,
          "smoker": "No",
          "time": "Dinner",
          "tip": 2,
          "total_bill": 16.49
         },
         {
          "day": "Sun",
          "sex": "Male",
          "size": 4,
          "smoker": "No",
          "time": "Dinner",
          "tip": 3.5,
          "total_bill": 21.5
         },
         {
          "day": "Sun",
          "sex": "Male",
          "size": 2,
          "smoker": "No",
          "time": "Dinner",
          "tip": 2.5,
          "total_bill": 12.66
         },
         {
          "day": "Sun",
          "sex": "Female",
          "size": 3,
          "smoker": "No",
          "time": "Dinner",
          "tip": 2,
          "total_bill": 16.21
         },
         {
          "day": "Sun",
          "sex": "Male",
          "size": 2,
          "smoker": "No",
          "time": "Dinner",
          "tip": 2,
          "total_bill": 13.81
         },
         {
          "day": "Sun",
          "sex": "Female",
          "size": 2,
          "smoker": "Yes",
          "time": "Dinner",
          "tip": 3,
          "total_bill": 17.51
         },
         {
          "day": "Sun",
          "sex": "Male",
          "size": 3,
          "smoker": "No",
          "time": "Dinner",
          "tip": 3.48,
          "total_bill": 24.52
         },
         {
          "day": "Sun",
          "sex": "Male",
          "size": 2,
          "smoker": "No",
          "time": "Dinner",
          "tip": 2.24,
          "total_bill": 20.76
         },
         {
          "day": "Sun",
          "sex": "Male",
          "size": 4,
          "smoker": "No",
          "time": "Dinner",
          "tip": 4.5,
          "total_bill": 31.71
         },
         {
          "day": "Sat",
          "sex": "Female",
          "size": 2,
          "smoker": "Yes",
          "time": "Dinner",
          "tip": 1.61,
          "total_bill": 10.59
         },
         {
          "day": "Sat",
          "sex": "Female",
          "size": 2,
          "smoker": "Yes",
          "time": "Dinner",
          "tip": 2,
          "total_bill": 10.63
         },
         {
          "day": "Sat",
          "sex": "Male",
          "size": 3,
          "smoker": "Yes",
          "time": "Dinner",
          "tip": 10,
          "total_bill": 50.81
         },
         {
          "day": "Sat",
          "sex": "Male",
          "size": 2,
          "smoker": "Yes",
          "time": "Dinner",
          "tip": 3.16,
          "total_bill": 15.81
         },
         {
          "day": "Sun",
          "sex": "Male",
          "size": 2,
          "smoker": "Yes",
          "time": "Dinner",
          "tip": 5.15,
          "total_bill": 7.25
         },
         {
          "day": "Sun",
          "sex": "Male",
          "size": 2,
          "smoker": "Yes",
          "time": "Dinner",
          "tip": 3.18,
          "total_bill": 31.85
         },
         {
          "day": "Sun",
          "sex": "Male",
          "size": 2,
          "smoker": "Yes",
          "time": "Dinner",
          "tip": 4,
          "total_bill": 16.82
         },
         {
          "day": "Sun",
          "sex": "Male",
          "size": 2,
          "smoker": "Yes",
          "time": "Dinner",
          "tip": 3.11,
          "total_bill": 32.9
         },
         {
          "day": "Sun",
          "sex": "Male",
          "size": 2,
          "smoker": "Yes",
          "time": "Dinner",
          "tip": 2,
          "total_bill": 17.89
         },
         {
          "day": "Sun",
          "sex": "Male",
          "size": 2,
          "smoker": "Yes",
          "time": "Dinner",
          "tip": 2,
          "total_bill": 14.48
         },
         {
          "day": "Sun",
          "sex": "Female",
          "size": 2,
          "smoker": "Yes",
          "time": "Dinner",
          "tip": 4,
          "total_bill": 9.6
         },
         {
          "day": "Sun",
          "sex": "Male",
          "size": 2,
          "smoker": "Yes",
          "time": "Dinner",
          "tip": 3.55,
          "total_bill": 34.63
         },
         {
          "day": "Sun",
          "sex": "Male",
          "size": 4,
          "smoker": "Yes",
          "time": "Dinner",
          "tip": 3.68,
          "total_bill": 34.65
         },
         {
          "day": "Sun",
          "sex": "Male",
          "size": 2,
          "smoker": "Yes",
          "time": "Dinner",
          "tip": 5.65,
          "total_bill": 23.33
         },
         {
          "day": "Sun",
          "sex": "Male",
          "size": 3,
          "smoker": "Yes",
          "time": "Dinner",
          "tip": 3.5,
          "total_bill": 45.35
         },
         {
          "day": "Sun",
          "sex": "Male",
          "size": 4,
          "smoker": "Yes",
          "time": "Dinner",
          "tip": 6.5,
          "total_bill": 23.17
         },
         {
          "day": "Sun",
          "sex": "Male",
          "size": 2,
          "smoker": "Yes",
          "time": "Dinner",
          "tip": 3,
          "total_bill": 40.55
         },
         {
          "day": "Sun",
          "sex": "Male",
          "size": 5,
          "smoker": "No",
          "time": "Dinner",
          "tip": 5,
          "total_bill": 20.69
         },
         {
          "day": "Sun",
          "sex": "Female",
          "size": 3,
          "smoker": "Yes",
          "time": "Dinner",
          "tip": 3.5,
          "total_bill": 20.9
         },
         {
          "day": "Sun",
          "sex": "Male",
          "size": 5,
          "smoker": "Yes",
          "time": "Dinner",
          "tip": 2,
          "total_bill": 30.46
         },
         {
          "day": "Sun",
          "sex": "Female",
          "size": 3,
          "smoker": "Yes",
          "time": "Dinner",
          "tip": 3.5,
          "total_bill": 18.15
         },
         {
          "day": "Sun",
          "sex": "Male",
          "size": 3,
          "smoker": "Yes",
          "time": "Dinner",
          "tip": 4,
          "total_bill": 23.1
         },
         {
          "day": "Sun",
          "sex": "Male",
          "size": 2,
          "smoker": "Yes",
          "time": "Dinner",
          "tip": 1.5,
          "total_bill": 15.69
         },
         {
          "day": "Thur",
          "sex": "Female",
          "size": 2,
          "smoker": "Yes",
          "time": "Lunch",
          "tip": 4.19,
          "total_bill": 19.81
         },
         {
          "day": "Thur",
          "sex": "Male",
          "size": 2,
          "smoker": "Yes",
          "time": "Lunch",
          "tip": 2.56,
          "total_bill": 28.44
         },
         {
          "day": "Thur",
          "sex": "Male",
          "size": 2,
          "smoker": "Yes",
          "time": "Lunch",
          "tip": 2.02,
          "total_bill": 15.48
         },
         {
          "day": "Thur",
          "sex": "Male",
          "size": 2,
          "smoker": "Yes",
          "time": "Lunch",
          "tip": 4,
          "total_bill": 16.58
         },
         {
          "day": "Thur",
          "sex": "Male",
          "size": 2,
          "smoker": "No",
          "time": "Lunch",
          "tip": 1.44,
          "total_bill": 7.56
         },
         {
          "day": "Thur",
          "sex": "Male",
          "size": 2,
          "smoker": "Yes",
          "time": "Lunch",
          "tip": 2,
          "total_bill": 10.34
         },
         {
          "day": "Thur",
          "sex": "Female",
          "size": 4,
          "smoker": "Yes",
          "time": "Lunch",
          "tip": 5,
          "total_bill": 43.11
         },
         {
          "day": "Thur",
          "sex": "Female",
          "size": 2,
          "smoker": "Yes",
          "time": "Lunch",
          "tip": 2,
          "total_bill": 13
         },
         {
          "day": "Thur",
          "sex": "Male",
          "size": 2,
          "smoker": "Yes",
          "time": "Lunch",
          "tip": 2,
          "total_bill": 13.51
         },
         {
          "day": "Thur",
          "sex": "Male",
          "size": 3,
          "smoker": "Yes",
          "time": "Lunch",
          "tip": 4,
          "total_bill": 18.71
         },
         {
          "day": "Thur",
          "sex": "Female",
          "size": 2,
          "smoker": "Yes",
          "time": "Lunch",
          "tip": 2.01,
          "total_bill": 12.74
         },
         {
          "day": "Thur",
          "sex": "Female",
          "size": 2,
          "smoker": "Yes",
          "time": "Lunch",
          "tip": 2,
          "total_bill": 13
         },
         {
          "day": "Thur",
          "sex": "Female",
          "size": 2,
          "smoker": "Yes",
          "time": "Lunch",
          "tip": 2.5,
          "total_bill": 16.4
         },
         {
          "day": "Thur",
          "sex": "Male",
          "size": 4,
          "smoker": "Yes",
          "time": "Lunch",
          "tip": 4,
          "total_bill": 20.53
         },
         {
          "day": "Thur",
          "sex": "Female",
          "size": 3,
          "smoker": "Yes",
          "time": "Lunch",
          "tip": 3.23,
          "total_bill": 16.47
         },
         {
          "day": "Sat",
          "sex": "Male",
          "size": 3,
          "smoker": "Yes",
          "time": "Dinner",
          "tip": 3.41,
          "total_bill": 26.59
         },
         {
          "day": "Sat",
          "sex": "Male",
          "size": 4,
          "smoker": "Yes",
          "time": "Dinner",
          "tip": 3,
          "total_bill": 38.73
         },
         {
          "day": "Sat",
          "sex": "Male",
          "size": 2,
          "smoker": "Yes",
          "time": "Dinner",
          "tip": 2.03,
          "total_bill": 24.27
         },
         {
          "day": "Sat",
          "sex": "Female",
          "size": 2,
          "smoker": "Yes",
          "time": "Dinner",
          "tip": 2.23,
          "total_bill": 12.76
         },
         {
          "day": "Sat",
          "sex": "Male",
          "size": 3,
          "smoker": "Yes",
          "time": "Dinner",
          "tip": 2,
          "total_bill": 30.06
         },
         {
          "day": "Sat",
          "sex": "Male",
          "size": 4,
          "smoker": "Yes",
          "time": "Dinner",
          "tip": 5.16,
          "total_bill": 25.89
         },
         {
          "day": "Sat",
          "sex": "Male",
          "size": 4,
          "smoker": "No",
          "time": "Dinner",
          "tip": 9,
          "total_bill": 48.33
         },
         {
          "day": "Sat",
          "sex": "Female",
          "size": 2,
          "smoker": "Yes",
          "time": "Dinner",
          "tip": 2.5,
          "total_bill": 13.27
         },
         {
          "day": "Sat",
          "sex": "Female",
          "size": 3,
          "smoker": "Yes",
          "time": "Dinner",
          "tip": 6.5,
          "total_bill": 28.17
         },
         {
          "day": "Sat",
          "sex": "Female",
          "size": 2,
          "smoker": "Yes",
          "time": "Dinner",
          "tip": 1.1,
          "total_bill": 12.9
         },
         {
          "day": "Sat",
          "sex": "Male",
          "size": 5,
          "smoker": "Yes",
          "time": "Dinner",
          "tip": 3,
          "total_bill": 28.15
         },
         {
          "day": "Sat",
          "sex": "Male",
          "size": 2,
          "smoker": "Yes",
          "time": "Dinner",
          "tip": 1.5,
          "total_bill": 11.59
         },
         {
          "day": "Sat",
          "sex": "Male",
          "size": 2,
          "smoker": "Yes",
          "time": "Dinner",
          "tip": 1.44,
          "total_bill": 7.74
         },
         {
          "day": "Sat",
          "sex": "Female",
          "size": 4,
          "smoker": "Yes",
          "time": "Dinner",
          "tip": 3.09,
          "total_bill": 30.14
         },
         {
          "day": "Fri",
          "sex": "Male",
          "size": 2,
          "smoker": "Yes",
          "time": "Lunch",
          "tip": 2.2,
          "total_bill": 12.16
         },
         {
          "day": "Fri",
          "sex": "Female",
          "size": 2,
          "smoker": "Yes",
          "time": "Lunch",
          "tip": 3.48,
          "total_bill": 13.42
         },
         {
          "day": "Fri",
          "sex": "Male",
          "size": 1,
          "smoker": "Yes",
          "time": "Lunch",
          "tip": 1.92,
          "total_bill": 8.58
         },
         {
          "day": "Fri",
          "sex": "Female",
          "size": 3,
          "smoker": "No",
          "time": "Lunch",
          "tip": 3,
          "total_bill": 15.98
         },
         {
          "day": "Fri",
          "sex": "Male",
          "size": 2,
          "smoker": "Yes",
          "time": "Lunch",
          "tip": 1.58,
          "total_bill": 13.42
         },
         {
          "day": "Fri",
          "sex": "Female",
          "size": 2,
          "smoker": "Yes",
          "time": "Lunch",
          "tip": 2.5,
          "total_bill": 16.27
         },
         {
          "day": "Fri",
          "sex": "Female",
          "size": 2,
          "smoker": "Yes",
          "time": "Lunch",
          "tip": 2,
          "total_bill": 10.09
         },
         {
          "day": "Sat",
          "sex": "Male",
          "size": 4,
          "smoker": "No",
          "time": "Dinner",
          "tip": 3,
          "total_bill": 20.45
         },
         {
          "day": "Sat",
          "sex": "Male",
          "size": 2,
          "smoker": "No",
          "time": "Dinner",
          "tip": 2.72,
          "total_bill": 13.28
         },
         {
          "day": "Sat",
          "sex": "Female",
          "size": 2,
          "smoker": "Yes",
          "time": "Dinner",
          "tip": 2.88,
          "total_bill": 22.12
         },
         {
          "day": "Sat",
          "sex": "Male",
          "size": 4,
          "smoker": "Yes",
          "time": "Dinner",
          "tip": 2,
          "total_bill": 24.01
         },
         {
          "day": "Sat",
          "sex": "Male",
          "size": 3,
          "smoker": "Yes",
          "time": "Dinner",
          "tip": 3,
          "total_bill": 15.69
         },
         {
          "day": "Sat",
          "sex": "Male",
          "size": 2,
          "smoker": "No",
          "time": "Dinner",
          "tip": 3.39,
          "total_bill": 11.61
         },
         {
          "day": "Sat",
          "sex": "Male",
          "size": 2,
          "smoker": "No",
          "time": "Dinner",
          "tip": 1.47,
          "total_bill": 10.77
         },
         {
          "day": "Sat",
          "sex": "Male",
          "size": 2,
          "smoker": "Yes",
          "time": "Dinner",
          "tip": 3,
          "total_bill": 15.53
         },
         {
          "day": "Sat",
          "sex": "Male",
          "size": 2,
          "smoker": "No",
          "time": "Dinner",
          "tip": 1.25,
          "total_bill": 10.07
         },
         {
          "day": "Sat",
          "sex": "Male",
          "size": 2,
          "smoker": "Yes",
          "time": "Dinner",
          "tip": 1,
          "total_bill": 12.6
         },
         {
          "day": "Sat",
          "sex": "Male",
          "size": 2,
          "smoker": "Yes",
          "time": "Dinner",
          "tip": 1.17,
          "total_bill": 32.83
         },
         {
          "day": "Sat",
          "sex": "Female",
          "size": 3,
          "smoker": "No",
          "time": "Dinner",
          "tip": 4.67,
          "total_bill": 35.83
         },
         {
          "day": "Sat",
          "sex": "Male",
          "size": 3,
          "smoker": "No",
          "time": "Dinner",
          "tip": 5.92,
          "total_bill": 29.03
         },
         {
          "day": "Sat",
          "sex": "Female",
          "size": 2,
          "smoker": "Yes",
          "time": "Dinner",
          "tip": 2,
          "total_bill": 27.18
         },
         {
          "day": "Sat",
          "sex": "Male",
          "size": 2,
          "smoker": "Yes",
          "time": "Dinner",
          "tip": 2,
          "total_bill": 22.67
         },
         {
          "day": "Sat",
          "sex": "Male",
          "size": 2,
          "smoker": "No",
          "time": "Dinner",
          "tip": 1.75,
          "total_bill": 17.82
         },
         {
          "day": "Thur",
          "sex": "Female",
          "size": 2,
          "smoker": "No",
          "time": "Dinner",
          "tip": 3,
          "total_bill": 18.78
         }
        ]
       },
       "layer": [
        {
         "encoding": {
          "color": {
           "field": "size",
           "legend": null,
           "type": "nominal"
          },
          "x": {
           "field": "size",
           "type": "nominal"
          },
          "y": {
           "aggregate": "mean",
           "axis": {
            "title": "total_bill"
           },
           "field": "total_bill",
           "type": "quantitative"
          }
         },
         "mark": "bar"
        },
        {
         "encoding": {
          "x": {
           "field": "size",
           "type": "nominal"
          },
          "y": {
           "aggregate": "ci0",
           "field": "total_bill",
           "type": "quantitative"
          },
          "y2": {
           "aggregate": "ci1",
           "field": "total_bill",
           "type": "quantitative"
          }
         },
         "mark": "rule"
        }
       ]
      },
      "image/png": "[encoded data removed]",
      "text/plain": [
       "<VegaLite 2 object>\n",
       "\n",
       "If you see this message, it means the renderer has not been properly enabled\n",
       "for the frontend that you are using. For more information, see\n",
       "https://altair-viz.github.io/user_guide/troubleshooting.html\n"
      ]
     },
     "metadata": {},
     "output_type": "display_data"
    },
    {
     "data": {
      "image/png": "[encoded data removed]",
      "text/plain": [
       "<Figure size 432x288 with 1 Axes>"
      ]
     },
     "metadata": {},
     "output_type": "display_data"
    }
   ],
   "source": [
    "display(salt.barplot(\"size\", y=\"total_bill\", data=tips, palette=\"Blues_d\"))\n",
    "ax = sns.barplot(\"size\", y=\"total_bill\", data=tips, palette=\"Blues_d\")"
   ]
  },
  {
   "cell_type": "code",
   "execution_count": 15,
   "metadata": {},
   "outputs": [
    {
     "data": {
      "application/vnd.vegalite.v2+json": {
       "$schema": "https://vega.github.io/schema/vega-lite/v2.4.1.json",
       "config": {
        "range": {
         "category": [
          "rgba(49.62499999999999,115.62499999999996,161.37500000000003,1)",
          "rgba(224.87499999999997,128.875,44.12500000000004,1)",
          "rgba(58.49999999999999,145.50000000000003,58.49999999999999,1)",
          "rgba(192.125,60.87500000000001,61.62499999999999,1)",
          "rgba(147.49999999999994,113.74999999999999,178.25,1)",
          "rgba(131.875,91.37500000000001,83.12500000000001,1)",
          "rgba(213.50000000000003,132.49999999999997,188.74999999999994,1)",
          "rgba(127.0,127.0,127.0,1)",
          "rgba(168.87500000000003,169.625,53.37500000000001,1)",
          "rgba(45.99999999999998,171.25,184.00000000000003,1)"
         ]
        },
        "view": {
         "height": 300,
         "width": 400
        }
       },
       "data": {
        "values": [
         {
          "day": "Sun",
          "sex": "Female",
          "size": 2,
          "smoker": "No",
          "time": "Dinner",
          "tip": 1.01,
          "total_bill": 16.99,
          "weekend": true
         },
         {
          "day": "Sun",
          "sex": "Male",
          "size": 3,
          "smoker": "No",
          "time": "Dinner",
          "tip": 1.66,
          "total_bill": 10.34,
          "weekend": true
         },
         {
          "day": "Sun",
          "sex": "Male",
          "size": 3,
          "smoker": "No",
          "time": "Dinner",
          "tip": 3.5,
          "total_bill": 21.01,
          "weekend": true
         },
         {
          "day": "Sun",
          "sex": "Male",
          "size": 2,
          "smoker": "No",
          "time": "Dinner",
          "tip": 3.31,
          "total_bill": 23.68,
          "weekend": true
         },
         {
          "day": "Sun",
          "sex": "Female",
          "size": 4,
          "smoker": "No",
          "time": "Dinner",
          "tip": 3.61,
          "total_bill": 24.59,
          "weekend": true
         },
         {
          "day": "Sun",
          "sex": "Male",
          "size": 4,
          "smoker": "No",
          "time": "Dinner",
          "tip": 4.71,
          "total_bill": 25.29,
          "weekend": true
         },
         {
          "day": "Sun",
          "sex": "Male",
          "size": 2,
          "smoker": "No",
          "time": "Dinner",
          "tip": 2,
          "total_bill": 8.77,
          "weekend": true
         },
         {
          "day": "Sun",
          "sex": "Male",
          "size": 4,
          "smoker": "No",
          "time": "Dinner",
          "tip": 3.12,
          "total_bill": 26.88,
          "weekend": true
         },
         {
          "day": "Sun",
          "sex": "Male",
          "size": 2,
          "smoker": "No",
          "time": "Dinner",
          "tip": 1.96,
          "total_bill": 15.04,
          "weekend": true
         },
         {
          "day": "Sun",
          "sex": "Male",
          "size": 2,
          "smoker": "No",
          "time": "Dinner",
          "tip": 3.23,
          "total_bill": 14.78,
          "weekend": true
         },
         {
          "day": "Sun",
          "sex": "Male",
          "size": 2,
          "smoker": "No",
          "time": "Dinner",
          "tip": 1.71,
          "total_bill": 10.27,
          "weekend": true
         },
         {
          "day": "Sun",
          "sex": "Female",
          "size": 4,
          "smoker": "No",
          "time": "Dinner",
          "tip": 5,
          "total_bill": 35.26,
          "weekend": true
         },
         {
          "day": "Sun",
          "sex": "Male",
          "size": 2,
          "smoker": "No",
          "time": "Dinner",
          "tip": 1.57,
          "total_bill": 15.42,
          "weekend": true
         },
         {
          "day": "Sun",
          "sex": "Male",
          "size": 4,
          "smoker": "No",
          "time": "Dinner",
          "tip": 3,
          "total_bill": 18.43,
          "weekend": true
         },
         {
          "day": "Sun",
          "sex": "Female",
          "size": 2,
          "smoker": "No",
          "time": "Dinner",
          "tip": 3.02,
          "total_bill": 14.83,
          "weekend": true
         },
         {
          "day": "Sun",
          "sex": "Male",
          "size": 2,
          "smoker": "No",
          "time": "Dinner",
          "tip": 3.92,
          "total_bill": 21.58,
          "weekend": true
         },
         {
          "day": "Sun",
          "sex": "Female",
          "size": 3,
          "smoker": "No",
          "time": "Dinner",
          "tip": 1.67,
          "total_bill": 10.33,
          "weekend": true
         },
         {
          "day": "Sun",
          "sex": "Male",
          "size": 3,
          "smoker": "No",
          "time": "Dinner",
          "tip": 3.71,
          "total_bill": 16.29,
          "weekend": true
         },
         {
          "day": "Sun",
          "sex": "Female",
          "size": 3,
          "smoker": "No",
          "time": "Dinner",
          "tip": 3.5,
          "total_bill": 16.97,
          "weekend": true
         },
         {
          "day": "Sat",
          "sex": "Male",
          "size": 3,
          "smoker": "No",
          "time": "Dinner",
          "tip": 3.35,
          "total_bill": 20.65,
          "weekend": true
         },
         {
          "day": "Sat",
          "sex": "Male",
          "size": 2,
          "smoker": "No",
          "time": "Dinner",
          "tip": 4.08,
          "total_bill": 17.92,
          "weekend": true
         },
         {
          "day": "Sat",
          "sex": "Female",
          "size": 2,
          "smoker": "No",
          "time": "Dinner",
          "tip": 2.75,
          "total_bill": 20.29,
          "weekend": true
         },
         {
          "day": "Sat",
          "sex": "Female",
          "size": 2,
          "smoker": "No",
          "time": "Dinner",
          "tip": 2.23,
          "total_bill": 15.77,
          "weekend": true
         },
         {
          "day": "Sat",
          "sex": "Male",
          "size": 4,
          "smoker": "No",
          "time": "Dinner",
          "tip": 7.58,
          "total_bill": 39.42,
          "weekend": true
         },
         {
          "day": "Sat",
          "sex": "Male",
          "size": 2,
          "smoker": "No",
          "time": "Dinner",
          "tip": 3.18,
          "total_bill": 19.82,
          "weekend": true
         },
         {
          "day": "Sat",
          "sex": "Male",
          "size": 4,
          "smoker": "No",
          "time": "Dinner",
          "tip": 2.34,
          "total_bill": 17.81,
          "weekend": true
         },
         {
          "day": "Sat",
          "sex": "Male",
          "size": 2,
          "smoker": "No",
          "time": "Dinner",
          "tip": 2,
          "total_bill": 13.37,
          "weekend": true
         },
         {
          "day": "Sat",
          "sex": "Male",
          "size": 2,
          "smoker": "No",
          "time": "Dinner",
          "tip": 2,
          "total_bill": 12.69,
          "weekend": true
         },
         {
          "day": "Sat",
          "sex": "Male",
          "size": 2,
          "smoker": "No",
          "time": "Dinner",
          "tip": 4.3,
          "total_bill": 21.7,
          "weekend": true
         },
         {
          "day": "Sat",
          "sex": "Female",
          "size": 2,
          "smoker": "No",
          "time": "Dinner",
          "tip": 3,
          "total_bill": 19.65,
          "weekend": true
         },
         {
          "day": "Sat",
          "sex": "Male",
          "size": 2,
          "smoker": "No",
          "time": "Dinner",
          "tip": 1.45,
          "total_bill": 9.55,
          "weekend": true
         },
         {
          "day": "Sat",
          "sex": "Male",
          "size": 4,
          "smoker": "No",
          "time": "Dinner",
          "tip": 2.5,
          "total_bill": 18.35,
          "weekend": true
         },
         {
          "day": "Sat",
          "sex": "Female",
          "size": 2,
          "smoker": "No",
          "time": "Dinner",
          "tip": 3,
          "total_bill": 15.06,
          "weekend": true
         },
         {
          "day": "Sat",
          "sex": "Female",
          "size": 4,
          "smoker": "No",
          "time": "Dinner",
          "tip": 2.45,
          "total_bill": 20.69,
          "weekend": true
         },
         {
          "day": "Sat",
          "sex": "Male",
          "size": 2,
          "smoker": "No",
          "time": "Dinner",
          "tip": 3.27,
          "total_bill": 17.78,
          "weekend": true
         },
         {
          "day": "Sat",
          "sex": "Male",
          "size": 3,
          "smoker": "No",
          "time": "Dinner",
          "tip": 3.6,
          "total_bill": 24.06,
          "weekend": true
         },
         {
          "day": "Sat",
          "sex": "Male",
          "size": 3,
          "smoker": "No",
          "time": "Dinner",
          "tip": 2,
          "total_bill": 16.31,
          "weekend": true
         },
         {
          "day": "Sat",
          "sex": "Female",
          "size": 3,
          "smoker": "No",
          "time": "Dinner",
          "tip": 3.07,
          "total_bill": 16.93,
          "weekend": true
         },
         {
          "day": "Sat",
          "sex": "Male",
          "size": 3,
          "smoker": "No",
          "time": "Dinner",
          "tip": 2.31,
          "total_bill": 18.69,
          "weekend": true
         },
         {
          "day": "Sat",
          "sex": "Male",
          "size": 3,
          "smoker": "No",
          "time": "Dinner",
          "tip": 5,
          "total_bill": 31.27,
          "weekend": true
         },
         {
          "day": "Sat",
          "sex": "Male",
          "size": 3,
          "smoker": "No",
          "time": "Dinner",
          "tip": 2.24,
          "total_bill": 16.04,
          "weekend": true
         },
         {
          "day": "Sun",
          "sex": "Male",
          "size": 2,
          "smoker": "No",
          "time": "Dinner",
          "tip": 2.54,
          "total_bill": 17.46,
          "weekend": true
         },
         {
          "day": "Sun",
          "sex": "Male",
          "size": 2,
          "smoker": "No",
          "time": "Dinner",
          "tip": 3.06,
          "total_bill": 13.94,
          "weekend": true
         },
         {
          "day": "Sun",
          "sex": "Male",
          "size": 2,
          "smoker": "No",
          "time": "Dinner",
          "tip": 1.32,
          "total_bill": 9.68,
          "weekend": true
         },
         {
          "day": "Sun",
          "sex": "Male",
          "size": 4,
          "smoker": "No",
          "time": "Dinner",
          "tip": 5.6,
          "total_bill": 30.4,
          "weekend": true
         },
         {
          "day": "Sun",
          "sex": "Male",
          "size": 2,
          "smoker": "No",
          "time": "Dinner",
          "tip": 3,
          "total_bill": 18.29,
          "weekend": true
         },
         {
          "day": "Sun",
          "sex": "Male",
          "size": 2,
          "smoker": "No",
          "time": "Dinner",
          "tip": 5,
          "total_bill": 22.23,
          "weekend": true
         },
         {
          "day": "Sun",
          "sex": "Male",
          "size": 4,
          "smoker": "No",
          "time": "Dinner",
          "tip": 6,
          "total_bill": 32.4,
          "weekend": true
         },
         {
          "day": "Sun",
          "sex": "Male",
          "size": 3,
          "smoker": "No",
          "time": "Dinner",
          "tip": 2.05,
          "total_bill": 28.55,
          "weekend": true
         },
         {
          "day": "Sun",
          "sex": "Male",
          "size": 2,
          "smoker": "No",
          "time": "Dinner",
          "tip": 3,
          "total_bill": 18.04,
          "weekend": true
         },
         {
          "day": "Sun",
          "sex": "Male",
          "size": 2,
          "smoker": "No",
          "time": "Dinner",
          "tip": 2.5,
          "total_bill": 12.54,
          "weekend": true
         },
         {
          "day": "Sun",
          "sex": "Female",
          "size": 2,
          "smoker": "No",
          "time": "Dinner",
          "tip": 2.6,
          "total_bill": 10.29,
          "weekend": true
         },
         {
          "day": "Sun",
          "sex": "Female",
          "size": 4,
          "smoker": "No",
          "time": "Dinner",
          "tip": 5.2,
          "total_bill": 34.81,
          "weekend": true
         },
         {
          "day": "Sun",
          "sex": "Male",
          "size": 2,
          "smoker": "No",
          "time": "Dinner",
          "tip": 1.56,
          "total_bill": 9.94,
          "weekend": true
         },
         {
          "day": "Sun",
          "sex": "Male",
          "size": 4,
          "smoker": "No",
          "time": "Dinner",
          "tip": 4.34,
          "total_bill": 25.56,
          "weekend": true
         },
         {
          "day": "Sun",
          "sex": "Male",
          "size": 2,
          "smoker": "No",
          "time": "Dinner",
          "tip": 3.51,
          "total_bill": 19.49,
          "weekend": true
         },
         {
          "day": "Sat",
          "sex": "Male",
          "size": 4,
          "smoker": "Yes",
          "time": "Dinner",
          "tip": 3,
          "total_bill": 38.01,
          "weekend": true
         },
         {
          "day": "Sat",
          "sex": "Female",
          "size": 2,
          "smoker": "No",
          "time": "Dinner",
          "tip": 1.5,
          "total_bill": 26.41,
          "weekend": true
         },
         {
          "day": "Sat",
          "sex": "Male",
          "size": 2,
          "smoker": "Yes",
          "time": "Dinner",
          "tip": 1.76,
          "total_bill": 11.24,
          "weekend": true
         },
         {
          "day": "Sat",
          "sex": "Male",
          "size": 4,
          "smoker": "No",
          "time": "Dinner",
          "tip": 6.73,
          "total_bill": 48.27,
          "weekend": true
         },
         {
          "day": "Sat",
          "sex": "Male",
          "size": 2,
          "smoker": "Yes",
          "time": "Dinner",
          "tip": 3.21,
          "total_bill": 20.29,
          "weekend": true
         },
         {
          "day": "Sat",
          "sex": "Male",
          "size": 2,
          "smoker": "Yes",
          "time": "Dinner",
          "tip": 2,
          "total_bill": 13.81,
          "weekend": true
         },
         {
          "day": "Sat",
          "sex": "Male",
          "size": 2,
          "smoker": "Yes",
          "time": "Dinner",
          "tip": 1.98,
          "total_bill": 11.02,
          "weekend": true
         },
         {
          "day": "Sat",
          "sex": "Male",
          "size": 4,
          "smoker": "Yes",
          "time": "Dinner",
          "tip": 3.76,
          "total_bill": 18.29,
          "weekend": true
         },
         {
          "day": "Sat",
          "sex": "Male",
          "size": 3,
          "smoker": "No",
          "time": "Dinner",
          "tip": 2.64,
          "total_bill": 17.59,
          "weekend": true
         },
         {
          "day": "Sat",
          "sex": "Male",
          "size": 3,
          "smoker": "No",
          "time": "Dinner",
          "tip": 3.15,
          "total_bill": 20.08,
          "weekend": true
         },
         {
          "day": "Sat",
          "sex": "Female",
          "size": 2,
          "smoker": "No",
          "time": "Dinner",
          "tip": 2.47,
          "total_bill": 16.45,
          "weekend": true
         },
         {
          "day": "Sat",
          "sex": "Female",
          "size": 1,
          "smoker": "Yes",
          "time": "Dinner",
          "tip": 1,
          "total_bill": 3.07,
          "weekend": true
         },
         {
          "day": "Sat",
          "sex": "Male",
          "size": 2,
          "smoker": "No",
          "time": "Dinner",
          "tip": 2.01,
          "total_bill": 20.23,
          "weekend": true
         },
         {
          "day": "Sat",
          "sex": "Male",
          "size": 2,
          "smoker": "Yes",
          "time": "Dinner",
          "tip": 2.09,
          "total_bill": 15.01,
          "weekend": true
         },
         {
          "day": "Sat",
          "sex": "Male",
          "size": 2,
          "smoker": "No",
          "time": "Dinner",
          "tip": 1.97,
          "total_bill": 12.02,
          "weekend": true
         },
         {
          "day": "Sat",
          "sex": "Female",
          "size": 3,
          "smoker": "No",
          "time": "Dinner",
          "tip": 3,
          "total_bill": 17.07,
          "weekend": true
         },
         {
          "day": "Sat",
          "sex": "Female",
          "size": 2,
          "smoker": "Yes",
          "time": "Dinner",
          "tip": 3.14,
          "total_bill": 26.86,
          "weekend": true
         },
         {
          "day": "Sat",
          "sex": "Female",
          "size": 2,
          "smoker": "Yes",
          "time": "Dinner",
          "tip": 5,
          "total_bill": 25.28,
          "weekend": true
         },
         {
          "day": "Sat",
          "sex": "Female",
          "size": 2,
          "smoker": "No",
          "time": "Dinner",
          "tip": 2.2,
          "total_bill": 14.73,
          "weekend": true
         },
         {
          "day": "Sat",
          "sex": "Male",
          "size": 2,
          "smoker": "No",
          "time": "Dinner",
          "tip": 1.25,
          "total_bill": 10.51,
          "weekend": true
         },
         {
          "day": "Sat",
          "sex": "Male",
          "size": 2,
          "smoker": "Yes",
          "time": "Dinner",
          "tip": 3.08,
          "total_bill": 17.92,
          "weekend": true
         },
         {
          "day": "Thur",
          "sex": "Male",
          "size": 4,
          "smoker": "No",
          "time": "Lunch",
          "tip": 4,
          "total_bill": 27.2,
          "weekend": false
         },
         {
          "day": "Thur",
          "sex": "Male",
          "size": 2,
          "smoker": "No",
          "time": "Lunch",
          "tip": 3,
          "total_bill": 22.76,
          "weekend": false
         },
         {
          "day": "Thur",
          "sex": "Male",
          "size": 2,
          "smoker": "No",
          "time": "Lunch",
          "tip": 2.71,
          "total_bill": 17.29,
          "weekend": false
         },
         {
          "day": "Thur",
          "sex": "Male",
          "size": 2,
          "smoker": "Yes",
          "time": "Lunch",
          "tip": 3,
          "total_bill": 19.44,
          "weekend": false
         },
         {
          "day": "Thur",
          "sex": "Male",
          "size": 2,
          "smoker": "No",
          "time": "Lunch",
          "tip": 3.4,
          "total_bill": 16.66,
          "weekend": false
         },
         {
          "day": "Thur",
          "sex": "Female",
          "size": 1,
          "smoker": "No",
          "time": "Lunch",
          "tip": 1.83,
          "total_bill": 10.07,
          "weekend": false
         },
         {
          "day": "Thur",
          "sex": "Male",
          "size": 2,
          "smoker": "Yes",
          "time": "Lunch",
          "tip": 5,
          "total_bill": 32.68,
          "weekend": false
         },
         {
          "day": "Thur",
          "sex": "Male",
          "size": 2,
          "smoker": "No",
          "time": "Lunch",
          "tip": 2.03,
          "total_bill": 15.98,
          "weekend": false
         },
         {
          "day": "Thur",
          "sex": "Female",
          "size": 4,
          "smoker": "No",
          "time": "Lunch",
          "tip": 5.17,
          "total_bill": 34.83,
          "weekend": false
         },
         {
          "day": "Thur",
          "sex": "Male",
          "size": 2,
          "smoker": "No",
          "time": "Lunch",
          "tip": 2,
          "total_bill": 13.03,
          "weekend": false
         },
         {
          "day": "Thur",
          "sex": "Male",
          "size": 2,
          "smoker": "No",
          "time": "Lunch",
          "tip": 4,
          "total_bill": 18.28,
          "weekend": false
         },
         {
          "day": "Thur",
          "sex": "Male",
          "size": 2,
          "smoker": "No",
          "time": "Lunch",
          "tip": 5.85,
          "total_bill": 24.71,
          "weekend": false
         },
         {
          "day": "Thur",
          "sex": "Male",
          "size": 2,
          "smoker": "No",
          "time": "Lunch",
          "tip": 3,
          "total_bill": 21.16,
          "weekend": false
         },
         {
          "day": "Fri",
          "sex": "Male",
          "size": 2,
          "smoker": "Yes",
          "time": "Dinner",
          "tip": 3,
          "total_bill": 28.97,
          "weekend": false
         },
         {
          "day": "Fri",
          "sex": "Male",
          "size": 2,
          "smoker": "No",
          "time": "Dinner",
          "tip": 3.5,
          "total_bill": 22.49,
          "weekend": false
         },
         {
          "day": "Fri",
          "sex": "Female",
          "size": 2,
          "smoker": "Yes",
          "time": "Dinner",
          "tip": 1,
          "total_bill": 5.75,
          "weekend": false
         },
         {
          "day": "Fri",
          "sex": "Female",
          "size": 2,
          "smoker": "Yes",
          "time": "Dinner",
          "tip": 4.3,
          "total_bill": 16.32,
          "weekend": false
         },
         {
          "day": "Fri",
          "sex": "Female",
          "size": 2,
          "smoker": "No",
          "time": "Dinner",
          "tip": 3.25,
          "total_bill": 22.75,
          "weekend": false
         },
         {
          "day": "Fri",
          "sex": "Male",
          "size": 4,
          "smoker": "Yes",
          "time": "Dinner",
          "tip": 4.73,
          "total_bill": 40.17,
          "weekend": false
         },
         {
          "day": "Fri",
          "sex": "Male",
          "size": 2,
          "smoker": "Yes",
          "time": "Dinner",
          "tip": 4,
          "total_bill": 27.28,
          "weekend": false
         },
         {
          "day": "Fri",
          "sex": "Male",
          "size": 2,
          "smoker": "Yes",
          "time": "Dinner",
          "tip": 1.5,
          "total_bill": 12.03,
          "weekend": false
         },
         {
          "day": "Fri",
          "sex": "Male",
          "size": 2,
          "smoker": "Yes",
          "time": "Dinner",
          "tip": 3,
          "total_bill": 21.01,
          "weekend": false
         },
         {
          "day": "Fri",
          "sex": "Male",
          "size": 2,
          "smoker": "No",
          "time": "Dinner",
          "tip": 1.5,
          "total_bill": 12.46,
          "weekend": false
         },
         {
          "day": "Fri",
          "sex": "Female",
          "size": 2,
          "smoker": "Yes",
          "time": "Dinner",
          "tip": 2.5,
          "total_bill": 11.35,
          "weekend": false
         },
         {
          "day": "Fri",
          "sex": "Female",
          "size": 2,
          "smoker": "Yes",
          "time": "Dinner",
          "tip": 3,
          "total_bill": 15.38,
          "weekend": false
         },
         {
          "day": "Sat",
          "sex": "Female",
          "size": 3,
          "smoker": "Yes",
          "time": "Dinner",
          "tip": 2.5,
          "total_bill": 44.3,
          "weekend": true
         },
         {
          "day": "Sat",
          "sex": "Female",
          "size": 2,
          "smoker": "Yes",
          "time": "Dinner",
          "tip": 3.48,
          "total_bill": 22.42,
          "weekend": true
         },
         {
          "day": "Sat",
          "sex": "Female",
          "size": 2,
          "smoker": "No",
          "time": "Dinner",
          "tip": 4.08,
          "total_bill": 20.92,
          "weekend": true
         },
         {
          "day": "Sat",
          "sex": "Male",
          "size": 2,
          "smoker": "Yes",
          "time": "Dinner",
          "tip": 1.64,
          "total_bill": 15.36,
          "weekend": true
         },
         {
          "day": "Sat",
          "sex": "Male",
          "size": 2,
          "smoker": "Yes",
          "time": "Dinner",
          "tip": 4.06,
          "total_bill": 20.49,
          "weekend": true
         },
         {
          "day": "Sat",
          "sex": "Male",
          "size": 2,
          "smoker": "Yes",
          "time": "Dinner",
          "tip": 4.29,
          "total_bill": 25.21,
          "weekend": true
         },
         {
          "day": "Sat",
          "sex": "Male",
          "size": 2,
          "smoker": "No",
          "time": "Dinner",
          "tip": 3.76,
          "total_bill": 18.24,
          "weekend": true
         },
         {
          "day": "Sat",
          "sex": "Female",
          "size": 2,
          "smoker": "Yes",
          "time": "Dinner",
          "tip": 4,
          "total_bill": 14.31,
          "weekend": true
         },
         {
          "day": "Sat",
          "sex": "Male",
          "size": 2,
          "smoker": "No",
          "time": "Dinner",
          "tip": 3,
          "total_bill": 14,
          "weekend": true
         },
         {
          "day": "Sat",
          "sex": "Female",
          "size": 1,
          "smoker": "No",
          "time": "Dinner",
          "tip": 1,
          "total_bill": 7.25,
          "weekend": true
         },
         {
          "day": "Sun",
          "sex": "Male",
          "size": 3,
          "smoker": "No",
          "time": "Dinner",
          "tip": 4,
          "total_bill": 38.07,
          "weekend": true
         },
         {
          "day": "Sun",
          "sex": "Male",
          "size": 2,
          "smoker": "No",
          "time": "Dinner",
          "tip": 2.55,
          "total_bill": 23.95,
          "weekend": true
         },
         {
          "day": "Sun",
          "sex": "Female",
          "size": 3,
          "smoker": "No",
          "time": "Dinner",
          "tip": 4,
          "total_bill": 25.71,
          "weekend": true
         },
         {
          "day": "Sun",
          "sex": "Female",
          "size": 2,
          "smoker": "No",
          "time": "Dinner",
          "tip": 3.5,
          "total_bill": 17.31,
          "weekend": true
         },
         {
          "day": "Sun",
          "sex": "Male",
          "size": 4,
          "smoker": "No",
          "time": "Dinner",
          "tip": 5.07,
          "total_bill": 29.93,
          "weekend": true
         },
         {
          "day": "Thur",
          "sex": "Female",
          "size": 2,
          "smoker": "No",
          "time": "Lunch",
          "tip": 1.5,
          "total_bill": 10.65,
          "weekend": false
         },
         {
          "day": "Thur",
          "sex": "Female",
          "size": 2,
          "smoker": "No",
          "time": "Lunch",
          "tip": 1.8,
          "total_bill": 12.43,
          "weekend": false
         },
         {
          "day": "Thur",
          "sex": "Female",
          "size": 4,
          "smoker": "No",
          "time": "Lunch",
          "tip": 2.92,
          "total_bill": 24.08,
          "weekend": false
         },
         {
          "day": "Thur",
          "sex": "Male",
          "size": 2,
          "smoker": "No",
          "time": "Lunch",
          "tip": 2.31,
          "total_bill": 11.69,
          "weekend": false
         },
         {
          "day": "Thur",
          "sex": "Female",
          "size": 2,
          "smoker": "No",
          "time": "Lunch",
          "tip": 1.68,
          "total_bill": 13.42,
          "weekend": false
         },
         {
          "day": "Thur",
          "sex": "Male",
          "size": 2,
          "smoker": "No",
          "time": "Lunch",
          "tip": 2.5,
          "total_bill": 14.26,
          "weekend": false
         },
         {
          "day": "Thur",
          "sex": "Male",
          "size": 2,
          "smoker": "No",
          "time": "Lunch",
          "tip": 2,
          "total_bill": 15.95,
          "weekend": false
         },
         {
          "day": "Thur",
          "sex": "Female",
          "size": 2,
          "smoker": "No",
          "time": "Lunch",
          "tip": 2.52,
          "total_bill": 12.48,
          "weekend": false
         },
         {
          "day": "Thur",
          "sex": "Female",
          "size": 6,
          "smoker": "No",
          "time": "Lunch",
          "tip": 4.2,
          "total_bill": 29.8,
          "weekend": false
         },
         {
          "day": "Thur",
          "sex": "Male",
          "size": 2,
          "smoker": "No",
          "time": "Lunch",
          "tip": 1.48,
          "total_bill": 8.52,
          "weekend": false
         },
         {
          "day": "Thur",
          "sex": "Female",
          "size": 2,
          "smoker": "No",
          "time": "Lunch",
          "tip": 2,
          "total_bill": 14.52,
          "weekend": false
         },
         {
          "day": "Thur",
          "sex": "Female",
          "size": 2,
          "smoker": "No",
          "time": "Lunch",
          "tip": 2,
          "total_bill": 11.38,
          "weekend": false
         },
         {
          "day": "Thur",
          "sex": "Male",
          "size": 3,
          "smoker": "No",
          "time": "Lunch",
          "tip": 2.18,
          "total_bill": 22.82,
          "weekend": false
         },
         {
          "day": "Thur",
          "sex": "Male",
          "size": 2,
          "smoker": "No",
          "time": "Lunch",
          "tip": 1.5,
          "total_bill": 19.08,
          "weekend": false
         },
         {
          "day": "Thur",
          "sex": "Female",
          "size": 2,
          "smoker": "No",
          "time": "Lunch",
          "tip": 2.83,
          "total_bill": 20.27,
          "weekend": false
         },
         {
          "day": "Thur",
          "sex": "Female",
          "size": 2,
          "smoker": "No",
          "time": "Lunch",
          "tip": 1.5,
          "total_bill": 11.17,
          "weekend": false
         },
         {
          "day": "Thur",
          "sex": "Female",
          "size": 2,
          "smoker": "No",
          "time": "Lunch",
          "tip": 2,
          "total_bill": 12.26,
          "weekend": false
         },
         {
          "day": "Thur",
          "sex": "Female",
          "size": 2,
          "smoker": "No",
          "time": "Lunch",
          "tip": 3.25,
          "total_bill": 18.26,
          "weekend": false
         },
         {
          "day": "Thur",
          "sex": "Female",
          "size": 2,
          "smoker": "No",
          "time": "Lunch",
          "tip": 1.25,
          "total_bill": 8.51,
          "weekend": false
         },
         {
          "day": "Thur",
          "sex": "Female",
          "size": 2,
          "smoker": "No",
          "time": "Lunch",
          "tip": 2,
          "total_bill": 10.33,
          "weekend": false
         },
         {
          "day": "Thur",
          "sex": "Female",
          "size": 2,
          "smoker": "No",
          "time": "Lunch",
          "tip": 2,
          "total_bill": 14.15,
          "weekend": false
         },
         {
          "day": "Thur",
          "sex": "Male",
          "size": 2,
          "smoker": "Yes",
          "time": "Lunch",
          "tip": 2,
          "total_bill": 16,
          "weekend": false
         },
         {
          "day": "Thur",
          "sex": "Female",
          "size": 2,
          "smoker": "No",
          "time": "Lunch",
          "tip": 2.75,
          "total_bill": 13.16,
          "weekend": false
         },
         {
          "day": "Thur",
          "sex": "Female",
          "size": 2,
          "smoker": "No",
          "time": "Lunch",
          "tip": 3.5,
          "total_bill": 17.47,
          "weekend": false
         },
         {
          "day": "Thur",
          "sex": "Male",
          "size": 6,
          "smoker": "No",
          "time": "Lunch",
          "tip": 6.7,
          "total_bill": 34.3,
          "weekend": false
         },
         {
          "day": "Thur",
          "sex": "Male",
          "size": 5,
          "smoker": "No",
          "time": "Lunch",
          "tip": 5,
          "total_bill": 41.19,
          "weekend": false
         },
         {
          "day": "Thur",
          "sex": "Female",
          "size": 6,
          "smoker": "No",
          "time": "Lunch",
          "tip": 5,
          "total_bill": 27.05,
          "weekend": false
         },
         {
          "day": "Thur",
          "sex": "Female",
          "size": 2,
          "smoker": "No",
          "time": "Lunch",
          "tip": 2.3,
          "total_bill": 16.43,
          "weekend": false
         },
         {
          "day": "Thur",
          "sex": "Female",
          "size": 2,
          "smoker": "No",
          "time": "Lunch",
          "tip": 1.5,
          "total_bill": 8.35,
          "weekend": false
         },
         {
          "day": "Thur",
          "sex": "Female",
          "size": 3,
          "smoker": "No",
          "time": "Lunch",
          "tip": 1.36,
          "total_bill": 18.64,
          "weekend": false
         },
         {
          "day": "Thur",
          "sex": "Female",
          "size": 2,
          "smoker": "No",
          "time": "Lunch",
          "tip": 1.63,
          "total_bill": 11.87,
          "weekend": false
         },
         {
          "day": "Thur",
          "sex": "Male",
          "size": 2,
          "smoker": "No",
          "time": "Lunch",
          "tip": 1.73,
          "total_bill": 9.78,
          "weekend": false
         },
         {
          "day": "Thur",
          "sex": "Male",
          "size": 2,
          "smoker": "No",
          "time": "Lunch",
          "tip": 2,
          "total_bill": 7.51,
          "weekend": false
         },
         {
          "day": "Sun",
          "sex": "Male",
          "size": 2,
          "smoker": "No",
          "time": "Dinner",
          "tip": 2.5,
          "total_bill": 14.07,
          "weekend": true
         },
         {
          "day": "Sun",
          "sex": "Male",
          "size": 2,
          "smoker": "No",
          "time": "Dinner",
          "tip": 2,
          "total_bill": 13.13,
          "weekend": true
         },
         {
          "day": "Sun",
          "sex": "Male",
          "size": 3,
          "smoker": "No",
          "time": "Dinner",
          "tip": 2.74,
          "total_bill": 17.26,
          "weekend": true
         },
         {
          "day": "Sun",
          "sex": "Male",
          "size": 4,
          "smoker": "No",
          "time": "Dinner",
          "tip": 2,
          "total_bill": 24.55,
          "weekend": true
         },
         {
          "day": "Sun",
          "sex": "Male",
          "size": 4,
          "smoker": "No",
          "time": "Dinner",
          "tip": 2,
          "total_bill": 19.77,
          "weekend": true
         },
         {
          "day": "Sun",
          "sex": "Female",
          "size": 5,
          "smoker": "No",
          "time": "Dinner",
          "tip": 5.14,
          "total_bill": 29.85,
          "weekend": true
         },
         {
          "day": "Sun",
          "sex": "Male",
          "size": 6,
          "smoker": "No",
          "time": "Dinner",
          "tip": 5,
          "total_bill": 48.17,
          "weekend": true
         },
         {
          "day": "Sun",
          "sex": "Female",
          "size": 4,
          "smoker": "No",
          "time": "Dinner",
          "tip": 3.75,
          "total_bill": 25,
          "weekend": true
         },
         {
          "day": "Sun",
          "sex": "Female",
          "size": 2,
          "smoker": "No",
          "time": "Dinner",
          "tip": 2.61,
          "total_bill": 13.39,
          "weekend": true
         },
         {
          "day": "Sun",
          "sex": "Male",
          "size": 4,
          "smoker": "No",
          "time": "Dinner",
          "tip": 2,
          "total_bill": 16.49,
          "weekend": true
         },
         {
          "day": "Sun",
          "sex": "Male",
          "size": 4,
          "smoker": "No",
          "time": "Dinner",
          "tip": 3.5,
          "total_bill": 21.5,
          "weekend": true
         },
         {
          "day": "Sun",
          "sex": "Male",
          "size": 2,
          "smoker": "No",
          "time": "Dinner",
          "tip": 2.5,
          "total_bill": 12.66,
          "weekend": true
         },
         {
          "day": "Sun",
          "sex": "Female",
          "size": 3,
          "smoker": "No",
          "time": "Dinner",
          "tip": 2,
          "total_bill": 16.21,
          "weekend": true
         },
         {
          "day": "Sun",
          "sex": "Male",
          "size": 2,
          "smoker": "No",
          "time": "Dinner",
          "tip": 2,
          "total_bill": 13.81,
          "weekend": true
         },
         {
          "day": "Sun",
          "sex": "Female",
          "size": 2,
          "smoker": "Yes",
          "time": "Dinner",
          "tip": 3,
          "total_bill": 17.51,
          "weekend": true
         },
         {
          "day": "Sun",
          "sex": "Male",
          "size": 3,
          "smoker": "No",
          "time": "Dinner",
          "tip": 3.48,
          "total_bill": 24.52,
          "weekend": true
         },
         {
          "day": "Sun",
          "sex": "Male",
          "size": 2,
          "smoker": "No",
          "time": "Dinner",
          "tip": 2.24,
          "total_bill": 20.76,
          "weekend": true
         },
         {
          "day": "Sun",
          "sex": "Male",
          "size": 4,
          "smoker": "No",
          "time": "Dinner",
          "tip": 4.5,
          "total_bill": 31.71,
          "weekend": true
         },
         {
          "day": "Sat",
          "sex": "Female",
          "size": 2,
          "smoker": "Yes",
          "time": "Dinner",
          "tip": 1.61,
          "total_bill": 10.59,
          "weekend": true
         },
         {
          "day": "Sat",
          "sex": "Female",
          "size": 2,
          "smoker": "Yes",
          "time": "Dinner",
          "tip": 2,
          "total_bill": 10.63,
          "weekend": true
         },
         {
          "day": "Sat",
          "sex": "Male",
          "size": 3,
          "smoker": "Yes",
          "time": "Dinner",
          "tip": 10,
          "total_bill": 50.81,
          "weekend": true
         },
         {
          "day": "Sat",
          "sex": "Male",
          "size": 2,
          "smoker": "Yes",
          "time": "Dinner",
          "tip": 3.16,
          "total_bill": 15.81,
          "weekend": true
         },
         {
          "day": "Sun",
          "sex": "Male",
          "size": 2,
          "smoker": "Yes",
          "time": "Dinner",
          "tip": 5.15,
          "total_bill": 7.25,
          "weekend": true
         },
         {
          "day": "Sun",
          "sex": "Male",
          "size": 2,
          "smoker": "Yes",
          "time": "Dinner",
          "tip": 3.18,
          "total_bill": 31.85,
          "weekend": true
         },
         {
          "day": "Sun",
          "sex": "Male",
          "size": 2,
          "smoker": "Yes",
          "time": "Dinner",
          "tip": 4,
          "total_bill": 16.82,
          "weekend": true
         },
         {
          "day": "Sun",
          "sex": "Male",
          "size": 2,
          "smoker": "Yes",
          "time": "Dinner",
          "tip": 3.11,
          "total_bill": 32.9,
          "weekend": true
         },
         {
          "day": "Sun",
          "sex": "Male",
          "size": 2,
          "smoker": "Yes",
          "time": "Dinner",
          "tip": 2,
          "total_bill": 17.89,
          "weekend": true
         },
         {
          "day": "Sun",
          "sex": "Male",
          "size": 2,
          "smoker": "Yes",
          "time": "Dinner",
          "tip": 2,
          "total_bill": 14.48,
          "weekend": true
         },
         {
          "day": "Sun",
          "sex": "Female",
          "size": 2,
          "smoker": "Yes",
          "time": "Dinner",
          "tip": 4,
          "total_bill": 9.6,
          "weekend": true
         },
         {
          "day": "Sun",
          "sex": "Male",
          "size": 2,
          "smoker": "Yes",
          "time": "Dinner",
          "tip": 3.55,
          "total_bill": 34.63,
          "weekend": true
         },
         {
          "day": "Sun",
          "sex": "Male",
          "size": 4,
          "smoker": "Yes",
          "time": "Dinner",
          "tip": 3.68,
          "total_bill": 34.65,
          "weekend": true
         },
         {
          "day": "Sun",
          "sex": "Male",
          "size": 2,
          "smoker": "Yes",
          "time": "Dinner",
          "tip": 5.65,
          "total_bill": 23.33,
          "weekend": true
         },
         {
          "day": "Sun",
          "sex": "Male",
          "size": 3,
          "smoker": "Yes",
          "time": "Dinner",
          "tip": 3.5,
          "total_bill": 45.35,
          "weekend": true
         },
         {
          "day": "Sun",
          "sex": "Male",
          "size": 4,
          "smoker": "Yes",
          "time": "Dinner",
          "tip": 6.5,
          "total_bill": 23.17,
          "weekend": true
         },
         {
          "day": "Sun",
          "sex": "Male",
          "size": 2,
          "smoker": "Yes",
          "time": "Dinner",
          "tip": 3,
          "total_bill": 40.55,
          "weekend": true
         },
         {
          "day": "Sun",
          "sex": "Male",
          "size": 5,
          "smoker": "No",
          "time": "Dinner",
          "tip": 5,
          "total_bill": 20.69,
          "weekend": true
         },
         {
          "day": "Sun",
          "sex": "Female",
          "size": 3,
          "smoker": "Yes",
          "time": "Dinner",
          "tip": 3.5,
          "total_bill": 20.9,
          "weekend": true
         },
         {
          "day": "Sun",
          "sex": "Male",
          "size": 5,
          "smoker": "Yes",
          "time": "Dinner",
          "tip": 2,
          "total_bill": 30.46,
          "weekend": true
         },
         {
          "day": "Sun",
          "sex": "Female",
          "size": 3,
          "smoker": "Yes",
          "time": "Dinner",
          "tip": 3.5,
          "total_bill": 18.15,
          "weekend": true
         },
         {
          "day": "Sun",
          "sex": "Male",
          "size": 3,
          "smoker": "Yes",
          "time": "Dinner",
          "tip": 4,
          "total_bill": 23.1,
          "weekend": true
         },
         {
          "day": "Sun",
          "sex": "Male",
          "size": 2,
          "smoker": "Yes",
          "time": "Dinner",
          "tip": 1.5,
          "total_bill": 15.69,
          "weekend": true
         },
         {
          "day": "Thur",
          "sex": "Female",
          "size": 2,
          "smoker": "Yes",
          "time": "Lunch",
          "tip": 4.19,
          "total_bill": 19.81,
          "weekend": false
         },
         {
          "day": "Thur",
          "sex": "Male",
          "size": 2,
          "smoker": "Yes",
          "time": "Lunch",
          "tip": 2.56,
          "total_bill": 28.44,
          "weekend": false
         },
         {
          "day": "Thur",
          "sex": "Male",
          "size": 2,
          "smoker": "Yes",
          "time": "Lunch",
          "tip": 2.02,
          "total_bill": 15.48,
          "weekend": false
         },
         {
          "day": "Thur",
          "sex": "Male",
          "size": 2,
          "smoker": "Yes",
          "time": "Lunch",
          "tip": 4,
          "total_bill": 16.58,
          "weekend": false
         },
         {
          "day": "Thur",
          "sex": "Male",
          "size": 2,
          "smoker": "No",
          "time": "Lunch",
          "tip": 1.44,
          "total_bill": 7.56,
          "weekend": false
         },
         {
          "day": "Thur",
          "sex": "Male",
          "size": 2,
          "smoker": "Yes",
          "time": "Lunch",
          "tip": 2,
          "total_bill": 10.34,
          "weekend": false
         },
         {
          "day": "Thur",
          "sex": "Female",
          "size": 4,
          "smoker": "Yes",
          "time": "Lunch",
          "tip": 5,
          "total_bill": 43.11,
          "weekend": false
         },
         {
          "day": "Thur",
          "sex": "Female",
          "size": 2,
          "smoker": "Yes",
          "time": "Lunch",
          "tip": 2,
          "total_bill": 13,
          "weekend": false
         },
         {
          "day": "Thur",
          "sex": "Male",
          "size": 2,
          "smoker": "Yes",
          "time": "Lunch",
          "tip": 2,
          "total_bill": 13.51,
          "weekend": false
         },
         {
          "day": "Thur",
          "sex": "Male",
          "size": 3,
          "smoker": "Yes",
          "time": "Lunch",
          "tip": 4,
          "total_bill": 18.71,
          "weekend": false
         },
         {
          "day": "Thur",
          "sex": "Female",
          "size": 2,
          "smoker": "Yes",
          "time": "Lunch",
          "tip": 2.01,
          "total_bill": 12.74,
          "weekend": false
         },
         {
          "day": "Thur",
          "sex": "Female",
          "size": 2,
          "smoker": "Yes",
          "time": "Lunch",
          "tip": 2,
          "total_bill": 13,
          "weekend": false
         },
         {
          "day": "Thur",
          "sex": "Female",
          "size": 2,
          "smoker": "Yes",
          "time": "Lunch",
          "tip": 2.5,
          "total_bill": 16.4,
          "weekend": false
         },
         {
          "day": "Thur",
          "sex": "Male",
          "size": 4,
          "smoker": "Yes",
          "time": "Lunch",
          "tip": 4,
          "total_bill": 20.53,
          "weekend": false
         },
         {
          "day": "Thur",
          "sex": "Female",
          "size": 3,
          "smoker": "Yes",
          "time": "Lunch",
          "tip": 3.23,
          "total_bill": 16.47,
          "weekend": false
         },
         {
          "day": "Sat",
          "sex": "Male",
          "size": 3,
          "smoker": "Yes",
          "time": "Dinner",
          "tip": 3.41,
          "total_bill": 26.59,
          "weekend": true
         },
         {
          "day": "Sat",
          "sex": "Male",
          "size": 4,
          "smoker": "Yes",
          "time": "Dinner",
          "tip": 3,
          "total_bill": 38.73,
          "weekend": true
         },
         {
          "day": "Sat",
          "sex": "Male",
          "size": 2,
          "smoker": "Yes",
          "time": "Dinner",
          "tip": 2.03,
          "total_bill": 24.27,
          "weekend": true
         },
         {
          "day": "Sat",
          "sex": "Female",
          "size": 2,
          "smoker": "Yes",
          "time": "Dinner",
          "tip": 2.23,
          "total_bill": 12.76,
          "weekend": true
         },
         {
          "day": "Sat",
          "sex": "Male",
          "size": 3,
          "smoker": "Yes",
          "time": "Dinner",
          "tip": 2,
          "total_bill": 30.06,
          "weekend": true
         },
         {
          "day": "Sat",
          "sex": "Male",
          "size": 4,
          "smoker": "Yes",
          "time": "Dinner",
          "tip": 5.16,
          "total_bill": 25.89,
          "weekend": true
         },
         {
          "day": "Sat",
          "sex": "Male",
          "size": 4,
          "smoker": "No",
          "time": "Dinner",
          "tip": 9,
          "total_bill": 48.33,
          "weekend": true
         },
         {
          "day": "Sat",
          "sex": "Female",
          "size": 2,
          "smoker": "Yes",
          "time": "Dinner",
          "tip": 2.5,
          "total_bill": 13.27,
          "weekend": true
         },
         {
          "day": "Sat",
          "sex": "Female",
          "size": 3,
          "smoker": "Yes",
          "time": "Dinner",
          "tip": 6.5,
          "total_bill": 28.17,
          "weekend": true
         },
         {
          "day": "Sat",
          "sex": "Female",
          "size": 2,
          "smoker": "Yes",
          "time": "Dinner",
          "tip": 1.1,
          "total_bill": 12.9,
          "weekend": true
         },
         {
          "day": "Sat",
          "sex": "Male",
          "size": 5,
          "smoker": "Yes",
          "time": "Dinner",
          "tip": 3,
          "total_bill": 28.15,
          "weekend": true
         },
         {
          "day": "Sat",
          "sex": "Male",
          "size": 2,
          "smoker": "Yes",
          "time": "Dinner",
          "tip": 1.5,
          "total_bill": 11.59,
          "weekend": true
         },
         {
          "day": "Sat",
          "sex": "Male",
          "size": 2,
          "smoker": "Yes",
          "time": "Dinner",
          "tip": 1.44,
          "total_bill": 7.74,
          "weekend": true
         },
         {
          "day": "Sat",
          "sex": "Female",
          "size": 4,
          "smoker": "Yes",
          "time": "Dinner",
          "tip": 3.09,
          "total_bill": 30.14,
          "weekend": true
         },
         {
          "day": "Fri",
          "sex": "Male",
          "size": 2,
          "smoker": "Yes",
          "time": "Lunch",
          "tip": 2.2,
          "total_bill": 12.16,
          "weekend": false
         },
         {
          "day": "Fri",
          "sex": "Female",
          "size": 2,
          "smoker": "Yes",
          "time": "Lunch",
          "tip": 3.48,
          "total_bill": 13.42,
          "weekend": false
         },
         {
          "day": "Fri",
          "sex": "Male",
          "size": 1,
          "smoker": "Yes",
          "time": "Lunch",
          "tip": 1.92,
          "total_bill": 8.58,
          "weekend": false
         },
         {
          "day": "Fri",
          "sex": "Female",
          "size": 3,
          "smoker": "No",
          "time": "Lunch",
          "tip": 3,
          "total_bill": 15.98,
          "weekend": false
         },
         {
          "day": "Fri",
          "sex": "Male",
          "size": 2,
          "smoker": "Yes",
          "time": "Lunch",
          "tip": 1.58,
          "total_bill": 13.42,
          "weekend": false
         },
         {
          "day": "Fri",
          "sex": "Female",
          "size": 2,
          "smoker": "Yes",
          "time": "Lunch",
          "tip": 2.5,
          "total_bill": 16.27,
          "weekend": false
         },
         {
          "day": "Fri",
          "sex": "Female",
          "size": 2,
          "smoker": "Yes",
          "time": "Lunch",
          "tip": 2,
          "total_bill": 10.09,
          "weekend": false
         },
         {
          "day": "Sat",
          "sex": "Male",
          "size": 4,
          "smoker": "No",
          "time": "Dinner",
          "tip": 3,
          "total_bill": 20.45,
          "weekend": true
         },
         {
          "day": "Sat",
          "sex": "Male",
          "size": 2,
          "smoker": "No",
          "time": "Dinner",
          "tip": 2.72,
          "total_bill": 13.28,
          "weekend": true
         },
         {
          "day": "Sat",
          "sex": "Female",
          "size": 2,
          "smoker": "Yes",
          "time": "Dinner",
          "tip": 2.88,
          "total_bill": 22.12,
          "weekend": true
         },
         {
          "day": "Sat",
          "sex": "Male",
          "size": 4,
          "smoker": "Yes",
          "time": "Dinner",
          "tip": 2,
          "total_bill": 24.01,
          "weekend": true
         },
         {
          "day": "Sat",
          "sex": "Male",
          "size": 3,
          "smoker": "Yes",
          "time": "Dinner",
          "tip": 3,
          "total_bill": 15.69,
          "weekend": true
         },
         {
          "day": "Sat",
          "sex": "Male",
          "size": 2,
          "smoker": "No",
          "time": "Dinner",
          "tip": 3.39,
          "total_bill": 11.61,
          "weekend": true
         },
         {
          "day": "Sat",
          "sex": "Male",
          "size": 2,
          "smoker": "No",
          "time": "Dinner",
          "tip": 1.47,
          "total_bill": 10.77,
          "weekend": true
         },
         {
          "day": "Sat",
          "sex": "Male",
          "size": 2,
          "smoker": "Yes",
          "time": "Dinner",
          "tip": 3,
          "total_bill": 15.53,
          "weekend": true
         },
         {
          "day": "Sat",
          "sex": "Male",
          "size": 2,
          "smoker": "No",
          "time": "Dinner",
          "tip": 1.25,
          "total_bill": 10.07,
          "weekend": true
         },
         {
          "day": "Sat",
          "sex": "Male",
          "size": 2,
          "smoker": "Yes",
          "time": "Dinner",
          "tip": 1,
          "total_bill": 12.6,
          "weekend": true
         },
         {
          "day": "Sat",
          "sex": "Male",
          "size": 2,
          "smoker": "Yes",
          "time": "Dinner",
          "tip": 1.17,
          "total_bill": 32.83,
          "weekend": true
         },
         {
          "day": "Sat",
          "sex": "Female",
          "size": 3,
          "smoker": "No",
          "time": "Dinner",
          "tip": 4.67,
          "total_bill": 35.83,
          "weekend": true
         },
         {
          "day": "Sat",
          "sex": "Male",
          "size": 3,
          "smoker": "No",
          "time": "Dinner",
          "tip": 5.92,
          "total_bill": 29.03,
          "weekend": true
         },
         {
          "day": "Sat",
          "sex": "Female",
          "size": 2,
          "smoker": "Yes",
          "time": "Dinner",
          "tip": 2,
          "total_bill": 27.18,
          "weekend": true
         },
         {
          "day": "Sat",
          "sex": "Male",
          "size": 2,
          "smoker": "Yes",
          "time": "Dinner",
          "tip": 2,
          "total_bill": 22.67,
          "weekend": true
         },
         {
          "day": "Sat",
          "sex": "Male",
          "size": 2,
          "smoker": "No",
          "time": "Dinner",
          "tip": 1.75,
          "total_bill": 17.82,
          "weekend": true
         },
         {
          "day": "Thur",
          "sex": "Female",
          "size": 2,
          "smoker": "No",
          "time": "Dinner",
          "tip": 3,
          "total_bill": 18.78,
          "weekend": false
         }
        ]
       },
       "layer": [
        {
         "encoding": {
          "color": {
           "field": "weekend",
           "type": "nominal"
          },
          "x": {
           "field": "day",
           "type": "nominal"
          },
          "y": {
           "aggregate": "mean",
           "axis": {
            "title": "total_bill"
           },
           "field": "total_bill",
           "type": "quantitative"
          }
         },
         "mark": "bar"
        },
        {
         "encoding": {
          "x": {
           "field": "day",
           "type": "nominal"
          },
          "y": {
           "aggregate": "ci0",
           "field": "total_bill",
           "type": "quantitative"
          },
          "y2": {
           "aggregate": "ci1",
           "field": "total_bill",
           "type": "quantitative"
          }
         },
         "mark": "rule"
        }
       ]
      },
      "image/png": "[encoded data removed]",
      "text/plain": [
       "<VegaLite 2 object>\n",
       "\n",
       "If you see this message, it means the renderer has not been properly enabled\n",
       "for the frontend that you are using. For more information, see\n",
       "https://altair-viz.github.io/user_guide/troubleshooting.html\n"
      ]
     },
     "metadata": {},
     "output_type": "display_data"
    },
    {
     "data": {
      "image/png": "[encoded data removed]",
      "text/plain": [
       "<Figure size 432x288 with 1 Axes>"
      ]
     },
     "metadata": {},
     "output_type": "display_data"
    }
   ],
   "source": [
    "tips[\"weekend\"] = tips[\"day\"].isin([\"Sat\", \"Sun\"])\n",
    "display(salt.barplot(x=\"day\", y=\"total_bill\", hue=\"weekend\", data=tips, dodge=False))\n",
    "ax = sns.barplot(x=\"day\", y=\"total_bill\", hue=\"weekend\", data=tips, dodge=False)"
   ]
  },
  {
   "cell_type": "code",
   "execution_count": 16,
   "metadata": {},
   "outputs": [
    {
     "data": {
      "application/vnd.vegalite.v2+json": {
       "$schema": "https://vega.github.io/schema/vega-lite/v2.4.1.json",
       "config": {
        "range": {
         "category": [
          "rgba(216.00000000000003,155.0,147.99999999999997,1)"
         ]
        },
        "view": {
         "height": 300,
         "width": 400
        }
       },
       "data": {
        "values": [
         {
          "day": "Sun",
          "sex": "Female",
          "size": 2,
          "smoker": "No",
          "time": "Dinner",
          "tip": 1.01,
          "total_bill": 16.99,
          "weekend": true
         },
         {
          "day": "Sun",
          "sex": "Male",
          "size": 3,
          "smoker": "No",
          "time": "Dinner",
          "tip": 1.66,
          "total_bill": 10.34,
          "weekend": true
         },
         {
          "day": "Sun",
          "sex": "Male",
          "size": 3,
          "smoker": "No",
          "time": "Dinner",
          "tip": 3.5,
          "total_bill": 21.01,
          "weekend": true
         },
         {
          "day": "Sun",
          "sex": "Male",
          "size": 2,
          "smoker": "No",
          "time": "Dinner",
          "tip": 3.31,
          "total_bill": 23.68,
          "weekend": true
         },
         {
          "day": "Sun",
          "sex": "Female",
          "size": 4,
          "smoker": "No",
          "time": "Dinner",
          "tip": 3.61,
          "total_bill": 24.59,
          "weekend": true
         },
         {
          "day": "Sun",
          "sex": "Male",
          "size": 4,
          "smoker": "No",
          "time": "Dinner",
          "tip": 4.71,
          "total_bill": 25.29,
          "weekend": true
         },
         {
          "day": "Sun",
          "sex": "Male",
          "size": 2,
          "smoker": "No",
          "time": "Dinner",
          "tip": 2,
          "total_bill": 8.77,
          "weekend": true
         },
         {
          "day": "Sun",
          "sex": "Male",
          "size": 4,
          "smoker": "No",
          "time": "Dinner",
          "tip": 3.12,
          "total_bill": 26.88,
          "weekend": true
         },
         {
          "day": "Sun",
          "sex": "Male",
          "size": 2,
          "smoker": "No",
          "time": "Dinner",
          "tip": 1.96,
          "total_bill": 15.04,
          "weekend": true
         },
         {
          "day": "Sun",
          "sex": "Male",
          "size": 2,
          "smoker": "No",
          "time": "Dinner",
          "tip": 3.23,
          "total_bill": 14.78,
          "weekend": true
         },
         {
          "day": "Sun",
          "sex": "Male",
          "size": 2,
          "smoker": "No",
          "time": "Dinner",
          "tip": 1.71,
          "total_bill": 10.27,
          "weekend": true
         },
         {
          "day": "Sun",
          "sex": "Female",
          "size": 4,
          "smoker": "No",
          "time": "Dinner",
          "tip": 5,
          "total_bill": 35.26,
          "weekend": true
         },
         {
          "day": "Sun",
          "sex": "Male",
          "size": 2,
          "smoker": "No",
          "time": "Dinner",
          "tip": 1.57,
          "total_bill": 15.42,
          "weekend": true
         },
         {
          "day": "Sun",
          "sex": "Male",
          "size": 4,
          "smoker": "No",
          "time": "Dinner",
          "tip": 3,
          "total_bill": 18.43,
          "weekend": true
         },
         {
          "day": "Sun",
          "sex": "Female",
          "size": 2,
          "smoker": "No",
          "time": "Dinner",
          "tip": 3.02,
          "total_bill": 14.83,
          "weekend": true
         },
         {
          "day": "Sun",
          "sex": "Male",
          "size": 2,
          "smoker": "No",
          "time": "Dinner",
          "tip": 3.92,
          "total_bill": 21.58,
          "weekend": true
         },
         {
          "day": "Sun",
          "sex": "Female",
          "size": 3,
          "smoker": "No",
          "time": "Dinner",
          "tip": 1.67,
          "total_bill": 10.33,
          "weekend": true
         },
         {
          "day": "Sun",
          "sex": "Male",
          "size": 3,
          "smoker": "No",
          "time": "Dinner",
          "tip": 3.71,
          "total_bill": 16.29,
          "weekend": true
         },
         {
          "day": "Sun",
          "sex": "Female",
          "size": 3,
          "smoker": "No",
          "time": "Dinner",
          "tip": 3.5,
          "total_bill": 16.97,
          "weekend": true
         },
         {
          "day": "Sat",
          "sex": "Male",
          "size": 3,
          "smoker": "No",
          "time": "Dinner",
          "tip": 3.35,
          "total_bill": 20.65,
          "weekend": true
         },
         {
          "day": "Sat",
          "sex": "Male",
          "size": 2,
          "smoker": "No",
          "time": "Dinner",
          "tip": 4.08,
          "total_bill": 17.92,
          "weekend": true
         },
         {
          "day": "Sat",
          "sex": "Female",
          "size": 2,
          "smoker": "No",
          "time": "Dinner",
          "tip": 2.75,
          "total_bill": 20.29,
          "weekend": true
         },
         {
          "day": "Sat",
          "sex": "Female",
          "size": 2,
          "smoker": "No",
          "time": "Dinner",
          "tip": 2.23,
          "total_bill": 15.77,
          "weekend": true
         },
         {
          "day": "Sat",
          "sex": "Male",
          "size": 4,
          "smoker": "No",
          "time": "Dinner",
          "tip": 7.58,
          "total_bill": 39.42,
          "weekend": true
         },
         {
          "day": "Sat",
          "sex": "Male",
          "size": 2,
          "smoker": "No",
          "time": "Dinner",
          "tip": 3.18,
          "total_bill": 19.82,
          "weekend": true
         },
         {
          "day": "Sat",
          "sex": "Male",
          "size": 4,
          "smoker": "No",
          "time": "Dinner",
          "tip": 2.34,
          "total_bill": 17.81,
          "weekend": true
         },
         {
          "day": "Sat",
          "sex": "Male",
          "size": 2,
          "smoker": "No",
          "time": "Dinner",
          "tip": 2,
          "total_bill": 13.37,
          "weekend": true
         },
         {
          "day": "Sat",
          "sex": "Male",
          "size": 2,
          "smoker": "No",
          "time": "Dinner",
          "tip": 2,
          "total_bill": 12.69,
          "weekend": true
         },
         {
          "day": "Sat",
          "sex": "Male",
          "size": 2,
          "smoker": "No",
          "time": "Dinner",
          "tip": 4.3,
          "total_bill": 21.7,
          "weekend": true
         },
         {
          "day": "Sat",
          "sex": "Female",
          "size": 2,
          "smoker": "No",
          "time": "Dinner",
          "tip": 3,
          "total_bill": 19.65,
          "weekend": true
         },
         {
          "day": "Sat",
          "sex": "Male",
          "size": 2,
          "smoker": "No",
          "time": "Dinner",
          "tip": 1.45,
          "total_bill": 9.55,
          "weekend": true
         },
         {
          "day": "Sat",
          "sex": "Male",
          "size": 4,
          "smoker": "No",
          "time": "Dinner",
          "tip": 2.5,
          "total_bill": 18.35,
          "weekend": true
         },
         {
          "day": "Sat",
          "sex": "Female",
          "size": 2,
          "smoker": "No",
          "time": "Dinner",
          "tip": 3,
          "total_bill": 15.06,
          "weekend": true
         },
         {
          "day": "Sat",
          "sex": "Female",
          "size": 4,
          "smoker": "No",
          "time": "Dinner",
          "tip": 2.45,
          "total_bill": 20.69,
          "weekend": true
         },
         {
          "day": "Sat",
          "sex": "Male",
          "size": 2,
          "smoker": "No",
          "time": "Dinner",
          "tip": 3.27,
          "total_bill": 17.78,
          "weekend": true
         },
         {
          "day": "Sat",
          "sex": "Male",
          "size": 3,
          "smoker": "No",
          "time": "Dinner",
          "tip": 3.6,
          "total_bill": 24.06,
          "weekend": true
         },
         {
          "day": "Sat",
          "sex": "Male",
          "size": 3,
          "smoker": "No",
          "time": "Dinner",
          "tip": 2,
          "total_bill": 16.31,
          "weekend": true
         },
         {
          "day": "Sat",
          "sex": "Female",
          "size": 3,
          "smoker": "No",
          "time": "Dinner",
          "tip": 3.07,
          "total_bill": 16.93,
          "weekend": true
         },
         {
          "day": "Sat",
          "sex": "Male",
          "size": 3,
          "smoker": "No",
          "time": "Dinner",
          "tip": 2.31,
          "total_bill": 18.69,
          "weekend": true
         },
         {
          "day": "Sat",
          "sex": "Male",
          "size": 3,
          "smoker": "No",
          "time": "Dinner",
          "tip": 5,
          "total_bill": 31.27,
          "weekend": true
         },
         {
          "day": "Sat",
          "sex": "Male",
          "size": 3,
          "smoker": "No",
          "time": "Dinner",
          "tip": 2.24,
          "total_bill": 16.04,
          "weekend": true
         },
         {
          "day": "Sun",
          "sex": "Male",
          "size": 2,
          "smoker": "No",
          "time": "Dinner",
          "tip": 2.54,
          "total_bill": 17.46,
          "weekend": true
         },
         {
          "day": "Sun",
          "sex": "Male",
          "size": 2,
          "smoker": "No",
          "time": "Dinner",
          "tip": 3.06,
          "total_bill": 13.94,
          "weekend": true
         },
         {
          "day": "Sun",
          "sex": "Male",
          "size": 2,
          "smoker": "No",
          "time": "Dinner",
          "tip": 1.32,
          "total_bill": 9.68,
          "weekend": true
         },
         {
          "day": "Sun",
          "sex": "Male",
          "size": 4,
          "smoker": "No",
          "time": "Dinner",
          "tip": 5.6,
          "total_bill": 30.4,
          "weekend": true
         },
         {
          "day": "Sun",
          "sex": "Male",
          "size": 2,
          "smoker": "No",
          "time": "Dinner",
          "tip": 3,
          "total_bill": 18.29,
          "weekend": true
         },
         {
          "day": "Sun",
          "sex": "Male",
          "size": 2,
          "smoker": "No",
          "time": "Dinner",
          "tip": 5,
          "total_bill": 22.23,
          "weekend": true
         },
         {
          "day": "Sun",
          "sex": "Male",
          "size": 4,
          "smoker": "No",
          "time": "Dinner",
          "tip": 6,
          "total_bill": 32.4,
          "weekend": true
         },
         {
          "day": "Sun",
          "sex": "Male",
          "size": 3,
          "smoker": "No",
          "time": "Dinner",
          "tip": 2.05,
          "total_bill": 28.55,
          "weekend": true
         },
         {
          "day": "Sun",
          "sex": "Male",
          "size": 2,
          "smoker": "No",
          "time": "Dinner",
          "tip": 3,
          "total_bill": 18.04,
          "weekend": true
         },
         {
          "day": "Sun",
          "sex": "Male",
          "size": 2,
          "smoker": "No",
          "time": "Dinner",
          "tip": 2.5,
          "total_bill": 12.54,
          "weekend": true
         },
         {
          "day": "Sun",
          "sex": "Female",
          "size": 2,
          "smoker": "No",
          "time": "Dinner",
          "tip": 2.6,
          "total_bill": 10.29,
          "weekend": true
         },
         {
          "day": "Sun",
          "sex": "Female",
          "size": 4,
          "smoker": "No",
          "time": "Dinner",
          "tip": 5.2,
          "total_bill": 34.81,
          "weekend": true
         },
         {
          "day": "Sun",
          "sex": "Male",
          "size": 2,
          "smoker": "No",
          "time": "Dinner",
          "tip": 1.56,
          "total_bill": 9.94,
          "weekend": true
         },
         {
          "day": "Sun",
          "sex": "Male",
          "size": 4,
          "smoker": "No",
          "time": "Dinner",
          "tip": 4.34,
          "total_bill": 25.56,
          "weekend": true
         },
         {
          "day": "Sun",
          "sex": "Male",
          "size": 2,
          "smoker": "No",
          "time": "Dinner",
          "tip": 3.51,
          "total_bill": 19.49,
          "weekend": true
         },
         {
          "day": "Sat",
          "sex": "Male",
          "size": 4,
          "smoker": "Yes",
          "time": "Dinner",
          "tip": 3,
          "total_bill": 38.01,
          "weekend": true
         },
         {
          "day": "Sat",
          "sex": "Female",
          "size": 2,
          "smoker": "No",
          "time": "Dinner",
          "tip": 1.5,
          "total_bill": 26.41,
          "weekend": true
         },
         {
          "day": "Sat",
          "sex": "Male",
          "size": 2,
          "smoker": "Yes",
          "time": "Dinner",
          "tip": 1.76,
          "total_bill": 11.24,
          "weekend": true
         },
         {
          "day": "Sat",
          "sex": "Male",
          "size": 4,
          "smoker": "No",
          "time": "Dinner",
          "tip": 6.73,
          "total_bill": 48.27,
          "weekend": true
         },
         {
          "day": "Sat",
          "sex": "Male",
          "size": 2,
          "smoker": "Yes",
          "time": "Dinner",
          "tip": 3.21,
          "total_bill": 20.29,
          "weekend": true
         },
         {
          "day": "Sat",
          "sex": "Male",
          "size": 2,
          "smoker": "Yes",
          "time": "Dinner",
          "tip": 2,
          "total_bill": 13.81,
          "weekend": true
         },
         {
          "day": "Sat",
          "sex": "Male",
          "size": 2,
          "smoker": "Yes",
          "time": "Dinner",
          "tip": 1.98,
          "total_bill": 11.02,
          "weekend": true
         },
         {
          "day": "Sat",
          "sex": "Male",
          "size": 4,
          "smoker": "Yes",
          "time": "Dinner",
          "tip": 3.76,
          "total_bill": 18.29,
          "weekend": true
         },
         {
          "day": "Sat",
          "sex": "Male",
          "size": 3,
          "smoker": "No",
          "time": "Dinner",
          "tip": 2.64,
          "total_bill": 17.59,
          "weekend": true
         },
         {
          "day": "Sat",
          "sex": "Male",
          "size": 3,
          "smoker": "No",
          "time": "Dinner",
          "tip": 3.15,
          "total_bill": 20.08,
          "weekend": true
         },
         {
          "day": "Sat",
          "sex": "Female",
          "size": 2,
          "smoker": "No",
          "time": "Dinner",
          "tip": 2.47,
          "total_bill": 16.45,
          "weekend": true
         },
         {
          "day": "Sat",
          "sex": "Female",
          "size": 1,
          "smoker": "Yes",
          "time": "Dinner",
          "tip": 1,
          "total_bill": 3.07,
          "weekend": true
         },
         {
          "day": "Sat",
          "sex": "Male",
          "size": 2,
          "smoker": "No",
          "time": "Dinner",
          "tip": 2.01,
          "total_bill": 20.23,
          "weekend": true
         },
         {
          "day": "Sat",
          "sex": "Male",
          "size": 2,
          "smoker": "Yes",
          "time": "Dinner",
          "tip": 2.09,
          "total_bill": 15.01,
          "weekend": true
         },
         {
          "day": "Sat",
          "sex": "Male",
          "size": 2,
          "smoker": "No",
          "time": "Dinner",
          "tip": 1.97,
          "total_bill": 12.02,
          "weekend": true
         },
         {
          "day": "Sat",
          "sex": "Female",
          "size": 3,
          "smoker": "No",
          "time": "Dinner",
          "tip": 3,
          "total_bill": 17.07,
          "weekend": true
         },
         {
          "day": "Sat",
          "sex": "Female",
          "size": 2,
          "smoker": "Yes",
          "time": "Dinner",
          "tip": 3.14,
          "total_bill": 26.86,
          "weekend": true
         },
         {
          "day": "Sat",
          "sex": "Female",
          "size": 2,
          "smoker": "Yes",
          "time": "Dinner",
          "tip": 5,
          "total_bill": 25.28,
          "weekend": true
         },
         {
          "day": "Sat",
          "sex": "Female",
          "size": 2,
          "smoker": "No",
          "time": "Dinner",
          "tip": 2.2,
          "total_bill": 14.73,
          "weekend": true
         },
         {
          "day": "Sat",
          "sex": "Male",
          "size": 2,
          "smoker": "No",
          "time": "Dinner",
          "tip": 1.25,
          "total_bill": 10.51,
          "weekend": true
         },
         {
          "day": "Sat",
          "sex": "Male",
          "size": 2,
          "smoker": "Yes",
          "time": "Dinner",
          "tip": 3.08,
          "total_bill": 17.92,
          "weekend": true
         },
         {
          "day": "Thur",
          "sex": "Male",
          "size": 4,
          "smoker": "No",
          "time": "Lunch",
          "tip": 4,
          "total_bill": 27.2,
          "weekend": false
         },
         {
          "day": "Thur",
          "sex": "Male",
          "size": 2,
          "smoker": "No",
          "time": "Lunch",
          "tip": 3,
          "total_bill": 22.76,
          "weekend": false
         },
         {
          "day": "Thur",
          "sex": "Male",
          "size": 2,
          "smoker": "No",
          "time": "Lunch",
          "tip": 2.71,
          "total_bill": 17.29,
          "weekend": false
         },
         {
          "day": "Thur",
          "sex": "Male",
          "size": 2,
          "smoker": "Yes",
          "time": "Lunch",
          "tip": 3,
          "total_bill": 19.44,
          "weekend": false
         },
         {
          "day": "Thur",
          "sex": "Male",
          "size": 2,
          "smoker": "No",
          "time": "Lunch",
          "tip": 3.4,
          "total_bill": 16.66,
          "weekend": false
         },
         {
          "day": "Thur",
          "sex": "Female",
          "size": 1,
          "smoker": "No",
          "time": "Lunch",
          "tip": 1.83,
          "total_bill": 10.07,
          "weekend": false
         },
         {
          "day": "Thur",
          "sex": "Male",
          "size": 2,
          "smoker": "Yes",
          "time": "Lunch",
          "tip": 5,
          "total_bill": 32.68,
          "weekend": false
         },
         {
          "day": "Thur",
          "sex": "Male",
          "size": 2,
          "smoker": "No",
          "time": "Lunch",
          "tip": 2.03,
          "total_bill": 15.98,
          "weekend": false
         },
         {
          "day": "Thur",
          "sex": "Female",
          "size": 4,
          "smoker": "No",
          "time": "Lunch",
          "tip": 5.17,
          "total_bill": 34.83,
          "weekend": false
         },
         {
          "day": "Thur",
          "sex": "Male",
          "size": 2,
          "smoker": "No",
          "time": "Lunch",
          "tip": 2,
          "total_bill": 13.03,
          "weekend": false
         },
         {
          "day": "Thur",
          "sex": "Male",
          "size": 2,
          "smoker": "No",
          "time": "Lunch",
          "tip": 4,
          "total_bill": 18.28,
          "weekend": false
         },
         {
          "day": "Thur",
          "sex": "Male",
          "size": 2,
          "smoker": "No",
          "time": "Lunch",
          "tip": 5.85,
          "total_bill": 24.71,
          "weekend": false
         },
         {
          "day": "Thur",
          "sex": "Male",
          "size": 2,
          "smoker": "No",
          "time": "Lunch",
          "tip": 3,
          "total_bill": 21.16,
          "weekend": false
         },
         {
          "day": "Fri",
          "sex": "Male",
          "size": 2,
          "smoker": "Yes",
          "time": "Dinner",
          "tip": 3,
          "total_bill": 28.97,
          "weekend": false
         },
         {
          "day": "Fri",
          "sex": "Male",
          "size": 2,
          "smoker": "No",
          "time": "Dinner",
          "tip": 3.5,
          "total_bill": 22.49,
          "weekend": false
         },
         {
          "day": "Fri",
          "sex": "Female",
          "size": 2,
          "smoker": "Yes",
          "time": "Dinner",
          "tip": 1,
          "total_bill": 5.75,
          "weekend": false
         },
         {
          "day": "Fri",
          "sex": "Female",
          "size": 2,
          "smoker": "Yes",
          "time": "Dinner",
          "tip": 4.3,
          "total_bill": 16.32,
          "weekend": false
         },
         {
          "day": "Fri",
          "sex": "Female",
          "size": 2,
          "smoker": "No",
          "time": "Dinner",
          "tip": 3.25,
          "total_bill": 22.75,
          "weekend": false
         },
         {
          "day": "Fri",
          "sex": "Male",
          "size": 4,
          "smoker": "Yes",
          "time": "Dinner",
          "tip": 4.73,
          "total_bill": 40.17,
          "weekend": false
         },
         {
          "day": "Fri",
          "sex": "Male",
          "size": 2,
          "smoker": "Yes",
          "time": "Dinner",
          "tip": 4,
          "total_bill": 27.28,
          "weekend": false
         },
         {
          "day": "Fri",
          "sex": "Male",
          "size": 2,
          "smoker": "Yes",
          "time": "Dinner",
          "tip": 1.5,
          "total_bill": 12.03,
          "weekend": false
         },
         {
          "day": "Fri",
          "sex": "Male",
          "size": 2,
          "smoker": "Yes",
          "time": "Dinner",
          "tip": 3,
          "total_bill": 21.01,
          "weekend": false
         },
         {
          "day": "Fri",
          "sex": "Male",
          "size": 2,
          "smoker": "No",
          "time": "Dinner",
          "tip": 1.5,
          "total_bill": 12.46,
          "weekend": false
         },
         {
          "day": "Fri",
          "sex": "Female",
          "size": 2,
          "smoker": "Yes",
          "time": "Dinner",
          "tip": 2.5,
          "total_bill": 11.35,
          "weekend": false
         },
         {
          "day": "Fri",
          "sex": "Female",
          "size": 2,
          "smoker": "Yes",
          "time": "Dinner",
          "tip": 3,
          "total_bill": 15.38,
          "weekend": false
         },
         {
          "day": "Sat",
          "sex": "Female",
          "size": 3,
          "smoker": "Yes",
          "time": "Dinner",
          "tip": 2.5,
          "total_bill": 44.3,
          "weekend": true
         },
         {
          "day": "Sat",
          "sex": "Female",
          "size": 2,
          "smoker": "Yes",
          "time": "Dinner",
          "tip": 3.48,
          "total_bill": 22.42,
          "weekend": true
         },
         {
          "day": "Sat",
          "sex": "Female",
          "size": 2,
          "smoker": "No",
          "time": "Dinner",
          "tip": 4.08,
          "total_bill": 20.92,
          "weekend": true
         },
         {
          "day": "Sat",
          "sex": "Male",
          "size": 2,
          "smoker": "Yes",
          "time": "Dinner",
          "tip": 1.64,
          "total_bill": 15.36,
          "weekend": true
         },
         {
          "day": "Sat",
          "sex": "Male",
          "size": 2,
          "smoker": "Yes",
          "time": "Dinner",
          "tip": 4.06,
          "total_bill": 20.49,
          "weekend": true
         },
         {
          "day": "Sat",
          "sex": "Male",
          "size": 2,
          "smoker": "Yes",
          "time": "Dinner",
          "tip": 4.29,
          "total_bill": 25.21,
          "weekend": true
         },
         {
          "day": "Sat",
          "sex": "Male",
          "size": 2,
          "smoker": "No",
          "time": "Dinner",
          "tip": 3.76,
          "total_bill": 18.24,
          "weekend": true
         },
         {
          "day": "Sat",
          "sex": "Female",
          "size": 2,
          "smoker": "Yes",
          "time": "Dinner",
          "tip": 4,
          "total_bill": 14.31,
          "weekend": true
         },
         {
          "day": "Sat",
          "sex": "Male",
          "size": 2,
          "smoker": "No",
          "time": "Dinner",
          "tip": 3,
          "total_bill": 14,
          "weekend": true
         },
         {
          "day": "Sat",
          "sex": "Female",
          "size": 1,
          "smoker": "No",
          "time": "Dinner",
          "tip": 1,
          "total_bill": 7.25,
          "weekend": true
         },
         {
          "day": "Sun",
          "sex": "Male",
          "size": 3,
          "smoker": "No",
          "time": "Dinner",
          "tip": 4,
          "total_bill": 38.07,
          "weekend": true
         },
         {
          "day": "Sun",
          "sex": "Male",
          "size": 2,
          "smoker": "No",
          "time": "Dinner",
          "tip": 2.55,
          "total_bill": 23.95,
          "weekend": true
         },
         {
          "day": "Sun",
          "sex": "Female",
          "size": 3,
          "smoker": "No",
          "time": "Dinner",
          "tip": 4,
          "total_bill": 25.71,
          "weekend": true
         },
         {
          "day": "Sun",
          "sex": "Female",
          "size": 2,
          "smoker": "No",
          "time": "Dinner",
          "tip": 3.5,
          "total_bill": 17.31,
          "weekend": true
         },
         {
          "day": "Sun",
          "sex": "Male",
          "size": 4,
          "smoker": "No",
          "time": "Dinner",
          "tip": 5.07,
          "total_bill": 29.93,
          "weekend": true
         },
         {
          "day": "Thur",
          "sex": "Female",
          "size": 2,
          "smoker": "No",
          "time": "Lunch",
          "tip": 1.5,
          "total_bill": 10.65,
          "weekend": false
         },
         {
          "day": "Thur",
          "sex": "Female",
          "size": 2,
          "smoker": "No",
          "time": "Lunch",
          "tip": 1.8,
          "total_bill": 12.43,
          "weekend": false
         },
         {
          "day": "Thur",
          "sex": "Female",
          "size": 4,
          "smoker": "No",
          "time": "Lunch",
          "tip": 2.92,
          "total_bill": 24.08,
          "weekend": false
         },
         {
          "day": "Thur",
          "sex": "Male",
          "size": 2,
          "smoker": "No",
          "time": "Lunch",
          "tip": 2.31,
          "total_bill": 11.69,
          "weekend": false
         },
         {
          "day": "Thur",
          "sex": "Female",
          "size": 2,
          "smoker": "No",
          "time": "Lunch",
          "tip": 1.68,
          "total_bill": 13.42,
          "weekend": false
         },
         {
          "day": "Thur",
          "sex": "Male",
          "size": 2,
          "smoker": "No",
          "time": "Lunch",
          "tip": 2.5,
          "total_bill": 14.26,
          "weekend": false
         },
         {
          "day": "Thur",
          "sex": "Male",
          "size": 2,
          "smoker": "No",
          "time": "Lunch",
          "tip": 2,
          "total_bill": 15.95,
          "weekend": false
         },
         {
          "day": "Thur",
          "sex": "Female",
          "size": 2,
          "smoker": "No",
          "time": "Lunch",
          "tip": 2.52,
          "total_bill": 12.48,
          "weekend": false
         },
         {
          "day": "Thur",
          "sex": "Female",
          "size": 6,
          "smoker": "No",
          "time": "Lunch",
          "tip": 4.2,
          "total_bill": 29.8,
          "weekend": false
         },
         {
          "day": "Thur",
          "sex": "Male",
          "size": 2,
          "smoker": "No",
          "time": "Lunch",
          "tip": 1.48,
          "total_bill": 8.52,
          "weekend": false
         },
         {
          "day": "Thur",
          "sex": "Female",
          "size": 2,
          "smoker": "No",
          "time": "Lunch",
          "tip": 2,
          "total_bill": 14.52,
          "weekend": false
         },
         {
          "day": "Thur",
          "sex": "Female",
          "size": 2,
          "smoker": "No",
          "time": "Lunch",
          "tip": 2,
          "total_bill": 11.38,
          "weekend": false
         },
         {
          "day": "Thur",
          "sex": "Male",
          "size": 3,
          "smoker": "No",
          "time": "Lunch",
          "tip": 2.18,
          "total_bill": 22.82,
          "weekend": false
         },
         {
          "day": "Thur",
          "sex": "Male",
          "size": 2,
          "smoker": "No",
          "time": "Lunch",
          "tip": 1.5,
          "total_bill": 19.08,
          "weekend": false
         },
         {
          "day": "Thur",
          "sex": "Female",
          "size": 2,
          "smoker": "No",
          "time": "Lunch",
          "tip": 2.83,
          "total_bill": 20.27,
          "weekend": false
         },
         {
          "day": "Thur",
          "sex": "Female",
          "size": 2,
          "smoker": "No",
          "time": "Lunch",
          "tip": 1.5,
          "total_bill": 11.17,
          "weekend": false
         },
         {
          "day": "Thur",
          "sex": "Female",
          "size": 2,
          "smoker": "No",
          "time": "Lunch",
          "tip": 2,
          "total_bill": 12.26,
          "weekend": false
         },
         {
          "day": "Thur",
          "sex": "Female",
          "size": 2,
          "smoker": "No",
          "time": "Lunch",
          "tip": 3.25,
          "total_bill": 18.26,
          "weekend": false
         },
         {
          "day": "Thur",
          "sex": "Female",
          "size": 2,
          "smoker": "No",
          "time": "Lunch",
          "tip": 1.25,
          "total_bill": 8.51,
          "weekend": false
         },
         {
          "day": "Thur",
          "sex": "Female",
          "size": 2,
          "smoker": "No",
          "time": "Lunch",
          "tip": 2,
          "total_bill": 10.33,
          "weekend": false
         },
         {
          "day": "Thur",
          "sex": "Female",
          "size": 2,
          "smoker": "No",
          "time": "Lunch",
          "tip": 2,
          "total_bill": 14.15,
          "weekend": false
         },
         {
          "day": "Thur",
          "sex": "Male",
          "size": 2,
          "smoker": "Yes",
          "time": "Lunch",
          "tip": 2,
          "total_bill": 16,
          "weekend": false
         },
         {
          "day": "Thur",
          "sex": "Female",
          "size": 2,
          "smoker": "No",
          "time": "Lunch",
          "tip": 2.75,
          "total_bill": 13.16,
          "weekend": false
         },
         {
          "day": "Thur",
          "sex": "Female",
          "size": 2,
          "smoker": "No",
          "time": "Lunch",
          "tip": 3.5,
          "total_bill": 17.47,
          "weekend": false
         },
         {
          "day": "Thur",
          "sex": "Male",
          "size": 6,
          "smoker": "No",
          "time": "Lunch",
          "tip": 6.7,
          "total_bill": 34.3,
          "weekend": false
         },
         {
          "day": "Thur",
          "sex": "Male",
          "size": 5,
          "smoker": "No",
          "time": "Lunch",
          "tip": 5,
          "total_bill": 41.19,
          "weekend": false
         },
         {
          "day": "Thur",
          "sex": "Female",
          "size": 6,
          "smoker": "No",
          "time": "Lunch",
          "tip": 5,
          "total_bill": 27.05,
          "weekend": false
         },
         {
          "day": "Thur",
          "sex": "Female",
          "size": 2,
          "smoker": "No",
          "time": "Lunch",
          "tip": 2.3,
          "total_bill": 16.43,
          "weekend": false
         },
         {
          "day": "Thur",
          "sex": "Female",
          "size": 2,
          "smoker": "No",
          "time": "Lunch",
          "tip": 1.5,
          "total_bill": 8.35,
          "weekend": false
         },
         {
          "day": "Thur",
          "sex": "Female",
          "size": 3,
          "smoker": "No",
          "time": "Lunch",
          "tip": 1.36,
          "total_bill": 18.64,
          "weekend": false
         },
         {
          "day": "Thur",
          "sex": "Female",
          "size": 2,
          "smoker": "No",
          "time": "Lunch",
          "tip": 1.63,
          "total_bill": 11.87,
          "weekend": false
         },
         {
          "day": "Thur",
          "sex": "Male",
          "size": 2,
          "smoker": "No",
          "time": "Lunch",
          "tip": 1.73,
          "total_bill": 9.78,
          "weekend": false
         },
         {
          "day": "Thur",
          "sex": "Male",
          "size": 2,
          "smoker": "No",
          "time": "Lunch",
          "tip": 2,
          "total_bill": 7.51,
          "weekend": false
         },
         {
          "day": "Sun",
          "sex": "Male",
          "size": 2,
          "smoker": "No",
          "time": "Dinner",
          "tip": 2.5,
          "total_bill": 14.07,
          "weekend": true
         },
         {
          "day": "Sun",
          "sex": "Male",
          "size": 2,
          "smoker": "No",
          "time": "Dinner",
          "tip": 2,
          "total_bill": 13.13,
          "weekend": true
         },
         {
          "day": "Sun",
          "sex": "Male",
          "size": 3,
          "smoker": "No",
          "time": "Dinner",
          "tip": 2.74,
          "total_bill": 17.26,
          "weekend": true
         },
         {
          "day": "Sun",
          "sex": "Male",
          "size": 4,
          "smoker": "No",
          "time": "Dinner",
          "tip": 2,
          "total_bill": 24.55,
          "weekend": true
         },
         {
          "day": "Sun",
          "sex": "Male",
          "size": 4,
          "smoker": "No",
          "time": "Dinner",
          "tip": 2,
          "total_bill": 19.77,
          "weekend": true
         },
         {
          "day": "Sun",
          "sex": "Female",
          "size": 5,
          "smoker": "No",
          "time": "Dinner",
          "tip": 5.14,
          "total_bill": 29.85,
          "weekend": true
         },
         {
          "day": "Sun",
          "sex": "Male",
          "size": 6,
          "smoker": "No",
          "time": "Dinner",
          "tip": 5,
          "total_bill": 48.17,
          "weekend": true
         },
         {
          "day": "Sun",
          "sex": "Female",
          "size": 4,
          "smoker": "No",
          "time": "Dinner",
          "tip": 3.75,
          "total_bill": 25,
          "weekend": true
         },
         {
          "day": "Sun",
          "sex": "Female",
          "size": 2,
          "smoker": "No",
          "time": "Dinner",
          "tip": 2.61,
          "total_bill": 13.39,
          "weekend": true
         },
         {
          "day": "Sun",
          "sex": "Male",
          "size": 4,
          "smoker": "No",
          "time": "Dinner",
          "tip": 2,
          "total_bill": 16.49,
          "weekend": true
         },
         {
          "day": "Sun",
          "sex": "Male",
          "size": 4,
          "smoker": "No",
          "time": "Dinner",
          "tip": 3.5,
          "total_bill": 21.5,
          "weekend": true
         },
         {
          "day": "Sun",
          "sex": "Male",
          "size": 2,
          "smoker": "No",
          "time": "Dinner",
          "tip": 2.5,
          "total_bill": 12.66,
          "weekend": true
         },
         {
          "day": "Sun",
          "sex": "Female",
          "size": 3,
          "smoker": "No",
          "time": "Dinner",
          "tip": 2,
          "total_bill": 16.21,
          "weekend": true
         },
         {
          "day": "Sun",
          "sex": "Male",
          "size": 2,
          "smoker": "No",
          "time": "Dinner",
          "tip": 2,
          "total_bill": 13.81,
          "weekend": true
         },
         {
          "day": "Sun",
          "sex": "Female",
          "size": 2,
          "smoker": "Yes",
          "time": "Dinner",
          "tip": 3,
          "total_bill": 17.51,
          "weekend": true
         },
         {
          "day": "Sun",
          "sex": "Male",
          "size": 3,
          "smoker": "No",
          "time": "Dinner",
          "tip": 3.48,
          "total_bill": 24.52,
          "weekend": true
         },
         {
          "day": "Sun",
          "sex": "Male",
          "size": 2,
          "smoker": "No",
          "time": "Dinner",
          "tip": 2.24,
          "total_bill": 20.76,
          "weekend": true
         },
         {
          "day": "Sun",
          "sex": "Male",
          "size": 4,
          "smoker": "No",
          "time": "Dinner",
          "tip": 4.5,
          "total_bill": 31.71,
          "weekend": true
         },
         {
          "day": "Sat",
          "sex": "Female",
          "size": 2,
          "smoker": "Yes",
          "time": "Dinner",
          "tip": 1.61,
          "total_bill": 10.59,
          "weekend": true
         },
         {
          "day": "Sat",
          "sex": "Female",
          "size": 2,
          "smoker": "Yes",
          "time": "Dinner",
          "tip": 2,
          "total_bill": 10.63,
          "weekend": true
         },
         {
          "day": "Sat",
          "sex": "Male",
          "size": 3,
          "smoker": "Yes",
          "time": "Dinner",
          "tip": 10,
          "total_bill": 50.81,
          "weekend": true
         },
         {
          "day": "Sat",
          "sex": "Male",
          "size": 2,
          "smoker": "Yes",
          "time": "Dinner",
          "tip": 3.16,
          "total_bill": 15.81,
          "weekend": true
         },
         {
          "day": "Sun",
          "sex": "Male",
          "size": 2,
          "smoker": "Yes",
          "time": "Dinner",
          "tip": 5.15,
          "total_bill": 7.25,
          "weekend": true
         },
         {
          "day": "Sun",
          "sex": "Male",
          "size": 2,
          "smoker": "Yes",
          "time": "Dinner",
          "tip": 3.18,
          "total_bill": 31.85,
          "weekend": true
         },
         {
          "day": "Sun",
          "sex": "Male",
          "size": 2,
          "smoker": "Yes",
          "time": "Dinner",
          "tip": 4,
          "total_bill": 16.82,
          "weekend": true
         },
         {
          "day": "Sun",
          "sex": "Male",
          "size": 2,
          "smoker": "Yes",
          "time": "Dinner",
          "tip": 3.11,
          "total_bill": 32.9,
          "weekend": true
         },
         {
          "day": "Sun",
          "sex": "Male",
          "size": 2,
          "smoker": "Yes",
          "time": "Dinner",
          "tip": 2,
          "total_bill": 17.89,
          "weekend": true
         },
         {
          "day": "Sun",
          "sex": "Male",
          "size": 2,
          "smoker": "Yes",
          "time": "Dinner",
          "tip": 2,
          "total_bill": 14.48,
          "weekend": true
         },
         {
          "day": "Sun",
          "sex": "Female",
          "size": 2,
          "smoker": "Yes",
          "time": "Dinner",
          "tip": 4,
          "total_bill": 9.6,
          "weekend": true
         },
         {
          "day": "Sun",
          "sex": "Male",
          "size": 2,
          "smoker": "Yes",
          "time": "Dinner",
          "tip": 3.55,
          "total_bill": 34.63,
          "weekend": true
         },
         {
          "day": "Sun",
          "sex": "Male",
          "size": 4,
          "smoker": "Yes",
          "time": "Dinner",
          "tip": 3.68,
          "total_bill": 34.65,
          "weekend": true
         },
         {
          "day": "Sun",
          "sex": "Male",
          "size": 2,
          "smoker": "Yes",
          "time": "Dinner",
          "tip": 5.65,
          "total_bill": 23.33,
          "weekend": true
         },
         {
          "day": "Sun",
          "sex": "Male",
          "size": 3,
          "smoker": "Yes",
          "time": "Dinner",
          "tip": 3.5,
          "total_bill": 45.35,
          "weekend": true
         },
         {
          "day": "Sun",
          "sex": "Male",
          "size": 4,
          "smoker": "Yes",
          "time": "Dinner",
          "tip": 6.5,
          "total_bill": 23.17,
          "weekend": true
         },
         {
          "day": "Sun",
          "sex": "Male",
          "size": 2,
          "smoker": "Yes",
          "time": "Dinner",
          "tip": 3,
          "total_bill": 40.55,
          "weekend": true
         },
         {
          "day": "Sun",
          "sex": "Male",
          "size": 5,
          "smoker": "No",
          "time": "Dinner",
          "tip": 5,
          "total_bill": 20.69,
          "weekend": true
         },
         {
          "day": "Sun",
          "sex": "Female",
          "size": 3,
          "smoker": "Yes",
          "time": "Dinner",
          "tip": 3.5,
          "total_bill": 20.9,
          "weekend": true
         },
         {
          "day": "Sun",
          "sex": "Male",
          "size": 5,
          "smoker": "Yes",
          "time": "Dinner",
          "tip": 2,
          "total_bill": 30.46,
          "weekend": true
         },
         {
          "day": "Sun",
          "sex": "Female",
          "size": 3,
          "smoker": "Yes",
          "time": "Dinner",
          "tip": 3.5,
          "total_bill": 18.15,
          "weekend": true
         },
         {
          "day": "Sun",
          "sex": "Male",
          "size": 3,
          "smoker": "Yes",
          "time": "Dinner",
          "tip": 4,
          "total_bill": 23.1,
          "weekend": true
         },
         {
          "day": "Sun",
          "sex": "Male",
          "size": 2,
          "smoker": "Yes",
          "time": "Dinner",
          "tip": 1.5,
          "total_bill": 15.69,
          "weekend": true
         },
         {
          "day": "Thur",
          "sex": "Female",
          "size": 2,
          "smoker": "Yes",
          "time": "Lunch",
          "tip": 4.19,
          "total_bill": 19.81,
          "weekend": false
         },
         {
          "day": "Thur",
          "sex": "Male",
          "size": 2,
          "smoker": "Yes",
          "time": "Lunch",
          "tip": 2.56,
          "total_bill": 28.44,
          "weekend": false
         },
         {
          "day": "Thur",
          "sex": "Male",
          "size": 2,
          "smoker": "Yes",
          "time": "Lunch",
          "tip": 2.02,
          "total_bill": 15.48,
          "weekend": false
         },
         {
          "day": "Thur",
          "sex": "Male",
          "size": 2,
          "smoker": "Yes",
          "time": "Lunch",
          "tip": 4,
          "total_bill": 16.58,
          "weekend": false
         },
         {
          "day": "Thur",
          "sex": "Male",
          "size": 2,
          "smoker": "No",
          "time": "Lunch",
          "tip": 1.44,
          "total_bill": 7.56,
          "weekend": false
         },
         {
          "day": "Thur",
          "sex": "Male",
          "size": 2,
          "smoker": "Yes",
          "time": "Lunch",
          "tip": 2,
          "total_bill": 10.34,
          "weekend": false
         },
         {
          "day": "Thur",
          "sex": "Female",
          "size": 4,
          "smoker": "Yes",
          "time": "Lunch",
          "tip": 5,
          "total_bill": 43.11,
          "weekend": false
         },
         {
          "day": "Thur",
          "sex": "Female",
          "size": 2,
          "smoker": "Yes",
          "time": "Lunch",
          "tip": 2,
          "total_bill": 13,
          "weekend": false
         },
         {
          "day": "Thur",
          "sex": "Male",
          "size": 2,
          "smoker": "Yes",
          "time": "Lunch",
          "tip": 2,
          "total_bill": 13.51,
          "weekend": false
         },
         {
          "day": "Thur",
          "sex": "Male",
          "size": 3,
          "smoker": "Yes",
          "time": "Lunch",
          "tip": 4,
          "total_bill": 18.71,
          "weekend": false
         },
         {
          "day": "Thur",
          "sex": "Female",
          "size": 2,
          "smoker": "Yes",
          "time": "Lunch",
          "tip": 2.01,
          "total_bill": 12.74,
          "weekend": false
         },
         {
          "day": "Thur",
          "sex": "Female",
          "size": 2,
          "smoker": "Yes",
          "time": "Lunch",
          "tip": 2,
          "total_bill": 13,
          "weekend": false
         },
         {
          "day": "Thur",
          "sex": "Female",
          "size": 2,
          "smoker": "Yes",
          "time": "Lunch",
          "tip": 2.5,
          "total_bill": 16.4,
          "weekend": false
         },
         {
          "day": "Thur",
          "sex": "Male",
          "size": 4,
          "smoker": "Yes",
          "time": "Lunch",
          "tip": 4,
          "total_bill": 20.53,
          "weekend": false
         },
         {
          "day": "Thur",
          "sex": "Female",
          "size": 3,
          "smoker": "Yes",
          "time": "Lunch",
          "tip": 3.23,
          "total_bill": 16.47,
          "weekend": false
         },
         {
          "day": "Sat",
          "sex": "Male",
          "size": 3,
          "smoker": "Yes",
          "time": "Dinner",
          "tip": 3.41,
          "total_bill": 26.59,
          "weekend": true
         },
         {
          "day": "Sat",
          "sex": "Male",
          "size": 4,
          "smoker": "Yes",
          "time": "Dinner",
          "tip": 3,
          "total_bill": 38.73,
          "weekend": true
         },
         {
          "day": "Sat",
          "sex": "Male",
          "size": 2,
          "smoker": "Yes",
          "time": "Dinner",
          "tip": 2.03,
          "total_bill": 24.27,
          "weekend": true
         },
         {
          "day": "Sat",
          "sex": "Female",
          "size": 2,
          "smoker": "Yes",
          "time": "Dinner",
          "tip": 2.23,
          "total_bill": 12.76,
          "weekend": true
         },
         {
          "day": "Sat",
          "sex": "Male",
          "size": 3,
          "smoker": "Yes",
          "time": "Dinner",
          "tip": 2,
          "total_bill": 30.06,
          "weekend": true
         },
         {
          "day": "Sat",
          "sex": "Male",
          "size": 4,
          "smoker": "Yes",
          "time": "Dinner",
          "tip": 5.16,
          "total_bill": 25.89,
          "weekend": true
         },
         {
          "day": "Sat",
          "sex": "Male",
          "size": 4,
          "smoker": "No",
          "time": "Dinner",
          "tip": 9,
          "total_bill": 48.33,
          "weekend": true
         },
         {
          "day": "Sat",
          "sex": "Female",
          "size": 2,
          "smoker": "Yes",
          "time": "Dinner",
          "tip": 2.5,
          "total_bill": 13.27,
          "weekend": true
         },
         {
          "day": "Sat",
          "sex": "Female",
          "size": 3,
          "smoker": "Yes",
          "time": "Dinner",
          "tip": 6.5,
          "total_bill": 28.17,
          "weekend": true
         },
         {
          "day": "Sat",
          "sex": "Female",
          "size": 2,
          "smoker": "Yes",
          "time": "Dinner",
          "tip": 1.1,
          "total_bill": 12.9,
          "weekend": true
         },
         {
          "day": "Sat",
          "sex": "Male",
          "size": 5,
          "smoker": "Yes",
          "time": "Dinner",
          "tip": 3,
          "total_bill": 28.15,
          "weekend": true
         },
         {
          "day": "Sat",
          "sex": "Male",
          "size": 2,
          "smoker": "Yes",
          "time": "Dinner",
          "tip": 1.5,
          "total_bill": 11.59,
          "weekend": true
         },
         {
          "day": "Sat",
          "sex": "Male",
          "size": 2,
          "smoker": "Yes",
          "time": "Dinner",
          "tip": 1.44,
          "total_bill": 7.74,
          "weekend": true
         },
         {
          "day": "Sat",
          "sex": "Female",
          "size": 4,
          "smoker": "Yes",
          "time": "Dinner",
          "tip": 3.09,
          "total_bill": 30.14,
          "weekend": true
         },
         {
          "day": "Fri",
          "sex": "Male",
          "size": 2,
          "smoker": "Yes",
          "time": "Lunch",
          "tip": 2.2,
          "total_bill": 12.16,
          "weekend": false
         },
         {
          "day": "Fri",
          "sex": "Female",
          "size": 2,
          "smoker": "Yes",
          "time": "Lunch",
          "tip": 3.48,
          "total_bill": 13.42,
          "weekend": false
         },
         {
          "day": "Fri",
          "sex": "Male",
          "size": 1,
          "smoker": "Yes",
          "time": "Lunch",
          "tip": 1.92,
          "total_bill": 8.58,
          "weekend": false
         },
         {
          "day": "Fri",
          "sex": "Female",
          "size": 3,
          "smoker": "No",
          "time": "Lunch",
          "tip": 3,
          "total_bill": 15.98,
          "weekend": false
         },
         {
          "day": "Fri",
          "sex": "Male",
          "size": 2,
          "smoker": "Yes",
          "time": "Lunch",
          "tip": 1.58,
          "total_bill": 13.42,
          "weekend": false
         },
         {
          "day": "Fri",
          "sex": "Female",
          "size": 2,
          "smoker": "Yes",
          "time": "Lunch",
          "tip": 2.5,
          "total_bill": 16.27,
          "weekend": false
         },
         {
          "day": "Fri",
          "sex": "Female",
          "size": 2,
          "smoker": "Yes",
          "time": "Lunch",
          "tip": 2,
          "total_bill": 10.09,
          "weekend": false
         },
         {
          "day": "Sat",
          "sex": "Male",
          "size": 4,
          "smoker": "No",
          "time": "Dinner",
          "tip": 3,
          "total_bill": 20.45,
          "weekend": true
         },
         {
          "day": "Sat",
          "sex": "Male",
          "size": 2,
          "smoker": "No",
          "time": "Dinner",
          "tip": 2.72,
          "total_bill": 13.28,
          "weekend": true
         },
         {
          "day": "Sat",
          "sex": "Female",
          "size": 2,
          "smoker": "Yes",
          "time": "Dinner",
          "tip": 2.88,
          "total_bill": 22.12,
          "weekend": true
         },
         {
          "day": "Sat",
          "sex": "Male",
          "size": 4,
          "smoker": "Yes",
          "time": "Dinner",
          "tip": 2,
          "total_bill": 24.01,
          "weekend": true
         },
         {
          "day": "Sat",
          "sex": "Male",
          "size": 3,
          "smoker": "Yes",
          "time": "Dinner",
          "tip": 3,
          "total_bill": 15.69,
          "weekend": true
         },
         {
          "day": "Sat",
          "sex": "Male",
          "size": 2,
          "smoker": "No",
          "time": "Dinner",
          "tip": 3.39,
          "total_bill": 11.61,
          "weekend": true
         },
         {
          "day": "Sat",
          "sex": "Male",
          "size": 2,
          "smoker": "No",
          "time": "Dinner",
          "tip": 1.47,
          "total_bill": 10.77,
          "weekend": true
         },
         {
          "day": "Sat",
          "sex": "Male",
          "size": 2,
          "smoker": "Yes",
          "time": "Dinner",
          "tip": 3,
          "total_bill": 15.53,
          "weekend": true
         },
         {
          "day": "Sat",
          "sex": "Male",
          "size": 2,
          "smoker": "No",
          "time": "Dinner",
          "tip": 1.25,
          "total_bill": 10.07,
          "weekend": true
         },
         {
          "day": "Sat",
          "sex": "Male",
          "size": 2,
          "smoker": "Yes",
          "time": "Dinner",
          "tip": 1,
          "total_bill": 12.6,
          "weekend": true
         },
         {
          "day": "Sat",
          "sex": "Male",
          "size": 2,
          "smoker": "Yes",
          "time": "Dinner",
          "tip": 1.17,
          "total_bill": 32.83,
          "weekend": true
         },
         {
          "day": "Sat",
          "sex": "Female",
          "size": 3,
          "smoker": "No",
          "time": "Dinner",
          "tip": 4.67,
          "total_bill": 35.83,
          "weekend": true
         },
         {
          "day": "Sat",
          "sex": "Male",
          "size": 3,
          "smoker": "No",
          "time": "Dinner",
          "tip": 5.92,
          "total_bill": 29.03,
          "weekend": true
         },
         {
          "day": "Sat",
          "sex": "Female",
          "size": 2,
          "smoker": "Yes",
          "time": "Dinner",
          "tip": 2,
          "total_bill": 27.18,
          "weekend": true
         },
         {
          "day": "Sat",
          "sex": "Male",
          "size": 2,
          "smoker": "Yes",
          "time": "Dinner",
          "tip": 2,
          "total_bill": 22.67,
          "weekend": true
         },
         {
          "day": "Sat",
          "sex": "Male",
          "size": 2,
          "smoker": "No",
          "time": "Dinner",
          "tip": 1.75,
          "total_bill": 17.82,
          "weekend": true
         },
         {
          "day": "Thur",
          "sex": "Female",
          "size": 2,
          "smoker": "No",
          "time": "Dinner",
          "tip": 3,
          "total_bill": 18.78,
          "weekend": false
         }
        ]
       },
       "layer": [
        {
         "encoding": {
          "color": {
           "field": "size",
           "legend": null,
           "type": "nominal"
          },
          "x": {
           "field": "size",
           "type": "nominal"
          },
          "y": {
           "aggregate": "mean",
           "axis": {
            "title": "total_bill"
           },
           "field": "total_bill",
           "type": "quantitative"
          }
         },
         "mark": "bar"
        },
        {
         "encoding": {
          "x": {
           "field": "size",
           "type": "nominal"
          },
          "y": {
           "aggregate": "ci0",
           "field": "total_bill",
           "type": "quantitative"
          },
          "y2": {
           "aggregate": "ci1",
           "field": "total_bill",
           "type": "quantitative"
          }
         },
         "mark": "rule"
        }
       ]
      },
      "image/png": "[encoded data removed]",
      "text/plain": [
       "<VegaLite 2 object>\n",
       "\n",
       "If you see this message, it means the renderer has not been properly enabled\n",
       "for the frontend that you are using. For more information, see\n",
       "https://altair-viz.github.io/user_guide/troubleshooting.html\n"
      ]
     },
     "metadata": {},
     "output_type": "display_data"
    },
    {
     "data": {
      "image/png": "[encoded data removed]",
      "text/plain": [
       "<Figure size 432x288 with 1 Axes>"
      ]
     },
     "metadata": {},
     "output_type": "display_data"
    }
   ],
   "source": [
    "display(salt.barplot(\"size\", y=\"total_bill\", data=tips, color=\"salmon\", saturation=.5))\n",
    "ax = sns.barplot(\"size\", y=\"total_bill\", data=tips, color=\"salmon\", saturation=.5)"
   ]
  },
  {
   "cell_type": "code",
   "execution_count": 17,
   "metadata": {},
   "outputs": [
    {
     "data": {
      "application/vnd.vegalite.v2+json": {
       "$schema": "https://vega.github.io/schema/vega-lite/v2.4.1.json",
       "config": {
        "range": {
         "category": [
          "rgba(49.62499999999999,115.62499999999996,161.37500000000003,1)",
          "rgba(224.87499999999997,128.875,44.12500000000004,1)",
          "rgba(58.49999999999999,145.50000000000003,58.49999999999999,1)",
          "rgba(192.125,60.87500000000001,61.62499999999999,1)",
          "rgba(147.49999999999994,113.74999999999999,178.25,1)",
          "rgba(131.875,91.37500000000001,83.12500000000001,1)",
          "rgba(213.50000000000003,132.49999999999997,188.74999999999994,1)",
          "rgba(127.0,127.0,127.0,1)",
          "rgba(168.87500000000003,169.625,53.37500000000001,1)",
          "rgba(45.99999999999998,171.25,184.00000000000003,1)"
         ]
        },
        "view": {
         "height": 300,
         "width": 400
        }
       },
       "data": {
        "values": [
         {
          "day": "Sun",
          "sex": "Female",
          "size": 2,
          "smoker": "No",
          "time": "Dinner",
          "tip": 1.01,
          "total_bill": 16.99,
          "weekend": true
         },
         {
          "day": "Sun",
          "sex": "Male",
          "size": 3,
          "smoker": "No",
          "time": "Dinner",
          "tip": 1.66,
          "total_bill": 10.34,
          "weekend": true
         },
         {
          "day": "Sun",
          "sex": "Male",
          "size": 3,
          "smoker": "No",
          "time": "Dinner",
          "tip": 3.5,
          "total_bill": 21.01,
          "weekend": true
         },
         {
          "day": "Sun",
          "sex": "Male",
          "size": 2,
          "smoker": "No",
          "time": "Dinner",
          "tip": 3.31,
          "total_bill": 23.68,
          "weekend": true
         },
         {
          "day": "Sun",
          "sex": "Female",
          "size": 4,
          "smoker": "No",
          "time": "Dinner",
          "tip": 3.61,
          "total_bill": 24.59,
          "weekend": true
         },
         {
          "day": "Sun",
          "sex": "Male",
          "size": 4,
          "smoker": "No",
          "time": "Dinner",
          "tip": 4.71,
          "total_bill": 25.29,
          "weekend": true
         },
         {
          "day": "Sun",
          "sex": "Male",
          "size": 2,
          "smoker": "No",
          "time": "Dinner",
          "tip": 2,
          "total_bill": 8.77,
          "weekend": true
         },
         {
          "day": "Sun",
          "sex": "Male",
          "size": 4,
          "smoker": "No",
          "time": "Dinner",
          "tip": 3.12,
          "total_bill": 26.88,
          "weekend": true
         },
         {
          "day": "Sun",
          "sex": "Male",
          "size": 2,
          "smoker": "No",
          "time": "Dinner",
          "tip": 1.96,
          "total_bill": 15.04,
          "weekend": true
         },
         {
          "day": "Sun",
          "sex": "Male",
          "size": 2,
          "smoker": "No",
          "time": "Dinner",
          "tip": 3.23,
          "total_bill": 14.78,
          "weekend": true
         },
         {
          "day": "Sun",
          "sex": "Male",
          "size": 2,
          "smoker": "No",
          "time": "Dinner",
          "tip": 1.71,
          "total_bill": 10.27,
          "weekend": true
         },
         {
          "day": "Sun",
          "sex": "Female",
          "size": 4,
          "smoker": "No",
          "time": "Dinner",
          "tip": 5,
          "total_bill": 35.26,
          "weekend": true
         },
         {
          "day": "Sun",
          "sex": "Male",
          "size": 2,
          "smoker": "No",
          "time": "Dinner",
          "tip": 1.57,
          "total_bill": 15.42,
          "weekend": true
         },
         {
          "day": "Sun",
          "sex": "Male",
          "size": 4,
          "smoker": "No",
          "time": "Dinner",
          "tip": 3,
          "total_bill": 18.43,
          "weekend": true
         },
         {
          "day": "Sun",
          "sex": "Female",
          "size": 2,
          "smoker": "No",
          "time": "Dinner",
          "tip": 3.02,
          "total_bill": 14.83,
          "weekend": true
         },
         {
          "day": "Sun",
          "sex": "Male",
          "size": 2,
          "smoker": "No",
          "time": "Dinner",
          "tip": 3.92,
          "total_bill": 21.58,
          "weekend": true
         },
         {
          "day": "Sun",
          "sex": "Female",
          "size": 3,
          "smoker": "No",
          "time": "Dinner",
          "tip": 1.67,
          "total_bill": 10.33,
          "weekend": true
         },
         {
          "day": "Sun",
          "sex": "Male",
          "size": 3,
          "smoker": "No",
          "time": "Dinner",
          "tip": 3.71,
          "total_bill": 16.29,
          "weekend": true
         },
         {
          "day": "Sun",
          "sex": "Female",
          "size": 3,
          "smoker": "No",
          "time": "Dinner",
          "tip": 3.5,
          "total_bill": 16.97,
          "weekend": true
         },
         {
          "day": "Sat",
          "sex": "Male",
          "size": 3,
          "smoker": "No",
          "time": "Dinner",
          "tip": 3.35,
          "total_bill": 20.65,
          "weekend": true
         },
         {
          "day": "Sat",
          "sex": "Male",
          "size": 2,
          "smoker": "No",
          "time": "Dinner",
          "tip": 4.08,
          "total_bill": 17.92,
          "weekend": true
         },
         {
          "day": "Sat",
          "sex": "Female",
          "size": 2,
          "smoker": "No",
          "time": "Dinner",
          "tip": 2.75,
          "total_bill": 20.29,
          "weekend": true
         },
         {
          "day": "Sat",
          "sex": "Female",
          "size": 2,
          "smoker": "No",
          "time": "Dinner",
          "tip": 2.23,
          "total_bill": 15.77,
          "weekend": true
         },
         {
          "day": "Sat",
          "sex": "Male",
          "size": 4,
          "smoker": "No",
          "time": "Dinner",
          "tip": 7.58,
          "total_bill": 39.42,
          "weekend": true
         },
         {
          "day": "Sat",
          "sex": "Male",
          "size": 2,
          "smoker": "No",
          "time": "Dinner",
          "tip": 3.18,
          "total_bill": 19.82,
          "weekend": true
         },
         {
          "day": "Sat",
          "sex": "Male",
          "size": 4,
          "smoker": "No",
          "time": "Dinner",
          "tip": 2.34,
          "total_bill": 17.81,
          "weekend": true
         },
         {
          "day": "Sat",
          "sex": "Male",
          "size": 2,
          "smoker": "No",
          "time": "Dinner",
          "tip": 2,
          "total_bill": 13.37,
          "weekend": true
         },
         {
          "day": "Sat",
          "sex": "Male",
          "size": 2,
          "smoker": "No",
          "time": "Dinner",
          "tip": 2,
          "total_bill": 12.69,
          "weekend": true
         },
         {
          "day": "Sat",
          "sex": "Male",
          "size": 2,
          "smoker": "No",
          "time": "Dinner",
          "tip": 4.3,
          "total_bill": 21.7,
          "weekend": true
         },
         {
          "day": "Sat",
          "sex": "Female",
          "size": 2,
          "smoker": "No",
          "time": "Dinner",
          "tip": 3,
          "total_bill": 19.65,
          "weekend": true
         },
         {
          "day": "Sat",
          "sex": "Male",
          "size": 2,
          "smoker": "No",
          "time": "Dinner",
          "tip": 1.45,
          "total_bill": 9.55,
          "weekend": true
         },
         {
          "day": "Sat",
          "sex": "Male",
          "size": 4,
          "smoker": "No",
          "time": "Dinner",
          "tip": 2.5,
          "total_bill": 18.35,
          "weekend": true
         },
         {
          "day": "Sat",
          "sex": "Female",
          "size": 2,
          "smoker": "No",
          "time": "Dinner",
          "tip": 3,
          "total_bill": 15.06,
          "weekend": true
         },
         {
          "day": "Sat",
          "sex": "Female",
          "size": 4,
          "smoker": "No",
          "time": "Dinner",
          "tip": 2.45,
          "total_bill": 20.69,
          "weekend": true
         },
         {
          "day": "Sat",
          "sex": "Male",
          "size": 2,
          "smoker": "No",
          "time": "Dinner",
          "tip": 3.27,
          "total_bill": 17.78,
          "weekend": true
         },
         {
          "day": "Sat",
          "sex": "Male",
          "size": 3,
          "smoker": "No",
          "time": "Dinner",
          "tip": 3.6,
          "total_bill": 24.06,
          "weekend": true
         },
         {
          "day": "Sat",
          "sex": "Male",
          "size": 3,
          "smoker": "No",
          "time": "Dinner",
          "tip": 2,
          "total_bill": 16.31,
          "weekend": true
         },
         {
          "day": "Sat",
          "sex": "Female",
          "size": 3,
          "smoker": "No",
          "time": "Dinner",
          "tip": 3.07,
          "total_bill": 16.93,
          "weekend": true
         },
         {
          "day": "Sat",
          "sex": "Male",
          "size": 3,
          "smoker": "No",
          "time": "Dinner",
          "tip": 2.31,
          "total_bill": 18.69,
          "weekend": true
         },
         {
          "day": "Sat",
          "sex": "Male",
          "size": 3,
          "smoker": "No",
          "time": "Dinner",
          "tip": 5,
          "total_bill": 31.27,
          "weekend": true
         },
         {
          "day": "Sat",
          "sex": "Male",
          "size": 3,
          "smoker": "No",
          "time": "Dinner",
          "tip": 2.24,
          "total_bill": 16.04,
          "weekend": true
         },
         {
          "day": "Sun",
          "sex": "Male",
          "size": 2,
          "smoker": "No",
          "time": "Dinner",
          "tip": 2.54,
          "total_bill": 17.46,
          "weekend": true
         },
         {
          "day": "Sun",
          "sex": "Male",
          "size": 2,
          "smoker": "No",
          "time": "Dinner",
          "tip": 3.06,
          "total_bill": 13.94,
          "weekend": true
         },
         {
          "day": "Sun",
          "sex": "Male",
          "size": 2,
          "smoker": "No",
          "time": "Dinner",
          "tip": 1.32,
          "total_bill": 9.68,
          "weekend": true
         },
         {
          "day": "Sun",
          "sex": "Male",
          "size": 4,
          "smoker": "No",
          "time": "Dinner",
          "tip": 5.6,
          "total_bill": 30.4,
          "weekend": true
         },
         {
          "day": "Sun",
          "sex": "Male",
          "size": 2,
          "smoker": "No",
          "time": "Dinner",
          "tip": 3,
          "total_bill": 18.29,
          "weekend": true
         },
         {
          "day": "Sun",
          "sex": "Male",
          "size": 2,
          "smoker": "No",
          "time": "Dinner",
          "tip": 5,
          "total_bill": 22.23,
          "weekend": true
         },
         {
          "day": "Sun",
          "sex": "Male",
          "size": 4,
          "smoker": "No",
          "time": "Dinner",
          "tip": 6,
          "total_bill": 32.4,
          "weekend": true
         },
         {
          "day": "Sun",
          "sex": "Male",
          "size": 3,
          "smoker": "No",
          "time": "Dinner",
          "tip": 2.05,
          "total_bill": 28.55,
          "weekend": true
         },
         {
          "day": "Sun",
          "sex": "Male",
          "size": 2,
          "smoker": "No",
          "time": "Dinner",
          "tip": 3,
          "total_bill": 18.04,
          "weekend": true
         },
         {
          "day": "Sun",
          "sex": "Male",
          "size": 2,
          "smoker": "No",
          "time": "Dinner",
          "tip": 2.5,
          "total_bill": 12.54,
          "weekend": true
         },
         {
          "day": "Sun",
          "sex": "Female",
          "size": 2,
          "smoker": "No",
          "time": "Dinner",
          "tip": 2.6,
          "total_bill": 10.29,
          "weekend": true
         },
         {
          "day": "Sun",
          "sex": "Female",
          "size": 4,
          "smoker": "No",
          "time": "Dinner",
          "tip": 5.2,
          "total_bill": 34.81,
          "weekend": true
         },
         {
          "day": "Sun",
          "sex": "Male",
          "size": 2,
          "smoker": "No",
          "time": "Dinner",
          "tip": 1.56,
          "total_bill": 9.94,
          "weekend": true
         },
         {
          "day": "Sun",
          "sex": "Male",
          "size": 4,
          "smoker": "No",
          "time": "Dinner",
          "tip": 4.34,
          "total_bill": 25.56,
          "weekend": true
         },
         {
          "day": "Sun",
          "sex": "Male",
          "size": 2,
          "smoker": "No",
          "time": "Dinner",
          "tip": 3.51,
          "total_bill": 19.49,
          "weekend": true
         },
         {
          "day": "Sat",
          "sex": "Male",
          "size": 4,
          "smoker": "Yes",
          "time": "Dinner",
          "tip": 3,
          "total_bill": 38.01,
          "weekend": true
         },
         {
          "day": "Sat",
          "sex": "Female",
          "size": 2,
          "smoker": "No",
          "time": "Dinner",
          "tip": 1.5,
          "total_bill": 26.41,
          "weekend": true
         },
         {
          "day": "Sat",
          "sex": "Male",
          "size": 2,
          "smoker": "Yes",
          "time": "Dinner",
          "tip": 1.76,
          "total_bill": 11.24,
          "weekend": true
         },
         {
          "day": "Sat",
          "sex": "Male",
          "size": 4,
          "smoker": "No",
          "time": "Dinner",
          "tip": 6.73,
          "total_bill": 48.27,
          "weekend": true
         },
         {
          "day": "Sat",
          "sex": "Male",
          "size": 2,
          "smoker": "Yes",
          "time": "Dinner",
          "tip": 3.21,
          "total_bill": 20.29,
          "weekend": true
         },
         {
          "day": "Sat",
          "sex": "Male",
          "size": 2,
          "smoker": "Yes",
          "time": "Dinner",
          "tip": 2,
          "total_bill": 13.81,
          "weekend": true
         },
         {
          "day": "Sat",
          "sex": "Male",
          "size": 2,
          "smoker": "Yes",
          "time": "Dinner",
          "tip": 1.98,
          "total_bill": 11.02,
          "weekend": true
         },
         {
          "day": "Sat",
          "sex": "Male",
          "size": 4,
          "smoker": "Yes",
          "time": "Dinner",
          "tip": 3.76,
          "total_bill": 18.29,
          "weekend": true
         },
         {
          "day": "Sat",
          "sex": "Male",
          "size": 3,
          "smoker": "No",
          "time": "Dinner",
          "tip": 2.64,
          "total_bill": 17.59,
          "weekend": true
         },
         {
          "day": "Sat",
          "sex": "Male",
          "size": 3,
          "smoker": "No",
          "time": "Dinner",
          "tip": 3.15,
          "total_bill": 20.08,
          "weekend": true
         },
         {
          "day": "Sat",
          "sex": "Female",
          "size": 2,
          "smoker": "No",
          "time": "Dinner",
          "tip": 2.47,
          "total_bill": 16.45,
          "weekend": true
         },
         {
          "day": "Sat",
          "sex": "Female",
          "size": 1,
          "smoker": "Yes",
          "time": "Dinner",
          "tip": 1,
          "total_bill": 3.07,
          "weekend": true
         },
         {
          "day": "Sat",
          "sex": "Male",
          "size": 2,
          "smoker": "No",
          "time": "Dinner",
          "tip": 2.01,
          "total_bill": 20.23,
          "weekend": true
         },
         {
          "day": "Sat",
          "sex": "Male",
          "size": 2,
          "smoker": "Yes",
          "time": "Dinner",
          "tip": 2.09,
          "total_bill": 15.01,
          "weekend": true
         },
         {
          "day": "Sat",
          "sex": "Male",
          "size": 2,
          "smoker": "No",
          "time": "Dinner",
          "tip": 1.97,
          "total_bill": 12.02,
          "weekend": true
         },
         {
          "day": "Sat",
          "sex": "Female",
          "size": 3,
          "smoker": "No",
          "time": "Dinner",
          "tip": 3,
          "total_bill": 17.07,
          "weekend": true
         },
         {
          "day": "Sat",
          "sex": "Female",
          "size": 2,
          "smoker": "Yes",
          "time": "Dinner",
          "tip": 3.14,
          "total_bill": 26.86,
          "weekend": true
         },
         {
          "day": "Sat",
          "sex": "Female",
          "size": 2,
          "smoker": "Yes",
          "time": "Dinner",
          "tip": 5,
          "total_bill": 25.28,
          "weekend": true
         },
         {
          "day": "Sat",
          "sex": "Female",
          "size": 2,
          "smoker": "No",
          "time": "Dinner",
          "tip": 2.2,
          "total_bill": 14.73,
          "weekend": true
         },
         {
          "day": "Sat",
          "sex": "Male",
          "size": 2,
          "smoker": "No",
          "time": "Dinner",
          "tip": 1.25,
          "total_bill": 10.51,
          "weekend": true
         },
         {
          "day": "Sat",
          "sex": "Male",
          "size": 2,
          "smoker": "Yes",
          "time": "Dinner",
          "tip": 3.08,
          "total_bill": 17.92,
          "weekend": true
         },
         {
          "day": "Thur",
          "sex": "Male",
          "size": 4,
          "smoker": "No",
          "time": "Lunch",
          "tip": 4,
          "total_bill": 27.2,
          "weekend": false
         },
         {
          "day": "Thur",
          "sex": "Male",
          "size": 2,
          "smoker": "No",
          "time": "Lunch",
          "tip": 3,
          "total_bill": 22.76,
          "weekend": false
         },
         {
          "day": "Thur",
          "sex": "Male",
          "size": 2,
          "smoker": "No",
          "time": "Lunch",
          "tip": 2.71,
          "total_bill": 17.29,
          "weekend": false
         },
         {
          "day": "Thur",
          "sex": "Male",
          "size": 2,
          "smoker": "Yes",
          "time": "Lunch",
          "tip": 3,
          "total_bill": 19.44,
          "weekend": false
         },
         {
          "day": "Thur",
          "sex": "Male",
          "size": 2,
          "smoker": "No",
          "time": "Lunch",
          "tip": 3.4,
          "total_bill": 16.66,
          "weekend": false
         },
         {
          "day": "Thur",
          "sex": "Female",
          "size": 1,
          "smoker": "No",
          "time": "Lunch",
          "tip": 1.83,
          "total_bill": 10.07,
          "weekend": false
         },
         {
          "day": "Thur",
          "sex": "Male",
          "size": 2,
          "smoker": "Yes",
          "time": "Lunch",
          "tip": 5,
          "total_bill": 32.68,
          "weekend": false
         },
         {
          "day": "Thur",
          "sex": "Male",
          "size": 2,
          "smoker": "No",
          "time": "Lunch",
          "tip": 2.03,
          "total_bill": 15.98,
          "weekend": false
         },
         {
          "day": "Thur",
          "sex": "Female",
          "size": 4,
          "smoker": "No",
          "time": "Lunch",
          "tip": 5.17,
          "total_bill": 34.83,
          "weekend": false
         },
         {
          "day": "Thur",
          "sex": "Male",
          "size": 2,
          "smoker": "No",
          "time": "Lunch",
          "tip": 2,
          "total_bill": 13.03,
          "weekend": false
         },
         {
          "day": "Thur",
          "sex": "Male",
          "size": 2,
          "smoker": "No",
          "time": "Lunch",
          "tip": 4,
          "total_bill": 18.28,
          "weekend": false
         },
         {
          "day": "Thur",
          "sex": "Male",
          "size": 2,
          "smoker": "No",
          "time": "Lunch",
          "tip": 5.85,
          "total_bill": 24.71,
          "weekend": false
         },
         {
          "day": "Thur",
          "sex": "Male",
          "size": 2,
          "smoker": "No",
          "time": "Lunch",
          "tip": 3,
          "total_bill": 21.16,
          "weekend": false
         },
         {
          "day": "Fri",
          "sex": "Male",
          "size": 2,
          "smoker": "Yes",
          "time": "Dinner",
          "tip": 3,
          "total_bill": 28.97,
          "weekend": false
         },
         {
          "day": "Fri",
          "sex": "Male",
          "size": 2,
          "smoker": "No",
          "time": "Dinner",
          "tip": 3.5,
          "total_bill": 22.49,
          "weekend": false
         },
         {
          "day": "Fri",
          "sex": "Female",
          "size": 2,
          "smoker": "Yes",
          "time": "Dinner",
          "tip": 1,
          "total_bill": 5.75,
          "weekend": false
         },
         {
          "day": "Fri",
          "sex": "Female",
          "size": 2,
          "smoker": "Yes",
          "time": "Dinner",
          "tip": 4.3,
          "total_bill": 16.32,
          "weekend": false
         },
         {
          "day": "Fri",
          "sex": "Female",
          "size": 2,
          "smoker": "No",
          "time": "Dinner",
          "tip": 3.25,
          "total_bill": 22.75,
          "weekend": false
         },
         {
          "day": "Fri",
          "sex": "Male",
          "size": 4,
          "smoker": "Yes",
          "time": "Dinner",
          "tip": 4.73,
          "total_bill": 40.17,
          "weekend": false
         },
         {
          "day": "Fri",
          "sex": "Male",
          "size": 2,
          "smoker": "Yes",
          "time": "Dinner",
          "tip": 4,
          "total_bill": 27.28,
          "weekend": false
         },
         {
          "day": "Fri",
          "sex": "Male",
          "size": 2,
          "smoker": "Yes",
          "time": "Dinner",
          "tip": 1.5,
          "total_bill": 12.03,
          "weekend": false
         },
         {
          "day": "Fri",
          "sex": "Male",
          "size": 2,
          "smoker": "Yes",
          "time": "Dinner",
          "tip": 3,
          "total_bill": 21.01,
          "weekend": false
         },
         {
          "day": "Fri",
          "sex": "Male",
          "size": 2,
          "smoker": "No",
          "time": "Dinner",
          "tip": 1.5,
          "total_bill": 12.46,
          "weekend": false
         },
         {
          "day": "Fri",
          "sex": "Female",
          "size": 2,
          "smoker": "Yes",
          "time": "Dinner",
          "tip": 2.5,
          "total_bill": 11.35,
          "weekend": false
         },
         {
          "day": "Fri",
          "sex": "Female",
          "size": 2,
          "smoker": "Yes",
          "time": "Dinner",
          "tip": 3,
          "total_bill": 15.38,
          "weekend": false
         },
         {
          "day": "Sat",
          "sex": "Female",
          "size": 3,
          "smoker": "Yes",
          "time": "Dinner",
          "tip": 2.5,
          "total_bill": 44.3,
          "weekend": true
         },
         {
          "day": "Sat",
          "sex": "Female",
          "size": 2,
          "smoker": "Yes",
          "time": "Dinner",
          "tip": 3.48,
          "total_bill": 22.42,
          "weekend": true
         },
         {
          "day": "Sat",
          "sex": "Female",
          "size": 2,
          "smoker": "No",
          "time": "Dinner",
          "tip": 4.08,
          "total_bill": 20.92,
          "weekend": true
         },
         {
          "day": "Sat",
          "sex": "Male",
          "size": 2,
          "smoker": "Yes",
          "time": "Dinner",
          "tip": 1.64,
          "total_bill": 15.36,
          "weekend": true
         },
         {
          "day": "Sat",
          "sex": "Male",
          "size": 2,
          "smoker": "Yes",
          "time": "Dinner",
          "tip": 4.06,
          "total_bill": 20.49,
          "weekend": true
         },
         {
          "day": "Sat",
          "sex": "Male",
          "size": 2,
          "smoker": "Yes",
          "time": "Dinner",
          "tip": 4.29,
          "total_bill": 25.21,
          "weekend": true
         },
         {
          "day": "Sat",
          "sex": "Male",
          "size": 2,
          "smoker": "No",
          "time": "Dinner",
          "tip": 3.76,
          "total_bill": 18.24,
          "weekend": true
         },
         {
          "day": "Sat",
          "sex": "Female",
          "size": 2,
          "smoker": "Yes",
          "time": "Dinner",
          "tip": 4,
          "total_bill": 14.31,
          "weekend": true
         },
         {
          "day": "Sat",
          "sex": "Male",
          "size": 2,
          "smoker": "No",
          "time": "Dinner",
          "tip": 3,
          "total_bill": 14,
          "weekend": true
         },
         {
          "day": "Sat",
          "sex": "Female",
          "size": 1,
          "smoker": "No",
          "time": "Dinner",
          "tip": 1,
          "total_bill": 7.25,
          "weekend": true
         },
         {
          "day": "Sun",
          "sex": "Male",
          "size": 3,
          "smoker": "No",
          "time": "Dinner",
          "tip": 4,
          "total_bill": 38.07,
          "weekend": true
         },
         {
          "day": "Sun",
          "sex": "Male",
          "size": 2,
          "smoker": "No",
          "time": "Dinner",
          "tip": 2.55,
          "total_bill": 23.95,
          "weekend": true
         },
         {
          "day": "Sun",
          "sex": "Female",
          "size": 3,
          "smoker": "No",
          "time": "Dinner",
          "tip": 4,
          "total_bill": 25.71,
          "weekend": true
         },
         {
          "day": "Sun",
          "sex": "Female",
          "size": 2,
          "smoker": "No",
          "time": "Dinner",
          "tip": 3.5,
          "total_bill": 17.31,
          "weekend": true
         },
         {
          "day": "Sun",
          "sex": "Male",
          "size": 4,
          "smoker": "No",
          "time": "Dinner",
          "tip": 5.07,
          "total_bill": 29.93,
          "weekend": true
         },
         {
          "day": "Thur",
          "sex": "Female",
          "size": 2,
          "smoker": "No",
          "time": "Lunch",
          "tip": 1.5,
          "total_bill": 10.65,
          "weekend": false
         },
         {
          "day": "Thur",
          "sex": "Female",
          "size": 2,
          "smoker": "No",
          "time": "Lunch",
          "tip": 1.8,
          "total_bill": 12.43,
          "weekend": false
         },
         {
          "day": "Thur",
          "sex": "Female",
          "size": 4,
          "smoker": "No",
          "time": "Lunch",
          "tip": 2.92,
          "total_bill": 24.08,
          "weekend": false
         },
         {
          "day": "Thur",
          "sex": "Male",
          "size": 2,
          "smoker": "No",
          "time": "Lunch",
          "tip": 2.31,
          "total_bill": 11.69,
          "weekend": false
         },
         {
          "day": "Thur",
          "sex": "Female",
          "size": 2,
          "smoker": "No",
          "time": "Lunch",
          "tip": 1.68,
          "total_bill": 13.42,
          "weekend": false
         },
         {
          "day": "Thur",
          "sex": "Male",
          "size": 2,
          "smoker": "No",
          "time": "Lunch",
          "tip": 2.5,
          "total_bill": 14.26,
          "weekend": false
         },
         {
          "day": "Thur",
          "sex": "Male",
          "size": 2,
          "smoker": "No",
          "time": "Lunch",
          "tip": 2,
          "total_bill": 15.95,
          "weekend": false
         },
         {
          "day": "Thur",
          "sex": "Female",
          "size": 2,
          "smoker": "No",
          "time": "Lunch",
          "tip": 2.52,
          "total_bill": 12.48,
          "weekend": false
         },
         {
          "day": "Thur",
          "sex": "Female",
          "size": 6,
          "smoker": "No",
          "time": "Lunch",
          "tip": 4.2,
          "total_bill": 29.8,
          "weekend": false
         },
         {
          "day": "Thur",
          "sex": "Male",
          "size": 2,
          "smoker": "No",
          "time": "Lunch",
          "tip": 1.48,
          "total_bill": 8.52,
          "weekend": false
         },
         {
          "day": "Thur",
          "sex": "Female",
          "size": 2,
          "smoker": "No",
          "time": "Lunch",
          "tip": 2,
          "total_bill": 14.52,
          "weekend": false
         },
         {
          "day": "Thur",
          "sex": "Female",
          "size": 2,
          "smoker": "No",
          "time": "Lunch",
          "tip": 2,
          "total_bill": 11.38,
          "weekend": false
         },
         {
          "day": "Thur",
          "sex": "Male",
          "size": 3,
          "smoker": "No",
          "time": "Lunch",
          "tip": 2.18,
          "total_bill": 22.82,
          "weekend": false
         },
         {
          "day": "Thur",
          "sex": "Male",
          "size": 2,
          "smoker": "No",
          "time": "Lunch",
          "tip": 1.5,
          "total_bill": 19.08,
          "weekend": false
         },
         {
          "day": "Thur",
          "sex": "Female",
          "size": 2,
          "smoker": "No",
          "time": "Lunch",
          "tip": 2.83,
          "total_bill": 20.27,
          "weekend": false
         },
         {
          "day": "Thur",
          "sex": "Female",
          "size": 2,
          "smoker": "No",
          "time": "Lunch",
          "tip": 1.5,
          "total_bill": 11.17,
          "weekend": false
         },
         {
          "day": "Thur",
          "sex": "Female",
          "size": 2,
          "smoker": "No",
          "time": "Lunch",
          "tip": 2,
          "total_bill": 12.26,
          "weekend": false
         },
         {
          "day": "Thur",
          "sex": "Female",
          "size": 2,
          "smoker": "No",
          "time": "Lunch",
          "tip": 3.25,
          "total_bill": 18.26,
          "weekend": false
         },
         {
          "day": "Thur",
          "sex": "Female",
          "size": 2,
          "smoker": "No",
          "time": "Lunch",
          "tip": 1.25,
          "total_bill": 8.51,
          "weekend": false
         },
         {
          "day": "Thur",
          "sex": "Female",
          "size": 2,
          "smoker": "No",
          "time": "Lunch",
          "tip": 2,
          "total_bill": 10.33,
          "weekend": false
         },
         {
          "day": "Thur",
          "sex": "Female",
          "size": 2,
          "smoker": "No",
          "time": "Lunch",
          "tip": 2,
          "total_bill": 14.15,
          "weekend": false
         },
         {
          "day": "Thur",
          "sex": "Male",
          "size": 2,
          "smoker": "Yes",
          "time": "Lunch",
          "tip": 2,
          "total_bill": 16,
          "weekend": false
         },
         {
          "day": "Thur",
          "sex": "Female",
          "size": 2,
          "smoker": "No",
          "time": "Lunch",
          "tip": 2.75,
          "total_bill": 13.16,
          "weekend": false
         },
         {
          "day": "Thur",
          "sex": "Female",
          "size": 2,
          "smoker": "No",
          "time": "Lunch",
          "tip": 3.5,
          "total_bill": 17.47,
          "weekend": false
         },
         {
          "day": "Thur",
          "sex": "Male",
          "size": 6,
          "smoker": "No",
          "time": "Lunch",
          "tip": 6.7,
          "total_bill": 34.3,
          "weekend": false
         },
         {
          "day": "Thur",
          "sex": "Male",
          "size": 5,
          "smoker": "No",
          "time": "Lunch",
          "tip": 5,
          "total_bill": 41.19,
          "weekend": false
         },
         {
          "day": "Thur",
          "sex": "Female",
          "size": 6,
          "smoker": "No",
          "time": "Lunch",
          "tip": 5,
          "total_bill": 27.05,
          "weekend": false
         },
         {
          "day": "Thur",
          "sex": "Female",
          "size": 2,
          "smoker": "No",
          "time": "Lunch",
          "tip": 2.3,
          "total_bill": 16.43,
          "weekend": false
         },
         {
          "day": "Thur",
          "sex": "Female",
          "size": 2,
          "smoker": "No",
          "time": "Lunch",
          "tip": 1.5,
          "total_bill": 8.35,
          "weekend": false
         },
         {
          "day": "Thur",
          "sex": "Female",
          "size": 3,
          "smoker": "No",
          "time": "Lunch",
          "tip": 1.36,
          "total_bill": 18.64,
          "weekend": false
         },
         {
          "day": "Thur",
          "sex": "Female",
          "size": 2,
          "smoker": "No",
          "time": "Lunch",
          "tip": 1.63,
          "total_bill": 11.87,
          "weekend": false
         },
         {
          "day": "Thur",
          "sex": "Male",
          "size": 2,
          "smoker": "No",
          "time": "Lunch",
          "tip": 1.73,
          "total_bill": 9.78,
          "weekend": false
         },
         {
          "day": "Thur",
          "sex": "Male",
          "size": 2,
          "smoker": "No",
          "time": "Lunch",
          "tip": 2,
          "total_bill": 7.51,
          "weekend": false
         },
         {
          "day": "Sun",
          "sex": "Male",
          "size": 2,
          "smoker": "No",
          "time": "Dinner",
          "tip": 2.5,
          "total_bill": 14.07,
          "weekend": true
         },
         {
          "day": "Sun",
          "sex": "Male",
          "size": 2,
          "smoker": "No",
          "time": "Dinner",
          "tip": 2,
          "total_bill": 13.13,
          "weekend": true
         },
         {
          "day": "Sun",
          "sex": "Male",
          "size": 3,
          "smoker": "No",
          "time": "Dinner",
          "tip": 2.74,
          "total_bill": 17.26,
          "weekend": true
         },
         {
          "day": "Sun",
          "sex": "Male",
          "size": 4,
          "smoker": "No",
          "time": "Dinner",
          "tip": 2,
          "total_bill": 24.55,
          "weekend": true
         },
         {
          "day": "Sun",
          "sex": "Male",
          "size": 4,
          "smoker": "No",
          "time": "Dinner",
          "tip": 2,
          "total_bill": 19.77,
          "weekend": true
         },
         {
          "day": "Sun",
          "sex": "Female",
          "size": 5,
          "smoker": "No",
          "time": "Dinner",
          "tip": 5.14,
          "total_bill": 29.85,
          "weekend": true
         },
         {
          "day": "Sun",
          "sex": "Male",
          "size": 6,
          "smoker": "No",
          "time": "Dinner",
          "tip": 5,
          "total_bill": 48.17,
          "weekend": true
         },
         {
          "day": "Sun",
          "sex": "Female",
          "size": 4,
          "smoker": "No",
          "time": "Dinner",
          "tip": 3.75,
          "total_bill": 25,
          "weekend": true
         },
         {
          "day": "Sun",
          "sex": "Female",
          "size": 2,
          "smoker": "No",
          "time": "Dinner",
          "tip": 2.61,
          "total_bill": 13.39,
          "weekend": true
         },
         {
          "day": "Sun",
          "sex": "Male",
          "size": 4,
          "smoker": "No",
          "time": "Dinner",
          "tip": 2,
          "total_bill": 16.49,
          "weekend": true
         },
         {
          "day": "Sun",
          "sex": "Male",
          "size": 4,
          "smoker": "No",
          "time": "Dinner",
          "tip": 3.5,
          "total_bill": 21.5,
          "weekend": true
         },
         {
          "day": "Sun",
          "sex": "Male",
          "size": 2,
          "smoker": "No",
          "time": "Dinner",
          "tip": 2.5,
          "total_bill": 12.66,
          "weekend": true
         },
         {
          "day": "Sun",
          "sex": "Female",
          "size": 3,
          "smoker": "No",
          "time": "Dinner",
          "tip": 2,
          "total_bill": 16.21,
          "weekend": true
         },
         {
          "day": "Sun",
          "sex": "Male",
          "size": 2,
          "smoker": "No",
          "time": "Dinner",
          "tip": 2,
          "total_bill": 13.81,
          "weekend": true
         },
         {
          "day": "Sun",
          "sex": "Female",
          "size": 2,
          "smoker": "Yes",
          "time": "Dinner",
          "tip": 3,
          "total_bill": 17.51,
          "weekend": true
         },
         {
          "day": "Sun",
          "sex": "Male",
          "size": 3,
          "smoker": "No",
          "time": "Dinner",
          "tip": 3.48,
          "total_bill": 24.52,
          "weekend": true
         },
         {
          "day": "Sun",
          "sex": "Male",
          "size": 2,
          "smoker": "No",
          "time": "Dinner",
          "tip": 2.24,
          "total_bill": 20.76,
          "weekend": true
         },
         {
          "day": "Sun",
          "sex": "Male",
          "size": 4,
          "smoker": "No",
          "time": "Dinner",
          "tip": 4.5,
          "total_bill": 31.71,
          "weekend": true
         },
         {
          "day": "Sat",
          "sex": "Female",
          "size": 2,
          "smoker": "Yes",
          "time": "Dinner",
          "tip": 1.61,
          "total_bill": 10.59,
          "weekend": true
         },
         {
          "day": "Sat",
          "sex": "Female",
          "size": 2,
          "smoker": "Yes",
          "time": "Dinner",
          "tip": 2,
          "total_bill": 10.63,
          "weekend": true
         },
         {
          "day": "Sat",
          "sex": "Male",
          "size": 3,
          "smoker": "Yes",
          "time": "Dinner",
          "tip": 10,
          "total_bill": 50.81,
          "weekend": true
         },
         {
          "day": "Sat",
          "sex": "Male",
          "size": 2,
          "smoker": "Yes",
          "time": "Dinner",
          "tip": 3.16,
          "total_bill": 15.81,
          "weekend": true
         },
         {
          "day": "Sun",
          "sex": "Male",
          "size": 2,
          "smoker": "Yes",
          "time": "Dinner",
          "tip": 5.15,
          "total_bill": 7.25,
          "weekend": true
         },
         {
          "day": "Sun",
          "sex": "Male",
          "size": 2,
          "smoker": "Yes",
          "time": "Dinner",
          "tip": 3.18,
          "total_bill": 31.85,
          "weekend": true
         },
         {
          "day": "Sun",
          "sex": "Male",
          "size": 2,
          "smoker": "Yes",
          "time": "Dinner",
          "tip": 4,
          "total_bill": 16.82,
          "weekend": true
         },
         {
          "day": "Sun",
          "sex": "Male",
          "size": 2,
          "smoker": "Yes",
          "time": "Dinner",
          "tip": 3.11,
          "total_bill": 32.9,
          "weekend": true
         },
         {
          "day": "Sun",
          "sex": "Male",
          "size": 2,
          "smoker": "Yes",
          "time": "Dinner",
          "tip": 2,
          "total_bill": 17.89,
          "weekend": true
         },
         {
          "day": "Sun",
          "sex": "Male",
          "size": 2,
          "smoker": "Yes",
          "time": "Dinner",
          "tip": 2,
          "total_bill": 14.48,
          "weekend": true
         },
         {
          "day": "Sun",
          "sex": "Female",
          "size": 2,
          "smoker": "Yes",
          "time": "Dinner",
          "tip": 4,
          "total_bill": 9.6,
          "weekend": true
         },
         {
          "day": "Sun",
          "sex": "Male",
          "size": 2,
          "smoker": "Yes",
          "time": "Dinner",
          "tip": 3.55,
          "total_bill": 34.63,
          "weekend": true
         },
         {
          "day": "Sun",
          "sex": "Male",
          "size": 4,
          "smoker": "Yes",
          "time": "Dinner",
          "tip": 3.68,
          "total_bill": 34.65,
          "weekend": true
         },
         {
          "day": "Sun",
          "sex": "Male",
          "size": 2,
          "smoker": "Yes",
          "time": "Dinner",
          "tip": 5.65,
          "total_bill": 23.33,
          "weekend": true
         },
         {
          "day": "Sun",
          "sex": "Male",
          "size": 3,
          "smoker": "Yes",
          "time": "Dinner",
          "tip": 3.5,
          "total_bill": 45.35,
          "weekend": true
         },
         {
          "day": "Sun",
          "sex": "Male",
          "size": 4,
          "smoker": "Yes",
          "time": "Dinner",
          "tip": 6.5,
          "total_bill": 23.17,
          "weekend": true
         },
         {
          "day": "Sun",
          "sex": "Male",
          "size": 2,
          "smoker": "Yes",
          "time": "Dinner",
          "tip": 3,
          "total_bill": 40.55,
          "weekend": true
         },
         {
          "day": "Sun",
          "sex": "Male",
          "size": 5,
          "smoker": "No",
          "time": "Dinner",
          "tip": 5,
          "total_bill": 20.69,
          "weekend": true
         },
         {
          "day": "Sun",
          "sex": "Female",
          "size": 3,
          "smoker": "Yes",
          "time": "Dinner",
          "tip": 3.5,
          "total_bill": 20.9,
          "weekend": true
         },
         {
          "day": "Sun",
          "sex": "Male",
          "size": 5,
          "smoker": "Yes",
          "time": "Dinner",
          "tip": 2,
          "total_bill": 30.46,
          "weekend": true
         },
         {
          "day": "Sun",
          "sex": "Female",
          "size": 3,
          "smoker": "Yes",
          "time": "Dinner",
          "tip": 3.5,
          "total_bill": 18.15,
          "weekend": true
         },
         {
          "day": "Sun",
          "sex": "Male",
          "size": 3,
          "smoker": "Yes",
          "time": "Dinner",
          "tip": 4,
          "total_bill": 23.1,
          "weekend": true
         },
         {
          "day": "Sun",
          "sex": "Male",
          "size": 2,
          "smoker": "Yes",
          "time": "Dinner",
          "tip": 1.5,
          "total_bill": 15.69,
          "weekend": true
         },
         {
          "day": "Thur",
          "sex": "Female",
          "size": 2,
          "smoker": "Yes",
          "time": "Lunch",
          "tip": 4.19,
          "total_bill": 19.81,
          "weekend": false
         },
         {
          "day": "Thur",
          "sex": "Male",
          "size": 2,
          "smoker": "Yes",
          "time": "Lunch",
          "tip": 2.56,
          "total_bill": 28.44,
          "weekend": false
         },
         {
          "day": "Thur",
          "sex": "Male",
          "size": 2,
          "smoker": "Yes",
          "time": "Lunch",
          "tip": 2.02,
          "total_bill": 15.48,
          "weekend": false
         },
         {
          "day": "Thur",
          "sex": "Male",
          "size": 2,
          "smoker": "Yes",
          "time": "Lunch",
          "tip": 4,
          "total_bill": 16.58,
          "weekend": false
         },
         {
          "day": "Thur",
          "sex": "Male",
          "size": 2,
          "smoker": "No",
          "time": "Lunch",
          "tip": 1.44,
          "total_bill": 7.56,
          "weekend": false
         },
         {
          "day": "Thur",
          "sex": "Male",
          "size": 2,
          "smoker": "Yes",
          "time": "Lunch",
          "tip": 2,
          "total_bill": 10.34,
          "weekend": false
         },
         {
          "day": "Thur",
          "sex": "Female",
          "size": 4,
          "smoker": "Yes",
          "time": "Lunch",
          "tip": 5,
          "total_bill": 43.11,
          "weekend": false
         },
         {
          "day": "Thur",
          "sex": "Female",
          "size": 2,
          "smoker": "Yes",
          "time": "Lunch",
          "tip": 2,
          "total_bill": 13,
          "weekend": false
         },
         {
          "day": "Thur",
          "sex": "Male",
          "size": 2,
          "smoker": "Yes",
          "time": "Lunch",
          "tip": 2,
          "total_bill": 13.51,
          "weekend": false
         },
         {
          "day": "Thur",
          "sex": "Male",
          "size": 3,
          "smoker": "Yes",
          "time": "Lunch",
          "tip": 4,
          "total_bill": 18.71,
          "weekend": false
         },
         {
          "day": "Thur",
          "sex": "Female",
          "size": 2,
          "smoker": "Yes",
          "time": "Lunch",
          "tip": 2.01,
          "total_bill": 12.74,
          "weekend": false
         },
         {
          "day": "Thur",
          "sex": "Female",
          "size": 2,
          "smoker": "Yes",
          "time": "Lunch",
          "tip": 2,
          "total_bill": 13,
          "weekend": false
         },
         {
          "day": "Thur",
          "sex": "Female",
          "size": 2,
          "smoker": "Yes",
          "time": "Lunch",
          "tip": 2.5,
          "total_bill": 16.4,
          "weekend": false
         },
         {
          "day": "Thur",
          "sex": "Male",
          "size": 4,
          "smoker": "Yes",
          "time": "Lunch",
          "tip": 4,
          "total_bill": 20.53,
          "weekend": false
         },
         {
          "day": "Thur",
          "sex": "Female",
          "size": 3,
          "smoker": "Yes",
          "time": "Lunch",
          "tip": 3.23,
          "total_bill": 16.47,
          "weekend": false
         },
         {
          "day": "Sat",
          "sex": "Male",
          "size": 3,
          "smoker": "Yes",
          "time": "Dinner",
          "tip": 3.41,
          "total_bill": 26.59,
          "weekend": true
         },
         {
          "day": "Sat",
          "sex": "Male",
          "size": 4,
          "smoker": "Yes",
          "time": "Dinner",
          "tip": 3,
          "total_bill": 38.73,
          "weekend": true
         },
         {
          "day": "Sat",
          "sex": "Male",
          "size": 2,
          "smoker": "Yes",
          "time": "Dinner",
          "tip": 2.03,
          "total_bill": 24.27,
          "weekend": true
         },
         {
          "day": "Sat",
          "sex": "Female",
          "size": 2,
          "smoker": "Yes",
          "time": "Dinner",
          "tip": 2.23,
          "total_bill": 12.76,
          "weekend": true
         },
         {
          "day": "Sat",
          "sex": "Male",
          "size": 3,
          "smoker": "Yes",
          "time": "Dinner",
          "tip": 2,
          "total_bill": 30.06,
          "weekend": true
         },
         {
          "day": "Sat",
          "sex": "Male",
          "size": 4,
          "smoker": "Yes",
          "time": "Dinner",
          "tip": 5.16,
          "total_bill": 25.89,
          "weekend": true
         },
         {
          "day": "Sat",
          "sex": "Male",
          "size": 4,
          "smoker": "No",
          "time": "Dinner",
          "tip": 9,
          "total_bill": 48.33,
          "weekend": true
         },
         {
          "day": "Sat",
          "sex": "Female",
          "size": 2,
          "smoker": "Yes",
          "time": "Dinner",
          "tip": 2.5,
          "total_bill": 13.27,
          "weekend": true
         },
         {
          "day": "Sat",
          "sex": "Female",
          "size": 3,
          "smoker": "Yes",
          "time": "Dinner",
          "tip": 6.5,
          "total_bill": 28.17,
          "weekend": true
         },
         {
          "day": "Sat",
          "sex": "Female",
          "size": 2,
          "smoker": "Yes",
          "time": "Dinner",
          "tip": 1.1,
          "total_bill": 12.9,
          "weekend": true
         },
         {
          "day": "Sat",
          "sex": "Male",
          "size": 5,
          "smoker": "Yes",
          "time": "Dinner",
          "tip": 3,
          "total_bill": 28.15,
          "weekend": true
         },
         {
          "day": "Sat",
          "sex": "Male",
          "size": 2,
          "smoker": "Yes",
          "time": "Dinner",
          "tip": 1.5,
          "total_bill": 11.59,
          "weekend": true
         },
         {
          "day": "Sat",
          "sex": "Male",
          "size": 2,
          "smoker": "Yes",
          "time": "Dinner",
          "tip": 1.44,
          "total_bill": 7.74,
          "weekend": true
         },
         {
          "day": "Sat",
          "sex": "Female",
          "size": 4,
          "smoker": "Yes",
          "time": "Dinner",
          "tip": 3.09,
          "total_bill": 30.14,
          "weekend": true
         },
         {
          "day": "Fri",
          "sex": "Male",
          "size": 2,
          "smoker": "Yes",
          "time": "Lunch",
          "tip": 2.2,
          "total_bill": 12.16,
          "weekend": false
         },
         {
          "day": "Fri",
          "sex": "Female",
          "size": 2,
          "smoker": "Yes",
          "time": "Lunch",
          "tip": 3.48,
          "total_bill": 13.42,
          "weekend": false
         },
         {
          "day": "Fri",
          "sex": "Male",
          "size": 1,
          "smoker": "Yes",
          "time": "Lunch",
          "tip": 1.92,
          "total_bill": 8.58,
          "weekend": false
         },
         {
          "day": "Fri",
          "sex": "Female",
          "size": 3,
          "smoker": "No",
          "time": "Lunch",
          "tip": 3,
          "total_bill": 15.98,
          "weekend": false
         },
         {
          "day": "Fri",
          "sex": "Male",
          "size": 2,
          "smoker": "Yes",
          "time": "Lunch",
          "tip": 1.58,
          "total_bill": 13.42,
          "weekend": false
         },
         {
          "day": "Fri",
          "sex": "Female",
          "size": 2,
          "smoker": "Yes",
          "time": "Lunch",
          "tip": 2.5,
          "total_bill": 16.27,
          "weekend": false
         },
         {
          "day": "Fri",
          "sex": "Female",
          "size": 2,
          "smoker": "Yes",
          "time": "Lunch",
          "tip": 2,
          "total_bill": 10.09,
          "weekend": false
         },
         {
          "day": "Sat",
          "sex": "Male",
          "size": 4,
          "smoker": "No",
          "time": "Dinner",
          "tip": 3,
          "total_bill": 20.45,
          "weekend": true
         },
         {
          "day": "Sat",
          "sex": "Male",
          "size": 2,
          "smoker": "No",
          "time": "Dinner",
          "tip": 2.72,
          "total_bill": 13.28,
          "weekend": true
         },
         {
          "day": "Sat",
          "sex": "Female",
          "size": 2,
          "smoker": "Yes",
          "time": "Dinner",
          "tip": 2.88,
          "total_bill": 22.12,
          "weekend": true
         },
         {
          "day": "Sat",
          "sex": "Male",
          "size": 4,
          "smoker": "Yes",
          "time": "Dinner",
          "tip": 2,
          "total_bill": 24.01,
          "weekend": true
         },
         {
          "day": "Sat",
          "sex": "Male",
          "size": 3,
          "smoker": "Yes",
          "time": "Dinner",
          "tip": 3,
          "total_bill": 15.69,
          "weekend": true
         },
         {
          "day": "Sat",
          "sex": "Male",
          "size": 2,
          "smoker": "No",
          "time": "Dinner",
          "tip": 3.39,
          "total_bill": 11.61,
          "weekend": true
         },
         {
          "day": "Sat",
          "sex": "Male",
          "size": 2,
          "smoker": "No",
          "time": "Dinner",
          "tip": 1.47,
          "total_bill": 10.77,
          "weekend": true
         },
         {
          "day": "Sat",
          "sex": "Male",
          "size": 2,
          "smoker": "Yes",
          "time": "Dinner",
          "tip": 3,
          "total_bill": 15.53,
          "weekend": true
         },
         {
          "day": "Sat",
          "sex": "Male",
          "size": 2,
          "smoker": "No",
          "time": "Dinner",
          "tip": 1.25,
          "total_bill": 10.07,
          "weekend": true
         },
         {
          "day": "Sat",
          "sex": "Male",
          "size": 2,
          "smoker": "Yes",
          "time": "Dinner",
          "tip": 1,
          "total_bill": 12.6,
          "weekend": true
         },
         {
          "day": "Sat",
          "sex": "Male",
          "size": 2,
          "smoker": "Yes",
          "time": "Dinner",
          "tip": 1.17,
          "total_bill": 32.83,
          "weekend": true
         },
         {
          "day": "Sat",
          "sex": "Female",
          "size": 3,
          "smoker": "No",
          "time": "Dinner",
          "tip": 4.67,
          "total_bill": 35.83,
          "weekend": true
         },
         {
          "day": "Sat",
          "sex": "Male",
          "size": 3,
          "smoker": "No",
          "time": "Dinner",
          "tip": 5.92,
          "total_bill": 29.03,
          "weekend": true
         },
         {
          "day": "Sat",
          "sex": "Female",
          "size": 2,
          "smoker": "Yes",
          "time": "Dinner",
          "tip": 2,
          "total_bill": 27.18,
          "weekend": true
         },
         {
          "day": "Sat",
          "sex": "Male",
          "size": 2,
          "smoker": "Yes",
          "time": "Dinner",
          "tip": 2,
          "total_bill": 22.67,
          "weekend": true
         },
         {
          "day": "Sat",
          "sex": "Male",
          "size": 2,
          "smoker": "No",
          "time": "Dinner",
          "tip": 1.75,
          "total_bill": 17.82,
          "weekend": true
         },
         {
          "day": "Thur",
          "sex": "Female",
          "size": 2,
          "smoker": "No",
          "time": "Dinner",
          "tip": 3,
          "total_bill": 18.78,
          "weekend": false
         }
        ]
       },
       "layer": [
        {
         "encoding": {
          "color": {
           "field": "day",
           "legend": null,
           "type": "nominal"
          },
          "x": {
           "field": "day",
           "type": "nominal"
          },
          "y": {
           "aggregate": "mean",
           "axis": {
            "title": "total_bill"
           },
           "field": "total_bill",
           "type": "quantitative"
          }
         },
         "mark": "bar"
        },
        {
         "encoding": {
          "x": {
           "field": "day",
           "type": "nominal"
          },
          "y": {
           "aggregate": "ci0",
           "field": "total_bill",
           "type": "quantitative"
          },
          "y2": {
           "aggregate": "ci1",
           "field": "total_bill",
           "type": "quantitative"
          }
         },
         "mark": "rule"
        }
       ]
      },
      "image/png": "[encoded data removed]",
      "text/plain": [
       "<VegaLite 2 object>\n",
       "\n",
       "If you see this message, it means the renderer has not been properly enabled\n",
       "for the frontend that you are using. For more information, see\n",
       "https://altair-viz.github.io/user_guide/troubleshooting.html\n"
      ]
     },
     "metadata": {},
     "output_type": "display_data"
    },
    {
     "data": {
      "image/png": "[encoded data removed]",
      "text/plain": [
       "<Figure size 432x288 with 1 Axes>"
      ]
     },
     "metadata": {},
     "output_type": "display_data"
    }
   ],
   "source": [
    "display(salt.barplot(\"day\", \"total_bill\", data=tips))\n",
    "ax = sns.barplot(\"day\", \"total_bill\", data=tips, linewidth=2.5, facecolor=(1, 1, 1, 0), errcolor=\".2\", edgecolor=\".2\")"
   ]
  },
  {
   "cell_type": "code",
   "execution_count": null,
   "metadata": {},
   "outputs": [],
   "source": []
  }
 ],
 "metadata": {
  "kernelspec": {
   "display_name": "Python 3",
   "language": "python",
   "name": "python3"
  },
  "language_info": {
   "codemirror_mode": {
    "name": "ipython",
    "version": 3
   },
   "file_extension": ".py",
   "mimetype": "text/x-python",
   "name": "python",
   "nbconvert_exporter": "python",
   "pygments_lexer": "ipython3",
   "version": "3.6.4"
  }
 },
 "nbformat": 4,
 "nbformat_minor": 2
}
